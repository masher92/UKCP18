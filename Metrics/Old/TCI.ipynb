{
 "cells": [
  {
   "cell_type": "code",
   "execution_count": 2,
   "id": "867f1807",
   "metadata": {},
   "outputs": [],
   "source": [
    "import pandas as pd\n",
    "\n",
    "def calculate_tci(rainfall_intensities):\n",
    "    \"\"\"\n",
    "    Calculate Temporal Concentration Index (TCI) based on the rainfall intensities over time.\n",
    "    \n",
    "    Parameters:\n",
    "        rainfall_intensities (list or np.array): Rainfall intensities over the event duration.\n",
    "        \n",
    "    Returns:\n",
    "        tci (float): Temporal Concentration Index.\n",
    "    \"\"\"\n",
    "    \n",
    "    # Convert the rainfall intensities to a numpy array for easy calculation\n",
    "    rainfall_intensities = np.array(rainfall_intensities)\n",
    "    \n",
    "    # Calculate the cumulative rainfall over time\n",
    "    cumulative_rainfall = np.cumsum(rainfall_intensities)\n",
    "    \n",
    "    # Calculate the total rainfall of the event\n",
    "    total_rainfall = cumulative_rainfall[-1]\n",
    "    \n",
    "    # Calculate the proportion of total rainfall at each time step\n",
    "    rainfall_proportion = cumulative_rainfall / total_rainfall\n",
    "    print(rainfall_proportion)\n",
    "    # Find the time step where 50% of the rainfall is reached\n",
    "    half_rainfall_index = np.argmax(rainfall_proportion >= 0.5)\n",
    "    print(half_rainfall_index)\n",
    "    # TCI can be calculated as the time step at which half the rainfall occurs\n",
    "    # Or, you could normalize it relative to the event duration\n",
    "    tci = (half_rainfall_index + 1) / len(rainfall_intensities)\n",
    "    \n",
    "    return tci\n"
   ]
  },
  {
   "cell_type": "code",
   "execution_count": 3,
   "id": "69c03f24",
   "metadata": {},
   "outputs": [],
   "source": [
    "sample = pd.read_csv(\"/nfs/a319/gy17m2a/PhD/datadir/DanishRainData/Sample1.csv\", encoding=\"ISO-8859-1\")"
   ]
  },
  {
   "cell_type": "markdown",
   "id": "a5efbc36",
   "metadata": {},
   "source": [
    "### Find metrics"
   ]
  },
  {
   "cell_type": "code",
   "execution_count": 134,
   "id": "a06a7e87",
   "metadata": {},
   "outputs": [],
   "source": [
    "# from scipy.stats import skew\n",
    "\n",
    "# results2 = []\n",
    "# for _, row in events_df_future[:100].iterrows():\n",
    "#     intensities = row.dropna()  # Drop NaNs for this event\n",
    "    \n",
    "#     # Calculate skewness\n",
    "#     asymmetry = skew(intensities)\n",
    "#     tci = calculate_tci(intensities)\n",
    "#     d50=calc_d50_with_interpolation(intensities)\n",
    "#     # Calculate coefficient of variation (CV)\n",
    "#     unevenness = np.std(intensities) / np.mean(intensities)\n",
    "    \n",
    "#     results2.append({'Asymmetry': asymmetry, 'Unevenness': unevenness, 'tci': tci, 'd50': d50})\n",
    "    \n",
    "# # Convert results to DataFrame\n",
    "# results_df_future = pd.DataFrame(results)\n",
    "# results_df_future['D50']=future['D50_new']\n",
    "# results_df_future['duration']=future['duration']\n",
    "results_df_future_no4h = results_df_future[results_df_future['duration']>12]"
   ]
  },
  {
   "cell_type": "code",
   "execution_count": null,
   "id": "1e6cb086",
   "metadata": {},
   "outputs": [],
   "source": [
    "results = []\n",
    "for _, row in events_df_present.iterrows():\n",
    "    intensities = row.dropna()  # Drop NaNs for this event\n",
    "    \n",
    "    # Calculate skewness\n",
    "    asymmetry = skew(intensities)\n",
    "    tci = calculate_tci(intensities)\n",
    "    # Calculate coefficient of variation (CV)\n",
    "    unevenness = np.std(intensities) / np.mean(intensities)\n",
    "    \n",
    "    results.append({'Asymmetry': asymmetry, 'Unevenness': unevenness, 'tci': tci})\n",
    "\n",
    "# Convert results to DataFrame\n",
    "results_df_present = pd.DataFrame(results)\n",
    "print(results_df_present)"
   ]
  },
  {
   "cell_type": "code",
   "execution_count": 9,
   "id": "d4552b09",
   "metadata": {},
   "outputs": [
    {
     "data": {
      "image/png": "[encoded data removed]",
      "text/plain": [
       "<Figure size 432x288 with 1 Axes>"
      ]
     },
     "metadata": {
      "needs_background": "light"
     },
     "output_type": "display_data"
    },
    {
     "name": "stdout",
     "output_type": "stream",
     "text": [
      "Pearson correlation: 0.71 (p-value: 0.498)\n"
     ]
    }
   ],
   "source": [
    "import numpy as np\n",
    "import pandas as pd\n",
    "import matplotlib.pyplot as plt\n",
    "from scipy.stats import skew, pearsonr\n",
    "\n",
    "# Example DataFrame: Each row is an event, and columns are time steps with rainfall intensities\n",
    "# Replace with your actual data\n",
    "rainfall_data = pd.DataFrame({\n",
    "    'event_1': [0, 5, 10, 15, 10, 5, 0],\n",
    "    'event_2': [5, 15, 25, 20, 10, 5, 0],\n",
    "    'event_3': [0, 0, 5, 10, 20, 15, 5]\n",
    "}).T\n",
    "\n",
    "# Calculate metrics for each event\n",
    "results = []\n",
    "for event in rainfall_data.iterrows():\n",
    "    intensities = event[1].values\n",
    "    \n",
    "    # Asymmetry: Skewness\n",
    "    asymmetry = skew(intensities)\n",
    "    \n",
    "    # Unevenness: Coefficient of Variation\n",
    "    unevenness = np.std(intensities) / np.mean(intensities)\n",
    "    \n",
    "    results.append({'Asymmetry': asymmetry, 'Unevenness': unevenness})\n",
    "\n",
    "# Create a results DataFrame\n",
    "results_df = pd.DataFrame(results)\n",
    "\n",
    "# Scatter plot to visualize the relationship\n",
    "plt.scatter(results_df['Asymmetry'], results_df['Unevenness'], c='blue', alpha=0.7)\n",
    "plt.xlabel('Asymmetry (Skewness)')\n",
    "plt.ylabel('Unevenness (CV)')\n",
    "plt.title('Relationship Between Asymmetry and Unevenness')\n",
    "plt.show()\n",
    "\n",
    "# Correlation\n",
    "correlation, p_value = pearsonr(results_df['Asymmetry'], results_df['Unevenness'])\n",
    "print(f\"Pearson correlation: {correlation:.2f} (p-value: {p_value:.3f})\")\n"
   ]
  }
 ],
 "metadata": {
  "kernelspec": {
   "display_name": "Python 3 (ipykernel)",
   "language": "python",
   "name": "python3"
  },
  "language_info": {
   "codemirror_mode": {
    "name": "ipython",
    "version": 3
   },
   "file_extension": ".py",
   "mimetype": "text/x-python",
   "name": "python",
   "nbconvert_exporter": "python",
   "pygments_lexer": "ipython3",
   "version": "3.7.13"
  }
 },
 "nbformat": 4,
 "nbformat_minor": 5
}
