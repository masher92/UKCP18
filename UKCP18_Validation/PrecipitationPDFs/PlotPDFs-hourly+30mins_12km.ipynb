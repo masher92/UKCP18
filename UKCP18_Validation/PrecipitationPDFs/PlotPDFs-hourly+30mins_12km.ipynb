{
 "cells": [
  {
   "cell_type": "markdown",
   "id": "0be91f67",
   "metadata": {},
   "source": [
    "### Set up environment"
   ]
  },
  {
   "cell_type": "code",
   "execution_count": 1,
   "id": "c5ec6e4b",
   "metadata": {},
   "outputs": [],
   "source": [
    "import numpy as np\n",
    "import matplotlib.pyplot as plt\n",
    "import matplotlib.patches as mpatches"
   ]
  },
  {
   "cell_type": "code",
   "execution_count": 2,
   "id": "d41215ae",
   "metadata": {},
   "outputs": [],
   "source": [
    "def calculate_ccdf_wetvalues(precipitation_data, bins_i_want, filter_small_vals=False):\n",
    "    # Remove NAN values\n",
    "    precipitation_data = precipitation_data[~np.isnan(precipitation_data)]\n",
    "    # Keep only wet values \n",
    "    precipitation_data = precipitation_data[precipitation_data >= 0.1]\n",
    "\n",
    "    # Compute the cumulative distribution function (CDF) using the histogram\n",
    "    # np.diff(bin_edges): Calculate the differences between bin edges to get bin widths\n",
    "    # hist * np.diff(bin_edges): Multiply each histogram value by its corresponding bin width\n",
    "    # np.cumsum(): Compute the cumulative sum of the products\n",
    "    # cdf: The cumulative distribution function values\n",
    "    hist, bin_edges = np.histogram(precipitation_data, bins=bins_i_want, density=True)\n",
    "    cdf = np.cumsum(hist * np.diff(bin_edges))\n",
    "    \n",
    "    # Calculate 1 - CDF for CCDF\n",
    "    ccdf = 1 - cdf\n",
    "    \n",
    "    # Find the centre point of each bin for plotting\n",
    "    bin_centres = 0.5 * (bin_edges[1:] + bin_edges[:-1])\n",
    "    \n",
    "    return cdf, ccdf, bin_centres, bin_edges[1:]\n",
    "\n",
    "# Function to calculate PDF from a single file\n",
    "def calculate_pdf_wetvalues (precipitation_data,bins_i_want, filter_small_vals=False ):\n",
    "    # Remove NAN values\n",
    "    precipitation_data = precipitation_data[~np.isnan(precipitation_data)]\n",
    "    # Keep only wet values \n",
    "    precipitation_data = precipitation_data[precipitation_data >= 0.1]\n",
    "    \n",
    "    freqs, bin_edges = np.histogram(precipitation_data, bins=bins_i_want, density=True)\n",
    "    # I think this was just for knowing how many value was in each bin\n",
    "    # How was I using that in log_discrete_histogram_less_legend???\n",
    "    # freqs_numbers, bin_edges = np.histogram(precipitation_data, bins= bins, density=False)\n",
    "    \n",
    "    # Find the centre point of each bin for plotting\n",
    "    bin_centres =  0.5*(bin_edges[1:] + bin_edges[:-1])    \n",
    "    \n",
    "    return freqs, bin_centres\n",
    "\n",
    "def plot_ccdf(axs,results,colors):\n",
    "    for num, result in enumerate(results):\n",
    "        axs.scatter(result[3], result[1] ,linewidth = 1,s=3, color = colors[num])\n",
    "        axs.plot(result[3],result[1] ,linewidth = 1, color = colors[num])\n",
    "        \n",
    "# Function to filter patches based on included colors\n",
    "def create_patches(included_colors):\n",
    "    return [mpatches.Patch(color=color, label=label) \n",
    "            for color, label in labels_and_colors if color in included_colors]        "
   ]
  },
  {
   "cell_type": "code",
   "execution_count": 3,
   "id": "52963693",
   "metadata": {},
   "outputs": [],
   "source": [
    "labels_and_colors = [\n",
    "    ('black', 'CEH-GEAR'),\n",
    "    ('darkorange', 'UKCP18 (hourly)'),\n",
    "    ('purple', 'UKCP18 (30 mins)'),\n",
    "    ('green', 'NIMROD')]"
   ]
  },
  {
   "cell_type": "markdown",
   "id": "9912d883",
   "metadata": {},
   "source": [
    "## Get model data for overlapping and not overlapping time periods"
   ]
  },
  {
   "cell_type": "code",
   "execution_count": 4,
   "id": "fbea0c8f",
   "metadata": {},
   "outputs": [],
   "source": [
    "resolution = '2.2km_bng_regridded_12km_masked' # '2.2km_bng_regridded_12km_masked' #2.2km_bng_masked\n",
    "# ukcp18_hrly_2001_2014_jja_GB_12km = np.load(f'/nfs/a319/gy17m2a/PhD/ProcessedData/PDF_Plotting/UKCP18_hourly/ukcp18_hrly_2001_2014_{resolution}_GB_jja.npy')\n",
    "ukcp18_hrly_2001_2019_jja_GB_12km = np.load(f'/nfs/a319/gy17m2a/PhD/ProcessedData/PDF_Plotting/UKCP18_hourly/ukcp18_hrly_2001_2019_{resolution}_GB_jja.npy')\n",
    "# ukcp18_hrly_2006_2019_jja_GB_12km = np.load(f'/nfs/a319/gy17m2a/PhD/ProcessedData/PDF_Plotting/UKCP18_hourly/ukcp18_hrly_2006_2019_{resolution}_GB_jja.npy')"
   ]
  },
  {
   "cell_type": "code",
   "execution_count": 5,
   "id": "f8533859",
   "metadata": {},
   "outputs": [],
   "source": [
    "resolution = '12km_regridded'\n",
    "cehgear_1990_2014_GB_jja_12km= np.load(f'/nfs/a319/gy17m2a/PhD/ProcessedData/PDF_Plotting/CEH-GEAR/cehgear_1990-2014_{resolution}_GB_jja.npy')\n",
    "# cehgear_2001_2014_GB_jja_12km = np.load(f'/nfs/a319/gy17m2a/PhD/ProcessedData/PDF_Plotting/CEH-GEAR/cehgear_2001-2014_{resolution}_GB_jja.npy')"
   ]
  },
  {
   "cell_type": "code",
   "execution_count": 6,
   "id": "55d0cda9",
   "metadata": {},
   "outputs": [],
   "source": [
    "resolution = '2.2km_bng_regridded_12km_masked'\n",
    "# ukcp18_30m_2001_2014_jja_GB_12km = np.load(f'/nfs/a319/gy17m2a/PhD/ProcessedData/PDF_Plotting/UKCP18_30mins/ukcp18_30m_2001_2014_{resolution}_jja_GB.npy')\n",
    "ukcp18_30m_2001_2019_jja_GB_12km = np.load(f'/nfs/a319/gy17m2a/PhD/ProcessedData/PDF_Plotting/UKCP18_30mins/ukcp18_30m_2001_2019_{resolution}_jja_GB.npy')\n",
    "# ukcp18_30m_2006_2019_jja_GB_12km = np.load(f'/nfs/a319/gy17m2a/PhD/ProcessedData/PDF_Plotting/UKCP18_30mins/ukcp18_30m_2006_2019_{resolution}_jja_GB.npy')"
   ]
  },
  {
   "cell_type": "code",
   "execution_count": 7,
   "id": "11e79e09",
   "metadata": {},
   "outputs": [],
   "source": [
    "resolution = \"NIMROD_regridded_12km\"\n",
    "NIMROD_2006_2019_jja_GB_12km = np.load(f'/nfs/a319/gy17m2a/PhD/ProcessedData/PDF_Plotting/NIMROD/NIMROD_2006_2019_{resolution}_jja_GB.npy')"
   ]
  },
  {
   "cell_type": "markdown",
   "id": "46e0417f",
   "metadata": {},
   "source": [
    "## Calculate CDFs and CCDFs"
   ]
  },
  {
   "cell_type": "code",
   "execution_count": 8,
   "id": "315f599d",
   "metadata": {},
   "outputs": [],
   "source": [
    "bins_i_want =  [0, 0.1, 2, 3, 7, 10,15, 21, 35,50]\n",
    "low_bins_i_want = [0, 0.1,  0.95, 1.05, 1.15,2]"
   ]
  },
  {
   "cell_type": "code",
   "execution_count": 9,
   "id": "0cf82c4d",
   "metadata": {},
   "outputs": [],
   "source": [
    "# ukcp18_hrly_2006_2019_jja_GB_12km_results = calculate_ccdf_wetvalues(ukcp18_hrly_2006_2019_jja_GB_12km,bins_i_want)\n",
    "# ukcp18_30m_2006_2019_jja_GB_12km_results = calculate_ccdf_wetvalues(ukcp18_30m_2006_2019_jja_GB_12km, bins_i_want)\n",
    "NIMROD_2006_2019_jja_GB_12km_results = calculate_ccdf_wetvalues(NIMROD_2006_2019_jja_GB_12km,bins_i_want)"
   ]
  },
  {
   "cell_type": "code",
   "execution_count": 21,
   "id": "755d8a47",
   "metadata": {},
   "outputs": [],
   "source": [
    "# cehgear_2001_2014_GB_jja_12km_results = calculate_ccdf_wetvalues(cehgear_2001_2014_GB_jja_12km, bins_i_want)\n",
    "# ukcp18_hrly_2001_2014_jja_GB_12km_results = calculate_ccdf_wetvalues(ukcp18_hrly_2001_2014_jja_GB_12km,bins_i_want)\n",
    "# ukcp18_30m_2001_2014_jja_GB_12km_results = calculate_ccdf_wetvalues(ukcp18_30m_2001_2014_jja_GB_12km, bins_i_want)"
   ]
  },
  {
   "cell_type": "code",
   "execution_count": 10,
   "id": "62cc0660",
   "metadata": {},
   "outputs": [
    {
     "ename": "MemoryError",
     "evalue": "Unable to allocate 52.0 GiB for an array with shape (6974760960,) and data type float64",
     "output_type": "error",
     "traceback": [
      "\u001b[0;31m---------------------------------------------------------------------------\u001b[0m",
      "\u001b[0;31mMemoryError\u001b[0m                               Traceback (most recent call last)",
      "\u001b[0;32m/tmp/ipykernel_7508/3984803024.py\u001b[0m in \u001b[0;36m<module>\u001b[0;34m\u001b[0m\n\u001b[1;32m      1\u001b[0m \u001b[0mukcp18_hrly_2001_2019_jja_GB_12km_results\u001b[0m \u001b[0;34m=\u001b[0m \u001b[0mcalculate_ccdf_wetvalues\u001b[0m\u001b[0;34m(\u001b[0m\u001b[0mukcp18_hrly_2001_2019_jja_GB_12km\u001b[0m\u001b[0;34m,\u001b[0m\u001b[0mbins_i_want\u001b[0m\u001b[0;34m)\u001b[0m\u001b[0;34m\u001b[0m\u001b[0;34m\u001b[0m\u001b[0m\n\u001b[0;32m----> 2\u001b[0;31m \u001b[0mukcp18_30m_2001_2019_jja_GB_12km_results\u001b[0m \u001b[0;34m=\u001b[0m \u001b[0mcalculate_ccdf_wetvalues\u001b[0m\u001b[0;34m(\u001b[0m\u001b[0mukcp18_30m_2001_2019_jja_GB_12km\u001b[0m\u001b[0;34m,\u001b[0m \u001b[0mbins_i_want\u001b[0m\u001b[0;34m)\u001b[0m\u001b[0;34m\u001b[0m\u001b[0;34m\u001b[0m\u001b[0m\n\u001b[0m\u001b[1;32m      3\u001b[0m \u001b[0mcehgear_1990_2014_GB_jja_12km_results\u001b[0m  \u001b[0;34m=\u001b[0m \u001b[0mcalculate_ccdf_wetvalues\u001b[0m\u001b[0;34m(\u001b[0m\u001b[0mcehgear_1990_2014_GB_jja_12km\u001b[0m\u001b[0;34m,\u001b[0m \u001b[0mbins_i_want\u001b[0m\u001b[0;34m)\u001b[0m\u001b[0;34m\u001b[0m\u001b[0;34m\u001b[0m\u001b[0m\n",
      "\u001b[0;32m/tmp/ipykernel_7508/3025427594.py\u001b[0m in \u001b[0;36mcalculate_ccdf_wetvalues\u001b[0;34m(precipitation_data, bins_i_want, filter_small_vals)\u001b[0m\n\u001b[1;32m      1\u001b[0m \u001b[0;32mdef\u001b[0m \u001b[0mcalculate_ccdf_wetvalues\u001b[0m\u001b[0;34m(\u001b[0m\u001b[0mprecipitation_data\u001b[0m\u001b[0;34m,\u001b[0m \u001b[0mbins_i_want\u001b[0m\u001b[0;34m,\u001b[0m \u001b[0mfilter_small_vals\u001b[0m\u001b[0;34m=\u001b[0m\u001b[0;32mFalse\u001b[0m\u001b[0;34m)\u001b[0m\u001b[0;34m:\u001b[0m\u001b[0;34m\u001b[0m\u001b[0;34m\u001b[0m\u001b[0m\n\u001b[1;32m      2\u001b[0m     \u001b[0;31m# Remove NAN values\u001b[0m\u001b[0;34m\u001b[0m\u001b[0;34m\u001b[0m\u001b[0;34m\u001b[0m\u001b[0m\n\u001b[0;32m----> 3\u001b[0;31m     \u001b[0mprecipitation_data\u001b[0m \u001b[0;34m=\u001b[0m \u001b[0mprecipitation_data\u001b[0m\u001b[0;34m[\u001b[0m\u001b[0;34m~\u001b[0m\u001b[0mnp\u001b[0m\u001b[0;34m.\u001b[0m\u001b[0misnan\u001b[0m\u001b[0;34m(\u001b[0m\u001b[0mprecipitation_data\u001b[0m\u001b[0;34m)\u001b[0m\u001b[0;34m]\u001b[0m\u001b[0;34m\u001b[0m\u001b[0;34m\u001b[0m\u001b[0m\n\u001b[0m\u001b[1;32m      4\u001b[0m     \u001b[0;31m# Keep only wet values\u001b[0m\u001b[0;34m\u001b[0m\u001b[0;34m\u001b[0m\u001b[0;34m\u001b[0m\u001b[0m\n\u001b[1;32m      5\u001b[0m     \u001b[0mprecipitation_data\u001b[0m \u001b[0;34m=\u001b[0m \u001b[0mprecipitation_data\u001b[0m\u001b[0;34m[\u001b[0m\u001b[0mprecipitation_data\u001b[0m \u001b[0;34m>=\u001b[0m \u001b[0;36m0.1\u001b[0m\u001b[0;34m]\u001b[0m\u001b[0;34m\u001b[0m\u001b[0;34m\u001b[0m\u001b[0m\n",
      "\u001b[0;31mMemoryError\u001b[0m: Unable to allocate 52.0 GiB for an array with shape (6974760960,) and data type float64"
     ]
    }
   ],
   "source": [
    "ukcp18_hrly_2001_2019_jja_GB_12km_results = calculate_ccdf_wetvalues(ukcp18_hrly_2001_2019_jja_GB_12km,bins_i_want)\n",
    "ukcp18_30m_2001_2019_jja_GB_12km_results = calculate_ccdf_wetvalues(ukcp18_30m_2001_2019_jja_GB_12km, bins_i_want)\n",
    "cehgear_1990_2014_GB_jja_12km_results  = calculate_ccdf_wetvalues(cehgear_1990_2014_GB_jja_12km, bins_i_want)"
   ]
  },
  {
   "cell_type": "markdown",
   "id": "c3018c9d",
   "metadata": {},
   "source": [
    "## All"
   ]
  },
  {
   "cell_type": "code",
   "execution_count": 56,
   "id": "c46b37e4",
   "metadata": {},
   "outputs": [
    {
     "data": {
      "image/png": "[encoded data removed]",
      "text/plain": [
       "<Figure size 720x360 with 1 Axes>"
      ]
     },
     "metadata": {
      "needs_background": "light"
     },
     "output_type": "display_data"
    }
   ],
   "source": [
    "fig, ax = plt.subplots(figsize=(10,5))\n",
    "\n",
    "results = [ukcp18_hrly_2001_2019_jja_GB_12km_results, ukcp18_30m_2001_2019_jja_GB_12km_results,cehgear_1990_2014_GB_jja_12km_results,NIMROD_2006_2019_jja_GB_12km_results]\n",
    "colors = ['darkorange', 'purple', 'black', 'green']\n",
    "plot_ccdf(ax,results, colors)\n",
    "\n",
    "ax.set_yscale('log')\n",
    "ax.set_title('CCDF')\n",
    "patches = create_patches(['black', 'purple', 'darkorange', 'black'])\n",
    "ax.legend(handles=patches);"
   ]
  }
 ],
 "metadata": {
  "kernelspec": {
   "display_name": "Python 3 (ipykernel)",
   "language": "python",
   "name": "python3"
  },
  "language_info": {
   "codemirror_mode": {
    "name": "ipython",
    "version": 3
   },
   "file_extension": ".py",
   "mimetype": "text/x-python",
   "name": "python",
   "nbconvert_exporter": "python",
   "pygments_lexer": "ipython3",
   "version": "3.7.13"
  }
 },
 "nbformat": 4,
 "nbformat_minor": 5
}
