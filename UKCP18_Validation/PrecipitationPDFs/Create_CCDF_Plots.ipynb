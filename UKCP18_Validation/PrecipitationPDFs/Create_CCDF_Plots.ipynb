{
 "cells": [
  {
   "cell_type": "markdown",
   "id": "0be91f67",
   "metadata": {},
   "source": [
    "### Set up environment"
   ]
  },
  {
   "cell_type": "code",
   "execution_count": 1,
   "id": "eed44ff5",
   "metadata": {},
   "outputs": [],
   "source": [
    "### UKCP18 30 mins\n",
    "# 1 month of data 200101 - January, 2001\n",
    "# 48 half hours * 30 days = 1440 time slices\n",
    "\n",
    "### NIMROD 30 mins\n",
    "# 1 day of data 20010106 - 6th January, 2001\n",
    "# 48 half hours = 48 time slices"
   ]
  },
  {
   "cell_type": "code",
   "execution_count": 2,
   "id": "d41215ae",
   "metadata": {},
   "outputs": [],
   "source": [
    "import numpy as np\n",
    "import matplotlib.pyplot as plt\n",
    "import matplotlib.patches as mpatches\n",
    "import matplotlib.lines as mlines\n",
    "\n",
    "# Function to filter patches based on included colors\n",
    "def create_patches(included_colors):\n",
    "    dashed_colors = {'black', 'darkred', 'darkgreen'}  # Colors that should be dashed\n",
    "    patches = []\n",
    "\n",
    "    for color, label in labels_and_colors:\n",
    "        if color in included_colors:\n",
    "            linestyle = 'solid' if color in dashed_colors else 'dashed'\n",
    "            patch = mlines.Line2D([], [], color=color, linestyle=linestyle, linewidth=2, label=label)\n",
    "            patches.append(patch)\n",
    "    \n",
    "    return patches\n",
    "\n",
    "\n",
    "def plot_ccdf(axs,results,colors):\n",
    "    for num, result in enumerate(results):\n",
    "        if colors[num] in ['black', 'darkred', 'darkgreen']:\n",
    "            linestyle = 'solid'\n",
    "            linewidth=2\n",
    "        else:\n",
    "            linestyle = 'dashed'\n",
    "            linewidth=2.4\n",
    "        axs.scatter(result[3], result[1] ,linewidth = linewidth, linestyle=linestyle,s=3, color = colors[num])\n",
    "        axs.plot(result[3],result[1] ,linewidth = linewidth, color = colors[num], linestyle=linestyle,)\n",
    "\n",
    "def calculate_ccdf_wetvalues(precipitation_data, bins_i_want, filter_small_vals=False):\n",
    "    # precipitation_data= precipitation_data[precipitation_data>0.1]\n",
    "    # Ensure last bin includes all values >= 35 mm\n",
    "    bins_i_want = np.append(bins_i_want, [np.inf])  # Add an \"infinity\" bin\n",
    "\n",
    "    # Compute histogram\n",
    "    hist, bin_edges = np.histogram(precipitation_data, bins=bins_i_want, density=True)\n",
    "\n",
    "    # Compute cumulative distribution function (CDF)\n",
    "    cdf = np.cumsum(hist * np.diff(bin_edges))\n",
    "\n",
    "    # Compute complementary cumulative distribution function (CCDF)\n",
    "    ccdf = 1 - cdf\n",
    "\n",
    "    # Find bin centers (for plotting)\n",
    "    bin_centres = 0.5 * (bin_edges[1:] + bin_edges[:-1])\n",
    "\n",
    "    # **Manually adjust the final bin center to be 35 mm**\n",
    "    bin_centres[-1] = 35  # Last bin center is now fixed at 35 mm\n",
    "\n",
    "    return cdf, ccdf, bin_centres, bin_edges[1:]\n",
    "\n",
    "def read_array(file_name):\n",
    "    arrays = []\n",
    "    with open(file_name, 'rb') as f:\n",
    "        while True:\n",
    "            try:\n",
    "                arrays.append(np.load(f))  # Read one .npy section at a time\n",
    "            except ValueError:  # Reached end of file\n",
    "                break\n",
    "\n",
    "    # Concatenate the recovered arrays\n",
    "    final_array = np.concatenate(arrays)\n",
    "    print(len(final_array))\n",
    "    \n",
    "    return final_array\n",
    "\n",
    "def read_array_nimrod(file_name):\n",
    "    arrays = []\n",
    "    with open(file_name, 'rb') as f:\n",
    "        while True:\n",
    "            try:\n",
    "                arrays.append(np.load(f))  # Read one .npy section at a time\n",
    "            except ValueError:  # Reached end of file\n",
    "                break\n",
    "\n",
    "    # del arrays[2]                \n",
    "                \n",
    "    # Concatenate the recovered arrays\n",
    "    final_array = np.concatenate(arrays)\n",
    "    print(len(final_array))\n",
    "    \n",
    "    return final_array"
   ]
  },
  {
   "cell_type": "code",
   "execution_count": 3,
   "id": "0109239a",
   "metadata": {},
   "outputs": [],
   "source": [
    "season='wholeyear'"
   ]
  },
  {
   "cell_type": "markdown",
   "id": "9912d883",
   "metadata": {},
   "source": [
    "### Get model data for overlapping and not overlapping time periods"
   ]
  },
  {
   "cell_type": "code",
   "execution_count": 4,
   "id": "36f7a2a2",
   "metadata": {},
   "outputs": [
    {
     "name": "stdout",
     "output_type": "stream",
     "text": [
      "11339302441\n"
     ]
    }
   ],
   "source": [
    "resolution = '2.2km_bng_masked'\n",
    "ukcp18_hrly = read_array(f'/nfs/a319/gy17m2a/PhD/ProcessedData/PDF_Plotting/UKCP18_hourly/ukcp18_hrly_2001_2019_{resolution}_GB_{season}.npy')"
   ]
  },
  {
   "cell_type": "code",
   "execution_count": 5,
   "id": "6b57b0b8",
   "metadata": {},
   "outputs": [
    {
     "name": "stdout",
     "output_type": "stream",
     "text": [
      "19301552551\n"
     ]
    }
   ],
   "source": [
    "resolution = '2.2km_bng_masked'\n",
    "ukcp18_30m = np.memmap(f'/nfs/a319/gy17m2a/PhD/ProcessedData/PDF_Plotting/UKCP18_30mins/2001_2019_{resolution}_GB_{season}_0.1_fixed.npy', \n",
    "                       dtype=np.float32, mode='r')\n",
    "print(len(ukcp18_30m))"
   ]
  },
  {
   "cell_type": "code",
   "execution_count": 6,
   "id": "c9c8b5a9",
   "metadata": {},
   "outputs": [
    {
     "name": "stdout",
     "output_type": "stream",
     "text": [
      "1188646028\n"
     ]
    }
   ],
   "source": [
    "resolution = '2.2km_regridded'\n",
    "cehgear = read_array(f'/nfs/a319/gy17m2a/PhD/ProcessedData/PDF_Plotting/CEH-GEAR/1990_2016_{resolution}_GB_{season}.npy')"
   ]
  },
  {
   "cell_type": "code",
   "execution_count": 11,
   "id": "2456b8a2",
   "metadata": {},
   "outputs": [
    {
     "name": "stdout",
     "output_type": "stream",
     "text": [
      "1547103119\n"
     ]
    }
   ],
   "source": [
    "resolution = \"NIMROD_regridded_2.2km\"\n",
    "NIMROD_30m = read_array_nimrod(f'/nfs/a319/gy17m2a/PhD/ProcessedData/PDF_Plotting/NIMROD/30mins/filtered_300/2.2km_bng_masked_2006_2019_GB_{season}_filtered_300.npy')\n",
    "NIMROD_30m_f = NIMROD_30m[NIMROD_30m <= 100]"
   ]
  },
  {
   "cell_type": "code",
   "execution_count": 12,
   "id": "6ee7e7a6",
   "metadata": {},
   "outputs": [
    {
     "name": "stdout",
     "output_type": "stream",
     "text": [
      "856602833\n"
     ]
    }
   ],
   "source": [
    "resolution = \"NIMROD_regridded_2.2km\"\n",
    "NIMROD_1h = read_array_nimrod(f'/nfs/a319/gy17m2a/PhD/ProcessedData/PDF_Plotting/NIMROD/1hr/filtered_300/2.2km_bng_masked_2006_2019_GB_{season}_filtered_300.npy')\n",
    "NIMROD_1h_f = NIMROD_1h[NIMROD_1h <= 100]"
   ]
  },
  {
   "cell_type": "markdown",
   "id": "46e0417f",
   "metadata": {},
   "source": [
    "## Calculate CDFs and CCDFs"
   ]
  },
  {
   "cell_type": "code",
   "execution_count": 8,
   "id": "3d9ca856",
   "metadata": {},
   "outputs": [],
   "source": [
    "labels_and_colors = [\n",
    "    ('black', 'CEH-GEAR (Hourly)'),\n",
    "    ('darkred', 'UKCP18 (Hourly)'),\n",
    "    ('indianred', 'UKCP18 (30 mins)'),\n",
    "    ('darkgreen', 'NIMROD (Hourly)'),\n",
    "    ('lightgreen', 'NIMROD (30 mins)')]"
   ]
  },
  {
   "cell_type": "code",
   "execution_count": 13,
   "id": "ecfabf91",
   "metadata": {},
   "outputs": [
    {
     "name": "stderr",
     "output_type": "stream",
     "text": [
      "/nfs/a321/gy17m2a/anaconda_install/anaconda3/envs/ukcp18/lib/python3.7/site-packages/ipykernel_launcher.py:40: RuntimeWarning: invalid value encountered in multiply\n"
     ]
    }
   ],
   "source": [
    "bins_i_want =  [0, 0.1, 2, 3, 7, 10,15, 21, 35, 42, 50,95]\n",
    "ukcp18_hrly_results_old = calculate_ccdf_wetvalues(ukcp18_hrly,bins_i_want)\n",
    "ukcp18_30m_results_old = calculate_ccdf_wetvalues(ukcp18_30m, bins_i_want)\n",
    "\n",
    "cehgear_results_old  = calculate_ccdf_wetvalues(cehgear, bins_i_want)\n",
    "\n",
    "NIMROD_30m_f_results_old = calculate_ccdf_wetvalues(NIMROD_30m_f,bins_i_want)\n",
    "NIMROD_1h_f_results_old = calculate_ccdf_wetvalues(NIMROD_1h_f,bins_i_want)"
   ]
  },
  {
   "cell_type": "code",
   "execution_count": 26,
   "id": "29ed233e",
   "metadata": {},
   "outputs": [
    {
     "data": {
      "image/png": "[encoded data removed]",
      "text/plain": [
       "<Figure size 504x360 with 1 Axes>"
      ]
     },
     "metadata": {
      "needs_background": "light"
     },
     "output_type": "display_data"
    }
   ],
   "source": [
    "fig, ax = plt.subplots(figsize=(7,5))\n",
    "\n",
    "results =  [ukcp18_hrly_results_old , ukcp18_30m_results_old, cehgear_results_old, NIMROD_1h_f_results_old, NIMROD_30m_f_results_old]\n",
    "colors =  [ 'darkred', 'indianred', 'black',  'darkgreen', 'lightgreen']\n",
    "plot_ccdf(ax, results, colors)\n",
    "\n",
    "patches = create_patches(colors)\n",
    "ax.set_yscale('log')\n",
    "ax.legend(handles=patches)\n",
    "ax.set_xlabel('Intensity (mm/hr)', fontsize=18)\n",
    "ax.set_ylabel('Probability of exceedance', fontsize=18)\n",
    "\n",
    "fig.savefig(\"../../FindIndependentRainfallEvents/AnalyseProfiles/Figs/model_evaluation.png\", dpi=200, bbox_inches='tight') "
   ]
  }
 ],
 "metadata": {
  "kernelspec": {
   "display_name": "Python 3 (ipykernel)",
   "language": "python",
   "name": "python3"
  },
  "language_info": {
   "codemirror_mode": {
    "name": "ipython",
    "version": 3
   },
   "file_extension": ".py",
   "mimetype": "text/x-python",
   "name": "python",
   "nbconvert_exporter": "python",
   "pygments_lexer": "ipython3",
   "version": "3.7.13"
  }
 },
 "nbformat": 4,
 "nbformat_minor": 5
}
