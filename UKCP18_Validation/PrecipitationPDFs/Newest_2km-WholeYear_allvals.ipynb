{
 "cells": [
  {
   "cell_type": "markdown",
   "id": "0be91f67",
   "metadata": {},
   "source": [
    "### Set up environment"
   ]
  },
  {
   "cell_type": "code",
   "execution_count": 1,
   "id": "eed44ff5",
   "metadata": {},
   "outputs": [],
   "source": [
    "### UKCP18 30 mins\n",
    "# 1 month of data 200101 - January, 2001\n",
    "# 48 half hours * 30 days = 1440 time slices\n",
    "\n",
    "### NIMROD 30 mins\n",
    "# 1 day of data 20010106 - 6th January, 2001\n",
    "# 48 half hours = 48 time slices"
   ]
  },
  {
   "cell_type": "code",
   "execution_count": 23,
   "id": "d41215ae",
   "metadata": {},
   "outputs": [],
   "source": [
    "import numpy as np\n",
    "import matplotlib.pyplot as plt\n",
    "import matplotlib.patches as mpatches\n",
    "import matplotlib.lines as mlines\n",
    "\n",
    "def calculate_ccdf_wetvalues(precipitation_data, bins_i_want, filter_small_vals=False):\n",
    "    hist, bin_edges = np.histogram(precipitation_data, bins=bins_i_want, density=True)\n",
    "    cdf = np.cumsum(hist * np.diff(bin_edges))\n",
    "    \n",
    "    # Calculate 1 - CDF for CCDF\n",
    "    ccdf = 1 - cdf\n",
    "    \n",
    "    # Find the centre point of each bin for plotting\n",
    "    bin_centres = 0.5 * (bin_edges[1:] + bin_edges[:-1])\n",
    "    \n",
    "    return cdf, ccdf, bin_centres, bin_edges[1:]\n",
    "\n",
    "def plot_ccdf(axs,results,colors):\n",
    "    for num, result in enumerate(results):\n",
    "        if colors[num] in ['black', 'firebrick', 'darkgreen']:\n",
    "            linestyle = 'dashed'\n",
    "            linewidth=2\n",
    "        else:\n",
    "            linestyle = 'solid'\n",
    "            linewidth=2.4\n",
    "        axs.scatter(result[3], result[1] ,linewidth = linewidth, linestyle=linestyle,s=3, color = colors[num])\n",
    "        axs.plot(result[3],result[1] ,linewidth = linewidth, color = colors[num], linestyle=linestyle,)\n",
    "        \n",
    "# Function to filter patches based on included colors\n",
    "def create_patches(included_colors):\n",
    "    dashed_colors = {'black', 'firebrick', 'darkgreen'}  # Colors that should be dashed\n",
    "    patches = []\n",
    "\n",
    "    for color, label in labels_and_colors:\n",
    "        if color in included_colors:\n",
    "            linestyle = 'dashed' if color in dashed_colors else 'solid'\n",
    "            patch = mlines.Line2D([], [], color=color, linestyle=linestyle, linewidth=2, label=label)\n",
    "            patches.append(patch)\n",
    "    \n",
    "    return patches    \n",
    "\n",
    "def calculate_ccdf_wetvalues(precipitation_data, bins_i_want, filter_small_vals=False):\n",
    "\n",
    "    # Ensure last bin includes all values >= 35 mm\n",
    "    bins_i_want = np.append(bins_i_want, [np.inf])  # Add an \"infinity\" bin\n",
    "\n",
    "    # Compute histogram\n",
    "    hist, bin_edges = np.histogram(precipitation_data, bins=bins_i_want, density=True)\n",
    "\n",
    "    # Compute cumulative distribution function (CDF)\n",
    "    cdf = np.cumsum(hist * np.diff(bin_edges))\n",
    "\n",
    "    # Compute complementary cumulative distribution function (CCDF)\n",
    "    ccdf = 1 - cdf\n",
    "\n",
    "    # Find bin centers (for plotting)\n",
    "    bin_centres = 0.5 * (bin_edges[1:] + bin_edges[:-1])\n",
    "\n",
    "    # **Manually adjust the final bin center to be 35 mm**\n",
    "    bin_centres[-1] = 35  # Last bin center is now fixed at 35 mm\n",
    "\n",
    "    return cdf, ccdf, bin_centres, bin_edges[1:]\n",
    "\n",
    "labels_and_colors = [\n",
    "    ('black', 'CEH-GEAR (Hourly)'),\n",
    "    ('darkorange', 'UKCP18 (Hourly)'),\n",
    "    ('purple', 'UKCP18 (30 mins)'),\n",
    "    ('green', 'NIMROD (30 mins)'),\n",
    "    ('royalblue', 'NIMROD (Hourly)')]"
   ]
  },
  {
   "cell_type": "code",
   "execution_count": 2,
   "id": "0109239a",
   "metadata": {},
   "outputs": [],
   "source": [
    "season='wholeyear'"
   ]
  },
  {
   "cell_type": "markdown",
   "id": "9912d883",
   "metadata": {},
   "source": [
    "### Get model data for overlapping and not overlapping time periods"
   ]
  },
  {
   "cell_type": "code",
   "execution_count": 14,
   "id": "daba1db2",
   "metadata": {},
   "outputs": [],
   "source": [
    "resolution = '2.2km_bng_masked'\n",
    "ukcp18_hrly = np.load(f'/nfs/a319/gy17m2a/PhD/ProcessedData/PDF_Plotting/UKCP18_hourly/ukcp18_hrly_{resolution}_GB_{season}_allvals.npy')"
   ]
  },
  {
   "cell_type": "code",
   "execution_count": 32,
   "id": "1057798c",
   "metadata": {},
   "outputs": [],
   "source": [
    "resolution = '2.2km_bng_masked'\n",
    "ukcp18_30m = np.load(f'/nfs/a319/gy17m2a/PhD/ProcessedData/PDF_Plotting/UKCP18_30mins/ukcp18_30m_{resolution}_GB_{season}_allvals.npy')"
   ]
  },
  {
   "cell_type": "code",
   "execution_count": 6,
   "id": "c9c8b5a9",
   "metadata": {},
   "outputs": [],
   "source": [
    "resolution = '2.2km_regridded'\n",
    "cehgear = np.load(f'/nfs/a319/gy17m2a/PhD/ProcessedData/PDF_Plotting/CEH-GEAR/cehgear_{resolution}_GB_{season}_allvals.npy')"
   ]
  },
  {
   "cell_type": "code",
   "execution_count": 7,
   "id": "c30f040f",
   "metadata": {},
   "outputs": [],
   "source": [
    "resolution = \"NIMROD_regridded_2.2km\"\n",
    "NIMROD_30m = np.load(f'/nfs/a319/gy17m2a/PhD/ProcessedData/PDF_Plotting/NIMROD/nimrod_2.2km_bng_masked_GB_{season}_allvals.npy')\n",
    "NIMROD_30m = NIMROD_30m[NIMROD_30m <= 100]"
   ]
  },
  {
   "cell_type": "code",
   "execution_count": 8,
   "id": "6ee7e7a6",
   "metadata": {},
   "outputs": [],
   "source": [
    "resolution = \"NIMROD_regridded_2.2km\"\n",
    "NIMROD_1h = np.load(f'/nfs/a319/gy17m2a/PhD/ProcessedData/PDF_Plotting/NIMROD/nimrod_1hr_2.2km_bng_masked_GB_{season}_allvals.npy')\n",
    "NIMROD_1h = NIMROD_1h[NIMROD_1h <= 100]"
   ]
  },
  {
   "cell_type": "markdown",
   "id": "46e0417f",
   "metadata": {},
   "source": [
    "## Calculate CDFs and CCDFs"
   ]
  },
  {
   "cell_type": "markdown",
   "id": "c3018c9d",
   "metadata": {},
   "source": [
    "## All"
   ]
  },
  {
   "cell_type": "code",
   "execution_count": 50,
   "id": "4dd43d2f",
   "metadata": {},
   "outputs": [
    {
     "name": "stderr",
     "output_type": "stream",
     "text": [
      "/nfs/a321/gy17m2a/anaconda_install/anaconda3/envs/ukcp18/lib/python3.7/site-packages/ipykernel_launcher.py:51: RuntimeWarning: invalid value encountered in multiply\n"
     ]
    }
   ],
   "source": [
    "bins_i_want =  [0, 0.1, 2, 3, 7, 10,15, 21, 35]\n",
    "\n",
    "ukcp18_hrly_results = calculate_ccdf_wetvalues(ukcp18_hrly,bins_i_want)\n",
    "ukcp18_30m_results = calculate_ccdf_wetvalues(ukcp18_30m, bins_i_want)\n",
    "\n",
    "cehgear_results  = calculate_ccdf_wetvalues(cehgear, bins_i_want)\n",
    "\n",
    "NIMROD_30m_results = calculate_ccdf_wetvalues(NIMROD_30m,bins_i_want)\n",
    "NIMROD_1h_results = calculate_ccdf_wetvalues(NIMROD_1h,bins_i_want)"
   ]
  },
  {
   "cell_type": "code",
   "execution_count": 51,
   "id": "d6af7f15",
   "metadata": {},
   "outputs": [],
   "source": [
    "labels_and_colors = [\n",
    "    ('black', 'CEH-GEAR (Hourly)'),\n",
    "    ('firebrick', 'UKCP18 (Hourly)'),\n",
    "    ('darkorange', 'UKCP18 (30 mins)'),\n",
    "    ('darkgreen', 'NIMROD (Hourly)'),\n",
    "('lightgreen', 'NIMROD (30 mins)')]"
   ]
  },
  {
   "cell_type": "code",
   "execution_count": 52,
   "id": "48c3cd96",
   "metadata": {},
   "outputs": [
    {
     "data": {
      "image/png": "[encoded data removed]",
      "text/plain": [
       "<Figure size 504x360 with 1 Axes>"
      ]
     },
     "metadata": {
      "needs_background": "light"
     },
     "output_type": "display_data"
    }
   ],
   "source": [
    "fig, ax = plt.subplots(figsize=(7,5))\n",
    "\n",
    "results = [ukcp18_hrly_results, ukcp18_30m_results, cehgear_results, NIMROD_1h_results, NIMROD_30m_results]\n",
    "colors = [ 'firebrick', 'darkorange', 'black',  'darkgreen', 'lightgreen']\n",
    "plot_ccdf(ax, results, colors)\n",
    "\n",
    "patches = create_patches(['firebrick','darkorange','black','lightgreen', 'darkgreen',])\n",
    "ax.set_yscale('log')\n",
    "ax.legend(handles=patches);\n",
    "ax.set_xlabel('Intensity (mm/hr)', fontsize=18)\n",
    "ax.set_ylabel('Probability of exceedance', fontsize=18)\n",
    "\n",
    "fig.savefig(\"../../FindIndependentRainfallEvents/AnalyseProfiles/Figs/model_evaluation.png\", dpi=200, bbox_inches='tight') "
   ]
  }
 ],
 "metadata": {
  "kernelspec": {
   "display_name": "Python 3 (ipykernel)",
   "language": "python",
   "name": "python3"
  },
  "language_info": {
   "codemirror_mode": {
    "name": "ipython",
    "version": 3
   },
   "file_extension": ".py",
   "mimetype": "text/x-python",
   "name": "python",
   "nbconvert_exporter": "python",
   "pygments_lexer": "ipython3",
   "version": "3.7.13"
  }
 },
 "nbformat": 4,
 "nbformat_minor": 5
}
