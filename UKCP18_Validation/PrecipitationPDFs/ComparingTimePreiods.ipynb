{
 "cells": [
  {
   "cell_type": "markdown",
   "id": "0be91f67",
   "metadata": {},
   "source": [
    "### Set up environment"
   ]
  },
  {
   "cell_type": "code",
   "execution_count": 3,
   "id": "c5ec6e4b",
   "metadata": {},
   "outputs": [],
   "source": [
    "import numpy as np\n",
    "import matplotlib.pyplot as plt\n",
    "import matplotlib.patches as mpatches"
   ]
  },
  {
   "cell_type": "code",
   "execution_count": 2,
   "id": "d41215ae",
   "metadata": {},
   "outputs": [],
   "source": [
    "def calculate_ccdf_wetvalues(precipitation_data, bins_i_want, filter_small_vals=False):\n",
    "    # Remove NAN values\n",
    "    # precipitation_data = precipitation_data[~np.isnan(precipitation_data)]\n",
    "    # Keep only wet values \n",
    "    precipitation_data = precipitation_data[precipitation_data >= 0.1]\n",
    "\n",
    "    # Compute the cumulative distribution function (CDF) using the histogram\n",
    "    # np.diff(bin_edges): Calculate the differences between bin edges to get bin widths\n",
    "    # hist * np.diff(bin_edges): Multiply each histogram value by its corresponding bin width\n",
    "    # np.cumsum(): Compute the cumulative sum of the products\n",
    "    # cdf: The cumulative distribution function values\n",
    "    hist, bin_edges = np.histogram(precipitation_data, bins=bins_i_want, density=True)\n",
    "    cdf = np.cumsum(hist * np.diff(bin_edges))\n",
    "    \n",
    "    # Calculate 1 - CDF for CCDF\n",
    "    ccdf = 1 - cdf\n",
    "    \n",
    "    # Find the centre point of each bin for plotting\n",
    "    bin_centres = 0.5 * (bin_edges[1:] + bin_edges[:-1])\n",
    "    \n",
    "    return cdf, ccdf, bin_centres, bin_edges[1:]\n",
    "\n",
    "# Function to calculate PDF from a single file\n",
    "def calculate_pdf_wetvalues (precipitation_data,bins_i_want, filter_small_vals=False ):\n",
    "    # Remove NAN values\n",
    "    precipitation_data = precipitation_data[~np.isnan(precipitation_data)]\n",
    "    # Keep only wet values \n",
    "    precipitation_data = precipitation_data[precipitation_data >= 0.1]\n",
    "    \n",
    "    freqs, bin_edges = np.histogram(precipitation_data, bins=bins_i_want, density=True)\n",
    "    # I think this was just for knowing how many value was in each bin\n",
    "    # How was I using that in log_discrete_histogram_less_legend???\n",
    "    # freqs_numbers, bin_edges = np.histogram(precipitation_data, bins= bins, density=False)\n",
    "    \n",
    "    # Find the centre point of each bin for plotting\n",
    "    bin_centres =  0.5*(bin_edges[1:] + bin_edges[:-1])    \n",
    "    \n",
    "    return freqs, bin_centres"
   ]
  },
  {
   "cell_type": "code",
   "execution_count": 4,
   "id": "52963693",
   "metadata": {},
   "outputs": [],
   "source": [
    "# Create patches\n",
    "patches= []\n",
    "patch1 = mpatches.Patch(color= 'black', label='CEH-GEAR')\n",
    "patch2 = mpatches.Patch(color= 'darkorange', label='UKCP18 (hourly)')\n",
    "patch3 = mpatches.Patch(color= 'purple', label='UKCP18 (30 mins)')\n",
    "patch4 = mpatches.Patch(color= 'green', label='NIMROD')\n",
    "patches.append(patch1)\n",
    "patches.append(patch2)\n",
    "patches.append(patch3)\n",
    "patches.append(patch4)"
   ]
  },
  {
   "cell_type": "code",
   "execution_count": 4,
   "id": "942b98e7",
   "metadata": {},
   "outputs": [],
   "source": [
    "# resolution = '12km'"
   ]
  },
  {
   "cell_type": "markdown",
   "id": "9912d883",
   "metadata": {},
   "source": [
    "## Get model data for overlapping and not overlapping time periods"
   ]
  },
  {
   "cell_type": "code",
   "execution_count": 5,
   "id": "daba1db2",
   "metadata": {},
   "outputs": [],
   "source": [
    "resolution = '2.2km_bng_masked' # '2.2km_bng_regridded_12km_masked' #2.2km_bng_masked\n",
    "ukcp18_hrly_2001_2014_jja_GB_2km = np.load(f'/nfs/a319/gy17m2a/PhD/ProcessedData/PDF_Plotting/UKCP18_hourly/ukcp18_hrly_2001_2014_{resolution}_GB_jja.npy')\n",
    "ukcp18_hrly_2001_2019_jja_GB_2km = np.load(f'/nfs/a319/gy17m2a/PhD/ProcessedData/PDF_Plotting/UKCP18_hourly/ukcp18_hrly_2001_2019_{resolution}_GB_jja.npy')\n",
    "ukcp18_hrly_2006_2019_jja_GB_2km = np.load(f'/nfs/a319/gy17m2a/PhD/ProcessedData/PDF_Plotting/UKCP18_hourly/ukcp18_hrly_2006_2019_{resolution}_GB_jja.npy')"
   ]
  },
  {
   "cell_type": "markdown",
   "id": "46e0417f",
   "metadata": {},
   "source": [
    "## Calculate CDFs and CCDFs"
   ]
  },
  {
   "cell_type": "code",
   "execution_count": 7,
   "id": "315f599d",
   "metadata": {},
   "outputs": [],
   "source": [
    "bins_i_want =  [0, 0.1, 2, 3, 7, 10,15, 21, 35,50,  np.nanmax(ukcp18_hrly_2001_2014_jja_GB_2km)]\n",
    "low_bins_i_want = [0, 0.1,  0.95, 1.05, 1.15,2]"
   ]
  },
  {
   "cell_type": "markdown",
   "id": "2baf589d",
   "metadata": {},
   "source": [
    "## UKCP18 hrly vs UKCP18 30 mins vs NIMROD : 2006-2019"
   ]
  },
  {
   "cell_type": "code",
   "execution_count": 8,
   "id": "762c7f7f",
   "metadata": {},
   "outputs": [],
   "source": [
    "ukcp18_hrly_cdf, ukcp18_hrly_ccdf, ukcp18_hrly_bin_centres, ukcp18_hrly_bin_edges = calculate_ccdf_wetvalues(ukcp18_hrly_2001_2014_jja_GB_2km,bins_i_want)\n",
    "ukcp18_hrly_cdf2, ukcp18_hrly_ccdf2, ukcp18_hrly_bin_centres2, ukcp18_hrly_bin_edges2 = calculate_ccdf_wetvalues(ukcp18_hrly_2001_2019_jja_GB_2km,bins_i_want)\n",
    "ukcp18_hrly_cdf3, ukcp18_hrly_ccdf3, ukcp18_hrly_bin_centres3, ukcp18_hrly_bin_edges3 = calculate_ccdf_wetvalues(ukcp18_hrly_2006_2019_jja_GB_2km,bins_i_want)"
   ]
  },
  {
   "cell_type": "code",
   "execution_count": 14,
   "id": "560d3a04",
   "metadata": {},
   "outputs": [],
   "source": [
    "# ukcp18_hrly_cdf_12km, ukcp18_hrly_ccdf_12km, ukcp18_hrly_bin_centres_12km, ukcp18_hrly_bin_edges_12km = calculate_ccdf_wetvalues(ukcp18_hrly_2001_2014_jja_GB_12km,bins_i_want)\n",
    "# ukcp18_30mins_cdf_12km, ukcp18_30mins_ccdf_12km, ukcp18_30mins_bin_centres_12km, ukcp18_30mins_bin_edges_12km = calculate_ccdf_wetvalues(ukcp18_30m_2006_2019_jja_GB_12km, bins_i_want)\n",
    "# nimrod_cdf_12km, nimrod_ccdf_12km, nimrod_bin_centres_12km, nimrod_bin_edges_12km = calculate_ccdf_wetvalues(NIMROD_2006_2019_jja_GB_12km,bins_i_want)"
   ]
  },
  {
   "cell_type": "code",
   "execution_count": 10,
   "id": "e3a863bf",
   "metadata": {},
   "outputs": [
    {
     "data": {
      "image/png": "[encoded data removed]",
      "text/plain": [
       "<Figure size 1152x288 with 2 Axes>"
      ]
     },
     "metadata": {
      "needs_background": "light"
     },
     "output_type": "display_data"
    }
   ],
   "source": [
    "fig, axs = plt.subplots(nrows=1, ncols=2, figsize=(16,4))\n",
    "\n",
    "axs[1].scatter(ukcp18_hrly_bin_edges, ukcp18_hrly_ccdf ,linewidth = 1,s=3, color = 'darkorange')\n",
    "axs[1].plot(ukcp18_hrly_bin_edges,ukcp18_hrly_ccdf ,linewidth = 1, color = 'darkorange')\n",
    "\n",
    "axs[1].scatter(ukcp18_hrly_bin_edges2, ukcp18_hrly_ccdf2 ,linewidth = 1,s=3, color = 'purple')\n",
    "axs[1].plot(ukcp18_hrly_bin_edges2,ukcp18_hrly_ccdf2 ,linewidth = 1, color = 'purple')\n",
    "\n",
    "axs[1].scatter(ukcp18_hrly_bin_edges3, ukcp18_hrly_ccdf3 ,linewidth = 1,s=3, color = 'red')\n",
    "axs[1].plot(ukcp18_hrly_bin_edges3,ukcp18_hrly_ccdf3 ,linewidth = 1, color = 'red')\n",
    "\n",
    "# axs[1].scatter(ukcp18_hrly_bin_edges_12km, ukcp18_hrly_ccdf_12km ,linewidth = 1,s=3, color = 'darkorange')\n",
    "# axs[1].plot(ukcp18_hrly_bin_edges_12km,ukcp18_hrly_ccdf_12km ,linewidth = 1, color = 'darkorange')\n",
    "# axs[1].scatter(ukcp18_30mins_bin_edges_12km, ukcp18_30mins_ccdf_12km ,linewidth = 1,s=3, color = 'purple')\n",
    "# axs[1].plot(ukcp18_30mins_bin_edges_12km,ukcp18_30mins_ccdf_12km ,linewidth = 1, color = 'purple')\n",
    "# axs[1].scatter(nimrod_bin_edges_12km, nimrod_ccdf_12km ,linewidth = 1,s=3, color = 'green')\n",
    "# axs[1].plot(nimrod_bin_edges_12km, nimrod_ccdf_12km ,linewidth = 1, color = 'green')\n",
    "\n",
    "axs[1].set_yscale('log')\n",
    "# axs[1].set_xlim(0,80)\n",
    "# axs[1].set_ylim(1e-7,1)\n",
    "axs[1].set_title('CCDF')\n",
    "\n",
    "axs[1].legend(handles=patches);"
   ]
  },
  {
   "cell_type": "markdown",
   "id": "8b83094d",
   "metadata": {},
   "source": [
    "## UKCP18 hrly vs UKCP18 30 mins vs CEH-GEAR : 2001-2014"
   ]
  },
  {
   "cell_type": "code",
   "execution_count": 20,
   "id": "ef561dc8",
   "metadata": {},
   "outputs": [],
   "source": [
    "# cehgear_cdf, cehgear_ccdf, cehgear_bin_centres, cehgear_bin_edges = calculate_ccdf_wetvalues(cehgear_2001_2014_GB_jja_2km, bins_i_want)\n",
    "# ukcp18_hrly_cdf, ukcp18_hrly_ccdf, ukcp18_hrly_bin_centres, ukcp18_hrly_bin_edges = calculate_ccdf_wetvalues(ukcp18_hrly_2001_2014_jja_GB_2km,bins_i_want)\n",
    "ukcp18_30mins_cdf, ukcp18_30mins_ccdf, ukcp18_30mins_bin_centres, ukcp18_30mins_bin_edges = calculate_ccdf_wetvalues(ukcp18_30m_2001_2014_jja_GB_2km, bins_i_want)"
   ]
  },
  {
   "cell_type": "code",
   "execution_count": 22,
   "id": "884b4dad",
   "metadata": {},
   "outputs": [
    {
     "ename": "NameError",
     "evalue": "name 'cehgear_2001_2014_GB_jja_12km' is not defined",
     "output_type": "error",
     "traceback": [
      "\u001b[0;31m---------------------------------------------------------------------------\u001b[0m",
      "\u001b[0;31mNameError\u001b[0m                                 Traceback (most recent call last)",
      "\u001b[0;32m/tmp/ipykernel_29216/297956160.py\u001b[0m in \u001b[0;36m<module>\u001b[0;34m\u001b[0m\n\u001b[0;32m----> 1\u001b[0;31m \u001b[0mcehgear_cdf_12km\u001b[0m\u001b[0;34m,\u001b[0m \u001b[0mcehgear_ccdf_12km\u001b[0m\u001b[0;34m,\u001b[0m \u001b[0mcehgear_bin_centres_12km\u001b[0m\u001b[0;34m,\u001b[0m \u001b[0mcehgear_bin_edges_12km\u001b[0m \u001b[0;34m=\u001b[0m \u001b[0mcalculate_ccdf_wetvalues\u001b[0m\u001b[0;34m(\u001b[0m\u001b[0mcehgear_2001_2014_GB_jja_12km\u001b[0m\u001b[0;34m,\u001b[0m \u001b[0mbins_i_want\u001b[0m\u001b[0;34m)\u001b[0m\u001b[0;34m\u001b[0m\u001b[0;34m\u001b[0m\u001b[0m\n\u001b[0m\u001b[1;32m      2\u001b[0m \u001b[0mukcp18_hrly_cdf_12km\u001b[0m\u001b[0;34m,\u001b[0m \u001b[0mukcp18_hrly_ccdf_12km\u001b[0m\u001b[0;34m,\u001b[0m \u001b[0mukcp18_hrly_bin_centres_12km\u001b[0m\u001b[0;34m,\u001b[0m \u001b[0mukcp18_hrly_bin_edges_12km\u001b[0m \u001b[0;34m=\u001b[0m \u001b[0mcalculate_ccdf_wetvalues\u001b[0m\u001b[0;34m(\u001b[0m\u001b[0mukcp18_hrly_2001_2014_jja_GB_12km\u001b[0m\u001b[0;34m,\u001b[0m\u001b[0mbins_i_want\u001b[0m\u001b[0;34m)\u001b[0m\u001b[0;34m\u001b[0m\u001b[0;34m\u001b[0m\u001b[0m\n\u001b[1;32m      3\u001b[0m \u001b[0mukcp18_30mins_cdf_12km\u001b[0m\u001b[0;34m,\u001b[0m \u001b[0mukcp18_30mins_ccdf_12km\u001b[0m\u001b[0;34m,\u001b[0m \u001b[0mukcp18_30mins_bin_centres_12km\u001b[0m\u001b[0;34m,\u001b[0m \u001b[0mukcp18_30mins_bin_edges_12km\u001b[0m \u001b[0;34m=\u001b[0m \u001b[0mcalculate_ccdf_wetvalues\u001b[0m\u001b[0;34m(\u001b[0m\u001b[0mukcp18_30m_2001_2014_jja_GB_12km\u001b[0m\u001b[0;34m,\u001b[0m \u001b[0mbins_i_want\u001b[0m\u001b[0;34m)\u001b[0m\u001b[0;34m\u001b[0m\u001b[0;34m\u001b[0m\u001b[0m\n",
      "\u001b[0;31mNameError\u001b[0m: name 'cehgear_2001_2014_GB_jja_12km' is not defined"
     ]
    }
   ],
   "source": [
    "cehgear_cdf_12km, cehgear_ccdf_12km, cehgear_bin_centres_12km, cehgear_bin_edges_12km = calculate_ccdf_wetvalues(cehgear_2001_2014_GB_jja_12km, bins_i_want)\n",
    "ukcp18_hrly_cdf_12km, ukcp18_hrly_ccdf_12km, ukcp18_hrly_bin_centres_12km, ukcp18_hrly_bin_edges_12km = calculate_ccdf_wetvalues(ukcp18_hrly_2001_2014_jja_GB_12km,bins_i_want)\n",
    "ukcp18_30mins_cdf_12km, ukcp18_30mins_ccdf_12km, ukcp18_30mins_bin_centres_12km, ukcp18_30mins_bin_edges_12km = calculate_ccdf_wetvalues(ukcp18_30m_2001_2014_jja_GB_12km, bins_i_want)"
   ]
  },
  {
   "cell_type": "code",
   "execution_count": 21,
   "id": "124723ca",
   "metadata": {},
   "outputs": [
    {
     "ename": "NameError",
     "evalue": "name 'cehgear_bin_edges' is not defined",
     "output_type": "error",
     "traceback": [
      "\u001b[0;31m---------------------------------------------------------------------------\u001b[0m",
      "\u001b[0;31mNameError\u001b[0m                                 Traceback (most recent call last)",
      "\u001b[0;32m/tmp/ipykernel_29216/2321740893.py\u001b[0m in \u001b[0;36m<module>\u001b[0;34m\u001b[0m\n\u001b[1;32m      1\u001b[0m \u001b[0mfig\u001b[0m\u001b[0;34m,\u001b[0m \u001b[0maxs\u001b[0m \u001b[0;34m=\u001b[0m \u001b[0mplt\u001b[0m\u001b[0;34m.\u001b[0m\u001b[0msubplots\u001b[0m\u001b[0;34m(\u001b[0m\u001b[0mnrows\u001b[0m\u001b[0;34m=\u001b[0m\u001b[0;36m1\u001b[0m\u001b[0;34m,\u001b[0m \u001b[0mncols\u001b[0m\u001b[0;34m=\u001b[0m\u001b[0;36m2\u001b[0m\u001b[0;34m,\u001b[0m \u001b[0mfigsize\u001b[0m\u001b[0;34m=\u001b[0m\u001b[0;34m(\u001b[0m\u001b[0;36m16\u001b[0m\u001b[0;34m,\u001b[0m\u001b[0;36m4\u001b[0m\u001b[0;34m)\u001b[0m\u001b[0;34m)\u001b[0m\u001b[0;34m\u001b[0m\u001b[0;34m\u001b[0m\u001b[0m\n\u001b[0;32m----> 2\u001b[0;31m \u001b[0maxs\u001b[0m\u001b[0;34m[\u001b[0m\u001b[0;36m0\u001b[0m\u001b[0;34m]\u001b[0m\u001b[0;34m.\u001b[0m\u001b[0mscatter\u001b[0m\u001b[0;34m(\u001b[0m\u001b[0mcehgear_bin_edges\u001b[0m\u001b[0;34m,\u001b[0m \u001b[0mcehgear_cdf\u001b[0m \u001b[0;34m,\u001b[0m\u001b[0mlinewidth\u001b[0m \u001b[0;34m=\u001b[0m \u001b[0;36m1\u001b[0m\u001b[0;34m,\u001b[0m\u001b[0ms\u001b[0m\u001b[0;34m=\u001b[0m\u001b[0;36m3\u001b[0m\u001b[0;34m,\u001b[0m \u001b[0mcolor\u001b[0m \u001b[0;34m=\u001b[0m \u001b[0;34m'black'\u001b[0m\u001b[0;34m)\u001b[0m\u001b[0;34m\u001b[0m\u001b[0;34m\u001b[0m\u001b[0m\n\u001b[0m\u001b[1;32m      3\u001b[0m \u001b[0maxs\u001b[0m\u001b[0;34m[\u001b[0m\u001b[0;36m0\u001b[0m\u001b[0;34m]\u001b[0m\u001b[0;34m.\u001b[0m\u001b[0mplot\u001b[0m\u001b[0;34m(\u001b[0m\u001b[0mcehgear_bin_edges\u001b[0m\u001b[0;34m,\u001b[0m\u001b[0mcehgear_cdf\u001b[0m \u001b[0;34m,\u001b[0m\u001b[0mlinewidth\u001b[0m \u001b[0;34m=\u001b[0m \u001b[0;36m1\u001b[0m\u001b[0;34m,\u001b[0m \u001b[0mcolor\u001b[0m \u001b[0;34m=\u001b[0m \u001b[0;34m'black'\u001b[0m\u001b[0;34m)\u001b[0m\u001b[0;34m\u001b[0m\u001b[0;34m\u001b[0m\u001b[0m\n\u001b[1;32m      4\u001b[0m \u001b[0maxs\u001b[0m\u001b[0;34m[\u001b[0m\u001b[0;36m0\u001b[0m\u001b[0;34m]\u001b[0m\u001b[0;34m.\u001b[0m\u001b[0mscatter\u001b[0m\u001b[0;34m(\u001b[0m\u001b[0mukcp18_hrly_bin_edges\u001b[0m\u001b[0;34m,\u001b[0m \u001b[0mukcp18_hrly_cdf\u001b[0m \u001b[0;34m,\u001b[0m\u001b[0mlinewidth\u001b[0m \u001b[0;34m=\u001b[0m \u001b[0;36m1\u001b[0m\u001b[0;34m,\u001b[0m\u001b[0ms\u001b[0m\u001b[0;34m=\u001b[0m\u001b[0;36m3\u001b[0m\u001b[0;34m,\u001b[0m \u001b[0mcolor\u001b[0m \u001b[0;34m=\u001b[0m \u001b[0;34m'darkorange'\u001b[0m\u001b[0;34m)\u001b[0m\u001b[0;34m\u001b[0m\u001b[0;34m\u001b[0m\u001b[0m\n\u001b[1;32m      5\u001b[0m \u001b[0maxs\u001b[0m\u001b[0;34m[\u001b[0m\u001b[0;36m0\u001b[0m\u001b[0;34m]\u001b[0m\u001b[0;34m.\u001b[0m\u001b[0mplot\u001b[0m\u001b[0;34m(\u001b[0m\u001b[0mukcp18_hrly_bin_edges\u001b[0m\u001b[0;34m,\u001b[0m\u001b[0mukcp18_hrly_cdf\u001b[0m \u001b[0;34m,\u001b[0m\u001b[0mlinewidth\u001b[0m \u001b[0;34m=\u001b[0m \u001b[0;36m1\u001b[0m\u001b[0;34m,\u001b[0m \u001b[0mcolor\u001b[0m \u001b[0;34m=\u001b[0m \u001b[0;34m'darkorange'\u001b[0m\u001b[0;34m)\u001b[0m\u001b[0;34m\u001b[0m\u001b[0;34m\u001b[0m\u001b[0m\n",
      "\u001b[0;31mNameError\u001b[0m: name 'cehgear_bin_edges' is not defined"
     ]
    },
    {
     "data": {
      "image/png": "[encoded data removed]",
      "text/plain": [
       "<Figure size 1152x288 with 2 Axes>"
      ]
     },
     "metadata": {
      "needs_background": "light"
     },
     "output_type": "display_data"
    }
   ],
   "source": [
    "fig, axs = plt.subplots(nrows=1, ncols=2, figsize=(16,4))\n",
    "axs[0].scatter(cehgear_bin_edges, cehgear_cdf ,linewidth = 1,s=3, color = 'black')\n",
    "axs[0].plot(cehgear_bin_edges,cehgear_cdf ,linewidth = 1, color = 'black')\n",
    "axs[0].scatter(ukcp18_hrly_bin_edges, ukcp18_hrly_cdf ,linewidth = 1,s=3, color = 'darkorange')\n",
    "axs[0].plot(ukcp18_hrly_bin_edges,ukcp18_hrly_cdf ,linewidth = 1, color = 'darkorange')\n",
    "axs[0].scatter(ukcp18_30mins_bin_edges, ukcp18_30mins_cdf ,linewidth = 1,s=3, color = 'purple')\n",
    "axs[0].plot(ukcp18_30mins_bin_edges,ukcp18_30mins_cdf ,linewidth = 1, color = 'purple')\n",
    "axs[0].scatter(nimrod_bin_edges, nimrod_cdf ,linewidth = 1,s=3, color = 'green')\n",
    "axs[0].plot(nimrod_bin_edges, nimrod_cdf ,linewidth = 1, color = 'green')\n",
    "axs[0].set_title('CDF')\n",
    "\n",
    "axs[1].scatter(cehgear_bin_edges, cehgear_ccdf ,linewidth = 1,s=3, color = 'black')\n",
    "axs[1].plot(cehgear_bin_edges,cehgear_ccdf ,linewidth = 1, color = 'black')\n",
    "axs[1].scatter(ukcp18_hrly_bin_edges, ukcp18_hrly_ccdf ,linewidth = 1,s=3, color = 'darkorange')\n",
    "axs[1].plot(ukcp18_hrly_bin_edges,ukcp18_hrly_ccdf ,linewidth = 1, color = 'darkorange')\n",
    "axs[1].scatter(ukcp18_30mins_bin_edges, ukcp18_30mins_ccdf ,linewidth = 1,s=3, color = 'purple')\n",
    "axs[1].plot(ukcp18_30mins_bin_edges,ukcp18_30mins_ccdf ,linewidth = 1, color = 'purple')\n",
    "\n",
    "# axs[1].scatter(cehgear_bin_edges_12km, cehgear_ccdf_12km ,linewidth = 1,s=3, color = 'black')\n",
    "# axs[1].plot(cehgear_bin_edges_12km,cehgear_ccdf_12km ,linewidth = 1, color = 'black')\n",
    "# axs[1].scatter(ukcp18_hrly_bin_edges_12km, ukcp18_hrly_ccdf_12km ,linewidth = 1,s=3, color = 'yellow')\n",
    "# axs[1].plot(ukcp18_hrly_bin_edges_12km,ukcp18_hrly_ccdf_12km ,linewidth = 1, color = 'yellow')\n",
    "# axs[1].scatter(ukcp18_30mins_bin_edges_12km, ukcp18_30mins_ccdf_12km ,linewidth = 1,s=3, color = 'purple')\n",
    "# axs[1].plot(ukcp18_30mins_bin_edges_12km,ukcp18_30mins_ccdf_12km ,linewidth = 1, color = 'purple')\n",
    "\n",
    "\n",
    "axs[1].set_yscale('log')\n",
    "# axs[1].set_xlim(0,80)\n",
    "# axs[1].set_ylim(1e-7,1)\n",
    "axs[1].set_title('CCDF')\n",
    "\n",
    "axs[1].legend(handles=patches);"
   ]
  },
  {
   "cell_type": "markdown",
   "id": "c3018c9d",
   "metadata": {},
   "source": [
    "## All"
   ]
  },
  {
   "cell_type": "code",
   "execution_count": 16,
   "id": "0ff4bb49",
   "metadata": {},
   "outputs": [],
   "source": [
    "ukcp18_hrly_cdf, ukcp18_hrly_ccdf, ukcp18_hrly_bin_centres, ukcp18_hrly_bin_edges = calculate_ccdf_wetvalues(ukcp18_hrly_2001_2019_jja_GB_12km,bins_i_want)\n",
    "ukcp18_30mins_cdf, ukcp18_30mins_ccdf, ukcp18_30mins_bin_centres, ukcp18_30mins_bin_edges = calculate_ccdf_wetvalues(ukcp18_30m_2001_2019_jja_GB_12km, bins_i_want)\n",
    "nimrod_cdf, nimrod_ccdf, nimrod_bin_centres, nimrod_bin_edges = calculate_ccdf_wetvalues(NIMROD_2006_2019_jja_GB_12km,bins_i_want)\n",
    "cehgear_cdf, cehgear_ccdf, cehgear_bin_centres, cehgear_bin_edges = calculate_ccdf_wetvalues(cehgear_1990_2014_GB_jja_12km, bins_i_want)"
   ]
  },
  {
   "cell_type": "code",
   "execution_count": 22,
   "id": "2c04afee",
   "metadata": {},
   "outputs": [],
   "source": [
    "# ukcp18_hrly_cdf_12km, ukcp18_hrly_ccdf_12km, ukcp18_hrly_bin_centres_12km, ukcp18_hrly_bin_edges_12km = calculate_ccdf_wetvalues(ukcp18_hrly_2001_2019_jja_GB_12km,bins_i_want)\n",
    "# ukcp18_30mins_cdf_12km, ukcp18_30mins_ccdf_12km, ukcp18_30mins_bin_centres_12km, ukcp18_30mins_bin_edges_12km = calculate_ccdf_wetvalues(ukcp18_30m_2001_2019_jja_GB_12km, bins_i_want)\n",
    "# nimrod_cdf_12km, nimrod_ccdf_12km, nimrod_bin_centres_12km, nimrod_bin_edges_12km = calculate_ccdf_wetvalues(NIMROD_2006_2019_jja_GB_12km,bins_i_want)\n",
    "# cehgear_cdf_12km, cehgear_ccdf_12km, cehgear_bin_centres_12km, cehgear_bin_edges_12km = calculate_ccdf_wetvalues(cehgear_1990_2014_GB_jja_12km, bins_i_want)"
   ]
  },
  {
   "cell_type": "code",
   "execution_count": 18,
   "id": "c46b37e4",
   "metadata": {},
   "outputs": [
    {
     "data": {
      "image/png": "[encoded data removed]",
      "text/plain": [
       "<Figure size 1152x288 with 2 Axes>"
      ]
     },
     "metadata": {
      "needs_background": "light"
     },
     "output_type": "display_data"
    }
   ],
   "source": [
    "fig, axs = plt.subplots(nrows=1, ncols=2, figsize=(16,4))\n",
    "axs[0].scatter(cehgear_bin_edges, cehgear_cdf ,linewidth = 1,s=3, color = 'black')\n",
    "axs[0].plot(cehgear_bin_edges,cehgear_cdf ,linewidth = 1, color = 'black')\n",
    "axs[0].scatter(ukcp18_hrly_bin_edges, ukcp18_hrly_cdf ,linewidth = 1,s=3, color = 'darkorange')\n",
    "axs[0].plot(ukcp18_hrly_bin_edges,ukcp18_hrly_cdf ,linewidth = 1, color = 'darkorange')\n",
    "axs[0].scatter(ukcp18_30mins_bin_edges, ukcp18_30mins_cdf ,linewidth = 1,s=3, color = 'purple')\n",
    "axs[0].plot(ukcp18_30mins_bin_edges,ukcp18_30mins_cdf ,linewidth = 1, color = 'purple')\n",
    "axs[0].set_title('CDF')\n",
    "\n",
    "# axs[1].scatter(cehgear_bin_edges, cehgear_ccdf ,linewidth = 1,s=3, color = 'black')\n",
    "# axs[1].plot(cehgear_bin_edges,cehgear_ccdf ,linewidth = 1, color = 'black')\n",
    "axs[1].scatter(ukcp18_hrly_bin_edges, ukcp18_hrly_ccdf ,linewidth = 1,s=3, color = 'darkorange')\n",
    "axs[1].plot(ukcp18_hrly_bin_edges,ukcp18_hrly_ccdf ,linewidth = 1, color = 'darkorange')\n",
    "axs[1].scatter(ukcp18_30mins_bin_edges, ukcp18_30mins_ccdf ,linewidth = 1,s=3, color = 'purple')\n",
    "axs[1].plot(ukcp18_30mins_bin_edges,ukcp18_30mins_ccdf ,linewidth = 1, color = 'purple')\n",
    "# axs[1].scatter(nimrod_bin_edges, nimrod_ccdf ,linewidth = 1,s=3, color = 'green')\n",
    "# axs[1].plot(nimrod_bin_edges, nimrod_ccdf ,linewidth = 1, color = 'green')\n",
    "axs[1].set_yscale('log')\n",
    "# axs[1].set_xlim(0,80)\n",
    "# axs[1].set_ylim(1e-7,1)\n",
    "axs[1].set_title('CCDF')\n",
    "\n",
    "axs[1].legend(handles=patches);"
   ]
  }
 ],
 "metadata": {
  "kernelspec": {
   "display_name": "Python 3 (ipykernel)",
   "language": "python",
   "name": "python3"
  },
  "language_info": {
   "codemirror_mode": {
    "name": "ipython",
    "version": 3
   },
   "file_extension": ".py",
   "mimetype": "text/x-python",
   "name": "python",
   "nbconvert_exporter": "python",
   "pygments_lexer": "ipython3",
   "version": "3.7.13"
  }
 },
 "nbformat": 4,
 "nbformat_minor": 5
}
