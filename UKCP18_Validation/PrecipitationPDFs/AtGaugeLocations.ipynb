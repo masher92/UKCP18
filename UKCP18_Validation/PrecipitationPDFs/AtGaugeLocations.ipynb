{
 "cells": [
  {
   "cell_type": "code",
   "execution_count": 1,
   "id": "e1901fb3",
   "metadata": {},
   "outputs": [],
   "source": [
    "import numpy as np"
   ]
  },
  {
   "cell_type": "markdown",
   "id": "767bafc6",
   "metadata": {},
   "source": [
    "### UKCP18 30 mins"
   ]
  },
  {
   "cell_type": "code",
   "execution_count": 61,
   "id": "f68050a7",
   "metadata": {},
   "outputs": [],
   "source": [
    "ukcp18_30m_2001_2019 = []\n",
    "\n",
    "season='jja'\n",
    "resolution = \"2.2km_bng_masked\" #\"2.2km_bng_masked\" \"2.2km_bng_regridded_12km_masked\" \n",
    "\n",
    "for em in ['bc005','bc006' ,'bc007', 'bc009', 'bc010', 'bc011', 'bc012', \"bc013\", \"bc015\", \"bc016\", \"bc018\"]: #bc017\n",
    "    # datadir = f'/nfs/a319/gy17m2a/PhD/ProcessedData/TimeSeries/UKCP18_hourly/{resolution}/2002_2020/{em}_{season}/'\n",
    "    filename = f'/nfs/a319/gy17m2a/PhD/ProcessedData/PDF_Plotting/UKCP18_30mins/{em}_jja_gaugelocs_2km.npy'\n",
    "    # Read in data\n",
    "    this_em = np.load(filename)\n",
    "\n",
    "    # Full data\n",
    "    ukcp18_30m_2001_2019 = np.append(ukcp18_30m_2001_2019, this_em)\n",
    "\n",
    "ukcp18_30m_2001_2019 = ukcp18_30m_2001_2019.astype(np.float32)\n",
    "# np.save(f'/nfs/a319/gy17m2a/PhD/ProcessedData/PDF_Plotting/UKCP18_hourly/all_ems_jja_gaugelocs_2km.npy',\n",
    "#        ukcp18_hrly_2001_2019)"
   ]
  },
  {
   "cell_type": "markdown",
   "id": "593f2f99",
   "metadata": {},
   "source": [
    "### UKCP18 hourly\n",
    "Data is already just summer"
   ]
  },
  {
   "cell_type": "code",
   "execution_count": 62,
   "id": "05fc4197",
   "metadata": {},
   "outputs": [],
   "source": [
    "ukcp18_hrly_2001_2019 = []\n",
    "\n",
    "season='jja'\n",
    "resolution = \"2.2km_bng_masked\" #\"2.2km_bng_masked\" \"2.2km_bng_regridded_12km_masked\" \n",
    "\n",
    "for em in ['01','04', '05', '06', '07', '08', '09', '10', '11', '12', '13', '15']:\n",
    "    print(em)\n",
    "    # datadir = f'/nfs/a319/gy17m2a/PhD/ProcessedData/TimeSeries/UKCP18_hourly/{resolution}/2002_2020/{em}_{season}/'\n",
    "    filename = f'/nfs/a319/gy17m2a/PhD/ProcessedData/TimeSeries/UKCP18_hourly/2.2km_bng_masked/2002_2020/{em}_jja_gaugelocs_2km.npy'\n",
    "    # Read in data\n",
    "    this_em = np.load(filename)\n",
    "    print(len(this_em))\n",
    "\n",
    "    # Full data\n",
    "    ukcp18_hrly_2001_2019 = np.append(ukcp18_hrly_2001_2019, this_em)\n",
    "\n",
    "ukcp18_hrly_2001_2019 = ukcp18_hrly_2001_2019.astype(np.float32)\n",
    "np.save(f'/nfs/a319/gy17m2a/PhD/ProcessedData/PDF_Plotting/UKCP18_hourly/all_ems_jja_gaugelocs_2km.npy',\n",
    "       ukcp18_hrly_2001_2019)"
   ]
  },
  {
   "cell_type": "markdown",
   "id": "69514fb3",
   "metadata": {},
   "source": [
    "### CEH-GEAR"
   ]
  },
  {
   "cell_type": "code",
   "execution_count": 19,
   "id": "b0c41a29",
   "metadata": {},
   "outputs": [],
   "source": [
    "# datadir = f'/nfs/a319/gy17m2a/PhD/ProcessedData/TimeSeries/UKCP18_hourly/{resolution}/2002_2020/{em}_{season}/'\n",
    "filename = f'/nfs/a319/gy17m2a/PhD/ProcessedData/TimeSeries/CEH-GEAR/2.2km_regridded/AreaWeighted/jja_gaugelocs_2km.npy'\n",
    "# Read in data\n",
    "ceh_gear = np.load(filename)"
   ]
  },
  {
   "cell_type": "markdown",
   "id": "68002b14",
   "metadata": {},
   "source": [
    "### NIMROD"
   ]
  },
  {
   "cell_type": "code",
   "execution_count": 20,
   "id": "fc9b9479",
   "metadata": {},
   "outputs": [],
   "source": [
    "filename = f'/nfs/a319/gy17m2a/PhD/ProcessedData/TimeSeries/NIMROD/30mins/NIMROD_regridded_2.2km/jja_gaugelocs_2km.npy'\n",
    "nimrod = np.load(filename)"
   ]
  },
  {
   "cell_type": "markdown",
   "id": "ef5dfbc2",
   "metadata": {},
   "source": [
    "# Plotting"
   ]
  },
  {
   "cell_type": "code",
   "execution_count": 73,
   "id": "2a912304",
   "metadata": {},
   "outputs": [],
   "source": [
    "import numpy as np\n",
    "import matplotlib.pyplot as plt\n",
    "import matplotlib.patches as mpatches\n",
    "\n",
    "def calculate_ccdf_wetvalues(precipitation_data, bins_i_want, filter_small_vals=False):\n",
    "\n",
    "    # Compute the cumulative distribution function (CDF) using the histogram\n",
    "    # np.diff(bin_edges): Calculate the differences between bin edges to get bin widths\n",
    "    # hist * np.diff(bin_edges): Multiply each histogram value by its corresponding bin width\n",
    "    # np.cumsum(): Compute the cumulative sum of the products\n",
    "    # cdf: The cumulative distribution function values\n",
    "    hist, bin_edges = np.histogram(precipitation_data, bins=bins_i_want, density=True)\n",
    "    cdf = np.cumsum(hist * np.diff(bin_edges))\n",
    "    \n",
    "    # Calculate 1 - CDF for CCDF\n",
    "    ccdf = 1 - cdf\n",
    "    \n",
    "    # Find the centre point of each bin for plotting\n",
    "    bin_centres = 0.5 * (bin_edges[1:] + bin_edges[:-1])\n",
    "    \n",
    "    return cdf, ccdf, bin_centres, bin_edges[1:]\n",
    "\n",
    "\n",
    "def plot_ccdf(axs,results,colors):\n",
    "    for num, result in enumerate(results):\n",
    "        axs.scatter(result[3], result[1] ,linewidth = 1,s=3, color = colors[num])\n",
    "        axs.plot(result[3],result[1] ,linewidth = 1, color = colors[num])\n",
    "        \n",
    "# Function to filter patches based on included colors\n",
    "def create_patches(included_colors):\n",
    "    return [mpatches.Patch(color=color, label=label) \n",
    "            for color, label in labels_and_colors if color in included_colors] \n",
    "\n",
    "def calculate_ccdf_wetvalues(precipitation_data, bins_i_want, filter_small_vals=False):\n",
    "    # Remove NaN values\n",
    "    precipitation_data = precipitation_data[~np.isnan(precipitation_data)]\n",
    "    # Keep only wet values\n",
    "    precipitation_data = precipitation_data[precipitation_data >= 0.1]\n",
    "\n",
    "    # Ensure last bin includes all values >= 35 mm\n",
    "    bins_i_want = np.append(bins_i_want, [np.inf])  # Add an \"infinity\" bin\n",
    "\n",
    "    # Compute histogram\n",
    "    hist, bin_edges = np.histogram(precipitation_data, bins=bins_i_want, density=True)\n",
    "\n",
    "    # Compute cumulative distribution function (CDF)\n",
    "    cdf = np.cumsum(hist * np.diff(bin_edges))\n",
    "\n",
    "    # Compute complementary cumulative distribution function (CCDF)\n",
    "    ccdf = 1 - cdf\n",
    "\n",
    "    # Find bin centers (for plotting)\n",
    "    bin_centres = 0.5 * (bin_edges[1:] + bin_edges[:-1])\n",
    "\n",
    "    # **Manually adjust the final bin center to be 35 mm**\n",
    "    bin_centres[-1] = 35  # Last bin center is now fixed at 35 mm\n",
    "\n",
    "    return cdf, ccdf, bin_centres, bin_edges[1:]\n",
    "\n",
    "\n",
    "labels_and_colors = [\n",
    "    ('black', 'CEH-GEAR (Hourly)'),\n",
    "    ('darkorange', 'UKCP18 (Hourly)'),\n",
    "    ('purple', 'UKCP18 (30 mins)'),\n",
    "    ('green', 'NIMROD (30 mins)')]"
   ]
  },
  {
   "cell_type": "code",
   "execution_count": 69,
   "id": "e9552d0d",
   "metadata": {},
   "outputs": [],
   "source": [
    "bins_i_want =  [0, 0.1, 2, 3, 7, 10,15, 21, 30]"
   ]
  },
  {
   "cell_type": "code",
   "execution_count": 74,
   "id": "3f866dfa",
   "metadata": {},
   "outputs": [
    {
     "name": "stderr",
     "output_type": "stream",
     "text": [
      "/nfs/a321/gy17m2a/anaconda_install/anaconda3/envs/ukcp18/lib/python3.7/site-packages/ipykernel_launcher.py:47: RuntimeWarning: invalid value encountered in multiply\n"
     ]
    }
   ],
   "source": [
    "ukcp18_hrly_results = calculate_ccdf_wetvalues(ukcp18_hrly_2001_2019,bins_i_want)\n",
    "ukcp18_30m_results = calculate_ccdf_wetvalues(ukcp18_30m_2001_2019, bins_i_want)\n",
    "NIMROD_results = calculate_ccdf_wetvalues(nimrod,bins_i_want)\n",
    "cehgear_results  = calculate_ccdf_wetvalues(ceh_gear, bins_i_want)"
   ]
  },
  {
   "cell_type": "code",
   "execution_count": 75,
   "id": "04a27639",
   "metadata": {},
   "outputs": [
    {
     "data": {
      "text/plain": [
       "Text(0.5, 0, 'Intensity (mm/hr))')"
      ]
     },
     "execution_count": 75,
     "metadata": {},
     "output_type": "execute_result"
    },
    {
     "data": {
      "image/png": "[encoded data removed]",
      "text/plain": [
       "<Figure size 576x288 with 1 Axes>"
      ]
     },
     "metadata": {
      "needs_background": "light"
     },
     "output_type": "display_data"
    }
   ],
   "source": [
    "fig, axs = plt.subplots(figsize=(8,4))\n",
    "\n",
    "results = [ukcp18_hrly_results, ukcp18_30m_results,\n",
    "           cehgear_results, NIMROD_results]\n",
    "colors = ['darkorange', 'purple',  'black',  'green']\n",
    "plot_ccdf(axs,results, colors)\n",
    "\n",
    "axs.set_yscale('log')\n",
    "axs.set_title('CCDF - 2.2km - highest bin 50')\n",
    "patches = create_patches(['black', 'purple', 'darkorange', 'green'])\n",
    "axs.legend(handles=patches);\n",
    "axs.set_xlabel('Intensity (mm/hr))')\n"
   ]
  }
 ],
 "metadata": {
  "kernelspec": {
   "display_name": "Python 3 (ipykernel)",
   "language": "python",
   "name": "python3"
  },
  "language_info": {
   "codemirror_mode": {
    "name": "ipython",
    "version": 3
   },
   "file_extension": ".py",
   "mimetype": "text/x-python",
   "name": "python",
   "nbconvert_exporter": "python",
   "pygments_lexer": "ipython3",
   "version": "3.7.13"
  }
 },
 "nbformat": 4,
 "nbformat_minor": 5
}
