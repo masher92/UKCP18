{
 "cells": [
  {
   "cell_type": "code",
   "execution_count": 1,
   "id": "01819516",
   "metadata": {},
   "outputs": [],
   "source": [
    "import numpy as np\n",
    "import os\n",
    "import sys\n",
    "import matplotlib.pyplot as plt\n",
    "import pandas as pd\n",
    "import iris\n",
    "import datetime\n",
    "\n",
    "import warnings\n",
    "warnings.simplefilter(action='ignore', category=FutureWarning)\n",
    "from warnings import simplefilter\n",
    "# ignore all future warnings\n",
    "simplefilter(action='ignore', category=FutureWarning)"
   ]
  },
  {
   "cell_type": "markdown",
   "id": "09277a34",
   "metadata": {},
   "source": [
    "### Define variables and set up environment"
   ]
  },
  {
   "cell_type": "code",
   "execution_count": 2,
   "id": "7f46c515",
   "metadata": {},
   "outputs": [],
   "source": [
    "root_fp = \"/nfs/a319/gy17m2a/PhD/\"\n",
    "os.chdir(root_fp)\n",
    "\n",
    "# Create path to files containing functions\n",
    "sys.path.insert(0, root_fp + 'Scripts/GlobalFunctions')\n",
    "from PDF_plotting_functions import *\n",
    "sys.path.insert(0, root_fp + 'Scripts/GlobalFunctions')\n",
    "from Spatial_geometry_functions import *\n",
    "\n",
    "# Define ensemble member numbers\n",
    "ems = ['01', '04', '05', '06', '07', '08', '09', '10', '11', '12', '13', '15']\n",
    "# Define time period\n",
    "timeperiod = '1980_2001'"
   ]
  },
  {
   "cell_type": "markdown",
   "id": "95840b07",
   "metadata": {},
   "source": [
    "### Choose the spatial datafiles needed"
   ]
  },
  {
   "cell_type": "code",
   "execution_count": 3,
   "id": "1508471a",
   "metadata": {},
   "outputs": [],
   "source": [
    "# Create region with Leeds at the centre\n",
    "leeds_at_centre_gdf = create_leeds_at_centre_outline({'init' :'epsg:27700'})\n",
    "# Create otuline of Leeds itself\n",
    "leeds_gdf = create_leeds_outline({'init' :'epsg:27700'})"
   ]
  },
  {
   "cell_type": "markdown",
   "id": "8869b584",
   "metadata": {},
   "source": [
    "################################################################\n",
    "### Load in model times, and define which times are within the period which overlaps between model and observations (1990-01-01 00:00:00 and 2000-11-30 23:00:00 )\n",
    "\n",
    "This is tricky to do as the model date uses a 360 day calendar, with each month having 30 days.  \n",
    "Consequently, February has 30 days and these dates cannot be recognised by the Datetime function and so it is not possible to trim the data using datetime dates.  \n",
    "Instead, find the index positions of the dates which are within this time period and assign these a value of '0' in the array  \n",
    "This array is then stacked on top of itself 1221 times (this is how many cells there are in the leeds-at-centre array).  \n",
    "This creates an array of the same length as the leeds-at-centre.npy array which contains the precip values.  \n",
    "These two arrays can then be joined as a dataframe, and all those rows with a '0' in the date column are then deleted to leave only the precip values within the overlapping time period "
   ]
  },
  {
   "cell_type": "code",
   "execution_count": 9,
   "id": "792dbe69",
   "metadata": {},
   "outputs": [],
   "source": [
    "model_times_2_2km_npy = np.load(f\"ProcessedData/TimeSeries/UKCP18_hourly/2.2km/{timeperiod}/leeds-at-centre/timestamps.npy\", allow_pickle=True)\n",
    "model_times_2_2km_regridded_npy = np.load(f\"ProcessedData/TimeSeries/UKCP18_hourly/2.2km_regridded_12km/{timeperiod}/timestamps.npy\", allow_pickle=True)\n",
    "model_times_12km_npy = np.load(f\"ProcessedData/TimeSeries/UKCP18_hourly/12km/{timeperiod}/timestamps.npy\", allow_pickle=True)"
   ]
  },
  {
   "cell_type": "markdown",
   "id": "2d01b479",
   "metadata": {},
   "source": [
    "#################################################################\n",
    "### Loop through ensemble members and load in data for whole of leeds and trim to contain only data from the overlapping time period, and the results do dictionaries\n",
    "################################################################"
   ]
  },
  {
   "cell_type": "code",
   "execution_count": 10,
   "id": "1f1b87da",
   "metadata": {},
   "outputs": [],
   "source": [
    "# # Create a dictionary to store results\n",
    "leeds_data_dict = {}\n",
    "leeds_data_dict_overlapping = {}"
   ]
  },
  {
   "cell_type": "code",
   "execution_count": null,
   "id": "d9c504b8",
   "metadata": {},
   "outputs": [],
   "source": [
    "# print(len(data_2_2km_npy))\n",
    "# print(len(model_times_2_2km_npy)* 1221)\n",
    "\n",
    "# print(len(data_12km_npy))\n",
    "# print(len(model_times_12km_npy)*36)\n",
    "\n",
    "# print(len(data_2_2km_reridded_npy))\n",
    "# print(len(model_times_2_2km_regridded_npy)*36)"
   ]
  },
  {
   "cell_type": "code",
   "execution_count": 11,
   "id": "44280bed",
   "metadata": {},
   "outputs": [],
   "source": [
    "test_date =  datetime.datetime(1990, 1, 1, 0, 0)"
   ]
  },
  {
   "cell_type": "code",
   "execution_count": null,
   "id": "e419b5db",
   "metadata": {},
   "outputs": [],
   "source": [
    "## Do I need to do an end data as well? Or is this just to trim obs? \n",
    "### '2000-11-30 23:00:00'"
   ]
  },
  {
   "cell_type": "code",
   "execution_count": 15,
   "id": "0c25c68b",
   "metadata": {},
   "outputs": [
    {
     "name": "stdout",
     "output_type": "stream",
     "text": [
      "2.2km\n",
      "01\n",
      "04\n",
      "05\n",
      "06\n",
      "07\n",
      "08\n",
      "09\n",
      "10\n",
      "11\n",
      "12\n",
      "13\n",
      "15\n",
      "12km\n",
      "01\n",
      "04\n",
      "05\n",
      "06\n",
      "07\n",
      "08\n",
      "09\n",
      "10\n",
      "11\n",
      "12\n",
      "13\n",
      "15\n",
      "2.2km_regridded_12km\n",
      "01\n",
      "04\n",
      "05\n",
      "06\n",
      "07\n",
      "08\n",
      "09\n",
      "10\n",
      "11\n",
      "12\n",
      "13\n",
      "15\n"
     ]
    }
   ],
   "source": [
    "# Loop through ensemble members\n",
    "for resolution in ['2.2km', '12km', '2.2km_regridded_12km']:\n",
    "    print(resolution)\n",
    "    \n",
    "    for em in ems:\n",
    "        print(em)\n",
    "        data_2_2km_npy = np.load(f\"ProcessedData/TimeSeries/UKCP18_hourly/2.2km/{timeperiod}/leeds-at-centre/{em}/leeds-at-centre_jja.npy\")\n",
    "        data_12km_npy = np.load(f\"ProcessedData/TimeSeries/UKCP18_hourly/12km/{timeperiod}/{em}/leeds-at-centre_jja.npy\")\n",
    "        data_2_2km_reridded_npy = np.load(f\"ProcessedData/TimeSeries/UKCP18_hourly/2.2km_regridded_12km/{timeperiod}/{em}/leeds-at-centre_jja.npy\")\n",
    "\n",
    "        # Repeat this 1221 times to be the same length as the precip data for whole of Leeds\n",
    "        # This is to do with the number of cells (so for 12km and 2.2km_regridded_12km it is 36)\n",
    "        if resolution == '2.2km':\n",
    "            leeds_data = pd.concat([pd.DataFrame({'times': model_times_2_2km_npy})]* 1221)\n",
    "            leeds_data['Precipitation (mm/hr)'] = data_2_2km_npy\n",
    "        elif resolution == '2.2km_regridded_12km':\n",
    "            leeds_data = pd.concat([pd.DataFrame({'times': model_times_2_2km_regridded_npy})]* 36)\n",
    "            leeds_data['Precipitation (mm/hr)'] = data_2_2km_reridded_npy\n",
    "        elif resolution == '12km':\n",
    "            leeds_data = pd.concat([pd.DataFrame({'times': model_times_12km_npy})]* 36)\n",
    "            leeds_data['Precipitation (mm/hr)'] = data_12km_npy\n",
    "        \n",
    "        # Add to dictionary\n",
    "        leeds_data_dict['EM{}_{}'.format(em, resolution)] = leeds_data\n",
    "\n",
    "        # Keep only data from overlapping times\n",
    "        leeds_data_overlapping = leeds_data.loc[(leeds_data['times'] > test_date)]\n",
    "\n",
    "        # Add data to dictionary\n",
    "        leeds_data_dict_overlapping['EM{}_{}'.format(em, resolution)] = leeds_data_overlapping\n",
    "\n",
    "        # delete variables to save memory\n",
    "        del leeds_data, leeds_data_overlapping"
   ]
  },
  {
   "cell_type": "markdown",
   "id": "4ffb881d",
   "metadata": {},
   "source": [
    "### Add dictionary keys containing data for all ensemble members, and delete data from individual ensemble members"
   ]
  },
  {
   "cell_type": "code",
   "execution_count": 16,
   "id": "e179dcde",
   "metadata": {},
   "outputs": [],
   "source": [
    "# Create a dataframe containing the data from across all ensemble members\n",
    "for dict in [leeds_data_dict, leeds_data_dict_overlapping]:\n",
    "    for resolution in ['2.2km', '12km', '2.2km_regridded_12km']:\n",
    "        frames = [dict['EM01_{}'.format(resolution)], dict['EM04_{}'.format(resolution)], dict['EM05_{}'.format(resolution)], dict['EM06_{}'.format(resolution)],\n",
    "                  dict['EM07_{}'.format(resolution)], dict['EM08_{}'.format(resolution)], dict['EM09_{}'.format(resolution)], dict['EM10_{}'.format(resolution)]\n",
    "                  , dict['EM11_{}'.format(resolution)], dict['EM12_{}'.format(resolution)], dict['EM13_{}'.format(resolution)], dict['EM15_{}'.format(resolution)]]\n",
    "\n",
    "        # Add the concat of all these frames to the dictionary\n",
    "        dict['Model {}'.format(resolution)] = pd.concat(frames)\n",
    "\n",
    "        # Delete the individual ensemble member dataframes\n",
    "        keys_to_remove =(\"EM01_{}\".format(resolution), \"EM04_{}\".format(resolution), \"EM05_{}\".format(resolution), \"EM06_{}\".format(resolution), \"EM07_{}\".format(resolution), \"EM08_{}\".format(resolution),\n",
    "                     \"EM09_{}\".format(resolution), \"EM10_{}\".format(resolution), \"EM11_{}\".format(resolution), \"EM12_{}\".format(resolution), \"EM13_{}\".format(resolution), \"EM15_{}\".format(resolution))\n",
    "        for key in keys_to_remove:\n",
    "            if key in dict:\n",
    "                del dict[key]"
   ]
  },
  {
   "cell_type": "markdown",
   "id": "47031ea1",
   "metadata": {},
   "source": [
    "################################################################\n",
    "################################################################\n",
    "### Add both native and regridded observations data to dictionary\n",
    "################################################################\n",
    "################################################################"
   ]
  },
  {
   "cell_type": "code",
   "execution_count": 18,
   "id": "f4f11dff",
   "metadata": {},
   "outputs": [],
   "source": [
    "precip =np.load(\"ProcessedData/TimeSeries/CEH-GEAR/1km/leeds-at-centre_jja.npy\", allow_pickle=True)\n",
    "times = np.load(\"ProcessedData/TimeSeries/CEH-GEAR/1km/timestamps.npy\", allow_pickle=True)\n",
    "\n",
    "Obs_1km = pd.concat([pd.DataFrame({'times': times})]* 6059)\n",
    "Obs_1km['Precipitation (mm/hr)'] = precip\n",
    "leeds_data_dict['Observations_1km']= Obs_1km"
   ]
  },
  {
   "cell_type": "code",
   "execution_count": 20,
   "id": "839db748",
   "metadata": {},
   "outputs": [],
   "source": [
    "precip =np.load(\"ProcessedData/TimeSeries/CEH-GEAR/2.2km/NearestNeighbour/leeds-at-centre_jja.npy\", allow_pickle=True)\n",
    "times = np.load(\"ProcessedData/TimeSeries/CEH-GEAR/2.2km/NearestNeighbour/timestamps.npy\", allow_pickle=True)\n",
    "\n",
    "Obs_2_2km = pd.concat([pd.DataFrame({'times': times})]* 1221)\n",
    "Obs_2_2km['Precipitation (mm/hr)'] = precip\n",
    "leeds_data_dict['Observations Regridded_2.2km']= Obs_2_2km"
   ]
  },
  {
   "cell_type": "code",
   "execution_count": null,
   "id": "63da4c37",
   "metadata": {},
   "outputs": [],
   "source": [
    "# precip =np.load(\"ProcessedData/TimeSeries/CEH-GEAR/12km/NearestNeighbour/leeds-at-centre_jja.npy\", allow_pickle=True)\n",
    "# times = np.load(\"ProcessedData/TimeSeries/CEH-GEAR/12km/timestamps.npy\", allow_pickle=True)\n",
    "\n",
    "# Obs_12km = pd.concat([pd.DataFrame({'times': times})]* 36)\n",
    "# Obs_12km['Precipitation (mm/hr)'] = precip\n",
    "# leeds_data_dict['Observations Regridded_12km']= Obs_12km"
   ]
  },
  {
   "cell_type": "code",
   "execution_count": 21,
   "id": "89d303b2",
   "metadata": {},
   "outputs": [],
   "source": [
    "####### Cut to overlapping period\n",
    "leeds_data_dict_overlapping['Observations'] =  leeds_data_dict['Observations_1km'][(leeds_data_dict['Observations_1km']['times'] >= '1990-01-01 00:00:00')\n",
    "                                                & (leeds_data_dict['Observations_1km']['times']<= '2000-11-30 23:00:00')]\n",
    "# leeds_data_dict_overlapping['Observations Regridded_12km'] = leeds_data_dict['Observations Regridded_12km'][(leeds_data_dict['Observations Regridded_12km']['times'] >= '1990-01-01 00:00:00')\n",
    "#                                                 & (leeds_data_dict['Observations Regridded_12km']['times'] <= '2000-11-30 23:00:00 ')]\n",
    "leeds_data_dict_overlapping['Observations Regridded_2.2km'] =  leeds_data_dict['Observations Regridded_2.2km'][(leeds_data_dict['Observations Regridded_2.2km']['times'] >= '1990-01-01 00:00:00')\n",
    "                                                & (leeds_data_dict['Observations Regridded_2.2km']['times'] <= '2000-11-30 23:00:00 ')]"
   ]
  },
  {
   "cell_type": "markdown",
   "id": "2d02012a",
   "metadata": {},
   "source": [
    "##############################################################################\n",
    "##############################################################################\n",
    "# Plotting\n",
    "##############################################################################\n",
    "##############################################################################"
   ]
  },
  {
   "cell_type": "code",
   "execution_count": 22,
   "id": "7808be93",
   "metadata": {},
   "outputs": [],
   "source": [
    "x_axis = 'linear'\n",
    "y_axis = 'log'\n",
    "bin_nos = 60 #(10 gives 12, 30 gives 29, 45 gives 41 bins)\n",
    "xlim = 250\n",
    "bins_if_log_spaced= bin_nos"
   ]
  },
  {
   "cell_type": "markdown",
   "id": "38f7ec87",
   "metadata": {},
   "source": [
    "### All resolutions\n",
    "#############################################################"
   ]
  },
  {
   "cell_type": "code",
   "execution_count": null,
   "id": "3dd32247",
   "metadata": {},
   "outputs": [],
   "source": [
    "# leeds_data_dict_overlapping['Model 2.2km'].to_csv(f\"ProcessedData/TimeSeries/UKCP18/2.2km/Baseline/AllEms_jja.csv\")\n",
    "# leeds_data_dict_overlapping['Model 12km'].to_csv(f\"ProcessedData/TimeSeries/UKCP18/12km/Baseline/AllEms_jja.csv\")\n",
    "# leeds_data_dict_overlapping['Model 2.2km_regridded_12km'].to_csv(f\"ProcessedData/TimeSeries/UKCP18/2.2km_regridded_12km/Baseline/AllEms_jja.csv\")"
   ]
  },
  {
   "cell_type": "code",
   "execution_count": 23,
   "id": "fb0a5e52",
   "metadata": {},
   "outputs": [],
   "source": [
    "def log_discrete_histogram_lesslegend(ax, results_dict, cols_dict, wet_values, small_values_only, bin_nos, precip_variable, patches, del_zeroes,\n",
    "                                      xlim, x_axis_scaling = 'linear', y_axis_scaling = 'log'):\n",
    "    \n",
    "    # Create bin edges based on data in all of the dataframes, i.e. use the same bin edges for all dataframes\n",
    "    min_value = find_min_max_dict_values(results_dict, precip_variable)[0]\n",
    "    max_value = find_min_max_dict_values(results_dict, precip_variable)[1]\n",
    "    \n",
    "    # Maybe min value shoudl be set at 0.05 to make the spacings at the right place\n",
    "    min_value = 0.05\n",
    "    discretisation=0.2\n",
    "    bins_if_log_spaced = bin_nos\n",
    "    \n",
    "    # Find edges of bins \n",
    "    bin_edges_planned =log_discrete_bins(min_value,max_value,bins_if_log_spaced,discretisation)\n",
    "    #print (\"Based on \" + str(bins_if_log_spaced) + \" log spaced bins, \" + str(len(bin_edges)) + \" bins created with \" + str(min_value) + str (max_value))\n",
    "    print(bin_edges_planned)\n",
    "    # dataframe to store numbers in each bin\n",
    "    numbers_in_each_bin = pd.DataFrame()\n",
    "    \n",
    "    \n",
    "    for key, df in results_dict.items():\n",
    "        #print(np.nanmin(df['Precipitation (mm/hr)']))\n",
    "        if wet_values == True:\n",
    "            df = df[df['Precipitation (mm/hr)']>0.1]\n",
    "        if small_values_only == True:\n",
    "            df = df[df['Precipitation (mm/hr)']<1.5]\n",
    "        #print(np.nanmin(df['Precipitation (mm/hr)']))\n",
    "        #print(key)\n",
    "        # Define the colour to use for this entry\n",
    "        # Create a patch for this colour to be used in creating the legend\n",
    "        # And add to list of patches for use in legend\n",
    "        \n",
    "        # Find the density in each biin  \n",
    "        freqs, bin_edges = np.histogram(df[precip_variable], bins= bin_edges_planned, density=True)\n",
    "        # Find the numbers of precipitation measurements in each bin  \n",
    "        freqs_numbers, bin_edges = np.histogram(df[precip_variable], bins= bin_edges_planned, density=False)\n",
    "        \n",
    "        n_bins = str(len(bin_edges))\n",
    "        \n",
    "        # Find the centre point of each bin for plotting\n",
    "        bin_centres =  0.5*(bin_edges[1:] + bin_edges[:-1])    \n",
    "\n",
    "        if len(numbers_in_each_bin) ==0:\n",
    "            numbers_in_each_bin['BinCentres'] = bin_centres\n",
    "        numbers_in_each_bin[key] = freqs_numbers\n",
    "        \n",
    "        # Delete those with a value of 0\n",
    "        if del_zeroes == True:\n",
    "            indexes = np.where(freqs == 0)[0]\n",
    "            #freqs = np.delete(freqs, indexes)\n",
    "            #bin_centres= np.delete(bin_centres,indexes) \n",
    "            for i in range(0, len(freqs)):\n",
    "                if i in indexes:\n",
    "                    freqs[i] = np.nan\n",
    "\n",
    "        # Draw the plot\n",
    "        ax.scatter(bin_centres, freqs ,linewidth = 1,s=3, color = cols_dict[key])\n",
    "        ax.plot(bin_centres, freqs ,linewidth = 1, color = cols_dict[key])\n",
    "\n",
    "    ax.legend(handles=patches)\n",
    "    ax.set_xlabel(precip_variable)\n",
    "    ax.set_ylabel('Probability density')\n",
    "    if xlim != False:\n",
    "        ax.set_xlim(0,xlim)\n",
    "    #plt.title(n_bins + \" bins\")\n",
    "    ax.set_xscale(x_axis_scaling)\n",
    "    ax.set_yscale(y_axis_scaling)\n",
    "    #plt.show()\n",
    "    #formatter = FormatStrFormatter('%.3f')\n",
    "    #ax.yaxis.set_major_formatter(formatter)\n",
    "        \n",
    "    # Remove scientific notation from y-axis\n",
    "    # for axis in [ax.yaxis]:\n",
    "    #     formatter = ScalarFormatter()\n",
    "    #     formatter.set_scientific(False)\n",
    "    #     ax.yaxis.set_major_formatter(formatter)\n",
    "    \n",
    "    return numbers_in_each_bin"
   ]
  },
  {
   "cell_type": "code",
   "execution_count": 24,
   "id": "ed089625",
   "metadata": {},
   "outputs": [
    {
     "name": "stdout",
     "output_type": "stream",
     "text": [
      "dict_keys(['Model 2.2km', 'Model 12km', 'Model 2.2km_regridded_12km', 'Observations_1km', 'Observations Regridded_2.2km']) \n",
      "[0.05, 0.25, 0.45, 0.65, 0.8500000000000001, 1.05, 1.25, 1.45, 1.65, 1.8499999999999999, 2.05, 2.25, 2.45, 2.6500000000000004, 2.8500000000000005, 3.2500000000000004, 3.6500000000000004, 4.050000000000001, 4.450000000000001, 5.050000000000001, 5.65, 6.45, 7.25, 8.25, 9.25, 10.45, 11.85, 13.45, 15.25, 17.25, 19.65, 22.45, 25.65, 29.25, 33.25, 37.85, 43.25, 49.25, 56.25, 64.25, 73.45, 83.85000000000001, 95.85000000000001, 109.45000000000002, 125.05000000000001, 142.85000000000002, 163.25000000000003]\n"
     ]
    },
    {
     "ename": "KeyError",
     "evalue": "'Model 12km'",
     "output_type": "error",
     "traceback": [
      "\u001b[0;31m---------------------------------------------------------------------------\u001b[0m",
      "\u001b[0;31mKeyError\u001b[0m                                  Traceback (most recent call last)",
      "Cell \u001b[0;32mIn [24], line 13\u001b[0m\n\u001b[1;32m     11\u001b[0m     fig, ax \u001b[38;5;241m=\u001b[39m plt\u001b[38;5;241m.\u001b[39msubplots(ncols\u001b[38;5;241m=\u001b[39m\u001b[38;5;241m2\u001b[39m, figsize\u001b[38;5;241m=\u001b[39m(\u001b[38;5;241m12\u001b[39m,\u001b[38;5;241m5\u001b[39m))\n\u001b[1;32m     12\u001b[0m     \u001b[38;5;66;03m# Create plot\u001b[39;00m\n\u001b[0;32m---> 13\u001b[0m     \u001b[43mlog_discrete_histogram_lesslegend\u001b[49m\u001b[43m(\u001b[49m\u001b[43max\u001b[49m\u001b[43m[\u001b[49m\u001b[38;5;241;43m0\u001b[39;49m\u001b[43m]\u001b[49m\u001b[43m,\u001b[49m\u001b[43m \u001b[49m\u001b[38;5;28;43mdict\u001b[39;49m\u001b[43m,\u001b[49m\u001b[43m \u001b[49m\u001b[43mcols_dict\u001b[49m\u001b[43m,\u001b[49m\u001b[43m \u001b[49m\u001b[38;5;28;43;01mFalse\u001b[39;49;00m\u001b[43m,\u001b[49m\u001b[43m \u001b[49m\u001b[38;5;28;43;01mTrue\u001b[39;49;00m\u001b[43m,\u001b[49m\u001b[43m \u001b[49m\u001b[43mbin_nos\u001b[49m\u001b[43m,\u001b[49m\u001b[43m \u001b[49m\u001b[38;5;124;43m\"\u001b[39;49m\u001b[38;5;124;43mPrecipitation (mm/hr)\u001b[39;49m\u001b[38;5;124;43m\"\u001b[39;49m\u001b[43m,\u001b[49m\n\u001b[1;32m     14\u001b[0m \u001b[43m                                      \u001b[49m\u001b[43mpatches\u001b[49m\u001b[43m,\u001b[49m\u001b[43m \u001b[49m\u001b[38;5;28;43;01mTrue\u001b[39;49;00m\u001b[43m,\u001b[49m\u001b[43m \u001b[49m\u001b[38;5;241;43m3\u001b[39;49m\u001b[43m,\u001b[49m\u001b[43m \u001b[49m\u001b[43mx_axis\u001b[49m\u001b[43m,\u001b[49m\u001b[43m \u001b[49m\u001b[43my_axis\u001b[49m\u001b[43m)\u001b[49m\u001b[38;5;66;03m#\u001b[39;00m\n\u001b[1;32m     15\u001b[0m     log_discrete_histogram_lesslegend(ax[\u001b[38;5;241m1\u001b[39m], \u001b[38;5;28mdict\u001b[39m, cols_dict, \u001b[38;5;28;01mFalse\u001b[39;00m, \u001b[38;5;28;01mFalse\u001b[39;00m, bin_nos, \u001b[38;5;124m\"\u001b[39m\u001b[38;5;124mPrecipitation (mm/hr)\u001b[39m\u001b[38;5;124m\"\u001b[39m,\n\u001b[1;32m     16\u001b[0m                                       patches, \u001b[38;5;28;01mTrue\u001b[39;00m, \u001b[38;5;241m120\u001b[39m, x_axis, y_axis)\n\u001b[1;32m     17\u001b[0m     \u001b[38;5;66;03m#Save\u001b[39;00m\n\u001b[1;32m     18\u001b[0m \u001b[38;5;66;03m#     plt.savefig(\"Scripts/UKCP18/PrecipitationPDFs/leeds-at-centre/Figs/RCMvsCPMvsObs/All{}_{}.png\".format(overlapping_status, jja_status))\u001b[39;00m\n",
      "Cell \u001b[0;32mIn [23], line 57\u001b[0m, in \u001b[0;36mlog_discrete_histogram_lesslegend\u001b[0;34m(ax, results_dict, cols_dict, wet_values, small_values_only, bin_nos, precip_variable, patches, del_zeroes, xlim, x_axis_scaling, y_axis_scaling)\u001b[0m\n\u001b[1;32m     54\u001b[0m                 freqs[i] \u001b[38;5;241m=\u001b[39m np\u001b[38;5;241m.\u001b[39mnan\n\u001b[1;32m     56\u001b[0m     \u001b[38;5;66;03m# Draw the plot\u001b[39;00m\n\u001b[0;32m---> 57\u001b[0m     ax\u001b[38;5;241m.\u001b[39mscatter(bin_centres, freqs ,linewidth \u001b[38;5;241m=\u001b[39m \u001b[38;5;241m1\u001b[39m,s\u001b[38;5;241m=\u001b[39m\u001b[38;5;241m3\u001b[39m, color \u001b[38;5;241m=\u001b[39m \u001b[43mcols_dict\u001b[49m\u001b[43m[\u001b[49m\u001b[43mkey\u001b[49m\u001b[43m]\u001b[49m)\n\u001b[1;32m     58\u001b[0m     ax\u001b[38;5;241m.\u001b[39mplot(bin_centres, freqs ,linewidth \u001b[38;5;241m=\u001b[39m \u001b[38;5;241m1\u001b[39m, color \u001b[38;5;241m=\u001b[39m cols_dict[key])\n\u001b[1;32m     60\u001b[0m ax\u001b[38;5;241m.\u001b[39mlegend(handles\u001b[38;5;241m=\u001b[39mpatches)\n",
      "\u001b[0;31mKeyError\u001b[0m: 'Model 12km'"
     ]
    },
    {
     "data": {
      "image/png": "[encoded data removed]",
      "text/plain": [
       "<Figure size 1200x500 with 2 Axes>"
      ]
     },
     "metadata": {},
     "output_type": "display_data"
    }
   ],
   "source": [
    "for dict, overlapping_status in zip([leeds_data_dict], [\"\"]):\n",
    "    print(dict.keys(), overlapping_status)\n",
    "    cols_dict = {'Observations Regridded_2.2km' : 'black',\n",
    "                  'Model 2.2km' : 'orange'}\n",
    "    # Create patches\n",
    "    patches= []\n",
    "    for key, val in cols_dict.items():\n",
    "        patch = mpatches.Patch(color= val, label= key)\n",
    "        patches.append(patch)\n",
    "        \n",
    "    fig, ax = plt.subplots(ncols=2, figsize=(12,5))\n",
    "    # Create plot\n",
    "    log_discrete_histogram_lesslegend(ax[0], dict, cols_dict, False, True, bin_nos, \"Precipitation (mm/hr)\",\n",
    "                                      patches, True, 3, x_axis, y_axis)#\n",
    "    log_discrete_histogram_lesslegend(ax[1], dict, cols_dict, False, False, bin_nos, \"Precipitation (mm/hr)\",\n",
    "                                      patches, True, 120, x_axis, y_axis)\n",
    "    #Save\n",
    "#     plt.savefig(\"Scripts/UKCP18/PrecipitationPDFs/leeds-at-centre/Figs/RCMvsCPMvsObs/All{}_{}.png\".format(overlapping_status, jja_status))"
   ]
  },
  {
   "cell_type": "code",
   "execution_count": 116,
   "id": "000d6e10",
   "metadata": {},
   "outputs": [
    {
     "name": "stdout",
     "output_type": "stream",
     "text": [
      "dict_keys(['Model 2.2km', 'Observations Regridded_2.2km']) \n"
     ]
    },
    {
     "data": {
      "image/png": "[encoded data removed]",
      "text/plain": [
       "<Figure size 1200x500 with 2 Axes>"
      ]
     },
     "metadata": {},
     "output_type": "display_data"
    }
   ],
   "source": [
    "for dict, overlapping_status in zip([leeds_data_dict], [\"\"]):\n",
    "    print(dict.keys(), overlapping_status)\n",
    "    cols_dict = {'Observations Regridded_2.2km' : 'black',\n",
    "                  'Model 2.2km' : 'orange'}\n",
    "    # Create patches\n",
    "    patches= []\n",
    "    for key, val in cols_dict.items():\n",
    "        patch = mpatches.Patch(color= val, label= key)\n",
    "        patches.append(patch)\n",
    "        \n",
    "    fig, ax = plt.subplots(ncols=2, figsize=(12,5))\n",
    "    # Create plot\n",
    "    log_discrete_histogram_lesslegend(ax[0], dict, cols_dict, False, True, bin_nos, \"Precipitation (mm/hr)\",\n",
    "                                      patches, True, 3, x_axis, y_axis)#\n",
    "    log_discrete_histogram_lesslegend(ax[1], dict, cols_dict, False, False, bin_nos, \"Precipitation (mm/hr)\",\n",
    "                                      patches, True, 120, x_axis, y_axis)\n",
    "    #Save\n",
    "#     plt.savefig(\"Scripts/UKCP18/PrecipitationPDFs/leeds-at-centre/Figs/RCMvsCPMvsObs/All{}_{}.png\".format(overlapping_status, jja_status))"
   ]
  },
  {
   "cell_type": "code",
   "execution_count": 130,
   "id": "9ae77c29",
   "metadata": {},
   "outputs": [],
   "source": [
    "# for dict, overlapping_status in zip([leeds_data_dict, leeds_data_dict_overlapping], [\"\",\"_Overlapping\"]):\n",
    "#     print(dict.keys(), overlapping_status)\n",
    "#     cols_dict = {'Observations' : 'darkgoldenrod',\n",
    "#                   'Observations Regridded_2.2km' : 'tomato',\n",
    "#                   'Observations Regridded_12km' : 'darkred',\n",
    "#                   'Model 12km' : 'navy',\n",
    "#                   'Model 2.2km' : 'slateblue',\n",
    "#                   'Model 2.2km_regridded_12km': 'teal'}\n",
    "#     # Create patches\n",
    "#     patches= []\n",
    "#     for key, val in cols_dict.items():\n",
    "#         patch = mpatches.Patch(color= val, label= key)\n",
    "#         patches.append(patch)\n",
    "        \n",
    "#     fig, ax = plt.subplots(ncols=2)\n",
    "#     # Create plot\n",
    "#     log_discrete_histogram_lesslegend(ax[0], dict, cols_dict, True, bin_nos, \"Precipitation (mm/hr)\",\n",
    "#                                       patches, True, xlim, x_axis, y_axis)#\n",
    "#     log_discrete_histogram_lesslegend(ax[1], dict, cols_dict, False, bin_nos, \"Precipitation (mm/hr)\",\n",
    "#                                       patches, True, xlim, x_axis, y_axis)\n",
    "#     #Save\n",
    "# #     plt.savefig(\"Scripts/UKCP18/PrecipitationPDFs/leeds-at-centre/Figs/RCMvsCPMvsObs/All{}_{}.png\".format(overlapping_status, jja_status))"
   ]
  }
 ],
 "metadata": {
  "kernelspec": {
   "display_name": "Python 3 (ipykernel)",
   "language": "python",
   "name": "python3"
  },
  "language_info": {
   "codemirror_mode": {
    "name": "ipython",
    "version": 3
   },
   "file_extension": ".py",
   "mimetype": "text/x-python",
   "name": "python",
   "nbconvert_exporter": "python",
   "pygments_lexer": "ipython3",
   "version": "3.7.13"
  }
 },
 "nbformat": 4,
 "nbformat_minor": 5
}
