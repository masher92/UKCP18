{
 "cells": [
  {
   "cell_type": "markdown",
   "id": "0be91f67",
   "metadata": {},
   "source": [
    "### Set up environment"
   ]
  },
  {
   "cell_type": "code",
   "execution_count": 1,
   "id": "c5ec6e4b",
   "metadata": {},
   "outputs": [],
   "source": [
    "import numpy as np\n",
    "import matplotlib.pyplot as plt\n",
    "import matplotlib.patches as mpatches"
   ]
  },
  {
   "cell_type": "code",
   "execution_count": 16,
   "id": "d41215ae",
   "metadata": {},
   "outputs": [],
   "source": [
    "def calculate_ccdf_wetvalues(precipitation_data, bins_i_want, filter_small_vals=False):\n",
    "    # Remove NAN values\n",
    "    precipitation_data = precipitation_data[~np.isnan(precipitation_data)]\n",
    "    # Keep only wet values \n",
    "    precipitation_data = precipitation_data[precipitation_data >= 0.1]\n",
    "\n",
    "    # Compute the cumulative distribution function (CDF) using the histogram\n",
    "    # np.diff(bin_edges): Calculate the differences between bin edges to get bin widths\n",
    "    # hist * np.diff(bin_edges): Multiply each histogram value by its corresponding bin width\n",
    "    # np.cumsum(): Compute the cumulative sum of the products\n",
    "    # cdf: The cumulative distribution function values\n",
    "    hist, bin_edges = np.histogram(precipitation_data, bins=bins_i_want, density=True)\n",
    "    cdf = np.cumsum(hist * np.diff(bin_edges))\n",
    "    \n",
    "    # Calculate 1 - CDF for CCDF\n",
    "    ccdf = 1 - cdf\n",
    "    \n",
    "    # Find the centre point of each bin for plotting\n",
    "    bin_centres = 0.5 * (bin_edges[1:] + bin_edges[:-1])\n",
    "    \n",
    "    return cdf, ccdf, bin_centres, bin_edges[1:]\n",
    "\n",
    "# Function to calculate PDF from a single file\n",
    "def calculate_pdf_wetvalues (precipitation_data,bins_i_want, filter_small_vals=False ):\n",
    "    # Remove NAN values\n",
    "    precipitation_data = precipitation_data[~np.isnan(precipitation_data)]\n",
    "    # Keep only wet values \n",
    "    precipitation_data = precipitation_data[precipitation_data >= 0.1]\n",
    "    \n",
    "    freqs, bin_edges = np.histogram(precipitation_data, bins=bins_i_want, density=True)\n",
    "    # I think this was just for knowing how many value was in each bin\n",
    "    # How was I using that in log_discrete_histogram_less_legend???\n",
    "    # freqs_numbers, bin_edges = np.histogram(precipitation_data, bins= bins, density=False)\n",
    "    \n",
    "    # Find the centre point of each bin for plotting\n",
    "    bin_centres =  0.5*(bin_edges[1:] + bin_edges[:-1])    \n",
    "    \n",
    "    return freqs, bin_centres\n",
    "\n",
    "def plot_ccdf(axs,results,colors):\n",
    "    for num, result in enumerate(results):\n",
    "        axs.scatter(result[3], result[1] ,linewidth = 1,s=3, color = colors[num])\n",
    "        axs.plot(result[3],result[1] ,linewidth = 1, color = colors[num])\n",
    "        \n",
    "# Function to filter patches based on included colors\n",
    "def create_patches(included_colors):\n",
    "    return [mpatches.Patch(color=color, label=label) \n",
    "            for color, label in labels_and_colors if color in included_colors]     \n",
    "\n",
    "labels_and_colors = [\n",
    "    ('black', 'CEH-GEAR'),\n",
    "    ('darkorange', 'UKCP18 (hourly)'),\n",
    "    ('purple', 'UKCP18 (30 mins)'),\n",
    "    ('green', 'NIMROD (30 mins)')]"
   ]
  },
  {
   "cell_type": "markdown",
   "id": "9912d883",
   "metadata": {},
   "source": [
    "### Get model data for overlapping and not overlapping time periods"
   ]
  },
  {
   "cell_type": "code",
   "execution_count": 35,
   "id": "daba1db2",
   "metadata": {},
   "outputs": [],
   "source": [
    "# ukcp18_hrly_2001_2014_jja_GB_2km = np.load('/nfs/a319/gy17m2a/PhD/ProcessedData/PDF_Plotting/UKCP18_hourly/ukcp18_hrly_2001_2014_2.2km_bng_masked_GB_jja.npy')\n",
    "ukcp18_hrly_2001_2019_jja_GB_2km = np.load('/nfs/a319/gy17m2a/PhD/ProcessedData/PDF_Plotting/UKCP18_hourly/ukcp18_hrly_2001_2019_2.2km_bng_regridded_12km_masked_GB_jja.npy')\n",
    "# ukcp18_hrly_2006_2019_jja_GB_2km = np.load('/nfs/a319/gy17m2a/PhD/ProcessedData/PDF_Plotting/UKCP18_hourly/ukcp18_hrly_2006_2019_2.2km_bng_regridded_12km_masked_GB_jja.npy')"
   ]
  },
  {
   "cell_type": "code",
   "execution_count": 7,
   "id": "eeaf5677",
   "metadata": {},
   "outputs": [],
   "source": [
    "resolution = '2.2km_regridded'\n",
    "cehgear_1990_2014_GB_jja_2km = np.load(f'/nfs/a319/gy17m2a/PhD/ProcessedData/PDF_Plotting/CEH-GEAR/cehgear_1990-2014_{resolution}_GB_jja.npy')\n",
    "# cehgear_2001_2014_GB_jja_2km = np.load(f'/nfs/a319/gy17m2a/PhD/ProcessedData/PDF_Plotting/CEH-GEAR/cehgear_2001-2014_{resolution}_GB_jja.npy')"
   ]
  },
  {
   "cell_type": "code",
   "execution_count": null,
   "id": "1057798c",
   "metadata": {},
   "outputs": [],
   "source": [
    "resolution = '2.2km_bng_masked'\n",
    "# ukcp18_30m_2001_2014_jja_GB_2km = np.load(f'/nfs/a319/gy17m2a/PhD/ProcessedData/PDF_Plotting/UKCP18_30mins/ukcp18_30m_2001_2014_{resolution}_jja_GB.npy')\n",
    "ukcp18_30m_2001_2019_jja_GB_2km = np.load(f'/nfs/a319/gy17m2a/PhD/ProcessedData/PDF_Plotting/UKCP18_30mins/ukcp18_30m_2001_2019_{resolution}_jja_GB.npy')\n",
    "# ukcp18_30m_2006_2019_jja_GB_2km = np.load(f'/nfs/a319/gy17m2a/PhD/ProcessedData/PDF_Plotting/UKCP18_30mins/ukcp18_30m_2006_2019_{resolution}_jja_GB.npy')"
   ]
  },
  {
   "cell_type": "code",
   "execution_count": 9,
   "id": "ef7b78a2",
   "metadata": {},
   "outputs": [],
   "source": [
    "resolution = \"NIMROD_regridded_2.2km\"\n",
    "NIMROD_2006_2019_jja_GB_2km = np.load(f'/nfs/a319/gy17m2a/PhD/ProcessedData/PDF_Plotting/NIMROD/NIMROD_2006_2019_{resolution}_jja_GB.npy')"
   ]
  },
  {
   "cell_type": "markdown",
   "id": "46e0417f",
   "metadata": {},
   "source": [
    "## Calculate CDFs and CCDFs"
   ]
  },
  {
   "cell_type": "code",
   "execution_count": 10,
   "id": "315f599d",
   "metadata": {},
   "outputs": [],
   "source": [
    "bins_i_want =  [0, 0.1, 2, 3, 7, 10,15, 21, 35,50]\n",
    "low_bins_i_want = [0, 0.1,  0.95, 1.05, 1.15,2]"
   ]
  },
  {
   "cell_type": "markdown",
   "id": "2baf589d",
   "metadata": {},
   "source": [
    "## UKCP18 hrly vs UKCP18 30 mins vs NIMROD : 2006-2019"
   ]
  },
  {
   "cell_type": "code",
   "execution_count": 10,
   "id": "762c7f7f",
   "metadata": {},
   "outputs": [],
   "source": [
    "# ukcp18_hrly_cdf, ukcp18_hrly_ccdf, ukcp18_hrly_bin_centres, ukcp18_hrly_bin_edges = calculate_ccdf_wetvalues(ukcp18_hrly_2006_2019_jja_GB,bins_i_want)\n",
    "# ukcp18_30mins_cdf, ukcp18_30mins_ccdf, ukcp18_30mins_bin_centres, ukcp18_30mins_bin_edges = calculate_ccdf_wetvalues(ukcp18_30m_2006_2019_jja_GB, bins_i_want)\n",
    "# nimrod_cdf, nimrod_ccdf, nimrod_bin_centres, nimrod_bin_edges = calculate_ccdf_wetvalues(NIMROD_2006_2019_jja_GB,bins_i_want)"
   ]
  },
  {
   "cell_type": "code",
   "execution_count": 11,
   "id": "8a8b8f08",
   "metadata": {},
   "outputs": [],
   "source": [
    "# fig, axs = plt.subplots(nrows=1, ncols=2, figsize=(16,4))\n",
    "# axs[0].scatter(ukcp18_hrly_bin_edges, ukcp18_hrly_cdf ,linewidth = 1,s=3, color = 'darkorange')\n",
    "# axs[0].plot(ukcp18_hrly_bin_edges,ukcp18_hrly_cdf ,linewidth = 1, color = 'darkorange')\n",
    "# axs[0].scatter(ukcp18_30mins_bin_edges, ukcp18_30mins_cdf ,linewidth = 1,s=3, color = 'purple')\n",
    "# axs[0].plot(ukcp18_30mins_bin_edges,ukcp18_30mins_cdf ,linewidth = 1, color = 'purple')\n",
    "# axs[0].scatter(nimrod_bin_edges, nimrod_cdf ,linewidth = 1,s=3, color = 'green')\n",
    "# axs[0].plot(nimrod_bin_edges, nimrod_cdf ,linewidth = 1, color = 'green')\n",
    "# axs[0].set_title('CDF')\n",
    "\n",
    "# axs[1].scatter(ukcp18_hrly_bin_edges, ukcp18_hrly_ccdf ,linewidth = 1,s=3, color = 'darkorange')\n",
    "# axs[1].plot(ukcp18_hrly_bin_edges,ukcp18_hrly_ccdf ,linewidth = 1, color = 'darkorange')\n",
    "# axs[1].scatter(ukcp18_30mins_bin_edges, ukcp18_30mins_ccdf ,linewidth = 1,s=3, color = 'purple')\n",
    "# axs[1].plot(ukcp18_30mins_bin_edges,ukcp18_30mins_ccdf ,linewidth = 1, color = 'purple')\n",
    "# axs[1].scatter(nimrod_bin_edges, nimrod_ccdf ,linewidth = 1,s=3, color = 'green')\n",
    "# axs[1].plot(nimrod_bin_edges, nimrod_ccdf ,linewidth = 1, color = 'green')\n",
    "# axs[1].set_yscale('log')\n",
    "# # axs[1].set_xlim(0,80)\n",
    "# # axs[1].set_ylim(1e-7,1)\n",
    "# axs[1].set_title('CCDF')\n",
    "\n",
    "# axs[1].legend(handles=patches);"
   ]
  },
  {
   "cell_type": "markdown",
   "id": "8b83094d",
   "metadata": {},
   "source": [
    "## UKCP18 hrly vs UKCP18 30 mins vs CEH-GEAR : 2001-2014"
   ]
  },
  {
   "cell_type": "code",
   "execution_count": 11,
   "id": "ef561dc8",
   "metadata": {},
   "outputs": [],
   "source": [
    "cehgear_cdf, cehgear_ccdf, cehgear_bin_centres, cehgear_bin_edges = calculate_ccdf_wetvalues(cehgear_2001_2014_GB_jja, bins_i_want)\n",
    "ukcp18_hrly_cdf, ukcp18_hrly_ccdf, ukcp18_hrly_bin_centres, ukcp18_hrly_bin_edges = calculate_ccdf_wetvalues(ukcp18_hrly_2001_2014_jja_GB,bins_i_want)\n",
    "ukcp18_30mins_cdf, ukcp18_30mins_ccdf, ukcp18_30mins_bin_centres, ukcp18_30mins_bin_edges = calculate_ccdf_wetvalues(ukcp18_30m_2001_2014_jja_GB, bins_i_want)"
   ]
  },
  {
   "cell_type": "code",
   "execution_count": 12,
   "id": "124723ca",
   "metadata": {},
   "outputs": [
    {
     "data": {
      "image/png": "[encoded data removed]",
      "text/plain": [
       "<Figure size 1152x288 with 2 Axes>"
      ]
     },
     "metadata": {
      "needs_background": "light"
     },
     "output_type": "display_data"
    }
   ],
   "source": [
    "fig, axs = plt.subplots(nrows=1, ncols=2, figsize=(16,4))\n",
    "# axs[0].scatter(cehgear_bin_edges, cehgear_cdf ,linewidth = 1,s=3, color = 'black')\n",
    "# axs[0].plot(cehgear_bin_edges,cehgear_cdf ,linewidth = 1, color = 'black')\n",
    "# axs[0].scatter(ukcp18_hrly_bin_edges, ukcp18_hrly_cdf ,linewidth = 1,s=3, color = 'darkorange')\n",
    "# axs[0].plot(ukcp18_hrly_bin_edges,ukcp18_hrly_cdf ,linewidth = 1, color = 'darkorange')\n",
    "# axs[0].scatter(ukcp18_30mins_bin_edges, ukcp18_30mins_cdf ,linewidth = 1,s=3, color = 'purple')\n",
    "# axs[0].plot(ukcp18_30mins_bin_edges,ukcp18_30mins_cdf ,linewidth = 1, color = 'purple')\n",
    "# axs[0].scatter(nimrod_bin_edges, nimrod_cdf ,linewidth = 1,s=3, color = 'green')\n",
    "# axs[0].plot(nimrod_bin_edges, nimrod_cdf ,linewidth = 1, color = 'green')\n",
    "# axs[0].set_title('CDF')\n",
    "\n",
    "axs[1].scatter(cehgear_bin_edges, cehgear_ccdf ,linewidth = 1,s=3, color = 'black')\n",
    "axs[1].plot(cehgear_bin_edges,cehgear_ccdf ,linewidth = 1, color = 'black')\n",
    "axs[1].scatter(ukcp18_hrly_bin_edges, ukcp18_hrly_ccdf ,linewidth = 1,s=3, color = 'darkorange')\n",
    "axs[1].plot(ukcp18_hrly_bin_edges,ukcp18_hrly_ccdf ,linewidth = 1, color = 'darkorange')\n",
    "axs[1].scatter(ukcp18_30mins_bin_edges, ukcp18_30mins_ccdf ,linewidth = 1,s=3, color = 'purple')\n",
    "axs[1].plot(ukcp18_30mins_bin_edges,ukcp18_30mins_ccdf ,linewidth = 1, color = 'purple')\n",
    "axs[1].set_yscale('log')\n",
    "# axs[1].set_xlim(0,80)\n",
    "# axs[1].set_ylim(1e-7,1)\n",
    "axs[1].set_title('CCDF')\n",
    "\n",
    "axs[1].legend(handles=patches);"
   ]
  },
  {
   "cell_type": "markdown",
   "id": "c3018c9d",
   "metadata": {},
   "source": [
    "## All"
   ]
  },
  {
   "cell_type": "code",
   "execution_count": null,
   "id": "8f74e13b",
   "metadata": {},
   "outputs": [],
   "source": [
    "ukcp18_hrly_2001_2019_jja_GB_2km_results = calculate_ccdf_wetvalues(ukcp18_hrly_2001_2019_jja_GB_2km,bins_i_want)\n",
    "ukcp18_30m_2001_2019_jja_GB_2km_results = calculate_ccdf_wetvalues(ukcp18_30m_2001_2019_jja_GB_2km, bins_i_want)\n",
    "# NIMROD_2006_2019_jja_GB_2km_results = calculate_ccdf_wetvalues(NIMROD_2006_2019_jja_GB_2km,bins_i_want)\n",
    "# cehgear_1990_2014_GB_jja_2km_results  = calculate_ccdf_wetvalues(cehgear_1990_2014_GB_jja_2km, bins_i_want)"
   ]
  },
  {
   "cell_type": "code",
   "execution_count": 30,
   "id": "57179b34",
   "metadata": {},
   "outputs": [
    {
     "data": {
      "image/png": "[encoded data removed]",
      "text/plain": [
       "<Figure size 576x288 with 1 Axes>"
      ]
     },
     "metadata": {
      "needs_background": "light"
     },
     "output_type": "display_data"
    }
   ],
   "source": [
    "fig, ax = plt.subplots(figsize=(8,4))\n",
    "\n",
    "results = [ukcp18_hrly_2006_2019_jja_GB_2km_results, ukcp18_30m_2006_2019_jja_GB_2km_results,cehgear_1990_2014_GB_jja_2km_results,NIMROD_2006_2019_jja_GB_2km_results]\n",
    "colors = ['darkorange', 'purple', 'black', 'green']\n",
    "plot_ccdf(ax,results, colors)\n",
    "\n",
    "ax.set_yscale('log')\n",
    "ax.set_title('CCDF')\n",
    "ax.legend(handles=patches);"
   ]
  },
  {
   "cell_type": "code",
   "execution_count": null,
   "id": "405d78ba",
   "metadata": {},
   "outputs": [],
   "source": [
    "fig, ax = plt.subplots(figsize=(8,4))\n",
    "\n",
    "results = [ukcp18_hrly_2006_2019_jja_GB_2km_results, ukcp18_30m_2006_2019_jja_GB_2km_results,cehgear_1990_2014_GB_jja_2km_results,NIMROD_2006_2019_jja_GB_2km_results]\n",
    "colors = ['darkorange', 'purple', 'black', 'green']\n",
    "plot_ccdf(ax,results, colors)\n",
    "\n",
    "ax.set_yscale('log')\n",
    "ax.set_title('CCDF')\n",
    "ax.legend(handles=patches);"
   ]
  }
 ],
 "metadata": {
  "kernelspec": {
   "display_name": "Python 3 (ipykernel)",
   "language": "python",
   "name": "python3"
  },
  "language_info": {
   "codemirror_mode": {
    "name": "ipython",
    "version": 3
   },
   "file_extension": ".py",
   "mimetype": "text/x-python",
   "name": "python",
   "nbconvert_exporter": "python",
   "pygments_lexer": "ipython3",
   "version": "3.7.13"
  }
 },
 "nbformat": 4,
 "nbformat_minor": 5
}
