{
 "cells": [
  {
   "cell_type": "code",
   "execution_count": 1,
   "id": "2aff7057",
   "metadata": {},
   "outputs": [],
   "source": [
    "resolution = '2.2km'"
   ]
  },
  {
   "cell_type": "code",
   "execution_count": 29,
   "id": "9af59326",
   "metadata": {},
   "outputs": [],
   "source": [
    "import numpy as np\n",
    "import matplotlib.pyplot as plt\n",
    "import matplotlib.patches as mpatches\n",
    "\n",
    "# Function to calculate PDF from a single file\n",
    "def calculate_pdf(file_name, bins=50):\n",
    "    # Get the data\n",
    "    precipitation_data = np.load(file_name)\n",
    "    # \n",
    "    #    freqs, bin_edges = np.histogram(precipitation_data, bins=bins, density=True)\n",
    "    freqs, bin_edges = np.histogram(precipitation_data, bins=bins_i_want, density=True)\n",
    "    # I think this was just for knowing how many value was in each bin\n",
    "    # How was I using that in log_discrete_histogram_less_legend???\n",
    "    # freqs_numbers, bin_edges = np.histogram(precipitation_data, bins= bins, density=False)\n",
    "    \n",
    "    #n_bins = str(len(bin_edges))\n",
    "    # Find the centre point of each bin for plotting\n",
    "    bin_centres =  0.5*(bin_edges[1:] + bin_edges[:-1])    \n",
    "    \n",
    "    return freqs, bin_centres\n",
    "\n",
    "\n",
    "# Function to calculate PDF from a single file\n",
    "def calculate_pdf_wetvalues (file_name, bins=50):\n",
    "    # Get the data\n",
    "    precipitation_data = np.load(file_name)\n",
    "    # Remove NAN values\n",
    "    precipitation_data = precipitation_data[~np.isnan(precipitation_data)]\n",
    "    # Keep only wet values \n",
    "    precipitation_data = precipitation_data[precipitation_data >= 0.1]\n",
    "    #\n",
    "    freqs, bin_edges = np.histogram(precipitation_data, bins=bins_i_want, density=True)\n",
    "    # I think this was just for knowing how many value was in each bin\n",
    "    # How was I using that in log_discrete_histogram_less_legend???\n",
    "    # freqs_numbers, bin_edges = np.histogram(precipitation_data, bins= bins, density=False)\n",
    "    \n",
    "    # \n",
    "    #n_bins = str(len(bin_edges))\n",
    "    # Find the centre point of each bin for plotting\n",
    "    bin_centres =  0.5*(bin_edges[1:] + bin_edges[:-1])    \n",
    "    \n",
    "    return freqs, bin_centres"
   ]
  },
  {
   "cell_type": "code",
   "execution_count": 3,
   "id": "e2d40e9d",
   "metadata": {},
   "outputs": [],
   "source": [
    "# Issue with this is that the bin centres is based on the final one"
   ]
  },
  {
   "cell_type": "markdown",
   "id": "83bacab7",
   "metadata": {},
   "source": [
    "## Overlapping time period\n",
    "### UKCP18 2.2km - 30 mins"
   ]
  },
  {
   "cell_type": "code",
   "execution_count": 2,
   "id": "75a330e7",
   "metadata": {},
   "outputs": [],
   "source": [
    "bin_num = 8\n",
    "bins_i_want =  [3, 7, 10,15, 21, 35,45, 62, 78]"
   ]
  },
  {
   "cell_type": "code",
   "execution_count": 30,
   "id": "9d5901ff",
   "metadata": {},
   "outputs": [
    {
     "name": "stdout",
     "output_type": "stream",
     "text": [
      "bc005\n"
     ]
    }
   ],
   "source": [
    "# # Initialize variables to accumulate PDF\n",
    "total_pdf_wv_2_2km_o = np.zeros(bin_num)  # Assuming 50 bins for the histogram\n",
    "total_bin_centers_wv_2_2km_o = None\n",
    "ems=  ['bc005',  'bc006',  'bc007', 'bc009',  'bc010', \n",
    "       'bc011', 'bc013',  'bc015',  'bc016',  'bc017', 'bc018', 'bc012']\n",
    "ems=  ['bc005']\n",
    "# Process each file and accumulate PDF\n",
    "for em in ems:\n",
    "    print(em)\n",
    "    datadir = f\"/nfs/a319/gy17m2a/PhD/ProcessedData/TimeSeries/UKCP18_every30mins/2.2km_bng_masked/2002_2020/{em}_wholeyear/\"\n",
    "    for yr in range(2006,2020):\n",
    "        file_name = datadir + f\"{yr}_compressed.npy\"\n",
    "        pdf_wv_2_2km, bin_centers_wv_2_2km = calculate_pdf_wetvalues(file_name)\n",
    "        total_pdf_wv_2_2km_o += pdf_wv_2_2km\n",
    "        total_bin_centers_wv_2_2km_o= bin_centers_wv_2_2km"
   ]
  },
  {
   "cell_type": "markdown",
   "id": "4028c525",
   "metadata": {},
   "source": [
    "### NIMROD - 2.2km"
   ]
  },
  {
   "cell_type": "code",
   "execution_count": 11,
   "id": "c25434eb",
   "metadata": {},
   "outputs": [
    {
     "name": "stdout",
     "output_type": "stream",
     "text": [
      "2006\n",
      "2007\n",
      "2008\n",
      "2009\n",
      "2010\n",
      "2011\n",
      "2012\n",
      "2013\n",
      "2014\n",
      "2015\n",
      "2016\n",
      "2017\n"
     ]
    }
   ],
   "source": [
    "# Initialize variables to accumulate PDF\n",
    "total_pdf_nimrod_wv_o = np.zeros(bin_num)  # Assuming 50 bins for the histogram\n",
    "total_bin_centers_nimrod_wv_o = None\n",
    " \n",
    "# Process each file and accumulate PDF\n",
    "datadir = f'/nfs/a319/gy17m2a/PhD/ProcessedData/TimeSeries/NIMROD/30mins/NIMROD_regridded_2.2km/'\n",
    "for yr in range(2006,2018):\n",
    "    print(yr)\n",
    "    file_name = datadir + f\"compressed_{yr}.npy\"\n",
    "    pdf_nimrod_wv, bin_centers_nimrod_wv = calculate_pdf_wetvalues(file_name)\n",
    "    total_pdf_nimrod_wv_o += pdf_nimrod_wv\n",
    "    total_bin_centers_nimrod_wv_o = bin_centers_nimrod_wv"
   ]
  },
  {
   "cell_type": "markdown",
   "id": "cf2aec3c",
   "metadata": {},
   "source": [
    "## Not overlapping period"
   ]
  },
  {
   "cell_type": "code",
   "execution_count": 16,
   "id": "5280f33f",
   "metadata": {},
   "outputs": [],
   "source": [
    "# # Initialize variables to accumulate PDF\n",
    "# total_pdf_wv_2_2km_no = np.zeros(bin_num)  # Assuming 50 bins for the histogram\n",
    "# total_bin_centers_wv_2_2km_no = None\n",
    "# # ems=  ['bc005',  'bc006',  'bc007', 'bc009',  'bc010', \n",
    "# #        'bc011', 'bc013',  'bc015',  'bc016',  'bc017', 'bc018', 'bc012']\n",
    "# # Process each file and accumulate PDF\n",
    "# for em in ems:\n",
    "#     print(em)\n",
    "#     datadir = f\"/nfs/a319/gy17m2a/PhD/ProcessedData/TimeSeries/UKCP18_every30mins/2.2km_bng_masked/2002_2020/{em}_wholeyear/\"\n",
    "#     for yr in range(2001,2020):\n",
    "#         file_name = datadir + f\"compressed_{yr}.npy\"\n",
    "#         pdf_wv_2_2km, bin_centers_wv_2_2km = calculate_pdf_wetvalues(file_name)\n",
    "#         total_pdf_wv_2_2km_no += pdf_wv_2_2km\n",
    "#         total_bin_centers_wv_2_2km_no = bin_centers_wv_2_2km\n",
    "#         # print(bin_centers)          "
   ]
  },
  {
   "cell_type": "code",
   "execution_count": 17,
   "id": "a7ef4a6f",
   "metadata": {},
   "outputs": [],
   "source": [
    "# # Initialize variables to accumulate PDF\n",
    "# total_pdf_nimrod_wv_no = np.zeros(bin_num)  # Assuming 50 bins for the histogram\n",
    "# total_bin_centers_nimrod_wv_no = None\n",
    " \n",
    "# # Process each file and accumulate PDF\n",
    "# datadir = f'/nfs/a319/gy17m2a/PhD/ProcessedData/TimeSeries/NIMROD/30mins/NIMROD_regridded_2.2km/'\n",
    "# for yr in range(2006,2020):\n",
    "#     print(yr)\n",
    "#     file_name = datadir + f\"compressed_{yr}.npy\"\n",
    "#     pdf_nimrod_wv, bin_centers_nimrod_wv = calculate_pdf_wetvalues(file_name)\n",
    "#     total_pdf_nimrod_wv_no += pdf_nimrod_wv\n",
    "#     total_bin_centers_nimrod_wv_no = bin_centers_nimrod_wv"
   ]
  },
  {
   "cell_type": "code",
   "execution_count": 23,
   "id": "13379d87",
   "metadata": {},
   "outputs": [
    {
     "data": {
      "text/plain": [
       "array([nan, nan, nan, nan, nan, nan, nan, nan])"
      ]
     },
     "execution_count": 23,
     "metadata": {},
     "output_type": "execute_result"
    }
   ],
   "source": [
    "total_pdf_nimrod_wv_o"
   ]
  },
  {
   "cell_type": "code",
   "execution_count": 24,
   "id": "96a5a372",
   "metadata": {},
   "outputs": [
    {
     "data": {
      "image/png": "[encoded data removed]",
      "text/plain": [
       "<Figure size 864x288 with 2 Axes>"
      ]
     },
     "metadata": {
      "needs_background": "light"
     },
     "output_type": "display_data"
    }
   ],
   "source": [
    "# Draw the plot\n",
    "fig, axs = plt.subplots(nrows=1, ncols=2, figsize=(12,4))\n",
    "\n",
    "axs[0].scatter(total_bin_centers_nimrod_wv_o, total_pdf_nimrod_wv_o ,linewidth = 1,s=3, color = 'darkgreen')\n",
    "axs[0].plot(total_bin_centers_nimrod_wv_o, total_pdf_nimrod_wv_o ,linewidth = 1, color = 'darkgreen')\n",
    "axs[0].scatter(total_bin_centers_wv_2_2km_o, total_pdf_wv_2_2km_o ,linewidth = 1,s=3, color = 'orange')\n",
    "axs[0].plot(total_bin_centers_wv_2_2km_o, total_pdf_wv_2_2km_o ,linewidth = 1, color = 'orange')\n",
    "\n",
    "# axs[1].scatter(total_bin_centers_nimrod_wv_no, total_pdf_nimrod_wv_no ,linewidth = 1,s=3, color = 'darkgreen')\n",
    "# axs[1].plot(total_bin_centers_nimrod_wv_no, total_pdf_nimrod_wv_no ,linewidth = 1, color = 'darkgreen')\n",
    "# axs[1].scatter(total_bin_centers_wv_2_2km_no, total_pdf_wv_2_2km_no ,linewidth = 1,s=3, color = 'orange')\n",
    "# axs[1].plot(total_bin_centers_wv_2_2km_no, total_pdf_wv_2_2km_no ,linewidth = 1, color = 'orange')\n",
    "\n",
    "# Create patches\n",
    "patches= []\n",
    "patch1 = mpatches.Patch(color= 'darkgreen', label='NIMROD regridded 2.2km')\n",
    "patch2 = mpatches.Patch(color= 'darkorange', label='UKCP18 2.2km')\n",
    "patches.append(patch1)\n",
    "patches.append(patch2)\n",
    "\n",
    "# axs[0].legend(handles=patches)\n",
    "# axs[0].set_ylabel('Probability density')\n",
    "# axs[0].set_ylim(1e-7,100)\n",
    "# axs[0].set_yscale('log')\n",
    "# axs[0].set_xscale('linear')    \n",
    "# axs[0].set_title('overlapping period')\n",
    "\n",
    "# axs[1].legend(handles=patches)\n",
    "# axs[1].set_ylabel('Probability density')\n",
    "# axs[1].set_ylim(1e-7,100)\n",
    "# axs[1].set_yscale('log')\n",
    "# axs[1].set_xscale('linear')    \n",
    "# axs[1].set_title('Not overlapping period')\n",
    "# fig.savefig(\"Scripts/UKCP18_Validation/PrecipitationPDFs/leeds-at-centre/Figs/RCMvsCPMvsObs/NIMRODvsUKCP18_2.2km_3,7bins.png\")"
   ]
  }
 ],
 "metadata": {
  "kernelspec": {
   "display_name": "Python 3 (ipykernel)",
   "language": "python",
   "name": "python3"
  },
  "language_info": {
   "codemirror_mode": {
    "name": "ipython",
    "version": 3
   },
   "file_extension": ".py",
   "mimetype": "text/x-python",
   "name": "python",
   "nbconvert_exporter": "python",
   "pygments_lexer": "ipython3",
   "version": "3.7.13"
  }
 },
 "nbformat": 4,
 "nbformat_minor": 5
}
