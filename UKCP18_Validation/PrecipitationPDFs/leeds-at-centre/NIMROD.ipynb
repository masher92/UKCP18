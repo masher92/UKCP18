{
 "cells": [
  {
   "cell_type": "code",
   "execution_count": 19,
   "id": "acc77cdf",
   "metadata": {},
   "outputs": [],
   "source": [
    "import numpy as np\n",
    "import matplotlib.pyplot as plt\n",
    "\n",
    "\n",
    "# Function to calculate PDF from a single file\n",
    "def calculate_pdf(file_name, bins=50):\n",
    "    precipitation_data = np.load(file_name)\n",
    "    freqs, bin_edges = np.histogram(precipitation_data, bins=bins, density=True)\n",
    "    freqs_numbers, bin_edges = np.histogram(precipitation_data, bins= bins, density=False)\n",
    "    n_bins = str(len(bin_edges))\n",
    "    # Find the centre point of each bin for plotting\n",
    "    bin_centres =  0.5*(bin_edges[1:] + bin_edges[:-1])    \n",
    "    numbers_in_each_bin = bin_centres\n",
    "    \n",
    "    return freqs, bin_centres\n",
    "\n",
    "\n",
    "datadir = '/nfs/a319/gy17m2a/PhD/ProcessedData/TimeSeries/NIMROD/30mins/NIMROD_regridded_2.2km/'"
   ]
  },
  {
   "cell_type": "code",
   "execution_count": 65,
   "id": "a363a12f",
   "metadata": {},
   "outputs": [
    {
     "name": "stdout",
     "output_type": "stream",
     "text": [
      "2006\n",
      "2007\n",
      "2008\n",
      "2009\n",
      "2010\n",
      "2011\n"
     ]
    },
    {
     "data": {
      "image/png": "[encoded data removed]",
      "text/plain": [
       "<Figure size 432x288 with 1 Axes>"
      ]
     },
     "metadata": {
      "needs_background": "light"
     },
     "output_type": "display_data"
    }
   ],
   "source": [
    "import numpy as np\n",
    "import matplotlib.pyplot as plt\n",
    "\n",
    "# Initialize variables to accumulate PDF\n",
    "total_pdf = np.zeros(50)  # Assuming 50 bins for the histogram\n",
    "total_bin_centers = None\n",
    "\n",
    "# Process each file and accumulate PDF\n",
    "for year in range(2006, 2012):\n",
    "    print(year)\n",
    "    file_name = datadir + f\"{year}_compressed.npy\"\n",
    "    pdf, bin_centers = calculate_pdf(file_name)\n",
    "    total_pdf += pdf\n",
    "    total_bin_centers = bin_centers\n",
    "\n",
    "# Draw the plot\n",
    "fig, ax = plt.subplots()\n",
    "ax.scatter(total_bin_centers, total_pdf ,linewidth = 1,s=3)\n",
    "ax.plot(total_bin_centers, total_pdf ,linewidth = 1)\n",
    "# ax.legend(handles=patches)\n",
    "# ax.set_xlabel(precip_variable)\n",
    "ax.set_ylabel('Probability density')\n",
    "# if xlim != False:\n",
    "#     ax.set_xlim(0,xlim)\n",
    "#plt.title(n_bins + \" bins\")\n",
    "ax.set_yscale('log')\n",
    "ax.set_xscale('linear')    \n"
   ]
  }
 ],
 "metadata": {
  "kernelspec": {
   "display_name": "Python 3 (ipykernel)",
   "language": "python",
   "name": "python3"
  },
  "language_info": {
   "codemirror_mode": {
    "name": "ipython",
    "version": 3
   },
   "file_extension": ".py",
   "mimetype": "text/x-python",
   "name": "python",
   "nbconvert_exporter": "python",
   "pygments_lexer": "ipython3",
   "version": "3.7.13"
  }
 },
 "nbformat": 4,
 "nbformat_minor": 5
}
