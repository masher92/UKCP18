{
 "cells": [
  {
   "cell_type": "markdown",
   "id": "0be91f67",
   "metadata": {},
   "source": [
    "### Set up environment"
   ]
  },
  {
   "cell_type": "code",
   "execution_count": 3,
   "id": "c5ec6e4b",
   "metadata": {},
   "outputs": [],
   "source": [
    "import numpy as np\n",
    "import matplotlib.pyplot as plt\n",
    "import matplotlib.patches as mpatches\n",
    "\n",
    "def log_discrete_bins(min_value,max_value,bins_if_log_spaced,discretisation):\n",
    "    # Calculate the bin width on a log axis, for a given minimum value, maximum value and number of bins\n",
    "    delta_log_i_l_s=(np.log10(max_value)-np.log10(min_value))/bins_if_log_spaced\n",
    "    # Start at the minimum value (lowest bin edge)\n",
    "    bin_edges=[min_value]\n",
    "    prev_edge=min_value\n",
    "    lstopped=False\n",
    "    while(lstopped==False):\n",
    "        log10prev=np.log10(prev_edge)\n",
    "        # Stop if reached a number greater than the maximum\n",
    "        if(log10prev>np.log10(max_value)):\n",
    "            lstopped=True\n",
    "        else:\n",
    "            # Find the width of the bin on a linear scale, based on the log spacings calculated above \n",
    "            next_delta=10**(log10prev+delta_log_i_l_s)-10**(log10prev)\n",
    "            # conservative estimate, round bin size to lower number\n",
    "            next_edge=prev_edge+max(discretisation,discretisation*int(next_delta/discretisation))\n",
    "            #next_edge = prev_edge+next_delta\n",
    "            bin_edges.append(next_edge)\n",
    "            prev_edge=next_edge\n",
    "    return bin_edges\n"
   ]
  },
  {
   "cell_type": "code",
   "execution_count": 5,
   "id": "942b98e7",
   "metadata": {},
   "outputs": [],
   "source": [
    "resolution = '12km'"
   ]
  },
  {
   "cell_type": "markdown",
   "id": "a47ed067",
   "metadata": {},
   "source": [
    "### Get observations data for overlapping and not overlapping time periods"
   ]
  },
  {
   "cell_type": "code",
   "execution_count": 6,
   "id": "9258fd98",
   "metadata": {},
   "outputs": [],
   "source": [
    "obs_data_overlap = np.array([])\n",
    "obs_data_no_overlap = np.array([])\n",
    "\n",
    "datadir = f'/nfs/a319/gy17m2a/PhD/ProcessedData/TimeSeries/CEH-GEAR/12km/NearestNeighbour/'\n",
    "\n",
    "for yr in range(1990,2014):\n",
    "    file_name = datadir + f\"{yr}_compressed.npy\"\n",
    "    this_yr = np.load(file_name)\n",
    "    obs_data_no_overlap =np.append(obs_data_no_overlap, this_yr)\n",
    "    if yr >=1990 and yr <=2001:\n",
    "         obs_data_overlap =np.append(obs_data_overlap, this_yr)"
   ]
  },
  {
   "cell_type": "markdown",
   "id": "9912d883",
   "metadata": {},
   "source": [
    "### Get model data for overlapping and not overlapping time periods"
   ]
  },
  {
   "cell_type": "code",
   "execution_count": 7,
   "id": "c8b634f7",
   "metadata": {},
   "outputs": [
    {
     "name": "stdout",
     "output_type": "stream",
     "text": [
      "01\n",
      "04\n",
      "05\n",
      "06\n",
      "07\n",
      "08\n",
      "09\n",
      "10\n",
      "11\n",
      "12\n",
      "13\n",
      "15\n"
     ]
    }
   ],
   "source": [
    "ems = ['01', '04', '05', '06', '07', '08', '09', '10', '11', '12', '13', '15']\n",
    "\n",
    "model_data_overlap = np.array([])\n",
    "model_data_no_overlap = np.array([])\n",
    "for em in ems:\n",
    "    print(em)\n",
    "    datadir = f'/nfs/a319/gy17m2a/PhD/ProcessedData/TimeSeries/UKCP18_hourly/2.2km_regridded_12km/1980_2001/{em}/'\n",
    "    for yr in range(1981,2001):\n",
    "        file_name = datadir + f\"compressed_{yr}.npy\"\n",
    "        this_yr = np.load(file_name)\n",
    "        model_data_no_overlap =np.append(model_data_no_overlap, this_yr)\n",
    "        if yr >=1990 and yr <=2001:\n",
    "            model_data_overlap =np.append(model_data_overlap, this_yr)"
   ]
  },
  {
   "cell_type": "markdown",
   "id": "46e0417f",
   "metadata": {},
   "source": [
    "## Calculate CDFs and CCDFs"
   ]
  },
  {
   "cell_type": "code",
   "execution_count": 110,
   "id": "315f599d",
   "metadata": {},
   "outputs": [],
   "source": [
    "bins_i_want =  [0.05, 0.1, 0.5,2, 3, 7, 10,15, 21, 35,60, 70, 78,1000]\n",
    "low_bins_i_want = [0.95, 1.05, 1.15]\n",
    "bin_num = len(bins_i_want)-1"
   ]
  },
  {
   "cell_type": "code",
   "execution_count": 115,
   "id": "124723ca",
   "metadata": {},
   "outputs": [],
   "source": [
    "# Create patches\n",
    "patches= []\n",
    "patch1 = mpatches.Patch(color= 'black', label='CEH-GEAR')\n",
    "patch2 = mpatches.Patch(color= 'darkorange', label='UKCP18')\n",
    "patches.append(patch1)\n",
    "patches.append(patch2)"
   ]
  },
  {
   "cell_type": "markdown",
   "id": "686bf7fc",
   "metadata": {},
   "source": [
    "### Why is this not going betwen 0 and 1?"
   ]
  },
  {
   "cell_type": "code",
   "execution_count": 177,
   "id": "e770ede7",
   "metadata": {},
   "outputs": [],
   "source": [
    "# model_data_no_overlap = model_data_no_overlap[~np.isnan(model_data_no_overlap)]\n",
    "# # Keep only wet values \n",
    "# model_data_no_overlap = model_data_no_overlap[model_data_no_overlap >= 0.1]\n",
    "\n",
    "obs_data_no_overlap = obs_data_no_overlap[~np.isnan(obs_data_no_overlap)]\n",
    "# Keep only wet values \n",
    "obs_data_no_overlap = obs_data_no_overlap[obs_data_no_overlap >= 0.1]"
   ]
  },
  {
   "cell_type": "code",
   "execution_count": 178,
   "id": "50cf4e77",
   "metadata": {},
   "outputs": [],
   "source": [
    "values = model_data_no_overlap\n",
    "values_obs = obs_data_no_overlap"
   ]
  },
  {
   "cell_type": "code",
   "execution_count": 173,
   "id": "30a1b21f",
   "metadata": {},
   "outputs": [],
   "source": [
    "# import numpy as np\n",
    "# import matplotlib.pyplot as plt\n",
    "\n",
    "# # Assuming this_yr is your data array\n",
    "# values_sorted = np.sort(model_data_no_overlap)\n",
    "# cdf = np.arange(1, len(this_yr) + 1) / len(this_yr)\n",
    "\n",
    "# # Plot the CDF directly\n",
    "# plt.plot(values_sorted, cdf, marker='o', linestyle='-')\n",
    "\n",
    "# # Add labels and title\n",
    "# plt.xlabel('Value')\n",
    "# plt.ylabel('CDF')\n",
    "# plt.title('Cumulative Distribution Function')\n",
    "\n",
    "# # Show the plot\n",
    "# plt.grid(True)\n",
    "# plt.show()\n"
   ]
  },
  {
   "cell_type": "code",
   "execution_count": 189,
   "id": "cabe4ba2",
   "metadata": {},
   "outputs": [
    {
     "data": {
      "text/plain": [
       "0.10000000149011612"
      ]
     },
     "execution_count": 189,
     "metadata": {},
     "output_type": "execute_result"
    }
   ],
   "source": [
    "np.nanmin(values_obs)"
   ]
  },
  {
   "cell_type": "code",
   "execution_count": 187,
   "id": "6d3e8f90",
   "metadata": {},
   "outputs": [
    {
     "data": {
      "text/plain": [
       "[<matplotlib.lines.Line2D at 0x7f3d4e729dd0>]"
      ]
     },
     "execution_count": 187,
     "metadata": {},
     "output_type": "execute_result"
    },
    {
     "data": {
      "image/png": "[encoded data removed]",
      "text/plain": [
       "<Figure size 576x288 with 1 Axes>"
      ]
     },
     "metadata": {
      "needs_background": "light"
     },
     "output_type": "display_data"
    }
   ],
   "source": [
    "# Specify logarithmically spaced bin edges\n",
    "bin_edges = np.logspace(np.log10(0.1), np.log10(100), 21)\n",
    "\n",
    "fig, ax = plt.subplots(figsize=(8, 4))\n",
    "\n",
    "# Calculate the histogram and CDF\n",
    "# counts, bin_edges = np.histogram(values, bins=bin_edges)\n",
    "# cdf = np.cumsum(counts) / len(values)\n",
    "# ccdf = 1-cdf\n",
    "# # Plot the CDF with logarithmic x-axis\n",
    "# #plt.figure(facecolor='white')\n",
    "# ax.plot(bin_edges[1:], cdf, marker='.', linestyle='-', color='blue')\n",
    "\n",
    "# # Calculate the histogram and CDF\n",
    "counts, bin_edges = np.histogram(values_obs, bins=bin_edges)\n",
    "cdf = np.cumsum(counts) / len(values)\n",
    "# ccdf = 1-cdf\n",
    "# # Plot the CDF with logarithmic x-axis\n",
    "# #plt.figure(facecolor='white')\n",
    "ax.plot(bin_edges[1:], cdf, marker='.', linestyle='-', color='green')\n",
    "\n",
    "# # plt.title('Cumulative Distribution Function (CDF)')\n",
    "# # plt.xlabel('Value')\n",
    "# # plt.ylabel('CDF')\n",
    "# # plt.grid(True)\n",
    "# # plt.show()"
   ]
  },
  {
   "cell_type": "code",
   "execution_count": 183,
   "id": "56b84745",
   "metadata": {},
   "outputs": [
    {
     "data": {
      "image/png": "[encoded data removed]",
      "text/plain": [
       "<Figure size 576x288 with 1 Axes>"
      ]
     },
     "metadata": {
      "needs_background": "light"
     },
     "output_type": "display_data"
    }
   ],
   "source": [
    "fig, ax = plt.subplots(figsize=(8, 4))\n",
    "\n",
    "# Calculate the histogram and CDF\n",
    "# Plot the CDF with logarithmic x-axis\n",
    "#plt.figure(facecolor='white')\n",
    "ax.plot(bin_edges[1:], ccdf, marker='.', linestyle='-', color='blue')\n",
    "\n",
    "# Calculate the histogram and CDF\n",
    "#plt.figure(facecolor='white')\n",
    "ax.plot(bin_edges[1:], ccdf, marker='.', linestyle='-', color='green')\n",
    "\n",
    "ax.set_yscale('log')  # Set x-axis to logarithmic scale\n",
    "# plt.title('Cumulative Distribution Function (CDF)')\n",
    "# plt.xlabel('Value')\n",
    "# plt.ylabel('CDF')\n",
    "# plt.grid(True)\n",
    "# plt.show()"
   ]
  },
  {
   "cell_type": "code",
   "execution_count": 171,
   "id": "e83a6fca",
   "metadata": {},
   "outputs": [],
   "source": [
    "colors = ['red', 'green']\n",
    "fig, ax = plt.subplots(figsize=(8, 4))\n",
    "bins_ccdf_ls = []\n",
    "bins_cdf_ls = []\n",
    "ns_ccdf_ls=[]\n",
    "ns_cdf_ls=[]\n",
    "\n",
    "bin_edges_planned = np.logspace(np.log10(0.1), np.log10(100), 21)\n",
    "\n",
    "for num, data in enumerate([obs_data_overlap, model_data_overlap]):\n",
    "\n",
    "    # Get the cumulative histogram data\n",
    "    n_model, bins, patches = plt.hist(data, bin_edges_planned, density=True, histtype='step',\n",
    "                               cumulative=True, label='Empirical')\n",
    "    ns_cdf_ls.append(n_model)\n",
    "    bins_cdf_ls.append(bins)\n",
    "   \n",
    "    # Get the reversed cumulative histogram data\n",
    "    n, bins_ccdf, _ = plt.hist(data, bins=bins, density=True, histtype='step', cumulative=-1)\n",
    "    \n",
    "    # Plot as a line\n",
    "    ax.plot(bins[:-1], n, marker='o', linestyle='-', color = colors[num])\n",
    "\n",
    "    # Add labels and title\n",
    "    ax.set_xlabel('Value')\n",
    "    ax.set_ylabel('Cumulative Frequency')\n",
    "    ax.set_title('Cumulative Histogram')\n",
    "    ax.set_yscale('log')\n",
    "    bins_ccdf_ls.append(bins_ccdf)\n",
    "    ns_ccdf_ls.append(n)\n",
    "    \n",
    "plt.close()"
   ]
  },
  {
   "cell_type": "code",
   "execution_count": 151,
   "id": "40bda4cd",
   "metadata": {},
   "outputs": [
    {
     "data": {
      "image/png": "[encoded data removed]",
      "text/plain": [
       "<Figure size 432x288 with 1 Axes>"
      ]
     },
     "metadata": {},
     "output_type": "display_data"
    }
   ],
   "source": [
    "# Plot the CDF\n",
    "plt.figure(facecolor='white')\n",
    "plt.plot(bin_edges[1:], reverse_cdf, marker='.', linestyle='-', color='blue')\n",
    "plt.title('Cumulative Distribution Function (CDF)')\n",
    "plt.xlabel('Value')\n",
    "plt.ylabel('CDF')\n",
    "plt.grid(True)\n",
    "plt.show()"
   ]
  },
  {
   "cell_type": "code",
   "execution_count": 165,
   "id": "2b85aa65",
   "metadata": {},
   "outputs": [
    {
     "name": "stdout",
     "output_type": "stream",
     "text": [
      "0\n",
      "1\n"
     ]
    },
    {
     "data": {
      "image/png": "[encoded data removed]",
      "text/plain": [
       "<Figure size 576x288 with 1 Axes>"
      ]
     },
     "metadata": {
      "needs_background": "light"
     },
     "output_type": "display_data"
    }
   ],
   "source": [
    "fig, ax = plt.subplots(figsize=(8, 4))\n",
    "cols = ['black', 'orange']\n",
    "for i in range(0,2):\n",
    "    print(i)\n",
    "    # Plot as a line\n",
    "    bins = bins_cdf_ls[i]\n",
    "    n = ns_cdf_ls[i]\n",
    "    ax.plot(bins[:-1], n,linestyle='-', color = cols[i])\n",
    "    ax.scatter(bins[:-1], n, linestyle='-', linewidth= 1, s=8, color = cols[i])\n",
    "    \n",
    "    # Add labels and title\n",
    "    ax.set_xlabel('Value')\n",
    "    ax.set_ylabel('Cumulative Frequency')\n",
    "    ax.set_title('Cumulative Histogram')\n",
    "    ax.set_yscale('log')\n",
    "    #ax.set_ylim(1e-8,5)\n",
    "    # Show plot\n",
    "\n",
    "formatter = ticker.ScalarFormatter(useMathText=False, useOffset=False)\n",
    "formatter.set_scientific(False)\n",
    "formatter.set_powerlimits((-2, 2))  # Adjust as needed\n",
    "plt.gca().get_yaxis().set_major_formatter(formatter)    \n",
    "\n",
    "plt.show()"
   ]
  },
  {
   "cell_type": "code",
   "execution_count": 170,
   "id": "c74c0d0f",
   "metadata": {},
   "outputs": [
    {
     "name": "stdout",
     "output_type": "stream",
     "text": [
      "0\n",
      "1\n"
     ]
    },
    {
     "data": {
      "image/png": "[encoded data removed]",
      "text/plain": [
       "<Figure size 432x288 with 1 Axes>"
      ]
     },
     "metadata": {
      "needs_background": "light"
     },
     "output_type": "display_data"
    }
   ],
   "source": [
    "import matplotlib.ticker as ticker\n",
    "\n",
    "fig, ax = plt.subplots(figsize=(6, 4))\n",
    "cols = ['black', 'orange']\n",
    "for i in range(0,2):\n",
    "    print(i)\n",
    "    # Plot as a line\n",
    "    bins = bins_ccdf_ls[i]\n",
    "    n = ns_ccdf_ls[i]\n",
    "    ax.plot(bins[:-1], n,linestyle='-', color = cols[i])\n",
    "    ax.scatter(bins[:-1], n, linestyle='-', linewidth= 1, s=8, color = cols[i])\n",
    "    \n",
    "    # Add labels and title\n",
    "    ax.set_xlabel('Value')\n",
    "    ax.set_ylabel('Cumulative Frequency')\n",
    "    ax.set_title('Cumulative Histogram')\n",
    "    ax.set_yscale('log')\n",
    "    ax.set_ylim(1e-8,5)\n",
    "\n",
    "# Create patches\n",
    "patches= []\n",
    "patch1 = mpatches.Patch(color= 'black', label='CEH-GEAR')\n",
    "patch2 = mpatches.Patch(color= 'darkorange', label='UKCP18')\n",
    "patches.append(patch1)\n",
    "patches.append(patch2)    \n",
    "ax.legend(handles=patches);    \n",
    "# formatter = ticker.ScalarFormatter(useMathText=False, useOffset=False)\n",
    "# formatter.set_scientific(False)\n",
    "# formatter.set_powerlimits((-5, 5))  # Adjust as needed\n",
    "# plt.gca().get_yaxis().set_major_formatter(formatter)    \n",
    "    \n",
    "# plt.gca().get_yaxis().set_major_formatter(ticker.ScalarFormatter(useMathText=False))\n",
    "# plt.ticklabel_format(axis='y', style='plain')\n",
    "    # Show plot\n",
    "plt.show()"
   ]
  },
  {
   "cell_type": "code",
   "execution_count": 12,
   "id": "a41df389",
   "metadata": {},
   "outputs": [
    {
     "name": "stderr",
     "output_type": "stream",
     "text": [
      "/nfs/a321/gy17m2a/anaconda_install/anaconda3/envs/ukcp18/lib/python3.7/site-packages/ipykernel_launcher.py:29: DeprecationWarning: elementwise comparison failed; this will raise an error in the future.\n"
     ]
    },
    {
     "ename": "ValueError",
     "evalue": "max must be larger than min in range parameter.",
     "output_type": "error",
     "traceback": [
      "\u001b[0;31m---------------------------------------------------------------------------\u001b[0m",
      "\u001b[0;31mValueError\u001b[0m                                Traceback (most recent call last)",
      "\u001b[0;32m/tmp/ipykernel_9619/2742463357.py\u001b[0m in \u001b[0;36m<module>\u001b[0;34m\u001b[0m\n\u001b[1;32m     59\u001b[0m \u001b[0;34m\u001b[0m\u001b[0m\n\u001b[1;32m     60\u001b[0m \u001b[0;31m# SIMPLE HISTOGRAMS\u001b[0m\u001b[0;34m\u001b[0m\u001b[0;34m\u001b[0m\u001b[0;34m\u001b[0m\u001b[0m\n\u001b[0;32m---> 61\u001b[0;31m \u001b[0mplt\u001b[0m\u001b[0;34m.\u001b[0m\u001b[0mhist\u001b[0m\u001b[0;34m(\u001b[0m\u001b[0mcombined_numbers\u001b[0m\u001b[0;34m)\u001b[0m\u001b[0;34m\u001b[0m\u001b[0;34m\u001b[0m\u001b[0m\n\u001b[0m\u001b[1;32m     62\u001b[0m \u001b[0mplt\u001b[0m\u001b[0;34m.\u001b[0m\u001b[0mtitle\u001b[0m\u001b[0;34m(\u001b[0m\u001b[0;34m'simple histogram with few bins (take note of y-axis maximum)'\u001b[0m\u001b[0;34m)\u001b[0m\u001b[0;34m\u001b[0m\u001b[0;34m\u001b[0m\u001b[0m\n\u001b[1;32m     63\u001b[0m \u001b[0mplt\u001b[0m\u001b[0;34m.\u001b[0m\u001b[0mxlabel\u001b[0m\u001b[0;34m(\u001b[0m\u001b[0;34m'bin value'\u001b[0m\u001b[0;34m)\u001b[0m\u001b[0;34m\u001b[0m\u001b[0;34m\u001b[0m\u001b[0m\n",
      "\u001b[0;32m/nfs/a321/gy17m2a/anaconda_install/anaconda3/envs/ukcp18/lib/python3.7/site-packages/matplotlib/pyplot.py\u001b[0m in \u001b[0;36mhist\u001b[0;34m(x, bins, range, density, weights, cumulative, bottom, histtype, align, orientation, rwidth, log, color, label, stacked, normed, hold, data, **kwargs)\u001b[0m\n\u001b[1;32m   3135\u001b[0m                       \u001b[0mhisttype\u001b[0m\u001b[0;34m=\u001b[0m\u001b[0mhisttype\u001b[0m\u001b[0;34m,\u001b[0m \u001b[0malign\u001b[0m\u001b[0;34m=\u001b[0m\u001b[0malign\u001b[0m\u001b[0;34m,\u001b[0m \u001b[0morientation\u001b[0m\u001b[0;34m=\u001b[0m\u001b[0morientation\u001b[0m\u001b[0;34m,\u001b[0m\u001b[0;34m\u001b[0m\u001b[0;34m\u001b[0m\u001b[0m\n\u001b[1;32m   3136\u001b[0m                       \u001b[0mrwidth\u001b[0m\u001b[0;34m=\u001b[0m\u001b[0mrwidth\u001b[0m\u001b[0;34m,\u001b[0m \u001b[0mlog\u001b[0m\u001b[0;34m=\u001b[0m\u001b[0mlog\u001b[0m\u001b[0;34m,\u001b[0m \u001b[0mcolor\u001b[0m\u001b[0;34m=\u001b[0m\u001b[0mcolor\u001b[0m\u001b[0;34m,\u001b[0m \u001b[0mlabel\u001b[0m\u001b[0;34m=\u001b[0m\u001b[0mlabel\u001b[0m\u001b[0;34m,\u001b[0m\u001b[0;34m\u001b[0m\u001b[0;34m\u001b[0m\u001b[0m\n\u001b[0;32m-> 3137\u001b[0;31m                       stacked=stacked, normed=normed, data=data, **kwargs)\n\u001b[0m\u001b[1;32m   3138\u001b[0m     \u001b[0;32mfinally\u001b[0m\u001b[0;34m:\u001b[0m\u001b[0;34m\u001b[0m\u001b[0;34m\u001b[0m\u001b[0m\n\u001b[1;32m   3139\u001b[0m         \u001b[0max\u001b[0m\u001b[0;34m.\u001b[0m\u001b[0m_hold\u001b[0m \u001b[0;34m=\u001b[0m \u001b[0mwashold\u001b[0m\u001b[0;34m\u001b[0m\u001b[0;34m\u001b[0m\u001b[0m\n",
      "\u001b[0;32m/nfs/a321/gy17m2a/anaconda_install/anaconda3/envs/ukcp18/lib/python3.7/site-packages/matplotlib/__init__.py\u001b[0m in \u001b[0;36minner\u001b[0;34m(ax, *args, **kwargs)\u001b[0m\n\u001b[1;32m   1865\u001b[0m                         \u001b[0;34m\"the Matplotlib list!)\"\u001b[0m \u001b[0;34m%\u001b[0m \u001b[0;34m(\u001b[0m\u001b[0mlabel_namer\u001b[0m\u001b[0;34m,\u001b[0m \u001b[0mfunc\u001b[0m\u001b[0;34m.\u001b[0m\u001b[0m__name__\u001b[0m\u001b[0;34m)\u001b[0m\u001b[0;34m,\u001b[0m\u001b[0;34m\u001b[0m\u001b[0;34m\u001b[0m\u001b[0m\n\u001b[1;32m   1866\u001b[0m                         RuntimeWarning, stacklevel=2)\n\u001b[0;32m-> 1867\u001b[0;31m             \u001b[0;32mreturn\u001b[0m \u001b[0mfunc\u001b[0m\u001b[0;34m(\u001b[0m\u001b[0max\u001b[0m\u001b[0;34m,\u001b[0m \u001b[0;34m*\u001b[0m\u001b[0margs\u001b[0m\u001b[0;34m,\u001b[0m \u001b[0;34m**\u001b[0m\u001b[0mkwargs\u001b[0m\u001b[0;34m)\u001b[0m\u001b[0;34m\u001b[0m\u001b[0;34m\u001b[0m\u001b[0m\n\u001b[0m\u001b[1;32m   1868\u001b[0m \u001b[0;34m\u001b[0m\u001b[0m\n\u001b[1;32m   1869\u001b[0m         inner.__doc__ = _add_data_doc(inner.__doc__,\n",
      "\u001b[0;32m/nfs/a321/gy17m2a/anaconda_install/anaconda3/envs/ukcp18/lib/python3.7/site-packages/matplotlib/axes/_axes.py\u001b[0m in \u001b[0;36mhist\u001b[0;34m(***failed resolving arguments***)\u001b[0m\n\u001b[1;32m   6637\u001b[0m             \u001b[0;31m# this will automatically overwrite bins,\u001b[0m\u001b[0;34m\u001b[0m\u001b[0;34m\u001b[0m\u001b[0;34m\u001b[0m\u001b[0m\n\u001b[1;32m   6638\u001b[0m             \u001b[0;31m# so that each histogram uses the same bins\u001b[0m\u001b[0;34m\u001b[0m\u001b[0;34m\u001b[0m\u001b[0;34m\u001b[0m\u001b[0m\n\u001b[0;32m-> 6639\u001b[0;31m             \u001b[0mm\u001b[0m\u001b[0;34m,\u001b[0m \u001b[0mbins\u001b[0m \u001b[0;34m=\u001b[0m \u001b[0mnp\u001b[0m\u001b[0;34m.\u001b[0m\u001b[0mhistogram\u001b[0m\u001b[0;34m(\u001b[0m\u001b[0mx\u001b[0m\u001b[0;34m[\u001b[0m\u001b[0mi\u001b[0m\u001b[0;34m]\u001b[0m\u001b[0;34m,\u001b[0m \u001b[0mbins\u001b[0m\u001b[0;34m,\u001b[0m \u001b[0mweights\u001b[0m\u001b[0;34m=\u001b[0m\u001b[0mw\u001b[0m\u001b[0;34m[\u001b[0m\u001b[0mi\u001b[0m\u001b[0;34m]\u001b[0m\u001b[0;34m,\u001b[0m \u001b[0;34m**\u001b[0m\u001b[0mhist_kwargs\u001b[0m\u001b[0;34m)\u001b[0m\u001b[0;34m\u001b[0m\u001b[0;34m\u001b[0m\u001b[0m\n\u001b[0m\u001b[1;32m   6640\u001b[0m             \u001b[0mm\u001b[0m \u001b[0;34m=\u001b[0m \u001b[0mm\u001b[0m\u001b[0;34m.\u001b[0m\u001b[0mastype\u001b[0m\u001b[0;34m(\u001b[0m\u001b[0mfloat\u001b[0m\u001b[0;34m)\u001b[0m  \u001b[0;31m# causes problems later if it's an int\u001b[0m\u001b[0;34m\u001b[0m\u001b[0;34m\u001b[0m\u001b[0m\n\u001b[1;32m   6641\u001b[0m             \u001b[0;32mif\u001b[0m \u001b[0mmlast\u001b[0m \u001b[0;32mis\u001b[0m \u001b[0;32mNone\u001b[0m\u001b[0;34m:\u001b[0m\u001b[0;34m\u001b[0m\u001b[0;34m\u001b[0m\u001b[0m\n",
      "\u001b[0;32m<__array_function__ internals>\u001b[0m in \u001b[0;36mhistogram\u001b[0;34m(*args, **kwargs)\u001b[0m\n",
      "\u001b[0;32m/nfs/a321/gy17m2a/anaconda_install/anaconda3/envs/ukcp18/lib/python3.7/site-packages/numpy/lib/histograms.py\u001b[0m in \u001b[0;36mhistogram\u001b[0;34m(a, bins, range, normed, weights, density)\u001b[0m\n\u001b[1;32m    790\u001b[0m     \u001b[0ma\u001b[0m\u001b[0;34m,\u001b[0m \u001b[0mweights\u001b[0m \u001b[0;34m=\u001b[0m \u001b[0m_ravel_and_check_weights\u001b[0m\u001b[0;34m(\u001b[0m\u001b[0ma\u001b[0m\u001b[0;34m,\u001b[0m \u001b[0mweights\u001b[0m\u001b[0;34m)\u001b[0m\u001b[0;34m\u001b[0m\u001b[0;34m\u001b[0m\u001b[0m\n\u001b[1;32m    791\u001b[0m \u001b[0;34m\u001b[0m\u001b[0m\n\u001b[0;32m--> 792\u001b[0;31m     \u001b[0mbin_edges\u001b[0m\u001b[0;34m,\u001b[0m \u001b[0muniform_bins\u001b[0m \u001b[0;34m=\u001b[0m \u001b[0m_get_bin_edges\u001b[0m\u001b[0;34m(\u001b[0m\u001b[0ma\u001b[0m\u001b[0;34m,\u001b[0m \u001b[0mbins\u001b[0m\u001b[0;34m,\u001b[0m \u001b[0mrange\u001b[0m\u001b[0;34m,\u001b[0m \u001b[0mweights\u001b[0m\u001b[0;34m)\u001b[0m\u001b[0;34m\u001b[0m\u001b[0;34m\u001b[0m\u001b[0m\n\u001b[0m\u001b[1;32m    793\u001b[0m \u001b[0;34m\u001b[0m\u001b[0m\n\u001b[1;32m    794\u001b[0m     \u001b[0;31m# Histogram is an integer or a float array depending on the weights.\u001b[0m\u001b[0;34m\u001b[0m\u001b[0;34m\u001b[0m\u001b[0;34m\u001b[0m\u001b[0m\n",
      "\u001b[0;32m/nfs/a321/gy17m2a/anaconda_install/anaconda3/envs/ukcp18/lib/python3.7/site-packages/numpy/lib/histograms.py\u001b[0m in \u001b[0;36m_get_bin_edges\u001b[0;34m(a, bins, range, weights)\u001b[0m\n\u001b[1;32m    424\u001b[0m             \u001b[0;32mraise\u001b[0m \u001b[0mValueError\u001b[0m\u001b[0;34m(\u001b[0m\u001b[0;34m'`bins` must be positive, when an integer'\u001b[0m\u001b[0;34m)\u001b[0m\u001b[0;34m\u001b[0m\u001b[0;34m\u001b[0m\u001b[0m\n\u001b[1;32m    425\u001b[0m \u001b[0;34m\u001b[0m\u001b[0m\n\u001b[0;32m--> 426\u001b[0;31m         \u001b[0mfirst_edge\u001b[0m\u001b[0;34m,\u001b[0m \u001b[0mlast_edge\u001b[0m \u001b[0;34m=\u001b[0m \u001b[0m_get_outer_edges\u001b[0m\u001b[0;34m(\u001b[0m\u001b[0ma\u001b[0m\u001b[0;34m,\u001b[0m \u001b[0mrange\u001b[0m\u001b[0;34m)\u001b[0m\u001b[0;34m\u001b[0m\u001b[0;34m\u001b[0m\u001b[0m\n\u001b[0m\u001b[1;32m    427\u001b[0m \u001b[0;34m\u001b[0m\u001b[0m\n\u001b[1;32m    428\u001b[0m     \u001b[0;32melif\u001b[0m \u001b[0mnp\u001b[0m\u001b[0;34m.\u001b[0m\u001b[0mndim\u001b[0m\u001b[0;34m(\u001b[0m\u001b[0mbins\u001b[0m\u001b[0;34m)\u001b[0m \u001b[0;34m==\u001b[0m \u001b[0;36m1\u001b[0m\u001b[0;34m:\u001b[0m\u001b[0;34m\u001b[0m\u001b[0;34m\u001b[0m\u001b[0m\n",
      "\u001b[0;32m/nfs/a321/gy17m2a/anaconda_install/anaconda3/envs/ukcp18/lib/python3.7/site-packages/numpy/lib/histograms.py\u001b[0m in \u001b[0;36m_get_outer_edges\u001b[0;34m(a, range)\u001b[0m\n\u001b[1;32m    311\u001b[0m         \u001b[0;32mif\u001b[0m \u001b[0mfirst_edge\u001b[0m \u001b[0;34m>\u001b[0m \u001b[0mlast_edge\u001b[0m\u001b[0;34m:\u001b[0m\u001b[0;34m\u001b[0m\u001b[0;34m\u001b[0m\u001b[0m\n\u001b[1;32m    312\u001b[0m             raise ValueError(\n\u001b[0;32m--> 313\u001b[0;31m                 'max must be larger than min in range parameter.')\n\u001b[0m\u001b[1;32m    314\u001b[0m         \u001b[0;32mif\u001b[0m \u001b[0;32mnot\u001b[0m \u001b[0;34m(\u001b[0m\u001b[0mnp\u001b[0m\u001b[0;34m.\u001b[0m\u001b[0misfinite\u001b[0m\u001b[0;34m(\u001b[0m\u001b[0mfirst_edge\u001b[0m\u001b[0;34m)\u001b[0m \u001b[0;32mand\u001b[0m \u001b[0mnp\u001b[0m\u001b[0;34m.\u001b[0m\u001b[0misfinite\u001b[0m\u001b[0;34m(\u001b[0m\u001b[0mlast_edge\u001b[0m\u001b[0;34m)\u001b[0m\u001b[0;34m)\u001b[0m\u001b[0;34m:\u001b[0m\u001b[0;34m\u001b[0m\u001b[0;34m\u001b[0m\u001b[0m\n\u001b[1;32m    315\u001b[0m             raise ValueError(\n",
      "\u001b[0;31mValueError\u001b[0m: max must be larger than min in range parameter."
     ]
    },
    {
     "data": {
      "image/png": "[encoded data removed]",
      "text/plain": [
       "<Figure size 432x288 with 1 Axes>"
      ]
     },
     "metadata": {
      "needs_background": "light"
     },
     "output_type": "display_data"
    }
   ],
   "source": [
    "#!/usr/bin/env python\n",
    "# Steven Boeing, 2020\n",
    "import numpy as np\n",
    "import matplotlib as mpl\n",
    "import matplotlib.pyplot as plt\n",
    "\n",
    "# EXAMPLE CODES REGARDING PROBABILITY DISTRIBUTION FUNCTION\n",
    "# AND CUMULATIVE DISTRIBUTION FUNCTION PLOTTING \n",
    "\n",
    "# SMALL NOTES\n",
    "# 1) This shows some possibilities for plotting, but there are more\n",
    "# possibilities (e.g. a weighted cumulative distribution function).\n",
    "# 2) I may want to add something about handling of zero/small values in the\n",
    "# normalisation procedure at some point. It is something to think about,\n",
    "# see Nikolina Ban's work.\n",
    "# 3) I think numpy.histogram and mpl.hist handle numbers that are exactly\n",
    "# on a bin edge sligthly differently, and it is still possible to improve\n",
    "# the handling of cases where not all the numbers are in a bin.\n",
    "\n",
    "# RANDOM NUMBER GENERATION FOR PLOTS\n",
    "# The seed function is used to make sure you draw the same 'random' \n",
    "# numbers each time.\n",
    "# Draw numbers from a lognormal and from a beta distribution, \n",
    "# combine these into a single array\n",
    "draws_in_each_distribution=10000\n",
    "np.random.seed(21)\n",
    "lognormal_numbers=np.random.lognormal(mean=0.3, sigma=1.0, size=draws_in_each_distribution)\n",
    "beta_numbers=np.random.lognormal(mean=0.3, sigma=0.5, size=draws_in_each_distribution)\n",
    "combined_numbers==np.concatenate((lognormal_numbers,beta_numbers))\n",
    "total_nr_draws=len(combined_numbers)\n",
    "\n",
    "# PARAMETERS FOR PLOTTING HISTOGRAMS\n",
    "# Parameters to generate bins with unequal spacing\n",
    "# We use an approach based on the N-th power here \n",
    "# (advantage over logarithmic spacing: easy to handle near-zero values)\n",
    "# An alternative is to use a logarithmmic spacing (see lower down)\n",
    "number_many_linear_bins=200 # Number of bins for improved plots with equal bins\n",
    "power_for_unequal_bins=3.0 # Power used for generating unequal bins\n",
    "number_unequal_bins=40 # Number of unequal bins \n",
    "unequal_min=0. # Must be zero or bigger for this approach to work\n",
    "unequal_max=1.01*np.nanmax(combined_numbers) # Ensure this is greater than the largest number\n",
    "# N-th root (e.g. third root) of bin edges for manual bin edge spacing\n",
    "unequal_linspace=np.linspace(unequal_min,unequal_max**(1.0/power_for_unequal_bins),number_unequal_bins) \n",
    "unequal_bin_edges=unequal_linspace**power_for_unequal_bins\n",
    "# This piece of codes calculates the bin centres, based on the third root\n",
    "# Alternative choice would be: power_bin_centres=0.5*(unequal_bin_edges[:-1]+unequal_bin_edges[1:])\n",
    "unequal_linspace_centres=0.5*(unequal_linspace[:-1]+unequal_linspace[1:])\n",
    "unequal_bin_centres=(unequal_linspace_centres)**3\n",
    "\n",
    "# BEFORE PLOTTING, CHECK MATPLOTLIB VERSION JUST TO SEE WE CAN PLOT EVERYTHING\n",
    "# USING TUPLES TO AVOID DEPENDECY ON PACKAGES\n",
    "def versiontuple(v):\n",
    "    return tuple(map(int, (v.split(\".\"))))\n",
    "    \n",
    "if (versiontuple(mpl.__version__)<versiontuple(\"2.0.0\")):\n",
    "    print ('Error: density histograms need a version of matplotlib>2.0.0')\n",
    "    print ('You may want to set up and activate an appropriate anaconda environment')\n",
    "    quit()\n",
    "    \n",
    "# SIMPLE HISTOGRAMS\n",
    "plt.hist(combined_numbers)\n",
    "plt.title('simple histogram with few bins (take note of y-axis maximum)')\n",
    "plt.xlabel('bin value')\n",
    "plt.ylabel('counts per bin')\n",
    "plt.show()\n",
    "\n",
    "plt.hist(combined_numbers,bins=200)\n",
    "plt.title(str(number_many_linear_bins)+' bins (fewer counts per bin)')\n",
    "plt.xlabel('bin value')\n",
    "plt.ylabel('counts per bin')\n",
    "plt.show()\n",
    "\n",
    "# Shows hit-and-miss behaviour for higher values\n",
    "plt.hist(combined_numbers,bins=200)\n",
    "plt.title(str(number_many_linear_bins)+' bins, zooming in on the higher values')\n",
    "plt.xlabel('bin value')\n",
    "plt.ylabel('counts per bin')\n",
    "plt.ylim(0,20)\n",
    "plt.show()\n",
    "\n",
    "plt.hist(combined_numbers,bins=unequal_bin_edges)\n",
    "plt.title('using unequal bin widths, the curve becomes smoother')\n",
    "plt.xlabel('bin value')\n",
    "plt.ylabel('counts per bin')\n",
    "plt.show()\n",
    "\n",
    "# INTRODUCING THE DENSITY ARGUMENT\n",
    "# Motivation\n",
    "plt.hist(combined_numbers,bins=200,histtype='step')\n",
    "plt.hist(combined_numbers,bins=unequal_bin_edges,histtype='step')\n",
    "plt.legend((str(number_many_linear_bins)+' equal bins',str(number_unequal_bins)+' unequal bins'))\n",
    "plt.title('caution: unequal bins influence shape of the curve (histtype=\\'step\\')')\n",
    "plt.xlabel('bin value')\n",
    "plt.ylabel('counts per bin')\n",
    "plt.show()\n",
    "\n",
    "plt.hist(combined_numbers,histtype='step',density=True)\n",
    "plt.hist(combined_numbers,bins=200,histtype='step',density=True)\n",
    "plt.hist(combined_numbers,bins=unequal_bin_edges,histtype='step',density=True)\n",
    "plt.legend(('few bins',str(number_many_linear_bins)+' equal bins',str(number_unequal_bins)+' unequal bins'))\n",
    "plt.title('use \\'density\\' argument to normalise y-axis (area under each curve is 1)')\n",
    "plt.xlabel('bin value')\n",
    "plt.ylabel('density of counts (area under curve is 1)')\n",
    "plt.ylim(0,0.6)\n",
    "plt.show()\n",
    "\n",
    "plt.hist(combined_numbers,histtype='step',density=True)\n",
    "plt.hist(combined_numbers,bins=200,histtype='step',density=True)\n",
    "plt.hist(combined_numbers,bins=unequal_bin_edges,histtype='step',density=True)\n",
    "plt.legend(('few bins',str(number_many_linear_bins)+' equal bins',str(number_unequal_bins)+' unequal bins'))\n",
    "plt.title('zooming in on the distributions with the \\'density\\' argument')\n",
    "plt.xlabel('bin value')\n",
    "plt.ylabel('density of counts (area under curve is 1)')\n",
    "plt.ylim(0,0.01)\n",
    "plt.show()\n"
   ]
  },
  {
   "cell_type": "code",
   "execution_count": null,
   "id": "8ee0812d",
   "metadata": {},
   "outputs": [],
   "source": [
    "\n",
    "# NUMPY CALCULATIONS OF HISTOGRAM\n",
    "# Use extended arrays to get edges right using matplotlib.pyplot.step\n",
    "# Check manual plots against matplotlib.pyplot.hist\n",
    "# In the examples below, the 'where' argument is added explicitly\n",
    "# For the cumulative distribution functions, add extra bin equal to last value\n",
    "def extend_histogram(values,bin_edges,cumulative=False):\n",
    "    if cumulative==True:\n",
    "        return np.concatenate(([0.0],values,[values[-1]])),np.concatenate((bin_edges,[bin_edges[-1]]))      \n",
    "    else:\n",
    "        return np.concatenate(([0.0],values,[0.0])),np.concatenate((bin_edges,[bin_edges[-1]]))\n",
    "    \n",
    "unequal_density,bins_out=np.histogram(combined_numbers,bins=unequal_bin_edges,density=True)\n",
    "unequal_density_extended,unequal_bin_edges_extended=extend_histogram(unequal_density,unequal_bin_edges)\n",
    "\n",
    "# PLOTS TO CHECK MANUALLY PLOTTED HISTOGRAMS AGAINST MATPLOTLIB ONES\n",
    "plt.plot(unequal_bin_centres,unequal_density)\n",
    "plt.step(unequal_bin_edges_extended,unequal_density_extended,where='pre') \n",
    "plt.hist(combined_numbers,bins=unequal_bin_edges,density=True)\n",
    "plt.legend(('plotted as lines','plotted as steps','plotted with matplotlib'))\n",
    "plt.title('you can plot as lines as well (needs some more code)')\n",
    "plt.xlabel('bin value')\n",
    "plt.ylabel('density of counts (area under curve is 1)')\n",
    "plt.xlim(-0.003*np.nanmax(combined_numbers),np.nanmax(combined_numbers))\n",
    "plt.ylim(0,0.6)\n",
    "plt.show()\n",
    "\n",
    "plt.plot(unequal_bin_centres,unequal_density)\n",
    "plt.step(unequal_bin_edges_extended,unequal_density_extended,where='pre')\n",
    "plt.hist(combined_numbers,bins=unequal_bin_edges,density=True)\n",
    "plt.legend(('plotted as lines','plotted as steps','plotted with matplotlib'))\n",
    "plt.title('zooming in on smaller values')\n",
    "plt.xlabel('bin value')\n",
    "plt.ylabel('density of counts (area under curve is 1)')\n",
    "plt.xlim(-0.003*np.nanmax(combined_numbers),np.nanmax(combined_numbers))\n",
    "plt.ylim(0,0.01)\n",
    "plt.show()\n",
    "\n",
    "# For the logarithmic plots, add scatterplot option\n",
    "# Drawback of this plot is that the area under the curve no longer\n",
    "# corresponds to anything\n",
    "plt.plot(unequal_bin_centres,unequal_density)\n",
    "plt.step(unequal_bin_edges_extended,unequal_density_extended,where='pre')\n",
    "plt.scatter(unequal_bin_centres,unequal_density)\n",
    "plt.hist(combined_numbers,bins=unequal_bin_edges,density=True)\n",
    "plt.legend(('plotted as lines','plotted as steps','plotted as scatterplot','plotted with matplotlib'))\n",
    "plt.title('using a y log-axis')\n",
    "plt.xlabel('bin value')\n",
    "plt.ylabel('density of counts (log axis)')\n",
    "plt.gca().set_yscale('log')\n",
    "plt.xlim(-0.003*np.nanmax(combined_numbers),np.nanmax(combined_numbers))\n",
    "plt.ylim(1e-5,1.0)\n",
    "plt.show()\n",
    "\n",
    "plt.plot(unequal_bin_centres,unequal_density)\n",
    "plt.step(unequal_bin_edges_extended,unequal_density_extended,where='pre')\n",
    "plt.scatter(unequal_bin_centres,unequal_density)\n",
    "plt.hist(combined_numbers,bins=unequal_bin_edges,density=True)\n",
    "plt.legend(('plotted as lines','plotted as steps','plotted as scatterplot','plotted with matplotlib'))\n",
    "plt.title('using two log axes')\n",
    "plt.xlabel('bin value (log axis)')\n",
    "plt.ylabel('density of counts (log axis)')\n",
    "plt.gca().set_xscale('log')\n",
    "plt.gca().set_yscale('log')\n",
    "plt.xlim(1e-3,np.nanmax(combined_numbers))\n",
    "plt.ylim(1e-5,1.0)\n",
    "plt.show()\n",
    "\n",
    "# CUMULATIVE HISTOGRAM PLOTTING\n",
    "# Including manual normalisation\n",
    "# Extended arrays used to make cdf go from 0 to non-zero at first value in line plot\n",
    "# Another (nicer) way to create cdfs involves sorting the array to obtain relative ranks\n",
    "# this is also demonstrated\n",
    "unequal_counts,bins_out=np.histogram(combined_numbers,bins=unequal_bin_edges) \n",
    "unequal_cumulative=np.cumsum(unequal_counts)/(1.0*total_nr_draws)\n",
    "unequal_cumulative_extended,unequal_bin_edges_extended=extend_histogram(unequal_cumulative,unequal_bin_edges,cumulative=True)\n",
    "sorted_numbers = np.sort(combined_numbers)\n",
    "sorted_numbers_extended=np.concatenate(([sorted_numbers[0]],sorted_numbers)) # repeat first number as zero entry\n",
    "relative_ranks=np.arange(total_nr_draws+1.0)/(1.0*total_nr_draws)\n",
    "exceedance_ranks=1.0-relative_ranks\n",
    "\n",
    "plt.plot(unequal_bin_edges_extended,unequal_cumulative_extended)\n",
    "plt.step(unequal_bin_edges_extended,unequal_cumulative_extended,where='pre')\n",
    "plt.hist(combined_numbers,bins=unequal_bin_edges,cumulative=True,density=True)\n",
    "plt.legend(('plotted as lines','plotted as steps','plotted with matplotlib'))\n",
    "plt.title('instead of pdfs, plot cumulative distributions (lines meet at right of bar)')\n",
    "plt.xlabel('bin value')\n",
    "plt.ylabel('fraction of contributions below bin value')\n",
    "plt.xlim(-0.003*np.nanmax(combined_numbers),np.nanmax(combined_numbers))\n",
    "plt.ylim(0,1.0)\n",
    "plt.show()\n",
    "\n",
    "plt.plot(sorted_numbers_extended,relative_ranks)\n",
    "plt.hist(combined_numbers,bins=unequal_bin_edges,cumulative=True,density=True)\n",
    "plt.legend(('plotted as lines','plotted with matplotlib'))\n",
    "plt.title('nicer cdfs can be obtained using a sorting approach')\n",
    "plt.xlabel('bin value')\n",
    "plt.ylabel('fraction of contributions below bin value')\n",
    "plt.xlim(-0.003*np.nanmax(combined_numbers),np.nanmax(combined_numbers))\n",
    "plt.ylim(0,1.0)\n",
    "plt.show()\n",
    "\n",
    "plt.plot(sorted_numbers_extended,exceedance_ranks)\n",
    "plt.title('probability of exceedance (1-cdf value)')\n",
    "plt.xlabel('bin value')\n",
    "plt.ylabel('probability of exceedance')\n",
    "plt.xlim(-0.003*np.nanmax(combined_numbers),np.nanmax(combined_numbers))\n",
    "plt.ylim(0,1.0)\n",
    "plt.show()\n",
    "\n",
    "plt.plot(sorted_numbers_extended,exceedance_ranks)\n",
    "plt.scatter(sorted_numbers_extended,exceedance_ranks)\n",
    "plt.legend(('plotted as lines','plotted as a scatterplot'))\n",
    "plt.title('using a y-log axis')\n",
    "plt.xlabel('bin value')\n",
    "plt.ylabel('probability of exceedance')\n",
    "plt.gca().set_yscale('log')\n",
    "plt.xlim(-0.003*np.nanmax(combined_numbers),np.nanmax(combined_numbers))\n",
    "plt.ylim(1e-5,1.0)\n",
    "plt.show()\n",
    "\n",
    "# WEIGHTED DENSITY HISTOGRAMS\n",
    "# Rather than probability in each bin, these show the contribution to the\n",
    "# sum of the numbers corresponding to each bin.\n",
    "weighted_density,bins_out=np.histogram(combined_numbers,bins=unequal_bin_edges,density=True,weights=combined_numbers)\n",
    "weighted_density_extended,unequal_bin_edges_extended=extend_histogram(weighted_density,unequal_bin_edges)\n",
    "  \n",
    "plt.plot(unequal_bin_centres,weighted_density)\n",
    "plt.step(unequal_bin_edges_extended,weighted_density_extended,where='pre')\n",
    "plt.hist(combined_numbers,bins=unequal_bin_edges,density=True,weights=combined_numbers)\n",
    "plt.legend(('plotted as lines','plotted as steps','plotted with matplotlib'))\n",
    "plt.title('weight the pdf by \\'contribution\\' to emphasize high bin values')\n",
    "plt.xlabel('bin value')\n",
    "plt.ylabel('density of contributions (area under curve is 1)')\n",
    "plt.xlim(-0.003*np.nanmax(combined_numbers),np.nanmax(combined_numbers))\n",
    "plt.ylim(0,0.35)\n",
    "plt.show()\n",
    "\n",
    "# PLOTS WITH LOGARITHMIC BINS\n",
    "# formatting for powers of two\n",
    "def format_log2(value, tick_number):\n",
    "    N = 2.0**value\n",
    "    return r\"${0}$\".format(N)\n",
    "    \n",
    "log_bins=40\n",
    "log_bins_min=-5.\n",
    "log_bins_max=8\n",
    "log_bins_linspace=np.linspace(log_bins_min,log_bins_max,log_bins)\n",
    "log_bins_centres=0.5*(log_bins_linspace[:-1]+log_bins_linspace[1:])\n",
    "log_weighted_density,bins_out=np.histogram(np.log2(combined_numbers),bins=log_bins_linspace,density=True,weights=combined_numbers)\n",
    "log_weighted_density_extended,log_bin_edges_extended=extend_histogram(log_weighted_density,log_bins_linspace)\n",
    "    \n",
    "plt.plot(log_bins_centres,log_weighted_density)\n",
    "plt.step(log_bin_edges_extended,log_weighted_density_extended,where='pre') \n",
    "plt.legend(('plotted as lines','plotted as steps'))\n",
    "plt.title('log x-axis and logarithmic bins (area below curve scales with contribution)')\n",
    "plt.ylim(0,0.5)\n",
    "plt.xlim(log_bins_min,log_bins_max)\n",
    "plt.xticks(np.log2([0.125,0.25,0.5,1,2,4,8,16,32,64]))\n",
    "plt.gca().xaxis.set_major_formatter(plt.FuncFormatter(format_log2))\n",
    "plt.xlabel('bin value')\n",
    "plt.ylabel('density of contributions/doubling')\n",
    "plt.show()\n",
    "\n",
    "# GENERATE A SECOND DISTRIBUTION\n",
    "lognormal_numbers_new=np.random.lognormal(mean=0.4, sigma=1.2, size=draws_in_each_distribution)\n",
    "beta_numbers_new=np.random.lognormal(mean=0.4, sigma=0.6, size=draws_in_each_distribution)\n",
    "combined_numbers_new=np.concatenate((lognormal_numbers_new,beta_numbers_new))\n",
    "log_weighted_density_new,bins_out=np.histogram(np.log2(combined_numbers_new),bins=log_bins_linspace,density=True,weights=combined_numbers_new)\n",
    "\n",
    "# NORMALISED TO HAVE EQUAL AREA UNDER CURVE (AREA IS 1 IF THE \"DISTANCE\" FOR EACH DOUBLING IS REGARDED AS 1)\n",
    "plt.plot(log_bins_centres,log_weighted_density)\n",
    "plt.plot(log_bins_centres,log_weighted_density_new)\n",
    "plt.legend(('old normalised to unity','new normalised to unity'))\n",
    "plt.title('similar plot for two different distributions (equal area under curve)')\n",
    "plt.xlabel('bin value')\n",
    "plt.ylabel('density of contributions/doubling')\n",
    "plt.xticks(np.log2([0.125,0.25,0.5,1,2,4,8,16,32,64]))\n",
    "plt.gca().xaxis.set_major_formatter(plt.FuncFormatter(format_log2))\n",
    "plt.xlim(log_bins_min,log_bins_max)\n",
    "plt.ylim(0,0.5)\n",
    "plt.show()\n",
    "\n",
    "# NORMALISED TO HAVE AREA UNDER CURVE EQUAL TO SUM OF NUMBERS\n",
    "# For precipitation, this plot has the advantage that it displays both:\n",
    "# - How the probability and amount of at a given rate (e.g. 30 mm/hr rainfall) changes (both scale as curve height at 30 mm/hr)\n",
    "# - How the amount of rainfall above a threshold rate (e.g. 30 mm/hr) changes (scales as area of curve above 30 mm/hr)\n",
    "plt.plot(log_bins_centres,sum(combined_numbers)*log_weighted_density)\n",
    "plt.plot(log_bins_centres,sum(combined_numbers_new)*log_weighted_density_new)\n",
    "plt.legend(('old normalised to total','new normalised to total'))\n",
    "plt.title('better normalisation: area under the curve proportional to total')\n",
    "plt.xlabel('bin value')\n",
    "plt.ylabel('total contribution/doubling')\n",
    "plt.xticks(np.log2([0.125,0.25,0.5,1,2,4,8,16,32,64]))\n",
    "plt.gca().xaxis.set_major_formatter(plt.FuncFormatter(format_log2))\n",
    "plt.xlim(log_bins_min,log_bins_max)\n",
    "plt.ylim(0,1.5*np.nanmax(sum(combined_numbers_new)*log_weighted_density_new))\n",
    "plt.show()\n"
   ]
  },
  {
   "cell_type": "code",
   "execution_count": 69,
   "id": "ceda6795",
   "metadata": {},
   "outputs": [],
   "source": [
    "number_many_linear_bins=200 # Number of bins for improved plots with equal bins\n",
    "power_for_unequal_bins=3.0 # Power used for generating unequal bins\n",
    "number_unequal_bins=40 # Number of unequal bins \n",
    "unequal_min=0. # Must be zero or bigger for this approach to work\n",
    "unequal_max=1.01*np.nanmax(combined_numbers) # Ensure this is greater than the largest number\n",
    "# N-th root (e.g. third root) of bin edges for manual bin edge spacing\n",
    "unequal_linspace=np.linspace(unequal_min,unequal_max**(1.0/power_for_unequal_bins),number_unequal_bins) \n",
    "unequal_bin_edges=unequal_linspace**power_for_unequal_bins\n",
    "# This piece of codes calculates the bin centres, based on the third root\n",
    "# Alternative choice would be: power_bin_centres=0.5*(unequal_bin_edges[:-1]+unequal_bin_edges[1:])\n",
    "unequal_linspace_centres=0.5*(unequal_linspace[:-1]+unequal_linspace[1:])\n",
    "unequal_bin_centres=(unequal_linspace_centres)**3\n",
    "total_nr_draws=len(combined_numbers)"
   ]
  },
  {
   "cell_type": "code",
   "execution_count": 71,
   "id": "87224845",
   "metadata": {},
   "outputs": [
    {
     "ename": "NameError",
     "evalue": "name 'unequal_bin_edges_extended' is not defined",
     "output_type": "error",
     "traceback": [
      "\u001b[0;31m---------------------------------------------------------------------------\u001b[0m",
      "\u001b[0;31mNameError\u001b[0m                                 Traceback (most recent call last)",
      "\u001b[0;32m/tmp/ipykernel_5765/2587060746.py\u001b[0m in \u001b[0;36m<module>\u001b[0;34m\u001b[0m\n\u001b[1;32m      7\u001b[0m \u001b[0mexceedance_ranks\u001b[0m\u001b[0;34m=\u001b[0m\u001b[0;36m1.0\u001b[0m\u001b[0;34m-\u001b[0m\u001b[0mrelative_ranks\u001b[0m\u001b[0;34m\u001b[0m\u001b[0;34m\u001b[0m\u001b[0m\n\u001b[1;32m      8\u001b[0m \u001b[0;34m\u001b[0m\u001b[0m\n\u001b[0;32m----> 9\u001b[0;31m \u001b[0mplt\u001b[0m\u001b[0;34m.\u001b[0m\u001b[0mplot\u001b[0m\u001b[0;34m(\u001b[0m\u001b[0munequal_bin_edges_extended\u001b[0m\u001b[0;34m,\u001b[0m\u001b[0munequal_cumulative_extended\u001b[0m\u001b[0;34m)\u001b[0m\u001b[0;34m\u001b[0m\u001b[0;34m\u001b[0m\u001b[0m\n\u001b[0m\u001b[1;32m     10\u001b[0m \u001b[0mplt\u001b[0m\u001b[0;34m.\u001b[0m\u001b[0mstep\u001b[0m\u001b[0;34m(\u001b[0m\u001b[0munequal_bin_edges_extended\u001b[0m\u001b[0;34m,\u001b[0m\u001b[0munequal_cumulative_extended\u001b[0m\u001b[0;34m,\u001b[0m\u001b[0mwhere\u001b[0m\u001b[0;34m=\u001b[0m\u001b[0;34m'pre'\u001b[0m\u001b[0;34m)\u001b[0m\u001b[0;34m\u001b[0m\u001b[0;34m\u001b[0m\u001b[0m\n\u001b[1;32m     11\u001b[0m \u001b[0mplt\u001b[0m\u001b[0;34m.\u001b[0m\u001b[0mhist\u001b[0m\u001b[0;34m(\u001b[0m\u001b[0mcombined_numbers\u001b[0m\u001b[0;34m,\u001b[0m\u001b[0mbins\u001b[0m\u001b[0;34m=\u001b[0m\u001b[0munequal_bin_edges\u001b[0m\u001b[0;34m,\u001b[0m\u001b[0mcumulative\u001b[0m\u001b[0;34m=\u001b[0m\u001b[0;32mTrue\u001b[0m\u001b[0;34m,\u001b[0m\u001b[0mdensity\u001b[0m\u001b[0;34m=\u001b[0m\u001b[0;32mTrue\u001b[0m\u001b[0;34m)\u001b[0m\u001b[0;34m\u001b[0m\u001b[0;34m\u001b[0m\u001b[0m\n",
      "\u001b[0;31mNameError\u001b[0m: name 'unequal_bin_edges_extended' is not defined"
     ]
    }
   ],
   "source": [
    "unequal_counts,bins_out=np.histogram(combined_numbers,bins=unequal_bin_edges) \n",
    "unequal_cumulative=np.cumsum(unequal_counts)/(1.0*total_nr_draws)\n",
    "unequal_cumulative_extended,unequal_bin_edges_extended=extend_histogram(unequal_cumulative,unequal_bin_edges,cumulative=True)\n",
    "sorted_numbers = np.sort(combined_numbers)\n",
    "sorted_numbers_extended=np.concatenate(([sorted_numbers[0]],sorted_numbers)) # repeat first number as zero entry\n",
    "relative_ranks=np.arange(total_nr_draws+1.0)/(1.0*total_nr_draws)\n",
    "exceedance_ranks=1.0-relative_ranks\n",
    "\n",
    "plt.plot(unequal_bin_edges_extended,unequal_cumulative_extended)\n",
    "plt.step(unequal_bin_edges_extended,unequal_cumulative_extended,where='pre')\n",
    "plt.hist(combined_numbers,bins=unequal_bin_edges,cumulative=True,density=True)\n",
    "plt.legend(('plotted as lines','plotted as steps','plotted with matplotlib'))\n",
    "plt.title('instead of pdfs, plot cumulative distributions (lines meet at right of bar)')\n",
    "plt.xlabel('bin value')\n",
    "plt.ylabel('fraction of contributions below bin value')\n",
    "plt.xlim(-0.003*np.nanmax(combined_numbers),np.nanmax(combined_numbers))\n",
    "plt.ylim(0,1.0)\n",
    "plt.show()\n",
    "\n",
    "plt.plot(sorted_numbers_extended,relative_ranks)\n",
    "plt.hist(combined_numbers,bins=unequal_bin_edges,cumulative=True,density=True)\n",
    "plt.legend(('plotted as lines','plotted with matplotlib'))\n",
    "plt.title('nicer cdfs can be obtained using a sorting approach')\n",
    "plt.xlabel('bin value')\n",
    "plt.ylabel('fraction of contributions below bin value')\n",
    "plt.xlim(-0.003*np.nanmax(combined_numbers),np.nanmax(combined_numbers))\n",
    "plt.ylim(0,1.0)\n",
    "plt.show()\n",
    "\n",
    "plt.plot(sorted_numbers_extended,exceedance_ranks)\n",
    "plt.title('probability of exceedance (1-cdf value)')\n",
    "plt.xlabel('bin value')\n",
    "plt.ylabel('probability of exceedance')\n",
    "plt.xlim(-0.003*np.nanmax(combined_numbers),np.nanmax(combined_numbers))\n",
    "plt.ylim(0,1.0)\n",
    "plt.show()\n",
    "\n",
    "plt.plot(sorted_numbers_extended,exceedance_ranks)\n",
    "plt.scatter(sorted_numbers_extended,exceedance_ranks)\n",
    "plt.legend(('plotted as lines','plotted as a scatterplot'))\n",
    "plt.title('using a y-log axis')\n",
    "plt.xlabel('bin value')\n",
    "plt.ylabel('probability of exceedance')\n",
    "plt.gca().set_yscale('log')\n",
    "plt.xlim(-0.003*np.nanmax(combined_numbers),np.nanmax(combined_numbers))\n",
    "plt.ylim(1e-5,1.0)\n",
    "plt.show()"
   ]
  },
  {
   "cell_type": "markdown",
   "id": "63b66a2a",
   "metadata": {},
   "source": [
    "### Plot for each ensemble member separately"
   ]
  }
 ],
 "metadata": {
  "kernelspec": {
   "display_name": "Python 3 (ipykernel)",
   "language": "python",
   "name": "python3"
  },
  "language_info": {
   "codemirror_mode": {
    "name": "ipython",
    "version": 3
   },
   "file_extension": ".py",
   "mimetype": "text/x-python",
   "name": "python",
   "nbconvert_exporter": "python",
   "pygments_lexer": "ipython3",
   "version": "3.7.13"
  }
 },
 "nbformat": 4,
 "nbformat_minor": 5
}
