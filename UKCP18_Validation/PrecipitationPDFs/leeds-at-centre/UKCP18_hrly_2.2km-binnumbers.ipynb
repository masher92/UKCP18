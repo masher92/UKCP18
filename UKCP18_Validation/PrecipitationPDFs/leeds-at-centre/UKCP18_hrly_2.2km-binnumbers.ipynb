{
 "cells": [
  {
   "cell_type": "code",
   "execution_count": 5,
   "id": "2aff7057",
   "metadata": {},
   "outputs": [],
   "source": [
    "resolution = '2.2km'"
   ]
  },
  {
   "cell_type": "code",
   "execution_count": 1,
   "id": "9af59326",
   "metadata": {},
   "outputs": [],
   "source": [
    "import numpy as np\n",
    "import matplotlib.pyplot as plt\n",
    "import matplotlib.patches as mpatches\n",
    "\n",
    "# Function to calculate PDF from a single file\n",
    "def calculate_pdf(file_name, filter_small_vals, bins=50):\n",
    "    # Get the data\n",
    "    precipitation_data = np.load(file_name)\n",
    "    # Remove NAN values\n",
    "    precipitation_data = precipitation_data[~np.isnan(precipitation_data)]\n",
    "    # \n",
    "#     freqs, bin_edges = np.histogram(precipitation_data, bins=bins, density=True)\n",
    "    freqs, bin_edges = np.histogram(precipitation_data, bins=bins, density=True)\n",
    "    # I think this was just for knowing how many value was in each bin\n",
    "    # How was I using that in log_discrete_histogram_less_legend???\n",
    "    # freqs_numbers, bin_edges = np.histogram(precipitation_data, bins= bins, density=False)\n",
    "    \n",
    "    # \n",
    "    #n_bins = str(len(bin_edges))\n",
    "    # Find the centre point of each bin for plotting\n",
    "    bin_centres =  0.5*(bin_edges[1:] + bin_edges[:-1])    \n",
    "    \n",
    "    return freqs, bin_centres\n",
    "\n",
    "\n",
    "# Function to calculate PDF from a single file\n",
    "def calculate_pdf_wetvalues (file_name, filter_small_vals=False ,bins=8):\n",
    "    # Get the data\n",
    "    precipitation_data = np.load(file_name)\n",
    "    # Remove NAN values\n",
    "    precipitation_data = precipitation_data[~np.isnan(precipitation_data)]\n",
    "    # Keep only wet values \n",
    "    precipitation_data = precipitation_data[precipitation_data >= 0.1]\n",
    "    \n",
    "    if filter_small_vals == True:\n",
    "        precipitation_data = precipitation_data[precipitation_data >= 0.5]\n",
    "        precipitation_data = precipitation_data[precipitation_data <= 1.5]\n",
    "    \n",
    "    freqs, bin_edges = np.histogram(precipitation_data, bins=bins_i_want, density=True)\n",
    "    # I think this was just for knowing how many value was in each bin\n",
    "    # How was I using that in log_discrete_histogram_less_legend???\n",
    "    # freqs_numbers, bin_edges = np.histogram(precipitation_data, bins= bins, density=False)\n",
    "    \n",
    "    # \n",
    "    #n_bins = str(len(bin_edges))\n",
    "    # Find the centre point of each bin for plotting\n",
    "    bin_centres =  0.5*(bin_edges[1:] + bin_edges[:-1])    \n",
    "    \n",
    "    return freqs, bin_centres"
   ]
  },
  {
   "cell_type": "code",
   "execution_count": 3,
   "id": "e2d40e9d",
   "metadata": {},
   "outputs": [],
   "source": [
    "# Issue with this is that the bin centres is based on the final one"
   ]
  },
  {
   "cell_type": "markdown",
   "id": "ce84a390",
   "metadata": {},
   "source": [
    "## Just wet values - OVERLAPPING PERIOD"
   ]
  },
  {
   "cell_type": "code",
   "execution_count": 9,
   "id": "1132192d",
   "metadata": {},
   "outputs": [],
   "source": [
    "bins_i_want  =  [3, 7, 10,15, 21, 35,45, 62, 78,100,150,300]\n",
    "# bins_i_want  =  [1 ,7,10,15, 21, 35,45, 62, 78]\n",
    "bin_num = len(bins_i_want)-1\n",
    "# bin_num = 8"
   ]
  },
  {
   "cell_type": "code",
   "execution_count": 10,
   "id": "00f7b1a7",
   "metadata": {},
   "outputs": [
    {
     "name": "stdout",
     "output_type": "stream",
     "text": [
      "1990\n",
      "1991\n",
      "1992\n",
      "1993\n",
      "1994\n",
      "1995\n",
      "1996\n",
      "1997\n",
      "1998\n",
      "1999\n",
      "2000\n"
     ]
    }
   ],
   "source": [
    "# # Initialize variables to accumulate PDF\n",
    "total_pdf_cehgear_wv_o = np.zeros(bin_num)  # Assuming 50 bins for the histogram\n",
    "total_bin_centers_cehgear_wv_o = None\n",
    " \n",
    "# Process each file and accumulate PDF\n",
    "datadir = f'/nfs/a319/gy17m2a/PhD/ProcessedData/TimeSeries/CEH-GEAR/{resolution}/NearestNeighbour/'\n",
    "for yr in range(1990,2001):\n",
    "    print(yr)\n",
    "    file_name = datadir + f\"{yr}_compressed.npy\"\n",
    "    pdf_cehgear_wv, bin_centers_cehgear_wv = calculate_pdf_wetvalues(file_name)\n",
    "    total_pdf_cehgear_wv_o += pdf_cehgear_wv\n",
    "    total_bin_centers_cehgear_wv_o = bin_centers_cehgear_wv"
   ]
  },
  {
   "cell_type": "markdown",
   "id": "1b124d0c",
   "metadata": {},
   "source": [
    "### UKCP18 - 2.2km"
   ]
  },
  {
   "cell_type": "code",
   "execution_count": 13,
   "id": "46a17d53",
   "metadata": {},
   "outputs": [
    {
     "name": "stdout",
     "output_type": "stream",
     "text": [
      "01\n",
      "04\n",
      "05\n",
      "06\n",
      "07\n",
      "08\n",
      "09\n",
      "10\n",
      "11\n",
      "12\n",
      "13\n",
      "15\n"
     ]
    }
   ],
   "source": [
    "# Initialize variables to accumulate PDF\n",
    "total_pdf_wv_2_2km_o = np.zeros(bin_num)  # Assuming 50 bins for the histogram\n",
    "total_bin_centers_wv_2_2km_o = None\n",
    "\n",
    "ems = ['01', '04', '05', '06', '07', '08', '09', '10', '11', '12', '13', '15']\n",
    " \n",
    "# Process each file and accumulate PDF\n",
    "for em in ems:\n",
    "    print(em)\n",
    "    datadir = f'/nfs/a319/gy17m2a/PhD/ProcessedData/TimeSeries/UKCP18_hourly/2.2km/1980_2001/{em}/'\n",
    "    for yr in range(1990,2001):\n",
    "        file_name = datadir + f\"compressed_{yr}.npy\"\n",
    "        pdf_wv_2_2km, bin_centers_wv_2_2km = calculate_pdf_wetvalues(file_name,)\n",
    "        total_pdf_wv_2_2km_o += pdf_wv_2_2km\n",
    "        total_bin_centers_wv_2_2km_o = bin_centers_wv_2_2km\n",
    "        # print(bin_centers)"
   ]
  },
  {
   "cell_type": "markdown",
   "id": "c23e97e5",
   "metadata": {},
   "source": [
    "## Plot"
   ]
  },
  {
   "cell_type": "markdown",
   "id": "9196f8ee",
   "metadata": {},
   "source": [
    "### Not overlappingperiod"
   ]
  },
  {
   "cell_type": "code",
   "execution_count": 19,
   "id": "44d2a1a4",
   "metadata": {},
   "outputs": [],
   "source": [
    "bin_num = len(bins_i_want) -1"
   ]
  },
  {
   "cell_type": "code",
   "execution_count": 15,
   "id": "b1cc3a0e",
   "metadata": {},
   "outputs": [],
   "source": [
    "# # Initialize variables to accumulate PDF\n",
    "total_pdf_cehgear_wv_no = np.zeros(bin_num)  # Assuming 50 bins for the histogram\n",
    "total_bin_centers_cehgear_wv_no = None\n",
    " \n",
    "# Process each file and accumulate PDF\n",
    "datadir = f'/nfs/a319/gy17m2a/PhD/ProcessedData/TimeSeries/CEH-GEAR/{resolution}/NearestNeighbour/'\n",
    "for yr in range(1990,2001):\n",
    "    # print(yr)\n",
    "    file_name = datadir + f\"{yr}_compressed.npy\"\n",
    "    pdf_cehgear_wv, bin_centers_cehgear_wv = calculate_pdf_wetvalues(file_name, bin_num)\n",
    "    total_pdf_cehgear_wv_no += pdf_cehgear_wv\n",
    "    total_bin_centers_cehgear_wv_no = bin_centers_cehgear_wv"
   ]
  },
  {
   "cell_type": "code",
   "execution_count": 16,
   "id": "8bf8be07",
   "metadata": {},
   "outputs": [
    {
     "name": "stdout",
     "output_type": "stream",
     "text": [
      "01\n",
      "04\n",
      "05\n",
      "06\n",
      "07\n",
      "08\n",
      "09\n",
      "10\n",
      "11\n",
      "12\n",
      "13\n",
      "15\n"
     ]
    }
   ],
   "source": [
    "# Initialize variables to accumulate PDF\n",
    "total_pdf_wv_2_2km_no = np.zeros(bin_num)  # Assuming 50 bins for the histogram\n",
    "total_bin_centers_wv_2_2km_no = None\n",
    "\n",
    "ems = ['01', '04', '05', '06', '07', '08', '09', '10', '11', '12', '13', '15']\n",
    " \n",
    "# Process each file and accumulate PDF\n",
    "for em in ems:\n",
    "    print(em)\n",
    "    datadir = f'/nfs/a319/gy17m2a/PhD/ProcessedData/TimeSeries/UKCP18_hourly/2.2km/1980_2001/{em}/'\n",
    "    for yr in range(1990,2001):\n",
    "        file_name = datadir + f\"compressed_{yr}.npy\"\n",
    "        pdf_wv_2_2km, bin_centers_wv_2_2km = calculate_pdf_wetvalues(file_name, bin_num)\n",
    "        total_pdf_wv_2_2km_no += pdf_wv_2_2km\n",
    "        total_bin_centers_wv_2_2km_no = bin_centers_wv_2_2km\n",
    "        # print(bin_centers)"
   ]
  },
  {
   "cell_type": "markdown",
   "id": "7bb29136",
   "metadata": {},
   "source": [
    "### Both overlapping and not overlapping in one plot"
   ]
  },
  {
   "cell_type": "code",
   "execution_count": 18,
   "id": "0ea6af55",
   "metadata": {},
   "outputs": [
    {
     "data": {
      "image/png": "[encoded data removed]",
      "text/plain": [
       "<Figure size 864x288 with 2 Axes>"
      ]
     },
     "metadata": {
      "needs_background": "light"
     },
     "output_type": "display_data"
    }
   ],
   "source": [
    "# Draw the plot\n",
    "fig, axs = plt.subplots(nrows=1, ncols=2, figsize=(12,4))\n",
    "\n",
    "axs[0].scatter(total_bin_centers_cehgear_wv_o, total_pdf_cehgear_wv_o ,linewidth = 1,s=3, color = 'black')\n",
    "axs[0].plot(total_bin_centers_cehgear_wv_o, total_pdf_cehgear_wv_o ,linewidth = 1, color = 'black')\n",
    "axs[0].scatter(total_bin_centers_wv_2_2km_o, total_pdf_wv_2_2km_o ,linewidth = 1,s=3, color = 'orange')\n",
    "axs[0].plot(total_bin_centers_wv_2_2km_o, total_pdf_wv_2_2km_o ,linewidth = 1, color = 'orange')\n",
    "\n",
    "axs[1].scatter(total_bin_centers_cehgear_wv_no, total_pdf_cehgear_wv_no ,linewidth = 1,s=3, color = 'black')\n",
    "axs[1].plot(total_bin_centers_cehgear_wv_no, total_pdf_cehgear_wv_no ,linewidth = 1, color = 'black')\n",
    "axs[1].scatter(total_bin_centers_wv_2_2km_no, total_pdf_wv_2_2km_no ,linewidth = 1,s=3, color = 'orange')\n",
    "axs[1].plot(total_bin_centers_wv_2_2km_no, total_pdf_wv_2_2km_no ,linewidth = 1, color = 'orange')\n",
    "\n",
    "# Create patches\n",
    "patches= []\n",
    "patch1 = mpatches.Patch(color= 'black', label='CEH-GEAR 2.2km')\n",
    "patch2 = mpatches.Patch(color= 'darkorange', label='UKCP18 2.2km')\n",
    "patches.append(patch1)\n",
    "patches.append(patch2)\n",
    "\n",
    "axs[0].legend(handles=patches)\n",
    "axs[0].set_ylabel('Probability density')\n",
    "axs[0].set_ylim(1e-7,100)\n",
    "axs[0].set_yscale('log')\n",
    "axs[0].set_xscale('linear')    \n",
    "axs[0].set_title('overlapping period')\n",
    "\n",
    "axs[1].legend(handles=patches)\n",
    "axs[1].set_ylabel('Probability density')\n",
    "axs[1].set_ylim(1e-7,100)\n",
    "axs[1].set_yscale('log')\n",
    "axs[1].set_xscale('linear')    \n",
    "axs[1].set_title('Not overlapping period')\n",
    "fig.savefig(\"Figs/RCMvsCPMvsObs/CEH-GEARvsUKCP18_2.2km_withhighervals.png\")"
   ]
  },
  {
   "cell_type": "markdown",
   "id": "61f271d6",
   "metadata": {},
   "source": [
    "## Low values\n",
    "### CEH-GEAR"
   ]
  },
  {
   "cell_type": "code",
   "execution_count": 11,
   "id": "d60809c9",
   "metadata": {},
   "outputs": [],
   "source": [
    "# bins_i_want =  [0.65,0.75,0.85,0.95,1.05,1.15]\n",
    "# bin_num=len(bins_i_want)-1\n",
    "# # # Initialize variables to accumulate PDF\n",
    "# total_pdf_cehgear_wv_low = np.zeros(bin_num)  # Assuming 50 bins for the histogram\n",
    "# total_bin_centers_cehgear_wv_low = None\n",
    " \n",
    "# # Process each file and accumulate PDF\n",
    "# datadir = f'/nfs/a319/gy17m2a/PhD/ProcessedData/TimeSeries/CEH-GEAR/{resolution}/NearestNeighbour/'\n",
    "# for yr in range(1990,2001):\n",
    "#     print(yr)\n",
    "#     file_name = datadir + f\"{yr}_compressed.npy\"\n",
    "#     pdf_cehgear_wv_low, bin_centers_cehgear_wv_low = calculate_pdf_wetvalues(file_name,True, bin_num)\n",
    "#     total_pdf_cehgear_wv_low += pdf_cehgear_wv_low\n",
    "#     total_bin_centers_cehgear_wv_low = bin_centers_cehgear_wv_low"
   ]
  },
  {
   "cell_type": "markdown",
   "id": "7564bc03",
   "metadata": {},
   "source": [
    "### UKCP18 - 2.2km"
   ]
  },
  {
   "cell_type": "code",
   "execution_count": 12,
   "id": "40b7eb87",
   "metadata": {},
   "outputs": [],
   "source": [
    "# # Initialize variables to accumulate PDF\n",
    "# total_pdf_wv_2_2km_low = np.zeros(bin_num)  # Assuming 50 bins for the histogram\n",
    "# total_bin_centers_wv_2_2km_low = None\n",
    "\n",
    "# ems = ['01', '04', '05', '06', '07', '08', '09', '10', '11', '12', '13', '15']\n",
    " \n",
    "# # Process each file and accumulate PDF\n",
    "# for em in ems:\n",
    "#     print(em)\n",
    "#     datadir = f'/nfs/a319/gy17m2a/PhD/ProcessedData/TimeSeries/UKCP18_hourly/2.2km/1980_2001/{em}/'\n",
    "#     for yr in range(1990,2001):\n",
    "#         file_name = datadir + f\"compressed_{yr}.npy\"\n",
    "#         pdf_wv_2_2km_low, bin_centers_wv_2_2km_low = calculate_pdf_wetvalues(file_name, bin_num)\n",
    "#         total_pdf_wv_2_2km_low += pdf_wv_2_2km_low\n",
    "#         total_bin_centers_wv_2_2km_low = bin_centers_wv_2_2km_low\n",
    "#         # print(bin_centers)"
   ]
  },
  {
   "cell_type": "markdown",
   "id": "1f54e68b",
   "metadata": {},
   "source": [
    "### Plot"
   ]
  },
  {
   "cell_type": "code",
   "execution_count": 13,
   "id": "ba7a0caf",
   "metadata": {},
   "outputs": [],
   "source": [
    "# # Draw the plot\n",
    "# fig, ax = plt.subplots()\n",
    "# ax.scatter(total_bin_centers_cehgear_wv_low, total_pdf_cehgear_wv_low ,linewidth = 1,s=3, color = 'black')\n",
    "# ax.plot(total_bin_centers_cehgear_wv_low, total_pdf_cehgear_wv_low ,linewidth = 1, color = 'black')\n",
    "\n",
    "# ax.scatter(total_bin_centers_wv_2_2km_low, total_pdf_wv_2_2km_low ,linewidth = 1,s=3, color = 'orange')\n",
    "# ax.plot(total_bin_centers_wv_2_2km_low, total_pdf_wv_2_2km_low ,linewidth = 1, color = 'orange')\n",
    "\n",
    "# # Create patches\n",
    "# patches= []\n",
    "# patch1 = mpatches.Patch(color= 'black', label='CEH-GEAR')\n",
    "# patch2 = mpatches.Patch(color= 'darkorange', label='UKCP18')\n",
    "# patches.append(patch1)\n",
    "# patches.append(patch2)\n",
    "\n",
    "# ax.legend(handles=patches)\n",
    "# # ax.set_xlabel(precip_variable)\n",
    "# ax.set_ylabel('Probability density')\n",
    "# # ax.set_xlim(0,80)\n",
    "# # if xlim != False:\n",
    "# #     ax.set_xlim(0,xlim)\n",
    "# #plt.title(n_bins + \" bins\")\n",
    "# # ax.set_yscale('log')\n",
    "# ax.set_xscale('linear')    \n"
   ]
  }
 ],
 "metadata": {
  "kernelspec": {
   "display_name": "Python 3 (ipykernel)",
   "language": "python",
   "name": "python3"
  },
  "language_info": {
   "codemirror_mode": {
    "name": "ipython",
    "version": 3
   },
   "file_extension": ".py",
   "mimetype": "text/x-python",
   "name": "python",
   "nbconvert_exporter": "python",
   "pygments_lexer": "ipython3",
   "version": "3.7.13"
  }
 },
 "nbformat": 4,
 "nbformat_minor": 5
}
