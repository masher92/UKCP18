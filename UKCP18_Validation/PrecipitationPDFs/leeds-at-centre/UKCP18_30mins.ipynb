version https://git-lfs.github.com/spec/v1
oid sha256:9760efaaba26c958e73545acdd40ac517faf840763d4d3b7320573a46d766815
size 40185
