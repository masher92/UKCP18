{
 "cells": [
  {
   "cell_type": "code",
   "execution_count": 51,
   "id": "2aff7057",
   "metadata": {},
   "outputs": [],
   "source": [
    "resolution = '12km'"
   ]
  },
  {
   "cell_type": "code",
   "execution_count": 157,
   "id": "9af59326",
   "metadata": {},
   "outputs": [],
   "source": [
    "import numpy as np\n",
    "import matplotlib.pyplot as plt\n",
    "import matplotlib.patches as mpatches\n",
    "\n",
    "# Function to calculate PDF from a single file\n",
    "def calculate_pdf(file_name, filter_small_vals, bins=50):\n",
    "    # Get the data\n",
    "    precipitation_data = np.load(file_name)\n",
    "    # Remove NAN values\n",
    "    precipitation_data = precipitation_data[~np.isnan(precipitation_data)]\n",
    "    # \n",
    "#     freqs, bin_edges = np.histogram(precipitation_data, bins=bins, density=True)\n",
    "    freqs, bin_edges = np.histogram(precipitation_data, bins=bins_i_want, density=True)\n",
    "    # I think this was just for knowing how many value was in each bin\n",
    "    # How was I using that in log_discrete_histogram_less_legend???\n",
    "    # freqs_numbers, bin_edges = np.histogram(precipitation_data, bins= bins, density=False)\n",
    "    \n",
    "    # \n",
    "    #n_bins = str(len(bin_edges))\n",
    "    # Find the centre point of each bin for plotting\n",
    "    bin_centres =  0.5*(bin_edges[1:] + bin_edges[:-1])    \n",
    "    \n",
    "    return freqs, bin_centres\n",
    "\n",
    "\n",
    "# Function to calculate PDF from a single file\n",
    "def calculate_pdf_wetvalues (file_name, filter_small_vals=False ,bins=50):\n",
    "    # Get the data\n",
    "    precipitation_data = np.load(file_name)\n",
    "    # Remove NAN values\n",
    "    precipitation_data = precipitation_data[~np.isnan(precipitation_data)]\n",
    "    # Keep only wet values \n",
    "    precipitation_data = precipitation_data[precipitation_data >= 0.1]\n",
    "    \n",
    "    if filter_small_vals == True:\n",
    "        precipitation_data = precipitation_data[precipitation_data >= 0.5]\n",
    "        precipitation_data = precipitation_data[precipitation_data <= 1.5]\n",
    "    \n",
    "    freqs, bin_edges = np.histogram(precipitation_data, bins=bins_i_want, density=True)\n",
    "    # I think this was just for knowing how many value was in each bin\n",
    "    # How was I using that in log_discrete_histogram_less_legend???\n",
    "    # freqs_numbers, bin_edges = np.histogram(precipitation_data, bins= bins, density=False)\n",
    "    \n",
    "    # \n",
    "    #n_bins = str(len(bin_edges))\n",
    "    # Find the centre point of each bin for plotting\n",
    "    bin_centres =  0.5*(bin_edges[1:] + bin_edges[:-1])    \n",
    "    \n",
    "    return freqs, bin_centres\n",
    "\n",
    "def calculate_ccdf_wetvalues(file_name, filter_small_vals=False, bins=8):\n",
    "    # Get the data\n",
    "    precipitation_data = np.load(file_name)\n",
    "    # Remove NAN values\n",
    "    precipitation_data = precipitation_data[~np.isnan(precipitation_data)]\n",
    "    # Keep only wet values \n",
    "    precipitation_data = precipitation_data[precipitation_data >= 0.1]\n",
    "    \n",
    "    if filter_small_vals:\n",
    "        precipitation_data = precipitation_data[(precipitation_data >= 0.5) & (precipitation_data <= 1.5)]\n",
    "    \n",
    "    # Compute the cumulative distribution function (CDF) using the histogram\n",
    "    # np.diff(bin_edges): Calculate the differences between bin edges to get bin widths\n",
    "    # hist * np.diff(bin_edges): Multiply each histogram value by its corresponding bin width\n",
    "    # np.cumsum(): Compute the cumulative sum of the products\n",
    "    # cdf: The cumulative distribution function values\n",
    "    hist, bin_edges = np.histogram(precipitation_data, bins=bins_i_want, density=True)\n",
    "    cdf = np.cumsum(hist * np.diff(bin_edges))\n",
    "    \n",
    "    # Calculate 1 - CDF for CCDF\n",
    "    ccdf = 1 - cdf\n",
    "    \n",
    "    # Find the centre point of each bin for plotting\n",
    "    bin_centres = 0.5 * (bin_edges[1:] + bin_edges[:-1])\n",
    "    \n",
    "    return cdf, ccdf, bin_centres"
   ]
  },
  {
   "cell_type": "code",
   "execution_count": 3,
   "id": "e2d40e9d",
   "metadata": {},
   "outputs": [],
   "source": [
    "# Issue with this is that the bin centres is based on the final one"
   ]
  },
  {
   "cell_type": "markdown",
   "id": "ce84a390",
   "metadata": {},
   "source": [
    "## Just wet values - OVERLAPPING PERIOD"
   ]
  },
  {
   "cell_type": "code",
   "execution_count": 53,
   "id": "1132192d",
   "metadata": {},
   "outputs": [],
   "source": [
    "bins_i_want  =  [0.1, 3, 7, 10,15, 21, 35,45, 62, 78]\n",
    "# bins_i_want  =  [1 ,7,10,15, 21, 35,45, 62, 78]\n",
    "bin_num = len(bins_i_want)-1"
   ]
  },
  {
   "cell_type": "markdown",
   "id": "dd249fb1",
   "metadata": {},
   "source": [
    "### CEH-GEAR"
   ]
  },
  {
   "cell_type": "code",
   "execution_count": 54,
   "id": "00f7b1a7",
   "metadata": {},
   "outputs": [
    {
     "name": "stdout",
     "output_type": "stream",
     "text": [
      "1990\n",
      "1991\n",
      "1992\n",
      "1993\n",
      "1994\n",
      "1995\n",
      "1996\n",
      "1997\n",
      "1998\n",
      "1999\n",
      "2000\n"
     ]
    }
   ],
   "source": [
    "# # Initialize variables to accumulate PDF\n",
    "total_pdf_cehgear_wv_o = np.zeros(bin_num)  # Assuming 50 bins for the histogram\n",
    "total_bin_centers_cehgear_wv_o = None\n",
    " \n",
    "# Process each file and accumulate PDF\n",
    "datadir = f'/nfs/a319/gy17m2a/PhD/ProcessedData/TimeSeries/CEH-GEAR/{resolution}/NearestNeighbour/'\n",
    "for yr in range(1990,2001):\n",
    "    print(yr)\n",
    "    file_name = datadir + f\"{yr}_compressed.npy\"\n",
    "    pdf_cehgear_wv, bin_centers_cehgear_wv = calculate_pdf_wetvalues(file_name, bin_num)\n",
    "    total_pdf_cehgear_wv_o += pdf_cehgear_wv\n",
    "    total_bin_centers_cehgear_wv_o = bin_centers_cehgear_wv"
   ]
  },
  {
   "cell_type": "markdown",
   "id": "40a73061",
   "metadata": {},
   "source": [
    "### UKCP18 - 12km"
   ]
  },
  {
   "cell_type": "code",
   "execution_count": null,
   "id": "46a17d53",
   "metadata": {},
   "outputs": [],
   "source": [
    "# Initialize variables to accumulate PDF\n",
    "total_pdf_wv_2_2km_o = np.zeros(bin_num)  # Assuming 50 bins for the histogram\n",
    "total_bin_centers_wv_2_2km_o = None\n",
    "\n",
    "ems = ['01', '04', '05', '06', '07', '08', '09', '10', '11', '12', '13', '15']\n",
    " \n",
    "# Process each file and accumulate PDF\n",
    "for em in ems:\n",
    "    print(em)\n",
    "    datadir = f'/nfs/a319/gy17m2a/PhD/ProcessedData/TimeSeries/UKCP18_hourly/2.2km_regridded_12km/1980_2001/{em}/'\n",
    "    for yr in range(1990,2001):\n",
    "        file_name = datadir + f\"compressed_{yr}.npy\"\n",
    "        pdf_wv_2_2km, bin_centers_wv_2_2km = calculate_pdf_wetvalues(file_name, bin_num)\n",
    "        total_pdf_wv_2_2km_o += pdf_wv_2_2km\n",
    "        total_bin_centers_wv_2_2km_o = bin_centers_wv_2_2km\n",
    "        # print(bin_centers)"
   ]
  },
  {
   "cell_type": "markdown",
   "id": "03b32a62",
   "metadata": {},
   "source": [
    "## Not overlappingperiod"
   ]
  },
  {
   "cell_type": "code",
   "execution_count": 18,
   "id": "f50583c6",
   "metadata": {},
   "outputs": [],
   "source": [
    "bins_i_want  =  [0.1, 3, 7, 10,15, 21, 35,45, 62, 78]\n",
    "# bins_i_want  =  [1 ,7,10,15, 21, 35,45, 62, 78]\n",
    "bin_num = len(bins_i_want) -1"
   ]
  },
  {
   "cell_type": "code",
   "execution_count": 30,
   "id": "9c2a0ef7",
   "metadata": {},
   "outputs": [],
   "source": [
    "# # Initialize variables to accumulate PDF\n",
    "total_pdf_cehgear_wv_no = np.zeros(bin_num)  # Assuming 50 bins for the histogram\n",
    "total_bin_centers_cehgear_wv_no = None\n",
    " \n",
    "# Process each file and accumulate PDF\n",
    "datadir = f'/nfs/a319/gy17m2a/PhD/ProcessedData/TimeSeries/CEH-GEAR/{resolution}/NearestNeighbour/'\n",
    "for yr in range(1990,2014):\n",
    "    file_name = datadir + f\"{yr}_compressed.npy\"\n",
    "    pdf_cehgear_wv, bin_centers_cehgear_wv = calculate_pdf_wetvalues(file_name, bin_num)\n",
    "    total_pdf_cehgear_wv_no += pdf_cehgear_wv\n",
    "    total_bin_centers_cehgear_wv_no = bin_centers_cehgear_wv"
   ]
  },
  {
   "cell_type": "code",
   "execution_count": 25,
   "id": "e4059c46",
   "metadata": {},
   "outputs": [
    {
     "name": "stdout",
     "output_type": "stream",
     "text": [
      "04\n",
      "05\n",
      "06\n",
      "07\n",
      "08\n",
      "09\n",
      "10\n",
      "11\n",
      "12\n",
      "13\n",
      "15\n"
     ]
    }
   ],
   "source": [
    "# Initialize variables to accumulate PDF\n",
    "total_pdf_wv_2_2km_no = np.zeros(bin_num)  # Assuming 50 bins for the histogram\n",
    "total_bin_centers_wv_2_2km_no = None\n",
    "\n",
    "ems = ['01', '04', '05', '06', '07', '08', '09', '10', '11', '12', '13', '15']\n",
    "\n",
    "\n",
    "# Process each file and accumulate PDF\n",
    "for em in ems:\n",
    "    print(em)\n",
    "    datadir = f'/nfs/a319/gy17m2a/PhD/ProcessedData/TimeSeries/UKCP18_hourly/2.2km_regridded_12km/1980_2001/{em}/'\n",
    "    for yr in range(1981,2001):\n",
    "        file_name = datadir + f\"compressed_{yr}.npy\"\n",
    "        pdf_wv_2_2km, bin_centers_wv_2_2km = calculate_pdf_wetvalues(file_name, bin_num)\n",
    "        total_pdf_wv_2_2km_no += pdf_wv_2_2km\n",
    "        total_bin_centers_wv_2_2km_no = bin_centers_wv_2_2km\n",
    "        # print(bin_centers)"
   ]
  },
  {
   "cell_type": "markdown",
   "id": "450750fe",
   "metadata": {},
   "source": [
    "### Both overlapping and not overlapping in one plot"
   ]
  },
  {
   "cell_type": "code",
   "execution_count": 44,
   "id": "72a2e99c",
   "metadata": {},
   "outputs": [
    {
     "data": {
      "image/png": "[encoded data removed]",
      "text/plain": [
       "<Figure size 864x288 with 2 Axes>"
      ]
     },
     "metadata": {
      "needs_background": "light"
     },
     "output_type": "display_data"
    }
   ],
   "source": [
    "# Draw the plot\n",
    "fig, axs = plt.subplots(nrows=1, ncols=2, figsize=(12,4))\n",
    "\n",
    "axs[0].scatter(total_bin_centers_cehgear_wv_o, total_pdf_cehgear_wv_o ,linewidth = 1,s=3, color = 'black')\n",
    "axs[0].plot(total_bin_centers_cehgear_wv_o, total_pdf_cehgear_wv_o ,linewidth = 1, color = 'black')\n",
    "axs[0].scatter(total_bin_centers_wv_2_2km_o, total_pdf_wv_2_2km_o ,linewidth = 1,s=3, color = 'orange')\n",
    "axs[0].plot(total_bin_centers_wv_2_2km_o, total_pdf_wv_2_2km_o ,linewidth = 1, color = 'orange')\n",
    "\n",
    "axs[1].scatter(total_bin_centers_cehgear_wv_no, total_pdf_cehgear_wv_no ,linewidth = 1,s=3, color = 'black')\n",
    "axs[1].plot(total_bin_centers_cehgear_wv_no, total_pdf_cehgear_wv_no ,linewidth = 1, color = 'black')\n",
    "axs[1].scatter(total_bin_centers_wv_2_2km_no, total_pdf_wv_2_2km_no ,linewidth = 1,s=3, color = 'orange')\n",
    "axs[1].plot(total_bin_centers_wv_2_2km_no, total_pdf_wv_2_2km_no ,linewidth = 1, color = 'orange')\n",
    "\n",
    "# Create patches\n",
    "patches= []\n",
    "patch1 = mpatches.Patch(color= 'black', label='CEH-GEAR regridded 12km')\n",
    "patch2 = mpatches.Patch(color= 'darkorange', label='UKCP18 regridded 12km')\n",
    "patches.append(patch1)\n",
    "patches.append(patch2)\n",
    "\n",
    "axs[0].legend(handles=patches)\n",
    "axs[0].set_ylabel('Probability density')\n",
    "axs[0].set_ylim(1e-7,100)\n",
    "axs[0].set_yscale('log')\n",
    "axs[0].set_xscale('linear')    \n",
    "axs[0].set_title('overlapping period')\n",
    "\n",
    "axs[1].legend(handles=patches)\n",
    "axs[1].set_ylabel('Probability density')\n",
    "axs[1].set_ylim(1e-7,100)\n",
    "axs[1].set_yscale('log')\n",
    "axs[1].set_xscale('linear')    \n",
    "axs[1].set_title('Not overlapping period')\n",
    "fig.savefig(\"Figs/RCMvsCPMvsObs/CEH-GEARvsUKCP18_12km_3,7bins.png\", bbox_inches='tight')"
   ]
  },
  {
   "cell_type": "markdown",
   "id": "f3924e2b",
   "metadata": {},
   "source": [
    "## Plot CDF"
   ]
  },
  {
   "cell_type": "code",
   "execution_count": 77,
   "id": "4bd8c5fa",
   "metadata": {},
   "outputs": [],
   "source": [
    "bins_i_want  =  [0.1, 3, 7, 10,15, 21, 35,45, 62]\n",
    "bin_num = len(bins_i_want)-1"
   ]
  },
  {
   "cell_type": "code",
   "execution_count": 159,
   "id": "c7043b98",
   "metadata": {},
   "outputs": [],
   "source": [
    "bins_i_want  =  [0, 0.05, 0.1, 0.5,2, 3, 7, 10,15, 21, 35,45, 62, 78]\n",
    "bins_i_want  =  [0, 0.05, 0.1, 3, 7, 10,15, 21, 35,45, 62, 78]\n",
    "bin_num = len(bins_i_want)-1"
   ]
  },
  {
   "cell_type": "code",
   "execution_count": 167,
   "id": "93f46fe5",
   "metadata": {},
   "outputs": [],
   "source": [
    "# # Initialize variables to accumulate PDF\n",
    "total_cdf_cehgear_wv_no = np.zeros(bin_num)  # Assuming 50 bins for the histogram\n",
    "total_ccdf_cehgear_wv_no = np.zeros(bin_num)  # Assuming 50 bins for the histogram\n",
    "total_bin_centers_cehgear_wv_no = None\n",
    " \n",
    "# Process each file and accumulate PDF\n",
    "datadir = f'/nfs/a319/gy17m2a/PhD/ProcessedData/TimeSeries/CEH-GEAR/{resolution}/NearestNeighbour/'\n",
    "for yr in range(1990,2014):\n",
    "    file_name = datadir + f\"{yr}_compressed.npy\"\n",
    "    cdf_cehgear_wv, ccdf_cehgear_wv, bin_centers_cehgear_wv = calculate_ccdf_wetvalues(file_name)\n",
    "    total_cdf_cehgear_wv_no = total_cdf_cehgear_wv_no + cdf_cehgear_wv\n",
    "    total_ccdf_cehgear_wv_no = total_ccdf_cehgear_wv_no + ccdf_cehgear_wv\n",
    "    total_bin_centers_cehgear_wv_no = bin_centers_cehgear_wv"
   ]
  },
  {
   "cell_type": "code",
   "execution_count": 169,
   "id": "15f41f2c",
   "metadata": {},
   "outputs": [
    {
     "name": "stdout",
     "output_type": "stream",
     "text": [
      "01\n"
     ]
    }
   ],
   "source": [
    "# Initialize variables to accumulate PDF\n",
    "total_cdf_wv_2_2km_no = np.zeros(bin_num)  # Assuming 50 bins for the histogram\n",
    "total_ccdf_wv_2_2km_no = np.zeros(bin_num)  # Assuming 50 bins for the histogram\n",
    "total_bin_centers_wv_2_2km_no = None\n",
    "data = np.array([])\n",
    "ems = ['01', '04', '05', '06', '07', '08', '09', '10', '11', '12', '13', '15']\n",
    "\n",
    "# Process each file and accumulate PDF\n",
    "for em in ems:\n",
    "    print(em)\n",
    "    datadir = f'/nfs/a319/gy17m2a/PhD/ProcessedData/TimeSeries/UKCP18_hourly/2.2km_regridded_12km/1980_2001/{em}/'\n",
    "    for yr in range(1981,2001):\n",
    "        file_name = datadir + f\"compressed_{yr}.npy\"\n",
    "        data = np.append(data, np.load(file_name))\n",
    "        cdf_wv_2_2km, ccdf_wv_2_2km, bin_centers_wv_2_2km = calculate_ccdf_wetvalues(file_name, )\n",
    "        total_cdf_wv_2_2km_no = total_cdf_wv_2_2km_no + cdf_wv_2_2km\n",
    "        total_ccdf_wv_2_2km_no = total_ccdf_wv_2_2km_no + ccdf_wv_2_2km\n",
    "        total_bin_centers_wv_2_2km_no = bin_centers_wv_2_2km\n",
    "        # print(bin_centers)"
   ]
  },
  {
   "cell_type": "code",
   "execution_count": 173,
   "id": "feb151e7",
   "metadata": {},
   "outputs": [
    {
     "data": {
      "image/png": "[encoded data removed]",
      "text/plain": [
       "<Figure size 864x288 with 2 Axes>"
      ]
     },
     "metadata": {
      "needs_background": "light"
     },
     "output_type": "display_data"
    }
   ],
   "source": [
    "fig, axs = plt.subplots(nrows=1, ncols=2, figsize=(12,4))\n",
    "\n",
    "# axs[0].scatter(total_bin_centers_wv_2_2km_no, total_pdf_wv_2_2km_no ,linewidth = 1,s=3, color = 'black')\n",
    "# axs[0].plot(total_bin_centers_wv_2_2km_no, total_pdf_wv_2_2km_no ,linewidth = 1, color = 'black')\n",
    "# axs[0].set_yscale('log')\n",
    "# axs[0].set_xscale('linear')    \n",
    "axs[0].scatter(total_bin_centers_cehgear_wv_no, total_cdf_cehgear_wv_no ,linewidth = 1,s=3, color = 'black')\n",
    "axs[0].plot(total_bin_centers_cehgear_wv_no, total_cdf_cehgear_wv_no ,linewidth = 1, color = 'black')\n",
    "# axs[1].scatter(total_bin_centers_cehgear_wv_no, total_cdf_cehgear_wv_no ,linewidth = 1,s=3, color = 'black')\n",
    "# axs[1].plot(total_bin_centers_cehgear_wv_no, total_cdf_cehgear_wv_no ,linewidth = 1, color = 'black')\n",
    "axs[1].scatter(total_bin_centers_wv_2_2km_no, total_cdf_wv_2_2km_no ,linewidth = 1,s=3, color = 'orange')\n",
    "axs[1].plot(total_bin_centers_wv_2_2km_no, total_cdf_wv_2_2km_no ,linewidth = 1, color = 'orange')\n",
    "# axs[1].set_ylim(1e-7,1000)\n",
    "axs[1].set_yscale('log')\n",
    "axs[1].set_xscale('linear')    \n",
    "\n",
    "# axs[1].get_yaxis().set_major_formatter(\n",
    "#     ticker.FuncFormatter(lambda x, p: format(x, '.4f')))"
   ]
  },
  {
   "cell_type": "code",
   "execution_count": 154,
   "id": "4f6f389d",
   "metadata": {},
   "outputs": [
    {
     "data": {
      "image/png": "[encoded data removed]",
      "text/plain": [
       "<Figure size 864x288 with 2 Axes>"
      ]
     },
     "metadata": {
      "needs_background": "light"
     },
     "output_type": "display_data"
    }
   ],
   "source": [
    "fig, axs = plt.subplots(nrows=1, ncols=2, figsize=(12,4))\n",
    "\n",
    "axs[0].scatter(total_bin_centers_wv_2_2km_no, total_pdf_wv_2_2km_no ,linewidth = 1,s=3, color = 'black')\n",
    "axs[0].plot(total_bin_centers_wv_2_2km_no, total_pdf_wv_2_2km_no ,linewidth = 1, color = 'black')\n",
    "axs[0].set_yscale('log')\n",
    "axs[0].set_xscale('linear')    \n",
    "\n",
    "axs[1].scatter(total_bin_centers_cehgear_wv_no, total_pdf_cehgear_wv_no ,linewidth = 1,s=3, color = 'black')\n",
    "axs[1].plot(total_bin_centers_cehgear_wv_no, total_pdf_cehgear_wv_no ,linewidth = 1, color = 'black')\n",
    "axs[1].scatter(total_bin_centers_wv_2_2km_no, total_pdf_wv_2_2km_no ,linewidth = 1,s=3, color = 'orange')\n",
    "axs[1].plot(total_bin_centers_wv_2_2km_no, total_pdf_wv_2_2km_no ,linewidth = 1, color = 'orange')\n",
    "axs[1].set_ylim(1e-7,1000)\n",
    "axs[1].set_yscale('log')\n",
    "axs[1].set_xscale('linear')    \n",
    "\n",
    "# axs[1].get_yaxis().set_major_formatter(\n",
    "#     ticker.FuncFormatter(lambda x, p: format(x, '.4f')))"
   ]
  },
  {
   "cell_type": "markdown",
   "id": "38337233",
   "metadata": {},
   "source": [
    "## Low values\n",
    "### CEH-GEAR"
   ]
  },
  {
   "cell_type": "code",
   "execution_count": 150,
   "id": "579edbac",
   "metadata": {},
   "outputs": [
    {
     "name": "stdout",
     "output_type": "stream",
     "text": [
      "1990\n"
     ]
    },
    {
     "ename": "ValueError",
     "evalue": "operands could not be broadcast together with shapes (4,) (11,) (4,) ",
     "output_type": "error",
     "traceback": [
      "\u001b[0;31m---------------------------------------------------------------------------\u001b[0m",
      "\u001b[0;31mValueError\u001b[0m                                Traceback (most recent call last)",
      "\u001b[0;32m/tmp/ipykernel_7083/719787942.py\u001b[0m in \u001b[0;36m<module>\u001b[0;34m\u001b[0m\n\u001b[1;32m     11\u001b[0m     \u001b[0mfile_name\u001b[0m \u001b[0;34m=\u001b[0m \u001b[0mdatadir\u001b[0m \u001b[0;34m+\u001b[0m \u001b[0;34mf\"{yr}_compressed.npy\"\u001b[0m\u001b[0;34m\u001b[0m\u001b[0;34m\u001b[0m\u001b[0m\n\u001b[1;32m     12\u001b[0m     \u001b[0mpdf_cehgear_wv_low\u001b[0m\u001b[0;34m,\u001b[0m \u001b[0mbin_centers_cehgear_wv_low\u001b[0m \u001b[0;34m=\u001b[0m \u001b[0mcalculate_ccdf_wetvalues\u001b[0m\u001b[0;34m(\u001b[0m\u001b[0mfile_name\u001b[0m\u001b[0;34m,\u001b[0m\u001b[0;32mTrue\u001b[0m\u001b[0;34m,\u001b[0m \u001b[0mbin_num\u001b[0m\u001b[0;34m)\u001b[0m\u001b[0;34m\u001b[0m\u001b[0;34m\u001b[0m\u001b[0m\n\u001b[0;32m---> 13\u001b[0;31m     \u001b[0mtotal_pdf_cehgear_wv_low\u001b[0m \u001b[0;34m+=\u001b[0m \u001b[0mpdf_cehgear_wv_low\u001b[0m\u001b[0;34m\u001b[0m\u001b[0;34m\u001b[0m\u001b[0m\n\u001b[0m\u001b[1;32m     14\u001b[0m     \u001b[0mtotal_bin_centers_cehgear_wv_low\u001b[0m \u001b[0;34m=\u001b[0m \u001b[0mbin_centers_cehgear_wv_low\u001b[0m\u001b[0;34m\u001b[0m\u001b[0;34m\u001b[0m\u001b[0m\n",
      "\u001b[0;31mValueError\u001b[0m: operands could not be broadcast together with shapes (4,) (11,) (4,) "
     ]
    }
   ],
   "source": [
    "low_bins_i_want =  [0.05,0.85,0.95,1.05,1.15]\n",
    "bin_num=len(low_bins_i_want)-1\n",
    "# # Initialize variables to accumulate PDF\n",
    "total_pdf_cehgear_wv_low = np.zeros(bin_num)  # Assuming 50 bins for the histogram\n",
    "total_bin_centers_cehgear_wv_low = None\n",
    " \n",
    "# Process each file and accumulate PDF\n",
    "datadir = f'/nfs/a319/gy17m2a/PhD/ProcessedData/TimeSeries/CEH-GEAR/{resolution}/NearestNeighbour/'\n",
    "for yr in range(1990,2001):\n",
    "    print(yr)\n",
    "    file_name = datadir + f\"{yr}_compressed.npy\"\n",
    "    pdf_cehgear_wv_low, bin_centers_cehgear_wv_low = calculate_ccdf_wetvalues(file_name,True, bin_num)\n",
    "    total_pdf_cehgear_wv_low += pdf_cehgear_wv_low\n",
    "    total_bin_centers_cehgear_wv_low = bin_centers_cehgear_wv_low"
   ]
  },
  {
   "cell_type": "markdown",
   "id": "e0f52953",
   "metadata": {},
   "source": [
    "### UKCP18 - 2.2km"
   ]
  },
  {
   "cell_type": "code",
   "execution_count": 12,
   "id": "911097d5",
   "metadata": {},
   "outputs": [
    {
     "name": "stdout",
     "output_type": "stream",
     "text": [
      "01\n",
      "04\n",
      "05\n",
      "06\n",
      "07\n",
      "08\n",
      "09\n",
      "10\n",
      "11\n",
      "12\n",
      "13\n",
      "15\n"
     ]
    }
   ],
   "source": [
    "# Initialize variables to accumulate PDF\n",
    "total_pdf_wv_2_2km_low = np.zeros(bin_num)  # Assuming 50 bins for the histogram\n",
    "total_bin_centers_wv_2_2km_low = None\n",
    "\n",
    "ems = ['01', '04', '05', '06', '07', '08', '09', '10', '11', '12', '13', '15']\n",
    " \n",
    "# Process each file and accumulate PDF\n",
    "for em in ems:\n",
    "    print(em)\n",
    "    datadir = f'/nfs/a319/gy17m2a/PhD/ProcessedData/TimeSeries/UKCP18_hourly/2.2km/1980_2001/{em}/'\n",
    "    for yr in range(1990,2001):\n",
    "        file_name = datadir + f\"compressed_{yr}.npy\"\n",
    "        pdf_wv_2_2km_low, bin_centers_wv_2_2km_low = calculate_ccdf_wetvalues(file_name, bin_num)\n",
    "        total_pdf_wv_2_2km_low += pdf_wv_2_2km_low\n",
    "        total_bin_centers_wv_2_2km_low = bin_centers_wv_2_2km_low\n",
    "        # print(bin_centers)"
   ]
  },
  {
   "cell_type": "markdown",
   "id": "072c1270",
   "metadata": {},
   "source": [
    "### Plot"
   ]
  },
  {
   "cell_type": "code",
   "execution_count": 13,
   "id": "57763638",
   "metadata": {},
   "outputs": [
    {
     "data": {
      "image/png": "[encoded data removed]",
      "text/plain": [
       "<Figure size 432x288 with 1 Axes>"
      ]
     },
     "metadata": {
      "needs_background": "light"
     },
     "output_type": "display_data"
    }
   ],
   "source": [
    "# Draw the plot\n",
    "fig, ax = plt.subplots()\n",
    "ax.scatter(total_bin_centers_cehgear_wv_low, total_pdf_cehgear_wv_low ,linewidth = 1,s=3, color = 'black')\n",
    "ax.plot(total_bin_centers_cehgear_wv_low, total_pdf_cehgear_wv_low ,linewidth = 1, color = 'black')\n",
    "\n",
    "ax.scatter(total_bin_centers_wv_2_2km_low, total_pdf_wv_2_2km_low ,linewidth = 1,s=3, color = 'orange')\n",
    "ax.plot(total_bin_centers_wv_2_2km_low, total_pdf_wv_2_2km_low ,linewidth = 1, color = 'orange')\n",
    "\n",
    "# Create patches\n",
    "patches= []\n",
    "patch1 = mpatches.Patch(color= 'black', label='CEH-GEAR')\n",
    "patch2 = mpatches.Patch(color= 'darkorange', label='UKCP18')\n",
    "patches.append(patch1)\n",
    "patches.append(patch2)\n",
    "\n",
    "ax.legend(handles=patches)\n",
    "# ax.set_xlabel(precip_variable)\n",
    "ax.set_ylabel('Probability density')\n",
    "# ax.set_xlim(0,80)\n",
    "# if xlim != False:\n",
    "#     ax.set_xlim(0,xlim)\n",
    "#plt.title(n_bins + \" bins\")\n",
    "# ax.set_yscale('log')\n",
    "ax.set_xscale('linear')    \n",
    "fig.savefig(\"Figs/RCMvsCPMvsObs/CEH-GEARvsUKCP18_12km_low.png\")"
   ]
  }
 ],
 "metadata": {
  "kernelspec": {
   "display_name": "Python 3 (ipykernel)",
   "language": "python",
   "name": "python3"
  },
  "language_info": {
   "codemirror_mode": {
    "name": "ipython",
    "version": 3
   },
   "file_extension": ".py",
   "mimetype": "text/x-python",
   "name": "python",
   "nbconvert_exporter": "python",
   "pygments_lexer": "ipython3",
   "version": "3.7.13"
  }
 },
 "nbformat": 4,
 "nbformat_minor": 5
}
