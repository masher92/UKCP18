{
 "cells": [
  {
   "cell_type": "code",
   "execution_count": 3,
   "id": "7ae86993",
   "metadata": {},
   "outputs": [],
   "source": [
    "import iris \n",
    "import numpy"
   ]
  },
  {
   "cell_type": "code",
   "execution_count": 4,
   "id": "5769a50e",
   "metadata": {},
   "outputs": [
    {
     "data": {
      "text/plain": [
       "42480"
      ]
     },
     "execution_count": 4,
     "metadata": {},
     "output_type": "execute_result"
    }
   ],
   "source": [
    "yr = 1990\n",
    "em = '01'\n",
    "datadir = f'/nfs/a319/gy17m2a/PhD/ProcessedData/TimeSeries/UKCP18_hourly/2.2km_regridded_12km/1980_2001/{em}/'\n",
    "file_name = datadir + f\"{yr}_maskedcube.nc\"\n",
    "this_yr = iris.load(file_name)[0]\n",
    "\n",
    "filenames =[]\n",
    "for yr in range(1981,2001):\n",
    "    file_name = datadir + f\"{yr}_maskedcube.nc\"\n",
    "    filenames.append(file_name)\n",
    "monthly_cubes_list = iris.load(filenames)\n",
    "model_cube = monthly_cubes_list.concatenate_cube()   \n",
    "\n",
    "rainfall_data = model_cube[:,50,42].data\n",
    "len(rainfall_data)"
   ]
  },
  {
   "cell_type": "code",
   "execution_count": 16,
   "id": "3c08035b",
   "metadata": {},
   "outputs": [
    {
     "ename": "NameError",
     "evalue": "name 'cv' is not defined",
     "output_type": "error",
     "traceback": [
      "\u001b[0;31m---------------------------------------------------------------------------\u001b[0m",
      "\u001b[0;31mNameError\u001b[0m                                 Traceback (most recent call last)",
      "\u001b[0;32m/tmp/ipykernel_13625/2122978598.py\u001b[0m in \u001b[0;36m<module>\u001b[0;34m\u001b[0m\n\u001b[1;32m     28\u001b[0m \u001b[0;34m\u001b[0m\u001b[0m\n\u001b[1;32m     29\u001b[0m \u001b[0;31m# # Find the minimum time between independent rainstorms\u001b[0m\u001b[0;34m\u001b[0m\u001b[0;34m\u001b[0m\u001b[0;34m\u001b[0m\u001b[0m\n\u001b[0;32m---> 30\u001b[0;31m \u001b[0mmin_time\u001b[0m \u001b[0;34m=\u001b[0m \u001b[0mfind_minimum_time_between_storms\u001b[0m\u001b[0;34m(\u001b[0m\u001b[0mrainfall_data\u001b[0m\u001b[0;34m)\u001b[0m\u001b[0;34m\u001b[0m\u001b[0;34m\u001b[0m\u001b[0m\n\u001b[0m\u001b[1;32m     31\u001b[0m \u001b[0;34m\u001b[0m\u001b[0m\n\u001b[1;32m     32\u001b[0m \u001b[0mprint\u001b[0m\u001b[0;34m(\u001b[0m\u001b[0;34mf\"The minimum time between independent rainstorms is: {min_time}\"\u001b[0m\u001b[0;34m)\u001b[0m\u001b[0;34m\u001b[0m\u001b[0;34m\u001b[0m\u001b[0m\n",
      "\u001b[0;32m/tmp/ipykernel_13625/2122978598.py\u001b[0m in \u001b[0;36mfind_minimum_time_between_storms\u001b[0;34m(data)\u001b[0m\n\u001b[1;32m     17\u001b[0m \u001b[0;34m\u001b[0m\u001b[0m\n\u001b[1;32m     18\u001b[0m     \u001b[0;32mfor\u001b[0m \u001b[0mtau_T0\u001b[0m \u001b[0;32min\u001b[0m \u001b[0mnp\u001b[0m\u001b[0;34m.\u001b[0m\u001b[0marange\u001b[0m\u001b[0;34m(\u001b[0m\u001b[0mtau_T0_initial\u001b[0m\u001b[0;34m,\u001b[0m \u001b[0mtau_T0_final\u001b[0m\u001b[0;34m,\u001b[0m \u001b[0mstep_size\u001b[0m\u001b[0;34m)\u001b[0m\u001b[0;34m:\u001b[0m\u001b[0;34m\u001b[0m\u001b[0;34m\u001b[0m\u001b[0m\n\u001b[0;32m---> 19\u001b[0;31m         \u001b[0mcv\u001b[0m \u001b[0;34m=\u001b[0m \u001b[0mcalculate_cv\u001b[0m\u001b[0;34m(\u001b[0m\u001b[0mtau_T0\u001b[0m\u001b[0;34m,\u001b[0m \u001b[0mdata\u001b[0m\u001b[0;34m)\u001b[0m\u001b[0;34m\u001b[0m\u001b[0;34m\u001b[0m\u001b[0m\n\u001b[0m\u001b[1;32m     20\u001b[0m         \u001b[0;31m# Implement the logic to check if rainstorm arrival times are exponentially distributed\u001b[0m\u001b[0;34m\u001b[0m\u001b[0;34m\u001b[0m\u001b[0;34m\u001b[0m\u001b[0m\n\u001b[1;32m     21\u001b[0m         \u001b[0;31m# This could involve checking if CV meets certain criteria\u001b[0m\u001b[0;34m\u001b[0m\u001b[0;34m\u001b[0m\u001b[0;34m\u001b[0m\u001b[0m\n",
      "\u001b[0;32m/tmp/ipykernel_13625/2122978598.py\u001b[0m in \u001b[0;36mcalculate_cv\u001b[0;34m(tau_T0, data)\u001b[0m\n\u001b[1;32m      8\u001b[0m \u001b[0;32mdef\u001b[0m \u001b[0mcalculate_cv\u001b[0m\u001b[0;34m(\u001b[0m\u001b[0mtau_T0\u001b[0m\u001b[0;34m,\u001b[0m \u001b[0mdata\u001b[0m\u001b[0;34m)\u001b[0m\u001b[0;34m:\u001b[0m\u001b[0;34m\u001b[0m\u001b[0;34m\u001b[0m\u001b[0m\n\u001b[1;32m      9\u001b[0m     \u001b[0;31m# Implement the CV calculation as described, using tau_T0 and the rainfall data\u001b[0m\u001b[0;34m\u001b[0m\u001b[0;34m\u001b[0m\u001b[0;34m\u001b[0m\u001b[0m\n\u001b[0;32m---> 10\u001b[0;31m     \u001b[0;32mreturn\u001b[0m \u001b[0mcv\u001b[0m  \u001b[0;31m# Placeholder return\u001b[0m\u001b[0;34m\u001b[0m\u001b[0;34m\u001b[0m\u001b[0m\n\u001b[0m\u001b[1;32m     11\u001b[0m \u001b[0;34m\u001b[0m\u001b[0m\n\u001b[1;32m     12\u001b[0m \u001b[0;31m# Main iteration process\u001b[0m\u001b[0;34m\u001b[0m\u001b[0;34m\u001b[0m\u001b[0;34m\u001b[0m\u001b[0m\n",
      "\u001b[0;31mNameError\u001b[0m: name 'cv' is not defined"
     ]
    }
   ],
   "source": [
    "# Placeholder function for loading and preparing your rainfall data\n",
    "def load_rainfall_data():\n",
    "    # Load your data here\n",
    "    # For example, this could return a list or array of rainfall event durations\n",
    "    return np.array([])  # Placeholder return\n",
    "\n",
    "# Function to calculate CV for a given tau_T0#\n",
    "def calculate_cv(dry_periods):\n",
    "    # Calculate mean of dry periods\n",
    "    mean_dry_period = np.mean(dry_periods)\n",
    "    \n",
    "    # Calculate variance of dry periods\n",
    "    variance_dry_period = np.var(dry_periods)\n",
    "    \n",
    "    # Number of dry periods\n",
    "    n = len(dry_periods)\n",
    "    \n",
    "    # Calculate CV using the formula\n",
    "    cv = np.sqrt((n / (n - 1)) * (variance_dry_period / mean_dry_period**2))\n",
    "    return cv\n",
    "\n",
    "\n",
    "def calculate_cv(tau_T0, data):\n",
    "    # Implement the CV calculation as described, using tau_T0 and the rainfall data\n",
    "    return cv  # Placeholder return\n",
    "\n",
    "# Main iteration process\n",
    "def find_minimum_time_between_storms(data):\n",
    "    tau_T0_initial = 0.1  # Initial value, adjust as necessary\n",
    "    tau_T0_final = 100  # Final value, adjust as necessary\n",
    "    step_size = 1  # Step size for iteration, adjust as necessary\n",
    "    \n",
    "    for tau_T0 in np.arange(tau_T0_initial, tau_T0_final, step_size):\n",
    "        cv = calculate_cv(tau_T0, data)\n",
    "        # Implement the logic to check if rainstorm arrival times are exponentially distributed\n",
    "        # This could involve checking if CV meets certain criteria\n",
    "        \n",
    "    # Return the tau_T0 value that meets the criteria\n",
    "    return tau_T0  # Placeholder return\n",
    "\n",
    "# # Load and prepare your rainfall data\n",
    "# rainfall_data = load_rainfall_data()\n",
    "\n",
    "# # Find the minimum time between independent rainstorms\n",
    "min_time = find_minimum_time_between_storms(rainfall_data)\n",
    "\n",
    "print(f\"The minimum time between independent rainstorms is: {min_time}\")"
   ]
  },
  {
   "cell_type": "code",
   "execution_count": 15,
   "id": "700def41",
   "metadata": {},
   "outputs": [
    {
     "name": "stdout",
     "output_type": "stream",
     "text": [
      "2000, Minimum time between independent rainstorms: 1 units\n",
      "2000, Minimum time between independent rainstorms: 1 units\n",
      "2000, Minimum time between independent rainstorms: 1 units\n",
      "2000, Minimum time between independent rainstorms: 1 units\n"
     ]
    }
   ],
   "source": [
    "for em in ['01','04', '05','06']:\n",
    "    datadir = f'/nfs/a319/gy17m2a/PhD/ProcessedData/TimeSeries/UKCP18_hourly/2.2km_regridded_12km/1980_2001/{em}/'\n",
    "    #file_name = datadir + f\"{yr}_maskedcube.nc\"\n",
    "    #this_yr = iris.load(file_name)[0]\n",
    "\n",
    "    filenames =[]\n",
    "    for yr in range(1981,2001):\n",
    "        file_name = datadir + f\"{yr}_maskedcube.nc\"\n",
    "        filenames.append(file_name)\n",
    "    monthly_cubes_list = iris.load(filenames)\n",
    "    model_cube = monthly_cubes_list.concatenate_cube()   \n",
    "\n",
    "    rainfall_data = model_cube[:,50,42].data\n",
    "    len(rainfall_data)\n",
    "\n",
    "\n",
    "\n",
    "    # Assuming the data is in the form of rainfall intensity, we first need to identify rainstorm events.\n",
    "    # This is a simplified approach and may need adjustments based on the specific methodology described in the document.\n",
    "\n",
    "    # Placeholder values for demonstration\n",
    "    threshold_rainfall_intensity = 1e-5  # Rainfall intensity threshold to consider as the start of a rainstorm\n",
    "    min_duration_between_storms = 1  # Minimum duration (in the same unit as the data) between storms to consider them independent\n",
    "\n",
    "    # Identify indices where rainfall exceeds the threshold\n",
    "    rainstorm_indices = np.where(rainfall_data > threshold_rainfall_intensity)[0]\n",
    "\n",
    "    # Calculate time differences between consecutive rainstorms\n",
    "    time_differences = np.diff(rainstorm_indices)\n",
    "\n",
    "    # Filter out time differences that are less than the minimum duration to consider storms independent\n",
    "    independent_storms_time_diff = time_differences[time_differences >= min_duration_between_storms]\n",
    "\n",
    "    # Find the minimum time between independent storms\n",
    "    min_time_between_storms = np.min(independent_storms_time_diff) if len(independent_storms_time_diff) > 0 else None\n",
    "\n",
    "    print(f'{em}, Minimum time between independent rainstorms: {min_time_between_storms} units')"
   ]
  },
  {
   "cell_type": "code",
   "execution_count": 12,
   "id": "df27b192",
   "metadata": {},
   "outputs": [
    {
     "data": {
      "text/plain": [
       "array([ 1,  1,  4, ...,  7, 32,  1])"
      ]
     },
     "execution_count": 12,
     "metadata": {},
     "output_type": "execute_result"
    }
   ],
   "source": [
    "independent_storms_time_diff"
   ]
  }
 ],
 "metadata": {
  "kernelspec": {
   "display_name": "Python 3 (ipykernel)",
   "language": "python",
   "name": "python3"
  },
  "language_info": {
   "codemirror_mode": {
    "name": "ipython",
    "version": 3
   },
   "file_extension": ".py",
   "mimetype": "text/x-python",
   "name": "python",
   "nbconvert_exporter": "python",
   "pygments_lexer": "ipython3",
   "version": "3.7.13"
  }
 },
 "nbformat": 4,
 "nbformat_minor": 5
}
