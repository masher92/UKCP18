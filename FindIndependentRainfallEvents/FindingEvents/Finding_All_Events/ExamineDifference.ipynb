{
 "cells": [
  {
   "cell_type": "code",
   "execution_count": 1,
   "id": "3bd2f7a4",
   "metadata": {
    "scrolled": true
   },
   "outputs": [],
   "source": [
    "import numpy as np\n",
    "import pandas as pd\n",
    "pd.set_option('display.float_format', '{:.3f}'.format)\n",
    "import iris\n",
    "import iris.coord_categorisation\n",
    "import sys\n",
    "import time\n",
    "import datetime\n",
    "from datetime import datetime\n",
    "\n",
    "sys.path.insert(1, '../Finding_AMAX_Events')\n",
    "from Identify_Events_Functions import *\n",
    "from New_Identify_Events_Functions import *\n",
    "sys.path.insert(1, '../../ProcessEvents')\n",
    "from Get_Events_Functions import *\n",
    "\n",
    "# from Prepare_Data_Functions import *\n",
    "\n",
    "home_dir = '/nfs/a319/gy17m2a/PhD/'\n",
    "home_dir2 = '/nfs/a161/gy17m2a/PhD/'\n",
    "\n",
    "gauge_num=3\n",
    "year = 2065\n",
    "em = 'bb198'\n",
    "yrs_range= '2060_2081'\n",
    "sample_cube = iris.load(home_dir + f'datadir/UKCP18_every30mins/2.2km_bng/{yrs_range}/{em}/bng_{em}a.pr206101.nc')[0][1,:,:]\n",
    "tbo_vals = pd.read_csv(home_dir + 'datadir/RainGauge/interarrival_thresholds_CDD_noMissing.txt')"
   ]
  },
  {
   "cell_type": "code",
   "execution_count": 2,
   "id": "73a1de90",
   "metadata": {},
   "outputs": [],
   "source": [
    "Tb0, idx_2d = find_gauge_Tb0_and_location_in_grid(tbo_vals, gauge_num, sample_cube)"
   ]
  },
  {
   "cell_type": "code",
   "execution_count": 3,
   "id": "33253d37",
   "metadata": {},
   "outputs": [],
   "source": [
    "yr_lookup = {str(year): idx for idx, year in enumerate(range(2061, 2080))}"
   ]
  },
  {
   "cell_type": "markdown",
   "id": "bd8d666f",
   "metadata": {},
   "source": [
    "### Read in the 20 year cube, filter to just 2061"
   ]
  },
  {
   "cell_type": "code",
   "execution_count": 4,
   "id": "2d1f6089",
   "metadata": {
    "scrolled": true
   },
   "outputs": [],
   "source": [
    "full_timeslice_cube = iris.load(home_dir + f'datadir/Gauge_Timeslices/2060_2081/{em}/gauge{gauge_num}_farFuture.nc')[0]"
   ]
  },
  {
   "cell_type": "code",
   "execution_count": 5,
   "id": "5effe710",
   "metadata": {},
   "outputs": [],
   "source": [
    "filtered_cube_2066 = full_timeslice_cube.extract(iris.Constraint(year=year))"
   ]
  },
  {
   "cell_type": "code",
   "execution_count": 6,
   "id": "8767ba4c",
   "metadata": {
    "scrolled": true
   },
   "outputs": [],
   "source": [
    "precip_data = filtered_cube_2066.data\n",
    "time_coord = filtered_cube_2066.coord('time')"
   ]
  },
  {
   "cell_type": "markdown",
   "id": "5581712f",
   "metadata": {},
   "source": [
    "# Old method\n",
    "### Get all independent events in 2061"
   ]
  },
  {
   "cell_type": "code",
   "execution_count": 7,
   "id": "0a1e0ab2",
   "metadata": {
    "scrolled": true
   },
   "outputs": [
    {
     "ename": "NameError",
     "evalue": "name 'convert_timeformat_array' is not defined",
     "output_type": "error",
     "traceback": [
      "\u001b[0;31m---------------------------------------------------------------------------\u001b[0m",
      "\u001b[0;31mNameError\u001b[0m                                 Traceback (most recent call last)",
      "\u001b[0;32m/tmp/ipykernel_104276/3843112176.py\u001b[0m in \u001b[0;36m<module>\u001b[0;34m\u001b[0m\n\u001b[1;32m      1\u001b[0m \u001b[0mstart_time\u001b[0m \u001b[0;34m=\u001b[0m \u001b[0mtime\u001b[0m\u001b[0;34m.\u001b[0m\u001b[0mtime\u001b[0m\u001b[0;34m(\u001b[0m\u001b[0;34m)\u001b[0m\u001b[0;34m\u001b[0m\u001b[0;34m\u001b[0m\u001b[0m\n\u001b[0;32m----> 2\u001b[0;31m \u001b[0mmy_events\u001b[0m \u001b[0;34m=\u001b[0m \u001b[0mmy_find_independent_events\u001b[0m\u001b[0;34m(\u001b[0m\u001b[0mprecip_data\u001b[0m\u001b[0;34m,\u001b[0m \u001b[0mtime_coord\u001b[0m\u001b[0;34m,\u001b[0m \u001b[0mTb0\u001b[0m\u001b[0;34m)\u001b[0m\u001b[0;34m\u001b[0m\u001b[0;34m\u001b[0m\u001b[0m\n\u001b[0m\u001b[1;32m      3\u001b[0m \u001b[0mmy_duration\u001b[0m \u001b[0;34m=\u001b[0m \u001b[0mtime\u001b[0m\u001b[0;34m.\u001b[0m\u001b[0mtime\u001b[0m\u001b[0;34m(\u001b[0m\u001b[0;34m)\u001b[0m \u001b[0;34m-\u001b[0m \u001b[0mstart_time\u001b[0m\u001b[0;34m\u001b[0m\u001b[0;34m\u001b[0m\u001b[0m\n\u001b[1;32m      4\u001b[0m \u001b[0mprint\u001b[0m\u001b[0;34m(\u001b[0m\u001b[0;34mf\"My code took {my_duration:.4f} seconds.\"\u001b[0m\u001b[0;34m)\u001b[0m\u001b[0;34m\u001b[0m\u001b[0;34m\u001b[0m\u001b[0m\n",
      "\u001b[0;32m/nfs/a319/gy17m2a/PhD/Scripts/FindIndependentRainfallEvents/FindingEvents/Finding_All_Events/New_Identify_Events_Functions.py\u001b[0m in \u001b[0;36mmy_find_independent_events\u001b[0;34m(precip_data, time_coord, Tb0, dry_threshold)\u001b[0m\n\u001b[1;32m    105\u001b[0m             \u001b[0mevent_data\u001b[0m \u001b[0;34m=\u001b[0m \u001b[0mprecip_data\u001b[0m\u001b[0;34m[\u001b[0m\u001b[0mstart_index\u001b[0m\u001b[0;34m:\u001b[0m\u001b[0mi\u001b[0m\u001b[0;34m]\u001b[0m\u001b[0;34m\u001b[0m\u001b[0;34m\u001b[0m\u001b[0m\n\u001b[1;32m    106\u001b[0m             \u001b[0mevent_time_points\u001b[0m \u001b[0;34m=\u001b[0m \u001b[0mtime_coord\u001b[0m\u001b[0;34m[\u001b[0m\u001b[0mstart_index\u001b[0m\u001b[0;34m:\u001b[0m\u001b[0mi\u001b[0m\u001b[0;34m]\u001b[0m\u001b[0;34m\u001b[0m\u001b[0;34m\u001b[0m\u001b[0m\n\u001b[0;32m--> 107\u001b[0;31m             \u001b[0mevent_times\u001b[0m \u001b[0;34m=\u001b[0m \u001b[0mconvert_timeformat_array\u001b[0m\u001b[0;34m(\u001b[0m\u001b[0mtime_coord\u001b[0m\u001b[0;34m[\u001b[0m\u001b[0;36m0\u001b[0m\u001b[0;34m]\u001b[0m\u001b[0;34m,\u001b[0m\u001b[0mevent_time_points\u001b[0m\u001b[0;34m.\u001b[0m\u001b[0mpoints\u001b[0m\u001b[0;34m)\u001b[0m\u001b[0;34m\u001b[0m\u001b[0;34m\u001b[0m\u001b[0m\n\u001b[0m\u001b[1;32m    108\u001b[0m \u001b[0;34m\u001b[0m\u001b[0m\n\u001b[1;32m    109\u001b[0m             \u001b[0;31m# Trim leading and trailing zeroes\u001b[0m\u001b[0;34m\u001b[0m\u001b[0;34m\u001b[0m\u001b[0;34m\u001b[0m\u001b[0m\n",
      "\u001b[0;31mNameError\u001b[0m: name 'convert_timeformat_array' is not defined"
     ]
    }
   ],
   "source": [
    "start_time = time.time()\n",
    "my_events = my_find_independent_events(precip_data, time_coord, Tb0)\n",
    "my_duration = time.time() - start_time\n",
    "print(f\"My code took {my_duration:.4f} seconds.\")"
   ]
  },
  {
   "cell_type": "markdown",
   "id": "c8428213",
   "metadata": {},
   "source": [
    "### Get AMAX event for 2061 for 6h"
   ]
  },
  {
   "cell_type": "code",
   "execution_count": null,
   "id": "1936d073",
   "metadata": {
    "scrolled": true
   },
   "outputs": [],
   "source": [
    "top_1_6h_events = find_top_n_events_for_duration(my_events, n_events = 1, duration_in_hrs = 6)"
   ]
  },
  {
   "cell_type": "code",
   "execution_count": null,
   "id": "d76a49b5",
   "metadata": {},
   "outputs": [],
   "source": [
    "event = top_1_6h_events[0]\n",
    "times = convert_timeformat_array(time_coord[0], event[2])          \n",
    "event_df = pd.DataFrame({'precipitation (mm)': event[1], \n",
    "                         'times':convert_timeformat_array(time_coord[0], event[2]) })\n",
    "# remove trailing zeroes\n",
    "while event_df['precipitation (mm)'].iloc[-1] < 0.1:\n",
    "    event_df = event_df.iloc[:-1]\n",
    "plt.plot(event_df['precipitation (mm)'])\n",
    "print(len(event_df))\n",
    "print(event_df['precipitation (mm)'].sum())"
   ]
  },
  {
   "cell_type": "markdown",
   "id": "fe6d89fc",
   "metadata": {},
   "source": [
    " # Roberto's method"
   ]
  },
  {
   "cell_type": "code",
   "execution_count": 13,
   "id": "3a1a3bb7",
   "metadata": {},
   "outputs": [],
   "source": [
    "def remove_leading_and_trailing_zeroes(df, threshold = 0.1):\n",
    "    \n",
    "    # Identify the start and end of the event where values are above the threshold\n",
    "    event_start = df[df['precipitation (mm/hr)'] >= threshold].index.min()\n",
    "    event_end = df[df['precipitation (mm/hr)'] >= threshold].index.max()\n",
    "\n",
    "    # Handle cases where no values are above the threshold\n",
    "    if pd.isna(event_start) or pd.isna(event_end):\n",
    "        print(\"No events found with precipitation >= threshold.\")\n",
    "    else:\n",
    "        # Remove values < threshold from the start and end of the event\n",
    "        trimmed_test = df.loc[event_start:event_end].reset_index(drop=True)\n",
    "\n",
    "    return trimmed_test"
   ]
  },
  {
   "cell_type": "code",
   "execution_count": 23,
   "id": "80b6af49",
   "metadata": {
    "scrolled": false
   },
   "outputs": [
    {
     "name": "stdout",
     "output_type": "stream",
     "text": [
      "38.17352489400001\n",
      "21\n"
     ]
    },
    {
     "data": {
      "text/plain": [
       "[<matplotlib.lines.Line2D at 0x7f2df51e7d90>]"
      ]
     },
     "execution_count": 23,
     "metadata": {},
     "output_type": "execute_result"
    },
    {
     "data": {
      "image/png": "[encoded data removed]",
      "text/plain": [
       "<Figure size 432x288 with 1 Axes>"
      ]
     },
     "metadata": {
      "needs_background": "light"
     },
     "output_type": "display_data"
    }
   ],
   "source": [
    "time_period='Future'\n",
    "indy_events_fp = home_dir2 + f\"ProcessedData/IndependentEvents/UKCP18_30mins/{time_period}/{em}/{gauge_num}/WholeYear/EventSet/\"\n",
    "files = [f for f in os.listdir(indy_events_fp) if f.endswith('.csv') and '6hrs' in f]\n",
    "files = np.sort(files)\n",
    "file_num = yr_lookup[str(year)]\n",
    "fp=files[file_num] #files[4] = 6hrs_2066_v2_part0.csv\n",
    "this_event = read_event(gauge_num, indy_events_fp + fp)\n",
    "this_event = remove_leading_and_trailing_zeroes(this_event, 0.1)\n",
    "\n",
    "print(this_event['precipitation (mm)'].sum())\n",
    "print(len(this_event))\n",
    "plt.plot(this_event['precipitation (mm)'])"
   ]
  },
  {
   "cell_type": "markdown",
   "id": "d3e70cdc",
   "metadata": {},
   "source": [
    "# Plotting together"
   ]
  },
  {
   "cell_type": "code",
   "execution_count": 17,
   "id": "0dc9f141",
   "metadata": {},
   "outputs": [
    {
     "data": {
      "text/plain": [
       "[<matplotlib.lines.Line2D at 0x7f2df52dd190>]"
      ]
     },
     "execution_count": 17,
     "metadata": {},
     "output_type": "execute_result"
    },
    {
     "data": {
      "image/png": "[encoded data removed]",
      "text/plain": [
       "<Figure size 432x288 with 1 Axes>"
      ]
     },
     "metadata": {
      "needs_background": "light"
     },
     "output_type": "display_data"
    }
   ],
   "source": [
    "plt.plot(this_event['precipitation (mm)'])\n",
    "plt.plot(event_df['precipitation (mm)'])"
   ]
  },
  {
   "cell_type": "markdown",
   "id": "91ace6f8",
   "metadata": {},
   "source": [
    "## Explanation\n",
    "In the new method, the event is slightly longer.  \n",
    "\n",
    "I believe this is because in Roberto's method, initially the 6hr chunk with the greatest rainfall is identified, and then expansions are made outwards from this. The first two expansions only search quite close to the end of the event, but accept quite small values. The final search will search anywhere within Tb0, but only except new values if they are over 1mm/hr. This means that Roberto's method makes it past the dry gap in the middle, but then as soon as the value goes below 0.1mm/hr then the event is cut-off."
   ]
  },
  {
   "cell_type": "markdown",
   "id": "8e8d61a7",
   "metadata": {},
   "source": [
    "## Are there also circumstances in which they chose compeltely different events?"
   ]
  }
 ],
 "metadata": {
  "kernelspec": {
   "display_name": "Python 3 (ipykernel)",
   "language": "python",
   "name": "python3"
  },
  "language_info": {
   "codemirror_mode": {
    "name": "ipython",
    "version": 3
   },
   "file_extension": ".py",
   "mimetype": "text/x-python",
   "name": "python",
   "nbconvert_exporter": "python",
   "pygments_lexer": "ipython3",
   "version": "3.7.13"
  }
 },
 "nbformat": 4,
 "nbformat_minor": 5
}
