{
 "cells": [
  {
   "cell_type": "code",
   "execution_count": 2,
   "id": "3bd2f7a4",
   "metadata": {},
   "outputs": [],
   "source": [
    "# import gc\n",
    "# import pickle\n",
    "# from collections import OrderedDict\n",
    "# from pyproj import Transformer\n",
    "import numpy as np\n",
    "import pandas as pd\n",
    "pd.set_option('display.float_format', '{:.3f}'.format)\n",
    "import iris\n",
    "# import glob\n",
    "import sys\n",
    "# import os\n",
    "# import cartopy.crs as ccrs\n",
    "# import itertools\n",
    "# from scipy import spatial\n",
    "# import numpy.ma as ma\n",
    "# import tilemapbase\n",
    "# from math import cos, radians\n",
    "# import geopandas as gpd\n",
    "# from shapely.geometry import Polygon\n",
    "# import matplotlib.pyplot as plt\n",
    "# from pyproj import Proj, transform\n",
    "import time\n",
    "\n",
    "sys.path.insert(1, '../Finding_AMAX_Events')\n",
    "from Identify_Events_Functions import *\n",
    "from New_Identify_Events_Functions import *\n",
    "# from Prepare_Data_Functions import *\n",
    "\n",
    "home_dir = '/nfs/a319/gy17m2a/PhD/'\n",
    "\n",
    "em = 'bb198'\n",
    "yrs_range= '2060_2081'\n",
    "sample_cube = iris.load(home_dir + f'datadir/UKCP18_every30mins/2.2km_bng/{yrs_range}/{em}/bng_{em}a.pr206101.nc')[0][1,:,:]\n",
    "tbo_vals = pd.read_csv(home_dir + 'datadir/RainGauge/interarrival_thresholds_CDD_noMissing.txt')"
   ]
  },
  {
   "cell_type": "markdown",
   "id": "bd8d666f",
   "metadata": {},
   "source": [
    "### Read in the 20 year cube"
   ]
  },
  {
   "cell_type": "code",
   "execution_count": 3,
   "id": "2d1f6089",
   "metadata": {},
   "outputs": [],
   "source": [
    "full_timeslice_cube = iris.load(home_dir + 'datadir/Gauge_Timeslices/2060_2081/bb198/gauge0_farFuture.nc')[0]"
   ]
  },
  {
   "cell_type": "code",
   "execution_count": 4,
   "id": "8767ba4c",
   "metadata": {},
   "outputs": [],
   "source": [
    "precip_data = full_timeslice_cube.data\n",
    "time_coord = full_timeslice_cube.coord('time')"
   ]
  },
  {
   "cell_type": "markdown",
   "id": "5581712f",
   "metadata": {},
   "source": [
    "### Compare methods"
   ]
  },
  {
   "cell_type": "code",
   "execution_count": 5,
   "id": "3ce16834",
   "metadata": {},
   "outputs": [],
   "source": [
    "gauge_num=1\n",
    "Tb0, idx_2d = find_gauge_Tb0_and_location_in_grid(tbo_vals, gauge_num, sample_cube)"
   ]
  },
  {
   "cell_type": "code",
   "execution_count": 16,
   "id": "0a1e0ab2",
   "metadata": {},
   "outputs": [
    {
     "name": "stdout",
     "output_type": "stream",
     "text": [
      "Number of independent rainfall events: 4182\n",
      "My code took 0.8387 seconds.\n"
     ]
    }
   ],
   "source": [
    "start_time = time.time()\n",
    "my_events = my_find_independent_events(precip_data, time_coord, Tb0)\n",
    "my_duration = time.time() - start_time\n",
    "print(f\"My code took {my_duration:.4f} seconds.\")"
   ]
  },
  {
   "cell_type": "code",
   "execution_count": null,
   "id": "1936d073",
   "metadata": {},
   "outputs": [],
   "source": [
    "find_top_rainfall_events(my_events, 24)[0]"
   ]
  },
  {
   "cell_type": "code",
   "execution_count": 11,
   "id": "1e4d76f1",
   "metadata": {},
   "outputs": [
    {
     "data": {
      "text/plain": [
       "(masked_array(data=[1.9924560e-01, 5.2400947e-06, 7.7008735e-08,\n",
       "                    6.3738565e-07, 1.6437731e-05, 1.7307965e-04,\n",
       "                    2.8110696e-03, 9.2492159e-03, 1.5851049e-02,\n",
       "                    1.4960921e-02, 1.6572405e-02, 2.0060657e-02,\n",
       "                    1.5700243e-01, 8.6431496e-02, 6.7513436e-04,\n",
       "                    2.1899086e-04, 2.3116058e-02, 5.0247505e-02,\n",
       "                    4.6311140e-02, 5.3187676e-02, 4.7731578e-02,\n",
       "                    3.8542092e-02],\n",
       "              mask=False,\n",
       "        fill_value=1e+20,\n",
       "             dtype=float32),\n",
       " array([786309.75, 786310.25, 786310.75, 786311.25, 786311.75, 786312.25,\n",
       "        786312.75, 786313.25, 786313.75, 786314.25, 786314.75, 786315.25,\n",
       "        786315.75, 786316.25, 786316.75, 786317.25, 786317.75, 786318.25,\n",
       "        786318.75, 786319.25, 786319.75, 786320.25]))"
      ]
     },
     "execution_count": 11,
     "metadata": {},
     "output_type": "execute_result"
    }
   ],
   "source": [
    "my_events[0]"
   ]
  },
  {
   "cell_type": "code",
   "execution_count": 9,
   "id": "ecbd407f",
   "metadata": {},
   "outputs": [
    {
     "data": {
      "text/plain": [
       "(156.00789019437315,\n",
       " masked_array(data=[4.6330724e+00, 5.7517476e+00, 3.3223553e+01,\n",
       "                    3.7635204e+01, 2.3975857e+01, 1.7968315e+01,\n",
       "                    1.5646127e+01, 1.3625112e+01, 2.9598336e+00,\n",
       "                    1.2119937e-01, 2.0667180e-04, 2.3725879e-06,\n",
       "                    3.6000577e-07, 1.4569983e-07, 5.6126690e-03,\n",
       "                    1.7678231e-02, 2.6706414e-06, 1.5192284e-06,\n",
       "                    2.3894124e-06, 1.2932310e-07, 4.1064050e-06,\n",
       "                    8.0331665e-07, 1.2967644e-06, 8.2733633e-05,\n",
       "                    3.0415151e-01, 1.3802987e-01, 4.7243839e-06,\n",
       "                    1.7150669e-06, 3.2567274e-04, 1.5547168e-03,\n",
       "                    5.7698129e-05, 4.6260429e-06, 1.5400747e-06,\n",
       "                    3.3560386e-06, 1.3844015e-04],\n",
       "              mask=False,\n",
       "        fill_value=1e+20,\n",
       "             dtype=float32),\n",
       " array([860882.25, 860882.75, 860883.25, 860883.75, 860884.25, 860884.75,\n",
       "        860885.25, 860885.75, 860886.25, 860886.75, 860887.25, 860887.75,\n",
       "        860888.25, 860888.75, 860889.25, 860889.75, 860890.25, 860890.75,\n",
       "        860891.25, 860891.75, 860892.25, 860892.75, 860893.25, 860893.75,\n",
       "        860894.25, 860894.75, 860895.25, 860895.75, 860896.25, 860896.75,\n",
       "        860897.25, 860897.75, 860898.25, 860898.75, 860899.25]))"
      ]
     },
     "execution_count": 9,
     "metadata": {},
     "output_type": "execute_result"
    }
   ],
   "source": []
  },
  {
   "cell_type": "code",
   "execution_count": 10,
   "id": "c3a07c08",
   "metadata": {},
   "outputs": [
    {
     "data": {
      "text/plain": [
       "(152.45898723602295,\n",
       " masked_array(data=[4.6330724e+00, 5.7517476e+00, 3.3223553e+01,\n",
       "                    3.7635204e+01, 2.3975857e+01, 1.7968315e+01,\n",
       "                    1.5646127e+01, 1.3625112e+01, 2.9598336e+00,\n",
       "                    1.2119937e-01, 2.0667180e-04, 2.3725879e-06,\n",
       "                    3.6000577e-07, 1.4569983e-07, 5.6126690e-03,\n",
       "                    1.7678231e-02, 2.6706414e-06, 1.5192284e-06,\n",
       "                    2.3894124e-06, 1.2932310e-07, 4.1064050e-06,\n",
       "                    8.0331665e-07, 1.2967644e-06, 8.2733633e-05,\n",
       "                    3.0415151e-01, 1.3802987e-01, 4.7243839e-06,\n",
       "                    1.7150669e-06, 3.2567274e-04, 1.5547168e-03,\n",
       "                    5.7698129e-05, 4.6260429e-06, 1.5400747e-06,\n",
       "                    3.3560386e-06, 1.3844015e-04],\n",
       "              mask=False,\n",
       "        fill_value=1e+20,\n",
       "             dtype=float32),\n",
       " array([860882.25, 860882.75, 860883.25, 860883.75, 860884.25, 860884.75,\n",
       "        860885.25, 860885.75, 860886.25, 860886.75, 860887.25, 860887.75,\n",
       "        860888.25, 860888.75, 860889.25, 860889.75, 860890.25, 860890.75,\n",
       "        860891.25, 860891.75, 860892.25, 860892.75, 860893.25, 860893.75,\n",
       "        860894.25, 860894.75, 860895.25, 860895.75, 860896.25, 860896.75,\n",
       "        860897.25, 860897.75, 860898.25, 860898.75, 860899.25]))"
      ]
     },
     "execution_count": 10,
     "metadata": {},
     "output_type": "execute_result"
    }
   ],
   "source": [
    "find_top_rainfall_events(my_events, 4)[0]"
   ]
  }
 ],
 "metadata": {
  "kernelspec": {
   "display_name": "Python 3 (ipykernel)",
   "language": "python",
   "name": "python3"
  },
  "language_info": {
   "codemirror_mode": {
    "name": "ipython",
    "version": 3
   },
   "file_extension": ".py",
   "mimetype": "text/x-python",
   "name": "python",
   "nbconvert_exporter": "python",
   "pygments_lexer": "ipython3",
   "version": "3.7.13"
  }
 },
 "nbformat": 4,
 "nbformat_minor": 5
}
