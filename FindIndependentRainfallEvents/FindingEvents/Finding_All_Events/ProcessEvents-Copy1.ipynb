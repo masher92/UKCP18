{
 "cells": [
  {
   "cell_type": "code",
   "execution_count": 2,
   "id": "6ba766c1",
   "metadata": {},
   "outputs": [],
   "source": [
    "import numpy as np\n",
    "import pandas as pd\n",
    "pd.set_option('display.float_format', '{:.3f}'.format)\n",
    "import iris\n",
    "import iris.coord_categorisation\n",
    "import sys\n",
    "import time\n",
    "import datetime\n",
    "from datetime import datetime\n",
    "from statsmodels.graphics.mosaicplot import mosaic\n",
    "\n",
    "sys.path.insert(1, '../Finding_AMAX_Events')\n",
    "from Identify_Events_Functions import *\n",
    "from New_Identify_Events_Functions import *\n",
    "\n",
    "sys.path.insert(1, '../../ProcessEvents')\n",
    "from Convert_to_Profiles_Functions import *\n",
    "from Get_Events_Functions import *\n",
    "from Steef_Functions import *\n",
    "\n",
    "sys.path.insert(1, '../../AnalyseProfiles')\n",
    "from Plot_events_functions import *\n",
    "\n",
    "home_dir = '/nfs/a319/gy17m2a/PhD/'\n",
    "home_dir2 = '/nfs/a161/gy17m2a/PhD/'\n",
    "\n",
    "em = 'bb208'\n",
    "yrs_range= '2060_2081'\n",
    "sample_cube = iris.load(home_dir + f'datadir/UKCP18_every30mins/2.2km_bng/{yrs_range}/{em}/bng_{em}a.pr206101.nc')[0][1,:,:]\n",
    "tbo_vals = pd.read_csv(home_dir + 'datadir/RainGauge/interarrival_thresholds_CDD_noMissing.txt')"
   ]
  },
  {
   "cell_type": "code",
   "execution_count": 3,
   "id": "c5da3416",
   "metadata": {},
   "outputs": [],
   "source": [
    "def calculate_D50(precipitation_values):\n",
    "    \"\"\"\n",
    "    Calculate D50, the point in time when 50% of cumulative precipitation has occurred during an event.\n",
    "    \n",
    "    Parameters:\n",
    "    - precipitation_values: A list or array of precipitation values for a given event.\n",
    "    \n",
    "    Returns:\n",
    "    - D50: The percentage of the event elapsed when 50% of cumulative precipitation has occurred.\n",
    "    - D50_index: The index where 50% of cumulative precipitation has occurred.\n",
    "    - cumulative_precip: The cumulative precipitation values for the event.\n",
    "    \"\"\"\n",
    "    # Ensure input is a numpy array\n",
    "    precipitation_values = np.array(precipitation_values)\n",
    "    \n",
    "    # Step 1: Calculate the cumulative precipitation\n",
    "    cumulative_precip = np.cumsum(precipitation_values)\n",
    "    \n",
    "    # Step 2: Determine the total precipitation\n",
    "    total_precip = cumulative_precip[-1]\n",
    "    \n",
    "    # Step 3: Find the index where 50% of the total precipitation is reached\n",
    "    halfway_precip = total_precip / 2.0\n",
    "    D50_index = np.where(cumulative_precip >= halfway_precip)[0][0]  # First index where cumulative precipitation >= 50%\n",
    "    \n",
    "    # Step 4: Calculate the percentage of the event duration (D50)\n",
    "    total_timesteps = len(precipitation_values)\n",
    "    D50 = (D50_index / (total_timesteps - 1)) * 100\n",
    "\n",
    "    return D50, D50_index, cumulative_precip\n",
    "\n",
    "def plot_precipitation_with_D50(ax, precipitation_values, D50_index, cumulative_precip, D50):\n",
    "    \"\"\"\n",
    "    Plot the precipitation event and indicate the D50 point on the plot.\n",
    "    \n",
    "    Parameters:\n",
    "    - ax: The axis object to plot the data on.\n",
    "    - precipitation_values: A list or array of precipitation values for a given event.\n",
    "    - D50_index: The index where 50% of cumulative precipitation has occurred.\n",
    "    - cumulative_precip: The cumulative precipitation values for the event.\n",
    "    - D50: The percentage of the event elapsed when 50% of cumulative precipitation has occurred.\n",
    "    \"\"\"\n",
    "    total_timesteps = len(precipitation_values)\n",
    "\n",
    "    # Plot precipitation data\n",
    "    ax.bar(range(total_timesteps), precipitation_values, color='blue', alpha=0.6, label='Precipitation (mm)')\n",
    "    ax.set_xlabel('Time Step')\n",
    "    #ax.set_ylabel('Precipitation (mm)', color='blue')\n",
    "    ax.tick_params(axis='y', labelcolor='blue')\n",
    "\n",
    "    # Plot cumulative precipitation with a second y-axis\n",
    "    ax2 = ax.twinx()\n",
    "    ax2.plot(range(total_timesteps), cumulative_precip, color='green', label='Cumulative Precipitation', lw=2)\n",
    "    #ax2.set_ylabel('Cumulative Precipitation (mm)', color='green')\n",
    "    ax2.tick_params(axis='y', labelcolor='green')\n",
    "\n",
    "    # Add vertical line for D50\n",
    "    ax.axvline(D50_index, color='red', linestyle='solid', lw=2, label=f'D50 = {D50:.2f}%')\n",
    "\n",
    "    # Title and legend\n",
    "    #ax.set_title('Precipitation Event and D50')\n",
    "    #ax.legend(loc='upper left')\n",
    "    #ax2.legend(loc='upper right')"
   ]
  },
  {
   "cell_type": "code",
   "execution_count": 4,
   "id": "1d88b2e7",
   "metadata": {},
   "outputs": [],
   "source": [
    "def get_month (df):\n",
    "    # Step 2: Calculate the median (middle value)\n",
    "    median_time = df['times'].median()\n",
    "\n",
    "    # Step 3: Extract the month from the median value\n",
    "    median_month = median_time.month\n",
    "\n",
    "    # Convert month number to month name (optional)\n",
    "    month_name = median_time.strftime('%B')\n",
    "\n",
    "    return median_month\n",
    "\n",
    "def create_event_characteristics_dict(this_event):\n",
    "    \n",
    "    max_quintile_molly=find_max_quintile(this_event['precipitation (mm)'],5)\n",
    "    max_third_molly=find_max_quintile(this_event['precipitation (mm)'],3)\n",
    "    max_quintile_steef=analyse_event(this_event['precipitation (mm)'])[0]\n",
    "    duration = len(this_event) / 2\n",
    "    DurationRange_personalised_allems = find_dur_category([1.5, 5.0, 11.5, 22.5, 166.5], ['0.25-2.10 hr', '2.10-6.45 hr', '6.45-19.25 hr', '19.25+ hr'], duration)\n",
    "    DurationRange_notpersonalised = find_dur_category([0.25, 2.10, 6.45, 19.25, 1000], \n",
    "                                                      ['0.25-2.10 hr', '2.10-6.45 hr', '6.45-19.25 hr', '19.25+ hr'], duration)\n",
    "    return {\n",
    "        \"season\" : get_season(this_event['times'][0]),\n",
    "        'duration':duration,\n",
    "        \"DurationRange_personalised_allems\": DurationRange_personalised_allems,\n",
    "        'DurationRange_notpersonalised':DurationRange_notpersonalised,\n",
    "        \"year\":extract_year(this_event),\n",
    "        \"month\":get_month(this_event),\n",
    "        'Volume': sum(this_event['precipitation (mm)'].values),\n",
    "        'max_intensity': this_event['precipitation (mm)'].max() *2,\n",
    "        \"max_quintile_molly\":max_quintile_molly,\n",
    "        \"max_third_molly\": max_third_molly,\n",
    "        'max_quintile_steef' :max_quintile_steef,\n",
    "        'Loading_profile_molly' :quintile_mapping[max_quintile_molly],\n",
    "        'Loading_profile_third_molly':quintile_mapping_thirds[max_third_molly],\n",
    "        'Loading_profile_steef':quintile_mapping[max_quintile_steef],\n",
    "        'D50_index': calculate_D50(this_event['precipitation (mm)'])[1]\n",
    "    }\n",
    "\n",
    "\n",
    "def create_profiles_dict(this_event):\n",
    "    dimensionless_cumulative_rainfall, dimensionless_cumulative_times = create_huff_curves(this_event['precipitation (mm)'])\n",
    "    interpolated_cumulative_rainfall, interpolated_times = interpolate_rainfall(dimensionless_cumulative_rainfall,12)\n",
    "    irain_14vals, irain_times_14vals = create_irain_profile(interpolated_cumulative_rainfall, True)\n",
    "    irain, irain_times = create_irain_profile(interpolated_cumulative_rainfall, False)\n",
    "    return {\n",
    "        \"dimensionless_cumulative_rainfall\" : dimensionless_cumulative_rainfall,\n",
    "        'dimensionless_cumulative_times':dimensionless_cumulative_times,\n",
    "        \"interpolated_cumulative_rainfall\": interpolated_cumulative_rainfall,\n",
    "        'interpolated_times':interpolated_times,\n",
    "        \"irain_14vals\":irain_14vals,\n",
    "        'irain_times_14vals': irain_times_14vals,\n",
    "        \"irain\":irain,\n",
    "        \"irain_times\": irain_times} \n",
    "\n",
    "def find_dur_category (bin_edges, duration_labels, duration):\n",
    "    # Create a pandas Series with the duration\n",
    "    # Use pd.cut to assign the duration to a bin\n",
    "    binned_duration = pd.cut(pd.Series([duration]), bins=bin_edges, labels=duration_labels, right=True,  include_lowest=True)\n",
    "    return binned_duration.iloc[0]\n",
    "\n",
    "def find_max_quintile (precip, n):\n",
    "    # Difference with this to Huff curve function, is it doesnt normalise\n",
    "    cumulative_rainfall, cumulative_rainfall_times = create_cumulative_event(precip)\n",
    "    dimensionless_cumulative_rainfall, dimensionless_times =  create_dimensionless_event(cumulative_rainfall, cumulative_rainfall_times)\n",
    "    interpolated_n_cumulative_rainfall, interpolated_n_times = interpolate_rainfall(dimensionless_cumulative_rainfall,n)\n",
    "    interpolated_n_incremental_rainfall = create_incremental_event(interpolated_n_cumulative_rainfall)\n",
    "    max_quintile_profile = find_part_with_most_rain(interpolated_n_incremental_rainfall, n)\n",
    "    \n",
    "    return max_quintile_profile \n",
    "\n",
    "\n",
    "def remove_leading_and_trailing_values(arr, threshold=0.1):\n",
    "    \"\"\"\n",
    "    Remove leading and trailing values less than the threshold from a numpy array.\n",
    "    \n",
    "    Parameters:\n",
    "    - arr: numpy array of precipitation values.\n",
    "    - threshold: Values below this threshold will be considered for removal at the front and end of the array.\n",
    "    \n",
    "    Returns:\n",
    "    - A numpy array with leading and trailing values less than the threshold removed.\n",
    "    \"\"\"\n",
    "    # Remove leading values below the threshold\n",
    "    start_idx = 0\n",
    "    while start_idx < len(arr) and arr[start_idx] < threshold:\n",
    "        start_idx += 1\n",
    "    \n",
    "    # Remove trailing values below the threshold\n",
    "    end_idx = len(arr)\n",
    "    while end_idx > start_idx and arr[end_idx - 1] < threshold:\n",
    "        end_idx -= 1\n",
    "    \n",
    "    return arr[start_idx:end_idx]\n",
    "\n",
    "def calculate_D50(precipitation_values):\n",
    "    \"\"\"\n",
    "    Calculate D50, the point in time when 50% of cumulative precipitation has occurred during an event.\n",
    "    \n",
    "    Parameters:\n",
    "    - precipitation_values: A list or array of precipitation values for a given event.\n",
    "    \n",
    "    Returns:\n",
    "    - D50: The percentage of the event elapsed when 50% of cumulative precipitation has occurred.\n",
    "    - D50_index: The index where 50% of cumulative precipitation has occurred.\n",
    "    - cumulative_precip: The cumulative precipitation values for the event.\n",
    "    \"\"\"\n",
    "    # Ensure input is a numpy array\n",
    "    precipitation_values = np.array(precipitation_values)\n",
    "    \n",
    "    # Step 1: Calculate the cumulative precipitation\n",
    "    cumulative_precip = np.cumsum(precipitation_values)\n",
    "    \n",
    "    # Step 2: Determine the total precipitation\n",
    "    total_precip = cumulative_precip[-1]\n",
    "    \n",
    "    # Step 3: Find the index where 50% of the total precipitation is reached\n",
    "    halfway_precip = total_precip / 2.0\n",
    "    D50_index = np.where(cumulative_precip >= halfway_precip)[0][0]  # First index where cumulative precipitation >= 50%\n",
    "    \n",
    "    # Step 4: Calculate the percentage of the event duration (D50)\n",
    "    total_timesteps = len(precipitation_values)\n",
    "    D50 = (D50_index / (total_timesteps - 1)) * 100\n",
    "\n",
    "    return D50, D50_index, cumulative_precip\n"
   ]
  },
  {
   "cell_type": "code",
   "execution_count": 5,
   "id": "5808e3ff",
   "metadata": {},
   "outputs": [],
   "source": [
    "quintile_mapping = {1: 'F2', 2: 'F1', 3: 'C', 4: 'B1', 5: 'B2'}\n",
    "quintile_mapping_thirds = {1: 'F', 2: 'C', 3: 'B'}"
   ]
  },
  {
   "cell_type": "markdown",
   "id": "99cfd837",
   "metadata": {},
   "source": [
    "## Create one set of events across all gauges"
   ]
  },
  {
   "cell_type": "code",
   "execution_count": null,
   "id": "a745c1f3",
   "metadata": {},
   "outputs": [
    {
     "name": "stdout",
     "output_type": "stream",
     "text": [
      "446\n",
      "447\n",
      "448\n",
      "449\n"
     ]
    }
   ],
   "source": [
    "start_time = time.time()\n",
    "# all_gauge_top_18_6h_events =[]\n",
    "for gauge_num in range(446,1293):\n",
    "    if gauge_num not in [444]:\n",
    "        print(gauge_num)\n",
    "        Tb0, idx_2d = find_gauge_Tb0_and_location_in_grid(tbo_vals, gauge_num, sample_cube)\n",
    "        full_timeslice_cube = iris.load(home_dir + f'datadir/Gauge_Timeslices/2060_2081/{em}/gauge{gauge_num}_farFuture.nc')[0]\n",
    "        precip_data = full_timeslice_cube.data\n",
    "        time_coord = full_timeslice_cube.coord('time')\n",
    "        my_events = my_find_independent_events(precip_data, time_coord, Tb0)\n",
    "        top_18_6h_events = find_top_n_events_for_duration(my_events, n_events = 18, duration_in_hrs = 6)\n",
    "        all_gauge_top_18_6h_events.extend(top_18_6h_events)\n",
    "my_duration = time.time() - start_time\n",
    "print(f\"My code took {my_duration:.4f} seconds.\")    "
   ]
  },
  {
   "cell_type": "code",
   "execution_count": 1,
   "id": "fc760879",
   "metadata": {},
   "outputs": [],
   "source": [
    "# import time\n",
    "# import concurrent.futures\n",
    "# import iris  # Assuming iris is already imported\n",
    "\n",
    "# def process_gauge(gauge_num):\n",
    "#     if gauge_num not in [444, 827, 888]:\n",
    "#         print(gauge_num)\n",
    "#         Tb0, idx_2d = find_gauge_Tb0_and_location_in_grid(tbo_vals, gauge_num, sample_cube)\n",
    "#         full_timeslice_cube = iris.load(home_dir + f'datadir/Gauge_Timeslices/2060_2081/{em}/gauge{gauge_num}_farFuture.nc')[0]\n",
    "#         precip_data = full_timeslice_cube.data\n",
    "#         time_coord = full_timeslice_cube.coord('time')\n",
    "#         my_events = my_find_independent_events(precip_data, time_coord, Tb0)\n",
    "#         top_18_6h_events = find_top_n_events_for_duration(my_events, n_events=18, duration_in_hrs=6)\n",
    "#         return top_18_6h_events\n",
    "#     return []\n",
    "\n",
    "# start_time = time.time()\n",
    "# all_gauge_top_18_6h_events = []\n",
    "\n",
    "# # Using a ProcessPoolExecutor to parallelize the gauge processing\n",
    "# with concurrent.futures.ProcessPoolExecutor() as executor:\n",
    "#     results = list(executor.map(process_gauge, range(0, 1294)))\n",
    "\n",
    "# # Flatten the results list\n",
    "# all_gauge_top_18_6h_events = [event for sublist in results for event in sublist]\n",
    "\n",
    "# my_duration = time.time() - start_time\n",
    "# print(f\"My code took {my_duration:.4f} seconds.\")\n",
    "\n"
   ]
  },
  {
   "cell_type": "code",
   "execution_count": 24,
   "id": "8abc607e",
   "metadata": {},
   "outputs": [],
   "source": [
    "events_dict={}\n",
    "event_props_dict={}\n",
    "event_profiles_dict = {}\n",
    "\n",
    "for event_num, event in enumerate(all_gauge_top_18_6h_events):\n",
    "    event_times = event[2]\n",
    "\n",
    "    event_df = pd.DataFrame({'precipitation (mm)': event[1], 'times': event_times})\n",
    "    event_props = create_event_characteristics_dict(event_df)\n",
    "    event_profiles = create_profiles_dict(event_df)\n",
    "    \n",
    "    events_dict[event_num]  =event_df\n",
    "    event_props_dict[event_num] =  event_props\n",
    "    event_profiles_dict[event_num] = event_profiles"
   ]
  },
  {
   "cell_type": "code",
   "execution_count": 25,
   "id": "98de42a7",
   "metadata": {},
   "outputs": [],
   "source": [
    "months = [event['month'] for event in event_props_dict.values()]\n",
    "months_df = pd.DataFrame({'month':months})"
   ]
  },
  {
   "cell_type": "code",
   "execution_count": 26,
   "id": "81ccb61a",
   "metadata": {},
   "outputs": [
    {
     "data": {
      "image/png": "[encoded data removed]",
      "text/plain": [
       "<Figure size 1440x360 with 1 Axes>"
      ]
     },
     "metadata": {
      "needs_background": "light"
     },
     "output_type": "display_data"
    }
   ],
   "source": [
    "##########################################\n",
    "####### Circular Histograms ##############\n",
    "##########################################\n",
    "N = 12\n",
    "bottom = 8\n",
    "max_height = 4\n",
    "\n",
    "circular_bins = np.linspace(0.0, 2 * np.pi, N, endpoint=False)\n",
    "circular_bins = np.append(circular_bins, 2 * np.pi)\n",
    "circular_plot_position = circular_bins + 0.5*np.diff(circular_bins)[0]\n",
    "circular_plot_position = circular_plot_position[:-1]\n",
    "circular_plot_position = circular_plot_position + 0.5*np.pi\n",
    "\n",
    "month_of_event =  np.array(months)\n",
    "\n",
    "count3 = months_df['month'].value_counts().sort_index()\n",
    "count3 = count3.reindex(list(range(count3.index.min(),count3.index.max()+1)),fill_value=0)\n",
    "\n",
    "radii = max_height*np.random.rand(N)\n",
    "width = (2*np.pi) / N\n",
    "\n",
    "fig = plt.figure(figsize=(20,5))\n",
    "ax3 = plt.subplot(111, polar=True)\n",
    "ax3.bar(circular_plot_position, count3, width=width, bottom=bottom, color=\"green\")\n",
    "\n",
    "ax3.set_title(\"All\")\n",
    "ax3.set_rlabel_position(90)\n",
    "ax3.xaxis.grid(False)\n",
    "ax3.set_xticks(circular_plot_position - 0.5*np.pi)\n",
    "ax3.set_xticklabels(['Oct', 'Nov', 'Dec',\n",
    "                    'Jan', 'Feb', 'Mar', \n",
    "                    'Apr', 'May', 'Jun',\n",
    "                    'Jul', 'Aug', 'Sep',]);"
   ]
  },
  {
   "cell_type": "markdown",
   "id": "14d4e2db",
   "metadata": {},
   "source": [
    "### Process them"
   ]
  },
  {
   "cell_type": "code",
   "execution_count": 9,
   "id": "77a67ba9",
   "metadata": {},
   "outputs": [],
   "source": [
    "profiles = []\n",
    "for one_dict, the_dict in event_props_dict.items():\n",
    "    profiles.append(the_dict['Loading_profile_molly'])\n",
    "profiles_df =pd.DataFrame({\"Loading_profile_molly\":profiles})"
   ]
  },
  {
   "cell_type": "code",
   "execution_count": 13,
   "id": "02612165",
   "metadata": {},
   "outputs": [],
   "source": [
    "quintile_cats = ['F2','F1', 'C', 'B1', 'B2']\n",
    "color_mapping = {'F2': (0.0, 0.0, 1.0, 0.6),   'F1': (0.0, 0.6902, 1.0, 0.6),\n",
    "    'C': (0.5, 0.5, 0.5, 0.6), 'B1': (0.8039, 0.0, 0.0, 0.6),'B2': (0.5451, 0.0, 0.0, 0.6)} "
   ]
  },
  {
   "cell_type": "code",
   "execution_count": 14,
   "id": "229b9088",
   "metadata": {},
   "outputs": [
    {
     "data": {
      "image/png": "[encoded data removed]",
      "text/plain": [
       "<Figure size 1152x72 with 3 Axes>"
      ]
     },
     "metadata": {
      "needs_background": "light"
     },
     "output_type": "display_data"
    }
   ],
   "source": [
    "# Create the subplots\n",
    "fig, axs = plt.subplots(figsize=(16, 1), sharex=True)\n",
    "\n",
    "create_single_variable_mosaic_plot_pctlabels(axs, profiles_df, 'Loading_profile_molly', \n",
    "    quintile_cats, color_mapping, \"m\")"
   ]
  },
  {
   "cell_type": "code",
   "execution_count": 15,
   "id": "3e2b374c",
   "metadata": {},
   "outputs": [
    {
     "data": {
      "image/png": "[encoded data removed]",
      "text/plain": [
       "<Figure size 1152x72 with 3 Axes>"
      ]
     },
     "metadata": {
      "needs_background": "light"
     },
     "output_type": "display_data"
    }
   ],
   "source": [
    "# Create the subplots\n",
    "fig, axs = plt.subplots(figsize=(16, 1), sharex=True)\n",
    "\n",
    "create_single_variable_mosaic_plot_pctlabels(axs, profiles_df, 'Loading_profile_molly', \n",
    "    quintile_cats, color_mapping, \"m\")"
   ]
  },
  {
   "cell_type": "code",
   "execution_count": null,
   "id": "0ae95c09",
   "metadata": {},
   "outputs": [],
   "source": [
    "# fig, axes = plt.subplots(5, 4, figsize=(24, 16))  # 2x2 grid of subplots\n",
    "# axes = axes.flatten()  # Flatten the axes array for easy iteration\n",
    "\n",
    "# # Loop through events and plot each one in its subplot\n",
    "# for i in range(0,20):\n",
    "#     this_event = events_dict[i]\n",
    "#     print(len(this_event))\n",
    "#     D50, D50_index, cumulative_precip = calculate_D50(this_event['precipitation (mm)'])\n",
    "#     plot_precipitation_with_D50(axes[i], this_event['precipitation (mm)'], D50_index, cumulative_precip, D50)\n",
    "\n",
    "# plt.tight_layout()  # Adjust spacing between subplots\n",
    "# plt.show()"
   ]
  },
  {
   "cell_type": "code",
   "execution_count": 116,
   "id": "8ae543b0",
   "metadata": {},
   "outputs": [
    {
     "data": {
      "text/plain": [
       "<BarContainer object of 18 artists>"
      ]
     },
     "execution_count": 116,
     "metadata": {},
     "output_type": "execute_result"
    },
    {
     "data": {
      "image/png": "[encoded data removed]",
      "text/plain": [
       "<Figure size 432x288 with 1 Axes>"
      ]
     },
     "metadata": {
      "needs_background": "light"
     },
     "output_type": "display_data"
    }
   ],
   "source": [
    "precipitation_values = events_dict[3]['precipitation (mm)']\n",
    "\n",
    "total_timesteps = len(precipitation_values)\n",
    "\n",
    "# Plot precipitation data\n",
    "plt.bar(range(total_timesteps), precipitation_values, color='blue', alpha=0.6, label='Precipitation (mm)')"
   ]
  }
 ],
 "metadata": {
  "kernelspec": {
   "display_name": "Python 3 (ipykernel)",
   "language": "python",
   "name": "python3"
  },
  "language_info": {
   "codemirror_mode": {
    "name": "ipython",
    "version": 3
   },
   "file_extension": ".py",
   "mimetype": "text/x-python",
   "name": "python",
   "nbconvert_exporter": "python",
   "pygments_lexer": "ipython3",
   "version": "3.7.13"
  }
 },
 "nbformat": 4,
 "nbformat_minor": 5
}
