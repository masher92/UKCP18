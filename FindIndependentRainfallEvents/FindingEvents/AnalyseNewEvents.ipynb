{
 "cells": [
  {
   "cell_type": "code",
   "execution_count": 1,
   "id": "3bd2f7a4",
   "metadata": {},
   "outputs": [],
   "source": [
    "# import gc\n",
    "# import pickle\n",
    "# from collections import OrderedDict\n",
    "# from pyproj import Transformer\n",
    "# import numpy as np\n",
    "# import pandas as pd\n",
    "# import iris\n",
    "# import glob\n",
    "# import sys\n",
    "# import os\n",
    "# import cartopy.crs as ccrs\n",
    "# import itertools\n",
    "# from scipy import spatial\n",
    "# import numpy.ma as ma\n",
    "# import tilemapbase\n",
    "# from math import cos, radians\n",
    "# import geopandas as gpd\n",
    "# from shapely.geometry import Polygon\n",
    "# import matplotlib.pyplot as plt\n",
    "# from pyproj import Proj, transform\n",
    "# import time\n",
    "\n",
    "from Identify_Events_Functions import *\n",
    "from Prepare_Data_Functions import *\n",
    "\n",
    "pd.set_option('display.float_format', '{:.3f}'.format)\n",
    "warnings.filterwarnings(\"ignore\", category=UserWarning)\n",
    "\n",
    "yrs_range= '2060_2081'\n",
    "em = 'bb198'"
   ]
  },
  {
   "cell_type": "code",
   "execution_count": 2,
   "id": "c8953297",
   "metadata": {},
   "outputs": [],
   "source": [
    "# Get Tb0 values at each gauge\n",
    "tbo_vals = pd.read_csv('/nfs/a319/gy17m2a/PhD/datadir/RainGauge/interarrival_thresholds_CDD_noMissing.txt')\n",
    "# Read in a sample cube for finding the location of gauge in grid\n",
    "sample_cube = iris.load(f'/nfs/a319/gy17m2a/PhD/datadir/UKCP18_every30mins/2.2km_bng/{yrs_range}/{em}/bng_{em}a.pr206101.nc')[0][1,:,:]"
   ]
  },
  {
   "cell_type": "code",
   "execution_count": 3,
   "id": "b4d735d1",
   "metadata": {},
   "outputs": [],
   "source": [
    "gauge_num=11\n",
    "Tb0, idx_2d = find_gauge_Tb0_and_location_in_grid(tbo_vals, gauge_num, sample_cube)"
   ]
  },
  {
   "cell_type": "code",
   "execution_count": 5,
   "id": "d31f6a1f",
   "metadata": {},
   "outputs": [],
   "source": [
    "full_timeslice_cube = iris.load(f'../../../datadir/Gauge_Timeslices/2060_2081/{em}/gauge{gauge_num}_farFuture.nc')"
   ]
  },
  {
   "cell_type": "code",
   "execution_count": 12,
   "id": "8767ba4c",
   "metadata": {},
   "outputs": [],
   "source": [
    "# precip_data = full_timeslice_cube.data\n",
    "time_coord = full_timeslice_cube.coord('time')"
   ]
  },
  {
   "cell_type": "markdown",
   "id": "5581712f",
   "metadata": {},
   "source": [
    "### Compare methods"
   ]
  },
  {
   "cell_type": "code",
   "execution_count": 26,
   "id": "0a1e0ab2",
   "metadata": {},
   "outputs": [
    {
     "name": "stdout",
     "output_type": "stream",
     "text": [
      "Number of independent rainfall events: 2124\n",
      "Your code took 3.1789 seconds.\n",
      "Number of independent rainfall events: 2124\n",
      "My code took 0.6845 seconds.\n"
     ]
    }
   ],
   "source": [
    "Tb0 = 11  # Example Tb0 value\n",
    "\n",
    "# Timing my code\n",
    "start_time = time.time()\n",
    "my_events = my_find_independent_events(precip_data, time_coord, Tb0)\n",
    "my_duration = time.time() - start_time\n",
    "print(f\"My code took {my_duration:.4f} seconds.\")"
   ]
  },
  {
   "cell_type": "code",
   "execution_count": 27,
   "id": "ecbd407f",
   "metadata": {},
   "outputs": [
    {
     "data": {
      "text/plain": [
       "(190.37835307624647,\n",
       " masked_array(data=[1.89132261e+00, 2.88830590e+00, 3.69642758e+00,\n",
       "                    3.71700811e+00, 3.28513145e+00, 7.27744937e-01,\n",
       "                    4.14550304e-01, 1.30456090e-01, 7.81303942e-02,\n",
       "                    8.25738255e-03, 9.09293070e-04, 2.17410820e-06,\n",
       "                    8.22164338e-07, 1.15733451e-06, 2.75115212e-07,\n",
       "                    2.46821603e-08, 6.80756273e-07, 7.76002977e-08,\n",
       "                    8.47266165e-07, 6.04055629e-07, 7.16741567e-07,\n",
       "                    1.33388141e-06, 5.59020236e-07, 7.94529115e-07,\n",
       "                    1.16812535e-01, 4.62644249e-02, 7.14156437e+00,\n",
       "                    1.74492669e+00, 9.57633257e-01, 7.25972891e+00,\n",
       "                    1.53448029e+01, 1.25842896e+01, 8.19795609e-01,\n",
       "                    5.04640484e+00, 5.06218147e+00, 4.97258661e-05,\n",
       "                    5.06765890e+00, 3.44513474e+01, 1.10654373e+01,\n",
       "                    2.12122273e+00, 9.52875328e+00, 2.96320140e-01,\n",
       "                    6.54977143e-01, 9.51718837e-02, 6.55576587e-05,\n",
       "                    4.50305879e-06, 1.10792089e+00, 4.06873369e+00,\n",
       "                    1.93182373e+00, 9.48626734e-03, 1.74250454e-06,\n",
       "                    3.37179756e-07, 7.55605834e-06, 1.11946947e-05,\n",
       "                    8.53164511e-06, 2.71760564e-06, 9.38200901e-06,\n",
       "                    2.86584896e-06, 5.30176938e-01, 4.43136358e+00,\n",
       "                    3.83416796e+00, 4.74351436e-01, 6.53504729e-01,\n",
       "                    5.30681992e+00, 6.00585747e+00, 6.33240795e+00,\n",
       "                    3.24571228e+00, 1.44304025e+00, 5.12394857e+00,\n",
       "                    6.51026773e+00, 4.99600840e+00, 7.02438545e+00,\n",
       "                    5.93282795e+00, 2.17316747e+00, 2.31669664e-01,\n",
       "                    2.28776742e-04, 4.61791642e-05, 9.57152367e-01,\n",
       "                    3.25465631e+00, 1.12518579e-01, 1.90063477e+00,\n",
       "                    7.61146641e+00, 8.55683231e+00, 1.16811552e+01,\n",
       "                    4.06694412e+00, 3.01111013e-01, 8.98361564e-01,\n",
       "                    1.55709148e-03, 3.26890731e-05, 1.34944171e-01,\n",
       "                    8.09497356e+00, 2.22017810e-01, 1.08122826e-04,\n",
       "                    5.41879833e-01, 4.95765626e-01, 4.58959436e+00,\n",
       "                    3.93994474e+00, 9.83718300e+00, 7.01792145e+00,\n",
       "                    7.20405281e-01, 2.22595024e+00, 1.06776023e+00,\n",
       "                    1.33982897e-02, 3.70656551e-07, 2.18572768e-06,\n",
       "                    2.14128681e-06, 4.29313421e-01, 4.84001303e+00,\n",
       "                    6.91030025e-01, 7.78515279e-01, 2.11012363e-02,\n",
       "                    8.91771037e-07, 4.10166176e-05, 1.33719746e-04,\n",
       "                    4.32138667e-02, 1.90944280e-02, 1.60127878e-04,\n",
       "                    9.26757008e-02, 5.60253859e-04, 5.23463996e-07,\n",
       "                    4.61629838e-07],\n",
       "              mask=False,\n",
       "        fill_value=1e+20,\n",
       "             dtype=float32),\n",
       " array([958135.75, 958136.25, 958136.75, 958137.25, 958137.75, 958138.25,\n",
       "        958138.75, 958139.25, 958139.75, 958140.25, 958140.75, 958141.25,\n",
       "        958141.75, 958142.25, 958142.75, 958143.25, 958143.75, 958144.25,\n",
       "        958144.75, 958145.25, 958145.75, 958146.25, 958146.75, 958147.25,\n",
       "        958147.75, 958148.25, 958148.75, 958149.25, 958149.75, 958150.25,\n",
       "        958150.75, 958151.25, 958151.75, 958152.25, 958152.75, 958153.25,\n",
       "        958153.75, 958154.25, 958154.75, 958155.25, 958155.75, 958156.25,\n",
       "        958156.75, 958157.25, 958157.75, 958158.25, 958158.75, 958159.25,\n",
       "        958159.75, 958160.25, 958160.75, 958161.25, 958161.75, 958162.25,\n",
       "        958162.75, 958163.25, 958163.75, 958164.25, 958164.75, 958165.25,\n",
       "        958165.75, 958166.25, 958166.75, 958167.25, 958167.75, 958168.25,\n",
       "        958168.75, 958169.25, 958169.75, 958170.25, 958170.75, 958171.25,\n",
       "        958171.75, 958172.25, 958172.75, 958173.25, 958173.75, 958174.25,\n",
       "        958174.75, 958175.25, 958175.75, 958176.25, 958176.75, 958177.25,\n",
       "        958177.75, 958178.25, 958178.75, 958179.25, 958179.75, 958180.25,\n",
       "        958180.75, 958181.25, 958181.75, 958182.25, 958182.75, 958183.25,\n",
       "        958183.75, 958184.25, 958184.75, 958185.25, 958185.75, 958186.25,\n",
       "        958186.75, 958187.25, 958187.75, 958188.25, 958188.75, 958189.25,\n",
       "        958189.75, 958190.25, 958190.75, 958191.25, 958191.75, 958192.25,\n",
       "        958192.75, 958193.25, 958193.75, 958194.25, 958194.75, 958195.25,\n",
       "        958195.75]))"
      ]
     },
     "execution_count": 27,
     "metadata": {},
     "output_type": "execute_result"
    }
   ],
   "source": [
    "find_top_rainfall_events(my_events, 24)[0]"
   ]
  },
  {
   "cell_type": "code",
   "execution_count": 273,
   "id": "c3a07c08",
   "metadata": {},
   "outputs": [
    {
     "data": {
      "text/plain": [
       "(125.12201816630332,\n",
       " masked_array(data=[11.994222  , 20.926405  , 65.1518    , 24.60006   ,\n",
       "                     2.1098576 ,  0.3396667 ,  0.00000545,  0.00000025,\n",
       "                     0.        ,  0.        ,  0.        ,  0.        ,\n",
       "                     0.00000007,  0.00000016,  0.00000097,  0.00000355,\n",
       "                     0.00000103],\n",
       "              mask=False,\n",
       "        fill_value=1e+20,\n",
       "             dtype=float32),\n",
       " array([937192.75, 937193.25, 937193.75, 937194.25, 937194.75, 937195.25,\n",
       "        937195.75, 937196.25, 937196.75, 937197.25, 937197.75, 937198.25,\n",
       "        937198.75, 937199.25, 937199.75, 937200.25, 937200.75]))"
      ]
     },
     "execution_count": 273,
     "metadata": {},
     "output_type": "execute_result"
    }
   ],
   "source": [
    "find_top_rainfall_events(my_events, 4)[0]"
   ]
  }
 ],
 "metadata": {
  "kernelspec": {
   "display_name": "Python 3 (ipykernel)",
   "language": "python",
   "name": "python3"
  },
  "language_info": {
   "codemirror_mode": {
    "name": "ipython",
    "version": 3
   },
   "file_extension": ".py",
   "mimetype": "text/x-python",
   "name": "python",
   "nbconvert_exporter": "python",
   "pygments_lexer": "ipython3",
   "version": "3.7.13"
  }
 },
 "nbformat": 4,
 "nbformat_minor": 5
}
