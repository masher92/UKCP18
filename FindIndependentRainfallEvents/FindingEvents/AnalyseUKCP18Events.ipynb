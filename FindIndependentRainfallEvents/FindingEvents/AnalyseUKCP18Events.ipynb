{
 "cells": [
  {
   "cell_type": "code",
   "execution_count": 1,
   "id": "86d96001",
   "metadata": {},
   "outputs": [],
   "source": [
    "import os\n",
    "import pandas as pd\n",
    "import numpy as np"
   ]
  },
  {
   "cell_type": "code",
   "execution_count": 2,
   "id": "d93dfbd4",
   "metadata": {},
   "outputs": [],
   "source": [
    "gauge_nums=range(0,1263)"
   ]
  },
  {
   "cell_type": "code",
   "execution_count": 3,
   "id": "8bd03661",
   "metadata": {},
   "outputs": [],
   "source": [
    "pd.options.display.float_format = '{:.2f}'.format"
   ]
  },
  {
   "cell_type": "code",
   "execution_count": 6,
   "id": "eeda38b6",
   "metadata": {},
   "outputs": [],
   "source": [
    "# file = \"12hrs_2018_v2_part0.csv\"\n",
    "# em='bc005'\n",
    "# # Process each file\n",
    "# fp = f\"../../../ProcessedData/IndependentEvents/UKCP18_30mins/{em}/{gauge_num}/{file}\"\n",
    "# # Read in the event\n",
    "# csv =pd.read_csv(fp)\n",
    "\n",
    "em='bc005'"
   ]
  },
  {
   "cell_type": "code",
   "execution_count": 9,
   "id": "019f5c54",
   "metadata": {},
   "outputs": [
    {
     "name": "stdout",
     "output_type": "stream",
     "text": [
      "0\n",
      "100\n",
      "200\n",
      "300\n",
      "400\n",
      "500\n",
      "600\n",
      "700\n",
      "800\n",
      "900\n",
      "1000\n",
      "1100\n",
      "1200\n"
     ]
    }
   ],
   "source": [
    "lens=[]\n",
    "trimmed_lens = []\n",
    "divisable_by_3 = []\n",
    "\n",
    "# Process each gauge\n",
    "\n",
    "for gauge_num in gauge_nums:\n",
    "    # the gauges that didn't work for finding events\n",
    "    if gauge_num not in [444, 827, 888]:\n",
    "        # Excluding ones near windfarms\n",
    "        if gauge_num not in [27,36,57,61,75,97,101,106,120,132,190,204, 239, 285,348,376]:\n",
    "            if gauge_num % 100 == 0:\n",
    "                print(gauge_num)\n",
    "\n",
    "            # Create a list of all the event CSVs\n",
    "            files = [f for f in os.listdir(f\"../../../ProcessedData/IndependentEvents/UKCP18_30mins/{em}/{gauge_num}/\") if f.endswith('.csv')]\n",
    "            files = np.sort(files)\n",
    "\n",
    "            # Process each file\n",
    "            files = [f for f in os.listdir(f\"../../../ProcessedData/IndependentEvents/UKCP18_30mins/{em}/{gauge_num}/\") if f.endswith('.csv')]\n",
    "            for file in files:\n",
    "                fp = f\"../../../ProcessedData/IndependentEvents/UKCP18_30mins/{em}/{gauge_num}/{file}\"\n",
    "                # Read in the event\n",
    "                csv =pd.read_csv(fp)\n",
    "                # Find the number of datapoints\n",
    "                num_datapoints = len(csv)\n",
    "                # Find the length of event in hours\n",
    "                event_length = num_datapoints/2\n",
    "                \n",
    "                #### Remove leading trailing zeros\n",
    "                first_non_zero_index = csv[csv['precipitation (mm)'] > 0.01].index[0]\n",
    "                last_non_zero_index = csv[csv['precipitation (mm)'] > 0.01].index[-1]\n",
    "\n",
    "                # Slice the DataFrame from the first to the last non-zero value\n",
    "                trimmed_df = csv.loc[first_non_zero_index:last_non_zero_index]\n",
    "                \n",
    "                trimmed_lens.append(len(trimmed_df))\n",
    "                \n",
    "                if (len(trimmed_df) % 3 == 0):\n",
    "                    divisable_by_3.append(len(trimmed_df))\n"
   ]
  },
  {
   "cell_type": "code",
   "execution_count": 13,
   "id": "516c967e",
   "metadata": {},
   "outputs": [
    {
     "data": {
      "text/plain": [
       "0.3440192296572859"
      ]
     },
     "execution_count": 13,
     "metadata": {},
     "output_type": "execute_result"
    }
   ],
   "source": [
    "len(divisable_by_3)\n",
    "len(trimmed_lens)\n",
    "41648/121063"
   ]
  },
  {
   "cell_type": "code",
   "execution_count": 76,
   "id": "6300a970",
   "metadata": {},
   "outputs": [
    {
     "ename": "TypeError",
     "evalue": "'int' object is not callable",
     "output_type": "error",
     "traceback": [
      "\u001b[0;31m---------------------------------------------------------------------------\u001b[0m",
      "\u001b[0;31mTypeError\u001b[0m                                 Traceback (most recent call last)",
      "\u001b[0;32m/tmp/ipykernel_242850/3999707671.py\u001b[0m in \u001b[0;36m<module>\u001b[0;34m\u001b[0m\n\u001b[0;32m----> 1\u001b[0;31m \u001b[0mlen\u001b[0m\u001b[0;34m(\u001b[0m\u001b[0mdivisable_by_3\u001b[0m\u001b[0;34m)\u001b[0m\u001b[0;34m\u001b[0m\u001b[0;34m\u001b[0m\u001b[0m\n\u001b[0m",
      "\u001b[0;31mTypeError\u001b[0m: 'int' object is not callable"
     ]
    }
   ],
   "source": [
    "len(divisable_by_3)"
   ]
  },
  {
   "cell_type": "code",
   "execution_count": 63,
   "id": "450362ac",
   "metadata": {},
   "outputs": [
    {
     "data": {
      "text/plain": [
       "(array([6.1443e+04, 3.1747e+04, 2.0560e+04, 5.5970e+03, 1.1990e+03,\n",
       "        3.3800e+02, 1.3300e+02, 2.7000e+01, 1.8000e+01, 1.0000e+00]),\n",
       " array([  1. ,  20.3,  39.6,  58.9,  78.2,  97.5, 116.8, 136.1, 155.4,\n",
       "        174.7, 194. ]),\n",
       " <BarContainer object of 10 artists>)"
      ]
     },
     "execution_count": 63,
     "metadata": {},
     "output_type": "execute_result"
    },
    {
     "data": {
      "image/png": "[encoded data removed]",
      "text/plain": [
       "<Figure size 432x288 with 1 Axes>"
      ]
     },
     "metadata": {
      "needs_background": "light"
     },
     "output_type": "display_data"
    }
   ],
   "source": [
    "import matplotlib.pyplot as plt\n",
    "plt.hist(trimmed_lens)"
   ]
  },
  {
   "cell_type": "code",
   "execution_count": 35,
   "id": "91fe7ba3",
   "metadata": {},
   "outputs": [
    {
     "name": "stdout",
     "output_type": "stream",
     "text": [
      "Length of 29 and of 29 after trimming\n",
      "Length of 11 and of 11 after trimming\n",
      "Length of 51 and of 51 after trimming. Is divisible by 3\n",
      "Length of 8 and of 8 after trimming\n",
      "Length of 22 and of 22 after trimming\n",
      "Length of 30 and of 30 after trimming. Is divisible by 3\n",
      "Length of 5 and of 4 after trimming\n",
      "Length of 24 and of 18 after trimming. Is divisible by 3\n",
      "Length of 6 and of 6 after trimming. Is divisible by 3\n",
      "Length of 18 and of 18 after trimming. Is divisible by 3\n",
      "Length of 45 and of 45 after trimming. Is divisible by 3\n",
      "Length of 49 and of 49 after trimming\n",
      "Length of 49 and of 41 after trimming\n",
      "Length of 53 and of 53 after trimming\n",
      "Length of 35 and of 35 after trimming\n",
      "Length of 50 and of 50 after trimming\n",
      "Length of 27 and of 27 after trimming. Is divisible by 3\n",
      "Length of 23 and of 23 after trimming\n",
      "Length of 30 and of 30 after trimming. Is divisible by 3\n",
      "Length of 22 and of 22 after trimming\n",
      "Length of 7 and of 7 after trimming\n",
      "Length of 39 and of 39 after trimming. Is divisible by 3\n",
      "Length of 94 and of 94 after trimming\n",
      "Length of 32 and of 32 after trimming\n",
      "Length of 57 and of 57 after trimming. Is divisible by 3\n",
      "Length of 49 and of 49 after trimming\n",
      "Length of 2 and of 2 after trimming\n",
      "Length of 66 and of 66 after trimming. Is divisible by 3\n",
      "Length of 46 and of 46 after trimming\n",
      "Length of 18 and of 18 after trimming. Is divisible by 3\n",
      "Length of 49 and of 48 after trimming. Is divisible by 3\n",
      "Length of 7 and of 5 after trimming\n",
      "Length of 23 and of 23 after trimming\n",
      "Length of 3 and of 3 after trimming. Is divisible by 3\n",
      "Length of 41 and of 41 after trimming\n",
      "Length of 25 and of 24 after trimming. Is divisible by 3\n",
      "Length of 49 and of 49 after trimming\n",
      "Length of 61 and of 61 after trimming\n",
      "Length of 49 and of 46 after trimming\n",
      "Length of 9 and of 9 after trimming. Is divisible by 3\n",
      "Length of 7 and of 7 after trimming\n",
      "Length of 62 and of 62 after trimming\n",
      "Length of 19 and of 19 after trimming\n",
      "Length of 57 and of 57 after trimming. Is divisible by 3\n",
      "Length of 15 and of 15 after trimming. Is divisible by 3\n",
      "Length of 25 and of 24 after trimming. Is divisible by 3\n",
      "Length of 12 and of 12 after trimming. Is divisible by 3\n",
      "Length of 31 and of 31 after trimming\n",
      "Length of 73 and of 73 after trimming\n",
      "Length of 24 and of 22 after trimming\n",
      "Length of 53 and of 53 after trimming\n",
      "Length of 26 and of 26 after trimming\n",
      "Length of 49 and of 48 after trimming. Is divisible by 3\n",
      "Length of 46 and of 46 after trimming\n",
      "Length of 58 and of 58 after trimming\n",
      "Length of 7 and of 5 after trimming\n",
      "Length of 31 and of 31 after trimming\n",
      "Length of 65 and of 65 after trimming\n",
      "Length of 49 and of 37 after trimming\n",
      "Length of 21 and of 21 after trimming. Is divisible by 3\n",
      "Length of 51 and of 51 after trimming. Is divisible by 3\n",
      "Length of 25 and of 24 after trimming. Is divisible by 3\n",
      "Length of 15 and of 15 after trimming. Is divisible by 3\n",
      "Length of 5 and of 5 after trimming\n",
      "Length of 25 and of 25 after trimming\n",
      "Length of 44 and of 44 after trimming\n",
      "Length of 12 and of 11 after trimming\n",
      "Length of 25 and of 23 after trimming\n",
      "Length of 41 and of 39 after trimming. Is divisible by 3\n",
      "Length of 66 and of 65 after trimming\n",
      "Length of 56 and of 56 after trimming\n",
      "Length of 5 and of 4 after trimming\n",
      "Length of 70 and of 70 after trimming\n",
      "Length of 3 and of 3 after trimming. Is divisible by 3\n",
      "Length of 49 and of 49 after trimming\n",
      "Length of 49 and of 38 after trimming\n",
      "Length of 3 and of 3 after trimming. Is divisible by 3\n",
      "Length of 55 and of 55 after trimming\n",
      "Length of 13 and of 13 after trimming\n",
      "Length of 13 and of 12 after trimming. Is divisible by 3\n",
      "Length of 71 and of 71 after trimming\n",
      "Length of 13 and of 10 after trimming\n",
      "Length of 49 and of 45 after trimming. Is divisible by 3\n",
      "Length of 69 and of 69 after trimming. Is divisible by 3\n"
     ]
    }
   ],
   "source": [
    "files = [f for f in os.listdir(f\"../../../ProcessedData/IndependentEvents/UKCP18_30mins/{em}/{gauge_num}/\") if f.endswith('.csv')]\n",
    "for file in files:\n",
    "    fp = f\"../../../ProcessedData/IndependentEvents/UKCP18_30mins/{em}/{gauge_num}/{file}\"\n",
    "    csv =pd.read_csv(fp)\n",
    "    num_datapoints = len(csv)\n",
    "\n",
    "    last_non_zero_index = csv[csv['precipitation (mm)'] > 0.1].index[-1]\n",
    "\n",
    "    # Slice the DataFrame up to the last non-zero value\n",
    "    trimmed_df = csv.loc[:last_non_zero_index]\n",
    "    \n",
    "    is_integer = (len(trimmed_df) % 3 == 0)\n",
    "    if is_integer == True:\n",
    "        print(f\"Length of {len(csv)} and of {len(trimmed_df)} after trimming. Is divisible by 3\")\n",
    "    else :\n",
    "        print(f\"Length of {len(csv)} and of {len(trimmed_df)} after trimming\")        "
   ]
  },
  {
   "cell_type": "code",
   "execution_count": 4,
   "id": "47f35ca8",
   "metadata": {},
   "outputs": [
    {
     "name": "stdout",
     "output_type": "stream",
     "text": [
      "0\n",
      "100\n",
      "200\n"
     ]
    },
    {
     "ename": "KeyboardInterrupt",
     "evalue": "",
     "output_type": "error",
     "traceback": [
      "\u001b[0;31m---------------------------------------------------------------------------\u001b[0m",
      "\u001b[0;31mKeyboardInterrupt\u001b[0m                         Traceback (most recent call last)",
      "\u001b[0;32m/tmp/ipykernel_242850/1239262974.py\u001b[0m in \u001b[0;36m<module>\u001b[0;34m\u001b[0m\n\u001b[1;32m     10\u001b[0m \u001b[0;34m\u001b[0m\u001b[0m\n\u001b[1;32m     11\u001b[0m             \u001b[0;31m# Create a list of all the event CSVs\u001b[0m\u001b[0;34m\u001b[0m\u001b[0;34m\u001b[0m\u001b[0;34m\u001b[0m\u001b[0m\n\u001b[0;32m---> 12\u001b[0;31m             \u001b[0mfiles\u001b[0m \u001b[0;34m=\u001b[0m \u001b[0;34m[\u001b[0m\u001b[0mf\u001b[0m \u001b[0;32mfor\u001b[0m \u001b[0mf\u001b[0m \u001b[0;32min\u001b[0m \u001b[0mos\u001b[0m\u001b[0;34m.\u001b[0m\u001b[0mlistdir\u001b[0m\u001b[0;34m(\u001b[0m\u001b[0;34mf\"../../../ProcessedData/IndependentEvents/UKCP18_30mins/{em}/{gauge_num}/\"\u001b[0m\u001b[0;34m)\u001b[0m \u001b[0;32mif\u001b[0m \u001b[0mf\u001b[0m\u001b[0;34m.\u001b[0m\u001b[0mendswith\u001b[0m\u001b[0;34m(\u001b[0m\u001b[0;34m'.csv'\u001b[0m\u001b[0;34m)\u001b[0m\u001b[0;34m]\u001b[0m\u001b[0;34m\u001b[0m\u001b[0;34m\u001b[0m\u001b[0m\n\u001b[0m\u001b[1;32m     13\u001b[0m             \u001b[0mfiles\u001b[0m \u001b[0;34m=\u001b[0m \u001b[0mnp\u001b[0m\u001b[0;34m.\u001b[0m\u001b[0msort\u001b[0m\u001b[0;34m(\u001b[0m\u001b[0mfiles\u001b[0m\u001b[0;34m)\u001b[0m\u001b[0;34m\u001b[0m\u001b[0;34m\u001b[0m\u001b[0m\n",
      "\u001b[0;31mKeyboardInterrupt\u001b[0m: "
     ]
    }
   ],
   "source": [
    "# Process each gauge\n",
    "em='bc005'\n",
    "for gauge_num in gauge_nums:\n",
    "    # the gauges that didn't work for finding events\n",
    "    if gauge_num not in [444, 827, 888]:\n",
    "        # Excluding ones near windfarms\n",
    "        if gauge_num not in [27,36,57,61,75,97,101,106,120,132,190,204, 239, 285,348,376]:\n",
    "            if gauge_num % 100 == 0:\n",
    "                print(gauge_num)\n",
    "\n",
    "            # Create a list of all the event CSVs\n",
    "            files = [f for f in os.listdir(f\"../../../ProcessedData/IndependentEvents/UKCP18_30mins/{em}/{gauge_num}/\") if f.endswith('.csv')]\n",
    "            files = np.sort(files)\n",
    "\n",
    "            # Process each file\n",
    "            for file in files:\n",
    "                fp = f\"../../../ProcessedData/IndependentEvents/UKCP18_30mins/{em}/{gauge_num}/{file}\"\n",
    "                interpolated_rainfall, normalized_rainfall, duration, real_duration, precipitation_sum, max_quintile, season =  process_file(gauge_num, fp, file)\n",
    "                if interpolated_rainfall is not None and duration is not None and precipitation_sum is not None:\n",
    "                    print(len(normalized_rainfall))"
   ]
  }
 ],
 "metadata": {
  "kernelspec": {
   "display_name": "Python 3 (ipykernel)",
   "language": "python",
   "name": "python3"
  },
  "language_info": {
   "codemirror_mode": {
    "name": "ipython",
    "version": 3
   },
   "file_extension": ".py",
   "mimetype": "text/x-python",
   "name": "python",
   "nbconvert_exporter": "python",
   "pygments_lexer": "ipython3",
   "version": "3.7.13"
  }
 },
 "nbformat": 4,
 "nbformat_minor": 5
}
