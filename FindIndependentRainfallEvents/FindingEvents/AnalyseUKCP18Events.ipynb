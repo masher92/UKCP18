version https://git-lfs.github.com/spec/v1
oid sha256:5bebaae54c0ecb429c2b86972b9f5822d45b66bd640ed098064ad64a93f5e816
size 22312
