{
 "cells": [
  {
   "cell_type": "markdown",
   "id": "a7dcd469",
   "metadata": {},
   "source": [
    "### Identify events which appear twice and delete them"
   ]
  },
  {
   "cell_type": "code",
   "execution_count": 6,
   "id": "1c293443",
   "metadata": {},
   "outputs": [],
   "source": [
    "import os\n",
    "import hashlib\n",
    "import pandas as pd\n",
    "import numpy as np\n",
    "import shutil"
   ]
  },
  {
   "cell_type": "code",
   "execution_count": 7,
   "id": "b4e7cdb2",
   "metadata": {},
   "outputs": [],
   "source": [
    "def create_copy_of_files(current_directory, gauge_num):\n",
    "    target_directory = current_directory + \"/EventSet\"\n",
    "\n",
    "    # Create the directory if it does not exist\n",
    "    os.makedirs(target_directory, exist_ok=True)\n",
    "\n",
    "    # List all files in the current directory\n",
    "    files = [f for f in os.listdir(current_directory) if os.path.isfile(os.path.join(current_directory, f))]\n",
    "\n",
    "    # Copy each file to the target directory\n",
    "    for file in files:\n",
    "        source_path = os.path.join(current_directory, file)\n",
    "        destination_path = os.path.join(target_directory, file)\n",
    "        shutil.copy(source_path, destination_path)\n",
    "\n",
    "    print(f\"All files have been copied to {target_directory}.\")\n",
    "\n",
    "def load_csv_files(directory):\n",
    "    csv_files = [f for f in os.listdir(directory) if f.endswith('.csv')]\n",
    "    dataframes = {}\n",
    "    \n",
    "    for csv_file in csv_files:\n",
    "        file_path = os.path.join(directory, csv_file)\n",
    "        df = pd.read_csv(file_path)\n",
    "        if 'precipitation (mm)' in df.columns:\n",
    "            dataframes[csv_file] = df['precipitation (mm)']\n",
    "    \n",
    "    return dataframes\n",
    "\n",
    "def compare_and_delete_duplicates(dataframes):\n",
    "    filenames = list(dataframes.keys())\n",
    "    num_files = len(filenames)\n",
    "    duplicates = set()\n",
    "\n",
    "    for i in range(num_files):\n",
    "        for j in range(i + 1, num_files):\n",
    "            file1, file2 = filenames[i], filenames[j]\n",
    "            if dataframes[file1].equals(dataframes[file2]):\n",
    "                duplicates.add(file2)  # Add the second file to the set of duplicates\n",
    "                # print(f\"The 'rolling_sum' column in {file1} is the same as in {file2}. Deleting {file2}.\")\n",
    "\n",
    "    # Delete the duplicate files\n",
    "    for file in duplicates:\n",
    "        os.remove(os.path.join(directory_path, file))\n",
    "        # print(f\"Deleted file: {file}\")\n",
    "\n",
    "def compare_columns(dataframes):\n",
    "    filenames = list(dataframes.keys())\n",
    "    num_files = len(filenames)\n",
    "    \n",
    "    for i in range(num_files):\n",
    "        for j in range(i + 1, num_files):\n",
    "            file1, file2 = filenames[i], filenames[j]\n",
    "            if dataframes[file1].equals(dataframes[file2]):\n",
    "                print(f\"The 'rolling_sum' column in {file1} is the same as in {file2}\")       "
   ]
  },
  {
   "cell_type": "markdown",
   "id": "30a3b09d",
   "metadata": {},
   "source": [
    "### UKCP18 (done for bc005, started for bc009 but not many profiles actually made yet)"
   ]
  },
  {
   "cell_type": "code",
   "execution_count": 7,
   "id": "04a7071c",
   "metadata": {},
   "outputs": [],
   "source": [
    "em='bb189'\n",
    "for gauge_num in range(0,1293):\n",
    "    if gauge_num not in [444, 827, 888]:\n",
    "        print(f\"Gauge number {gauge_num}\")\n",
    "        directory_path = f\"/nfs/a161/gy17m2a/PhD/ProcessedData/IndependentEvents/UKCP18_30mins/{em}/{gauge_num}/WholeYear/\"\n",
    "        create_copy_of_files(directory_path, gauge_num)\n",
    "        # Move files to extra directoy incase deleting part is wrong\n",
    "        dataframes = load_csv_files(directory_path)\n",
    "        print(len(dataframes))\n",
    "        # Compare the 'rolling_sum' columns\n",
    "        compare_and_delete_duplicates(dataframes)\n",
    "        dataframes = load_csv_files(directory_path)\n",
    "        print(len(dataframes))"
   ]
  },
  {
   "cell_type": "markdown",
   "id": "f2288ffc",
   "metadata": {},
   "source": [
    "### 30 minute NIMROD (Done)"
   ]
  },
  {
   "cell_type": "code",
   "execution_count": 14,
   "id": "f7c7b6f6",
   "metadata": {},
   "outputs": [],
   "source": [
    "for dataset_name in ['NIMROD_2.2km_filtered_100']:\n",
    "    for gauge_num in range(1200,1293):\n",
    "        if gauge_num not in [444, 827, 888]:\n",
    "            print(f\"Gauge number {gauge_num}\")\n",
    "            directory_path = f\"/nfs/a161/gy17m2a/PhD/ProcessedData/IndependentEvents/NIMROD_30mins/{dataset_name}/{gauge_num}/WholeYear\"\n",
    "            # Move files to extra directoy incase deleting part is wrong\n",
    "            create_copy_of_files(directory_path, gauge_num)\n",
    "            dataframes = load_csv_files(directory_path)\n",
    "            print(len(dataframes))\n",
    "            # Compare the 'rolling_sum' columns\n",
    "            compare_and_delete_duplicates(dataframes)\n",
    "            dataframes = load_csv_files(directory_path)\n",
    "            print(len(dataframes))"
   ]
  },
  {
   "cell_type": "markdown",
   "id": "3975471a",
   "metadata": {},
   "source": [
    "### 5 minute NIMROD\n",
    "Ran this for 0-200 for all 3, now running for 350-1200 for just filtered_100"
   ]
  },
  {
   "cell_type": "code",
   "execution_count": 9,
   "id": "df89cb8e",
   "metadata": {},
   "outputs": [
    {
     "name": "stdout",
     "output_type": "stream",
     "text": [
      "Gauge number 1200\n",
      "All files have been copied to /nfs/a161/gy17m2a/PhD/ProcessedData/IndependentEvents/NIMROD_5mins/NIMROD_1km_filtered_100/1200/WholeYear/EventSet.\n",
      "106\n",
      "60\n"
     ]
    }
   ],
   "source": [
    "for dataset_name in ['NIMROD_1km_filtered_100']:\n",
    "    for gauge_num in range(350,1201):\n",
    "        if gauge_num not in [444, 827, 888]:\n",
    "            print(f\"Gauge number {gauge_num}\")\n",
    "            directory_path = f\"/nfs/a161/gy17m2a/PhD/ProcessedData/IndependentEvents/NIMROD_5mins/{dataset_name}/{gauge_num}/WholeYear\"\n",
    "            # Move files to extra directoy incase deleting part is wrong\n",
    "            create_copy_of_files(directory_path, gauge_num)\n",
    "            dataframes = load_csv_files(directory_path)\n",
    "            print(len(dataframes))\n",
    "            # Compare the 'rolling_sum' columns\n",
    "            compare_and_delete_duplicates(dataframes)\n",
    "            dataframes = load_csv_files(directory_path)\n",
    "            print(len(dataframes))"
   ]
  }
 ],
 "metadata": {
  "kernelspec": {
   "display_name": "Python 3 (ipykernel)",
   "language": "python",
   "name": "python3"
  },
  "language_info": {
   "codemirror_mode": {
    "name": "ipython",
    "version": 3
   },
   "file_extension": ".py",
   "mimetype": "text/x-python",
   "name": "python",
   "nbconvert_exporter": "python",
   "pygments_lexer": "ipython3",
   "version": "3.7.13"
  }
 },
 "nbformat": 4,
 "nbformat_minor": 5
}
