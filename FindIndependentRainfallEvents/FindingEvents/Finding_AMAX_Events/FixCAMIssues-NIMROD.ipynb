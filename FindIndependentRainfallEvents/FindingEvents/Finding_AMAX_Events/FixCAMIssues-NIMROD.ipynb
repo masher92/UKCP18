{
 "cells": [
  {
   "cell_type": "code",
   "execution_count": 1,
   "id": "1d4e5821",
   "metadata": {},
   "outputs": [],
   "source": [
    "import os\n",
    "from collections import defaultdict\n",
    "import pandas as pd"
   ]
  },
  {
   "cell_type": "code",
   "execution_count": 8,
   "id": "626cbd4b",
   "metadata": {},
   "outputs": [],
   "source": [
    "em = 'bb208'\n",
    "time_period = 'Future'"
   ]
  },
  {
   "cell_type": "code",
   "execution_count": 2,
   "id": "e45a0284",
   "metadata": {},
   "outputs": [],
   "source": [
    "home_dir = '/nfs/a319/gy17m2a/PhD/'\n",
    "home_dir2 = '/nfs/a161/gy17m2a/PhD/'"
   ]
  },
  {
   "cell_type": "code",
   "execution_count": 10,
   "id": "43cfe502",
   "metadata": {},
   "outputs": [],
   "source": [
    "ems_present = ['bc005', 'bc006', 'bc007', 'bc009', 'bc010', 'bc011', 'bc012', 'bc013', 'bc015', 'bc016', 'bc017', 'bc018']"
   ]
  },
  {
   "cell_type": "code",
   "execution_count": 4,
   "id": "9c2a3a26",
   "metadata": {},
   "outputs": [
    {
     "ename": "FileNotFoundError",
     "evalue": "[Errno 2] No such file or directory: '/nfs/a161/gy17m2a/PhD/ProcessedData/IndependentEvents/NIMROD_30mins/0/WholeYear/EventSet/'",
     "output_type": "error",
     "traceback": [
      "\u001b[0;31m---------------------------------------------------------------------------\u001b[0m",
      "\u001b[0;31mFileNotFoundError\u001b[0m                         Traceback (most recent call last)",
      "\u001b[0;32m/tmp/ipykernel_211586/411836464.py\u001b[0m in \u001b[0;36m<module>\u001b[0;34m\u001b[0m\n\u001b[1;32m      8\u001b[0m \u001b[0;34m\u001b[0m\u001b[0m\n\u001b[1;32m      9\u001b[0m         \u001b[0;31m# Loop through all the files in the directory\u001b[0m\u001b[0;34m\u001b[0m\u001b[0;34m\u001b[0m\u001b[0;34m\u001b[0m\u001b[0m\n\u001b[0;32m---> 10\u001b[0;31m         \u001b[0;32mfor\u001b[0m \u001b[0mfilename\u001b[0m \u001b[0;32min\u001b[0m \u001b[0mos\u001b[0m\u001b[0;34m.\u001b[0m\u001b[0mlistdir\u001b[0m\u001b[0;34m(\u001b[0m\u001b[0mdirectory_path\u001b[0m\u001b[0;34m)\u001b[0m\u001b[0;34m:\u001b[0m\u001b[0;34m\u001b[0m\u001b[0;34m\u001b[0m\u001b[0m\n\u001b[0m\u001b[1;32m     11\u001b[0m             \u001b[0;32mif\u001b[0m \u001b[0mfilename\u001b[0m\u001b[0;34m.\u001b[0m\u001b[0mendswith\u001b[0m\u001b[0;34m(\u001b[0m\u001b[0;34m'.csv'\u001b[0m\u001b[0;34m)\u001b[0m\u001b[0;34m:\u001b[0m\u001b[0;34m\u001b[0m\u001b[0;34m\u001b[0m\u001b[0m\n\u001b[1;32m     12\u001b[0m                 \u001b[0;31m# Remove the part of the filename that specifies 'partX'\u001b[0m\u001b[0;34m\u001b[0m\u001b[0;34m\u001b[0m\u001b[0;34m\u001b[0m\u001b[0m\n",
      "\u001b[0;31mFileNotFoundError\u001b[0m: [Errno 2] No such file or directory: '/nfs/a161/gy17m2a/PhD/ProcessedData/IndependentEvents/NIMROD_30mins/0/WholeYear/EventSet/'"
     ]
    }
   ],
   "source": [
    "for gauge_num in range(0, 1):\n",
    "    if gauge_num not in [444, 827, 888]:\n",
    "        # Directory containing the files\n",
    "        directory_path = home_dir2 + f'ProcessedData/IndependentEvents/NIMROD_30mins/NIMROD_2.2km_filtered_100/{gauge_num}/WholeYear/EventSet/'\n",
    "        \n",
    "        # Dictionary to group files with similar names (excluding the 'part' identifier)\n",
    "        file_groups = defaultdict(list)\n",
    "\n",
    "        # Loop through all the files in the directory\n",
    "        for filename in os.listdir(directory_path):\n",
    "            if filename.endswith('.csv'):\n",
    "                # Remove the part of the filename that specifies 'partX'\n",
    "                base_name = filename.rsplit('_part', 1)[0]\n",
    "\n",
    "                # Add the file to its corresponding group in the dictionary\n",
    "                file_groups[base_name].append(filename)\n",
    "\n",
    "        # Extract and check pairs where we have both part0 and part1\n",
    "        for base_name, files in file_groups.items():\n",
    "\n",
    "            if len(files) == 2 and any('part0' in f for f in files) and any('part1' in f for f in files):\n",
    "                # Sort files so that 'part0' comes first, 'part1' comes second\n",
    "                sorted_files = sorted(files, key=lambda x: 'part0' not in x) # 'part0' comes first\n",
    "                # print(sorted_files)\n",
    "\n",
    "                # Print sorted files to confirm the order\n",
    "                print(f\"Found pair: {sorted_files[0]}, {sorted_files[1]}\")\n",
    "\n",
    "                part0 = pd.read_csv(directory_path + sorted_files[0])\n",
    "                part1 = pd.read_csv(directory_path + sorted_files[1])\n",
    "\n",
    "                col_part0 = part0['Unnamed: 0']\n",
    "                col_part1 = part1['Unnamed: 0']\n",
    "\n",
    "                if 'part0' in sorted_files[1]:\n",
    "                    print(\"'part0' is in the second file\")\n",
    "                    break\n",
    "\n",
    "                # Find the overlapping values between the two columns\n",
    "                overlapping_values = set(col_part0).intersection(set(col_part1))\n",
    "                if len(overlapping_values) == 0:\n",
    "                    print(f\"No values are overlapping {gauge_num}\")\n",
    "\n",
    "                else:\n",
    "                    # Check if part1 contains only overlapping values\n",
    "                    if set(col_part1).issubset(overlapping_values):\n",
    "                        print(f\"-- All values are overlapping. Deleting {sorted_files[1]}\")\n",
    "                        os.remove(directory_path + sorted_files[1])\n",
    "                    else:\n",
    "                        print(f\"-- Non-overlapping values exist; after filtering:\")\n",
    "                        # Filter part1 to exclude overlapping rows\n",
    "                        part1_filtered = part1[~part1['Unnamed: 0'].isin(overlapping_values)]\n",
    "                        # print(f\"Filtered part1 (non-overlapping rows):\\n{part1_filtered}\")\n",
    "\n",
    "                        # Print the first and last index of part0 and part1_filtered for verification\n",
    "                        print(f\"---- part0: First index = {part0['Unnamed: 0'].iloc[0]}, Last index = {part0['Unnamed: 0'].iloc[-1]}\")\n",
    "                        print(f\"---- part1_filtered: First index = {part1_filtered['Unnamed: 0'].iloc[0]}, Last index = {part1_filtered['Unnamed: 0'].iloc[-1]}\")\n",
    "\n",
    "                        ## Check if filtered still has any non zero values\n",
    "                        count_over_005 = part1_filtered[part1_filtered['precipitation (mm)'] > 0.05].shape[0]\n",
    "                        if count_over_005 >0:\n",
    "                            print(f\"----- Saving {gauge_num}\")\n",
    "                            part1_filtered.to_csv(directory_path + sorted_files[1], index=False)\n",
    "                        else:\n",
    "                            print(\"----- All 0 values, deleting sorted_files[1]\")\n",
    "                            os.remove(directory_path + sorted_files[1])\n"
   ]
  }
 ],
 "metadata": {
  "kernelspec": {
   "display_name": "Python 3 (ipykernel)",
   "language": "python",
   "name": "python3"
  },
  "language_info": {
   "codemirror_mode": {
    "name": "ipython",
    "version": 3
   },
   "file_extension": ".py",
   "mimetype": "text/x-python",
   "name": "python",
   "nbconvert_exporter": "python",
   "pygments_lexer": "ipython3",
   "version": "3.7.13"
  }
 },
 "nbformat": 4,
 "nbformat_minor": 5
}
