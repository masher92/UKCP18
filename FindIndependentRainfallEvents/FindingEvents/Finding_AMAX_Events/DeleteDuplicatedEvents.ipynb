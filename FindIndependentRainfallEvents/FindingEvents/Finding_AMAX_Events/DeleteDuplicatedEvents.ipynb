{
 "cells": [
  {
   "cell_type": "markdown",
   "id": "a7dcd469",
   "metadata": {},
   "source": [
    "### Identify events which appear twice and delete them"
   ]
  },
  {
   "cell_type": "code",
   "execution_count": 2,
   "id": "1c293443",
   "metadata": {},
   "outputs": [],
   "source": [
    "import os\n",
    "import hashlib\n",
    "import pandas as pd\n",
    "import numpy as np\n",
    "import shutil"
   ]
  },
  {
   "cell_type": "code",
   "execution_count": 3,
   "id": "b4e7cdb2",
   "metadata": {},
   "outputs": [],
   "source": [
    "def create_copy_of_files(current_directory, gauge_num):\n",
    "    target_directory = current_directory + \"/EventSet\"\n",
    "\n",
    "    # Create the directory if it does not exist\n",
    "    os.makedirs(target_directory, exist_ok=True)\n",
    "\n",
    "    # List all files in the current directory\n",
    "    files = [f for f in os.listdir(current_directory) if os.path.isfile(os.path.join(current_directory, f))]\n",
    "\n",
    "    # Copy each file to the target directory\n",
    "    for file in files:\n",
    "        source_path = os.path.join(current_directory, file)\n",
    "        destination_path = os.path.join(target_directory, file)\n",
    "        shutil.copy(source_path, destination_path)\n",
    "\n",
    "    # print(f\"All files have been copied to {target_directory}.\")\n",
    "\n",
    "def load_csv_files(directory):\n",
    "    csv_files = [f for f in os.listdir(directory) if f.endswith('.csv')]\n",
    "    dataframes = {}\n",
    "    \n",
    "    for csv_file in csv_files:\n",
    "        file_path = os.path.join(directory, csv_file)\n",
    "        df = pd.read_csv(file_path)\n",
    "        if 'precipitation (mm)' in df.columns:\n",
    "            dataframes[csv_file] = df['precipitation (mm)']\n",
    "    \n",
    "    return dataframes\n",
    "\n",
    "def compare_and_delete_duplicates(dataframes):\n",
    "    filenames = list(dataframes.keys())\n",
    "    num_files = len(filenames)\n",
    "    duplicates = set()\n",
    "\n",
    "    for i in range(num_files):\n",
    "        for j in range(i + 1, num_files):\n",
    "            file1, file2 = filenames[i], filenames[j]\n",
    "            if dataframes[file1].equals(dataframes[file2]):\n",
    "                duplicates.add(file2)  # Add the second file to the set of duplicates\n",
    "                # print(f\"The 'rolling_sum' column in {file1} is the same as in {file2}. Deleting {file2}.\")\n",
    "\n",
    "    # Delete the duplicate files\n",
    "    for file in duplicates:\n",
    "        os.remove(os.path.join(directory_path, file))\n",
    "        # print(f\"Deleted file: {file}\")\n",
    "\n",
    "def compare_columns(dataframes):\n",
    "    filenames = list(dataframes.keys())\n",
    "    num_files = len(filenames)\n",
    "    \n",
    "    for i in range(num_files):\n",
    "        for j in range(i + 1, num_files):\n",
    "            file1, file2 = filenames[i], filenames[j]\n",
    "            if dataframes[file1].equals(dataframes[file2]):\n",
    "                print(f\"The 'rolling_sum' column in {file1} is the same as in {file2}\")       "
   ]
  },
  {
   "cell_type": "markdown",
   "id": "30a3b09d",
   "metadata": {},
   "source": [
    "### UKCP18 (done for bc005, started for bc009 but not many profiles actually made yet)"
   ]
  },
  {
   "cell_type": "code",
   "execution_count": 4,
   "id": "592a2769",
   "metadata": {},
   "outputs": [],
   "source": [
    "em='bb189'\n",
    "timeperiod='Future'"
   ]
  },
  {
   "cell_type": "markdown",
   "id": "745cad47",
   "metadata": {},
   "source": [
    "#### Check if there are enough files for each gauge"
   ]
  },
  {
   "cell_type": "code",
   "execution_count": 5,
   "id": "1601aa15",
   "metadata": {},
   "outputs": [],
   "source": [
    "# for gauge_num in range(0,1294):\n",
    "#     if gauge_num not in [444, 827, 888]:\n",
    "#         directory_path = f\"/nfs/a161/gy17m2a/PhD/ProcessedData/IndependentEvents/UKCP18_30mins/{timeperiod}/{em}/{gauge_num}/WholeYear/\"\n",
    "#         file_count = len([\n",
    "#             name for name in os.listdir(directory_path)\n",
    "#             if os.path.isfile(os.path.join(directory_path, name)) and 'part0' in name])\n",
    "#         if file_count == 133:\n",
    "#             pass\n",
    "#         else:\n",
    "#             print(f\"Gauge number {gauge_num}: Not as expected, {file_count}\")"
   ]
  },
  {
   "cell_type": "markdown",
   "id": "01eb3449",
   "metadata": {},
   "source": [
    "#### Check if already did the deleting"
   ]
  },
  {
   "cell_type": "code",
   "execution_count": 6,
   "id": "d57b4820",
   "metadata": {},
   "outputs": [],
   "source": [
    "# for gauge_num in range(0,1294):\n",
    "#     if gauge_num not in [444, 827, 888]:\n",
    "#         directory_path_eventset = f\"/nfs/a161/gy17m2a/PhD/ProcessedData/IndependentEvents/UKCP18_30mins/Present/{em}/{gauge_num}/WholeYear/EventSet/\"\n",
    "#         directory_path = f\"/nfs/a161/gy17m2a/PhD/ProcessedData/IndependentEvents/UKCP18_30mins/Present/{em}/{gauge_num}/WholeYear/\"\n",
    "#         file_count_eventset = len([\n",
    "#             name for name in os.listdir(directory_path_eventset)\n",
    "#             if os.path.isfile(os.path.join(directory_path_eventset, name)) and 'part0' in name])\n",
    "#         file_count = len([\n",
    "#             name for name in os.listdir(directory_path)\n",
    "#             if os.path.isfile(os.path.join(directory_path, name)) and 'part0' in name])\n",
    "#         if file_count == file_count_eventset:\n",
    "#             print(f\"Gauge {gauge_num}: files not already deleted\")"
   ]
  },
  {
   "cell_type": "markdown",
   "id": "dca0ae3e",
   "metadata": {},
   "source": [
    "#### Do the deleting"
   ]
  },
  {
   "cell_type": "code",
   "execution_count": 10,
   "id": "0556c16e",
   "metadata": {},
   "outputs": [
    {
     "name": "stdout",
     "output_type": "stream",
     "text": [
      "1008\n",
      "gauge 1008, pre-deletion 94 files exist\n",
      "gauge 1008, pre-deletion 94 files exist\n",
      "1009\n",
      "gauge 1009, pre-deletion 83 files exist\n",
      "gauge 1009, pre-deletion 83 files exist\n"
     ]
    }
   ],
   "source": [
    "for gauge_num in range(1008,1010):\n",
    "    if gauge_num not in [444, 827, 888]:\n",
    "        print(gauge_num)\n",
    "        directory_path = f\"/nfs/a161/gy17m2a/PhD/ProcessedData/IndependentEvents/UKCP18_30mins/{timeperiod}/{em}/{gauge_num}/WholeYear/\"\n",
    "        # print(f\"Gauge number {gauge_num}: Not as expected, {file_count}\")\n",
    "        create_copy_of_files(directory_path, gauge_num)\n",
    "        # Move files to extra directoy incase deleting part is wrong\n",
    "        dataframes = load_csv_files(directory_path)\n",
    "        print(f\"gauge {gauge_num}, pre-deletion {len(dataframes)} files exist\")\n",
    "        # Compare the 'rolling_sum' columns\n",
    "        compare_and_delete_duplicates(dataframes)\n",
    "        dataframes = load_csv_files(directory_path)\n",
    "        print(f\"gauge {gauge_num}, pre-deletion {len(dataframes)} files exist\")"
   ]
  },
  {
   "cell_type": "markdown",
   "id": "f2288ffc",
   "metadata": {},
   "source": [
    "### 30 minute NIMROD (Done)"
   ]
  },
  {
   "cell_type": "code",
   "execution_count": 12,
   "id": "f7c7b6f6",
   "metadata": {},
   "outputs": [
    {
     "name": "stdout",
     "output_type": "stream",
     "text": [
      "Gauge number 1007\n",
      "107\n",
      "71\n",
      "Gauge number 1008\n",
      "61\n",
      "61\n",
      "Gauge number 1009\n",
      "59\n",
      "59\n"
     ]
    }
   ],
   "source": [
    "for dataset_name in ['NIMROD_2.2km_filtered_100']:\n",
    "    for gauge_num in range(1007,1010):\n",
    "        if gauge_num not in [444, 827, 888]:\n",
    "            print(f\"Gauge number {gauge_num}\")\n",
    "            directory_path = f\"/nfs/a161/gy17m2a/PhD/ProcessedData/IndependentEvents/NIMROD_30mins/{dataset_name}/{gauge_num}/WholeYear\"\n",
    "            # Move files to extra directoy incase deleting part is wrong\n",
    "            create_copy_of_files(directory_path, gauge_num)\n",
    "            dataframes = load_csv_files(directory_path)\n",
    "            print(len(dataframes))\n",
    "            # Compare the 'rolling_sum' columns\n",
    "            compare_and_delete_duplicates(dataframes)\n",
    "            dataframes = load_csv_files(directory_path)\n",
    "            print(len(dataframes))"
   ]
  },
  {
   "cell_type": "markdown",
   "id": "3975471a",
   "metadata": {},
   "source": [
    "### 5 minute NIMROD\n",
    "\n",
    "- filtered_100 = 0-200, 200-350, 350-1200, 1200-1294  \n",
    "- filtered_300 = 0-200,  200-350, 350-1294\n",
    "- unfilterd = 0-200, 200-350, 350-1294 "
   ]
  },
  {
   "cell_type": "code",
   "execution_count": 17,
   "id": "df89cb8e",
   "metadata": {},
   "outputs": [],
   "source": [
    "for dataset_name in ['NIMROD_1km_filtered_100']:\n",
    "    for gauge_num in range(1200,1294):\n",
    "        if gauge_num not in [444, 827, 888]:\n",
    "            print(f\"Gauge number {gauge_num}\")\n",
    "            directory_path = f\"/nfs/a161/gy17m2a/PhD/ProcessedData/IndependentEvents/NIMROD_5mins/{dataset_name}/{gauge_num}/WholeYear\"\n",
    "            # Move files to extra directoy incase deleting part is wrong\n",
    "            create_copy_of_files(directory_path, gauge_num)\n",
    "            dataframes = load_csv_files(directory_path)\n",
    "            print(len(dataframes))\n",
    "            # Compare the 'rolling_sum' columns\n",
    "            compare_and_delete_duplicates(dataframes)\n",
    "            dataframes = load_csv_files(directory_path)\n",
    "            print(len(dataframes))"
   ]
  }
 ],
 "metadata": {
  "kernelspec": {
   "display_name": "Python 3 (ipykernel)",
   "language": "python",
   "name": "python3"
  },
  "language_info": {
   "codemirror_mode": {
    "name": "ipython",
    "version": 3
   },
   "file_extension": ".py",
   "mimetype": "text/x-python",
   "name": "python",
   "nbconvert_exporter": "python",
   "pygments_lexer": "ipython3",
   "version": "3.7.13"
  }
 },
 "nbformat": 4,
 "nbformat_minor": 5
}
