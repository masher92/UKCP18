{
 "cells": [
  {
   "cell_type": "code",
   "execution_count": 3,
   "id": "d14623fa",
   "metadata": {},
   "outputs": [],
   "source": [
    "import os\n",
    "import numpy as np\n",
    "import re\n",
    "import pickle\n",
    "import sys\n",
    "import pandas as pd\n",
    "\n",
    "pd.set_option('display.float_format', lambda x: '%.6f' % x)\n",
    "\n",
    "import geopandas as gpd\n",
    "import pandas as pd\n",
    "from shapely.geometry import Point\n",
    "\n",
    "sys.path.insert(1, '../../../ProcessEvents')\n",
    "from ProcessEventsFunctions import *\n",
    "# from Convert_to_Profiles_Functions import *\n",
    "# from Get_Events_Functions import *"
   ]
  },
  {
   "cell_type": "code",
   "execution_count": 4,
   "id": "3f0151fb",
   "metadata": {},
   "outputs": [],
   "source": [
    "home_dir = '/nfs/a319/gy17m2a/PhD/'\n",
    "home_dir2 = '/nfs/a161/gy17m2a/PhD/'"
   ]
  },
  {
   "cell_type": "markdown",
   "id": "dd6365f8",
   "metadata": {},
   "source": [
    "### Check number of years covered by each time period"
   ]
  },
  {
   "cell_type": "code",
   "execution_count": 5,
   "id": "d539e7e3",
   "metadata": {},
   "outputs": [
    {
     "name": "stdout",
     "output_type": "stream",
     "text": [
      "UKCP18 Present 19\n",
      "UKCP18 Future 19\n",
      "NIMROD:  15\n"
     ]
    }
   ],
   "source": [
    "print(\"UKCP18 Present\", len(list(range(2001,2020))))\n",
    "print(\"UKCP18 Future\", len(list(range(2061,2080))))\n",
    "print(\"NIMROD: \", len(list(range(2006,2021))))"
   ]
  },
  {
   "cell_type": "markdown",
   "id": "08572273",
   "metadata": {},
   "source": [
    "### Check if there is the same number of files in the folder containing all events\n",
    "\n",
    "For each gauge, count the number of files (part0 in name, so not including the CAM)\n",
    "\n",
    "Answer = 19 * 1291 * 7 = 171703"
   ]
  },
  {
   "cell_type": "code",
   "execution_count": null,
   "id": "1f4c5d43",
   "metadata": {},
   "outputs": [],
   "source": [
    "# durations =[0.5,1,2, 3,6,12, 24]\n",
    "# for duration in durations:\n",
    "#     part0s = [item for item in files if 'part1' not in item]\n",
    "#     print(len([item for item in part0s if item.startswith(f'{duration}hr')]))"
   ]
  },
  {
   "cell_type": "code",
   "execution_count": 41,
   "id": "be8da891",
   "metadata": {},
   "outputs": [
    {
     "data": {
      "text/plain": [
       "{'bc005': 171703,\n",
       " 'bc006': 171703,\n",
       " 'bc007': 171703,\n",
       " 'bc009': 171703,\n",
       " 'bc010': 171703,\n",
       " 'bc011': 171703,\n",
       " 'bc012': 171703,\n",
       " 'bc013': 171703,\n",
       " 'bc015': 171703,\n",
       " 'bc016': 171703,\n",
       " 'bc017': 171703,\n",
       " 'bc018': 171703}"
      ]
     },
     "execution_count": 41,
     "metadata": {},
     "output_type": "execute_result"
    }
   ],
   "source": [
    "time_period='Present'\n",
    "ems_present = ['bc005', 'bc006', 'bc007', 'bc009', 'bc010', 'bc011', 'bc012', 'bc013', 'bc015', 'bc016', 'bc017', 'bc018']\n",
    "cams_dict_present ={}\n",
    "events_dict_present={}\n",
    "for em in ems_present:\n",
    "    cams_thisem = 0\n",
    "    events_thisem = 0    \n",
    "    for gauge_num in range(0, 1294):\n",
    "        if gauge_num not in [444, 827, 888]:\n",
    "            indy_events_fp = home_dir2 + f\"ProcessedData/IndependentEvents/UKCP18_30mins/{time_period}/{em}/{gauge_num}/WholeYear/EventSet\"\n",
    "            files = [f for f in os.listdir(indy_events_fp) if f.endswith('.csv')]\n",
    "            files = np.sort(files)\n",
    "            if len([item for item in files if 'part1' not in item])!= 133:\n",
    "                print(em, gauge_num, len([item for item in files if 'part1' not in item]))\n",
    "            for item in files:\n",
    "                if 'part1' in item:\n",
    "                    cams_thisem=cams_thisem+1\n",
    "                elif 'part0' in item:\n",
    "                    events_thisem = events_thisem+1                          \n",
    "            cams_dict_present[em] = cams_thisem\n",
    "            events_dict_present[em] = events_thisem         \n",
    "events_dict_present            "
   ]
  },
  {
   "cell_type": "code",
   "execution_count": 7,
   "id": "2436e9af",
   "metadata": {},
   "outputs": [
    {
     "name": "stdout",
     "output_type": "stream",
     "text": [
      "bb198 313 132\n"
     ]
    },
    {
     "data": {
      "text/plain": [
       "{'bb195': 171703,\n",
       " 'bb192': 171703,\n",
       " 'bb198': 171702,\n",
       " 'bb208': 171703,\n",
       " 'bb225': 171703,\n",
       " 'bb222': 171703,\n",
       " 'bb201': 171703,\n",
       " 'bb204': 171703,\n",
       " 'bb216': 171703,\n",
       " 'bb219': 171703,\n",
       " 'bb211': 171703}"
      ]
     },
     "execution_count": 7,
     "metadata": {},
     "output_type": "execute_result"
    }
   ],
   "source": [
    "time_period='Future'\n",
    "ems_future = ['bb195', 'bb192', 'bb198', 'bb208', 'bb225','bb222', 'bb201', 'bb204', 'bb216', 'bb219', 'bb211']\n",
    "\n",
    "cams_dict_future={}\n",
    "events_dict_future={}\n",
    "for em in ems_future:\n",
    "    cams_thisem = 0\n",
    "    events_thisem = 0\n",
    "    for gauge_num in range(0, 1294):\n",
    "        if gauge_num not in [444, 827, 888]:\n",
    "            indy_events_fp = home_dir2 + f\"ProcessedData/IndependentEvents/UKCP18_30mins/{time_period}/{em}/{gauge_num}/WholeYear/EventSet/\"\n",
    "            files = [f for f in os.listdir(indy_events_fp) if f.endswith('.csv')]\n",
    "            files = np.sort(files)\n",
    "            if len([item for item in files if 'part1' not in item])!= 133:\n",
    "                print(em, gauge_num, len([item for item in files if 'part1' not in item]))\n",
    "            for item in files:\n",
    "                if 'part1' in item:\n",
    "                    cams_thisem=cams_thisem+1\n",
    "                elif 'part0' in item:\n",
    "                    events_thisem=events_thisem+1                    \n",
    "            cams_dict_future[em] = cams_thisem\n",
    "            events_dict_future[em] = events_thisem       \n",
    "events_dict_future            "
   ]
  },
  {
   "cell_type": "markdown",
   "id": "2fee308b",
   "metadata": {},
   "source": [
    "### NIMROD\n",
    "Expecting 15 * 1291 *7 = 135555"
   ]
  },
  {
   "cell_type": "code",
   "execution_count": 48,
   "id": "99ec2676",
   "metadata": {},
   "outputs": [
    {
     "data": {
      "text/plain": [
       "135555"
      ]
     },
     "execution_count": 48,
     "metadata": {},
     "output_type": "execute_result"
    }
   ],
   "source": [
    "cams_thisem = 0\n",
    "events_thisem = 0    \n",
    "for gauge_num in range(0, 1294):\n",
    "    if gauge_num not in [444, 827, 888]:\n",
    "        indy_events_fp = home_dir2 + f\"ProcessedData/IndependentEvents/NIMROD_30mins/NIMROD_2.2km_filtered_100/{gauge_num}/WholeYear/EventSet\"\n",
    "        files = [f for f in os.listdir(indy_events_fp) if f.endswith('.csv')]\n",
    "        files = np.sort(files)\n",
    "        if len([item for item in files if 'part1' not in item])!= 105:\n",
    "            print(gauge_num, len([item for item in files if 'part1' not in item]))\n",
    "        for item in files:\n",
    "            if 'part1' in item:\n",
    "                cams_thisem=cams_thisem+1\n",
    "            elif 'part0' in item:\n",
    "                events_thisem=events_thisem+1        \n",
    "events_thisem                "
   ]
  },
  {
   "cell_type": "markdown",
   "id": "0ac75b56",
   "metadata": {},
   "source": [
    "### Check if there are enough files for every duration\n",
    "This is not really necessary, because if it wasn't 19 then numbers above would be wrong as well.  \n",
    "Counting just events with 'part0' otherwise will be different due to CAM - should always be 19"
   ]
  },
  {
   "cell_type": "code",
   "execution_count": 44,
   "id": "6bf79bfe",
   "metadata": {},
   "outputs": [],
   "source": [
    "durations = ['0.5', '1', '2', '3', '6', '12', '24']"
   ]
  },
  {
   "cell_type": "code",
   "execution_count": 45,
   "id": "ddb40617",
   "metadata": {},
   "outputs": [
    {
     "name": "stdout",
     "output_type": "stream",
     "text": [
      "bc017\n"
     ]
    }
   ],
   "source": [
    "time_period = 'Present'\n",
    "for em in ['bc017']:\n",
    "    print(em)\n",
    "    for gauge_num in range(0, 1294):\n",
    "        if gauge_num not in [444, 827, 888]:\n",
    "            # print(f\"gauge num {gauge_num}\")\n",
    "            indy_events_fp = home_dir2 + f\"ProcessedData/IndependentEvents/UKCP18_30mins/{time_period}/{em}/{gauge_num}/WholeYear/EventSet/\"\n",
    "            files = [f for f in os.listdir(indy_events_fp) if f.endswith('.csv')]\n",
    "            files = np.sort(files)\n",
    "            for duration in durations:\n",
    "                count_starts = sum(s.startswith(f\"{duration}hrs\") and 'part0' in s for s in files)\n",
    "                # print(duration, count_starts)\n",
    "                if count_starts != 19:\n",
    "                    print('broken', count_starts, duration)\n",
    "                    break"
   ]
  }
 ],
 "metadata": {
  "kernelspec": {
   "display_name": "Python 3 (ipykernel)",
   "language": "python",
   "name": "python3"
  },
  "language_info": {
   "codemirror_mode": {
    "name": "ipython",
    "version": 3
   },
   "file_extension": ".py",
   "mimetype": "text/x-python",
   "name": "python",
   "nbconvert_exporter": "python",
   "pygments_lexer": "ipython3",
   "version": "3.7.13"
  }
 },
 "nbformat": 4,
 "nbformat_minor": 5
}
