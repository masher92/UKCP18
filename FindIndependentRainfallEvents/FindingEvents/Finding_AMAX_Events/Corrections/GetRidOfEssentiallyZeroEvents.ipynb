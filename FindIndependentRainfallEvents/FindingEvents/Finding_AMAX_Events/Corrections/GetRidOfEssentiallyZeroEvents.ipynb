{
 "cells": [
  {
   "cell_type": "code",
   "execution_count": 1,
   "id": "5a887720",
   "metadata": {},
   "outputs": [],
   "source": [
    "import os\n",
    "import numpy as np\n",
    "import re\n",
    "import pickle\n",
    "import sys\n",
    "\n",
    "import geopandas as gpd\n",
    "import pandas as pd\n",
    "from shapely.geometry import Point\n",
    "\n",
    "sys.path.insert(1, '../../../ProcessEvents')\n",
    "from ProcessEventsFunctions import *"
   ]
  },
  {
   "cell_type": "code",
   "execution_count": 2,
   "id": "03b7a4b9",
   "metadata": {},
   "outputs": [],
   "source": [
    "home_dir = '/nfs/a319/gy17m2a/PhD/'\n",
    "home_dir2 = '/nfs/a161/gy17m2a/PhD/'"
   ]
  },
  {
   "cell_type": "code",
   "execution_count": 3,
   "id": "17afe2f0",
   "metadata": {},
   "outputs": [
    {
     "name": "stdout",
     "output_type": "stream",
     "text": [
      "bb198\n",
      "Processing gauge 0\n",
      "Processing gauge 100\n",
      "Processing gauge 200\n",
      "Processing gauge 300\n",
      "Processing gauge 400\n",
      "Processing gauge 500\n",
      "Processing gauge 600\n",
      "Processing gauge 700\n",
      "Processing gauge 800\n",
      "Processing gauge 900\n",
      "Processing gauge 1000\n",
      "Processing gauge 1100\n",
      "Processing gauge 1200\n"
     ]
    }
   ],
   "source": [
    "ems_present = ['bb198']\n",
    "time_period='Future'\n",
    "\n",
    "for em in ems_present:\n",
    "    print(em)\n",
    "    for gauge_num in range(0, 1294):\n",
    "        if gauge_num not in [444, 827, 888]:\n",
    "            if gauge_num % 100 == 0:\n",
    "                print(f\"Processing gauge {gauge_num}\")\n",
    "            indy_events_fp = home_dir2 + f\"ProcessedData/IndependentEvents/UKCP18_30mins/{em}/{gauge_num}/WholeYear/EventSet/\"\n",
    "\n",
    "            files = [f for f in os.listdir(indy_events_fp) if f.endswith('.csv')]\n",
    "            files = np.sort(files)\n",
    "\n",
    "            for event_num, file in enumerate(files):\n",
    "                fp = indy_events_fp + f\"{file}\"\n",
    "                if '2080' in fp:\n",
    "                    continue\n",
    "                    \n",
    "                this_event = read_event(gauge_num, fp)\n",
    "\n",
    "                # Get times and precipitation values\n",
    "                event_times = this_event['times']\n",
    "                event_precip = this_event['precipitation (mm)']\n",
    "\n",
    "                # Apply the function to adjust the dates in the 'times' column\n",
    "                event_times_fixed = event_times.apply(adjust_feb_dates)\n",
    "\n",
    "                # Create the DataFrame with corrected times\n",
    "                event_df = pd.DataFrame({'precipitation (mm)': event_precip, 'times': event_times_fixed})\n",
    "                # Remove leading and trailing zeroes\n",
    "                \n",
    "                count_over_005 = event_df[event_df['precipitation (mm)'] > 0.05].shape[0]\n",
    "                if count_over_005 ==0:\n",
    "                    print(\"removing\", fp)\n",
    "                    os.remove(fp)\n",
    "                    print(event_df)"
   ]
  },
  {
   "cell_type": "markdown",
   "id": "559f41d3",
   "metadata": {},
   "source": [
    "### NIMROD"
   ]
  },
  {
   "cell_type": "code",
   "execution_count": 7,
   "id": "6893ddba",
   "metadata": {},
   "outputs": [
    {
     "name": "stdout",
     "output_type": "stream",
     "text": [
      "Processing gauge 0\n",
      "Processing gauge 100\n",
      "Processing gauge 200\n",
      "Processing gauge 300\n",
      "Processing gauge 400\n",
      "Processing gauge 500\n",
      "Processing gauge 600\n",
      "Processing gauge 700\n",
      "Processing gauge 800\n",
      "Processing gauge 900\n",
      "Processing gauge 1000\n",
      "Processing gauge 1100\n",
      "Processing gauge 1200\n"
     ]
    }
   ],
   "source": [
    "for gauge_num in range(0, 1294):\n",
    "    if gauge_num not in [444, 827, 888]:\n",
    "        if gauge_num % 100 == 0:\n",
    "            print(f\"Processing gauge {gauge_num}\")\n",
    "        indy_events_fp = home_dir2 + f'ProcessedData/IndependentEvents/NIMROD_30mins/NIMROD_2.2km_filtered_100/{gauge_num}/WholeYear/EventSet/'\n",
    "\n",
    "        files = [f for f in os.listdir(indy_events_fp) if f.endswith('.csv')]\n",
    "        files = np.sort(files)\n",
    "\n",
    "        for event_num, file in enumerate(files):\n",
    "            fp = indy_events_fp + f\"{file}\"\n",
    "            if '2080' in fp:\n",
    "                continue\n",
    "\n",
    "            this_event = read_event(gauge_num, fp)\n",
    "\n",
    "            # Get times and precipitation values\n",
    "            event_times = this_event['times']\n",
    "            event_precip = this_event['precipitation (mm)']\n",
    "\n",
    "            # Apply the function to adjust the dates in the 'times' column\n",
    "            event_times_fixed = event_times.apply(adjust_feb_dates)\n",
    "\n",
    "            # Create the DataFrame with corrected times\n",
    "            event_df = pd.DataFrame({'precipitation (mm)': event_precip, 'times': event_times_fixed})\n",
    "            # Remove leading and trailing zeroes\n",
    "\n",
    "            count_over_005 = event_df[event_df['precipitation (mm)'] > 0.05].shape[0]\n",
    "            if count_over_005 ==0:\n",
    "                print(\"removing\", fp)\n",
    "                os.remove(fp)\n",
    "                print(event_df)"
   ]
  }
 ],
 "metadata": {
  "kernelspec": {
   "display_name": "Python 3 (ipykernel)",
   "language": "python",
   "name": "python3"
  },
  "language_info": {
   "codemirror_mode": {
    "name": "ipython",
    "version": 3
   },
   "file_extension": ".py",
   "mimetype": "text/x-python",
   "name": "python",
   "nbconvert_exporter": "python",
   "pygments_lexer": "ipython3",
   "version": "3.7.13"
  }
 },
 "nbformat": 4,
 "nbformat_minor": 5
}
