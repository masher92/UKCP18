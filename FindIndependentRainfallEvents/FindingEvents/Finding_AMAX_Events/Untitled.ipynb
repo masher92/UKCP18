{
 "cells": [
  {
   "cell_type": "code",
   "execution_count": 3,
   "id": "bf69a08b",
   "metadata": {},
   "outputs": [
    {
     "name": "stdout",
     "output_type": "stream",
     "text": [
      "Joined\n"
     ]
    }
   ],
   "source": [
    "import os\n",
    "em='bb189'\n",
    "print(\"Joined\")       \n",
    "if not os.path.exists(f'../../../datadir/Gauge_Timeslices/2060_2081/{em}/'):\n",
    "    os.makedirs(f'../../../datadir/Gauge_Timeslices/2060_2081/{em}/')"
   ]
  }
 ],
 "metadata": {
  "kernelspec": {
   "display_name": "Python 3 (ipykernel)",
   "language": "python",
   "name": "python3"
  },
  "language_info": {
   "codemirror_mode": {
    "name": "ipython",
    "version": 3
   },
   "file_extension": ".py",
   "mimetype": "text/x-python",
   "name": "python",
   "nbconvert_exporter": "python",
   "pygments_lexer": "ipython3",
   "version": "3.7.13"
  }
 },
 "nbformat": 4,
 "nbformat_minor": 5
}
