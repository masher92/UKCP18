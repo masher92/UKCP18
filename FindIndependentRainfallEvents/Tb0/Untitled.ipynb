version https://git-lfs.github.com/spec/v1
oid sha256:3ace0b82bc41720738b46aaa1f01f8348ea7eb81e82ad8e400dadd3d14b2716f
size 2947
