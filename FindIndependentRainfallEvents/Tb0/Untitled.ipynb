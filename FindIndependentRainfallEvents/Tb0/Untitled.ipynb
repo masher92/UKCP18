{
 "cells": [
  {
   "cell_type": "code",
   "execution_count": 7,
   "id": "2c1cebd4",
   "metadata": {},
   "outputs": [],
   "source": [
    "import numpy as np\n",
    "import pandas as pd"
   ]
  },
  {
   "cell_type": "markdown",
   "id": "f5e4dda2",
   "metadata": {},
   "source": [
    "### Find the lengths of the events"
   ]
  },
  {
   "cell_type": "code",
   "execution_count": 27,
   "id": "19696ecd",
   "metadata": {},
   "outputs": [],
   "source": [
    "# Loop through gauges\n",
    "lens = []\n",
    "for gauge_num in [1]:\n",
    "    \n",
    "    # Find the Tb0 and index of this gauge\n",
    "    for em in ['bc005']:\n",
    "        for yr in range(2001,2020):\n",
    "            for duration in [0.5, 1, 2, 3, 6, 12, 24]: \n",
    "                test = pd.read_csv(f\"../../ProcessedData/IndependentEvents/{em}/Gauge{gauge_num}/Option2/{duration}hrs_{yr}_v2.csv\")\n",
    "                lens.append(len(test))\n",
    "lens = np.sort(lens)"
   ]
  },
  {
   "cell_type": "code",
   "execution_count": 30,
   "id": "ab7b675c",
   "metadata": {},
   "outputs": [
    {
     "name": "stdout",
     "output_type": "stream",
     "text": [
      "Values in the first quarter: [2 2 2 2 3 3 3 3 4 4 4 4 5 5 5 5 5 5 5 5 5 6 6 7 7 8 8 8 8 8 8 8 9 9 9 9]\n",
      "Values in the second quarter: [10 11 11 11 12 12 12 12 13 13 13 13 14 14 14 14 15 15 15 18 21 22 23 23\n",
      " 23 24 24 24 24 25 25 25 25 25]\n",
      "Values in the second quarter: [26 26 26 27 28 28 29 29 29 29 29 30 31 31 32 32 33 34 37 37 40 41 41 41\n",
      " 42 42 42 42 43 44]\n"
     ]
    }
   ],
   "source": [
    "first_quarter = np.percentile(lens, 25)\n",
    "second_quarter = np.percentile(lens, 50)\n",
    "first_quarter_values = lens[lens <= first_quarter]\n",
    "\n",
    "second_quarter_start = first_quarter\n",
    "second_quarter_end = np.percentile(lens, 50)\n",
    "\n",
    "third_quarter_start = second_quarter\n",
    "third_quarter_end = np.percentile(lens, 75)\n",
    "\n",
    "# Get all values that are in the second quarter\n",
    "print(\"Values in the first quarter:\", first_quarter_values)\n",
    "\n",
    "second_quarter_values = lens[(lens > second_quarter_start) & (lens <= second_quarter_end)]\n",
    "print(\"Values in the second quarter:\", second_quarter_values)\n",
    "\n",
    "third_quarter_values = lens[(lens > third_quarter_start) & (lens <= third_quarter_end)]\n",
    "print(\"Values in the second quarter:\", third_quarter_values)"
   ]
  }
 ],
 "metadata": {
  "kernelspec": {
   "display_name": "Python 3 (ipykernel)",
   "language": "python",
   "name": "python3"
  },
  "language_info": {
   "codemirror_mode": {
    "name": "ipython",
    "version": 3
   },
   "file_extension": ".py",
   "mimetype": "text/x-python",
   "name": "python",
   "nbconvert_exporter": "python",
   "pygments_lexer": "ipython3",
   "version": "3.7.13"
  }
 },
 "nbformat": 4,
 "nbformat_minor": 5
}
