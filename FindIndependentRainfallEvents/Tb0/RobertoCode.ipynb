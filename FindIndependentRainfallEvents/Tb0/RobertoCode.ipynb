version https://git-lfs.github.com/spec/v1
oid sha256:6da5286e9c6c500c631c7c0a5a389f532c01c42ff8c72ce6235b9d3a36963072
size 18736
