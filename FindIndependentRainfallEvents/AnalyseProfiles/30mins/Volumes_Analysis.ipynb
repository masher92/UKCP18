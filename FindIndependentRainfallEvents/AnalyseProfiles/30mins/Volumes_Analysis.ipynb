{
 "cells": [
  {
   "cell_type": "code",
   "execution_count": 1,
   "id": "5dc5ddaa",
   "metadata": {},
   "outputs": [],
   "source": [
    "import pandas as pd\n",
    "import sys\n",
    "import pickle\n",
    "import seaborn as sns\n",
    "\n",
    "sys.path.insert(1, '../')\n",
    "from Prepare_Events_Functions import *"
   ]
  },
  {
   "cell_type": "code",
   "execution_count": 2,
   "id": "c5c8c802",
   "metadata": {},
   "outputs": [],
   "source": [
    "color_mapping_timeperiod = {\n",
    "    'Present': (1.0, 0.6471, 0.0, 0.6), # orange with 0.6 alpha\n",
    "    'Future': (0.0, 0.0, 1.0, 0.6)}     # blue with 0.6 alpha}\n",
    "\n",
    "present_future_lookup = {'bc005': 'Present','bc006': 'Present','bc007': 'Present','bc009': 'Present','bc010': 'Present',\n",
    "                         'bc011': 'Present', 'bc012': 'Present','bc013': 'Present','bc015': 'Present','bc016': 'Present', \n",
    "                         'bc017': 'Present','bc018': 'Present',\n",
    "                        'nimrod': 'NIMROD',\n",
    "                        'bb189': 'Future', 'bb192': 'Future','bb195': 'Future','bb198': 'Future','bb201': 'Future',\n",
    "                        'bb204': 'Future','bb208': 'Future','bb211': 'Future','bb216': 'Future','bb219': 'Future',\n",
    "                        'bb222': 'Future', 'bb225': 'Future'}\n",
    "\n",
    "ids = ['nimrod', \n",
    "       'bc005', 'bc006', 'bc007', 'bc009', 'bc010','bc011', 'bc012','bc013','bc015', 'bc016', 'bc017', 'bc018',\n",
    "       'bb189','bb192', 'bb195', 'bb198', 'bb201', 'bb204','bb208' ,'bb211','bb216', 'bb219','bb222','bb225']"
   ]
  },
  {
   "cell_type": "markdown",
   "id": "c427915b",
   "metadata": {},
   "source": [
    "# Read in data\n",
    "For events with n data points which is a multiple of 5"
   ]
  },
  {
   "cell_type": "code",
   "execution_count": 3,
   "id": "5c4c750e",
   "metadata": {},
   "outputs": [],
   "source": [
    "with open(\"/nfs/a319/gy17m2a/PhD/ProcessedData/Profiles/All_30mins/dataframes.pkl\", 'rb') as file:\n",
    "    dataframes = pickle.load(file)  "
   ]
  },
  {
   "cell_type": "code",
   "execution_count": 4,
   "id": "78e605a6",
   "metadata": {},
   "outputs": [],
   "source": [
    "present_ids = [id for id in ids if present_future_lookup.get(id) == 'Present']\n",
    "present_dataframes = pd.concat([dataframes[id] for id in present_ids], ignore_index=True)\n",
    "\n",
    "future_ids = [id for id in ids if present_future_lookup.get(id) == 'Future']\n",
    "future_dataframes = pd.concat([dataframes[id] for id in future_ids], ignore_index=True)"
   ]
  },
  {
   "cell_type": "markdown",
   "id": "7239c28c",
   "metadata": {},
   "source": [
    "### Create dataframes for plotting boxplots"
   ]
  },
  {
   "cell_type": "code",
   "execution_count": 5,
   "id": "3afaf69c",
   "metadata": {},
   "outputs": [],
   "source": [
    "# Percentage of events with each duration, for each ensemble member\n",
    "combined_df_volumes = prepare_combined_data(dataframes, 'Volume', ids, present_future_lookup)\n",
    "# Percentage of events within each duration bin, for each ensemble member\n",
    "combined_df_volumes = prepare_combined_data(dataframes, 'Volume', ids, present_future_lookup)"
   ]
  },
  {
   "cell_type": "markdown",
   "id": "2849c1b2",
   "metadata": {},
   "source": [
    "### Create versions of these boxplot dataframes, containing just data for the present or just data from the future"
   ]
  },
  {
   "cell_type": "code",
   "execution_count": 6,
   "id": "2039bd89",
   "metadata": {},
   "outputs": [],
   "source": [
    "combined_df_volume_present =combined_df_volumes[combined_df_volumes['TimePeriod']=='Present'] \n",
    "combined_df_volume_future =combined_df_volumes[combined_df_volumes['TimePeriod']=='Future'] "
   ]
  },
  {
   "cell_type": "markdown",
   "id": "becaa475",
   "metadata": {},
   "source": [
    "## Do durations of AMAX events change in the future?"
   ]
  },
  {
   "cell_type": "code",
   "execution_count": null,
   "id": "bde861eb",
   "metadata": {},
   "outputs": [],
   "source": [
    "fig, axs = plt.subplots(ncols=2, figsize=(15, 5))\n",
    "sns.boxplot(ax=axs[0],data=combined_df_volumes, x='TimePeriod', y='Percentage', hue='Volume');\n",
    "axs[0].legend(title='Duration bin')\n",
    "sns.boxplot(ax=axs[1],data=combined_df_volumes, x='Volume', y='Percentage', hue='TimePeriod');"
   ]
  },
  {
   "cell_type": "markdown",
   "id": "aae4a934",
   "metadata": {},
   "source": [
    "## Distribution of distributions for NIMROD vs UKCP18 present vs UKCP18 future"
   ]
  },
  {
   "cell_type": "code",
   "execution_count": null,
   "id": "5d86b405",
   "metadata": {},
   "outputs": [],
   "source": [
    "fig, axes = plt.subplots(1, 3, figsize=(15, 5))\n",
    "\n",
    "# Histogram\n",
    "sns.histplot(dataframes['nimrod']['Volume'], bins=30, color='green', alpha=0.5, label='Nimrod', ax=axes[0], stat='density')\n",
    "sns.histplot(present_dataframes['Volume'], bins=30, color='blue', alpha=0.5, label='Present', ax=axes[0], stat='density')\n",
    "sns.histplot(future_dataframes['Volume'], bins=30, color='red', alpha=0.5, label='Future', ax=axes[0], stat='density')\n",
    "axes[0].set_title('Histogram')\n",
    "axes[0].legend()\n",
    "\n",
    "# KDE Plot\n",
    "sns.kdeplot(dataframes['nimrod']['Volume'], color='green', shade=True, label='Nimrod', ax=axes[1])\n",
    "sns.kdeplot(present_dataframes['Volume'], color='blue', shade=True, label='Present', ax=axes[1])\n",
    "sns.kdeplot(future_dataframes['Volume'], color='red', shade=True, label='Future', ax=axes[1])\n",
    "axes[1].set_title('KDE Plot')\n",
    "axes[1].legend()\n",
    "\n",
    "# Box Plot\n",
    "sns.boxplot(data=[dataframes['nimrod']['Volume'], present_dataframes['Volume'], \n",
    "                  future_dataframes['Volume']], palette=['green','blue', 'red'], ax=axes[2])\n",
    "axes[2].set_xticklabels(['Nimrod','Present', 'Future'])\n",
    "axes[2].set_title('Box Plot')\n",
    "\n",
    "plt.tight_layout()\n",
    "plt.show()"
   ]
  }
 ],
 "metadata": {
  "kernelspec": {
   "display_name": "Python 3 (ipykernel)",
   "language": "python",
   "name": "python3"
  },
  "language_info": {
   "codemirror_mode": {
    "name": "ipython",
    "version": 3
   },
   "file_extension": ".py",
   "mimetype": "text/x-python",
   "name": "python",
   "nbconvert_exporter": "python",
   "pygments_lexer": "ipython3",
   "version": "3.7.13"
  }
 },
 "nbformat": 4,
 "nbformat_minor": 5
}
