{
 "cells": [
  {
   "cell_type": "code",
   "execution_count": 5,
   "id": "12bc06df",
   "metadata": {},
   "outputs": [
    {
     "name": "stdout",
     "output_type": "stream",
     "text": [
      "Processing gauge 0\n"
     ]
    },
    {
     "ename": "FileNotFoundError",
     "evalue": "[Errno 2] No such file or directory: '/nfs/a161/gy17m2a/PhD/ProcessedData/IndependentEvents_precedingtime/UKCP18_30mins/Future/bb216/0/WholeYear/'",
     "output_type": "error",
     "traceback": [
      "\u001b[0;31m---------------------------------------------------------------------------\u001b[0m",
      "\u001b[0;31mFileNotFoundError\u001b[0m                         Traceback (most recent call last)",
      "\u001b[0;32m/tmp/ipykernel_5545/3066681951.py\u001b[0m in \u001b[0;36m<module>\u001b[0;34m\u001b[0m\n\u001b[1;32m     29\u001b[0m                 \u001b[0mindy_events_fp\u001b[0m \u001b[0;34m=\u001b[0m \u001b[0;34mf\"/nfs/a161/gy17m2a/PhD/ProcessedData/IndependentEvents_precedingtime/UKCP18_30mins/{time_period}/{em}/{gauge_num}/WholeYear/\"\u001b[0m\u001b[0;34m\u001b[0m\u001b[0;34m\u001b[0m\u001b[0m\n\u001b[1;32m     30\u001b[0m \u001b[0;34m\u001b[0m\u001b[0m\n\u001b[0;32m---> 31\u001b[0;31m             \u001b[0mfiles\u001b[0m \u001b[0;34m=\u001b[0m \u001b[0;34m[\u001b[0m\u001b[0mf\u001b[0m \u001b[0;32mfor\u001b[0m \u001b[0mf\u001b[0m \u001b[0;32min\u001b[0m \u001b[0mos\u001b[0m\u001b[0;34m.\u001b[0m\u001b[0mlistdir\u001b[0m\u001b[0;34m(\u001b[0m\u001b[0mindy_events_fp\u001b[0m\u001b[0;34m)\u001b[0m \u001b[0;32mif\u001b[0m \u001b[0mf\u001b[0m\u001b[0;34m.\u001b[0m\u001b[0mendswith\u001b[0m\u001b[0;34m(\u001b[0m\u001b[0;34m'.csv'\u001b[0m\u001b[0;34m)\u001b[0m\u001b[0;34m]\u001b[0m\u001b[0;34m\u001b[0m\u001b[0;34m\u001b[0m\u001b[0m\n\u001b[0m\u001b[1;32m     32\u001b[0m             \u001b[0mfiles\u001b[0m \u001b[0;34m=\u001b[0m \u001b[0mnp\u001b[0m\u001b[0;34m.\u001b[0m\u001b[0msort\u001b[0m\u001b[0;34m(\u001b[0m\u001b[0mfiles\u001b[0m\u001b[0;34m)\u001b[0m\u001b[0;34m\u001b[0m\u001b[0;34m\u001b[0m\u001b[0m\n\u001b[1;32m     33\u001b[0m \u001b[0;34m\u001b[0m\u001b[0m\n",
      "\u001b[0;31mFileNotFoundError\u001b[0m: [Errno 2] No such file or directory: '/nfs/a161/gy17m2a/PhD/ProcessedData/IndependentEvents_precedingtime/UKCP18_30mins/Future/bb216/0/WholeYear/'"
     ]
    }
   ],
   "source": [
    "import numpy as np\n",
    "import matplotlib.pyplot as plt\n",
    "import pickle\n",
    "import os\n",
    "import pandas as pd\n",
    "import re\n",
    "from datetime import datetime\n",
    "import sys \n",
    "\n",
    "quintile_mapping = {1: 'F2', 2: 'F1', 3: 'C', 4: 'B1', 5: 'B2'}\n",
    "\n",
    "sys.path.insert(1, '../../ProcessEvents/')\n",
    "from Get_Events_Functions import *\n",
    "\n",
    "gauge_nums = range(0,1294)\n",
    "em ='bb216'\n",
    "time_period='Future'\n",
    "\n",
    "for em in [em]:\n",
    "    for gauge_num in gauge_nums:\n",
    "        if gauge_num not in [444, 827, 888]:\n",
    "            if gauge_num % 100 == 0:\n",
    "                print(f\"Processing gauge {gauge_num}\")\n",
    "            \n",
    "            base_fp = f\"/nfs/a161/gy17m2a/PhD/ProcessedData/\"\n",
    "            if em == 'nimrod':\n",
    "                indy_events_fp = f\"/nfs/a161/gy17m2a/PhD/ProcessedData/IndependentEvents_precedingtime/NIMROD_30mins/2km_filtered_100/{gauge_num}/WholeYear/\"\n",
    "            else:\n",
    "                indy_events_fp = f\"/nfs/a161/gy17m2a/PhD/ProcessedData/IndependentEvents_precedingtime/UKCP18_30mins/{time_period}/{em}/{gauge_num}/WholeYear/\"\n",
    "            \n",
    "            files = [f for f in os.listdir(indy_events_fp) if f.endswith('.csv')]\n",
    "            files = np.sort(files)\n",
    "\n",
    "            for file in files:\n",
    "                fp = indy_events_fp +  f\"{file}\"\n",
    "                if '2080' in fp:\n",
    "                    continue\n",
    "\n",
    "                this_event = read_event(gauge_num, fp)\n",
    "\n",
    "                # Create the row data with just 'precip' and 'times'\n",
    "                row_data = create_dataframe_row(this_event)\n",
    "                \n",
    "                # Only append rows that are not None\n",
    "                if row_data is not None:\n",
    "                    rows.append(row_data)\n",
    "\n",
    "# Create DataFrame from collected rows\n",
    "df = pd.DataFrame(rows)"
   ]
  }
 ],
 "metadata": {
  "kernelspec": {
   "display_name": "Python 3 (ipykernel)",
   "language": "python",
   "name": "python3"
  },
  "language_info": {
   "codemirror_mode": {
    "name": "ipython",
    "version": 3
   },
   "file_extension": ".py",
   "mimetype": "text/x-python",
   "name": "python",
   "nbconvert_exporter": "python",
   "pygments_lexer": "ipython3",
   "version": "3.7.13"
  }
 },
 "nbformat": 4,
 "nbformat_minor": 5
}
