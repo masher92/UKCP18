version https://git-lfs.github.com/spec/v1
oid sha256:891c63abd657aaae1767b7c6a5832a1bf5b3a063d0b6f7a773f387b5033fde2b
size 194295
