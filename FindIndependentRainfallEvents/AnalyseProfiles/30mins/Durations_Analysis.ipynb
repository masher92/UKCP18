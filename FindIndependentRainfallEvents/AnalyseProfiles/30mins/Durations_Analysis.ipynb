version https://git-lfs.github.com/spec/v1
oid sha256:7f8866cffd22557df174bfd0d1c325060707a96ae0492ffa2c06c68caab5aa58
size 104773
