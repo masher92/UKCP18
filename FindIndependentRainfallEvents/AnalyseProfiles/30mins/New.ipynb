version https://git-lfs.github.com/spec/v1
oid sha256:56e0c2b0b5909aef95f9b16c104d8bba63e051081d4c56acf25ad31839f47302
size 992110
