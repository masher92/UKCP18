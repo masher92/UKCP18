{
 "cells": [
  {
   "cell_type": "code",
   "execution_count": 1,
   "id": "cc365793",
   "metadata": {},
   "outputs": [],
   "source": [
    "import sys\n",
    "import pickle\n",
    "\n",
    "sys.path.insert(1, '../')\n",
    "from Prepare_Events_Functions import *"
   ]
  },
  {
   "cell_type": "code",
   "execution_count": 2,
   "id": "5dda1d8f",
   "metadata": {},
   "outputs": [],
   "source": [
    "quintile_mapping = {1: 'F2', 2: 'F1', 3: 'C', 4: 'B1', 5: 'B2'}\n",
    "\n",
    "present_future_lookup = {'bc005': 'Present','bc006': 'Present','bc007': 'Present','bc009': 'Present','bc010': 'Present',\n",
    "                         'bc011': 'Present', 'bc012': 'Present','bc013': 'Present','bc015': 'Present','bc016': 'Present', \n",
    "                         'bc017': 'Present','bc018': 'Present',\n",
    "                        'nimrod': 'NIMROD',\n",
    "                        'bb189': 'Future', 'bb192': 'Future','bb195': 'Future','bb198': 'Future','bb201': 'Future',\n",
    "                        'bb204': 'Future','bb208': 'Future','bb211': 'Future','bb216': 'Future','bb219': 'Future',\n",
    "                        'bb222': 'Future', 'bb225': 'Future'}"
   ]
  },
  {
   "cell_type": "code",
   "execution_count": 3,
   "id": "50d56b28",
   "metadata": {},
   "outputs": [],
   "source": [
    "# Define the list of identifiers\n",
    "ids = ['nimrod', \n",
    "       'bc005', 'bc006', 'bc007', 'bc009', 'bc010','bc011', 'bc012','bc013','bc015', 'bc016', 'bc017', 'bc018',\n",
    "       'bb189','bb192', 'bb195', 'bb198', 'bb201', 'bb204','bb208' ,'bb211','bb216','bb219','bb222','bb225']\n",
    "\n",
    "# Define the corresponding labels for each identifier\n",
    "labels = [f'UKCP18_present ({id})' if present_future_lookup[id] == 'Present' else f'UKCP18_future ({id})' if present_future_lookup[id] == 'Future' else 'NIMROD' for id in ids]"
   ]
  },
  {
   "cell_type": "code",
   "execution_count": 4,
   "id": "6d0ae13e",
   "metadata": {},
   "outputs": [
    {
     "name": "stdout",
     "output_type": "stream",
     "text": [
      "nimrod\n",
      "bc005\n",
      "bc006\n",
      "bc007\n",
      "bc009\n",
      "bc010\n",
      "bc011\n",
      "bc012\n",
      "bc013\n",
      "bc015\n",
      "bc016\n",
      "bc017\n",
      "bc018\n",
      "bb189\n",
      "bb192\n",
      "bb195\n",
      "bb198\n",
      "bb201\n",
      "bb204\n",
      "bb208\n",
      "bb211\n",
      "bb216\n",
      "bb219\n",
      "bb222\n",
      "bb225\n"
     ]
    }
   ],
   "source": [
    "# Dictionary to store the dataframes\n",
    "dataframes = {}\n",
    "dataframes_summer = {}\n",
    "dataframes_shortdurations = {}\n",
    "dataframes_veryshortdurations ={}\n",
    "dataframes_lessshortdurations = {}\n",
    "dataframes_longdurations = {}\n",
    "dataframes_divisible_by5 = {}\n",
    "dataframes_inclnulls = {}\n",
    "\n",
    "for id in ids:\n",
    "    print(id)\n",
    "    if present_future_lookup[id] == 'Present':\n",
    "        file_path = f\"/nfs/a319/gy17m2a/PhD/ProcessedData/Profiles/UKCP18_30mins/Present/{id}/df_nonulls.pkl\"\n",
    "        file_path_inclnulls = f\"/nfs/a319/gy17m2a/PhD/ProcessedData/Profiles/UKCP18_30mins/Present/{id}/df.pkl\"\n",
    "    elif present_future_lookup[id] == 'Future':\n",
    "        file_path = f\"/nfs/a319/gy17m2a/PhD/ProcessedData/Profiles/UKCP18_30mins/Future/{id}/df_nonulls.pkl\"\n",
    "        file_path_inclnulls = f\"/nfs/a319/gy17m2a/PhD/ProcessedData/Profiles/UKCP18_30mins/Future/{id}/df.pkl\"\n",
    "    elif present_future_lookup[id] == 'NIMROD' :  \n",
    "        file_path = f\"/nfs/a319/gy17m2a/PhD/ProcessedData/Profiles/NIMROD_30mins/WholeYear/df_nonulls.pkl\"\n",
    "        file_path_inclnulls = f\"/nfs/a319/gy17m2a/PhD/ProcessedData/Profiles/NIMROD_30mins/WholeYear/df.pkl\"\n",
    "    \n",
    "    # Load the dataframe from the pickle file\n",
    "    with open(file_path, 'rb') as f:\n",
    "        df = pickle.load(f)\n",
    "    \n",
    "    # Store the dataframe in the dictionary with the id as the key\n",
    "    dataframes[id] = df\n",
    "    dataframes_divisible_by5[id]  = df[df['precip'].apply(is_multiple_of_5)]\n",
    "    dataframes_summer[id] = df[df[\"season\"]=='Summer']\n",
    "    dataframes_shortdurations[id] = df[df[\"duration\"]<6]\n",
    "    dataframes_veryshortdurations[id] = df[df[\"duration\"]<3]\n",
    "    dataframes_lessshortdurations[id] = df[df[\"duration\"]<10]\n",
    "    dataframes_longdurations[id] = df[df[\"duration\"]>=6]\n",
    "        \n",
    "    ###############################\n",
    "    ########## Data including Nulls\n",
    "    ###############################\n",
    "    # Load the dataframe from the pickle file\n",
    "    with open(file_path_inclnulls, 'rb') as f:\n",
    "        df = pickle.load(f)\n",
    "    dataframes_inclnulls[id] = df"
   ]
  },
  {
   "cell_type": "markdown",
   "id": "f3e592ac",
   "metadata": {},
   "source": [
    "## Save cumulative dictionaries to pickle files"
   ]
  },
  {
   "cell_type": "code",
   "execution_count": 5,
   "id": "fa6e006a",
   "metadata": {},
   "outputs": [],
   "source": [
    "with open(\"/nfs/a319/gy17m2a/PhD/ProcessedData/Profiles/All_30mins/dataframes_inclnulls.pkl\", 'wb') as file:\n",
    "    pickle.dump(dataframes_inclnulls, file)  "
   ]
  },
  {
   "cell_type": "code",
   "execution_count": 6,
   "id": "d59e234c",
   "metadata": {},
   "outputs": [],
   "source": [
    "with open(\"/nfs/a319/gy17m2a/PhD/ProcessedData/Profiles/All_30mins/dataframes.pkl\", 'wb') as file:\n",
    "    pickle.dump(dataframes, file)  "
   ]
  },
  {
   "cell_type": "markdown",
   "id": "b65cb2b4",
   "metadata": {},
   "source": [
    "## Check lengths"
   ]
  },
  {
   "cell_type": "code",
   "execution_count": 7,
   "id": "e40d7568",
   "metadata": {},
   "outputs": [
    {
     "name": "stdout",
     "output_type": "stream",
     "text": [
      "There are 87987 of nimrod (and 4630.894736842105)\n",
      "There are 119456 of bc005 (and 6287.1578947368425)\n",
      "There are 114179 of bc006 (and 6009.421052631579)\n",
      "There are 113784 of bc007 (and 5988.631578947368)\n",
      "There are 110583 of bc009 (and 5820.1578947368425)\n",
      "There are 111837 of bc010 (and 5886.1578947368425)\n",
      "There are 112510 of bc011 (and 5921.578947368421)\n",
      "There are 114444 of bc012 (and 6023.368421052632)\n",
      "There are 113831 of bc013 (and 5991.105263157895)\n",
      "There are 114438 of bc015 (and 6023.0526315789475)\n",
      "There are 115173 of bc016 (and 6061.736842105263)\n",
      "There are 169562 of bc017 (and 8924.315789473685)\n",
      "There are 114853 of bc018 (and 6044.894736842105)\n",
      "There are 111827 of bb189 (and 5885.631578947368)\n",
      "There are 111699 of bb192 (and 5878.894736842105)\n",
      "There are 112070 of bb195 (and 5898.421052631579)\n",
      "There are 107246 of bb198 (and 5644.526315789473)\n",
      "There are 107561 of bb201 (and 5661.105263157895)\n",
      "There are 110869 of bb204 (and 5835.210526315789)\n",
      "There are 114069 of bb208 (and 6003.631578947368)\n",
      "There are 116361 of bb211 (and 6124.263157894737)\n",
      "There are 112716 of bb216 (and 5932.421052631579)\n",
      "There are 114519 of bb219 (and 6027.315789473684)\n",
      "There are 108485 of bb222 (and 5709.736842105263)\n",
      "There are 111826 of bb225 (and 5885.578947368421)\n"
     ]
    }
   ],
   "source": [
    "for key, df in dataframes.items():\n",
    "    print(f\"There are {len(df)} of {key} (and {len(df)/19})\")"
   ]
  }
 ],
 "metadata": {
  "kernelspec": {
   "display_name": "Python 3 (ipykernel)",
   "language": "python",
   "name": "python3"
  },
  "language_info": {
   "codemirror_mode": {
    "name": "ipython",
    "version": 3
   },
   "file_extension": ".py",
   "mimetype": "text/x-python",
   "name": "python",
   "nbconvert_exporter": "python",
   "pygments_lexer": "ipython3",
   "version": "3.7.13"
  }
 },
 "nbformat": 4,
 "nbformat_minor": 5
}
