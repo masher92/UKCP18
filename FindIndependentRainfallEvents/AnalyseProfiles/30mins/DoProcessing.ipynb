{
 "cells": [
  {
   "cell_type": "code",
   "execution_count": 7,
   "id": "cc365793",
   "metadata": {},
   "outputs": [],
   "source": [
    "# import numpy as np\n",
    "# import matplotlib.pyplot as plt\n",
    "# import pandas as pd\n",
    "# from scipy.interpolate import interp1d\n",
    "# import os\n",
    "import sys\n",
    "# import numpy as np\n",
    "# from sklearn.cluster import KMeans\n",
    "# import matplotlib.pyplot as plt    \n",
    "# import re\n",
    "import pickle\n",
    "# import matplotlib.patches as mpatches\n",
    "# from statsmodels.graphics.mosaicplot import mosaic\n",
    "# from tabulate import tabulate\n",
    "# import seaborn as sns\n",
    "\n",
    "sys.path.insert(1, '../')\n",
    "from Prepare_Events_Functions import *\n",
    "# from Plot_events_functions import *\n",
    "\n",
    "# sys.path.insert(1, '../../ProcessEvents')\n",
    "# from Create_Profiles_Functions import *"
   ]
  },
  {
   "cell_type": "code",
   "execution_count": 9,
   "id": "5dda1d8f",
   "metadata": {},
   "outputs": [],
   "source": [
    "# color_mapping_seasons = {\n",
    "#     'Summer': (1.0, 0.6471, 0.0, 0.6), # orange with 0.6 alpha\n",
    "#     'Winter': (0.0, 0.0, 1.0, 0.6)}     # blue with 0.6 alpha}\n",
    "\n",
    "# color_mapping_timeperiod = {\n",
    "#     'Present': (1.0, 0.6471, 0.0, 0.6), # orange with 0.6 alpha\n",
    "#     'Future': (0.0, 0.0, 1.0, 0.6)}     # blue with 0.6 alpha}\n",
    "\n",
    "quintile_mapping = {1: 'F2', 2: 'F1', 3: 'C', 4: 'B1', 5: 'B2'}\n",
    "# quintile_cats_loading = ['F2','F1', 'C', 'B1', 'B2']\n",
    "# n= 5\n",
    "# quintile_cats_season = ['Winter', 'Summer']\n",
    "\n",
    "present_future_lookup = {'bc005': 'Present','bc006': 'Present','bc007': 'Present','bc009': 'Present','bc010': 'Present',\n",
    "                         'bc011': 'Present', 'bc012': 'Present','bc013': 'Present','bc015': 'Present','bc016': 'Present', \n",
    "                         'bc017': 'Present','bc018': 'Present',\n",
    "                        'nimrod': 'NIMROD',\n",
    "                        'bb189': 'Future', 'bb192': 'Future','bb195': 'Future','bb198': 'Future','bb201': 'Future',\n",
    "                        'bb204': 'Future','bb208': 'Future','bb211': 'Future','bb216': 'Future','bb219': 'Future',\n",
    "                        'bb222': 'Future', 'bb225': 'Future'}"
   ]
  },
  {
   "cell_type": "code",
   "execution_count": 3,
   "id": "50d56b28",
   "metadata": {},
   "outputs": [],
   "source": [
    "# Define the list of identifiers\n",
    "ids = ['nimrod', \n",
    "       'bc005', 'bc006', 'bc007', 'bc009', 'bc010','bc011', 'bc012','bc013','bc015', 'bc016', 'bc017', 'bc018',\n",
    "       'bb189','bb192', 'bb195', 'bb198', 'bb201', 'bb204','bb208' ,'bb211','bb216','bb219','bb222','bb225']\n",
    "\n",
    "# Define the corresponding labels for each identifier\n",
    "labels = [f'UKCP18_present ({id})' if present_future_lookup[id] == 'Present' else f'UKCP18_future ({id})' if present_future_lookup[id] == 'Future' else 'NIMROD' for id in ids]"
   ]
  },
  {
   "cell_type": "code",
   "execution_count": 10,
   "id": "6d0ae13e",
   "metadata": {},
   "outputs": [],
   "source": [
    "# Dictionary to store the dataframes\n",
    "dataframes = {}\n",
    "dataframes_summer = {}\n",
    "dataframes_shortdurations = {}\n",
    "dataframes_veryshortdurations ={}\n",
    "dataframes_lessshortdurations = {}\n",
    "dataframes_longdurations = {}\n",
    "dataframes_divisible_by5 = {}\n",
    "dataframes_inclnulls = {}\n",
    "\n",
    "for id in ids:\n",
    "    print(id)\n",
    "    if present_future_lookup[id] == 'Present':\n",
    "        file_path = f\"/nfs/a319/gy17m2a/PhD/ProcessedData/Profiles/UKCP18_30mins/Present/{id}/df_nonulls.pkl\"\n",
    "        file_path_inclnulls = f\"/nfs/a319/gy17m2a/PhD/ProcessedData/Profiles/UKCP18_30mins/Present/{id}/df.pkl\"\n",
    "    elif present_future_lookup[id] == 'Future':\n",
    "        file_path = f\"/nfs/a319/gy17m2a/PhD/ProcessedData/Profiles/UKCP18_30mins/Future/{id}/df_nonulls.pkl\"\n",
    "        file_path_inclnulls = f\"/nfs/a319/gy17m2a/PhD/ProcessedData/Profiles/UKCP18_30mins/Future/{id}/df.pkl\"\n",
    "    elif present_future_lookup[id] == 'NIMROD' :  \n",
    "        file_path = f\"/nfs/a319/gy17m2a/PhD/ProcessedData/Profiles/NIMROD_30mins/WholeYear/df_nonulls.pkl\"\n",
    "        file_path_inclnulls = f\"/nfs/a319/gy17m2a/PhD/ProcessedData/Profiles/NIMROD_30mins/WholeYear/df.pkl\"\n",
    "    \n",
    "    # Load the dataframe from the pickle file\n",
    "    with open(file_path, 'rb') as f:\n",
    "        df = pickle.load(f)\n",
    "    \n",
    "    # Store the dataframe in the dictionary with the id as the key\n",
    "    dataframes[id] = df\n",
    "    dataframes_divisible_by5[id]  = df[df['precip'].apply(is_multiple_of_5)]\n",
    "    dataframes_summer[id] = df[df[\"season\"]=='Summer']\n",
    "    dataframes_shortdurations[id] = df[df[\"duration\"]<6]\n",
    "    dataframes_veryshortdurations[id] = df[df[\"duration\"]<3]\n",
    "    dataframes_lessshortdurations[id] = df[df[\"duration\"]<10]\n",
    "    dataframes_longdurations[id] = df[df[\"duration\"]>=6]\n",
    "        \n",
    "    ###############################\n",
    "    ########## Data including Nulls\n",
    "    ###############################\n",
    "    # Load the dataframe from the pickle file\n",
    "    with open(file_path_inclnulls, 'rb') as f:\n",
    "        df = pickle.load(f)\n",
    "    dataframes_inclnulls[id] = df"
   ]
  },
  {
   "cell_type": "markdown",
   "id": "f3e592ac",
   "metadata": {},
   "source": [
    "## Save cumulative dictionaries to pickle files"
   ]
  },
  {
   "cell_type": "code",
   "execution_count": 12,
   "id": "fa6e006a",
   "metadata": {},
   "outputs": [],
   "source": [
    "with open(\"/nfs/a319/gy17m2a/PhD/ProcessedData/Profiles/All_30mins/dataframes_inclnulls.pkl\", 'wb') as file:\n",
    "    pickle.dump(dataframes_inclnulls, file)  "
   ]
  },
  {
   "cell_type": "code",
   "execution_count": 11,
   "id": "d59e234c",
   "metadata": {},
   "outputs": [],
   "source": [
    "with open(\"/nfs/a319/gy17m2a/PhD/ProcessedData/Profiles/All_30mins/dataframes.pkl\", 'wb') as file:\n",
    "    pickle.dump(dataframes, file)  "
   ]
  },
  {
   "cell_type": "code",
   "execution_count": 13,
   "id": "26818cbb",
   "metadata": {},
   "outputs": [],
   "source": [
    "with open(\"/nfs/a319/gy17m2a/PhD/ProcessedData/Profiles/All_30mins/dataframes_summer.pkl\", 'wb') as file:\n",
    "    pickle.dump(dataframes_summer, file)  "
   ]
  },
  {
   "cell_type": "code",
   "execution_count": 14,
   "id": "4cdac7e1",
   "metadata": {},
   "outputs": [],
   "source": [
    "with open(\"/nfs/a319/gy17m2a/PhD/ProcessedData/Profiles/All_30mins/dataframes_shortdurations.pkl\", 'wb') as file:\n",
    "    pickle.dump(dataframes_shortdurations, file)  "
   ]
  },
  {
   "cell_type": "code",
   "execution_count": 15,
   "id": "70f0a72d",
   "metadata": {},
   "outputs": [],
   "source": [
    "with open(\"/nfs/a319/gy17m2a/PhD/ProcessedData/Profiles/All_30mins/dataframes_veryshortdurations.pkl\", 'wb') as file:\n",
    "    pickle.dump(dataframes_veryshortdurations, file)  "
   ]
  },
  {
   "cell_type": "code",
   "execution_count": 16,
   "id": "c48bc02e",
   "metadata": {},
   "outputs": [],
   "source": [
    "with open(\"/nfs/a319/gy17m2a/PhD/ProcessedData/Profiles/All_30mins/dataframes_lessshortdurations.pkl\", 'wb') as file:\n",
    "    pickle.dump(dataframes_lessshortdurations, file)  "
   ]
  },
  {
   "cell_type": "markdown",
   "id": "b65cb2b4",
   "metadata": {},
   "source": [
    "## Check lengths"
   ]
  },
  {
   "cell_type": "code",
   "execution_count": null,
   "id": "e40d7568",
   "metadata": {},
   "outputs": [],
   "source": [
    "for key, df in dataframes.items():\n",
    "    print(f\"There are {len(df)} of {key} (and {len(df)/19})\")"
   ]
  }
 ],
 "metadata": {
  "kernelspec": {
   "display_name": "Python 3 (ipykernel)",
   "language": "python",
   "name": "python3"
  },
  "language_info": {
   "codemirror_mode": {
    "name": "ipython",
    "version": 3
   },
   "file_extension": ".py",
   "mimetype": "text/x-python",
   "name": "python",
   "nbconvert_exporter": "python",
   "pygments_lexer": "ipython3",
   "version": "3.7.13"
  }
 },
 "nbformat": 4,
 "nbformat_minor": 5
}
