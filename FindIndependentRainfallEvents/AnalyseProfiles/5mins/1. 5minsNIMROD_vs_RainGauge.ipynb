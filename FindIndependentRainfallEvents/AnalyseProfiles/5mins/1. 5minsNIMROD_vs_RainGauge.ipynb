version https://git-lfs.github.com/spec/v1
oid sha256:96151a7b6518d15475ae17d58c142d7d417dfe24189dd40cab349723aa2b4088
size 327393
