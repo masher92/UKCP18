{
 "cells": [
  {
   "cell_type": "code",
   "execution_count": 1,
   "id": "e69a6b2c",
   "metadata": {},
   "outputs": [],
   "source": [
    "import pickle\n",
    "import pandas as pd\n",
    "import numpy as np\n",
    "import datetime\n",
    "import json\n",
    "\n",
    "pd.set_option('display.float_format', lambda x: '%.6f' % x)"
   ]
  },
  {
   "cell_type": "code",
   "execution_count": 2,
   "id": "7f2c89cd",
   "metadata": {},
   "outputs": [],
   "source": [
    "from FormatEvents_Functions import *"
   ]
  },
  {
   "cell_type": "code",
   "execution_count": 3,
   "id": "594c9652",
   "metadata": {},
   "outputs": [],
   "source": [
    "home_dir = '/nfs/a319/gy17m2a/PhD/'\n",
    "home_dir2 = '/nfs/a161/gy17m2a/PhD/'"
   ]
  },
  {
   "cell_type": "code",
   "execution_count": 4,
   "id": "254b686f",
   "metadata": {},
   "outputs": [],
   "source": [
    "durations = ['0.5', '1', '2', '3', '6', '12', '24']"
   ]
  },
  {
   "cell_type": "markdown",
   "id": "597ec2bb",
   "metadata": {},
   "source": [
    "### Create one dataframe containing both present and future"
   ]
  },
  {
   "cell_type": "code",
   "execution_count": 5,
   "id": "a33225a0",
   "metadata": {},
   "outputs": [],
   "source": [
    "df_long = pd.read_csv(home_dir +  f\"ProcessedData/AMAX_Events/UKCP18_30mins/all_events_characteristics.csv\")\n",
    "nimrod_long = pd.read_csv(home_dir +  f\"ProcessedData/AMAX_Events/NIMROD_30mins/all_events_characteristics.csv\")"
   ]
  },
  {
   "cell_type": "code",
   "execution_count": 6,
   "id": "ae234a5a",
   "metadata": {},
   "outputs": [],
   "source": [
    "nimrod_long['max_precip'] = 1\n",
    "nimrod_long['mean_precip'] = 1\n",
    "nimrod_long['Climate'] = 'NIMROD'"
   ]
  },
  {
   "cell_type": "code",
   "execution_count": 7,
   "id": "671b7ba8",
   "metadata": {},
   "outputs": [],
   "source": [
    "present = df_long[df_long['Climate'] =='Present']\n",
    "nimrod_long_with_present = pd.concat([present, nimrod_long])"
   ]
  },
  {
   "cell_type": "markdown",
   "id": "a13853b0",
   "metadata": {},
   "source": [
    "### Remove entries which are less than 1.5 hours"
   ]
  },
  {
   "cell_type": "code",
   "execution_count": 17,
   "id": "ad4fd78b",
   "metadata": {},
   "outputs": [],
   "source": [
    "# df_long_with_short_durations_kept = df_long.copy()"
   ]
  },
  {
   "cell_type": "code",
   "execution_count": 8,
   "id": "fd33065f",
   "metadata": {},
   "outputs": [],
   "source": [
    "df_long = df_long[df_long['duration'] >=1.5]\n",
    "nimrod_long = nimrod_long[nimrod_long['duration'] >=1.5]\n",
    "# present = present[present['duration'] >=1.5]\n",
    "# future = future[future['duration'] >=1.5]\n",
    "# # nan_rows = df_long[df_long['D50'].isna()]"
   ]
  },
  {
   "cell_type": "markdown",
   "id": "aa9c3f2d",
   "metadata": {},
   "source": [
    "# Create grouped results, for all events (no duplicates for durations)\n",
    "### Group by gauge, climate"
   ]
  },
  {
   "cell_type": "markdown",
   "id": "17b06e38",
   "metadata": {},
   "source": [
    "### NIMROD vs UKCP18 Present"
   ]
  },
  {
   "cell_type": "code",
   "execution_count": 9,
   "id": "735eb04e",
   "metadata": {},
   "outputs": [],
   "source": [
    "group_by_columns = ['Climate', 'gauge_num']\n",
    "grouped_by_gauge_allevents = group_data_calc_means(nimrod_long_with_present, 'D50_new', group_by_columns)\n",
    "grouped_by_gauge_allevents_changes = find_change_values_in_groups_nimrod(grouped_by_gauge_allevents, group_by_columns, 'All')\n",
    "grouped_by_gauge_allevents_changes.to_csv(home_dir + f\"ProcessedData/AMAX_Events/NIMROD_30mins/grouped_by_gauge_changes_allevents.csv\", index=False)"
   ]
  },
  {
   "cell_type": "markdown",
   "id": "f7919326",
   "metadata": {},
   "source": [
    "### UKCP18 Present vs Future"
   ]
  },
  {
   "cell_type": "code",
   "execution_count": 10,
   "id": "86c4341a",
   "metadata": {},
   "outputs": [],
   "source": [
    "group_by_columns = ['Climate', 'gauge_num']\n",
    "grouped_by_gauge_allevents = group_data_calc_means(df_long, 'D50_new', group_by_columns)\n",
    "grouped_by_gauge_allevents_changes = find_change_values_in_groups_new(grouped_by_gauge_allevents, group_by_columns, 'All')\n",
    "grouped_by_gauge_allevents_changes.to_csv(home_dir + f\"ProcessedData/AMAX_Events/UKCP18_30mins/grouped_by_gauge_changes_allevents.csv\", index=False)"
   ]
  },
  {
   "cell_type": "markdown",
   "id": "521afbb8",
   "metadata": {},
   "source": [
    "## Group by season, gauge, climate"
   ]
  },
  {
   "cell_type": "code",
   "execution_count": 11,
   "id": "04471ba4",
   "metadata": {},
   "outputs": [],
   "source": [
    "group_by_columns = ['Climate', 'gauge_num', 'season']\n",
    "grouped_by_gauge_season_allevents = group_data_calc_means(nimrod_long_with_present, 'D50_new', group_by_columns)\n",
    "grouped_by_gauge_season_allevents_changes = find_change_values_in_groups_nimrod(grouped_by_gauge_season_allevents, group_by_columns, 'All')\n",
    "grouped_by_gauge_season_allevents_changes.to_csv(home_dir + f\"ProcessedData/AMAX_Events/NIMROD_30mins/grouped_by_gauge_season_changes_allevents.csv\", index=False)"
   ]
  },
  {
   "cell_type": "code",
   "execution_count": 12,
   "id": "98b6bfd0",
   "metadata": {},
   "outputs": [],
   "source": [
    "group_by_columns = ['Climate', 'gauge_num', 'season']\n",
    "grouped_by_gauge_season_allevents = group_data_calc_means(df_long, 'D50_new', group_by_columns)\n",
    "grouped_by_gauge_season_allevents_changes = find_change_values_in_groups_new(grouped_by_gauge_season_allevents, group_by_columns, 'All')\n",
    "grouped_by_gauge_season_allevents_changes.to_csv(home_dir + f\"ProcessedData/AMAX_Events/UKCP18_30mins/grouped_by_gauge_season_changes_allevents.csv\", index=False)"
   ]
  },
  {
   "cell_type": "markdown",
   "id": "b2dff98b",
   "metadata": {},
   "source": [
    "# Create grouped results, for all events (for each duration separately)\n",
    "## Group by gauge, climate and by season, gauge, climate\n",
    "### NIMROD vs UKCP18 Present"
   ]
  },
  {
   "cell_type": "code",
   "execution_count": 30,
   "id": "9da2b68e",
   "metadata": {},
   "outputs": [],
   "source": [
    "each_dur_per_climate_changes = []\n",
    "each_dur_per_climate_and_season_changes = []\n",
    "\n",
    "# For each duration in turn\n",
    "for duration in ['16hr+', '7-16hr', '<=7hr']:\n",
    "    # Get data for just this duration\n",
    "    this_dur = nimrod_long_with_present[nimrod_long_with_present[\"duration_category_onemore\"] == duration]\n",
    "    # this_dur = this_dur[this_dur['duration']>8]\n",
    "    # Summary of events at each gauge, for this duration, one for present, one for future\n",
    "    summary_per_climate = group_data_calc_means(this_dur, 'D50_new', ['Climate', 'gauge_num'])\n",
    "    # Summary of events at each gauge, for this duration, one for each season for present, one for each season for future\n",
    "    summary_per_climate_and_season = group_data_calc_means(this_dur, 'D50_new', ['Climate', 'gauge_num', 'season'])\n",
    "    # Reformat, so one row per gauge, with change between present and future in the columns\n",
    "    summary_per_climate_changes = find_change_values_in_groups_nimrod(summary_per_climate, ['Climate', 'gauge_num'], duration)\n",
    "    # Reformat, so four rows (each season) per gauge, with change between present and future in the columns\n",
    "    summary_per_climate_season_changes = find_change_values_in_groups_nimrod(summary_per_climate_and_season, ['Climate', 'gauge_num', 'season'], duration)\n",
    "    \n",
    "    ## Add to lists\n",
    "    each_dur_per_climate_changes.append(summary_per_climate_changes)\n",
    "    each_dur_per_climate_and_season_changes.append(summary_per_climate_season_changes)"
   ]
  },
  {
   "cell_type": "code",
   "execution_count": 34,
   "id": "aee61a26",
   "metadata": {},
   "outputs": [],
   "source": [
    "total_cats = pd.concat(each_dur_per_climate_changes)\n",
    "total_season_cats = pd.concat(each_dur_per_climate_and_season_changes)"
   ]
  },
  {
   "cell_type": "code",
   "execution_count": 36,
   "id": "da0cf28b",
   "metadata": {},
   "outputs": [],
   "source": [
    "total_cats.to_csv(home_dir + f\"ProcessedData/AMAX_Events/NIMROD_30mins/grouped_by_gauge_changes_bydurcategory.csv\", index=False)\n",
    "total_season_cats.to_csv(home_dir + f\"ProcessedData/AMAX_Events/NIMROD_30mins/grouped_by_gauge_season_changes_bydurcategory.csv\", index=False)"
   ]
  },
  {
   "cell_type": "markdown",
   "id": "6a8c6d8f",
   "metadata": {},
   "source": [
    "### UKCP18 Present vs Future"
   ]
  },
  {
   "cell_type": "code",
   "execution_count": 13,
   "id": "1d033fbd",
   "metadata": {},
   "outputs": [
    {
     "name": "stdout",
     "output_type": "stream",
     "text": [
      "26.041057772133247\n",
      "11.469964304323144\n",
      "3.9885129058476694\n"
     ]
    }
   ],
   "source": [
    "each_dur_per_climate_changes = []\n",
    "each_dur_per_climate_and_season_changes = []\n",
    "\n",
    "# For each duration in turn\n",
    "for duration in ['16hr+', '7-16hr', '<=7hr']:\n",
    "    # Get data for just this duration\n",
    "    this_dur = df_long[df_long[\"duration_category_onemore\"] == duration]\n",
    "    print(this_dur['duration'].mean())\n",
    "    # this_dur = this_dur[this_dur['duration']>8]\n",
    "    # Summary of events at each gauge, for this duration, one for present, one for future\n",
    "    summary_per_climate = group_data_calc_means(this_dur, 'D50_new', ['Climate', 'gauge_num'])\n",
    "    # Summary of events at each gauge, for this duration, one for each season for present, one for each season for future\n",
    "    summary_per_climate_and_season = group_data_calc_means(this_dur, 'D50_new', ['Climate', 'gauge_num', 'season'])\n",
    "    # Reformat, so one row per gauge, with change between present and future in the columns\n",
    "    summary_per_climate_changes = find_change_values_in_groups_new(summary_per_climate, ['Climate', 'gauge_num'], duration)\n",
    "    # Reformat, so four rows (each season) per gauge, with change between present and future in the columns\n",
    "    summary_per_climate_season_changes = find_change_values_in_groups_new(summary_per_climate_and_season, ['Climate', 'gauge_num', 'season'], duration)\n",
    "    \n",
    "    ## Add to lists\n",
    "    each_dur_per_climate_changes.append(summary_per_climate_changes)\n",
    "    each_dur_per_climate_and_season_changes.append(summary_per_climate_season_changes)"
   ]
  },
  {
   "cell_type": "code",
   "execution_count": 14,
   "id": "25f41c02",
   "metadata": {},
   "outputs": [],
   "source": [
    "total_cats = pd.concat(each_dur_per_climate_changes)\n",
    "total_season_cats = pd.concat(each_dur_per_climate_and_season_changes)"
   ]
  },
  {
   "cell_type": "code",
   "execution_count": 15,
   "id": "c9d9697c",
   "metadata": {},
   "outputs": [],
   "source": [
    "total_cats.to_csv(home_dir + f\"ProcessedData/AMAX_Events/NIMROD_30mins/grouped_by_gauge_changes_bydurcategory.csv\", index=False)\n",
    "total_season_cats.to_csv(home_dir + f\"ProcessedData/AMAX_Events/NIMROD_30mins/grouped_by_gauge_season_changes_bydurcategory.csv\", index=False)"
   ]
  },
  {
   "cell_type": "markdown",
   "id": "f8904609",
   "metadata": {},
   "source": [
    "### Save original data\n",
    "Don't do this higher up, because the json.dumps thing messes up the formatting for later stages of the code"
   ]
  },
  {
   "cell_type": "code",
   "execution_count": 29,
   "id": "560d3f8b",
   "metadata": {},
   "outputs": [],
   "source": [
    "# Create a copy and convert lists to JSON strings before saving - not doing this, messed up formatting a bit\n",
    "# df_long['dur_for_which_this_is_amax'] = df_long['dur_for_which_this_is_amax'].apply(json.dumps)\n",
    "# df_long_with_short_durations_kept['dur_for_which_this_is_amax'] = df_long_with_short_durations_kept['dur_for_which_this_is_amax'].apply(json.dumps)\n",
    "# df_long_with_short_durations_kept.to_csv(home_dir + f\"ProcessedData/AMAX_Events/UKCP18_30mins/all_events_characteristics_shortdurationskept_new.csv\", index=False)"
   ]
  },
  {
   "cell_type": "code",
   "execution_count": 16,
   "id": "6225b210",
   "metadata": {},
   "outputs": [],
   "source": [
    "df_long.to_csv(home_dir +  f\"ProcessedData/AMAX_Events/UKCP18_30mins/all_events_characteristics.csv\", index=False)\n",
    "nimrod_long.to_csv(home_dir +  f\"ProcessedData/AMAX_Events/NIMROD_30mins/all_events_characteristics.csv\", index=False)"
   ]
  }
 ],
 "metadata": {
  "kernelspec": {
   "display_name": "Python 3 (ipykernel)",
   "language": "python",
   "name": "python3"
  },
  "language_info": {
   "codemirror_mode": {
    "name": "ipython",
    "version": 3
   },
   "file_extension": ".py",
   "mimetype": "text/x-python",
   "name": "python",
   "nbconvert_exporter": "python",
   "pygments_lexer": "ipython3",
   "version": "3.7.13"
  }
 },
 "nbformat": 4,
 "nbformat_minor": 5
}
