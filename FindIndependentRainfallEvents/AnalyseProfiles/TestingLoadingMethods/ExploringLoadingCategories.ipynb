{
 "cells": [
  {
   "cell_type": "code",
   "execution_count": 2,
   "id": "6fea0a56",
   "metadata": {},
   "outputs": [],
   "source": [
    "import pandas as pd\n",
    "import numpy as np\n",
    "import matplotlib.pyplot as plt\n",
    "import pickle\n",
    "\n",
    "def is_multiple_of_5(lst):\n",
    "    return len(lst) % 5 == 0"
   ]
  },
  {
   "cell_type": "code",
   "execution_count": 3,
   "id": "0313057f",
   "metadata": {},
   "outputs": [],
   "source": [
    "def find_part_with_most_rain_using_cumulative_rainfall(ax, array, n, plot=False):\n",
    "    # Calculate the differences in array for cumulative rainfall\n",
    "    array_diff = np.diff(array)\n",
    "    \n",
    "    # Split array into n parts\n",
    "    splits = np.array_split(array_diff, n)\n",
    "    \n",
    "    max_array_rainfall = 0\n",
    "    max_array_num = None\n",
    "    \n",
    "    total_precipitations = []  # To store total precipitation for each split\n",
    "    split_ranges = []  # To store start and end indices for each split\n",
    "    \n",
    "    # Calculate total precipitation for each split\n",
    "    split_start = 0\n",
    "    for split in splits:\n",
    "        total_precipitation = split.sum()\n",
    "        total_precipitations.append(total_precipitation)\n",
    "        split_end = split_start + len(split)\n",
    "        split_ranges.append((split_start, split_end))\n",
    "        if total_precipitation > max_array_rainfall:\n",
    "            max_array_num = len(total_precipitations)\n",
    "            max_array_rainfall = total_precipitation\n",
    "        split_start = split_end\n",
    "    \n",
    "    colors = ['lightblue'] * n  # Default color for all splits\n",
    "    highlight_color = 'yellow'  # Color for the split with the most rainfall\n",
    "    \n",
    "    if plot:\n",
    "        # Plot the array\n",
    "        ax.plot(range(1, len(array_diff) + 1), array_diff, label='Precipitation', marker='o')\n",
    "        \n",
    "        # Add vertical lines and shading for each split segment\n",
    "        for i, (start_index, end_index) in enumerate(split_ranges):\n",
    "            color = highlight_color if (i + 1) == max_array_num else colors[i]\n",
    "            \n",
    "            # Add vertical lines at the start and end of each split\n",
    "            ax.axvline(x=start_index + 1, color=color, linestyle='--', label=f'Split {i+1} Start' if i == 0 or (i + 1) == max_array_num else \"\")\n",
    "            ax.axvline(x=end_index, color=color, linestyle='--', label=f'Split {i+1} End' if i == 0 or (i + 1) == max_array_num else \"\")\n",
    "            \n",
    "            # Shade the region for the split\n",
    "            ax.fill_between(range(start_index + 1, end_index + 1), array_diff[start_index:end_index], color=color, alpha=0.3)\n",
    "            \n",
    "            # Add the total precipitation value behind the shading\n",
    "            ax.text((start_index + end_index) / 2+0.5, max(array_diff) * 0.05,  # Adjust y-position if needed\n",
    "                    f'{total_precipitations[i]:.2f}',\n",
    "                    ha='center', va='center', fontsize=10, color='black', weight='bold', zorder=1)\n",
    "        \n",
    "        ax.set_title(f'Precipitation Values with Splits Marked. Max at {max_array_num}')\n",
    "        ax.set_xlabel('Time')\n",
    "        ax.set_ylabel('Precipitation')\n",
    "    \n",
    "    return max_array_num   \n",
    "\n",
    "def find_part_with_most_rain(ax, array, n, plot=False):\n",
    "    # Compute differences\n",
    "    # Split the array into 5 equal parts\n",
    "    splits = np.array_split(array, n)\n",
    "    \n",
    "    max_array_rainfall = 0\n",
    "    max_array_num = None\n",
    "    \n",
    "    total_precipitations = []  # To store total precipitation for each split\n",
    "    split_ranges = []  # To store start and end indices for each split\n",
    "    \n",
    "    # Calculate total precipitation for each split\n",
    "    split_start = 0\n",
    "    for split in splits:\n",
    "        total_precipitation = split.sum()\n",
    "        total_precipitations.append(total_precipitation)\n",
    "        split_end = split_start + len(split)\n",
    "        split_ranges.append((split_start, split_end))\n",
    "        if total_precipitation > max_array_rainfall:\n",
    "            max_array_num = len(total_precipitations)\n",
    "            max_array_rainfall = total_precipitation\n",
    "        split_start = split_end\n",
    "    \n",
    "    colors = ['lightblue'] * n  # Default color for all splits\n",
    "    highlight_color = 'yellow'  # Color for the split with the most rainfall\n",
    "    \n",
    "    if plot:\n",
    "        # Plot the array\n",
    "        ax.plot(range(1, len(array) + 1), array, label='Precipitation', marker='o')\n",
    "        \n",
    "        # Add vertical lines and shading for each split segment\n",
    "        for i, (start_index, end_index) in enumerate(split_ranges):\n",
    "            color = highlight_color if (i + 1) == max_array_num else colors[i]\n",
    "            \n",
    "            # Add vertical lines at the start and end of each split\n",
    "            ax.axvline(x=start_index + 1, color=color, linestyle='--', label=f'Split {i+1} Start' if i == 0 or (i + 1) == max_array_num else \"\")\n",
    "            ax.axvline(x=end_index, color=color, linestyle='--', label=f'Split {i+1} End' if i == 0 or (i + 1) == max_array_num else \"\")\n",
    "            \n",
    "            # Shade the region for the split\n",
    "            ax.fill_between(range(start_index + 1, end_index + 1), array[start_index:end_index], color=color, alpha=0.3)\n",
    "            \n",
    "            # Add the total precipitation value behind the shading\n",
    "            ax.text((start_index + end_index) / 2+0.5, max(array) * 0.05,  # Adjust y-position if needed\n",
    "                    f'{total_precipitations[i]:.2f}',\n",
    "                    ha='center', va='center', fontsize=10, color='black', weight='bold', zorder=1)\n",
    "        \n",
    "        ax.set_title(f'Precipitation Values with Splits Marked. Max at {max_array_num}')\n",
    "        ax.set_xlabel('Time')\n",
    "        ax.set_ylabel('Precipitation')\n",
    "\n",
    "    # return max_array_num"
   ]
  },
  {
   "cell_type": "markdown",
   "id": "4e77a361",
   "metadata": {},
   "source": [
    "### read in some data"
   ]
  },
  {
   "cell_type": "code",
   "execution_count": 4,
   "id": "15eedcf7",
   "metadata": {},
   "outputs": [
    {
     "ename": "FileNotFoundError",
     "evalue": "[Errno 2] No such file or directory: '/nfs/a319/gy17m2a/PhD/ProcessedData/Profiles/UKCP18_30mins/bc005/profiles_df.pkl'",
     "output_type": "error",
     "traceback": [
      "\u001b[0;31m---------------------------------------------------------------------------\u001b[0m",
      "\u001b[0;31mFileNotFoundError\u001b[0m                         Traceback (most recent call last)",
      "\u001b[0;32m/tmp/ipykernel_20646/2867070794.py\u001b[0m in \u001b[0;36m<module>\u001b[0;34m\u001b[0m\n\u001b[0;32m----> 1\u001b[0;31m \u001b[0;32mwith\u001b[0m \u001b[0mopen\u001b[0m\u001b[0;34m(\u001b[0m\u001b[0;34mf\"/nfs/a319/gy17m2a/PhD/ProcessedData/Profiles/UKCP18_30mins/bc005/profiles_df.pkl\"\u001b[0m\u001b[0;34m,\u001b[0m \u001b[0;34m'rb'\u001b[0m\u001b[0;34m)\u001b[0m \u001b[0;32mas\u001b[0m \u001b[0mf\u001b[0m\u001b[0;34m:\u001b[0m\u001b[0;34m\u001b[0m\u001b[0;34m\u001b[0m\u001b[0m\n\u001b[0m\u001b[1;32m      2\u001b[0m     \u001b[0mukcp18_present\u001b[0m \u001b[0;34m=\u001b[0m \u001b[0mpickle\u001b[0m\u001b[0;34m.\u001b[0m\u001b[0mload\u001b[0m\u001b[0;34m(\u001b[0m\u001b[0mf\u001b[0m\u001b[0;34m)\u001b[0m\u001b[0;34m\u001b[0m\u001b[0;34m\u001b[0m\u001b[0m\n",
      "\u001b[0;31mFileNotFoundError\u001b[0m: [Errno 2] No such file or directory: '/nfs/a319/gy17m2a/PhD/ProcessedData/Profiles/UKCP18_30mins/bc005/profiles_df.pkl'"
     ]
    }
   ],
   "source": [
    "with open(f\"/nfs/a319/gy17m2a/PhD/ProcessedData/Profiles/UKCP18_30mins/bc005/profiles_df.pkl\", 'rb') as f:\n",
    "    ukcp18_present = pickle.load(f)    "
   ]
  },
  {
   "cell_type": "code",
   "execution_count": null,
   "id": "9a0ff840",
   "metadata": {},
   "outputs": [],
   "source": [
    "unique_value_counts = ukcp18_present['Loading_profile_normalised_rain'].value_counts()\n",
    "# Calculate the total number of values in the column\n",
    "total_count = unique_value_counts.sum()\n",
    "\n",
    "# Convert counts to percentages\n",
    "unique_value_percentages = round((unique_value_counts / total_count) * 100,1)\n",
    "\n",
    "# Display the percentages\n",
    "print(unique_value_percentages)"
   ]
  },
  {
   "cell_type": "code",
   "execution_count": null,
   "id": "6f759b99",
   "metadata": {},
   "outputs": [],
   "source": [
    "unique_value_counts = ukcp18_present['Loading_profile12'].value_counts()\n",
    "# Calculate the total number of values in the column\n",
    "total_count = unique_value_counts.sum()\n",
    "\n",
    "# Convert counts to percentages\n",
    "unique_value_percentages = round((unique_value_counts / total_count) * 100,1)\n",
    "\n",
    "# Display the percentages\n",
    "print(unique_value_percentages)"
   ]
  },
  {
   "cell_type": "code",
   "execution_count": null,
   "id": "c4e842d9",
   "metadata": {},
   "outputs": [],
   "source": [
    "row_num =125249 #47677 #1014\n",
    "fig,axs=plt.subplots(ncols=2,nrows=2, figsize=(18,8))\n",
    "find_part_with_most_rain_using_cumulative_rainfall(axs[0,0], ukcp18_present['normalized_interpolated_rainfall_15'][row_num], 5, True)\n",
    "find_part_with_most_rain_using_cumulative_rainfall(axs[0,1], ukcp18_present['normalized_interpolated_rainfall_12'][row_num], 5, True)\n",
    "find_part_with_most_rain_using_cumulative_rainfall(axs[1,0], ukcp18_present['normalized_rainfall'][row_num], 5, True)\n",
    "find_part_with_most_rain(axs[1,1], ukcp18_present['precip'][row_num], 5, True)"
   ]
  },
  {
   "cell_type": "code",
   "execution_count": null,
   "id": "f1f29462",
   "metadata": {},
   "outputs": [],
   "source": [
    "row_num =125220 #125249 #47677 #1014\n",
    "fig,axs=plt.subplots(ncols=2,nrows=2, figsize=(18,8))\n",
    "find_part_with_most_rain_using_cumulative_rainfall(axs[0,0], ukcp18_present['normalized_interpolated_rainfall_15'][row_num], 5, True)\n",
    "find_part_with_most_rain_using_cumulative_rainfall(axs[0,1], ukcp18_present['normalized_interpolated_rainfall_12'][row_num], 5, True)\n",
    "find_part_with_most_rain_using_cumulative_rainfall(axs[1,0], ukcp18_present['normalized_rainfall'][row_num], 5, True)\n",
    "find_part_with_most_rain(axs[1,1], ukcp18_present['precip'][row_num], 5, True)"
   ]
  },
  {
   "cell_type": "markdown",
   "id": "da98eeef",
   "metadata": {},
   "source": [
    "# Find column with different answers for raw rain and normalised rain"
   ]
  },
  {
   "cell_type": "code",
   "execution_count": null,
   "id": "ac97a975",
   "metadata": {},
   "outputs": [],
   "source": [
    "test = ukcp18_present.loc[~(ukcp18_present['Loading_profile_raw_rain'] == ukcp18_present['Loading_profile_normalised_rain'])]\n",
    "test"
   ]
  },
  {
   "cell_type": "markdown",
   "id": "1489dac2",
   "metadata": {},
   "source": [
    "## Hmm\n",
    "\n",
    "These plots are all plotting non-cumulative rainfall, but in all of the normalised/interpolated ones the first low values has been lost."
   ]
  },
  {
   "cell_type": "code",
   "execution_count": null,
   "id": "1c21aba5",
   "metadata": {},
   "outputs": [],
   "source": [
    "row_num =8 #125249 #47677 #1014\n",
    "fig,axs=plt.subplots(ncols=2,nrows=2, figsize=(18,8))\n",
    "find_part_with_most_rain_using_cumulative_rainfall(axs[0,0], test_div5['normalized_interpolated_rainfall_15'][row_num], 5, True)\n",
    "find_part_with_most_rain_using_cumulative_rainfall(axs[0,1], test_div5['normalized_interpolated_rainfall_12'][row_num], 5, True)\n",
    "find_part_with_most_rain_using_cumulative_rainfall(axs[1,0], test_div5['normalized_rainfall'][row_num], 5, True)\n",
    "find_part_with_most_rain(axs[1,1], test_div5['precip'][row_num], 5, True)"
   ]
  },
  {
   "cell_type": "markdown",
   "id": "d1daa1fd",
   "metadata": {},
   "source": [
    "### Raw rainfall has 5 values, the second value is the biggest, so this should definitely be F1"
   ]
  },
  {
   "cell_type": "code",
   "execution_count": null,
   "id": "21d7e970",
   "metadata": {},
   "outputs": [],
   "source": [
    "def create_normalised_event(rainfall):\n",
    "    # Check if the input array is empty or the last value is zero\n",
    "    if len(rainfall) == 0 or rainfall[-1] == 0:\n",
    "        print(\"Empty array or total rainfall is zero. Cannot normalize.\")\n",
    "        return rainfall  # Return the input as-is, or handle appropriately\n",
    "\n",
    "    # Normalize cumulative rainfall from 0 to 1\n",
    "    normalized_rainfall = rainfall / rainfall[-1]\n",
    "\n",
    "    # Debug prints to check the input and output\n",
    "    print(f\"Original rainfall: {rainfall}\")\n",
    "    print(f\"Normalized rainfall: {normalized_rainfall}\")\n",
    "\n",
    "    return normalized_rainfall\n",
    "\n",
    "\n",
    "def create_normalised_event(rainfall):\n",
    "    # Check if the input array is empty or the maximum value is zero\n",
    "    if len(rainfall) == 0 or np.max(rainfall) == 0:\n",
    "        print(\"Empty array or maximum rainfall is zero. Cannot normalize.\")\n",
    "        return rainfall  # Return the input as-is, or handle appropriately\n",
    "\n",
    "    # Normalize rainfall from 0 to 1 using the maximum value\n",
    "    normalized_rainfall = rainfall / np.max(rainfall)\n",
    "\n",
    "    # Debug prints to check the input and output\n",
    "    print(f\"Original rainfall: {rainfall}\")\n",
    "    print(f\"Normalized rainfall: {normalized_rainfall}\")\n",
    "\n",
    "    return normalized_rainfall\n",
    "\n",
    "def create_cumulative_event(rainfall):\n",
    "    \n",
    "    # Calculate cumulative rainfall\n",
    "    cumulative_rainfall = np.cumsum(rainfall)\n",
    "    \n",
    "    return cumulative_rainfall\n",
    "\n",
    "def interpolate_rainfall(rainfall, bin_number):\n",
    "\n",
    "    # Define target points for 12 bins\n",
    "    target_points = np.linspace(0, 1, bin_number)\n",
    "    \n",
    "    # Create interpolation function based on existing data points\n",
    "    rainfall_times = np.array(range(0, len(rainfall)))\n",
    "\n",
    "    # Normalize time from 0 to 1\n",
    "    normalized_time = (rainfall_times - rainfall_times[0]) / (rainfall_times[-1] - rainfall_times[0])\n",
    "    interpolation_func = interp1d(normalized_time, rainfall, kind='linear', fill_value=\"extrapolate\")\n",
    "    \n",
    "    # Interpolate values at target points\n",
    "    interpolated_values = interpolation_func(target_points)\n",
    "    \n",
    "    return interpolated_values\n",
    "\n",
    "\n",
    "def create_incremental_event(cumulative_rainfall):\n",
    "    \n",
    "    raw_rainfall = np.diff(cumulative_rainfall, prepend=0)\n",
    "    raw_rainfall[0] = cumulative_rainfall[0]\n",
    "    return raw_rainfall\n",
    "    \n",
    "\n",
    "from scipy.interpolate import interp1d\n",
    "raw_rainfall = test['precip'][125234]\n",
    "normalised_rainfall = create_normalised_event(raw_rainfall)\n",
    "cumulative_normalised_rainfall = create_cumulative_event(normalised_rainfall)\n",
    "interpolated15_cumulative_normalised_rainfall = interpolate_rainfall(cumulative_normalised_rainfall,15)\n",
    "interpolated12_cumulative_normalised_rainfall = interpolate_rainfall(cumulative_normalised_rainfall,12)\n",
    "interpolated15_incremental_normalised_rainfall = create_incremental_event(interpolated15_cumulative_normalised_rainfall)\n",
    "interpolated12_incremental_normalised_rainfall = create_incremental_event(interpolated12_cumulative_normalised_rainfall)\n",
    "\n",
    "incremental_normalised_rainfall = create_incremental_event(cumulative_normalised_rainfall)"
   ]
  },
  {
   "cell_type": "code",
   "execution_count": null,
   "id": "8dfd6acd",
   "metadata": {},
   "outputs": [],
   "source": [
    "interpolated12_incremental_normalised_rainfall"
   ]
  },
  {
   "cell_type": "code",
   "execution_count": null,
   "id": "c72b1d31",
   "metadata": {},
   "outputs": [],
   "source": [
    "fig,axs=plt.subplots(ncols=2,nrows=2, figsize=(18,8))\n",
    "find_part_with_most_rain(axs[0,0], raw_rainfall, 5, True)\n",
    "find_part_with_most_rain(axs[0,1], normalised_rainfall, 5, True)\n",
    "find_part_with_most_rain(axs[1,0], interpolated12_incremental_normalised_rainfall, 5, True)\n",
    "find_part_with_most_rain(axs[1,1], interpolated15_incremental_normalised_rainfall, 5, True)\n"
   ]
  },
  {
   "cell_type": "code",
   "execution_count": null,
   "id": "9d9067a4",
   "metadata": {},
   "outputs": [],
   "source": [
    "### Why are we calculating cumulative rainfall?\n",
    "### Why are we normalising rainfall 0-1?\n",
    "# Can we interpolate rainfall without doing these things?"
   ]
  }
 ],
 "metadata": {
  "kernelspec": {
   "display_name": "Python 3 (ipykernel)",
   "language": "python",
   "name": "python3"
  },
  "language_info": {
   "codemirror_mode": {
    "name": "ipython",
    "version": 3
   },
   "file_extension": ".py",
   "mimetype": "text/x-python",
   "name": "python",
   "nbconvert_exporter": "python",
   "pygments_lexer": "ipython3",
   "version": "3.7.13"
  }
 },
 "nbformat": 4,
 "nbformat_minor": 5
}
