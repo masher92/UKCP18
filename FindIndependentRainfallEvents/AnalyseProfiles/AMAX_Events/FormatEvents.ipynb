{
 "cells": [
  {
   "cell_type": "code",
   "execution_count": 62,
   "id": "e69a6b2c",
   "metadata": {},
   "outputs": [],
   "source": [
    "import pickle\n",
    "import pandas as pd\n",
    "import numpy as np\n",
    "import datetime"
   ]
  },
  {
   "cell_type": "code",
   "execution_count": 63,
   "id": "7f2c89cd",
   "metadata": {},
   "outputs": [],
   "source": [
    "def calculate_R(theta):\n",
    "    \"\"\"\n",
    "    Calculate theta (angle in radians) and R (resultant length) for a series of dates.\n",
    "\n",
    "    Parameters:\n",
    "    - dates: Pandas Series of datetime objects (e.g., dates of events)\n",
    "\n",
    "    Returns:\n",
    "    - theta: Numpy array of angles (in radians) for each date\n",
    "    - R: The resultant length (measure of how clustered the dates are)\n",
    "    \"\"\"\n",
    "\n",
    "    # Calculate Cartesian coordinates (x, y) on the unit circle\n",
    "    x = np.cos(theta)\n",
    "    y = np.sin(theta)\n",
    "\n",
    "    # Calculate the mean of x and y\n",
    "    x_mean = np.mean(x)\n",
    "    y_mean = np.mean(y)\n",
    "    \n",
    "    # Calculate the resultant length R, which represents the dispersion\n",
    "    R = np.sqrt(x_mean**2 + y_mean**2)\n",
    "    # Return theta and the resultant length R\n",
    "    return R\n",
    "\n",
    "def date_from_D(D, year=2020):\n",
    "    # Create a date object for January 1st of the given year\n",
    "    jan_1st = datetime.date(year, 1, 1)\n",
    "    \n",
    "    # Add D-1 days to January 1st to get the corresponding date\n",
    "    result_date = jan_1st + datetime.timedelta(days=D-1)\n",
    "    \n",
    "    return result_date\n",
    "\n",
    "def get_season(date):\n",
    "    \"\"\"\n",
    "    Returns the season for a given date.\n",
    "    \n",
    "    Parameters:\n",
    "    date (datetime): A datetime object representing the date.\n",
    "\n",
    "    Returns:\n",
    "    str: The season (Winter, Spring, Summer, or Autumn).\n",
    "    \"\"\"\n",
    "    year = date.year\n",
    "    # Define the start of each season\n",
    "    spring = datetime.date(year, 3, 21)\n",
    "    summer = datetime.date(year, 6, 21)\n",
    "    autumn = datetime.date(year, 9, 23)\n",
    "    winter = datetime.date(year, 12, 21)\n",
    "    \n",
    "    if date >= winter or date < spring:\n",
    "        return 'Winter'\n",
    "    elif spring <= date < summer:\n",
    "        return 'Spring'\n",
    "    elif summer <= date < autumn:\n",
    "        return 'Summer'\n",
    "    else:\n",
    "        return 'Autumn'\n",
    "    \n",
    "# Define the function\n",
    "def group_data_calc_means(df, group_by_vars):\n",
    "    \n",
    "    # Grouping the dataframe by the specified variables\n",
    "    grouped = df.groupby(group_by_vars)\n",
    "\n",
    "    # Define a list to hold results\n",
    "    results = []\n",
    "\n",
    "    # Iterate through each group\n",
    "    for group_keys, group in grouped:\n",
    "        # If group_keys is a tuple, unpack it based on the number of group-by variables\n",
    "        if len(group_by_vars) == 1:\n",
    "            group_keys = (group_keys,)  # Make it a tuple if only one grouping variable\n",
    "        \n",
    "        # Calculate R (assuming `calculate_R` is a defined function)\n",
    "        R = calculate_R(group['theta'])\n",
    "\n",
    "        # Store the mean of theta and R in the results list for each group\n",
    "        results.append({\n",
    "            **dict(zip(group_by_vars, group_keys)),  # Unpack the group keys into the result dictionary\n",
    "            'theta_mean': np.mean(group['theta']),  # Mean theta for the group\n",
    "            'D_mean': np.mean(group['D']),          # Mean of D for the group\n",
    "            'R': R,                                 # R value for the group\n",
    "            'D50_mean': np.mean(group['D50']),      # Mean of D50 for the group\n",
    "            'D50_median': np.median(group['D50']),  # Median of D50 for the group\n",
    "        })\n",
    "\n",
    "    # Convert the results list into a DataFrame\n",
    "    return pd.DataFrame(results)\n",
    "\n",
    "\n",
    "def find_change_values_in_groups_new(grouped, group_by_columns):\n",
    "    group_by_columns.remove('Climate')\n",
    "    # Split the dataframe into present and future data\n",
    "    df_present = grouped[grouped['Climate'] == 'Present'].copy()\n",
    "    df_future = grouped[grouped['Climate'] == 'Future'].copy()\n",
    "\n",
    "    # Rename columns for clarity when merging\n",
    "    df_present = df_present.rename(columns={\n",
    "        'theta_mean': 'theta_mean_present',\n",
    "        'D_mean': 'D_mean_present',\n",
    "        'R': 'R_present',\n",
    "        'D50_mean': 'D50_mean_present',\n",
    "        'D50_median': 'D50_median_present'\n",
    "    })\n",
    "\n",
    "    df_future = df_future.rename(columns={\n",
    "        'theta_mean': 'theta_mean_future',\n",
    "        'D_mean': 'D_mean_future',\n",
    "        'R': 'R_future',\n",
    "        'D50_mean': 'D50_mean_future',\n",
    "        'D50_median': 'D50_median_future'\n",
    "    })\n",
    "\n",
    "    merged_df = pd.merge(df_present, df_future, \n",
    "                         on=group_by_columns, \n",
    "                         how='outer',  # Use 'outer' for an outer join\n",
    "                         suffixes=('_present', '_future'))\n",
    "    \n",
    "    # Calculate the differences between present and future values\n",
    "    merged_df['theta_mean_diff'] = merged_df['theta_mean_future'] - merged_df['theta_mean_present']\n",
    "    merged_df['D_mean_diff'] = merged_df['D_mean_future'] - merged_df['D_mean_present']\n",
    "    merged_df['R_diff'] = merged_df['R_future'] - merged_df['R_present']\n",
    "    merged_df['D50_mean_diff'] = merged_df['D50_mean_future'] - merged_df['D50_mean_present']\n",
    "    merged_df['D50_median_diff'] = merged_df['D50_median_future'] - merged_df['D50_median_present']\n",
    "    \n",
    "    merged_df.drop(['Climate_present', 'Climate_future'], axis=1, inplace=True)\n",
    "    \n",
    "    return merged_df"
   ]
  },
  {
   "cell_type": "code",
   "execution_count": 64,
   "id": "594c9652",
   "metadata": {},
   "outputs": [],
   "source": [
    "home_dir = '/nfs/a319/gy17m2a/PhD/'\n",
    "home_dir2 = '/nfs/a161/gy17m2a/PhD/'"
   ]
  },
  {
   "cell_type": "markdown",
   "id": "a8e6eb2c",
   "metadata": {},
   "source": [
    "### UKCP18 data"
   ]
  },
  {
   "cell_type": "code",
   "execution_count": 22,
   "id": "311c05cd",
   "metadata": {},
   "outputs": [],
   "source": [
    "with open(home_dir +  f\"ProcessedData/AMAX_Events/UKCP18_30mins/Future/event_props_dict_bb192_newest.pickle\", 'rb') as handle:\n",
    "    events_props_dict_bb192 = pickle.load(handle)\n",
    "with open(home_dir +  f\"ProcessedData/AMAX_Events/UKCP18_30mins/Future/event_props_dict_bb195_newest.pickle\", 'rb') as handle:\n",
    "    events_props_dict_bb195 = pickle.load(handle)    "
   ]
  },
  {
   "cell_type": "markdown",
   "id": "179c4c4f",
   "metadata": {},
   "source": [
    "### Join together lists for different ensemble members"
   ]
  },
  {
   "cell_type": "code",
   "execution_count": null,
   "id": "df67e71f",
   "metadata": {},
   "outputs": [],
   "source": [
    "# with open(home_dir +  f\"ProcessedData/AMAX_Events/UKCP18_30mins/Future/events_dict_bb195_newest.pickle\", 'rb') as handle:\n",
    "#     events_profiles_dict_bb195 = pickle.load(handle)    \n",
    "# with open(home_dir +  f\"ProcessedData/AMAX_Events/UKCP18_30mins/Future/events_dict_bb192_newest.pickle\", 'rb') as handle:\n",
    "#     events_profiles_dict_bb192 = pickle.load(handle)        \n",
    "\n",
    "# merged_dict = {**events_profiles_dict_bb195, **events_profiles_dict_bb192}\n",
    "# print(merged_dict)\n"
   ]
  },
  {
   "cell_type": "code",
   "execution_count": 69,
   "id": "a1fa71cd",
   "metadata": {},
   "outputs": [],
   "source": [
    "events_props_dict_present = []\n",
    "ems_present = ['bc006', 'bc007', 'bc009', 'bc010', 'bc011', 'bc012', 'bc013', 'bc015', 'bc016', 'bc017', 'bc018']\n",
    "for em in ems_present:\n",
    "    with open(home_dir +  f\"ProcessedData/AMAX_Events/UKCP18_30mins/Present/event_props_dict_{em}.pickle\", 'rb') as handle:\n",
    "        events_props_dict = pickle.load(handle)    \n",
    "    events_props_dict_present = events_props_dict_present + events_props_dict"
   ]
  },
  {
   "cell_type": "code",
   "execution_count": 67,
   "id": "e22176ec",
   "metadata": {},
   "outputs": [],
   "source": [
    "events_props_dict_future = []\n",
    "ems_future = ['bb195', 'bb192', 'bb198', 'bb208', 'bb225', 'bb201', 'bb216', 'bb219']\n",
    "for em in ems_future:\n",
    "    with open(home_dir +  f\"ProcessedData/AMAX_Events/UKCP18_30mins/Future/event_props_dict_{em}.pickle\", 'rb') as handle:\n",
    "        events_props_dict = pickle.load(handle)    \n",
    "    events_props_dict_future = events_props_dict_future + events_props_dict"
   ]
  },
  {
   "cell_type": "code",
   "execution_count": 72,
   "id": "a33225a0",
   "metadata": {},
   "outputs": [],
   "source": [
    "present = pd.DataFrame(events_props_dict_present)\n",
    "present['Climate'] = 'Present'\n",
    "future = pd.DataFrame(events_props_dict_future)\n",
    "future['Climate'] = 'Future'\n",
    "df_long = pd.concat([present, future])\n",
    "\n",
    "# Add D variable (day of year) and date\n",
    "df_long['D'] = (df_long['theta'] * 365.25) / (2 * np.pi)\n",
    "df_long['date'] = df_long.apply(lambda row: date_from_D(row['D'], row['year']), axis=1)\n",
    "df_long['season'] = df_long['date'].apply(get_season)"
   ]
  },
  {
   "cell_type": "code",
   "execution_count": 73,
   "id": "0ffe9da5",
   "metadata": {},
   "outputs": [],
   "source": [
    "df_long.to_csv(home_dir + f\"ProcessedData/AMAX_Events/UKCP18_30mins/all_events_characteristics_new.csv\", index=False)"
   ]
  },
  {
   "cell_type": "markdown",
   "id": "efc4ce11",
   "metadata": {},
   "source": [
    "### NIMROD data"
   ]
  },
  {
   "cell_type": "code",
   "execution_count": 11,
   "id": "c2bc859b",
   "metadata": {},
   "outputs": [],
   "source": [
    "with open(home_dir +  f\"ProcessedData/AMAX_Events/NIMROD_30mins/event_props_dict_nimrod.pickle\", 'rb') as handle:\n",
    "    events_props_dict_nimrod = pickle.load(handle)"
   ]
  },
  {
   "cell_type": "code",
   "execution_count": 12,
   "id": "7f603319",
   "metadata": {},
   "outputs": [],
   "source": [
    "nimrod = pd.DataFrame(events_props_dict_nimrod)\n",
    "# Add D variable (day of year) and date\n",
    "nimrod['D'] = (nimrod['theta'] * 365.25) / (2 * np.pi)\n",
    "nimrod['date'] = nimrod.apply(lambda row: date_from_D(row['D'], row['year']), axis=1)\n",
    "nimrod['season'] = nimrod['date'].apply(get_season)"
   ]
  },
  {
   "cell_type": "code",
   "execution_count": 13,
   "id": "c62805e6",
   "metadata": {},
   "outputs": [],
   "source": [
    "nimrod.to_csv(home_dir + f\"ProcessedData/AMAX_Events/NIMROD_30mins/all_events_characteristics.csv\", index=False)"
   ]
  },
  {
   "cell_type": "markdown",
   "id": "60db8a52",
   "metadata": {},
   "source": [
    "## Create grouped datasets"
   ]
  },
  {
   "cell_type": "code",
   "execution_count": 77,
   "id": "5f41f5df",
   "metadata": {},
   "outputs": [
    {
     "ename": "KeyboardInterrupt",
     "evalue": "",
     "output_type": "error",
     "traceback": [
      "\u001b[0;31m---------------------------------------------------------------------------\u001b[0m",
      "\u001b[0;31mKeyboardInterrupt\u001b[0m                         Traceback (most recent call last)",
      "\u001b[0;32m/tmp/ipykernel_31073/4186724779.py\u001b[0m in \u001b[0;36m<module>\u001b[0;34m\u001b[0m\n\u001b[1;32m      4\u001b[0m \u001b[0;34m\u001b[0m\u001b[0m\n\u001b[1;32m      5\u001b[0m \u001b[0mgroup_by_columns\u001b[0m \u001b[0;34m=\u001b[0m \u001b[0;34m[\u001b[0m\u001b[0;34m'Climate'\u001b[0m\u001b[0;34m,\u001b[0m \u001b[0;34m'gauge_num'\u001b[0m\u001b[0;34m,\u001b[0m \u001b[0;34m'duration'\u001b[0m\u001b[0;34m]\u001b[0m\u001b[0;34m\u001b[0m\u001b[0;34m\u001b[0m\u001b[0m\n\u001b[0;32m----> 6\u001b[0;31m \u001b[0mgrouped_by_gauge_samplingdur\u001b[0m \u001b[0;34m=\u001b[0m \u001b[0mgroup_data_calc_means\u001b[0m\u001b[0;34m(\u001b[0m\u001b[0mdf_long\u001b[0m\u001b[0;34m,\u001b[0m \u001b[0mgroup_by_columns\u001b[0m\u001b[0;34m)\u001b[0m\u001b[0;34m\u001b[0m\u001b[0;34m\u001b[0m\u001b[0m\n\u001b[0m\u001b[1;32m      7\u001b[0m \u001b[0mgrouped_by_gauge_samplingdur_changes\u001b[0m \u001b[0;34m=\u001b[0m \u001b[0mfind_change_values_in_groups_new\u001b[0m\u001b[0;34m(\u001b[0m\u001b[0mgrouped_by_gauge_samplingdur\u001b[0m\u001b[0;34m,\u001b[0m \u001b[0mgroup_by_columns\u001b[0m\u001b[0;34m)\u001b[0m\u001b[0;34m\u001b[0m\u001b[0;34m\u001b[0m\u001b[0m\n",
      "\u001b[0;32m/tmp/ipykernel_31073/3452527146.py\u001b[0m in \u001b[0;36mgroup_data_calc_means\u001b[0;34m(df, group_by_vars)\u001b[0m\n\u001b[1;32m     75\u001b[0m \u001b[0;34m\u001b[0m\u001b[0m\n\u001b[1;32m     76\u001b[0m         \u001b[0;31m# Calculate R (assuming `calculate_R` is a defined function)\u001b[0m\u001b[0;34m\u001b[0m\u001b[0;34m\u001b[0m\u001b[0;34m\u001b[0m\u001b[0m\n\u001b[0;32m---> 77\u001b[0;31m         \u001b[0mR\u001b[0m \u001b[0;34m=\u001b[0m \u001b[0mcalculate_R\u001b[0m\u001b[0;34m(\u001b[0m\u001b[0mgroup\u001b[0m\u001b[0;34m[\u001b[0m\u001b[0;34m'theta'\u001b[0m\u001b[0;34m]\u001b[0m\u001b[0;34m)\u001b[0m\u001b[0;34m\u001b[0m\u001b[0;34m\u001b[0m\u001b[0m\n\u001b[0m\u001b[1;32m     78\u001b[0m \u001b[0;34m\u001b[0m\u001b[0m\n\u001b[1;32m     79\u001b[0m         \u001b[0;31m# Store the mean of theta and R in the results list for each group\u001b[0m\u001b[0;34m\u001b[0m\u001b[0;34m\u001b[0m\u001b[0;34m\u001b[0m\u001b[0m\n",
      "\u001b[0;32m/tmp/ipykernel_31073/3452527146.py\u001b[0m in \u001b[0;36mcalculate_R\u001b[0;34m(theta)\u001b[0m\n\u001b[1;32m     13\u001b[0m     \u001b[0;31m# Calculate Cartesian coordinates (x, y) on the unit circle\u001b[0m\u001b[0;34m\u001b[0m\u001b[0;34m\u001b[0m\u001b[0;34m\u001b[0m\u001b[0m\n\u001b[1;32m     14\u001b[0m     \u001b[0mx\u001b[0m \u001b[0;34m=\u001b[0m \u001b[0mnp\u001b[0m\u001b[0;34m.\u001b[0m\u001b[0mcos\u001b[0m\u001b[0;34m(\u001b[0m\u001b[0mtheta\u001b[0m\u001b[0;34m)\u001b[0m\u001b[0;34m\u001b[0m\u001b[0;34m\u001b[0m\u001b[0m\n\u001b[0;32m---> 15\u001b[0;31m     \u001b[0my\u001b[0m \u001b[0;34m=\u001b[0m \u001b[0mnp\u001b[0m\u001b[0;34m.\u001b[0m\u001b[0msin\u001b[0m\u001b[0;34m(\u001b[0m\u001b[0mtheta\u001b[0m\u001b[0;34m)\u001b[0m\u001b[0;34m\u001b[0m\u001b[0;34m\u001b[0m\u001b[0m\n\u001b[0m\u001b[1;32m     16\u001b[0m \u001b[0;34m\u001b[0m\u001b[0m\n\u001b[1;32m     17\u001b[0m     \u001b[0;31m# Calculate the mean of x and y\u001b[0m\u001b[0;34m\u001b[0m\u001b[0;34m\u001b[0m\u001b[0;34m\u001b[0m\u001b[0m\n",
      "\u001b[0;32m/nfs/a321/gy17m2a/anaconda_install/anaconda3/envs/ukcp18/lib/python3.7/site-packages/pandas/core/generic.py\u001b[0m in \u001b[0;36m__array_ufunc__\u001b[0;34m(self, ufunc, method, *inputs, **kwargs)\u001b[0m\n\u001b[1;32m   2030\u001b[0m         \u001b[0mself\u001b[0m\u001b[0;34m,\u001b[0m \u001b[0mufunc\u001b[0m\u001b[0;34m:\u001b[0m \u001b[0mnp\u001b[0m\u001b[0;34m.\u001b[0m\u001b[0mufunc\u001b[0m\u001b[0;34m,\u001b[0m \u001b[0mmethod\u001b[0m\u001b[0;34m:\u001b[0m \u001b[0mstr\u001b[0m\u001b[0;34m,\u001b[0m \u001b[0;34m*\u001b[0m\u001b[0minputs\u001b[0m\u001b[0;34m:\u001b[0m \u001b[0mAny\u001b[0m\u001b[0;34m,\u001b[0m \u001b[0;34m**\u001b[0m\u001b[0mkwargs\u001b[0m\u001b[0;34m:\u001b[0m \u001b[0mAny\u001b[0m\u001b[0;34m\u001b[0m\u001b[0;34m\u001b[0m\u001b[0m\n\u001b[1;32m   2031\u001b[0m     ):\n\u001b[0;32m-> 2032\u001b[0;31m         \u001b[0;32mreturn\u001b[0m \u001b[0marraylike\u001b[0m\u001b[0;34m.\u001b[0m\u001b[0marray_ufunc\u001b[0m\u001b[0;34m(\u001b[0m\u001b[0mself\u001b[0m\u001b[0;34m,\u001b[0m \u001b[0mufunc\u001b[0m\u001b[0;34m,\u001b[0m \u001b[0mmethod\u001b[0m\u001b[0;34m,\u001b[0m \u001b[0;34m*\u001b[0m\u001b[0minputs\u001b[0m\u001b[0;34m,\u001b[0m \u001b[0;34m**\u001b[0m\u001b[0mkwargs\u001b[0m\u001b[0;34m)\u001b[0m\u001b[0;34m\u001b[0m\u001b[0;34m\u001b[0m\u001b[0m\n\u001b[0m\u001b[1;32m   2033\u001b[0m \u001b[0;34m\u001b[0m\u001b[0m\n\u001b[1;32m   2034\u001b[0m     \u001b[0;31m# ideally we would define this to avoid the getattr checks, but\u001b[0m\u001b[0;34m\u001b[0m\u001b[0;34m\u001b[0m\u001b[0;34m\u001b[0m\u001b[0m\n",
      "\u001b[0;32m/nfs/a321/gy17m2a/anaconda_install/anaconda3/envs/ukcp18/lib/python3.7/site-packages/pandas/core/arraylike.py\u001b[0m in \u001b[0;36marray_ufunc\u001b[0;34m(self, ufunc, method, *inputs, **kwargs)\u001b[0m\n\u001b[1;32m    307\u001b[0m         )\n\u001b[1;32m    308\u001b[0m     \u001b[0;32melse\u001b[0m\u001b[0;34m:\u001b[0m\u001b[0;34m\u001b[0m\u001b[0;34m\u001b[0m\u001b[0m\n\u001b[0;32m--> 309\u001b[0;31m         \u001b[0mreconstruct_axes\u001b[0m \u001b[0;34m=\u001b[0m \u001b[0mdict\u001b[0m\u001b[0;34m(\u001b[0m\u001b[0mzip\u001b[0m\u001b[0;34m(\u001b[0m\u001b[0mself\u001b[0m\u001b[0;34m.\u001b[0m\u001b[0m_AXIS_ORDERS\u001b[0m\u001b[0;34m,\u001b[0m \u001b[0mself\u001b[0m\u001b[0;34m.\u001b[0m\u001b[0maxes\u001b[0m\u001b[0;34m)\u001b[0m\u001b[0;34m)\u001b[0m\u001b[0;34m\u001b[0m\u001b[0;34m\u001b[0m\u001b[0m\n\u001b[0m\u001b[1;32m    310\u001b[0m \u001b[0;34m\u001b[0m\u001b[0m\n\u001b[1;32m    311\u001b[0m     \u001b[0;32mif\u001b[0m \u001b[0mself\u001b[0m\u001b[0;34m.\u001b[0m\u001b[0mndim\u001b[0m \u001b[0;34m==\u001b[0m \u001b[0;36m1\u001b[0m\u001b[0;34m:\u001b[0m\u001b[0;34m\u001b[0m\u001b[0;34m\u001b[0m\u001b[0m\n",
      "\u001b[0;32m/nfs/a321/gy17m2a/anaconda_install/anaconda3/envs/ukcp18/lib/python3.7/site-packages/pandas/core/series.py\u001b[0m in \u001b[0;36maxes\u001b[0;34m(self)\u001b[0m\n\u001b[1;32m    868\u001b[0m \u001b[0;34m\u001b[0m\u001b[0m\n\u001b[1;32m    869\u001b[0m     \u001b[0;31m# indexers\u001b[0m\u001b[0;34m\u001b[0m\u001b[0;34m\u001b[0m\u001b[0;34m\u001b[0m\u001b[0m\n\u001b[0;32m--> 870\u001b[0;31m     \u001b[0;34m@\u001b[0m\u001b[0mproperty\u001b[0m\u001b[0;34m\u001b[0m\u001b[0;34m\u001b[0m\u001b[0m\n\u001b[0m\u001b[1;32m    871\u001b[0m     \u001b[0;32mdef\u001b[0m \u001b[0maxes\u001b[0m\u001b[0;34m(\u001b[0m\u001b[0mself\u001b[0m\u001b[0;34m)\u001b[0m \u001b[0;34m->\u001b[0m \u001b[0mlist\u001b[0m\u001b[0;34m[\u001b[0m\u001b[0mIndex\u001b[0m\u001b[0;34m]\u001b[0m\u001b[0;34m:\u001b[0m\u001b[0;34m\u001b[0m\u001b[0;34m\u001b[0m\u001b[0m\n\u001b[1;32m    872\u001b[0m         \"\"\"\n",
      "\u001b[0;31mKeyboardInterrupt\u001b[0m: "
     ]
    }
   ],
   "source": [
    "group_by_columns = ['Climate', 'gauge_num', 'duration', 'season']\n",
    "grouped_by_gauge_samplingdur_season = group_data_calc_means(df_long, group_by_columns)\n",
    "grouped_by_gauge_samplingdur_season_changes = find_change_values_in_groups_new(grouped_by_gauge_samplingdur_season, group_by_columns)\n",
    "\n",
    "group_by_columns = ['Climate', 'gauge_num', 'duration']\n",
    "grouped_by_gauge_samplingdur = group_data_calc_means(df_long, group_by_columns)\n",
    "grouped_by_gauge_samplingdur_changes = find_change_values_in_groups_new(grouped_by_gauge_samplingdur, group_by_columns)"
   ]
  },
  {
   "cell_type": "code",
   "execution_count": null,
   "id": "1076036a",
   "metadata": {},
   "outputs": [],
   "source": [
    "grouped_by_gauge_samplingdur_season_changes.to_csv(home_dir + f\"ProcessedData/AMAX_Events/UKCP18_30mins/grouped_by_gauge_samplingdur_season_changes_new.csv\", index=False)\n",
    "grouped_by_gauge_samplingdur_changes.to_csv(home_dir + f\"ProcessedData/AMAX_Events/UKCP18_30mins/grouped_by_gauge_samplingdur_changes_new.csv\", index=False)"
   ]
  }
 ],
 "metadata": {
  "kernelspec": {
   "display_name": "Python 3 (ipykernel)",
   "language": "python",
   "name": "python3"
  },
  "language_info": {
   "codemirror_mode": {
    "name": "ipython",
    "version": 3
   },
   "file_extension": ".py",
   "mimetype": "text/x-python",
   "name": "python",
   "nbconvert_exporter": "python",
   "pygments_lexer": "ipython3",
   "version": "3.7.13"
  }
 },
 "nbformat": 4,
 "nbformat_minor": 5
}
