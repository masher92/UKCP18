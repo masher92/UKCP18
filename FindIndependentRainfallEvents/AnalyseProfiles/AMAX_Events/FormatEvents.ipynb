{
 "cells": [
  {
   "cell_type": "code",
   "execution_count": 1,
   "id": "e69a6b2c",
   "metadata": {},
   "outputs": [],
   "source": [
    "import pickle\n",
    "import pandas as pd\n",
    "import numpy as np\n",
    "import datetime"
   ]
  },
  {
   "cell_type": "code",
   "execution_count": 2,
   "id": "7f2c89cd",
   "metadata": {},
   "outputs": [],
   "source": [
    "def calculate_R(theta):\n",
    "    \"\"\"\n",
    "    Calculate theta (angle in radians) and R (resultant length) for a series of dates.\n",
    "\n",
    "    Parameters:\n",
    "    - dates: Pandas Series of datetime objects (e.g., dates of events)\n",
    "\n",
    "    Returns:\n",
    "    - theta: Numpy array of angles (in radians) for each date\n",
    "    - R: The resultant length (measure of how clustered the dates are)\n",
    "    \"\"\"\n",
    "\n",
    "    # Calculate Cartesian coordinates (x, y) on the unit circle\n",
    "    x = np.cos(theta)\n",
    "    y = np.sin(theta)\n",
    "\n",
    "    # Calculate the mean of x and y\n",
    "    x_mean = np.mean(x)\n",
    "    y_mean = np.mean(y)\n",
    "    \n",
    "    # Calculate the resultant length R, which represents the dispersion\n",
    "    R = np.sqrt(x_mean**2 + y_mean**2)\n",
    "    # Return theta and the resultant length R\n",
    "    return R\n",
    "\n",
    "def date_from_D(D, year=2020):\n",
    "    # Create a date object for January 1st of the given year\n",
    "    jan_1st = datetime.date(year, 1, 1)\n",
    "    \n",
    "    # Add D-1 days to January 1st to get the corresponding date\n",
    "    result_date = jan_1st + datetime.timedelta(days=D-1)\n",
    "    \n",
    "    return result_date\n",
    "\n",
    "def get_season(date):\n",
    "    \"\"\"\n",
    "    Returns the season for a given date.\n",
    "    \n",
    "    Parameters:\n",
    "    date (datetime): A datetime object representing the date.\n",
    "\n",
    "    Returns:\n",
    "    str: The season (Winter, Spring, Summer, or Autumn).\n",
    "    \"\"\"\n",
    "    year = date.year\n",
    "    # Define the start of each season\n",
    "    spring = datetime.date(year, 3, 21)\n",
    "    summer = datetime.date(year, 6, 21)\n",
    "    autumn = datetime.date(year, 9, 23)\n",
    "    winter = datetime.date(year, 12, 21)\n",
    "    \n",
    "    if date >= winter or date < spring:\n",
    "        return 'Winter'\n",
    "    elif spring <= date < summer:\n",
    "        return 'Spring'\n",
    "    elif summer <= date < autumn:\n",
    "        return 'Summer'\n",
    "    else:\n",
    "        return 'Autumn'\n",
    "    \n",
    "# Define the function\n",
    "def group_data_calc_means(df, group_by_vars):\n",
    "    \n",
    "    # Grouping the dataframe by the specified variables\n",
    "    grouped = df.groupby(group_by_vars)\n",
    "\n",
    "    # Define a list to hold results\n",
    "    results = []\n",
    "\n",
    "    # Iterate through each group\n",
    "    for group_keys, group in grouped:\n",
    "        # If group_keys is a tuple, unpack it based on the number of group-by variables\n",
    "        if len(group_by_vars) == 1:\n",
    "            group_keys = (group_keys,)  # Make it a tuple if only one grouping variable\n",
    "        \n",
    "        # Calculate R (assuming `calculate_R` is a defined function)\n",
    "        R = calculate_R(group['theta'])\n",
    "\n",
    "        # Store the mean of theta and R in the results list for each group\n",
    "        results.append({\n",
    "            **dict(zip(group_by_vars, group_keys)),  # Unpack the group keys into the result dictionary\n",
    "            'theta_mean': np.mean(group['theta']),  # Mean theta for the group\n",
    "            'D_mean': np.mean(group['D']),          # Mean of D for the group\n",
    "            'R': R,                                 # R value for the group\n",
    "            'D50_mean': np.mean(group['D50']),      # Mean of D50 for the group\n",
    "            'D50_median': np.median(group['D50']),  # Median of D50 for the group\n",
    "        })\n",
    "\n",
    "    # Convert the results list into a DataFrame\n",
    "    return pd.DataFrame(results)\n",
    "\n",
    "\n",
    "def find_change_values_in_groups_new(grouped, group_by_columns):\n",
    "    group_by_columns.remove('Climate')\n",
    "    # Split the dataframe into present and future data\n",
    "    df_present = grouped[grouped['Climate'] == 'Present'].copy()\n",
    "    df_future = grouped[grouped['Climate'] == 'Future'].copy()\n",
    "\n",
    "    # Rename columns for clarity when merging\n",
    "    df_present = df_present.rename(columns={\n",
    "        'theta_mean': 'theta_mean_present',\n",
    "        'D_mean': 'D_mean_present',\n",
    "        'R': 'R_present',\n",
    "        'D50_mean': 'D50_mean_present',\n",
    "        'D50_median': 'D50_median_present'\n",
    "    })\n",
    "\n",
    "    df_future = df_future.rename(columns={\n",
    "        'theta_mean': 'theta_mean_future',\n",
    "        'D_mean': 'D_mean_future',\n",
    "        'R': 'R_future',\n",
    "        'D50_mean': 'D50_mean_future',\n",
    "        'D50_median': 'D50_median_future'\n",
    "    })\n",
    "\n",
    "    merged_df = pd.merge(df_present, df_future, \n",
    "                         on=group_by_columns, \n",
    "                         how='outer',  # Use 'outer' for an outer join\n",
    "                         suffixes=('_present', '_future'))\n",
    "    \n",
    "    # Calculate the differences between present and future values\n",
    "    merged_df['theta_mean_diff'] = merged_df['theta_mean_future'] - merged_df['theta_mean_present']\n",
    "    merged_df['D_mean_diff'] = merged_df['D_mean_future'] - merged_df['D_mean_present']\n",
    "    merged_df['R_diff'] = merged_df['R_future'] - merged_df['R_present']\n",
    "    merged_df['D50_mean_diff'] = merged_df['D50_mean_future'] - merged_df['D50_mean_present']\n",
    "    merged_df['D50_median_diff'] = merged_df['D50_median_future'] - merged_df['D50_median_present']\n",
    "    \n",
    "    merged_df.drop(['Climate_present', 'Climate_future'], axis=1, inplace=True)\n",
    "    \n",
    "    return merged_df"
   ]
  },
  {
   "cell_type": "code",
   "execution_count": 3,
   "id": "594c9652",
   "metadata": {},
   "outputs": [],
   "source": [
    "home_dir = '/nfs/a319/gy17m2a/PhD/'\n",
    "home_dir2 = '/nfs/a161/gy17m2a/PhD/'"
   ]
  },
  {
   "cell_type": "markdown",
   "id": "a8e6eb2c",
   "metadata": {},
   "source": [
    "### UKCP18 data"
   ]
  },
  {
   "cell_type": "code",
   "execution_count": 4,
   "id": "d0f708b9",
   "metadata": {},
   "outputs": [],
   "source": [
    "with open(home_dir +  f\"ProcessedData/AMAX_Events/UKCP18_30mins/Present/event_props_dict_present.pickle\", 'rb') as handle:\n",
    "    events_props_dict_present = pickle.load(handle)\n",
    "with open(home_dir + f\"ProcessedData/AMAX_Events/UKCP18_30mins/Future/event_props_dict_future_new.pickle\", 'rb') as handle:\n",
    "    events_props_dict_future = pickle.load(handle)    "
   ]
  },
  {
   "cell_type": "code",
   "execution_count": 5,
   "id": "a33225a0",
   "metadata": {},
   "outputs": [],
   "source": [
    "present = pd.DataFrame(events_props_dict_present)\n",
    "present['Climate'] = 'Present'\n",
    "future = pd.DataFrame(events_props_dict_future)\n",
    "future['Climate'] = 'Future'\n",
    "df_long = pd.concat([present, future])\n",
    "\n",
    "# Add D variable (day of year) and date\n",
    "df_long['D'] = (df_long['theta'] * 365.25) / (2 * np.pi)\n",
    "df_long['date'] = df_long.apply(lambda row: date_from_D(row['D'], row['year']), axis=1)\n",
    "df_long['season'] = df_long['date'].apply(get_season)"
   ]
  },
  {
   "cell_type": "code",
   "execution_count": 6,
   "id": "0ffe9da5",
   "metadata": {},
   "outputs": [],
   "source": [
    "df_long.to_csv(home_dir + f\"ProcessedData/AMAX_Events/UKCP18_30mins/all_events_characteristics.csv\", index=False)"
   ]
  },
  {
   "cell_type": "markdown",
   "id": "efc4ce11",
   "metadata": {},
   "source": [
    "### NIMROD data"
   ]
  },
  {
   "cell_type": "code",
   "execution_count": 11,
   "id": "c2bc859b",
   "metadata": {},
   "outputs": [],
   "source": [
    "with open(home_dir +  f\"ProcessedData/AMAX_Events/NIMROD_30mins/event_props_dict_nimrod.pickle\", 'rb') as handle:\n",
    "    events_props_dict_nimrod = pickle.load(handle)"
   ]
  },
  {
   "cell_type": "code",
   "execution_count": 12,
   "id": "7f603319",
   "metadata": {},
   "outputs": [],
   "source": [
    "nimrod = pd.DataFrame(events_props_dict_nimrod)\n",
    "# Add D variable (day of year) and date\n",
    "nimrod['D'] = (nimrod['theta'] * 365.25) / (2 * np.pi)\n",
    "nimrod['date'] = nimrod.apply(lambda row: date_from_D(row['D'], row['year']), axis=1)\n",
    "nimrod['season'] = nimrod['date'].apply(get_season)"
   ]
  },
  {
   "cell_type": "code",
   "execution_count": 13,
   "id": "c62805e6",
   "metadata": {},
   "outputs": [],
   "source": [
    "nimrod.to_csv(home_dir + f\"ProcessedData/AMAX_Events/NIMROD_30mins/all_events_characteristics.csv\", index=False)"
   ]
  },
  {
   "cell_type": "markdown",
   "id": "60db8a52",
   "metadata": {},
   "source": [
    "## Create grouped datasets"
   ]
  },
  {
   "cell_type": "code",
   "execution_count": 10,
   "id": "5f41f5df",
   "metadata": {},
   "outputs": [],
   "source": [
    "group_by_columns = ['Climate', 'gauge_num', 'dur_for_which_this_is_amax', 'season']\n",
    "grouped_by_gauge_samplingdur_season = group_data_calc_means(df_long, group_by_columns)\n",
    "grouped_by_gauge_samplingdur_season_changes = find_change_values_in_groups_new(grouped_by_gauge_samplingdur_season, group_by_columns)\n",
    "\n",
    "group_by_columns = ['Climate', 'gauge_num', 'dur_for_which_this_is_amax']\n",
    "grouped_by_gauge_samplingdur = group_data_calc_means(df_long, group_by_columns)\n",
    "grouped_by_gauge_samplingdur_changes = find_change_values_in_groups_new(grouped_by_gauge_samplingdur, group_by_columns)"
   ]
  },
  {
   "cell_type": "code",
   "execution_count": 11,
   "id": "1076036a",
   "metadata": {},
   "outputs": [],
   "source": [
    "grouped_by_gauge_samplingdur_season_changes.to_csv(home_dir + f\"ProcessedData/AMAX_Events/UKCP18_30mins/grouped_by_gauge_samplingdur_season_changes.csv\", index=False)\n",
    "grouped_by_gauge_samplingdur_changes.to_csv(home_dir + f\"ProcessedData/AMAX_Events/UKCP18_30mins/grouped_by_gauge_samplingdur_changes.csv\", index=False)"
   ]
  }
 ],
 "metadata": {
  "kernelspec": {
   "display_name": "Python 3 (ipykernel)",
   "language": "python",
   "name": "python3"
  },
  "language_info": {
   "codemirror_mode": {
    "name": "ipython",
    "version": 3
   },
   "file_extension": ".py",
   "mimetype": "text/x-python",
   "name": "python",
   "nbconvert_exporter": "python",
   "pygments_lexer": "ipython3",
   "version": "3.7.13"
  }
 },
 "nbformat": 4,
 "nbformat_minor": 5
}
