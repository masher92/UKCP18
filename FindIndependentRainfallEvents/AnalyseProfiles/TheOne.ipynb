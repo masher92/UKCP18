{
 "cells": [
  {
   "cell_type": "code",
   "execution_count": 5,
   "id": "ac279abc",
   "metadata": {},
   "outputs": [
    {
     "ename": "ModuleNotFoundError",
     "evalue": "No module named 'plotting_functions'",
     "output_type": "error",
     "traceback": [
      "\u001b[0;31m---------------------------------------------------------------------------\u001b[0m",
      "\u001b[0;31mModuleNotFoundError\u001b[0m                       Traceback (most recent call last)",
      "\u001b[0;32m/tmp/ipykernel_220930/1011849756.py\u001b[0m in \u001b[0;36m<module>\u001b[0;34m\u001b[0m\n\u001b[1;32m      5\u001b[0m \u001b[0;32mfrom\u001b[0m \u001b[0mscipy\u001b[0m\u001b[0;34m.\u001b[0m\u001b[0minterpolate\u001b[0m \u001b[0;32mimport\u001b[0m \u001b[0minterp1d\u001b[0m\u001b[0;34m\u001b[0m\u001b[0;34m\u001b[0m\u001b[0m\n\u001b[1;32m      6\u001b[0m \u001b[0;34m\u001b[0m\u001b[0m\n\u001b[0;32m----> 7\u001b[0;31m \u001b[0;32mfrom\u001b[0m \u001b[0mplotting_functions\u001b[0m \u001b[0;32mimport\u001b[0m \u001b[0;34m*\u001b[0m\u001b[0;34m\u001b[0m\u001b[0;34m\u001b[0m\u001b[0m\n\u001b[0m",
      "\u001b[0;31mModuleNotFoundError\u001b[0m: No module named 'plotting_functions'"
     ]
    }
   ],
   "source": [
    "import pandas as pd\n",
    "import numpy as np\n",
    "import matplotlib.pyplot as plt\n",
    "from tqdm import tqdm\n",
    "from scipy.interpolate import interp1d\n",
    "\n",
    "from plotting_functions import *"
   ]
  },
  {
   "cell_type": "code",
   "execution_count": null,
   "id": "0c65b646",
   "metadata": {},
   "outputs": [],
   "source": [
    "class precip_time_series:\n",
    "    def __init__(self, data_path):\n",
    "\n",
    "        self.data,self.statid = self.read_raw_data_as_pandas_df(data_path)\n",
    "        \n",
    "        self.padded = False\n",
    "\n",
    "        self.events = None\n",
    "        \n",
    "        self.dimensionless_events = None\n",
    "        \n",
    "        self.interpolated_events = None\n",
    "        \n",
    "    def read_raw_data_as_pandas_df(self, raw_data_file_path):\n",
    "\n",
    "        # Read file with timestamp as index\n",
    "        precip = pd.read_csv(raw_data_file_path, encoding=\"ISO-8859-1\",index_col=1)\n",
    "\n",
    "        # Timestamps str -> datetime\n",
    "        precip.index = pd.to_datetime(precip.index)\n",
    "\n",
    "        # Save ID of station\n",
    "        station_id = str(precip.station.iloc[0])\n",
    "\n",
    "        # Remove column with station ID\n",
    "        precip = precip.drop(\"station\",axis=1) \n",
    "\n",
    "        return precip,station_id\n",
    "    \n",
    "    def pad_and_resample(self,freq = '5min',pad_value = 0):\n",
    "        # Resample the data to the specified frequency and pad missing values with pad_value\n",
    "        self.data = self.data.resample(freq).sum().fillna(pad_value)\n",
    "        self.padded = True\n",
    "\n",
    "    def get_events(self,threshold='11h',min_duration = 30, min_precip = 1):\n",
    "        \n",
    "        if not self.padded:\n",
    "            self.pad_and_resample()\n",
    "\n",
    "        self.init_events(threshold)\n",
    "        self.filter_events_by_length(min_duration)\n",
    "        self.filter_events_by_amount(min_precip)\n",
    "\n",
    "    def init_events(self,threshold):\n",
    "        \n",
    "        precip = self.data\n",
    "        \n",
    "        # Size of timesteps\n",
    "        time_delta = precip.index[1]-precip.index[0]\n",
    "\n",
    "        # Rolling 11 hour sum\n",
    "        precip_sum = precip.rolling(threshold).sum()\n",
    "\n",
    "        # dates with no precip last 11 hours\n",
    "        dates_w_zero_sum = precip_sum.index[(precip_sum.mask(precip_sum!=0)==precip_sum).values[:,0]]\n",
    "\n",
    "        # Add first date with rain\n",
    "        for date in precip.index:\n",
    "            if precip.loc[date].values[0] != 0:\n",
    "                start_dates = [date]\n",
    "                break\n",
    "\n",
    "        # Save start and end dates\n",
    "        end_dates   = []\n",
    "        for date in tqdm(dates_w_zero_sum):\n",
    "            if precip_sum.loc[date- time_delta].values[0]!=0:\n",
    "                end_dates += [date- pd.to_timedelta(threshold)]\n",
    "            if precip_sum.loc[date+ time_delta].values[0]!=0:\n",
    "                start_dates += [date+ time_delta]\n",
    "        \n",
    "        # Add end to last event\n",
    "        for date in reversed(precip.index):  # Iterate from last to first\n",
    "            if precip.loc[date].values[0] != 0:  # Check if value is not zero\n",
    "                end_dates += [date]\n",
    "                break  # Stop at the first nonzero value\n",
    "        \n",
    "        # Save events as list of tuples\n",
    "        events = []\n",
    "        for i in range(len(end_dates)):\n",
    "            events+=[(start_dates[i],end_dates[i])]\n",
    "\n",
    "        # update events\n",
    "        self.events = events\n",
    "\n",
    "\n",
    "    def filter_events_by_length(self,min_duration):\n",
    "        \n",
    "        # Remove events with duration under min duration\n",
    "        filtered_events = [event for event in self.events if event[1]-event[0]>=pd.Timedelta(minutes=min_duration)]\n",
    "\n",
    "        # Update events\n",
    "        self.events = filtered_events      \n",
    "        \n",
    "    def filter_events_by_amount(self,min_precip):\n",
    "        \n",
    "        # Remove events with total precip under minimum\n",
    "        filtered_events = [event for event in self.events if self.data.loc[event[0]:event[1]].sum().values[0]>=min_precip]\n",
    "        \n",
    "        # update events\n",
    "        self.events = filtered_events       \n",
    "        \n",
    "    def create_dimensionless_events(self):\n",
    "\n",
    "        # Make sure events have been computed\n",
    "        if self.events == None:\n",
    "            self.get_events()\n",
    "        \n",
    "        # Make list of nparrays containing the values of the dimensionless curve\n",
    "        dimensionless_curves = [self.get_dimensionless_curve(self.data.loc[event[0]:event[1]].values) for event in self.events]\n",
    "\n",
    "        # Assign to global value\n",
    "        self.dimensionless_events = dimensionless_curves\n",
    " \n",
    "    def create_interpolated_events(self):\n",
    "        n=5\n",
    "        # Make sure events have been computed\n",
    "        if self.dimensionless_events == None:\n",
    "            self.create_dimensionless_events()\n",
    "        \n",
    "        # Make list of nparrays containing the values of the dimensionless curve\n",
    "        interpolated_events = [self.get_interpolated_event(event, n) for event in self.dimensionless_events]\n",
    "\n",
    "        # Assign to global value\n",
    "        self.interpolated_events = interpolated_events\n",
    " \n",
    "\n",
    "    def create_split_events(self):\n",
    "        n=5\n",
    "            \n",
    "        # Make sure events have been computed\n",
    "        if self.dimensionless_events == None:\n",
    "            self.create_dimensionless_events()\n",
    "        \n",
    "        # Make list of nparrays containing the values of the dimensionless curve\n",
    "        split_events = [self.get_split_event(event, n) for event in self.dimensionless_events]\n",
    "\n",
    "        # Assign to global value\n",
    "        self.interpolated_events = split_events\n",
    "\n",
    "\n",
    "    def get_dimensionless_curve(self,series):\n",
    "    \n",
    "        # Calculate cumulative rainfall\n",
    "        cumulative_rainfall = np.cumsum(series)\n",
    "        cumulative_rainfall = np.append([0],cumulative_rainfall)\n",
    "\n",
    "        # normalize\n",
    "        normalized_cumulative_rainfall = cumulative_rainfall/cumulative_rainfall[-1]\n",
    "\n",
    "        return normalized_cumulative_rainfall\n",
    "\n",
    "    \n",
    "    def get_interpolated_event(self, series, n):\n",
    "        # Calculate cumulative rainfall\n",
    "        normalized_cumulative_rainfall = series\n",
    "\n",
    "        # Define target points for bin_number bins\n",
    "        target_points = np.linspace(0, 1, n+1)\n",
    "\n",
    "        # Create interpolation function based on existing data points\n",
    "        rainfall_times = np.array(range(0, len(normalized_cumulative_rainfall)))\n",
    "\n",
    "        # Normalize time from 0 to 1\n",
    "        normalized_time = (rainfall_times - rainfall_times[0]) / (rainfall_times[-1] - rainfall_times[0])\n",
    "        interpolation_func = interp1d(normalized_time, normalized_cumulative_rainfall, kind='linear', fill_value=\"extrapolate\")\n",
    "\n",
    "        # Interpolate values at target points\n",
    "        interpolated_values = interpolation_func(target_points)\n",
    "    \n",
    "        return interpolated_values    \n",
    "\n",
    "        \n",
    "        \n",
    "    def return_specific_event(self,event_idx):\n",
    "\n",
    "        # Size of timesteps\n",
    "        time_delta = self.data.index[1] - self.data.index[0]\n",
    "        time_delta_minutes = time_delta.seconds / 60\n",
    "\n",
    "        # Extract event data\n",
    "        event = self.data.loc[self.events[event_idx][0]:self.events[event_idx][1]]\n",
    "\n",
    "        return event            \n",
    "    \n",
    "    def return_specific_dimensionless_event(self,event_idx):\n",
    "\n",
    "        # Size of timesteps\n",
    "        time_delta = self.data.index[1] - self.data.index[0]\n",
    "        time_delta_minutes = time_delta.seconds / 60\n",
    "        \n",
    "        # Extract event data\n",
    "        event = self.dimensionless_events[event_idx]\n",
    "\n",
    "        return event       \n",
    "    \n",
    "    def return_specific_interpolated_event(self,event_idx):\n",
    "        \n",
    "        # Extract event data\n",
    "        event = self.interpolated_events[event_idx]\n",
    "\n",
    "        return event     \n",
    "    \n",
    "    def return_specific_split_event(self,event_idx):\n",
    "        \n",
    "        # Extract event data\n",
    "        event = self.split_events[event_idx]\n",
    "\n",
    "        return event      "
   ]
  },
  {
   "cell_type": "code",
   "execution_count": 2,
   "id": "2cd1a4e3",
   "metadata": {},
   "outputs": [
    {
     "ename": "NameError",
     "evalue": "name 'precip_time_series' is not defined",
     "output_type": "error",
     "traceback": [
      "\u001b[0;31m---------------------------------------------------------------------------\u001b[0m",
      "\u001b[0;31mNameError\u001b[0m                                 Traceback (most recent call last)",
      "\u001b[0;32m/tmp/ipykernel_220930/2767908014.py\u001b[0m in \u001b[0;36m<module>\u001b[0;34m\u001b[0m\n\u001b[1;32m      1\u001b[0m \u001b[0;31m# Load the full time series from one rain gauge\u001b[0m\u001b[0;34m\u001b[0m\u001b[0;34m\u001b[0m\u001b[0;34m\u001b[0m\u001b[0m\n\u001b[0;32m----> 2\u001b[0;31m \u001b[0mts\u001b[0m \u001b[0;34m=\u001b[0m \u001b[0mprecip_time_series\u001b[0m\u001b[0;34m(\u001b[0m\u001b[0mraw_data_file\u001b[0m\u001b[0;34m)\u001b[0m\u001b[0;34m\u001b[0m\u001b[0;34m\u001b[0m\u001b[0m\n\u001b[0m\u001b[1;32m      3\u001b[0m \u001b[0;34m\u001b[0m\u001b[0m\n\u001b[1;32m      4\u001b[0m \u001b[0;31m# Pad and resample to 5minutes\u001b[0m\u001b[0;34m\u001b[0m\u001b[0;34m\u001b[0m\u001b[0;34m\u001b[0m\u001b[0m\n\u001b[1;32m      5\u001b[0m \u001b[0mts\u001b[0m\u001b[0;34m.\u001b[0m\u001b[0mpad_and_resample\u001b[0m\u001b[0;34m(\u001b[0m\u001b[0;34m'5min'\u001b[0m\u001b[0;34m)\u001b[0m\u001b[0;34m\u001b[0m\u001b[0;34m\u001b[0m\u001b[0m\n",
      "\u001b[0;31mNameError\u001b[0m: name 'precip_time_series' is not defined"
     ]
    }
   ],
   "source": [
    "# Path to data file\n",
    "raw_data_file = \"../Raw_data/minutdata_st535520_2024.xlsx\"\n",
    "\n",
    "# Load the full time series from one rain gauge\n",
    "ts = precip_time_series(raw_data_file)\n",
    " \n",
    "# Pad and resample to 5minutes\n",
    "ts.pad_and_resample('5min')\n",
    "\n",
    "# Split the time series into events\n",
    "ts.get_events()\n",
    "\n",
    "# Get dimensionless versions of events\n",
    "ts.create_dimensionless_events()\n",
    "\n",
    "# Get interpolated versions of events\n",
    "ts.create_interpolated_events()"
   ]
  },
  {
   "cell_type": "code",
   "execution_count": 7,
   "id": "0e4b4a16",
   "metadata": {},
   "outputs": [
    {
     "ename": "NameError",
     "evalue": "name 'ts' is not defined",
     "output_type": "error",
     "traceback": [
      "\u001b[0;31m---------------------------------------------------------------------------\u001b[0m",
      "\u001b[0;31mNameError\u001b[0m                                 Traceback (most recent call last)",
      "\u001b[0;32m/tmp/ipykernel_220930/2158898765.py\u001b[0m in \u001b[0;36m<module>\u001b[0;34m\u001b[0m\n\u001b[0;32m----> 1\u001b[0;31m \u001b[0mts\u001b[0m\u001b[0;34m.\u001b[0m\u001b[0mevents\u001b[0m\u001b[0;34m[\u001b[0m\u001b[0;36m1\u001b[0m\u001b[0;34m]\u001b[0m\u001b[0;34m\u001b[0m\u001b[0;34m\u001b[0m\u001b[0m\n\u001b[0m",
      "\u001b[0;31mNameError\u001b[0m: name 'ts' is not defined"
     ]
    }
   ],
   "source": [
    "ts.events[1]"
   ]
  },
  {
   "cell_type": "code",
   "execution_count": 151,
   "id": "9bc674ad",
   "metadata": {},
   "outputs": [],
   "source": [
    "## Get examples for one event\n",
    "event_idx  = 1\n",
    "event = ts.return_specific_event(event_idx)\n",
    "dimensionless_cumulative_event =  ts.return_specific_dimensionless_event(event_idx)\n",
    "interpolated_dimensionless_cumulative_event =  ts.return_specific_interpolated_event(event_idx)"
   ]
  },
  {
   "cell_type": "code",
   "execution_count": 157,
   "id": "37c2faaa",
   "metadata": {},
   "outputs": [
    {
     "data": {
      "image/png": "[encoded data removed]",
      "text/plain": [
       "<Figure size 360x864 with 4 Axes>"
      ]
     },
     "metadata": {
      "needs_background": "light"
     },
     "output_type": "display_data"
    }
   ],
   "source": [
    "fig, axs = plt.subplots(4, 1, figsize=(5, 12))  \n",
    "plt.subplots_adjust(hspace=0.5)\n",
    "\n",
    "# # Generate the various processed data.\n",
    "# cumulative_rainfall, cumulative_rainfall_times = create_cumulative_event(sample1)\n",
    "# dimensionless_cumulative_rainfall, dimensionless_times = create_dimensionless_event(cumulative_rainfall, cumulative_rainfall_times)\n",
    "# interpolated_n_cumulative_rainfall, interpolated_n_times = interpolate_rainfall(dimensionless_cumulative_rainfall, n)\n",
    "# interpolated_n_incremental_rainfall = create_incremental_event(interpolated_n_cumulative_rainfall)\n",
    "\n",
    "# Plot each element in its own axis.\n",
    "plot_raw_data(event['Nedbør (mm)'].values, axs[0])\n",
    "plot_dimensionless_cumulative(event['Nedbør (mm)'].values, dimensionless_cumulative_event, axs[1], False)\n",
    "plot_dimensionless_cumulative(event['Nedbør (mm)'].values, dimensionless_cumulative_event, axs[2], boundaries_boolean =True)\n",
    "plot_interpolated_cumulative(interpolated_dimensionless_cumulative_event, axs[3])\n",
    "# plot_incremental_rainfall(interpolated_n_incremental_rainfall, axs[4], labels=labels)\n",
    "\n",
    "# Adjust tick parameters for all subplots.\n",
    "for ax in axs:\n",
    "    ax.tick_params(axis='both', labelsize=14)"
   ]
  },
  {
   "cell_type": "code",
   "execution_count": 6,
   "id": "04484475",
   "metadata": {},
   "outputs": [
    {
     "ename": "NameError",
     "evalue": "name 'precip_time_series' is not defined",
     "output_type": "error",
     "traceback": [
      "\u001b[0;31m---------------------------------------------------------------------------\u001b[0m",
      "\u001b[0;31mNameError\u001b[0m                                 Traceback (most recent call last)",
      "\u001b[0;32m/tmp/ipykernel_220930/3700176375.py\u001b[0m in \u001b[0;36m<module>\u001b[0;34m\u001b[0m\n\u001b[1;32m      5\u001b[0m \u001b[0;34m\u001b[0m\u001b[0m\n\u001b[1;32m      6\u001b[0m \u001b[0;34m\u001b[0m\u001b[0m\n\u001b[0;32m----> 7\u001b[0;31m \u001b[0;32mclass\u001b[0m \u001b[0mrainfall_analysis\u001b[0m\u001b[0;34m:\u001b[0m\u001b[0;34m\u001b[0m\u001b[0;34m\u001b[0m\u001b[0m\n\u001b[0m\u001b[1;32m      8\u001b[0m     \u001b[0;32mdef\u001b[0m \u001b[0m__init__\u001b[0m\u001b[0;34m(\u001b[0m\u001b[0mself\u001b[0m\u001b[0;34m,\u001b[0m\u001b[0mts\u001b[0m\u001b[0;34m:\u001b[0m \u001b[0mprecip_time_series\u001b[0m\u001b[0;34m)\u001b[0m\u001b[0;34m:\u001b[0m\u001b[0;34m\u001b[0m\u001b[0;34m\u001b[0m\u001b[0m\n\u001b[1;32m      9\u001b[0m         \u001b[0mself\u001b[0m\u001b[0;34m.\u001b[0m\u001b[0mts\u001b[0m \u001b[0;34m=\u001b[0m \u001b[0mts\u001b[0m\u001b[0;34m\u001b[0m\u001b[0;34m\u001b[0m\u001b[0m\n",
      "\u001b[0;32m/tmp/ipykernel_220930/3700176375.py\u001b[0m in \u001b[0;36mrainfall_analysis\u001b[0;34m()\u001b[0m\n\u001b[1;32m      6\u001b[0m \u001b[0;34m\u001b[0m\u001b[0m\n\u001b[1;32m      7\u001b[0m \u001b[0;32mclass\u001b[0m \u001b[0mrainfall_analysis\u001b[0m\u001b[0;34m:\u001b[0m\u001b[0;34m\u001b[0m\u001b[0;34m\u001b[0m\u001b[0m\n\u001b[0;32m----> 8\u001b[0;31m     \u001b[0;32mdef\u001b[0m \u001b[0m__init__\u001b[0m\u001b[0;34m(\u001b[0m\u001b[0mself\u001b[0m\u001b[0;34m,\u001b[0m\u001b[0mts\u001b[0m\u001b[0;34m:\u001b[0m \u001b[0mprecip_time_series\u001b[0m\u001b[0;34m)\u001b[0m\u001b[0;34m:\u001b[0m\u001b[0;34m\u001b[0m\u001b[0;34m\u001b[0m\u001b[0m\n\u001b[0m\u001b[1;32m      9\u001b[0m         \u001b[0mself\u001b[0m\u001b[0;34m.\u001b[0m\u001b[0mts\u001b[0m \u001b[0;34m=\u001b[0m \u001b[0mts\u001b[0m\u001b[0;34m\u001b[0m\u001b[0;34m\u001b[0m\u001b[0m\n\u001b[1;32m     10\u001b[0m         \u001b[0mself\u001b[0m\u001b[0;34m.\u001b[0m\u001b[0mmetrics\u001b[0m \u001b[0;34m=\u001b[0m \u001b[0;34m{\u001b[0m\u001b[0;34m}\u001b[0m\u001b[0;34m\u001b[0m\u001b[0;34m\u001b[0m\u001b[0m\n",
      "\u001b[0;31mNameError\u001b[0m: name 'precip_time_series' is not defined"
     ]
    }
   ],
   "source": [
    "\n",
    "# =========================================================\n",
    "# Funtions\n",
    "# =========================================================\n",
    "\n",
    "\n",
    "\n",
    "class rainfall_analysis:\n",
    "    def __init__(self,ts: precip_time_series):\n",
    "        self.ts = ts\n",
    "        self.metrics = {} \n",
    "        \n",
    "        # Prepere ts for analysis\n",
    "        if not self.ts.padded:\n",
    "            ts.pad_and_resample()\n",
    "\n",
    "        if ts.events == None:\n",
    "            ts.get_events()\n",
    "        \n",
    "        if ts.dimensioneless_curves == None:\n",
    "            ts.create_dimensioneless_curves()\n",
    "\n",
    "\n",
    "#     def huff_quantile(self,ts):\n",
    "      \n",
    "#         sums = self.split_ts_sum(ts,4)\n",
    "\n",
    "#         quantile = np.argmax(sums)+1\n",
    "\n",
    "#         return quantile\n",
    "\n",
    "    def interpolate_rainfall(self, ts, bin_number):\n",
    "        if rainfall is None or len(ts) < 2:\n",
    "            return None\n",
    "\n",
    "        # Define target points for bin_number bins\n",
    "        target_points = np.linspace(0, 1, bin_number+1)\n",
    "\n",
    "        # Create interpolation function based on existing data points\n",
    "        rainfall_times = np.array(range(0, len(ts)))\n",
    "\n",
    "        # Normalize time from 0 to 1\n",
    "        normalized_time = (rainfall_times - rainfall_times[0]) / (rainfall_times[-1] - rainfall_times[0])\n",
    "        interpolation_func = interp1d(normalized_time, ts, kind='linear', fill_value=\"extrapolate\")\n",
    "\n",
    "        # Interpolate values at target points\n",
    "        interpolated_values = interpolation_func(target_points)\n",
    "\n",
    "        return interpolated_values, target_points    \n",
    "\n",
    "\n",
    "    def get_metrics(self):\n",
    "\n",
    "        padded_precip = self.ts.data\n",
    "        events_list = self.ts.events\n",
    "        \n",
    "        print(events_list)\n",
    "\n",
    "        # resolution    \n",
    "        time_delta = padded_precip.index[1]-padded_precip.index[0]\n",
    "        time_delta_minuts = time_delta.seconds/60\n",
    "\n",
    "        #####################################\n",
    "        # Rainfall metrics\n",
    "        #####################################\n",
    "\n",
    "        # huff quantiles\n",
    "        self.metrics[\"huff_quantile\"] = np.array([[self.huff_quantile(padded_precip[event[0]:event[1]])] for event in events_list])\n",
    "\n",
    "\n",
    "\n"
   ]
  },
  {
   "cell_type": "code",
   "execution_count": 6,
   "id": "0316b4f3",
   "metadata": {},
   "outputs": [
    {
     "name": "stderr",
     "output_type": "stream",
     "text": [
      "100%|████████████████████████████████████████████████████████████████████████████████████████████████████████████████████████| 25604/25604 [00:03<00:00, 6801.38it/s]\n"
     ]
    }
   ],
   "source": [
    "# =========================================================\n",
    "# Input\n",
    "# =========================================================\n",
    "\n",
    "# Path to data file\n",
    "raw_data_file =  \"/nfs/a319/gy17m2a/PhD/datadir/DanishRainData/Sample1.csv\"\n",
    "\n",
    "# =========================================================\n",
    "# Script\n",
    "# =========================================================\n",
    "\n",
    "# Load ts\n",
    "ts = precip_time_series(raw_data_file)\n",
    "\n",
    "# pad and resample \n",
    "ts.pad_and_resample('5min')\n",
    "\n",
    "# Get filtered events\n",
    "#ts.get_events()\n",
    "\n",
    "# Get dimensioneless curves\n",
    "#ts.create_dimensioneless_curves()\n",
    "\n",
    "# # Analysis\n",
    "analysis = rainfall_analysis(ts)\n"
   ]
  },
  {
   "cell_type": "code",
   "execution_count": 141,
   "id": "f7525ae8",
   "metadata": {},
   "outputs": [
    {
     "ename": "TypeError",
     "evalue": "split_ts_sum() missing 2 required positional arguments: 'ts' and 'num'",
     "output_type": "error",
     "traceback": [
      "\u001b[0;31m---------------------------------------------------------------------------\u001b[0m",
      "\u001b[0;31mTypeError\u001b[0m                                 Traceback (most recent call last)",
      "\u001b[0;32m/tmp/ipykernel_167623/2266890754.py\u001b[0m in \u001b[0;36m<module>\u001b[0;34m\u001b[0m\n\u001b[1;32m      1\u001b[0m \u001b[0;31m# Plot a specific event, e.g., the first one with 4 splits\u001b[0m\u001b[0;34m\u001b[0m\u001b[0;34m\u001b[0m\u001b[0;34m\u001b[0m\u001b[0m\n\u001b[0;32m----> 2\u001b[0;31m \u001b[0manalysis\u001b[0m\u001b[0;34m.\u001b[0m\u001b[0msplit_ts_sum\u001b[0m\u001b[0;34m(\u001b[0m\u001b[0mevent_idx\u001b[0m\u001b[0;34m=\u001b[0m\u001b[0;36m1\u001b[0m\u001b[0;34m)\u001b[0m\u001b[0;34m\u001b[0m\u001b[0;34m\u001b[0m\u001b[0m\n\u001b[0m\u001b[1;32m      3\u001b[0m \u001b[0manalysis\u001b[0m\u001b[0;34m.\u001b[0m\u001b[0mplot_stored_event\u001b[0m\u001b[0;34m(\u001b[0m\u001b[0mevent_idx\u001b[0m\u001b[0;34m=\u001b[0m\u001b[0;36m1\u001b[0m\u001b[0;34m)\u001b[0m\u001b[0;34m\u001b[0m\u001b[0;34m\u001b[0m\u001b[0m\n",
      "\u001b[0;31mTypeError\u001b[0m: split_ts_sum() missing 2 required positional arguments: 'ts' and 'num'"
     ]
    }
   ],
   "source": []
  },
  {
   "cell_type": "code",
   "execution_count": 16,
   "id": "302f9017",
   "metadata": {},
   "outputs": [],
   "source": [
    "# ts.dimensioneless_curves[1]"
   ]
  },
  {
   "cell_type": "markdown",
   "id": "07c794a9",
   "metadata": {},
   "source": [
    "### Compute metrics"
   ]
  },
  {
   "cell_type": "code",
   "execution_count": 91,
   "id": "fa9940c3",
   "metadata": {},
   "outputs": [],
   "source": [
    "analysis.get_metrics()"
   ]
  },
  {
   "cell_type": "markdown",
   "id": "c5058db9",
   "metadata": {},
   "source": [
    "### See all the metrics"
   ]
  },
  {
   "cell_type": "code",
   "execution_count": 92,
   "id": "f18af01e",
   "metadata": {},
   "outputs": [
    {
     "data": {
      "text/plain": [
       "dict_keys(['huff_quantile'])"
      ]
     },
     "execution_count": 92,
     "metadata": {},
     "output_type": "execute_result"
    }
   ],
   "source": [
    "analysis.metrics.keys()"
   ]
  },
  {
   "cell_type": "markdown",
   "id": "5149e948",
   "metadata": {},
   "source": [
    "### See all the values for one metric"
   ]
  },
  {
   "cell_type": "code",
   "execution_count": 84,
   "id": "fa5da906",
   "metadata": {},
   "outputs": [
    {
     "data": {
      "text/plain": [
       "array([0.02, 0.1 , 0.04, 0.06, 0.12, 0.08, 0.1 , 0.08, 0.08, 0.18, 0.1 ,\n",
       "       0.04, 0.04, 0.04, 0.08, 0.04, 0.06, 0.08, 0.1 , 0.1 , 0.1 , 0.06,\n",
       "       0.06, 0.08, 0.1 , 0.06, 0.08, 0.84, 1.04, 0.2 , 0.14, 0.06, 0.12,\n",
       "       0.34, 0.1 , 0.1 , 0.08, 0.08, 0.46, 0.28, 0.08, 0.18, 0.2 , 0.1 ,\n",
       "       0.7 , 0.08, 1.62])"
      ]
     },
     "execution_count": 84,
     "metadata": {},
     "output_type": "execute_result"
    }
   ],
   "source": [
    "analysis.metrics['max_intensity']"
   ]
  },
  {
   "cell_type": "markdown",
   "id": "cffc49b2",
   "metadata": {},
   "source": [
    "### Bla"
   ]
  },
  {
   "cell_type": "code",
   "execution_count": 35,
   "id": "dd9748ca",
   "metadata": {},
   "outputs": [
    {
     "data": {
      "text/plain": [
       "34"
      ]
     },
     "execution_count": 35,
     "metadata": {},
     "output_type": "execute_result"
    }
   ],
   "source": [
    "event_idx = 7\n",
    "event = ts.return_specific_event(event_idx)\n",
    "len(event)"
   ]
  },
  {
   "cell_type": "code",
   "execution_count": 38,
   "id": "21528fe9",
   "metadata": {},
   "outputs": [
    {
     "data": {
      "image/png": "[encoded data removed]",
      "text/plain": [
       "<Figure size 432x288 with 1 Axes>"
      ]
     },
     "metadata": {
      "needs_background": "light"
     },
     "output_type": "display_data"
    }
   ],
   "source": [
    "ts.plot_specific_dimensioneless_curve(7)"
   ]
  },
  {
   "cell_type": "code",
   "execution_count": 88,
   "id": "c98d8aa6",
   "metadata": {},
   "outputs": [
    {
     "data": {
      "text/plain": [
       "2025-01-01 00:00:00    1.097627\n",
       "2025-01-01 00:05:00    1.430379\n",
       "2025-01-01 00:10:00    1.205527\n",
       "2025-01-01 00:15:00    1.089766\n",
       "2025-01-01 00:20:00    0.847310\n",
       "2025-01-01 00:25:00    1.291788\n",
       "2025-01-01 00:30:00    0.875174\n",
       "2025-01-01 00:35:00    1.783546\n",
       "2025-01-01 00:40:00    1.927326\n",
       "2025-01-01 00:45:00    0.766883\n",
       "2025-01-01 00:50:00    1.583450\n",
       "2025-01-01 00:55:00    1.057790\n",
       "2025-01-01 01:00:00    1.136089\n",
       "2025-01-01 01:05:00    1.851193\n",
       "2025-01-01 01:10:00    0.142072\n",
       "2025-01-01 01:15:00    0.174259\n",
       "2025-01-01 01:20:00    0.040437\n",
       "2025-01-01 01:25:00    1.665240\n",
       "2025-01-01 01:30:00    1.556314\n",
       "2025-01-01 01:35:00    1.740024\n",
       "2025-01-01 01:40:00    1.957237\n",
       "2025-01-01 01:45:00    1.598317\n",
       "2025-01-01 01:50:00    0.922959\n",
       "2025-01-01 01:55:00    1.561058\n",
       "Freq: 5T, dtype: float64"
      ]
     },
     "execution_count": 88,
     "metadata": {},
     "output_type": "execute_result"
    }
   ],
   "source": []
  }
 ],
 "metadata": {
  "kernelspec": {
   "display_name": "Python 3 (ipykernel)",
   "language": "python",
   "name": "python3"
  },
  "language_info": {
   "codemirror_mode": {
    "name": "ipython",
    "version": 3
   },
   "file_extension": ".py",
   "mimetype": "text/x-python",
   "name": "python",
   "nbconvert_exporter": "python",
   "pygments_lexer": "ipython3",
   "version": "3.7.13"
  }
 },
 "nbformat": 4,
 "nbformat_minor": 5
}
