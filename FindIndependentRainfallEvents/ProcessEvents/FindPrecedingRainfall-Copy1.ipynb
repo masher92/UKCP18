version https://git-lfs.github.com/spec/v1
oid sha256:27f4152e2f53fb1be071d096f7cb115b7e6f9df2c714c1d172ee27ee77fd0719
size 7551
