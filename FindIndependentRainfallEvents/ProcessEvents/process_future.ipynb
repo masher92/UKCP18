{
 "cells": [
  {
   "cell_type": "code",
   "execution_count": 15,
   "id": "4651eb21",
   "metadata": {},
   "outputs": [],
   "source": [
    "import os\n",
    "import numpy as np\n",
    "import re\n",
    "import pickle\n",
    "import sys\n",
    "\n",
    "import geopandas as gpd\n",
    "import pandas as pd\n",
    "from shapely.geometry import Point\n",
    "\n",
    "from ProcessEventsFunctions import *\n",
    "# from Convert_to_Profiles_Functions import *\n",
    "# from Get_Events_Functions import *\n",
    "\n",
    "sys.path.insert(1, 'Old')\n",
    "from Steef_Functions import *\n",
    "\n",
    "home_dir = '/nfs/a319/gy17m2a/PhD/'\n",
    "home_dir2 = '/nfs/a161/gy17m2a/PhD/'"
   ]
  },
  {
   "cell_type": "code",
   "execution_count": 22,
   "id": "72899f0a",
   "metadata": {},
   "outputs": [],
   "source": [
    "with open(home_dir +  f\"ProcessedData/AMAX_Events/UKCP18_30mins/Future/event_props_dict_future_new.pickle\", 'rb') as handle:\n",
    "    events_props_dict_future = pickle.load(handle)\n",
    "    \n",
    "# # with open(home_dir +  f\"ProcessedData/AMAX_Events/UKCP18_30mins/Future/event_profiles_dict_future.pickle\", 'rb') as handle:\n",
    "# #     event_profiles_dict_future = pickle.load(handle)    \n",
    "    \n",
    "# with open(home_dir +  f\"ProcessedData/AMAX_Events/UKCP18_30mins/Future/events_dict_future_new.pickle\", 'rb') as handle:\n",
    "#     events_dict_future = pickle.load(handle)        "
   ]
  },
  {
   "cell_type": "code",
   "execution_count": 24,
   "id": "bc8ba515",
   "metadata": {},
   "outputs": [],
   "source": [
    "events_props_dict_future_trim = [d for d in events_props_dict_future if d.get('em') != 'bb192']"
   ]
  },
  {
   "cell_type": "code",
   "execution_count": 4,
   "id": "54a44a24",
   "metadata": {},
   "outputs": [],
   "source": [
    "tbo_vals = pd.read_csv(home_dir + 'datadir/RainGauge/interarrival_thresholds_CDD_noMissing.txt')\n",
    "# tbo_vals = tbo_vals[tbo_vals['Lon']!=-999.0]\n",
    "# Check if the points are within the areas\n",
    "tbo_vals = check_for_gauge_in_areas(tbo_vals, home_dir, ['NW', 'NE', 'ME', 'SE', 'SW'])\n",
    "tbo_vals.loc[tbo_vals['within_area'] == 'NW, C', 'within_area'] = 'NW'\n",
    "tbo_vals.loc[tbo_vals['within_area'] == 'ME, SE', 'within_area'] = 'ME'"
   ]
  },
  {
   "cell_type": "code",
   "execution_count": 6,
   "id": "a84bcdc7",
   "metadata": {},
   "outputs": [],
   "source": [
    "ems_future = ['bb225']"
   ]
  },
  {
   "cell_type": "code",
   "execution_count": 9,
   "id": "82a56259",
   "metadata": {},
   "outputs": [],
   "source": [
    "def process_events_alltogether(home_dir, time_period, ems, tb0_vals, save_dir):\n",
    "    events_dict = {}\n",
    "    event_props_ls = events_props_dict_future\n",
    "    event_profiles_dict = {}\n",
    "    print(len(event_props_ls))\n",
    "\n",
    "    for em in ems:\n",
    "        print(em)\n",
    "        this_em = []\n",
    "        \n",
    "        for gauge_num in range(0, 1294):\n",
    "            if gauge_num not in [444, 827, 888]:\n",
    "                if gauge_num % 100 == 0:\n",
    "                    print(f\"Processing gauge {gauge_num}\")\n",
    "                indy_events_fp = home_dir + f\"ProcessedData/IndependentEvents/UKCP18_30mins/{time_period}/{em}/{gauge_num}/WholeYear/\"\n",
    "\n",
    "                files = [f for f in os.listdir(indy_events_fp) if f.endswith('.csv')]\n",
    "                files = np.sort(files)\n",
    "\n",
    "                for event_num, file in enumerate(files):\n",
    "                    fp = indy_events_fp + f\"{file}\"\n",
    "                    if '2080' in fp:\n",
    "                        continue\n",
    "                    try:\n",
    "                        # Get event\n",
    "                        this_event = read_event(gauge_num, fp)\n",
    "\n",
    "                        # Get times and precipitation values\n",
    "                        event_times = this_event['times']\n",
    "                        event_precip = this_event['precipitation (mm)']\n",
    "\n",
    "                        # Apply the function to adjust the dates in the 'times' column\n",
    "                        event_times_fixed = event_times.apply(adjust_feb_dates)\n",
    "\n",
    "                        # Create the DataFrame with corrected times\n",
    "                        event_df = pd.DataFrame({'precipitation (mm)': event_precip, 'times': event_times_fixed})\n",
    "\n",
    "                        # Create characteristics dictionary\n",
    "                        event_props = create_event_characteristics_dict(event_df)\n",
    "\n",
    "                        # Add the duration\n",
    "                        event_props['dur_for_which_this_is_amax'] = get_dur_for_which_this_is_amax(fp)\n",
    "                        # Add gauge number and ensemble member\n",
    "                        event_props['gauge_num'] = gauge_num\n",
    "                        event_props['area'] = tb0_vals.iloc[gauge_num]['within_area']\n",
    "                        event_props['em'] = em\n",
    "                        event_props['filename'] = file\n",
    "\n",
    "#                         event_profiles = create_profiles_dict(event_df)\n",
    "\n",
    "#                         events_dict[f\"{em}, {gauge_num}, {event_num}\"] = event_df\n",
    "                        event_props_ls.append(event_props)\n",
    "                        this_em.append(event_props)\n",
    "#                         event_profiles_dict[f\"{em}, {gauge_num}, {event_num}\"] = event_profiles\n",
    "                    except:\n",
    "                        print(fp)\n",
    "                        \n",
    "        print(f\"Finished {em}, {len(this_em)}\")           \n",
    "        \n",
    "#         with open(save_dir + f\"ProcessedData/AMAX_Events/UKCP18_30mins/Future/events_dict_future_new.pickle\", 'wb') as handle:\n",
    "#             pickle.dump(events_dict, handle, protocol=pickle.HIGHEST_PROTOCOL)\n",
    "\n",
    "#         with open(save_dir + f\"ProcessedData/AMAX_Events/UKCP18_30mins/Future/event_profiles_dict_future_new.pickle\", 'wb') as handle:\n",
    "#             pickle.dump(event_profiles_dict, handle, protocol=pickle.HIGHEST_PROTOCOL)\n",
    "\n",
    "        with open(save_dir + f\"ProcessedData/AMAX_Events/UKCP18_30mins/Future/event_props_dict_future_new.pickle\", 'wb') as handle:\n",
    "            pickle.dump(event_props_ls, handle, protocol=pickle.HIGHEST_PROTOCOL)                       \n",
    "\n",
    "    return events_dict, event_props_ls, event_profiles_dict"
   ]
  },
  {
   "cell_type": "code",
   "execution_count": 24,
   "id": "d69e72c1",
   "metadata": {},
   "outputs": [],
   "source": [
    "# # Now you can call the function for both time periods\n",
    "events_dict_future, event_props_dict_future, event_profiles_dict_future = process_events_alltogether(home_dir2, 'Future',ems_future, tbo_vals, home_dir)\n",
    "\n",
    "# with open(home_dir + f\"ProcessedData/AMAX_Events/UKCP18_30mins/Future/events_dict_future.pickle\", 'wb') as handle:\n",
    "#     pickle.dump(events_dict_future, handle, protocol=pickle.HIGHEST_PROTOCOL)\n",
    "\n",
    "# with open(home_dir + f\"ProcessedData/AMAX_Events/UKCP18_30mins/Future/event_profiles_dict_future\", 'wb') as handle:\n",
    "#     pickle.dump(event_profiles_dict_future, handle, protocol=pickle.HIGHEST_PROTOCOL)\n",
    "\n",
    "# with open(home_dir + f\"ProcessedData/AMAX_Events/UKCP18_30mins/Future/event_props_dict_future.pickle\", 'wb') as handle:\n",
    "#     pickle.dump(event_props_dict_future, handle, protocol=pickle.HIGHEST_PROTOCOL)            \n"
   ]
  },
  {
   "cell_type": "code",
   "execution_count": 19,
   "id": "16c6732e",
   "metadata": {},
   "outputs": [],
   "source": [
    "with open(home_dir + f\"ProcessedData/AMAX_Events/UKCP18_30mins/Future/event_props_dict_future_new.pickle\", 'wb') as handle:\n",
    "    pickle.dump(event_props_ls, handle, protocol=pickle.HIGHEST_PROTOCOL)         "
   ]
  },
  {
   "cell_type": "markdown",
   "id": "c782a6dc",
   "metadata": {},
   "source": [
    "### Check if there are the right number of events for em BB192"
   ]
  }
 ],
 "metadata": {
  "kernelspec": {
   "display_name": "Python 3 (ipykernel)",
   "language": "python",
   "name": "python3"
  },
  "language_info": {
   "codemirror_mode": {
    "name": "ipython",
    "version": 3
   },
   "file_extension": ".py",
   "mimetype": "text/x-python",
   "name": "python",
   "nbconvert_exporter": "python",
   "pygments_lexer": "ipython3",
   "version": "3.7.13"
  }
 },
 "nbformat": 4,
 "nbformat_minor": 5
}
