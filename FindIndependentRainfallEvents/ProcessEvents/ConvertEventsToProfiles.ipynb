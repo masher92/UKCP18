{
 "cells": [
  {
   "cell_type": "code",
   "execution_count": 41,
   "id": "e4d38833",
   "metadata": {},
   "outputs": [],
   "source": [
    "import numpy as np\n",
    "import matplotlib.pyplot as plt\n",
    "import pickle\n",
    "import os\n",
    "import pandas as pd\n",
    "import re\n",
    "from datetime import datetime\n",
    "import sys \n",
    "\n",
    "quintile_mapping = {1: 'F2', 2: 'F1', 3: 'C', 4: 'B1', 5: 'B2'}\n",
    "\n",
    "from Convert_to_Profiles_Functions import *\n",
    "from Get_Events_Functions import *\n",
    "\n",
    "gauge_nums = range(0,1294)\n",
    "em ='bb216'\n",
    "time_period='Future'"
   ]
  },
  {
   "cell_type": "code",
   "execution_count": 40,
   "id": "6863c802",
   "metadata": {},
   "outputs": [
    {
     "name": "stdout",
     "output_type": "stream",
     "text": [
      "bb216\n"
     ]
    }
   ],
   "source": [
    "for em in ['bb216']:\n",
    "    print(em)\n",
    "    base_fp = f\"/nfs/a161/gy17m2a/PhD/ProcessedData/\"\n",
    "    if em == 'nimrod':\n",
    "        profiles_fp = f\"/nfs/a319/gy17m2a/PhD/ProcessedData/Profiles/NIMROD_30mins/WholeYear/\"\n",
    "    else:\n",
    "        profiles_fp = f\"/nfs/a319/gy17m2a/PhD/ProcessedData/Profiles/UKCP18_30mins/{time_period}/{em}/\"\n",
    "\n",
    "    with open(profiles_fp + \"df.pkl\", 'rb') as file:\n",
    "        df =pickle.load(file)\n",
    "\n",
    "    # Create version without nulls    \n",
    "    df_withoutnulls = df[df['precip'].notnull()].copy()       \n",
    "\n",
    "    df_withoutnulls[['dimensionless_cumulative_rainfall', 'dimensionless_cumulative_times']] = df_withoutnulls['precip'].apply(create_huff_curves).apply(pd.Series)\n",
    "    df_withoutnulls[['interpolated_cumulative_rainfall', 'interpolated_times']] = df_withoutnulls['dimensionless_cumulative_rainfall'].apply(lambda x: interpolate_rainfall(x,12)).apply(pd.Series)\n",
    "    df_withoutnulls[['irain_14vals', 'iran_times_14vals']] = df_withoutnulls['interpolated_cumulative_rainfall'].apply(lambda x: create_irain_profile(x, True)).apply(pd.Series)\n",
    "    df_withoutnulls[['irain', 'iran_times']] = df_withoutnulls['interpolated_cumulative_rainfall'].apply(lambda x: create_irain_profile(x, False)).apply(pd.Series)\n",
    "\n",
    "    # # Add quintile cats\n",
    "    df_withoutnulls['max_quintile_molly'] = df_withoutnulls['precip'].apply(find_max_quintile)\n",
    "    df_withoutnulls['max_quintile_steef'] = df_withoutnulls['precip'].apply(analyse_event)\n",
    "    df_withoutnulls['max_quintile_raw_rain'] = df_withoutnulls['precip'].apply(lambda x: find_part_with_most_rain(x, 5))\n",
    "    df_withoutnulls[['max_quintile_steef', 'irain_profile_12_Steef']] = df_withoutnulls['precip'].apply(lambda x: pd.Series(analyse_event(x)))\n",
    "\n",
    "    # Add loading cats\n",
    "    df_withoutnulls['Loading_profile_raw_rain'] = df_withoutnulls['max_quintile_raw_rain'].map(quintile_mapping)\n",
    "    df_withoutnulls['Loading_profile_molly'] =df_withoutnulls['max_quintile_molly'].map(quintile_mapping)\n",
    "    df_withoutnulls['Loading_profile_steef'] =df_withoutnulls['max_quintile_steef'].map(quintile_mapping)\n",
    "\n",
    "    # Save\n",
    "    with open(profiles_fp + \"df_nonulls.pkl\", 'wb') as file:\n",
    "        pickle.dump(df_withoutnulls, file)    \n",
    "\n",
    "    with open(profiles_fp + \"df.pkl\", 'wb') as file:\n",
    "        pickle.dump(df, file)  "
   ]
  }
 ],
 "metadata": {
  "kernelspec": {
   "display_name": "Python 3 (ipykernel)",
   "language": "python",
   "name": "python3"
  },
  "language_info": {
   "codemirror_mode": {
    "name": "ipython",
    "version": 3
   },
   "file_extension": ".py",
   "mimetype": "text/x-python",
   "name": "python",
   "nbconvert_exporter": "python",
   "pygments_lexer": "ipython3",
   "version": "3.7.13"
  }
 },
 "nbformat": 4,
 "nbformat_minor": 5
}
