{
 "cells": [
  {
   "cell_type": "markdown",
   "id": "7088dc08",
   "metadata": {},
   "source": [
    "## My functions"
   ]
  },
  {
   "cell_type": "code",
   "execution_count": 515,
   "id": "9a476cc8",
   "metadata": {},
   "outputs": [],
   "source": [
    "def interpolate_rainfall(rainfall, bin_number):\n",
    "    if rainfall is None or len(rainfall) < 2:\n",
    "        return None\n",
    "\n",
    "    # Define target points for bin_number bins\n",
    "    target_points = np.linspace(0, 1, bin_number+1)\n",
    "    \n",
    "    # Create interpolation function based on existing data points\n",
    "    rainfall_times = np.array(range(0, len(rainfall)))\n",
    "\n",
    "    # Normalize time from 0 to 1\n",
    "    normalized_time = (rainfall_times - rainfall_times[0]) / (rainfall_times[-1] - rainfall_times[0])\n",
    "    interpolation_func = interp1d(normalized_time, rainfall, kind='linear', fill_value=\"extrapolate\")\n",
    "    \n",
    "    # Interpolate values at target points\n",
    "    interpolated_values = interpolation_func(target_points)\n",
    "    \n",
    "    return interpolated_values, target_points\n",
    "\n",
    "def create_cumulative_event(rainfall, interval=0.5):\n",
    "    if rainfall is None:\n",
    "        return None, None\n",
    "    \n",
    "    # Calculate cumulative rainfall\n",
    "    cumulative_rainfall = np.cumsum(rainfall)\n",
    "    cumulative_rainfall = [0] + cumulative_rainfall\n",
    "    \n",
    "    # Generate corresponding time points\n",
    "    time_points = np.arange(0, len(rainfall) + 1) * interval\n",
    "    \n",
    "    return  [0] + cumulative_rainfall.tolist(), time_points.tolist()\n",
    "\n",
    "def create_dimensionless_event(cumulative_rainfall, cumulative_rainfall_times):\n",
    "\n",
    "    # Step 3: Normalize the cumulative rainfall by the total event depth\n",
    "    total_event_depth = cumulative_rainfall[-1]\n",
    "    normalized_cumulative_rainfall = np.array(cumulative_rainfall) / total_event_depth\n",
    "\n",
    "#     # Step 4: Calculate the cumulative event duration\n",
    "#     # Since each time step is 30 minutes, we multiply the index by 0.5 (for hours)\n",
    "#     time_step = 0.5  # 30 minutes = 0.5 hours\n",
    "#     cumulative_duration = np.arange(1, len(cumulative_rainfall) + 1) * time_step\n",
    "    \n",
    "#     # Step 5: Normalize the cumulative duration by the total event duration\n",
    "#     total_event_duration = cumulative_duration[-1]\n",
    "#     normalized_cumulative_duration = cumulative_duration / total_event_duration\n",
    "\n",
    "    total_event_time = cumulative_rainfall_times[-1]\n",
    "    normalized_cumulative_rainfall_times = np.array(cumulative_rainfall_times) / total_event_time\n",
    "    normalized_cumulative_rainfall_times\n",
    "    \n",
    "    return normalized_cumulative_rainfall, normalized_cumulative_rainfall_times\n",
    "\n",
    "\n",
    "def find_intensity_as_proportion_of_mean_event(incremental_rainfall):\n",
    "    mean_over_event = np.mean(incremental_rainfall)\n",
    "    irain = incremental_rainfall/np.mean(incremental_rainfall)\n",
    "    return irain\n",
    "\n",
    "\n",
    "def create_incremental_event(cumulative_rainfall):\n",
    "    if cumulative_rainfall is None :\n",
    "        return None\n",
    "    raw_rainfall = np.diff(cumulative_rainfall, prepend=0)\n",
    "    return raw_rainfall[1:]"
   ]
  },
  {
   "cell_type": "markdown",
   "id": "f8f88a65",
   "metadata": {},
   "source": [
    "## Steef's functions"
   ]
  },
  {
   "cell_type": "code",
   "execution_count": 511,
   "id": "733c51ff",
   "metadata": {},
   "outputs": [],
   "source": [
    "import numpy as np\n",
    "import matplotlib.pyplot as plt\n",
    "import os\n",
    "\n",
    "from Create_Profiles_Functions import *\n",
    "\n",
    "def get_normalised_intensity(array_in, len_out):\n",
    "    len_in = len(array_in)\n",
    "    # Calculates the total accumulated value at each original point\n",
    "    # Adds a zero at the start of the array\n",
    "    csum = np.cumsum(np.hstack((np.array([0.0]), array_in)))\n",
    "    # Normalise accumulation to 0 to 1\n",
    "    csum = csum / csum[-1]\n",
    "    # Array going from 0 up to 1: normalised time\n",
    "    # corresponding to these points\n",
    "    normalised_time_in = np.arange(len_in + 1) / (1.0 * len_in)\n",
    "    # Array of the \"time points\" corresponding to\n",
    "    # Boundaries of output intervals\n",
    "    normalised_time_out = np.arange(len_out + 1) / (1.0 * len_out)\n",
    "    # Interpolate total accumulated value to desired output points\n",
    "    csum_out = np.interp(normalised_time_out, normalised_time_in, csum)\n",
    "    # Interpolate back to accumulations over the desired number of intervals\n",
    "    # Scale with the number of points to normalise\n",
    "    normalised_intensity = (csum_out[1:] - csum_out[:-1]) * len_out\n",
    "    return normalised_intensity\n",
    "\n",
    "def get_normalised_intensity_mine(array_in, len_out):\n",
    "    len_in = len(array_in)\n",
    "    \n",
    "    ############### Same as create cumulative event\n",
    "    # Calculates the total accumulated value at each original point\n",
    "    # Adds a zero at the start of the array\n",
    "    csum = np.cumsum(np.hstack((np.array([0.0]), array_in)))\n",
    "    ###############\n",
    "\n",
    "    ############### Same as create_dimensionless_event\n",
    "    # Normalise accumulation to 0 to 1\n",
    "    csum = csum / csum[-1]\n",
    "    # Array going from 0 up to 1: normalised time\n",
    "    # corresponding to these points\n",
    "    normalised_time_in = np.arange(len_in + 1) / (1.0 * len_in)\n",
    "    ###############\n",
    "\n",
    "    ############### Same as interpolate_rainfall\n",
    "    # Array of the \"time points\" corresponding to\n",
    "    # Boundaries of output intervals\n",
    "    normalised_time_out = np.arange(len_out + 1) / (1.0 * len_out)\n",
    "    # Interpolate total accumulated value to desired output points\n",
    "    csum_out = np.interp(normalised_time_out, normalised_time_in, csum)\n",
    "    ###############\n",
    "\n",
    "    ############### Same as convert back to incremental rainfall, but get rid of the first value?\n",
    "    # Interpolate back to accumulations over the desired number of intervals\n",
    "    # Scale with the number of points to normalise\n",
    "    incremental = (csum_out[1:] - csum_out[:-1]) \n",
    "    ###############\n",
    "    ###############  Finds intensity as a proprtion of mean event intensity\n",
    "    mean_over_event = np.mean(incremental)\n",
    "    irain = incremental/mean_over_event\n",
    "     \n",
    "    return incremental #, normalised_time_out\n",
    "\n",
    "\n",
    "def plot_normalised_intensity(normalised_intensity, category):\n",
    "    len_intensity = len(normalised_intensity)\n",
    "    # Time points: start of event, end of event, midpoint of the intervals\n",
    "    plot_time = np.hstack(\n",
    "        (\n",
    "            np.array([0.0]),\n",
    "            (np.arange(len_intensity) + 0.5) / len_intensity,\n",
    "            np.array([1.0]),\n",
    "        )\n",
    "    )\n",
    "    # The way Roberto plots the curve, going to 0 at start/end\n",
    "    extended_intensity = np.hstack(\n",
    "        (np.array([0.0]), normalised_intensity, np.array([0.0]))\n",
    "    )\n",
    "    # Alternative plotting method, which keeps intensity constant at start/end\n",
    "    # Advantage is that this gives the correct integral under the curve\n",
    "    # Though it still has some issues (probably every plotting method has issues)\n",
    "    # extended_intensity_v2 = np.hstack(\n",
    "    #    (\n",
    "    #        np.array(normalised_intensity[0]),\n",
    "    #        normalised_intensity,\n",
    "    #        np.array(normalised_intensity[-1]),\n",
    "    #    )\n",
    "    # )\n",
    "    plt.plot(plot_time, extended_intensity)\n",
    "    # plt.plot(plot_time, extended_intensity_v2)\n",
    "    plt.scatter(plot_time, extended_intensity)\n",
    "    plt.xlim(0, 1)\n",
    "    plt.ylim(bottom=0.0)\n",
    "    plt.xlabel(\"normalised time\")\n",
    "    plt.ylabel(\"normalised intensity\")\n",
    "    # plt.legend((\"RVH et al.\", \"alternative\"))\n",
    "    plt.title(\"event curve, category = \" + str(category))\n",
    "    plt.show()\n",
    "\n",
    "def analyse_event(array_in):\n",
    "    # Remove leading/trailing zeros from array\n",
    "    # can we always do this?\n",
    "    trimmed_array = np.trim_zeros(array_in)\n",
    "    # Go from raw data directly to 12 and 5 points\n",
    "    event_curve_12 = get_normalised_intensity(trimmed_array, 12)\n",
    "    event_curve_5 = get_normalised_intensity(trimmed_array, 5)\n",
    "    # Get the category as a number from 1 to 5\n",
    "    # add 1 as python indexing starts at 0\n",
    "    category = np.argmax(event_curve_5) + 1\n",
    "    return category, event_curve_12\n",
    "\n",
    "def redistribute(array_in,len_out):\n",
    "    len_in=len(array_in)\n",
    "    # Array going from 0 up to and including the number of original points\n",
    "    in_bounds=np.arange(len_in+1)\n",
    "    # Calculates the total accumulated value at each original point\n",
    "    # Adds a zero for point zero\n",
    "    csum=np.cumsum(np.hstack((np.array([0.]),array_in)))\n",
    "    # Array of the \"time points\" corresponding to\n",
    "    # Boundaries of output intervals\n",
    "    out_bounds=np.arange(len_out+1)*(len_in/(1.0*len_out))\n",
    "    # Interpolate total accumulated value to desired output points\n",
    "    csum_out=np.interp(out_bounds,in_bounds,csum)\n",
    "    # Interpolate back to accumulations over the desired number of intervals\n",
    "    array_out=csum_out[1:]-csum_out[:-1]\n",
    "    return array_out"
   ]
  },
  {
   "cell_type": "markdown",
   "id": "64a52bd8",
   "metadata": {},
   "source": [
    "## Comparing two methods"
   ]
  },
  {
   "cell_type": "code",
   "execution_count": null,
   "id": "c0eb9ff8",
   "metadata": {},
   "outputs": [],
   "source": [
    "fp = '/nfs/a161/gy17m2a/PhD/ProcessedData/IndependentEvents/NIMROD_30mins/NIMROD_2.2km_filtered_100/0/WholeYear/EventSet/0.5hrs_2008_v2_part0.csv'\n",
    "this_event = read_event(gauge_num, fp)\n",
    "precip = this_event['precipitation (mm)']"
   ]
  },
  {
   "cell_type": "markdown",
   "id": "203c0303",
   "metadata": {},
   "source": [
    "### Using my method"
   ]
  },
  {
   "cell_type": "code",
   "execution_count": 519,
   "id": "e91068fb",
   "metadata": {},
   "outputs": [
    {
     "data": {
      "text/plain": [
       "[<matplotlib.lines.Line2D at 0x7f896f788850>]"
      ]
     },
     "execution_count": 519,
     "metadata": {},
     "output_type": "execute_result"
    },
    {
     "data": {
      "image/png": "[encoded data removed]",
      "text/plain": [
       "<Figure size 432x288 with 1 Axes>"
      ]
     },
     "metadata": {
      "needs_background": "light"
     },
     "output_type": "display_data"
    }
   ],
   "source": [
    "cumulative_rainfall, cumulative_rainfall_times = create_cumulative_event(precip)\n",
    "dimensionless_cumulative_rainfall, dimensionless_times =  create_dimensionless_event(cumulative_rainfall, cumulative_rainfall_times)\n",
    "interpolated15_cumulative_rainfall, interpolated15_times = interpolate_rainfall(dimensionless_cumulative_rainfall,15)\n",
    "interpolated12_cumulative_rainfall, interpolated12_times = interpolate_rainfall(dimensionless_cumulative_rainfall,12)\n",
    "interpolated5_cumulative_rainfall, interpolated5_times = interpolate_rainfall(dimensionless_cumulative_rainfall,5)\n",
    "\n",
    "interpolated15_incremental_rainfall = create_incremental_event(interpolated15_cumulative_rainfall)\n",
    "interpolated12_incremental_rainfall = create_incremental_event(interpolated12_cumulative_rainfall)\n",
    "interpolated5_incremental_rainfall = create_incremental_event(interpolated5_cumulative_rainfall)\n",
    "\n",
    "max_quintile_profile_12 = find_part_with_most_rain(interpolated12_incremental_rainfall, 5)\n",
    "max_quintile_profile_5 = find_part_with_most_rain(interpolated5_incremental_rainfall, 5)\n",
    "\n",
    "irain = find_intensity_as_proportion_of_mean_event(interpolated12_incremental_rainfall)\n",
    "irain = np.append([0], irain)\n",
    "irain = np.append(irain, [0])\n",
    "plt.plot(irain, marker = '.', markersize=10)"
   ]
  },
  {
   "cell_type": "code",
   "execution_count": 525,
   "id": "6ac62b45",
   "metadata": {},
   "outputs": [
    {
     "data": {
      "text/plain": [
       "1"
      ]
     },
     "execution_count": 525,
     "metadata": {},
     "output_type": "execute_result"
    }
   ],
   "source": [
    "max_quintile_profile_5"
   ]
  },
  {
   "cell_type": "code",
   "execution_count": 517,
   "id": "9bd9ac9c",
   "metadata": {},
   "outputs": [
    {
     "data": {
      "text/plain": [
       "array([0.40361262, 0.2211567 , 0.01134026, 0.00481611, 0.3590743 ])"
      ]
     },
     "execution_count": 517,
     "metadata": {},
     "output_type": "execute_result"
    }
   ],
   "source": [
    "interpolated5_incremental_rainfall"
   ]
  },
  {
   "cell_type": "markdown",
   "id": "99e8bdce",
   "metadata": {},
   "source": [
    "### Using Steef's method"
   ]
  },
  {
   "cell_type": "code",
   "execution_count": 521,
   "id": "b9b43ce1",
   "metadata": {},
   "outputs": [
    {
     "data": {
      "text/plain": [
       "[<matplotlib.lines.Line2D at 0x7f896f68e1d0>]"
      ]
     },
     "execution_count": 521,
     "metadata": {},
     "output_type": "execute_result"
    },
    {
     "data": {
      "image/png": "[encoded data removed]",
      "text/plain": [
       "<Figure size 432x288 with 1 Axes>"
      ]
     },
     "metadata": {
      "needs_background": "light"
     },
     "output_type": "display_data"
    }
   ],
   "source": [
    "category, event_curve_12 = analyse_event(precip)\n",
    "event_curve_12 = np.append([0], event_curve_12)\n",
    "event_curve_12 = np.append(event_curve_12, [0])\n",
    "plt.plot(event_curve_12, marker = '.', markersize=10)"
   ]
  },
  {
   "cell_type": "code",
   "execution_count": 524,
   "id": "15585688",
   "metadata": {},
   "outputs": [
    {
     "data": {
      "text/plain": [
       "array([0.        , 1.53262443, 2.40339627, 2.29356579, 0.98545519,\n",
       "       0.34912091, 0.06611942, 0.00208839, 0.02287141, 0.03379433,\n",
       "       0.02074557, 3.25267236, 1.03754595, 0.        ])"
      ]
     },
     "execution_count": 524,
     "metadata": {},
     "output_type": "execute_result"
    }
   ],
   "source": [
    "event_curve_12"
   ]
  },
  {
   "cell_type": "code",
   "execution_count": 522,
   "id": "175cb6f7",
   "metadata": {},
   "outputs": [
    {
     "data": {
      "text/plain": [
       "array([0.40361262, 0.2211567 , 0.01134026, 0.00481611, 0.3590743 ])"
      ]
     },
     "execution_count": 522,
     "metadata": {},
     "output_type": "execute_result"
    }
   ],
   "source": [
    "event_curve_5 = get_normalised_intensity_mine(precip, 5)\n",
    "category = np.argmax(event_curve_5) + 1\n",
    "event_curve_5"
   ]
  },
  {
   "cell_type": "code",
   "execution_count": 528,
   "id": "b4b5a386",
   "metadata": {},
   "outputs": [
    {
     "data": {
      "text/plain": [
       "[<matplotlib.lines.Line2D at 0x7f896f601410>]"
      ]
     },
     "execution_count": 528,
     "metadata": {},
     "output_type": "execute_result"
    },
    {
     "data": {
      "image/png": "[encoded data removed]",
      "text/plain": [
       "<Figure size 432x288 with 1 Axes>"
      ]
     },
     "metadata": {
      "needs_background": "light"
     },
     "output_type": "display_data"
    }
   ],
   "source": [
    "plt.plot(event_curve_5)"
   ]
  },
  {
   "cell_type": "markdown",
   "id": "a9948b2b",
   "metadata": {},
   "source": [
    "### Comparing methods"
   ]
  },
  {
   "cell_type": "code",
   "execution_count": 498,
   "id": "e5d679dd",
   "metadata": {},
   "outputs": [
    {
     "data": {
      "image/png": "[encoded data removed]",
      "text/plain": [
       "<Figure size 432x288 with 1 Axes>"
      ]
     },
     "metadata": {
      "needs_background": "light"
     },
     "output_type": "display_data"
    }
   ],
   "source": [
    "def plot_normalised_intensity(normalised_intensity, category):\n",
    "    len_intensity = len(normalised_intensity)\n",
    "    # Time points: start of event, end of event, midpoint of the intervals\n",
    "    plot_time = np.hstack((np.array([0.0]),\n",
    "            (np.arange(len_intensity) + 0.5) / len_intensity,\n",
    "            np.array([1.0]),))\n",
    "    \n",
    "    # The way Roberto plots the curve, going to 0 at start/end\n",
    "    extended_intensity = np.hstack(\n",
    "        (np.array([0.0]), normalised_intensity, np.array([0.0])))\n",
    "\n",
    "    plt.plot(plot_time, extended_intensity)\n",
    "    # plt.plot(plot_time, extended_intensity_v2)\n",
    "    plt.scatter(plot_time, extended_intensity)\n",
    "    plt.xlim(0, 1)\n",
    "    plt.ylim(bottom=0.0)\n",
    "    plt.xlabel(\"normalised time\")\n",
    "    plt.ylabel(\"normalised intensity\")\n",
    "    # plt.legend((\"RVH et al.\", \"alternative\"))\n",
    "    plt.title(\"event curve, category = \" + str(category))\n",
    "    \n",
    "plot_normalised_intensity(event_curve_12, category)    \n",
    "plot_normalised_intensity(irain, category)    "
   ]
  }
 ],
 "metadata": {
  "kernelspec": {
   "display_name": "Python 3 (ipykernel)",
   "language": "python",
   "name": "python3"
  },
  "language_info": {
   "codemirror_mode": {
    "name": "ipython",
    "version": 3
   },
   "file_extension": ".py",
   "mimetype": "text/x-python",
   "name": "python",
   "nbconvert_exporter": "python",
   "pygments_lexer": "ipython3",
   "version": "3.7.13"
  }
 },
 "nbformat": 4,
 "nbformat_minor": 5
}
