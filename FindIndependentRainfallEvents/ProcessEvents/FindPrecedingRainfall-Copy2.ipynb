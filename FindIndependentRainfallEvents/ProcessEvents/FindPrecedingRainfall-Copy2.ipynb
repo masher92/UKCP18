version https://git-lfs.github.com/spec/v1
oid sha256:f99dc9fe965488396caafbada18cdceea443adc60501cdd502a3ee6dac1807d6
size 7822
