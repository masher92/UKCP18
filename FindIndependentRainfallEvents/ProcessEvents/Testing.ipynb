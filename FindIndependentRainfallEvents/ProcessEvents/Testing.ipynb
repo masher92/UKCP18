version https://git-lfs.github.com/spec/v1
oid sha256:d08f1dafd9beff44449ba80a2d3b19e1686269f020659a6ee8eb043749f836fc
size 65139
