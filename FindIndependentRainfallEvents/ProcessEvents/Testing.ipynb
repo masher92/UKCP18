{
 "cells": [
  {
   "cell_type": "code",
   "execution_count": 99,
   "id": "c19d1d52",
   "metadata": {},
   "outputs": [],
   "source": [
    "import numpy as np\n",
    "import matplotlib.pyplot as plt\n",
    "import pickle\n",
    "import os\n",
    "import pandas as pd\n",
    "import re\n",
    "from datetime import datetime\n",
    "\n",
    "from Create_Profiles_Functions import *\n",
    "\n",
    "quintile_mapping = {1: 'F2', 2: 'F1', 3: 'C', 4: 'B1', 5: 'B2'}\n",
    "\n",
    "def create_dimensionless_event(cumulative_rainfall):\n",
    "\n",
    "    # Step 3: Normalize the cumulative rainfall by the total event depth\n",
    "    total_event_depth = cumulative_rainfall[-1]\n",
    "    normalized_cumulative_rainfall = np.array(cumulative_rainfall) / total_event_depth\n",
    "\n",
    "    # Step 4: Calculate the cumulative event duration\n",
    "    # Since each time step is 30 minutes, we multiply the index by 0.5 (for hours)\n",
    "    time_step = 0.5  # 30 minutes = 0.5 hours\n",
    "    cumulative_duration = np.arange(1, len(cumulative_rainfall) + 1) * time_step\n",
    "    \n",
    "    # Step 5: Normalize the cumulative duration by the total event duration\n",
    "    total_event_duration = cumulative_duration[-1]\n",
    "    normalized_cumulative_duration = cumulative_duration / total_event_duration\n",
    "    \n",
    "    normalized_cumulative_rainfall = np.insert(normalized_cumulative_rainfall, 0, 0)  # Adding 0 at the start\n",
    "    normalized_cumulative_duration = np.insert(normalized_cumulative_duration, 0, 0)  \n",
    "    \n",
    "    return normalized_cumulative_rainfall, normalized_cumulative_duration\n",
    "\n",
    "def redistribute(array_in,len_out):\n",
    "    len_in=len(array_in)\n",
    "    # Array going from 0 up to and including the number of original points\n",
    "    in_bounds=np.arange(len_in+1)\n",
    "    # Calculates the total accumulated value at each original point\n",
    "    # Adds a zero for point zero\n",
    "    csum=np.cumsum(np.hstack((np.array([0.]),array_in)))\n",
    "    # Array of the \"time points\" corresponding to\n",
    "    # Boundaries of output intervals\n",
    "    out_bounds=np.arange(len_out+1)*(len_in/(1.0*len_out))\n",
    "    # Interpolate total accumulated value to desired output points\n",
    "    csum_out=np.interp(out_bounds,in_bounds,csum)\n",
    "    # Interpolate back to accumulations over the desired number of intervals\n",
    "    array_out=csum_out[1:]-csum_out[:-1]\n",
    "    return array_out"
   ]
  },
  {
   "cell_type": "markdown",
   "id": "88f76ade",
   "metadata": {},
   "source": [
    "### Get a rainfall event"
   ]
  },
  {
   "cell_type": "code",
   "execution_count": 18,
   "id": "e770d299",
   "metadata": {},
   "outputs": [
    {
     "data": {
      "text/plain": [
       "3"
      ]
     },
     "execution_count": 18,
     "metadata": {},
     "output_type": "execute_result"
    }
   ],
   "source": [
    "gauge_num =1 \n",
    "fp = '/nfs/a161/gy17m2a/PhD/ProcessedData/IndependentEvents/NIMROD_30mins/NIMROD_2.2km_filtered_100/1/WholeYear/0.5hrs_2006_v2_part0.csv'\n",
    "this_event = read_event(gauge_num, fp)\n",
    "trimmed_event = remove_leading_and_trailing_zeroes(this_event)\n",
    "real_trimmed_event, problem_events = remove_events_with_problems(trimmed_event, verbose=False)\n",
    "len(real_trimmed_event)"
   ]
  },
  {
   "cell_type": "code",
   "execution_count": 3,
   "id": "f2a23628",
   "metadata": {},
   "outputs": [
    {
     "data": {
      "text/plain": [
       "31"
      ]
     },
     "execution_count": 3,
     "metadata": {},
     "output_type": "execute_result"
    }
   ],
   "source": [
    "gauge_num =1 \n",
    "fp = '/nfs/a161/gy17m2a/PhD/ProcessedData/IndependentEvents/NIMROD_30mins/NIMROD_2.2km_filtered_100/1292/WholeYear/6hrs_2020_v2_part0.csv'\n",
    "this_event = read_event(gauge_num, fp)\n",
    "trimmed_event = remove_leading_and_trailing_zeroes(this_event)\n",
    "real_trimmed_event, problem_events = remove_events_with_problems(trimmed_event, verbose=False)\n",
    "len(real_trimmed_event)"
   ]
  },
  {
   "cell_type": "markdown",
   "id": "ad135829",
   "metadata": {},
   "source": [
    "## Get a dimensionless version of event and plot"
   ]
  },
  {
   "cell_type": "code",
   "execution_count": 49,
   "id": "4fe9ff15",
   "metadata": {},
   "outputs": [],
   "source": [
    "precip = real_trimmed_event['precipitation (mm)']\n",
    "cumulative_rainfall = create_cumulative_event(precip)\n",
    "dimensionless_cumulative_rainfall, dimensionless_cumulative_duration = create_dimensionless_event(cumulative_rainfall)\n",
    "dimensionless_incremental_rainfall  = create_incremental_event(dimensionless_cumulative_rainfall)"
   ]
  },
  {
   "cell_type": "code",
   "execution_count": 100,
   "id": "9a69602f",
   "metadata": {},
   "outputs": [],
   "source": [
    "# # Include the starting point (0 value for cumulative data)\n",
    "# dimensionless_cumulative_rainfall = np.insert(dimensionless_cumulative_rainfall, 0, 0)  # Adding 0 at the start\n",
    "# dimensionless_cumulative_duration = np.insert(dimensionless_cumulative_duration, 0, 0)  # Adding 0 at the start"
   ]
  },
  {
   "cell_type": "code",
   "execution_count": 21,
   "id": "1bbd6340",
   "metadata": {},
   "outputs": [
    {
     "data": {
      "image/png": "[encoded data removed]",
      "text/plain": [
       "<Figure size 432x288 with 1 Axes>"
      ]
     },
     "metadata": {
      "needs_background": "light"
     },
     "output_type": "display_data"
    }
   ],
   "source": [
    "# Step 6: Plot the dimensionless Huff curve\n",
    "plt.plot(dimensionless_cumulative_duration, dimensionless_cumulative_rainfall, marker='.')\n",
    "plt.xlabel('Normalized Cumulative Duration')\n",
    "plt.ylabel('Normalized Cumulative Rainfall')\n",
    "plt.title('Dimensionless Huff Curve')\n",
    "plt.grid(True)\n",
    "plt.show()"
   ]
  },
  {
   "cell_type": "markdown",
   "id": "053597eb",
   "metadata": {},
   "source": [
    "### See how long the event is"
   ]
  },
  {
   "cell_type": "code",
   "execution_count": 7,
   "id": "b2b3c407",
   "metadata": {},
   "outputs": [
    {
     "data": {
      "text/plain": [
       "32"
      ]
     },
     "execution_count": 7,
     "metadata": {},
     "output_type": "execute_result"
    }
   ],
   "source": [
    "len(dimensionless_cumulative_rainfall)"
   ]
  },
  {
   "cell_type": "markdown",
   "id": "79172e2b",
   "metadata": {},
   "source": [
    "### Steef method"
   ]
  },
  {
   "cell_type": "code",
   "execution_count": 8,
   "id": "97530a79",
   "metadata": {},
   "outputs": [],
   "source": [
    "def redistribute(array_in,len_out):\n",
    "    len_in=len(array_in)\n",
    "    # Array going from 0 up to and including the number of original points\n",
    "    in_bounds=np.arange(len_in+1)\n",
    "    # Calculates the total accumulated value at each original point\n",
    "    # Adds a zero for point zero\n",
    "    csum=np.cumsum(np.hstack((np.array([0.]),array_in)))\n",
    "    # Array of the \"time points\" corresponding to\n",
    "    # Boundaries of output intervals\n",
    "    out_bounds=np.arange(len_out+1)*(len_in/(1.0*len_out))\n",
    "    # Interpolate total accumulated value to desired output points\n",
    "    csum_out=np.interp(out_bounds,in_bounds,csum)\n",
    "    # Interpolate back to accumulations over the desired number of intervals\n",
    "    array_out=csum_out[1:]-csum_out[:-1]\n",
    "    return array_out\n",
    "\n",
    "def redistribute_cumulative(cumulative_rainfall, len_out):\n",
    "    len_in = len(cumulative_rainfall)\n",
    "    \n",
    "    # Array going from 0 up to and including the number of original points\n",
    "    in_bounds = np.arange(len_in)\n",
    "    \n",
    "    # Array of the \"time points\" corresponding to boundaries of output intervals\n",
    "    out_bounds = np.linspace(0, len_in-1, len_out)\n",
    "    \n",
    "    # Interpolate cumulative rainfall to the desired output points\n",
    "    cumulative_out = np.interp(out_bounds, in_bounds, cumulative_rainfall)\n",
    "    \n",
    "    return cumulative_out"
   ]
  },
  {
   "cell_type": "markdown",
   "id": "3149701c",
   "metadata": {},
   "source": [
    "### Split into 12 equally spaced bins - using bin centres"
   ]
  },
  {
   "cell_type": "code",
   "execution_count": 136,
   "id": "68030e17",
   "metadata": {},
   "outputs": [],
   "source": [
    "def old_bin_centres(dimensionless_cumulative_duration, dimensionless_cumulative_rainfall):\n",
    "    bins = np.linspace(0, 1, 13)  # 12 bins means 13 edges\n",
    "\n",
    "    #  Find within each of these bins each value falls\n",
    "    bin_indices = np.digitize(dimensionless_cumulative_duration, bins) - 1  # bin_indices from 0 to 11\n",
    "\n",
    "    # Initialize arrays for binned duration and rainfall\n",
    "    binned_duration = np.linspace(0, 1, 12)  # Midpoints of each bin\n",
    "    binned_rainfall = np.zeros(12)\n",
    "\n",
    "    # Fill in binned rainfall values by averaging values that fall into each bin\n",
    "    for i in range(12):\n",
    "        indices_in_bin = np.where(bin_indices == i)[0]\n",
    "        if len(indices_in_bin) > 0:\n",
    "            binned_rainfall[i] = np.mean(dimensionless_cumulative_rainfall[indices_in_bin])\n",
    "        else:\n",
    "            binned_rainfall[i] = np.nan  # Mark empty bins with NaN for interpolation\n",
    "\n",
    "    # Step 8: Interpolate to fill in any empty bins (NaN values)\n",
    "    nan_indices = np.isnan(binned_rainfall)\n",
    "    interp_func = interp1d(binned_duration[~nan_indices], binned_rainfall[~nan_indices], kind='linear', fill_value=\"extrapolate\")\n",
    "    binned_rainfall[nan_indices] = interp_func(binned_duration[nan_indices])\n",
    "    \n",
    "    return binned_duration, binned_rainfall\n",
    "\n",
    "def using_bin_edges(dimensionless_cumulative_duration, dimensionless_cumulative_rainfall, clip_zeroes= True):\n",
    "\n",
    "    # Define 13 bin edges for 12 intervals (this includes a 0)\n",
    "    bins = np.linspace(0, 1, 13)  # 13 edges create 12 intervals\n",
    "\n",
    "    # Interpolate cumulative rainfall to the bin edges\n",
    "    # Includes a 0 and a 1 value, 13 values total\n",
    "    interp_func = interp1d(dimensionless_cumulative_duration, dimensionless_cumulative_rainfall, kind='linear', fill_value=\"extrapolate\")\n",
    "    binned_rainfall = interp_func(bins)\n",
    "\n",
    "    # Step 8: Since we're working with cumulative data, calculate the midpoint of each bin for plotting\n",
    "    #binned_duration_new = (bins[:-1] + bins[1:]) / 2  # Midpoints of each bin interval\n",
    "\n",
    "    # Ensure no negative values in the rainfall data\n",
    "    if clip_zeroes == True:\n",
    "        binned_rainfall = np.clip(binned_rainfall, a_min=0, a_max=None)\n",
    "    \n",
    "    return bins, binned_rainfall\n",
    "\n",
    "def using_bin_edges(dimensionless_cumulative_duration, dimensionless_cumulative_rainfall, clip_zeroes= True):\n",
    "\n",
    "    # Define 13 bin edges for 12 intervals (this includes a 0)\n",
    "    bins = np.linspace(0, 1, 13)  # 13 edges create 12 intervals\n",
    "\n",
    "    # Interpolate cumulative rainfall to the bin edges\n",
    "    # Includes a 0 and a 1 value, 13 values total\n",
    "    interp_func = interp1d(dimensionless_cumulative_duration, dimensionless_cumulative_rainfall, kind='linear', fill_value=\"extrapolate\")\n",
    "    binned_rainfall = interp_func(bins)\n",
    "\n",
    "    # Step 8: Since we're working with cumulative data, calculate the midpoint of each bin for plotting\n",
    "    binned_midpoints = (bins[:-1] + bins[1:]) / 2  # Midpoints of each bin interval\n",
    "\n",
    "    # Ensure no negative values in the rainfall data\n",
    "    if clip_zeroes == True:\n",
    "        binned_rainfall = np.clip(binned_rainfall, a_min=0, a_max=None)\n",
    "    \n",
    "    return bins, binned_rainfall, binned_midpoints\n",
    "\n",
    "\n",
    "\n",
    "def interpolate_rainfall(rainfall, bin_number):\n",
    "    if rainfall is None or len(rainfall) < 2:\n",
    "        return None\n",
    "\n",
    "    # Define target points for bin_number bins\n",
    "    target_points = np.linspace(0, 1, 13)\n",
    "    \n",
    "    # Create interpolation function based on existing data points\n",
    "    rainfall_times = np.array(range(0, len(rainfall)))\n",
    "\n",
    "    # Normalize time from 0 to 1\n",
    "    normalized_time = (rainfall_times - rainfall_times[0]) / (rainfall_times[-1] - rainfall_times[0])\n",
    "    interpolation_func = interp1d(normalized_time, rainfall, kind='linear', fill_value=\"extrapolate\")\n",
    "    \n",
    "    # Interpolate values at target points\n",
    "    interpolated_values = interpolation_func(target_points)\n",
    "    \n",
    "    return interpolated_values\n"
   ]
  },
  {
   "cell_type": "markdown",
   "id": "836c8230",
   "metadata": {},
   "source": [
    "### Split into 12 equally spaced bins - using bin edges"
   ]
  },
  {
   "cell_type": "code",
   "execution_count": 135,
   "id": "287d5465",
   "metadata": {},
   "outputs": [],
   "source": [
    "# # Step 9: Plot the dimensionless Huff curve with 12 bins\n",
    "# bins, binned_rainfall, binned_midpoints = using_bin_edges(dimensionless_cumulative_duration, dimensionless_cumulative_rainfall, True)\n",
    "# plt.plot(bins, binned_rainfall, marker='o', linestyle='-', color='b')\n",
    "\n",
    "# binned_duration, binned_rainfall = old_bin_centres(dimensionless_cumulative_duration, dimensionless_cumulative_rainfall)\n",
    "# plt.plot(binned_duration, binned_rainfall, marker='o', linestyle='-', color='g')\n",
    "\n",
    "# int_rainfall = interpolate_rainfall(dimensionless_cumulative_rainfall,12)\n",
    "# plt.plot(bins, int_rainfall, marker='o', linestyle='-', color='black')\n",
    "\n",
    "# plt.xlabel('Normalized Cumulative Duration (Midpoints)')\n",
    "# plt.ylabel('Normalized Cumulative Rainfall')\n",
    "# plt.title('Dimensionless Huff Curve with 12 Bins')\n",
    "# plt.grid(True)\n",
    "# plt.show()\n"
   ]
  },
  {
   "cell_type": "code",
   "execution_count": 137,
   "id": "8819a4fe",
   "metadata": {},
   "outputs": [
    {
     "name": "stdout",
     "output_type": "stream",
     "text": [
      "gauge 0\n",
      "gauge 1\n",
      "gauge 2\n"
     ]
    }
   ],
   "source": [
    "# # Initialize an empty DataFrame with the desired columns\n",
    "# Initialize an empty DataFrame with the desired columns\n",
    "columns = [\n",
    "    'gauge_num',  'season', 'precip',\n",
    "    # 'normalized_rainfall', 'cumulative_normalized_rainfall',\n",
    "    'cumulative_rainfall', 'dimensionless_rainfall', \"dimensionless_time\",\n",
    "    'bins', 'binned_rainfall','binned_duration_centres', 'binned_rainfall_centres', 'int_rainfall'\n",
    "   # 'interpolated15_cumulative_rainfall', 'interpolated12_cumulative_rainfall','interpolated15_incremental_rainfall','interpolated12_incremental_rainfall',\n",
    "   # 'interpolated15_cumulative_normalized_rainfall','interpolated12_cumulative_normalized_rainfall','interpolated15_incremental_normalized_rainfall','interpolated12_incremental_normalized_rainfall',\n",
    "    #'max_quintile_raw_rain','max_quintile_profile_12', 'max_quintile_profile_15', 'max_quintile_normalised_rain', 'max_quintile_profile_12_norm', \"max_quintile_profile_15_norm\"\n",
    "]\n",
    "df = pd.DataFrame(columns=columns)\n",
    "\n",
    "for nimrod_option in [\"NIMROD_2.2km_filtered_100\"]:\n",
    "    for gauge_num in range(0, 3):\n",
    "        if gauge_num not in [444, 827, 888]:\n",
    "            print(f\"gauge {gauge_num}\")\n",
    "            files = [f for f in os.listdir(f\"/nfs/a161/gy17m2a/PhD/ProcessedData/IndependentEvents/NIMROD_30mins/{nimrod_option}/{gauge_num}/WholeYear\") if f.endswith('.csv')]\n",
    "            files = np.sort(files)\n",
    "\n",
    "            for file in files:\n",
    "                fp = f\"/nfs/a161/gy17m2a/PhD/ProcessedData/IndependentEvents/NIMROD_30mins/{nimrod_option}/{gauge_num}/WholeYear/{file}\"\n",
    "                if '2080' in fp:\n",
    "                    continue\n",
    "\n",
    "                this_event = read_event(gauge_num, fp)\n",
    "                trimmed_event = remove_leading_and_trailing_zeroes(this_event)\n",
    "                real_trimmed_event, problem_events = remove_events_with_problems(trimmed_event, verbose=False)\n",
    "\n",
    "                if real_trimmed_event is not None:\n",
    "                    \n",
    "                    precip = real_trimmed_event['precipitation (mm)']\n",
    "                    #normalized_rainfall = create_normalised_event(real_trimmed_event['precipitation (mm)'])\n",
    "                    #cumulative_normalized_rainfall = create_cumulative_event(normalized_rainfall)\n",
    "                    cumulative_rainfall = create_cumulative_event(precip)\n",
    "                    dimensionless_cumulative_rainfall, dimensionless_cumulative_duration =  create_dimensionless_event(cumulative_rainfall)\n",
    "                    \n",
    "                    bins, binned_rainfall, binned_midpoints = using_bin_edges(dimensionless_cumulative_duration, dimensionless_cumulative_rainfall, True)\n",
    "                    binned_duration_centres, binned_rainfall_centres = old_bin_centres(dimensionless_cumulative_duration, dimensionless_cumulative_rainfall)\n",
    "                    int_rainfall = interpolate_rainfall(dimensionless_cumulative_rainfall,12)\n",
    "                    \n",
    "                else:\n",
    "                    precip=trimmed_event['precipitation (mm)']\n",
    "                    #normalized_rainfall = None\n",
    "                    #cumulative_normalized_rainfall = None\n",
    "                    cumulative_rainfall = None\n",
    "                    dimensionless_rainfall = None\n",
    "                    dimensionless_time = None\n",
    "                    bins = None\n",
    "                    binned_rainfall = None\n",
    "                    binned_duration_centres = None\n",
    "                    binned_rainfall_centres=None\n",
    "                    int_rainfall = None\n",
    "\n",
    "                    \n",
    "                # Append the row to the DataFrame\n",
    "                df = df.append({\n",
    "                    'gauge_num': gauge_num,\n",
    "\n",
    "                    'precip': precip.values,\n",
    "                    \n",
    "                    # 'normalized_rainfall':normalized_rainfall,\n",
    "                    #'cumulative_normalized_rainfall':cumulative_normalized_rainfall,\n",
    "                    'cumulative_rainfall':cumulative_rainfall,\n",
    "                    'dimensionless_rainfall':dimensionless_rainfall,\n",
    "                    'dimensionless_time':dimensionless_time,\n",
    "                    \"bins\" : bins,\n",
    "                    \"binned_rainfall\" : binned_rainfall,\n",
    "                    \"binned_duration_centres\" : binned_duration_centres,\n",
    "                    \"binned_rainfall_centres\":binned_rainfall_centres,\n",
    "                    'int_rainfall':int_rainfall\n",
    "\n",
    "         \n",
    "                }, ignore_index=True)\n",
    "                \n",
    "\n",
    "                    "
   ]
  },
  {
   "cell_type": "code",
   "execution_count": 140,
   "id": "3d83be56",
   "metadata": {},
   "outputs": [
    {
     "data": {
      "image/png": "[encoded data removed]",
      "text/plain": [
       "<Figure size 432x288 with 1 Axes>"
      ]
     },
     "metadata": {
      "needs_background": "light"
     },
     "output_type": "display_data"
    }
   ],
   "source": [
    "row_num =210\n",
    "bins = df['bins'][row_num]\n",
    "binned_rainfall = df['binned_rainfall'][row_num]\n",
    "binned_duration_centres = df['binned_duration_centres'][row_num]\n",
    "binned_rainfall_centres = df['binned_rainfall_centres'][row_num]\n",
    "int_rainfall= df['int_rainfall'][row_num]\n",
    "# binned_duration = df['binned_duration'][0]\n",
    "\n",
    "plt.plot(bins, binned_rainfall, marker='o', linestyle='-', color='b', label = 'Edges')\n",
    "plt.plot(binned_duration_centres, binned_rainfall_centres, marker='o', linestyle='-', color='g', label='centres')\n",
    "plt.plot(bins, int_rainfall, marker='o', linestyle='-', color='black', label = 'Old_interp')\n",
    "\n",
    "plt.xlabel('Normalized Cumulative Duration (Midpoints)')\n",
    "plt.ylabel('Normalized Cumulative Rainfall')\n",
    "plt.title('Dimensionless Huff Curve with 12 Bins')\n",
    "plt.legend()\n",
    "plt.grid(True)\n",
    "plt.show()\n"
   ]
  }
 ],
 "metadata": {
  "kernelspec": {
   "display_name": "Python 3 (ipykernel)",
   "language": "python",
   "name": "python3"
  },
  "language_info": {
   "codemirror_mode": {
    "name": "ipython",
    "version": 3
   },
   "file_extension": ".py",
   "mimetype": "text/x-python",
   "name": "python",
   "nbconvert_exporter": "python",
   "pygments_lexer": "ipython3",
   "version": "3.7.13"
  }
 },
 "nbformat": 4,
 "nbformat_minor": 5
}
