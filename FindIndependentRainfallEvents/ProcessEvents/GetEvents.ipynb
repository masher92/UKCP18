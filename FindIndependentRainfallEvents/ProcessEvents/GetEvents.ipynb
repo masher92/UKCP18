version https://git-lfs.github.com/spec/v1
oid sha256:67bba5c0bada1ee816c85629d569544fcb0216188b3bfd6a824629e4086ad81a
size 5127
