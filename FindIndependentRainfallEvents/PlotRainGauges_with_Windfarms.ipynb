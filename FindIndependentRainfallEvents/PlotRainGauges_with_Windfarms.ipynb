version https://git-lfs.github.com/spec/v1
oid sha256:75bfd577eaa78d21d7a0d17169441149f075ec41daabfbce8875779780b52f7f
size 480296
