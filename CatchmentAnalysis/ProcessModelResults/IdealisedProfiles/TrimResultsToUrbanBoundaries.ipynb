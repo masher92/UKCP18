{
 "cells": [
  {
   "cell_type": "markdown",
   "id": "237b1753",
   "metadata": {},
   "source": [
    "#### Code initialisation"
   ]
  },
  {
   "cell_type": "code",
   "execution_count": 8,
   "id": "8ec35448",
   "metadata": {},
   "outputs": [],
   "source": [
    "import pandas as pd\n",
    "import numpy as np\n",
    "from shapely.geometry import mapping\n",
    "import glob\n",
    "\n",
    "from my_functions_idealisedprofiles import *"
   ]
  },
  {
   "cell_type": "markdown",
   "id": "27725785",
   "metadata": {},
   "source": [
    "### Read in spatial boundaries of admin zones and filter out Kippax and Garforth\n",
    "An official shapefile for Garforth itself couldn't be found, so created this boundary in QGIS.  \n",
    "In QGIS select Layer -> Create layer -> new shapefile layer.  \n",
    "Press the three dots beside filename to select location to save to.   \n",
    "Select UTF-8 File encoding and type as Polygon.  \n",
    "Right click layer, and select 'toggle editing' and then select 'Add Poylgon feature' from toolbar at the top  "
   ]
  },
  {
   "cell_type": "code",
   "execution_count": 9,
   "id": "ccd1168e",
   "metadata": {},
   "outputs": [],
   "source": [
    "all_boundaries = gpd.read_file(\"../../../../FloodModelling/KippaxBoundary/Parishes/Parishes_December_2016_FCB_in_England_and_Wales.shp\")\n",
    "kippax_boundary = all_boundaries[all_boundaries['par16nm'] == 'Kippax']\n",
    "garforth_boundary = gpd.read_file(\"../../../../FloodModelling/GarforthBoundary/Garforth_edited.shp\")"
   ]
  },
  {
   "cell_type": "markdown",
   "id": "2ef1149d",
   "metadata": {},
   "source": [
    "### Trim landcover data"
   ]
  },
  {
   "cell_type": "code",
   "execution_count": 10,
   "id": "6bcb7979",
   "metadata": {},
   "outputs": [],
   "source": [
    "# Read in the data\n",
    "landcover, out_meta = prepare_rainfall_scenario_raster(\"../../../../FloodModelling/LandCoverData/LandCover_clipped.tif\", True)"
   ]
  },
  {
   "cell_type": "markdown",
   "id": "6075fd56",
   "metadata": {},
   "source": [
    "### Define list of methods"
   ]
  },
  {
   "cell_type": "code",
   "execution_count": 12,
   "id": "1210119b",
   "metadata": {},
   "outputs": [],
   "source": [
    "methods =[ '6h_sp_c_0.5','6h_sp_fl_0.1', '6h_sp_fl_0.2', '6h_sp_fl_0.3', '6h_sp_fl_0.4',\n",
    "          '6h_sp_bl_0.6','6h_sp_bl_0.7','6h_sp_bl_0.8','6h_sp_bl_0.9']"
   ]
  },
  {
   "cell_type": "markdown",
   "id": "bb24ba00",
   "metadata": {},
   "source": [
    "### Loop through each method and get all files in its subfolder, and cut them to the extent of the region"
   ]
  },
  {
   "cell_type": "code",
   "execution_count": null,
   "id": "b873be4b",
   "metadata": {},
   "outputs": [],
   "source": [
    "for region_name in ['Kippax', 'Garforth']:\n",
    "    if region_name == 'Kippax':\n",
    "        region_boundary = kippax_boundary\n",
    "    elif region_name == 'Garforth':\n",
    "        region_boundary = garforth_boundary\n",
    "    \n",
    "    # Trim land cover data\n",
    "    raster = rxr.open_rasterio(\"../../../../FloodModelling/LandCoverData/LandCover_clipped.tif\", masked=True).squeeze()\n",
    "    raster_clipped = raster.rio.clip(region_boundary.geometry.apply(mapping),region_boundary.crs)\n",
    "    if not os.path.exists(\"../../../../FloodModelling/LandCoverData/{}/\".format(region_name)):\n",
    "        os.mkdir(\"../../../../FloodModelling/LandCoverData/{}/\".format(region_name))\n",
    "    raster_clipped.rio.to_raster(\"../../../../FloodModelling/LandCoverData/{}/LandCover_clipped.tif\".format(region_name))   \n",
    "    \n",
    "    \n",
    "    for method in methods:\n",
    "        # Create subdirectory for outputs\n",
    "        if not os.path.exists(model_directory + method + '/{}/'.format(region_name)):\n",
    "            os.mkdir(model_directory + method + '/{}/'.format(region_name))\n",
    "        # Find all files in the directory\n",
    "        path = model_directory + \"{}/*.tif\".format(method)\n",
    "        files = glob.glob(path)\n",
    "        # Loop through each file and create a filtered version\n",
    "        for file in files:\n",
    "            raster = rxr.open_rasterio(file, masked=True).squeeze()\n",
    "            raster_clipped = raster.rio.clip(region_boundary.geometry.apply(mapping),region_boundary.crs)\n",
    "            raster_clipped.rio.to_raster(model_directory + method + '/{}/'.format(region_name) + file.split('/')[-1])    "
   ]
  },
  {
   "cell_type": "markdown",
   "id": "0eb28cd7",
   "metadata": {},
   "source": [
    "### Check one of the outcomes"
   ]
  },
  {
   "cell_type": "code",
   "execution_count": null,
   "id": "165d1667",
   "metadata": {},
   "outputs": [],
   "source": [
    "f, ax = plt.subplots()\n",
    "raster_clipped.plot.imshow()\n",
    "ax.set_axis_off()\n",
    "plt.show()"
   ]
  },
  {
   "cell_type": "markdown",
   "id": "3e1f92c3",
   "metadata": {},
   "source": [
    "### Check with folium plot"
   ]
  },
  {
   "cell_type": "code",
   "execution_count": null,
   "id": "234853ff",
   "metadata": {},
   "outputs": [],
   "source": [
    "# Set up figure\n",
    "f = folium.Figure(width=800, height=700)\n",
    "\n",
    "# Create base map - location figures were from clat, clon, but wanted to create map before loop\n",
    "mapa = folium.Map(location=[53.768306874761016, -1.3756056884868098],zoom_start=13).add_to(f)\n",
    "folium.TileLayer(\n",
    "    opacity=1,\n",
    "    tiles = 'https://basemap.nationalmap.gov/arcgis/rest/services/USGSTopo/MapServer/tile/{z}/{y}/{x}',\n",
    "    attr=\"No Base Map\",\n",
    "    name=\"No Base Map\",\n",
    "    show=True\n",
    ").add_to(mapa)\n",
    "\n",
    "# Add to map\n",
    "catchment_boundary_feature_group = FeatureGroup(name='Catchment boundary')\n",
    "catchment_boundary_feature_group.add_child(folium.GeoJson(data=catchment_gdf[\"geometry\"], style_function=lambda x, \n",
    "                                                          fillColor='#00000000', color='Black': { \"fillColor\": '#00000000',\"color\": 'Black',}))\n",
    "\n",
    "region_boundary_feature_group = FeatureGroup(name='Catchment boundary')\n",
    "region_boundary_feature_group.add_child(folium.GeoJson(data=swillington_boundary[\"geometry\"], style_function=lambda x, \n",
    "                                                          fillColor='#00000000', color='Red': { \"fillColor\": '#00000000',\"color\": 'Red',}))\n",
    "\n",
    "garforth_feature_group = FeatureGroup(name='Catchment boundary')\n",
    "garforth_feature_group.add_child(folium.GeoJson(data=garforth_boundary[\"geometry\"], style_function=lambda x, \n",
    "                                                          fillColor='#00000000', color='Blue': { \"fillColor\": '#00000000',\"color\": 'Blue',}))\n",
    "\n",
    "\n",
    "# Add layer control button\n",
    "mapa.add_child(catchment_boundary_feature_group)\n",
    "mapa.add_child(region_boundary_feature_group)\n",
    "mapa.add_child(garforth_feature_group)\n",
    "mapa.add_child(LayerControl(\"topright\", collapsed = False))\n",
    "display(mapa)    "
   ]
  }
 ],
 "metadata": {
  "kernelspec": {
   "display_name": "Python 3 (ipykernel)",
   "language": "python",
   "name": "python3"
  },
  "language_info": {
   "codemirror_mode": {
    "name": "ipython",
    "version": 3
   },
   "file_extension": ".py",
   "mimetype": "text/x-python",
   "name": "python",
   "nbconvert_exporter": "python",
   "pygments_lexer": "ipython3",
   "version": "3.9.7"
  }
 },
 "nbformat": 4,
 "nbformat_minor": 5
}
