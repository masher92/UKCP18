{
 "cells": [
  {
   "cell_type": "markdown",
   "id": "e6ce4aa3",
   "metadata": {},
   "source": []
  },
  {
   "cell_type": "markdown",
   "id": "9645644f",
   "metadata": {},
   "source": [
    "### Code initialisation"
   ]
  },
  {
   "cell_type": "code",
   "execution_count": 1,
   "id": "72a58d98",
   "metadata": {},
   "outputs": [],
   "source": [
    "import os\n",
    "from pathlib import Path\n",
    "import matplotlib as mpl\n",
    "\n",
    "from my_functions_idealisedprofiles import *\n",
    "\n",
    "# Define whether to filter out values <0.1\n",
    "remove_little_values = True\n",
    "model_directory = '../../../../FloodModelling/MeganModel_New/'"
   ]
  },
  {
   "cell_type": "code",
   "execution_count": 2,
   "id": "c46e1775",
   "metadata": {},
   "outputs": [],
   "source": [
    "methods =['6h_feh_sp', '6h_sp_fl_0.1', '6h_sp_fl_0.2', '6h_sp_fl_0.3', '6h_sp_fl_0.4',\n",
    "          '6h_sp_bl_0.6','6h_sp_bl_0.7','6h_sp_bl_0.8','6h_sp_bl_0.9']\n",
    "short_ids = ['6h_feh_sp', '6h_sp_fl_0.1', '6h_sp_fl_0.2', '6h_sp_fl_0.3', '6h_sp_fl_0.4',\n",
    "          '6h_sp_bl_0.6','6h_sp_bl_0.7','6h_sp_bl_0.8','6h_sp_bl_0.9']   "
   ]
  },
  {
   "cell_type": "code",
   "execution_count": 8,
   "id": "c8e7702d",
   "metadata": {},
   "outputs": [
    {
     "name": "stdout",
     "output_type": "stream",
     "text": [
      "['../../../../FloodModelling/MeganModel_New/6h_feh_sp/{} (Max).Resampled.Terrain.tif', '../../../../FloodModelling/MeganModel_New/6h_sp_fl_0.1/{} (Max).Resampled.Terrain.tif', '../../../../FloodModelling/MeganModel_New/6h_sp_fl_0.2/{} (Max).Resampled.Terrain.tif', '../../../../FloodModelling/MeganModel_New/6h_sp_bl_0.9/{} (Max).Resampled.Terrain.tif']\n"
     ]
    }
   ],
   "source": [
    "fps = []\n",
    "for method_num, short_id in enumerate(short_ids):\n",
    "    fp = model_directory + \"{}/{} (Max).Resampled.Terrain.tif\".format(short_id, '{}')\n",
    "    fps.append(fp)\n",
    "print(fps)"
   ]
  },
  {
   "cell_type": "code",
   "execution_count": 4,
   "id": "491681af",
   "metadata": {},
   "outputs": [],
   "source": [
    "breaks_difference = np.array([-0.1, 0.1, 0.3, 100])"
   ]
  },
  {
   "cell_type": "markdown",
   "id": "d07cd96f",
   "metadata": {},
   "source": [
    "#### Read in rasters containing depths and extents using each of the methods, and store these in a dictionary\n",
    "#### Create versions of depth/velocity rasters which are classified into depth/velocity categories"
   ]
  },
  {
   "cell_type": "code",
   "execution_count": 5,
   "id": "049b2794",
   "metadata": {},
   "outputs": [],
   "source": [
    "def do_processing (variable_name):    \n",
    "    \n",
    "    ######################################################################################\n",
    "    # Specify breaks and labels for this variable\n",
    "    ######################################################################################\n",
    "    if variable_name == 'Depth':\n",
    "        breaks = np.array([0, 0.3, 0.6, 1.2, 100])  \n",
    "        labels = ['<=0.3m', '0.3-0.6m', '0.6-1.2m', '>1.2m']\n",
    "        classified_colors_list = [mpl.cm.Blues(0.2), mpl.cm.Blues(0.5), mpl.cm.Blues(0.7),\"navy\"]\n",
    "    elif variable_name == 'Velocity':\n",
    "        breaks = np.array([0,0.25,0.5,2,100])\n",
    "        labels = [\"<=0.25m/s\", \"0.25-0.5m/s\", \"0.5-2m/s\", \">2m/s\"]\n",
    "        classified_colors_list = [mpl.cm.cool(0.3), mpl.cm.cool(0.5), mpl.cm.cool(0.7), mpl.cm.cool(0.9)]\n",
    "        \n",
    "    ######################################################################################\n",
    "    # For the single peak scenarios:\n",
    "        # Classify depth/velocity rasters into depth/velocity bins\n",
    "        # Save as raster\n",
    "        # Plot this raster, and save the output\n",
    "    ######################################################################################\n",
    "    single_peak, out_meta = prepare_rainfall_scenario_raster(fps[0].format(variable_name), remove_little_values)\n",
    "    singlepeak_classified = classify_raster(single_peak, breaks)\n",
    "    fp_for_classified_raster = fps[0].format(variable_name).replace('{} (Max).Resampled.Terrain'.format(variable_name),'{}_classified'.format(variable_name))\n",
    "    save_array_as_raster(singlepeak_classified, fp_for_classified_raster, out_meta) \n",
    "    plot_classified_raster(fp_for_classified_raster, labels, classified_colors_list)\n",
    "    \n",
    "    ######################################################################################\n",
    "    # For the other rainfall scenarios:\n",
    "        # Classify depth/velocity rasters into depth/velocity bins\n",
    "            # Save as raster\n",
    "            # Plot this raster, and save the output\n",
    "        # Find the difference between depth/velocity rasters for this scenario and the single peak scenario:\n",
    "            # Save this as a raster\n",
    "            # Plot this raster and save the output\n",
    "        # Reclassify the difference rasters into bins:\n",
    "            # Save this as a raster\n",
    "            # Plot this raster and save the output\n",
    "        # Reclassify the difference rasters into positive, negative or neutral differences:\n",
    "            # Save this as a raster\n",
    "            # Plot this raster and save the output\n",
    "    ######################################################################################\n",
    "    for fp in fps[1:]:\n",
    "        # Create directory to store results\n",
    "        # processing_dir = \"HecRas_Processing/\" + fp.split('/')[1]\n",
    "        # Path(processing_dir).mkdir(parents=True, exist_ok=True)\n",
    "    \n",
    "        # Classify depth/velocity rasters into depth/velocity bins\n",
    "        this_scenario_raster = prepare_rainfall_scenario_raster(fp.format(variable_name), remove_little_values)[0]\n",
    "        this_scenario_classified = classify_raster(this_scenario_raster, breaks)\n",
    "        fp_for_classified_raster = fp.replace('{} (Max).Resampled.Terrain','{}_classified'.format(variable_name) )\n",
    "        save_array_as_raster(this_scenario_classified, fp_for_classified_raster, out_meta) \n",
    "        plot_classified_raster(fp_for_classified_raster, labels, classified_colors_list)    \n",
    "\n",
    "        # Find difference between depth/velocity rasters from this method, and the single peak method\n",
    "        difference_raster = single_peak - this_scenario_raster\n",
    "        # fp_for_difference_raster = \"Arcpy/{}_singlepeak_{}_diff.tif\".format(variable_name, rainfall_scenario_name)\n",
    "        # save_array_as_raster(singlepeak_classified, fp_for_difference_raster, out_meta) \n",
    "        # plot_difference(variable_name, rainfall_scenario_name, labels, 'YlGnBu') \n",
    "\n",
    "        # Reclassify the difference rasters to categories \n",
    "        classified_difference_raster = classify_raster (difference_raster, breaks_difference)\n",
    "        fp_for_classified_diff_raster = fp.replace('{} (Max).Resampled.Terrain','{}_difffromsinglepeak_classified'.format(variable_name))\n",
    "        save_array_as_raster(classified_difference_raster, fp_for_classified_diff_raster, out_meta) \n",
    "        plot_difference_levels(fp_for_classified_diff_raster, labels)    \n",
    "\n",
    "        # Reclassify the difference rasters to represent whether value is positive or negative \n",
    "        pos_neg_depth_diff = np.where((np.isnan(difference_raster)), np.nan, \n",
    "                                  np.where((difference_raster > 0), 0,\n",
    "                                    np.where((difference_raster == 0), 1,\n",
    "                                        np.where((difference_raster < 0), 2, 500))))\n",
    "        fp_for_posneg_diff_raster = fp.replace('{} (Max).Resampled.Terrain','{}_difffromsinglepeak_posneg'.format(variable_name) )\n",
    "        save_array_as_raster(pos_neg_depth_diff, fp_for_posneg_diff_raster, out_meta) \n",
    "        plot_difference_levels_pos_neg(fp_for_posneg_diff_raster)  \n",
    "        \n",
    "# Run the function  \n",
    "do_processing('Depth')\n",
    "do_processing('Velocity')"
   ]
  },
  {
   "cell_type": "markdown",
   "id": "d87f0b97",
   "metadata": {},
   "source": [
    "# Hazard calculations\n",
    "The hazard is calculated based on definition here: https://assets.publishing.service.gov.uk/government/uploads/system/uploads/attachment_data/file/842485/What-is-the-Risk-of-Flooding-from-Surface-Water-Map.pdf . "
   ]
  },
  {
   "cell_type": "markdown",
   "id": "ea4cfe63",
   "metadata": {},
   "source": [
    "### Calculate the hazard categories for the single peak results"
   ]
  },
  {
   "cell_type": "code",
   "execution_count": 6,
   "id": "a87958a9",
   "metadata": {},
   "outputs": [],
   "source": [
    "# Read in depth and velocity rasters\n",
    "sp_depth, out_meta = prepare_rainfall_scenario_raster(fps[0].format('Depth'), remove_little_values)\n",
    "sp_velocity = prepare_rainfall_scenario_raster(fps[0].format('Velocity'), remove_little_values)[0]\n",
    "\n",
    "# Create a composite hazard array\n",
    "sp_hazard= np.where((sp_depth.flatten())<0.25, (sp_depth.flatten()* (sp_velocity.flatten()+0.5) + 0.5) , (sp_depth.flatten() * (sp_velocity.flatten()+0.5) + 1))\n",
    "sp_hazard = sp_hazard.reshape(sp_depth.shape)\n",
    "\n",
    "# Classify this according to bins\n",
    "breaks_hazard = np.array([0, 0.5, 0.75, 1.25,2, 100])  \n",
    "sp_classified_hazard = classify_raster(sp_hazard, breaks_hazard)\n",
    "# Save to file\n",
    "fp_for_hazard = fps[0].replace('{} (Max).Resampled.Terrain','{}_classified'.format('hazard'))\n",
    "save_array_as_raster(sp_classified_hazard, fp_for_hazard, out_meta) \n",
    "\n",
    "# Plot the classified hazard categories\n",
    "labels_hazard = ['Low hazard', 'Moderate hazard', 'Significant hazard', 'Extreme hazard']\n",
    "classified_colors_list_hazard = [mpl.cm.autumn_r(0.2),mpl.cm.autumn_r(0.5), mpl.cm.autumn_r(0.7),\"darkred\"]\n",
    "plot_classified_raster(fp_for_hazard, labels_hazard, classified_colors_list_hazard) "
   ]
  },
  {
   "cell_type": "markdown",
   "id": "0010e187",
   "metadata": {},
   "source": [
    "### Calculate the hazard categories for the other scenarios, and then find the difference in the categories between those and single peak"
   ]
  },
  {
   "cell_type": "code",
   "execution_count": 7,
   "id": "a6d57be2",
   "metadata": {},
   "outputs": [],
   "source": [
    "labels_hazard_diff = ['2 categories lower', '1 category lower', 'Same category', '1 category higher', '2 category higher', '3 category higher']\n",
    "\n",
    "# for fp in fps[1:]:\n",
    "for fp in fps[1:]:\n",
    "\n",
    "    # Read in depth and velocity rasters\n",
    "    depth = prepare_rainfall_scenario_raster(fp.format('Depth'), remove_little_values)[0]\n",
    "    velocity = prepare_rainfall_scenario_raster(fp.format('Velocity'), remove_little_values)[0]\n",
    "    \n",
    "    # Create a composite hazard array\n",
    "    hazard= np.where((depth.flatten())<0.25, (depth.flatten()* (velocity.flatten()+0.5) + 0.5) , (depth.flatten() * (velocity.flatten()+0.5) + 1))\n",
    "    hazard = hazard.reshape(depth.shape)\n",
    "    \n",
    "    # Classify this according to bins\n",
    "    classified_hazard = classify_raster(hazard, breaks_hazard)\n",
    "    # Save to file\n",
    "    fp_for_hazard = fp.replace('{} (Max).Resampled.Terrain','{}_classified'.format('hazard'))\n",
    "    save_array_as_raster(classified_hazard, fp_for_hazard, out_meta) \n",
    "    # Plot the classified hazard categories\n",
    "    labels_hazard = ['Low hazard', 'Moderate hazard', 'Significant hazard', 'Extreme hazard']\n",
    "    classified_colors_list_hazard = [mpl.cm.autumn_r(0.2),mpl.cm.autumn_r(0.5), mpl.cm.autumn_r(0.7),\"darkred\"]\n",
    "    plot_classified_raster(fp_for_hazard, labels_hazard, classified_colors_list_hazard) \n",
    "    \n",
    "    # Find the difference in category between this scenario and the single peak scenario \n",
    "    difference_raster = sp_classified_hazard - classified_hazard\n",
    "    # abs_difference_raster =abs(difference_raster)\n",
    "    \n",
    "    # Plot the difference\n",
    "    fp_for_diff_raster = fp.replace('{} (Max).Resampled.Terrain','hazard_cat_difference')\n",
    "    save_array_as_raster(difference_raster, fp_for_diff_raster, out_meta) \n",
    "    plot_diff_hazard_cats(fp_for_diff_raster, labels_hazard_diff, classified_colors_list_hazard)"
   ]
  }
 ],
 "metadata": {
  "kernelspec": {
   "display_name": "Python 3 (ipykernel)",
   "language": "python",
   "name": "python3"
  },
  "language_info": {
   "codemirror_mode": {
    "name": "ipython",
    "version": 3
   },
   "file_extension": ".py",
   "mimetype": "text/x-python",
   "name": "python",
   "nbconvert_exporter": "python",
   "pygments_lexer": "ipython3",
   "version": "3.9.7"
  }
 },
 "nbformat": 4,
 "nbformat_minor": 5
}
