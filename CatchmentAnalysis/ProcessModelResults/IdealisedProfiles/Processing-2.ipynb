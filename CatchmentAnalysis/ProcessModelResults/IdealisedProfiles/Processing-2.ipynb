{
 "cells": [
  {
   "cell_type": "code",
   "execution_count": 4,
   "id": "a1491398",
   "metadata": {},
   "outputs": [],
   "source": [
    "import pandas as pd\n",
    "import numpy as np\n",
    "\n",
    "from my_functions_idealisedprofiles import *"
   ]
  },
  {
   "cell_type": "markdown",
   "id": "2abaca13",
   "metadata": {},
   "source": [
    "### Break down analysis for Kippax and Garforth"
   ]
  },
  {
   "cell_type": "code",
   "execution_count": 5,
   "id": "e44c904c",
   "metadata": {},
   "outputs": [],
   "source": [
    "region = 'Garforth' # 'Kippax' #'' # 'Garforth'"
   ]
  },
  {
   "cell_type": "markdown",
   "id": "a29431f3",
   "metadata": {},
   "source": [
    "### Get version of landcover array with just 'urban' and 'rural' categories"
   ]
  },
  {
   "cell_type": "code",
   "execution_count": 6,
   "id": "5b7c8764",
   "metadata": {},
   "outputs": [],
   "source": [
    "# Read in the data\n",
    "landcover, out_meta = prepare_rainfall_scenario_raster(\"../../../../FloodModelling/LandCoverData/{}/LandCover_clipped.tif\".format(region), True)\n",
    "# Convert the 1 and 6 values to 10 (for urban) and the rest to 11 (for non-urban).  \n",
    "landcover_mod =  np.where(landcover==1, 10, landcover)\n",
    "landcover_mod =  np.where(landcover_mod==6, 10, landcover_mod)\n",
    "# Convert the rest of the classes to 11\n",
    "for i in [1,2,3,4,5,7,8,9]:\n",
    "    landcover_mod =  np.where(landcover_mod==i, 11, landcover_mod)"
   ]
  },
  {
   "cell_type": "markdown",
   "id": "a52ab40f",
   "metadata": {},
   "source": [
    "### Define the names of the method (shorter and longer versions)"
   ]
  },
  {
   "cell_type": "code",
   "execution_count": 7,
   "id": "276042a4",
   "metadata": {},
   "outputs": [],
   "source": [
    "methods =[ '6h_sp_c_0.5','6h_sp_fl_0.1', '6h_sp_fl_0.2', '6h_sp_fl_0.3', '6h_sp_fl_0.4',\n",
    "          '6h_sp_bl_0.6','6h_sp_bl_0.7','6h_sp_bl_0.8','6h_sp_bl_0.9']"
   ]
  },
  {
   "cell_type": "markdown",
   "id": "792fabc1",
   "metadata": {},
   "source": [
    "### Find maximum intensity for each method and minute in which it occurs (to use in sorting results analysis)"
   ]
  },
  {
   "cell_type": "code",
   "execution_count": 8,
   "id": "e2b24edf",
   "metadata": {},
   "outputs": [],
   "source": [
    "maxs = []\n",
    "min_of_maxs = []\n",
    "\n",
    "# Add FEH data\n",
    "# feh_precip=pd.read_csv(\"../../CreateSyntheticRainfallEvents/ReFH2_singlepeak/6hr_100yrRP/PostLossRemoval/6h_feh_singlepeak_urban.csv\")\n",
    "# maxs.append(feh_precip[\"Total net rain mm (Observed rainfall - 01/08/2022) - urbanised model\"].max())\n",
    "# min_of_maxs.append(feh_precip[\"Total net rain mm (Observed rainfall - 01/08/2022) - urbanised model\"].idxmax())\n",
    "\n",
    "for method in methods:\n",
    "    precip=pd.read_csv(\"../../CreateSyntheticRainfallEvents/IdealisedProfiles/6hr_100yrRP/PostLossRemoval/{}_urban.csv\".format(method))\n",
    "    # Trim and add minutes column\n",
    "    precip = precip[0:360].copy()\n",
    "    precip['minute']=range(1,361)\n",
    "    # Add max and minutes of max\n",
    "    maxs.append(precip[\"Total net rain mm (Observed rainfall - 01/08/2022) - urbanised model\"].max())\n",
    "    min_of_maxs.append(precip[\"Total net rain mm (Observed rainfall - 01/08/2022) - urbanised model\"].idxmax())"
   ]
  },
  {
   "cell_type": "markdown",
   "id": "a6ea22f7",
   "metadata": {},
   "source": [
    "### Create versions of lists of methods, in order based on max intensity and the the timing of the max intensity "
   ]
  },
  {
   "cell_type": "code",
   "execution_count": 9,
   "id": "5c0354d4",
   "metadata": {},
   "outputs": [],
   "source": [
    "short_ids_by_loading=  pd.DataFrame({\"min\": min_of_maxs, 'method_name': methods}).sort_values('min')[\"method_name\"].tolist()\n",
    "short_ids_by_intensity = pd.DataFrame({\"min\": maxs, 'method_name': methods}).sort_values('min', ascending = False)[\"method_name\"].tolist()"
   ]
  },
  {
   "cell_type": "markdown",
   "id": "4f0c5273",
   "metadata": {},
   "source": [
    "### Create dataframe of colours for each cluster (based on their loading)"
   ]
  },
  {
   "cell_type": "code",
   "execution_count": 10,
   "id": "80b2acba",
   "metadata": {},
   "outputs": [],
   "source": [
    "colours_df = create_colours_df(short_ids_by_loading, methods)"
   ]
  },
  {
   "cell_type": "markdown",
   "id": "6748b25b",
   "metadata": {},
   "source": [
    "### Create list of filepaths, formatted to be used for either depth or velocity"
   ]
  },
  {
   "cell_type": "code",
   "execution_count": 11,
   "id": "f847f1d7",
   "metadata": {},
   "outputs": [],
   "source": [
    "fps = []\n",
    "for method_num, short_id in enumerate(methods):\n",
    "    fp = model_directory + \"{}/{}/{} (Max).Resampled.Terrain.tif\".format(short_id, region, '{}')\n",
    "    fps.append(fp)"
   ]
  },
  {
   "cell_type": "markdown",
   "id": "d5fa5f30",
   "metadata": {},
   "source": [
    "### Define breaks for categorising velocity and depth"
   ]
  },
  {
   "cell_type": "code",
   "execution_count": 12,
   "id": "c3abe3dd",
   "metadata": {},
   "outputs": [],
   "source": [
    "# Define breaks to split the depths/velocities on\n",
    "breaks_depths = np.array([0, 0.3, 0.6, 1.2, 100])  \n",
    "labels_depth = ['<=0.3m', '0.3-0.6m', '0.6-1.2m', '>1.2m']\n",
    "breaks_velocity = np.array([0,0.25,0.5,2,100])\n",
    "labels_velocity = [\"<=0.25m/s\", \"0.25-0.5m/s\", \"0.5-2m/s\", \">2m/s\"]"
   ]
  },
  {
   "cell_type": "markdown",
   "id": "2979ec44",
   "metadata": {},
   "source": [
    "# <u> Flood extent </u>\n",
    "To examine whether the rainfall's temporal distribution influences the total extent of flooding, the number of flooded cells and the total flooded area in km2 (incl. only cells with depth >0.1m) is compared between the profile with a single peak, and the three methods for producing multi-peaked rainfall events. b"
   ]
  },
  {
   "cell_type": "markdown",
   "id": "b130fbb2",
   "metadata": {},
   "source": [
    "### Create dataframes containing the (total/urban) flooded area in each depth/velocity bin"
   ]
  },
  {
   "cell_type": "code",
   "execution_count": 13,
   "id": "9af59db8",
   "metadata": {},
   "outputs": [],
   "source": [
    "velocity_counts, velocity_props = create_binned_counts_and_props(fps, 'Velocity', breaks_velocity, labels_velocity, remove_little_values)\n",
    "depth_counts, depth_props = create_binned_counts_and_props(fps, 'Depth', breaks_depths, labels_depth, remove_little_values)"
   ]
  },
  {
   "cell_type": "code",
   "execution_count": 14,
   "id": "b7241e0b",
   "metadata": {},
   "outputs": [],
   "source": [
    "velocity_counts_urban, velocity_props_urban = create_binned_counts_and_props_urban(fps, 'Velocity', breaks_velocity, labels_velocity, remove_little_values, landcover_mod)\n",
    "depth_counts_urban, depth_props_urban = create_binned_counts_and_props_urban(fps, 'Depth', breaks_depths, labels_depth, remove_little_values, landcover_mod)"
   ]
  },
  {
   "cell_type": "markdown",
   "id": "a7d7ca3a",
   "metadata": {},
   "source": [
    "### Create dataframes containing the (total/urban) flooded area"
   ]
  },
  {
   "cell_type": "code",
   "execution_count": 15,
   "id": "3d51a15c",
   "metadata": {},
   "outputs": [],
   "source": [
    "totals_df = create_totals_df(velocity_counts)\n",
    "totals_df_urban = create_totals_df(velocity_counts_urban)      "
   ]
  },
  {
   "cell_type": "code",
   "execution_count": 16,
   "id": "6dd6dd25",
   "metadata": {},
   "outputs": [
    {
     "data": {
      "text/html": [
       "<div>\n",
       "<style scoped>\n",
       "    .dataframe tbody tr th:only-of-type {\n",
       "        vertical-align: middle;\n",
       "    }\n",
       "\n",
       "    .dataframe tbody tr th {\n",
       "        vertical-align: top;\n",
       "    }\n",
       "\n",
       "    .dataframe thead th {\n",
       "        text-align: right;\n",
       "    }\n",
       "</style>\n",
       "<table border=\"1\" class=\"dataframe\">\n",
       "  <thead>\n",
       "    <tr style=\"text-align: right;\">\n",
       "      <th></th>\n",
       "      <th>index</th>\n",
       "      <th>6h_sp_c_0.5</th>\n",
       "      <th>6h_sp_fl_0.1</th>\n",
       "      <th>6h_sp_fl_0.2</th>\n",
       "      <th>6h_sp_fl_0.3</th>\n",
       "      <th>6h_sp_fl_0.4</th>\n",
       "      <th>6h_sp_bl_0.6</th>\n",
       "      <th>6h_sp_bl_0.7</th>\n",
       "      <th>6h_sp_bl_0.8</th>\n",
       "      <th>6h_sp_bl_0.9</th>\n",
       "    </tr>\n",
       "  </thead>\n",
       "  <tbody>\n",
       "    <tr>\n",
       "      <th>0</th>\n",
       "      <td>&lt;=0.25m/s</td>\n",
       "      <td>202431</td>\n",
       "      <td>193477</td>\n",
       "      <td>195696</td>\n",
       "      <td>198342</td>\n",
       "      <td>200513</td>\n",
       "      <td>204540</td>\n",
       "      <td>206255</td>\n",
       "      <td>208265</td>\n",
       "      <td>210021</td>\n",
       "    </tr>\n",
       "    <tr>\n",
       "      <th>1</th>\n",
       "      <td>0.25-0.5m/s</td>\n",
       "      <td>16393</td>\n",
       "      <td>9898</td>\n",
       "      <td>11328</td>\n",
       "      <td>12919</td>\n",
       "      <td>14567</td>\n",
       "      <td>18113</td>\n",
       "      <td>19699</td>\n",
       "      <td>20918</td>\n",
       "      <td>21648</td>\n",
       "    </tr>\n",
       "    <tr>\n",
       "      <th>2</th>\n",
       "      <td>0.5-2m/s</td>\n",
       "      <td>778</td>\n",
       "      <td>379</td>\n",
       "      <td>451</td>\n",
       "      <td>542</td>\n",
       "      <td>648</td>\n",
       "      <td>944</td>\n",
       "      <td>1111</td>\n",
       "      <td>1280</td>\n",
       "      <td>1361</td>\n",
       "    </tr>\n",
       "    <tr>\n",
       "      <th>3</th>\n",
       "      <td>&gt;2m/s</td>\n",
       "      <td>0</td>\n",
       "      <td>0</td>\n",
       "      <td>0</td>\n",
       "      <td>0</td>\n",
       "      <td>0</td>\n",
       "      <td>0</td>\n",
       "      <td>0</td>\n",
       "      <td>0</td>\n",
       "      <td>0</td>\n",
       "    </tr>\n",
       "  </tbody>\n",
       "</table>\n",
       "</div>"
      ],
      "text/plain": [
       "         index  6h_sp_c_0.5  6h_sp_fl_0.1  6h_sp_fl_0.2  6h_sp_fl_0.3  \\\n",
       "0    <=0.25m/s       202431        193477        195696        198342   \n",
       "1  0.25-0.5m/s        16393          9898         11328         12919   \n",
       "2     0.5-2m/s          778           379           451           542   \n",
       "3        >2m/s            0             0             0             0   \n",
       "\n",
       "   6h_sp_fl_0.4  6h_sp_bl_0.6  6h_sp_bl_0.7  6h_sp_bl_0.8  6h_sp_bl_0.9  \n",
       "0        200513        204540        206255        208265        210021  \n",
       "1         14567         18113         19699         20918         21648  \n",
       "2           648           944          1111          1280          1361  \n",
       "3             0             0             0             0             0  "
      ]
     },
     "execution_count": 16,
     "metadata": {},
     "output_type": "execute_result"
    }
   ],
   "source": [
    "velocity_counts_urban"
   ]
  },
  {
   "cell_type": "markdown",
   "id": "837cf9b7",
   "metadata": {},
   "source": [
    "### Create dataframes containing the % diff in the flooded area between single peak and each other method  "
   ]
  },
  {
   "cell_type": "code",
   "execution_count": 17,
   "id": "dd99a812",
   "metadata": {},
   "outputs": [],
   "source": [
    "percent_diffs_df = find_percentage_diff (totals_df, fps) \n",
    "percent_diffs_df_urban = find_percentage_diff (totals_df_urban, fps)   "
   ]
  },
  {
   "cell_type": "markdown",
   "id": "87bcb2a6",
   "metadata": {},
   "source": [
    "## Find number of cells in which each method leads to the worst flooding (depth/velocity)"
   ]
  },
  {
   "cell_type": "code",
   "execution_count": 18,
   "id": "f48368b5",
   "metadata": {},
   "outputs": [],
   "source": [
    "# Find the number of flooded cells with the worst flooding for each method\n",
    "worst_case_method_depth = find_worst_case_method(fps, methods, 'Depth')\n",
    "worst_case_method_velocity = find_worst_case_method(fps, methods,  'Velocity') "
   ]
  },
  {
   "cell_type": "code",
   "execution_count": 19,
   "id": "d31cf63e",
   "metadata": {},
   "outputs": [],
   "source": [
    "# Remove multiple matches and nan\n",
    "worst_case_method_depth = worst_case_method_depth[~worst_case_method_depth['values'].isin(['multiple matches','nan'])]\n",
    "worst_case_method_velocity = worst_case_method_velocity[~worst_case_method_velocity['values'].isin(['multiple matches','nan'])]\n",
    "\n",
    "# # Reorder (and also add in the methods that are missing)\n",
    "worst_case_method_depth = pd.merge(worst_case_method_depth,  pd.DataFrame({'values': methods}), how=\"outer\")\n",
    "worst_case_method_depth = worst_case_method_depth.reindex(worst_case_method_depth['values'].map(dict(zip(methods, range(len(methods))))).sort_values().index)\n",
    "worst_case_method_depth.reset_index(inplace=True,drop=True)\n",
    "\n",
    "worst_case_method_velocity = pd.merge(worst_case_method_velocity,  pd.DataFrame({'values': methods}), how=\"outer\")\n",
    "worst_case_method_velocity = worst_case_method_velocity.reindex(worst_case_method_velocity['values'].map(dict(zip(methods, range(len(methods))))).sort_values().index)\n",
    "worst_case_method_velocity.reset_index(inplace=True,drop=True)"
   ]
  },
  {
   "cell_type": "markdown",
   "id": "ac2b76f8",
   "metadata": {},
   "source": [
    "## Find number of cells with each hazard rating"
   ]
  },
  {
   "cell_type": "code",
   "execution_count": 20,
   "id": "cc775ba2",
   "metadata": {},
   "outputs": [],
   "source": [
    "hazard_counts, hazard_props = create_binned_counts_and_props_hazard(fps)"
   ]
  },
  {
   "cell_type": "markdown",
   "id": "ed9253a1",
   "metadata": {},
   "source": [
    "## Find number of cells which have moved between hazard categories"
   ]
  },
  {
   "cell_type": "code",
   "execution_count": 21,
   "id": "1b165cd8",
   "metadata": {},
   "outputs": [],
   "source": [
    "hazard_cat_changes = create_binned_counts_and_props_hazard_cat_change(fps)"
   ]
  },
  {
   "cell_type": "markdown",
   "id": "c46068d8",
   "metadata": {},
   "source": [
    "### Create a dataframe containing all the info on each of the scenarios"
   ]
  },
  {
   "cell_type": "code",
   "execution_count": 22,
   "id": "884a8b57",
   "metadata": {},
   "outputs": [],
   "source": [
    "cluster_results = pd.DataFrame({'Cluster_num': methods, \"MaxRainfallIntensity\": maxs,  \n",
    "    \"MaxRainfallIntensityMinute\": min_of_maxs,\n",
    "   'TotalFloodedArea':totals_df['FloodedArea'],'%Diff_FloodedArea_fromSP':percent_diffs_df['percent_diffs'],\n",
    "    '%Diff_FloodedArea_fromSP_formatted':percent_diffs_df['percent_diff_formatted'],\n",
    "    'Abs%Diff_FloodedArea_fromSP':percent_diffs_df['percent_diffs_abs'],'UrbanFloodedArea':totals_df_urban['FloodedArea'],\n",
    "  '%Diff_UrbanFloodedArea_fromSP':percent_diffs_df_urban['percent_diffs'] ,\n",
    "  '%Diff_UrbanFloodedArea_fromSP_formatted':percent_diffs_df_urban['percent_diff_formatted'],\n",
    "    'Abs%Diff_UrbanFloodedArea_fromSP':percent_diffs_df_urban['percent_diffs_abs'], \n",
    "    'WorstCaseDepth_ncells': worst_case_method_depth['counts'].tolist(),\n",
    "    'WorstCaseVelocity_ncells': worst_case_method_velocity['counts'].tolist(), \n",
    "                                'colour':colours_df['colour']}) "
   ]
  },
  {
   "cell_type": "code",
   "execution_count": 23,
   "id": "5629c3dd",
   "metadata": {},
   "outputs": [
    {
     "data": {
      "text/html": [
       "<div>\n",
       "<style scoped>\n",
       "    .dataframe tbody tr th:only-of-type {\n",
       "        vertical-align: middle;\n",
       "    }\n",
       "\n",
       "    .dataframe tbody tr th {\n",
       "        vertical-align: top;\n",
       "    }\n",
       "\n",
       "    .dataframe thead th {\n",
       "        text-align: right;\n",
       "    }\n",
       "</style>\n",
       "<table border=\"1\" class=\"dataframe\">\n",
       "  <thead>\n",
       "    <tr style=\"text-align: right;\">\n",
       "      <th></th>\n",
       "      <th>Cluster_num</th>\n",
       "      <th>MaxRainfallIntensity</th>\n",
       "      <th>MaxRainfallIntensityMinute</th>\n",
       "      <th>TotalFloodedArea</th>\n",
       "      <th>%Diff_FloodedArea_fromSP</th>\n",
       "      <th>%Diff_FloodedArea_fromSP_formatted</th>\n",
       "      <th>Abs%Diff_FloodedArea_fromSP</th>\n",
       "      <th>UrbanFloodedArea</th>\n",
       "      <th>%Diff_UrbanFloodedArea_fromSP</th>\n",
       "      <th>%Diff_UrbanFloodedArea_fromSP_formatted</th>\n",
       "      <th>Abs%Diff_UrbanFloodedArea_fromSP</th>\n",
       "      <th>WorstCaseDepth_ncells</th>\n",
       "      <th>WorstCaseVelocity_ncells</th>\n",
       "      <th>colour</th>\n",
       "    </tr>\n",
       "  </thead>\n",
       "  <tbody>\n",
       "    <tr>\n",
       "      <th>0</th>\n",
       "      <td>6h_sp_c_0.5</td>\n",
       "      <td>0.301370</td>\n",
       "      <td>180</td>\n",
       "      <td>0.323883</td>\n",
       "      <td>0.00</td>\n",
       "      <td></td>\n",
       "      <td>0.00</td>\n",
       "      <td>0.219602</td>\n",
       "      <td>0.00</td>\n",
       "      <td></td>\n",
       "      <td>0.00</td>\n",
       "      <td>1420</td>\n",
       "      <td>11448</td>\n",
       "      <td>grey</td>\n",
       "    </tr>\n",
       "    <tr>\n",
       "      <th>1</th>\n",
       "      <td>6h_sp_fl_0.1</td>\n",
       "      <td>0.232995</td>\n",
       "      <td>36</td>\n",
       "      <td>0.301875</td>\n",
       "      <td>-6.80</td>\n",
       "      <td>-6.8%</td>\n",
       "      <td>6.80</td>\n",
       "      <td>0.203754</td>\n",
       "      <td>-7.22</td>\n",
       "      <td>-7.22%</td>\n",
       "      <td>7.22</td>\n",
       "      <td>12667</td>\n",
       "      <td>36653</td>\n",
       "      <td>darkblue</td>\n",
       "    </tr>\n",
       "    <tr>\n",
       "      <th>2</th>\n",
       "      <td>6h_sp_fl_0.2</td>\n",
       "      <td>0.250089</td>\n",
       "      <td>72</td>\n",
       "      <td>0.306982</td>\n",
       "      <td>-5.22</td>\n",
       "      <td>-5.22%</td>\n",
       "      <td>5.22</td>\n",
       "      <td>0.207475</td>\n",
       "      <td>-5.52</td>\n",
       "      <td>-5.52%</td>\n",
       "      <td>5.52</td>\n",
       "      <td>23909</td>\n",
       "      <td>21051</td>\n",
       "      <td>darkblue</td>\n",
       "    </tr>\n",
       "    <tr>\n",
       "      <th>3</th>\n",
       "      <td>6h_sp_fl_0.3</td>\n",
       "      <td>0.267183</td>\n",
       "      <td>108</td>\n",
       "      <td>0.312887</td>\n",
       "      <td>-3.40</td>\n",
       "      <td>-3.4%</td>\n",
       "      <td>3.40</td>\n",
       "      <td>0.211803</td>\n",
       "      <td>-3.55</td>\n",
       "      <td>-3.55%</td>\n",
       "      <td>3.55</td>\n",
       "      <td>25425</td>\n",
       "      <td>16921</td>\n",
       "      <td>paleturquoise</td>\n",
       "    </tr>\n",
       "    <tr>\n",
       "      <th>4</th>\n",
       "      <td>6h_sp_fl_0.4</td>\n",
       "      <td>0.284277</td>\n",
       "      <td>144</td>\n",
       "      <td>0.318379</td>\n",
       "      <td>-1.70</td>\n",
       "      <td>-1.7%</td>\n",
       "      <td>1.70</td>\n",
       "      <td>0.215728</td>\n",
       "      <td>-1.76</td>\n",
       "      <td>-1.76%</td>\n",
       "      <td>1.76</td>\n",
       "      <td>608</td>\n",
       "      <td>13705</td>\n",
       "      <td>paleturquoise</td>\n",
       "    </tr>\n",
       "    <tr>\n",
       "      <th>5</th>\n",
       "      <td>6h_sp_bl_0.6</td>\n",
       "      <td>0.318464</td>\n",
       "      <td>216</td>\n",
       "      <td>0.330594</td>\n",
       "      <td>2.07</td>\n",
       "      <td>+2.07%</td>\n",
       "      <td>2.07</td>\n",
       "      <td>0.223597</td>\n",
       "      <td>1.82</td>\n",
       "      <td>+1.82%</td>\n",
       "      <td>1.82</td>\n",
       "      <td>5276</td>\n",
       "      <td>9523</td>\n",
       "      <td>indianred</td>\n",
       "    </tr>\n",
       "    <tr>\n",
       "      <th>6</th>\n",
       "      <td>6h_sp_bl_0.7</td>\n",
       "      <td>0.335558</td>\n",
       "      <td>252</td>\n",
       "      <td>0.336859</td>\n",
       "      <td>4.01</td>\n",
       "      <td>+4.01%</td>\n",
       "      <td>4.01</td>\n",
       "      <td>0.227065</td>\n",
       "      <td>3.40</td>\n",
       "      <td>+3.4%</td>\n",
       "      <td>3.40</td>\n",
       "      <td>3964</td>\n",
       "      <td>9913</td>\n",
       "      <td>indianred</td>\n",
       "    </tr>\n",
       "    <tr>\n",
       "      <th>7</th>\n",
       "      <td>6h_sp_bl_0.8</td>\n",
       "      <td>0.352652</td>\n",
       "      <td>288</td>\n",
       "      <td>0.341844</td>\n",
       "      <td>5.55</td>\n",
       "      <td>+5.55%</td>\n",
       "      <td>5.55</td>\n",
       "      <td>0.230463</td>\n",
       "      <td>4.95</td>\n",
       "      <td>+4.95%</td>\n",
       "      <td>4.95</td>\n",
       "      <td>3663</td>\n",
       "      <td>9582</td>\n",
       "      <td>darkred</td>\n",
       "    </tr>\n",
       "    <tr>\n",
       "      <th>8</th>\n",
       "      <td>6h_sp_bl_0.9</td>\n",
       "      <td>0.369745</td>\n",
       "      <td>324</td>\n",
       "      <td>0.345601</td>\n",
       "      <td>6.71</td>\n",
       "      <td>+6.71%</td>\n",
       "      <td>6.71</td>\n",
       "      <td>0.233030</td>\n",
       "      <td>6.11</td>\n",
       "      <td>+6.11%</td>\n",
       "      <td>6.11</td>\n",
       "      <td>222881</td>\n",
       "      <td>171921</td>\n",
       "      <td>darkred</td>\n",
       "    </tr>\n",
       "  </tbody>\n",
       "</table>\n",
       "</div>"
      ],
      "text/plain": [
       "    Cluster_num  MaxRainfallIntensity  MaxRainfallIntensityMinute  \\\n",
       "0   6h_sp_c_0.5              0.301370                         180   \n",
       "1  6h_sp_fl_0.1              0.232995                          36   \n",
       "2  6h_sp_fl_0.2              0.250089                          72   \n",
       "3  6h_sp_fl_0.3              0.267183                         108   \n",
       "4  6h_sp_fl_0.4              0.284277                         144   \n",
       "5  6h_sp_bl_0.6              0.318464                         216   \n",
       "6  6h_sp_bl_0.7              0.335558                         252   \n",
       "7  6h_sp_bl_0.8              0.352652                         288   \n",
       "8  6h_sp_bl_0.9              0.369745                         324   \n",
       "\n",
       "   TotalFloodedArea  %Diff_FloodedArea_fromSP  \\\n",
       "0          0.323883                      0.00   \n",
       "1          0.301875                     -6.80   \n",
       "2          0.306982                     -5.22   \n",
       "3          0.312887                     -3.40   \n",
       "4          0.318379                     -1.70   \n",
       "5          0.330594                      2.07   \n",
       "6          0.336859                      4.01   \n",
       "7          0.341844                      5.55   \n",
       "8          0.345601                      6.71   \n",
       "\n",
       "  %Diff_FloodedArea_fromSP_formatted  Abs%Diff_FloodedArea_fromSP  \\\n",
       "0                                                            0.00   \n",
       "1                              -6.8%                         6.80   \n",
       "2                             -5.22%                         5.22   \n",
       "3                              -3.4%                         3.40   \n",
       "4                              -1.7%                         1.70   \n",
       "5                             +2.07%                         2.07   \n",
       "6                             +4.01%                         4.01   \n",
       "7                             +5.55%                         5.55   \n",
       "8                             +6.71%                         6.71   \n",
       "\n",
       "   UrbanFloodedArea  %Diff_UrbanFloodedArea_fromSP  \\\n",
       "0          0.219602                           0.00   \n",
       "1          0.203754                          -7.22   \n",
       "2          0.207475                          -5.52   \n",
       "3          0.211803                          -3.55   \n",
       "4          0.215728                          -1.76   \n",
       "5          0.223597                           1.82   \n",
       "6          0.227065                           3.40   \n",
       "7          0.230463                           4.95   \n",
       "8          0.233030                           6.11   \n",
       "\n",
       "  %Diff_UrbanFloodedArea_fromSP_formatted  Abs%Diff_UrbanFloodedArea_fromSP  \\\n",
       "0                                                                      0.00   \n",
       "1                                  -7.22%                              7.22   \n",
       "2                                  -5.52%                              5.52   \n",
       "3                                  -3.55%                              3.55   \n",
       "4                                  -1.76%                              1.76   \n",
       "5                                  +1.82%                              1.82   \n",
       "6                                   +3.4%                              3.40   \n",
       "7                                  +4.95%                              4.95   \n",
       "8                                  +6.11%                              6.11   \n",
       "\n",
       "   WorstCaseDepth_ncells  WorstCaseVelocity_ncells         colour  \n",
       "0                   1420                     11448           grey  \n",
       "1                  12667                     36653       darkblue  \n",
       "2                  23909                     21051       darkblue  \n",
       "3                  25425                     16921  paleturquoise  \n",
       "4                    608                     13705  paleturquoise  \n",
       "5                   5276                      9523      indianred  \n",
       "6                   3964                      9913      indianred  \n",
       "7                   3663                      9582        darkred  \n",
       "8                 222881                    171921        darkred  "
      ]
     },
     "execution_count": 23,
     "metadata": {},
     "output_type": "execute_result"
    }
   ],
   "source": [
    "cluster_results"
   ]
  },
  {
   "cell_type": "markdown",
   "id": "681011fa",
   "metadata": {},
   "source": [
    "### Add the depth/velocity category breakdowns and hazard categories to this"
   ]
  },
  {
   "cell_type": "code",
   "execution_count": 24,
   "id": "d03d47e4",
   "metadata": {},
   "outputs": [],
   "source": [
    "dfs = [velocity_props, depth_props, velocity_props_urban, depth_props_urban, velocity_counts, depth_counts,\n",
    "          velocity_counts_urban, depth_counts_urban,hazard_counts, hazard_props]\n",
    "suffixes = ['_propcells', '_propcells','_propcells_urban','_propcells_urban','_countcells','_countcells','_countcells_urban','_countcells_urban',\n",
    "'_numcells', '_propcells']\n",
    "\n",
    "for num, df in enumerate(dfs):\n",
    "    # Reformat the dataframe\n",
    "    df = df.set_index('index').T\n",
    "    # Add the correct suffix to the column names\n",
    "    df = df.add_suffix(suffixes[num]) \n",
    "    # Add Cluster_num column for joining\n",
    "    df['Cluster_num'] = df.index#\n",
    "    # Join to cluster results dataframe\n",
    "    cluster_results = pd.merge(cluster_results,  df, how=\"outer\", on = 'Cluster_num')\n",
    "    \n",
    "cluster_results = pd.merge(cluster_results, hazard_cat_changes,  how=\"outer\", on = 'Cluster_num')    "
   ]
  },
  {
   "cell_type": "markdown",
   "id": "765d6402",
   "metadata": {},
   "source": [
    "### Save to file"
   ]
  },
  {
   "cell_type": "code",
   "execution_count": 25,
   "id": "f6facf3e",
   "metadata": {},
   "outputs": [],
   "source": [
    "cluster_results.to_csv(\"Data/{}allclusters_summary.csv\".format(region), index=False)"
   ]
  },
  {
   "cell_type": "markdown",
   "id": "63cea586",
   "metadata": {},
   "source": [
    "### Delete tiff files (as these aren't used again and take up a lot of space)"
   ]
  },
  {
   "cell_type": "code",
   "execution_count": 26,
   "id": "9f688f21",
   "metadata": {},
   "outputs": [],
   "source": [
    "# for method in short_ids:\n",
    "#     print(method)\n",
    "#     if method != '6h_feh_sp':\n",
    "#         os.remove(\"../../../../FloodModelling/MeganModel_New/{}/hazard_cat_difference.tif\".format(method)) \n",
    "#         os.remove(\"../../../../FloodModelling/MeganModel_New/{}/Depth_difffromsinglepeak_classified.tif\".format(method)) \n",
    "#         os.remove(\"../../../../FloodModelling/MeganModel_New/{}/Depth_difffromsinglepeak_posneg.tif\".format(method)) \n",
    "#         os.remove(\"../../../../FloodModelling/MeganModel_New/{}/Velocity_difffromsinglepeak_classified.tif\".format(method)) \n",
    "#         os.remove(\"../../../../FloodModelling/MeganModel_New/{}/Velocity_difffromsinglepeak_posneg.tif\".format(method)) \n",
    "        \n",
    "#     os.remove(\"../../../../FloodModelling/MeganModel_New/{}/Depth_classified.tif\".format(method)) \n",
    "#     os.remove(\"../../../../FloodModelling/MeganModel_New/{}/hazard_classified.tif\".format(method)) \n",
    "#     os.remove(\"../../../../FloodModelling/MeganModel_New/{}/Velocity_classified.tif\".format(method)) "
   ]
  }
 ],
 "metadata": {
  "kernelspec": {
   "display_name": "Python 3 (ipykernel)",
   "language": "python",
   "name": "python3"
  },
  "language_info": {
   "codemirror_mode": {
    "name": "ipython",
    "version": 3
   },
   "file_extension": ".py",
   "mimetype": "text/x-python",
   "name": "python",
   "nbconvert_exporter": "python",
   "pygments_lexer": "ipython3",
   "version": "3.9.7"
  }
 },
 "nbformat": 4,
 "nbformat_minor": 5
}
