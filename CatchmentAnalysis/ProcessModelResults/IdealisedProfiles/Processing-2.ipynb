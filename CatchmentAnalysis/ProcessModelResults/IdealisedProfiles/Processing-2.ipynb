{
 "cells": [
  {
   "cell_type": "code",
   "execution_count": 1,
   "id": "a1491398",
   "metadata": {},
   "outputs": [],
   "source": [
    "import pandas as pd\n",
    "import numpy as np\n",
    "\n",
    "from my_functions_idealisedprofiles import *"
   ]
  },
  {
   "cell_type": "markdown",
   "id": "a29431f3",
   "metadata": {},
   "source": [
    "### Get version of landcover array with just 'urban' and 'rural' categories"
   ]
  },
  {
   "cell_type": "code",
   "execution_count": 2,
   "id": "5b7c8764",
   "metadata": {},
   "outputs": [],
   "source": [
    "# Read in the data\n",
    "landcover, out_meta = prepare_rainfall_scenario_raster(model_directory + \"LandCover_clipped.tif\", True)\n",
    "# Convert the 1 and 6 values to 10 (for urban) and the rest to 11 (for non-urban).  \n",
    "landcover_mod =  np.where(landcover==1, 10, landcover)\n",
    "landcover_mod =  np.where(landcover_mod==6, 10, landcover_mod)\n",
    "# Convert the rest of the classes to 11\n",
    "for i in [1,2,3,4,5,7,8,9]:\n",
    "    landcover_mod =  np.where(landcover_mod==i, 11, landcover_mod)"
   ]
  },
  {
   "cell_type": "markdown",
   "id": "a52ab40f",
   "metadata": {},
   "source": [
    "### Define the names of the method (shorter and longer versions)"
   ]
  },
  {
   "cell_type": "code",
   "execution_count": 121,
   "id": "276042a4",
   "metadata": {},
   "outputs": [],
   "source": [
    "methods =['6h_feh_sp', '6h_sp_fl_0.1', '6h_sp_fl_0.2', '6h_sp_fl_0.3', '6h_sp_fl_0.4', '6h_sp',\n",
    "          '6h_sp_bl_0.6','6h_sp_bl_0.7','6h_sp_bl_0.8','6h_sp_bl_0.9']\n",
    "short_ids = ['6h_feh_sp', '6h_sp_fl_0.1', '6h_sp_fl_0.2', '6h_sp_fl_0.3', '6h_sp_fl_0.4', '6h_sp',\n",
    "          '6h_sp_bl_0.6','6h_sp_bl_0.7','6h_sp_bl_0.8','6h_sp_bl_0.9']   "
   ]
  },
  {
   "cell_type": "markdown",
   "id": "792fabc1",
   "metadata": {},
   "source": [
    "### Find maximum intensity for each method and minute in which it occurs (to use in sorting results analysis)"
   ]
  },
  {
   "cell_type": "code",
   "execution_count": 71,
   "id": "e2b24edf",
   "metadata": {},
   "outputs": [],
   "source": [
    "maxs = []\n",
    "min_of_maxs = []\n",
    "\n",
    "# Add FEH data\n",
    "feh_precip=pd.read_csv(\"../../CreateSyntheticRainfallEvents/ReFH2_singlepeak/6hr_100yrRP/PostLossRemoval/6h_feh_singlepeak_urban.csv\")\n",
    "maxs.append(feh_precip[\"Total net rain mm (Observed rainfall - 01/08/2022) - urbanised model\"].max())\n",
    "min_of_maxs.append(feh_precip[\"Total net rain mm (Observed rainfall - 01/08/2022) - urbanised model\"].idxmax())\n",
    "\n",
    "for method in methods[1:]:\n",
    "#     if method == '6h_single-peak':\n",
    "#         precip=pd.read_csv(\"../../CreateSyntheticRainfallEvents/SyntheticProfiles/6hr_100yrRP/PostLossRemoval/{}_urban.csv\".format(method))\n",
    "#     else:\n",
    "    precip=pd.read_csv(\"../../CreateSyntheticRainfallEvents/IdealisedProfiles/6hr_100yrRP/PostLossRemoval/{}_urban.csv\".format(method))\n",
    "    maxs.append(precip[\"Total net rain mm (Observed rainfall - 01/08/2022) - urbanised model\"].max())\n",
    "    min_of_maxs.append(precip[\"Total net rain mm (Observed rainfall - 01/08/2022) - urbanised model\"].idxmax())"
   ]
  },
  {
   "cell_type": "markdown",
   "id": "a6ea22f7",
   "metadata": {},
   "source": [
    "### Create versions of lists of methods, in order based on max intensity and the the timing of the max intensity "
   ]
  },
  {
   "cell_type": "code",
   "execution_count": 72,
   "id": "5c0354d4",
   "metadata": {},
   "outputs": [],
   "source": [
    "short_ids_by_loading=  pd.DataFrame({\"min\": min_of_maxs, 'method_name': short_ids}).sort_values('min')[\"method_name\"].tolist()\n",
    "short_ids_by_loading.remove('6h_feh_sp')\n",
    "short_ids_by_loading = ['6h_feh_sp']+short_ids_by_loading\n",
    "\n",
    "short_ids_by_intensity = pd.DataFrame({\"min\": maxs, 'method_name': short_ids}).sort_values('min', ascending = False)[\"method_name\"].tolist()\n",
    "short_ids_by_intensity.remove('6h_feh_sp')\n",
    "short_ids_by_intensity = ['6h_feh_sp']+short_ids_by_intensity"
   ]
  },
  {
   "cell_type": "markdown",
   "id": "4f0c5273",
   "metadata": {},
   "source": [
    "### Create dataframe of colours for each cluster (based on their loading)"
   ]
  },
  {
   "cell_type": "code",
   "execution_count": 75,
   "id": "80b2acba",
   "metadata": {},
   "outputs": [],
   "source": [
    "colours_df = create_colours_df(short_ids_by_loading, short_ids)"
   ]
  },
  {
   "cell_type": "markdown",
   "id": "6748b25b",
   "metadata": {},
   "source": [
    "### Create list of filepaths, formatted to be used for either depth or velocity"
   ]
  },
  {
   "cell_type": "code",
   "execution_count": 124,
   "id": "f847f1d7",
   "metadata": {},
   "outputs": [],
   "source": [
    "fps = []\n",
    "for method_num, short_id in enumerate(short_ids):\n",
    "    if short_id == '6h_fp':\n",
    "        fp = '../../../../FloodModelling/MeganModel_New/6h_fp/{} (Max).Resampled.Terrain.tif'\n",
    "    else:\n",
    "        fp = model_directory + \"{}/{} (Max).Resampled.Terrain.tif\".format(short_id, '{}')\n",
    "    fps.append(fp)"
   ]
  },
  {
   "cell_type": "markdown",
   "id": "d5fa5f30",
   "metadata": {},
   "source": [
    "### Define breaks for categorising velocity and depth"
   ]
  },
  {
   "cell_type": "code",
   "execution_count": 126,
   "id": "c3abe3dd",
   "metadata": {},
   "outputs": [],
   "source": [
    "# Define breaks to split the depths/velocities on\n",
    "breaks_depths = np.array([0, 0.3, 0.6, 1.2, 100])  \n",
    "labels_depth = ['<=0.3m', '0.3-0.6m', '0.6-1.2m', '>1.2m']\n",
    "breaks_velocity = np.array([0,0.25,0.5,2,100])\n",
    "labels_velocity = [\"<=0.25m/s\", \"0.25-0.5m/s\", \"0.5-2m/s\", \">2m/s\"]"
   ]
  },
  {
   "cell_type": "markdown",
   "id": "2979ec44",
   "metadata": {},
   "source": [
    "# <u> Flood extent </u>\n",
    "To examine whether the rainfall's temporal distribution influences the total extent of flooding, the number of flooded cells and the total flooded area in km2 (incl. only cells with depth >0.1m) is compared between the profile with a single peak, and the three methods for producing multi-peaked rainfall events. b"
   ]
  },
  {
   "cell_type": "markdown",
   "id": "b130fbb2",
   "metadata": {},
   "source": [
    "### Create dataframes containing the (total/urban) flooded area in each depth/velocity bin"
   ]
  },
  {
   "cell_type": "code",
   "execution_count": 128,
   "id": "9af59db8",
   "metadata": {},
   "outputs": [],
   "source": [
    "velocity_counts, velocity_props = create_binned_counts_and_props(fps, 'Velocity', breaks_velocity, labels_velocity, remove_little_values)\n",
    "depth_counts, depth_props = create_binned_counts_and_props(fps, 'Depth', breaks_depths, labels_depth, remove_little_values)"
   ]
  },
  {
   "cell_type": "code",
   "execution_count": 131,
   "id": "b7241e0b",
   "metadata": {},
   "outputs": [],
   "source": [
    "velocity_counts_urban, velocity_props_urban = create_binned_counts_and_props_urban(fps, 'Velocity', breaks_velocity, labels_velocity, remove_little_values, landcover_mod)\n",
    "depth_counts_urban, depth_props_urban = create_binned_counts_and_props_urban(fps, 'Depth', breaks_depths, labels_depth, remove_little_values, landcover_mod)"
   ]
  },
  {
   "cell_type": "markdown",
   "id": "a7d7ca3a",
   "metadata": {},
   "source": [
    "### Create dataframes containing the (total/urban) flooded area"
   ]
  },
  {
   "cell_type": "code",
   "execution_count": 132,
   "id": "3d51a15c",
   "metadata": {},
   "outputs": [],
   "source": [
    "totals_df = create_totals_df(velocity_counts)\n",
    "totals_df_urban = create_totals_df(velocity_counts_urban)      "
   ]
  },
  {
   "cell_type": "markdown",
   "id": "837cf9b7",
   "metadata": {},
   "source": [
    "### Create dataframes containing the % diff in the flooded area between single peak and each other method  "
   ]
  },
  {
   "cell_type": "code",
   "execution_count": 133,
   "id": "dd99a812",
   "metadata": {},
   "outputs": [],
   "source": [
    "percent_diffs_df = find_percentage_diff (totals_df, fps) \n",
    "percent_diffs_df_urban = find_percentage_diff (totals_df_urban, fps)   "
   ]
  },
  {
   "cell_type": "markdown",
   "id": "87bcb2a6",
   "metadata": {},
   "source": [
    "## Find number of cells in which each method leads to the worst flooding (depth/velocity)"
   ]
  },
  {
   "cell_type": "code",
   "execution_count": 137,
   "id": "f48368b5",
   "metadata": {},
   "outputs": [],
   "source": [
    "# Find the number of flooded cells with the worst flooding for each method\n",
    "worst_case_method_depth = find_worst_case_method(fps, short_ids, 'Depth')\n",
    "worst_case_method_velocity = find_worst_case_method(fps, short_ids,  'Velocity') "
   ]
  },
  {
   "cell_type": "code",
   "execution_count": 139,
   "id": "d31cf63e",
   "metadata": {},
   "outputs": [],
   "source": [
    "# Remove multiple matches and nan\n",
    "worst_case_method_depth = worst_case_method_depth[~worst_case_method_depth['values'].isin(['multiple matches','nan'])]\n",
    "worst_case_method_velocity = worst_case_method_velocity[~worst_case_method_velocity['values'].isin(['multiple matches','nan'])]\n",
    "\n",
    "# # Reorder (and also add in the methods that are missing)\n",
    "worst_case_method_depth = pd.merge(worst_case_method_depth,  pd.DataFrame({'values': short_ids}), how=\"outer\")\n",
    "worst_case_method_depth = worst_case_method_depth.reindex(worst_case_method_depth['values'].map(dict(zip(short_ids, range(len(short_ids))))).sort_values().index)\n",
    "worst_case_method_depth.reset_index(inplace=True,drop=True)\n",
    "\n",
    "worst_case_method_velocity = pd.merge(worst_case_method_velocity,  pd.DataFrame({'values': short_ids}), how=\"outer\")\n",
    "worst_case_method_velocity = worst_case_method_velocity.reindex(worst_case_method_velocity['values'].map(dict(zip(short_ids, range(len(short_ids))))).sort_values().index)\n",
    "worst_case_method_velocity.reset_index(inplace=True,drop=True)"
   ]
  },
  {
   "cell_type": "markdown",
   "id": "ac2b76f8",
   "metadata": {},
   "source": [
    "## Find number of cells with each hazard rating"
   ]
  },
  {
   "cell_type": "code",
   "execution_count": 144,
   "id": "cc775ba2",
   "metadata": {},
   "outputs": [],
   "source": [
    "hazard_counts, hazard_props = create_binned_counts_and_props_hazard(fps)"
   ]
  },
  {
   "cell_type": "markdown",
   "id": "ed9253a1",
   "metadata": {},
   "source": [
    "## Find number of cells which have moved between hazard categories"
   ]
  },
  {
   "cell_type": "code",
   "execution_count": 146,
   "id": "1b165cd8",
   "metadata": {},
   "outputs": [],
   "source": [
    "hazard_cat_changes = create_binned_counts_and_props_hazard_cat_change(fps)"
   ]
  },
  {
   "cell_type": "markdown",
   "id": "c46068d8",
   "metadata": {},
   "source": [
    "### Create a dataframe containing all the info on each of the scenarios"
   ]
  },
  {
   "cell_type": "code",
   "execution_count": 147,
   "id": "884a8b57",
   "metadata": {},
   "outputs": [],
   "source": [
    "cluster_results = pd.DataFrame({'Cluster_num': short_ids, \"MaxRainfallIntensity\": maxs,  \n",
    "    \"MaxRainfallIntensityMinute\": min_of_maxs,\n",
    "   'TotalFloodedArea':totals_df['FloodedArea'],'%Diff_FloodedArea_fromSP':percent_diffs_df['percent_diffs'],\n",
    "    '%Diff_FloodedArea_fromSP_formatted':percent_diffs_df['percent_diff_formatted'],\n",
    "    'Abs%Diff_FloodedArea_fromSP':percent_diffs_df['percent_diffs_abs'],'UrbanFloodedArea':totals_df_urban['FloodedArea'],\n",
    "  '%Diff_UrbanFloodedArea_fromSP':percent_diffs_df_urban['percent_diffs'] ,\n",
    "  '%Diff_UrbanFloodedArea_fromSP_formatted':percent_diffs_df_urban['percent_diff_formatted'],\n",
    "    'Abs%Diff_UrbanFloodedArea_fromSP':percent_diffs_df_urban['percent_diffs_abs'], \n",
    "    'WorstCaseDepth_ncells': worst_case_method_depth['counts'].tolist(),\n",
    "    'WorstCaseVelocity_ncells': worst_case_method_velocity['counts'].tolist(), 'colour':colours_df['colour']}) "
   ]
  },
  {
   "cell_type": "code",
   "execution_count": 148,
   "id": "d0e62fb8",
   "metadata": {},
   "outputs": [
    {
     "data": {
      "text/html": [
       "<div>\n",
       "<style scoped>\n",
       "    .dataframe tbody tr th:only-of-type {\n",
       "        vertical-align: middle;\n",
       "    }\n",
       "\n",
       "    .dataframe tbody tr th {\n",
       "        vertical-align: top;\n",
       "    }\n",
       "\n",
       "    .dataframe thead th {\n",
       "        text-align: right;\n",
       "    }\n",
       "</style>\n",
       "<table border=\"1\" class=\"dataframe\">\n",
       "  <thead>\n",
       "    <tr style=\"text-align: right;\">\n",
       "      <th></th>\n",
       "      <th>Cluster_num</th>\n",
       "      <th>MaxRainfallIntensity</th>\n",
       "      <th>MaxRainfallIntensityMinute</th>\n",
       "      <th>TotalFloodedArea</th>\n",
       "      <th>%Diff_FloodedArea_fromSP</th>\n",
       "      <th>%Diff_FloodedArea_fromSP_formatted</th>\n",
       "      <th>Abs%Diff_FloodedArea_fromSP</th>\n",
       "      <th>UrbanFloodedArea</th>\n",
       "      <th>%Diff_UrbanFloodedArea_fromSP</th>\n",
       "      <th>%Diff_UrbanFloodedArea_fromSP_formatted</th>\n",
       "      <th>Abs%Diff_UrbanFloodedArea_fromSP</th>\n",
       "      <th>WorstCaseDepth_ncells</th>\n",
       "      <th>WorstCaseVelocity_ncells</th>\n",
       "      <th>colour</th>\n",
       "    </tr>\n",
       "  </thead>\n",
       "  <tbody>\n",
       "    <tr>\n",
       "      <th>0</th>\n",
       "      <td>6h_feh_sp</td>\n",
       "      <td>0.201255</td>\n",
       "      <td>180</td>\n",
       "      <td>1.701144</td>\n",
       "      <td>0.00</td>\n",
       "      <td></td>\n",
       "      <td>0.00</td>\n",
       "      <td>0.575595</td>\n",
       "      <td>0.00</td>\n",
       "      <td></td>\n",
       "      <td>0.00</td>\n",
       "      <td>658</td>\n",
       "      <td>6203</td>\n",
       "      <td>black</td>\n",
       "    </tr>\n",
       "    <tr>\n",
       "      <th>1</th>\n",
       "      <td>6h_sp_fl_0.1</td>\n",
       "      <td>0.232031</td>\n",
       "      <td>36</td>\n",
       "      <td>1.636911</td>\n",
       "      <td>-3.78</td>\n",
       "      <td>-3.78%</td>\n",
       "      <td>3.78</td>\n",
       "      <td>0.540120</td>\n",
       "      <td>-6.16</td>\n",
       "      <td>-6.16%</td>\n",
       "      <td>6.16</td>\n",
       "      <td>193341</td>\n",
       "      <td>308382</td>\n",
       "      <td>darkblue</td>\n",
       "    </tr>\n",
       "    <tr>\n",
       "      <th>2</th>\n",
       "      <td>6h_sp_fl_0.2</td>\n",
       "      <td>0.243904</td>\n",
       "      <td>72</td>\n",
       "      <td>1.635671</td>\n",
       "      <td>-3.85</td>\n",
       "      <td>-3.85%</td>\n",
       "      <td>3.85</td>\n",
       "      <td>0.514048</td>\n",
       "      <td>-10.69</td>\n",
       "      <td>-10.69%</td>\n",
       "      <td>10.69</td>\n",
       "      <td>77643</td>\n",
       "      <td>114817</td>\n",
       "      <td>darkblue</td>\n",
       "    </tr>\n",
       "    <tr>\n",
       "      <th>3</th>\n",
       "      <td>6h_sp_fl_0.3</td>\n",
       "      <td>0.254309</td>\n",
       "      <td>108</td>\n",
       "      <td>1.654627</td>\n",
       "      <td>-2.73</td>\n",
       "      <td>-2.73%</td>\n",
       "      <td>2.73</td>\n",
       "      <td>0.523471</td>\n",
       "      <td>-9.06</td>\n",
       "      <td>-9.06%</td>\n",
       "      <td>9.06</td>\n",
       "      <td>6257</td>\n",
       "      <td>44945</td>\n",
       "      <td>paleturquoise</td>\n",
       "    </tr>\n",
       "    <tr>\n",
       "      <th>4</th>\n",
       "      <td>6h_sp_fl_0.4</td>\n",
       "      <td>0.262907</td>\n",
       "      <td>144</td>\n",
       "      <td>1.678387</td>\n",
       "      <td>-1.34</td>\n",
       "      <td>-1.34%</td>\n",
       "      <td>1.34</td>\n",
       "      <td>0.532838</td>\n",
       "      <td>-7.43</td>\n",
       "      <td>-7.43%</td>\n",
       "      <td>7.43</td>\n",
       "      <td>10468</td>\n",
       "      <td>49478</td>\n",
       "      <td>paleturquoise</td>\n",
       "    </tr>\n",
       "    <tr>\n",
       "      <th>5</th>\n",
       "      <td>6h_sp</td>\n",
       "      <td>0.269191</td>\n",
       "      <td>180</td>\n",
       "      <td>1.727952</td>\n",
       "      <td>1.58</td>\n",
       "      <td>+1.58%</td>\n",
       "      <td>1.58</td>\n",
       "      <td>0.581404</td>\n",
       "      <td>1.01</td>\n",
       "      <td>+1.01%</td>\n",
       "      <td>1.01</td>\n",
       "      <td>432204</td>\n",
       "      <td>393317</td>\n",
       "      <td>grey</td>\n",
       "    </tr>\n",
       "    <tr>\n",
       "      <th>6</th>\n",
       "      <td>6h_sp_bl_0.6</td>\n",
       "      <td>0.292262</td>\n",
       "      <td>215</td>\n",
       "      <td>1.729529</td>\n",
       "      <td>1.67</td>\n",
       "      <td>+1.67%</td>\n",
       "      <td>1.67</td>\n",
       "      <td>0.551026</td>\n",
       "      <td>-4.27</td>\n",
       "      <td>-4.27%</td>\n",
       "      <td>4.27</td>\n",
       "      <td>19403</td>\n",
       "      <td>37834</td>\n",
       "      <td>indianred</td>\n",
       "    </tr>\n",
       "    <tr>\n",
       "      <th>7</th>\n",
       "      <td>6h_sp_bl_0.7</td>\n",
       "      <td>0.317888</td>\n",
       "      <td>251</td>\n",
       "      <td>1.746964</td>\n",
       "      <td>2.69</td>\n",
       "      <td>+2.69%</td>\n",
       "      <td>2.69</td>\n",
       "      <td>0.559568</td>\n",
       "      <td>-2.78</td>\n",
       "      <td>-2.78%</td>\n",
       "      <td>2.78</td>\n",
       "      <td>11388</td>\n",
       "      <td>29585</td>\n",
       "      <td>indianred</td>\n",
       "    </tr>\n",
       "    <tr>\n",
       "      <th>8</th>\n",
       "      <td>6h_sp_bl_0.8</td>\n",
       "      <td>0.343370</td>\n",
       "      <td>287</td>\n",
       "      <td>1.764415</td>\n",
       "      <td>3.72</td>\n",
       "      <td>+3.72%</td>\n",
       "      <td>3.72</td>\n",
       "      <td>0.567784</td>\n",
       "      <td>-1.36</td>\n",
       "      <td>-1.36%</td>\n",
       "      <td>1.36</td>\n",
       "      <td>32676</td>\n",
       "      <td>36465</td>\n",
       "      <td>darkred</td>\n",
       "    </tr>\n",
       "    <tr>\n",
       "      <th>9</th>\n",
       "      <td>6h_sp_bl_0.9</td>\n",
       "      <td>0.368805</td>\n",
       "      <td>323</td>\n",
       "      <td>1.775070</td>\n",
       "      <td>4.35</td>\n",
       "      <td>+4.35%</td>\n",
       "      <td>4.35</td>\n",
       "      <td>0.574021</td>\n",
       "      <td>-0.27</td>\n",
       "      <td>-0.27%</td>\n",
       "      <td>0.27</td>\n",
       "      <td>775704</td>\n",
       "      <td>545804</td>\n",
       "      <td>darkred</td>\n",
       "    </tr>\n",
       "  </tbody>\n",
       "</table>\n",
       "</div>"
      ],
      "text/plain": [
       "    Cluster_num  MaxRainfallIntensity  MaxRainfallIntensityMinute  \\\n",
       "0     6h_feh_sp              0.201255                         180   \n",
       "1  6h_sp_fl_0.1              0.232031                          36   \n",
       "2  6h_sp_fl_0.2              0.243904                          72   \n",
       "3  6h_sp_fl_0.3              0.254309                         108   \n",
       "4  6h_sp_fl_0.4              0.262907                         144   \n",
       "5         6h_sp              0.269191                         180   \n",
       "6  6h_sp_bl_0.6              0.292262                         215   \n",
       "7  6h_sp_bl_0.7              0.317888                         251   \n",
       "8  6h_sp_bl_0.8              0.343370                         287   \n",
       "9  6h_sp_bl_0.9              0.368805                         323   \n",
       "\n",
       "   TotalFloodedArea  %Diff_FloodedArea_fromSP  \\\n",
       "0          1.701144                      0.00   \n",
       "1          1.636911                     -3.78   \n",
       "2          1.635671                     -3.85   \n",
       "3          1.654627                     -2.73   \n",
       "4          1.678387                     -1.34   \n",
       "5          1.727952                      1.58   \n",
       "6          1.729529                      1.67   \n",
       "7          1.746964                      2.69   \n",
       "8          1.764415                      3.72   \n",
       "9          1.775070                      4.35   \n",
       "\n",
       "  %Diff_FloodedArea_fromSP_formatted  Abs%Diff_FloodedArea_fromSP  \\\n",
       "0                                                            0.00   \n",
       "1                             -3.78%                         3.78   \n",
       "2                             -3.85%                         3.85   \n",
       "3                             -2.73%                         2.73   \n",
       "4                             -1.34%                         1.34   \n",
       "5                             +1.58%                         1.58   \n",
       "6                             +1.67%                         1.67   \n",
       "7                             +2.69%                         2.69   \n",
       "8                             +3.72%                         3.72   \n",
       "9                             +4.35%                         4.35   \n",
       "\n",
       "   UrbanFloodedArea  %Diff_UrbanFloodedArea_fromSP  \\\n",
       "0          0.575595                           0.00   \n",
       "1          0.540120                          -6.16   \n",
       "2          0.514048                         -10.69   \n",
       "3          0.523471                          -9.06   \n",
       "4          0.532838                          -7.43   \n",
       "5          0.581404                           1.01   \n",
       "6          0.551026                          -4.27   \n",
       "7          0.559568                          -2.78   \n",
       "8          0.567784                          -1.36   \n",
       "9          0.574021                          -0.27   \n",
       "\n",
       "  %Diff_UrbanFloodedArea_fromSP_formatted  Abs%Diff_UrbanFloodedArea_fromSP  \\\n",
       "0                                                                      0.00   \n",
       "1                                  -6.16%                              6.16   \n",
       "2                                 -10.69%                             10.69   \n",
       "3                                  -9.06%                              9.06   \n",
       "4                                  -7.43%                              7.43   \n",
       "5                                  +1.01%                              1.01   \n",
       "6                                  -4.27%                              4.27   \n",
       "7                                  -2.78%                              2.78   \n",
       "8                                  -1.36%                              1.36   \n",
       "9                                  -0.27%                              0.27   \n",
       "\n",
       "   WorstCaseDepth_ncells  WorstCaseVelocity_ncells         colour  \n",
       "0                    658                      6203          black  \n",
       "1                 193341                    308382       darkblue  \n",
       "2                  77643                    114817       darkblue  \n",
       "3                   6257                     44945  paleturquoise  \n",
       "4                  10468                     49478  paleturquoise  \n",
       "5                 432204                    393317           grey  \n",
       "6                  19403                     37834      indianred  \n",
       "7                  11388                     29585      indianred  \n",
       "8                  32676                     36465        darkred  \n",
       "9                 775704                    545804        darkred  "
      ]
     },
     "execution_count": 148,
     "metadata": {},
     "output_type": "execute_result"
    }
   ],
   "source": [
    "cluster_results"
   ]
  },
  {
   "cell_type": "markdown",
   "id": "681011fa",
   "metadata": {},
   "source": [
    "### Add the depth/velocity category breakdowns and hazard categories to this"
   ]
  },
  {
   "cell_type": "code",
   "execution_count": 149,
   "id": "d03d47e4",
   "metadata": {},
   "outputs": [],
   "source": [
    "dfs = [velocity_props, depth_props, velocity_props_urban, depth_props_urban, velocity_counts, depth_counts,\n",
    "          velocity_counts_urban, depth_counts_urban,hazard_counts, hazard_props]\n",
    "suffixes = ['_propcells', '_propcells','_propcells_urban','_propcells_urban','_countcells','_countcells','_countcells_urban','_countcells_urban',\n",
    "'_numcells', '_propcells']\n",
    "\n",
    "for num, df in enumerate(dfs):\n",
    "    # Reformat the dataframe\n",
    "    df = df.set_index('index').T\n",
    "    # Add the correct suffix to the column names\n",
    "    df = df.add_suffix(suffixes[num]) \n",
    "    # Add Cluster_num column for joining\n",
    "    df['Cluster_num'] = df.index#\n",
    "    # Join to cluster results dataframe\n",
    "    cluster_results = pd.merge(cluster_results,  df, how=\"outer\", on = 'Cluster_num')\n",
    "    \n",
    "cluster_results = pd.merge(cluster_results, hazard_cat_changes,  how=\"outer\", on = 'Cluster_num')    "
   ]
  },
  {
   "cell_type": "markdown",
   "id": "765d6402",
   "metadata": {},
   "source": [
    "### Save to file"
   ]
  },
  {
   "cell_type": "code",
   "execution_count": 150,
   "id": "f6facf3e",
   "metadata": {},
   "outputs": [],
   "source": [
    "cluster_results.to_csv(\"Data/allclusters_summary.csv\", index=False)"
   ]
  },
  {
   "cell_type": "markdown",
   "id": "63cea586",
   "metadata": {},
   "source": [
    "### Delete tiff files (as these aren't used again and take up a lot of space)"
   ]
  },
  {
   "cell_type": "code",
   "execution_count": 156,
   "id": "9f688f21",
   "metadata": {},
   "outputs": [],
   "source": [
    "for method in short_ids:\n",
    "    print(method)\n",
    "    if method != '6h_feh_sp':\n",
    "        os.remove(\"../../../../FloodModelling/MeganModel_New/{}/hazard_cat_difference.tif\".format(method)) \n",
    "        os.remove(\"../../../../FloodModelling/MeganModel_New/{}/Depth_difffromsinglepeak_classified.tif\".format(method)) \n",
    "        os.remove(\"../../../../FloodModelling/MeganModel_New/{}/Depth_difffromsinglepeak_posneg.tif\".format(method)) \n",
    "        os.remove(\"../../../../FloodModelling/MeganModel_New/{}/Velocity_difffromsinglepeak_classified.tif\".format(method)) \n",
    "        os.remove(\"../../../../FloodModelling/MeganModel_New/{}/Velocity_difffromsinglepeak_posneg.tif\".format(method)) \n",
    "        \n",
    "    os.remove(\"../../../../FloodModelling/MeganModel_New/{}/Depth_classified.tif\".format(method)) \n",
    "    os.remove(\"../../../../FloodModelling/MeganModel_New/{}/hazard_classified.tif\".format(method)) \n",
    "    os.remove(\"../../../../FloodModelling/MeganModel_New/{}/Velocity_classified.tif\".format(method)) "
   ]
  }
 ],
 "metadata": {
  "kernelspec": {
   "display_name": "Python 3 (ipykernel)",
   "language": "python",
   "name": "python3"
  },
  "language_info": {
   "codemirror_mode": {
    "name": "ipython",
    "version": 3
   },
   "file_extension": ".py",
   "mimetype": "text/x-python",
   "name": "python",
   "nbconvert_exporter": "python",
   "pygments_lexer": "ipython3",
   "version": "3.9.7"
  }
 },
 "nbformat": 4,
 "nbformat_minor": 5
}
