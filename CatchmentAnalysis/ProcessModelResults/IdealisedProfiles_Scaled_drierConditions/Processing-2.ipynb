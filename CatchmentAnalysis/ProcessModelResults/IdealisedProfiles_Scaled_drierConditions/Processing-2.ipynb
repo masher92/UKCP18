{
 "cells": [
  {
   "cell_type": "code",
   "execution_count": 5,
   "id": "a1491398",
   "metadata": {},
   "outputs": [],
   "source": [
    "import pandas as pd\n",
    "import numpy as np\n",
    "\n",
    "from my_functions_idealisedprofiles_drierConditions import *\n",
    "model_directory = '../../../../FloodModelling/Model_IdealisedProfiles_drierConditions/'"
   ]
  },
  {
   "cell_type": "markdown",
   "id": "a29431f3",
   "metadata": {},
   "source": [
    "### Get version of landcover array with just 'urban' and 'rural' categories"
   ]
  },
  {
   "cell_type": "code",
   "execution_count": 6,
   "id": "5b7c8764",
   "metadata": {},
   "outputs": [],
   "source": [
    "# Read in the data\n",
    "landcover, out_meta = prepare_rainfall_scenario_raster(\"../../../../FloodModelling/LandCoverData/LandCover_clipped.tif\", True)\n",
    "# Convert the 1 and 6 values to 10 (for urban) and the rest to 11 (for non-urban).  \n",
    "landcover_mod =  np.where(landcover==1, 10, landcover)\n",
    "landcover_mod =  np.where(landcover_mod==6, 10, landcover_mod)\n",
    "# Convert the rest of the classes to 11\n",
    "for i in [1,2,3,4,5,7,8,9]:\n",
    "    landcover_mod =  np.where(landcover_mod==i, 11, landcover_mod)"
   ]
  },
  {
   "cell_type": "markdown",
   "id": "a52ab40f",
   "metadata": {},
   "source": [
    "### Define the names of the method (shorter and longer versions)"
   ]
  },
  {
   "cell_type": "code",
   "execution_count": 7,
   "id": "276042a4",
   "metadata": {},
   "outputs": [],
   "source": [
    "methods =[ '6h_sp_c_0.5','6h_sp_fl_0.1', '6h_sp_fl_0.2', '6h_sp_fl_0.3', '6h_sp_fl_0.4'\n",
    "         , '6h_sp_bl_0.6', '6h_sp_bl_0.7', '6h_sp_bl_0.8', '6h_sp_bl_0.9']"
   ]
  },
  {
   "cell_type": "markdown",
   "id": "792fabc1",
   "metadata": {},
   "source": [
    "### Find maximum intensity for each method and minute in which it occurs (to use in sorting results analysis)"
   ]
  },
  {
   "cell_type": "code",
   "execution_count": 8,
   "id": "e2b24edf",
   "metadata": {},
   "outputs": [],
   "source": [
    "maxs = []\n",
    "min_of_maxs = []\n",
    "\n",
    "# Add FEH data\n",
    "# feh_precip=pd.read_csv(\"../../CreateSyntheticRainfallEvents/ReFH2_singlepeak/6hr_100yrRP/PostLossRemoval/6h_feh_singlepeak_urban.csv\")\n",
    "# maxs.append(feh_precip[\"Total net rain mm (Observed rainfall - 01/08/2022) - urbanised model\"].max())\n",
    "# min_of_maxs.append(feh_precip[\"Total net rain mm (Observed rainfall - 01/08/2022) - urbanised model\"].idxmax())\n",
    "\n",
    "for method in methods:\n",
    "    method = method.replace('_scaled', '')\n",
    "    precip=pd.read_csv(\"../../CreateSyntheticRainfallEvents/IdealisedProfiles_Scaled/6hr_100yrRP/PostLossRemoval/{}_urban.csv\".format(method))\n",
    "    maxs.append(precip[\"Total net rain mm (Observed rainfall - 01/08/2022) - urbanised model\"].max())\n",
    "    min_of_maxs.append(precip[\"Total net rain mm (Observed rainfall - 01/08/2022) - urbanised model\"].idxmax())"
   ]
  },
  {
   "cell_type": "markdown",
   "id": "a6ea22f7",
   "metadata": {},
   "source": [
    "### Create versions of lists of methods, in order based on max intensity and the the timing of the max intensity "
   ]
  },
  {
   "cell_type": "code",
   "execution_count": 9,
   "id": "5c0354d4",
   "metadata": {},
   "outputs": [],
   "source": [
    "short_ids_by_loading=  pd.DataFrame({\"min\": min_of_maxs, 'method_name': methods}).sort_values('min')[\"method_name\"].tolist()\n",
    "short_ids_by_intensity = pd.DataFrame({\"min\": maxs, 'method_name': methods}).sort_values('min', ascending = False)[\"method_name\"].tolist()"
   ]
  },
  {
   "cell_type": "markdown",
   "id": "4f0c5273",
   "metadata": {},
   "source": [
    "### Create dataframe of colours for each cluster (based on their loading)"
   ]
  },
  {
   "cell_type": "code",
   "execution_count": 10,
   "id": "80b2acba",
   "metadata": {},
   "outputs": [],
   "source": [
    "colours_df= create_colours_df(short_ids_by_loading, methods)"
   ]
  },
  {
   "cell_type": "markdown",
   "id": "6748b25b",
   "metadata": {},
   "source": [
    "### Create list of filepaths, formatted to be used for either depth or velocity"
   ]
  },
  {
   "cell_type": "code",
   "execution_count": 11,
   "id": "f847f1d7",
   "metadata": {},
   "outputs": [],
   "source": [
    "fps = []\n",
    "for method_num, short_id in enumerate(methods):\n",
    "    fp = model_directory + \"{}/{} (Max).Resampled.Terrain.tif\".format(short_id, '{}')\n",
    "    fps.append(fp)"
   ]
  },
  {
   "cell_type": "markdown",
   "id": "d5fa5f30",
   "metadata": {},
   "source": [
    "### Define breaks for categorising velocity and depth"
   ]
  },
  {
   "cell_type": "code",
   "execution_count": 12,
   "id": "c3abe3dd",
   "metadata": {},
   "outputs": [],
   "source": [
    "# Define breaks to split the depths/velocities on\n",
    "breaks_depths = np.array([0, 0.3, 0.6, 1.2, 100])  \n",
    "labels_depth = ['<=0.3m', '0.3-0.6m', '0.6-1.2m', '>1.2m']\n",
    "breaks_velocity = np.array([0,0.25,0.5,2,100])\n",
    "labels_velocity = [\"<=0.25m/s\", \"0.25-0.5m/s\", \"0.5-2m/s\", \">2m/s\"]"
   ]
  },
  {
   "cell_type": "markdown",
   "id": "2979ec44",
   "metadata": {},
   "source": [
    "# <u> Flood extent </u>\n",
    "To examine whether the rainfall's temporal distribution influences the total extent of flooding, the number of flooded cells and the total flooded area in km2 (incl. only cells with depth >0.1m) is compared between the profile with a single peak, and the three methods for producing multi-peaked rainfall events. b"
   ]
  },
  {
   "cell_type": "markdown",
   "id": "b130fbb2",
   "metadata": {},
   "source": [
    "### Create dataframes containing the (total/urban) flooded area in each depth/velocity bin"
   ]
  },
  {
   "cell_type": "code",
   "execution_count": 13,
   "id": "9af59db8",
   "metadata": {},
   "outputs": [],
   "source": [
    "velocity_counts, velocity_props = create_binned_counts_and_props(fps, 'Velocity', breaks_velocity, labels_velocity, remove_little_values)\n",
    "depth_counts, depth_props = create_binned_counts_and_props(fps, 'Depth', breaks_depths, labels_depth, remove_little_values)"
   ]
  },
  {
   "cell_type": "code",
   "execution_count": 14,
   "id": "b7241e0b",
   "metadata": {},
   "outputs": [],
   "source": [
    "velocity_counts_urban, velocity_props_urban = create_binned_counts_and_props_urban(fps, 'Velocity', breaks_velocity, labels_velocity, remove_little_values, landcover_mod)\n",
    "depth_counts_urban, depth_props_urban = create_binned_counts_and_props_urban(fps, 'Depth', breaks_depths, labels_depth, remove_little_values, landcover_mod)"
   ]
  },
  {
   "cell_type": "markdown",
   "id": "a7d7ca3a",
   "metadata": {},
   "source": [
    "### Create dataframes containing the (total/urban) flooded area"
   ]
  },
  {
   "cell_type": "code",
   "execution_count": 15,
   "id": "3d51a15c",
   "metadata": {},
   "outputs": [],
   "source": [
    "totals_df = create_totals_df(velocity_counts)\n",
    "totals_df_urban = create_totals_df(velocity_counts_urban)     "
   ]
  },
  {
   "cell_type": "code",
   "execution_count": 16,
   "id": "d6c48e3b",
   "metadata": {},
   "outputs": [
    {
     "data": {
      "text/html": [
       "<div>\n",
       "<style scoped>\n",
       "    .dataframe tbody tr th:only-of-type {\n",
       "        vertical-align: middle;\n",
       "    }\n",
       "\n",
       "    .dataframe tbody tr th {\n",
       "        vertical-align: top;\n",
       "    }\n",
       "\n",
       "    .dataframe thead th {\n",
       "        text-align: right;\n",
       "    }\n",
       "</style>\n",
       "<table border=\"1\" class=\"dataframe\">\n",
       "  <thead>\n",
       "    <tr style=\"text-align: right;\">\n",
       "      <th></th>\n",
       "      <th>short_id</th>\n",
       "      <th>FloodedArea</th>\n",
       "    </tr>\n",
       "  </thead>\n",
       "  <tbody>\n",
       "    <tr>\n",
       "      <th>0</th>\n",
       "      <td>6h_sp_c_0.5</td>\n",
       "      <td>1.534739</td>\n",
       "    </tr>\n",
       "    <tr>\n",
       "      <th>1</th>\n",
       "      <td>6h_sp_fl_0.1</td>\n",
       "      <td>1.465218</td>\n",
       "    </tr>\n",
       "    <tr>\n",
       "      <th>2</th>\n",
       "      <td>6h_sp_fl_0.2</td>\n",
       "      <td>1.479458</td>\n",
       "    </tr>\n",
       "    <tr>\n",
       "      <th>3</th>\n",
       "      <td>6h_sp_fl_0.3</td>\n",
       "      <td>1.498196</td>\n",
       "    </tr>\n",
       "    <tr>\n",
       "      <th>4</th>\n",
       "      <td>6h_sp_fl_0.4</td>\n",
       "      <td>1.517187</td>\n",
       "    </tr>\n",
       "    <tr>\n",
       "      <th>5</th>\n",
       "      <td>6h_sp_bl_0.6</td>\n",
       "      <td>1.557027</td>\n",
       "    </tr>\n",
       "    <tr>\n",
       "      <th>6</th>\n",
       "      <td>6h_sp_bl_0.7</td>\n",
       "      <td>1.572332</td>\n",
       "    </tr>\n",
       "    <tr>\n",
       "      <th>7</th>\n",
       "      <td>6h_sp_bl_0.8</td>\n",
       "      <td>1.585933</td>\n",
       "    </tr>\n",
       "    <tr>\n",
       "      <th>8</th>\n",
       "      <td>6h_sp_bl_0.9</td>\n",
       "      <td>1.597071</td>\n",
       "    </tr>\n",
       "  </tbody>\n",
       "</table>\n",
       "</div>"
      ],
      "text/plain": [
       "       short_id  FloodedArea\n",
       "0   6h_sp_c_0.5     1.534739\n",
       "1  6h_sp_fl_0.1     1.465218\n",
       "2  6h_sp_fl_0.2     1.479458\n",
       "3  6h_sp_fl_0.3     1.498196\n",
       "4  6h_sp_fl_0.4     1.517187\n",
       "5  6h_sp_bl_0.6     1.557027\n",
       "6  6h_sp_bl_0.7     1.572332\n",
       "7  6h_sp_bl_0.8     1.585933\n",
       "8  6h_sp_bl_0.9     1.597071"
      ]
     },
     "execution_count": 16,
     "metadata": {},
     "output_type": "execute_result"
    }
   ],
   "source": [
    "totals_df"
   ]
  },
  {
   "cell_type": "markdown",
   "id": "837cf9b7",
   "metadata": {},
   "source": [
    "### Create dataframes containing the % diff in the flooded area between single peak and each other method  "
   ]
  },
  {
   "cell_type": "code",
   "execution_count": 17,
   "id": "dd99a812",
   "metadata": {},
   "outputs": [],
   "source": [
    "percent_diffs_df = find_percentage_diff (totals_df, fps, baseline_short_id = '6h_sp_c_0.5') \n",
    "percent_diffs_df_urban = find_percentage_diff (totals_df_urban, fps, baseline_short_id = '6h_sp_c_0.5')"
   ]
  },
  {
   "cell_type": "markdown",
   "id": "87bcb2a6",
   "metadata": {},
   "source": [
    "## Find number of cells in which each method leads to the worst flooding (depth/velocity)"
   ]
  },
  {
   "cell_type": "code",
   "execution_count": 18,
   "id": "f48368b5",
   "metadata": {},
   "outputs": [],
   "source": [
    "# Find the number of flooded cells with the worst flooding for each method\n",
    "worst_case_method_depth = find_worst_case_method(fps, methods, 'Depth')\n",
    "worst_case_method_velocity = find_worst_case_method(fps, methods,  'Velocity') "
   ]
  },
  {
   "cell_type": "code",
   "execution_count": 19,
   "id": "d31cf63e",
   "metadata": {},
   "outputs": [],
   "source": [
    "# Remove multiple matches and nan\n",
    "worst_case_method_depth = worst_case_method_depth[~worst_case_method_depth['values'].isin(['multiple matches','nan'])]\n",
    "worst_case_method_velocity = worst_case_method_velocity[~worst_case_method_velocity['values'].isin(['multiple matches','nan'])]\n",
    "\n",
    "# # Reorder (and also add in the methods that are missing)\n",
    "worst_case_method_depth = pd.merge(worst_case_method_depth,  pd.DataFrame({'values': methods}), how=\"outer\")\n",
    "worst_case_method_depth = worst_case_method_depth.reindex(worst_case_method_depth['values'].map(dict(zip(methods, range(len(methods))))).sort_values().index)\n",
    "worst_case_method_depth.reset_index(inplace=True,drop=True)\n",
    "\n",
    "worst_case_method_velocity = pd.merge(worst_case_method_velocity,  pd.DataFrame({'values': methods}), how=\"outer\")\n",
    "worst_case_method_velocity = worst_case_method_velocity.reindex(worst_case_method_velocity['values'].map(dict(zip(methods, range(len(methods))))).sort_values().index)\n",
    "worst_case_method_velocity.reset_index(inplace=True,drop=True)"
   ]
  },
  {
   "cell_type": "markdown",
   "id": "2975caff",
   "metadata": {},
   "source": [
    "## Find number of cells with each hazard rating"
   ]
  },
  {
   "cell_type": "code",
   "execution_count": 20,
   "id": "952e9b6c",
   "metadata": {},
   "outputs": [],
   "source": [
    "hazard_counts, hazard_props = create_binned_counts_and_props_hazard(fps)"
   ]
  },
  {
   "cell_type": "markdown",
   "id": "ed9253a1",
   "metadata": {},
   "source": [
    "## Find number of cells which have moved between hazard categories"
   ]
  },
  {
   "cell_type": "code",
   "execution_count": 21,
   "id": "1b165cd8",
   "metadata": {},
   "outputs": [],
   "source": [
    "hazard_cat_changes = create_binned_counts_and_props_hazard_cat_change(fps)"
   ]
  },
  {
   "cell_type": "markdown",
   "id": "c46068d8",
   "metadata": {},
   "source": [
    "### Create a dataframe containing all the info on each of the scenarios"
   ]
  },
  {
   "cell_type": "code",
   "execution_count": 22,
   "id": "884a8b57",
   "metadata": {},
   "outputs": [],
   "source": [
    "cluster_results = pd.DataFrame({'Cluster_num': methods, \"MaxRainfallIntensity\": maxs,  \n",
    "    \"MaxRainfallIntensityMinute\": min_of_maxs,\n",
    "   'TotalFloodedArea':totals_df['FloodedArea'],'%Diff_FloodedArea_fromSP':percent_diffs_df['percent_diffs'],\n",
    "    '%Diff_FloodedArea_fromSP_formatted':percent_diffs_df['percent_diff_formatted'],\n",
    "    'Abs%Diff_FloodedArea_fromSP':percent_diffs_df['percent_diffs_abs'],'UrbanFloodedArea':totals_df_urban['FloodedArea'],\n",
    "  '%Diff_UrbanFloodedArea_fromSP':percent_diffs_df_urban['percent_diffs'] ,\n",
    "  '%Diff_UrbanFloodedArea_fromSP_formatted':percent_diffs_df_urban['percent_diff_formatted'],\n",
    "    'Abs%Diff_UrbanFloodedArea_fromSP':percent_diffs_df_urban['percent_diffs_abs'],'colour':colours_df['colour'],\n",
    "    'WorstCaseDepth_ncells': worst_case_method_depth['counts'].tolist(),\n",
    "    'WorstCaseVelocity_ncells': worst_case_method_velocity['counts'].tolist(), }) "
   ]
  },
  {
   "cell_type": "markdown",
   "id": "681011fa",
   "metadata": {},
   "source": [
    "### Add the depth/velocity category breakdowns and hazard categories to this"
   ]
  },
  {
   "cell_type": "code",
   "execution_count": 23,
   "id": "d03d47e4",
   "metadata": {},
   "outputs": [],
   "source": [
    "dfs = [velocity_props, depth_props, velocity_props_urban, depth_props_urban, velocity_counts, depth_counts,\n",
    "          velocity_counts_urban, depth_counts_urban,hazard_counts, hazard_props]\n",
    "suffixes = ['_propcells', '_propcells','_propcells_urban','_propcells_urban','_countcells','_countcells','_countcells_urban','_countcells_urban',\n",
    "'_numcells', '_propcells']\n",
    "\n",
    "for num, df in enumerate(dfs):\n",
    "    # Reformat the dataframe\n",
    "    df = df.set_index('index').T\n",
    "    # Add the correct suffix to the column names\n",
    "    df = df.add_suffix(suffixes[num]) \n",
    "    # Add Cluster_num column for joining\n",
    "    df['Cluster_num'] = df.index#\n",
    "    # Join to cluster results dataframe\n",
    "    cluster_results = pd.merge(cluster_results,  df, how=\"outer\", on = 'Cluster_num')\n",
    "    \n",
    "cluster_results = pd.merge(cluster_results, hazard_cat_changes,  how=\"outer\", on = 'Cluster_num')    "
   ]
  },
  {
   "cell_type": "markdown",
   "id": "765d6402",
   "metadata": {},
   "source": [
    "### Save to file"
   ]
  },
  {
   "cell_type": "code",
   "execution_count": 26,
   "id": "f6facf3e",
   "metadata": {},
   "outputs": [
    {
     "data": {
      "text/html": [
       "<div>\n",
       "<style scoped>\n",
       "    .dataframe tbody tr th:only-of-type {\n",
       "        vertical-align: middle;\n",
       "    }\n",
       "\n",
       "    .dataframe tbody tr th {\n",
       "        vertical-align: top;\n",
       "    }\n",
       "\n",
       "    .dataframe thead th {\n",
       "        text-align: right;\n",
       "    }\n",
       "</style>\n",
       "<table border=\"1\" class=\"dataframe\">\n",
       "  <thead>\n",
       "    <tr style=\"text-align: right;\">\n",
       "      <th></th>\n",
       "      <th>Cluster_num</th>\n",
       "      <th>MaxRainfallIntensity</th>\n",
       "      <th>MaxRainfallIntensityMinute</th>\n",
       "      <th>TotalFloodedArea</th>\n",
       "      <th>%Diff_FloodedArea_fromSP</th>\n",
       "      <th>%Diff_FloodedArea_fromSP_formatted</th>\n",
       "      <th>Abs%Diff_FloodedArea_fromSP</th>\n",
       "      <th>UrbanFloodedArea</th>\n",
       "      <th>%Diff_UrbanFloodedArea_fromSP</th>\n",
       "      <th>%Diff_UrbanFloodedArea_fromSP_formatted</th>\n",
       "      <th>...</th>\n",
       "      <th>Hazard_SameCat_countcells</th>\n",
       "      <th>Hazard_1CatsHigher_countcells</th>\n",
       "      <th>Hazard_2CatsHigher_countcells</th>\n",
       "      <th>Hazard_3CatsHigher_countcells</th>\n",
       "      <th>Hazard_2CatsLower_propcells</th>\n",
       "      <th>Hazard_1CatsLower_propcells</th>\n",
       "      <th>Hazard_SameCat_propcells</th>\n",
       "      <th>Hazard_1CatsHigher_propcells</th>\n",
       "      <th>Hazard_2CatsHigher_propcells</th>\n",
       "      <th>Hazard_3CatsHigher_propcells</th>\n",
       "    </tr>\n",
       "  </thead>\n",
       "  <tbody>\n",
       "    <tr>\n",
       "      <th>0</th>\n",
       "      <td>6h_sp_c_0.5</td>\n",
       "      <td>0.301343</td>\n",
       "      <td>180</td>\n",
       "      <td>1.534739</td>\n",
       "      <td>0.00</td>\n",
       "      <td></td>\n",
       "      <td>0.00</td>\n",
       "      <td>0.496018</td>\n",
       "      <td>0.00</td>\n",
       "      <td></td>\n",
       "      <td>...</td>\n",
       "      <td>NaN</td>\n",
       "      <td>NaN</td>\n",
       "      <td>NaN</td>\n",
       "      <td>NaN</td>\n",
       "      <td>NaN</td>\n",
       "      <td>NaN</td>\n",
       "      <td>NaN</td>\n",
       "      <td>NaN</td>\n",
       "      <td>NaN</td>\n",
       "      <td>NaN</td>\n",
       "    </tr>\n",
       "    <tr>\n",
       "      <th>1</th>\n",
       "      <td>6h_sp_fl_0.1</td>\n",
       "      <td>0.301343</td>\n",
       "      <td>36</td>\n",
       "      <td>1.465218</td>\n",
       "      <td>-4.53</td>\n",
       "      <td>-4.53%</td>\n",
       "      <td>4.53</td>\n",
       "      <td>0.464385</td>\n",
       "      <td>-6.38</td>\n",
       "      <td>-6.38%</td>\n",
       "      <td>...</td>\n",
       "      <td>1365769.0</td>\n",
       "      <td>67118.0</td>\n",
       "      <td>2768.0</td>\n",
       "      <td>2.0</td>\n",
       "      <td>0.0</td>\n",
       "      <td>1.2</td>\n",
       "      <td>94.0</td>\n",
       "      <td>4.6</td>\n",
       "      <td>0.2</td>\n",
       "      <td>0.0</td>\n",
       "    </tr>\n",
       "    <tr>\n",
       "      <th>2</th>\n",
       "      <td>6h_sp_fl_0.2</td>\n",
       "      <td>0.301343</td>\n",
       "      <td>72</td>\n",
       "      <td>1.479458</td>\n",
       "      <td>-3.60</td>\n",
       "      <td>-3.6%</td>\n",
       "      <td>3.60</td>\n",
       "      <td>0.471585</td>\n",
       "      <td>-4.93</td>\n",
       "      <td>-4.93%</td>\n",
       "      <td>...</td>\n",
       "      <td>1399856.0</td>\n",
       "      <td>54034.0</td>\n",
       "      <td>1771.0</td>\n",
       "      <td>2.0</td>\n",
       "      <td>0.0</td>\n",
       "      <td>1.0</td>\n",
       "      <td>95.2</td>\n",
       "      <td>3.7</td>\n",
       "      <td>0.1</td>\n",
       "      <td>0.0</td>\n",
       "    </tr>\n",
       "    <tr>\n",
       "      <th>3</th>\n",
       "      <td>6h_sp_fl_0.3</td>\n",
       "      <td>0.301343</td>\n",
       "      <td>108</td>\n",
       "      <td>1.498196</td>\n",
       "      <td>-2.38</td>\n",
       "      <td>-2.38%</td>\n",
       "      <td>2.38</td>\n",
       "      <td>0.479371</td>\n",
       "      <td>-3.36</td>\n",
       "      <td>-3.36%</td>\n",
       "      <td>...</td>\n",
       "      <td>1441060.0</td>\n",
       "      <td>38344.0</td>\n",
       "      <td>889.0</td>\n",
       "      <td>2.0</td>\n",
       "      <td>0.0</td>\n",
       "      <td>0.7</td>\n",
       "      <td>96.6</td>\n",
       "      <td>2.6</td>\n",
       "      <td>0.1</td>\n",
       "      <td>0.0</td>\n",
       "    </tr>\n",
       "    <tr>\n",
       "      <th>4</th>\n",
       "      <td>6h_sp_fl_0.4</td>\n",
       "      <td>0.301343</td>\n",
       "      <td>144</td>\n",
       "      <td>1.517187</td>\n",
       "      <td>-1.14</td>\n",
       "      <td>-1.14%</td>\n",
       "      <td>1.14</td>\n",
       "      <td>0.487419</td>\n",
       "      <td>-1.73</td>\n",
       "      <td>-1.73%</td>\n",
       "      <td>...</td>\n",
       "      <td>1486938.0</td>\n",
       "      <td>17743.0</td>\n",
       "      <td>277.0</td>\n",
       "      <td>2.0</td>\n",
       "      <td>0.0</td>\n",
       "      <td>0.5</td>\n",
       "      <td>98.3</td>\n",
       "      <td>1.2</td>\n",
       "      <td>0.0</td>\n",
       "      <td>0.0</td>\n",
       "    </tr>\n",
       "    <tr>\n",
       "      <th>5</th>\n",
       "      <td>6h_sp_bl_0.6</td>\n",
       "      <td>0.301343</td>\n",
       "      <td>216</td>\n",
       "      <td>1.557027</td>\n",
       "      <td>1.45</td>\n",
       "      <td>+1.45%</td>\n",
       "      <td>1.45</td>\n",
       "      <td>0.504568</td>\n",
       "      <td>1.72</td>\n",
       "      <td>+1.72%</td>\n",
       "      <td>...</td>\n",
       "      <td>1509866.0</td>\n",
       "      <td>4784.0</td>\n",
       "      <td>5.0</td>\n",
       "      <td>NaN</td>\n",
       "      <td>0.0</td>\n",
       "      <td>1.2</td>\n",
       "      <td>98.5</td>\n",
       "      <td>0.3</td>\n",
       "      <td>0.0</td>\n",
       "      <td>NaN</td>\n",
       "    </tr>\n",
       "    <tr>\n",
       "      <th>6</th>\n",
       "      <td>6h_sp_bl_0.7</td>\n",
       "      <td>0.301343</td>\n",
       "      <td>252</td>\n",
       "      <td>1.572332</td>\n",
       "      <td>2.45</td>\n",
       "      <td>+2.45%</td>\n",
       "      <td>2.45</td>\n",
       "      <td>0.512602</td>\n",
       "      <td>3.34</td>\n",
       "      <td>+3.34%</td>\n",
       "      <td>...</td>\n",
       "      <td>1475958.0</td>\n",
       "      <td>13289.0</td>\n",
       "      <td>9.0</td>\n",
       "      <td>NaN</td>\n",
       "      <td>0.1</td>\n",
       "      <td>2.4</td>\n",
       "      <td>96.6</td>\n",
       "      <td>0.9</td>\n",
       "      <td>0.0</td>\n",
       "      <td>NaN</td>\n",
       "    </tr>\n",
       "    <tr>\n",
       "      <th>7</th>\n",
       "      <td>6h_sp_bl_0.8</td>\n",
       "      <td>0.301343</td>\n",
       "      <td>288</td>\n",
       "      <td>1.585933</td>\n",
       "      <td>3.34</td>\n",
       "      <td>+3.34%</td>\n",
       "      <td>3.34</td>\n",
       "      <td>0.519749</td>\n",
       "      <td>4.78</td>\n",
       "      <td>+4.78%</td>\n",
       "      <td>...</td>\n",
       "      <td>1452944.0</td>\n",
       "      <td>17445.0</td>\n",
       "      <td>21.0</td>\n",
       "      <td>NaN</td>\n",
       "      <td>0.1</td>\n",
       "      <td>3.3</td>\n",
       "      <td>95.5</td>\n",
       "      <td>1.1</td>\n",
       "      <td>0.0</td>\n",
       "      <td>NaN</td>\n",
       "    </tr>\n",
       "    <tr>\n",
       "      <th>8</th>\n",
       "      <td>6h_sp_bl_0.9</td>\n",
       "      <td>0.301343</td>\n",
       "      <td>324</td>\n",
       "      <td>1.597071</td>\n",
       "      <td>4.06</td>\n",
       "      <td>+4.06%</td>\n",
       "      <td>4.06</td>\n",
       "      <td>0.525408</td>\n",
       "      <td>5.93</td>\n",
       "      <td>+5.93%</td>\n",
       "      <td>...</td>\n",
       "      <td>1426843.0</td>\n",
       "      <td>28502.0</td>\n",
       "      <td>35.0</td>\n",
       "      <td>NaN</td>\n",
       "      <td>0.2</td>\n",
       "      <td>3.9</td>\n",
       "      <td>94.0</td>\n",
       "      <td>1.9</td>\n",
       "      <td>0.0</td>\n",
       "      <td>NaN</td>\n",
       "    </tr>\n",
       "  </tbody>\n",
       "</table>\n",
       "<p>9 rows × 66 columns</p>\n",
       "</div>"
      ],
      "text/plain": [
       "    Cluster_num  MaxRainfallIntensity  MaxRainfallIntensityMinute  \\\n",
       "0   6h_sp_c_0.5              0.301343                         180   \n",
       "1  6h_sp_fl_0.1              0.301343                          36   \n",
       "2  6h_sp_fl_0.2              0.301343                          72   \n",
       "3  6h_sp_fl_0.3              0.301343                         108   \n",
       "4  6h_sp_fl_0.4              0.301343                         144   \n",
       "5  6h_sp_bl_0.6              0.301343                         216   \n",
       "6  6h_sp_bl_0.7              0.301343                         252   \n",
       "7  6h_sp_bl_0.8              0.301343                         288   \n",
       "8  6h_sp_bl_0.9              0.301343                         324   \n",
       "\n",
       "   TotalFloodedArea  %Diff_FloodedArea_fromSP  \\\n",
       "0          1.534739                      0.00   \n",
       "1          1.465218                     -4.53   \n",
       "2          1.479458                     -3.60   \n",
       "3          1.498196                     -2.38   \n",
       "4          1.517187                     -1.14   \n",
       "5          1.557027                      1.45   \n",
       "6          1.572332                      2.45   \n",
       "7          1.585933                      3.34   \n",
       "8          1.597071                      4.06   \n",
       "\n",
       "  %Diff_FloodedArea_fromSP_formatted  Abs%Diff_FloodedArea_fromSP  \\\n",
       "0                                                            0.00   \n",
       "1                             -4.53%                         4.53   \n",
       "2                              -3.6%                         3.60   \n",
       "3                             -2.38%                         2.38   \n",
       "4                             -1.14%                         1.14   \n",
       "5                             +1.45%                         1.45   \n",
       "6                             +2.45%                         2.45   \n",
       "7                             +3.34%                         3.34   \n",
       "8                             +4.06%                         4.06   \n",
       "\n",
       "   UrbanFloodedArea  %Diff_UrbanFloodedArea_fromSP  \\\n",
       "0          0.496018                           0.00   \n",
       "1          0.464385                          -6.38   \n",
       "2          0.471585                          -4.93   \n",
       "3          0.479371                          -3.36   \n",
       "4          0.487419                          -1.73   \n",
       "5          0.504568                           1.72   \n",
       "6          0.512602                           3.34   \n",
       "7          0.519749                           4.78   \n",
       "8          0.525408                           5.93   \n",
       "\n",
       "  %Diff_UrbanFloodedArea_fromSP_formatted  ...  Hazard_SameCat_countcells  \\\n",
       "0                                          ...                        NaN   \n",
       "1                                  -6.38%  ...                  1365769.0   \n",
       "2                                  -4.93%  ...                  1399856.0   \n",
       "3                                  -3.36%  ...                  1441060.0   \n",
       "4                                  -1.73%  ...                  1486938.0   \n",
       "5                                  +1.72%  ...                  1509866.0   \n",
       "6                                  +3.34%  ...                  1475958.0   \n",
       "7                                  +4.78%  ...                  1452944.0   \n",
       "8                                  +5.93%  ...                  1426843.0   \n",
       "\n",
       "  Hazard_1CatsHigher_countcells  Hazard_2CatsHigher_countcells  \\\n",
       "0                           NaN                            NaN   \n",
       "1                       67118.0                         2768.0   \n",
       "2                       54034.0                         1771.0   \n",
       "3                       38344.0                          889.0   \n",
       "4                       17743.0                          277.0   \n",
       "5                        4784.0                            5.0   \n",
       "6                       13289.0                            9.0   \n",
       "7                       17445.0                           21.0   \n",
       "8                       28502.0                           35.0   \n",
       "\n",
       "   Hazard_3CatsHigher_countcells  Hazard_2CatsLower_propcells  \\\n",
       "0                            NaN                          NaN   \n",
       "1                            2.0                          0.0   \n",
       "2                            2.0                          0.0   \n",
       "3                            2.0                          0.0   \n",
       "4                            2.0                          0.0   \n",
       "5                            NaN                          0.0   \n",
       "6                            NaN                          0.1   \n",
       "7                            NaN                          0.1   \n",
       "8                            NaN                          0.2   \n",
       "\n",
       "   Hazard_1CatsLower_propcells  Hazard_SameCat_propcells  \\\n",
       "0                          NaN                       NaN   \n",
       "1                          1.2                      94.0   \n",
       "2                          1.0                      95.2   \n",
       "3                          0.7                      96.6   \n",
       "4                          0.5                      98.3   \n",
       "5                          1.2                      98.5   \n",
       "6                          2.4                      96.6   \n",
       "7                          3.3                      95.5   \n",
       "8                          3.9                      94.0   \n",
       "\n",
       "   Hazard_1CatsHigher_propcells  Hazard_2CatsHigher_propcells  \\\n",
       "0                           NaN                           NaN   \n",
       "1                           4.6                           0.2   \n",
       "2                           3.7                           0.1   \n",
       "3                           2.6                           0.1   \n",
       "4                           1.2                           0.0   \n",
       "5                           0.3                           0.0   \n",
       "6                           0.9                           0.0   \n",
       "7                           1.1                           0.0   \n",
       "8                           1.9                           0.0   \n",
       "\n",
       "   Hazard_3CatsHigher_propcells  \n",
       "0                           NaN  \n",
       "1                           0.0  \n",
       "2                           0.0  \n",
       "3                           0.0  \n",
       "4                           0.0  \n",
       "5                           NaN  \n",
       "6                           NaN  \n",
       "7                           NaN  \n",
       "8                           NaN  \n",
       "\n",
       "[9 rows x 66 columns]"
      ]
     },
     "execution_count": 26,
     "metadata": {},
     "output_type": "execute_result"
    }
   ],
   "source": [
    "cluster_results.to_csv(\"Data/allclusters_summary.csv\", index=False)\n",
    "cluster_results"
   ]
  },
  {
   "cell_type": "markdown",
   "id": "63cea586",
   "metadata": {},
   "source": [
    "### Delete tiff files (as these aren't used again and take up a lot of space)"
   ]
  },
  {
   "cell_type": "code",
   "execution_count": 25,
   "id": "9f688f21",
   "metadata": {},
   "outputs": [],
   "source": [
    "# for method in short_ids:\n",
    "#     print(method)\n",
    "#     if method != '6h_feh_sp':\n",
    "#         os.remove(\"../../../../FloodModelling/MeganModel_New/{}/hazard_cat_difference.tif\".format(method)) \n",
    "#         os.remove(\"../../../../FloodModelling/MeganModel_New/{}/Depth_difffromsinglepeak_classified.tif\".format(method)) \n",
    "#         os.remove(\"../../../../FloodModelling/MeganModel_New/{}/Depth_difffromsinglepeak_posneg.tif\".format(method)) \n",
    "#         os.remove(\"../../../../FloodModelling/MeganModel_New/{}/Velocity_difffromsinglepeak_classified.tif\".format(method)) \n",
    "#         os.remove(\"../../../../FloodModelling/MeganModel_New/{}/Velocity_difffromsinglepeak_posneg.tif\".format(method)) \n",
    "        \n",
    "#     os.remove(\"../../../../FloodModelling/MeganModel_New/{}/Depth_classified.tif\".format(method)) \n",
    "#     os.remove(\"../../../../FloodModelling/MeganModel_New/{}/hazard_classified.tif\".format(method)) \n",
    "#     os.remove(\"../../../../FloodModelling/MeganModel_New/{}/Velocity_classified.tif\".format(method)) "
   ]
  },
  {
   "cell_type": "code",
   "execution_count": null,
   "id": "0f3aa42e",
   "metadata": {},
   "outputs": [],
   "source": []
  }
 ],
 "metadata": {
  "kernelspec": {
   "display_name": "Python 3 (ipykernel)",
   "language": "python",
   "name": "python3"
  },
  "language_info": {
   "codemirror_mode": {
    "name": "ipython",
    "version": 3
   },
   "file_extension": ".py",
   "mimetype": "text/x-python",
   "name": "python",
   "nbconvert_exporter": "python",
   "pygments_lexer": "ipython3",
   "version": "3.9.7"
  }
 },
 "nbformat": 4,
 "nbformat_minor": 5
}
