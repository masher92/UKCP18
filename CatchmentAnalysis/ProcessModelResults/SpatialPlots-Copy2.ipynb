{
 "cells": [
  {
   "cell_type": "code",
   "execution_count": 2,
   "id": "2b72479e",
   "metadata": {},
   "outputs": [],
   "source": [
    "method_name = 'Idealised'\n",
    "catchment_name = 'LinDyke'"
   ]
  },
  {
   "cell_type": "code",
   "execution_count": 3,
   "id": "d5161781",
   "metadata": {},
   "outputs": [],
   "source": [
    "from matplotlib import cm\n",
    "from rasterio import plot\n",
    "from mpl_toolkits.axes_grid1 import make_axes_locatable\n",
    "from my_functions import *\n",
    "\n",
    "# import warnings\n",
    "# warnings.simplefilter(action='ignore', category=FutureWarning)"
   ]
  },
  {
   "cell_type": "code",
   "execution_count": null,
   "id": "fe8829cd",
   "metadata": {},
   "outputs": [],
   "source": [
    "watercourses = gpd.read_file('../../../FloodModelling/ExtraData/Watercourses/WatercourseLink.shp')\n",
    "watercourses_clip = gpd.clip(watercourses, catchment_gdf)"
   ]
  },
  {
   "cell_type": "code",
   "execution_count": 4,
   "id": "83afe67f",
   "metadata": {},
   "outputs": [],
   "source": [
    "ld_dict = {'name':'LinDyke',\n",
    "              'name_str':'Resampled.Terrain',\n",
    "           'shpfile_name':'CatchmentLinDyke_exported',\n",
    "              \"centre_location\" : [53.768306874761016, -1.3756056884868098],\n",
    "          'watercourses':}\n",
    "wb_dict = {'name':'WykeBeck',\n",
    "          'name_str':'Terrain.wykeDEM',\n",
    "           'shpfile_name':'WykeBeckCatchment',\n",
    "          \"centre_location\" : [53.81001289603593, -1.483594591196338]}"
   ]
  },
  {
   "cell_type": "code",
   "execution_count": 18,
   "id": "f97a6481",
   "metadata": {},
   "outputs": [],
   "source": [
    "def plot_spatial(axs,fp, catchment_gdf,  cbar=True, colors=None, labels=None,legend=True):\n",
    "    #cx.add_basemap(axs, crs = catchment_gdf.crs.to_string(), url = cx.providers.OpenStreetMap.Mapnik)\n",
    "    #################################################################\n",
    "    # Read in and prepare data\n",
    "    #################################################################\n",
    "    # Read in shapefile for use in cropping\n",
    "    with rasterio.open(fp) as raster_crs:\n",
    "        # Get crs to read in the catchment shape file\n",
    "        crop_raster_profile = raster_crs.profile\n",
    "        crop_bound_utm13N = catchment_gdf.to_crs(crop_raster_profile[\"crs\"])    \n",
    "    \n",
    "    # Read in raster data amd crop to the shapefile\n",
    "    with rasterio.open(fp) as src:\n",
    "        single_cropped_image, single_cropped_meta = es.crop_image(\n",
    "        src, crop_bound_utm13N)\n",
    "    \n",
    "    # Create the extent object for plotting\n",
    "    single_crop_extent = plotting_extent(single_cropped_image[0], single_cropped_meta[\"transform\"])\n",
    "        \n",
    "    #################################################################\n",
    "    # Set up colors for plotting\n",
    "    #################################################################\n",
    "    # For landcover plot (where colours list is specified)\n",
    "    if colors!=None:\n",
    "        # Create the colourmap\n",
    "        cmap = mpl.colors.ListedColormap(colors)\n",
    "        # And set up the legend object\n",
    "        if legend == True:\n",
    "            patches_list = []\n",
    "            for i, color in  enumerate(colors):\n",
    "                patch =  mpatches.Patch(color=color, label=labels[i])\n",
    "                patches_list.append(patch)  \n",
    "            axs.legend(handles=patches_list, handleheight=3, handlelength=3, fontsize =5);\n",
    "    \n",
    "    # For terrain plot\n",
    "    else:\n",
    "        cmap = 'RdBu_r'\n",
    "    \n",
    "    #################################################################\n",
    "    # Mask array if necessary (in this case this is for the terrain data)\n",
    "    #################################################################\n",
    "    # For landcover plot\n",
    "    if colors != None:\n",
    "        # Mask array (don't want to include values of 0, as these are no data values here)\n",
    "        single_cropped_image = np.ma.masked_array(single_cropped_image[0], single_cropped_image[0] == 0)\n",
    "        # Define a vmin and vmax (so it uses the values for this plot)\n",
    "        vmin = np.nanmin(single_cropped_image)\n",
    "        vmax = np.nanmax(single_cropped_image)\n",
    "    \n",
    "    # For terrain plot\n",
    "    # Define a vmin and vmax (so it's consistent across the plots)\n",
    "    else:\n",
    "        vmin = -0.05\n",
    "        vmax = 0.05\n",
    "#         vmin = np.nanmin(single_cropped_image)\n",
    "#         vmax = np.nanmax(single_cropped_image)\n",
    "    \n",
    "    #################################################################\n",
    "    # Plot the image\n",
    "    #################################################################\n",
    "    #single_cropped_image = np.ma.masked_array(single_cropped_image[0], single_cropped_image[0] == 0)\n",
    "    cmap = mpl.cm.RdYlGn.copy()\n",
    "    #cmap.set_bad('purple', 1.)\n",
    "    \n",
    "    crop_bound_utm13N.boundary.plot(ax=axs, color=\"black\", zorder=10)\n",
    "    ep.plot_bands(single_cropped_image, ax=axs, extent=single_crop_extent, cmap = cmap, \n",
    "                      vmin=vmin,vmax=vmax,cbar=cbar)\n",
    "        \n",
    "    # Add the watercourse track\n",
    "    watercourses_clip.plot(ax=axs, linewidth=3, color = 'black')   \n",
    "    \n",
    "    axs.axis('off')"
   ]
  },
  {
   "cell_type": "code",
   "execution_count": null,
   "id": "45319bd9",
   "metadata": {},
   "outputs": [],
   "source": [
    "# find_difference_between_extremes(wb_dict, 'Depth', 'Idealised')\n",
    "# find_difference_between_extremes(wb_dict, 'Depth', 'Observed')"
   ]
  },
  {
   "cell_type": "code",
   "execution_count": 11,
   "id": "15e9a081",
   "metadata": {},
   "outputs": [],
   "source": [
    "import earthpy.spatial as es\n",
    "from rasterio.plot import plotting_extent\n",
    "import earthpy.plot as ep\n",
    "\n",
    "watercourses = gpd.read_file('../../../FloodModelling/ExtraData/Watercourses/WatercourseLink.shp')\n"
   ]
  },
  {
   "cell_type": "code",
   "execution_count": null,
   "id": "3b776578",
   "metadata": {},
   "outputs": [],
   "source": [
    "# fig, axs = plt.subplots(ncols=2, figsize=(160, 80))\n",
    "# catchment_dict=wb_dict\n",
    "# model_directory = '../../../FloodModelling/{}Models/Model_{}Profiles/'.format(catchment_dict['name'], method_name)\n",
    "# catchment_shp = model_directory + \"{}.shp\".format(catchment_dict[\"shpfile_name\"])\n",
    "# catchment_gdf = gpd.read_file(catchment_shp)\n",
    "\n",
    "# plot_spatial(axs[0], model_directory + f\"CalculatedLayers/DifferencesBetweenExtremes_{'Depth'}_{'Idealised'}.tif\", \n",
    "#             catchment_gdf)\n",
    "# model_directory = f\"../../../FloodModelling/{catchment_dict['name']}Models/Model_{'Observed'}Profiles/\"\n",
    "# plot_spatial(axs[1], model_directory + f\"CalculatedLayers/DifferencesBetweenExtremes_{'Depth'}_{'Observed'}.tif\", \n",
    "#             catchment_gdf)"
   ]
  },
  {
   "cell_type": "code",
   "execution_count": 17,
   "id": "d3ec0f0d",
   "metadata": {},
   "outputs": [
    {
     "data": {
      "text/plain": [
       "'EPSG:27700'"
      ]
     },
     "execution_count": 17,
     "metadata": {},
     "output_type": "execute_result"
    }
   ],
   "source": [
    "catchment_gdf.crs.to_string()"
   ]
  },
  {
   "cell_type": "code",
   "execution_count": 20,
   "id": "70cb6cde",
   "metadata": {},
   "outputs": [
    {
     "data": {
      "image/png": "[encoded data removed]",
      "text/plain": [
       "<Figure size 4000x2000 with 2 Axes>"
      ]
     },
     "metadata": {},
     "output_type": "display_data"
    }
   ],
   "source": [
    "fig, axs = plt.subplots(figsize=(40,20))\n",
    "catchment_dict=wb_dict\n",
    "model_directory = '../../../FloodModelling/{}Models/Model_{}Profiles/'.format(catchment_dict['name'], method_name)\n",
    "catchment_shp = model_directory + \"{}.shp\".format(catchment_dict[\"shpfile_name\"])\n",
    "catchment_gdf = gpd.read_file(catchment_shp)\n",
    "watercourses_clip = gpd.clip(watercourses, catchment_gdf)\n",
    "plot_spatial(axs, model_directory + f\"CalculatedLayers/DifferencesBetweenExtremes_{'Depth'}_{'Idealised'}.tif\", \n",
    "            catchment_gdf)"
   ]
  },
  {
   "cell_type": "code",
   "execution_count": 22,
   "id": "a582f702",
   "metadata": {},
   "outputs": [],
   "source": [
    "def find_difference_between_extremes(catchment_dict, variable_name, method_name):\n",
    "    \n",
    "    # Find the catchment shapefile\n",
    "    model_directory = '../../../FloodModelling/{}Models/Model_{}Profiles/'.format(catchment_dict['name'], method_name)\n",
    "    catchment_shp = model_directory + \"{}.shp\".format(catchment_dict[\"shpfile_name\"])\n",
    "    catchment_gdf = gpd.read_file(catchment_shp)\n",
    "\n",
    "    # Get string relating to most/least extreme scenarios\n",
    "    if method_name == 'Idealised':\n",
    "        most_extreme_str,least_extreme_str = '6h_sp_bl_0.9',\"6h_sp_fl_0.1\"\n",
    "    elif method_name == 'Observed':\n",
    "        most_extreme_str,least_extreme_str = '6h_c5',\"6h_c8\"        \n",
    "    elif method_name == 'SinglePeak_Scaled':\n",
    "        most_extreme_str,least_extreme_str = '6h_sp_+0%', \"6h_sp_+20%\"        \n",
    "    \n",
    "    # Read in data\n",
    "    most_extreme = prep_for_folium_plotting(model_directory+ f\"{most_extreme_str}/{variable_name} (Max).{catchment_dict['name_str']}.tif\")\n",
    "    least_extreme = prep_for_folium_plotting(model_directory+ f\"{least_extreme_str}/{variable_name} (Max).{catchment_dict['name_str']}.tif\")\n",
    "    \n",
    "    #most_extreme.data[np.isnan(most_extreme.data.data)] = 0\n",
    "    #least_extreme.data[np.isnan(least_extreme.data)] = 0\n",
    "    \n",
    "    # \n",
    "    #most_extreme.data[~np.isnan(least_extreme.data)] = 0\n",
    "    #least_extreme.data[~np.isnan(most_extreme.data)] = 0\n",
    "    \n",
    "    \n",
    "    # most_extreme.data[np.isnan(most_extreme.data) and (~np.isnan(least_extreme.data))] = 0\n",
    "    #most_extreme.data[(~np.isnan(least_extreme.data) & np.isnan(most_extreme.data)).all()] = 0\n",
    "    #least_extreme.data[(~np.isnan(most_extreme.data) & np.isnan(least_extreme.data)).all()] = 0\n",
    "    \n",
    "    \n",
    "    most_extreme.data[np.isnan(most_extreme.data) & (~np.isnan(least_extreme.data))] = 0\n",
    "    least_extreme.data[np.isnan(least_extreme.data) & (~np.isnan(most_extreme.data))] = 0\n",
    "    \n",
    "    # Find the difference and save\n",
    "    diff= most_extreme -least_extreme\n",
    "    \n",
    "    # Where they have the same value, filter out\n",
    "    #diff.data[diff.data ==0.0] = np.nan\n",
    "    \n",
    "    out_meta = rasterio.open(model_directory+ f\"{most_extreme_str}/Depth (Max).{catchment_dict['name_str']}.tif\").meta.copy()\n",
    "    save_array_as_raster(diff, model_directory + f\"CalculatedLayers/DifferencesBetweenExtremes_{variable_name}_{method_name}.tif\", out_meta) \n",
    "\n",
    "    # Find difference as either a positive or a negative\n",
    "    pos_neg_depth_diff = np.where((np.isnan(diff)), np.nan, \n",
    "                          np.where((diff < 0), 0,\n",
    "                            np.where((diff == 0), 1,\n",
    "                                np.where((diff > 0), 2, 500))))\n",
    "    save_array_as_raster(pos_neg_depth_diff, \n",
    "                         model_directory + f\"CalculatedLayers/PosNegDifferencesBetweenExtremes_{variable_name}_{method_name}.tif\", out_meta) \n",
    "    \n",
    "    \n",
    "def plot_difference_between_extremes(catchment_dict, variable_name, method_name, ax,add_basemap= True, add_colorbar= False):\n",
    "    #######################################\n",
    "    # Read in catchment shapefile\n",
    "    #######################################\n",
    "    model_directory = '../../../FloodModelling/{}Models/Model_{}Profiles/'.format(catchment_dict['name'], method_name)\n",
    "    catchment_shp = model_directory + \"{}.shp\".format(catchment_dict[\"shpfile_name\"])\n",
    "    catchment_gdf = gpd.read_file(catchment_shp)\n",
    "    \n",
    "    #######################################\n",
    "    # Define colormap\n",
    "    #######################################\n",
    "    cmap = mpl.cm.RdYlGn.copy()\n",
    "    cmap.set_bad('purple', 1.)\n",
    "    \n",
    "    #######################################\n",
    "    # Plot catchment boundary and basemap\n",
    "    #######################################\n",
    "    catchment_gdf.plot(ax=ax, facecolor=\"none\", linewidth=5, edgecolor = 'black')\n",
    "    if add_basemap == True:\n",
    "        cx.add_basemap(ax, crs = catchment_gdf.crs.to_string(), url = cx.providers.OpenStreetMap.Mapnik)\n",
    "    \n",
    "    #######################################\n",
    "    # Read in data and add to map\n",
    "    #######################################\n",
    "    fp = model_directory + f\"CalculatedLayers/DifferencesBetweenExtremes_{variable_name}_{method_name}.tif\"\n",
    "    array = rasterio.open(fp)\n",
    "    image = plot.show(array, ax=ax,  cmap='RdBu_r',  vmin=-0.5,  vmax=0.05)\n",
    "    \n",
    "    #######################################\n",
    "    # Format\n",
    "    #######################################\n",
    "    ax.axis('off')\n",
    "    ax.set_title(method_name, fontsize =20)\n",
    "    \n",
    "    # Colorbar creation\n",
    "    if add_colorbar == True:  \n",
    "        if add_basemap == True:\n",
    "            im = image.get_images()[1]\n",
    "        else:\n",
    "            im = image.get_images()[0]\n",
    "        divider = make_axes_locatable(ax)\n",
    "        cax = divider.append_axes(\"right\", size=\"8%\", pad=0.09)\n",
    "        fig.colorbar(im, cax)"
   ]
  },
  {
   "cell_type": "code",
   "execution_count": null,
   "id": "1455e19a",
   "metadata": {},
   "outputs": [],
   "source": [
    "find_difference_between_extremes(wb_dict, 'Depth', 'Idealised')\n",
    "find_difference_between_extremes(wb_dict, 'Depth', 'Observed')"
   ]
  },
  {
   "cell_type": "code",
   "execution_count": null,
   "id": "3ab68ea4",
   "metadata": {},
   "outputs": [],
   "source": [
    "fig, axs = plt.subplots(ncols=2, figsize=(80, 160))\n",
    "plot_difference_between_extremes(wb_dict, 'Depth', 'Idealised', axs[0], False)\n",
    "plot_difference_between_extremes(wb_dict, 'Depth', 'Observed', axs[1], False, True)\n",
    "# fig.savefig(\"test.jpg\",dpi=2000)\n",
    "# fig.savefig('myimage.jpg', format='jpg', dpi=1200)"
   ]
  },
  {
   "cell_type": "code",
   "execution_count": null,
   "id": "299818e8",
   "metadata": {},
   "outputs": [],
   "source": [
    "fig, axs = plt.subplots(ncols=1, figsize=(24, 40))\n",
    "plot_difference_between_extremes(wb_dict, 'Depth', 'Idealised', axs, True)\n",
    "# plot_difference_between_extremes(wb_dict, 'Depth', 'Observed', axs[1], False, True)"
   ]
  },
  {
   "cell_type": "code",
   "execution_count": null,
   "id": "3c949502",
   "metadata": {},
   "outputs": [],
   "source": [
    "fig, axs = plt.subplots(ncols=1, figsize=(24, 40))\n",
    "# plot_difference_between_extremes(wb_dict, 'Depth', 'Idealised', axs, False)\n",
    "plot_difference_between_extremes(wb_dict, 'Depth', 'Observed', axs, False, True)"
   ]
  },
  {
   "cell_type": "code",
   "execution_count": null,
   "id": "2d387154",
   "metadata": {},
   "outputs": [],
   "source": [
    "catchment_dict = wb_dict\n",
    "variable_name = 'Depth'\n",
    "method_name = 'Idealised'\n",
    "\n",
    "# Find the catchment shapefile\n",
    "model_directory = '../../../FloodModelling/{}Models/Model_{}Profiles/'.format(catchment_dict['name'], method_name)\n",
    "catchment_shp = model_directory + \"{}.shp\".format(catchment_dict[\"shpfile_name\"])\n",
    "catchment_gdf = gpd.read_file(catchment_shp)\n",
    "\n",
    "# Get string relating to most/least extreme scenarios\n",
    "if method_name == 'Idealised':\n",
    "    most_extreme_str,least_extreme_str = '6h_sp_bl_0.9',\"6h_sp_fl_0.1\"\n",
    "elif method_name == 'Observed':\n",
    "    most_extreme_str,least_extreme_str = '6h_c5',\"6h_c8\"        \n",
    "elif method_name == 'SinglePeak_Scaled':\n",
    "    most_extreme_str,least_extreme_str = '6h_sp_+0%', \"6h_sp_+20%\"      \n",
    "\n",
    "most_extreme = prep_for_folium_plotting(model_directory+ f\"{most_extreme_str}/{variable_name} (Max).{catchment_dict['name_str']}.tif\")\n",
    "least_extreme = prep_for_folium_plotting(model_directory+ f\"{least_extreme_str}/{variable_name} (Max).{catchment_dict['name_str']}.tif\")\n",
    "\n",
    "most_extreme.data[np.isnan(most_extreme.data) & (~np.isnan(least_extreme.data))] = 0\n",
    "least_extreme.data[np.isnan(least_extreme.data) & (~np.isnan(most_extreme.data))] = 0\n",
    "\n",
    "# # Find the difference and save\n",
    "diff= most_extreme -least_extreme\n",
    "\n",
    "diff"
   ]
  },
  {
   "cell_type": "code",
   "execution_count": null,
   "id": "a9790ed4",
   "metadata": {},
   "outputs": [],
   "source": [
    "model_directory = '../../../FloodModelling/{}Models/Model_{}Profiles/'.format(wb_dict['name'], 'Idealised')\n",
    "fp = model_directory + f\"CalculatedLayers/DifferencesBetweenExtremes_{'Depth'}_{'Idealised'}.tif\"\n",
    "array = rasterio.open(fp)\n",
    "array = np.ma.masked_array(array[0], array[0] < 0.001)\n",
    "# array = np.ma.masked_array(array, np.nan(array))"
   ]
  },
  {
   "cell_type": "code",
   "execution_count": null,
   "id": "17852bbb",
   "metadata": {},
   "outputs": [],
   "source": [
    "# most_extreme = prep_for_folium_plotting(model_directory+ f\"{most_extreme_str}/{variable_name} (Max).{catchment_dict['name_str']}.tif\")\n",
    "# least_extreme = prep_for_folium_plotting(model_directory+ f\"{least_extreme_str}/{variable_name} (Max).{catchment_dict['name_str']}.tif\")"
   ]
  },
  {
   "cell_type": "code",
   "execution_count": null,
   "id": "0ddbb0a7",
   "metadata": {},
   "outputs": [],
   "source": [
    "test=np.array([[5,5,3,2], [1,1,1,1], [np.nan, np.nan,np.nan,np.nan], [5,5,3,2]])\n",
    "test2=np.array([[4,4,3,2], [np.nan,1,1,np.nan], [np.nan, np.nan,np.nan,np.nan], [5,5,3,1]])\n",
    "test-test2"
   ]
  },
  {
   "cell_type": "code",
   "execution_count": null,
   "id": "ff70c778",
   "metadata": {},
   "outputs": [],
   "source": [
    "# if there is an NaN in this dataset, but in the other dataset it's not an NaN\n",
    "test[np.isnan(test) & (~np.isnan(test2))] = 0\n",
    "# If it's an nan in this dataset, \n",
    "test2[np.isnan(test2) & (~np.isnan(test))] = 0\n",
    "\n",
    "test-test2"
   ]
  },
  {
   "cell_type": "code",
   "execution_count": null,
   "id": "86840025",
   "metadata": {},
   "outputs": [],
   "source": [
    "# if there is an NaN in this dataset, but in the other dataset it's not an NaN\n",
    "most_extreme.data[np.isnan(most_extreme.data) & (~np.isnan(least_extreme.data))] = 0\n",
    "# If it's an nan in this dataset, \n",
    "least_extreme.data[np.isnan(least_extreme.data) & (~np.isnan(most_extreme.data))] = 0\n",
    "\n",
    "# Find the difference and save\n",
    "diff= most_extreme -least_extreme\n",
    "diff"
   ]
  },
  {
   "cell_type": "markdown",
   "id": "539c351a",
   "metadata": {},
   "source": [
    "### Set values which are NaN to 0"
   ]
  },
  {
   "cell_type": "code",
   "execution_count": null,
   "id": "fa5d78c8",
   "metadata": {},
   "outputs": [],
   "source": [
    "most_extreme = prep_for_folium_plotting(model_directory+ f\"{most_extreme_str}/{variable_name} (Max).{catchment_dict['name_str']}.tif\")\n",
    "most_extreme.data[np.isnan(most_extreme.data)] = 0"
   ]
  },
  {
   "cell_type": "code",
   "execution_count": null,
   "id": "372586d8",
   "metadata": {},
   "outputs": [],
   "source": [
    "np.unique(np.isnan(most_extreme.data),return_counts=True)"
   ]
  },
  {
   "cell_type": "markdown",
   "id": "93e095f8",
   "metadata": {},
   "source": [
    "### Set values which are NaN in this array, but not NaN in the other array to 0"
   ]
  },
  {
   "cell_type": "code",
   "execution_count": null,
   "id": "9c24e2c5",
   "metadata": {},
   "outputs": [],
   "source": [
    "most_extreme = prep_for_folium_plotting(model_directory+ f\"{most_extreme_str}/{variable_name} (Max).{catchment_dict['name_str']}.tif\")\n",
    "most_extreme.data[np.isnan(most_extreme.data) & (~np.isnan(least_extreme.data))] = 0\n",
    "# most_extreme.data[(~np.isnan(least_extreme.data) & np.isnan(most_extreme.data)).all()] = 0"
   ]
  },
  {
   "cell_type": "code",
   "execution_count": null,
   "id": "73a6f932",
   "metadata": {},
   "outputs": [],
   "source": [
    "np.unique(np.isnan(most_extreme.data),return_counts=True)"
   ]
  },
  {
   "cell_type": "code",
   "execution_count": null,
   "id": "7e83f11d",
   "metadata": {},
   "outputs": [],
   "source": [
    "import pylab\n",
    "pylab.hist(most_extreme.data[~np.isnan(most_extreme.data)],bins=20);"
   ]
  },
  {
   "cell_type": "code",
   "execution_count": null,
   "id": "306e5e51",
   "metadata": {},
   "outputs": [],
   "source": [
    "# most_extreme.data[np.where(np.isnan(most_extreme).data & (~np.isnan(least_extreme).data))] ==0\n",
    "# most_extreme.data[np.where(np.isnan(most_extreme.data))] ==0\n",
    "most_extreme = prep_for_folium_plotting(model_directory+ f\"{most_extreme_str}/{variable_name} (Max).{catchment_dict['name_str']}.tif\")\n",
    "most_extreme.data[np.isnan(most_extreme.data)] = 0\n",
    "most_extreme.data\n",
    "\n",
    "# np.where((np.isnan(most_extreme.data)) & (np.isnan(least_extreme.data)))\n",
    "# np.where(np.isnan(most_extreme.data)) and np.where(~np.isnan(least_extreme.data))\n",
    "\n",
    "# most_extreme.data = np.where((np.isnan(most_extreme.data)) & (~np.isnan(least_extreme.data), 0, np.nan))"
   ]
  },
  {
   "cell_type": "code",
   "execution_count": null,
   "id": "689371fb",
   "metadata": {},
   "outputs": [],
   "source": [
    "find_difference_between_extremes(wb_dict, 'Depth', 'Idealised')\n",
    "find_difference_between_extremes(wb_dict, 'Depth', 'Observed')"
   ]
  },
  {
   "cell_type": "code",
   "execution_count": null,
   "id": "31b41808",
   "metadata": {},
   "outputs": [],
   "source": [
    "fp"
   ]
  },
  {
   "cell_type": "code",
   "execution_count": null,
   "id": "3807ad72",
   "metadata": {},
   "outputs": [],
   "source": [
    "def plot_spatial(axs,fp, catchment_gdf,  cbar=True, colors=None, labels=None,legend=True):\n",
    "    \n",
    "    #################################################################\n",
    "    # Read in and prepare data\n",
    "    #################################################################\n",
    "    # Read in shapefile for use in cropping\n",
    "    with rasterio.open(fp) as raster_crs:\n",
    "        # Get crs to read in the catchment shape file\n",
    "        crop_raster_profile = raster_crs.profile\n",
    "        crop_bound_utm13N = catchment_gdf.to_crs(crop_raster_profile[\"crs\"])    \n",
    "    \n",
    "    # Read in raster data amd crop to the shapefile\n",
    "    with rasterio.open(fp) as src:\n",
    "        single_cropped_image, single_cropped_meta = es.crop_image(\n",
    "        src, crop_bound_utm13N)\n",
    "    \n",
    "    # Create the extent object for plotting\n",
    "    single_crop_extent = plotting_extent(single_cropped_image[0], single_cropped_meta[\"transform\"])\n",
    "    \n",
    "    #################################################################\n",
    "    # Set up colors for plotting\n",
    "    #################################################################\n",
    "    # For landcover plot (where colours list is specified)\n",
    "    if colors!=None:\n",
    "        # Create the colourmap\n",
    "        cmap = mpl.colors.ListedColormap(colors)\n",
    "        # And set up the legend object\n",
    "        if legend == True:\n",
    "            patches_list = []\n",
    "            for i, color in  enumerate(colors):\n",
    "                patch =  mpatches.Patch(color=color, label=labels[i])\n",
    "                patches_list.append(patch)  \n",
    "            axs.legend(handles=patches_list, handleheight=3, handlelength=3, fontsize =5);\n",
    "    \n",
    "    # For terrain plot\n",
    "    else:\n",
    "        cmap = 'RdBu_r'\n",
    "    \n",
    "    #################################################################\n",
    "    # Mask array if necessary (in this case this is for the terrain data)\n",
    "    #################################################################\n",
    "    # For landcover plot\n",
    "    if colors != None:\n",
    "        # Mask array (don't want to include values of 0, as these are no data values here)\n",
    "        single_cropped_image = np.ma.masked_array(single_cropped_image[0], single_cropped_image[0] < 0.001)\n",
    "        # Define a vmin and vmax (so it uses the values for this plot)\n",
    "        vmin = np.nanmin(single_cropped_image)\n",
    "        vmax = np.nanmax(single_cropped_image)\n",
    "    \n",
    "    # For terrain plot\n",
    "    # Define a vmin and vmax (so it's consistent across the plots)\n",
    "    else:\n",
    "        vmin = -0.05\n",
    "        vmax = 0.05\n",
    "#         vmin = np.nanmin(single_cropped_image)\n",
    "#         vmax = np.nanmax(single_cropped_image)\n",
    "    \n",
    "    #################################################################\n",
    "    # Plot the image\n",
    "    #################################################################\n",
    "    crop_bound_utm13N.boundary.plot(ax=axs, color=\"black\", zorder=10)\n",
    "    ep.plot_bands(single_cropped_image, ax=axs, extent=single_crop_extent, cmap = cmap, \n",
    "                      vmin=vmin,vmax=vmax,cbar=cbar)\n",
    "        \n",
    "    # Add the watercourse track\n",
    "    watercourses_clip.plot(ax=axs, linewidth=3, color = 'black')    \n",
    "    axs.axis('off')"
   ]
  },
  {
   "cell_type": "code",
   "execution_count": 1,
   "id": "6003bfeb",
   "metadata": {},
   "outputs": [
    {
     "ename": "NameError",
     "evalue": "name 'model_directory' is not defined",
     "output_type": "error",
     "traceback": [
      "\u001b[0;31m---------------------------------------------------------------------------\u001b[0m",
      "\u001b[0;31mNameError\u001b[0m                                 Traceback (most recent call last)",
      "Cell \u001b[0;32mIn [1], line 1\u001b[0m\n\u001b[0;32m----> 1\u001b[0m fp \u001b[38;5;241m=\u001b[39m \u001b[43mmodel_directory\u001b[49m \u001b[38;5;241m+\u001b[39m \u001b[38;5;124mf\u001b[39m\u001b[38;5;124m\"\u001b[39m\u001b[38;5;124mCalculatedLayers/DifferencesBetweenExtremes_\u001b[39m\u001b[38;5;132;01m{\u001b[39;00mvariable_name\u001b[38;5;132;01m}\u001b[39;00m\u001b[38;5;124m_\u001b[39m\u001b[38;5;132;01m{\u001b[39;00mmethod_name\u001b[38;5;132;01m}\u001b[39;00m\u001b[38;5;124m.tif\u001b[39m\u001b[38;5;124m\"\u001b[39m\n\u001b[1;32m      2\u001b[0m array \u001b[38;5;241m=\u001b[39m rasterio\u001b[38;5;241m.\u001b[39mopen(fp)\n",
      "\u001b[0;31mNameError\u001b[0m: name 'model_directory' is not defined"
     ]
    }
   ],
   "source": [
    "    fp = model_directory + f\"CalculatedLayers/DifferencesBetweenExtremes_{variable_name}_{method_name}.tif\"\n",
    "    array = rasterio.open(fp)"
   ]
  },
  {
   "cell_type": "code",
   "execution_count": null,
   "id": "9096f8ef",
   "metadata": {},
   "outputs": [],
   "source": [
    "fig, ax = plt.subplots(figsize=(24, 40))\n",
    "# Find the catchment shapefile\n",
    "model_directory = '../../../FloodModelling/{}Models/Model_{}Profiles/'.format(catchment_dict['name'], method_name)\n",
    "catchment_shp = model_directory + \"{}.shp\".format(catchment_dict[\"shpfile_name\"])\n",
    "catchment_gdf = gpd.read_file(catchment_shp)\n",
    "add_basemap=False\n",
    "#######################################\n",
    "#######################################\n",
    "# Make the plot\n",
    "#######################################\n",
    "#######################################\n",
    "# Plot catchment boundary\n",
    "catchment_gdf.plot(ax=ax, facecolor=\"none\", linewidth=5, edgecolor = 'black')\n",
    "# Add openstreetmap basemap\n",
    "if add_basemap == True:\n",
    "    cx.add_basemap(ax, crs = catchment_gdf.crs.to_string(), url = cx.providers.OpenStreetMap.Mapnik)\n",
    "\n",
    "# Plot data\n",
    "fp = model_directory + f\"CalculatedLayers/DifferencesBetweenExtremes_{variable_name}_{method_name}.tif\"\n",
    "array = rasterio.open(fp)\n",
    "#array = np.ma.masked_array(array, array == 0)\n",
    "\n",
    "cmap = mpl.cm.RdBu_r.copy()\n",
    "# cmap.set_bad('w', 1.)\n",
    "# image = plot.show(array, ax=ax,  cmap=cmap,  vmin=np.nanmin(band1),  vmax=np.nanmax(band1)-1)\n",
    "image = plot.show(array, ax=ax,  cmap=cmap,  vmin=-0.2,  vmax=0.2)\n",
    "\n",
    "# image = plot.show(array, ax=ax,  cmap=cmap,  vmin=-0.05,  vmax=0.05)\n",
    "\n",
    "if add_basemap == True:\n",
    "    im = image.get_images()[1]\n",
    "else:\n",
    "    im = image.get_images()[0]\n",
    "\n",
    "# Add colorbar\n",
    "divider = make_axes_locatable(ax)\n",
    "add_colorbar= True\n",
    "if add_colorbar == True:  \n",
    "    cax = divider.append_axes(\"right\", size=\"8%\", pad=0.09)\n",
    "    fig.colorbar(im, cax)\n",
    "\n",
    "ax.axis('off');\n",
    "# # Title\n",
    "# ax.set_title(method_name, fontsize =20);"
   ]
  },
  {
   "cell_type": "code",
   "execution_count": null,
   "id": "3a662b07",
   "metadata": {},
   "outputs": [],
   "source": [
    "find_difference_between_extremes(wb_dict, 'Depth', 'Idealised')\n",
    "find_difference_between_extremes(wb_dict, 'Depth', 'Observed')"
   ]
  },
  {
   "cell_type": "markdown",
   "id": "bbc2d8a4",
   "metadata": {},
   "source": [
    "### Create versions of both scenarios where any flooded cell (>0.1m) has a value of 1, and the rest have 0"
   ]
  },
  {
   "cell_type": "code",
   "execution_count": null,
   "id": "44360550",
   "metadata": {},
   "outputs": [],
   "source": [
    "# most_extreme_binary = most_extreme.copy()\n",
    "# most_extreme_binary.values[(most_extreme_binary.values >=0.1)] = 1\n",
    "# most_extreme_binary.values[(most_extreme_binary.values <0.1)] = 0\n",
    "# most_extreme_binary.values[np.isnan(most_extreme_binary.values)] = 0\n",
    "\n",
    "# least_extreme_binary = least_extreme.copy()\n",
    "# least_extreme_binary.values[(least_extreme_binary.values >=0.1)] = 1\n",
    "# least_extreme_binary.values[(least_extreme_binary.values <0.1)] = 0\n",
    "# least_extreme_binary.values[np.isnan(least_extreme_binary.values)] = 0"
   ]
  },
  {
   "cell_type": "markdown",
   "id": "afa08abc",
   "metadata": {},
   "source": [
    "### Find the difference: \n",
    "i.e. cells have a value of:  \n",
    "-1 if FL01 is bigger than BL09 (darkred)  \n",
    "0 if there is no difference (either flooded in both scenarios or neither)  \n",
    "1 if BL09 is bigger than FL01 (darkolivegreen)  "
   ]
  },
  {
   "cell_type": "code",
   "execution_count": null,
   "id": "b5e65547",
   "metadata": {},
   "outputs": [],
   "source": [
    "# diff_binary = most_extreme_binary -least_extreme_binary\n",
    "# np.unique(diff_binary)"
   ]
  },
  {
   "cell_type": "markdown",
   "id": "e550c06e",
   "metadata": {},
   "source": [
    "### Change the 0 values to np.nan (so they don't have a colour on the map)"
   ]
  },
  {
   "cell_type": "code",
   "execution_count": null,
   "id": "74f70a4c",
   "metadata": {},
   "outputs": [],
   "source": [
    "# least_extreme_binary.values[(least_extreme_binary.values ==0)] = np.nan\n",
    "# most_extreme_binary.values[(most_extreme_binary.values ==0)] = np.nan\n",
    "# diff_binary.values[(diff_binary.values ==0)] = np.nan"
   ]
  },
  {
   "cell_type": "markdown",
   "id": "ebc1b6ef",
   "metadata": {},
   "source": [
    "### Find the difference in values"
   ]
  },
  {
   "cell_type": "markdown",
   "id": "026ac623",
   "metadata": {},
   "source": [
    "### Convert this into a measure of whether the difference is positive or negative\n",
    "0 = diff <0 (LEAST EXTREME bigger than MOST EXTREME) Red  \n",
    "1 = diff == 0 (LEAST EXTREME==MOST EXTREME) Grey  \n",
    "2 = diff >0 (MOST EXTREME bigger than LEAST EXTREME) Green  "
   ]
  },
  {
   "cell_type": "code",
   "execution_count": null,
   "id": "ab8d2c10",
   "metadata": {},
   "outputs": [],
   "source": [
    "pos_neg_depth_diff = np.where((np.isnan(diff)), np.nan, \n",
    "                          np.where((diff < 0), 0,\n",
    "                            np.where((diff == 0), 1,\n",
    "                                np.where((diff > 0), 2, 500))))\n",
    "save_array_as_raster(pos_neg_depth_diff, model_directory + \"CalculatedLayers/PosNegDifferencesBetweenExtremes.tif\", out_meta) "
   ]
  },
  {
   "cell_type": "code",
   "execution_count": null,
   "id": "c1ab8f6b",
   "metadata": {},
   "outputs": [],
   "source": [
    "from matplotlib import cm\n",
    "import branca.colormap as cm\n",
    "colormap = cm.LinearColormap(colors=[\"red\",\"violet\",\"blue\"], index=[np.nanmin(most_extreme),np.nanmax(most_extreme)],\n",
    "                             vmin=np.nanmin(most_extreme),vmax=np.nanmax(most_extreme))"
   ]
  },
  {
   "cell_type": "code",
   "execution_count": null,
   "id": "5a6018ce",
   "metadata": {},
   "outputs": [],
   "source": [
    "# pylab.hist(diff.data[~np.isnan(diff.data)],bins=20);"
   ]
  },
  {
   "cell_type": "markdown",
   "id": "98e146fd",
   "metadata": {},
   "source": [
    "### Plot of difference in depth between most extreme scenarios\n",
    "Green is where the back loaded profile has deeper flooding than the front loaded profile.  \n",
    "Red is where the front loaded profile has deeper flooding than the back loaded profile."
   ]
  },
  {
   "cell_type": "code",
   "execution_count": null,
   "id": "0e733fac",
   "metadata": {},
   "outputs": [],
   "source": [
    "add_basemap =  False\n",
    "fig, ax = plt.subplots(figsize=(24, 10))\n",
    "# Plot catchment boundary\n",
    "catchment_gdf.plot(ax=ax, facecolor=\"none\", linewidth=5, edgecolor = 'black')\n",
    "# Add openstreetmap basemap\n",
    "if add_basemap == True:\n",
    "    cx.add_basemap(ax, crs = catchment_gdf.crs.to_string(), url = cx.providers.OpenStreetMap.Mapnik)\n",
    "# Plot data\n",
    "fp = model_directory + \"CalculatedLayers/DifferencesBetweenExtremes.tif\"\n",
    "array = rasterio.open(fp)\n",
    "# plot.show(array, ax= axs, cmap=orig_cmap, vmin = np.nanmin(array), np.nanmax(array))\n",
    "image = plot.show(array, ax=ax,  cmap='RdYlGn',  vmin=-0.1,  vmax=0.1)\n",
    "if add_basemap == True:\n",
    "    im = image.get_images()[1]\n",
    "else:\n",
    "    im = image.get_images()[0]\n",
    "fig.colorbar(im, ax=ax, pad=0.1)\n",
    "ax.axis('off');"
   ]
  },
  {
   "cell_type": "markdown",
   "id": "4ee3c2f1",
   "metadata": {},
   "source": [
    "### Create colourmaps"
   ]
  },
  {
   "cell_type": "code",
   "execution_count": null,
   "id": "c2fbed66",
   "metadata": {},
   "outputs": [],
   "source": [
    "# # Create discrete cmap\n",
    "colors_list = [ \"red\", \"grey\", \"green\"]\n",
    "cmap_posneg = mpl.colors.ListedColormap(colors_list)\n",
    "import branca.colormap as cm\n",
    "cmap_min=round(np.nanmin(diff.data),1)\n",
    "cmap_max=round(np.nanmax(diff.data),1)\n",
    "cmap = mpl.colors.LinearSegmentedColormap.from_list(\"\", [\"red\",\"violet\",\"blue\"])\n",
    "colormap = cm.LinearColormap(colors=[\"red\",\"violet\",\"blue\"], index=[np.nanmin(most_extreme),np.nanmax(most_extreme)],\n",
    "                             vmin=np.nanmin(most_extreme),vmax=np.nanmax(most_extreme))\n",
    "\n",
    "# from branca.colormap import linear\n",
    "# x=linear.YlOrRd_09.scale(cmap_min,cmap_max)\n",
    "# x\n",
    "\n",
    "# # colors_list_tinary = [ \"darkred\", \"darkolivegreen\"]\n",
    "# # cmap_tinary = mpl.colors.ListedColormap(colors_list_tinary)\n",
    "\n",
    "# colors_list_binary =  [ \"red\",\"green\"]\n",
    "# cmap_binary = mpl.colors.ListedColormap(colors_list_binary)"
   ]
  },
  {
   "cell_type": "markdown",
   "id": "2898a5be",
   "metadata": {},
   "source": [
    "### Plot"
   ]
  },
  {
   "cell_type": "code",
   "execution_count": null,
   "id": "4d5948bc",
   "metadata": {},
   "outputs": [],
   "source": [
    "# data  = ma.masked_invalid(diff)\n",
    "# plt.hist(data.data[np.isfinite(data.data)])\n",
    "from matplotlib import cm\n",
    "# # import branca.colormap as cm\n",
    "# cmap = cm.LinearColormap(cm.magma_r.colors,vmin=0.3, vmax=1)\n",
    "# cmap_func = lambda x: ImageColor.getcolor(cmap(x), 'RGBA') if ~np.isnan(x) else (0,0,0,0)\n"
   ]
  },
  {
   "cell_type": "code",
   "execution_count": null,
   "id": "e46eb521",
   "metadata": {},
   "outputs": [],
   "source": [
    "# Set up figure\n",
    "f = folium.Figure(width=1000, height=1000)\n",
    "\n",
    "# Create base map - location figures were from clat, clon, but wanted to create map before loop\n",
    "mapa = folium.Map(location=centre_location,zoom_start=13).add_to(f)\n",
    "folium.TileLayer(tiles = 'https://basemap.nationalmap.gov/arcgis/rest/services/USGSTopo/MapServer/tile/{z}/{y}/{x}',\n",
    "    attr=\"No Base Map\",name=\"No Base Map\",show=True).add_to(mapa)\n",
    "\n",
    "# Catchment boundary\n",
    "catchment_boundary_feature_group = FeatureGroup(name=catchment_name)\n",
    "catchment_boundary_feature_group.add_child(folium.GeoJson(data=catchment_gdf[\"geometry\"], style_function=lambda x, \n",
    "                                     fillColor='#00000000', color='Black': { \"fillColor\": '#00000000',\"color\": 'Black',}))\n",
    "mapa.add_child(catchment_boundary_feature_group)\n",
    "\n",
    "###########################################\n",
    "# Get coordinates needed in plotting\n",
    "clat, clon = most_extreme.y.values.mean(), most_extreme.x.values.mean()\n",
    "mlat, mlon = most_extreme.y.values.min(), most_extreme.x.values.min()\n",
    "xlat, xlon = most_extreme.y.values.max(), most_extreme.x.values.max()\n",
    "###########################################\n",
    "\n",
    "# Pos Neg depth difference\n",
    "###########################################\n",
    "data  = ma.masked_invalid(pos_neg_depth_diff)\n",
    "colored_data = colorize(data.data, cmap = cmap_posneg)\n",
    "feature_group1 = FeatureGroup(name='PosNegDepthDiff')\n",
    "feature_group1.add_child(folium.raster_layers.ImageOverlay(colored_data,[[mlat, mlon], [xlat, xlon]],\n",
    "                          opacity=0.8,interactive=True, popup='Test'))\n",
    "mapa.add_child(feature_group1)\n",
    "\n",
    "# Actual values\n",
    "###########################################\n",
    "data  = ma.masked_invalid(least_extreme)\n",
    "colored_data = colorize(data.data, cmap = colormap)\n",
    "feature_group2 = FeatureGroup(name='MostExtreme')\n",
    "feature_group2.add_child(folium.raster_layers.ImageOverlay(colored_data,[[mlat, mlon], [xlat, xlon]],\n",
    "                          opacity=0.8,interactive=True, popup='Test'))\n",
    "mapa.add_child(feature_group2)\n",
    "\n",
    "data  = ma.masked_invalid(most_extreme)\n",
    "colored_data = colorize(data.data, cmap = colormap)\n",
    "feature_group3 = FeatureGroup(name='LeastExtreme')\n",
    "feature_group3.add_child(folium.raster_layers.ImageOverlay(colored_data,[[mlat, mlon], [xlat, xlon]],\n",
    "                          opacity=0.8,interactive=True, popup='Test'))\n",
    "mapa.add_child(feature_group3)\n",
    "\n",
    "###########################################\n",
    "# Mask out nans\n",
    "# data  = ma.masked_invalid(diff)\n",
    "# colored_data = colorize(data.data, cmap = cmap)\n",
    "# feature_group5 = FeatureGroup(name='Difference (actual)')\n",
    "# feature_group5.add_child(folium.raster_layers.ImageOverlay(colored_data,[[mlat, mlon], [xlat, xlon]],\n",
    "#                           opacity=0.8,interactive=True, popup='Difference (actual)'))\n",
    "# mapa.add_child(feature_group5)\n",
    "\n",
    "# Add layers to map\n",
    "mapa.add_child(LayerControl(\"topright\", collapsed = False))\n",
    "display(mapa)"
   ]
  },
  {
   "cell_type": "markdown",
   "id": "cff9597c",
   "metadata": {},
   "source": [
    "### Read in landcover data"
   ]
  },
  {
   "cell_type": "code",
   "execution_count": null,
   "id": "f45fd52a",
   "metadata": {},
   "outputs": [],
   "source": [
    "# landcover_binary_fp =  model_directory +\"LandCover_clipped_reclassified.tif\"\n",
    "# landcover_full_fp =  model_directory +\"LandCover_clipped.tif\""
   ]
  },
  {
   "cell_type": "markdown",
   "id": "f17e549c",
   "metadata": {},
   "source": [
    "### Read in flood data"
   ]
  },
  {
   "cell_type": "code",
   "execution_count": null,
   "id": "502c9eee",
   "metadata": {},
   "outputs": [],
   "source": [
    "# fp_feh= '../../../../FloodModelling/MeganModel_New/6h_feh_sp/{} (Max).Resampled.Terrain.tif'\n",
    "# fp_sp_10 = '../../../../FloodModelling/MeganModel_New/6h_sp_+10/{} (Max).Resampled.Terrain.tif'\n",
    "# fp_b2 = '../../../../FloodModelling/MeganModel_New/6h_sp_bl_0.9/{} (Max).Resampled.Terrain.tif'\n",
    "# fp_f2= '../../../../FloodModelling/MeganModel_New/6h_sp_fl_0.1/{} (Max).Resampled.Terrain.tif'\n",
    "# fp_f1= '../../../../FloodModelling/MeganModel_New/6h_sp_fl_0.3/{} (Max).Resampled.Terrain.tif'\n",
    "\n",
    "# depth_b2, out_meta = prepare_rainfall_scenario_raster(fp_b2.format('Depth'), remove_little_values)\n",
    "# depth_feh = prepare_rainfall_scenario_raster(fp_feh.format('Depth'), remove_little_values)[0]\n",
    "# depth_sp_10 = prepare_rainfall_scenario_raster(fp_sp_10.format('Depth'), remove_little_values)[0]\n",
    "# depth_f2 = prepare_rainfall_scenario_raster(fp_f2.format('Depth'), remove_little_values)[0]\n",
    "# depth_f1 = prepare_rainfall_scenario_raster(fp_f1.format('Depth'), remove_little_values)[0]"
   ]
  },
  {
   "cell_type": "markdown",
   "id": "87740590",
   "metadata": {},
   "source": [
    "### Set all values over 0.1 to 1, and rest to 0"
   ]
  },
  {
   "cell_type": "code",
   "execution_count": null,
   "id": "08c0c8d9",
   "metadata": {},
   "outputs": [],
   "source": [
    "# depth_feh = np.where(depth_feh>=0.1, 1, 0)\n",
    "# depth_sp_10= np.where(depth_sp_10>=0.1, 1, 0)\n",
    "# depth_b2 = np.where(depth_b2 >=0.1, 1, 0)\n",
    "# depth_f2 = np.where(depth_f2>=0.1, 1, 0)\n",
    "# depth_f1 = np.where(depth_f1 >=0.1, 1, 0)"
   ]
  },
  {
   "cell_type": "markdown",
   "id": "790db1ff",
   "metadata": {},
   "source": [
    "### Find difference between the FEH and another profile (ones which are off the 1:1 line on scatter plot)."
   ]
  },
  {
   "cell_type": "code",
   "execution_count": null,
   "id": "31a81b2f",
   "metadata": {},
   "outputs": [],
   "source": [
    "# diff_feh_b2 = depth_b2 - depth_feh \n",
    "# diff_f1_b2 = depth_b2 - depth_f1 "
   ]
  },
  {
   "cell_type": "markdown",
   "id": "de38401c",
   "metadata": {},
   "source": [
    "### Set 0s to np.nan ()"
   ]
  },
  {
   "cell_type": "code",
   "execution_count": null,
   "id": "349e21cd",
   "metadata": {},
   "outputs": [],
   "source": [
    "# depth_feh = np.where(depth_feh==0, np.nan, depth_feh)\n",
    "# depth_sp_10 = np.where(depth_sp_10==0, np.nan, depth_sp_10)\n",
    "# depth_b2 = np.where(depth_b2==0, np.nan, depth_b2)\n",
    "# depth_f1 = np.where(depth_f1==0, np.nan, depth_f1)"
   ]
  },
  {
   "cell_type": "markdown",
   "id": "694d5567",
   "metadata": {},
   "source": [
    "### Test whether processing has worked as expected"
   ]
  },
  {
   "cell_type": "code",
   "execution_count": null,
   "id": "95f7c551",
   "metadata": {},
   "outputs": [],
   "source": [
    "# def colorize(array, cmap):\n",
    "#     cm = plt.cm.get_cmap(cmap)    \n",
    "#     if np.nanmin(array) == np.nanmax(array):\n",
    "#         return np.uint8(cm(array)  * 255)\n",
    "#     else:\n",
    "#         normed_data = (array - np.nanmin(array)) / (np.nanmax(array) - np.nanmin(array)) \n",
    "#         return np.uint8(cm(normed_data)  * 255)\n"
   ]
  },
  {
   "cell_type": "code",
   "execution_count": null,
   "id": "f595471b",
   "metadata": {},
   "outputs": [],
   "source": [
    "# np.nanmax(diff[np.isfinite(diff)])\n",
    "# np.histogram(depth_f1[np.isfinite(depth_f1)])\n",
    "# np.unique(depth_f1)"
   ]
  },
  {
   "cell_type": "markdown",
   "id": "a5d4569c",
   "metadata": {},
   "source": [
    "### Where difference is 0, set to np.nan"
   ]
  },
  {
   "cell_type": "code",
   "execution_count": null,
   "id": "f5a1abdf",
   "metadata": {},
   "outputs": [],
   "source": [
    "# # Difference in scatter plot\n",
    "# diff_feh_b2 = np.where(diff_feh_b2==0, np.nan, diff_feh_b2)\n",
    "# # No difference in scatter plot\n",
    "# diff_f1_b2 = np.where(diff_f1_b2==0, np.nan, diff_f1_b2)"
   ]
  },
  {
   "cell_type": "markdown",
   "id": "d65ada99",
   "metadata": {},
   "source": [
    "### Define colourmaps"
   ]
  },
  {
   "cell_type": "code",
   "execution_count": null,
   "id": "41d0ba00",
   "metadata": {},
   "outputs": [],
   "source": [
    "# cmap_landcover_binary = mpl.colors.ListedColormap(['grey', 'white'])\n",
    "# cmap_diff = mpl.colors.ListedColormap(['purple', 'darkorange', 'green'])\n",
    "# cmap = mpl.colors.ListedColormap(['white', 'blue'])\n",
    "# cmap_landcover_full = mpl.colors.ListedColormap(['darkslategrey', 'khaki', 'darkgreen','darkturquoise','#59F74D', 'slateblue', 'lightgreen', 'palegreen', 'pink'])"
   ]
  },
  {
   "cell_type": "markdown",
   "id": "fd2b8648",
   "metadata": {},
   "source": [
    "### Save rasters (needed for plotting)"
   ]
  },
  {
   "cell_type": "code",
   "execution_count": null,
   "id": "95aff973",
   "metadata": {},
   "outputs": [],
   "source": [
    "# # save_array_as_raster(diff_feh_b2, '../../../../FloodModelling/MeganModel_New/diff_feh_b2.tif', out_meta) \n",
    "# # save_array_as_raster(diff_f1_b2, '../../../../FloodModelling/MeganModel_New/diff_f1_b2.tif', out_meta) \n",
    "\n",
    "# save_array_as_raster(depth_sp_10, '../../../../FloodModelling/MeganModel_New/depth_sp_10_test.tif', out_meta) \n",
    "# save_array_as_raster(depth_feh, '../../../../FloodModelling/MeganModel_New/depth_feh_test.tif', out_meta) \n",
    "# save_array_as_raster(depth_b2, '../../../../FloodModelling/MeganModel_New/depth_b2_test.tif', out_meta) \n",
    "# save_array_as_raster(depth_f1, '../../../../FloodModelling/MeganModel_New/depth_f1_test.tif', out_meta) "
   ]
  },
  {
   "cell_type": "markdown",
   "id": "30afef6e",
   "metadata": {},
   "source": [
    "### Set up for plotting"
   ]
  },
  {
   "cell_type": "code",
   "execution_count": null,
   "id": "fa076b93",
   "metadata": {},
   "outputs": [],
   "source": [
    "# # dict_of_fps_and_names = {'landcover_full': landcover_full_fp,\n",
    "# #                         'landcover_binary': landcover_binary_fp,\n",
    "# #                         \"diff_f1_b2\": '../../../../FloodModelling/MeganModel_New/diff_f1_b2.tif',\n",
    "# #                          \"diff_feh_b2\": '../../../../FloodModelling/MeganModel_New/diff_feh_b2.tif',\n",
    "# #                          \"b2\": '../../../../FloodModelling/MeganModel_New/depth_b2_test.tif',\n",
    "# #                          \"f1\":'../../../../FloodModelling/MeganModel_New/depth_f1_test.tif',\n",
    "# #                         \"feh\":'../../../../FloodModelling/MeganModel_New/depth_feh_test.tif'}    \n",
    "\n",
    "\n",
    "# dict_of_fps_and_names = {'landcover_binary': landcover_binary_fp,\n",
    "#                          \"sp10\":\"../../../../FloodModelling/MeganModel_New/depth_sp_10_test.tif\",\n",
    "#                         \"feh\":\"../../../../FloodModelling/MeganModel_New/depth_feh_test.tif\"}    \n",
    "\n",
    "\n",
    "# dict_of_cmaps ={'landcover_binary': cmap_landcover_binary, \"sp10\":cmap, 'landcover_full': cmap_landcover_full, \"diff_feh_b2\":cmap_diff,\n",
    "#                 \"diff_f1_b2\":cmap_diff,\"b2\":cmap, \"feh\":cmap , \"f1\":cmap }"
   ]
  },
  {
   "cell_type": "markdown",
   "id": "241fbaf3",
   "metadata": {},
   "source": [
    "### Plot with folium"
   ]
  },
  {
   "cell_type": "code",
   "execution_count": null,
   "id": "69daba28",
   "metadata": {},
   "outputs": [],
   "source": [
    "# # Set up figure\n",
    "# f = folium.Figure(width=800, height=700)\n",
    "\n",
    "# # Create base map - location figures were from clat, clon, but wanted to create map before loop\n",
    "# mapa = folium.Map(location=[53.768306874761016, -1.3756056884868098],zoom_start=13).add_to(f)\n",
    "# folium.TileLayer(\n",
    "#     opacity=1,\n",
    "#     tiles = 'https://basemap.nationalmap.gov/arcgis/rest/services/USGSTopo/MapServer/tile/{z}/{y}/{x}',\n",
    "#     attr=\"No Base Map\",\n",
    "#     name=\"No Base Map\",\n",
    "#     show=True\n",
    "# ).add_to(mapa)\n",
    "\n",
    "# # Add to map\n",
    "# catchment_boundary_feature_group = FeatureGroup(name='Catchment boundary')\n",
    "# catchment_boundary_feature_group.add_child(folium.GeoJson(data=catchment_gdf[\"geometry\"], style_function=lambda x, \n",
    "#                                                           fillColor='#00000000', color='Black': {\n",
    "#         \"fillColor\": '#00000000',\"color\": 'Black',}))\n",
    "\n",
    "# # Add raster data\n",
    "# for name,fp in dict_of_fps_and_names.items():\n",
    "    \n",
    "#     # read in with xarray and convert projection\n",
    "#     xarray_dataarray = prep_for_folium_plotting(fp)\n",
    "#     # Get coordinates needed in plotting\n",
    "#     clat, clon = xarray_dataarray.y.values.mean(), xarray_dataarray.x.values.mean()\n",
    "#     mlat, mlon = xarray_dataarray.y.values.min(), xarray_dataarray.x.values.min()\n",
    "#     xlat, xlon = xarray_dataarray.y.values.max(), xarray_dataarray.x.values.max()\n",
    "#     # Apply colormap\n",
    "#     data  = ma.masked_invalid(xarray_dataarray.values)\n",
    "#     colored_data = colorize(data.data, cmap=dict_of_cmaps[name])\n",
    "#     # Add to map\n",
    "#     feature_group1 = FeatureGroup(name=name)\n",
    "#     feature_group1.add_child(folium.raster_layers.ImageOverlay(colored_data,\n",
    "#                               [[mlat, mlon], [xlat, xlon]],\n",
    "#                               opacity=1,interactive=True, popup=name))\n",
    "#     mapa.add_child(feature_group1)\n",
    "\n",
    "# # Add legend\n",
    "# macro = MacroElement()\n",
    "# macro._template = Template(template)\n",
    "# mapa.get_root().add_child(macro)\n",
    "\n",
    "# # Add layer control button\n",
    "# mapa.add_child(catchment_boundary_feature_group)\n",
    "# mapa.add_child(LayerControl(\"topright\", collapsed = False))\n",
    "# display(mapa)    "
   ]
  },
  {
   "cell_type": "code",
   "execution_count": null,
   "id": "72402065",
   "metadata": {},
   "outputs": [],
   "source": [
    "template = \"\"\"\n",
    "{% macro html(this, kwargs) %}\n",
    "<!doctype html>\n",
    "<html lang=\"en\">\n",
    "<head>\n",
    "  <meta charset=\"utf-8\">\n",
    "  <meta name=\"viewport\" content=\"width=device-width, initial-scale=1\">\n",
    "  <title>jQuery UI Draggable - Default functionality</title>\n",
    "  <link rel=\"stylesheet\" href=\"//code.jquery.com/ui/1.12.1/themes/base/jquery-ui.css\">\n",
    "  <script src=\"https://code.jquery.com/jquery-1.12.4.js\"></script>\n",
    "  <script src=\"https://code.jquery.com/ui/1.12.1/jquery-ui.js\"></script>\n",
    "  \n",
    "  <script>\n",
    "  $( function() {\n",
    "    $( \"#maplegend\" ).draggable({\n",
    "                    start: function (event, ui) {\n",
    "                        $(this).css({\n",
    "                            left: \"auto\",\n",
    "                            top: \"auto\",\n",
    "                            bottom: \"auto\"\n",
    "                        });\n",
    "                    }\n",
    "                });\n",
    "});\n",
    "  </script>\n",
    "</head>\n",
    "<body>\n",
    " \n",
    "<div id='maplegend' class='maplegend' \n",
    "    style='position: fixed; z-index:9999; border:2px solid grey; background-color:rgba(255, 255, 255, 0.8);\n",
    "     border-radius:6px; padding: 10px; font-size:14px; left: 20px; bottom: 20px;'>\n",
    "<div class='legend-title'> Key </div>\n",
    "<div class='legend-scale'>\n",
    "  <ul class='legend-labels'>\n",
    "    <li><span style='background:#800080.;opacity:1;'></span> B2 flooded (not FEH)</li>\n",
    "    <li><span style='background:#008000;opacity:1;'></span> FEH flooded (not B2)</li>\n",
    "  </ul>\n",
    "</div>\n",
    "</div>\n",
    " \n",
    "</body>\n",
    "</html>\n",
    "<style type='text/css'>\n",
    "  .maplegend .legend-title {\n",
    "    text-align: left;\n",
    "    margin-bottom: 5px;\n",
    "    font-weight: bold;\n",
    "    font-size: 90%;\n",
    "    }\n",
    "  .maplegend .legend-scale ul {\n",
    "    margin: 0;\n",
    "    margin-bottom: 5px;\n",
    "    padding: 0;\n",
    "    float: left;\n",
    "    list-style: none;\n",
    "    }\n",
    "  .maplegend .legend-scale ul li {\n",
    "    font-size: 80%;\n",
    "    list-style: none;\n",
    "    margin-left: 0;\n",
    "    line-height: 18px;\n",
    "    margin-bottom: 2px;\n",
    "    }\n",
    "  .maplegend ul.legend-labels li span {\n",
    "    display: block;\n",
    "    float: left;\n",
    "    height: 16px;\n",
    "    width: 30px;\n",
    "    margin-right: 5px;\n",
    "    margin-left: 0;\n",
    "    border: 1px solid #999;\n",
    "    }\n",
    "  .maplegend .legend-source {\n",
    "    font-size: 80%;\n",
    "    color: #777;\n",
    "    clear: both;\n",
    "    }\n",
    "  .maplegend a {\n",
    "    color: #777;\n",
    "    }\n",
    "</style>\n",
    "{% endmacro %}\"\"\""
   ]
  }
 ],
 "metadata": {
  "kernelspec": {
   "display_name": "Python 3 (ipykernel)",
   "language": "python",
   "name": "python3"
  },
  "language_info": {
   "codemirror_mode": {
    "name": "ipython",
    "version": 3
   },
   "file_extension": ".py",
   "mimetype": "text/x-python",
   "name": "python",
   "nbconvert_exporter": "python",
   "pygments_lexer": "ipython3",
   "version": "3.9.7"
  }
 },
 "nbformat": 4,
 "nbformat_minor": 5
}
