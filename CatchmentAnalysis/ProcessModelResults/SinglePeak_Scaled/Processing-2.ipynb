{
 "cells": [
  {
   "cell_type": "code",
   "execution_count": 22,
   "id": "a1491398",
   "metadata": {},
   "outputs": [],
   "source": [
    "import pandas as pd\n",
    "import numpy as np\n",
    "\n",
    "from my_functions_sp_scaled import *"
   ]
  },
  {
   "cell_type": "markdown",
   "id": "a29431f3",
   "metadata": {},
   "source": [
    "### Get version of landcover array with just 'urban' and 'rural' categories"
   ]
  },
  {
   "cell_type": "code",
   "execution_count": 23,
   "id": "5b7c8764",
   "metadata": {},
   "outputs": [],
   "source": [
    "# Read in the data\n",
    "landcover, out_meta = prepare_rainfall_scenario_raster(\"../../../../FloodModelling/LandCoverData/LandCover_clipped.tif\", True)\n",
    "# Convert the 1 and 6 values to 10 (for urban) and the rest to 11 (for non-urban).  \n",
    "landcover_mod =  np.where(landcover==1, 10, landcover)\n",
    "landcover_mod =  np.where(landcover_mod==6, 10, landcover_mod)\n",
    "# Convert the rest of the classes to 11\n",
    "for i in [1,2,3,4,5,7,8,9]:\n",
    "    landcover_mod =  np.where(landcover_mod==i, 11, landcover_mod)"
   ]
  },
  {
   "cell_type": "markdown",
   "id": "a52ab40f",
   "metadata": {},
   "source": [
    "### Define the names of the method (shorter and longer versions)"
   ]
  },
  {
   "cell_type": "code",
   "execution_count": 24,
   "id": "276042a4",
   "metadata": {},
   "outputs": [],
   "source": [
    "methods = ['6h_sp_+0','6h_sp_+05','6h_sp_+10','6h_sp_+20','6h_sp_+30']  "
   ]
  },
  {
   "cell_type": "markdown",
   "id": "792fabc1",
   "metadata": {},
   "source": [
    "### Find maximum intensity for each method and minute in which it occurs (to use in sorting results analysis)"
   ]
  },
  {
   "cell_type": "code",
   "execution_count": 25,
   "id": "e2b24edf",
   "metadata": {},
   "outputs": [],
   "source": [
    "maxs = []\n",
    "min_of_maxs = []\n",
    "\n",
    "for method in methods:\n",
    "    precip=pd.read_csv(\"../../CreateSyntheticRainfallEvents/SinglePeak_Scaled/6hr_100yrRP/PostLossRemoval/{}_urban.csv\".format(method))\n",
    "    maxs.append(precip[\"Total net rain mm (Observed rainfall - 01/08/2022) - urbanised model\"].max())\n",
    "    min_of_maxs.append(precip[\"Total net rain mm (Observed rainfall - 01/08/2022) - urbanised model\"].idxmax())"
   ]
  },
  {
   "cell_type": "markdown",
   "id": "a6ea22f7",
   "metadata": {},
   "source": [
    "### Create versions of lists of methods, in order based on max intensity and the the timing of the max intensity "
   ]
  },
  {
   "cell_type": "code",
   "execution_count": 26,
   "id": "5c0354d4",
   "metadata": {},
   "outputs": [],
   "source": [
    "# short_ids_by_loading=  pd.DataFrame({\"min\": min_of_maxs, 'method_name': short_ids}).sort_values('min')[\"method_name\"].tolist()\n",
    "# short_ids_by_loading.remove('6h_feh_sp')\n",
    "# short_ids_by_loading = ['6h_feh_sp']+short_ids_by_loading\n",
    "\n",
    "# short_ids_by_intensity = pd.DataFrame({\"min\": maxs, 'method_name': short_ids}).sort_values('min', ascending = False)[\"method_name\"].tolist()\n",
    "# short_ids_by_intensity.remove('6h_feh_sp')\n",
    "# short_ids_by_intensity = ['6h_feh_sp']+short_ids_by_intensity"
   ]
  },
  {
   "cell_type": "markdown",
   "id": "831cb827",
   "metadata": {},
   "source": [
    "### Create dataframe of colours for each cluster (based on their loading)"
   ]
  },
  {
   "cell_type": "code",
   "execution_count": 27,
   "id": "974e6b85",
   "metadata": {},
   "outputs": [],
   "source": [
    "# colours_df = create_colours_df(short_ids_by_loading, short_ids)"
   ]
  },
  {
   "cell_type": "markdown",
   "id": "6748b25b",
   "metadata": {},
   "source": [
    "### Create list of filepaths, formatted to be used for either depth or velocity"
   ]
  },
  {
   "cell_type": "code",
   "execution_count": 28,
   "id": "f847f1d7",
   "metadata": {},
   "outputs": [],
   "source": [
    "fps = []\n",
    "for method_num, method in enumerate(methods):\n",
    "    model_directory = '../../../../FloodModelling/Model_SinglePeak_Scaled/'\n",
    "    fp = model_directory + \"{}/{} (Max).Resampled.Terrain.tif\".format(method, '{}')\n",
    "    fps.append(fp)"
   ]
  },
  {
   "cell_type": "markdown",
   "id": "d5fa5f30",
   "metadata": {},
   "source": [
    "### Define breaks for categorising velocity and depth"
   ]
  },
  {
   "cell_type": "code",
   "execution_count": 29,
   "id": "c3abe3dd",
   "metadata": {},
   "outputs": [],
   "source": [
    "# Define breaks to split the depths/velocities on\n",
    "breaks_depths = np.array([0, 0.3, 0.6, 1.2, 100])  \n",
    "labels_depth = ['<=0.3m', '0.3-0.6m', '0.6-1.2m', '>1.2m']\n",
    "breaks_velocity = np.array([0,0.25,0.5,2,100])\n",
    "labels_velocity = [\"<=0.25m/s\", \"0.25-0.5m/s\", \"0.5-2m/s\", \">2m/s\"]"
   ]
  },
  {
   "cell_type": "markdown",
   "id": "2979ec44",
   "metadata": {},
   "source": [
    "# <u> Flood extent </u>\n",
    "To examine whether the rainfall's temporal distribution influences the total extent of flooding, the number of flooded cells and the total flooded area in km2 (incl. only cells with depth >0.1m) is compared between the profile with a single peak, and the three methods for producing multi-peaked rainfall events. b"
   ]
  },
  {
   "cell_type": "markdown",
   "id": "b130fbb2",
   "metadata": {},
   "source": [
    "### Create dataframes containing the (total/urban) flooded area in each depth/velocity bin"
   ]
  },
  {
   "cell_type": "code",
   "execution_count": 30,
   "id": "9af59db8",
   "metadata": {},
   "outputs": [],
   "source": [
    "velocity_counts, velocity_props = create_binned_counts_and_props(fps, 'Velocity', breaks_velocity, labels_velocity, remove_little_values)\n",
    "depth_counts, depth_props = create_binned_counts_and_props(fps, 'Depth', breaks_depths, labels_depth, remove_little_values)\n",
    "\n",
    "velocity_counts_urban, velocity_props_urban = create_binned_counts_and_props_urban(fps, 'Velocity', breaks_velocity, labels_velocity, remove_little_values, landcover_mod)\n",
    "depth_counts_urban, depth_props_urban = create_binned_counts_and_props_urban(fps, 'Depth', breaks_depths, labels_depth, remove_little_values, landcover_mod)"
   ]
  },
  {
   "cell_type": "markdown",
   "id": "a7d7ca3a",
   "metadata": {},
   "source": [
    "### Create dataframes containing the (total/urban) flooded area"
   ]
  },
  {
   "cell_type": "code",
   "execution_count": 31,
   "id": "3d51a15c",
   "metadata": {},
   "outputs": [],
   "source": [
    "totals_df = create_totals_df(velocity_counts)\n",
    "totals_df_urban = create_totals_df(velocity_counts_urban) "
   ]
  },
  {
   "cell_type": "markdown",
   "id": "837cf9b7",
   "metadata": {},
   "source": [
    "### Create dataframes containing the % diff in the flooded area between single peak and each other method  "
   ]
  },
  {
   "cell_type": "code",
   "execution_count": 32,
   "id": "87cb0b17",
   "metadata": {},
   "outputs": [],
   "source": [
    "percent_diffs_df = find_percentage_diff (totals_df, fps) \n",
    "percent_diffs_df_urban = find_percentage_diff (totals_df_urban, fps)   "
   ]
  },
  {
   "cell_type": "markdown",
   "id": "87bcb2a6",
   "metadata": {},
   "source": [
    "## Find number of cells in which each method leads to the worst flooding (depth/velocity)"
   ]
  },
  {
   "cell_type": "code",
   "execution_count": 33,
   "id": "f48368b5",
   "metadata": {},
   "outputs": [],
   "source": [
    "# Find the number of flooded cells with the worst flooding for each method\n",
    "worst_case_method_depth = find_worst_case_method(fps, methods, 'Depth')\n",
    "worst_case_method_velocity = find_worst_case_method(fps, methods,  'Velocity') "
   ]
  },
  {
   "cell_type": "code",
   "execution_count": 34,
   "id": "d31cf63e",
   "metadata": {},
   "outputs": [],
   "source": [
    "# Remove multiple matches and nan\n",
    "worst_case_method_depth = worst_case_method_depth[~worst_case_method_depth['values'].isin(['multiple matches','nan'])]\n",
    "worst_case_method_velocity = worst_case_method_velocity[~worst_case_method_velocity['values'].isin(['multiple matches','nan'])]\n",
    "\n",
    "# # Reorder (and also add in the methods that are missing)\n",
    "worst_case_method_depth = pd.merge(worst_case_method_depth,  pd.DataFrame({'values': methods}), how=\"outer\")\n",
    "worst_case_method_depth = worst_case_method_depth.reindex(worst_case_method_depth['values'].map(dict(zip(methods, range(len(methods))))).sort_values().index)\n",
    "worst_case_method_depth[worst_case_method_depth['values'] != np.nan]\n",
    "worst_case_method_depth.reset_index(inplace=True,drop=True)\n",
    "\n",
    "worst_case_method_velocity = pd.merge(worst_case_method_velocity,  pd.DataFrame({'values': methods}), how=\"outer\")\n",
    "worst_case_method_velocity = worst_case_method_velocity.reindex(worst_case_method_velocity['values'].map(dict(zip(methods, range(len(methods))))).sort_values().index)\n",
    "worst_case_method_velocity.reset_index(inplace=True,drop=True)"
   ]
  },
  {
   "cell_type": "markdown",
   "id": "ac2b76f8",
   "metadata": {},
   "source": [
    "## Find number of cells with each hazard rating"
   ]
  },
  {
   "cell_type": "code",
   "execution_count": 35,
   "id": "ed0d0743",
   "metadata": {},
   "outputs": [],
   "source": [
    "hazard_counts, hazard_props = create_binned_counts_and_props_hazard(fps)"
   ]
  },
  {
   "cell_type": "markdown",
   "id": "ed9253a1",
   "metadata": {},
   "source": [
    "## Find number of cells which have moved between hazard categories"
   ]
  },
  {
   "cell_type": "code",
   "execution_count": 36,
   "id": "1b165cd8",
   "metadata": {},
   "outputs": [],
   "source": [
    "hazard_cat_changes = create_binned_counts_and_props_hazard_cat_change(fps)"
   ]
  },
  {
   "cell_type": "markdown",
   "id": "c46068d8",
   "metadata": {},
   "source": [
    "### Create a dataframe containing all the info on each of the scenarios"
   ]
  },
  {
   "cell_type": "code",
   "execution_count": 37,
   "id": "884a8b57",
   "metadata": {},
   "outputs": [
    {
     "data": {
      "text/html": [
       "<div>\n",
       "<style scoped>\n",
       "    .dataframe tbody tr th:only-of-type {\n",
       "        vertical-align: middle;\n",
       "    }\n",
       "\n",
       "    .dataframe tbody tr th {\n",
       "        vertical-align: top;\n",
       "    }\n",
       "\n",
       "    .dataframe thead th {\n",
       "        text-align: right;\n",
       "    }\n",
       "</style>\n",
       "<table border=\"1\" class=\"dataframe\">\n",
       "  <thead>\n",
       "    <tr style=\"text-align: right;\">\n",
       "      <th></th>\n",
       "      <th>Cluster_num</th>\n",
       "      <th>MaxRainfallIntensity</th>\n",
       "      <th>MaxRainfallIntensityMinute</th>\n",
       "      <th>TotalFloodedArea</th>\n",
       "      <th>%Diff_FloodedArea_fromSP</th>\n",
       "      <th>%Diff_FloodedArea_fromSP_formatted</th>\n",
       "      <th>Abs%Diff_FloodedArea_fromSP</th>\n",
       "      <th>UrbanFloodedArea</th>\n",
       "      <th>%Diff_UrbanFloodedArea_fromSP</th>\n",
       "      <th>%Diff_UrbanFloodedArea_fromSP_formatted</th>\n",
       "      <th>Abs%Diff_UrbanFloodedArea_fromSP</th>\n",
       "      <th>WorstCaseDepth_ncells</th>\n",
       "      <th>WorstCaseVelocity_ncells</th>\n",
       "    </tr>\n",
       "  </thead>\n",
       "  <tbody>\n",
       "    <tr>\n",
       "      <th>0</th>\n",
       "      <td>6h_sp_+0</td>\n",
       "      <td>0.301</td>\n",
       "      <td>180</td>\n",
       "      <td>1.72</td>\n",
       "      <td>0.00</td>\n",
       "      <td></td>\n",
       "      <td>0.00</td>\n",
       "      <td>0.538390</td>\n",
       "      <td>0.00</td>\n",
       "      <td></td>\n",
       "      <td>0.00</td>\n",
       "      <td>929</td>\n",
       "      <td>115021</td>\n",
       "    </tr>\n",
       "    <tr>\n",
       "      <th>1</th>\n",
       "      <td>6h_sp_+05</td>\n",
       "      <td>0.321</td>\n",
       "      <td>180</td>\n",
       "      <td>1.79</td>\n",
       "      <td>3.84</td>\n",
       "      <td>+3.84%</td>\n",
       "      <td>3.84</td>\n",
       "      <td>0.552674</td>\n",
       "      <td>2.65</td>\n",
       "      <td>+2.65%</td>\n",
       "      <td>2.65</td>\n",
       "      <td>943</td>\n",
       "      <td>26673</td>\n",
       "    </tr>\n",
       "    <tr>\n",
       "      <th>2</th>\n",
       "      <td>6h_sp_+10</td>\n",
       "      <td>0.341</td>\n",
       "      <td>180</td>\n",
       "      <td>1.84</td>\n",
       "      <td>7.24</td>\n",
       "      <td>+7.24%</td>\n",
       "      <td>7.24</td>\n",
       "      <td>0.566209</td>\n",
       "      <td>5.17</td>\n",
       "      <td>+5.17%</td>\n",
       "      <td>5.17</td>\n",
       "      <td>2457</td>\n",
       "      <td>36897</td>\n",
       "    </tr>\n",
       "    <tr>\n",
       "      <th>3</th>\n",
       "      <td>6h_sp_+20</td>\n",
       "      <td>0.383</td>\n",
       "      <td>180</td>\n",
       "      <td>2.00</td>\n",
       "      <td>16.47</td>\n",
       "      <td>+16.47%</td>\n",
       "      <td>16.47</td>\n",
       "      <td>0.593703</td>\n",
       "      <td>10.27</td>\n",
       "      <td>+10.27%</td>\n",
       "      <td>10.27</td>\n",
       "      <td>2108</td>\n",
       "      <td>51065</td>\n",
       "    </tr>\n",
       "    <tr>\n",
       "      <th>4</th>\n",
       "      <td>6h_sp_+30</td>\n",
       "      <td>0.426</td>\n",
       "      <td>180</td>\n",
       "      <td>2.20</td>\n",
       "      <td>27.69</td>\n",
       "      <td>+27.69%</td>\n",
       "      <td>27.69</td>\n",
       "      <td>0.622756</td>\n",
       "      <td>15.67</td>\n",
       "      <td>+15.67%</td>\n",
       "      <td>15.67</td>\n",
       "      <td>1711652</td>\n",
       "      <td>1488368</td>\n",
       "    </tr>\n",
       "  </tbody>\n",
       "</table>\n",
       "</div>"
      ],
      "text/plain": [
       "  Cluster_num  MaxRainfallIntensity  MaxRainfallIntensityMinute  \\\n",
       "0    6h_sp_+0                 0.301                         180   \n",
       "1   6h_sp_+05                 0.321                         180   \n",
       "2   6h_sp_+10                 0.341                         180   \n",
       "3   6h_sp_+20                 0.383                         180   \n",
       "4   6h_sp_+30                 0.426                         180   \n",
       "\n",
       "   TotalFloodedArea  %Diff_FloodedArea_fromSP  \\\n",
       "0              1.72                      0.00   \n",
       "1              1.79                      3.84   \n",
       "2              1.84                      7.24   \n",
       "3              2.00                     16.47   \n",
       "4              2.20                     27.69   \n",
       "\n",
       "  %Diff_FloodedArea_fromSP_formatted  Abs%Diff_FloodedArea_fromSP  \\\n",
       "0                                                            0.00   \n",
       "1                             +3.84%                         3.84   \n",
       "2                             +7.24%                         7.24   \n",
       "3                            +16.47%                        16.47   \n",
       "4                            +27.69%                        27.69   \n",
       "\n",
       "   UrbanFloodedArea  %Diff_UrbanFloodedArea_fromSP  \\\n",
       "0          0.538390                           0.00   \n",
       "1          0.552674                           2.65   \n",
       "2          0.566209                           5.17   \n",
       "3          0.593703                          10.27   \n",
       "4          0.622756                          15.67   \n",
       "\n",
       "  %Diff_UrbanFloodedArea_fromSP_formatted  Abs%Diff_UrbanFloodedArea_fromSP  \\\n",
       "0                                                                      0.00   \n",
       "1                                  +2.65%                              2.65   \n",
       "2                                  +5.17%                              5.17   \n",
       "3                                 +10.27%                             10.27   \n",
       "4                                 +15.67%                             15.67   \n",
       "\n",
       "   WorstCaseDepth_ncells  WorstCaseVelocity_ncells  \n",
       "0                    929                    115021  \n",
       "1                    943                     26673  \n",
       "2                   2457                     36897  \n",
       "3                   2108                     51065  \n",
       "4                1711652                   1488368  "
      ]
     },
     "execution_count": 37,
     "metadata": {},
     "output_type": "execute_result"
    }
   ],
   "source": [
    "cluster_results = pd.DataFrame({'Cluster_num': methods, \"MaxRainfallIntensity\": np.round(maxs,3),  \n",
    "    \"MaxRainfallIntensityMinute\": min_of_maxs,\n",
    "   'TotalFloodedArea':np.round(totals_df['FloodedArea'],2),'%Diff_FloodedArea_fromSP':percent_diffs_df['percent_diffs'],\n",
    "    '%Diff_FloodedArea_fromSP_formatted':percent_diffs_df['percent_diff_formatted'],\n",
    "    'Abs%Diff_FloodedArea_fromSP':percent_diffs_df['percent_diffs_abs'],'UrbanFloodedArea':totals_df_urban['FloodedArea'],\n",
    "  '%Diff_UrbanFloodedArea_fromSP':percent_diffs_df_urban['percent_diffs'] ,\n",
    "  '%Diff_UrbanFloodedArea_fromSP_formatted':percent_diffs_df_urban['percent_diff_formatted'],\n",
    "    'Abs%Diff_UrbanFloodedArea_fromSP':percent_diffs_df_urban['percent_diffs_abs'],\n",
    "    'WorstCaseDepth_ncells': worst_case_method_depth['counts'].tolist(),\n",
    "    'WorstCaseVelocity_ncells': worst_case_method_velocity['counts'].tolist()}) \n",
    "cluster_results"
   ]
  },
  {
   "cell_type": "markdown",
   "id": "681011fa",
   "metadata": {},
   "source": [
    "### Add the depth/velocity category breakdowns and hazard categories to this"
   ]
  },
  {
   "cell_type": "code",
   "execution_count": 38,
   "id": "d03d47e4",
   "metadata": {},
   "outputs": [],
   "source": [
    "dfs = [velocity_props, depth_props, velocity_props_urban, depth_props_urban, velocity_counts, depth_counts,\n",
    "          velocity_counts_urban, depth_counts_urban,hazard_counts, hazard_props]\n",
    "suffixes = ['_propcells', '_propcells','_propcells_urban','_propcells_urban','_countcells','_countcells','_countcells_urban','_countcells_urban',\n",
    "'_numcells', '_propcells']\n",
    "\n",
    "for num, df in enumerate(dfs):\n",
    "    # Reformat the dataframe\n",
    "    df = df.set_index('index').T\n",
    "    # Add the correct suffix to the column names\n",
    "    df = df.add_suffix(suffixes[num]) \n",
    "    # Add Cluster_num column for joining\n",
    "    df['Cluster_num'] = df.index#\n",
    "    # Join to cluster results dataframe\n",
    "    cluster_results = pd.merge(cluster_results,  df, how=\"outer\", on = 'Cluster_num')\n",
    "    \n",
    "cluster_results = pd.merge(cluster_results, hazard_cat_changes,  how=\"outer\", on = 'Cluster_num')    "
   ]
  },
  {
   "cell_type": "markdown",
   "id": "765d6402",
   "metadata": {},
   "source": [
    "### Save to file"
   ]
  },
  {
   "cell_type": "code",
   "execution_count": 42,
   "id": "f6facf3e",
   "metadata": {},
   "outputs": [],
   "source": [
    "cluster_results.to_csv(\"Data/allclusters_summary.csv\", index=False)"
   ]
  },
  {
   "cell_type": "markdown",
   "id": "63cea586",
   "metadata": {},
   "source": [
    "### Delete tiff files (as these aren't used again and take up a lot of space)"
   ]
  },
  {
   "cell_type": "code",
   "execution_count": 40,
   "id": "9f688f21",
   "metadata": {},
   "outputs": [],
   "source": [
    "# for method in short_ids:\n",
    "#     print(method)\n",
    "#     if method != '6h_feh_sp':\n",
    "#         os.remove(\"../../../../FloodModelling/MeganModel_New/{}/hazard_cat_difference.tif\".format(method)) \n",
    "#         os.remove(\"../../../../FloodModelling/MeganModel_New/{}/Depth_difffromsinglepeak_classified.tif\".format(method)) \n",
    "#         os.remove(\"../../../../FloodModelling/MeganModel_New/{}/Depth_difffromsinglepeak_posneg.tif\".format(method)) \n",
    "#         os.remove(\"../../../../FloodModelling/MeganModel_New/{}/Velocity_difffromsinglepeak_classified.tif\".format(method)) \n",
    "#         os.remove(\"../../../../FloodModelling/MeganModel_New/{}/Velocity_difffromsinglepeak_posneg.tif\".format(method)) \n",
    "        \n",
    "#     os.remove(\"../../../../FloodModelling/MeganModel_New/{}/Depth_classified.tif\".format(method)) \n",
    "#     os.remove(\"../../../../FloodModelling/MeganModel_New/{}/hazard_classified.tif\".format(method)) \n",
    "#     os.remove(\"../../../../FloodModelling/MeganModel_New/{}/Velocity_classified.tif\".format(method)) "
   ]
  }
 ],
 "metadata": {
  "kernelspec": {
   "display_name": "Python 3 (ipykernel)",
   "language": "python",
   "name": "python3"
  },
  "language_info": {
   "codemirror_mode": {
    "name": "ipython",
    "version": 3
   },
   "file_extension": ".py",
   "mimetype": "text/x-python",
   "name": "python",
   "nbconvert_exporter": "python",
   "pygments_lexer": "ipython3",
   "version": "3.9.7"
  }
 },
 "nbformat": 4,
 "nbformat_minor": 5
}
