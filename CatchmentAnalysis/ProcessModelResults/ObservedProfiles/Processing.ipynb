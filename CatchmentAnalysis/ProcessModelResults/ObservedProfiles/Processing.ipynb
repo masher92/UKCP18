{
 "cells": [
  {
   "cell_type": "markdown",
   "id": "e6ce4aa3",
   "metadata": {},
   "source": [
    "# Impact of rainfall temporal distribution on flooding in Lin Dyke catchment\n",
    "\n",
    "\n",
    "## Project Summary\n",
    "\n",
    "Research suggests that the temporal distribution of rainfall within a storm event can influence the nature and severity of flooding resulting from that storm event....\n",
    "\n",
    "Testing this using synthetic rainfall events derived from FEH/ReFH2. Standard profiles usually have one peak, testing three methods for splitting the total rainfall amount normally concentrated in this one peak into multiple peaks \n",
    "\n",
    "Analysing impact on the extent, depth and velocity of flooding, and the spatial distribution of these variables over the catchment"
   ]
  },
  {
   "cell_type": "markdown",
   "id": "9645644f",
   "metadata": {},
   "source": [
    "### Code initialisation"
   ]
  },
  {
   "cell_type": "code",
   "execution_count": 4,
   "id": "d97ba980",
   "metadata": {},
   "outputs": [
    {
     "data": {
      "text/plain": [
       "array(['[19:25 - Inf) hr', '[6:45 - 19:25) hr', '[2:10 - 6:45) hr',\n",
       "       '[0.25 - 2:10) hr'], dtype=object)"
      ]
     },
     "execution_count": 4,
     "metadata": {},
     "output_type": "execute_result"
    }
   ],
   "source": [
    "clusters['Duration'].unique()"
   ]
  },
  {
   "cell_type": "code",
   "execution_count": 1,
   "id": "72a58d98",
   "metadata": {},
   "outputs": [],
   "source": [
    "import os\n",
    "from pathlib import Path\n",
    "# from PIL import Image\n",
    "from my_functions_new import *\n",
    "\n",
    "# Define whether to filter out values <0.1\n",
    "remove_little_values = True\n",
    "model_directory = '../../../../FloodModelling/MeganModel_new/'"
   ]
  },
  {
   "cell_type": "code",
   "execution_count": 2,
   "id": "c46e1775",
   "metadata": {},
   "outputs": [],
   "source": [
    "methods = ['6h_single-peak', '6h_divide-time', '6h_subpeak-timing', '6h_max-spread', 'Cluster1', 'Cluster2', 'Cluster3', \n",
    "           'Cluster4', 'Cluster5', 'Cluster6', 'Cluster7', 'Cluster8', 'Cluster9','Cluster10', 'Cluster11', 'Cluster12',\n",
    "           'Cluster13', 'Cluster14', 'Cluster15']  \n",
    "short_ids = ['6h_sp', '6h_dt', '6h_spt', '6h_ms', '6h_c1','6h_c2','6h_c3','6h_c4', '6h_c5', '6h_c6','6h_c7',\n",
    "             '6h_c8','6h_c9','6h_c10', '6h_c11', '6h_c12','6h_c13','6h_c14','6h_c15',]   "
   ]
  },
  {
   "cell_type": "code",
   "execution_count": 3,
   "id": "c8e7702d",
   "metadata": {},
   "outputs": [],
   "source": [
    "fps = []\n",
    "for method_num, short_id in enumerate(short_ids):\n",
    "    fp = model_directory + \"{}/{} (Max).Resampled.Terrain.tif\".format(short_id, '{}')\n",
    "    fps.append(fp)"
   ]
  },
  {
   "cell_type": "code",
   "execution_count": 4,
   "id": "491681af",
   "metadata": {},
   "outputs": [],
   "source": [
    "breaks_difference = np.array([-0.1, 0.1, 0.3, 100])"
   ]
  },
  {
   "cell_type": "markdown",
   "id": "d07cd96f",
   "metadata": {},
   "source": [
    "#### Read in rasters containing depths and extents using each of the methods, and store these in a dictionary\n",
    "#### Create versions of depth/velocity rasters which are classified into depth/velocity categories"
   ]
  },
  {
   "cell_type": "code",
   "execution_count": 3,
   "id": "049b2794",
   "metadata": {},
   "outputs": [],
   "source": [
    "def do_processing (variable_name):    \n",
    "    \n",
    "    ######################################################################################\n",
    "    # Specify breaks and labels for this variable\n",
    "    ######################################################################################\n",
    "    if variable_name == 'Depth':\n",
    "        breaks = np.array([0, 0.3, 0.6, 1.2, 100])  \n",
    "        labels = ['<=0.3m', '0.3-0.6m', '0.6-1.2m', '>1.2m']\n",
    "        classified_colors_list = [mpl.cm.Blues(0.2), mpl.cm.Blues(0.5), mpl.cm.Blues(0.7),\"navy\"]\n",
    "    elif variable_name == 'Velocity':\n",
    "        breaks = np.array([0,0.25,0.5,2,100])\n",
    "        labels = [\"<=0.25m/s\", \"0.25-0.5m/s\", \"0.5-2m/s\", \">2m/s\"]\n",
    "        classified_colors_list = [mpl.cm.cool(0.3), mpl.cm.cool(0.5), mpl.cm.cool(0.7), mpl.cm.cool(0.9)]\n",
    "        \n",
    "    ######################################################################################\n",
    "    # For the single peak scenarios:\n",
    "        # Classify depth/velocity rasters into depth/velocity bins\n",
    "        # Save as raster\n",
    "        # Plot this raster, and save the output\n",
    "    ######################################################################################\n",
    "    single_peak, out_meta = prepare_rainfall_scenario_raster(fps[0].format(variable_name), remove_little_values)\n",
    "    singlepeak_classified = classify_raster(single_peak, breaks)\n",
    "    fp_for_classified_raster = fps[0].format(variable_name).replace('{} (Max).Resampled.Terrain'.format(variable_name),'{}_classified'.format(variable_name))\n",
    "    save_array_as_raster(singlepeak_classified, fp_for_classified_raster, out_meta) \n",
    "    plot_classified_raster(fp_for_classified_raster, labels, classified_colors_list)\n",
    "    \n",
    "    ######################################################################################\n",
    "    # For the other rainfall scenarios:\n",
    "        # Classify depth/velocity rasters into depth/velocity bins\n",
    "            # Save as raster\n",
    "            # Plot this raster, and save the output\n",
    "        # Find the difference between depth/velocity rasters for this scenario and the single peak scenario:\n",
    "            # Save this as a raster\n",
    "            # Plot this raster and save the output\n",
    "        # Reclassify the difference rasters into bins:\n",
    "            # Save this as a raster\n",
    "            # Plot this raster and save the output\n",
    "        # Reclassify the difference rasters into positive, negative or neutral differences:\n",
    "            # Save this as a raster\n",
    "            # Plot this raster and save the output\n",
    "    ######################################################################################\n",
    "    for fp in fps[1:]:\n",
    "        # Create directory to store results\n",
    "        # processing_dir = \"HecRas_Processing/\" + fp.split('/')[1]\n",
    "        # Path(processing_dir).mkdir(parents=True, exist_ok=True)\n",
    "    \n",
    "        # Classify depth/velocity rasters into depth/velocity bins\n",
    "        this_scenario_raster = prepare_rainfall_scenario_raster(fp.format(variable_name), remove_little_values)[0]\n",
    "        this_scenario_classified = classify_raster(this_scenario_raster, breaks)\n",
    "        fp_for_classified_raster = fp.replace('{} (Max).Resampled.Terrain','{}_classified'.format(variable_name) )\n",
    "        save_array_as_raster(this_scenario_classified, fp_for_classified_raster, out_meta) \n",
    "        plot_classified_raster(fp_for_classified_raster, labels, classified_colors_list)    \n",
    "\n",
    "        # Find difference between depth/velocity rasters from this method, and the single peak method\n",
    "        difference_raster = single_peak - this_scenario_raster\n",
    "        # fp_for_difference_raster = \"Arcpy/{}_singlepeak_{}_diff.tif\".format(variable_name, rainfall_scenario_name)\n",
    "        # save_array_as_raster(singlepeak_classified, fp_for_difference_raster, out_meta) \n",
    "        # plot_difference(variable_name, rainfall_scenario_name, labels, 'YlGnBu') \n",
    "\n",
    "        # Reclassify the difference rasters to categories \n",
    "        classified_difference_raster = classify_raster (difference_raster, breaks_difference)\n",
    "        fp_for_classified_diff_raster = fp.replace('{} (Max).Resampled.Terrain','{}_difffromsinglepeak_classified'.format(variable_name))\n",
    "        save_array_as_raster(classified_difference_raster, fp_for_classified_diff_raster, out_meta) \n",
    "        plot_difference_levels(fp_for_classified_diff_raster, labels)    \n",
    "\n",
    "        # Reclassify the difference rasters to represent whether value is positive or negative \n",
    "        pos_neg_depth_diff = np.where((np.isnan(difference_raster)), np.nan, \n",
    "                                  np.where((difference_raster > 0), 0,\n",
    "                                    np.where((difference_raster == 0), 1,\n",
    "                                        np.where((difference_raster < 0), 2, 500))))\n",
    "        fp_for_posneg_diff_raster = fp.replace('{} (Max).Resampled.Terrain','{}_difffromsinglepeak_posneg'.format(variable_name) )\n",
    "        save_array_as_raster(pos_neg_depth_diff, fp_for_posneg_diff_raster, out_meta) \n",
    "        plot_difference_levels_pos_neg(fp_for_posneg_diff_raster)  \n",
    "\n",
    "        \n",
    "# Run the function  \n",
    "do_processing('Depth')\n",
    "do_processing('Velocity')"
   ]
  }
 ],
 "metadata": {
  "kernelspec": {
   "display_name": "Python 3 (ipykernel)",
   "language": "python",
   "name": "python3"
  },
  "language_info": {
   "codemirror_mode": {
    "name": "ipython",
    "version": 3
   },
   "file_extension": ".py",
   "mimetype": "text/x-python",
   "name": "python",
   "nbconvert_exporter": "python",
   "pygments_lexer": "ipython3",
   "version": "3.9.7"
  }
 },
 "nbformat": 4,
 "nbformat_minor": 5
}
