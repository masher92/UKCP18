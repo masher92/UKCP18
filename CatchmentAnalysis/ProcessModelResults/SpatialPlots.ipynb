{
 "cells": [
  {
   "cell_type": "code",
   "execution_count": 220,
   "id": "03926809",
   "metadata": {},
   "outputs": [],
   "source": [
    "catchment_name = 'WykeBeck'\n",
    "method_name = 'Idealised'\n",
    "variable_name ='Depth'"
   ]
  },
  {
   "cell_type": "code",
   "execution_count": 221,
   "id": "d5161781",
   "metadata": {},
   "outputs": [],
   "source": [
    "from matplotlib import cm\n",
    "from rasterio import plot\n",
    "from mpl_toolkits.axes_grid1 import make_axes_locatable\n",
    "from my_functions import *\n",
    "\n",
    "import warnings\n",
    "warnings.simplefilter(action='ignore', category=FutureWarning)\n",
    "\n",
    "def save_clipped_to_gdf(raster, out_meta, catchment_gdf, fp):\n",
    "    save_array_as_raster(raster, fp, out_meta)\n",
    "    \n",
    "    with rasterio.open(fp) as src:\n",
    "        catchment_gdf=catchment_gdf.to_crs(src.crs)\n",
    "        # print(Vector.crs)\n",
    "        out_image, out_transform=mask(src,catchment_gdf.geometry,crop=True)\n",
    "        out_meta=src.meta.copy() # copy the metadata of the source DEM\n",
    "\n",
    "    out_meta.update({\"driver\":\"Gtiff\", \"height\":out_image.shape[1], # height starts with shape[1]\n",
    "        \"width\":out_image.shape[2], # width starts with shape[2]\n",
    "        \"transform\":out_transform\n",
    "    })\n",
    "\n",
    "    with rasterio.open(fp,'w',**out_meta) as dst:\n",
    "        dst.write(out_image)"
   ]
  },
  {
   "cell_type": "code",
   "execution_count": 222,
   "id": "31feae8f",
   "metadata": {},
   "outputs": [],
   "source": [
    "watercourses = gpd.read_file('../../../FloodModelling/ExtraData/Watercourses/WatercourseLink.shp')"
   ]
  },
  {
   "cell_type": "code",
   "execution_count": 223,
   "id": "83be3b85",
   "metadata": {},
   "outputs": [],
   "source": [
    "# Specify strings relating to catchment\n",
    "if catchment_name == 'LinDyke':\n",
    "    catchment_name_str = \"Resampled.Terrain\" \n",
    "    minx, miny, maxx, maxy = 437000,  426500,  445500, 434300\n",
    "    shpfile_name ='CatchmentLinDyke_exported'\n",
    "    cell_size_in_m2 = 1\n",
    "elif catchment_name == 'WykeBeck':\n",
    "    catchment_name_str = \"Terrain.wykeDEM\" \n",
    "    minx, miny, maxx, maxy = 430004,  429978, 438660, 440996 \n",
    "    cell_size_in_m2 = 4\n",
    "    shpfile_name ='WykeBeckCatchment'"
   ]
  },
  {
   "cell_type": "code",
   "execution_count": 224,
   "id": "3e209f3a",
   "metadata": {},
   "outputs": [],
   "source": [
    "if method_name == 'Idealised':\n",
    "    most_extreme_str ='6h_sp_bl_0.9'\n",
    "    least_extreme_str =\"6h_sp_fl_0.1\"\n",
    "elif method_name == 'Observed':\n",
    "    most_extreme_str ='6h_c5'\n",
    "    least_extreme_str=\"6h_c8\""
   ]
  },
  {
   "cell_type": "markdown",
   "id": "424547a6",
   "metadata": {},
   "source": [
    "### Read catchment shapefile"
   ]
  },
  {
   "cell_type": "code",
   "execution_count": 225,
   "id": "7a3edace",
   "metadata": {},
   "outputs": [],
   "source": [
    "model_directory = '../../../FloodModelling/{}Models/Model_{}Profiles/'.format(catchment_name, method_name)\n",
    "catchment_shp = model_directory + \"{}.shp\".format(shpfile_name)\n",
    "catchment_gdf = gpd.read_file(catchment_shp)"
   ]
  },
  {
   "cell_type": "markdown",
   "id": "410f808b",
   "metadata": {},
   "source": [
    "### Read in flood data"
   ]
  },
  {
   "cell_type": "code",
   "execution_count": 226,
   "id": "ffc6ebfd",
   "metadata": {},
   "outputs": [],
   "source": [
    "most_extreme = rxr.open_rasterio(model_directory+ f\"{most_extreme_str}/{variable_name} (Max).{catchment_name_str}.tif\",masked=True).squeeze()\n",
    "least_extreme = rxr.open_rasterio(model_directory+ f\"{least_extreme_str}/{variable_name} (Max).{catchment_name_str}.tif\",masked=True).squeeze()"
   ]
  },
  {
   "cell_type": "markdown",
   "id": "f8555ad0",
   "metadata": {},
   "source": [
    "### Get out meta for proper saving"
   ]
  },
  {
   "cell_type": "code",
   "execution_count": 227,
   "id": "1dc57600",
   "metadata": {},
   "outputs": [],
   "source": [
    "out_meta = rasterio.open(model_directory+ f\"{most_extreme_str}/{variable_name} (Max).{catchment_name_str}.tif\").meta.copy()"
   ]
  },
  {
   "cell_type": "markdown",
   "id": "0be2aaf7",
   "metadata": {},
   "source": [
    "### Make versions where cells with flooding <0.1m are set to np.nan"
   ]
  },
  {
   "cell_type": "code",
   "execution_count": 228,
   "id": "88f7fbfd",
   "metadata": {},
   "outputs": [],
   "source": [
    "most_extreme = np.where(most_extreme > 0.1, most_extreme, np.nan)\n",
    "least_extreme = np.where(least_extreme > 0.1, least_extreme, np.nan)"
   ]
  },
  {
   "cell_type": "code",
   "execution_count": 229,
   "id": "255f5614",
   "metadata": {},
   "outputs": [],
   "source": [
    "fp = model_directory + f\"CalculatedLayers/{variable_name}_{most_extreme_str}_over_0.1m.tif\"\n",
    "save_clipped_to_gdf(most_extreme, out_meta, catchment_gdf, fp)\n",
    "\n",
    "fp = model_directory + f\"CalculatedLayers/{variable_name}_{least_extreme_str}_over_0.1m.tif\"\n",
    "save_clipped_to_gdf(least_extreme, out_meta, catchment_gdf, fp)"
   ]
  },
  {
   "cell_type": "markdown",
   "id": "9624fedd",
   "metadata": {},
   "source": [
    "### Make version where cells with flooding are set to 1, and all others are set to np.nan"
   ]
  },
  {
   "cell_type": "code",
   "execution_count": 230,
   "id": "5f0a2862",
   "metadata": {},
   "outputs": [],
   "source": [
    "most_extreme = np.where(most_extreme > 0.1, 1, np.nan)\n",
    "least_extreme = np.where(least_extreme > 0.1, 1, np.nan)"
   ]
  },
  {
   "cell_type": "markdown",
   "id": "d9d5cda2",
   "metadata": {},
   "source": [
    "### Set any NA values to 0, where the other scenario doesn't have an NaN\n",
    "This allows the difference to be counted for cells which have an NaN in one but not the other"
   ]
  },
  {
   "cell_type": "code",
   "execution_count": 231,
   "id": "72e9f519",
   "metadata": {},
   "outputs": [],
   "source": [
    "most_extreme[np.isnan(most_extreme) & (~np.isnan(least_extreme))] = 0\n",
    "least_extreme[np.isnan(least_extreme) & (~np.isnan(most_extreme))] = 0"
   ]
  },
  {
   "cell_type": "markdown",
   "id": "0a1434fe",
   "metadata": {},
   "source": [
    "### Label each cell according to whether it has flooding in neither scenario, both scenarios or 1 or the other"
   ]
  },
  {
   "cell_type": "code",
   "execution_count": 232,
   "id": "16646421",
   "metadata": {},
   "outputs": [],
   "source": [
    "# Flooded in neither scenario\n",
    "flooded_by_scenario = np.where((np.isnan(most_extreme)& np.isnan(least_extreme)), np.nan, \n",
    "        # 0 = flooded in both scenarios (over 0.1m)\n",
    "        np.where(((least_extreme ==1) & (most_extreme ==1)), 0,\n",
    "            # 1 = flooded in most_extreme, but not least_extreme\n",
    "            np.where(((most_extreme ==1) & (least_extreme ==0)), 1,\n",
    "            np.where(((most_extreme ==1) & np.isnan(least_extreme)), 1,             \n",
    "                # 2 = flooded in least_extreme, but not most_extreme\n",
    "                np.where(((least_extreme ==1) & (most_extreme ==0)), 2 ,\n",
    "                np.where(((least_extreme ==1) & np.isnan(most_extreme)), 2 ,                 \n",
    "                    # 500 = any other cells (shouldn't be any)        \n",
    "                     600))))))"
   ]
  },
  {
   "cell_type": "code",
   "execution_count": 233,
   "id": "5a28fc1e",
   "metadata": {},
   "outputs": [],
   "source": [
    "fp = model_directory + f\"CalculatedLayers/{variable_name}_{method_name}_Flooded_by_scenario.tif\"\n",
    "save_clipped_to_gdf(flooded_by_scenario, out_meta, catchment_gdf, fp)"
   ]
  },
  {
   "cell_type": "code",
   "execution_count": 234,
   "id": "b983ee8f",
   "metadata": {},
   "outputs": [],
   "source": [
    "# # Find difference as either a positive or a negative\n",
    "# pos_neg_depth_diff = np.where((np.isnan(diff)), np.nan, \n",
    "#                       np.where((diff < 0), 0,\n",
    "#                         np.where((diff == 0), 1,\n",
    "#                             np.where((diff > 0), 2, 500))))\n",
    "# save_array_as_raster(pos_neg_depth_diff, \n",
    "#                      model_directory + f\"CalculatedLayers/PosNegDifferencesBetweenExtremes_{variable_name}_{method_name}.tif\", out_meta) \n",
    "\n",
    "\n",
    "# def plot_difference_between_extremes(catchment_dict, variable_name, method_name, ax,add_basemap= True, add_colorbar= False):\n",
    "#     #######################################\n",
    "#     # Read in catchment shapefile\n",
    "#     #######################################\n",
    "#     model_directory = '../../../FloodModelling/{}Models/Model_{}Profiles/'.format(catchment_dict['name'], method_name)\n",
    "#     catchment_shp = model_directory + \"{}.shp\".format(catchment_dict[\"shpfile_name\"])\n",
    "#     catchment_gdf = gpd.read_file(catchment_shp)\n",
    "#     print(catchment_gdf.crs.to_string())\n",
    "    \n",
    "#     #######################################\n",
    "#     # Define colormap\n",
    "#     #######################################\n",
    "#     cmap = mpl.cm.RdYlGn.copy()\n",
    "#     #cmap.set_bad('purple', 1.)\n",
    "        \n",
    "#     #######################################\n",
    "#     # Plot catchment boundary and basemap\n",
    "#     #######################################\n",
    "#     catchment_gdf.plot(ax=ax, facecolor=\"none\", linewidth=5, edgecolor = 'black')\n",
    "#     if add_basemap == True:\n",
    "#         cx.add_basemap(ax, crs = catchment_gdf.crs.to_string(), url = cx.providers.Stamen.Watercolor,alpha=0.2)\n",
    "    \n",
    "#     #######################################\n",
    "#     # Read in data and add to map\n",
    "#     #######################################\n",
    "#     fp = model_directory + f\"CalculatedLayers/DifferencesBetweenExtremes_{variable_name}_{method_name}.tif\"\n",
    "    \n",
    "#     with rasterio.open(fp) as src:\n",
    "#         #array = src.read(1)\n",
    "#         image = plot.show(src, ax=ax,  cmap=cmap,  vmin=-0.1,  vmax=0.1)\n",
    "\n",
    "#     #######################################\n",
    "#     # Format\n",
    "#     #######################################\n",
    "#     #ax.axis('off')\n",
    "#     ax.set_title(method_name, fontsize =20)\n",
    "    \n",
    "#     # Colorbar creation\n",
    "#     if add_colorbar == True:  \n",
    "#         if add_basemap == True:\n",
    "#             im = image.get_images()[1]\n",
    "#         else:\n",
    "#             im = image.get_images()[0]\n",
    "#         divider = make_axes_locatable(ax)\n",
    "#         cax = divider.append_axes(\"right\", size=\"8%\", pad=0.09)\n",
    "#         cbar  = fig.colorbar(im, cax)\n",
    "        \n",
    "#         cbar.ax.tick_params(labelsize=50)"
   ]
  },
  {
   "cell_type": "markdown",
   "id": "bd27c34c",
   "metadata": {},
   "source": [
    "### Calculate layer values\n",
    "How to plot in QGIS:\n",
    "- Properties -> Symbology -> Paletted/unique values -> Classify"
   ]
  },
  {
   "cell_type": "code",
   "execution_count": 235,
   "id": "1de0c599",
   "metadata": {},
   "outputs": [],
   "source": [
    "# cmaplist = ['powderblue', 'darkred', 'darkblue']\n",
    "# cmap = mpl.colors.LinearSegmentedColormap.from_list('Custom cmap', cmaplist,3)\n",
    "# cmap"
   ]
  },
  {
   "cell_type": "code",
   "execution_count": 236,
   "id": "a81c59a5",
   "metadata": {},
   "outputs": [],
   "source": [
    "# catchment_dict=wb_dict\n",
    "# method_name='Idealised'\n",
    "# variable_name='Depth'\n",
    "# model_directory = '../../../FloodModelling/{}Models/Model_{}Profiles/'.format(catchment_dict['name'], method_name)\n",
    "# fp = model_directory + f\"CalculatedLayers/FloodedMostExtremeOnly_{variable_name}_{method_name}.tif\"\n",
    "\n",
    "# #######################################\n",
    "# model_directory = '../../../FloodModelling/{}Models/Model_{}Profiles/'.format(catchment_dict['name'], method_name)\n",
    "# catchment_shp = model_directory + \"{}.shp\".format(catchment_dict[\"shpfile_name\"])\n",
    "# catchment_gdf = gpd.read_file(catchment_shp)\n",
    "\n",
    "# watercourses_clip = gpd.clip(watercourses, catchment_gdf)"
   ]
  },
  {
   "cell_type": "markdown",
   "id": "ec2fab6e",
   "metadata": {},
   "source": [
    "# THIS IS THE ONE"
   ]
  },
  {
   "cell_type": "code",
   "execution_count": 237,
   "id": "d148b176",
   "metadata": {},
   "outputs": [],
   "source": [
    "# import matplotlib.pyplot as plt\n",
    "# import matplotlib.image as mpimg\n",
    "# img = mpimg.imread('../test.png')\n",
    "# fig, ax = plt.subplots(figsize=(8, 8))\n",
    "# imgplot = ax.imshow(img)\n",
    "# ax.axis('off')\n",
    "\n",
    "# patches_list = []\n",
    "# labels = ['Both', 'BL only', 'FL only']\n",
    "# for i, color in  enumerate(cmaplist):\n",
    "#     patch =  mpatches.Patch(color=color, label=labels[i])\n",
    "#     patches_list.append(patch)  \n",
    "# ax.legend(handles=patches_list, handleheight=1, handlelength=1, fontsize =10,\n",
    "#          loc='upper right', bbox_to_anchor=(0.95, 0.85));\n",
    "# plt.show()\n",
    "\n",
    "# fig.savefig('../test_python.png')"
   ]
  },
  {
   "cell_type": "code",
   "execution_count": 238,
   "id": "ea9334ef",
   "metadata": {},
   "outputs": [],
   "source": [
    "# fig, ax = plt.subplots(figsize=(8, 8), dpi=3000)\n",
    "# add_colorbar = True\n",
    "# add_basemap= False\n",
    "\n",
    "# #######################################\n",
    "# fp = model_directory + f\"CalculatedLayers/FloodedMostExtremeOnly_{variable_name}_{method_name}.tif\"\n",
    "# model_directory = '../../../FloodModelling/{}Models/Model_{}Profiles/'.format(catchment_dict['name'], method_name)\n",
    "# catchment_shp = model_directory + \"{}.shp\".format(catchment_dict[\"shpfile_name\"])\n",
    "# catchment_gdf = gpd.read_file(catchment_shp)\n",
    "\n",
    "# #######################################\n",
    "# # Define colormap\n",
    "# #######################################\n",
    "# cmap = mpl.colors.LinearSegmentedColormap.from_list('Custom cmap', cmaplist,3)\n",
    "\n",
    "# #######################################\n",
    "# # Plot catchment boundary and basemap\n",
    "# #######################################\n",
    "# catchment_gdf.plot(ax=ax, facecolor=\"none\", linewidth=1, edgecolor = 'darkgreen')\n",
    "\n",
    "# if add_basemap == True:\n",
    "#     cx.add_basemap(ax, crs = catchment_gdf.crs.to_string(), url = cx.providers.Stamen.Watercolor,alpha=0.2)\n",
    "\n",
    "# #######################################\n",
    "# # Read in data and add to map\n",
    "# #######################################\n",
    "# with rasterio.open(fp) as src:\n",
    "#     #array = src.read(1)\n",
    "#     image = plot.show(src, ax=ax,  cmap=cmap)\n",
    "# watercourses_clip.plot(ax=ax, facecolor=\"none\", linewidth=0.3, edgecolor = 'blue')\n",
    "# #######################################\n",
    "# # Format\n",
    "# #######################################\n",
    "# ax.axis('off')\n",
    "# #ax.set_title(method_name, fontsize =20)\n",
    "\n",
    "# # Colorbar creation\n",
    "# if add_colorbar == True:  \n",
    "#     # And set up the legend object\n",
    "#     patches_list = []\n",
    "#     labels = ['Both', 'BL only', 'FL only']\n",
    "#     for i, color in  enumerate(cmaplist):\n",
    "#         patch =  mpatches.Patch(color=color, label=labels[i])\n",
    "#         patches_list.append(patch)  \n",
    "#     ax.legend(handles=patches_list, handleheight=1, handlelength=1, fontsize =10,\n",
    "#              loc='upper right', bbox_to_anchor=(0.85, 0.85));\n",
    "\n",
    "    \n",
    "# plt.savefig('output_3.png', bbox_inches='tight', pad_inches=0.1)    \n",
    "# image = Image.open('output_3.png')\n",
    "# image = image.convert('P', palette=Image.ADAPTIVE, colors=2 ** 8)\n",
    "# image.save('output_3_colorcompressed.png')\n"
   ]
  },
  {
   "cell_type": "code",
   "execution_count": 239,
   "id": "853c4fb5",
   "metadata": {},
   "outputs": [],
   "source": [
    "# from PIL import Image\n",
    "\n",
    "# # Load your image using Pillow\n",
    "# image = Image.open('output_3_compressed.png')\n",
    "# # Reduce color depth to a specified number of bits per channel\n",
    "# new_color_depth = 8  # Number of bits per channel (e.g., 8-bit)\n",
    "# # Convert the image to the new color mode\n",
    "# image = image.convert('P', palette=Image.ADAPTIVE, colors=2 ** new_color_depth)\n",
    "# # Save the image with reduced color depth\n",
    "# output_filename = \n",
    "# image.save('output_3_compressed_colorcompressed.png')\n"
   ]
  },
  {
   "cell_type": "markdown",
   "id": "b7ba056e",
   "metadata": {},
   "source": [
    "# Actually maybe this is the one"
   ]
  },
  {
   "cell_type": "code",
   "execution_count": 240,
   "id": "1e5fd1a5",
   "metadata": {},
   "outputs": [],
   "source": [
    "# cmaplist = ['khaki', 'darkred', 'darkblue']\n",
    "# cmap = mpl.colors.LinearSegmentedColormap.from_list('Custom cmap', cmaplist,3)"
   ]
  },
  {
   "cell_type": "code",
   "execution_count": 241,
   "id": "fc0a26a4",
   "metadata": {},
   "outputs": [],
   "source": [
    "# # Open the raster dataset\n",
    "# fp = model_directory + f\"CalculatedLayers/FloodedMostExtremeOnly_{variable_name}_{method_name}.tif\"\n",
    "# dataset = rasterio.open(fp)\n",
    "\n",
    "# # Read the raster data\n",
    "# data = dataset.read(1)  # Change the band number (e.g., 1, 2, 3) based on your data\n",
    "\n",
    "# # Set up the figure size and DPI\n",
    "# fig, ax = plt.subplots(figsize=(8, 8), dpi=1000)\n",
    "\n",
    "# # Display the raster data using rasterio.plot.show\n",
    "# show(data, cmap=cmap, ax=ax)\n",
    "\n",
    "# # catchment_gdf.plot(ax=ax, facecolor=\"none\", linewidth=5, edgecolor = 'black')\n",
    "\n",
    "# ax.axis('off')\n",
    "# # Save the figure to a file (e.g., PNG)\n",
    "# plt.savefig('output.png', bbox_inches='tight', pad_inches=0.1)"
   ]
  },
  {
   "cell_type": "markdown",
   "id": "1014fcc4",
   "metadata": {},
   "source": [
    "### Find difference"
   ]
  },
  {
   "cell_type": "code",
   "execution_count": 242,
   "id": "e36bff2d",
   "metadata": {},
   "outputs": [],
   "source": [
    "# fig, axs = plt.subplots(figsize=(8, 8), dpi=1000)\n",
    "# plot_difference_between_extremes(ld_dict, 'Depth', 'Idealised', axs, True, True)\n",
    "# fig.savefig(\"Outputs/Figs/IdealisedProfiles/LinDyke/IP_LD_Diff.jpg\")"
   ]
  },
  {
   "cell_type": "code",
   "execution_count": 243,
   "id": "35bc5e60",
   "metadata": {},
   "outputs": [],
   "source": [
    "# fig, axs = plt.subplots(ncols=1, figsize=(80, 40))\n",
    "# plot_difference_between_extremes(wb_dict, 'Depth', 'Idealised', axs, True, True)"
   ]
  },
  {
   "cell_type": "code",
   "execution_count": 244,
   "id": "bfe640c1",
   "metadata": {},
   "outputs": [],
   "source": [
    "# fig, axs = plt.subplots(ncols=1, figsize=(80, 40))\n",
    "# plot_difference_between_extremes(wb_dict, 'Depth', 'Idealised', axs, True, True)\n",
    "# # plot_difference_between_extremes(wb_dict, 'Depth', 'Observed', axs[1], False, True)"
   ]
  },
  {
   "cell_type": "code",
   "execution_count": 245,
   "id": "2ceb5f39",
   "metadata": {},
   "outputs": [],
   "source": [
    "# import pylab\n",
    "# pylab.hist(diff.data[~np.isnan(diff.data)],bins=30);"
   ]
  },
  {
   "cell_type": "code",
   "execution_count": 246,
   "id": "e46eb521",
   "metadata": {},
   "outputs": [],
   "source": [
    "# def colorize(array, cmap, vmin, vmax):\n",
    "#     cm = plt.cm.get_cmap(cmap)    \n",
    "#     if np.nanmin(array) == np.nanmax(array):\n",
    "#         return np.uint8(cm(array)  * 255)\n",
    "#     else:\n",
    "#         normed_data = (array - vmin) / (vmax - vmin) \n",
    "#         # normed_data = (array - np.nanmin(array)) / (np.nanmax(array) - np.nanmin(array)) \n",
    "#         return np.uint8(cm(normed_data)  * 255)\n",
    "\n",
    "# def folium_baseplot(catchment_dict, method_name):\n",
    "    \n",
    "#     model_directory = '../../../FloodModelling/{}Models/Model_{}Profiles/'.format(catchment_dict['name'], method_name)\n",
    "#     catchment_shp = model_directory + \"{}.shp\".format(catchment_dict[\"shpfile_name\"])\n",
    "#     catchment_gdf = gpd.read_file(catchment_shp)\n",
    "    \n",
    "#     # Set up figure\n",
    "#     f = folium.Figure(width=1000, height=1000)\n",
    "\n",
    "#     # Create base map - location figures were from clat, clon, but wanted to create map before loop\n",
    "#     mapa = folium.Map(location=catchment_dict['centre_location'],zoom_start=13,tiles ='cartodb positron').add_to(f)\n",
    "#     folium.TileLayer(tiles = 'https://basemap.nationalmap.gov/arcgis/rest/services/USGSTopo/MapServer/tile/{z}/{y}/{x}',\n",
    "#         attr=\"No Base Map\",name=\"No Base Map\",show=True).add_to(mapa)\n",
    "\n",
    "#     # Catchment boundary\n",
    "#     catchment_boundary_feature_group = FeatureGroup(name=catchment_dict['name'])\n",
    "#     catchment_boundary_feature_group.add_child(folium.GeoJson(data=catchment_gdf[\"geometry\"], style_function=lambda x, \n",
    "#                                          fillColor='#00000000', color='green': { \"fillColor\": '#00000000',\"color\": 'Black',}))\n",
    "#     mapa.add_child(catchment_boundary_feature_group)\n",
    "        \n",
    "#     return mapa\n",
    "\n",
    "# def add_folium_layer(mapa, fp, layername):\n",
    "\n",
    "#     ###########################################\n",
    "#     # Read in data\n",
    "#     ###########################################\n",
    "#     with rasterio.open(fp) as src:\n",
    "#         array = src.read(1)\n",
    "#     layer=prep_for_folium_plotting (fp)\n",
    "    \n",
    "#     ###########################################\n",
    "#     # Get coordinates needed in plotting\n",
    "#     ###########################################\n",
    "#     clat, clon = layer.y.values.mean(), layer.x.values.mean()\n",
    "#     mlat, mlon = layer.y.values.min(), layer.x.values.min()\n",
    "#     xlat, xlon = layer.y.values.max(), layer.x.values.max()\n",
    "    \n",
    "#     ###########################################\n",
    "#     #  Add to feature group\n",
    "#     ###########################################\n",
    "#     data  = ma.masked_invalid(layer)\n",
    "#     colored_data = colorize(data.data, cmap='RdYlGn', vmin = -0.1,vmax= 0.1)\n",
    "#     feature_group = FeatureGroup(name=layername)\n",
    "#     feature_group.add_child(folium.raster_layers.ImageOverlay(colored_data,[[mlat, mlon], [xlat, xlon]],\n",
    "#                               opacity=0.8,interactive=True, popup='Test'))\n",
    "#     mapa.add_child(feature_group)\n",
    "    \n",
    "#     return mapa\n",
    "\n",
    "# def plot_with_folium(catchment_dict, variable_name, method_name, fps_and_names):\n",
    "    \n",
    "#     # Create basemap\n",
    "#     mapa = folium_baseplot(catchment_dict, method_name)\n",
    "    \n",
    "#     # Get fp of layer to add to map\n",
    "#     for name, fp  in fps_and_names.items():\n",
    "#         # Add layer to map \n",
    "#         mapa = add_folium_layer(mapa, fp, name)\n",
    "   \n",
    "#     # # Add layers to map\n",
    "#     mapa.add_child(LayerControl(\"topright\", collapsed = False))\n",
    "#     # Display the map\n",
    "#     display(mapa)\n",
    "#     img_data = mapa._to_png(5)\n",
    "#     img = Image.open(io.BytesIO(img_data))\n",
    "#     img.save(\"Outputs/Figs/IdealisedProfiles/LinDyke/test.png\")\n",
    "    \n",
    "#     return mapa"
   ]
  },
  {
   "cell_type": "code",
   "execution_count": 247,
   "id": "6e076882",
   "metadata": {},
   "outputs": [],
   "source": [
    "# method_name = 'Idealised'\n",
    "# methods_dict = idealised_dict\n",
    "# variable_name ='Depth'\n",
    "# catchment_dict = wb_dict\n",
    "# model_directory = '../../../FloodModelling/{}Models/Model_{}Profiles/'.format(catchment_dict['name'], method_name)\n",
    "    \n",
    "# fps_and_names = {#'diff':model_directory + f\"CalculatedLayers/DifferencesBetweenExtremes_{variable_name}_{method_name}.tif\",\n",
    "# 'difference':model_directory + f\"CalculatedLayers/FloodedMostExtremeOnly_{variable_name}_{method_name}.tif\",                 \n",
    "# #         'posnegdiff':model_directory + f\"CalculatedLayers/PosNegDifferencesBetweenExtremes_{variable_name}_{method_name}.tif\",\n",
    "# #                 'most_extreme':model_directory+ f\"{methods_dict['most_extreme']}/{variable_name} (Max).{catchment_dict['name_str']}.tif\",\n",
    "#                 # 'least_extreme':model_directory+ f\"{methods_dict['least_extreme']}/{variable_name} (Max).{catchment_dict['name_str']}.tif\",\n",
    "#                 }\n",
    "\n",
    "# mapa = plot_with_folium(wb_dict, 'Depth', 'Idealised', fps_and_names)"
   ]
  },
  {
   "cell_type": "code",
   "execution_count": 248,
   "id": "24a02077",
   "metadata": {},
   "outputs": [],
   "source": [
    "# # Open fire boundary data with geopandas\n",
    "# catchment_boundary = gpd.read_file(fire_boundary_path)"
   ]
  },
  {
   "cell_type": "markdown",
   "id": "eba27135",
   "metadata": {},
   "source": [
    "### This makes a plot which is too big"
   ]
  },
  {
   "cell_type": "code",
   "execution_count": 250,
   "id": "9ca4013f",
   "metadata": {},
   "outputs": [],
   "source": [
    "# import earthpy.spatial as es\n",
    "# from rasterio.plot import plotting_extent\n",
    "# import earthpy.plot as ep\n",
    "\n",
    "# fp = model_directory + f\"CalculatedLayers/FloodedMostExtremeOnly_{variable_name}_{method_name}.tif\"\n",
    "# fig, axs = plt.subplots(ncols=1, figsize=(40, 40))\n",
    "# #################################################################\n",
    "# # Read in and prepare data\n",
    "# #################################################################\n",
    "# # # Read in shapefile for use in cropping\n",
    "# # with rasterio.open(fp) as raster_crs:\n",
    "# #     # Get crs to read in the catchment shape file\n",
    "# #     crop_raster_profile = raster_crs.profile\n",
    "# #     crop_bound_utm13N = catchment_gdf.to_crs(crop_raster_profile[\"crs\"])    \n",
    "\n",
    "# # watercourses_clip.to_crs(crop_raster_profile[\"crs\"])  \n",
    "\n",
    "# # Read in raster data amd crop to the shapefile\n",
    "# with rasterio.open(fp) as src:\n",
    "#     single_cropped_image, single_cropped_meta = es.crop_image(src, catchment_gdf)\n",
    "#     #single_cropped_image = np.ma.masked_array(single_cropped_image, single_cropped_image < 0)\n",
    "    \n",
    "# # Create the extent object for plotting\n",
    "# single_crop_extent = plotting_extent(single_cropped_image[0], single_cropped_meta[\"transform\"])\n",
    "\n",
    "# # cx.add_basemap(axs, crs = catchment_gdf.crs.to_string(),\n",
    "# #                url =cx.providers.OpenStreetMap.Mapnik,zoom=\"auto\",alpha=0.2)    \n",
    "\n",
    "# #################################################################\n",
    "# # Mask array if necessary (in this case this is for the terrain data)\n",
    "# #################################################################\n",
    "# # # For landcover plot\n",
    "# # if colors != None:\n",
    "# #     # Mask array (don't want to include values of 0, as these are no data values here)\n",
    "# #     single_cropped_image = np.ma.masked_array(single_cropped_image[0], single_cropped_image[0] < 0.001)\n",
    "# #     # Define a vmin and vmax (so it uses the values for this plot)\n",
    "# #     vmin = np.nanmin(single_cropped_image)\n",
    "# #     vmax = np.nanmax(single_cropped_image)\n",
    "\n",
    "# # For terrain plot\n",
    "# # Define a vmin and vmax (so it's consistent across the plots)\n",
    "# vmin = 0\n",
    "# vmax = 3\n",
    "\n",
    "\n",
    "# # And set up the legend object\n",
    "# patches_list = []\n",
    "# labels = ['Both', 'BL only', 'FL only']\n",
    "# for i, color in  enumerate(cmaplist):\n",
    "#     patch =  mpatches.Patch(color=color, label=labels[i])\n",
    "#     patches_list.append(patch)  \n",
    "# axs.legend(handles=patches_list, handleheight=2, handlelength=2, fontsize =20);\n",
    "\n",
    "# #################################################################\n",
    "# # Plot the image\n",
    "# #################################################################\n",
    "# # crop_bound_utm13N.boundary.plot(ax=axs, color=\"black\", zorder=10)\n",
    "# ep.plot_bands(single_cropped_image, ax=axs, cmap = cmap, \n",
    "#                   vmin=vmin,vmax=vmax,extent=single_crop_extent,cbar=False)\n",
    "\n",
    "\n",
    "# catchment_gdf.plot(ax=axs, facecolor=\"none\", linewidth=3, edgecolor = 'black')\n",
    "# watercourses_clip.plot(ax=axs, facecolor=\"none\", linewidth=2, edgecolor = 'blue')\n",
    "\n",
    "# fig.savefig(\"Outputs/Figs/IdealisedProfiles/LinDyke/earthpy.jpg\", dpi=300)    "
   ]
  }
 ],
 "metadata": {
  "kernelspec": {
   "display_name": "Python 3 (ipykernel)",
   "language": "python",
   "name": "python3"
  },
  "language_info": {
   "codemirror_mode": {
    "name": "ipython",
    "version": 3
   },
   "file_extension": ".py",
   "mimetype": "text/x-python",
   "name": "python",
   "nbconvert_exporter": "python",
   "pygments_lexer": "ipython3",
   "version": "3.9.7"
  }
 },
 "nbformat": 4,
 "nbformat_minor": 5
}
