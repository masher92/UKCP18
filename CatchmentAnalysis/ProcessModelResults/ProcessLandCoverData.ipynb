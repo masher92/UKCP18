version https://git-lfs.github.com/spec/v1
oid sha256:3df08a9da3160532f47db8d7d548eecac4f1b778d6b6337d1d97d2e73d860bd8
size 2256477
