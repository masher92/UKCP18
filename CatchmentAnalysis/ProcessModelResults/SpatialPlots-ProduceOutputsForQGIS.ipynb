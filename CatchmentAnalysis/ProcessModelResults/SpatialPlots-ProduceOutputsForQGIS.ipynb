{
 "cells": [
  {
   "cell_type": "markdown",
   "id": "e3084912",
   "metadata": {},
   "source": [
    "# Generate tiff files to plot with QGIS\n",
    "\n",
    "### Once generated files then can be plotted using QGIS\n",
    "Want to plot them with highlighted urban areas, and these urban areas also extracted and plotted bigger as inset images.  \n",
    "To do this:  \n",
    "  - Import shpfile with the boundary of the urban area (e.g. Kippax or Garforth)  \n",
    "  - Right click -> Properties -> Symbology -> (at top) select Inverted Polygons  "
   ]
  },
  {
   "cell_type": "code",
   "execution_count": 80,
   "id": "5f7ff23a",
   "metadata": {},
   "outputs": [],
   "source": [
    "catchment_name = 'WykeBeck'\n",
    "method_name = 'Observed'\n",
    "variable_name ='Depth'"
   ]
  },
  {
   "cell_type": "code",
   "execution_count": 81,
   "id": "d5161781",
   "metadata": {},
   "outputs": [],
   "source": [
    "from matplotlib import cm\n",
    "from rasterio import plot\n",
    "from mpl_toolkits.axes_grid1 import make_axes_locatable\n",
    "from my_functions import *\n",
    "\n",
    "import warnings\n",
    "warnings.simplefilter(action='ignore', category=FutureWarning)"
   ]
  },
  {
   "cell_type": "code",
   "execution_count": 82,
   "id": "31feae8f",
   "metadata": {},
   "outputs": [],
   "source": [
    "watercourses = gpd.read_file('../../../FloodModelling/ExtraData/Watercourses/WatercourseLink.shp')"
   ]
  },
  {
   "cell_type": "code",
   "execution_count": 83,
   "id": "83be3b85",
   "metadata": {},
   "outputs": [],
   "source": [
    "# Specify strings relating to catchment\n",
    "if catchment_name == 'LinDyke':\n",
    "    catchment_name_str = \"Resampled.Terrain\" \n",
    "    minx, miny, maxx, maxy = 437000,  426500,  445500, 434300\n",
    "    shpfile_name ='CatchmentLinDyke_exported'\n",
    "    cell_size_in_m2 = 1\n",
    "    crop_or_not = True    \n",
    "elif catchment_name == 'WykeBeck':\n",
    "    catchment_name_str = \"Terrain.wykeDEM\" \n",
    "    minx, miny, maxx, maxy = 430004,  429978, 438660, 440996 \n",
    "    cell_size_in_m2 = 4\n",
    "    shpfile_name ='WykeBeckCatchment'\n",
    "    crop_or_not = False"
   ]
  },
  {
   "cell_type": "code",
   "execution_count": 84,
   "id": "3e209f3a",
   "metadata": {},
   "outputs": [],
   "source": [
    "if method_name == 'Idealised':\n",
    "    most_extreme_str ='6h_sp_bl_0.9'\n",
    "    least_extreme_str =\"6h_sp_fl_0.1\"\n",
    "elif method_name == 'Observed':\n",
    "    most_extreme_str ='6h_c5'\n",
    "    least_extreme_str=\"6h_c8\""
   ]
  },
  {
   "cell_type": "markdown",
   "id": "424547a6",
   "metadata": {},
   "source": [
    "### Read catchment shapefile"
   ]
  },
  {
   "cell_type": "code",
   "execution_count": 85,
   "id": "7a3edace",
   "metadata": {},
   "outputs": [],
   "source": [
    "model_directory = '../../../FloodModelling/{}Models/Model_{}Profiles_export/'.format(catchment_name, method_name)\n",
    "catchment_shp = model_directory + \"{}.shp\".format(shpfile_name)\n",
    "catchment_gdf = gpd.read_file(catchment_shp)"
   ]
  },
  {
   "cell_type": "markdown",
   "id": "0e692959",
   "metadata": {},
   "source": [
    "# For plot showing cells flooded in both, or just one or the other scenario "
   ]
  },
  {
   "cell_type": "markdown",
   "id": "410f808b",
   "metadata": {},
   "source": [
    "### Read in flood data"
   ]
  },
  {
   "cell_type": "code",
   "execution_count": 86,
   "id": "73cb4d0c",
   "metadata": {},
   "outputs": [],
   "source": [
    "# Get the results, and trim to the catchment\n",
    "most_extreme, out_meta  = open_and_clip_to_catchment(model_directory+ f\"{most_extreme_str}/{variable_name} (Max).{catchment_name_str}.tif\"\n",
    "                                                      , catchment_gdf, crop_or_not)\n",
    "least_extreme, out_meta  = open_and_clip_to_catchment(model_directory+ f\"{least_extreme_str}/{variable_name} (Max).{catchment_name_str}.tif\"\n",
    "                                                      , catchment_gdf, crop_or_not)"
   ]
  },
  {
   "cell_type": "markdown",
   "id": "0be2aaf7",
   "metadata": {},
   "source": [
    "### Make versions where cells with flooding <0.1m are set to np.nan"
   ]
  },
  {
   "cell_type": "code",
   "execution_count": 87,
   "id": "88f7fbfd",
   "metadata": {},
   "outputs": [],
   "source": [
    "most_extreme = np.where(most_extreme > 0.1, most_extreme, np.nan)\n",
    "least_extreme = np.where(least_extreme > 0.1, least_extreme, np.nan)"
   ]
  },
  {
   "cell_type": "code",
   "execution_count": 91,
   "id": "255f5614",
   "metadata": {},
   "outputs": [],
   "source": [
    "fp = model_directory + f\"CalculatedLayers/{variable_name}_{most_extreme_str}_over_0.1m.tif\"\n",
    "save_array_as_raster(most_extreme, fp, out_meta)\n",
    "\n",
    "fp = model_directory + f\"CalculatedLayers/{variable_name}_{least_extreme_str}_over_0.1m.tif\"\n",
    "save_array_as_raster(least_extreme, fp, out_meta)"
   ]
  },
  {
   "cell_type": "markdown",
   "id": "9624fedd",
   "metadata": {},
   "source": [
    "### Make version where cells with flooding are set to 1, and all others are set to np.nan"
   ]
  },
  {
   "cell_type": "code",
   "execution_count": 92,
   "id": "5f0a2862",
   "metadata": {},
   "outputs": [],
   "source": [
    "most_extreme = np.where(most_extreme > 0.1, 1, np.nan)\n",
    "least_extreme = np.where(least_extreme > 0.1, 1, np.nan)"
   ]
  },
  {
   "cell_type": "markdown",
   "id": "d9d5cda2",
   "metadata": {},
   "source": [
    "### Set any NA values to 0, where the other scenario doesn't have an NaN\n",
    "This allows the difference to be counted for cells which have an NaN in one but not the other"
   ]
  },
  {
   "cell_type": "code",
   "execution_count": 93,
   "id": "72e9f519",
   "metadata": {},
   "outputs": [],
   "source": [
    "most_extreme[np.isnan(most_extreme) & (~np.isnan(least_extreme))] = 0\n",
    "least_extreme[np.isnan(least_extreme) & (~np.isnan(most_extreme))] = 0"
   ]
  },
  {
   "cell_type": "markdown",
   "id": "0a1434fe",
   "metadata": {},
   "source": [
    "### Label each cell according to whether it has flooding in neither scenario, both scenarios or 1 or the other"
   ]
  },
  {
   "cell_type": "code",
   "execution_count": 94,
   "id": "16646421",
   "metadata": {},
   "outputs": [],
   "source": [
    "# Flooded in neither scenario\n",
    "flooded_by_scenario = np.where((np.isnan(most_extreme)& np.isnan(least_extreme)), np.nan, \n",
    "        # 0 = flooded in both scenarios (over 0.1m)\n",
    "        np.where(((least_extreme ==1) & (most_extreme ==1)), 0,\n",
    "            # 1 = flooded in most_extreme, but not least_extreme\n",
    "            np.where(((most_extreme ==1) & (least_extreme ==0)), 1,\n",
    "            np.where(((most_extreme ==1) & np.isnan(least_extreme)), 1,             \n",
    "                # 2 = flooded in least_extreme, but not most_extreme\n",
    "                np.where(((least_extreme ==1) & (most_extreme ==0)), 2 ,\n",
    "                np.where(((least_extreme ==1) & np.isnan(most_extreme)), 2 ,                 \n",
    "                    # 500 = any other cells (shouldn't be any)        \n",
    "                     600))))))"
   ]
  },
  {
   "cell_type": "code",
   "execution_count": 95,
   "id": "bf88d135",
   "metadata": {},
   "outputs": [],
   "source": [
    "fp = model_directory + f\"CalculatedLayers/{variable_name}_{method_name}_Flooded_by_scenario.tif\"\n",
    "save_array_as_raster(flooded_by_scenario, fp, out_meta)"
   ]
  },
  {
   "cell_type": "markdown",
   "id": "195bcdb8",
   "metadata": {},
   "source": [
    "# For plot showing cells flooded in both, or just one or the other scenario "
   ]
  },
  {
   "cell_type": "markdown",
   "id": "65600510",
   "metadata": {},
   "source": [
    "### Read in flood data"
   ]
  },
  {
   "cell_type": "code",
   "execution_count": 96,
   "id": "699a2925",
   "metadata": {},
   "outputs": [],
   "source": [
    "# Get the results, and trim to the catchment\n",
    "most_extreme, out_meta  = open_and_clip_to_catchment(model_directory+ f\"{most_extreme_str}/{variable_name} (Max).{catchment_name_str}.tif\"\n",
    "                                                      , catchment_gdf, crop_or_not)\n",
    "least_extreme, out_meta  = open_and_clip_to_catchment(model_directory+ f\"{least_extreme_str}/{variable_name} (Max).{catchment_name_str}.tif\"\n",
    "                                                      , catchment_gdf, crop_or_not)"
   ]
  },
  {
   "cell_type": "markdown",
   "id": "02c59fb2",
   "metadata": {},
   "source": [
    "### Set values <0.1 to np.nan"
   ]
  },
  {
   "cell_type": "code",
   "execution_count": 97,
   "id": "5a28fc1e",
   "metadata": {},
   "outputs": [],
   "source": [
    "most_extreme = np.where(most_extreme > 0.1, most_extreme, np.nan)\n",
    "least_extreme = np.where(least_extreme > 0.1, least_extreme, np.nan)"
   ]
  },
  {
   "cell_type": "markdown",
   "id": "7005b221",
   "metadata": {},
   "source": [
    "### Set any NA values to 0, where the other scenario doesn't have an NaN\n",
    "This allows the difference to be counted for cells which have an NaN in one but not the other"
   ]
  },
  {
   "cell_type": "code",
   "execution_count": 98,
   "id": "cf1488fa",
   "metadata": {},
   "outputs": [],
   "source": [
    "most_extreme[np.isnan(most_extreme) & (~np.isnan(least_extreme))] = 0\n",
    "least_extreme[np.isnan(least_extreme) & (~np.isnan(most_extreme))] = 0"
   ]
  },
  {
   "cell_type": "code",
   "execution_count": 99,
   "id": "5bd7e372",
   "metadata": {},
   "outputs": [],
   "source": [
    "diff = most_extreme - least_extreme"
   ]
  },
  {
   "cell_type": "code",
   "execution_count": 100,
   "id": "b8905fdd",
   "metadata": {},
   "outputs": [],
   "source": [
    "pos_neg_depth_diff = np.where(np.isnan(diff), np.nan, \n",
    "                                  np.where(diff>0,1,\n",
    "                                       np.where(diff <0,2,0)))\n"
   ]
  },
  {
   "cell_type": "code",
   "execution_count": 101,
   "id": "1f27842b",
   "metadata": {},
   "outputs": [],
   "source": [
    "fp = model_directory + f\"CalculatedLayers/{variable_name}_diff_over_0.1m.tif\"\n",
    "save_array_as_raster(diff, fp, out_meta)"
   ]
  },
  {
   "cell_type": "code",
   "execution_count": 102,
   "id": "18143d29",
   "metadata": {},
   "outputs": [],
   "source": [
    "fp = model_directory + f\"CalculatedLayers/{variable_name}_posnegdepthdiff_over_0.1m.tif\"\n",
    "save_array_as_raster(pos_neg_depth_diff, fp, out_meta)"
   ]
  }
 ],
 "metadata": {
  "kernelspec": {
   "display_name": "Python 3 (ipykernel)",
   "language": "python",
   "name": "python3"
  },
  "language_info": {
   "codemirror_mode": {
    "name": "ipython",
    "version": 3
   },
   "file_extension": ".py",
   "mimetype": "text/x-python",
   "name": "python",
   "nbconvert_exporter": "python",
   "pygments_lexer": "ipython3",
   "version": "3.9.7"
  }
 },
 "nbformat": 4,
 "nbformat_minor": 5
}
