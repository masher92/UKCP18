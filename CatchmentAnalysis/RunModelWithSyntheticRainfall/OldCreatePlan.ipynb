{
 "cells": [
  {
   "cell_type": "markdown",
   "id": "b0e9ff88",
   "metadata": {},
   "source": [
    "## Edit the plan\n",
    "Read in the plan to a string"
   ]
  },
  {
   "cell_type": "code",
   "execution_count": 139,
   "id": "65c05bc8",
   "metadata": {},
   "outputs": [],
   "source": [
    "with open('../../FloodModelling/Megans Model/DissModel.u09') as f:\n",
    "    contents = f.read()"
   ]
  },
  {
   "cell_type": "markdown",
   "id": "e97d74f6",
   "metadata": {},
   "source": [
    "### Read in precipitation values which we want to insert into the string"
   ]
  },
  {
   "cell_type": "code",
   "execution_count": 192,
   "id": "ff985cc0",
   "metadata": {},
   "outputs": [],
   "source": [
    "precip = pd.read_csv(\"CreateSyntheticRainfallEvents/MultiplePeaks/PostLossRemoval/6h/6h_single-peak_urban.csv\")\n",
    "precip = precip['Total net rain mm (Observed rainfall - 05/04/2022) - urbanised model']\n",
    "precip= precip[0:361]"
   ]
  },
  {
   "cell_type": "markdown",
   "id": "1b61ac8d",
   "metadata": {},
   "source": [
    "### Read in the precipitation values from the plan to a list"
   ]
  },
  {
   "cell_type": "code",
   "execution_count": 230,
   "id": "ba76b5bf",
   "metadata": {},
   "outputs": [],
   "source": [
    "start=contents.find('Precipitation Hydrograph= 361')+len('Precipitation Hydrograph= 361')     \n",
    "end=contents.find('DSS Path') \n",
    "precip_values = contents[start:end]"
   ]
  },
  {
   "cell_type": "markdown",
   "id": "6a88d9d1",
   "metadata": {},
   "source": [
    "### Define a string which contains the precipitation values, with the numbers replaced with placeholders"
   ]
  },
  {
   "cell_type": "code",
   "execution_count": 222,
   "id": "0b259cb8",
   "metadata": {},
   "outputs": [],
   "source": [
    "new_precip_values = precip_values#.copy()\n",
    "# loop for all characters\n",
    "for ele in precip_values:\n",
    "    if ele.isdigit():\n",
    "        new_precip_values = new_precip_values.replace(ele, '{}')"
   ]
  },
  {
   "cell_type": "markdown",
   "id": "4d90c096",
   "metadata": {},
   "source": [
    "### Where number is more than one digit long it puts a place holder for each digit, replace with one placeholder per number"
   ]
  },
  {
   "cell_type": "code",
   "execution_count": 223,
   "id": "a9b90fd8",
   "metadata": {},
   "outputs": [],
   "source": [
    "new_precip_values = new_precip_values.replace('.{}{}{}', '{}')\n",
    "new_precip_values = new_precip_values.replace('.{}{}', '{}')"
   ]
  },
  {
   "cell_type": "markdown",
   "id": "f563f216",
   "metadata": {},
   "source": [
    "### Fill in our new precipitation values into the string"
   ]
  },
  {
   "cell_type": "code",
   "execution_count": 224,
   "id": "b7cf8312",
   "metadata": {},
   "outputs": [],
   "source": [
    "new_precip_values = new_precip_values.format(*precip)"
   ]
  },
  {
   "cell_type": "markdown",
   "id": "0b12ea24",
   "metadata": {},
   "source": [
    "### Add the new precipitation values to the whole string"
   ]
  },
  {
   "cell_type": "code",
   "execution_count": 228,
   "id": "49644a38",
   "metadata": {},
   "outputs": [],
   "source": [
    "newcontents = contents.replace(precip_values,new_precip_values)"
   ]
  },
  {
   "cell_type": "markdown",
   "id": "b67b6038",
   "metadata": {},
   "source": [
    "### Save to text file"
   ]
  },
  {
   "cell_type": "code",
   "execution_count": 231,
   "id": "499e9bab",
   "metadata": {},
   "outputs": [],
   "source": [
    "with open('../../FloodModelling/Megans Model/DissModel.u11', 'w') as f:\n",
    "    f.write(contents)"
   ]
  },
  {
   "cell_type": "code",
   "execution_count": 32,
   "id": "279515d8",
   "metadata": {},
   "outputs": [
    {
     "data": {
      "text/plain": [
       "'Z:\\\\nfs_folder\\\\PhD\\\\Scripts\\\\CatchmentAnalysis'"
      ]
     },
     "execution_count": 32,
     "metadata": {},
     "output_type": "execute_result"
    }
   ],
   "source": [
    "# import win32com.client7\n",
    "from win32com.client import Dispatch\n",
    "import os\n",
    "import numpy as np\n",
    "import math \n",
    "import pandas as pd\n",
    "import scipy as sc \n",
    "from scipy.stats import pearsonr\n",
    "from datetime import datetime \n",
    "start = datetime.now\n",
    "os.getcwd()"
   ]
  }
 ],
 "metadata": {
  "kernelspec": {
   "display_name": "Python 3 (ipykernel)",
   "language": "python",
   "name": "python3"
  },
  "language_info": {
   "codemirror_mode": {
    "name": "ipython",
    "version": 3
   },
   "file_extension": ".py",
   "mimetype": "text/x-python",
   "name": "python",
   "nbconvert_exporter": "python",
   "pygments_lexer": "ipython3",
   "version": "3.7.13"
  }
 },
 "nbformat": 4,
 "nbformat_minor": 5
}
