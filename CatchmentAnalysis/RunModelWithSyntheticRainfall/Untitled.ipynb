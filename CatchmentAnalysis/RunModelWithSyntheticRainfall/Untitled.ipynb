{
 "cells": [
  {
   "cell_type": "code",
   "execution_count": 1,
   "id": "c2f7218c",
   "metadata": {},
   "outputs": [
    {
     "ename": "ModuleNotFoundError",
     "evalue": "No module named 'pyHMT2D'",
     "output_type": "error",
     "traceback": [
      "\u001b[0;31m---------------------------------------------------------------------------\u001b[0m",
      "\u001b[0;31mModuleNotFoundError\u001b[0m                       Traceback (most recent call last)",
      "\u001b[0;32m/tmp/ipykernel_137703/523324497.py\u001b[0m in \u001b[0;36m<module>\u001b[0;34m\u001b[0m\n\u001b[0;32m----> 1\u001b[0;31m \u001b[0;32mimport\u001b[0m \u001b[0mpyHMT2D\u001b[0m\u001b[0;34m\u001b[0m\u001b[0;34m\u001b[0m\u001b[0m\n\u001b[0m\u001b[1;32m      2\u001b[0m \u001b[0;32mimport\u001b[0m \u001b[0minspect\u001b[0m\u001b[0;34m\u001b[0m\u001b[0;34m\u001b[0m\u001b[0m\n",
      "\u001b[0;31mModuleNotFoundError\u001b[0m: No module named 'pyHMT2D'"
     ]
    }
   ],
   "source": [
    "import pyHMT2D\n",
    "import inspect"
   ]
  },
  {
   "cell_type": "code",
   "execution_count": null,
   "id": "cde3ada6",
   "metadata": {},
   "outputs": [],
   "source": [
    "# Create a HEC-RAS model instance\n",
    "my_hec_ras_model = pyHMT2D.RAS_2D.HEC_RAS_Model(version=\"6.1.0\", faceless=False)\n",
    "\n",
    "# Initialize the HEC-RAS model\n",
    "my_hec_ras_model.init_model()\n",
    "\n",
    "# Open a HEC-RAS project\n",
    "my_hec_ras_model.open_project(\"Y:\\PhD\\FloodModelling\\MeganModel_new\\DissModel.prj\",\n",
    "                             \"Y:\\PhD\\FloodModelling\\MeganModel_new\\ResampledTerrain.tif\")\n",
    "\n",
    "# Set the plan file\n",
    "my_hec_ras_model.set_current_plan('6h_divide-time')\n",
    "my_hec_ras_model.get_current_planFile()\n",
    "\n",
    "# Run the HEC-RAS model's current project\n",
    "my_hec_ras_model.run_model()\n",
    "\n",
    "# Close the HEC-RAS project\n",
    "my_hec_ras_model.close_project()\n",
    "\n",
    "# Quit HEC-RAS\n",
    "my_hec_ras_model.exit_model()"
   ]
  }
 ],
 "metadata": {
  "kernelspec": {
   "display_name": "Python 3 (ipykernel)",
   "language": "python",
   "name": "python3"
  },
  "language_info": {
   "codemirror_mode": {
    "name": "ipython",
    "version": 3
   },
   "file_extension": ".py",
   "mimetype": "text/x-python",
   "name": "python",
   "nbconvert_exporter": "python",
   "pygments_lexer": "ipython3",
   "version": "3.7.13"
  }
 },
 "nbformat": 4,
 "nbformat_minor": 5
}
