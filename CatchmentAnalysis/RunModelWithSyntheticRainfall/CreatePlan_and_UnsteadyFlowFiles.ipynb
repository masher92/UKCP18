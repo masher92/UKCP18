{
 "cells": [
  {
   "cell_type": "markdown",
   "id": "33656e60",
   "metadata": {},
   "source": [
    "# Creating Hec-Ras plan and Unsteady flow files\n",
    "This script was initially designed to create the Plan and Unsteady flow files required as an input to Hec-Ras. It did this by using a template of the structure of each of these files, and filling in the relevant scenario name and precipitation values. \n",
    "\n",
    "However, this didn't work as even those these text files appeared to be identical to those produced by Hec-Ras they were not being recognised. I think this is something to do with the fact that when you produce the files in Hec-Ras it stores some internal reference to the name of the scenario, which if doesn't exist then it doesn't think to look for the files (although, not sure if this is correct or not).  \n",
    "\n",
    "So, instead reverted to creating unsteady flow and plan files from within Hec-Ras. This script does contain a code cell for reading the unsteady flow files produced in Hec-Ras and checking them against the precipitation data read in from file to ensure it is the correct data."
   ]
  },
  {
   "cell_type": "markdown",
   "id": "5a87e988",
   "metadata": {},
   "source": [
    "#### Code initialisation"
   ]
  },
  {
   "cell_type": "code",
   "execution_count": 7,
   "id": "0267a65b",
   "metadata": {},
   "outputs": [],
   "source": [
    "import pandas as pd \n",
    "from math import log10, floor\n",
    "import re\n",
    "import os\n",
    "\n",
    "model_directory ='../../../FloodModelling/MeganModel_v3 - Copy'"
   ]
  },
  {
   "cell_type": "markdown",
   "id": "55dd3465",
   "metadata": {},
   "source": [
    "#### Functions for producing the files"
   ]
  },
  {
   "cell_type": "code",
   "execution_count": 2,
   "id": "b4df181e",
   "metadata": {},
   "outputs": [],
   "source": [
    "def round_sig(x, sig=7):\n",
    "    if x == 0:\n",
    "        return 0\n",
    "    elif x <0.1:\n",
    "        return round(x,sig)\n",
    "    else: \n",
    "        return round(x, sig-int(floor(log10(abs(x))))-1)\n",
    "\n",
    "def format_number(x):\n",
    "    if x == 0:\n",
    "        return '0       '\n",
    "    else:\n",
    "        str_x = format(x, '.7f')\n",
    "        str_x = str_x.lstrip('0')\n",
    "        if x>1:\n",
    "            str_x = ' ' + str_x\n",
    "        return str_x\n",
    "\n",
    "def create_unsteady_flow_file (template_fp, precip_fp, output_fp, flow_title):\n",
    "    \n",
    "    with open(template_fp) as f:\n",
    "        contents = f.read()\n",
    "\n",
    "    ### Read in precipitation values which we want to insert into the string\n",
    "    precip = pd.read_csv(precip_fp)\n",
    "    precip = precip['Total net rain mm (Observed rainfall - 01/08/2022) - urbanised model']\n",
    "    precip= precip[0:360]\n",
    "    precip = precip.apply(round_sig)\n",
    "    precip = precip.apply(format_number)\n",
    "    precip = precip.str.cat(sep='')\n",
    "    precip = re.sub(\"(.{80})\", \"\\\\1\\n\", precip, 0, re.DOTALL)\n",
    "\n",
    "    ### Add the new precipitation values to the whole string\n",
    "    contents = contents.replace('precip_values', precip)\n",
    "    \n",
    "    # Replace flow title\n",
    "    if '6h' not in flow_title:\n",
    "        flow_title = '6h_Cluster{}'.format(flow_title)\n",
    "    contents = contents.replace(\"flow_title\", flow_title)\n",
    "    \n",
    "    ### Save to text file\n",
    "    with open(output_fp, 'w') as f:\n",
    "        f.write(contents)\n",
    "\n",
    "def create_plan (plan_title, short_identifier, unsteadyflow_file, output_fp):\n",
    "    # Read file\n",
    "    with open(model_directory + 'DissModel.p01') as f:\n",
    "        contents = f.read()\n",
    "    if '6h' not in plan_title:\n",
    "        plan_title = '6h_Cluster{}'.format(plan_title)\n",
    "\n",
    "    # Replace the variable with the correct values\n",
    "    contents = contents.replace(\"6h_single-peak\", plan_title)\n",
    "    contents = contents.replace(\"6h_sp\", short_identifier)\n",
    "    contents = contents.replace(\"u01\", unsteadyflow_file.split('DissModel.')[1])\n",
    "    \n",
    "    ### Save to text file\n",
    "    with open(output_fp, 'w') as f:\n",
    "        f.write(contents)"
   ]
  },
  {
   "cell_type": "markdown",
   "id": "0fdf1429",
   "metadata": {},
   "source": [
    "#### Code to produce the unsteady flow and plan files \n",
    "Now redundant as the files produced aren't recognised by Hec-Ras"
   ]
  },
  {
   "cell_type": "code",
   "execution_count": 23,
   "id": "6f24165c",
   "metadata": {},
   "outputs": [],
   "source": [
    "# short_ids = ['6h_sp', '6h_dt', '6h_spt', '6h_ms', '6h_c1','6h_c2','6h_c3','6h_c4', '6h_c5', '6h_c6','6h_c7',\n",
    "#              '6h_c8','6h_c9','6h_c10', '6h_c11', '6h_c12','6h_c13','6h_c14','6h_c15',]   \n",
    "# methods = ['6h_single-peak', '6h_divide-time', '6h_subpeak-timing', '6h_max-spread', '1', '2', '3', '4', '5',\n",
    "#            '6', '7', '8', '9','10', '11', '12', '13', '14', '15']  \n",
    "\n",
    "# template_fp =  model_directory + '/template_unsteadyflowfile.txt'\n",
    "\n",
    "# for method_number, method in enumerate(methods, start=1):\n",
    "#     # Read the precipitation data for this method\n",
    "#     print(method)\n",
    "#     if '6h' in method:\n",
    "#         precip_file = \"../CreateSyntheticRainfallEvents/MultiplePeaks/PostLossRemoval/6h/{}_urban.csv\".format(method)\n",
    "#     else:\n",
    "#         precip_file = \"../CreateSyntheticRainfallEvents/RobertoProfiles/PostLossRemoval/6hr_100yrRP/cluster{}_urban_summer.csv\".format(method)\n",
    "    \n",
    "#     # Define filepaths to save the unsteady flow file and plan file to\n",
    "#     if method_number <10:\n",
    "#         unsteadyflow_output_fp = model_directory + '/DissModel.u0{}'.format(method_number)\n",
    "#         plan_output_fp =model_directory + 'DissModel.p0{}'.format(method_number)\n",
    "#     else:\n",
    "#         unsteadyflow_output_fp = model_directory + 'DissModel.u{}'.format(method_number)\n",
    "#         plan_output_fp = model_directory + 'DissModel.p{}'.format(method_number)\n",
    "        \n",
    "#     # Define the unsteady flow file number (used as an input to the plan)\n",
    "#     unsteadyflow_file_number = 'u0{}'.format(method_number)\n",
    "#     if method != '6h_single-peak':\n",
    "#         # Create unsteady flow and then create the plan\n",
    "#         create_unsteady_flow_file(template_fp, precip_file, unsteadyflow_output_fp, method)\n",
    "# #         create_plan(method, short_ids[method_number-1], unsteadyflow_output_fp, plan_output_fp)\n"
   ]
  },
  {
   "cell_type": "markdown",
   "id": "7d752818",
   "metadata": {},
   "source": [
    "## Cross checking unsteady flow files against precipitation data"
   ]
  },
  {
   "cell_type": "code",
   "execution_count": 353,
   "id": "0d007fbd",
   "metadata": {},
   "outputs": [
    {
     "name": "stdout",
     "output_type": "stream",
     "text": [
      "01 single-peak 2 0\n",
      "02 divide-time 0 0\n",
      "03 subpeak-timing 1 0\n",
      "04 max-spread 0 0\n",
      "05 cluster1 2 0\n",
      "06 cluster2 2 0\n",
      "07 cluster3 4 0\n",
      "08 cluster4 2 0\n",
      "09 cluster5 2 0\n",
      "10 cluster6 0 0\n",
      "11 cluster7 0 0\n",
      "12 cluster8 2 0\n",
      "13 cluster9 1 0\n",
      "14 cluster10 2 0\n",
      "15 cluster11 1 0\n",
      "16 cluster12 2 0\n",
      "17 cluster13 0 0\n",
      "18 cluster14 1 0\n",
      "19 cluster15 1 0\n"
     ]
    }
   ],
   "source": [
    "for method_number in range(1,20):\n",
    "    # Zero pad single digit numbers\n",
    "    if len(str(method_number))==1:\n",
    "        method_number = str(method_number).zfill(2)\n",
    "    \n",
    "    # Read in the unsteady flow file being used in Hec-Ras\n",
    "    with open(model_directory + '/DissModel.u{}'.format(method_number)) as f:\n",
    "        lines = f.read()\n",
    "        \n",
    "    # Extract the precipitation values to a list\n",
    "    # Slight variations in formatting which have to be dealt with\n",
    "    start=lines.find('Precipitation Hydrograph= 360')+len('Precipitation Hydrograph= 360')     \n",
    "    end=lines.find('DSS Path') \n",
    "    hecras_precip_values = lines[start:end]\n",
    "    hecras_precip_values = hecras_precip_values.replace('\\n', ' ')\n",
    "    hecras_precip_values = hecras_precip_values.replace('  ', '', 1)\n",
    "    if hecras_precip_values.startswith(' '):\n",
    "        hecras_precip_values = hecras_precip_values.replace(' ', '', 1)\n",
    "    hecras_precip_values = wrap(hecras_precip_values, 8)\n",
    "    hecras_precip_values\n",
    "    \n",
    "    # Read in precipitation value from file\n",
    "    flow_title = lines[lines.find('6h_')+len('6h_'):lines.find('\\n')].replace('C', 'c')\n",
    "    if method_number in ['01','02','03','04']:\n",
    "        precip_data =pd.read_csv(\"../CreateSyntheticRainfallEvents/MultiplePeaks/PostLossRemoval/6h/6h_{}_urban.csv\".format(flow_title)) \n",
    "    else:\n",
    "        precip_data =pd.read_csv(\"../CreateSyntheticRainfallEvents/RobertoProfiles/PostLossRemoval/6hr_100yrRP/{}_urban_summer.csv\".format(flow_title))\n",
    "    # Select the relevant column and round the data\n",
    "    precip_data = round(precip_data['Total net rain mm (Observed rainfall - 01/08/2022) - urbanised model'][:360],5)\n",
    "\n",
    "    # Check if each value is the same\n",
    "    # realFalses allows for slight differences in rounding\n",
    "    Falses = []\n",
    "    realFalses = []\n",
    "    for i in range(0,360):\n",
    "        if precip_data[i] != round(float(hecras_precip_values[i]),5):\n",
    "            Falses.append(i)\n",
    "            if abs(precip_data[i] - round(float(hecras_precip_values[i]),5)) > 0.001:\n",
    "                realFalses.append(i)\n",
    "    print(method_number, flow_title, len(Falses), len(realFalses))"
   ]
  }
 ],
 "metadata": {
  "kernelspec": {
   "display_name": "Python 3 (ipykernel)",
   "language": "python",
   "name": "python3"
  },
  "language_info": {
   "codemirror_mode": {
    "name": "ipython",
    "version": 3
   },
   "file_extension": ".py",
   "mimetype": "text/x-python",
   "name": "python",
   "nbconvert_exporter": "python",
   "pygments_lexer": "ipython3",
   "version": "3.9.7"
  }
 },
 "nbformat": 4,
 "nbformat_minor": 5
}
