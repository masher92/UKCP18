version https://git-lfs.github.com/spec/v1
oid sha256:27e10957f61a647be0022e3282bd52012f0bd89c2f95433b9ba1c9cbc94964e6
size 173103
