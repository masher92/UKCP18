{
 "cells": [
  {
   "cell_type": "code",
   "execution_count": 10,
   "id": "60b2e64f",
   "metadata": {},
   "outputs": [],
   "source": [
    "import pandas as pd\n",
    "import numpy as np\n",
    "import geopandas as gpd\n",
    "import rasterio\n",
    "from rasterio.mask import mask\n",
    "\n",
    "warnings.simplefilter(action='ignore', category=FutureWarning)"
   ]
  },
  {
   "cell_type": "code",
   "execution_count": 2,
   "id": "13a56af7",
   "metadata": {},
   "outputs": [],
   "source": [
    "catchment_name = 'LinDyke'"
   ]
  },
  {
   "cell_type": "code",
   "execution_count": 3,
   "id": "74424fd6",
   "metadata": {},
   "outputs": [],
   "source": [
    "model_directory = '../../../FloodModelling/{}Models/Model_{}Profiles/'.format(catchment_name, 'Observed')"
   ]
  },
  {
   "cell_type": "code",
   "execution_count": 4,
   "id": "510fff71",
   "metadata": {},
   "outputs": [],
   "source": [
    "def open_and_clip_to_catchment (input_fp, catchment_gdf, crop_or_not):\n",
    "    # Get the results, and mask out values not within the geodataframe\n",
    "    with rasterio.open(input_fp) as src:\n",
    "        catchment_gdf=catchment_gdf.to_crs(src.crs)\n",
    "        out_image, out_transform=mask(src,catchment_gdf.geometry,crop=crop_or_not)\n",
    "        out_meta=src.meta.copy() # copy the metadata of the source DEM\n",
    "        raster = out_image[0]\n",
    "        # Set -9999 to np.nan\n",
    "        raster = raster.astype('float') \n",
    "        raster[raster <= -9999] = np.nan\n",
    "        raster[raster == 0] = np.nan\n",
    "        raster[raster ==-2147483648] = np.nan\n",
    "    # Update to match     \n",
    "    out_meta.update({\"nodata\":np.nan,\"dtype\" :'float64', \"driver\":\"Gtiff\", \"height\":out_image.shape[1], # height starts with shape[1]\n",
    "        \"width\":out_image.shape[2], # width starts with shape[2]\n",
    "        \"transform\":out_transform})\n",
    "    \n",
    "    return raster, out_meta   "
   ]
  },
  {
   "cell_type": "markdown",
   "id": "ea61c591",
   "metadata": {},
   "source": [
    "## Get catchment data"
   ]
  },
  {
   "cell_type": "code",
   "execution_count": 5,
   "id": "7c237162",
   "metadata": {},
   "outputs": [],
   "source": [
    "if catchment_name == 'LinDyke':\n",
    "    catchment_gdf = gpd.read_file(model_directory + 'CatchmentLinDyke_exported.shp')\n",
    "    \n",
    "elif catchment_name == 'WykeBeck':\n",
    "    catchment_gdf = gpd.read_file(model_directory + 'WykeBeckCatchment.shp')"
   ]
  },
  {
   "cell_type": "code",
   "execution_count": 6,
   "id": "ac98797d",
   "metadata": {},
   "outputs": [],
   "source": [
    "method = '6h_sp_bl_0.6'\n",
    "timeslice1_fp = '../../../FloodModelling/LinDykeModels/Model_IdealisedProfiles/{}/Depth (01AUG2022 13 01 00).Resampled.Terrain.tif'.format(method)\n",
    "timeslice2_fp = '../../../FloodModelling/LinDykeModels/Model_IdealisedProfiles/{}/Depth (01AUG2022 15 01 00).Resampled.Terrain.tif'.format(method)\n",
    "timeslice3_fp = '../../../FloodModelling/LinDykeModels/Model_IdealisedProfiles/{}/Depth (01AUG2022 19 01 00).Resampled.Terrain.tif'.format(method)\n",
    "timeslice4_fp = '../../../FloodModelling/LinDykeModels/Model_IdealisedProfiles/{}/Depth (01AUG2022 23 01 00).Resampled.Terrain.tif'.format(method)\n",
    "timeslice5_fp = '../../../FloodModelling/LinDykeModels/Model_IdealisedProfiles/{}/Depth (02AUG2022 05 00 00).Resampled.Terrain.tif'.format(method)\n",
    "timeslice6_fp = '../../../FloodModelling/LinDykeModels/Model_IdealisedProfiles/{}/Depth (02AUG2022 13 00 00).Resampled.Terrain.tif'.format(method)\n",
    "timeslice7_fp = '../../../FloodModelling/LinDykeModels/Model_IdealisedProfiles/{}/Depth (02AUG2022 19 00 00).Resampled.Terrain.tif'.format(method)\n",
    "timeslice8_fp = '../../../FloodModelling/LinDykeModels/Model_IdealisedProfiles/{}/Depth (03AUG2022 03 00 00).Resampled.Terrain.tif'.format(method)\n",
    "timeslice9_fp = '../../../FloodModelling/LinDykeModels/Model_IdealisedProfiles/{}/Depth (03AUG2022 13 00 00).Resampled.Terrain.tif'.format(method)\n",
    "timeslice10_fp = '../../../FloodModelling/LinDykeModels/Model_IdealisedProfiles/{}/Depth (03AUG2022 19 00 00).Resampled.Terrain.tif'.format(method)"
   ]
  },
  {
   "cell_type": "code",
   "execution_count": 11,
   "id": "465f53b5",
   "metadata": {},
   "outputs": [],
   "source": [
    "timeslice1, out_meta  = open_and_clip_to_catchment(timeslice1_fp, catchment_gdf, True)\n",
    "timeslice2, out_meta  = open_and_clip_to_catchment(timeslice2_fp, catchment_gdf, True)\n",
    "timeslice3, out_meta  = open_and_clip_to_catchment(timeslice3_fp, catchment_gdf, True)\n",
    "timeslice4, out_meta  = open_and_clip_to_catchment(timeslice4_fp, catchment_gdf, True)\n",
    "timeslice5, out_meta  = open_and_clip_to_catchment(timeslice5_fp, catchment_gdf, True)\n",
    "timeslice6, out_meta  = open_and_clip_to_catchment(timeslice6_fp, catchment_gdf, True)\n",
    "timeslice7, out_meta  = open_and_clip_to_catchment(timeslice7_fp, catchment_gdf, True)\n",
    "timeslice8, out_meta  = open_and_clip_to_catchment(timeslice8_fp, catchment_gdf, True)\n",
    "timeslice9, out_meta  = open_and_clip_to_catchment(timeslice9_fp, catchment_gdf, True)\n",
    "timeslice10, out_meta  = open_and_clip_to_catchment(timeslice10_fp, catchment_gdf, True)"
   ]
  },
  {
   "cell_type": "code",
   "execution_count": 12,
   "id": "4679e5af",
   "metadata": {},
   "outputs": [
    {
     "data": {
      "text/plain": [
       "array([[nan, nan, nan, ..., nan, nan, nan],\n",
       "       [nan, nan, nan, ..., nan, nan, nan],\n",
       "       [nan, nan, nan, ..., nan, nan, nan],\n",
       "       ...,\n",
       "       [nan, nan, nan, ..., nan, nan, nan],\n",
       "       [nan, nan, nan, ..., nan, nan, nan],\n",
       "       [nan, nan, nan, ..., nan, nan, nan]])"
      ]
     },
     "execution_count": 12,
     "metadata": {},
     "output_type": "execute_result"
    }
   ],
   "source": [
    "timeslice1"
   ]
  }
 ],
 "metadata": {
  "kernelspec": {
   "display_name": "Python 3 (ipykernel)",
   "language": "python",
   "name": "python3"
  },
  "language_info": {
   "codemirror_mode": {
    "name": "ipython",
    "version": 3
   },
   "file_extension": ".py",
   "mimetype": "text/x-python",
   "name": "python",
   "nbconvert_exporter": "python",
   "pygments_lexer": "ipython3",
   "version": "3.9.7"
  }
 },
 "nbformat": 4,
 "nbformat_minor": 5
}
