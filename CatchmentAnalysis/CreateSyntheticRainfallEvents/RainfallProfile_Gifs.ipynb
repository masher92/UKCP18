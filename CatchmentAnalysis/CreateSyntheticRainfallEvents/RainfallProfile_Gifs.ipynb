version https://git-lfs.github.com/spec/v1
oid sha256:0180e946a528a30b5d2f749158c782e1273690972ee5efe2953f2443d8a27ff6
size 261777
