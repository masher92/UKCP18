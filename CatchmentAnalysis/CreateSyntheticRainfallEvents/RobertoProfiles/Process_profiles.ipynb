{
 "cells": [
  {
   "cell_type": "code",
   "execution_count": 3,
   "id": "3bbf535a",
   "metadata": {
    "scrolled": false
   },
   "outputs": [
    {
     "data": {
      "text/plain": [
       "'Z:\\\\nfs_folder\\\\PhD\\\\Scripts\\\\CatchmentAnalysis\\\\CreateSyntheticRainfallEvents\\\\RobertoProfiles'"
      ]
     },
     "execution_count": 3,
     "metadata": {},
     "output_type": "execute_result"
    }
   ],
   "source": [
    "import os\n",
    "import pandas as pd\n",
    "import matplotlib.pyplot as plt\n",
    "from scipy.interpolate import interp1d\n",
    "import datetime\n",
    "os.getcwd()\n",
    "# os.chdir(\"/nfs/a319/gy17m2a/PhD/Scripts/CatchmentAnalysis/CreateSyntheticRainfallEvents/RobertoProfiles\")"
   ]
  },
  {
   "cell_type": "markdown",
   "id": "26812268",
   "metadata": {},
   "source": [
    "### Define total event rainfall for 6h duration, 100 year return period event in Lin Dyke"
   ]
  },
  {
   "cell_type": "code",
   "execution_count": 4,
   "id": "d7568a87",
   "metadata": {
    "scrolled": false
   },
   "outputs": [],
   "source": [
    "total_event_rainfall = 59.98"
   ]
  },
  {
   "cell_type": "code",
   "execution_count": 171,
   "id": "eed81dd1",
   "metadata": {
    "scrolled": false
   },
   "outputs": [],
   "source": [
    "# Read in profiles\n",
    "profiles = pd.read_csv(\"kmeans_15clustersPerDur.csv\")\n",
    "# Just keep prain\n",
    "profiles = profiles[profiles['Variable'] == 'prain']"
   ]
  },
  {
   "cell_type": "markdown",
   "id": "84b4d27c",
   "metadata": {},
   "source": [
    "### Get rainfall depth in each time step"
   ]
  },
  {
   "cell_type": "code",
   "execution_count": 319,
   "id": "bc82693d",
   "metadata": {
    "scrolled": false
   },
   "outputs": [],
   "source": [
    "def find_rainfall_depth_each_min(cluster_number, duration_bin):\n",
    "    \n",
    "    profiles_this_dur_bin = profiles[profiles['Duration'] ==duration_bin]\n",
    "    # Get just for cluster one\n",
    "    one_cluster = profiles_this_dur_bin[profiles_this_dur_bin['Cluster'] ==cluster_number]\n",
    "    # Put into correct order\n",
    "    one_cluster = one_cluster.sort_values(by=['Dur_bins'])\n",
    "    # Remove the initial 0 value\n",
    "    one_cluster = one_cluster[1:-1]\n",
    "    # Reset index\n",
    "    one_cluster.reset_index(inplace=True, drop=True)\n",
    "    # Find the actual rainfall in each timestep, by multiplying by the total event rainfall for Lin Dyke\n",
    "    one_cluster['rainfall_this_dur_bin'] = one_cluster['Mean'] * total_event_rainfall\n",
    "    # Add a column with the cumulative totals\n",
    "    one_cluster['cumulative_rainfall_this_dur_bin'] =  one_cluster['rainfall_this_dur_bin'].cumsum()\n",
    "    \n",
    "    # Set the value for each of the original timesteps as one 30th of the original value\n",
    "    one_cluster['rainfall_depth_this_min'] = one_cluster['rainfall_this_dur_bin']/30\n",
    "    # Then repeat this 30 times (so the value which was originally over 30 minutes, is now split equally 1/30th in each minute)\n",
    "    one_cluster.reset_index(inplace=True, drop = True)\n",
    "    one_cluster= one_cluster.loc[one_cluster.index.repeat(30)].reset_index(drop=True)\n",
    "    \n",
    "    # Drop unneeded columns\n",
    "    one_cluster = one_cluster.drop([\"Cluster\", \"Dur_bins\", \"Variable\", \"Duration\", \"Profile_shape\", \"Cluster_id\", \"Mean\"], axis =1)\n",
    "    \n",
    "    # Add a starting and ending 0 value\n",
    "    new_row = pd.DataFrame(dict(zip(one_cluster.columns.values, [0,0,0])), index = [0])\n",
    "    one_cluster = pd.concat([new_row,one_cluster.loc[:],new_row]).reset_index(drop=True)\n",
    "    \n",
    "    # Add a new minutes column\n",
    "    one_cluster.insert(0, 'minute', range(1,len(one_cluster)+1))\n",
    "    \n",
    "    # Add a column with the cumulative totals\n",
    "    one_cluster['cumulative_rainfall_this_min'] =  one_cluster['rainfall_depth_this_min'].cumsum()\n",
    "\n",
    "    # Keep just minute-ly values\n",
    "    one_cluster = one_cluster.drop(['rainfall_this_dur_bin', 'cumulative_rainfall_this_dur_bin'],axis=1) \n",
    "    \n",
    "    return one_cluster\n",
    "\n",
    "\n",
    "def plot_rainfall_depth_each_min(cluster, variable):\n",
    "    fig, (ax1, ax2) = plt.subplots(1, 2, figsize =(12,6))\n",
    "    #fig.suptitle('Horizontally stacked subplots')\n",
    "    ax1.plot(cluster1['minute'], cluster1['rainfall_depth_this_min'])\n",
    "    ax1.set_xlabel(\"minute\")\n",
    "    ax1.set_ylabel(\"Rainfall depth (mm)\")\n",
    "    ax1.title.set_text(\"Rainfall depth (mm)\")\n",
    "    \n",
    "    ax2.plot(cluster1['minute'], cluster1['cumulative_rainfall_this_min'])\n",
    "    ax2.set_ylabel(\"cumulative rainfall depth (mm)\")\n",
    "    ax2.set_xlabel(\"minutes\")\n",
    "    ax2.title.set_text(\"Cumulative rainfall depth (mm)\")"
   ]
  },
  {
   "cell_type": "markdown",
   "id": "b75e7e8b",
   "metadata": {},
   "source": [
    "### Add the rainfall depth at each minute \n",
    "Equally divide the rainfall depth over 30 minutes into 1 minute intervals "
   ]
  },
  {
   "cell_type": "code",
   "execution_count": 317,
   "id": "56ad56fd",
   "metadata": {
    "scrolled": true
   },
   "outputs": [],
   "source": [
    "cluster1 = find_rainfall_depth_each_min(1,'[2:10 - 6:45) hr' )"
   ]
  },
  {
   "cell_type": "code",
   "execution_count": 320,
   "id": "262287f7",
   "metadata": {
    "scrolled": false
   },
   "outputs": [
    {
     "data": {
      "image/png": "[encoded data removed]",
      "text/plain": [
       "<Figure size 864x432 with 2 Axes>"
      ]
     },
     "metadata": {
      "needs_background": "light"
     },
     "output_type": "display_data"
    }
   ],
   "source": [
    "plot_rainfall_depth_each_min(cluster1, \"cumulative\")"
   ]
  },
  {
   "cell_type": "code",
   "execution_count": 323,
   "id": "e693498e",
   "metadata": {
    "scrolled": false
   },
   "outputs": [],
   "source": [
    "for cluster_number in range(1,16):\n",
    "    cluster = find_rainfall_depth_each_min(cluster_number,\"[2:10 - 6:45) hr\" )\n",
    "    cluster.to_csv(\"LinDykeProfiles/6hr_100yrRP/cluster{}.csv\".format(cluster_number), index = False)"
   ]
  },
  {
   "cell_type": "code",
   "execution_count": 206,
   "id": "dad32657",
   "metadata": {
    "scrolled": false
   },
   "outputs": [],
   "source": [
    "# # Create list to store the values for each interpolated minute\n",
    "# all_minutes_values = []\n",
    "# # \n",
    "# # Get the minute which each of the duration bisn refers to (is this sensical to assume these relate to a specific minutes?)\n",
    "# minutes = cluster['Dur_bins'] * 360\n",
    "\n",
    "# # Find the interpolated values?\n",
    "# y_interp = interp1d(minutes,cluster['rainfall_this_dur_bin'])\n",
    "\n",
    "# # Find the interpolated values corresponding to each minute\n",
    "# for i in range(0,360):\n",
    "#     all_minutes_values.append(y_interp(i))\n",
    "\n",
    "# # Save as dataframe\n",
    "# df = pd.DataFrame({'minute':range(0,360),\n",
    "#                    'values':all_minutes_values})\n",
    "\n",
    "\n",
    "# # plt.plot(df['minute'], df['values'], linestyle = 'solid')\n",
    "# plt.plot(cluster['Dur_bins'], cluster['rainfall_this_dur_bin'], linestyle = 'solid')"
   ]
  }
 ],
 "metadata": {
  "kernelspec": {
   "display_name": "Python 3 (ipykernel)",
   "language": "python",
   "name": "python3"
  },
  "language_info": {
   "codemirror_mode": {
    "name": "ipython",
    "version": 3
   },
   "file_extension": ".py",
   "mimetype": "text/x-python",
   "name": "python",
   "nbconvert_exporter": "python",
   "pygments_lexer": "ipython3",
   "version": "3.7.13"
  }
 },
 "nbformat": 4,
 "nbformat_minor": 5
}
