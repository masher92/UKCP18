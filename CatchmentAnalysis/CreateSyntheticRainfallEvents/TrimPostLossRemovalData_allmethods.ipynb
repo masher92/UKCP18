version https://git-lfs.github.com/spec/v1
oid sha256:221c1ec0633e7f5c2ee540876fb2b117059deb89b0eed1396a5c3fc5fd42a481
size 5491
