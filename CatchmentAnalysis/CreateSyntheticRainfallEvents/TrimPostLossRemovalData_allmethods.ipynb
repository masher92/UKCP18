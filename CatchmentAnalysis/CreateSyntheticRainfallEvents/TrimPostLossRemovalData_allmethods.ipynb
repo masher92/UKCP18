{
 "cells": [
  {
   "cell_type": "code",
   "execution_count": 2,
   "id": "cf4213e3",
   "metadata": {},
   "outputs": [],
   "source": [
    "import pandas as pd"
   ]
  },
  {
   "cell_type": "markdown",
   "id": "eb1d3bde",
   "metadata": {},
   "source": [
    "### Idealised Profiles"
   ]
  },
  {
   "cell_type": "code",
   "execution_count": 20,
   "id": "dd316f0c",
   "metadata": {},
   "outputs": [],
   "source": [
    "for method in ['6h_sp_fl_0.1', '6h_sp_fl_0.2', '6h_sp_fl_0.3', '6h_sp_fl_0.4','6h_sp_c_0.5',\n",
    "          '6h_sp_bl_0.6','6h_sp_bl_0.7','6h_sp_bl_0.8','6h_sp_bl_0.9']:\n",
    "    # Read in post loss removal rainfall rate\n",
    "    post_loss_removal = pd.read_csv('IdealisedProfiles/6hr_100yrRP/PostLossRemoval/{}_urban.csv'.format(method))\n",
    "    # Keep just first 361 minutes\n",
    "    post_loss_removal = post_loss_removal[:361]\n",
    "    post_loss_removal.to_csv('IdealisedProfiles/6hr_100yrRP/PostLossRemoval/{}_urban.csv'.format(method), index=False)"
   ]
  },
  {
   "cell_type": "markdown",
   "id": "2a4e81a5",
   "metadata": {},
   "source": [
    "### Idealised Profiles - drier antecedent conditions"
   ]
  },
  {
   "cell_type": "code",
   "execution_count": 3,
   "id": "51b4ffa4",
   "metadata": {},
   "outputs": [],
   "source": [
    "for method in ['6h_sp_fl_0.1', '6h_sp_fl_0.2', '6h_sp_fl_0.3', '6h_sp_fl_0.4','6h_sp_c_0.5',\n",
    "          '6h_sp_bl_0.6','6h_sp_bl_0.7','6h_sp_bl_0.8','6h_sp_bl_0.9']:\n",
    "    # Read in post loss removal rainfall rate\n",
    "    post_loss_removal = pd.read_csv('IdealisedProfiles/6hr_100yrRP/PostLossRemoval_jja_mean_15days/{}_urban.csv'.format(method))\n",
    "    # Keep just first 361 minutes\n",
    "    post_loss_removal = post_loss_removal[:361]\n",
    "    post_loss_removal.to_csv('IdealisedProfiles/6hr_100yrRP/PostLossRemoval_jja_mean_15days/{}_urban.csv'.format(method), index=False)"
   ]
  },
  {
   "cell_type": "markdown",
   "id": "4bc5fab0",
   "metadata": {},
   "source": [
    "### Idealised Profiles_Scaled"
   ]
  },
  {
   "cell_type": "markdown",
   "id": "f8a1928d",
   "metadata": {},
   "source": [
    "Don't need to do this stage because don't use ReFH2 to produce the post loss removal rainfall"
   ]
  },
  {
   "cell_type": "markdown",
   "id": "78b61080",
   "metadata": {},
   "source": [
    "### Single Peak_Scaled"
   ]
  },
  {
   "cell_type": "code",
   "execution_count": 40,
   "id": "7c09063a",
   "metadata": {},
   "outputs": [],
   "source": [
    "for percent_increase in ['0', '05','10','20','30']:\n",
    "    # Read in post loss removal rainfall rate\n",
    "    post_loss_removal = pd.read_csv(\"SinglePeak_Scaled/6hr_100yrRP/PostLossRemoval/6h_sp_+{}_urban.csv\".format(percent_increase))\n",
    "    # Keep just first 361 minutes\n",
    "    post_loss_removal = post_loss_removal[:361]\n",
    "    # Save\n",
    "    post_loss_removal.to_csv(\"SinglePeak_Scaled/6hr_100yrRP/PostLossRemoval/6h_sp_+{}_urban.csv\".format(percent_increase), index=False)"
   ]
  },
  {
   "cell_type": "markdown",
   "id": "14106b15",
   "metadata": {},
   "source": [
    "### Observed Profiles"
   ]
  },
  {
   "cell_type": "code",
   "execution_count": 31,
   "id": "9d4ca269",
   "metadata": {},
   "outputs": [],
   "source": [
    "for cluster_number in range(1,16):\n",
    "    # Read in post loss removal rainfall rate\n",
    "    post_loss_removal = pd.read_csv('ObservedProfiles/6hr_100yrRP/PostLossRemoval/cluster{}_urban_summer.csv'.format(cluster_number))\n",
    "    # Keep just first 361 minutes\n",
    "    post_loss_removal = post_loss_removal[:361]\n",
    "    # Save\n",
    "    post_loss_removal.to_csv(\"SinglePeak_Scaled/6hr_100yrRP/PostLossRemoval/6h_sp_+{}_urban.csv\".format(percent_increase), index=False)"
   ]
  },
  {
   "cell_type": "markdown",
   "id": "5a53cee9",
   "metadata": {},
   "source": [
    "### Synthetic Profiles"
   ]
  },
  {
   "cell_type": "code",
   "execution_count": 38,
   "id": "d92431b3",
   "metadata": {},
   "outputs": [],
   "source": [
    "for method in ['single-peak','divide-time','max-spread','subpeak-timing']:\n",
    "    # Read in post loss removal rainfall rate\n",
    "    post_loss_removal = pd.read_csv(\"SyntheticProfiles/6hr_100yrRP/PostLossRemoval/6h_{}_urban.csv\".format(method))\n",
    "    # Keep just first 361 minutes\n",
    "    post_loss_removal = post_loss_removal[:361]\n",
    "    # Save\n",
    "    post_loss_removal.to_csv(\"SyntheticProfiles/6hr_100yrRP/PostLossRemoval/6h_{}_urban.csv\".format(method), index=False)"
   ]
  },
  {
   "cell_type": "markdown",
   "id": "2c95e4fe",
   "metadata": {},
   "source": [
    "### ReFH2 Profiles"
   ]
  },
  {
   "cell_type": "markdown",
   "id": "b608d828",
   "metadata": {},
   "source": [
    "TO DO"
   ]
  }
 ],
 "metadata": {
  "kernelspec": {
   "display_name": "Python 3 (ipykernel)",
   "language": "python",
   "name": "python3"
  },
  "language_info": {
   "codemirror_mode": {
    "name": "ipython",
    "version": 3
   },
   "file_extension": ".py",
   "mimetype": "text/x-python",
   "name": "python",
   "nbconvert_exporter": "python",
   "pygments_lexer": "ipython3",
   "version": "3.9.7"
  }
 },
 "nbformat": 4,
 "nbformat_minor": 5
}
