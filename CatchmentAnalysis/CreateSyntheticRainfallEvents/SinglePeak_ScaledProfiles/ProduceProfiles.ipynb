version https://git-lfs.github.com/spec/v1
oid sha256:9dd717b583525376cfc06e2a39e7bfc2cd1c7e3e6668cd2ac8782a051dde08ab
size 103448
