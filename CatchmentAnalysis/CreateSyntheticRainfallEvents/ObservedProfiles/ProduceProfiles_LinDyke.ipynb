version https://git-lfs.github.com/spec/v1
oid sha256:b6b2483fef53919584dfbdbc99d42fb21ecdf2f88e1598d98deda0cc61d7a05d
size 429926
