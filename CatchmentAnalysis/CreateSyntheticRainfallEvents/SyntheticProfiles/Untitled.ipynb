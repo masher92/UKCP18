version https://git-lfs.github.com/spec/v1
oid sha256:2ac21568910cd7e65c0ad6d6843b253dcc20998816a7a4aa4a1cf6ace26427b3
size 69140
