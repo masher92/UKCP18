version https://git-lfs.github.com/spec/v1
oid sha256:d7ba606f62b4fca56634497a51975dc05de0c4d7b7ef93c67cd6884cbd3cae48
size 982362
