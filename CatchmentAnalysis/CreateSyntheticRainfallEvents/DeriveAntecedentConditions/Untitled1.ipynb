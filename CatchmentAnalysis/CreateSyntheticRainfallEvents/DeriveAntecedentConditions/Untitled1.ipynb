{
 "cells": [
  {
   "cell_type": "code",
   "execution_count": 1,
   "id": "81cbf428",
   "metadata": {},
   "outputs": [],
   "source": [
    "import numpy as np\n",
    "import os\n",
    "import glob\n",
    "import pandas as pd \n",
    "import matplotlib.pyplot as plt"
   ]
  },
  {
   "cell_type": "code",
   "execution_count": 2,
   "id": "e00d418b",
   "metadata": {},
   "outputs": [],
   "source": [
    "# Load the times related to the hourly data for each catchment grid cell \n",
    "times = np.load('RainfallData/times_jja.npy', allow_pickle=True)\n",
    "\n",
    "# Get a list of all the individual grid cell JJA .npy files\n",
    "jja_npy_files = glob.glob('RainfallData/*_jja.npy')\n",
    "jja_npy_files = jja_npy_files[:-2]\n",
    "\n",
    "# Create an array to store the daily values for all the grid cells in the catchment\n",
    "all_daily_sums = np. array([])\n",
    "\n",
    "# Add the daily data for each grid cell\n",
    "for file in jja_npy_files:\n",
    "    one_cell = np.load(file, allow_pickle = True)\n",
    "    df = pd.DataFrame({'Dates': pd.to_datetime(times), 'Precipitation': one_cell})\n",
    "    daily_sums = df.set_index('Dates').resample('D')['Precipitation'].sum()\n",
    "    all_daily_sums = np.append(all_daily_sums, daily_sums)"
   ]
  },
  {
   "cell_type": "code",
   "execution_count": 54,
   "id": "dd4add00",
   "metadata": {},
   "outputs": [],
   "source": [
    "# # Add the daily data for each grid cell\n",
    "# for file in jja_npy_files:\n",
    "#     one_cell = np.load(file, allow_pickle = True)\n",
    "#     df = pd.DataFrame({'Dates': pd.to_datetime(times), 'Precipitation': one_cell})\n",
    "#     daily_sums = df.set_index('Dates').resample('D')['Precipitation'].sum()\n",
    "#     print(np.mean(daily_sums))"
   ]
  },
  {
   "cell_type": "code",
   "execution_count": 4,
   "id": "64a84e76",
   "metadata": {},
   "outputs": [
    {
     "data": {
      "text/plain": [
       "5.199999809265137"
      ]
     },
     "execution_count": 4,
     "metadata": {},
     "output_type": "execute_result"
    }
   ],
   "source": [
    "# Find the mean daily precipitation values across the area covering the catchment \n",
    "np.mean(all_daily_sums)\n",
    "np.percentile(all_daily_sums, 97)\n",
    "# np.percentile(all_daily_sums, 90.5)\n",
    "# np.percentile(all_daily_sums, 25)"
   ]
  },
  {
   "cell_type": "code",
   "execution_count": 55,
   "id": "38f932c7",
   "metadata": {},
   "outputs": [
    {
     "data": {
      "text/plain": [
       "(array([1.60604e+05, 3.89600e+03, 1.59000e+03, 8.07000e+02, 5.30000e+02,\n",
       "        2.92000e+02, 1.48000e+02, 1.00000e+02, 1.07000e+02, 6.90000e+01,\n",
       "        4.70000e+01, 1.30000e+01, 3.30000e+01, 2.50000e+01, 6.00000e+00,\n",
       "        1.00000e+01, 9.00000e+00, 2.10000e+01, 9.00000e+00, 5.00000e+00]),\n",
       " array([ 0.        ,  3.23499985,  6.46999969,  9.70499954, 12.93999939,\n",
       "        16.17499924, 19.40999908, 22.64499893, 25.87999878, 29.11499863,\n",
       "        32.34999847, 35.58499832, 38.81999817, 42.05499802, 45.28999786,\n",
       "        48.52499771, 51.75999756, 54.99499741, 58.22999725, 61.4649971 ,\n",
       "        64.69999695]),\n",
       " <BarContainer object of 20 artists>)"
      ]
     },
     "execution_count": 55,
     "metadata": {},
     "output_type": "execute_result"
    },
    {
     "data": {
      "image/png": "[encoded data removed]",
      "text/plain": [
       "<Figure size 432x288 with 1 Axes>"
      ]
     },
     "metadata": {
      "needs_background": "light"
     },
     "output_type": "display_data"
    }
   ],
   "source": [
    "def unique(list1):\n",
    "    x = np.array(list1)\n",
    "    print(np.unique(x))\n",
    "    \n",
    "# unique(all_daily_sums)\n",
    "plt.hist(all_daily_sums, bins = 20)"
   ]
  }
 ],
 "metadata": {
  "kernelspec": {
   "display_name": "Python 3 (ipykernel)",
   "language": "python",
   "name": "python3"
  },
  "language_info": {
   "codemirror_mode": {
    "name": "ipython",
    "version": 3
   },
   "file_extension": ".py",
   "mimetype": "text/x-python",
   "name": "python",
   "nbconvert_exporter": "python",
   "pygments_lexer": "ipython3",
   "version": "3.7.13"
  }
 },
 "nbformat": 4,
 "nbformat_minor": 5
}
