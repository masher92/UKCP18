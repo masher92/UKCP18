version https://git-lfs.github.com/spec/v1
oid sha256:63df5e8d68c98a43cc368baa1738bc680db395ac7676c7b50060f46ab0da70c0
size 12746
