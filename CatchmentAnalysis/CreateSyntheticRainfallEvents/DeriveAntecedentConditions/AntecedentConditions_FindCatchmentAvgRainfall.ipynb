version https://git-lfs.github.com/spec/v1
oid sha256:bf760c9781340ac1582593cb38c87fe0a3ae6310323c0eb7969af792adf71ee6
size 9590
