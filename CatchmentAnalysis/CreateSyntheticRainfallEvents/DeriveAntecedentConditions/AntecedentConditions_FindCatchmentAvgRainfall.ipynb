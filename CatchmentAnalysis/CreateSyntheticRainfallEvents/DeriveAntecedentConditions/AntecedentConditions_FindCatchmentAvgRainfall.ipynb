{
 "cells": [
  {
   "cell_type": "code",
   "execution_count": 94,
   "id": "81cbf428",
   "metadata": {},
   "outputs": [],
   "source": [
    "import numpy as np\n",
    "import os\n",
    "import glob\n",
    "import pandas as pd \n",
    "import matplotlib.pyplot as plt"
   ]
  },
  {
   "cell_type": "code",
   "execution_count": 183,
   "id": "e00d418b",
   "metadata": {},
   "outputs": [],
   "source": [
    "# Load the times related to the hourly data for each catchment grid cell \n",
    "times = np.load('LinDykeRainfall/wholeyear/times.npy', allow_pickle=True)\n",
    "\n",
    "# Get a list of all the individual grid cell .npy files\n",
    "npy_files = glob.glob('LinDykeRainfall/wholeyear/*.npy')\n",
    "# get rid of times and the total\n",
    "npy_files = npy_files[2:]\n",
    "\n",
    "# Create an array to store the daily values for all the grid cells in the catchment\n",
    "all_daily_sums = np. array([])\n",
    "\n",
    "# Add the daily data for each grid cell\n",
    "for file in npy_files:\n",
    "    one_cell = np.load(file, allow_pickle = True)\n",
    "    df = pd.DataFrame({'Dates': pd.to_datetime(times), 'Precipitation': one_cell})\n",
    "    daily_sums = df.set_index('Dates').resample('D')['Precipitation'].sum()\n",
    "    all_daily_sums = np.append(all_daily_sums, daily_sums)"
   ]
  },
  {
   "cell_type": "code",
   "execution_count": 99,
   "id": "dd4add00",
   "metadata": {},
   "outputs": [],
   "source": [
    "# # Add the daily data for each grid cell\n",
    "# for file in npy_files:\n",
    "#     one_cell = np.load(file, allow_pickle = True)\n",
    "#     df = pd.DataFrame({'Dates': pd.to_datetime(times), 'Precipitation': one_cell})\n",
    "#     daily_sums = df.set_index('Dates').resample('D')['Precipitation'].sum()\n",
    "#     print(np.mean(daily_sums))"
   ]
  },
  {
   "cell_type": "code",
   "execution_count": 184,
   "id": "64a84e76",
   "metadata": {},
   "outputs": [],
   "source": [
    "# Find the mean daily precipitation values across the area covering the catchment \n",
    "results = {}\n",
    "results[\"mean\"] = np.mean(all_daily_sums)\n",
    "results[\"25th Percentile\"] = np.percentile(all_daily_sums, 25)\n",
    "results[\"50th Percentile\"] = np.percentile(all_daily_sums, 50)\n",
    "results[\"75th Percentile\"] = np.percentile(all_daily_sums, 75)\n",
    "results[\"90th Percentile\"] = np.percentile(all_daily_sums, 90)\n",
    "results[\"95th Percentile\"] = np.percentile(all_daily_sums, 95)\n",
    "results[\"99th Percentile\"] = np.percentile(all_daily_sums, 99)"
   ]
  },
  {
   "cell_type": "code",
   "execution_count": 185,
   "id": "aafb6e72",
   "metadata": {},
   "outputs": [
    {
     "data": {
      "text/plain": [
       "{'mean': 1.7685922520743045,\n",
       " '25th Percentile': 0.0,\n",
       " '50th Percentile': 0.10000000149011612,\n",
       " '75th Percentile': 1.8000000715255737,\n",
       " '90th Percentile': 5.400000095367432,\n",
       " '95th Percentile': 8.600000381469727,\n",
       " '99th Percentile': 18.200000762939453}"
      ]
     },
     "execution_count": 185,
     "metadata": {},
     "output_type": "execute_result"
    }
   ],
   "source": [
    "results"
   ]
  },
  {
   "cell_type": "code",
   "execution_count": 182,
   "id": "bfe2d084",
   "metadata": {},
   "outputs": [],
   "source": [
    "start_of_event = datetime.datetime(2022, 1, 1, 0, 0)\n",
    "def make_antecedent_conditions (statistic, days):\n",
    "    dates = []\n",
    "    for day in range(days,0,-1):\n",
    "        dates.append(start_of_event - (oneday*day))\n",
    "    df = pd.DataFrame({\"Times\":dates,\n",
    "                      'Rainfall':results[statistic]})\n",
    "    df.to_csv(\"LinDykeAntecedentConditions/lindyke_daily_antecedent_conditions_{}_{}days.csv\".format(statistic, days),\n",
    "                    header = False,index= False, date_format='%Y/%m/%d %H:%M')\n",
    "    return df\n",
    "    \n",
    "rainfall = make_antecedent_conditions(\"50th Percentile\",4)"
   ]
  }
 ],
 "metadata": {
  "kernelspec": {
   "display_name": "Python 3 (ipykernel)",
   "language": "python",
   "name": "python3"
  },
  "language_info": {
   "codemirror_mode": {
    "name": "ipython",
    "version": 3
   },
   "file_extension": ".py",
   "mimetype": "text/x-python",
   "name": "python",
   "nbconvert_exporter": "python",
   "pygments_lexer": "ipython3",
   "version": "3.7.13"
  }
 },
 "nbformat": 4,
 "nbformat_minor": 5
}
