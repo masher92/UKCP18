{
 "cells": [
  {
   "cell_type": "markdown",
   "id": "64b20685",
   "metadata": {},
   "source": [
    "### Initiialise script"
   ]
  },
  {
   "cell_type": "code",
   "execution_count": 112,
   "id": "81cbf428",
   "metadata": {},
   "outputs": [],
   "source": [
    "import numpy as np\n",
    "import os\n",
    "import glob\n",
    "import pandas as pd \n",
    "import matplotlib.pyplot as plt\n",
    "from datetime import datetime, timedelta\n",
    "\n",
    "def make_antecedent_conditions (results, timeperiod, statistic, days):\n",
    "    # Method to get list of dates (is not working with ReFH2)\n",
    "    # dates = []\n",
    "    # for day in range(days,0,-1):\n",
    "    #   dates.append(start_of_event - (oneday*day))\n",
    "    \n",
    "    # Get a list of dates (for some reason when create within Python, ReFH2 doesn't accept them)\n",
    "    # Use an existing csv which has dates which work\n",
    "    toedit = pd.read_csv(\"LinDykeAntecedentConditions/wholeyear/FormattedDates.csv\", header=None)\n",
    "    times = toedit[len(toedit)-days:][0].values\n",
    "    \n",
    "    # Create dataframe with results\n",
    "    df = pd.DataFrame({\"Times\":times, 'Rainfall':results[statistic]})\n",
    "    # Save to csv    \n",
    "    df.to_csv(\"LinDykeAntecedentConditions/{}/lindyke_daily_antecedent_conditions_{}_{}days.csv\".format(timeperiod, statistic, days),\n",
    "                    header = False,index= False, date_format='%Y/%m/%d %H:%M')\n",
    "    return df"
   ]
  },
  {
   "cell_type": "code",
   "execution_count": 113,
   "id": "fb654034",
   "metadata": {},
   "outputs": [],
   "source": [
    "timeperiod = 'jja' #jja #wholeyear"
   ]
  },
  {
   "cell_type": "markdown",
   "id": "99cd0192",
   "metadata": {},
   "source": [
    "### Load the times related to the hourly data for each catchment grid cell "
   ]
  },
  {
   "cell_type": "code",
   "execution_count": 114,
   "id": "7d74514c",
   "metadata": {},
   "outputs": [],
   "source": [
    "times = np.load('LinDykeRainfall/{}/times.npy'.format(timeperiod), allow_pickle=True)"
   ]
  },
  {
   "cell_type": "markdown",
   "id": "84df3e40",
   "metadata": {},
   "source": [
    "### Get a list of all the individual grid cell .npy files\n",
    "(Don't include files containing times and the total)"
   ]
  },
  {
   "cell_type": "code",
   "execution_count": 115,
   "id": "e00d418b",
   "metadata": {},
   "outputs": [],
   "source": [
    "if timeperiod == 'wholeyear':\n",
    "    npy_files = glob.glob('LinDykeRainfall/wholeyear/*.npy')[2:]\n",
    "elif timeperiod == 'jja':\n",
    "    npy_files = glob.glob('LinDykeRainfall/jja/*.npy')[:-2]"
   ]
  },
  {
   "cell_type": "markdown",
   "id": "1724dc1f",
   "metadata": {},
   "source": [
    "### Create an array containing all the daily values for the grid cells in the catchment in one place"
   ]
  },
  {
   "cell_type": "code",
   "execution_count": 116,
   "id": "754481a2",
   "metadata": {},
   "outputs": [],
   "source": [
    "# Create an array to store the daily values for all the grid cells in the catchment\n",
    "all_daily_sums = np. array([])\n",
    "\n",
    "# Add the daily data for each grid cell\n",
    "for file in npy_files:\n",
    "    one_cell = np.load(file, allow_pickle = True)\n",
    "    df = pd.DataFrame({'Dates': pd.to_datetime(times), 'Precipitation': one_cell})\n",
    "    daily_sums = df.set_index('Dates').resample('D')['Precipitation'].sum()\n",
    "    all_daily_sums = np.append(all_daily_sums, daily_sums)"
   ]
  },
  {
   "cell_type": "markdown",
   "id": "126d5247",
   "metadata": {},
   "source": [
    "### Find the mean and Xth percentile daily precipitation values across the area covering the catchment "
   ]
  },
  {
   "cell_type": "code",
   "execution_count": 117,
   "id": "075b190e",
   "metadata": {},
   "outputs": [
    {
     "data": {
      "text/plain": [
       "{'25th Percentile': 0.0,\n",
       " '50th Percentile': 0.0,\n",
       " '88th Percentile': 0.10000000149011612,\n",
       " '90th Percentile': 0.4000000059604645,\n",
       " '95th Percentile': 2.9000000953674316,\n",
       " '99th Percentile': 11.899999618530273,\n",
       " 'mean': 0.507553426072435}"
      ]
     },
     "execution_count": 117,
     "metadata": {},
     "output_type": "execute_result"
    }
   ],
   "source": [
    "stats = [\"25th Percentile\", '50th Percentile','88th Percentile', '90th Percentile','95th Percentile', '99th Percentile', 'mean']\n",
    "\n",
    "results = {}\n",
    "for stat in stats.copy():\n",
    "    if stat == 'mean':\n",
    "        results[str(stat)] = np.mean(all_daily_sums)\n",
    "    else:\n",
    "        results[str(stat)] = np.percentile(all_daily_sums, int(stat[0:2]))\n",
    "results    "
   ]
  },
  {
   "cell_type": "markdown",
   "id": "f0c853d3",
   "metadata": {},
   "source": [
    "### Save results to file"
   ]
  },
  {
   "cell_type": "code",
   "execution_count": 118,
   "id": "144350f7",
   "metadata": {},
   "outputs": [],
   "source": [
    "# Define when the event will start\n",
    "start_of_event = datetime(2022, 8, 1, 0, 0)\n",
    "oneday = timedelta(days=1)\n",
    "for statistic in stats:\n",
    "    for days in [4,365,15]:\n",
    "        rainfall = make_antecedent_conditions(results, timeperiod,  statistic,days)"
   ]
  }
 ],
 "metadata": {
  "kernelspec": {
   "display_name": "Python 3 (ipykernel)",
   "language": "python",
   "name": "python3"
  },
  "language_info": {
   "codemirror_mode": {
    "name": "ipython",
    "version": 3
   },
   "file_extension": ".py",
   "mimetype": "text/x-python",
   "name": "python",
   "nbconvert_exporter": "python",
   "pygments_lexer": "ipython3",
   "version": "3.9.7"
  }
 },
 "nbformat": 4,
 "nbformat_minor": 5
}
