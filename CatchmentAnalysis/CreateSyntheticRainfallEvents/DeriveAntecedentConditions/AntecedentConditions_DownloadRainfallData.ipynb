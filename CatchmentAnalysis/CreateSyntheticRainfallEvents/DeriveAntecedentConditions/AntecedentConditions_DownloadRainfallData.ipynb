version https://git-lfs.github.com/spec/v1
oid sha256:b9aceaeec4c5919fbc3194b75d7a5c62bdf9d0f104db301b0ef1e3df824d5e77
size 983807
