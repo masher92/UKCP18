{
 "cells": [
  {
   "cell_type": "code",
   "execution_count": 43,
   "id": "07c680a7",
   "metadata": {},
   "outputs": [],
   "source": [
    "catchment_name  = 'WykeBeck'"
   ]
  },
  {
   "cell_type": "code",
   "execution_count": 44,
   "id": "094c9dc0",
   "metadata": {},
   "outputs": [],
   "source": [
    "import sys\n",
    "import os\n",
    "import folium\n",
    "import numpy.ma as ma\n",
    "from folium import Map, FeatureGroup, LayerControl\n",
    "import rasterio\n",
    "from shapely.geometry import box\n",
    "import geopandas as gpd\n",
    "from pyproj import CRS\n",
    "from rasterio.mask import mask\n",
    "import numpy as np\n",
    "import matplotlib as mpl\n",
    "import matplotlib.pyplot as plt\n",
    "import contextily as cx\n",
    "import matplotlib.patches as mpatches\n",
    "import rioxarray as rxr\n",
    "from rasterio import plot\n",
    "from shapely.geometry import mapping\n",
    "import glob \n",
    "\n",
    "# Define whether to filter out values <0.1\n",
    "remove_little_values = True\n",
    "\n",
    "sys.path.append(\"../ProcessModelResults/\")\n",
    "from my_functions import *\n",
    "\n",
    "# Specify strings relating to catchment\n",
    "if catchment_name == 'LinDyke':\n",
    "    minx, miny, maxx, maxy = 437000,  426500,  445500, 434300\n",
    "elif catchment_name == 'WykeBeck':\n",
    "    minx, miny, maxx, maxy = 430004,  429978, 438660, 440996 \n",
    "    \n",
    "# Create a bounding box (this is used in preparing the rasters)\n",
    "bbox = box(minx, miny, maxx, maxy)    \n",
    "\n",
    "model_directory = '../../../FloodModelling/{}Models/'.format(catchment_name)\n",
    "\n",
    "subcatchments = False\n",
    "\n",
    "def save_clipped_to_gdf(raster, out_meta, catchment_gdf, fp):\n",
    "    save_array_as_raster(raster, fp, out_meta)\n",
    "    \n",
    "    with rasterio.open(fp) as src:\n",
    "        catchment_gdf=catchment_gdf.to_crs(src.crs)\n",
    "        # print(Vector.crs)\n",
    "        out_image, out_transform=mask(src,catchment_gdf.geometry,crop=True)\n",
    "        out_meta=src.meta.copy() # copy the metadata of the source DEM\n",
    "\n",
    "    out_meta.update({\"driver\":\"Gtiff\", \"height\":out_image.shape[1], # height starts with shape[1]\n",
    "        \"width\":out_image.shape[2], # width starts with shape[2]\n",
    "        \"transform\":out_transform\n",
    "    })\n",
    "\n",
    "    with rasterio.open(fp,'w',**out_meta) as dst:\n",
    "        dst.write(out_image)    "
   ]
  },
  {
   "cell_type": "markdown",
   "id": "0095b6c2",
   "metadata": {},
   "source": [
    "### Read in main catchment boundary and add to boundaries dictionary"
   ]
  },
  {
   "cell_type": "code",
   "execution_count": 45,
   "id": "a2d51072",
   "metadata": {},
   "outputs": [],
   "source": [
    "if catchment_name == 'LinDyke':\n",
    "    catchment_gdf = gpd.read_file(model_directory + 'Model_IdealisedProfiles/CatchmentLinDyke_exported.shp'.format(catchment_name))\n",
    "elif catchment_name == 'WykeBeck':\n",
    "    catchment_gdf = gpd.read_file(model_directory + 'Model_IdealisedProfiles/WykeBeckCatchment.shp'.format(catchment_name))\n",
    "    \n",
    "# Add to dictionary    \n",
    "boundaries_gpd_dict={}\n",
    "boundaries_gpd_dict[catchment_name] =catchment_gdf"
   ]
  },
  {
   "cell_type": "markdown",
   "id": "834b228d",
   "metadata": {},
   "source": [
    "### Add subcatchment boundaries, if using"
   ]
  },
  {
   "cell_type": "code",
   "execution_count": 46,
   "id": "7c9a58ff",
   "metadata": {},
   "outputs": [],
   "source": [
    "if subcatchments == True:\n",
    "    for subcatchment in ['Garforth_East', 'Garforth_West', 'Kippax_West', 'South_Catchment', 'Kippax','Garforth', 'TB_South', 'TB_North']:\n",
    "        # Read in boundary\n",
    "        boundary = gpd.read_file(model_directory + \"SubCatchmentBoundaries/{}/{}.shp\".format(subcatchment, subcatchment))\n",
    "        # Convert projection\n",
    "        boundary = boundary.to_crs(\"epsg:27700\") \n",
    "        # Add to dict\n",
    "        boundaries_gpd_dict[subcatchment]=boundary"
   ]
  },
  {
   "cell_type": "markdown",
   "id": "cc7f432a",
   "metadata": {},
   "source": [
    "### Read in the land cover file, clip it, update some parameters, save to landcover directory "
   ]
  },
  {
   "cell_type": "code",
   "execution_count": 51,
   "id": "514f5591",
   "metadata": {},
   "outputs": [],
   "source": [
    "landcover_clipped, out_meta = open_and_clip(model_directory + 'LandCoverData/{}.tif'.format(original_landcover_fp), bbox)\n",
    "out_meta.update({\"nodata\":np.nan, \"dtype\" :'float64' })\n",
    "landcover_clipped[landcover_clipped == -2147483648] = np.nan\n",
    "save_array_as_raster(landcover_clipped, model_directory + 'LandCoverData/LandCover_clipped.tif', out_meta)"
   ]
  },
  {
   "cell_type": "code",
   "execution_count": 52,
   "id": "278c63bd",
   "metadata": {},
   "outputs": [],
   "source": [
    "if catchment_name == 'LinDyke':\n",
    "    original_landcover_fp = \"LandCover_resized\"\n",
    "elif catchment_name == 'WykeBeck':\n",
    "    original_landcover_fp = \"LandCover_resized\"\n",
    "\n",
    "landcover_clipped, out_meta = open_and_clip(model_directory + 'LandCoverData/{}.tif'.format(original_landcover_fp), bbox)\n",
    "out_meta.update({\"nodata\":np.nan, \"dtype\" :'float64' })\n",
    "landcover_clipped[landcover_clipped == -2147483648] = np.nan\n",
    "output_fp = model_directory + 'LandCoverData/LandCover_clipped.tif'\n",
    "save_clipped_to_gdf(landcover_clipped, out_meta, catchment_gdf, output_fp)"
   ]
  },
  {
   "cell_type": "code",
   "execution_count": 53,
   "id": "399b374d",
   "metadata": {},
   "outputs": [],
   "source": [
    "classes_dict_lindyke = {'SubUrban':1, 'Arable':2, 'Deciduous woodland':3, 'Freshwater':4, 'Improved grassland':5, 'Urban':6, \n",
    "                  'Neutral grassland':7, 'Calcareous grassland':8, 'Heather grassland':9}\n",
    "\n",
    "classes_dict_wykebeck = {'Arable':1, 'Urban':2, 'Freshwater':3, 'Deciduous woodland':4, 'SubUrban':5, 'Improved Grassland':6, \n",
    "                  'Neutral grassland':7, 'Calcareous grassland':8, 'Heather grassland':9}\n",
    "\n",
    "classes_dicts = {'LinDyke':classes_dict_lindyke, 'WykeBeck':classes_dict_wykebeck}"
   ]
  },
  {
   "cell_type": "markdown",
   "id": "38af8a72",
   "metadata": {},
   "source": [
    "### Create a modified version of the data with flag for urban (10) and non-urban (11), save to landcover directory"
   ]
  },
  {
   "cell_type": "code",
   "execution_count": 54,
   "id": "fd84b055",
   "metadata": {},
   "outputs": [],
   "source": [
    "for landcover_class in  classes_dicts[catchment_name]:\n",
    "    #print(landcover_class)\n",
    "    # Get list of all classes\n",
    "    ls_values = np.unique(landcover_clipped[~np.isnan(landcover_clipped)]).tolist()\n",
    "    # Remove this class (so it is a list of all classes but this one)\n",
    "    ls_values.remove(classes_dicts[catchment_name][landcover_class])\n",
    "    # Set the value of this class to 10\n",
    "    landcover_this_class = np.where(landcover_clipped==classes_dicts[catchment_name][landcover_class], 10, landcover_clipped)\n",
    "    # Set all the rest to 11\n",
    "    for i in ls_values:\n",
    "        #print(i)\n",
    "        landcover_this_class = np.where(landcover_this_class==i, 11, landcover_this_class)\n",
    "        \n",
    "    # Save\n",
    "    fp_to_save =model_directory + f\"LandCoverData/LandCover_{landcover_class}_classification.tif\"\n",
    "    save_clipped_to_gdf(landcover_this_class, out_meta, catchment_gdf, fp_to_save)    \n",
    "    \n",
    "    if landcover_class == 'Water':\n",
    "        landcover_not_water = landcover_water.copy()\n",
    "        landcover_not_water =  np.where(landcover_not_water==10, 12, landcover_not_water)\n",
    "        landcover_not_water =  np.where(landcover_not_water==11, 10, landcover_not_water)\n",
    "        landcover_not_water =  np.where(landcover_not_water==12, 11, landcover_not_water)\n",
    "\n",
    "        fp_to_save= 'LandCoverData/LandCover_notwater_classification.tif'\n",
    "        save_clipped_to_gdf(landcover_not_water, out_meta, catchment_gdf, fp_to_save)     "
   ]
  },
  {
   "cell_type": "markdown",
   "id": "58cb8a0e",
   "metadata": {},
   "source": [
    "### Urban and suburban combo"
   ]
  },
  {
   "cell_type": "code",
   "execution_count": 55,
   "id": "c743102f",
   "metadata": {},
   "outputs": [],
   "source": [
    "ls_values = np.unique(landcover_clipped[~np.isnan(landcover_clipped)]).tolist()\n",
    "ls_values.remove(classes_dicts[catchment_name]['Urban'])\n",
    "ls_values.remove(classes_dicts[catchment_name]['SubUrban'])\n",
    "\n",
    "# Convert the 3 to 10 (for water) and the rest to 11 (for non-water).  \n",
    "landcover_urban_and_suburban = np.where(landcover_clipped==classes_dicts[catchment_name]['Urban'], 10, landcover_clipped)\n",
    "landcover_urban_and_suburban = np.where(landcover_urban_and_suburban==classes_dicts[catchment_name]['SubUrban'], 10, landcover_urban_and_suburban)\n",
    "\n",
    "# Convert the rest of the classes to 11\n",
    "for i in ls_values:\n",
    "    landcover_urban_and_suburban =  np.where(landcover_urban_and_suburban==i, 11, landcover_urban_and_suburban)\n",
    "\n",
    "fp_to_save= model_directory + 'LandCoverData/LandCover_urban_and_suburban_classification.tif'\n",
    "save_clipped_to_gdf(landcover_urban_and_suburban, out_meta, catchment_gdf, fp_to_save)      "
   ]
  },
  {
   "cell_type": "markdown",
   "id": "bfd8d418",
   "metadata": {},
   "source": [
    "### Create version where 10 means not water and 11 means water"
   ]
  },
  {
   "cell_type": "markdown",
   "id": "50a4c8ec",
   "metadata": {},
   "source": [
    "### Trim landcover data to Garforth/Kippax boundary\n",
    "(we need this for filtering the ..)"
   ]
  },
  {
   "cell_type": "code",
   "execution_count": 56,
   "id": "6e17dfa6",
   "metadata": {},
   "outputs": [],
   "source": [
    "# for region_name in ['Kippax', 'Garforth', 'Kippax_West', 'Garforth_East', 'Garforth_West', 'South_Catchment', \n",
    "#                     'TB_South', 'TB_North']:\n",
    "#     # Get region boundary\n",
    "#     region_boundary = boundaries_gpd_dict[region_name]\n",
    "        \n",
    "#     # Trim land cover data\n",
    "#     raster = rxr.open_rasterio(model_directory + \"LandCoverData/LandCover_urban_classification2.tif\", masked=True).squeeze()\n",
    "#     raster_clipped = raster.rio.clip(region_boundary.geometry.apply(mapping),region_boundary.crs)\n",
    "    \n",
    "#     if not os.path.exists(model_directory + \"LandCoverData/{}/\".format(region_name)):\n",
    "#         os.mkdir(model_directory + \"LandCoverData/{}/\".format(region_name))\n",
    "#     raster_clipped.rio.to_raster(model_directory + \"LandCoverData/{}/LandCover_urban_classification2.tif\".format(region_name))\n",
    "    \n",
    "#     # Add to \n",
    "#     values,counts = np.unique(raster_clipped.data, return_counts=True)\n",
    "#     if 10 not in values:\n",
    "#         values = np.insert(values, 0, 10, axis=0)\n",
    "#         counts = np.insert(counts, 0, 0, axis=0)\n",
    "#     df[region_name] = counts"
   ]
  },
  {
   "cell_type": "markdown",
   "id": "87b22b05",
   "metadata": {},
   "source": [
    "### Plot to check trimming process"
   ]
  },
  {
   "cell_type": "code",
   "execution_count": 57,
   "id": "66576e66",
   "metadata": {},
   "outputs": [],
   "source": [
    "# fig, axs =plt.subplots(ncols=7, figsize =(12,5))\n",
    "\n",
    "# for num, region_name in enumerate(['Garforth_East', 'Garforth_West', 'Kippax_West', 'South_Catchment',  'Kippax', 'TB_South', 'TB_North']):\n",
    "#     # Read in data\n",
    "#     raster = rxr.open_rasterio(model_directory + \"LandCoverData/{}/LandCover_urban_classification.tif\".format(region_name), masked=True).squeeze()\n",
    "#     raster.plot.imshow(ax=axs[num])\n",
    "#     boundaries_gpd_dict[region_name] .plot(ax=axs[num], facecolor=\"none\", edgecolor= 'black', linewidth=2)\n",
    "#     axs[num].set_axis_off()\n",
    "#     axs[num].legend('', frameon=False)"
   ]
  },
  {
   "cell_type": "markdown",
   "id": "655df214",
   "metadata": {},
   "source": [
    "### Look at proportion of each which is urban\n",
    "NB: NA refers to cells which are not within the boundary of the catchment (because we initially trimmed the catchment using the bounding box of the catchment)"
   ]
  },
  {
   "cell_type": "code",
   "execution_count": 58,
   "id": "1b312510",
   "metadata": {},
   "outputs": [],
   "source": [
    "# # The proportion of the area which is in within the catchment boundary\n",
    "# for column in df.columns[1:]:\n",
    "#     percent_urban = round((df[column][0]/ (df[column][1] + df[column][0]))*100,1)\n",
    "#     print(\"% of {} which is urban: \".format(column), percent_urban)"
   ]
  }
 ],
 "metadata": {
  "kernelspec": {
   "display_name": "Python 3 (ipykernel)",
   "language": "python",
   "name": "python3"
  },
  "language_info": {
   "codemirror_mode": {
    "name": "ipython",
    "version": 3
   },
   "file_extension": ".py",
   "mimetype": "text/x-python",
   "name": "python",
   "nbconvert_exporter": "python",
   "pygments_lexer": "ipython3",
   "version": "3.9.7"
  }
 },
 "nbformat": 4,
 "nbformat_minor": 5
}
