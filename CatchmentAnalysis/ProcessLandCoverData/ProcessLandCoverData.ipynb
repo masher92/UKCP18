{
 "cells": [
  {
   "cell_type": "markdown",
   "id": "ed9b2b37",
   "metadata": {},
   "source": [
    "# Process land cover data\n",
    "\n",
    "NB: for plotting we want to be able to highlight the areas of permanent water.  \n",
    "To do this, I export a raster where freshwater has a value of 11 and all else np.nan.  \n",
    "In QGIS: select Raster -> Conversion -> Polygonise (raster-vector) -> (and select this layer)"
   ]
  },
  {
   "cell_type": "code",
   "execution_count": 112,
   "id": "07c680a7",
   "metadata": {},
   "outputs": [],
   "source": [
    "catchment_name  = 'WykeBeck'\n",
    "model_directory = '../../../FloodModelling/{}Models/'.format(catchment_name)\n",
    "\n",
    "# Something in setting crop to to true for Wyke Beck doesn't work (the land cover and results files have different\n",
    "# values for out_meta so end up different sizes)\n",
    "if catchment_name =='WykeBeck':\n",
    "    crop_or_not = False\n",
    "elif catchment_name == 'LinDyke':\n",
    "    crop_or_not = True    "
   ]
  },
  {
   "cell_type": "code",
   "execution_count": 113,
   "id": "094c9dc0",
   "metadata": {},
   "outputs": [],
   "source": [
    "import sys\n",
    "import numpy.ma as ma\n",
    "import rasterio\n",
    "from shapely.geometry import box\n",
    "import geopandas as gpd\n",
    "from pyproj import CRS\n",
    "from rasterio.mask import mask\n",
    "import numpy as np\n",
    "\n",
    "# Define whether to filter out values <0.1\n",
    "remove_little_values = True\n",
    "\n",
    "sys.path.append(\"../ProcessModelResults/\")\n",
    "from my_functions import *\n",
    "\n",
    "# Specify strings relating to catchment\n",
    "if catchment_name == 'LinDyke':\n",
    "    minx, miny, maxx, maxy = 437000,  426500,  445500, 434300\n",
    "elif catchment_name == 'WykeBeck':\n",
    "    minx, miny, maxx, maxy = 430004,  429978, 438660, 440996 \n",
    "    \n",
    "# Create a bounding box (this is used in preparing the rasters)\n",
    "bbox = box(minx, miny, maxx, maxy)    "
   ]
  },
  {
   "cell_type": "markdown",
   "id": "0095b6c2",
   "metadata": {},
   "source": [
    "### Read in main catchment boundary and add to boundaries dictionary"
   ]
  },
  {
   "cell_type": "code",
   "execution_count": 114,
   "id": "a2d51072",
   "metadata": {},
   "outputs": [],
   "source": [
    "if catchment_name == 'LinDyke':\n",
    "    catchment_gdf = gpd.read_file(model_directory + 'Model_IdealisedProfiles/CatchmentLinDyke_exported.shp'.format(catchment_name))\n",
    "elif catchment_name == 'WykeBeck':\n",
    "    catchment_gdf = gpd.read_file(model_directory + 'Model_IdealisedProfiles/WykeBeckCatchment.shp'.format(catchment_name))"
   ]
  },
  {
   "cell_type": "markdown",
   "id": "cc7f432a",
   "metadata": {},
   "source": [
    "### Read in the land cover file, clip it, update some parameters, save to landcover directory "
   ]
  },
  {
   "cell_type": "code",
   "execution_count": 115,
   "id": "e721b619",
   "metadata": {},
   "outputs": [],
   "source": [
    "if catchment_name == 'LinDyke':\n",
    "    landcover_clipped, out_meta  = open_and_clip_to_catchment(model_directory + f\"LandCoverData/LandCover_resized.tif\", \n",
    "                                                              catchment_gdf, crop_or_not=crop_or_not)\n",
    "elif catchment_name == 'WykeBeck':\n",
    "    landcover_clipped, out_meta  = open_and_clip_to_catchment(model_directory + f\"LandCoverData/LandCover_clipped_MA_Download_resampled2m.tif\", \n",
    "                                                              catchment_gdf, crop_or_not=crop_or_not)\n",
    "\n",
    "\n",
    "fp_to_save= model_directory + 'LandCoverData/LandCover_clipped.tif'\n",
    "save_array_as_raster(landcover_clipped, fp_to_save, out_meta)"
   ]
  },
  {
   "cell_type": "code",
   "execution_count": 116,
   "id": "399b374d",
   "metadata": {},
   "outputs": [],
   "source": [
    "classes_dict_lindyke = {'SubUrban':1, 'Arable':2, 'Deciduous woodland':3, 'Freshwater':4, 'Improved grassland':5, 'Urban':6, \n",
    "                  'Neutral grassland':7, 'Calcareous grassland':8, 'Heather grassland':9}\n",
    "\n",
    "classes_dict_wykebeck = {'Deciduous woodland':1, 'Coniferous woodland':2, 'Arable':3, 'Improve grassland ':4, \n",
    "                         'Calcareous grassland':6, 'Heather':9,'Heather grassland':10,\n",
    "                         'Inland Rock':12, 'Freshwater':14, 'Urban':20, 'SubUrban':21}\n",
    "\n",
    "classes_dicts = {'LinDyke':classes_dict_lindyke, 'WykeBeck':classes_dict_wykebeck}"
   ]
  },
  {
   "cell_type": "code",
   "execution_count": 117,
   "id": "2b51ee14",
   "metadata": {},
   "outputs": [],
   "source": [
    "# landcover_clipped= np.where(landcover_clipped==6, 5, landcover_clipped)\n",
    "# landcover_clipped= np.where(landcover_clipped==9, 6, landcover_clipped)\n",
    "# landcover_clipped= np.where(landcover_clipped==10, 7, landcover_clipped)\n",
    "# landcover_clipped= np.where(landcover_clipped==12, 8, landcover_clipped)\n",
    "# landcover_clipped= np.where(landcover_clipped==14, 9, landcover_clipped)\n",
    "# landcover_clipped= np.where(landcover_clipped==20, 10, landcover_clipped)\n",
    "# landcover_clipped= np.where(landcover_clipped==21, 11, landcover_clipped)\n",
    "# landcover_clipped= np.where(landcover_clipped==21, 11, landcover_clipped)\n",
    "landcover_clipped= np.where(landcover_clipped==255, np.nan, landcover_clipped)"
   ]
  },
  {
   "cell_type": "markdown",
   "id": "083a6279",
   "metadata": {},
   "source": [
    "### Not water\n",
    "Not water is set to 10, water is set to 11"
   ]
  },
  {
   "cell_type": "code",
   "execution_count": 118,
   "id": "43b68059",
   "metadata": {},
   "outputs": [],
   "source": [
    "water_class = classes_dicts[catchment_name]['Freshwater']"
   ]
  },
  {
   "cell_type": "code",
   "execution_count": 119,
   "id": "3ee7db98",
   "metadata": {},
   "outputs": [],
   "source": [
    "# Get list of all classes\n",
    "ls_values = np.unique(landcover_clipped[~np.isnan(landcover_clipped)]).tolist()\n",
    "# Remove the water class (so it is a list of all classes but this one)\n",
    "ls_values.remove(water_class)\n",
    "# Set the value of the water class to 11\n",
    "landcover_not_water= np.where(landcover_clipped==water_class, 16, landcover_clipped)\n",
    "# Set all the rest to 10\n",
    "for i in ls_values:\n",
    "    landcover_not_water = np.where(landcover_not_water==i, 15, landcover_not_water)\n",
    "fp_to_save= model_directory + 'LandCoverData/LandCover_notwater_classification.tif'\n",
    "save_array_as_raster(landcover_not_water, fp_to_save, out_meta)"
   ]
  },
  {
   "cell_type": "markdown",
   "id": "47e0e207",
   "metadata": {},
   "source": [
    "### Save version with just the water as 11 and everything else as np.nan\n",
    "This is for turning into a vector outline for plotting where the permanent water areas are "
   ]
  },
  {
   "cell_type": "code",
   "execution_count": 120,
   "id": "10fa5cc8",
   "metadata": {},
   "outputs": [],
   "source": [
    "# Get list of all classes\n",
    "ls_values = np.unique(landcover_clipped[~np.isnan(landcover_clipped)]).tolist()\n",
    "# Remove the water class (so it is a list of all classes but this one)\n",
    "ls_values.remove(water_class)\n",
    "# Set the value of the water class to 11\n",
    "landcover_not_water= np.where(landcover_clipped==water_class, 16, landcover_clipped)\n",
    "# Set all the rest to 10\n",
    "for i in ls_values:\n",
    "    landcover_not_water = np.where(landcover_not_water==i, np.nan, landcover_not_water)\n",
    "fp_to_save= model_directory + 'LandCoverData/LandCover_water_classification.tif'\n",
    "save_array_as_raster(landcover_not_water, fp_to_save, out_meta)"
   ]
  },
  {
   "cell_type": "markdown",
   "id": "58cb8a0e",
   "metadata": {},
   "source": [
    "### Urban and suburban combo\n",
    "Urban and suburban are set to 10, all the rest set to 11"
   ]
  },
  {
   "cell_type": "code",
   "execution_count": 121,
   "id": "c743102f",
   "metadata": {},
   "outputs": [],
   "source": [
    "ls_values = np.unique(landcover_clipped[~np.isnan(landcover_clipped)]).tolist()\n",
    "ls_values.remove(classes_dicts[catchment_name]['Urban'])\n",
    "ls_values.remove(classes_dicts[catchment_name]['SubUrban'])\n",
    "\n",
    "# Convert the 3 to 10 (for water) and the rest to 11 (for non-water).  \n",
    "landcover_urban_and_suburban = np.where(landcover_clipped==classes_dicts[catchment_name]['Urban'], 15, landcover_clipped)\n",
    "landcover_urban_and_suburban = np.where(landcover_urban_and_suburban==classes_dicts[catchment_name]['SubUrban'], 15, landcover_urban_and_suburban)\n",
    "\n",
    "# Convert the rest of the classes to 11\n",
    "for i in ls_values:\n",
    "    landcover_urban_and_suburban =  np.where(landcover_urban_and_suburban==i, 16, landcover_urban_and_suburban)\n",
    "\n",
    "fp_to_save= model_directory + 'LandCoverData/LandCover_urban_and_suburban_classification.tif'\n",
    "save_array_as_raster(landcover_urban_and_suburban, fp_to_save, out_meta)"
   ]
  },
  {
   "cell_type": "markdown",
   "id": "b1c1c347",
   "metadata": {},
   "source": [
    "## Check sizes"
   ]
  },
  {
   "cell_type": "code",
   "execution_count": 122,
   "id": "07e3c666",
   "metadata": {},
   "outputs": [
    {
     "name": "stdout",
     "output_type": "stream",
     "text": [
      "(5509, 4328)\n",
      "(5509, 4328)\n"
     ]
    }
   ],
   "source": [
    "print(landcover_not_water.shape)\n",
    "print(landcover_urban_and_suburban.shape)"
   ]
  }
 ],
 "metadata": {
  "kernelspec": {
   "display_name": "Python 3 (ipykernel)",
   "language": "python",
   "name": "python3"
  },
  "language_info": {
   "codemirror_mode": {
    "name": "ipython",
    "version": 3
   },
   "file_extension": ".py",
   "mimetype": "text/x-python",
   "name": "python",
   "nbconvert_exporter": "python",
   "pygments_lexer": "ipython3",
   "version": "3.9.7"
  }
 },
 "nbformat": 4,
 "nbformat_minor": 5
}
