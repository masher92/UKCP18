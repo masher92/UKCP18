{
 "cells": [
  {
   "cell_type": "code",
   "execution_count": 170,
   "id": "07c680a7",
   "metadata": {},
   "outputs": [],
   "source": [
    "catchment_name  = 'LinDyke'\n",
    "model_directory = '../../../FloodModelling/{}Models/'.format(catchment_name)\n",
    "\n",
    "# Something in setting crop to to true for Wyke Beck doesn't work (the land cover and results files have different\n",
    "# values for out_meta so end up different sizes)\n",
    "if catchment_name =='WykeBeck':\n",
    "    crop_or_not = False\n",
    "elif catchment_name == 'LinDyke':\n",
    "    crop_or_not = True    "
   ]
  },
  {
   "cell_type": "code",
   "execution_count": 171,
   "id": "094c9dc0",
   "metadata": {},
   "outputs": [],
   "source": [
    "import sys\n",
    "import numpy.ma as ma\n",
    "import rasterio\n",
    "from shapely.geometry import box\n",
    "import geopandas as gpd\n",
    "from pyproj import CRS\n",
    "from rasterio.mask import mask\n",
    "import numpy as np\n",
    "\n",
    "# Define whether to filter out values <0.1\n",
    "remove_little_values = True\n",
    "\n",
    "sys.path.append(\"../ProcessModelResults/\")\n",
    "from my_functions import *\n",
    "\n",
    "# Specify strings relating to catchment\n",
    "if catchment_name == 'LinDyke':\n",
    "    minx, miny, maxx, maxy = 437000,  426500,  445500, 434300\n",
    "elif catchment_name == 'WykeBeck':\n",
    "    minx, miny, maxx, maxy = 430004,  429978, 438660, 440996 \n",
    "    \n",
    "# Create a bounding box (this is used in preparing the rasters)\n",
    "bbox = box(minx, miny, maxx, maxy)    "
   ]
  },
  {
   "cell_type": "markdown",
   "id": "0095b6c2",
   "metadata": {},
   "source": [
    "### Read in main catchment boundary and add to boundaries dictionary"
   ]
  },
  {
   "cell_type": "code",
   "execution_count": 172,
   "id": "a2d51072",
   "metadata": {},
   "outputs": [],
   "source": [
    "if catchment_name == 'LinDyke':\n",
    "    catchment_gdf = gpd.read_file(model_directory + 'Model_IdealisedProfiles/CatchmentLinDyke_exported.shp'.format(catchment_name))\n",
    "elif catchment_name == 'WykeBeck':\n",
    "    catchment_gdf = gpd.read_file(model_directory + 'Model_IdealisedProfiles/WykeBeckCatchment.shp'.format(catchment_name))"
   ]
  },
  {
   "cell_type": "markdown",
   "id": "cc7f432a",
   "metadata": {},
   "source": [
    "### Read in the land cover file, clip it, update some parameters, save to landcover directory "
   ]
  },
  {
   "cell_type": "code",
   "execution_count": 173,
   "id": "e721b619",
   "metadata": {},
   "outputs": [],
   "source": [
    "landcover_clipped, out_meta  = open_and_clip_to_catchment(model_directory + f\"LandCoverData/LandCover_resized.tif\", \n",
    "                                                          catchment_gdf, crop_or_not=crop_or_not)"
   ]
  },
  {
   "cell_type": "code",
   "execution_count": 174,
   "id": "399b374d",
   "metadata": {},
   "outputs": [],
   "source": [
    "classes_dict_lindyke = {'SubUrban':1, 'Arable':2, 'Deciduous woodland':3, 'Freshwater':4, 'Improved grassland':5, 'Urban':6, \n",
    "                  'Neutral grassland':7, 'Calcareous grassland':8, 'Heather grassland':9}\n",
    "\n",
    "classes_dict_wykebeck = {'Arable':1, 'Urban':2, 'Freshwater':3, 'Deciduous woodland':4, 'SubUrban':5, 'Improved Grassland':6, \n",
    "                  'Neutral grassland':7, 'Calcareous grassland':8, 'Heather grassland':9}\n",
    "\n",
    "classes_dicts = {'LinDyke':classes_dict_lindyke, 'WykeBeck':classes_dict_wykebeck}"
   ]
  },
  {
   "cell_type": "markdown",
   "id": "083a6279",
   "metadata": {},
   "source": [
    "### Not water\n",
    "Not water is set to 10, water is set to 11"
   ]
  },
  {
   "cell_type": "code",
   "execution_count": 175,
   "id": "43b68059",
   "metadata": {},
   "outputs": [],
   "source": [
    "water_class = classes_dicts[catchment_name]['Freshwater']"
   ]
  },
  {
   "cell_type": "code",
   "execution_count": 176,
   "id": "3ee7db98",
   "metadata": {},
   "outputs": [],
   "source": [
    "# Get list of all classes\n",
    "ls_values = np.unique(landcover_clipped[~np.isnan(landcover_clipped)]).tolist()\n",
    "# Remove the water class (so it is a list of all classes but this one)\n",
    "ls_values.remove(water_class)\n",
    "# Set the value of the water class to 11\n",
    "landcover_not_water= np.where(landcover_clipped==water_class, 11, landcover_clipped)\n",
    "# Set all the rest to 10\n",
    "for i in ls_values:\n",
    "    landcover_not_water = np.where(landcover_not_water==i, 10, landcover_not_water)\n",
    "fp_to_save= model_directory + 'LandCoverData/LandCover_notwater_classification.tif'\n",
    "save_array_as_raster(landcover_not_water, fp_to_save, out_meta)"
   ]
  },
  {
   "cell_type": "markdown",
   "id": "58cb8a0e",
   "metadata": {},
   "source": [
    "### Urban and suburban combo\n",
    "Urban and suburban are set to 10, all the rest set to 11"
   ]
  },
  {
   "cell_type": "code",
   "execution_count": 177,
   "id": "c743102f",
   "metadata": {},
   "outputs": [],
   "source": [
    "ls_values = np.unique(landcover_clipped[~np.isnan(landcover_clipped)]).tolist()\n",
    "ls_values.remove(classes_dicts[catchment_name]['Urban'])\n",
    "ls_values.remove(classes_dicts[catchment_name]['SubUrban'])\n",
    "\n",
    "# Convert the 3 to 10 (for water) and the rest to 11 (for non-water).  \n",
    "landcover_urban_and_suburban = np.where(landcover_clipped==classes_dicts[catchment_name]['Urban'], 10, landcover_clipped)\n",
    "landcover_urban_and_suburban = np.where(landcover_urban_and_suburban==classes_dicts[catchment_name]['SubUrban'], 10, landcover_urban_and_suburban)\n",
    "\n",
    "# Convert the rest of the classes to 11\n",
    "for i in ls_values:\n",
    "    landcover_urban_and_suburban =  np.where(landcover_urban_and_suburban==i, 11, landcover_urban_and_suburban)\n",
    "\n",
    "fp_to_save= model_directory + 'LandCoverData/LandCover_urban_and_suburban_classification.tif'\n",
    "save_array_as_raster(landcover_urban_and_suburban, fp_to_save, out_meta)"
   ]
  },
  {
   "cell_type": "markdown",
   "id": "b1c1c347",
   "metadata": {},
   "source": [
    "## Check sizes"
   ]
  },
  {
   "cell_type": "code",
   "execution_count": 178,
   "id": "07e3c666",
   "metadata": {},
   "outputs": [
    {
     "name": "stdout",
     "output_type": "stream",
     "text": [
      "(7318, 7856)\n",
      "(7318, 7856)\n"
     ]
    }
   ],
   "source": [
    "print(landcover_not_water.shape)\n",
    "print(landcover_urban_and_suburban.shape)"
   ]
  }
 ],
 "metadata": {
  "kernelspec": {
   "display_name": "Python 3 (ipykernel)",
   "language": "python",
   "name": "python3"
  },
  "language_info": {
   "codemirror_mode": {
    "name": "ipython",
    "version": 3
   },
   "file_extension": ".py",
   "mimetype": "text/x-python",
   "name": "python",
   "nbconvert_exporter": "python",
   "pygments_lexer": "ipython3",
   "version": "3.9.7"
  }
 },
 "nbformat": 4,
 "nbformat_minor": 5
}
