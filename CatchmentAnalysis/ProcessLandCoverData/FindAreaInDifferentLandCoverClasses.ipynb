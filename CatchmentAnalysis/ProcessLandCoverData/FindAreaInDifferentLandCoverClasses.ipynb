version https://git-lfs.github.com/spec/v1
oid sha256:665ba485ee95997293c66858482be4bff27b46cc590260c9cd43d0c34a137353
size 5784
