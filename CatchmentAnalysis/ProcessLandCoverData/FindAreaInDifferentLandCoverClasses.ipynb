{
 "cells": [
  {
   "cell_type": "code",
   "execution_count": 12,
   "id": "ede1cc87",
   "metadata": {},
   "outputs": [],
   "source": [
    "import geopandas as gpd\n",
    "import rasterio\n",
    "import numpy as np\n",
    "import pandas as pd"
   ]
  },
  {
   "cell_type": "code",
   "execution_count": 1,
   "id": "789511f0",
   "metadata": {},
   "outputs": [],
   "source": [
    "def find_area (fp, landcover_type):\n",
    "    \n",
    "    with rasterio.open(model_directory + fp, 'r') as ds:\n",
    "        array = ds.read()  # read all raster values\n",
    "    \n",
    "    values, counts = np.unique(array, return_counts=True)\n",
    "    df=pd.DataFrame({'values':values,'WholeCatchment': counts})\n",
    "    pc = round((df['WholeCatchment'][0]/(df['WholeCatchment'][0] + df['WholeCatchment'][1])) *100,1)\n",
    "    print(\"{}% of the catchment (with a landcover class) is {}\".format(pc, landcover_type))"
   ]
  },
  {
   "cell_type": "code",
   "execution_count": 7,
   "id": "fa811421",
   "metadata": {},
   "outputs": [],
   "source": [
    "catchment_name = 'LinDyke'\n",
    "if catchment_name == 'LinDyke':\n",
    "    model_directory = '../../../FloodModelling/{}Models/'.format(catchment_name)\n",
    "    catchment_gdf = gpd.read_file(model_directory + 'Model_IdealisedProfiles/CatchmentLinDyke_exported.shp'.format(catchment_name))\n",
    "elif catchment_name == 'WykeBeck':\n",
    "    model_directory = '../../../FloodModelling/{}Models/'.format(catchment_name)\n",
    "    catchment_gdf = gpd.read_file(model_directory + 'Model_IdealisedProfiles/WykeBeckCatchment.shp'.format(catchment_name))"
   ]
  },
  {
   "cell_type": "code",
   "execution_count": 13,
   "id": "9cc13143",
   "metadata": {},
   "outputs": [
    {
     "name": "stdout",
     "output_type": "stream",
     "text": [
      "LinDyke catchment has an area of 22.94km2\n",
      "22.5% of the catchment (with a landcover class) is Urban\n",
      "27.0% of the catchment (with a landcover class) is Urban (including suburban)\n",
      "3.9% of the catchment (with a landcover class) is Water\n",
      "96.1% of the catchment (with a landcover class) is not water\n"
     ]
    }
   ],
   "source": [
    "print(\"{} catchment has an area of {}km2\".format(catchment_name, round((catchment_gdf['geometry'].area /10**6)[0],2)))\n",
    "find_area ('LandCoverData/LandCover_urban_classification.tif', 'Urban')   \n",
    "find_area('LandCoverData/LandCover_urban_and_suburban_classification.tif', 'Urban (including suburban)')\n",
    "find_area('LandCoverData/LandCover_water_classification.tif', 'Water')\n",
    "find_area('LandCoverData/LandCover_notwater_classification.tif', 'not water')"
   ]
  }
 ],
 "metadata": {
  "kernelspec": {
   "display_name": "Python 3 (ipykernel)",
   "language": "python",
   "name": "python3"
  },
  "language_info": {
   "codemirror_mode": {
    "name": "ipython",
    "version": 3
   },
   "file_extension": ".py",
   "mimetype": "text/x-python",
   "name": "python",
   "nbconvert_exporter": "python",
   "pygments_lexer": "ipython3",
   "version": "3.9.7"
  }
 },
 "nbformat": 4,
 "nbformat_minor": 5
}
