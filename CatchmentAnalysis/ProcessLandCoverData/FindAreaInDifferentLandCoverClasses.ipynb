{
 "cells": [
  {
   "cell_type": "code",
   "execution_count": 1,
   "id": "ede1cc87",
   "metadata": {},
   "outputs": [],
   "source": [
    "import geopandas as gpd\n",
    "import rasterio\n",
    "import numpy as np\n",
    "import pandas as pd\n",
    "\n",
    "import sys\n",
    "sys.path.append(\"../ProcessModelResults/\")\n",
    "from my_functions import *"
   ]
  },
  {
   "cell_type": "code",
   "execution_count": 2,
   "id": "789511f0",
   "metadata": {},
   "outputs": [],
   "source": [
    "def find_area (fp, landcover_type, crop_or_not, cell_size_in_m2):\n",
    "    array, out_meta  = open_and_clip_to_catchment(model_directory + fp, catchment_gdf, crop_or_not)\n",
    "    values, counts = np.unique(array, return_counts=True)\n",
    "    df=pd.DataFrame({'values':values,'WholeCatchment': counts})\n",
    "    df['MultipliedByCellArea'] = df['WholeCatchment'] * cell_size_in_m2 \n",
    "    pc = round((df['WholeCatchment'][0]/(df['WholeCatchment'][0] + df['WholeCatchment'][1])) *100,1)\n",
    "    pc2 = round((df['MultipliedByCellArea'][0]/(df['MultipliedByCellArea'][0] + df['MultipliedByCellArea'][1])) *100,1)\n",
    "    print(df)\n",
    "    print(\"{}% of the catchment (with a landcover class) is {}\".format(pc, landcover_type))\n",
    "    print(\"{}% of the catchment (with a landcover class) is {}\".format(pc2, landcover_type))"
   ]
  },
  {
   "cell_type": "code",
   "execution_count": 3,
   "id": "eefa1096",
   "metadata": {},
   "outputs": [],
   "source": [
    "catchment_name = 'WykeBeck'"
   ]
  },
  {
   "cell_type": "code",
   "execution_count": 4,
   "id": "fa811421",
   "metadata": {},
   "outputs": [],
   "source": [
    "if catchment_name == 'LinDyke':\n",
    "    model_directory = '../../../FloodModelling/{}Models/'.format(catchment_name)\n",
    "    catchment_gdf = gpd.read_file(model_directory + 'Model_IdealisedProfiles/CatchmentLinDyke_exported.shp'.format(catchment_name))\n",
    "    crop_or_not = True\n",
    "    cell_size_in_m2 =1 \n",
    "elif catchment_name == 'WykeBeck':\n",
    "    model_directory = '../../../FloodModelling/{}Models/'.format(catchment_name)\n",
    "    catchment_gdf = gpd.read_file(model_directory + 'Model_IdealisedProfiles/WykeBeckCatchment.shp'.format(catchment_name))\n",
    "    crop_or_not = False \n",
    "    cell_size_in_m2 = 4"
   ]
  },
  {
   "cell_type": "code",
   "execution_count": 5,
   "id": "3ea3eeb4",
   "metadata": {},
   "outputs": [
    {
     "name": "stdout",
     "output_type": "stream",
     "text": [
      "WykeBeck catchment has an area of 32.83km2\n",
      "   values  WholeCatchment  MultipliedByCellArea\n",
      "0    15.0         5156480              20625920\n",
      "1    16.0         3053905              12215620\n",
      "2     NaN        10673271              42693084\n",
      "62.8% of the catchment (with a landcover class) is Urban (including suburban)\n",
      "62.8% of the catchment (with a landcover class) is Urban (including suburban)\n",
      "   values  WholeCatchment  MultipliedByCellArea\n",
      "0    15.0         8132143              32528572\n",
      "1    16.0           78242                312968\n",
      "2     NaN        10673271              42693084\n",
      "99.0% of the catchment (with a landcover class) is not water\n",
      "99.0% of the catchment (with a landcover class) is not water\n"
     ]
    }
   ],
   "source": [
    "print(\"{} catchment has an area of {}km2\".format(catchment_name, round((catchment_gdf['geometry'].area /10**6)[0],2)))\n",
    "# find_area ('LandCoverData/LandCover_Urban_classification.tif', 'Urban')   \n",
    "find_area('LandCoverData/LandCover_urban_and_suburban_classification.tif', 'Urban (including suburban)', True, cell_size_in_m2)\n",
    "# find_area('LandCoverData/LandCover_Freshwater_classification.tif', 'Water')\n",
    "find_area('LandCoverData/LandCover_notwater_classification.tif', 'not water', True, cell_size_in_m2)\n",
    "# find_area('LandCoverData/LandCover_Arable_classification.tif', 'arable')"
   ]
  },
  {
   "cell_type": "code",
   "execution_count": 45,
   "id": "4559a415",
   "metadata": {},
   "outputs": [],
   "source": [
    "classes_dict_lindyke = {'SubUrban':1, 'Arable':2, 'DeciduousWoodland':3, 'Freshwater':4, 'ImprovedGrassland':5, 'Urban':6, \n",
    "                  'NeutralGrassland':7, 'CalcareousGrassland':8, 'HeatherGrassland':9}\n",
    "\n",
    "classes_dict_wykebeck = {'Arable':1, 'Urban':2, 'Freshwater':3, 'Deciduous woodland':4, 'SubUrban':5, 'Improved Grassland':6, \n",
    "                  'Neutral grassland':7, 'Calcareous grassland':8, 'Heather grassland':9}"
   ]
  },
  {
   "cell_type": "code",
   "execution_count": 46,
   "id": "d0573f0d",
   "metadata": {},
   "outputs": [
    {
     "data": {
      "text/plain": [
       "0.6280436301099157"
      ]
     },
     "execution_count": 46,
     "metadata": {},
     "output_type": "execute_result"
    }
   ],
   "source": [
    "# print(\"{} catchment has an area of {}km2\".format(catchment_name, round((catchment_gdf['geometry'].area /10**6)[0],2)))\n",
    "# for landcover_class in  classes_dict_lindyke:\n",
    "#     find_area (f\"LandCoverData/LandCover_{landcover_class}_classification.tif\", landcover_class)   \n",
    "    \n",
    "5156480/(5156480+3053905)"
   ]
  }
 ],
 "metadata": {
  "kernelspec": {
   "display_name": "Python 3 (ipykernel)",
   "language": "python",
   "name": "python3"
  },
  "language_info": {
   "codemirror_mode": {
    "name": "ipython",
    "version": 3
   },
   "file_extension": ".py",
   "mimetype": "text/x-python",
   "name": "python",
   "nbconvert_exporter": "python",
   "pygments_lexer": "ipython3",
   "version": "3.9.7"
  }
 },
 "nbformat": 4,
 "nbformat_minor": 5
}
