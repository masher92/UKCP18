{
 "cells": [
  {
   "cell_type": "code",
   "execution_count": 1,
   "id": "48b152e4",
   "metadata": {},
   "outputs": [],
   "source": [
    "import rasterio\n",
    "import numpy as np\n",
    "import geopandas as gpd\n",
    "from rasterio.features import shapes\n",
    "from shapely.geometry import shape\n",
    "import os"
   ]
  },
  {
   "cell_type": "code",
   "execution_count": 2,
   "id": "acb77fa7",
   "metadata": {},
   "outputs": [],
   "source": [
    "os.chdir(\"/nfs/a161/gy17m2a/PhD/FloodModelling/WykeBeckModels/LandCoverData/LandCoverData\")"
   ]
  },
  {
   "cell_type": "code",
   "execution_count": 14,
   "id": "14868f2d",
   "metadata": {},
   "outputs": [
    {
     "name": "stderr",
     "output_type": "stream",
     "text": [
      "/nfs/a321/gy17m2a/anaconda_install/anaconda3/envs/pygeospatial/lib/python3.9/site-packages/geopandas/plotting.py:681: UserWarning: The GeoDataFrame you are attempting to plot is empty. Nothing has been displayed.\n",
      "  warnings.warn(\n"
     ]
    },
    {
     "data": {
      "text/plain": [
       "<Axes: >"
      ]
     },
     "execution_count": 14,
     "metadata": {},
     "output_type": "execute_result"
    },
    {
     "data": {
      "image/png": "[encoded data removed]",
      "text/plain": [
       "<Figure size 640x480 with 1 Axes>"
      ]
     },
     "metadata": {},
     "output_type": "display_data"
    }
   ],
   "source": [
    "# Define the target land cover class (e.g., class 3)\n",
    "target_class =12\n",
    "\n",
    "# Read the raster file\n",
    "with rasterio.open(\"LandCover_resized.tif\") as src:\n",
    "    landcover = src.read(1)  # Read the first band\n",
    "    transform = src.transform  # Get the affine transformation\n",
    "    \n",
    "# Create a binary mask where the land cover equals the target class\n",
    "mask = landcover == target_class\n",
    "\n",
    "# Convert the mask into polygons\n",
    "shapes_gen = shapes(landcover, mask=mask, transform=transform)\n",
    "\n",
    "# Convert to a list of shapely geometries\n",
    "polygons = [shape(geom) for geom, value in shapes_gen]\n",
    "\n",
    "# Create a GeoDataFrame to store the vector outlines\n",
    "gdf = gpd.GeoDataFrame(geometry=polygons, crs=\"EPSG:27700\")\n",
    "gdf.plot()\n",
    "\n",
    "# # Save as a shapefile (optional)\n",
    "# gdf.to_file(\"landcover_class_outline.shp\")\n",
    "\n",
    "# # Display the GeoDataFrame\n",
    "# print(gdf)\n"
   ]
  }
 ],
 "metadata": {
  "kernelspec": {
   "display_name": "Python 3 (ipykernel)",
   "language": "python",
   "name": "python3"
  },
  "language_info": {
   "codemirror_mode": {
    "name": "ipython",
    "version": 3
   },
   "file_extension": ".py",
   "mimetype": "text/x-python",
   "name": "python",
   "nbconvert_exporter": "python",
   "pygments_lexer": "ipython3",
   "version": "3.9.7"
  }
 },
 "nbformat": 4,
 "nbformat_minor": 5
}
