{
 "cells": [
  {
   "cell_type": "code",
   "execution_count": 1,
   "id": "7652a1ab",
   "metadata": {},
   "outputs": [],
   "source": [
    "catchment_name = 'LinDyke'"
   ]
  },
  {
   "cell_type": "code",
   "execution_count": 2,
   "id": "62d982f2",
   "metadata": {},
   "outputs": [],
   "source": [
    "from shapely.geometry import box\n",
    "import sys\n",
    "\n",
    "sys.path.append(\"../ProcessModelResults/\")\n",
    "from my_functions import *\n",
    "\n",
    "def save_clipped_to_gdf(raster, out_meta, catchment_gdf, fp):\n",
    "    save_array_as_raster(raster, fp, out_meta)\n",
    "    \n",
    "    with rasterio.open(fp) as src:\n",
    "        catchment_gdf=catchment_gdf.to_crs(src.crs)\n",
    "        # print(Vector.crs)\n",
    "        out_image, out_transform=mask(src,catchment_gdf.geometry,crop=True)\n",
    "        out_meta=src.meta.copy() # copy the metadata of the source DEM\n",
    "\n",
    "    out_meta.update({\"driver\":\"Gtiff\", \"height\":out_image.shape[1], # height starts with shape[1]\n",
    "        \"width\":out_image.shape[2], # width starts with shape[2]\n",
    "        \"transform\":out_transform\n",
    "    })\n",
    "\n",
    "    with rasterio.open(fp,'w',**out_meta) as dst:\n",
    "        dst.write(out_image)  "
   ]
  },
  {
   "cell_type": "code",
   "execution_count": 3,
   "id": "1c8f1d83",
   "metadata": {},
   "outputs": [],
   "source": [
    "model_directory = '../../../FloodModelling/{}Models/'.format(catchment_name)"
   ]
  },
  {
   "cell_type": "code",
   "execution_count": 5,
   "id": "f887f431",
   "metadata": {},
   "outputs": [],
   "source": [
    "# Specify strings relating to catchment\n",
    "if catchment_name == 'LinDyke':\n",
    "    minx, miny, maxx, maxy = 437000,  426500,  445500, 434300\n",
    "    # catchment_gdf = gpd.read_file(model_directory + 'Model_IdealisedProfiles/CatchmentLinDyke_exported.shp')\n",
    "    catchment_gdf = gpd.read_file(os.path.join(model_directory, 'SubCatchmentBoundaries/ManualTrimAboveWetlands.shp'))\n",
    "    terrain_fp = model_directory + 'TerrainData/terrain.tif'\n",
    "elif catchment_name == 'WykeBeck':\n",
    "    minx, miny, maxx, maxy = 430004,  429978, 438660, 440996 \n",
    "    catchment_gdf = gpd.read_file(model_directory + 'Model_IdealisedProfiles/WykeBeckCatchment.shp')\n",
    "    terrain_fp = model_directory + 'TerrainData/Terrain.wykeDEM.tif'\n",
    "# Create a bounding box (this is used in preparing the rasters)\n",
    "bbox = box(minx, miny, maxx, maxy)    "
   ]
  },
  {
   "cell_type": "code",
   "execution_count": 6,
   "id": "c940e561",
   "metadata": {},
   "outputs": [],
   "source": [
    "terrain, out_meta = open_and_clip(terrain_fp, bbox)"
   ]
  },
  {
   "cell_type": "code",
   "execution_count": 7,
   "id": "5c4e7b58",
   "metadata": {},
   "outputs": [],
   "source": [
    "if catchment_name == 'LinDyke':\n",
    "    original_landcover_fp = \"LandCover_resized\"\n",
    "elif catchment_name == 'WykeBeck':\n",
    "    original_landcover_fp = \"LandCover_resized\"\n",
    "    original_landcover_fp = \"LandCover_clipped_MA_Download_resampled2m\"\n",
    "\n",
    "landcover_clipped, out_meta = open_and_clip(model_directory + 'LandCoverData/{}.tif'.format(original_landcover_fp), bbox)"
   ]
  },
  {
   "cell_type": "code",
   "execution_count": 9,
   "id": "9489f0be",
   "metadata": {},
   "outputs": [],
   "source": [
    "output_fp_terrain = model_directory + 'TerrainData/Terrain_clipped_withoutwetlands.tif'\n",
    "save_clipped_to_gdf(terrain, out_meta, catchment_gdf, output_fp_terrain)\n",
    "\n",
    "output_fp_landcover = model_directory + 'LandCoverData/LandCover_clipped_withoutwetlands.tif'\n",
    "save_clipped_to_gdf(landcover_clipped, out_meta, catchment_gdf, output_fp_landcover)"
   ]
  }
 ],
 "metadata": {
  "kernelspec": {
   "display_name": "Python 3 (ipykernel)",
   "language": "python",
   "name": "python3"
  },
  "language_info": {
   "codemirror_mode": {
    "name": "ipython",
    "version": 3
   },
   "file_extension": ".py",
   "mimetype": "text/x-python",
   "name": "python",
   "nbconvert_exporter": "python",
   "pygments_lexer": "ipython3",
   "version": "3.9.7"
  }
 },
 "nbformat": 4,
 "nbformat_minor": 5
}
