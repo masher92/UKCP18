version https://git-lfs.github.com/spec/v1
oid sha256:60aa1b058eadb37a471dd03a36c552806ff9ea9a944f13246d3d6489e18cf5c6
size 2404313
