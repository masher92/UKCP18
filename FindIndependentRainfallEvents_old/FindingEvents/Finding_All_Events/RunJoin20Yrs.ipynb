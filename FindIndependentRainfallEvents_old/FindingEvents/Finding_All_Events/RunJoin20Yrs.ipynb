{
 "cells": [
  {
   "cell_type": "code",
   "execution_count": 6,
   "id": "d7606380",
   "metadata": {},
   "outputs": [
    {
     "name": "stdout",
     "output_type": "stream",
     "text": [
      "8\n",
      "Loaded data\n",
      "Joined\n",
      "Saved\n"
     ]
    }
   ],
   "source": [
    "import pandas as pd\n",
    "import iris\n",
    "import sys\n",
    "import iris.coord_categorisation\n",
    "\n",
    "sys.path.insert(1, '../Finding_AMAX_Events')\n",
    "sys.path.insert(1, '../')\n",
    "from Identify_Events_Functions import *\n",
    "from Prepare_Data_Functions import *\n",
    "\n",
    "yrs_range= '2060_2081'\n",
    "em = 'bb198'\n",
    "\n",
    "# Get Tb0 values at each gauge\n",
    "tbo_vals = pd.read_csv('/nfs/a319/gy17m2a/PhD/datadir/RainGauge/interarrival_thresholds_CDD_noMissing.txt')\n",
    "# Read in a sample cube for finding the location of gauge in grid\n",
    "sample_cube = iris.load(f'/nfs/a319/gy17m2a/PhD/datadir/UKCP18_every30mins/2.2km_bng/{yrs_range}/{em}/bng_{em}a.pr206101.nc')[0][1,:,:]\n",
    "\n",
    "for gauge_num in range(10, 1294):\n",
    "    print(gauge_num)\n",
    "    Tb0, idx_2d = find_gauge_Tb0_and_location_in_grid(tbo_vals, gauge_num, sample_cube)\n",
    "    general_filename = f'/nfs/a319/gy17m2a/PhD/datadir/UKCP18_every30mins/2.2km_bng/{yrs_range}/{em}/bng_{em}a.pr*'\n",
    "    # Year isnt actually doing anything here \n",
    "    cubes = load_files_to_cubelist(2061, general_filename)\n",
    "    print(\"Loaded data\")\n",
    "\n",
    "    cubes = clean_cubes_v2(cubes)\n",
    "\n",
    "    # Assuming your CubeList is called `cube_list`\n",
    "    filtered_cubes = iris.cube.CubeList()\n",
    "\n",
    "    # Define the coordinates to filter by\n",
    "    y_idx = idx_2d[0]\n",
    "    x_idx = idx_2d[1]\n",
    "\n",
    "    # Loop through each cube in the CubeList and filter\n",
    "    for cube in cubes:\n",
    "        iris.coord_categorisation.add_year(cube, 'time')\n",
    "        # Extract the data at the specified y_idx and x_idx\n",
    "        filtered_cube = cube[:, y_idx, x_idx]\n",
    "\n",
    "        # Append the filtered cube to the new CubeList\n",
    "        filtered_cubes.append(filtered_cube)\n",
    "\n",
    "    full_timeslice_cube = filtered_cubes.concatenate_cube()     \n",
    "\n",
    "    # Categorize the time coordinate to extract years\n",
    "    exclude_2080_constraint = iris.Constraint(year=lambda cell: cell != 2080)\n",
    "    full_timeslice_cube = full_timeslice_cube.extract(exclude_2080_constraint)\n",
    "\n",
    "    print(\"Joined\")       \n",
    "    if not os.path.exists(f'../../../../datadir/Gauge_Timeslices/2060_2081/{em}/'):\n",
    "        os.makedirs(f'../../../../datadir/Gauge_Timeslices/2060_2081/{em}/')\n",
    "    iris.save(full_timeslice_cube, f'../../../../datadir/Gauge_Timeslices/2060_2081/{em}/gauge{gauge_num}_farFuture.nc')\n",
    "    print(\"Saved\")"
   ]
  }
 ],
 "metadata": {
  "kernelspec": {
   "display_name": "Python 3 (ipykernel)",
   "language": "python",
   "name": "python3"
  },
  "language_info": {
   "codemirror_mode": {
    "name": "ipython",
    "version": 3
   },
   "file_extension": ".py",
   "mimetype": "text/x-python",
   "name": "python",
   "nbconvert_exporter": "python",
   "pygments_lexer": "ipython3",
   "version": "3.7.13"
  }
 },
 "nbformat": 4,
 "nbformat_minor": 5
}
