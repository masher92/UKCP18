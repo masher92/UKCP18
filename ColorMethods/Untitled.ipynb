version https://git-lfs.github.com/spec/v1
oid sha256:54449b406478ab1aebb45a20a78a0631e92aed1f08020d899ec81f2029a9bbaa
size 1861
