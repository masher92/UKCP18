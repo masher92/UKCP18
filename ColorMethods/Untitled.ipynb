{
 "cells": [
  {
   "cell_type": "code",
   "execution_count": 5,
   "id": "1ee3a90d",
   "metadata": {},
   "outputs": [],
   "source": [
    "import numpy as np\n",
    "import matplotlib as mpl"
   ]
  },
  {
   "cell_type": "code",
   "execution_count": 9,
   "id": "bc3b161c",
   "metadata": {},
   "outputs": [
    {
     "data": {
      "text/plain": [
       "['#ef0010',\n",
       " '#df0020',\n",
       " '#cf0030',\n",
       " '#bf0040',\n",
       " '#af0050',\n",
       " '#9f0060',\n",
       " '#8f0070',\n",
       " '#800080',\n",
       " '#70008f',\n",
       " '#60009f',\n",
       " '#5000af',\n",
       " '#4000bf',\n",
       " '#3000cf',\n",
       " '#2000df',\n",
       " '#1000ef',\n",
       " '#0000ff']"
      ]
     },
     "execution_count": 9,
     "metadata": {},
     "output_type": "execute_result"
    }
   ],
   "source": [
    "def colorFader(c1,c2,mix=0): #fade (linear interpolate) from color c1 (at mix=0) to c2 (mix=1)\n",
    "    c1=np.array(mpl.colors.to_rgb(c1))\n",
    "    c2=np.array(mpl.colors.to_rgb(c2))\n",
    "    return mpl.colors.to_hex((1-mix)*c1 + mix*c2)\n",
    "\n",
    "i=1\n",
    "c1='red' #blue\n",
    "c2='blue' #green\n",
    "n = 16\n",
    "x = np.linspace(0,3*np.pi,100)\n",
    "colors = colorFader(c1,c2,i/n)\n",
    "colors=[]\n",
    "for i in range(1,n+1):\n",
    "    colors.append(colorFader(c1,c2,i/n))\n",
    "colors"
   ]
  }
 ],
 "metadata": {
  "kernelspec": {
   "display_name": "Python 3 (ipykernel)",
   "language": "python",
   "name": "python3"
  },
  "language_info": {
   "codemirror_mode": {
    "name": "ipython",
    "version": 3
   },
   "file_extension": ".py",
   "mimetype": "text/x-python",
   "name": "python",
   "nbconvert_exporter": "python",
   "pygments_lexer": "ipython3",
   "version": "3.9.7"
  }
 },
 "nbformat": 4,
 "nbformat_minor": 5
}
