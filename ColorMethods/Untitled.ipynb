{
 "cells": [
  {
   "cell_type": "code",
   "execution_count": 2,
   "id": "1ee3a90d",
   "metadata": {},
   "outputs": [],
   "source": [
    "import numpy as np\n",
    "import matplotlib as mpl"
   ]
  },
  {
   "cell_type": "code",
   "execution_count": 3,
   "id": "bc3b161c",
   "metadata": {},
   "outputs": [
    {
     "data": {
      "text/plain": [
       "['#73d273', '#56b756', '#3a9b3a', '#1d801d', '#006400']"
      ]
     },
     "execution_count": 3,
     "metadata": {},
     "output_type": "execute_result"
    }
   ],
   "source": [
    "def colorFader(c1,c2,mix=0): #fade (linear interpolate) from color c1 (at mix=0) to c2 (mix=1)\n",
    "    c1=np.array(mpl.colors.to_rgb(c1))\n",
    "    c2=np.array(mpl.colors.to_rgb(c2))\n",
    "    return mpl.colors.to_hex((1-mix)*c1 + mix*c2)\n",
    "\n",
    "i=1\n",
    "c1='lightgreen' #blue\n",
    "c2='darkgreen' #green\n",
    "n = 5\n",
    "x = np.linspace(0,3*np.pi,100)\n",
    "colors = colorFader(c1,c2,i/n)\n",
    "colors=[]\n",
    "for i in range(1,n+1):\n",
    "    colors.append(colorFader(c1,c2,i/n))\n",
    "colors"
   ]
  },
  {
   "cell_type": "code",
   "execution_count": 4,
   "id": "d0969884",
   "metadata": {},
   "outputs": [
    {
     "data": {
      "text/plain": [
       "['#82a2cf', '#566cb8', '#2b36a2', '#00008b']"
      ]
     },
     "execution_count": 4,
     "metadata": {},
     "output_type": "execute_result"
    }
   ],
   "source": [
    "def colorFader(c1,c2,mix=0): #fade (linear interpolate) from color c1 (at mix=0) to c2 (mix=1)\n",
    "    c1=np.array(mpl.colors.to_rgb(c1))\n",
    "    c2=np.array(mpl.colors.to_rgb(c2))\n",
    "    return mpl.colors.to_hex((1-mix)*c1 + mix*c2)\n",
    "\n",
    "i=1\n",
    "c1='lightblue' #blue\n",
    "c2='darkblue' #green\n",
    "n = 4\n",
    "x = np.linspace(0,3*np.pi,100)\n",
    "colors = colorFader(c1,c2,i/n)\n",
    "colors=[]\n",
    "for i in range(1,n+1):\n",
    "    colors.append(colorFader(c1,c2,i/n))\n",
    "colors"
   ]
  }
 ],
 "metadata": {
  "kernelspec": {
   "display_name": "Python 3 (ipykernel)",
   "language": "python",
   "name": "python3"
  },
  "language_info": {
   "codemirror_mode": {
    "name": "ipython",
    "version": 3
   },
   "file_extension": ".py",
   "mimetype": "text/x-python",
   "name": "python",
   "nbconvert_exporter": "python",
   "pygments_lexer": "ipython3",
   "version": "3.9.7"
  }
 },
 "nbformat": 4,
 "nbformat_minor": 5
}
