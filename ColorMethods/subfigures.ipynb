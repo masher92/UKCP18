values_to_plot = ['Real_vals', 'AbsolouteError', 'Error', 'Percentage_Difference']

def plot_values (ax, value_to_plot):
    anzac_day_hourly_values[value_to_plot].plot(ax=ax)
    
fig, axs = plt.subplots(nrows=2, ncols=2, figsize = (20,10), sharex = True, sharey = True)
# plt.subplots_adjust(left=None, bottom=None, right=None, top=None, wspace=None, hspace=0.25)

for number, ax in enumerate(axs.reshape(-1)): 
    plot_values(ax, values_to_plot[number])
