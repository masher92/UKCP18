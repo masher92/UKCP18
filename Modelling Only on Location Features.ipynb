{
 "cells": [
  {
   "cell_type": "code",
   "execution_count": 16,
   "metadata": {
    "ExecuteTime": {
     "end_time": "2020-05-19T09:24:25.447929Z",
     "start_time": "2020-05-19T09:23:32.094605Z"
    }
   },
   "outputs": [],
   "source": [
    "import pandas as pd\n",
    "from sklearn.linear_model import LinearRegression, Ridge, Lasso, ElasticNet\n",
    "from sklearn.preprocessing import StandardScaler\n",
    "from sklearn.model_selection import train_test_split, cross_val_score, GridSearchCV\n",
    "import numpy as np\n",
    "import matplotlib.pyplot as plt\n",
    "import seaborn as sns\n",
    "import statsmodels.api as sm\n",
    "import itertools\n",
    "from statsmodels.tsa.stattools import pacf, acf\n",
    "from statsmodels.graphics.tsaplots import plot_pacf, plot_acf\n",
    "from IPython.display import Image\n",
    "from statsmodels.tsa.seasonal import seasonal_decompose\n",
    "from sklearn.metrics import classification_report, mean_squared_error,r2_score\n",
    "from sklearn.tree import DecisionTreeRegressor\n",
    "from Functions import *"
   ]
  },
  {
   "cell_type": "code",
   "execution_count": 22,
   "metadata": {
    "ExecuteTime": {
     "end_time": "2020-05-19T09:24:26.234639Z",
     "start_time": "2020-05-19T09:24:25.459204Z"
    }
   },
   "outputs": [],
   "source": [
    "all_sensors = pd.read_csv('../Cleaned_data/validsensors.csv')\n",
    "weather = pd.read_csv('../Cleaned_data/weather_data_allyears.csv')\n",
    "public_holidays = pd.read_csv('../Cleaned_data/publicholidays.csv')\n",
    "features_near_sensors= pd.read_csv('../Cleaned_data/num_features_near_sensors_100.csv', index_col=0)\n",
    "feature_subtypes_near_sensors = pd.read_csv('../Cleaned_data/feature_subtypes_near_sensors_100.csv', index_col=0).T"
   ]
  },
  {
   "cell_type": "code",
   "execution_count": 23,
   "metadata": {
    "ExecuteTime": {
     "end_time": "2020-05-19T09:30:11.907664Z",
     "start_time": "2020-05-19T09:30:11.739708Z"
    }
   },
   "outputs": [],
   "source": [
    "all_sensors = create_formatted_df(all_sensors, features_near_sensors, feature_subtypes_near_sensors, public_holidays, \n",
    "                                  weather)"
   ]
  },
  {
   "cell_type": "markdown",
   "metadata": {},
   "source": [
    "## Use only location factors to predict Daily Average Count"
   ]
  },
  {
   "cell_type": "code",
   "execution_count": 30,
   "metadata": {
    "ExecuteTime": {
     "end_time": "2020-05-19T14:59:34.465738Z",
     "start_time": "2020-05-19T14:59:34.244982Z"
    }
   },
   "outputs": [
    {
     "data": {
      "text/plain": [
       "Index([     'sensor_id',  'hourly_counts',          'bikes',         'lights',\n",
       "            'furniture',      'landmarks',      'buildings',         'Monday',\n",
       "             'Saturday',         'Sunday',       'Thursday',        'Tuesday',\n",
       "            'Wednesday',         'August',       'December',       'February',\n",
       "              'January',           'July',           'June',          'March',\n",
       "                  'May',       'November',        'October',      'September',\n",
       "                   2012,             2013,             2014,             2015,\n",
       "                   2016,             2017,             2018,             2019,\n",
       "                   2020,             2021,             2022,            'h_1',\n",
       "                  'h_2',            'h_3',            'h_4',            'h_5',\n",
       "                  'h_6',            'h_7',            'h_8',            'h_9',\n",
       "                 'h_10',           'h_11',           'h_12',           'h_13',\n",
       "                 'h_14',           'h_15',           'h_16',           'h_17',\n",
       "                 'h_18',           'h_19',           'h_20',           'h_21',\n",
       "                 'h_22',           'h_23',           'Temp',       'Humidity',\n",
       "             'Pressure',           'Rain',      'WindSpeed', 'public_holiday'],\n",
       "      dtype='object')"
      ]
     },
     "execution_count": 30,
     "metadata": {},
     "output_type": "execute_result"
    }
   ],
   "source": [
    "# locations = all_sensors.drop(['year', 'mdate'], axis = 1)\n",
    "all_sensors.columns"
   ]
  },
  {
   "cell_type": "code",
   "execution_count": 142,
   "metadata": {
    "ExecuteTime": {
     "end_time": "2020-05-19T14:59:35.056574Z",
     "start_time": "2020-05-19T14:59:34.899663Z"
    }
   },
   "outputs": [
    {
     "data": {
      "text/html": [
       "<div>\n",
       "<style scoped>\n",
       "    .dataframe tbody tr th:only-of-type {\n",
       "        vertical-align: middle;\n",
       "    }\n",
       "\n",
       "    .dataframe tbody tr th {\n",
       "        vertical-align: top;\n",
       "    }\n",
       "\n",
       "    .dataframe thead th {\n",
       "        text-align: right;\n",
       "    }\n",
       "</style>\n",
       "<table border=\"1\" class=\"dataframe\">\n",
       "  <thead>\n",
       "    <tr style=\"text-align: right;\">\n",
       "      <th></th>\n",
       "      <th>Barbeque</th>\n",
       "      <th>Bicycle Rails</th>\n",
       "      <th>Bin Corral</th>\n",
       "      <th>Bollard</th>\n",
       "      <th>Commercial Accommodation</th>\n",
       "      <th>Community Use</th>\n",
       "      <th>Community Use.1</th>\n",
       "      <th>Drinking Fountain</th>\n",
       "      <th>Education Centre</th>\n",
       "      <th>Educational/Research</th>\n",
       "      <th>...</th>\n",
       "      <th>Unoccupied - Unused</th>\n",
       "      <th>Vacant Land</th>\n",
       "      <th>Warehouse/Store</th>\n",
       "      <th>Wholesale</th>\n",
       "      <th>Workshop/Studio</th>\n",
       "      <th>avg_n_floors</th>\n",
       "      <th>daily_avg_counts</th>\n",
       "      <th>num_bikes</th>\n",
       "      <th>num_lights</th>\n",
       "      <th>sensor_id</th>\n",
       "    </tr>\n",
       "  </thead>\n",
       "  <tbody>\n",
       "    <tr>\n",
       "      <td>0</td>\n",
       "      <td>0</td>\n",
       "      <td>26</td>\n",
       "      <td>0</td>\n",
       "      <td>80</td>\n",
       "      <td>1.0</td>\n",
       "      <td>1</td>\n",
       "      <td>0.0</td>\n",
       "      <td>3</td>\n",
       "      <td>0</td>\n",
       "      <td>1.0</td>\n",
       "      <td>...</td>\n",
       "      <td>4.0</td>\n",
       "      <td>0</td>\n",
       "      <td>0</td>\n",
       "      <td>0.0</td>\n",
       "      <td>0.0</td>\n",
       "      <td>6.266667</td>\n",
       "      <td>706.083333</td>\n",
       "      <td>0</td>\n",
       "      <td>44</td>\n",
       "      <td>2</td>\n",
       "    </tr>\n",
       "    <tr>\n",
       "      <td>1</td>\n",
       "      <td>0</td>\n",
       "      <td>26</td>\n",
       "      <td>0</td>\n",
       "      <td>80</td>\n",
       "      <td>1.0</td>\n",
       "      <td>1</td>\n",
       "      <td>0.0</td>\n",
       "      <td>3</td>\n",
       "      <td>0</td>\n",
       "      <td>1.0</td>\n",
       "      <td>...</td>\n",
       "      <td>4.0</td>\n",
       "      <td>0</td>\n",
       "      <td>0</td>\n",
       "      <td>0.0</td>\n",
       "      <td>0.0</td>\n",
       "      <td>6.266667</td>\n",
       "      <td>762.000000</td>\n",
       "      <td>0</td>\n",
       "      <td>44</td>\n",
       "      <td>2</td>\n",
       "    </tr>\n",
       "    <tr>\n",
       "      <td>2</td>\n",
       "      <td>0</td>\n",
       "      <td>26</td>\n",
       "      <td>0</td>\n",
       "      <td>80</td>\n",
       "      <td>1.0</td>\n",
       "      <td>1</td>\n",
       "      <td>0.0</td>\n",
       "      <td>3</td>\n",
       "      <td>0</td>\n",
       "      <td>1.0</td>\n",
       "      <td>...</td>\n",
       "      <td>4.0</td>\n",
       "      <td>0</td>\n",
       "      <td>0</td>\n",
       "      <td>0.0</td>\n",
       "      <td>0.0</td>\n",
       "      <td>6.266667</td>\n",
       "      <td>1137.708333</td>\n",
       "      <td>0</td>\n",
       "      <td>44</td>\n",
       "      <td>2</td>\n",
       "    </tr>\n",
       "    <tr>\n",
       "      <td>3</td>\n",
       "      <td>0</td>\n",
       "      <td>26</td>\n",
       "      <td>0</td>\n",
       "      <td>80</td>\n",
       "      <td>1.0</td>\n",
       "      <td>1</td>\n",
       "      <td>0.0</td>\n",
       "      <td>3</td>\n",
       "      <td>0</td>\n",
       "      <td>1.0</td>\n",
       "      <td>...</td>\n",
       "      <td>4.0</td>\n",
       "      <td>0</td>\n",
       "      <td>0</td>\n",
       "      <td>0.0</td>\n",
       "      <td>0.0</td>\n",
       "      <td>6.266667</td>\n",
       "      <td>1299.333333</td>\n",
       "      <td>0</td>\n",
       "      <td>44</td>\n",
       "      <td>2</td>\n",
       "    </tr>\n",
       "    <tr>\n",
       "      <td>4</td>\n",
       "      <td>0</td>\n",
       "      <td>26</td>\n",
       "      <td>0</td>\n",
       "      <td>80</td>\n",
       "      <td>1.0</td>\n",
       "      <td>1</td>\n",
       "      <td>0.0</td>\n",
       "      <td>3</td>\n",
       "      <td>0</td>\n",
       "      <td>1.0</td>\n",
       "      <td>...</td>\n",
       "      <td>4.0</td>\n",
       "      <td>0</td>\n",
       "      <td>0</td>\n",
       "      <td>0.0</td>\n",
       "      <td>0.0</td>\n",
       "      <td>6.266667</td>\n",
       "      <td>1357.333333</td>\n",
       "      <td>0</td>\n",
       "      <td>44</td>\n",
       "      <td>2</td>\n",
       "    </tr>\n",
       "    <tr>\n",
       "      <td>...</td>\n",
       "      <td>...</td>\n",
       "      <td>...</td>\n",
       "      <td>...</td>\n",
       "      <td>...</td>\n",
       "      <td>...</td>\n",
       "      <td>...</td>\n",
       "      <td>...</td>\n",
       "      <td>...</td>\n",
       "      <td>...</td>\n",
       "      <td>...</td>\n",
       "      <td>...</td>\n",
       "      <td>...</td>\n",
       "      <td>...</td>\n",
       "      <td>...</td>\n",
       "      <td>...</td>\n",
       "      <td>...</td>\n",
       "      <td>...</td>\n",
       "      <td>...</td>\n",
       "      <td>...</td>\n",
       "      <td>...</td>\n",
       "      <td>...</td>\n",
       "    </tr>\n",
       "    <tr>\n",
       "      <td>62286</td>\n",
       "      <td>0</td>\n",
       "      <td>19</td>\n",
       "      <td>0</td>\n",
       "      <td>22</td>\n",
       "      <td>3.0</td>\n",
       "      <td>0</td>\n",
       "      <td>0.0</td>\n",
       "      <td>1</td>\n",
       "      <td>0</td>\n",
       "      <td>3.0</td>\n",
       "      <td>...</td>\n",
       "      <td>1.0</td>\n",
       "      <td>0</td>\n",
       "      <td>0</td>\n",
       "      <td>0.0</td>\n",
       "      <td>0.0</td>\n",
       "      <td>10.784524</td>\n",
       "      <td>639.041667</td>\n",
       "      <td>0</td>\n",
       "      <td>0</td>\n",
       "      <td>53</td>\n",
       "    </tr>\n",
       "    <tr>\n",
       "      <td>62287</td>\n",
       "      <td>0</td>\n",
       "      <td>19</td>\n",
       "      <td>0</td>\n",
       "      <td>22</td>\n",
       "      <td>3.0</td>\n",
       "      <td>0</td>\n",
       "      <td>0.0</td>\n",
       "      <td>1</td>\n",
       "      <td>0</td>\n",
       "      <td>3.0</td>\n",
       "      <td>...</td>\n",
       "      <td>1.0</td>\n",
       "      <td>0</td>\n",
       "      <td>0</td>\n",
       "      <td>0.0</td>\n",
       "      <td>0.0</td>\n",
       "      <td>10.784524</td>\n",
       "      <td>704.500000</td>\n",
       "      <td>0</td>\n",
       "      <td>0</td>\n",
       "      <td>53</td>\n",
       "    </tr>\n",
       "    <tr>\n",
       "      <td>62288</td>\n",
       "      <td>0</td>\n",
       "      <td>19</td>\n",
       "      <td>0</td>\n",
       "      <td>22</td>\n",
       "      <td>3.0</td>\n",
       "      <td>0</td>\n",
       "      <td>0.0</td>\n",
       "      <td>1</td>\n",
       "      <td>0</td>\n",
       "      <td>3.0</td>\n",
       "      <td>...</td>\n",
       "      <td>1.0</td>\n",
       "      <td>0</td>\n",
       "      <td>0</td>\n",
       "      <td>0.0</td>\n",
       "      <td>0.0</td>\n",
       "      <td>10.784524</td>\n",
       "      <td>608.375000</td>\n",
       "      <td>0</td>\n",
       "      <td>0</td>\n",
       "      <td>53</td>\n",
       "    </tr>\n",
       "    <tr>\n",
       "      <td>62289</td>\n",
       "      <td>0</td>\n",
       "      <td>19</td>\n",
       "      <td>0</td>\n",
       "      <td>22</td>\n",
       "      <td>3.0</td>\n",
       "      <td>0</td>\n",
       "      <td>0.0</td>\n",
       "      <td>1</td>\n",
       "      <td>0</td>\n",
       "      <td>3.0</td>\n",
       "      <td>...</td>\n",
       "      <td>1.0</td>\n",
       "      <td>0</td>\n",
       "      <td>0</td>\n",
       "      <td>0.0</td>\n",
       "      <td>0.0</td>\n",
       "      <td>10.784524</td>\n",
       "      <td>527.500000</td>\n",
       "      <td>0</td>\n",
       "      <td>0</td>\n",
       "      <td>53</td>\n",
       "    </tr>\n",
       "    <tr>\n",
       "      <td>62290</td>\n",
       "      <td>0</td>\n",
       "      <td>19</td>\n",
       "      <td>0</td>\n",
       "      <td>22</td>\n",
       "      <td>3.0</td>\n",
       "      <td>0</td>\n",
       "      <td>0.0</td>\n",
       "      <td>1</td>\n",
       "      <td>0</td>\n",
       "      <td>3.0</td>\n",
       "      <td>...</td>\n",
       "      <td>1.0</td>\n",
       "      <td>0</td>\n",
       "      <td>0</td>\n",
       "      <td>0.0</td>\n",
       "      <td>0.0</td>\n",
       "      <td>10.784524</td>\n",
       "      <td>669.625000</td>\n",
       "      <td>0</td>\n",
       "      <td>0</td>\n",
       "      <td>53</td>\n",
       "    </tr>\n",
       "  </tbody>\n",
       "</table>\n",
       "<p>62291 rows × 62 columns</p>\n",
       "</div>"
      ],
      "text/plain": [
       "       Barbeque  Bicycle Rails  Bin Corral  Bollard  Commercial Accommodation  \\\n",
       "0             0             26           0       80                       1.0   \n",
       "1             0             26           0       80                       1.0   \n",
       "2             0             26           0       80                       1.0   \n",
       "3             0             26           0       80                       1.0   \n",
       "4             0             26           0       80                       1.0   \n",
       "...         ...            ...         ...      ...                       ...   \n",
       "62286         0             19           0       22                       3.0   \n",
       "62287         0             19           0       22                       3.0   \n",
       "62288         0             19           0       22                       3.0   \n",
       "62289         0             19           0       22                       3.0   \n",
       "62290         0             19           0       22                       3.0   \n",
       "\n",
       "       Community Use  Community Use.1  Drinking Fountain  Education Centre  \\\n",
       "0                  1              0.0                  3                 0   \n",
       "1                  1              0.0                  3                 0   \n",
       "2                  1              0.0                  3                 0   \n",
       "3                  1              0.0                  3                 0   \n",
       "4                  1              0.0                  3                 0   \n",
       "...              ...              ...                ...               ...   \n",
       "62286              0              0.0                  1                 0   \n",
       "62287              0              0.0                  1                 0   \n",
       "62288              0              0.0                  1                 0   \n",
       "62289              0              0.0                  1                 0   \n",
       "62290              0              0.0                  1                 0   \n",
       "\n",
       "       Educational/Research  ...  Unoccupied - Unused  Vacant Land  \\\n",
       "0                       1.0  ...                  4.0            0   \n",
       "1                       1.0  ...                  4.0            0   \n",
       "2                       1.0  ...                  4.0            0   \n",
       "3                       1.0  ...                  4.0            0   \n",
       "4                       1.0  ...                  4.0            0   \n",
       "...                     ...  ...                  ...          ...   \n",
       "62286                   3.0  ...                  1.0            0   \n",
       "62287                   3.0  ...                  1.0            0   \n",
       "62288                   3.0  ...                  1.0            0   \n",
       "62289                   3.0  ...                  1.0            0   \n",
       "62290                   3.0  ...                  1.0            0   \n",
       "\n",
       "       Warehouse/Store  Wholesale  Workshop/Studio  avg_n_floors  \\\n",
       "0                    0        0.0              0.0      6.266667   \n",
       "1                    0        0.0              0.0      6.266667   \n",
       "2                    0        0.0              0.0      6.266667   \n",
       "3                    0        0.0              0.0      6.266667   \n",
       "4                    0        0.0              0.0      6.266667   \n",
       "...                ...        ...              ...           ...   \n",
       "62286                0        0.0              0.0     10.784524   \n",
       "62287                0        0.0              0.0     10.784524   \n",
       "62288                0        0.0              0.0     10.784524   \n",
       "62289                0        0.0              0.0     10.784524   \n",
       "62290                0        0.0              0.0     10.784524   \n",
       "\n",
       "       daily_avg_counts  num_bikes  num_lights  sensor_id  \n",
       "0            706.083333          0          44          2  \n",
       "1            762.000000          0          44          2  \n",
       "2           1137.708333          0          44          2  \n",
       "3           1299.333333          0          44          2  \n",
       "4           1357.333333          0          44          2  \n",
       "...                 ...        ...         ...        ...  \n",
       "62286        639.041667          0           0         53  \n",
       "62287        704.500000          0           0         53  \n",
       "62288        608.375000          0           0         53  \n",
       "62289        527.500000          0           0         53  \n",
       "62290        669.625000          0           0         53  \n",
       "\n",
       "[62291 rows x 62 columns]"
      ]
     },
     "execution_count": 142,
     "metadata": {},
     "output_type": "execute_result"
    }
   ],
   "source": [
    "locations"
   ]
  },
  {
   "cell_type": "code",
   "execution_count": 31,
   "metadata": {
    "ExecuteTime": {
     "end_time": "2020-05-19T14:59:35.733478Z",
     "start_time": "2020-05-19T14:59:35.359870Z"
    }
   },
   "outputs": [
    {
     "data": {
      "text/html": [
       "<div>\n",
       "<style scoped>\n",
       "    .dataframe tbody tr th:only-of-type {\n",
       "        vertical-align: middle;\n",
       "    }\n",
       "\n",
       "    .dataframe tbody tr th {\n",
       "        vertical-align: top;\n",
       "    }\n",
       "\n",
       "    .dataframe thead th {\n",
       "        text-align: right;\n",
       "    }\n",
       "</style>\n",
       "<table border=\"1\" class=\"dataframe\">\n",
       "  <thead>\n",
       "    <tr style=\"text-align: right;\">\n",
       "      <th></th>\n",
       "      <th>hourly_counts</th>\n",
       "      <th>bikes</th>\n",
       "      <th>lights</th>\n",
       "      <th>furniture</th>\n",
       "      <th>landmarks</th>\n",
       "      <th>buildings</th>\n",
       "      <th>Monday</th>\n",
       "      <th>Saturday</th>\n",
       "      <th>Sunday</th>\n",
       "      <th>Thursday</th>\n",
       "      <th>...</th>\n",
       "      <th>h_20</th>\n",
       "      <th>h_21</th>\n",
       "      <th>h_22</th>\n",
       "      <th>h_23</th>\n",
       "      <th>Temp</th>\n",
       "      <th>Humidity</th>\n",
       "      <th>Pressure</th>\n",
       "      <th>Rain</th>\n",
       "      <th>WindSpeed</th>\n",
       "      <th>public_holiday</th>\n",
       "    </tr>\n",
       "    <tr>\n",
       "      <th>sensor_id</th>\n",
       "      <th></th>\n",
       "      <th></th>\n",
       "      <th></th>\n",
       "      <th></th>\n",
       "      <th></th>\n",
       "      <th></th>\n",
       "      <th></th>\n",
       "      <th></th>\n",
       "      <th></th>\n",
       "      <th></th>\n",
       "      <th></th>\n",
       "      <th></th>\n",
       "      <th></th>\n",
       "      <th></th>\n",
       "      <th></th>\n",
       "      <th></th>\n",
       "      <th></th>\n",
       "      <th></th>\n",
       "      <th></th>\n",
       "      <th></th>\n",
       "      <th></th>\n",
       "    </tr>\n",
       "  </thead>\n",
       "  <tbody>\n",
       "    <tr>\n",
       "      <th>2</th>\n",
       "      <td>925.901823</td>\n",
       "      <td>0.0</td>\n",
       "      <td>34.0</td>\n",
       "      <td>257.0</td>\n",
       "      <td>2.0</td>\n",
       "      <td>30.085875</td>\n",
       "      <td>0.143041</td>\n",
       "      <td>0.143031</td>\n",
       "      <td>0.142982</td>\n",
       "      <td>0.142560</td>\n",
       "      <td>...</td>\n",
       "      <td>0.041668</td>\n",
       "      <td>0.041668</td>\n",
       "      <td>0.041668</td>\n",
       "      <td>0.041668</td>\n",
       "      <td>14.689927</td>\n",
       "      <td>68.699957</td>\n",
       "      <td>1016.761537</td>\n",
       "      <td>0.035430</td>\n",
       "      <td>12.077222</td>\n",
       "      <td>0.001510</td>\n",
       "    </tr>\n",
       "    <tr>\n",
       "      <th>6</th>\n",
       "      <td>1085.974093</td>\n",
       "      <td>0.0</td>\n",
       "      <td>187.0</td>\n",
       "      <td>27.0</td>\n",
       "      <td>0.0</td>\n",
       "      <td>2.684413</td>\n",
       "      <td>0.142842</td>\n",
       "      <td>0.143068</td>\n",
       "      <td>0.143009</td>\n",
       "      <td>0.142596</td>\n",
       "      <td>...</td>\n",
       "      <td>0.041669</td>\n",
       "      <td>0.041669</td>\n",
       "      <td>0.041669</td>\n",
       "      <td>0.041659</td>\n",
       "      <td>14.698623</td>\n",
       "      <td>68.715323</td>\n",
       "      <td>1016.762676</td>\n",
       "      <td>0.035518</td>\n",
       "      <td>12.070965</td>\n",
       "      <td>0.001522</td>\n",
       "    </tr>\n",
       "    <tr>\n",
       "      <th>8</th>\n",
       "      <td>156.614492</td>\n",
       "      <td>0.0</td>\n",
       "      <td>826.0</td>\n",
       "      <td>43.0</td>\n",
       "      <td>1.0</td>\n",
       "      <td>0.000000</td>\n",
       "      <td>0.142834</td>\n",
       "      <td>0.142854</td>\n",
       "      <td>0.142805</td>\n",
       "      <td>0.143043</td>\n",
       "      <td>...</td>\n",
       "      <td>0.041676</td>\n",
       "      <td>0.041676</td>\n",
       "      <td>0.041676</td>\n",
       "      <td>0.041676</td>\n",
       "      <td>14.676031</td>\n",
       "      <td>68.782827</td>\n",
       "      <td>1016.765168</td>\n",
       "      <td>0.035631</td>\n",
       "      <td>12.075623</td>\n",
       "      <td>0.001538</td>\n",
       "    </tr>\n",
       "    <tr>\n",
       "      <th>9</th>\n",
       "      <td>473.491245</td>\n",
       "      <td>0.0</td>\n",
       "      <td>57.0</td>\n",
       "      <td>77.0</td>\n",
       "      <td>0.0</td>\n",
       "      <td>1.710885</td>\n",
       "      <td>0.143077</td>\n",
       "      <td>0.142832</td>\n",
       "      <td>0.143018</td>\n",
       "      <td>0.142597</td>\n",
       "      <td>...</td>\n",
       "      <td>0.041669</td>\n",
       "      <td>0.041669</td>\n",
       "      <td>0.041669</td>\n",
       "      <td>0.041669</td>\n",
       "      <td>14.685628</td>\n",
       "      <td>68.686124</td>\n",
       "      <td>1016.743983</td>\n",
       "      <td>0.035548</td>\n",
       "      <td>12.084748</td>\n",
       "      <td>0.001510</td>\n",
       "    </tr>\n",
       "    <tr>\n",
       "      <th>10</th>\n",
       "      <td>142.486598</td>\n",
       "      <td>0.0</td>\n",
       "      <td>75.0</td>\n",
       "      <td>79.0</td>\n",
       "      <td>0.0</td>\n",
       "      <td>7.000000</td>\n",
       "      <td>0.142776</td>\n",
       "      <td>0.143012</td>\n",
       "      <td>0.142962</td>\n",
       "      <td>0.142736</td>\n",
       "      <td>...</td>\n",
       "      <td>0.041672</td>\n",
       "      <td>0.041672</td>\n",
       "      <td>0.041672</td>\n",
       "      <td>0.041672</td>\n",
       "      <td>14.670211</td>\n",
       "      <td>68.684366</td>\n",
       "      <td>1016.771034</td>\n",
       "      <td>0.035326</td>\n",
       "      <td>12.084452</td>\n",
       "      <td>0.001514</td>\n",
       "    </tr>\n",
       "    <tr>\n",
       "      <th>11</th>\n",
       "      <td>89.456775</td>\n",
       "      <td>0.0</td>\n",
       "      <td>306.0</td>\n",
       "      <td>87.0</td>\n",
       "      <td>1.0</td>\n",
       "      <td>3.663722</td>\n",
       "      <td>0.142891</td>\n",
       "      <td>0.143139</td>\n",
       "      <td>0.142881</td>\n",
       "      <td>0.142633</td>\n",
       "      <td>...</td>\n",
       "      <td>0.041681</td>\n",
       "      <td>0.041681</td>\n",
       "      <td>0.041681</td>\n",
       "      <td>0.041681</td>\n",
       "      <td>14.670308</td>\n",
       "      <td>68.723971</td>\n",
       "      <td>1016.778772</td>\n",
       "      <td>0.035563</td>\n",
       "      <td>12.084821</td>\n",
       "      <td>0.001529</td>\n",
       "    </tr>\n",
       "    <tr>\n",
       "      <th>18</th>\n",
       "      <td>297.940608</td>\n",
       "      <td>1.0</td>\n",
       "      <td>0.0</td>\n",
       "      <td>86.0</td>\n",
       "      <td>1.0</td>\n",
       "      <td>23.000000</td>\n",
       "      <td>0.142844</td>\n",
       "      <td>0.142834</td>\n",
       "      <td>0.142538</td>\n",
       "      <td>0.143068</td>\n",
       "      <td>...</td>\n",
       "      <td>0.041670</td>\n",
       "      <td>0.041670</td>\n",
       "      <td>0.041670</td>\n",
       "      <td>0.041670</td>\n",
       "      <td>14.799534</td>\n",
       "      <td>68.425829</td>\n",
       "      <td>1016.683575</td>\n",
       "      <td>0.035503</td>\n",
       "      <td>12.106436</td>\n",
       "      <td>0.001549</td>\n",
       "    </tr>\n",
       "  </tbody>\n",
       "</table>\n",
       "<p>7 rows × 63 columns</p>\n",
       "</div>"
      ],
      "text/plain": [
       "           hourly_counts  bikes  lights  furniture  landmarks  buildings  \\\n",
       "sensor_id                                                                  \n",
       "2             925.901823    0.0    34.0      257.0        2.0  30.085875   \n",
       "6            1085.974093    0.0   187.0       27.0        0.0   2.684413   \n",
       "8             156.614492    0.0   826.0       43.0        1.0   0.000000   \n",
       "9             473.491245    0.0    57.0       77.0        0.0   1.710885   \n",
       "10            142.486598    0.0    75.0       79.0        0.0   7.000000   \n",
       "11             89.456775    0.0   306.0       87.0        1.0   3.663722   \n",
       "18            297.940608    1.0     0.0       86.0        1.0  23.000000   \n",
       "\n",
       "             Monday  Saturday    Sunday  Thursday  ...      h_20      h_21  \\\n",
       "sensor_id                                          ...                       \n",
       "2          0.143041  0.143031  0.142982  0.142560  ...  0.041668  0.041668   \n",
       "6          0.142842  0.143068  0.143009  0.142596  ...  0.041669  0.041669   \n",
       "8          0.142834  0.142854  0.142805  0.143043  ...  0.041676  0.041676   \n",
       "9          0.143077  0.142832  0.143018  0.142597  ...  0.041669  0.041669   \n",
       "10         0.142776  0.143012  0.142962  0.142736  ...  0.041672  0.041672   \n",
       "11         0.142891  0.143139  0.142881  0.142633  ...  0.041681  0.041681   \n",
       "18         0.142844  0.142834  0.142538  0.143068  ...  0.041670  0.041670   \n",
       "\n",
       "               h_22      h_23       Temp   Humidity     Pressure      Rain  \\\n",
       "sensor_id                                                                    \n",
       "2          0.041668  0.041668  14.689927  68.699957  1016.761537  0.035430   \n",
       "6          0.041669  0.041659  14.698623  68.715323  1016.762676  0.035518   \n",
       "8          0.041676  0.041676  14.676031  68.782827  1016.765168  0.035631   \n",
       "9          0.041669  0.041669  14.685628  68.686124  1016.743983  0.035548   \n",
       "10         0.041672  0.041672  14.670211  68.684366  1016.771034  0.035326   \n",
       "11         0.041681  0.041681  14.670308  68.723971  1016.778772  0.035563   \n",
       "18         0.041670  0.041670  14.799534  68.425829  1016.683575  0.035503   \n",
       "\n",
       "           WindSpeed  public_holiday  \n",
       "sensor_id                             \n",
       "2          12.077222        0.001510  \n",
       "6          12.070965        0.001522  \n",
       "8          12.075623        0.001538  \n",
       "9          12.084748        0.001510  \n",
       "10         12.084452        0.001514  \n",
       "11         12.084821        0.001529  \n",
       "18         12.106436        0.001549  \n",
       "\n",
       "[7 rows x 63 columns]"
      ]
     },
     "execution_count": 31,
     "metadata": {},
     "output_type": "execute_result"
    }
   ],
   "source": [
    "all_sensors.groupby('sensor_id').mean()"
   ]
  },
  {
   "cell_type": "code",
   "execution_count": 38,
   "metadata": {
    "ExecuteTime": {
     "end_time": "2020-05-19T14:59:38.505211Z",
     "start_time": "2020-05-19T14:59:38.453698Z"
    }
   },
   "outputs": [],
   "source": [
    "X = all_sensors.copy()\n",
    "y = X.pop('hourly_counts')"
   ]
  },
  {
   "cell_type": "code",
   "execution_count": 39,
   "metadata": {
    "ExecuteTime": {
     "end_time": "2020-05-19T14:59:43.490920Z",
     "start_time": "2020-05-19T14:59:43.480486Z"
    }
   },
   "outputs": [
    {
     "data": {
      "text/plain": [
       "455.1131348724352"
      ]
     },
     "execution_count": 39,
     "metadata": {},
     "output_type": "execute_result"
    }
   ],
   "source": [
    "y.mean() \n",
    "#baseline would predict 593.55 for all sensors"
   ]
  },
  {
   "cell_type": "code",
   "execution_count": 40,
   "metadata": {
    "ExecuteTime": {
     "end_time": "2020-05-19T09:26:13.693639Z",
     "start_time": "2020-05-19T09:26:13.660572Z"
    }
   },
   "outputs": [
    {
     "data": {
      "text/plain": [
       "7"
      ]
     },
     "execution_count": 40,
     "metadata": {},
     "output_type": "execute_result"
    }
   ],
   "source": [
    "len(X.sensor_id.value_counts())"
   ]
  },
  {
   "cell_type": "code",
   "execution_count": 41,
   "metadata": {
    "ExecuteTime": {
     "end_time": "2020-05-19T09:24:46.778717Z",
     "start_time": "2020-05-19T09:24:46.762228Z"
    }
   },
   "outputs": [
    {
     "data": {
      "text/plain": [
       "Index([     'sensor_id',          'bikes',         'lights',      'furniture',\n",
       "            'landmarks',      'buildings',         'Monday',       'Saturday',\n",
       "               'Sunday',       'Thursday',        'Tuesday',      'Wednesday',\n",
       "               'August',       'December',       'February',        'January',\n",
       "                 'July',           'June',          'March',            'May',\n",
       "             'November',        'October',      'September',             2012,\n",
       "                   2013,             2014,             2015,             2016,\n",
       "                   2017,             2018,             2019,             2020,\n",
       "                   2021,             2022,            'h_1',            'h_2',\n",
       "                  'h_3',            'h_4',            'h_5',            'h_6',\n",
       "                  'h_7',            'h_8',            'h_9',           'h_10',\n",
       "                 'h_11',           'h_12',           'h_13',           'h_14',\n",
       "                 'h_15',           'h_16',           'h_17',           'h_18',\n",
       "                 'h_19',           'h_20',           'h_21',           'h_22',\n",
       "                 'h_23',           'Temp',       'Humidity',       'Pressure',\n",
       "                 'Rain',      'WindSpeed', 'public_holiday'],\n",
       "      dtype='object')"
      ]
     },
     "execution_count": 41,
     "metadata": {},
     "output_type": "execute_result"
    }
   ],
   "source": [
    "X.columns"
   ]
  },
  {
   "cell_type": "code",
   "execution_count": 42,
   "metadata": {
    "ExecuteTime": {
     "end_time": "2020-05-19T09:24:26.860923Z",
     "start_time": "2020-05-19T09:24:26.762623Z"
    }
   },
   "outputs": [],
   "source": [
    "#train test split\n",
    "X_train, X_test, y_train, y_test = train_test_split(\n",
    "    X, y, test_size=0.2, random_state=1)"
   ]
  },
  {
   "cell_type": "code",
   "execution_count": 43,
   "metadata": {
    "ExecuteTime": {
     "end_time": "2020-05-19T09:24:27.195648Z",
     "start_time": "2020-05-19T09:24:26.882264Z"
    }
   },
   "outputs": [],
   "source": [
    "#standardize\n",
    "scaler = StandardScaler()\n",
    "X_train = pd.DataFrame(scaler.fit_transform(X_train), columns=X_train.columns)\n",
    "X_test = pd.DataFrame(scaler.transform(X_test), columns=X_test.columns)"
   ]
  },
  {
   "cell_type": "markdown",
   "metadata": {},
   "source": [
    "# Linear Regression"
   ]
  },
  {
   "cell_type": "code",
   "execution_count": 44,
   "metadata": {
    "ExecuteTime": {
     "end_time": "2020-05-19T13:22:25.239841Z",
     "start_time": "2020-05-19T13:22:24.456298Z"
    }
   },
   "outputs": [
    {
     "ename": "ValueError",
     "evalue": "Input contains NaN, infinity or a value too large for dtype('float64').",
     "output_type": "error",
     "traceback": [
      "\u001b[0;31m---------------------------------------------------------------------------\u001b[0m",
      "\u001b[0;31mValueError\u001b[0m                                Traceback (most recent call last)",
      "\u001b[0;32m/tmp/ipykernel_318115/1905445833.py\u001b[0m in \u001b[0;36m<module>\u001b[0;34m\u001b[0m\n\u001b[1;32m      1\u001b[0m \u001b[0mmodel\u001b[0m \u001b[0;34m=\u001b[0m \u001b[0mLinearRegression\u001b[0m\u001b[0;34m(\u001b[0m\u001b[0;34m)\u001b[0m\u001b[0;34m\u001b[0m\u001b[0;34m\u001b[0m\u001b[0m\n\u001b[0;32m----> 2\u001b[0;31m \u001b[0mmodel\u001b[0m\u001b[0;34m.\u001b[0m\u001b[0mfit\u001b[0m\u001b[0;34m(\u001b[0m\u001b[0mX_train\u001b[0m\u001b[0;34m,\u001b[0m \u001b[0my_train\u001b[0m\u001b[0;34m)\u001b[0m\u001b[0;34m\u001b[0m\u001b[0;34m\u001b[0m\u001b[0m\n\u001b[0m",
      "\u001b[0;32m/nfs/a321/gy17m2a/anaconda_install/anaconda3/lib/python3.9/site-packages/sklearn/linear_model/_base.py\u001b[0m in \u001b[0;36mfit\u001b[0;34m(self, X, y, sample_weight)\u001b[0m\n\u001b[1;32m    516\u001b[0m         \u001b[0maccept_sparse\u001b[0m \u001b[0;34m=\u001b[0m \u001b[0;32mFalse\u001b[0m \u001b[0;32mif\u001b[0m \u001b[0mself\u001b[0m\u001b[0;34m.\u001b[0m\u001b[0mpositive\u001b[0m \u001b[0;32melse\u001b[0m \u001b[0;34m[\u001b[0m\u001b[0;34m'csr'\u001b[0m\u001b[0;34m,\u001b[0m \u001b[0;34m'csc'\u001b[0m\u001b[0;34m,\u001b[0m \u001b[0;34m'coo'\u001b[0m\u001b[0;34m]\u001b[0m\u001b[0;34m\u001b[0m\u001b[0;34m\u001b[0m\u001b[0m\n\u001b[1;32m    517\u001b[0m \u001b[0;34m\u001b[0m\u001b[0m\n\u001b[0;32m--> 518\u001b[0;31m         X, y = self._validate_data(X, y, accept_sparse=accept_sparse,\n\u001b[0m\u001b[1;32m    519\u001b[0m                                    y_numeric=True, multi_output=True)\n\u001b[1;32m    520\u001b[0m \u001b[0;34m\u001b[0m\u001b[0m\n",
      "\u001b[0;32m/nfs/a321/gy17m2a/anaconda_install/anaconda3/lib/python3.9/site-packages/sklearn/base.py\u001b[0m in \u001b[0;36m_validate_data\u001b[0;34m(self, X, y, reset, validate_separately, **check_params)\u001b[0m\n\u001b[1;32m    431\u001b[0m                 \u001b[0my\u001b[0m \u001b[0;34m=\u001b[0m \u001b[0mcheck_array\u001b[0m\u001b[0;34m(\u001b[0m\u001b[0my\u001b[0m\u001b[0;34m,\u001b[0m \u001b[0;34m**\u001b[0m\u001b[0mcheck_y_params\u001b[0m\u001b[0;34m)\u001b[0m\u001b[0;34m\u001b[0m\u001b[0;34m\u001b[0m\u001b[0m\n\u001b[1;32m    432\u001b[0m             \u001b[0;32melse\u001b[0m\u001b[0;34m:\u001b[0m\u001b[0;34m\u001b[0m\u001b[0;34m\u001b[0m\u001b[0m\n\u001b[0;32m--> 433\u001b[0;31m                 \u001b[0mX\u001b[0m\u001b[0;34m,\u001b[0m \u001b[0my\u001b[0m \u001b[0;34m=\u001b[0m \u001b[0mcheck_X_y\u001b[0m\u001b[0;34m(\u001b[0m\u001b[0mX\u001b[0m\u001b[0;34m,\u001b[0m \u001b[0my\u001b[0m\u001b[0;34m,\u001b[0m \u001b[0;34m**\u001b[0m\u001b[0mcheck_params\u001b[0m\u001b[0;34m)\u001b[0m\u001b[0;34m\u001b[0m\u001b[0;34m\u001b[0m\u001b[0m\n\u001b[0m\u001b[1;32m    434\u001b[0m             \u001b[0mout\u001b[0m \u001b[0;34m=\u001b[0m \u001b[0mX\u001b[0m\u001b[0;34m,\u001b[0m \u001b[0my\u001b[0m\u001b[0;34m\u001b[0m\u001b[0;34m\u001b[0m\u001b[0m\n\u001b[1;32m    435\u001b[0m \u001b[0;34m\u001b[0m\u001b[0m\n",
      "\u001b[0;32m/nfs/a321/gy17m2a/anaconda_install/anaconda3/lib/python3.9/site-packages/sklearn/utils/validation.py\u001b[0m in \u001b[0;36minner_f\u001b[0;34m(*args, **kwargs)\u001b[0m\n\u001b[1;32m     61\u001b[0m             \u001b[0mextra_args\u001b[0m \u001b[0;34m=\u001b[0m \u001b[0mlen\u001b[0m\u001b[0;34m(\u001b[0m\u001b[0margs\u001b[0m\u001b[0;34m)\u001b[0m \u001b[0;34m-\u001b[0m \u001b[0mlen\u001b[0m\u001b[0;34m(\u001b[0m\u001b[0mall_args\u001b[0m\u001b[0;34m)\u001b[0m\u001b[0;34m\u001b[0m\u001b[0;34m\u001b[0m\u001b[0m\n\u001b[1;32m     62\u001b[0m             \u001b[0;32mif\u001b[0m \u001b[0mextra_args\u001b[0m \u001b[0;34m<=\u001b[0m \u001b[0;36m0\u001b[0m\u001b[0;34m:\u001b[0m\u001b[0;34m\u001b[0m\u001b[0;34m\u001b[0m\u001b[0m\n\u001b[0;32m---> 63\u001b[0;31m                 \u001b[0;32mreturn\u001b[0m \u001b[0mf\u001b[0m\u001b[0;34m(\u001b[0m\u001b[0;34m*\u001b[0m\u001b[0margs\u001b[0m\u001b[0;34m,\u001b[0m \u001b[0;34m**\u001b[0m\u001b[0mkwargs\u001b[0m\u001b[0;34m)\u001b[0m\u001b[0;34m\u001b[0m\u001b[0;34m\u001b[0m\u001b[0m\n\u001b[0m\u001b[1;32m     64\u001b[0m \u001b[0;34m\u001b[0m\u001b[0m\n\u001b[1;32m     65\u001b[0m             \u001b[0;31m# extra_args > 0\u001b[0m\u001b[0;34m\u001b[0m\u001b[0;34m\u001b[0m\u001b[0m\n",
      "\u001b[0;32m/nfs/a321/gy17m2a/anaconda_install/anaconda3/lib/python3.9/site-packages/sklearn/utils/validation.py\u001b[0m in \u001b[0;36mcheck_X_y\u001b[0;34m(X, y, accept_sparse, accept_large_sparse, dtype, order, copy, force_all_finite, ensure_2d, allow_nd, multi_output, ensure_min_samples, ensure_min_features, y_numeric, estimator)\u001b[0m\n\u001b[1;32m    869\u001b[0m         \u001b[0;32mraise\u001b[0m \u001b[0mValueError\u001b[0m\u001b[0;34m(\u001b[0m\u001b[0;34m\"y cannot be None\"\u001b[0m\u001b[0;34m)\u001b[0m\u001b[0;34m\u001b[0m\u001b[0;34m\u001b[0m\u001b[0m\n\u001b[1;32m    870\u001b[0m \u001b[0;34m\u001b[0m\u001b[0m\n\u001b[0;32m--> 871\u001b[0;31m     X = check_array(X, accept_sparse=accept_sparse,\n\u001b[0m\u001b[1;32m    872\u001b[0m                     \u001b[0maccept_large_sparse\u001b[0m\u001b[0;34m=\u001b[0m\u001b[0maccept_large_sparse\u001b[0m\u001b[0;34m,\u001b[0m\u001b[0;34m\u001b[0m\u001b[0;34m\u001b[0m\u001b[0m\n\u001b[1;32m    873\u001b[0m                     \u001b[0mdtype\u001b[0m\u001b[0;34m=\u001b[0m\u001b[0mdtype\u001b[0m\u001b[0;34m,\u001b[0m \u001b[0morder\u001b[0m\u001b[0;34m=\u001b[0m\u001b[0morder\u001b[0m\u001b[0;34m,\u001b[0m \u001b[0mcopy\u001b[0m\u001b[0;34m=\u001b[0m\u001b[0mcopy\u001b[0m\u001b[0;34m,\u001b[0m\u001b[0;34m\u001b[0m\u001b[0;34m\u001b[0m\u001b[0m\n",
      "\u001b[0;32m/nfs/a321/gy17m2a/anaconda_install/anaconda3/lib/python3.9/site-packages/sklearn/utils/validation.py\u001b[0m in \u001b[0;36minner_f\u001b[0;34m(*args, **kwargs)\u001b[0m\n\u001b[1;32m     61\u001b[0m             \u001b[0mextra_args\u001b[0m \u001b[0;34m=\u001b[0m \u001b[0mlen\u001b[0m\u001b[0;34m(\u001b[0m\u001b[0margs\u001b[0m\u001b[0;34m)\u001b[0m \u001b[0;34m-\u001b[0m \u001b[0mlen\u001b[0m\u001b[0;34m(\u001b[0m\u001b[0mall_args\u001b[0m\u001b[0;34m)\u001b[0m\u001b[0;34m\u001b[0m\u001b[0;34m\u001b[0m\u001b[0m\n\u001b[1;32m     62\u001b[0m             \u001b[0;32mif\u001b[0m \u001b[0mextra_args\u001b[0m \u001b[0;34m<=\u001b[0m \u001b[0;36m0\u001b[0m\u001b[0;34m:\u001b[0m\u001b[0;34m\u001b[0m\u001b[0;34m\u001b[0m\u001b[0m\n\u001b[0;32m---> 63\u001b[0;31m                 \u001b[0;32mreturn\u001b[0m \u001b[0mf\u001b[0m\u001b[0;34m(\u001b[0m\u001b[0;34m*\u001b[0m\u001b[0margs\u001b[0m\u001b[0;34m,\u001b[0m \u001b[0;34m**\u001b[0m\u001b[0mkwargs\u001b[0m\u001b[0;34m)\u001b[0m\u001b[0;34m\u001b[0m\u001b[0;34m\u001b[0m\u001b[0m\n\u001b[0m\u001b[1;32m     64\u001b[0m \u001b[0;34m\u001b[0m\u001b[0m\n\u001b[1;32m     65\u001b[0m             \u001b[0;31m# extra_args > 0\u001b[0m\u001b[0;34m\u001b[0m\u001b[0;34m\u001b[0m\u001b[0m\n",
      "\u001b[0;32m/nfs/a321/gy17m2a/anaconda_install/anaconda3/lib/python3.9/site-packages/sklearn/utils/validation.py\u001b[0m in \u001b[0;36mcheck_array\u001b[0;34m(array, accept_sparse, accept_large_sparse, dtype, order, copy, force_all_finite, ensure_2d, allow_nd, ensure_min_samples, ensure_min_features, estimator)\u001b[0m\n\u001b[1;32m    718\u001b[0m \u001b[0;34m\u001b[0m\u001b[0m\n\u001b[1;32m    719\u001b[0m         \u001b[0;32mif\u001b[0m \u001b[0mforce_all_finite\u001b[0m\u001b[0;34m:\u001b[0m\u001b[0;34m\u001b[0m\u001b[0;34m\u001b[0m\u001b[0m\n\u001b[0;32m--> 720\u001b[0;31m             _assert_all_finite(array,\n\u001b[0m\u001b[1;32m    721\u001b[0m                                allow_nan=force_all_finite == 'allow-nan')\n\u001b[1;32m    722\u001b[0m \u001b[0;34m\u001b[0m\u001b[0m\n",
      "\u001b[0;32m/nfs/a321/gy17m2a/anaconda_install/anaconda3/lib/python3.9/site-packages/sklearn/utils/validation.py\u001b[0m in \u001b[0;36m_assert_all_finite\u001b[0;34m(X, allow_nan, msg_dtype)\u001b[0m\n\u001b[1;32m    101\u001b[0m                 not allow_nan and not np.isfinite(X).all()):\n\u001b[1;32m    102\u001b[0m             \u001b[0mtype_err\u001b[0m \u001b[0;34m=\u001b[0m \u001b[0;34m'infinity'\u001b[0m \u001b[0;32mif\u001b[0m \u001b[0mallow_nan\u001b[0m \u001b[0;32melse\u001b[0m \u001b[0;34m'NaN, infinity'\u001b[0m\u001b[0;34m\u001b[0m\u001b[0;34m\u001b[0m\u001b[0m\n\u001b[0;32m--> 103\u001b[0;31m             raise ValueError(\n\u001b[0m\u001b[1;32m    104\u001b[0m                     \u001b[0mmsg_err\u001b[0m\u001b[0;34m.\u001b[0m\u001b[0mformat\u001b[0m\u001b[0;34m\u001b[0m\u001b[0;34m\u001b[0m\u001b[0m\n\u001b[1;32m    105\u001b[0m                     (type_err,\n",
      "\u001b[0;31mValueError\u001b[0m: Input contains NaN, infinity or a value too large for dtype('float64')."
     ]
    }
   ],
   "source": [
    "model = LinearRegression()\n",
    "model.fit(X_train, y_train)"
   ]
  },
  {
   "cell_type": "code",
   "execution_count": 114,
   "metadata": {
    "ExecuteTime": {
     "end_time": "2020-05-19T13:22:27.393790Z",
     "start_time": "2020-05-19T13:22:25.863425Z"
    }
   },
   "outputs": [
    {
     "name": "stdout",
     "output_type": "stream",
     "text": [
      "Training score:  0.7751371931735674\n",
      "Test score:  0.7749505673455981\n",
      "CV score:  0.7746594349480479\n"
     ]
    }
   ],
   "source": [
    "print('Training score: ', model.score(X_train, y_train))\n",
    "print('Test score: ', model.score(X_test, y_test))\n",
    "print('CV score: ', (cross_val_score(model, X_train, y_train)).mean())"
   ]
  },
  {
   "cell_type": "code",
   "execution_count": 136,
   "metadata": {
    "ExecuteTime": {
     "end_time": "2020-05-19T13:37:38.010288Z",
     "start_time": "2020-05-19T13:37:37.896891Z"
    }
   },
   "outputs": [
    {
     "data": {
      "text/html": [
       "<div>\n",
       "<style scoped>\n",
       "    .dataframe tbody tr th:only-of-type {\n",
       "        vertical-align: middle;\n",
       "    }\n",
       "\n",
       "    .dataframe tbody tr th {\n",
       "        vertical-align: top;\n",
       "    }\n",
       "\n",
       "    .dataframe thead th {\n",
       "        text-align: right;\n",
       "    }\n",
       "</style>\n",
       "<table border=\"1\" class=\"dataframe\">\n",
       "  <thead>\n",
       "    <tr style=\"text-align: right;\">\n",
       "      <th></th>\n",
       "      <th>y_test</th>\n",
       "      <th>predictions</th>\n",
       "      <th>residuals</th>\n",
       "    </tr>\n",
       "  </thead>\n",
       "  <tbody>\n",
       "    <tr>\n",
       "      <td>0</td>\n",
       "      <td>1207.333333</td>\n",
       "      <td>836.551476</td>\n",
       "      <td>370.781857</td>\n",
       "    </tr>\n",
       "    <tr>\n",
       "      <td>1</td>\n",
       "      <td>529.916667</td>\n",
       "      <td>620.047397</td>\n",
       "      <td>-90.130731</td>\n",
       "    </tr>\n",
       "    <tr>\n",
       "      <td>2</td>\n",
       "      <td>321.458333</td>\n",
       "      <td>223.839887</td>\n",
       "      <td>97.618446</td>\n",
       "    </tr>\n",
       "    <tr>\n",
       "      <td>3</td>\n",
       "      <td>706.875000</td>\n",
       "      <td>547.170970</td>\n",
       "      <td>159.704030</td>\n",
       "    </tr>\n",
       "    <tr>\n",
       "      <td>4</td>\n",
       "      <td>86.375000</td>\n",
       "      <td>-205.662887</td>\n",
       "      <td>292.037887</td>\n",
       "    </tr>\n",
       "    <tr>\n",
       "      <td>...</td>\n",
       "      <td>...</td>\n",
       "      <td>...</td>\n",
       "      <td>...</td>\n",
       "    </tr>\n",
       "    <tr>\n",
       "      <td>12454</td>\n",
       "      <td>203.291667</td>\n",
       "      <td>92.995621</td>\n",
       "      <td>110.296046</td>\n",
       "    </tr>\n",
       "    <tr>\n",
       "      <td>12455</td>\n",
       "      <td>1418.708333</td>\n",
       "      <td>1258.641942</td>\n",
       "      <td>160.066391</td>\n",
       "    </tr>\n",
       "    <tr>\n",
       "      <td>12456</td>\n",
       "      <td>360.583333</td>\n",
       "      <td>296.242995</td>\n",
       "      <td>64.340338</td>\n",
       "    </tr>\n",
       "    <tr>\n",
       "      <td>12457</td>\n",
       "      <td>371.291667</td>\n",
       "      <td>334.758744</td>\n",
       "      <td>36.532923</td>\n",
       "    </tr>\n",
       "    <tr>\n",
       "      <td>12458</td>\n",
       "      <td>394.416667</td>\n",
       "      <td>334.758744</td>\n",
       "      <td>59.657923</td>\n",
       "    </tr>\n",
       "  </tbody>\n",
       "</table>\n",
       "<p>12459 rows × 3 columns</p>\n",
       "</div>"
      ],
      "text/plain": [
       "            y_test  predictions   residuals\n",
       "0      1207.333333   836.551476  370.781857\n",
       "1       529.916667   620.047397  -90.130731\n",
       "2       321.458333   223.839887   97.618446\n",
       "3       706.875000   547.170970  159.704030\n",
       "4        86.375000  -205.662887  292.037887\n",
       "...            ...          ...         ...\n",
       "12454   203.291667    92.995621  110.296046\n",
       "12455  1418.708333  1258.641942  160.066391\n",
       "12456   360.583333   296.242995   64.340338\n",
       "12457   371.291667   334.758744   36.532923\n",
       "12458   394.416667   334.758744   59.657923\n",
       "\n",
       "[12459 rows x 3 columns]"
      ]
     },
     "execution_count": 136,
     "metadata": {},
     "output_type": "execute_result"
    }
   ],
   "source": [
    "predictions = model.predict(X_test)\n",
    "residuals = pd.DataFrame(predictions, y_test)\n",
    "residuals.reset_index(inplace = True)\n",
    "residuals.rename({'daily_avg_counts': 'y_test', 0: 'predictions'}, axis = 1, inplace = True)\n",
    "residuals['residuals'] = residuals.y_test - residuals.predictions\n",
    "residuals"
   ]
  },
  {
   "cell_type": "code",
   "execution_count": 116,
   "metadata": {
    "ExecuteTime": {
     "end_time": "2020-05-19T13:22:28.480593Z",
     "start_time": "2020-05-19T13:22:28.405820Z"
    }
   },
   "outputs": [
    {
     "data": {
      "text/plain": [
       "224.5919569235911"
      ]
     },
     "execution_count": 116,
     "metadata": {},
     "output_type": "execute_result"
    }
   ],
   "source": [
    "(mean_squared_error(y_test, predictions))**0.5"
   ]
  },
  {
   "cell_type": "code",
   "execution_count": 134,
   "metadata": {
    "ExecuteTime": {
     "end_time": "2020-05-19T13:32:28.201276Z",
     "start_time": "2020-05-19T13:32:28.162251Z"
    }
   },
   "outputs": [
    {
     "data": {
      "text/html": [
       "<div>\n",
       "<style scoped>\n",
       "    .dataframe tbody tr th:only-of-type {\n",
       "        vertical-align: middle;\n",
       "    }\n",
       "\n",
       "    .dataframe tbody tr th {\n",
       "        vertical-align: top;\n",
       "    }\n",
       "\n",
       "    .dataframe thead th {\n",
       "        text-align: right;\n",
       "    }\n",
       "</style>\n",
       "<table border=\"1\" class=\"dataframe\">\n",
       "  <thead>\n",
       "    <tr style=\"text-align: right;\">\n",
       "      <th></th>\n",
       "      <th>index</th>\n",
       "      <th>coefficients</th>\n",
       "    </tr>\n",
       "  </thead>\n",
       "  <tbody>\n",
       "    <tr>\n",
       "      <td>0</td>\n",
       "      <td>Seat</td>\n",
       "      <td>1085.751340</td>\n",
       "    </tr>\n",
       "    <tr>\n",
       "      <td>1</td>\n",
       "      <td>Floral Crate/Planter Box</td>\n",
       "      <td>481.192918</td>\n",
       "    </tr>\n",
       "    <tr>\n",
       "      <td>2</td>\n",
       "      <td>Hospital/Clinic</td>\n",
       "      <td>373.223630</td>\n",
       "    </tr>\n",
       "    <tr>\n",
       "      <td>3</td>\n",
       "      <td>Tree Guard</td>\n",
       "      <td>230.476441</td>\n",
       "    </tr>\n",
       "    <tr>\n",
       "      <td>4</td>\n",
       "      <td>Community Use.1</td>\n",
       "      <td>173.272096</td>\n",
       "    </tr>\n",
       "    <tr>\n",
       "      <td>...</td>\n",
       "      <td>...</td>\n",
       "      <td>...</td>\n",
       "    </tr>\n",
       "    <tr>\n",
       "      <td>56</td>\n",
       "      <td>Drinking Fountain</td>\n",
       "      <td>-363.800566</td>\n",
       "    </tr>\n",
       "    <tr>\n",
       "      <td>57</td>\n",
       "      <td>Mixed Use</td>\n",
       "      <td>-394.612562</td>\n",
       "    </tr>\n",
       "    <tr>\n",
       "      <td>58</td>\n",
       "      <td>Barbeque</td>\n",
       "      <td>-433.913258</td>\n",
       "    </tr>\n",
       "    <tr>\n",
       "      <td>59</td>\n",
       "      <td>Place of Worship</td>\n",
       "      <td>-434.429050</td>\n",
       "    </tr>\n",
       "    <tr>\n",
       "      <td>60</td>\n",
       "      <td>Retail</td>\n",
       "      <td>-729.975555</td>\n",
       "    </tr>\n",
       "  </tbody>\n",
       "</table>\n",
       "<p>61 rows × 2 columns</p>\n",
       "</div>"
      ],
      "text/plain": [
       "                       index  coefficients\n",
       "0                       Seat   1085.751340\n",
       "1   Floral Crate/Planter Box    481.192918\n",
       "2            Hospital/Clinic    373.223630\n",
       "3                 Tree Guard    230.476441\n",
       "4            Community Use.1    173.272096\n",
       "..                       ...           ...\n",
       "56         Drinking Fountain   -363.800566\n",
       "57                 Mixed Use   -394.612562\n",
       "58                  Barbeque   -433.913258\n",
       "59          Place of Worship   -434.429050\n",
       "60                    Retail   -729.975555\n",
       "\n",
       "[61 rows x 2 columns]"
      ]
     },
     "execution_count": 134,
     "metadata": {},
     "output_type": "execute_result"
    }
   ],
   "source": [
    "# collect the model coefficients in a dataframe\n",
    "df_coef = pd.DataFrame(model.coef_, index=X_train.columns,\n",
    "                       columns=['coefficients'])\n",
    "\n",
    "feature_importance = df_coef.sort_values(by = 'coefficients', ascending = False)\n",
    "feature_importance.reset_index(inplace = True)\n",
    "feature_importance"
   ]
  },
  {
   "cell_type": "code",
   "execution_count": 135,
   "metadata": {
    "ExecuteTime": {
     "end_time": "2020-05-19T13:32:29.971457Z",
     "start_time": "2020-05-19T13:32:29.045299Z"
    }
   },
   "outputs": [
    {
     "data": {
      "text/plain": [
       "Text(0, 0.5, 'Feature')"
      ]
     },
     "execution_count": 135,
     "metadata": {},
     "output_type": "execute_result"
    },
    {
     "data": {
      "image/png": "[encoded data removed]",
      "text/plain": [
       "<Figure size 1152x864 with 1 Axes>"
      ]
     },
     "metadata": {},
     "output_type": "display_data"
    }
   ],
   "source": [
    "#sns.set_style('ticks')\n",
    "sns.set(font_scale = 2)\n",
    "fig, ax = plt.subplots()\n",
    "# the size of A4 paper\n",
    "fig.set_size_inches(16, 12)\n",
    "sns.barplot(x = 'coefficients', y = 'index', data=feature_importance[:10], orient='h', palette = 'rocket', saturation=0.7)  \n",
    "ax.set_title(\"Feature Importance\", fontsize=40, y=1.01)\n",
    "ax.set_xlabel('Importance', fontsize = 30)\n",
    "ax.set_ylabel('Feature', fontsize = 30)\n",
    "\n",
    "#fig.savefig('linreg_coef.png')"
   ]
  },
  {
   "cell_type": "code",
   "execution_count": 138,
   "metadata": {
    "ExecuteTime": {
     "end_time": "2020-05-19T13:38:03.109226Z",
     "start_time": "2020-05-19T13:38:03.044512Z"
    }
   },
   "outputs": [
    {
     "data": {
      "text/html": [
       "<div>\n",
       "<style scoped>\n",
       "    .dataframe tbody tr th:only-of-type {\n",
       "        vertical-align: middle;\n",
       "    }\n",
       "\n",
       "    .dataframe tbody tr th {\n",
       "        vertical-align: top;\n",
       "    }\n",
       "\n",
       "    .dataframe thead th {\n",
       "        text-align: right;\n",
       "    }\n",
       "</style>\n",
       "<table border=\"1\" class=\"dataframe\">\n",
       "  <thead>\n",
       "    <tr style=\"text-align: right;\">\n",
       "      <th></th>\n",
       "      <th>y_test</th>\n",
       "      <th>predictions</th>\n",
       "    </tr>\n",
       "  </thead>\n",
       "  <tbody>\n",
       "    <tr>\n",
       "      <td>0</td>\n",
       "      <td>1207.333333</td>\n",
       "      <td>836.551476</td>\n",
       "    </tr>\n",
       "    <tr>\n",
       "      <td>1</td>\n",
       "      <td>529.916667</td>\n",
       "      <td>620.047397</td>\n",
       "    </tr>\n",
       "    <tr>\n",
       "      <td>2</td>\n",
       "      <td>321.458333</td>\n",
       "      <td>223.839887</td>\n",
       "    </tr>\n",
       "    <tr>\n",
       "      <td>3</td>\n",
       "      <td>706.875000</td>\n",
       "      <td>547.170970</td>\n",
       "    </tr>\n",
       "    <tr>\n",
       "      <td>4</td>\n",
       "      <td>86.375000</td>\n",
       "      <td>-205.662887</td>\n",
       "    </tr>\n",
       "    <tr>\n",
       "      <td>...</td>\n",
       "      <td>...</td>\n",
       "      <td>...</td>\n",
       "    </tr>\n",
       "    <tr>\n",
       "      <td>12454</td>\n",
       "      <td>203.291667</td>\n",
       "      <td>92.995621</td>\n",
       "    </tr>\n",
       "    <tr>\n",
       "      <td>12455</td>\n",
       "      <td>1418.708333</td>\n",
       "      <td>1258.641942</td>\n",
       "    </tr>\n",
       "    <tr>\n",
       "      <td>12456</td>\n",
       "      <td>360.583333</td>\n",
       "      <td>296.242995</td>\n",
       "    </tr>\n",
       "    <tr>\n",
       "      <td>12457</td>\n",
       "      <td>371.291667</td>\n",
       "      <td>334.758744</td>\n",
       "    </tr>\n",
       "    <tr>\n",
       "      <td>12458</td>\n",
       "      <td>394.416667</td>\n",
       "      <td>334.758744</td>\n",
       "    </tr>\n",
       "  </tbody>\n",
       "</table>\n",
       "<p>12459 rows × 2 columns</p>\n",
       "</div>"
      ],
      "text/plain": [
       "            y_test  predictions\n",
       "0      1207.333333   836.551476\n",
       "1       529.916667   620.047397\n",
       "2       321.458333   223.839887\n",
       "3       706.875000   547.170970\n",
       "4        86.375000  -205.662887\n",
       "...            ...          ...\n",
       "12454   203.291667    92.995621\n",
       "12455  1418.708333  1258.641942\n",
       "12456   360.583333   296.242995\n",
       "12457   371.291667   334.758744\n",
       "12458   394.416667   334.758744\n",
       "\n",
       "[12459 rows x 2 columns]"
      ]
     },
     "execution_count": 138,
     "metadata": {},
     "output_type": "execute_result"
    }
   ],
   "source": [
    "predictions = residuals[['y_test', 'predictions']]\n",
    "predictions"
   ]
  },
  {
   "cell_type": "code",
   "execution_count": 139,
   "metadata": {
    "ExecuteTime": {
     "end_time": "2020-05-19T13:38:10.410389Z",
     "start_time": "2020-05-19T13:38:05.593843Z"
    }
   },
   "outputs": [
    {
     "data": {
      "text/plain": [
       "Text(0, 0.5, 'Actual')"
      ]
     },
     "execution_count": 139,
     "metadata": {},
     "output_type": "execute_result"
    },
    {
     "data": {
      "image/png": "[encoded data removed]",
      "text/plain": [
       "<Figure size 1152x864 with 1 Axes>"
      ]
     },
     "metadata": {},
     "output_type": "display_data"
    }
   ],
   "source": [
    "sns.axes_style(style='white')\n",
    "\n",
    "sns.set(font_scale = 2)\n",
    "fig, ax = plt.subplots()\n",
    "fig.set_size_inches(16, 12)\n",
    "ax = sns.regplot(x=\"predictions\", y=\"y_test\", data= predictions,  scatter_kws = {'color': 'lightsalmon'}, \n",
    "                 line_kws = {'color': 'darksalmon'})\n",
    "ax.set_xlabel('Predicted', fontsize = 30)\n",
    "ax.set_ylabel('Actual', fontsize = 30)"
   ]
  },
  {
   "cell_type": "markdown",
   "metadata": {},
   "source": [
    "# Ridge & Lasso Regularization"
   ]
  },
  {
   "cell_type": "markdown",
   "metadata": {
    "heading_collapsed": true
   },
   "source": [
    "### Ridge with GridSearchCV"
   ]
  },
  {
   "cell_type": "code",
   "execution_count": 58,
   "metadata": {
    "ExecuteTime": {
     "end_time": "2020-05-17T21:25:42.763371Z",
     "start_time": "2020-05-17T21:15:38.362125Z"
    },
    "hidden": true
   },
   "outputs": [
    {
     "name": "stdout",
     "output_type": "stream",
     "text": [
      "Ridge(alpha=0, copy_X=True, fit_intercept=True, max_iter=100000,\n",
      "      normalize=False, random_state=None, solver='sag', tol=0.001)\n"
     ]
    },
    {
     "data": {
      "text/plain": [
       "Ridge(alpha=0, copy_X=True, fit_intercept=True, max_iter=100000,\n",
       "      normalize=False, random_state=None, solver='sag', tol=0.001)"
      ]
     },
     "execution_count": 58,
     "metadata": {},
     "output_type": "execute_result"
    }
   ],
   "source": [
    "parameters = {'alpha': np.logspace(-20, 20, 50), 'fit_intercept': [True, False], \n",
    "              'solver': ['auto', 'svd', 'cholesky', 'lsqr', 'sparse_cg', 'sag', 'saga']}\n",
    "\n",
    "# define the model/ estimator\n",
    "model = Ridge(max_iter = 100000)\n",
    "\n",
    "# define the grid search\n",
    "ridge= GridSearchCV(model, parameters,cv=5)\n",
    "\n",
    "#fit the grid search\n",
    "ridge.fit(X_train,y_train)\n",
    "\n",
    "# best estimator\n",
    "print(ridge.best_estimator_)\n",
    "\n",
    "# best model\n",
    "best_model = ridge.best_estimator_\n",
    "best_model.fit(X_train,y_train)"
   ]
  },
  {
   "cell_type": "code",
   "execution_count": 71,
   "metadata": {
    "ExecuteTime": {
     "end_time": "2020-05-17T21:30:45.804792Z",
     "start_time": "2020-05-17T21:30:36.188745Z"
    },
    "hidden": true
   },
   "outputs": [
    {
     "name": "stdout",
     "output_type": "stream",
     "text": [
      "Training score:  0.7751369760473157\n",
      "Test score:  0.7749396517892876\n",
      "CV score:  0.7746591879675973\n"
     ]
    }
   ],
   "source": [
    "print('Training score: ', best_model.score(X_train, y_train))\n",
    "print('Test score: ', best_model.score(X_test, y_test))\n",
    "print('CV score: ', (cross_val_score(best_model, X_train, y_train)).mean())"
   ]
  },
  {
   "cell_type": "code",
   "execution_count": 72,
   "metadata": {
    "ExecuteTime": {
     "end_time": "2020-05-17T21:30:53.997170Z",
     "start_time": "2020-05-17T21:30:53.947124Z"
    },
    "hidden": true
   },
   "outputs": [
    {
     "data": {
      "text/html": [
       "<div>\n",
       "<style scoped>\n",
       "    .dataframe tbody tr th:only-of-type {\n",
       "        vertical-align: middle;\n",
       "    }\n",
       "\n",
       "    .dataframe tbody tr th {\n",
       "        vertical-align: top;\n",
       "    }\n",
       "\n",
       "    .dataframe thead th {\n",
       "        text-align: right;\n",
       "    }\n",
       "</style>\n",
       "<table border=\"1\" class=\"dataframe\">\n",
       "  <thead>\n",
       "    <tr style=\"text-align: right;\">\n",
       "      <th></th>\n",
       "      <th>y_test</th>\n",
       "      <th>predictions</th>\n",
       "      <th>residuals</th>\n",
       "    </tr>\n",
       "  </thead>\n",
       "  <tbody>\n",
       "    <tr>\n",
       "      <td>0</td>\n",
       "      <td>1207.333333</td>\n",
       "      <td>835.858927</td>\n",
       "      <td>371.474406</td>\n",
       "    </tr>\n",
       "    <tr>\n",
       "      <td>1</td>\n",
       "      <td>529.916667</td>\n",
       "      <td>620.259364</td>\n",
       "      <td>-90.342698</td>\n",
       "    </tr>\n",
       "    <tr>\n",
       "      <td>2</td>\n",
       "      <td>321.458333</td>\n",
       "      <td>223.533867</td>\n",
       "      <td>97.924466</td>\n",
       "    </tr>\n",
       "    <tr>\n",
       "      <td>3</td>\n",
       "      <td>706.875000</td>\n",
       "      <td>547.391173</td>\n",
       "      <td>159.483827</td>\n",
       "    </tr>\n",
       "    <tr>\n",
       "      <td>4</td>\n",
       "      <td>86.375000</td>\n",
       "      <td>-204.824740</td>\n",
       "      <td>291.199740</td>\n",
       "    </tr>\n",
       "    <tr>\n",
       "      <td>...</td>\n",
       "      <td>...</td>\n",
       "      <td>...</td>\n",
       "      <td>...</td>\n",
       "    </tr>\n",
       "    <tr>\n",
       "      <td>12454</td>\n",
       "      <td>203.291667</td>\n",
       "      <td>93.188564</td>\n",
       "      <td>110.103103</td>\n",
       "    </tr>\n",
       "    <tr>\n",
       "      <td>12455</td>\n",
       "      <td>1418.708333</td>\n",
       "      <td>1258.735920</td>\n",
       "      <td>159.972413</td>\n",
       "    </tr>\n",
       "    <tr>\n",
       "      <td>12456</td>\n",
       "      <td>360.583333</td>\n",
       "      <td>296.424841</td>\n",
       "      <td>64.158493</td>\n",
       "    </tr>\n",
       "    <tr>\n",
       "      <td>12457</td>\n",
       "      <td>371.291667</td>\n",
       "      <td>334.829338</td>\n",
       "      <td>36.462329</td>\n",
       "    </tr>\n",
       "    <tr>\n",
       "      <td>12458</td>\n",
       "      <td>394.416667</td>\n",
       "      <td>334.829338</td>\n",
       "      <td>59.587329</td>\n",
       "    </tr>\n",
       "  </tbody>\n",
       "</table>\n",
       "<p>12459 rows × 3 columns</p>\n",
       "</div>"
      ],
      "text/plain": [
       "            y_test  predictions   residuals\n",
       "0      1207.333333   835.858927  371.474406\n",
       "1       529.916667   620.259364  -90.342698\n",
       "2       321.458333   223.533867   97.924466\n",
       "3       706.875000   547.391173  159.483827\n",
       "4        86.375000  -204.824740  291.199740\n",
       "...            ...          ...         ...\n",
       "12454   203.291667    93.188564  110.103103\n",
       "12455  1418.708333  1258.735920  159.972413\n",
       "12456   360.583333   296.424841   64.158493\n",
       "12457   371.291667   334.829338   36.462329\n",
       "12458   394.416667   334.829338   59.587329\n",
       "\n",
       "[12459 rows x 3 columns]"
      ]
     },
     "execution_count": 72,
     "metadata": {},
     "output_type": "execute_result"
    }
   ],
   "source": [
    "predictions = best_model.predict(X_test)\n",
    "residuals = pd.DataFrame(predictions, y_test)\n",
    "residuals.reset_index(inplace = True)\n",
    "residuals.rename({'daily_avg_counts': 'y_test', 0: 'predictions'}, axis = 1, inplace = True)\n",
    "residuals['residuals'] = residuals.y_test - residuals.predictions\n",
    "residuals"
   ]
  },
  {
   "cell_type": "code",
   "execution_count": 73,
   "metadata": {
    "ExecuteTime": {
     "end_time": "2020-05-17T21:30:54.496213Z",
     "start_time": "2020-05-17T21:30:54.485641Z"
    },
    "hidden": true
   },
   "outputs": [
    {
     "data": {
      "text/plain": [
       "224.5974035412469"
      ]
     },
     "execution_count": 73,
     "metadata": {},
     "output_type": "execute_result"
    }
   ],
   "source": [
    "(mean_squared_error(y_test, predictions))**0.5"
   ]
  },
  {
   "cell_type": "code",
   "execution_count": 74,
   "metadata": {
    "ExecuteTime": {
     "end_time": "2020-05-17T21:30:55.321797Z",
     "start_time": "2020-05-17T21:30:55.300020Z"
    },
    "hidden": true
   },
   "outputs": [
    {
     "data": {
      "text/html": [
       "<div>\n",
       "<style scoped>\n",
       "    .dataframe tbody tr th:only-of-type {\n",
       "        vertical-align: middle;\n",
       "    }\n",
       "\n",
       "    .dataframe tbody tr th {\n",
       "        vertical-align: top;\n",
       "    }\n",
       "\n",
       "    .dataframe thead th {\n",
       "        text-align: right;\n",
       "    }\n",
       "</style>\n",
       "<table border=\"1\" class=\"dataframe\">\n",
       "  <thead>\n",
       "    <tr style=\"text-align: right;\">\n",
       "      <th></th>\n",
       "      <th>coefficients</th>\n",
       "      <th>coef_abs</th>\n",
       "    </tr>\n",
       "  </thead>\n",
       "  <tbody>\n",
       "    <tr>\n",
       "      <td>Retail</td>\n",
       "      <td>-725.950468</td>\n",
       "      <td>725.950468</td>\n",
       "    </tr>\n",
       "    <tr>\n",
       "      <td>Barbeque</td>\n",
       "      <td>-432.751487</td>\n",
       "      <td>432.751487</td>\n",
       "    </tr>\n",
       "    <tr>\n",
       "      <td>Place of Worship</td>\n",
       "      <td>-432.624269</td>\n",
       "      <td>432.624269</td>\n",
       "    </tr>\n",
       "    <tr>\n",
       "      <td>Mixed Use</td>\n",
       "      <td>-392.993171</td>\n",
       "      <td>392.993171</td>\n",
       "    </tr>\n",
       "    <tr>\n",
       "      <td>Drinking Fountain</td>\n",
       "      <td>-362.318159</td>\n",
       "      <td>362.318159</td>\n",
       "    </tr>\n",
       "    <tr>\n",
       "      <td>...</td>\n",
       "      <td>...</td>\n",
       "      <td>...</td>\n",
       "    </tr>\n",
       "    <tr>\n",
       "      <td>Community Use.1</td>\n",
       "      <td>173.352397</td>\n",
       "      <td>173.352397</td>\n",
       "    </tr>\n",
       "    <tr>\n",
       "      <td>Tree Guard</td>\n",
       "      <td>230.246726</td>\n",
       "      <td>230.246726</td>\n",
       "    </tr>\n",
       "    <tr>\n",
       "      <td>Hospital/Clinic</td>\n",
       "      <td>372.830306</td>\n",
       "      <td>372.830306</td>\n",
       "    </tr>\n",
       "    <tr>\n",
       "      <td>Floral Crate/Planter Box</td>\n",
       "      <td>478.570578</td>\n",
       "      <td>478.570578</td>\n",
       "    </tr>\n",
       "    <tr>\n",
       "      <td>Seat</td>\n",
       "      <td>1078.578113</td>\n",
       "      <td>1078.578113</td>\n",
       "    </tr>\n",
       "  </tbody>\n",
       "</table>\n",
       "<p>61 rows × 2 columns</p>\n",
       "</div>"
      ],
      "text/plain": [
       "                          coefficients     coef_abs\n",
       "Retail                     -725.950468   725.950468\n",
       "Barbeque                   -432.751487   432.751487\n",
       "Place of Worship           -432.624269   432.624269\n",
       "Mixed Use                  -392.993171   392.993171\n",
       "Drinking Fountain          -362.318159   362.318159\n",
       "...                                ...          ...\n",
       "Community Use.1             173.352397   173.352397\n",
       "Tree Guard                  230.246726   230.246726\n",
       "Hospital/Clinic             372.830306   372.830306\n",
       "Floral Crate/Planter Box    478.570578   478.570578\n",
       "Seat                       1078.578113  1078.578113\n",
       "\n",
       "[61 rows x 2 columns]"
      ]
     },
     "execution_count": 74,
     "metadata": {},
     "output_type": "execute_result"
    }
   ],
   "source": [
    "# collect the model coefficients in a dataframe\n",
    "df_coef = pd.DataFrame(best_model.coef_, index=X_train.columns,\n",
    "                       columns=['coefficients'])\n",
    "\n",
    "# calculate the absolute values of the coefficients to gauge influence (show importance of predictor variables)\n",
    "df_coef['coef_abs'] = df_coef.coefficients.abs()\n",
    "\n",
    "df_coef.sort_values(by = 'coefficients')"
   ]
  },
  {
   "cell_type": "code",
   "execution_count": 75,
   "metadata": {
    "ExecuteTime": {
     "end_time": "2020-05-17T21:30:56.078075Z",
     "start_time": "2020-05-17T21:30:55.839782Z"
    },
    "hidden": true
   },
   "outputs": [
    {
     "data": {
      "image/png": "[encoded data removed]",
      "text/plain": [
       "<Figure size 432x288 with 1 Axes>"
      ]
     },
     "metadata": {
      "needs_background": "light"
     },
     "output_type": "display_data"
    }
   ],
   "source": [
    "# 10 features that impact daily counts the most\n",
    "df_coef['coefficients'].sort_values(ascending = False)[:10].plot(kind='barh');"
   ]
  },
  {
   "cell_type": "code",
   "execution_count": 76,
   "metadata": {
    "ExecuteTime": {
     "end_time": "2020-05-17T21:30:56.640434Z",
     "start_time": "2020-05-17T21:30:56.396852Z"
    },
    "hidden": true
   },
   "outputs": [
    {
     "data": {
      "image/png": "[encoded data removed]",
      "text/plain": [
       "<Figure size 432x288 with 1 Axes>"
      ]
     },
     "metadata": {
      "needs_background": "light"
     },
     "output_type": "display_data"
    }
   ],
   "source": [
    "# 10 features that impact daily counts the least\n",
    "df_coef['coefficients'].sort_values(ascending = True)[:10].plot(kind='barh');"
   ]
  },
  {
   "cell_type": "code",
   "execution_count": 77,
   "metadata": {
    "ExecuteTime": {
     "end_time": "2020-05-17T21:30:57.658418Z",
     "start_time": "2020-05-17T21:30:57.363588Z"
    },
    "hidden": true
   },
   "outputs": [
    {
     "data": {
      "image/png": "[encoded data removed]",
      "text/plain": [
       "<Figure size 576x576 with 1 Axes>"
      ]
     },
     "metadata": {
      "needs_background": "light"
     },
     "output_type": "display_data"
    }
   ],
   "source": [
    "#predicted y values\n",
    "predictions = best_model.predict(X_test)\n",
    "\n",
    "#residuals (or error between predictions and actual)\n",
    "residuals = y_test - predictions\n",
    "\n",
    "# Plot predicted vs actual \n",
    "plt.figure(figsize=(8,8))\n",
    "plt.scatter(predictions, y_test, s=30, c='r', marker='+', zorder=10)\n",
    "plt.plot([y_test.min(), y_test.max()], [y_test.min(), y_test.max()], c='k', lw=2)\n",
    "plt.xlabel(\"Predicted Values - $\\hat{y}$\")\n",
    "plt.ylabel(\"Actual Values MEDV - y\")\n",
    "plt.show()"
   ]
  },
  {
   "cell_type": "code",
   "execution_count": null,
   "metadata": {
    "hidden": true
   },
   "outputs": [],
   "source": []
  },
  {
   "cell_type": "markdown",
   "metadata": {
    "heading_collapsed": true
   },
   "source": [
    "### Lasso with GridSearchCV"
   ]
  },
  {
   "cell_type": "code",
   "execution_count": 78,
   "metadata": {
    "ExecuteTime": {
     "end_time": "2020-05-17T22:10:17.567039Z",
     "start_time": "2020-05-17T21:31:28.831424Z"
    },
    "hidden": true
   },
   "outputs": [
    {
     "name": "stdout",
     "output_type": "stream",
     "text": [
      "Lasso(alpha=0.0001, copy_X=True, fit_intercept=True, max_iter=100000,\n",
      "      normalize=False, positive=False, precompute=False, random_state=None,\n",
      "      selection='cyclic', tol=0.0001, warm_start=False)\n"
     ]
    },
    {
     "data": {
      "text/plain": [
       "Lasso(alpha=0.0001, copy_X=True, fit_intercept=True, max_iter=100000,\n",
       "      normalize=False, positive=False, precompute=False, random_state=None,\n",
       "      selection='cyclic', tol=0.0001, warm_start=False)"
      ]
     },
     "execution_count": 78,
     "metadata": {},
     "output_type": "execute_result"
    }
   ],
   "source": [
    "parameters = {'alpha': np.logspace(-4, 4, 10), 'fit_intercept': [True, False]}\n",
    "\n",
    "# define the model/ estimator\n",
    "model = Lasso(max_iter = 100000)\n",
    "\n",
    "# define the grid search\n",
    "lasso= GridSearchCV(model, parameters,cv=5)\n",
    "\n",
    "#fit the grid search\n",
    "lasso.fit(X_train,y_train)\n",
    "\n",
    "# best estimator\n",
    "print(lasso.best_estimator_)\n",
    "\n",
    "# best model\n",
    "lasso_model = lasso.best_estimator_\n",
    "lasso_model.fit(X_train,y_train)"
   ]
  },
  {
   "cell_type": "code",
   "execution_count": 79,
   "metadata": {
    "ExecuteTime": {
     "end_time": "2020-05-17T22:16:20.807515Z",
     "start_time": "2020-05-17T22:10:17.589425Z"
    },
    "hidden": true
   },
   "outputs": [
    {
     "name": "stdout",
     "output_type": "stream",
     "text": [
      "Training score:  0.7751371919196792\n",
      "Test score:  0.7749497195018777\n",
      "CV score:  0.7746594488139156\n"
     ]
    }
   ],
   "source": [
    "print('Training score: ', lasso_model.score(X_train, y_train))\n",
    "print('Test score: ', lasso_model.score(X_test, y_test))\n",
    "print('CV score: ', (cross_val_score(lasso_model, X_train, y_train)).mean())"
   ]
  },
  {
   "cell_type": "code",
   "execution_count": 80,
   "metadata": {
    "ExecuteTime": {
     "end_time": "2020-05-17T22:17:56.757211Z",
     "start_time": "2020-05-17T22:17:56.653371Z"
    },
    "hidden": true
   },
   "outputs": [
    {
     "data": {
      "text/html": [
       "<div>\n",
       "<style scoped>\n",
       "    .dataframe tbody tr th:only-of-type {\n",
       "        vertical-align: middle;\n",
       "    }\n",
       "\n",
       "    .dataframe tbody tr th {\n",
       "        vertical-align: top;\n",
       "    }\n",
       "\n",
       "    .dataframe thead th {\n",
       "        text-align: right;\n",
       "    }\n",
       "</style>\n",
       "<table border=\"1\" class=\"dataframe\">\n",
       "  <thead>\n",
       "    <tr style=\"text-align: right;\">\n",
       "      <th></th>\n",
       "      <th>y_test</th>\n",
       "      <th>predictions</th>\n",
       "      <th>residuals</th>\n",
       "    </tr>\n",
       "  </thead>\n",
       "  <tbody>\n",
       "    <tr>\n",
       "      <td>0</td>\n",
       "      <td>1207.333333</td>\n",
       "      <td>836.491025</td>\n",
       "      <td>370.842308</td>\n",
       "    </tr>\n",
       "    <tr>\n",
       "      <td>1</td>\n",
       "      <td>529.916667</td>\n",
       "      <td>620.065855</td>\n",
       "      <td>-90.149189</td>\n",
       "    </tr>\n",
       "    <tr>\n",
       "      <td>2</td>\n",
       "      <td>321.458333</td>\n",
       "      <td>223.827778</td>\n",
       "      <td>97.630555</td>\n",
       "    </tr>\n",
       "    <tr>\n",
       "      <td>3</td>\n",
       "      <td>706.875000</td>\n",
       "      <td>547.184720</td>\n",
       "      <td>159.690280</td>\n",
       "    </tr>\n",
       "    <tr>\n",
       "      <td>4</td>\n",
       "      <td>86.375000</td>\n",
       "      <td>-205.597623</td>\n",
       "      <td>291.972623</td>\n",
       "    </tr>\n",
       "    <tr>\n",
       "      <td>...</td>\n",
       "      <td>...</td>\n",
       "      <td>...</td>\n",
       "      <td>...</td>\n",
       "    </tr>\n",
       "    <tr>\n",
       "      <td>12454</td>\n",
       "      <td>203.291667</td>\n",
       "      <td>93.017058</td>\n",
       "      <td>110.274608</td>\n",
       "    </tr>\n",
       "    <tr>\n",
       "      <td>12455</td>\n",
       "      <td>1418.708333</td>\n",
       "      <td>1258.645070</td>\n",
       "      <td>160.063264</td>\n",
       "    </tr>\n",
       "    <tr>\n",
       "      <td>12456</td>\n",
       "      <td>360.583333</td>\n",
       "      <td>296.257254</td>\n",
       "      <td>64.326080</td>\n",
       "    </tr>\n",
       "    <tr>\n",
       "      <td>12457</td>\n",
       "      <td>371.291667</td>\n",
       "      <td>334.765809</td>\n",
       "      <td>36.525857</td>\n",
       "    </tr>\n",
       "    <tr>\n",
       "      <td>12458</td>\n",
       "      <td>394.416667</td>\n",
       "      <td>334.765809</td>\n",
       "      <td>59.650857</td>\n",
       "    </tr>\n",
       "  </tbody>\n",
       "</table>\n",
       "<p>12459 rows × 3 columns</p>\n",
       "</div>"
      ],
      "text/plain": [
       "            y_test  predictions   residuals\n",
       "0      1207.333333   836.491025  370.842308\n",
       "1       529.916667   620.065855  -90.149189\n",
       "2       321.458333   223.827778   97.630555\n",
       "3       706.875000   547.184720  159.690280\n",
       "4        86.375000  -205.597623  291.972623\n",
       "...            ...          ...         ...\n",
       "12454   203.291667    93.017058  110.274608\n",
       "12455  1418.708333  1258.645070  160.063264\n",
       "12456   360.583333   296.257254   64.326080\n",
       "12457   371.291667   334.765809   36.525857\n",
       "12458   394.416667   334.765809   59.650857\n",
       "\n",
       "[12459 rows x 3 columns]"
      ]
     },
     "execution_count": 80,
     "metadata": {},
     "output_type": "execute_result"
    }
   ],
   "source": [
    "predictions = lasso_model.predict(X_test)\n",
    "residuals = pd.DataFrame(predictions, y_test)\n",
    "residuals.reset_index(inplace = True)\n",
    "residuals.rename({'daily_avg_counts': 'y_test', 0: 'predictions'}, axis = 1, inplace = True)\n",
    "residuals['residuals'] = residuals.y_test - residuals.predictions\n",
    "residuals"
   ]
  },
  {
   "cell_type": "code",
   "execution_count": 81,
   "metadata": {
    "ExecuteTime": {
     "end_time": "2020-05-17T22:18:00.880565Z",
     "start_time": "2020-05-17T22:18:00.843998Z"
    },
    "hidden": true
   },
   "outputs": [
    {
     "data": {
      "text/plain": [
       "224.59237998331355"
      ]
     },
     "execution_count": 81,
     "metadata": {},
     "output_type": "execute_result"
    }
   ],
   "source": [
    "(mean_squared_error(y_test, predictions))**0.5"
   ]
  },
  {
   "cell_type": "code",
   "execution_count": 82,
   "metadata": {
    "ExecuteTime": {
     "end_time": "2020-05-17T22:18:07.946720Z",
     "start_time": "2020-05-17T22:18:07.919258Z"
    },
    "hidden": true
   },
   "outputs": [
    {
     "data": {
      "text/html": [
       "<div>\n",
       "<style scoped>\n",
       "    .dataframe tbody tr th:only-of-type {\n",
       "        vertical-align: middle;\n",
       "    }\n",
       "\n",
       "    .dataframe tbody tr th {\n",
       "        vertical-align: top;\n",
       "    }\n",
       "\n",
       "    .dataframe thead th {\n",
       "        text-align: right;\n",
       "    }\n",
       "</style>\n",
       "<table border=\"1\" class=\"dataframe\">\n",
       "  <thead>\n",
       "    <tr style=\"text-align: right;\">\n",
       "      <th></th>\n",
       "      <th>coefficients</th>\n",
       "      <th>coef_abs</th>\n",
       "    </tr>\n",
       "  </thead>\n",
       "  <tbody>\n",
       "    <tr>\n",
       "      <td>Retail</td>\n",
       "      <td>-729.668979</td>\n",
       "      <td>729.668979</td>\n",
       "    </tr>\n",
       "    <tr>\n",
       "      <td>Place of Worship</td>\n",
       "      <td>-434.288118</td>\n",
       "      <td>434.288118</td>\n",
       "    </tr>\n",
       "    <tr>\n",
       "      <td>Barbeque</td>\n",
       "      <td>-433.821007</td>\n",
       "      <td>433.821007</td>\n",
       "    </tr>\n",
       "    <tr>\n",
       "      <td>Mixed Use</td>\n",
       "      <td>-394.486823</td>\n",
       "      <td>394.486823</td>\n",
       "    </tr>\n",
       "    <tr>\n",
       "      <td>Drinking Fountain</td>\n",
       "      <td>-363.685639</td>\n",
       "      <td>363.685639</td>\n",
       "    </tr>\n",
       "    <tr>\n",
       "      <td>...</td>\n",
       "      <td>...</td>\n",
       "      <td>...</td>\n",
       "    </tr>\n",
       "    <tr>\n",
       "      <td>Community Use.1</td>\n",
       "      <td>173.274561</td>\n",
       "      <td>173.274561</td>\n",
       "    </tr>\n",
       "    <tr>\n",
       "      <td>Tree Guard</td>\n",
       "      <td>230.450200</td>\n",
       "      <td>230.450200</td>\n",
       "    </tr>\n",
       "    <tr>\n",
       "      <td>Hospital/Clinic</td>\n",
       "      <td>373.173533</td>\n",
       "      <td>373.173533</td>\n",
       "    </tr>\n",
       "    <tr>\n",
       "      <td>Floral Crate/Planter Box</td>\n",
       "      <td>480.996486</td>\n",
       "      <td>480.996486</td>\n",
       "    </tr>\n",
       "    <tr>\n",
       "      <td>Seat</td>\n",
       "      <td>1085.216077</td>\n",
       "      <td>1085.216077</td>\n",
       "    </tr>\n",
       "  </tbody>\n",
       "</table>\n",
       "<p>61 rows × 2 columns</p>\n",
       "</div>"
      ],
      "text/plain": [
       "                          coefficients     coef_abs\n",
       "Retail                     -729.668979   729.668979\n",
       "Place of Worship           -434.288118   434.288118\n",
       "Barbeque                   -433.821007   433.821007\n",
       "Mixed Use                  -394.486823   394.486823\n",
       "Drinking Fountain          -363.685639   363.685639\n",
       "...                                ...          ...\n",
       "Community Use.1             173.274561   173.274561\n",
       "Tree Guard                  230.450200   230.450200\n",
       "Hospital/Clinic             373.173533   373.173533\n",
       "Floral Crate/Planter Box    480.996486   480.996486\n",
       "Seat                       1085.216077  1085.216077\n",
       "\n",
       "[61 rows x 2 columns]"
      ]
     },
     "execution_count": 82,
     "metadata": {},
     "output_type": "execute_result"
    }
   ],
   "source": [
    "# collect the model coefficients in a dataframe\n",
    "df_coef = pd.DataFrame(lasso_model.coef_, index=X_train.columns,\n",
    "                       columns=['coefficients'])\n",
    "\n",
    "# calculate the absolute values of the coefficients to gauge influence (show importance of predictor variables)\n",
    "df_coef['coef_abs'] = df_coef.coefficients.abs()\n",
    "\n",
    "df_coef.sort_values(by = 'coefficients')"
   ]
  },
  {
   "cell_type": "code",
   "execution_count": 83,
   "metadata": {
    "ExecuteTime": {
     "end_time": "2020-05-17T22:18:11.445970Z",
     "start_time": "2020-05-17T22:18:10.989029Z"
    },
    "hidden": true
   },
   "outputs": [
    {
     "data": {
      "image/png": "[encoded data removed]",
      "text/plain": [
       "<Figure size 432x288 with 1 Axes>"
      ]
     },
     "metadata": {
      "needs_background": "light"
     },
     "output_type": "display_data"
    }
   ],
   "source": [
    "# 10 features that impact daily counts the most\n",
    "df_coef['coefficients'].sort_values(ascending = False)[:10].plot(kind='barh');"
   ]
  },
  {
   "cell_type": "code",
   "execution_count": 84,
   "metadata": {
    "ExecuteTime": {
     "end_time": "2020-05-17T22:18:12.774236Z",
     "start_time": "2020-05-17T22:18:11.474262Z"
    },
    "hidden": true
   },
   "outputs": [
    {
     "data": {
      "image/png": "[encoded data removed]",
      "text/plain": [
       "<Figure size 432x288 with 1 Axes>"
      ]
     },
     "metadata": {
      "needs_background": "light"
     },
     "output_type": "display_data"
    }
   ],
   "source": [
    "# 10 features that impact daily counts the least\n",
    "df_coef['coefficients'].sort_values(ascending = True)[:10].plot(kind='barh');"
   ]
  },
  {
   "cell_type": "code",
   "execution_count": 85,
   "metadata": {
    "ExecuteTime": {
     "end_time": "2020-05-17T22:18:21.253179Z",
     "start_time": "2020-05-17T22:18:20.798983Z"
    },
    "hidden": true
   },
   "outputs": [
    {
     "data": {
      "image/png": "[encoded data removed]",
      "text/plain": [
       "<Figure size 576x576 with 1 Axes>"
      ]
     },
     "metadata": {
      "needs_background": "light"
     },
     "output_type": "display_data"
    }
   ],
   "source": [
    "#predicted y values\n",
    "predictions = lasso_model.predict(X_test)\n",
    "\n",
    "#residuals (or error between predictions and actual)\n",
    "residuals = y_test - predictions\n",
    "\n",
    "# Plot predicted vs actual \n",
    "plt.figure(figsize=(8,8))\n",
    "plt.scatter(predictions, y_test, s=30, c='r', marker='+', zorder=10)\n",
    "plt.plot([y_test.min(), y_test.max()], [y_test.min(), y_test.max()], c='k', lw=2)\n",
    "plt.xlabel(\"Predicted Values - $\\hat{y}$\")\n",
    "plt.ylabel(\"Actual Values MEDV - y\")\n",
    "plt.show()"
   ]
  },
  {
   "cell_type": "markdown",
   "metadata": {
    "ExecuteTime": {
     "end_time": "2020-05-18T16:24:00.692187Z",
     "start_time": "2020-05-18T16:24:00.673539Z"
    }
   },
   "source": [
    "# Decision Tree Regressor\n"
   ]
  },
  {
   "cell_type": "code",
   "execution_count": 16,
   "metadata": {
    "ExecuteTime": {
     "end_time": "2020-05-19T10:32:13.308068Z",
     "start_time": "2020-05-19T10:18:00.520045Z"
    }
   },
   "outputs": [
    {
     "name": "stdout",
     "output_type": "stream",
     "text": [
      "Fitting 5 folds for each of 2904 candidates, totalling 14520 fits\n"
     ]
    },
    {
     "name": "stderr",
     "output_type": "stream",
     "text": [
      "[Parallel(n_jobs=2)]: Using backend LokyBackend with 2 concurrent workers.\n",
      "[Parallel(n_jobs=2)]: Done  46 tasks      | elapsed:    5.7s\n",
      "[Parallel(n_jobs=2)]: Done 323 tasks      | elapsed:   16.7s\n",
      "[Parallel(n_jobs=2)]: Done 823 tasks      | elapsed:   41.0s\n",
      "[Parallel(n_jobs=2)]: Done 1523 tasks      | elapsed:  1.4min\n",
      "[Parallel(n_jobs=2)]: Done 2423 tasks      | elapsed:  2.4min\n",
      "[Parallel(n_jobs=2)]: Done 3523 tasks      | elapsed:  3.3min\n",
      "[Parallel(n_jobs=2)]: Done 4823 tasks      | elapsed:  4.7min\n",
      "[Parallel(n_jobs=2)]: Done 6323 tasks      | elapsed:  5.9min\n",
      "[Parallel(n_jobs=2)]: Done 8023 tasks      | elapsed:  7.3min\n",
      "[Parallel(n_jobs=2)]: Done 9923 tasks      | elapsed:  9.1min\n",
      "[Parallel(n_jobs=2)]: Done 12023 tasks      | elapsed: 11.6min\n",
      "[Parallel(n_jobs=2)]: Done 14323 tasks      | elapsed: 14.0min\n",
      "[Parallel(n_jobs=2)]: Done 14517 out of 14520 | elapsed: 14.2min remaining:    0.2s\n",
      "[Parallel(n_jobs=2)]: Done 14520 out of 14520 | elapsed: 14.2min finished\n"
     ]
    },
    {
     "name": "stdout",
     "output_type": "stream",
     "text": [
      "{'ccp_alpha': 0.05, 'max_depth': None, 'max_features': 1, 'min_samples_split': 30}\n"
     ]
    }
   ],
   "source": [
    "dtr_params = {\n",
    "    'max_depth': list(range(1, 11))+[None],\n",
    "    'max_features': [None, 1, 2, 3],\n",
    "    'min_samples_split': [2, 3, 4, 5, 10, 15, 20, 25, 30, 40, 50],\n",
    "    'ccp_alpha': [0, 0.001, 0.005, 0.009, 0.01, 0.05]\n",
    "}\n",
    "\n",
    "\n",
    "# set the gridsearch\n",
    "model = DecisionTreeRegressor()\n",
    "dtr_gs = GridSearchCV(model, dtr_params, cv=5, verbose=1, n_jobs=2)\n",
    "dtr_gs.fit(X_train, y_train)\n",
    "print(dtr_gs.best_params_)\n",
    "best_model = dtr_gs.best_estimator_"
   ]
  },
  {
   "cell_type": "code",
   "execution_count": 17,
   "metadata": {
    "ExecuteTime": {
     "end_time": "2020-05-19T10:32:36.829876Z",
     "start_time": "2020-05-19T10:32:36.333383Z"
    }
   },
   "outputs": [
    {
     "name": "stdout",
     "output_type": "stream",
     "text": [
      "Training score:  0.8289405469446385\n",
      "Test score:  0.8308568882772699\n",
      "CV score:  0.8284088319966255\n"
     ]
    }
   ],
   "source": [
    "print('Training score: ', best_model.score(X_train, y_train))\n",
    "print('Test score: ', best_model.score(X_test, y_test))\n",
    "print('CV score: ', (cross_val_score(best_model, X_train, y_train)).mean())"
   ]
  },
  {
   "cell_type": "code",
   "execution_count": 78,
   "metadata": {
    "ExecuteTime": {
     "end_time": "2020-05-19T11:24:32.140490Z",
     "start_time": "2020-05-19T11:24:32.101388Z"
    }
   },
   "outputs": [
    {
     "data": {
      "text/html": [
       "<div>\n",
       "<style scoped>\n",
       "    .dataframe tbody tr th:only-of-type {\n",
       "        vertical-align: middle;\n",
       "    }\n",
       "\n",
       "    .dataframe tbody tr th {\n",
       "        vertical-align: top;\n",
       "    }\n",
       "\n",
       "    .dataframe thead th {\n",
       "        text-align: right;\n",
       "    }\n",
       "</style>\n",
       "<table border=\"1\" class=\"dataframe\">\n",
       "  <thead>\n",
       "    <tr style=\"text-align: right;\">\n",
       "      <th></th>\n",
       "      <th>y_test</th>\n",
       "      <th>predictions</th>\n",
       "      <th>residuals</th>\n",
       "    </tr>\n",
       "  </thead>\n",
       "  <tbody>\n",
       "    <tr>\n",
       "      <td>0</td>\n",
       "      <td>1207.333333</td>\n",
       "      <td>1059.930468</td>\n",
       "      <td>147.402865</td>\n",
       "    </tr>\n",
       "    <tr>\n",
       "      <td>1</td>\n",
       "      <td>529.916667</td>\n",
       "      <td>614.069420</td>\n",
       "      <td>-84.152754</td>\n",
       "    </tr>\n",
       "    <tr>\n",
       "      <td>2</td>\n",
       "      <td>321.458333</td>\n",
       "      <td>229.568412</td>\n",
       "      <td>91.889921</td>\n",
       "    </tr>\n",
       "    <tr>\n",
       "      <td>3</td>\n",
       "      <td>706.875000</td>\n",
       "      <td>511.853036</td>\n",
       "      <td>195.021964</td>\n",
       "    </tr>\n",
       "    <tr>\n",
       "      <td>4</td>\n",
       "      <td>86.375000</td>\n",
       "      <td>112.979847</td>\n",
       "      <td>-26.604847</td>\n",
       "    </tr>\n",
       "    <tr>\n",
       "      <td>...</td>\n",
       "      <td>...</td>\n",
       "      <td>...</td>\n",
       "      <td>...</td>\n",
       "    </tr>\n",
       "    <tr>\n",
       "      <td>12454</td>\n",
       "      <td>203.291667</td>\n",
       "      <td>163.440767</td>\n",
       "      <td>39.850900</td>\n",
       "    </tr>\n",
       "    <tr>\n",
       "      <td>12455</td>\n",
       "      <td>1418.708333</td>\n",
       "      <td>1346.546743</td>\n",
       "      <td>72.161590</td>\n",
       "    </tr>\n",
       "    <tr>\n",
       "      <td>12456</td>\n",
       "      <td>360.583333</td>\n",
       "      <td>287.411953</td>\n",
       "      <td>73.171381</td>\n",
       "    </tr>\n",
       "    <tr>\n",
       "      <td>12457</td>\n",
       "      <td>371.291667</td>\n",
       "      <td>290.426654</td>\n",
       "      <td>80.865013</td>\n",
       "    </tr>\n",
       "    <tr>\n",
       "      <td>12458</td>\n",
       "      <td>394.416667</td>\n",
       "      <td>290.426654</td>\n",
       "      <td>103.990013</td>\n",
       "    </tr>\n",
       "  </tbody>\n",
       "</table>\n",
       "<p>12459 rows × 3 columns</p>\n",
       "</div>"
      ],
      "text/plain": [
       "            y_test  predictions   residuals\n",
       "0      1207.333333  1059.930468  147.402865\n",
       "1       529.916667   614.069420  -84.152754\n",
       "2       321.458333   229.568412   91.889921\n",
       "3       706.875000   511.853036  195.021964\n",
       "4        86.375000   112.979847  -26.604847\n",
       "...            ...          ...         ...\n",
       "12454   203.291667   163.440767   39.850900\n",
       "12455  1418.708333  1346.546743   72.161590\n",
       "12456   360.583333   287.411953   73.171381\n",
       "12457   371.291667   290.426654   80.865013\n",
       "12458   394.416667   290.426654  103.990013\n",
       "\n",
       "[12459 rows x 3 columns]"
      ]
     },
     "execution_count": 78,
     "metadata": {},
     "output_type": "execute_result"
    }
   ],
   "source": [
    "predictions = best_model.predict(X_test)\n",
    "residuals = pd.DataFrame(predictions, y_test)\n",
    "residuals.reset_index(inplace = True)\n",
    "residuals.rename({'daily_avg_counts': 'y_test', 0: 'predictions'}, axis = 1, inplace = True)\n",
    "residuals['residuals'] = residuals.y_test - residuals.predictions\n",
    "residuals"
   ]
  },
  {
   "cell_type": "code",
   "execution_count": 82,
   "metadata": {
    "ExecuteTime": {
     "end_time": "2020-05-19T11:25:10.725967Z",
     "start_time": "2020-05-19T11:25:10.718502Z"
    }
   },
   "outputs": [],
   "source": [
    "predictions = residuals[['y_test', 'predictions']]"
   ]
  },
  {
   "cell_type": "code",
   "execution_count": 19,
   "metadata": {
    "ExecuteTime": {
     "end_time": "2020-05-19T10:32:42.229557Z",
     "start_time": "2020-05-19T10:32:42.219224Z"
    }
   },
   "outputs": [
    {
     "data": {
      "text/plain": [
       "194.70737245270297"
      ]
     },
     "execution_count": 19,
     "metadata": {},
     "output_type": "execute_result"
    }
   ],
   "source": [
    "(mean_squared_error(y_test, predictions))**0.5"
   ]
  },
  {
   "cell_type": "code",
   "execution_count": 50,
   "metadata": {
    "ExecuteTime": {
     "end_time": "2020-05-19T11:05:48.080558Z",
     "start_time": "2020-05-19T11:05:48.052972Z"
    }
   },
   "outputs": [
    {
     "data": {
      "text/html": [
       "<div>\n",
       "<style scoped>\n",
       "    .dataframe tbody tr th:only-of-type {\n",
       "        vertical-align: middle;\n",
       "    }\n",
       "\n",
       "    .dataframe tbody tr th {\n",
       "        vertical-align: top;\n",
       "    }\n",
       "\n",
       "    .dataframe thead th {\n",
       "        text-align: right;\n",
       "    }\n",
       "</style>\n",
       "<table border=\"1\" class=\"dataframe\">\n",
       "  <thead>\n",
       "    <tr style=\"text-align: right;\">\n",
       "      <th></th>\n",
       "      <th>Feature</th>\n",
       "      <th>Feature Importance</th>\n",
       "    </tr>\n",
       "  </thead>\n",
       "  <tbody>\n",
       "    <tr>\n",
       "      <td>0</td>\n",
       "      <td>Barbeque</td>\n",
       "      <td>0.000000</td>\n",
       "    </tr>\n",
       "    <tr>\n",
       "      <td>21</td>\n",
       "      <td>Leisure/Recreation</td>\n",
       "      <td>0.000000</td>\n",
       "    </tr>\n",
       "    <tr>\n",
       "      <td>54</td>\n",
       "      <td>Warehouse/Store</td>\n",
       "      <td>0.000000</td>\n",
       "    </tr>\n",
       "    <tr>\n",
       "      <td>25</td>\n",
       "      <td>Office</td>\n",
       "      <td>0.000000</td>\n",
       "    </tr>\n",
       "    <tr>\n",
       "      <td>53</td>\n",
       "      <td>Vacant Land</td>\n",
       "      <td>0.000000</td>\n",
       "    </tr>\n",
       "    <tr>\n",
       "      <td>...</td>\n",
       "      <td>...</td>\n",
       "      <td>...</td>\n",
       "    </tr>\n",
       "    <tr>\n",
       "      <td>27</td>\n",
       "      <td>Parking - Commercial Covered</td>\n",
       "      <td>0.072338</td>\n",
       "    </tr>\n",
       "    <tr>\n",
       "      <td>42</td>\n",
       "      <td>Seat</td>\n",
       "      <td>0.089328</td>\n",
       "    </tr>\n",
       "    <tr>\n",
       "      <td>7</td>\n",
       "      <td>Drinking Fountain</td>\n",
       "      <td>0.102707</td>\n",
       "    </tr>\n",
       "    <tr>\n",
       "      <td>60</td>\n",
       "      <td>sensor_id</td>\n",
       "      <td>0.115481</td>\n",
       "    </tr>\n",
       "    <tr>\n",
       "      <td>22</td>\n",
       "      <td>Litter Bin</td>\n",
       "      <td>0.156489</td>\n",
       "    </tr>\n",
       "  </tbody>\n",
       "</table>\n",
       "<p>61 rows × 2 columns</p>\n",
       "</div>"
      ],
      "text/plain": [
       "                         Feature  Feature Importance\n",
       "0                       Barbeque            0.000000\n",
       "21            Leisure/Recreation            0.000000\n",
       "54               Warehouse/Store            0.000000\n",
       "25                        Office            0.000000\n",
       "53                   Vacant Land            0.000000\n",
       "..                           ...                 ...\n",
       "27  Parking - Commercial Covered            0.072338\n",
       "42                          Seat            0.089328\n",
       "7              Drinking Fountain            0.102707\n",
       "60                     sensor_id            0.115481\n",
       "22                    Litter Bin            0.156489\n",
       "\n",
       "[61 rows x 2 columns]"
      ]
     },
     "execution_count": 50,
     "metadata": {},
     "output_type": "execute_result"
    }
   ],
   "source": [
    "feature_importance = pd.DataFrame(list(zip(X_train.columns,best_model.feature_importances_))).sort_values(by=1,ascending=True)\n",
    "feature_importance.rename({1: 'Feature Importance', 0: 'Feature'}, axis = 1, inplace = True)\n",
    "feature_importance"
   ]
  },
  {
   "cell_type": "code",
   "execution_count": 63,
   "metadata": {
    "ExecuteTime": {
     "end_time": "2020-05-19T11:09:54.983374Z",
     "start_time": "2020-05-19T11:09:54.382798Z"
    }
   },
   "outputs": [
    {
     "data": {
      "image/png": "[encoded data removed]",
      "text/plain": [
       "<Figure size 1152x864 with 1 Axes>"
      ]
     },
     "metadata": {},
     "output_type": "display_data"
    }
   ],
   "source": [
    "#sns.set_style('ticks')\n",
    "sns.set(font_scale = 2)\n",
    "fig, ax = plt.subplots()\n",
    "# the size of A4 paper\n",
    "fig.set_size_inches(16, 12)\n",
    "sns.barplot(x='Feature Importance', y='Feature', data=feature_importance[-15:], orient='h', palette = 'rocket', saturation=0.7)  \n",
    "ax.set_title(\"Feature Importance\", fontsize=40, y=1.01)\n",
    "ax.set_xlabel('Importance', fontsize = 30)\n",
    "ax.set_ylabel('Feature', fontsize = 30)\n",
    "\n",
    "fig.savefig('location_feature_importance.png')"
   ]
  },
  {
   "cell_type": "code",
   "execution_count": 112,
   "metadata": {
    "ExecuteTime": {
     "end_time": "2020-05-19T11:41:03.698919Z",
     "start_time": "2020-05-19T11:41:01.733346Z"
    }
   },
   "outputs": [
    {
     "data": {
      "image/png": "[encoded data removed]",
      "text/plain": [
       "<Figure size 1152x864 with 1 Axes>"
      ]
     },
     "metadata": {},
     "output_type": "display_data"
    }
   ],
   "source": [
    "sns.axes_style(style='white')\n",
    "\n",
    "sns.set(font_scale = 2)\n",
    "fig, ax = plt.subplots()\n",
    "fig.set_size_inches(16, 12)\n",
    "ax = sns.regplot(x=\"predictions\", y=\"y_test\", data= predictions,  scatter_kws = {'color': 'lightsalmon'}, \n",
    "                 line_kws = {'color': 'darksalmon'})\n",
    "ax.set_xlabel('Predicted', fontsize = 30)\n",
    "ax.set_ylabel('Actual', fontsize = 30)\n",
    "fig.savefig('location_pred_actual.png')"
   ]
  }
 ],
 "metadata": {
  "hide_input": false,
  "kernelspec": {
   "display_name": "Python 3 (ipykernel)",
   "language": "python",
   "name": "python3"
  },
  "language_info": {
   "codemirror_mode": {
    "name": "ipython",
    "version": 3
   },
   "file_extension": ".py",
   "mimetype": "text/x-python",
   "name": "python",
   "nbconvert_exporter": "python",
   "pygments_lexer": "ipython3",
   "version": "3.9.7"
  }
 },
 "nbformat": 4,
 "nbformat_minor": 2
}
