version https://git-lfs.github.com/spec/v1
oid sha256:d400827a028ede1e2f76294db88cc6dc5d5511105c8600de9674302462f0bd51
size 101004
