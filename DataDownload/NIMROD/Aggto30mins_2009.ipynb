version https://git-lfs.github.com/spec/v1
oid sha256:1c377015200a8acbbe6e0bc432393f13ea625fbc352e36a111c00afc5f452605
size 92045
