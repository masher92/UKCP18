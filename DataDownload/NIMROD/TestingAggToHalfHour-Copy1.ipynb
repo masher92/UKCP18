{
 "cells": [
  {
   "cell_type": "code",
   "execution_count": 1,
   "id": "66886a87",
   "metadata": {},
   "outputs": [
    {
     "name": "stderr",
     "output_type": "stream",
     "text": [
      "/nfs/a321/gy17m2a/anaconda_install/anaconda3/envs/ukcp18/lib/python3.7/site-packages/pyproj/crs/crs.py:68: FutureWarning: '+init=<authority>:<code>' syntax is deprecated. '<authority>:<code>' is the preferred initialization method. When making the change, be mindful of axis order changes: https://pyproj4.github.io/pyproj/stable/gotchas.html#axis-order-changes-in-proj-6\n",
      "  return _prepare_from_string(\" \".join(pjargs))\n",
      "/nfs/a321/gy17m2a/anaconda_install/anaconda3/envs/ukcp18/lib/python3.7/site-packages/pyproj/crs/crs.py:68: FutureWarning: '+init=<authority>:<code>' syntax is deprecated. '<authority>:<code>' is the preferred initialization method. When making the change, be mindful of axis order changes: https://pyproj4.github.io/pyproj/stable/gotchas.html#axis-order-changes-in-proj-6\n",
      "  return _prepare_from_string(\" \".join(pjargs))\n",
      "/nfs/a321/gy17m2a/anaconda_install/anaconda3/envs/ukcp18/lib/python3.7/site-packages/pyproj/crs/crs.py:68: FutureWarning: '+init=<authority>:<code>' syntax is deprecated. '<authority>:<code>' is the preferred initialization method. When making the change, be mindful of axis order changes: https://pyproj4.github.io/pyproj/stable/gotchas.html#axis-order-changes-in-proj-6\n",
      "  return _prepare_from_string(\" \".join(pjargs))\n"
     ]
    }
   ],
   "source": [
    "import iris\n",
    "import glob\n",
    "import iris.plot as iplt\n",
    "import iris.quickplot as qplt\n",
    "import datetime as datetime\n",
    "import iris.coord_categorisation as cat\n",
    "import sys\n",
    "import numpy as np\n",
    "\n",
    "# Create path to files containing functions\n",
    "sys.path.insert(0, '/nfs/a319/gy17m2a/PhD/Scripts/GlobalFunctions')\n",
    "from Spatial_plotting_functions import *\n",
    "from Spatial_geometry_functions import *\n",
    "\n",
    "uk_gdf = create_uk_outline({'init' :'epsg:3857'})\n",
    "\n",
    "import warnings\n",
    "warnings.simplefilter(action = 'ignore', category = FutureWarning)"
   ]
  },
  {
   "cell_type": "code",
   "execution_count": 10,
   "id": "46bc86a3",
   "metadata": {},
   "outputs": [
    {
     "name": "stdout",
     "output_type": "stream",
     "text": [
      "2016\n"
     ]
    },
    {
     "data": {
      "text/plain": [
       "['/nfs/a319/gy17m2a/PhD/datadir/NIMROD/5mins/OriginalFormat_1km/2016/metoffice-c-band-rain-radar_uk_20160601.nc',\n",
       " '/nfs/a319/gy17m2a/PhD/datadir/NIMROD/5mins/OriginalFormat_1km/2016/metoffice-c-band-rain-radar_uk_20160602.nc',\n",
       " '/nfs/a319/gy17m2a/PhD/datadir/NIMROD/5mins/OriginalFormat_1km/2016/metoffice-c-band-rain-radar_uk_20160603.nc',\n",
       " '/nfs/a319/gy17m2a/PhD/datadir/NIMROD/5mins/OriginalFormat_1km/2016/metoffice-c-band-rain-radar_uk_20160604.nc',\n",
       " '/nfs/a319/gy17m2a/PhD/datadir/NIMROD/5mins/OriginalFormat_1km/2016/metoffice-c-band-rain-radar_uk_20160605.nc']"
      ]
     },
     "execution_count": 10,
     "metadata": {},
     "output_type": "execute_result"
    }
   ],
   "source": [
    "for year in [2016]:\n",
    "    print(year)\n",
    "    radardir = f'/nfs/a319/gy17m2a/PhD/datadir/NIMROD/5mins/OriginalFormat_1km/{year}/'\n",
    "    file_list=glob.glob(radardir +\"*.nc\")\n",
    "    sorted_list = sorted(file_list)\n",
    "sorted_list[:5]"
   ]
  },
  {
   "cell_type": "code",
   "execution_count": 5,
   "id": "2daeb019",
   "metadata": {},
   "outputs": [],
   "source": [
    "# test = iris.load(sorted_list[i])\n",
    "# print(i, np.nanmax(test[0].data))"
   ]
  },
  {
   "cell_type": "code",
   "execution_count": 59,
   "id": "347bf80e",
   "metadata": {},
   "outputs": [],
   "source": [
    "data=test.data\n"
   ]
  },
  {
   "cell_type": "code",
   "execution_count": 60,
   "id": "55a94e17",
   "metadata": {},
   "outputs": [
    {
     "data": {
      "text/plain": [
       "9"
      ]
     },
     "execution_count": 60,
     "metadata": {},
     "output_type": "execute_result"
    }
   ],
   "source": [
    "len(data[data==1023.96875])"
   ]
  },
  {
   "cell_type": "code",
   "execution_count": 62,
   "id": "49c14cf7",
   "metadata": {},
   "outputs": [
    {
     "name": "stdout",
     "output_type": "stream",
     "text": [
      "0 1023.96875\n",
      "222\n",
      "1 1023.96875\n",
      "36\n",
      "2 1023.96875\n",
      "9\n",
      "3 1023.96875\n",
      "1\n",
      "4 1023.96875\n",
      "18\n"
     ]
    },
    {
     "ename": "KeyboardInterrupt",
     "evalue": "",
     "output_type": "error",
     "traceback": [
      "\u001b[0;31m---------------------------------------------------------------------------\u001b[0m",
      "\u001b[0;31mKeyboardInterrupt\u001b[0m                         Traceback (most recent call last)",
      "\u001b[0;32m/tmp/ipykernel_6514/2155760295.py\u001b[0m in \u001b[0;36m<module>\u001b[0;34m\u001b[0m\n\u001b[1;32m      3\u001b[0m     \u001b[0mtest\u001b[0m \u001b[0;34m=\u001b[0m \u001b[0miris\u001b[0m\u001b[0;34m.\u001b[0m\u001b[0mload\u001b[0m\u001b[0;34m(\u001b[0m\u001b[0msorted_list\u001b[0m\u001b[0;34m[\u001b[0m\u001b[0mi\u001b[0m\u001b[0;34m]\u001b[0m\u001b[0;34m)\u001b[0m\u001b[0;34m[\u001b[0m\u001b[0;36m0\u001b[0m\u001b[0;34m]\u001b[0m\u001b[0;34m\u001b[0m\u001b[0;34m\u001b[0m\u001b[0m\n\u001b[1;32m      4\u001b[0m     \u001b[0;31m# Print the maximum value for that day\u001b[0m\u001b[0;34m\u001b[0m\u001b[0;34m\u001b[0m\u001b[0;34m\u001b[0m\u001b[0m\n\u001b[0;32m----> 5\u001b[0;31m     \u001b[0mprint\u001b[0m\u001b[0;34m(\u001b[0m\u001b[0mi\u001b[0m\u001b[0;34m,\u001b[0m \u001b[0mnp\u001b[0m\u001b[0;34m.\u001b[0m\u001b[0mnanmax\u001b[0m\u001b[0;34m(\u001b[0m\u001b[0mtest\u001b[0m\u001b[0;34m.\u001b[0m\u001b[0mdata\u001b[0m\u001b[0;34m)\u001b[0m\u001b[0;34m)\u001b[0m\u001b[0;34m\u001b[0m\u001b[0;34m\u001b[0m\u001b[0m\n\u001b[0m\u001b[1;32m      6\u001b[0m     \u001b[0mdata\u001b[0m\u001b[0;34m=\u001b[0m\u001b[0mtest\u001b[0m\u001b[0;34m.\u001b[0m\u001b[0mdata\u001b[0m\u001b[0;34m\u001b[0m\u001b[0;34m\u001b[0m\u001b[0m\n\u001b[1;32m      7\u001b[0m     \u001b[0mprint\u001b[0m\u001b[0;34m(\u001b[0m\u001b[0mlen\u001b[0m\u001b[0;34m(\u001b[0m\u001b[0mdata\u001b[0m\u001b[0;34m[\u001b[0m\u001b[0mdata\u001b[0m\u001b[0;34m==\u001b[0m\u001b[0;36m1023.96875\u001b[0m\u001b[0;34m]\u001b[0m\u001b[0;34m)\u001b[0m\u001b[0;34m)\u001b[0m\u001b[0;34m\u001b[0m\u001b[0;34m\u001b[0m\u001b[0m\n",
      "\u001b[0;32m<__array_function__ internals>\u001b[0m in \u001b[0;36mnanmax\u001b[0;34m(*args, **kwargs)\u001b[0m\n",
      "\u001b[0;32m/nfs/a321/gy17m2a/anaconda_install/anaconda3/envs/ukcp18/lib/python3.7/site-packages/numpy/lib/nanfunctions.py\u001b[0m in \u001b[0;36mnanmax\u001b[0;34m(a, axis, out, keepdims)\u001b[0m\n\u001b[1;32m    439\u001b[0m         \u001b[0;31m# Slow, but safe for subclasses of ndarray\u001b[0m\u001b[0;34m\u001b[0m\u001b[0;34m\u001b[0m\u001b[0;34m\u001b[0m\u001b[0m\n\u001b[1;32m    440\u001b[0m         \u001b[0ma\u001b[0m\u001b[0;34m,\u001b[0m \u001b[0mmask\u001b[0m \u001b[0;34m=\u001b[0m \u001b[0m_replace_nan\u001b[0m\u001b[0;34m(\u001b[0m\u001b[0ma\u001b[0m\u001b[0;34m,\u001b[0m \u001b[0;34m-\u001b[0m\u001b[0mnp\u001b[0m\u001b[0;34m.\u001b[0m\u001b[0minf\u001b[0m\u001b[0;34m)\u001b[0m\u001b[0;34m\u001b[0m\u001b[0;34m\u001b[0m\u001b[0m\n\u001b[0;32m--> 441\u001b[0;31m         \u001b[0mres\u001b[0m \u001b[0;34m=\u001b[0m \u001b[0mnp\u001b[0m\u001b[0;34m.\u001b[0m\u001b[0mamax\u001b[0m\u001b[0;34m(\u001b[0m\u001b[0ma\u001b[0m\u001b[0;34m,\u001b[0m \u001b[0maxis\u001b[0m\u001b[0;34m=\u001b[0m\u001b[0maxis\u001b[0m\u001b[0;34m,\u001b[0m \u001b[0mout\u001b[0m\u001b[0;34m=\u001b[0m\u001b[0mout\u001b[0m\u001b[0;34m,\u001b[0m \u001b[0;34m**\u001b[0m\u001b[0mkwargs\u001b[0m\u001b[0;34m)\u001b[0m\u001b[0;34m\u001b[0m\u001b[0;34m\u001b[0m\u001b[0m\n\u001b[0m\u001b[1;32m    442\u001b[0m         \u001b[0;32mif\u001b[0m \u001b[0mmask\u001b[0m \u001b[0;32mis\u001b[0m \u001b[0;32mNone\u001b[0m\u001b[0;34m:\u001b[0m\u001b[0;34m\u001b[0m\u001b[0;34m\u001b[0m\u001b[0m\n\u001b[1;32m    443\u001b[0m             \u001b[0;32mreturn\u001b[0m \u001b[0mres\u001b[0m\u001b[0;34m\u001b[0m\u001b[0;34m\u001b[0m\u001b[0m\n",
      "\u001b[0;32m<__array_function__ internals>\u001b[0m in \u001b[0;36mamax\u001b[0;34m(*args, **kwargs)\u001b[0m\n",
      "\u001b[0;32m/nfs/a321/gy17m2a/anaconda_install/anaconda3/envs/ukcp18/lib/python3.7/site-packages/numpy/core/fromnumeric.py\u001b[0m in \u001b[0;36mamax\u001b[0;34m(a, axis, out, keepdims, initial, where)\u001b[0m\n\u001b[1;32m   2732\u001b[0m     \"\"\"\n\u001b[1;32m   2733\u001b[0m     return _wrapreduction(a, np.maximum, 'max', axis, None, out,\n\u001b[0;32m-> 2734\u001b[0;31m                           keepdims=keepdims, initial=initial, where=where)\n\u001b[0m\u001b[1;32m   2735\u001b[0m \u001b[0;34m\u001b[0m\u001b[0m\n\u001b[1;32m   2736\u001b[0m \u001b[0;34m\u001b[0m\u001b[0m\n",
      "\u001b[0;32m/nfs/a321/gy17m2a/anaconda_install/anaconda3/envs/ukcp18/lib/python3.7/site-packages/numpy/core/fromnumeric.py\u001b[0m in \u001b[0;36m_wrapreduction\u001b[0;34m(obj, ufunc, method, axis, dtype, out, **kwargs)\u001b[0m\n\u001b[1;32m     83\u001b[0m                 \u001b[0;32mreturn\u001b[0m \u001b[0mreduction\u001b[0m\u001b[0;34m(\u001b[0m\u001b[0maxis\u001b[0m\u001b[0;34m=\u001b[0m\u001b[0maxis\u001b[0m\u001b[0;34m,\u001b[0m \u001b[0mdtype\u001b[0m\u001b[0;34m=\u001b[0m\u001b[0mdtype\u001b[0m\u001b[0;34m,\u001b[0m \u001b[0mout\u001b[0m\u001b[0;34m=\u001b[0m\u001b[0mout\u001b[0m\u001b[0;34m,\u001b[0m \u001b[0;34m**\u001b[0m\u001b[0mpasskwargs\u001b[0m\u001b[0;34m)\u001b[0m\u001b[0;34m\u001b[0m\u001b[0;34m\u001b[0m\u001b[0m\n\u001b[1;32m     84\u001b[0m             \u001b[0;32melse\u001b[0m\u001b[0;34m:\u001b[0m\u001b[0;34m\u001b[0m\u001b[0;34m\u001b[0m\u001b[0m\n\u001b[0;32m---> 85\u001b[0;31m                 \u001b[0;32mreturn\u001b[0m \u001b[0mreduction\u001b[0m\u001b[0;34m(\u001b[0m\u001b[0maxis\u001b[0m\u001b[0;34m=\u001b[0m\u001b[0maxis\u001b[0m\u001b[0;34m,\u001b[0m \u001b[0mout\u001b[0m\u001b[0;34m=\u001b[0m\u001b[0mout\u001b[0m\u001b[0;34m,\u001b[0m \u001b[0;34m**\u001b[0m\u001b[0mpasskwargs\u001b[0m\u001b[0;34m)\u001b[0m\u001b[0;34m\u001b[0m\u001b[0;34m\u001b[0m\u001b[0m\n\u001b[0m\u001b[1;32m     86\u001b[0m \u001b[0;34m\u001b[0m\u001b[0m\n\u001b[1;32m     87\u001b[0m     \u001b[0;32mreturn\u001b[0m \u001b[0mufunc\u001b[0m\u001b[0;34m.\u001b[0m\u001b[0mreduce\u001b[0m\u001b[0;34m(\u001b[0m\u001b[0mobj\u001b[0m\u001b[0;34m,\u001b[0m \u001b[0maxis\u001b[0m\u001b[0;34m,\u001b[0m \u001b[0mdtype\u001b[0m\u001b[0;34m,\u001b[0m \u001b[0mout\u001b[0m\u001b[0;34m,\u001b[0m \u001b[0;34m**\u001b[0m\u001b[0mpasskwargs\u001b[0m\u001b[0;34m)\u001b[0m\u001b[0;34m\u001b[0m\u001b[0;34m\u001b[0m\u001b[0m\n",
      "\u001b[0;32m/nfs/a321/gy17m2a/anaconda_install/anaconda3/envs/ukcp18/lib/python3.7/site-packages/numpy/ma/core.py\u001b[0m in \u001b[0;36mmax\u001b[0;34m(self, axis, out, fill_value, keepdims)\u001b[0m\n\u001b[1;32m   5829\u001b[0m         \u001b[0;31m# No explicit output\u001b[0m\u001b[0;34m\u001b[0m\u001b[0;34m\u001b[0m\u001b[0;34m\u001b[0m\u001b[0m\n\u001b[1;32m   5830\u001b[0m         \u001b[0;32mif\u001b[0m \u001b[0mout\u001b[0m \u001b[0;32mis\u001b[0m \u001b[0;32mNone\u001b[0m\u001b[0;34m:\u001b[0m\u001b[0;34m\u001b[0m\u001b[0;34m\u001b[0m\u001b[0m\n\u001b[0;32m-> 5831\u001b[0;31m             result = self.filled(fill_value).max(\n\u001b[0m\u001b[1;32m   5832\u001b[0m                 axis=axis, out=out, **kwargs).view(type(self))\n\u001b[1;32m   5833\u001b[0m             \u001b[0;32mif\u001b[0m \u001b[0mresult\u001b[0m\u001b[0;34m.\u001b[0m\u001b[0mndim\u001b[0m\u001b[0;34m:\u001b[0m\u001b[0;34m\u001b[0m\u001b[0;34m\u001b[0m\u001b[0m\n",
      "\u001b[0;32m/nfs/a321/gy17m2a/anaconda_install/anaconda3/envs/ukcp18/lib/python3.7/site-packages/numpy/ma/core.py\u001b[0m in \u001b[0;36mfilled\u001b[0;34m(self, fill_value)\u001b[0m\n\u001b[1;32m   3788\u001b[0m             \u001b[0;32mreturn\u001b[0m \u001b[0mself\u001b[0m\u001b[0;34m.\u001b[0m\u001b[0m_data\u001b[0m\u001b[0;34m\u001b[0m\u001b[0;34m\u001b[0m\u001b[0m\n\u001b[1;32m   3789\u001b[0m         \u001b[0;32melse\u001b[0m\u001b[0;34m:\u001b[0m\u001b[0;34m\u001b[0m\u001b[0;34m\u001b[0m\u001b[0m\n\u001b[0;32m-> 3790\u001b[0;31m             \u001b[0mresult\u001b[0m \u001b[0;34m=\u001b[0m \u001b[0mself\u001b[0m\u001b[0;34m.\u001b[0m\u001b[0m_data\u001b[0m\u001b[0;34m.\u001b[0m\u001b[0mcopy\u001b[0m\u001b[0;34m(\u001b[0m\u001b[0;34m'K'\u001b[0m\u001b[0;34m)\u001b[0m\u001b[0;34m\u001b[0m\u001b[0;34m\u001b[0m\u001b[0m\n\u001b[0m\u001b[1;32m   3791\u001b[0m             \u001b[0;32mtry\u001b[0m\u001b[0;34m:\u001b[0m\u001b[0;34m\u001b[0m\u001b[0;34m\u001b[0m\u001b[0m\n\u001b[1;32m   3792\u001b[0m                 \u001b[0mnp\u001b[0m\u001b[0;34m.\u001b[0m\u001b[0mcopyto\u001b[0m\u001b[0;34m(\u001b[0m\u001b[0mresult\u001b[0m\u001b[0;34m,\u001b[0m \u001b[0mfill_value\u001b[0m\u001b[0;34m,\u001b[0m \u001b[0mwhere\u001b[0m\u001b[0;34m=\u001b[0m\u001b[0mm\u001b[0m\u001b[0;34m)\u001b[0m\u001b[0;34m\u001b[0m\u001b[0;34m\u001b[0m\u001b[0m\n",
      "\u001b[0;31mKeyboardInterrupt\u001b[0m: "
     ]
    }
   ],
   "source": [
    "for i in range(0, len(sorted_list)):\n",
    "    # test is one days worth of data\n",
    "    test = iris.load(sorted_list[i])[0]\n",
    "    # Print the maximum value for that day\n",
    "    print(i, np.nanmax(test.data))\n",
    "    data=test.data\n",
    "    print(len(data[data==1023.96875]))\n",
    "#     test_uk = trim_to_bbox_of_region_obs(test[0], uk_gdf)\n",
    "#     # PRINT MAX VALUE ONCE TRIMMED TO UK\n",
    "#     print(i, np.nanmax(test.data))\n",
    "    \n",
    "#     # Loop through each of the 5 mins timeslices and check for values >1023\n",
    "#     for sub_i in range(0,test.shape[0]):\n",
    "#         # GET 5 MIN TIMESLICE\n",
    "#         test2 = test[sub_i]\n",
    "#         # FIND IF IT HAS A VALUE 1023\n",
    "#         if np.nanmax(test2.data) >1000:\n",
    "#             print(f\"the 1023 is at position {sub_i}, with values {np.nanmax(test2.data)}\")\n",
    "    \n",
    "#     # DO THE SAME THING FOR TRIMMED TO UK\n",
    "#     if np.nanmax(test_uk.data) >1000:\n",
    "#         print(\"also uk above 1000\")\n",
    "#         for sub_i in range(0,test_uk.shape[0]):\n",
    "#             test2 = test_uk[sub_i]\n",
    "#             if np.nanmax(test2.data) >1000:\n",
    "#                 print(f\"Uk trim the 1023 is at position {sub_i}, with values {np.nanmax(test2.data)}\")\n",
    "#     else:\n",
    "#         print (\"not above 1000\", np.nanmax(test2.data))"
   ]
  },
  {
   "cell_type": "code",
   "execution_count": 31,
   "id": "19f3f9c5",
   "metadata": {},
   "outputs": [
    {
     "name": "stdout",
     "output_type": "stream",
     "text": [
      "255 1023.96875\n"
     ]
    }
   ],
   "source": [
    "for i in range(0,test_uk.shape[0]):\n",
    "    test2 = test_uk[i]\n",
    "    if np.nanmax(test2.data) >1000:\n",
    "        print(i, np.nanmax(test2.data))"
   ]
  },
  {
   "cell_type": "code",
   "execution_count": 31,
   "id": "30b41b2d",
   "metadata": {},
   "outputs": [
    {
     "name": "stdout",
     "output_type": "stream",
     "text": [
      "Indices where the value 1023 occurs:\n"
     ]
    }
   ],
   "source": [
    "# Find the indices where the value is 1023\n",
    "indices = np.where(test[0].data == 1023.96875)\n",
    "\n",
    "# The variable indices will contain a tuple of arrays corresponding to the indices\n",
    "# along each dimension where the value 1023 occurs.\n",
    "\n",
    "# If you want to print these indices:\n",
    "print(\"Indices where the value 1023 occurs:\")\n",
    "for idx in zip(*indices):\n",
    "    print(idx)"
   ]
  },
  {
   "cell_type": "code",
   "execution_count": 12,
   "id": "5863f472",
   "metadata": {},
   "outputs": [
    {
     "data": {
      "image/png": "[encoded data removed]",
      "text/plain": [
       "<Figure size 432x288 with 1 Axes>"
      ]
     },
     "metadata": {
      "needs_background": "light"
     },
     "output_type": "display_data"
    }
   ],
   "source": [
    "# check = test[0].data\n",
    "import matplotlib.pyplot as plt\n",
    "plt.hist(check.flatten(), bins=30, edgecolor='black')\n",
    "plt.title('Histogram of Random Data')\n",
    "plt.xlabel('Values')\n",
    "plt.ylabel('Frequency')\n",
    "plt.grid(True)\n",
    "plt.show()"
   ]
  },
  {
   "cell_type": "code",
   "execution_count": 53,
   "id": "40e4cd7e",
   "metadata": {},
   "outputs": [
    {
     "name": "stdout",
     "output_type": "stream",
     "text": [
      "2012\n"
     ]
    }
   ],
   "source": [
    "# print (year)\n",
    "years = [2012]\n",
    "\n",
    "for year in years:\n",
    "    print(year)\n",
    "    ### Get list of files to convert\n",
    "    radardir = f'/nfs/a319/gy17m2a/PhD/datadir/NIMROD/5mins/OriginalFormat_1km/{year}/'\n",
    "    file_list=glob.glob(radardir +\"*.nc\")\n",
    "    sorted_list = sorted(file_list)\n"
   ]
  },
  {
   "cell_type": "code",
   "execution_count": 8,
   "id": "60d714c6",
   "metadata": {},
   "outputs": [
    {
     "name": "stdout",
     "output_type": "stream",
     "text": [
      "2011\n",
      "0\n",
      "Saved cube 2011 0\n",
      "0.0\n",
      "170.66145833333334\n",
      "0.01562679131788283\n",
      "1\n",
      "Saved cube 2011 1\n",
      "0.0\n",
      "170.66145833333334\n",
      "0.0001684426478890173\n",
      "2\n",
      "Saved cube 2011 2\n",
      "0.0\n",
      "170.81770833333334\n",
      "0.0003179818048151861\n",
      "3\n",
      "Saved cube 2011 3\n",
      "0.0\n",
      "173.578125\n",
      "0.0080668958084615\n",
      "4\n",
      "Saved cube 2011 4\n",
      "0.0\n",
      "171.05729166666666\n",
      "0.03501687713145756\n",
      "5\n",
      "Saved cube 2011 5\n",
      "0.0\n",
      "170.66666666666666\n",
      "0.023756483260106088\n",
      "6\n"
     ]
    },
    {
     "ename": "KeyboardInterrupt",
     "evalue": "",
     "output_type": "error",
     "traceback": [
      "\u001b[0;31m---------------------------------------------------------------------------\u001b[0m",
      "\u001b[0;31mKeyboardInterrupt\u001b[0m                         Traceback (most recent call last)",
      "\u001b[0;32m/tmp/ipykernel_3325/2844794949.py\u001b[0m in \u001b[0;36m<module>\u001b[0;34m\u001b[0m\n\u001b[1;32m     74\u001b[0m                             \u001b[0mprint\u001b[0m\u001b[0;34m(\u001b[0m\u001b[0mfirst_half_of_hour\u001b[0m\u001b[0;34m.\u001b[0m\u001b[0mdata\u001b[0m\u001b[0;34m[\u001b[0m\u001b[0mfirst_half_of_hour\u001b[0m\u001b[0;34m.\u001b[0m\u001b[0mdata\u001b[0m\u001b[0;34m<\u001b[0m\u001b[0;36m0\u001b[0m\u001b[0;34m]\u001b[0m\u001b[0;34m)\u001b[0m\u001b[0;34m\u001b[0m\u001b[0;34m\u001b[0m\u001b[0m\n\u001b[1;32m     75\u001b[0m                     \u001b[0;31m# FIND MEAN ACROSS WHOLE FIRST HALF HOUR\u001b[0m\u001b[0;34m\u001b[0m\u001b[0;34m\u001b[0m\u001b[0;34m\u001b[0m\u001b[0m\n\u001b[0;32m---> 76\u001b[0;31m                     \u001b[0mfirst_half_hourly_mean\u001b[0m \u001b[0;34m=\u001b[0m \u001b[0mfirst_half_of_hour\u001b[0m\u001b[0;34m.\u001b[0m\u001b[0maggregated_by\u001b[0m\u001b[0;34m(\u001b[0m\u001b[0;34m[\u001b[0m\u001b[0;34m'hour'\u001b[0m\u001b[0;34m]\u001b[0m\u001b[0;34m,\u001b[0m\u001b[0miris\u001b[0m\u001b[0;34m.\u001b[0m\u001b[0manalysis\u001b[0m\u001b[0;34m.\u001b[0m\u001b[0mMEAN\u001b[0m\u001b[0;34m)\u001b[0m\u001b[0;34m\u001b[0m\u001b[0;34m\u001b[0m\u001b[0m\n\u001b[0m\u001b[1;32m     77\u001b[0m                     \u001b[0;31m# first_half_hourly_mean.data.astype('float64')\u001b[0m\u001b[0;34m\u001b[0m\u001b[0;34m\u001b[0m\u001b[0;34m\u001b[0m\u001b[0m\n\u001b[1;32m     78\u001b[0m                     \u001b[0mmy_cube_list\u001b[0m\u001b[0;34m.\u001b[0m\u001b[0mappend\u001b[0m\u001b[0;34m(\u001b[0m\u001b[0mfirst_half_hourly_mean\u001b[0m\u001b[0;34m)\u001b[0m\u001b[0;34m\u001b[0m\u001b[0;34m\u001b[0m\u001b[0m\n",
      "\u001b[0;32m/nfs/a321/gy17m2a/anaconda_install/anaconda3/envs/ukcp18/lib/python3.7/site-packages/iris/cube.py\u001b[0m in \u001b[0;36maggregated_by\u001b[0;34m(self, coords, aggregator, **kwargs)\u001b[0m\n\u001b[1;32m   3779\u001b[0m         \u001b[0mkey\u001b[0m \u001b[0;34m=\u001b[0m \u001b[0;34m[\u001b[0m\u001b[0mslice\u001b[0m\u001b[0;34m(\u001b[0m\u001b[0;32mNone\u001b[0m\u001b[0;34m,\u001b[0m \u001b[0;32mNone\u001b[0m\u001b[0;34m)\u001b[0m\u001b[0;34m]\u001b[0m \u001b[0;34m*\u001b[0m \u001b[0mself\u001b[0m\u001b[0;34m.\u001b[0m\u001b[0mndim\u001b[0m\u001b[0;34m\u001b[0m\u001b[0;34m\u001b[0m\u001b[0m\n\u001b[1;32m   3780\u001b[0m         \u001b[0;31m# Generate unique index tuple key to maintain monotonicity.\u001b[0m\u001b[0;34m\u001b[0m\u001b[0;34m\u001b[0m\u001b[0;34m\u001b[0m\u001b[0m\n\u001b[0;32m-> 3781\u001b[0;31m         \u001b[0mkey\u001b[0m\u001b[0;34m[\u001b[0m\u001b[0mdimension_to_groupby\u001b[0m\u001b[0;34m]\u001b[0m \u001b[0;34m=\u001b[0m \u001b[0mtuple\u001b[0m\u001b[0;34m(\u001b[0m\u001b[0mrange\u001b[0m\u001b[0;34m(\u001b[0m\u001b[0mlen\u001b[0m\u001b[0;34m(\u001b[0m\u001b[0mgroupby\u001b[0m\u001b[0;34m)\u001b[0m\u001b[0;34m)\u001b[0m\u001b[0;34m)\u001b[0m\u001b[0;34m\u001b[0m\u001b[0;34m\u001b[0m\u001b[0m\n\u001b[0m\u001b[1;32m   3782\u001b[0m         \u001b[0mkey\u001b[0m \u001b[0;34m=\u001b[0m \u001b[0mtuple\u001b[0m\u001b[0;34m(\u001b[0m\u001b[0mkey\u001b[0m\u001b[0;34m)\u001b[0m\u001b[0;34m\u001b[0m\u001b[0;34m\u001b[0m\u001b[0m\n\u001b[1;32m   3783\u001b[0m         \u001b[0maggregateby_cube\u001b[0m \u001b[0;34m=\u001b[0m \u001b[0maggregateby_cube\u001b[0m\u001b[0;34m[\u001b[0m\u001b[0mkey\u001b[0m\u001b[0;34m]\u001b[0m\u001b[0;34m\u001b[0m\u001b[0;34m\u001b[0m\u001b[0m\n",
      "\u001b[0;32m/nfs/a321/gy17m2a/anaconda_install/anaconda3/envs/ukcp18/lib/python3.7/site-packages/iris/analysis/__init__.py\u001b[0m in \u001b[0;36m__len__\u001b[0;34m(self)\u001b[0m\n\u001b[1;32m   2299\u001b[0m             \u001b[0mvalue\u001b[0m \u001b[0;34m=\u001b[0m \u001b[0mlen\u001b[0m\u001b[0;34m(\u001b[0m\u001b[0mself\u001b[0m\u001b[0;34m.\u001b[0m\u001b[0m_slices_by_key\u001b[0m\u001b[0;34m)\u001b[0m\u001b[0;34m\u001b[0m\u001b[0;34m\u001b[0m\u001b[0m\n\u001b[1;32m   2300\u001b[0m         \u001b[0;32melse\u001b[0m\u001b[0;34m:\u001b[0m\u001b[0;34m\u001b[0m\u001b[0;34m\u001b[0m\u001b[0m\n\u001b[0;32m-> 2301\u001b[0;31m             \u001b[0mvalue\u001b[0m \u001b[0;34m=\u001b[0m \u001b[0mlen\u001b[0m\u001b[0;34m(\u001b[0m\u001b[0;34m[\u001b[0m\u001b[0ms\u001b[0m \u001b[0;32mfor\u001b[0m \u001b[0ms\u001b[0m \u001b[0;32min\u001b[0m \u001b[0mself\u001b[0m\u001b[0;34m.\u001b[0m\u001b[0mgroup\u001b[0m\u001b[0;34m(\u001b[0m\u001b[0;34m)\u001b[0m\u001b[0;34m]\u001b[0m\u001b[0;34m)\u001b[0m\u001b[0;34m\u001b[0m\u001b[0;34m\u001b[0m\u001b[0m\n\u001b[0m\u001b[1;32m   2302\u001b[0m \u001b[0;34m\u001b[0m\u001b[0m\n\u001b[1;32m   2303\u001b[0m         \u001b[0;32mreturn\u001b[0m \u001b[0mvalue\u001b[0m\u001b[0;34m\u001b[0m\u001b[0;34m\u001b[0m\u001b[0m\n",
      "\u001b[0;32m/nfs/a321/gy17m2a/anaconda_install/anaconda3/envs/ukcp18/lib/python3.7/site-packages/iris/analysis/__init__.py\u001b[0m in \u001b[0;36m<listcomp>\u001b[0;34m(.0)\u001b[0m\n\u001b[1;32m   2299\u001b[0m             \u001b[0mvalue\u001b[0m \u001b[0;34m=\u001b[0m \u001b[0mlen\u001b[0m\u001b[0;34m(\u001b[0m\u001b[0mself\u001b[0m\u001b[0;34m.\u001b[0m\u001b[0m_slices_by_key\u001b[0m\u001b[0;34m)\u001b[0m\u001b[0;34m\u001b[0m\u001b[0;34m\u001b[0m\u001b[0m\n\u001b[1;32m   2300\u001b[0m         \u001b[0;32melse\u001b[0m\u001b[0;34m:\u001b[0m\u001b[0;34m\u001b[0m\u001b[0;34m\u001b[0m\u001b[0m\n\u001b[0;32m-> 2301\u001b[0;31m             \u001b[0mvalue\u001b[0m \u001b[0;34m=\u001b[0m \u001b[0mlen\u001b[0m\u001b[0;34m(\u001b[0m\u001b[0;34m[\u001b[0m\u001b[0ms\u001b[0m \u001b[0;32mfor\u001b[0m \u001b[0ms\u001b[0m \u001b[0;32min\u001b[0m \u001b[0mself\u001b[0m\u001b[0;34m.\u001b[0m\u001b[0mgroup\u001b[0m\u001b[0;34m(\u001b[0m\u001b[0;34m)\u001b[0m\u001b[0;34m]\u001b[0m\u001b[0;34m)\u001b[0m\u001b[0;34m\u001b[0m\u001b[0;34m\u001b[0m\u001b[0m\n\u001b[0m\u001b[1;32m   2302\u001b[0m \u001b[0;34m\u001b[0m\u001b[0m\n\u001b[1;32m   2303\u001b[0m         \u001b[0;32mreturn\u001b[0m \u001b[0mvalue\u001b[0m\u001b[0;34m\u001b[0m\u001b[0;34m\u001b[0m\u001b[0m\n",
      "\u001b[0;32m/nfs/a321/gy17m2a/anaconda_install/anaconda3/envs/ukcp18/lib/python3.7/site-packages/iris/analysis/__init__.py\u001b[0m in \u001b[0;36mgroup\u001b[0;34m(self)\u001b[0m\n\u001b[1;32m   2119\u001b[0m                 \u001b[0mself\u001b[0m\u001b[0;34m.\u001b[0m\u001b[0m_compute_groupby_coords\u001b[0m\u001b[0;34m(\u001b[0m\u001b[0;34m)\u001b[0m\u001b[0;34m\u001b[0m\u001b[0;34m\u001b[0m\u001b[0m\n\u001b[1;32m   2120\u001b[0m                 \u001b[0;31m# Calculate the new shared coordinates.\u001b[0m\u001b[0;34m\u001b[0m\u001b[0;34m\u001b[0m\u001b[0;34m\u001b[0m\u001b[0m\n\u001b[0;32m-> 2121\u001b[0;31m                 \u001b[0mself\u001b[0m\u001b[0;34m.\u001b[0m\u001b[0m_compute_shared_coords\u001b[0m\u001b[0;34m(\u001b[0m\u001b[0;34m)\u001b[0m\u001b[0;34m\u001b[0m\u001b[0;34m\u001b[0m\u001b[0m\n\u001b[0m\u001b[1;32m   2122\u001b[0m             \u001b[0;31m# Generate the group-by slices/groups.\u001b[0m\u001b[0;34m\u001b[0m\u001b[0;34m\u001b[0m\u001b[0;34m\u001b[0m\u001b[0m\n\u001b[1;32m   2123\u001b[0m             \u001b[0;32mfor\u001b[0m \u001b[0mgroupby_slice\u001b[0m \u001b[0;32min\u001b[0m \u001b[0mself\u001b[0m\u001b[0;34m.\u001b[0m\u001b[0m_slices_by_key\u001b[0m\u001b[0;34m.\u001b[0m\u001b[0mvalues\u001b[0m\u001b[0;34m(\u001b[0m\u001b[0;34m)\u001b[0m\u001b[0;34m:\u001b[0m\u001b[0;34m\u001b[0m\u001b[0;34m\u001b[0m\u001b[0m\n",
      "\u001b[0;32m/nfs/a321/gy17m2a/anaconda_install/anaconda3/envs/ukcp18/lib/python3.7/site-packages/iris/analysis/__init__.py\u001b[0m in \u001b[0;36m_compute_shared_coords\u001b[0;34m(self)\u001b[0m\n\u001b[1;32m   2183\u001b[0m         \u001b[0;31m# Create new shared bounded coordinates.\u001b[0m\u001b[0;34m\u001b[0m\u001b[0;34m\u001b[0m\u001b[0;34m\u001b[0m\u001b[0m\n\u001b[1;32m   2184\u001b[0m         \u001b[0;32mfor\u001b[0m \u001b[0mcoord\u001b[0m\u001b[0;34m,\u001b[0m \u001b[0mdim\u001b[0m \u001b[0;32min\u001b[0m \u001b[0mself\u001b[0m\u001b[0;34m.\u001b[0m\u001b[0m_shared_coords\u001b[0m\u001b[0;34m:\u001b[0m\u001b[0;34m\u001b[0m\u001b[0;34m\u001b[0m\u001b[0m\n\u001b[0;32m-> 2185\u001b[0;31m             \u001b[0;32mif\u001b[0m \u001b[0mcoord\u001b[0m\u001b[0;34m.\u001b[0m\u001b[0mpoints\u001b[0m\u001b[0;34m.\u001b[0m\u001b[0mdtype\u001b[0m\u001b[0;34m.\u001b[0m\u001b[0mkind\u001b[0m \u001b[0;32min\u001b[0m \u001b[0;34m\"SU\"\u001b[0m\u001b[0;34m:\u001b[0m\u001b[0;34m\u001b[0m\u001b[0;34m\u001b[0m\u001b[0m\n\u001b[0m\u001b[1;32m   2186\u001b[0m                 \u001b[0;32mif\u001b[0m \u001b[0mcoord\u001b[0m\u001b[0;34m.\u001b[0m\u001b[0mbounds\u001b[0m \u001b[0;32mis\u001b[0m \u001b[0;32mNone\u001b[0m\u001b[0;34m:\u001b[0m\u001b[0;34m\u001b[0m\u001b[0;34m\u001b[0m\u001b[0m\n\u001b[1;32m   2187\u001b[0m                     \u001b[0mnew_points\u001b[0m \u001b[0;34m=\u001b[0m \u001b[0;34m[\u001b[0m\u001b[0;34m]\u001b[0m\u001b[0;34m\u001b[0m\u001b[0;34m\u001b[0m\u001b[0m\n",
      "\u001b[0;32m/nfs/a321/gy17m2a/anaconda_install/anaconda3/envs/ukcp18/lib/python3.7/site-packages/iris/coords.py\u001b[0m in \u001b[0;36mpoints\u001b[0;34m(self)\u001b[0m\n\u001b[1;32m   1435\u001b[0m     \u001b[0;32mdef\u001b[0m \u001b[0mpoints\u001b[0m\u001b[0;34m(\u001b[0m\u001b[0mself\u001b[0m\u001b[0;34m)\u001b[0m\u001b[0;34m:\u001b[0m\u001b[0;34m\u001b[0m\u001b[0;34m\u001b[0m\u001b[0m\n\u001b[1;32m   1436\u001b[0m         \u001b[0;34m\"\"\"The coordinate points values as a NumPy array.\"\"\"\u001b[0m\u001b[0;34m\u001b[0m\u001b[0;34m\u001b[0m\u001b[0m\n\u001b[0;32m-> 1437\u001b[0;31m         \u001b[0;32mreturn\u001b[0m \u001b[0mself\u001b[0m\u001b[0;34m.\u001b[0m\u001b[0m_values\u001b[0m\u001b[0;34m\u001b[0m\u001b[0;34m\u001b[0m\u001b[0m\n\u001b[0m\u001b[1;32m   1438\u001b[0m \u001b[0;34m\u001b[0m\u001b[0m\n\u001b[1;32m   1439\u001b[0m     \u001b[0;34m@\u001b[0m\u001b[0mpoints\u001b[0m\u001b[0;34m.\u001b[0m\u001b[0msetter\u001b[0m\u001b[0;34m\u001b[0m\u001b[0;34m\u001b[0m\u001b[0m\n",
      "\u001b[0;32m/nfs/a321/gy17m2a/anaconda_install/anaconda3/envs/ukcp18/lib/python3.7/site-packages/iris/coords.py\u001b[0m in \u001b[0;36m_values\u001b[0;34m(self)\u001b[0m\n\u001b[1;32m    224\u001b[0m     \u001b[0;32mdef\u001b[0m \u001b[0m_values\u001b[0m\u001b[0;34m(\u001b[0m\u001b[0mself\u001b[0m\u001b[0;34m)\u001b[0m\u001b[0;34m:\u001b[0m\u001b[0;34m\u001b[0m\u001b[0;34m\u001b[0m\u001b[0m\n\u001b[1;32m    225\u001b[0m         \u001b[0;34m\"\"\"The _DimensionalMetadata values as a NumPy array.\"\"\"\u001b[0m\u001b[0;34m\u001b[0m\u001b[0;34m\u001b[0m\u001b[0m\n\u001b[0;32m--> 226\u001b[0;31m         \u001b[0;32mreturn\u001b[0m \u001b[0mself\u001b[0m\u001b[0;34m.\u001b[0m\u001b[0m_values_dm\u001b[0m\u001b[0;34m.\u001b[0m\u001b[0mdata\u001b[0m\u001b[0;34m.\u001b[0m\u001b[0mview\u001b[0m\u001b[0;34m(\u001b[0m\u001b[0;34m)\u001b[0m\u001b[0;34m\u001b[0m\u001b[0;34m\u001b[0m\u001b[0m\n\u001b[0m\u001b[1;32m    227\u001b[0m \u001b[0;34m\u001b[0m\u001b[0m\n\u001b[1;32m    228\u001b[0m     \u001b[0;34m@\u001b[0m\u001b[0m_values\u001b[0m\u001b[0;34m.\u001b[0m\u001b[0msetter\u001b[0m\u001b[0;34m\u001b[0m\u001b[0;34m\u001b[0m\u001b[0m\n",
      "\u001b[0;32m/nfs/a321/gy17m2a/anaconda_install/anaconda3/envs/ukcp18/lib/python3.7/site-packages/iris/_data_manager.py\u001b[0m in \u001b[0;36mdata\u001b[0;34m(self)\u001b[0m\n\u001b[1;32m    204\u001b[0m             \u001b[0;32mtry\u001b[0m\u001b[0;34m:\u001b[0m\u001b[0;34m\u001b[0m\u001b[0;34m\u001b[0m\u001b[0m\n\u001b[1;32m    205\u001b[0m                 \u001b[0;31m# Realise the lazy data.\u001b[0m\u001b[0;34m\u001b[0m\u001b[0;34m\u001b[0m\u001b[0;34m\u001b[0m\u001b[0m\n\u001b[0;32m--> 206\u001b[0;31m                 \u001b[0mresult\u001b[0m \u001b[0;34m=\u001b[0m \u001b[0mas_concrete_data\u001b[0m\u001b[0;34m(\u001b[0m\u001b[0mself\u001b[0m\u001b[0;34m.\u001b[0m\u001b[0m_lazy_array\u001b[0m\u001b[0;34m)\u001b[0m\u001b[0;34m\u001b[0m\u001b[0;34m\u001b[0m\u001b[0m\n\u001b[0m\u001b[1;32m    207\u001b[0m                 \u001b[0;31m# Assign the realised result.\u001b[0m\u001b[0;34m\u001b[0m\u001b[0;34m\u001b[0m\u001b[0;34m\u001b[0m\u001b[0m\n\u001b[1;32m    208\u001b[0m                 \u001b[0mself\u001b[0m\u001b[0;34m.\u001b[0m\u001b[0m_real_array\u001b[0m \u001b[0;34m=\u001b[0m \u001b[0mresult\u001b[0m\u001b[0;34m\u001b[0m\u001b[0;34m\u001b[0m\u001b[0m\n",
      "\u001b[0;32m/nfs/a321/gy17m2a/anaconda_install/anaconda3/envs/ukcp18/lib/python3.7/site-packages/iris/_lazy_data.py\u001b[0m in \u001b[0;36mas_concrete_data\u001b[0;34m(data)\u001b[0m\n\u001b[1;32m    250\u001b[0m     \"\"\"\n\u001b[1;32m    251\u001b[0m     \u001b[0;32mif\u001b[0m \u001b[0mis_lazy_data\u001b[0m\u001b[0;34m(\u001b[0m\u001b[0mdata\u001b[0m\u001b[0;34m)\u001b[0m\u001b[0;34m:\u001b[0m\u001b[0;34m\u001b[0m\u001b[0;34m\u001b[0m\u001b[0m\n\u001b[0;32m--> 252\u001b[0;31m         \u001b[0;34m(\u001b[0m\u001b[0mdata\u001b[0m\u001b[0;34m,\u001b[0m\u001b[0;34m)\u001b[0m \u001b[0;34m=\u001b[0m \u001b[0m_co_realise_lazy_arrays\u001b[0m\u001b[0;34m(\u001b[0m\u001b[0;34m[\u001b[0m\u001b[0mdata\u001b[0m\u001b[0;34m]\u001b[0m\u001b[0;34m)\u001b[0m\u001b[0;34m\u001b[0m\u001b[0;34m\u001b[0m\u001b[0m\n\u001b[0m\u001b[1;32m    253\u001b[0m \u001b[0;34m\u001b[0m\u001b[0m\n\u001b[1;32m    254\u001b[0m     \u001b[0;32mreturn\u001b[0m \u001b[0mdata\u001b[0m\u001b[0;34m\u001b[0m\u001b[0;34m\u001b[0m\u001b[0m\n",
      "\u001b[0;32m/nfs/a321/gy17m2a/anaconda_install/anaconda3/envs/ukcp18/lib/python3.7/site-packages/iris/_lazy_data.py\u001b[0m in \u001b[0;36m_co_realise_lazy_arrays\u001b[0;34m(arrays)\u001b[0m\n\u001b[1;32m    213\u001b[0m \u001b[0;34m\u001b[0m\u001b[0m\n\u001b[1;32m    214\u001b[0m     \"\"\"\n\u001b[0;32m--> 215\u001b[0;31m     \u001b[0mcomputed_arrays\u001b[0m \u001b[0;34m=\u001b[0m \u001b[0mda\u001b[0m\u001b[0;34m.\u001b[0m\u001b[0mcompute\u001b[0m\u001b[0;34m(\u001b[0m\u001b[0;34m*\u001b[0m\u001b[0marrays\u001b[0m\u001b[0;34m)\u001b[0m\u001b[0;34m\u001b[0m\u001b[0;34m\u001b[0m\u001b[0m\n\u001b[0m\u001b[1;32m    216\u001b[0m     \u001b[0mresults\u001b[0m \u001b[0;34m=\u001b[0m \u001b[0;34m[\u001b[0m\u001b[0;34m]\u001b[0m\u001b[0;34m\u001b[0m\u001b[0;34m\u001b[0m\u001b[0m\n\u001b[1;32m    217\u001b[0m     \u001b[0;32mfor\u001b[0m \u001b[0mlazy_in\u001b[0m\u001b[0;34m,\u001b[0m \u001b[0mreal_out\u001b[0m \u001b[0;32min\u001b[0m \u001b[0mzip\u001b[0m\u001b[0;34m(\u001b[0m\u001b[0marrays\u001b[0m\u001b[0;34m,\u001b[0m \u001b[0mcomputed_arrays\u001b[0m\u001b[0;34m)\u001b[0m\u001b[0;34m:\u001b[0m\u001b[0;34m\u001b[0m\u001b[0;34m\u001b[0m\u001b[0m\n",
      "\u001b[0;32m/nfs/a321/gy17m2a/anaconda_install/anaconda3/envs/ukcp18/lib/python3.7/site-packages/dask/base.py\u001b[0m in \u001b[0;36mcompute\u001b[0;34m(traverse, optimize_graph, scheduler, get, *args, **kwargs)\u001b[0m\n\u001b[1;32m    571\u001b[0m         \u001b[0mpostcomputes\u001b[0m\u001b[0;34m.\u001b[0m\u001b[0mappend\u001b[0m\u001b[0;34m(\u001b[0m\u001b[0mx\u001b[0m\u001b[0;34m.\u001b[0m\u001b[0m__dask_postcompute__\u001b[0m\u001b[0;34m(\u001b[0m\u001b[0;34m)\u001b[0m\u001b[0;34m)\u001b[0m\u001b[0;34m\u001b[0m\u001b[0;34m\u001b[0m\u001b[0m\n\u001b[1;32m    572\u001b[0m \u001b[0;34m\u001b[0m\u001b[0m\n\u001b[0;32m--> 573\u001b[0;31m     \u001b[0mresults\u001b[0m \u001b[0;34m=\u001b[0m \u001b[0mschedule\u001b[0m\u001b[0;34m(\u001b[0m\u001b[0mdsk\u001b[0m\u001b[0;34m,\u001b[0m \u001b[0mkeys\u001b[0m\u001b[0;34m,\u001b[0m \u001b[0;34m**\u001b[0m\u001b[0mkwargs\u001b[0m\u001b[0;34m)\u001b[0m\u001b[0;34m\u001b[0m\u001b[0;34m\u001b[0m\u001b[0m\n\u001b[0m\u001b[1;32m    574\u001b[0m     \u001b[0;32mreturn\u001b[0m \u001b[0mrepack\u001b[0m\u001b[0;34m(\u001b[0m\u001b[0;34m[\u001b[0m\u001b[0mf\u001b[0m\u001b[0;34m(\u001b[0m\u001b[0mr\u001b[0m\u001b[0;34m,\u001b[0m \u001b[0;34m*\u001b[0m\u001b[0ma\u001b[0m\u001b[0;34m)\u001b[0m \u001b[0;32mfor\u001b[0m \u001b[0mr\u001b[0m\u001b[0;34m,\u001b[0m \u001b[0;34m(\u001b[0m\u001b[0mf\u001b[0m\u001b[0;34m,\u001b[0m \u001b[0ma\u001b[0m\u001b[0;34m)\u001b[0m \u001b[0;32min\u001b[0m \u001b[0mzip\u001b[0m\u001b[0;34m(\u001b[0m\u001b[0mresults\u001b[0m\u001b[0;34m,\u001b[0m \u001b[0mpostcomputes\u001b[0m\u001b[0;34m)\u001b[0m\u001b[0;34m]\u001b[0m\u001b[0;34m)\u001b[0m\u001b[0;34m\u001b[0m\u001b[0;34m\u001b[0m\u001b[0m\n\u001b[1;32m    575\u001b[0m \u001b[0;34m\u001b[0m\u001b[0m\n",
      "\u001b[0;32m/nfs/a321/gy17m2a/anaconda_install/anaconda3/envs/ukcp18/lib/python3.7/site-packages/dask/threaded.py\u001b[0m in \u001b[0;36mget\u001b[0;34m(dsk, result, cache, num_workers, pool, **kwargs)\u001b[0m\n\u001b[1;32m     87\u001b[0m         \u001b[0mget_id\u001b[0m\u001b[0;34m=\u001b[0m\u001b[0m_thread_get_id\u001b[0m\u001b[0;34m,\u001b[0m\u001b[0;34m\u001b[0m\u001b[0;34m\u001b[0m\u001b[0m\n\u001b[1;32m     88\u001b[0m         \u001b[0mpack_exception\u001b[0m\u001b[0;34m=\u001b[0m\u001b[0mpack_exception\u001b[0m\u001b[0;34m,\u001b[0m\u001b[0;34m\u001b[0m\u001b[0;34m\u001b[0m\u001b[0m\n\u001b[0;32m---> 89\u001b[0;31m         \u001b[0;34m**\u001b[0m\u001b[0mkwargs\u001b[0m\u001b[0;34m,\u001b[0m\u001b[0;34m\u001b[0m\u001b[0;34m\u001b[0m\u001b[0m\n\u001b[0m\u001b[1;32m     90\u001b[0m     )\n\u001b[1;32m     91\u001b[0m \u001b[0;34m\u001b[0m\u001b[0m\n",
      "\u001b[0;32m/nfs/a321/gy17m2a/anaconda_install/anaconda3/envs/ukcp18/lib/python3.7/site-packages/dask/local.py\u001b[0m in \u001b[0;36mget_async\u001b[0;34m(submit, num_workers, dsk, result, cache, get_id, rerun_exceptions_locally, pack_exception, raise_exception, callbacks, dumps, loads, chunksize, **kwargs)\u001b[0m\n\u001b[1;32m    493\u001b[0m             \u001b[0;32mwhile\u001b[0m \u001b[0mstate\u001b[0m\u001b[0;34m[\u001b[0m\u001b[0;34m\"waiting\"\u001b[0m\u001b[0;34m]\u001b[0m \u001b[0;32mor\u001b[0m \u001b[0mstate\u001b[0m\u001b[0;34m[\u001b[0m\u001b[0;34m\"ready\"\u001b[0m\u001b[0;34m]\u001b[0m \u001b[0;32mor\u001b[0m \u001b[0mstate\u001b[0m\u001b[0;34m[\u001b[0m\u001b[0;34m\"running\"\u001b[0m\u001b[0;34m]\u001b[0m\u001b[0;34m:\u001b[0m\u001b[0;34m\u001b[0m\u001b[0;34m\u001b[0m\u001b[0m\n\u001b[1;32m    494\u001b[0m                 \u001b[0mfire_tasks\u001b[0m\u001b[0;34m(\u001b[0m\u001b[0mchunksize\u001b[0m\u001b[0;34m)\u001b[0m\u001b[0;34m\u001b[0m\u001b[0;34m\u001b[0m\u001b[0m\n\u001b[0;32m--> 495\u001b[0;31m                 \u001b[0;32mfor\u001b[0m \u001b[0mkey\u001b[0m\u001b[0;34m,\u001b[0m \u001b[0mres_info\u001b[0m\u001b[0;34m,\u001b[0m \u001b[0mfailed\u001b[0m \u001b[0;32min\u001b[0m \u001b[0mqueue_get\u001b[0m\u001b[0;34m(\u001b[0m\u001b[0mqueue\u001b[0m\u001b[0;34m)\u001b[0m\u001b[0;34m.\u001b[0m\u001b[0mresult\u001b[0m\u001b[0;34m(\u001b[0m\u001b[0;34m)\u001b[0m\u001b[0;34m:\u001b[0m\u001b[0;34m\u001b[0m\u001b[0;34m\u001b[0m\u001b[0m\n\u001b[0m\u001b[1;32m    496\u001b[0m                     \u001b[0;32mif\u001b[0m \u001b[0mfailed\u001b[0m\u001b[0;34m:\u001b[0m\u001b[0;34m\u001b[0m\u001b[0;34m\u001b[0m\u001b[0m\n\u001b[1;32m    497\u001b[0m                         \u001b[0mexc\u001b[0m\u001b[0;34m,\u001b[0m \u001b[0mtb\u001b[0m \u001b[0;34m=\u001b[0m \u001b[0mloads\u001b[0m\u001b[0;34m(\u001b[0m\u001b[0mres_info\u001b[0m\u001b[0;34m)\u001b[0m\u001b[0;34m\u001b[0m\u001b[0;34m\u001b[0m\u001b[0m\n",
      "\u001b[0;32m/nfs/a321/gy17m2a/anaconda_install/anaconda3/envs/ukcp18/lib/python3.7/site-packages/dask/local.py\u001b[0m in \u001b[0;36mqueue_get\u001b[0;34m(q)\u001b[0m\n\u001b[1;32m    131\u001b[0m \u001b[0;34m\u001b[0m\u001b[0m\n\u001b[1;32m    132\u001b[0m     \u001b[0;32mdef\u001b[0m \u001b[0mqueue_get\u001b[0m\u001b[0;34m(\u001b[0m\u001b[0mq\u001b[0m\u001b[0;34m)\u001b[0m\u001b[0;34m:\u001b[0m\u001b[0;34m\u001b[0m\u001b[0;34m\u001b[0m\u001b[0m\n\u001b[0;32m--> 133\u001b[0;31m         \u001b[0;32mreturn\u001b[0m \u001b[0mq\u001b[0m\u001b[0;34m.\u001b[0m\u001b[0mget\u001b[0m\u001b[0;34m(\u001b[0m\u001b[0;34m)\u001b[0m\u001b[0;34m\u001b[0m\u001b[0;34m\u001b[0m\u001b[0m\n\u001b[0m\u001b[1;32m    134\u001b[0m \u001b[0;34m\u001b[0m\u001b[0m\n\u001b[1;32m    135\u001b[0m \u001b[0;34m\u001b[0m\u001b[0m\n",
      "\u001b[0;32m/nfs/a321/gy17m2a/anaconda_install/anaconda3/envs/ukcp18/lib/python3.7/queue.py\u001b[0m in \u001b[0;36mget\u001b[0;34m(self, block, timeout)\u001b[0m\n\u001b[1;32m    168\u001b[0m             \u001b[0;32melif\u001b[0m \u001b[0mtimeout\u001b[0m \u001b[0;32mis\u001b[0m \u001b[0;32mNone\u001b[0m\u001b[0;34m:\u001b[0m\u001b[0;34m\u001b[0m\u001b[0;34m\u001b[0m\u001b[0m\n\u001b[1;32m    169\u001b[0m                 \u001b[0;32mwhile\u001b[0m \u001b[0;32mnot\u001b[0m \u001b[0mself\u001b[0m\u001b[0;34m.\u001b[0m\u001b[0m_qsize\u001b[0m\u001b[0;34m(\u001b[0m\u001b[0;34m)\u001b[0m\u001b[0;34m:\u001b[0m\u001b[0;34m\u001b[0m\u001b[0;34m\u001b[0m\u001b[0m\n\u001b[0;32m--> 170\u001b[0;31m                     \u001b[0mself\u001b[0m\u001b[0;34m.\u001b[0m\u001b[0mnot_empty\u001b[0m\u001b[0;34m.\u001b[0m\u001b[0mwait\u001b[0m\u001b[0;34m(\u001b[0m\u001b[0;34m)\u001b[0m\u001b[0;34m\u001b[0m\u001b[0;34m\u001b[0m\u001b[0m\n\u001b[0m\u001b[1;32m    171\u001b[0m             \u001b[0;32melif\u001b[0m \u001b[0mtimeout\u001b[0m \u001b[0;34m<\u001b[0m \u001b[0;36m0\u001b[0m\u001b[0;34m:\u001b[0m\u001b[0;34m\u001b[0m\u001b[0;34m\u001b[0m\u001b[0m\n\u001b[1;32m    172\u001b[0m                 \u001b[0;32mraise\u001b[0m \u001b[0mValueError\u001b[0m\u001b[0;34m(\u001b[0m\u001b[0;34m\"'timeout' must be a non-negative number\"\u001b[0m\u001b[0;34m)\u001b[0m\u001b[0;34m\u001b[0m\u001b[0;34m\u001b[0m\u001b[0m\n",
      "\u001b[0;32m/nfs/a321/gy17m2a/anaconda_install/anaconda3/envs/ukcp18/lib/python3.7/threading.py\u001b[0m in \u001b[0;36mwait\u001b[0;34m(self, timeout)\u001b[0m\n\u001b[1;32m    294\u001b[0m         \u001b[0;32mtry\u001b[0m\u001b[0;34m:\u001b[0m    \u001b[0;31m# restore state no matter what (e.g., KeyboardInterrupt)\u001b[0m\u001b[0;34m\u001b[0m\u001b[0;34m\u001b[0m\u001b[0m\n\u001b[1;32m    295\u001b[0m             \u001b[0;32mif\u001b[0m \u001b[0mtimeout\u001b[0m \u001b[0;32mis\u001b[0m \u001b[0;32mNone\u001b[0m\u001b[0;34m:\u001b[0m\u001b[0;34m\u001b[0m\u001b[0;34m\u001b[0m\u001b[0m\n\u001b[0;32m--> 296\u001b[0;31m                 \u001b[0mwaiter\u001b[0m\u001b[0;34m.\u001b[0m\u001b[0macquire\u001b[0m\u001b[0;34m(\u001b[0m\u001b[0;34m)\u001b[0m\u001b[0;34m\u001b[0m\u001b[0;34m\u001b[0m\u001b[0m\n\u001b[0m\u001b[1;32m    297\u001b[0m                 \u001b[0mgotit\u001b[0m \u001b[0;34m=\u001b[0m \u001b[0;32mTrue\u001b[0m\u001b[0;34m\u001b[0m\u001b[0;34m\u001b[0m\u001b[0m\n\u001b[1;32m    298\u001b[0m             \u001b[0;32melse\u001b[0m\u001b[0;34m:\u001b[0m\u001b[0;34m\u001b[0m\u001b[0;34m\u001b[0m\u001b[0m\n",
      "\u001b[0;31mKeyboardInterrupt\u001b[0m: "
     ]
    }
   ],
   "source": [
    "\n",
    "\n",
    "# Get year from input of running the script \n",
    "# year = sys.argv[1]\n",
    "# print (year)\n",
    "years = [2012]\n",
    "\n",
    "for year in years:\n",
    "    print(year)\n",
    "    ### Get list of files to convert\n",
    "    radardir = f'/nfs/a319/gy17m2a/PhD/datadir/NIMROD/5mins/OriginalFormat_1km/{year}/'\n",
    "    file_list=glob.glob(radardir +\"*.nc\")\n",
    "    sorted_list = sorted(file_list)\n",
    "    \n",
    "    for i in range(0,len(sorted_list)):\n",
    "        print(i)\n",
    "        ### Load radar data for one day (using IRIS)\n",
    "        day_cube = iris.load_cube(sorted_list[i])\n",
    "\n",
    "        ### Add additional time based variables\n",
    "        # cat.add_year(day_cube, 'time', name='year')\n",
    "        # cat.add_month(day_cube, 'time', name='month')\n",
    "        # cat.add_day_of_month(day_cube, 'time', name='day_of_month')\n",
    "        cat.add_hour(day_cube, 'time', name='hour')\n",
    "        # cat.add_day(day_cube, 'time', name='day')\n",
    "\n",
    "        ### Aggregate to half hourly values (means)\n",
    "        firsthalfof_hour_constraint = iris.Constraint(time=lambda cell: cell.point.minute <30)\n",
    "        secondhalfof_hour_constraint = iris.Constraint(time=lambda cell: cell.point.minute >=30)\n",
    "\n",
    "        # Create empty cube list to populate\n",
    "        my_cube_list = iris.cube.CubeList()\n",
    "\n",
    "        # Get list of the hours\n",
    "        hours = set(day_cube.coord('hour').points)\n",
    "        # Loop through the hours\n",
    "        for hour in hours:\n",
    "\n",
    "            # Establish constraint to select only this hour\n",
    "            hour_constraint = iris.Constraint(time=lambda cell: cell.point.hour == hour)\n",
    "            # Use constraint to select only this hour\n",
    "            hour_cube = day_cube.extract(hour_constraint)\n",
    "            # Check the times\n",
    "            # times = hour_cube.coord('time').points\n",
    "            # times = [datetime.datetime.fromtimestamp(x ) for x in times]\n",
    "\n",
    "            # Get only cubes which fall within the first half of the hour and then the second half of the hour\n",
    "            first_half_of_hour = hour_cube.extract(firsthalfof_hour_constraint)\n",
    "            second_half_of_hour = hour_cube.extract(secondhalfof_hour_constraint)\n",
    "\n",
    "            # If there are at least 4 values\n",
    "            # Find the mean across first/second halves of hour\n",
    "            # Add to cube list\n",
    "            if first_half_of_hour == None:\n",
    "                print(\"no values in 1st half hour\")\n",
    "            elif len(first_half_of_hour.shape) ==2:\n",
    "                print(\"only 1 value in 1st half hour\")        \n",
    "            else:\n",
    "                \n",
    "                if first_half_of_hour.shape[0] >=4:\n",
    "                    ## Correct negative 1064 values to np.nan\n",
    "                    if np.nanmin(first_half_of_hour.data)<0:\n",
    "                        print(f\"iter {i}, hour {hour}, first half hour, min value is: {np.nanmin(first_half_of_hour.data)}\")\n",
    "                        first_half_of_hour.data = np.where(first_half_of_hour.data <0, np.nan, first_half_of_hour.data)\n",
    "                        print(f\"min value is: {np.nanmin(first_half_of_hour.data)}\")\n",
    "                        if np.nanmin(first_half_of_hour.data <0):\n",
    "                            print(first_half_of_hour.data[first_half_of_hour.data<0])\n",
    "                    # FIND MEAN ACROSS WHOLE FIRST HALF HOUR\n",
    "                    first_half_hourly_mean = first_half_of_hour.aggregated_by(['hour'],iris.analysis.MEAN)\n",
    "                    # first_half_hourly_mean.data.astype('float64')\n",
    "                    my_cube_list.append(first_half_hourly_mean)\n",
    "                else:\n",
    "                    print(f\"only {first_half_of_hour.shape[0]} vals in 1st half hour\")\n",
    "\n",
    "            ### SECOND HALF HOUR    \n",
    "            if second_half_of_hour == None:\n",
    "                print(\"no values in 2nd half hour\")\n",
    "            elif len(second_half_of_hour.shape) ==2:\n",
    "                print(\"only 1 value in 2nd half hour\")\n",
    "            else:\n",
    "                if second_half_of_hour.shape[0] >=4:    \n",
    "                    ## Correct negative 1064 values to np.nan\n",
    "                    if np.nanmin(second_half_of_hour.data)<0:            \n",
    "                        print(f\"iter {i}, hour {hour}, second half hour, min value is: {np.nanmin(second_half_of_hour.data)}\")\n",
    "                        second_half_of_hour.data = np.where(second_half_of_hour.data <0, np.nan, second_half_of_hour.data)\n",
    "                        print(f\"min value is: {np.nanmin(second_half_of_hour.data)}\")\n",
    "                        if np.nanmin(second_half_of_hour.data <0):\n",
    "                            print(second_half_of_hour.data[second_half_of_hour.data<0])\n",
    "                    # FIND MEAN ACROSS WHOLE FIRST HALF HOUR\n",
    "                    second_half_hourly_mean = second_half_of_hour.aggregated_by(['hour'],iris.analysis.MEAN)\n",
    "                    # second_half_hourly_mean.data.astype('float64')\n",
    "                    my_cube_list.append(second_half_hourly_mean)\n",
    "                else:\n",
    "                    print(f\"only {second_half_of_hour.shape[0]} vals in 2nd half hour\")\n",
    "\n",
    "\n",
    "        ### Join back into one cube covering the whole day\n",
    "        try:\n",
    "            for halfhour_i in range(0,len(my_cube_list)):\n",
    "                my_cube_list[halfhour_i].data = my_cube_list[halfhour_i].data.astype('float64')\n",
    "\n",
    "            thirty_mins_means = my_cube_list.concatenate_cube()\n",
    "\n",
    "            # Get rid of high values which are fill values\n",
    "            thirty_mins_means.data = np.where(thirty_mins_means.data >1e+36, np.nan, thirty_mins_means.data)\n",
    "\n",
    "            # save \n",
    "            new_fp = sorted_list[i][:-3]+ '_30mins.nc'\n",
    "            new_fp = new_fp.replace('5mins', '30mins')\n",
    "            iris.save(thirty_mins_means, new_fp)\n",
    "            print(f'Saved cube {year} {i}')\n",
    "            print(np.nanmin(thirty_mins_means.data))\n",
    "            print(np.nanmax(thirty_mins_means.data))\n",
    "            print(np.nanmean(thirty_mins_means.data))\n",
    "\n",
    "        except:\n",
    "            pass"
   ]
  },
  {
   "cell_type": "code",
   "execution_count": 50,
   "id": "7cba90c0",
   "metadata": {},
   "outputs": [
    {
     "ename": "NameError",
     "evalue": "name 'thirty_mins_means' is not defined",
     "output_type": "error",
     "traceback": [
      "\u001b[0;31m---------------------------------------------------------------------------\u001b[0m",
      "\u001b[0;31mNameError\u001b[0m                                 Traceback (most recent call last)",
      "\u001b[0;32m/tmp/ipykernel_6514/1795261817.py\u001b[0m in \u001b[0;36m<module>\u001b[0;34m\u001b[0m\n\u001b[0;32m----> 1\u001b[0;31m \u001b[0mthirty_mins_means\u001b[0m\u001b[0;34m\u001b[0m\u001b[0;34m\u001b[0m\u001b[0m\n\u001b[0m",
      "\u001b[0;31mNameError\u001b[0m: name 'thirty_mins_means' is not defined"
     ]
    }
   ],
   "source": [
    "thirty_mins_means"
   ]
  },
  {
   "cell_type": "code",
   "execution_count": 36,
   "id": "9a0a36e1",
   "metadata": {},
   "outputs": [],
   "source": [
    "i = 56\n",
    "### Load radar data for one day (using IRIS)\n",
    "day_cube = iris.load_cube(sorted_list[i])\n",
    "\n",
    "### Add additional time based variables\n",
    "# cat.add_year(day_cube, 'time', name='year')\n",
    "# cat.add_month(day_cube, 'time', name='month')\n",
    "# cat.add_day_of_month(day_cube, 'time', name='day_of_month')\n",
    "cat.add_hour(day_cube, 'time', name='hour')\n",
    "# cat.add_day(day_cube, 'time', name='day')\n",
    "\n",
    "### Aggregate to half hourly values (means)\n",
    "firsthalfof_hour_constraint = iris.Constraint(time=lambda cell: cell.point.minute <30)\n",
    "secondhalfof_hour_constraint = iris.Constraint(time=lambda cell: cell.point.minute >=30)\n",
    "\n",
    "# Create empty cube list to populate\n",
    "my_cube_list = iris.cube.CubeList()\n",
    "\n",
    "# Get list of the hours\n",
    "hours = set(day_cube.coord('hour').points)\n",
    "# Loop through the hours\n",
    "\n",
    "\n",
    "\n",
    "### Join back into one cube covering the whole day\n",
    "try:\n",
    "    for halfhour_i in range(0,len(my_cube_list)):\n",
    "        my_cube_list[halfhour_i].data = my_cube_list[halfhour_i].data.astype('float64')\n",
    "\n",
    "    thirty_mins_means = my_cube_list.concatenate_cube()\n",
    "\n",
    "    # Get rid of high values which are fill values\n",
    "    thirty_mins_means.data = np.where(thirty_mins_means.data >1e+36, np.nan, thirty_mins_means.data)\n",
    "\n",
    "    # save \n",
    "    new_fp = sorted_list[i][:-3]+ '_30mins.nc'\n",
    "    new_fp = new_fp.replace('5mins', '30mins')\n",
    "    iris.save(thirty_mins_means, new_fp)\n",
    "    print(f'Saved cube {year} {i}')\n",
    "    print(np.nanmin(thirty_mins_means.data))\n",
    "    print(np.nanmax(thirty_mins_means.data))\n",
    "    print(np.nanmean(thirty_mins_means.data))\n",
    "\n",
    "except:\n",
    "    pass"
   ]
  },
  {
   "cell_type": "code",
   "execution_count": 51,
   "id": "d450e4ad",
   "metadata": {},
   "outputs": [
    {
     "ename": "NameError",
     "evalue": "name 'thirty_mins_means' is not defined",
     "output_type": "error",
     "traceback": [
      "\u001b[0;31m---------------------------------------------------------------------------\u001b[0m",
      "\u001b[0;31mNameError\u001b[0m                                 Traceback (most recent call last)",
      "\u001b[0;32m/tmp/ipykernel_6514/4059675807.py\u001b[0m in \u001b[0;36m<module>\u001b[0;34m\u001b[0m\n\u001b[0;32m----> 1\u001b[0;31m \u001b[0mnp\u001b[0m\u001b[0;34m.\u001b[0m\u001b[0mnanmax\u001b[0m\u001b[0;34m(\u001b[0m\u001b[0mthirty_mins_means\u001b[0m\u001b[0;34m.\u001b[0m\u001b[0mdata\u001b[0m\u001b[0;34m)\u001b[0m\u001b[0;34m\u001b[0m\u001b[0;34m\u001b[0m\u001b[0m\n\u001b[0m",
      "\u001b[0;31mNameError\u001b[0m: name 'thirty_mins_means' is not defined"
     ]
    }
   ],
   "source": [
    "np.nanmax(thirty_mins_means.data)"
   ]
  },
  {
   "cell_type": "code",
   "execution_count": 44,
   "id": "cfac69ef",
   "metadata": {},
   "outputs": [
    {
     "name": "stdout",
     "output_type": "stream",
     "text": [
      "0\n",
      "1023.96875\n",
      "min value of 30 min means: 0.0\n",
      "max value of 30 min means: 201.9375\n",
      "min value of 30 min means: 0.0\n",
      "max value of 30 min means: 182.67708333333334\n",
      "1\n",
      "1023.96875\n",
      "min value of 30 min means: 0.0\n",
      "max value of 30 min means: 237.34375\n",
      "min value of 30 min means: 0.0\n",
      "max value of 30 min means: 213.28125\n",
      "2\n",
      "1023.96875\n",
      "min value of 30 min means: 0.0\n",
      "max value of 30 min means: 171.90104166666666\n",
      "min value of 30 min means: 0.0\n",
      "max value of 30 min means: 259.5052083333333\n",
      "3\n",
      "1023.96875\n",
      "min value of 30 min means: 0.0\n",
      "max value of 30 min means: 346.5208333333333\n",
      "min value of 30 min means: 0.0\n",
      "max value of 30 min means: 370.8072916666667\n",
      "4\n",
      "1023.96875\n"
     ]
    },
    {
     "ename": "KeyboardInterrupt",
     "evalue": "",
     "output_type": "error",
     "traceback": [
      "\u001b[0;31m---------------------------------------------------------------------------\u001b[0m",
      "\u001b[0;31mKeyboardInterrupt\u001b[0m                         Traceback (most recent call last)",
      "\u001b[0;32m/tmp/ipykernel_6514/952002327.py\u001b[0m in \u001b[0;36m<module>\u001b[0;34m\u001b[0m\n\u001b[1;32m     33\u001b[0m                     \u001b[0mprint\u001b[0m\u001b[0;34m(\u001b[0m\u001b[0mfirst_half_of_hour\u001b[0m\u001b[0;34m.\u001b[0m\u001b[0mdata\u001b[0m\u001b[0;34m[\u001b[0m\u001b[0mfirst_half_of_hour\u001b[0m\u001b[0;34m.\u001b[0m\u001b[0mdata\u001b[0m\u001b[0;34m<\u001b[0m\u001b[0;36m0\u001b[0m\u001b[0;34m]\u001b[0m\u001b[0;34m)\u001b[0m\u001b[0;34m\u001b[0m\u001b[0;34m\u001b[0m\u001b[0m\n\u001b[1;32m     34\u001b[0m             \u001b[0;31m# FIND MEAN ACROSS WHOLE FIRST HALF HOUR\u001b[0m\u001b[0;34m\u001b[0m\u001b[0;34m\u001b[0m\u001b[0;34m\u001b[0m\u001b[0m\n\u001b[0;32m---> 35\u001b[0;31m             \u001b[0mfirst_half_hourly_mean\u001b[0m \u001b[0;34m=\u001b[0m \u001b[0mfirst_half_of_hour\u001b[0m\u001b[0;34m.\u001b[0m\u001b[0maggregated_by\u001b[0m\u001b[0;34m(\u001b[0m\u001b[0;34m[\u001b[0m\u001b[0;34m'hour'\u001b[0m\u001b[0;34m]\u001b[0m\u001b[0;34m,\u001b[0m\u001b[0miris\u001b[0m\u001b[0;34m.\u001b[0m\u001b[0manalysis\u001b[0m\u001b[0;34m.\u001b[0m\u001b[0mMEAN\u001b[0m\u001b[0;34m)\u001b[0m\u001b[0;34m\u001b[0m\u001b[0;34m\u001b[0m\u001b[0m\n\u001b[0m\u001b[1;32m     36\u001b[0m             \u001b[0mprint\u001b[0m\u001b[0;34m(\u001b[0m\u001b[0;34mf\"min value of 30 min means: {np.nanmin(first_half_hourly_mean.data)}\"\u001b[0m\u001b[0;34m)\u001b[0m\u001b[0;34m\u001b[0m\u001b[0;34m\u001b[0m\u001b[0m\n\u001b[1;32m     37\u001b[0m             \u001b[0mprint\u001b[0m\u001b[0;34m(\u001b[0m\u001b[0;34mf\"max value of 30 min means: {np.nanmax(first_half_hourly_mean.data)}\"\u001b[0m\u001b[0;34m)\u001b[0m\u001b[0;34m\u001b[0m\u001b[0;34m\u001b[0m\u001b[0m\n",
      "\u001b[0;32m/nfs/a321/gy17m2a/anaconda_install/anaconda3/envs/ukcp18/lib/python3.7/site-packages/iris/cube.py\u001b[0m in \u001b[0;36maggregated_by\u001b[0;34m(self, coords, aggregator, **kwargs)\u001b[0m\n\u001b[1;32m   3779\u001b[0m         \u001b[0mkey\u001b[0m \u001b[0;34m=\u001b[0m \u001b[0;34m[\u001b[0m\u001b[0mslice\u001b[0m\u001b[0;34m(\u001b[0m\u001b[0;32mNone\u001b[0m\u001b[0;34m,\u001b[0m \u001b[0;32mNone\u001b[0m\u001b[0;34m)\u001b[0m\u001b[0;34m]\u001b[0m \u001b[0;34m*\u001b[0m \u001b[0mself\u001b[0m\u001b[0;34m.\u001b[0m\u001b[0mndim\u001b[0m\u001b[0;34m\u001b[0m\u001b[0;34m\u001b[0m\u001b[0m\n\u001b[1;32m   3780\u001b[0m         \u001b[0;31m# Generate unique index tuple key to maintain monotonicity.\u001b[0m\u001b[0;34m\u001b[0m\u001b[0;34m\u001b[0m\u001b[0;34m\u001b[0m\u001b[0m\n\u001b[0;32m-> 3781\u001b[0;31m         \u001b[0mkey\u001b[0m\u001b[0;34m[\u001b[0m\u001b[0mdimension_to_groupby\u001b[0m\u001b[0;34m]\u001b[0m \u001b[0;34m=\u001b[0m \u001b[0mtuple\u001b[0m\u001b[0;34m(\u001b[0m\u001b[0mrange\u001b[0m\u001b[0;34m(\u001b[0m\u001b[0mlen\u001b[0m\u001b[0;34m(\u001b[0m\u001b[0mgroupby\u001b[0m\u001b[0;34m)\u001b[0m\u001b[0;34m)\u001b[0m\u001b[0;34m)\u001b[0m\u001b[0;34m\u001b[0m\u001b[0;34m\u001b[0m\u001b[0m\n\u001b[0m\u001b[1;32m   3782\u001b[0m         \u001b[0mkey\u001b[0m \u001b[0;34m=\u001b[0m \u001b[0mtuple\u001b[0m\u001b[0;34m(\u001b[0m\u001b[0mkey\u001b[0m\u001b[0;34m)\u001b[0m\u001b[0;34m\u001b[0m\u001b[0;34m\u001b[0m\u001b[0m\n\u001b[1;32m   3783\u001b[0m         \u001b[0maggregateby_cube\u001b[0m \u001b[0;34m=\u001b[0m \u001b[0maggregateby_cube\u001b[0m\u001b[0;34m[\u001b[0m\u001b[0mkey\u001b[0m\u001b[0;34m]\u001b[0m\u001b[0;34m\u001b[0m\u001b[0;34m\u001b[0m\u001b[0m\n",
      "\u001b[0;32m/nfs/a321/gy17m2a/anaconda_install/anaconda3/envs/ukcp18/lib/python3.7/site-packages/iris/analysis/__init__.py\u001b[0m in \u001b[0;36m__len__\u001b[0;34m(self)\u001b[0m\n\u001b[1;32m   2299\u001b[0m             \u001b[0mvalue\u001b[0m \u001b[0;34m=\u001b[0m \u001b[0mlen\u001b[0m\u001b[0;34m(\u001b[0m\u001b[0mself\u001b[0m\u001b[0;34m.\u001b[0m\u001b[0m_slices_by_key\u001b[0m\u001b[0;34m)\u001b[0m\u001b[0;34m\u001b[0m\u001b[0;34m\u001b[0m\u001b[0m\n\u001b[1;32m   2300\u001b[0m         \u001b[0;32melse\u001b[0m\u001b[0;34m:\u001b[0m\u001b[0;34m\u001b[0m\u001b[0;34m\u001b[0m\u001b[0m\n\u001b[0;32m-> 2301\u001b[0;31m             \u001b[0mvalue\u001b[0m \u001b[0;34m=\u001b[0m \u001b[0mlen\u001b[0m\u001b[0;34m(\u001b[0m\u001b[0;34m[\u001b[0m\u001b[0ms\u001b[0m \u001b[0;32mfor\u001b[0m \u001b[0ms\u001b[0m \u001b[0;32min\u001b[0m \u001b[0mself\u001b[0m\u001b[0;34m.\u001b[0m\u001b[0mgroup\u001b[0m\u001b[0;34m(\u001b[0m\u001b[0;34m)\u001b[0m\u001b[0;34m]\u001b[0m\u001b[0;34m)\u001b[0m\u001b[0;34m\u001b[0m\u001b[0;34m\u001b[0m\u001b[0m\n\u001b[0m\u001b[1;32m   2302\u001b[0m \u001b[0;34m\u001b[0m\u001b[0m\n\u001b[1;32m   2303\u001b[0m         \u001b[0;32mreturn\u001b[0m \u001b[0mvalue\u001b[0m\u001b[0;34m\u001b[0m\u001b[0;34m\u001b[0m\u001b[0m\n",
      "\u001b[0;32m/nfs/a321/gy17m2a/anaconda_install/anaconda3/envs/ukcp18/lib/python3.7/site-packages/iris/analysis/__init__.py\u001b[0m in \u001b[0;36m<listcomp>\u001b[0;34m(.0)\u001b[0m\n\u001b[1;32m   2299\u001b[0m             \u001b[0mvalue\u001b[0m \u001b[0;34m=\u001b[0m \u001b[0mlen\u001b[0m\u001b[0;34m(\u001b[0m\u001b[0mself\u001b[0m\u001b[0;34m.\u001b[0m\u001b[0m_slices_by_key\u001b[0m\u001b[0;34m)\u001b[0m\u001b[0;34m\u001b[0m\u001b[0;34m\u001b[0m\u001b[0m\n\u001b[1;32m   2300\u001b[0m         \u001b[0;32melse\u001b[0m\u001b[0;34m:\u001b[0m\u001b[0;34m\u001b[0m\u001b[0;34m\u001b[0m\u001b[0m\n\u001b[0;32m-> 2301\u001b[0;31m             \u001b[0mvalue\u001b[0m \u001b[0;34m=\u001b[0m \u001b[0mlen\u001b[0m\u001b[0;34m(\u001b[0m\u001b[0;34m[\u001b[0m\u001b[0ms\u001b[0m \u001b[0;32mfor\u001b[0m \u001b[0ms\u001b[0m \u001b[0;32min\u001b[0m \u001b[0mself\u001b[0m\u001b[0;34m.\u001b[0m\u001b[0mgroup\u001b[0m\u001b[0;34m(\u001b[0m\u001b[0;34m)\u001b[0m\u001b[0;34m]\u001b[0m\u001b[0;34m)\u001b[0m\u001b[0;34m\u001b[0m\u001b[0;34m\u001b[0m\u001b[0m\n\u001b[0m\u001b[1;32m   2302\u001b[0m \u001b[0;34m\u001b[0m\u001b[0m\n\u001b[1;32m   2303\u001b[0m         \u001b[0;32mreturn\u001b[0m \u001b[0mvalue\u001b[0m\u001b[0;34m\u001b[0m\u001b[0;34m\u001b[0m\u001b[0m\n",
      "\u001b[0;32m/nfs/a321/gy17m2a/anaconda_install/anaconda3/envs/ukcp18/lib/python3.7/site-packages/iris/analysis/__init__.py\u001b[0m in \u001b[0;36mgroup\u001b[0;34m(self)\u001b[0m\n\u001b[1;32m   2119\u001b[0m                 \u001b[0mself\u001b[0m\u001b[0;34m.\u001b[0m\u001b[0m_compute_groupby_coords\u001b[0m\u001b[0;34m(\u001b[0m\u001b[0;34m)\u001b[0m\u001b[0;34m\u001b[0m\u001b[0;34m\u001b[0m\u001b[0m\n\u001b[1;32m   2120\u001b[0m                 \u001b[0;31m# Calculate the new shared coordinates.\u001b[0m\u001b[0;34m\u001b[0m\u001b[0;34m\u001b[0m\u001b[0;34m\u001b[0m\u001b[0m\n\u001b[0;32m-> 2121\u001b[0;31m                 \u001b[0mself\u001b[0m\u001b[0;34m.\u001b[0m\u001b[0m_compute_shared_coords\u001b[0m\u001b[0;34m(\u001b[0m\u001b[0;34m)\u001b[0m\u001b[0;34m\u001b[0m\u001b[0;34m\u001b[0m\u001b[0m\n\u001b[0m\u001b[1;32m   2122\u001b[0m             \u001b[0;31m# Generate the group-by slices/groups.\u001b[0m\u001b[0;34m\u001b[0m\u001b[0;34m\u001b[0m\u001b[0;34m\u001b[0m\u001b[0m\n\u001b[1;32m   2123\u001b[0m             \u001b[0;32mfor\u001b[0m \u001b[0mgroupby_slice\u001b[0m \u001b[0;32min\u001b[0m \u001b[0mself\u001b[0m\u001b[0;34m.\u001b[0m\u001b[0m_slices_by_key\u001b[0m\u001b[0;34m.\u001b[0m\u001b[0mvalues\u001b[0m\u001b[0;34m(\u001b[0m\u001b[0;34m)\u001b[0m\u001b[0;34m:\u001b[0m\u001b[0;34m\u001b[0m\u001b[0;34m\u001b[0m\u001b[0m\n",
      "\u001b[0;32m/nfs/a321/gy17m2a/anaconda_install/anaconda3/envs/ukcp18/lib/python3.7/site-packages/iris/analysis/__init__.py\u001b[0m in \u001b[0;36m_compute_shared_coords\u001b[0;34m(self)\u001b[0m\n\u001b[1;32m   2183\u001b[0m         \u001b[0;31m# Create new shared bounded coordinates.\u001b[0m\u001b[0;34m\u001b[0m\u001b[0;34m\u001b[0m\u001b[0;34m\u001b[0m\u001b[0m\n\u001b[1;32m   2184\u001b[0m         \u001b[0;32mfor\u001b[0m \u001b[0mcoord\u001b[0m\u001b[0;34m,\u001b[0m \u001b[0mdim\u001b[0m \u001b[0;32min\u001b[0m \u001b[0mself\u001b[0m\u001b[0;34m.\u001b[0m\u001b[0m_shared_coords\u001b[0m\u001b[0;34m:\u001b[0m\u001b[0;34m\u001b[0m\u001b[0;34m\u001b[0m\u001b[0m\n\u001b[0;32m-> 2185\u001b[0;31m             \u001b[0;32mif\u001b[0m \u001b[0mcoord\u001b[0m\u001b[0;34m.\u001b[0m\u001b[0mpoints\u001b[0m\u001b[0;34m.\u001b[0m\u001b[0mdtype\u001b[0m\u001b[0;34m.\u001b[0m\u001b[0mkind\u001b[0m \u001b[0;32min\u001b[0m \u001b[0;34m\"SU\"\u001b[0m\u001b[0;34m:\u001b[0m\u001b[0;34m\u001b[0m\u001b[0;34m\u001b[0m\u001b[0m\n\u001b[0m\u001b[1;32m   2186\u001b[0m                 \u001b[0;32mif\u001b[0m \u001b[0mcoord\u001b[0m\u001b[0;34m.\u001b[0m\u001b[0mbounds\u001b[0m \u001b[0;32mis\u001b[0m \u001b[0;32mNone\u001b[0m\u001b[0;34m:\u001b[0m\u001b[0;34m\u001b[0m\u001b[0;34m\u001b[0m\u001b[0m\n\u001b[1;32m   2187\u001b[0m                     \u001b[0mnew_points\u001b[0m \u001b[0;34m=\u001b[0m \u001b[0;34m[\u001b[0m\u001b[0;34m]\u001b[0m\u001b[0;34m\u001b[0m\u001b[0;34m\u001b[0m\u001b[0m\n",
      "\u001b[0;32m/nfs/a321/gy17m2a/anaconda_install/anaconda3/envs/ukcp18/lib/python3.7/site-packages/iris/coords.py\u001b[0m in \u001b[0;36mpoints\u001b[0;34m(self)\u001b[0m\n\u001b[1;32m   1435\u001b[0m     \u001b[0;32mdef\u001b[0m \u001b[0mpoints\u001b[0m\u001b[0;34m(\u001b[0m\u001b[0mself\u001b[0m\u001b[0;34m)\u001b[0m\u001b[0;34m:\u001b[0m\u001b[0;34m\u001b[0m\u001b[0;34m\u001b[0m\u001b[0m\n\u001b[1;32m   1436\u001b[0m         \u001b[0;34m\"\"\"The coordinate points values as a NumPy array.\"\"\"\u001b[0m\u001b[0;34m\u001b[0m\u001b[0;34m\u001b[0m\u001b[0m\n\u001b[0;32m-> 1437\u001b[0;31m         \u001b[0;32mreturn\u001b[0m \u001b[0mself\u001b[0m\u001b[0;34m.\u001b[0m\u001b[0m_values\u001b[0m\u001b[0;34m\u001b[0m\u001b[0;34m\u001b[0m\u001b[0m\n\u001b[0m\u001b[1;32m   1438\u001b[0m \u001b[0;34m\u001b[0m\u001b[0m\n\u001b[1;32m   1439\u001b[0m     \u001b[0;34m@\u001b[0m\u001b[0mpoints\u001b[0m\u001b[0;34m.\u001b[0m\u001b[0msetter\u001b[0m\u001b[0;34m\u001b[0m\u001b[0;34m\u001b[0m\u001b[0m\n",
      "\u001b[0;32m/nfs/a321/gy17m2a/anaconda_install/anaconda3/envs/ukcp18/lib/python3.7/site-packages/iris/coords.py\u001b[0m in \u001b[0;36m_values\u001b[0;34m(self)\u001b[0m\n\u001b[1;32m    224\u001b[0m     \u001b[0;32mdef\u001b[0m \u001b[0m_values\u001b[0m\u001b[0;34m(\u001b[0m\u001b[0mself\u001b[0m\u001b[0;34m)\u001b[0m\u001b[0;34m:\u001b[0m\u001b[0;34m\u001b[0m\u001b[0;34m\u001b[0m\u001b[0m\n\u001b[1;32m    225\u001b[0m         \u001b[0;34m\"\"\"The _DimensionalMetadata values as a NumPy array.\"\"\"\u001b[0m\u001b[0;34m\u001b[0m\u001b[0;34m\u001b[0m\u001b[0m\n\u001b[0;32m--> 226\u001b[0;31m         \u001b[0;32mreturn\u001b[0m \u001b[0mself\u001b[0m\u001b[0;34m.\u001b[0m\u001b[0m_values_dm\u001b[0m\u001b[0;34m.\u001b[0m\u001b[0mdata\u001b[0m\u001b[0;34m.\u001b[0m\u001b[0mview\u001b[0m\u001b[0;34m(\u001b[0m\u001b[0;34m)\u001b[0m\u001b[0;34m\u001b[0m\u001b[0;34m\u001b[0m\u001b[0m\n\u001b[0m\u001b[1;32m    227\u001b[0m \u001b[0;34m\u001b[0m\u001b[0m\n\u001b[1;32m    228\u001b[0m     \u001b[0;34m@\u001b[0m\u001b[0m_values\u001b[0m\u001b[0;34m.\u001b[0m\u001b[0msetter\u001b[0m\u001b[0;34m\u001b[0m\u001b[0;34m\u001b[0m\u001b[0m\n",
      "\u001b[0;32m/nfs/a321/gy17m2a/anaconda_install/anaconda3/envs/ukcp18/lib/python3.7/site-packages/iris/_data_manager.py\u001b[0m in \u001b[0;36mdata\u001b[0;34m(self)\u001b[0m\n\u001b[1;32m    204\u001b[0m             \u001b[0;32mtry\u001b[0m\u001b[0;34m:\u001b[0m\u001b[0;34m\u001b[0m\u001b[0;34m\u001b[0m\u001b[0m\n\u001b[1;32m    205\u001b[0m                 \u001b[0;31m# Realise the lazy data.\u001b[0m\u001b[0;34m\u001b[0m\u001b[0;34m\u001b[0m\u001b[0;34m\u001b[0m\u001b[0m\n\u001b[0;32m--> 206\u001b[0;31m                 \u001b[0mresult\u001b[0m \u001b[0;34m=\u001b[0m \u001b[0mas_concrete_data\u001b[0m\u001b[0;34m(\u001b[0m\u001b[0mself\u001b[0m\u001b[0;34m.\u001b[0m\u001b[0m_lazy_array\u001b[0m\u001b[0;34m)\u001b[0m\u001b[0;34m\u001b[0m\u001b[0;34m\u001b[0m\u001b[0m\n\u001b[0m\u001b[1;32m    207\u001b[0m                 \u001b[0;31m# Assign the realised result.\u001b[0m\u001b[0;34m\u001b[0m\u001b[0;34m\u001b[0m\u001b[0;34m\u001b[0m\u001b[0m\n\u001b[1;32m    208\u001b[0m                 \u001b[0mself\u001b[0m\u001b[0;34m.\u001b[0m\u001b[0m_real_array\u001b[0m \u001b[0;34m=\u001b[0m \u001b[0mresult\u001b[0m\u001b[0;34m\u001b[0m\u001b[0;34m\u001b[0m\u001b[0m\n",
      "\u001b[0;32m/nfs/a321/gy17m2a/anaconda_install/anaconda3/envs/ukcp18/lib/python3.7/site-packages/iris/_lazy_data.py\u001b[0m in \u001b[0;36mas_concrete_data\u001b[0;34m(data)\u001b[0m\n\u001b[1;32m    250\u001b[0m     \"\"\"\n\u001b[1;32m    251\u001b[0m     \u001b[0;32mif\u001b[0m \u001b[0mis_lazy_data\u001b[0m\u001b[0;34m(\u001b[0m\u001b[0mdata\u001b[0m\u001b[0;34m)\u001b[0m\u001b[0;34m:\u001b[0m\u001b[0;34m\u001b[0m\u001b[0;34m\u001b[0m\u001b[0m\n\u001b[0;32m--> 252\u001b[0;31m         \u001b[0;34m(\u001b[0m\u001b[0mdata\u001b[0m\u001b[0;34m,\u001b[0m\u001b[0;34m)\u001b[0m \u001b[0;34m=\u001b[0m \u001b[0m_co_realise_lazy_arrays\u001b[0m\u001b[0;34m(\u001b[0m\u001b[0;34m[\u001b[0m\u001b[0mdata\u001b[0m\u001b[0;34m]\u001b[0m\u001b[0;34m)\u001b[0m\u001b[0;34m\u001b[0m\u001b[0;34m\u001b[0m\u001b[0m\n\u001b[0m\u001b[1;32m    253\u001b[0m \u001b[0;34m\u001b[0m\u001b[0m\n\u001b[1;32m    254\u001b[0m     \u001b[0;32mreturn\u001b[0m \u001b[0mdata\u001b[0m\u001b[0;34m\u001b[0m\u001b[0;34m\u001b[0m\u001b[0m\n",
      "\u001b[0;32m/nfs/a321/gy17m2a/anaconda_install/anaconda3/envs/ukcp18/lib/python3.7/site-packages/iris/_lazy_data.py\u001b[0m in \u001b[0;36m_co_realise_lazy_arrays\u001b[0;34m(arrays)\u001b[0m\n\u001b[1;32m    213\u001b[0m \u001b[0;34m\u001b[0m\u001b[0m\n\u001b[1;32m    214\u001b[0m     \"\"\"\n\u001b[0;32m--> 215\u001b[0;31m     \u001b[0mcomputed_arrays\u001b[0m \u001b[0;34m=\u001b[0m \u001b[0mda\u001b[0m\u001b[0;34m.\u001b[0m\u001b[0mcompute\u001b[0m\u001b[0;34m(\u001b[0m\u001b[0;34m*\u001b[0m\u001b[0marrays\u001b[0m\u001b[0;34m)\u001b[0m\u001b[0;34m\u001b[0m\u001b[0;34m\u001b[0m\u001b[0m\n\u001b[0m\u001b[1;32m    216\u001b[0m     \u001b[0mresults\u001b[0m \u001b[0;34m=\u001b[0m \u001b[0;34m[\u001b[0m\u001b[0;34m]\u001b[0m\u001b[0;34m\u001b[0m\u001b[0;34m\u001b[0m\u001b[0m\n\u001b[1;32m    217\u001b[0m     \u001b[0;32mfor\u001b[0m \u001b[0mlazy_in\u001b[0m\u001b[0;34m,\u001b[0m \u001b[0mreal_out\u001b[0m \u001b[0;32min\u001b[0m \u001b[0mzip\u001b[0m\u001b[0;34m(\u001b[0m\u001b[0marrays\u001b[0m\u001b[0;34m,\u001b[0m \u001b[0mcomputed_arrays\u001b[0m\u001b[0;34m)\u001b[0m\u001b[0;34m:\u001b[0m\u001b[0;34m\u001b[0m\u001b[0;34m\u001b[0m\u001b[0m\n",
      "\u001b[0;32m/nfs/a321/gy17m2a/anaconda_install/anaconda3/envs/ukcp18/lib/python3.7/site-packages/dask/base.py\u001b[0m in \u001b[0;36mcompute\u001b[0;34m(traverse, optimize_graph, scheduler, get, *args, **kwargs)\u001b[0m\n\u001b[1;32m    571\u001b[0m         \u001b[0mpostcomputes\u001b[0m\u001b[0;34m.\u001b[0m\u001b[0mappend\u001b[0m\u001b[0;34m(\u001b[0m\u001b[0mx\u001b[0m\u001b[0;34m.\u001b[0m\u001b[0m__dask_postcompute__\u001b[0m\u001b[0;34m(\u001b[0m\u001b[0;34m)\u001b[0m\u001b[0;34m)\u001b[0m\u001b[0;34m\u001b[0m\u001b[0;34m\u001b[0m\u001b[0m\n\u001b[1;32m    572\u001b[0m \u001b[0;34m\u001b[0m\u001b[0m\n\u001b[0;32m--> 573\u001b[0;31m     \u001b[0mresults\u001b[0m \u001b[0;34m=\u001b[0m \u001b[0mschedule\u001b[0m\u001b[0;34m(\u001b[0m\u001b[0mdsk\u001b[0m\u001b[0;34m,\u001b[0m \u001b[0mkeys\u001b[0m\u001b[0;34m,\u001b[0m \u001b[0;34m**\u001b[0m\u001b[0mkwargs\u001b[0m\u001b[0;34m)\u001b[0m\u001b[0;34m\u001b[0m\u001b[0;34m\u001b[0m\u001b[0m\n\u001b[0m\u001b[1;32m    574\u001b[0m     \u001b[0;32mreturn\u001b[0m \u001b[0mrepack\u001b[0m\u001b[0;34m(\u001b[0m\u001b[0;34m[\u001b[0m\u001b[0mf\u001b[0m\u001b[0;34m(\u001b[0m\u001b[0mr\u001b[0m\u001b[0;34m,\u001b[0m \u001b[0;34m*\u001b[0m\u001b[0ma\u001b[0m\u001b[0;34m)\u001b[0m \u001b[0;32mfor\u001b[0m \u001b[0mr\u001b[0m\u001b[0;34m,\u001b[0m \u001b[0;34m(\u001b[0m\u001b[0mf\u001b[0m\u001b[0;34m,\u001b[0m \u001b[0ma\u001b[0m\u001b[0;34m)\u001b[0m \u001b[0;32min\u001b[0m \u001b[0mzip\u001b[0m\u001b[0;34m(\u001b[0m\u001b[0mresults\u001b[0m\u001b[0;34m,\u001b[0m \u001b[0mpostcomputes\u001b[0m\u001b[0;34m)\u001b[0m\u001b[0;34m]\u001b[0m\u001b[0;34m)\u001b[0m\u001b[0;34m\u001b[0m\u001b[0;34m\u001b[0m\u001b[0m\n\u001b[1;32m    575\u001b[0m \u001b[0;34m\u001b[0m\u001b[0m\n",
      "\u001b[0;32m/nfs/a321/gy17m2a/anaconda_install/anaconda3/envs/ukcp18/lib/python3.7/site-packages/dask/threaded.py\u001b[0m in \u001b[0;36mget\u001b[0;34m(dsk, result, cache, num_workers, pool, **kwargs)\u001b[0m\n\u001b[1;32m     87\u001b[0m         \u001b[0mget_id\u001b[0m\u001b[0;34m=\u001b[0m\u001b[0m_thread_get_id\u001b[0m\u001b[0;34m,\u001b[0m\u001b[0;34m\u001b[0m\u001b[0;34m\u001b[0m\u001b[0m\n\u001b[1;32m     88\u001b[0m         \u001b[0mpack_exception\u001b[0m\u001b[0;34m=\u001b[0m\u001b[0mpack_exception\u001b[0m\u001b[0;34m,\u001b[0m\u001b[0;34m\u001b[0m\u001b[0;34m\u001b[0m\u001b[0m\n\u001b[0;32m---> 89\u001b[0;31m         \u001b[0;34m**\u001b[0m\u001b[0mkwargs\u001b[0m\u001b[0;34m,\u001b[0m\u001b[0;34m\u001b[0m\u001b[0;34m\u001b[0m\u001b[0m\n\u001b[0m\u001b[1;32m     90\u001b[0m     )\n\u001b[1;32m     91\u001b[0m \u001b[0;34m\u001b[0m\u001b[0m\n",
      "\u001b[0;32m/nfs/a321/gy17m2a/anaconda_install/anaconda3/envs/ukcp18/lib/python3.7/site-packages/dask/local.py\u001b[0m in \u001b[0;36mget_async\u001b[0;34m(submit, num_workers, dsk, result, cache, get_id, rerun_exceptions_locally, pack_exception, raise_exception, callbacks, dumps, loads, chunksize, **kwargs)\u001b[0m\n\u001b[1;32m    493\u001b[0m             \u001b[0;32mwhile\u001b[0m \u001b[0mstate\u001b[0m\u001b[0;34m[\u001b[0m\u001b[0;34m\"waiting\"\u001b[0m\u001b[0;34m]\u001b[0m \u001b[0;32mor\u001b[0m \u001b[0mstate\u001b[0m\u001b[0;34m[\u001b[0m\u001b[0;34m\"ready\"\u001b[0m\u001b[0;34m]\u001b[0m \u001b[0;32mor\u001b[0m \u001b[0mstate\u001b[0m\u001b[0;34m[\u001b[0m\u001b[0;34m\"running\"\u001b[0m\u001b[0;34m]\u001b[0m\u001b[0;34m:\u001b[0m\u001b[0;34m\u001b[0m\u001b[0;34m\u001b[0m\u001b[0m\n\u001b[1;32m    494\u001b[0m                 \u001b[0mfire_tasks\u001b[0m\u001b[0;34m(\u001b[0m\u001b[0mchunksize\u001b[0m\u001b[0;34m)\u001b[0m\u001b[0;34m\u001b[0m\u001b[0;34m\u001b[0m\u001b[0m\n\u001b[0;32m--> 495\u001b[0;31m                 \u001b[0;32mfor\u001b[0m \u001b[0mkey\u001b[0m\u001b[0;34m,\u001b[0m \u001b[0mres_info\u001b[0m\u001b[0;34m,\u001b[0m \u001b[0mfailed\u001b[0m \u001b[0;32min\u001b[0m \u001b[0mqueue_get\u001b[0m\u001b[0;34m(\u001b[0m\u001b[0mqueue\u001b[0m\u001b[0;34m)\u001b[0m\u001b[0;34m.\u001b[0m\u001b[0mresult\u001b[0m\u001b[0;34m(\u001b[0m\u001b[0;34m)\u001b[0m\u001b[0;34m:\u001b[0m\u001b[0;34m\u001b[0m\u001b[0;34m\u001b[0m\u001b[0m\n\u001b[0m\u001b[1;32m    496\u001b[0m                     \u001b[0;32mif\u001b[0m \u001b[0mfailed\u001b[0m\u001b[0;34m:\u001b[0m\u001b[0;34m\u001b[0m\u001b[0;34m\u001b[0m\u001b[0m\n\u001b[1;32m    497\u001b[0m                         \u001b[0mexc\u001b[0m\u001b[0;34m,\u001b[0m \u001b[0mtb\u001b[0m \u001b[0;34m=\u001b[0m \u001b[0mloads\u001b[0m\u001b[0;34m(\u001b[0m\u001b[0mres_info\u001b[0m\u001b[0;34m)\u001b[0m\u001b[0;34m\u001b[0m\u001b[0;34m\u001b[0m\u001b[0m\n",
      "\u001b[0;32m/nfs/a321/gy17m2a/anaconda_install/anaconda3/envs/ukcp18/lib/python3.7/site-packages/dask/local.py\u001b[0m in \u001b[0;36mqueue_get\u001b[0;34m(q)\u001b[0m\n\u001b[1;32m    131\u001b[0m \u001b[0;34m\u001b[0m\u001b[0m\n\u001b[1;32m    132\u001b[0m     \u001b[0;32mdef\u001b[0m \u001b[0mqueue_get\u001b[0m\u001b[0;34m(\u001b[0m\u001b[0mq\u001b[0m\u001b[0;34m)\u001b[0m\u001b[0;34m:\u001b[0m\u001b[0;34m\u001b[0m\u001b[0;34m\u001b[0m\u001b[0m\n\u001b[0;32m--> 133\u001b[0;31m         \u001b[0;32mreturn\u001b[0m \u001b[0mq\u001b[0m\u001b[0;34m.\u001b[0m\u001b[0mget\u001b[0m\u001b[0;34m(\u001b[0m\u001b[0;34m)\u001b[0m\u001b[0;34m\u001b[0m\u001b[0;34m\u001b[0m\u001b[0m\n\u001b[0m\u001b[1;32m    134\u001b[0m \u001b[0;34m\u001b[0m\u001b[0m\n\u001b[1;32m    135\u001b[0m \u001b[0;34m\u001b[0m\u001b[0m\n",
      "\u001b[0;32m/nfs/a321/gy17m2a/anaconda_install/anaconda3/envs/ukcp18/lib/python3.7/queue.py\u001b[0m in \u001b[0;36mget\u001b[0;34m(self, block, timeout)\u001b[0m\n\u001b[1;32m    168\u001b[0m             \u001b[0;32melif\u001b[0m \u001b[0mtimeout\u001b[0m \u001b[0;32mis\u001b[0m \u001b[0;32mNone\u001b[0m\u001b[0;34m:\u001b[0m\u001b[0;34m\u001b[0m\u001b[0;34m\u001b[0m\u001b[0m\n\u001b[1;32m    169\u001b[0m                 \u001b[0;32mwhile\u001b[0m \u001b[0;32mnot\u001b[0m \u001b[0mself\u001b[0m\u001b[0;34m.\u001b[0m\u001b[0m_qsize\u001b[0m\u001b[0;34m(\u001b[0m\u001b[0;34m)\u001b[0m\u001b[0;34m:\u001b[0m\u001b[0;34m\u001b[0m\u001b[0;34m\u001b[0m\u001b[0m\n\u001b[0;32m--> 170\u001b[0;31m                     \u001b[0mself\u001b[0m\u001b[0;34m.\u001b[0m\u001b[0mnot_empty\u001b[0m\u001b[0;34m.\u001b[0m\u001b[0mwait\u001b[0m\u001b[0;34m(\u001b[0m\u001b[0;34m)\u001b[0m\u001b[0;34m\u001b[0m\u001b[0;34m\u001b[0m\u001b[0m\n\u001b[0m\u001b[1;32m    171\u001b[0m             \u001b[0;32melif\u001b[0m \u001b[0mtimeout\u001b[0m \u001b[0;34m<\u001b[0m \u001b[0;36m0\u001b[0m\u001b[0;34m:\u001b[0m\u001b[0;34m\u001b[0m\u001b[0;34m\u001b[0m\u001b[0m\n\u001b[1;32m    172\u001b[0m                 \u001b[0;32mraise\u001b[0m \u001b[0mValueError\u001b[0m\u001b[0;34m(\u001b[0m\u001b[0;34m\"'timeout' must be a non-negative number\"\u001b[0m\u001b[0;34m)\u001b[0m\u001b[0;34m\u001b[0m\u001b[0;34m\u001b[0m\u001b[0m\n",
      "\u001b[0;32m/nfs/a321/gy17m2a/anaconda_install/anaconda3/envs/ukcp18/lib/python3.7/threading.py\u001b[0m in \u001b[0;36mwait\u001b[0;34m(self, timeout)\u001b[0m\n\u001b[1;32m    294\u001b[0m         \u001b[0;32mtry\u001b[0m\u001b[0;34m:\u001b[0m    \u001b[0;31m# restore state no matter what (e.g., KeyboardInterrupt)\u001b[0m\u001b[0;34m\u001b[0m\u001b[0;34m\u001b[0m\u001b[0m\n\u001b[1;32m    295\u001b[0m             \u001b[0;32mif\u001b[0m \u001b[0mtimeout\u001b[0m \u001b[0;32mis\u001b[0m \u001b[0;32mNone\u001b[0m\u001b[0;34m:\u001b[0m\u001b[0;34m\u001b[0m\u001b[0;34m\u001b[0m\u001b[0m\n\u001b[0;32m--> 296\u001b[0;31m                 \u001b[0mwaiter\u001b[0m\u001b[0;34m.\u001b[0m\u001b[0macquire\u001b[0m\u001b[0;34m(\u001b[0m\u001b[0;34m)\u001b[0m\u001b[0;34m\u001b[0m\u001b[0;34m\u001b[0m\u001b[0m\n\u001b[0m\u001b[1;32m    297\u001b[0m                 \u001b[0mgotit\u001b[0m \u001b[0;34m=\u001b[0m \u001b[0;32mTrue\u001b[0m\u001b[0;34m\u001b[0m\u001b[0;34m\u001b[0m\u001b[0m\n\u001b[1;32m    298\u001b[0m             \u001b[0;32melse\u001b[0m\u001b[0;34m:\u001b[0m\u001b[0;34m\u001b[0m\u001b[0;34m\u001b[0m\u001b[0m\n",
      "\u001b[0;31mKeyboardInterrupt\u001b[0m: "
     ]
    }
   ],
   "source": [
    "for hour in hours:\n",
    "    print(hour)\n",
    "\n",
    "    # Establish constraint to select only this hour\n",
    "    hour_constraint = iris.Constraint(time=lambda cell: cell.point.hour == hour)\n",
    "    # Use constraint to select only this hour\n",
    "    hour_cube = day_cube.extract(hour_constraint)\n",
    "    print(np.nanmax(hour_cube.data))\n",
    "    # Check the times\n",
    "    # times = hour_cube.coord('time').points\n",
    "    # times = [datetime.datetime.fromtimestamp(x ) for x in times]\n",
    "\n",
    "    # Get only cubes which fall within the first half of the hour and then the second half of the hour\n",
    "    first_half_of_hour = hour_cube.extract(firsthalfof_hour_constraint)\n",
    "    second_half_of_hour = hour_cube.extract(secondhalfof_hour_constraint)\n",
    "\n",
    "    # If there are at least 4 values\n",
    "    # Find the mean across first/second halves of hour\n",
    "    # Add to cube list\n",
    "    if first_half_of_hour == None:\n",
    "        print(\"no values in 1st half hour\")\n",
    "    elif len(first_half_of_hour.shape) ==2:\n",
    "        print(\"only 1 value in 1st half hour\")        \n",
    "    else:\n",
    "\n",
    "        if first_half_of_hour.shape[0] >=4:\n",
    "            ## Correct negative 1064 values to np.nan\n",
    "            if np.nanmin(first_half_of_hour.data)<0:\n",
    "                print(f\"iter {i}, hour {hour}, first half hour, min value is: {np.nanmin(first_half_of_hour.data)}\")\n",
    "                first_half_of_hour.data = np.where(first_half_of_hour.data <0, np.nan, first_half_of_hour.data)\n",
    "                #print(f\"min value is: {np.nanmin(first_half_of_hour.data)}\")\n",
    "                if np.nanmin(first_half_of_hour.data <0):\n",
    "                    print(first_half_of_hour.data[first_half_of_hour.data<0])\n",
    "            # FIND MEAN ACROSS WHOLE FIRST HALF HOUR\n",
    "            first_half_hourly_mean = first_half_of_hour.aggregated_by(['hour'],iris.analysis.MEAN)\n",
    "            print(f\"min value of 30 min means: {np.nanmin(first_half_hourly_mean.data)}\")\n",
    "            print(f\"max value of 30 min means: {np.nanmax(first_half_hourly_mean.data)}\")\n",
    "            # first_half_hourly_mean.data.astype('float64')\n",
    "            my_cube_list.append(first_half_hourly_mean)\n",
    "        else:\n",
    "            print(f\"only {first_half_of_hour.shape[0]} vals in 1st half hour\")\n",
    "\n",
    "    ### SECOND HALF HOUR    \n",
    "    if second_half_of_hour == None:\n",
    "        print(\"no values in 2nd half hour\")\n",
    "    elif len(second_half_of_hour.shape) ==2:\n",
    "        print(\"only 1 value in 2nd half hour\")\n",
    "    else:\n",
    "        if second_half_of_hour.shape[0] >=4:    \n",
    "            ## Correct negative 1064 values to np.nan\n",
    "            if np.nanmin(second_half_of_hour.data)<0:            \n",
    "                print(f\"iter {i}, hour {hour}, second half hour, min value is: {np.nanmin(second_half_of_hour.data)}\")\n",
    "                second_half_of_hour.data = np.where(second_half_of_hour.data <0, np.nan, second_half_of_hour.data)\n",
    "                #print(f\"min value is: {np.nanmin(second_half_of_hour.data)}\")\n",
    "                if np.nanmin(second_half_of_hour.data <0):\n",
    "                    print(second_half_of_hour.data[second_half_of_hour.data<0])\n",
    "            # FIND MEAN ACROSS WHOLE FIRST HALF HOUR\n",
    "            second_half_hourly_mean = second_half_of_hour.aggregated_by(['hour'],iris.analysis.MEAN)\n",
    "            print(f\"min value of 30 min means: {np.nanmin(second_half_hourly_mean.data)}\")\n",
    "            print(f\"max value of 30 min means: {np.nanmax(second_half_hourly_mean.data)}\")\n",
    "            # second_half_hourly_mean.data.astype('float64')\n",
    "            my_cube_list.append(second_half_hourly_mean)\n",
    "        else:\n",
    "            print(f\"only {second_half_of_hour.shape[0]} vals in 2nd half hour\")"
   ]
  },
  {
   "cell_type": "code",
   "execution_count": 45,
   "id": "44bd8f9d",
   "metadata": {},
   "outputs": [
    {
     "name": "stdout",
     "output_type": "stream",
     "text": [
      "0\n",
      "1023.96875\n",
      "correcting max val\n",
      "min value of 30 min means: 0.0\n",
      "max value of 30 min means: 163.6197967529297\n",
      "min value of 30 min means: 0.0\n",
      "max value of 30 min means: 182.67708333333334\n",
      "1\n",
      "1023.96875\n",
      "correcting max val\n",
      "min value of 30 min means: 0.0\n",
      "max value of 30 min means: 200.1510467529297\n",
      "correcting max val\n",
      "min value of 30 min means: 0.0\n",
      "max value of 30 min means: 162.515625\n",
      "2\n",
      "1023.96875\n",
      "correcting max val\n",
      "min value of 30 min means: 0.0\n",
      "max value of 30 min means: 161.703125\n",
      "correcting max val\n",
      "min value of 30 min means: 0.0\n",
      "max value of 30 min means: 201.1197967529297\n",
      "3\n",
      "1023.96875\n",
      "correcting max val\n",
      "min value of 30 min means: 0.0\n",
      "max value of 30 min means: 224.3541717529297\n",
      "correcting max val\n",
      "min value of 30 min means: 0.0\n",
      "max value of 30 min means: 242.5\n",
      "4\n",
      "1023.96875\n",
      "min value of 30 min means: 0.0\n",
      "max value of 30 min means: 174.43229166666666\n",
      "correcting max val\n",
      "min value of 30 min means: 0.0\n",
      "max value of 30 min means: 138.734375\n",
      "5\n",
      "518.40625\n",
      "min value of 30 min means: 0.0\n",
      "max value of 30 min means: 86.44270833333333\n",
      "min value of 30 min means: 0.0\n",
      "max value of 30 min means: 92.625\n",
      "6\n",
      "1023.96875\n",
      "correcting max val\n",
      "min value of 30 min means: 0.0\n",
      "max value of 30 min means: 106.10416412353516\n",
      "min value of 30 min means: 0.0\n",
      "max value of 30 min means: 68.859375\n",
      "7\n",
      "423.34375\n",
      "min value of 30 min means: 0.0\n",
      "max value of 30 min means: 102.796875\n",
      "min value of 30 min means: 0.0\n",
      "max value of 30 min means: 37.380208333333336\n",
      "8\n",
      "597.0625\n",
      "min value of 30 min means: 0.0\n",
      "max value of 30 min means: 120.11458333333333\n",
      "min value of 30 min means: 0.0\n",
      "max value of 30 min means: 111.80729166666667\n",
      "9\n",
      "191.5\n",
      "min value of 30 min means: 0.0\n",
      "max value of 30 min means: 104.16145833333333\n",
      "min value of 30 min means: 0.0\n",
      "max value of 30 min means: 38.828125\n",
      "10\n",
      "603.03125\n",
      "min value of 30 min means: 0.0\n",
      "max value of 30 min means: 100.54166666666667\n",
      "min value of 30 min means: 0.0\n",
      "max value of 30 min means: 54.359375\n",
      "11\n",
      "430.25\n",
      "min value of 30 min means: 0.0\n",
      "max value of 30 min means: 71.72916666666667\n",
      "min value of 30 min means: 0.0\n",
      "max value of 30 min means: 54.786458333333336\n",
      "12\n",
      "211.0625\n",
      "min value of 30 min means: 0.0\n",
      "max value of 30 min means: 51.151041666666664\n",
      "min value of 30 min means: 0.0\n",
      "max value of 30 min means: 75.09375\n",
      "13\n",
      "844.78125\n",
      "min value of 30 min means: 0.0\n",
      "max value of 30 min means: 414.2708333333333\n",
      "min value of 30 min means: 0.0\n",
      "max value of 30 min means: 365.4947916666667\n",
      "14\n",
      "874.65625\n",
      "min value of 30 min means: 0.0\n",
      "max value of 30 min means: 288.2916666666667\n",
      "min value of 30 min means: 0.0\n",
      "max value of 30 min means: 334.90625\n",
      "15\n",
      "1023.96875\n",
      "correcting max val\n",
      "min value of 30 min means: 0.0\n",
      "max value of 30 min means: 367.203125\n",
      "correcting max val\n",
      "min value of 30 min means: 0.0\n",
      "max value of 30 min means: 322.0052185058594\n",
      "16\n",
      "922.90625\n",
      "min value of 30 min means: 0.0\n",
      "max value of 30 min means: 283.7552083333333\n",
      "min value of 30 min means: 0.0\n",
      "max value of 30 min means: 127.015625\n",
      "17\n",
      "477.25\n",
      "min value of 30 min means: 0.0\n",
      "max value of 30 min means: 87.35416666666667\n",
      "min value of 30 min means: 0.0\n",
      "max value of 30 min means: 232.85416666666666\n",
      "18\n",
      "1023.96875\n",
      "correcting max val\n",
      "min value of 30 min means: 0.0\n",
      "max value of 30 min means: 195.109375\n",
      "correcting max val\n",
      "min value of 30 min means: 0.0\n",
      "max value of 30 min means: 166.1302032470703\n",
      "19\n",
      "816.1875\n",
      "min value of 30 min means: 0.0\n",
      "max value of 30 min means: 136.03125\n",
      "min value of 30 min means: 0.0\n",
      "max value of 30 min means: 149.64583333333334\n",
      "20\n",
      "257.34375\n",
      "min value of 30 min means: 0.0\n",
      "max value of 30 min means: 67.76041666666667\n",
      "min value of 30 min means: 0.0\n",
      "max value of 30 min means: 74.45833333333333\n",
      "21\n",
      "1023.96875\n",
      "correcting max val\n",
      "min value of 30 min means: 0.0\n",
      "max value of 30 min means: 109.921875\n",
      "min value of 30 min means: 0.0\n",
      "max value of 30 min means: 93.63020833333333\n",
      "22\n",
      "202.78125\n",
      "min value of 30 min means: 0.0\n",
      "max value of 30 min means: 39.6875\n",
      "min value of 30 min means: 0.0\n",
      "max value of 30 min means: 31.223958333333332\n",
      "23\n",
      "428.8125\n",
      "min value of 30 min means: 0.0\n",
      "max value of 30 min means: 71.48958333333333\n",
      "min value of 30 min means: 0.0\n",
      "max value of 30 min means: 59.885416666666664\n"
     ]
    }
   ],
   "source": [
    "for hour in hours:\n",
    "    print(hour)\n",
    "\n",
    "    # Establish constraint to select only this hour\n",
    "    hour_constraint = iris.Constraint(time=lambda cell: cell.point.hour == hour)\n",
    "    # Use constraint to select only this hour\n",
    "    hour_cube = day_cube.extract(hour_constraint)\n",
    "    print(np.nanmax(hour_cube.data))\n",
    "    # Check the times\n",
    "    # times = hour_cube.coord('time').points\n",
    "    # times = [datetime.datetime.fromtimestamp(x ) for x in times]\n",
    "\n",
    "    # Get only cubes which fall within the first half of the hour and then the second half of the hour\n",
    "    first_half_of_hour = hour_cube.extract(firsthalfof_hour_constraint)\n",
    "    second_half_of_hour = hour_cube.extract(secondhalfof_hour_constraint)\n",
    "\n",
    "    # If there are at least 4 values\n",
    "    # Find the mean across first/second halves of hour\n",
    "    # Add to cube list\n",
    "    if first_half_of_hour == None:\n",
    "        print(\"no values in 1st half hour\")\n",
    "    elif len(first_half_of_hour.shape) ==2:\n",
    "        print(\"only 1 value in 1st half hour\")        \n",
    "    else:\n",
    "\n",
    "        if first_half_of_hour.shape[0] >=4:\n",
    "            ## Correct negative 1064 values to np.nan\n",
    "            if np.nanmin(first_half_of_hour.data)<0:\n",
    "                print(f\"iter {i}, hour {hour}, first half hour, min value is: {np.nanmin(first_half_of_hour.data)}\")\n",
    "                first_half_of_hour.data = np.where(first_half_of_hour.data <0, np.nan, first_half_of_hour.data)\n",
    "                if np.nanmin(first_half_of_hour.data <0):\n",
    "                    print(first_half_of_hour.data[first_half_of_hour.data<0])\n",
    "            if np.nanmax(first_half_of_hour.data)>1000:\n",
    "                print(\"correcting max val\")\n",
    "                first_half_of_hour.data = np.where(first_half_of_hour.data >1000, np.nan, first_half_of_hour.data)\n",
    "                #print(f\"min value is: {np.nanmin(first_half_of_hour.data)}\")\n",
    "            # FIND MEAN ACROSS WHOLE FIRST HALF HOUR\n",
    "            first_half_hourly_mean = first_half_of_hour.aggregated_by(['hour'],iris.analysis.MEAN)\n",
    "            print(f\"min value of 30 min means: {np.nanmin(first_half_hourly_mean.data)}\")\n",
    "            print(f\"max value of 30 min means: {np.nanmax(first_half_hourly_mean.data)}\")\n",
    "            # first_half_hourly_mean.data.astype('float64')\n",
    "            my_cube_list.append(first_half_hourly_mean)\n",
    "        else:\n",
    "            print(f\"only {first_half_of_hour.shape[0]} vals in 1st half hour\")\n",
    "\n",
    "    ### SECOND HALF HOUR    \n",
    "    if second_half_of_hour == None:\n",
    "        print(\"no values in 2nd half hour\")\n",
    "    elif len(second_half_of_hour.shape) ==2:\n",
    "        print(\"only 1 value in 2nd half hour\")\n",
    "    else:\n",
    "        if second_half_of_hour.shape[0] >=4:    \n",
    "            ## Correct negative 1064 values to np.nan\n",
    "            if np.nanmin(second_half_of_hour.data)<0:            \n",
    "                print(f\"iter {i}, hour {hour}, second half hour, min value is: {np.nanmin(second_half_of_hour.data)}\")\n",
    "                second_half_of_hour.data = np.where(second_half_of_hour.data <0, np.nan, second_half_of_hour.data)\n",
    "                #print(f\"min value is: {np.nanmin(second_half_of_hour.data)}\")\n",
    "                if np.nanmin(second_half_of_hour.data <0):\n",
    "                    print(second_half_of_hour.data[second_half_of_hour.data<0])\n",
    "            if np.nanmax(second_half_of_hour.data)>1000:\n",
    "                print(\"correcting max val\")\n",
    "                second_half_of_hour.data = np.where(second_half_of_hour.data >1000, np.nan, second_half_of_hour.data)\n",
    "            # FIND MEAN ACROSS WHOLE FIRST HALF HOUR\n",
    "            second_half_hourly_mean = second_half_of_hour.aggregated_by(['hour'],iris.analysis.MEAN)\n",
    "            print(f\"min value of 30 min means: {np.nanmin(second_half_hourly_mean.data)}\")\n",
    "            print(f\"max value of 30 min means: {np.nanmax(second_half_hourly_mean.data)}\")\n",
    "            # second_half_hourly_mean.data.astype('float64')\n",
    "            my_cube_list.append(second_half_hourly_mean)\n",
    "        else:\n",
    "            print(f\"only {second_half_of_hour.shape[0]} vals in 2nd half hour\")"
   ]
  },
  {
   "cell_type": "code",
   "execution_count": 56,
   "id": "0adf7237",
   "metadata": {},
   "outputs": [
    {
     "name": "stdout",
     "output_type": "stream",
     "text": [
      "1023.96875\n",
      "171.90104166666666\n"
     ]
    }
   ],
   "source": [
    "hour = 2\n",
    "\n",
    "# Establish constraint to select only this hour\n",
    "hour_constraint = iris.Constraint(time=lambda cell: cell.point.hour == hour)\n",
    "# Use constraint to select only this hour\n",
    "hour_cube = day_cube.extract(hour_constraint)\n",
    "print(np.nanmax(hour_cube.data))\n",
    "# Check the times\n",
    "# times = hour_cube.coord('time').points\n",
    "# times = [datetime.datetime.fromtimestamp(x ) for x in times]\n",
    "\n",
    "# Get only cubes which fall within the first half of the hour and then the second half of the hour\n",
    "first_half_of_hour = hour_cube.extract(firsthalfof_hour_constraint)\n",
    "second_half_of_hour = hour_cube.extract(secondhalfof_hour_constraint)\n",
    "\n",
    "# If there are at least 4 values\n",
    "# Find the mean across first/second halves of hour\n",
    "# Add to cube list\n",
    "if first_half_of_hour == None:\n",
    "    print(\"no values in 1st half hour\")\n",
    "elif len(first_half_of_hour.shape) ==2:\n",
    "    print(\"only 1 value in 1st half hour\")        \n",
    "else:\n",
    "\n",
    "    if first_half_of_hour.shape[0] >=4:\n",
    "        ## Correct negative 1064 values to np.nan\n",
    "        if np.nanmin(first_half_of_hour.data)<0:\n",
    "            print(f\"iter {i}, hour {hour}, first half hour, min value is: {np.nanmin(first_half_of_hour.data)}\")\n",
    "            first_half_of_hour.data = np.where(first_half_of_hour.data <0, np.nan, first_half_of_hour.data)\n",
    "            print(f\"min value is: {np.nanmin(first_half_of_hour.data)}\")\n",
    "            if np.nanmin(first_half_of_hour.data <0):\n",
    "                print(first_half_of_hour.data[first_half_of_hour.data<0])\n",
    "        # FIND MEAN ACROSS WHOLE FIRST HALF HOUR\n",
    "        first_half_hourly_mean = first_half_of_hour.aggregated_by(['hour'],iris.analysis.MEAN)\n",
    "        print(np.nanmax(first_half_hourly_mean.data))\n",
    "        # first_half_hourly_mean.data.astype('float64')\n",
    "        my_cube_list.append(first_half_hourly_mean)\n",
    "    else:\n",
    "        print(f\"only {first_half_of_hour.shape[0]} vals in 1st half hour\")\n"
   ]
  },
  {
   "cell_type": "code",
   "execution_count": 57,
   "id": "b9ac0ffd",
   "metadata": {},
   "outputs": [
    {
     "name": "stdout",
     "output_type": "stream",
     "text": [
      "Indices where the value 1023 occurs:\n",
      "(661, 900)\n",
      "(661, 901)\n",
      "(662, 901)\n"
     ]
    }
   ],
   "source": [
    "# Find the indices where the value is 1023\n",
    "indices = np.where(hour_cube[3].data == 1023.96875)\n",
    "\n",
    "# The variable indices will contain a tuple of arrays corresponding to the indices\n",
    "# along each dimension where the value 1023 occurs.\n",
    "\n",
    "# If you want to print these indices:\n",
    "print(\"Indices where the value 1023 occurs:\")\n",
    "for idx in zip(*indices):\n",
    "    print(idx)"
   ]
  },
  {
   "cell_type": "code",
   "execution_count": 56,
   "id": "7818c7f7",
   "metadata": {},
   "outputs": [
    {
     "name": "stdout",
     "output_type": "stream",
     "text": [
      "Indices where the value 1023 occurs:\n",
      "(955, 336)\n",
      "(956, 335)\n",
      "(956, 336)\n",
      "(957, 335)\n",
      "(957, 340)\n"
     ]
    }
   ],
   "source": [
    "# Find the indices where the value is 1023\n",
    "indices = np.where(first_half_of_hour[0].data == 1023.96875)\n",
    "\n",
    "# The variable indices will contain a tuple of arrays corresponding to the indices\n",
    "# along each dimension where the value 1023 occurs.\n",
    "\n",
    "# If you want to print these indices:\n",
    "print(\"Indices where the value 1023 occurs:\")\n",
    "for idx in zip(*indices):\n",
    "    print(idx)"
   ]
  },
  {
   "cell_type": "code",
   "execution_count": 58,
   "id": "8c5031b0",
   "metadata": {},
   "outputs": [
    {
     "data": {
      "image/png": "[encoded data removed]",
      "text/plain": [
       "<Figure size 432x288 with 1 Axes>"
      ]
     },
     "metadata": {
      "needs_background": "light"
     },
     "output_type": "display_data"
    }
   ],
   "source": [
    "### Check plotting\n",
    "iplt.contourf(first_half_hourly_mean_uk[0])\n",
    "plt.gca().coastlines(resolution='10m', color='black', linewidth=0.5);"
   ]
  },
  {
   "cell_type": "code",
   "execution_count": 30,
   "id": "a19f7485",
   "metadata": {},
   "outputs": [
    {
     "name": "stderr",
     "output_type": "stream",
     "text": [
      "/nfs/a321/gy17m2a/anaconda_install/anaconda3/envs/ukcp18/lib/python3.7/site-packages/pyproj/crs/crs.py:68: FutureWarning: '+init=<authority>:<code>' syntax is deprecated. '<authority>:<code>' is the preferred initialization method. When making the change, be mindful of axis order changes: https://pyproj4.github.io/pyproj/stable/gotchas.html#axis-order-changes-in-proj-6\n",
      "  return _prepare_from_string(\" \".join(pjargs))\n",
      "/nfs/a321/gy17m2a/anaconda_install/anaconda3/envs/ukcp18/lib/python3.7/site-packages/pyproj/crs/crs.py:68: FutureWarning: '+init=<authority>:<code>' syntax is deprecated. '<authority>:<code>' is the preferred initialization method. When making the change, be mindful of axis order changes: https://pyproj4.github.io/pyproj/stable/gotchas.html#axis-order-changes-in-proj-6\n",
      "  return _prepare_from_string(\" \".join(pjargs))\n",
      "/nfs/a321/gy17m2a/anaconda_install/anaconda3/envs/ukcp18/lib/python3.7/site-packages/pyproj/crs/crs.py:68: FutureWarning: '+init=<authority>:<code>' syntax is deprecated. '<authority>:<code>' is the preferred initialization method. When making the change, be mindful of axis order changes: https://pyproj4.github.io/pyproj/stable/gotchas.html#axis-order-changes-in-proj-6\n",
      "  return _prepare_from_string(\" \".join(pjargs))\n"
     ]
    }
   ],
   "source": [
    "# Create path to files containing functions\n",
    "sys.path.insert(0, '/nfs/a319/gy17m2a/PhD/Scripts/GlobalFunctions')\n",
    "from Spatial_plotting_functions import *\n",
    "from Spatial_geometry_functions import *\n",
    "uk_gdf = create_uk_outline({'init' :'epsg:3857'})"
   ]
  },
  {
   "cell_type": "code",
   "execution_count": 36,
   "id": "8f79958e",
   "metadata": {},
   "outputs": [
    {
     "name": "stderr",
     "output_type": "stream",
     "text": [
      "/nfs/a321/gy17m2a/anaconda_install/anaconda3/envs/ukcp18/lib/python3.7/site-packages/pyproj/crs/crs.py:68: FutureWarning: '+init=<authority>:<code>' syntax is deprecated. '<authority>:<code>' is the preferred initialization method. When making the change, be mindful of axis order changes: https://pyproj4.github.io/pyproj/stable/gotchas.html#axis-order-changes-in-proj-6\n",
      "  return _prepare_from_string(\" \".join(pjargs))\n",
      "/nfs/a321/gy17m2a/anaconda_install/anaconda3/envs/ukcp18/lib/python3.7/site-packages/pyproj/crs/crs.py:306: FutureWarning: '+init=<authority>:<code>' syntax is deprecated. '<authority>:<code>' is the preferred initialization method. When making the change, be mindful of axis order changes: https://pyproj4.github.io/pyproj/stable/gotchas.html#axis-order-changes-in-proj-6\n",
      "  projstring = _prepare_from_string(\" \".join((projstring, projkwargs)))\n",
      "/nfs/a321/gy17m2a/anaconda_install/anaconda3/envs/ukcp18/lib/python3.7/site-packages/pyproj/crs/crs.py:68: FutureWarning: '+init=<authority>:<code>' syntax is deprecated. '<authority>:<code>' is the preferred initialization method. When making the change, be mindful of axis order changes: https://pyproj4.github.io/pyproj/stable/gotchas.html#axis-order-changes-in-proj-6\n",
      "  return _prepare_from_string(\" \".join(pjargs))\n",
      "/nfs/a321/gy17m2a/anaconda_install/anaconda3/envs/ukcp18/lib/python3.7/site-packages/pyproj/crs/crs.py:306: FutureWarning: '+init=<authority>:<code>' syntax is deprecated. '<authority>:<code>' is the preferred initialization method. When making the change, be mindful of axis order changes: https://pyproj4.github.io/pyproj/stable/gotchas.html#axis-order-changes-in-proj-6\n",
      "  projstring = _prepare_from_string(\" \".join((projstring, projkwargs)))\n",
      "/nfs/a321/gy17m2a/anaconda_install/anaconda3/envs/ukcp18/lib/python3.7/site-packages/pyproj/crs/crs.py:68: FutureWarning: '+init=<authority>:<code>' syntax is deprecated. '<authority>:<code>' is the preferred initialization method. When making the change, be mindful of axis order changes: https://pyproj4.github.io/pyproj/stable/gotchas.html#axis-order-changes-in-proj-6\n",
      "  return _prepare_from_string(\" \".join(pjargs))\n"
     ]
    }
   ],
   "source": [
    "first_half_hourly_mean\n",
    "first_half_hourly_mean_uk = trim_to_bbox_of_region_obs(first_half_hourly_mean, uk_gdf)"
   ]
  },
  {
   "cell_type": "code",
   "execution_count": 38,
   "id": "654a8444",
   "metadata": {},
   "outputs": [
    {
     "data": {
      "text/plain": [
       "1023.96875"
      ]
     },
     "execution_count": 38,
     "metadata": {},
     "output_type": "execute_result"
    }
   ],
   "source": [
    "np.nanmax(first_half_hourly_mean_uk.data)"
   ]
  },
  {
   "cell_type": "code",
   "execution_count": 62,
   "id": "bd30b9a5",
   "metadata": {},
   "outputs": [
    {
     "name": "stdout",
     "output_type": "stream",
     "text": [
      "Saved cube 2011 56\n",
      "0.0\n",
      "171.90104166666666\n",
      "0.006052826997959348\n"
     ]
    }
   ],
   "source": [
    "try:\n",
    "    for halfhour_i in range(0,len(my_cube_list)):\n",
    "        my_cube_list[halfhour_i].data = my_cube_list[halfhour_i].data.astype('float64')\n",
    "\n",
    "    thirty_mins_means = my_cube_list.concatenate_cube()\n",
    "\n",
    "    # Get rid of high values which are fill values\n",
    "    thirty_mins_means.data = np.where(thirty_mins_means.data >1e+36, np.nan, thirty_mins_means.data)\n",
    "\n",
    "    # save \n",
    "    new_fp = sorted_list[i][:-3]+ '_30mins.nc'\n",
    "    new_fp = new_fp.replace('5mins', '30mins')\n",
    "    iris.save(thirty_mins_means, new_fp)\n",
    "    print(f'Saved cube {year} {i}')\n",
    "    print(np.nanmin(thirty_mins_means.data))\n",
    "    print(np.nanmax(thirty_mins_means.data))\n",
    "    print(np.nanmean(thirty_mins_means.data))\n",
    "\n",
    "except:\n",
    "    pass"
   ]
  }
 ],
 "metadata": {
  "kernelspec": {
   "display_name": "Python 3 (ipykernel)",
   "language": "python",
   "name": "python3"
  },
  "language_info": {
   "codemirror_mode": {
    "name": "ipython",
    "version": 3
   },
   "file_extension": ".py",
   "mimetype": "text/x-python",
   "name": "python",
   "nbconvert_exporter": "python",
   "pygments_lexer": "ipython3",
   "version": "3.7.13"
  }
 },
 "nbformat": 4,
 "nbformat_minor": 5
}
