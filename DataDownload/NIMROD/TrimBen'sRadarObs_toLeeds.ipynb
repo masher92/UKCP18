{
 "cells": [
  {
   "cell_type": "code",
   "execution_count": 9,
   "id": "24c82285",
   "metadata": {},
   "outputs": [],
   "source": [
    "import iris\n",
    "import glob\n",
    "import datetime\n",
    "from iris.time import PartialDateTime\n",
    "import sys\n",
    "#import xarray as xr\n",
    "import os\n",
    "import warnings\n",
    "warnings.simplefilter(action = 'ignore', category = FutureWarning)\n",
    "\n",
    "# year = sys.argv[1]\n",
    "year = 2014\n",
    "\n",
    "# Create path to files containing functions\n",
    "sys.path.insert(0, '/nfs/a319/gy17m2a/PhD/Scripts/GlobalFunctions')\n",
    "from Spatial_plotting_functions import *\n",
    "from Spatial_geometry_functions import *\n",
    "\n",
    "# This is a square area surrounding Leeds\n",
    "leeds_at_centre_gdf = create_leeds_at_centre_outline('epsg:3857')"
   ]
  },
  {
   "cell_type": "code",
   "execution_count": 11,
   "id": "7c928a4b",
   "metadata": {},
   "outputs": [],
   "source": [
    "year =2020"
   ]
  },
  {
   "cell_type": "markdown",
   "id": "40f4e509",
   "metadata": {},
   "source": [
    "### Get a list of all files from this year"
   ]
  },
  {
   "cell_type": "code",
   "execution_count": 12,
   "id": "9dd6d4b8",
   "metadata": {},
   "outputs": [
    {
     "data": {
      "text/plain": [
       "[]"
      ]
     },
     "execution_count": 12,
     "metadata": {},
     "output_type": "execute_result"
    }
   ],
   "source": [
    "radardir = f\"/nfs/a319/gy17m2a/PhD/datadir/NIMROD/5mins/OriginalFormat_1km/{year}/\"\n",
    "file_list=glob.glob(radardir +\"*.nc\")\n",
    "file_list"
   ]
  },
  {
   "cell_type": "markdown",
   "id": "b4b912ba",
   "metadata": {},
   "source": [
    "### Load in each file, trim it to the boundary of Leeds, and save back to file"
   ]
  },
  {
   "cell_type": "code",
   "execution_count": 8,
   "id": "1efc9f08",
   "metadata": {},
   "outputs": [],
   "source": [
    "for file in file_list:\n",
    "    print(file)\n",
    "    # Load the cube\n",
    "    this_file = iris.load(file)[0]\n",
    "    # print(this_file)\n",
    "    # Trim to Leeds region\n",
    "    model_cube = trim_to_bbox_of_region_obs(this_file, leeds_at_centre_gdf)\n",
    "    print(model_cube.shape)\n",
    "    # remove tricksy coordinate\n",
    "    # model_cube.remove_coord(\"forecast_period\")\n",
    "    model_cube.remove_coord(\"forecast_reference_time\")\n",
    "    # Save back to the same directory\n",
    "    iris.save(model_cube, file[:-3] + '_trimmed.nc')\n",
    "    os.remove(file)\n"
   ]
  }
 ],
 "metadata": {
  "kernelspec": {
   "display_name": "Python 3 (ipykernel)",
   "language": "python",
   "name": "python3"
  },
  "language_info": {
   "codemirror_mode": {
    "name": "ipython",
    "version": 3
   },
   "file_extension": ".py",
   "mimetype": "text/x-python",
   "name": "python",
   "nbconvert_exporter": "python",
   "pygments_lexer": "ipython3",
   "version": "3.9.7"
  }
 },
 "nbformat": 4,
 "nbformat_minor": 5
}
