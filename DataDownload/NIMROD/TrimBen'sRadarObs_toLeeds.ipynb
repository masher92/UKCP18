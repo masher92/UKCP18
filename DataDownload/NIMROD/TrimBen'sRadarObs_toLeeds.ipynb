{
 "cells": [
  {
   "cell_type": "code",
   "execution_count": 42,
   "id": "24c82285",
   "metadata": {},
   "outputs": [],
   "source": [
    "import iris\n",
    "import glob\n",
    "import datetime\n",
    "from iris.time import PartialDateTime\n",
    "import sys\n",
    "#import xarray as xr\n",
    "import os\n",
    "import warnings\n",
    "warnings.simplefilter(action = 'ignore', category = FutureWarning)\n",
    "\n",
    "# year = sys.argv[1]\n",
    "year = 2014\n",
    "\n",
    "# Create path to files containing functions\n",
    "sys.path.insert(0, '/nfs/a319/gy17m2a/PhD/Scripts/GlobalFunctions')\n",
    "from Spatial_plotting_functions import *\n",
    "from Spatial_geometry_functions import *\n",
    "\n",
    "# This is a square area surrounding Leeds\n",
    "leeds_at_centre_gdf = create_leeds_at_centre_outline('epsg:3857')"
   ]
  },
  {
   "cell_type": "code",
   "execution_count": 43,
   "id": "7c928a4b",
   "metadata": {},
   "outputs": [],
   "source": [
    "year =2015"
   ]
  },
  {
   "cell_type": "markdown",
   "id": "40f4e509",
   "metadata": {},
   "source": [
    "### Get a list of all files from this year"
   ]
  },
  {
   "cell_type": "code",
   "execution_count": 44,
   "id": "9dd6d4b8",
   "metadata": {},
   "outputs": [],
   "source": [
    "radardir = f\"/nfs/a319/gy17m2a/PhD/datadir/NIMROD/5mins/OriginalFormat_1km/{year}/\"\n",
    "file_list=glob.glob(radardir +\"*.nc\")"
   ]
  },
  {
   "cell_type": "markdown",
   "id": "b4b912ba",
   "metadata": {},
   "source": [
    "### Load in each file, trim it to the boundary of Leeds, and save back to file"
   ]
  },
  {
   "cell_type": "code",
   "execution_count": null,
   "id": "1efc9f08",
   "metadata": {},
   "outputs": [
    {
     "name": "stdout",
     "output_type": "stream",
     "text": [
      "/nfs/a319/gy17m2a/PhD/datadir/NIMROD/5mins/OriginalFormat_1km/2015/metoffice-c-band-rain-radar_uk_20150613.nc\n",
      "(288, 72, 82)\n",
      "/nfs/a319/gy17m2a/PhD/datadir/NIMROD/5mins/OriginalFormat_1km/2015/metoffice-c-band-rain-radar_uk_20150717.nc\n",
      "(288, 72, 82)\n",
      "/nfs/a319/gy17m2a/PhD/datadir/NIMROD/5mins/OriginalFormat_1km/2015/metoffice-c-band-rain-radar_uk_20150830.nc\n",
      "(288, 72, 82)\n",
      "/nfs/a319/gy17m2a/PhD/datadir/NIMROD/5mins/OriginalFormat_1km/2015/20150613_nimrod_ng_radar_rainrate_composite_1km_merged.nc\n",
      "(288, 72, 82)\n",
      "/nfs/a319/gy17m2a/PhD/datadir/NIMROD/5mins/OriginalFormat_1km/2015/metoffice-c-band-rain-radar_uk_20150617.nc\n",
      "(288, 72, 82)\n",
      "/nfs/a319/gy17m2a/PhD/datadir/NIMROD/5mins/OriginalFormat_1km/2015/20150714_nimrod_ng_radar_rainrate_composite_1km_merged.nc\n",
      "(288, 72, 82)\n",
      "/nfs/a319/gy17m2a/PhD/datadir/NIMROD/5mins/OriginalFormat_1km/2015/20150602_nimrod_ng_radar_rainrate_composite_1km_merged.nc\n",
      "(288, 72, 82)\n",
      "/nfs/a319/gy17m2a/PhD/datadir/NIMROD/5mins/OriginalFormat_1km/2015/20150706_nimrod_ng_radar_rainrate_composite_1km_merged.nc\n",
      "(288, 72, 82)\n",
      "/nfs/a319/gy17m2a/PhD/datadir/NIMROD/5mins/OriginalFormat_1km/2015/metoffice-c-band-rain-radar_uk_20150610.nc\n",
      "(288, 72, 82)\n",
      "/nfs/a319/gy17m2a/PhD/datadir/NIMROD/5mins/OriginalFormat_1km/2015/20150603_nimrod_ng_radar_rainrate_composite_1km_merged.nc\n",
      "(288, 72, 82)\n",
      "/nfs/a319/gy17m2a/PhD/datadir/NIMROD/5mins/OriginalFormat_1km/2015/metoffice-c-band-rain-radar_uk_20150614.nc\n",
      "(288, 72, 82)\n",
      "/nfs/a319/gy17m2a/PhD/datadir/NIMROD/5mins/OriginalFormat_1km/2015/20150621_nimrod_ng_radar_rainrate_composite_1km_merged.nc\n",
      "(288, 72, 82)\n",
      "/nfs/a319/gy17m2a/PhD/datadir/NIMROD/5mins/OriginalFormat_1km/2015/metoffice-c-band-rain-radar_uk_20150618.nc\n",
      "(288, 72, 82)\n",
      "/nfs/a319/gy17m2a/PhD/datadir/NIMROD/5mins/OriginalFormat_1km/2015/metoffice-c-band-rain-radar_uk_20150803.nc\n",
      "(288, 72, 82)\n",
      "/nfs/a319/gy17m2a/PhD/datadir/NIMROD/5mins/OriginalFormat_1km/2015/20150628_nimrod_ng_radar_rainrate_composite_1km_merged.nc\n",
      "(288, 72, 82)\n",
      "/nfs/a319/gy17m2a/PhD/datadir/NIMROD/5mins/OriginalFormat_1km/2015/metoffice-c-band-rain-radar_uk_20150629.nc\n",
      "(288, 72, 82)\n",
      "/nfs/a319/gy17m2a/PhD/datadir/NIMROD/5mins/OriginalFormat_1km/2015/metoffice-c-band-rain-radar_uk_20150819.nc\n",
      "(288, 72, 82)\n",
      "/nfs/a319/gy17m2a/PhD/datadir/NIMROD/5mins/OriginalFormat_1km/2015/20150604_nimrod_ng_radar_rainrate_composite_1km_merged.nc\n",
      "(288, 72, 82)\n",
      "/nfs/a319/gy17m2a/PhD/datadir/NIMROD/5mins/OriginalFormat_1km/2015/metoffice-c-band-rain-radar_uk_20150725.nc\n",
      "(288, 72, 82)\n",
      "/nfs/a319/gy17m2a/PhD/datadir/NIMROD/5mins/OriginalFormat_1km/2015/20150615_nimrod_ng_radar_rainrate_composite_1km_merged.nc\n",
      "(288, 72, 82)\n",
      "/nfs/a319/gy17m2a/PhD/datadir/NIMROD/5mins/OriginalFormat_1km/2015/20150609_nimrod_ng_radar_rainrate_composite_1km_merged.nc\n",
      "(288, 72, 82)\n",
      "/nfs/a319/gy17m2a/PhD/datadir/NIMROD/5mins/OriginalFormat_1km/2015/metoffice-c-band-rain-radar_uk_20150805.nc\n",
      "(288, 72, 82)\n",
      "/nfs/a319/gy17m2a/PhD/datadir/NIMROD/5mins/OriginalFormat_1km/2015/metoffice-c-band-rain-radar_uk_20150621.nc\n"
     ]
    }
   ],
   "source": [
    "for file in file_list:\n",
    "    print(file)\n",
    "    # Load the cube\n",
    "    this_file = iris.load(file)[0]\n",
    "    # print(this_file)\n",
    "    # Trim to Leeds region\n",
    "    model_cube = trim_to_bbox_of_region_obs(this_file, leeds_at_centre_gdf)\n",
    "    print(model_cube.shape)\n",
    "    # remove tricksy coordinate\n",
    "    # model_cube.remove_coord(\"forecast_period\")\n",
    "    model_cube.remove_coord(\"forecast_reference_time\")\n",
    "    # Save back to the same directory\n",
    "    iris.save(model_cube, file[:-3] + '_trimmed.nc')\n",
    "    os.remove(file)\n"
   ]
  }
 ],
 "metadata": {
  "kernelspec": {
   "display_name": "Python 3 (ipykernel)",
   "language": "python",
   "name": "python3"
  },
  "language_info": {
   "codemirror_mode": {
    "name": "ipython",
    "version": 3
   },
   "file_extension": ".py",
   "mimetype": "text/x-python",
   "name": "python",
   "nbconvert_exporter": "python",
   "pygments_lexer": "ipython3",
   "version": "3.9.7"
  }
 },
 "nbformat": 4,
 "nbformat_minor": 5
}
