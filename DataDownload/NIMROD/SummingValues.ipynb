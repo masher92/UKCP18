{
 "cells": [
  {
   "cell_type": "code",
   "execution_count": 2,
   "id": "24937775",
   "metadata": {},
   "outputs": [],
   "source": [
    "def find_all_max_locations_in_timeslices(cube):\n",
    "    \"\"\"\n",
    "    Finds the maximum value in each timeslice and returns all its locations.\n",
    "    \n",
    "    Args:\n",
    "        cube (iris.cube.Cube): The Iris cube to analyze.\n",
    "\n",
    "    Returns:\n",
    "        list: Each element is a tuple containing the timeslice index, maximum value, \n",
    "              and a list of coordinates where the maximum occurs.\n",
    "    \"\"\"\n",
    "    results = []\n",
    "    time_dimension = 0  # Adjust if your time dimension is not the first dimension\n",
    "    \n",
    "    # Iterate over each timeslice\n",
    "    for i, timeslice in enumerate(cube.slices_over(time_dimension)):\n",
    "        max_value = np.max(timeslice.data)\n",
    "        # Find all positions where the timeslice data equals the maximum value\n",
    "        positions = np.argwhere(timeslice.data == max_value)\n",
    "        \n",
    "        # Get the corresponding latitude and longitude for each position\n",
    "        max_locations = []\n",
    "        for pos in positions:\n",
    "            latitude = timeslice.coord('projection_y_coordinate').points[pos[0]]\n",
    "            longitude = timeslice.coord('projection_x_coordinate').points[pos[1]]\n",
    "            max_locations.append((latitude, longitude))\n",
    "        \n",
    "        # Store the results\n",
    "        results.append((i, max_value, max_locations))\n",
    "    \n",
    "    return results\n"
   ]
  },
  {
   "cell_type": "code",
   "execution_count": 3,
   "id": "d823472f",
   "metadata": {},
   "outputs": [],
   "source": [
    "import iris\n",
    "import glob\n",
    "import iris.plot as iplt\n",
    "import iris.quickplot as qplt\n",
    "import datetime as datetime\n",
    "import iris.coord_categorisation as cat\n",
    "import sys\n",
    "import numpy as np\n",
    "import pandas as pd\n",
    "from scipy import stats\n",
    "import matplotlib.pyplot as plt\n",
    "import cartopy.crs as ccrs\n",
    "\n",
    "import dask.array as da\n",
    "import time"
   ]
  },
  {
   "cell_type": "code",
   "execution_count": 4,
   "id": "cb4fd69d",
   "metadata": {},
   "outputs": [],
   "source": [
    "from warnings import simplefilter\n",
    "# ignore all future warnings\n",
    "simplefilter(action='ignore', category=FutureWarning)\n",
    "simplefilter(action='ignore', category=UserWarning)\n",
    "\n",
    "# Create path to files containing functions\n",
    "root_fp = \"/nfs/a319/gy17m2a/PhD/\"\n",
    "sys.path.insert(0, root_fp + 'Scripts/GlobalFunctions')\n",
    "from Spatial_plotting_functions import *\n",
    "from Spatial_geometry_functions import *\n",
    "gb_gdf = create_gb_outline({'init' :'epsg:3857'})"
   ]
  },
  {
   "cell_type": "markdown",
   "id": "bdfa52db",
   "metadata": {},
   "source": [
    "### Read in all data for one month and join into one cube"
   ]
  },
  {
   "cell_type": "code",
   "execution_count": 5,
   "id": "94ef635e",
   "metadata": {},
   "outputs": [],
   "source": [
    "# Define the directory and create a sorted list of file paths\n",
    "year = 2012\n",
    "radardir = f'/nfs/a161/gy17m2a/PhD/datadir/NIMROD/5mins/OriginalFormat_1km/{year}/'\n",
    "file_list = glob.glob(radardir + \"*.nc\")\n",
    "sorted_list = sorted(file_list)\n",
    "\n",
    "# Load the cubes\n",
    "cubes = iris.load(sorted_list[:30])\n",
    "\n",
    "# Concatenate into a single cube\n",
    "monthly_cube = cubes.concatenate_cube()"
   ]
  },
  {
   "cell_type": "code",
   "execution_count": 20,
   "id": "f4d3faf4",
   "metadata": {},
   "outputs": [],
   "source": [
    "test = monthly_cube[:1000,:,:]"
   ]
  },
  {
   "cell_type": "code",
   "execution_count": 31,
   "id": "597276c3",
   "metadata": {},
   "outputs": [
    {
     "name": "stdout",
     "output_type": "stream",
     "text": [
      "53.02\n"
     ]
    }
   ],
   "source": [
    "start = time.time()\n",
    "# Step 1: Extract data\n",
    "projection_y_coord = test.coord('projection_y_coordinate')\n",
    "projection_x_coord = test.coord('projection_x_coordinate')\n",
    "data_values = test.data\n",
    "\n",
    "# Step 2: Thresholding\n",
    "threshold_count = np.count_nonzero(data_values > 10, axis=0)  # Sum along the time dimension\n",
    "\n",
    "# Step 3: Create new cube\n",
    "new_cube = iris.cube.Cube(threshold_count,\n",
    "                          dim_coords_and_dims=[(projection_y_coord, 0),\n",
    "                                               (projection_x_coord, 1)],\n",
    "                          units='count')\n",
    "end= time.time()\n",
    "print(round(end-start,2))"
   ]
  },
  {
   "cell_type": "code",
   "execution_count": 32,
   "id": "b9bd12b8",
   "metadata": {},
   "outputs": [
    {
     "data": {
      "text/plain": [
       "286"
      ]
     },
     "execution_count": 32,
     "metadata": {},
     "output_type": "execute_result"
    }
   ],
   "source": [
    "np.nanmax(new_cube.data)"
   ]
  },
  {
   "cell_type": "code",
   "execution_count": null,
   "id": "0be4955a",
   "metadata": {},
   "outputs": [],
   "source": [
    "start = time.time()\n",
    "\n",
    "# Step 1: Extract data\n",
    "projection_y_coord = monthly_cube.coord('projection_y_coordinate')\n",
    "projection_x_coord = monthly_cube.coord('projection_x_coordinate')\n",
    "data_values = monthly_cube.data\n",
    "\n",
    "# Step 2: Thresholding (with Dask for parallel processing)\n",
    "data_values_dask = da.from_array(data_values, chunks='auto')\n",
    "threshold_count = da.count_nonzero(data_values_dask > 10, axis=0)\n",
    "\n",
    "# Step 3: Create new cube\n",
    "new_cube = iris.cube.Cube(threshold_count.compute(),\n",
    "                          dim_coords_and_dims=[(projection_y_coord, 0),\n",
    "                                               (projection_x_coord, 1)])\n",
    "\n",
    "# Now, new_cube contains the counts of times a value of 10 is exceeded in the original data for each combination of projection_y_coordinate and projection_x_coordinate.\n",
    "end= time.time()\n",
    "print(round(end-start,2))"
   ]
  },
  {
   "cell_type": "code",
   "execution_count": 30,
   "id": "4b45c624",
   "metadata": {},
   "outputs": [
    {
     "data": {
      "text/plain": [
       "286"
      ]
     },
     "execution_count": 30,
     "metadata": {},
     "output_type": "execute_result"
    }
   ],
   "source": [
    "np.nanmax(new_cube.data)"
   ]
  },
  {
   "cell_type": "markdown",
   "id": "325b8944",
   "metadata": {},
   "source": [
    "### Sum the values across this month"
   ]
  },
  {
   "cell_type": "code",
   "execution_count": null,
   "id": "8cceb0d4",
   "metadata": {},
   "outputs": [],
   "source": [
    "# # Assuming the time dimension is the first dimension\n",
    "# summed_cube = monthly_cube.collapsed('time', iris.analysis.SUM)"
   ]
  },
  {
   "cell_type": "markdown",
   "id": "bc3f1043",
   "metadata": {},
   "source": [
    "### Trim so its smaller"
   ]
  },
  {
   "cell_type": "code",
   "execution_count": 5,
   "id": "f51b8e5f",
   "metadata": {},
   "outputs": [],
   "source": [
    "summed_cube = trim_to_bbox_of_region_obs(accumulated_cube, gb_gdf, 'projection_y_coordinate', 'projection_x_coordinate')"
   ]
  },
  {
   "cell_type": "markdown",
   "id": "3bfe1058",
   "metadata": {},
   "source": [
    "### Create versions of the data where values under certain values are masked out"
   ]
  },
  {
   "cell_type": "code",
   "execution_count": 6,
   "id": "f3fbb9ea",
   "metadata": {},
   "outputs": [],
   "source": [
    "# Assume da_cube is already loaded and is your Iris cube\n",
    "# cube_slice = day_cube[10,:,:]\n",
    "cube_slice=summed_cube.copy()\n",
    "\n",
    "# Mask values where data is below 10\n",
    "cube_slice.data = np.ma.masked_less(cube_slice.data, 500)"
   ]
  },
  {
   "cell_type": "code",
   "execution_count": 17,
   "id": "c8062eaa",
   "metadata": {},
   "outputs": [],
   "source": [
    "# Assume da_cube is already loaded and is your Iris cube\n",
    "# cube_slice = day_cube[10,:,:]\n",
    "cube_slice_over3500 =summed_cube.copy()\n",
    "\n",
    "# Mask values where data is below 10\n",
    "cube_slice_over3500.data = np.ma.masked_less(cube_slice_over3500.data, 3500)"
   ]
  },
  {
   "cell_type": "markdown",
   "id": "fae2c7a4",
   "metadata": {},
   "source": [
    "### Plot"
   ]
  },
  {
   "cell_type": "code",
   "execution_count": 18,
   "id": "f73d990d",
   "metadata": {},
   "outputs": [
    {
     "name": "stderr",
     "output_type": "stream",
     "text": [
      "/nfs/a321/gy17m2a/anaconda_install/anaconda3/envs/ukcp18/lib/python3.7/site-packages/iris/coord_systems.py:531: UserWarning: The default value for the *approx* keyword argument to TransverseMercator will change from True to False after 0.18.\n",
      "  globe=globe,\n"
     ]
    },
    {
     "data": {
      "image/png": "[encoded data removed]",
      "text/plain": [
       "<Figure size 2160x1296 with 2 Axes>"
      ]
     },
     "metadata": {
      "needs_background": "light"
     },
     "output_type": "display_data"
    }
   ],
   "source": [
    "# Create a plot\n",
    "plt.figure(figsize=(30, 18))\n",
    "qplt.contourf(cube_slice_over3500, cmap='plasma')  # Adjust the colormap as needed\n",
    "\n",
    "# Add coastlines with Cartopy\n",
    "plt.gca().coastlines()\n",
    "\n",
    "# plt.colorbar(cf, orientation='vertical')  # Add a colorbar\n",
    "plt.savefig('over3500.jpg', dpi=1000)\n",
    "plt.show()"
   ]
  },
  {
   "cell_type": "code",
   "execution_count": 59,
   "id": "59798292",
   "metadata": {},
   "outputs": [
    {
     "name": "stderr",
     "output_type": "stream",
     "text": [
      "/nfs/a321/gy17m2a/anaconda_install/anaconda3/envs/ukcp18/lib/python3.7/site-packages/iris/coord_systems.py:531: UserWarning: The default value for the *approx* keyword argument to TransverseMercator will change from True to False after 0.18.\n",
      "  globe=globe,\n"
     ]
    },
    {
     "data": {
      "image/png": "[encoded data removed]",
      "text/plain": [
       "<Figure size 432x288 with 2 Axes>"
      ]
     },
     "metadata": {
      "needs_background": "light"
     },
     "output_type": "display_data"
    }
   ],
   "source": [
    "# Assuming 'cube' is your loaded Iris cube with some data\n",
    "# Apply a mask where some condition is met (for example, data values less than a threshold)\n",
    "masked_data = np.ma.masked_less(day_cube[1,:,:].data, 20)\n",
    "day_cube[1,:,:].data = masked_data\n",
    "\n",
    "# Plot using qplt.contourf\n",
    "contour = iplt.contourf(day_cube[1,:,:])\n",
    "plt.colorbar(contour)  # Add a colorbar to show the data scale\n",
    "\n",
    "ax.coastlines()\n",
    "\n",
    "\n",
    "plt.show()  # Display the plot\n",
    "\n"
   ]
  },
  {
   "cell_type": "code",
   "execution_count": 33,
   "id": "df0c4a51",
   "metadata": {},
   "outputs": [
    {
     "name": "stderr",
     "output_type": "stream",
     "text": [
      "/nfs/a321/gy17m2a/anaconda_install/anaconda3/envs/ukcp18/lib/python3.7/site-packages/iris/coord_systems.py:531: UserWarning: The default value for the *approx* keyword argument to TransverseMercator will change from True to False after 0.18.\n",
      "  globe=globe,\n"
     ]
    },
    {
     "data": {
      "image/png": "[encoded data removed]",
      "text/plain": [
       "<Figure size 1440x720 with 3 Axes>"
      ]
     },
     "metadata": {
      "needs_background": "light"
     },
     "output_type": "display_data"
    }
   ],
   "source": [
    "# np.nanmin(day_cube[1,:,:].data)\n",
    "# iplt.contourf(day_cube[1,:,:])\n",
    "\n",
    "day_cube[1,:,:].data = ma.masked_equal(day_cube[1,:,:].data, 0)\n",
    "day_cube[1,:,:].data = np.ma.masked_where(day_cube[1,:,:].data < 5, day_cube[1,:,:].data)\n",
    "\n",
    "# Plotting\n",
    "plt.figure(figsize=(20, 10))\n",
    "ax = plt.axes(projection=ccrs.PlateCarree())\n",
    "ax.set_extent([-10, 2, 49, 61], crs=ccrs.PlateCarree())  # Zoom in on the UK\n",
    "ax.coastlines()\n",
    "\n",
    "# Use Iris' quickplot for easy plotting\n",
    "qplt.contourf(day_cube[1,:,:], cmap='viridis_r')  # Indexing [0] for the first time point, adjust as necessary\n",
    "plt.title('Precipitation Over the UK (Non-zero values)')\n",
    "plt.colorbar(orientation='vertical')\n",
    "plt.show()"
   ]
  },
  {
   "cell_type": "code",
   "execution_count": null,
   "id": "11158594",
   "metadata": {},
   "outputs": [],
   "source": [
    "# for i in range(0,len(sorted_list)):\n",
    "#     print(i)\n",
    "#     ### Load radar data for one day (using IRIS)\n",
    "#     day_cube = iris.load_cube(sorted_list[i])\n",
    "#     print(np.nanmax(day_cube.data))"
   ]
  },
  {
   "cell_type": "markdown",
   "id": "56e6ec3c",
   "metadata": {},
   "source": [
    "### Check for repeated occurrence of value"
   ]
  },
  {
   "cell_type": "code",
   "execution_count": 5,
   "id": "9e018c1f",
   "metadata": {},
   "outputs": [
    {
     "name": "stdout",
     "output_type": "stream",
     "text": [
      "           numbers     counts\n",
      "1467  9.969210e+36  768143373\n",
      "1466  1.023969e+03        222\n",
      "1465  1.015344e+03          1\n",
      "           numbers     counts\n",
      "4690  9.969210e+36  769132051\n",
      "4689  1.023969e+03         36\n",
      "4688  1.018750e+03          1\n",
      "           numbers     counts\n",
      "1719  9.969210e+36  770928656\n",
      "1718  1.023969e+03          9\n",
      "1717  9.740625e+02          1\n"
     ]
    },
    {
     "ename": "KeyboardInterrupt",
     "evalue": "",
     "output_type": "error",
     "traceback": [
      "\u001b[0;31m---------------------------------------------------------------------------\u001b[0m",
      "\u001b[0;31mKeyboardInterrupt\u001b[0m                         Traceback (most recent call last)",
      "\u001b[0;32m/tmp/ipykernel_33048/783655798.py\u001b[0m in \u001b[0;36m<module>\u001b[0;34m\u001b[0m\n\u001b[1;32m      1\u001b[0m \u001b[0;32mfor\u001b[0m \u001b[0mi\u001b[0m \u001b[0;32min\u001b[0m \u001b[0mrange\u001b[0m\u001b[0;34m(\u001b[0m\u001b[0;36m0\u001b[0m\u001b[0;34m,\u001b[0m\u001b[0;36m5\u001b[0m\u001b[0;34m)\u001b[0m\u001b[0;34m:\u001b[0m\u001b[0;34m\u001b[0m\u001b[0;34m\u001b[0m\u001b[0m\n\u001b[1;32m      2\u001b[0m     \u001b[0mday_cube\u001b[0m \u001b[0;34m=\u001b[0m \u001b[0miris\u001b[0m\u001b[0;34m.\u001b[0m\u001b[0mload_cube\u001b[0m\u001b[0;34m(\u001b[0m\u001b[0msorted_list\u001b[0m\u001b[0;34m[\u001b[0m\u001b[0mi\u001b[0m\u001b[0;34m]\u001b[0m\u001b[0;34m)\u001b[0m\u001b[0;34m\u001b[0m\u001b[0;34m\u001b[0m\u001b[0m\n\u001b[0;32m----> 3\u001b[0;31m     \u001b[0mnumbers\u001b[0m\u001b[0;34m,\u001b[0m \u001b[0mcounts\u001b[0m \u001b[0;34m=\u001b[0m \u001b[0mnp\u001b[0m\u001b[0;34m.\u001b[0m\u001b[0munique\u001b[0m\u001b[0;34m(\u001b[0m\u001b[0mday_cube\u001b[0m\u001b[0;34m.\u001b[0m\u001b[0mdata\u001b[0m\u001b[0;34m.\u001b[0m\u001b[0mdata\u001b[0m\u001b[0;34m,\u001b[0m \u001b[0mreturn_counts\u001b[0m\u001b[0;34m=\u001b[0m\u001b[0;32mTrue\u001b[0m\u001b[0;34m)\u001b[0m\u001b[0;34m\u001b[0m\u001b[0;34m\u001b[0m\u001b[0m\n\u001b[0m\u001b[1;32m      4\u001b[0m     \u001b[0mdf\u001b[0m\u001b[0;34m=\u001b[0m\u001b[0mpd\u001b[0m\u001b[0;34m.\u001b[0m\u001b[0mDataFrame\u001b[0m\u001b[0;34m(\u001b[0m\u001b[0;34m{\u001b[0m\u001b[0;34m'numbers'\u001b[0m\u001b[0;34m:\u001b[0m\u001b[0mnumbers\u001b[0m\u001b[0;34m,\u001b[0m \u001b[0;34m'counts'\u001b[0m\u001b[0;34m:\u001b[0m\u001b[0mcounts\u001b[0m\u001b[0;34m}\u001b[0m\u001b[0;34m)\u001b[0m\u001b[0;34m\u001b[0m\u001b[0;34m\u001b[0m\u001b[0m\n\u001b[1;32m      5\u001b[0m     \u001b[0mdf\u001b[0m \u001b[0;34m=\u001b[0m \u001b[0mdf\u001b[0m\u001b[0;34m.\u001b[0m\u001b[0msort_values\u001b[0m\u001b[0;34m(\u001b[0m\u001b[0mby\u001b[0m\u001b[0;34m=\u001b[0m\u001b[0;34m'numbers'\u001b[0m\u001b[0;34m,\u001b[0m \u001b[0mascending\u001b[0m\u001b[0;34m=\u001b[0m\u001b[0;32mFalse\u001b[0m\u001b[0;34m)\u001b[0m\u001b[0;34m\u001b[0m\u001b[0;34m\u001b[0m\u001b[0m\n",
      "\u001b[0;32m/nfs/a321/gy17m2a/anaconda_install/anaconda3/envs/ukcp18/lib/python3.7/site-packages/iris/cube.py\u001b[0m in \u001b[0;36mdata\u001b[0;34m(self)\u001b[0m\n\u001b[1;32m   2167\u001b[0m \u001b[0;34m\u001b[0m\u001b[0m\n\u001b[1;32m   2168\u001b[0m         \"\"\"\n\u001b[0;32m-> 2169\u001b[0;31m         \u001b[0;32mreturn\u001b[0m \u001b[0mself\u001b[0m\u001b[0;34m.\u001b[0m\u001b[0m_data_manager\u001b[0m\u001b[0;34m.\u001b[0m\u001b[0mdata\u001b[0m\u001b[0;34m\u001b[0m\u001b[0;34m\u001b[0m\u001b[0m\n\u001b[0m\u001b[1;32m   2170\u001b[0m \u001b[0;34m\u001b[0m\u001b[0m\n\u001b[1;32m   2171\u001b[0m     \u001b[0;34m@\u001b[0m\u001b[0mdata\u001b[0m\u001b[0;34m.\u001b[0m\u001b[0msetter\u001b[0m\u001b[0;34m\u001b[0m\u001b[0;34m\u001b[0m\u001b[0m\n",
      "\u001b[0;32m/nfs/a321/gy17m2a/anaconda_install/anaconda3/envs/ukcp18/lib/python3.7/site-packages/iris/_data_manager.py\u001b[0m in \u001b[0;36mdata\u001b[0;34m(self)\u001b[0m\n\u001b[1;32m    204\u001b[0m             \u001b[0;32mtry\u001b[0m\u001b[0;34m:\u001b[0m\u001b[0;34m\u001b[0m\u001b[0;34m\u001b[0m\u001b[0m\n\u001b[1;32m    205\u001b[0m                 \u001b[0;31m# Realise the lazy data.\u001b[0m\u001b[0;34m\u001b[0m\u001b[0;34m\u001b[0m\u001b[0;34m\u001b[0m\u001b[0m\n\u001b[0;32m--> 206\u001b[0;31m                 \u001b[0mresult\u001b[0m \u001b[0;34m=\u001b[0m \u001b[0mas_concrete_data\u001b[0m\u001b[0;34m(\u001b[0m\u001b[0mself\u001b[0m\u001b[0;34m.\u001b[0m\u001b[0m_lazy_array\u001b[0m\u001b[0;34m)\u001b[0m\u001b[0;34m\u001b[0m\u001b[0;34m\u001b[0m\u001b[0m\n\u001b[0m\u001b[1;32m    207\u001b[0m                 \u001b[0;31m# Assign the realised result.\u001b[0m\u001b[0;34m\u001b[0m\u001b[0;34m\u001b[0m\u001b[0;34m\u001b[0m\u001b[0m\n\u001b[1;32m    208\u001b[0m                 \u001b[0mself\u001b[0m\u001b[0;34m.\u001b[0m\u001b[0m_real_array\u001b[0m \u001b[0;34m=\u001b[0m \u001b[0mresult\u001b[0m\u001b[0;34m\u001b[0m\u001b[0;34m\u001b[0m\u001b[0m\n",
      "\u001b[0;32m/nfs/a321/gy17m2a/anaconda_install/anaconda3/envs/ukcp18/lib/python3.7/site-packages/iris/_lazy_data.py\u001b[0m in \u001b[0;36mas_concrete_data\u001b[0;34m(data)\u001b[0m\n\u001b[1;32m    250\u001b[0m     \"\"\"\n\u001b[1;32m    251\u001b[0m     \u001b[0;32mif\u001b[0m \u001b[0mis_lazy_data\u001b[0m\u001b[0;34m(\u001b[0m\u001b[0mdata\u001b[0m\u001b[0;34m)\u001b[0m\u001b[0;34m:\u001b[0m\u001b[0;34m\u001b[0m\u001b[0;34m\u001b[0m\u001b[0m\n\u001b[0;32m--> 252\u001b[0;31m         \u001b[0;34m(\u001b[0m\u001b[0mdata\u001b[0m\u001b[0;34m,\u001b[0m\u001b[0;34m)\u001b[0m \u001b[0;34m=\u001b[0m \u001b[0m_co_realise_lazy_arrays\u001b[0m\u001b[0;34m(\u001b[0m\u001b[0;34m[\u001b[0m\u001b[0mdata\u001b[0m\u001b[0;34m]\u001b[0m\u001b[0;34m)\u001b[0m\u001b[0;34m\u001b[0m\u001b[0;34m\u001b[0m\u001b[0m\n\u001b[0m\u001b[1;32m    253\u001b[0m \u001b[0;34m\u001b[0m\u001b[0m\n\u001b[1;32m    254\u001b[0m     \u001b[0;32mreturn\u001b[0m \u001b[0mdata\u001b[0m\u001b[0;34m\u001b[0m\u001b[0;34m\u001b[0m\u001b[0m\n",
      "\u001b[0;32m/nfs/a321/gy17m2a/anaconda_install/anaconda3/envs/ukcp18/lib/python3.7/site-packages/iris/_lazy_data.py\u001b[0m in \u001b[0;36m_co_realise_lazy_arrays\u001b[0;34m(arrays)\u001b[0m\n\u001b[1;32m    213\u001b[0m \u001b[0;34m\u001b[0m\u001b[0m\n\u001b[1;32m    214\u001b[0m     \"\"\"\n\u001b[0;32m--> 215\u001b[0;31m     \u001b[0mcomputed_arrays\u001b[0m \u001b[0;34m=\u001b[0m \u001b[0mda\u001b[0m\u001b[0;34m.\u001b[0m\u001b[0mcompute\u001b[0m\u001b[0;34m(\u001b[0m\u001b[0;34m*\u001b[0m\u001b[0marrays\u001b[0m\u001b[0;34m)\u001b[0m\u001b[0;34m\u001b[0m\u001b[0;34m\u001b[0m\u001b[0m\n\u001b[0m\u001b[1;32m    216\u001b[0m     \u001b[0mresults\u001b[0m \u001b[0;34m=\u001b[0m \u001b[0;34m[\u001b[0m\u001b[0;34m]\u001b[0m\u001b[0;34m\u001b[0m\u001b[0;34m\u001b[0m\u001b[0m\n\u001b[1;32m    217\u001b[0m     \u001b[0;32mfor\u001b[0m \u001b[0mlazy_in\u001b[0m\u001b[0;34m,\u001b[0m \u001b[0mreal_out\u001b[0m \u001b[0;32min\u001b[0m \u001b[0mzip\u001b[0m\u001b[0;34m(\u001b[0m\u001b[0marrays\u001b[0m\u001b[0;34m,\u001b[0m \u001b[0mcomputed_arrays\u001b[0m\u001b[0;34m)\u001b[0m\u001b[0;34m:\u001b[0m\u001b[0;34m\u001b[0m\u001b[0;34m\u001b[0m\u001b[0m\n",
      "\u001b[0;32m/nfs/a321/gy17m2a/anaconda_install/anaconda3/envs/ukcp18/lib/python3.7/site-packages/dask/base.py\u001b[0m in \u001b[0;36mcompute\u001b[0;34m(traverse, optimize_graph, scheduler, get, *args, **kwargs)\u001b[0m\n\u001b[1;32m    572\u001b[0m \u001b[0;34m\u001b[0m\u001b[0m\n\u001b[1;32m    573\u001b[0m     \u001b[0mresults\u001b[0m \u001b[0;34m=\u001b[0m \u001b[0mschedule\u001b[0m\u001b[0;34m(\u001b[0m\u001b[0mdsk\u001b[0m\u001b[0;34m,\u001b[0m \u001b[0mkeys\u001b[0m\u001b[0;34m,\u001b[0m \u001b[0;34m**\u001b[0m\u001b[0mkwargs\u001b[0m\u001b[0;34m)\u001b[0m\u001b[0;34m\u001b[0m\u001b[0;34m\u001b[0m\u001b[0m\n\u001b[0;32m--> 574\u001b[0;31m     \u001b[0;32mreturn\u001b[0m \u001b[0mrepack\u001b[0m\u001b[0;34m(\u001b[0m\u001b[0;34m[\u001b[0m\u001b[0mf\u001b[0m\u001b[0;34m(\u001b[0m\u001b[0mr\u001b[0m\u001b[0;34m,\u001b[0m \u001b[0;34m*\u001b[0m\u001b[0ma\u001b[0m\u001b[0;34m)\u001b[0m \u001b[0;32mfor\u001b[0m \u001b[0mr\u001b[0m\u001b[0;34m,\u001b[0m \u001b[0;34m(\u001b[0m\u001b[0mf\u001b[0m\u001b[0;34m,\u001b[0m \u001b[0ma\u001b[0m\u001b[0;34m)\u001b[0m \u001b[0;32min\u001b[0m \u001b[0mzip\u001b[0m\u001b[0;34m(\u001b[0m\u001b[0mresults\u001b[0m\u001b[0;34m,\u001b[0m \u001b[0mpostcomputes\u001b[0m\u001b[0;34m)\u001b[0m\u001b[0;34m]\u001b[0m\u001b[0;34m)\u001b[0m\u001b[0;34m\u001b[0m\u001b[0;34m\u001b[0m\u001b[0m\n\u001b[0m\u001b[1;32m    575\u001b[0m \u001b[0;34m\u001b[0m\u001b[0m\n\u001b[1;32m    576\u001b[0m \u001b[0;34m\u001b[0m\u001b[0m\n",
      "\u001b[0;32m/nfs/a321/gy17m2a/anaconda_install/anaconda3/envs/ukcp18/lib/python3.7/site-packages/dask/base.py\u001b[0m in \u001b[0;36m<listcomp>\u001b[0;34m(.0)\u001b[0m\n\u001b[1;32m    572\u001b[0m \u001b[0;34m\u001b[0m\u001b[0m\n\u001b[1;32m    573\u001b[0m     \u001b[0mresults\u001b[0m \u001b[0;34m=\u001b[0m \u001b[0mschedule\u001b[0m\u001b[0;34m(\u001b[0m\u001b[0mdsk\u001b[0m\u001b[0;34m,\u001b[0m \u001b[0mkeys\u001b[0m\u001b[0;34m,\u001b[0m \u001b[0;34m**\u001b[0m\u001b[0mkwargs\u001b[0m\u001b[0;34m)\u001b[0m\u001b[0;34m\u001b[0m\u001b[0;34m\u001b[0m\u001b[0m\n\u001b[0;32m--> 574\u001b[0;31m     \u001b[0;32mreturn\u001b[0m \u001b[0mrepack\u001b[0m\u001b[0;34m(\u001b[0m\u001b[0;34m[\u001b[0m\u001b[0mf\u001b[0m\u001b[0;34m(\u001b[0m\u001b[0mr\u001b[0m\u001b[0;34m,\u001b[0m \u001b[0;34m*\u001b[0m\u001b[0ma\u001b[0m\u001b[0;34m)\u001b[0m \u001b[0;32mfor\u001b[0m \u001b[0mr\u001b[0m\u001b[0;34m,\u001b[0m \u001b[0;34m(\u001b[0m\u001b[0mf\u001b[0m\u001b[0;34m,\u001b[0m \u001b[0ma\u001b[0m\u001b[0;34m)\u001b[0m \u001b[0;32min\u001b[0m \u001b[0mzip\u001b[0m\u001b[0;34m(\u001b[0m\u001b[0mresults\u001b[0m\u001b[0;34m,\u001b[0m \u001b[0mpostcomputes\u001b[0m\u001b[0;34m)\u001b[0m\u001b[0;34m]\u001b[0m\u001b[0;34m)\u001b[0m\u001b[0;34m\u001b[0m\u001b[0;34m\u001b[0m\u001b[0m\n\u001b[0m\u001b[1;32m    575\u001b[0m \u001b[0;34m\u001b[0m\u001b[0m\n\u001b[1;32m    576\u001b[0m \u001b[0;34m\u001b[0m\u001b[0m\n",
      "\u001b[0;32m/nfs/a321/gy17m2a/anaconda_install/anaconda3/envs/ukcp18/lib/python3.7/site-packages/dask/array/core.py\u001b[0m in \u001b[0;36mfinalize\u001b[0;34m(results)\u001b[0m\n\u001b[1;32m   1207\u001b[0m     \u001b[0;32mwhile\u001b[0m \u001b[0misinstance\u001b[0m\u001b[0;34m(\u001b[0m\u001b[0mresults2\u001b[0m\u001b[0;34m,\u001b[0m \u001b[0;34m(\u001b[0m\u001b[0mtuple\u001b[0m\u001b[0;34m,\u001b[0m \u001b[0mlist\u001b[0m\u001b[0;34m)\u001b[0m\u001b[0;34m)\u001b[0m\u001b[0;34m:\u001b[0m\u001b[0;34m\u001b[0m\u001b[0;34m\u001b[0m\u001b[0m\n\u001b[1;32m   1208\u001b[0m         \u001b[0;32mif\u001b[0m \u001b[0mlen\u001b[0m\u001b[0;34m(\u001b[0m\u001b[0mresults2\u001b[0m\u001b[0;34m)\u001b[0m \u001b[0;34m>\u001b[0m \u001b[0;36m1\u001b[0m\u001b[0;34m:\u001b[0m\u001b[0;34m\u001b[0m\u001b[0;34m\u001b[0m\u001b[0m\n\u001b[0;32m-> 1209\u001b[0;31m             \u001b[0;32mreturn\u001b[0m \u001b[0mconcatenate3\u001b[0m\u001b[0;34m(\u001b[0m\u001b[0mresults\u001b[0m\u001b[0;34m)\u001b[0m\u001b[0;34m\u001b[0m\u001b[0;34m\u001b[0m\u001b[0m\n\u001b[0m\u001b[1;32m   1210\u001b[0m         \u001b[0;32melse\u001b[0m\u001b[0;34m:\u001b[0m\u001b[0;34m\u001b[0m\u001b[0;34m\u001b[0m\u001b[0m\n\u001b[1;32m   1211\u001b[0m             \u001b[0mresults2\u001b[0m \u001b[0;34m=\u001b[0m \u001b[0mresults2\u001b[0m\u001b[0;34m[\u001b[0m\u001b[0;36m0\u001b[0m\u001b[0;34m]\u001b[0m\u001b[0;34m\u001b[0m\u001b[0;34m\u001b[0m\u001b[0m\n",
      "\u001b[0;32m/nfs/a321/gy17m2a/anaconda_install/anaconda3/envs/ukcp18/lib/python3.7/site-packages/dask/array/core.py\u001b[0m in \u001b[0;36mconcatenate3\u001b[0;34m(arrays)\u001b[0m\n\u001b[1;32m   5062\u001b[0m     \u001b[0;32mif\u001b[0m \u001b[0mconcatenate_lookup\u001b[0m\u001b[0;34m.\u001b[0m\u001b[0mdispatch\u001b[0m\u001b[0;34m(\u001b[0m\u001b[0mtype\u001b[0m\u001b[0;34m(\u001b[0m\u001b[0madvanced\u001b[0m\u001b[0;34m)\u001b[0m\u001b[0;34m)\u001b[0m \u001b[0;32mis\u001b[0m \u001b[0;32mnot\u001b[0m \u001b[0mnp\u001b[0m\u001b[0;34m.\u001b[0m\u001b[0mconcatenate\u001b[0m\u001b[0;34m:\u001b[0m\u001b[0;34m\u001b[0m\u001b[0;34m\u001b[0m\u001b[0m\n\u001b[1;32m   5063\u001b[0m         \u001b[0mx\u001b[0m \u001b[0;34m=\u001b[0m \u001b[0munpack_singleton\u001b[0m\u001b[0;34m(\u001b[0m\u001b[0marrays\u001b[0m\u001b[0;34m)\u001b[0m\u001b[0;34m\u001b[0m\u001b[0;34m\u001b[0m\u001b[0m\n\u001b[0;32m-> 5064\u001b[0;31m         \u001b[0;32mreturn\u001b[0m \u001b[0m_concatenate2\u001b[0m\u001b[0;34m(\u001b[0m\u001b[0marrays\u001b[0m\u001b[0;34m,\u001b[0m \u001b[0maxes\u001b[0m\u001b[0;34m=\u001b[0m\u001b[0mlist\u001b[0m\u001b[0;34m(\u001b[0m\u001b[0mrange\u001b[0m\u001b[0;34m(\u001b[0m\u001b[0mx\u001b[0m\u001b[0;34m.\u001b[0m\u001b[0mndim\u001b[0m\u001b[0;34m)\u001b[0m\u001b[0;34m)\u001b[0m\u001b[0;34m)\u001b[0m\u001b[0;34m\u001b[0m\u001b[0;34m\u001b[0m\u001b[0m\n\u001b[0m\u001b[1;32m   5065\u001b[0m \u001b[0;34m\u001b[0m\u001b[0m\n\u001b[1;32m   5066\u001b[0m     \u001b[0mndim\u001b[0m \u001b[0;34m=\u001b[0m \u001b[0mndimlist\u001b[0m\u001b[0;34m(\u001b[0m\u001b[0marrays\u001b[0m\u001b[0;34m)\u001b[0m\u001b[0;34m\u001b[0m\u001b[0;34m\u001b[0m\u001b[0m\n",
      "\u001b[0;32m/nfs/a321/gy17m2a/anaconda_install/anaconda3/envs/ukcp18/lib/python3.7/site-packages/dask/array/core.py\u001b[0m in \u001b[0;36m_concatenate2\u001b[0;34m(arrays, axes)\u001b[0m\n\u001b[1;32m    388\u001b[0m         \u001b[0;32mreturn\u001b[0m \u001b[0marrays\u001b[0m\u001b[0;34m\u001b[0m\u001b[0;34m\u001b[0m\u001b[0m\n\u001b[1;32m    389\u001b[0m     \u001b[0;32mif\u001b[0m \u001b[0mlen\u001b[0m\u001b[0;34m(\u001b[0m\u001b[0maxes\u001b[0m\u001b[0;34m)\u001b[0m \u001b[0;34m>\u001b[0m \u001b[0;36m1\u001b[0m\u001b[0;34m:\u001b[0m\u001b[0;34m\u001b[0m\u001b[0;34m\u001b[0m\u001b[0m\n\u001b[0;32m--> 390\u001b[0;31m         \u001b[0marrays\u001b[0m \u001b[0;34m=\u001b[0m \u001b[0;34m[\u001b[0m\u001b[0m_concatenate2\u001b[0m\u001b[0;34m(\u001b[0m\u001b[0ma\u001b[0m\u001b[0;34m,\u001b[0m \u001b[0maxes\u001b[0m\u001b[0;34m=\u001b[0m\u001b[0maxes\u001b[0m\u001b[0;34m[\u001b[0m\u001b[0;36m1\u001b[0m\u001b[0;34m:\u001b[0m\u001b[0;34m]\u001b[0m\u001b[0;34m)\u001b[0m \u001b[0;32mfor\u001b[0m \u001b[0ma\u001b[0m \u001b[0;32min\u001b[0m \u001b[0marrays\u001b[0m\u001b[0;34m]\u001b[0m\u001b[0;34m\u001b[0m\u001b[0;34m\u001b[0m\u001b[0m\n\u001b[0m\u001b[1;32m    391\u001b[0m     concatenate = concatenate_lookup.dispatch(\n\u001b[1;32m    392\u001b[0m         \u001b[0mtype\u001b[0m\u001b[0;34m(\u001b[0m\u001b[0mmax\u001b[0m\u001b[0;34m(\u001b[0m\u001b[0marrays\u001b[0m\u001b[0;34m,\u001b[0m \u001b[0mkey\u001b[0m\u001b[0;34m=\u001b[0m\u001b[0;32mlambda\u001b[0m \u001b[0mx\u001b[0m\u001b[0;34m:\u001b[0m \u001b[0mgetattr\u001b[0m\u001b[0;34m(\u001b[0m\u001b[0mx\u001b[0m\u001b[0;34m,\u001b[0m \u001b[0;34m\"__array_priority__\"\u001b[0m\u001b[0;34m,\u001b[0m \u001b[0;36m0\u001b[0m\u001b[0;34m)\u001b[0m\u001b[0;34m)\u001b[0m\u001b[0;34m)\u001b[0m\u001b[0;34m\u001b[0m\u001b[0;34m\u001b[0m\u001b[0m\n",
      "\u001b[0;32m/nfs/a321/gy17m2a/anaconda_install/anaconda3/envs/ukcp18/lib/python3.7/site-packages/dask/array/core.py\u001b[0m in \u001b[0;36m<listcomp>\u001b[0;34m(.0)\u001b[0m\n\u001b[1;32m    388\u001b[0m         \u001b[0;32mreturn\u001b[0m \u001b[0marrays\u001b[0m\u001b[0;34m\u001b[0m\u001b[0;34m\u001b[0m\u001b[0m\n\u001b[1;32m    389\u001b[0m     \u001b[0;32mif\u001b[0m \u001b[0mlen\u001b[0m\u001b[0;34m(\u001b[0m\u001b[0maxes\u001b[0m\u001b[0;34m)\u001b[0m \u001b[0;34m>\u001b[0m \u001b[0;36m1\u001b[0m\u001b[0;34m:\u001b[0m\u001b[0;34m\u001b[0m\u001b[0;34m\u001b[0m\u001b[0m\n\u001b[0;32m--> 390\u001b[0;31m         \u001b[0marrays\u001b[0m \u001b[0;34m=\u001b[0m \u001b[0;34m[\u001b[0m\u001b[0m_concatenate2\u001b[0m\u001b[0;34m(\u001b[0m\u001b[0ma\u001b[0m\u001b[0;34m,\u001b[0m \u001b[0maxes\u001b[0m\u001b[0;34m=\u001b[0m\u001b[0maxes\u001b[0m\u001b[0;34m[\u001b[0m\u001b[0;36m1\u001b[0m\u001b[0;34m:\u001b[0m\u001b[0;34m]\u001b[0m\u001b[0;34m)\u001b[0m \u001b[0;32mfor\u001b[0m \u001b[0ma\u001b[0m \u001b[0;32min\u001b[0m \u001b[0marrays\u001b[0m\u001b[0;34m]\u001b[0m\u001b[0;34m\u001b[0m\u001b[0;34m\u001b[0m\u001b[0m\n\u001b[0m\u001b[1;32m    391\u001b[0m     concatenate = concatenate_lookup.dispatch(\n\u001b[1;32m    392\u001b[0m         \u001b[0mtype\u001b[0m\u001b[0;34m(\u001b[0m\u001b[0mmax\u001b[0m\u001b[0;34m(\u001b[0m\u001b[0marrays\u001b[0m\u001b[0;34m,\u001b[0m \u001b[0mkey\u001b[0m\u001b[0;34m=\u001b[0m\u001b[0;32mlambda\u001b[0m \u001b[0mx\u001b[0m\u001b[0;34m:\u001b[0m \u001b[0mgetattr\u001b[0m\u001b[0;34m(\u001b[0m\u001b[0mx\u001b[0m\u001b[0;34m,\u001b[0m \u001b[0;34m\"__array_priority__\"\u001b[0m\u001b[0;34m,\u001b[0m \u001b[0;36m0\u001b[0m\u001b[0;34m)\u001b[0m\u001b[0;34m)\u001b[0m\u001b[0;34m)\u001b[0m\u001b[0;34m\u001b[0m\u001b[0;34m\u001b[0m\u001b[0m\n",
      "\u001b[0;32m/nfs/a321/gy17m2a/anaconda_install/anaconda3/envs/ukcp18/lib/python3.7/site-packages/dask/array/core.py\u001b[0m in \u001b[0;36m_concatenate2\u001b[0;34m(arrays, axes)\u001b[0m\n\u001b[1;32m    402\u001b[0m         \u001b[0;32mreturn\u001b[0m \u001b[0mret\u001b[0m\u001b[0;34m\u001b[0m\u001b[0;34m\u001b[0m\u001b[0m\n\u001b[1;32m    403\u001b[0m     \u001b[0;32melse\u001b[0m\u001b[0;34m:\u001b[0m\u001b[0;34m\u001b[0m\u001b[0;34m\u001b[0m\u001b[0m\n\u001b[0;32m--> 404\u001b[0;31m         \u001b[0;32mreturn\u001b[0m \u001b[0mconcatenate\u001b[0m\u001b[0;34m(\u001b[0m\u001b[0marrays\u001b[0m\u001b[0;34m,\u001b[0m \u001b[0maxis\u001b[0m\u001b[0;34m=\u001b[0m\u001b[0maxes\u001b[0m\u001b[0;34m[\u001b[0m\u001b[0;36m0\u001b[0m\u001b[0;34m]\u001b[0m\u001b[0;34m)\u001b[0m\u001b[0;34m\u001b[0m\u001b[0;34m\u001b[0m\u001b[0m\n\u001b[0m\u001b[1;32m    405\u001b[0m \u001b[0;34m\u001b[0m\u001b[0m\n\u001b[1;32m    406\u001b[0m \u001b[0;34m\u001b[0m\u001b[0m\n",
      "\u001b[0;32m/nfs/a321/gy17m2a/anaconda_install/anaconda3/envs/ukcp18/lib/python3.7/site-packages/dask/array/backends.py\u001b[0m in \u001b[0;36m_concatenate\u001b[0;34m(arrays, axis)\u001b[0m\n\u001b[1;32m     29\u001b[0m \u001b[0;34m@\u001b[0m\u001b[0mconcatenate_lookup\u001b[0m\u001b[0;34m.\u001b[0m\u001b[0mregister\u001b[0m\u001b[0;34m(\u001b[0m\u001b[0mnp\u001b[0m\u001b[0;34m.\u001b[0m\u001b[0mma\u001b[0m\u001b[0;34m.\u001b[0m\u001b[0mmasked_array\u001b[0m\u001b[0;34m)\u001b[0m\u001b[0;34m\u001b[0m\u001b[0;34m\u001b[0m\u001b[0m\n\u001b[1;32m     30\u001b[0m \u001b[0;32mdef\u001b[0m \u001b[0m_concatenate\u001b[0m\u001b[0;34m(\u001b[0m\u001b[0marrays\u001b[0m\u001b[0;34m,\u001b[0m \u001b[0maxis\u001b[0m\u001b[0;34m=\u001b[0m\u001b[0;36m0\u001b[0m\u001b[0;34m)\u001b[0m\u001b[0;34m:\u001b[0m\u001b[0;34m\u001b[0m\u001b[0;34m\u001b[0m\u001b[0m\n\u001b[0;32m---> 31\u001b[0;31m     \u001b[0mout\u001b[0m \u001b[0;34m=\u001b[0m \u001b[0mnp\u001b[0m\u001b[0;34m.\u001b[0m\u001b[0mma\u001b[0m\u001b[0;34m.\u001b[0m\u001b[0mconcatenate\u001b[0m\u001b[0;34m(\u001b[0m\u001b[0marrays\u001b[0m\u001b[0;34m,\u001b[0m \u001b[0maxis\u001b[0m\u001b[0;34m=\u001b[0m\u001b[0maxis\u001b[0m\u001b[0;34m)\u001b[0m\u001b[0;34m\u001b[0m\u001b[0;34m\u001b[0m\u001b[0m\n\u001b[0m\u001b[1;32m     32\u001b[0m     \u001b[0mfill_values\u001b[0m \u001b[0;34m=\u001b[0m \u001b[0;34m[\u001b[0m\u001b[0mi\u001b[0m\u001b[0;34m.\u001b[0m\u001b[0mfill_value\u001b[0m \u001b[0;32mfor\u001b[0m \u001b[0mi\u001b[0m \u001b[0;32min\u001b[0m \u001b[0marrays\u001b[0m \u001b[0;32mif\u001b[0m \u001b[0mhasattr\u001b[0m\u001b[0;34m(\u001b[0m\u001b[0mi\u001b[0m\u001b[0;34m,\u001b[0m \u001b[0;34m\"fill_value\"\u001b[0m\u001b[0;34m)\u001b[0m\u001b[0;34m]\u001b[0m\u001b[0;34m\u001b[0m\u001b[0;34m\u001b[0m\u001b[0m\n\u001b[1;32m     33\u001b[0m     \u001b[0;32mif\u001b[0m \u001b[0many\u001b[0m\u001b[0;34m(\u001b[0m\u001b[0misinstance\u001b[0m\u001b[0;34m(\u001b[0m\u001b[0mf\u001b[0m\u001b[0;34m,\u001b[0m \u001b[0mnp\u001b[0m\u001b[0;34m.\u001b[0m\u001b[0mndarray\u001b[0m\u001b[0;34m)\u001b[0m \u001b[0;32mfor\u001b[0m \u001b[0mf\u001b[0m \u001b[0;32min\u001b[0m \u001b[0mfill_values\u001b[0m\u001b[0;34m)\u001b[0m\u001b[0;34m:\u001b[0m\u001b[0;34m\u001b[0m\u001b[0;34m\u001b[0m\u001b[0m\n",
      "\u001b[0;32m/nfs/a321/gy17m2a/anaconda_install/anaconda3/envs/ukcp18/lib/python3.7/site-packages/numpy/ma/core.py\u001b[0m in \u001b[0;36mconcatenate\u001b[0;34m(arrays, axis)\u001b[0m\n\u001b[1;32m   6963\u001b[0m \u001b[0;34m\u001b[0m\u001b[0m\n\u001b[1;32m   6964\u001b[0m     \"\"\"\n\u001b[0;32m-> 6965\u001b[0;31m     \u001b[0md\u001b[0m \u001b[0;34m=\u001b[0m \u001b[0mnp\u001b[0m\u001b[0;34m.\u001b[0m\u001b[0mconcatenate\u001b[0m\u001b[0;34m(\u001b[0m\u001b[0;34m[\u001b[0m\u001b[0mgetdata\u001b[0m\u001b[0;34m(\u001b[0m\u001b[0ma\u001b[0m\u001b[0;34m)\u001b[0m \u001b[0;32mfor\u001b[0m \u001b[0ma\u001b[0m \u001b[0;32min\u001b[0m \u001b[0marrays\u001b[0m\u001b[0;34m]\u001b[0m\u001b[0;34m,\u001b[0m \u001b[0maxis\u001b[0m\u001b[0;34m)\u001b[0m\u001b[0;34m\u001b[0m\u001b[0;34m\u001b[0m\u001b[0m\n\u001b[0m\u001b[1;32m   6966\u001b[0m     \u001b[0mrcls\u001b[0m \u001b[0;34m=\u001b[0m \u001b[0mget_masked_subclass\u001b[0m\u001b[0;34m(\u001b[0m\u001b[0;34m*\u001b[0m\u001b[0marrays\u001b[0m\u001b[0;34m)\u001b[0m\u001b[0;34m\u001b[0m\u001b[0;34m\u001b[0m\u001b[0m\n\u001b[1;32m   6967\u001b[0m     \u001b[0mdata\u001b[0m \u001b[0;34m=\u001b[0m \u001b[0md\u001b[0m\u001b[0;34m.\u001b[0m\u001b[0mview\u001b[0m\u001b[0;34m(\u001b[0m\u001b[0mrcls\u001b[0m\u001b[0;34m)\u001b[0m\u001b[0;34m\u001b[0m\u001b[0;34m\u001b[0m\u001b[0m\n",
      "\u001b[0;32m<__array_function__ internals>\u001b[0m in \u001b[0;36mconcatenate\u001b[0;34m(*args, **kwargs)\u001b[0m\n",
      "\u001b[0;31mKeyboardInterrupt\u001b[0m: "
     ]
    }
   ],
   "source": [
    "for i in range(0,5):\n",
    "    day_cube = iris.load_cube(sorted_list[i])\n",
    "    numbers, counts = np.unique(day_cube.data.data, return_counts=True)\n",
    "    df=pd.DataFrame({'numbers':numbers, 'counts':counts})\n",
    "    df = df.sort_values(by='numbers', ascending=False)\n",
    "    print(df[:3])"
   ]
  },
  {
   "cell_type": "markdown",
   "id": "90e5e1fb",
   "metadata": {},
   "source": [
    "### Check spatial/temporal occurrence of value"
   ]
  },
  {
   "cell_type": "code",
   "execution_count": 84,
   "id": "fea02165",
   "metadata": {},
   "outputs": [],
   "source": [
    "day_cube = iris.load_cube(sorted_list[2])"
   ]
  },
  {
   "cell_type": "code",
   "execution_count": 6,
   "id": "9ecf4c93",
   "metadata": {},
   "outputs": [],
   "source": [
    "global_max_value = np.nanmax(day_cube.data)"
   ]
  },
  {
   "cell_type": "code",
   "execution_count": 12,
   "id": "a6676a3b",
   "metadata": {},
   "outputs": [
    {
     "name": "stdout",
     "output_type": "stream",
     "text": [
      "Timeslice Index: 0, Max Value: 91.84375, Locations: [(-132500.0, 601500.0)]\n",
      "Timeslice Index: 1, Max Value: 75.625, Locations: [(-155500.0, 610500.0)]\n",
      "Timeslice Index: 2, Max Value: 58.40625, Locations: [(524500.0, 69500.0)]\n",
      "Timeslice Index: 3, Max Value: 52.40625, Locations: [(-154500.0, 616500.0)]\n",
      "Timeslice Index: 4, Max Value: 52.4375, Locations: [(-146500.0, 623500.0)]\n",
      "Timeslice Index: 5, Max Value: 54.59375, Locations: [(-148500.0, 624500.0), (-148500.0, 625500.0), (-147500.0, 625500.0), (-146500.0, 625500.0), (-145500.0, 625500.0), (-145500.0, 626500.0)]\n",
      "Timeslice Index: 6, Max Value: 89.21875, Locations: [(-137500.0, 559500.0)]\n",
      "Timeslice Index: 7, Max Value: 68.6875, Locations: [(-134500.0, 561500.0)]\n",
      "Timeslice Index: 8, Max Value: 139.59375, Locations: [(524500.0, 69500.0)]\n",
      "Timeslice Index: 9, Max Value: 42.1875, Locations: [(-194500.0, 594500.0)]\n",
      "Timeslice Index: 10, Max Value: 48.65625, Locations: [(524500.0, 69500.0)]\n",
      "Timeslice Index: 11, Max Value: 44.25, Locations: [(524500.0, 69500.0)]\n",
      "Timeslice Index: 12, Max Value: 56.53125, Locations: [(524500.0, 69500.0)]\n",
      "Timeslice Index: 13, Max Value: 54.375, Locations: [(-149500.0, 605500.0)]\n",
      "Timeslice Index: 14, Max Value: 74.40625, Locations: [(524500.0, 69500.0)]\n",
      "Timeslice Index: 15, Max Value: 47.5, Locations: [(35500.0, 567500.0)]\n",
      "Timeslice Index: 16, Max Value: 52.65625, Locations: [(38500.0, 571500.0)]\n",
      "Timeslice Index: 17, Max Value: 94.4375, Locations: [(523500.0, 69500.0)]\n",
      "Timeslice Index: 18, Max Value: 60.6875, Locations: [(524500.0, 69500.0)]\n",
      "Timeslice Index: 19, Max Value: 48.375, Locations: [(518500.0, 117500.0)]\n",
      "Timeslice Index: 20, Max Value: 61.28125, Locations: [(524500.0, 69500.0)]\n",
      "Timeslice Index: 21, Max Value: 45.4375, Locations: [(524500.0, 69500.0)]\n",
      "Timeslice Index: 22, Max Value: 141.84375, Locations: [(451500.0, 328500.0)]\n",
      "Timeslice Index: 23, Max Value: 394.1875, Locations: [(83500.0, 472500.0)]\n",
      "Timeslice Index: 24, Max Value: 422.96875, Locations: [(85500.0, 472500.0)]\n",
      "Timeslice Index: 25, Max Value: 149.5625, Locations: [(87500.0, 473500.0)]\n",
      "Timeslice Index: 26, Max Value: 30.90625, Locations: [(523500.0, 69500.0)]\n",
      "Timeslice Index: 27, Max Value: 31.125, Locations: [(524500.0, 69500.0)]\n",
      "Timeslice Index: 28, Max Value: 52.5625, Locations: [(519500.0, 115500.0)]\n",
      "Timeslice Index: 29, Max Value: 92.90625, Locations: [(387500.0, 156500.0)]\n",
      "Timeslice Index: 30, Max Value: 223.0625, Locations: [(387500.0, 159500.0)]\n",
      "Timeslice Index: 31, Max Value: 70.6875, Locations: [(83500.0, 472500.0)]\n",
      "Timeslice Index: 32, Max Value: 98.9375, Locations: [(84500.0, 472500.0)]\n",
      "Timeslice Index: 33, Max Value: 73.5, Locations: [(86500.0, 473500.0)]\n",
      "Timeslice Index: 34, Max Value: 152.3125, Locations: [(96500.0, 456500.0)]\n",
      "Timeslice Index: 35, Max Value: 22.03125, Locations: [(87500.0, 473500.0)]\n",
      "Timeslice Index: 36, Max Value: 246.875, Locations: [(83500.0, 473500.0)]\n",
      "Timeslice Index: 37, Max Value: 20.1875, Locations: [(688500.0, 269500.0)]\n",
      "Timeslice Index: 38, Max Value: 279.0, Locations: [(84500.0, 472500.0)]\n",
      "Timeslice Index: 39, Max Value: 54.4375, Locations: [(86500.0, 473500.0)]\n",
      "Timeslice Index: 40, Max Value: 1023.96875, Locations: [(83500.0, 472500.0)]\n",
      "Timeslice Index: 41, Max Value: 188.46875, Locations: [(86500.0, 473500.0)]\n",
      "Timeslice Index: 42, Max Value: 774.90625, Locations: [(88500.0, 473500.0)]\n",
      "Timeslice Index: 43, Max Value: 124.78125, Locations: [(90500.0, 472500.0)]\n",
      "Timeslice Index: 44, Max Value: 38.0625, Locations: [(403500.0, 298500.0)]\n",
      "Timeslice Index: 45, Max Value: 22.0, Locations: [(324500.0, -75500.0)]\n",
      "Timeslice Index: 46, Max Value: 41.0625, Locations: [(524500.0, 69500.0)]\n",
      "Timeslice Index: 47, Max Value: 16.59375, Locations: [(492500.0, 451500.0)]\n",
      "Timeslice Index: 48, Max Value: 24.96875, Locations: [(82500.0, 474500.0)]\n",
      "Timeslice Index: 49, Max Value: 1023.96875, Locations: [(83500.0, 474500.0)]\n",
      "Timeslice Index: 50, Max Value: 22.125, Locations: [(95500.0, 456500.0)]\n",
      "Timeslice Index: 51, Max Value: 23.875, Locations: [(524500.0, 69500.0)]\n",
      "Timeslice Index: 52, Max Value: 48.78125, Locations: [(524500.0, 69500.0)]\n",
      "Timeslice Index: 53, Max Value: 42.625, Locations: [(523500.0, 69500.0)]\n",
      "Timeslice Index: 54, Max Value: 19.03125, Locations: [(84500.0, 472500.0)]\n",
      "Timeslice Index: 55, Max Value: 13.5, Locations: [(462500.0, 516500.0)]\n",
      "Timeslice Index: 56, Max Value: 43.875, Locations: [(458500.0, 295500.0)]\n",
      "Timeslice Index: 57, Max Value: 28.625, Locations: [(456500.0, 296500.0)]\n",
      "Timeslice Index: 58, Max Value: 47.53125, Locations: [(455500.0, 298500.0)]\n",
      "Timeslice Index: 59, Max Value: 19.5, Locations: [(448500.0, 322500.0)]\n",
      "Timeslice Index: 60, Max Value: 23.5, Locations: [(431500.0, 526500.0)]\n",
      "Timeslice Index: 61, Max Value: 129.09375, Locations: [(389500.0, 166500.0)]\n",
      "Timeslice Index: 62, Max Value: 32.125, Locations: [(425500.0, 530500.0)]\n",
      "Timeslice Index: 63, Max Value: 38.75, Locations: [(452500.0, 329500.0)]\n",
      "Timeslice Index: 64, Max Value: 41.0, Locations: [(452500.0, 329500.0)]\n",
      "Timeslice Index: 65, Max Value: 29.75, Locations: [(428500.0, 539500.0)]\n",
      "Timeslice Index: 66, Max Value: 27.71875, Locations: [(293500.0, -24500.0)]\n",
      "Timeslice Index: 67, Max Value: 27.25, Locations: [(430500.0, 532500.0)]\n",
      "Timeslice Index: 68, Max Value: 37.75, Locations: [(524500.0, 69500.0)]\n",
      "Timeslice Index: 69, Max Value: 20.15625, Locations: [(485500.0, 413500.0)]\n",
      "Timeslice Index: 70, Max Value: 24.84375, Locations: [(286500.0, -52500.0)]\n",
      "Timeslice Index: 71, Max Value: 46.875, Locations: [(449500.0, 324500.0)]\n",
      "Timeslice Index: 72, Max Value: 22.46875, Locations: [(294500.0, -36500.0)]\n",
      "Timeslice Index: 73, Max Value: 20.09375, Locations: [(432500.0, 538500.0)]\n",
      "Timeslice Index: 74, Max Value: 23.75, Locations: [(286500.0, -52500.0)]\n",
      "Timeslice Index: 75, Max Value: 21.34375, Locations: [(473500.0, 117500.0)]\n",
      "Timeslice Index: 76, Max Value: 25.1875, Locations: [(388500.0, 157500.0)]\n",
      "Timeslice Index: 77, Max Value: 119.3125, Locations: [(324500.0, 453500.0)]\n",
      "Timeslice Index: 78, Max Value: 30.46875, Locations: [(524500.0, 69500.0)]\n",
      "Timeslice Index: 79, Max Value: 18.15625, Locations: [(291500.0, -44500.0)]\n",
      "Timeslice Index: 80, Max Value: 28.0625, Locations: [(688500.0, 269500.0)]\n",
      "Timeslice Index: 81, Max Value: 27.65625, Locations: [(688500.0, 269500.0)]\n",
      "Timeslice Index: 82, Max Value: 19.59375, Locations: [(290500.0, -38500.0)]\n",
      "Timeslice Index: 83, Max Value: 15.15625, Locations: [(450500.0, 412500.0)]\n",
      "Timeslice Index: 84, Max Value: 17.625, Locations: [(448500.0, 418500.0)]\n",
      "Timeslice Index: 85, Max Value: 17.4375, Locations: [(447500.0, 412500.0)]\n",
      "Timeslice Index: 86, Max Value: 32.40625, Locations: [(448500.0, 411500.0)]\n",
      "Timeslice Index: 87, Max Value: 29.53125, Locations: [(450500.0, 410500.0)]\n",
      "Timeslice Index: 88, Max Value: 40.46875, Locations: [(449500.0, 410500.0)]\n",
      "Timeslice Index: 89, Max Value: 53.65625, Locations: [(449500.0, 410500.0)]\n",
      "Timeslice Index: 90, Max Value: 56.28125, Locations: [(450500.0, 410500.0)]\n",
      "Timeslice Index: 91, Max Value: 40.28125, Locations: [(687500.0, 269500.0)]\n",
      "Timeslice Index: 92, Max Value: 28.84375, Locations: [(449500.0, 411500.0)]\n",
      "Timeslice Index: 93, Max Value: 55.71875, Locations: [(88500.0, 473500.0)]\n",
      "Timeslice Index: 94, Max Value: 44.46875, Locations: [(524500.0, 69500.0)]\n",
      "Timeslice Index: 95, Max Value: 1023.96875, Locations: [(800500.0, 242500.0), (805500.0, 242500.0)]\n",
      "Timeslice Index: 96, Max Value: 1023.96875, Locations: [(711500.0, 269500.0), (711500.0, 270500.0)]\n",
      "Timeslice Index: 97, Max Value: 32.5, Locations: [(524500.0, 69500.0)]\n",
      "Timeslice Index: 98, Max Value: 91.78125, Locations: [(519500.0, 116500.0)]\n",
      "Timeslice Index: 99, Max Value: 59.03125, Locations: [(518500.0, 117500.0)]\n",
      "Timeslice Index: 100, Max Value: 64.78125, Locations: [(387500.0, 157500.0)]\n",
      "Timeslice Index: 101, Max Value: 109.84375, Locations: [(387500.0, 160500.0)]\n",
      "Timeslice Index: 102, Max Value: 39.84375, Locations: [(386500.0, 162500.0)]\n",
      "Timeslice Index: 103, Max Value: 273.34375, Locations: [(386500.0, 157500.0)]\n",
      "Timeslice Index: 104, Max Value: 514.28125, Locations: [(387500.0, 159500.0)]\n",
      "Timeslice Index: 105, Max Value: 1023.96875, Locations: [(386500.0, 162500.0)]\n",
      "Timeslice Index: 106, Max Value: 471.71875, Locations: [(386500.0, 164500.0)]\n",
      "Timeslice Index: 107, Max Value: 79.28125, Locations: [(433500.0, 153500.0)]\n",
      "Timeslice Index: 108, Max Value: 59.28125, Locations: [(436500.0, 155500.0)]\n",
      "Timeslice Index: 109, Max Value: 32.0, Locations: [(439500.0, 156500.0)]\n",
      "Timeslice Index: 110, Max Value: 22.375, Locations: [(432500.0, 498500.0)]\n",
      "Timeslice Index: 111, Max Value: 32.625, Locations: [(524500.0, 69500.0)]\n",
      "Timeslice Index: 112, Max Value: 27.34375, Locations: [(524500.0, 69500.0)]\n",
      "Timeslice Index: 113, Max Value: 22.40625, Locations: [(523500.0, 69500.0)]\n",
      "Timeslice Index: 114, Max Value: 46.53125, Locations: [(524500.0, 69500.0)]\n",
      "Timeslice Index: 115, Max Value: 45.65625, Locations: [(524500.0, 69500.0)]\n",
      "Timeslice Index: 116, Max Value: 18.84375, Locations: [(524500.0, 69500.0)]\n",
      "Timeslice Index: 117, Max Value: 21.5, Locations: [(255500.0, -91500.0)]\n",
      "Timeslice Index: 118, Max Value: 37.28125, Locations: [(286500.0, -52500.0)]\n",
      "Timeslice Index: 119, Max Value: 27.15625, Locations: [(524500.0, 69500.0)]\n",
      "Timeslice Index: 120, Max Value: 30.03125, Locations: [(257500.0, -91500.0)]\n",
      "Timeslice Index: 121, Max Value: 15.15625, Locations: [(241500.0, 28500.0), (242500.0, 29500.0)]\n",
      "Timeslice Index: 122, Max Value: 48.25, Locations: [(524500.0, 69500.0)]\n",
      "Timeslice Index: 123, Max Value: 21.71875, Locations: [(239500.0, 30500.0), (240500.0, 31500.0)]\n",
      "Timeslice Index: 124, Max Value: 47.625, Locations: [(524500.0, 69500.0)]\n",
      "Timeslice Index: 125, Max Value: 37.4375, Locations: [(97500.0, 448500.0)]\n",
      "Timeslice Index: 126, Max Value: 39.75, Locations: [(524500.0, 69500.0)]\n",
      "Timeslice Index: 127, Max Value: 17.9375, Locations: [(447500.0, 395500.0)]\n",
      "Timeslice Index: 128, Max Value: 26.125, Locations: [(233500.0, 33500.0), (234500.0, 34500.0)]\n",
      "Timeslice Index: 129, Max Value: 23.46875, Locations: [(231500.0, 31500.0), (232500.0, 32500.0)]\n",
      "Timeslice Index: 130, Max Value: 22.625, Locations: [(229500.0, 34500.0)]\n",
      "Timeslice Index: 131, Max Value: 23.21875, Locations: [(229500.0, 35500.0)]\n",
      "Timeslice Index: 132, Max Value: 55.6875, Locations: [(523500.0, 69500.0)]\n",
      "Timeslice Index: 133, Max Value: 76.4375, Locations: [(520500.0, 113500.0)]\n",
      "Timeslice Index: 134, Max Value: 92.40625, Locations: [(100500.0, 450500.0)]\n",
      "Timeslice Index: 135, Max Value: 31.40625, Locations: [(224500.0, 38500.0), (225500.0, 39500.0)]\n",
      "Timeslice Index: 136, Max Value: 30.78125, Locations: [(224500.0, 38500.0), (225500.0, 39500.0)]\n",
      "Timeslice Index: 137, Max Value: 35.8125, Locations: [(528500.0, 75500.0)]\n",
      "Timeslice Index: 138, Max Value: 22.28125, Locations: [(523500.0, 69500.0)]\n",
      "Timeslice Index: 139, Max Value: 25.03125, Locations: [(218500.0, 40500.0), (219500.0, 41500.0)]\n",
      "Timeslice Index: 140, Max Value: 18.90625, Locations: [(216500.0, 43500.0)]\n",
      "Timeslice Index: 141, Max Value: 35.4375, Locations: [(96500.0, 459500.0)]\n",
      "Timeslice Index: 142, Max Value: 25.6875, Locations: [(216500.0, 43500.0)]\n",
      "Timeslice Index: 143, Max Value: 43.34375, Locations: [(524500.0, 69500.0)]\n",
      "Timeslice Index: 144, Max Value: 84.9375, Locations: [(116500.0, 452500.0)]\n",
      "Timeslice Index: 145, Max Value: 53.03125, Locations: [(92500.0, 470500.0)]\n",
      "Timeslice Index: 146, Max Value: 42.90625, Locations: [(524500.0, 69500.0)]\n",
      "Timeslice Index: 147, Max Value: 48.3125, Locations: [(148500.0, 433500.0)]\n",
      "Timeslice Index: 148, Max Value: 239.21875, Locations: [(89500.0, 474500.0)]\n",
      "Timeslice Index: 149, Max Value: 22.5, Locations: [(159500.0, 455500.0)]\n",
      "Timeslice Index: 150, Max Value: 88.96875, Locations: [(128500.0, 544500.0)]\n",
      "Timeslice Index: 151, Max Value: 50.125, Locations: [(153500.0, 443500.0)]\n",
      "Timeslice Index: 152, Max Value: 31.90625, Locations: [(524500.0, 69500.0)]\n",
      "Timeslice Index: 153, Max Value: 48.15625, Locations: [(524500.0, 69500.0)]\n",
      "Timeslice Index: 154, Max Value: 23.0625, Locations: [(156500.0, 450500.0)]\n",
      "Timeslice Index: 155, Max Value: 53.34375, Locations: [(159500.0, 452500.0)]\n",
      "Timeslice Index: 156, Max Value: 40.84375, Locations: [(146500.0, 477500.0)]\n",
      "Timeslice Index: 157, Max Value: 29.75, Locations: [(147500.0, 479500.0)]\n",
      "Timeslice Index: 158, Max Value: 32.71875, Locations: [(148500.0, 482500.0)]\n",
      "Timeslice Index: 159, Max Value: 43.375, Locations: [(524500.0, 69500.0)]\n",
      "Timeslice Index: 160, Max Value: 21.21875, Locations: [(180500.0, 445500.0)]\n",
      "Timeslice Index: 161, Max Value: 49.25, Locations: [(524500.0, 69500.0)]\n",
      "Timeslice Index: 162, Max Value: 33.59375, Locations: [(529500.0, 75500.0)]\n",
      "Timeslice Index: 163, Max Value: 28.78125, Locations: [(157500.0, 430500.0)]\n",
      "Timeslice Index: 164, Max Value: 127.03125, Locations: [(452500.0, 330500.0)]\n",
      "Timeslice Index: 165, Max Value: 53.4375, Locations: [(167500.0, 447500.0)]\n",
      "Timeslice Index: 166, Max Value: 51.59375, Locations: [(524500.0, 69500.0)]\n",
      "Timeslice Index: 167, Max Value: 52.65625, Locations: [(154500.0, 448500.0)]\n",
      "Timeslice Index: 168, Max Value: 34.625, Locations: [(524500.0, 69500.0)]\n",
      "Timeslice Index: 169, Max Value: 63.5625, Locations: [(156500.0, 452500.0)]\n",
      "Timeslice Index: 170, Max Value: 52.0625, Locations: [(157500.0, 454500.0)]\n",
      "Timeslice Index: 171, Max Value: 31.09375, Locations: [(151500.0, 504500.0)]\n",
      "Timeslice Index: 172, Max Value: 19.0625, Locations: [(165500.0, 455500.0)]\n",
      "Timeslice Index: 173, Max Value: 27.34375, Locations: [(159500.0, 484500.0)]\n",
      "Timeslice Index: 174, Max Value: 38.59375, Locations: [(158500.0, 485500.0)]\n",
      "Timeslice Index: 175, Max Value: 156.28125, Locations: [(217500.0, 500500.0)]\n",
      "Timeslice Index: 176, Max Value: 34.28125, Locations: [(524500.0, 69500.0)]\n",
      "Timeslice Index: 177, Max Value: 67.71875, Locations: [(387500.0, 157500.0)]\n",
      "Timeslice Index: 178, Max Value: 48.25, Locations: [(190500.0, 400500.0)]\n",
      "Timeslice Index: 179, Max Value: 30.9375, Locations: [(191500.0, 401500.0)]\n",
      "Timeslice Index: 180, Max Value: 35.0625, Locations: [(194500.0, 406500.0)]\n",
      "Timeslice Index: 181, Max Value: 32.59375, Locations: [(163500.0, 160500.0)]\n",
      "Timeslice Index: 182, Max Value: 91.59375, Locations: [(387500.0, 156500.0)]\n",
      "Timeslice Index: 183, Max Value: 31.875, Locations: [(191500.0, 424500.0)]\n",
      "Timeslice Index: 184, Max Value: 28.65625, Locations: [(159500.0, 158500.0)]\n",
      "Timeslice Index: 185, Max Value: 32.59375, Locations: [(156500.0, 162500.0), (157500.0, 163500.0)]\n",
      "Timeslice Index: 186, Max Value: 46.25, Locations: [(190500.0, 436500.0)]\n",
      "Timeslice Index: 187, Max Value: 32.78125, Locations: [(372500.0, 110500.0)]\n",
      "Timeslice Index: 188, Max Value: 31.65625, Locations: [(162500.0, 512500.0)]\n",
      "Timeslice Index: 189, Max Value: 41.6875, Locations: [(372500.0, 110500.0)]\n",
      "Timeslice Index: 190, Max Value: 26.75, Locations: [(426500.0, 110500.0)]\n",
      "Timeslice Index: 191, Max Value: 25.0, Locations: [(164500.0, 519500.0)]\n",
      "Timeslice Index: 192, Max Value: 28.40625, Locations: [(163500.0, 522500.0)]\n",
      "Timeslice Index: 193, Max Value: 39.03125, Locations: [(306500.0, -63500.0)]\n",
      "Timeslice Index: 194, Max Value: 79.9375, Locations: [(520500.0, 113500.0)]\n",
      "Timeslice Index: 195, Max Value: 24.84375, Locations: [(168500.0, 527500.0)]\n",
      "Timeslice Index: 196, Max Value: 45.5, Locations: [(386500.0, 158500.0)]\n",
      "Timeslice Index: 197, Max Value: 196.75, Locations: [(386500.0, 161500.0)]\n",
      "Timeslice Index: 198, Max Value: 109.375, Locations: [(386500.0, 164500.0)]\n",
      "Timeslice Index: 199, Max Value: 38.125, Locations: [(386500.0, 167500.0)]\n",
      "Timeslice Index: 200, Max Value: 70.46875, Locations: [(142500.0, 512500.0)]\n",
      "Timeslice Index: 201, Max Value: 40.125, Locations: [(177500.0, 365500.0)]\n",
      "Timeslice Index: 202, Max Value: 100.8125, Locations: [(365500.0, 122500.0)]\n",
      "Timeslice Index: 203, Max Value: 40.78125, Locations: [(178500.0, 369500.0)]\n",
      "Timeslice Index: 204, Max Value: 49.21875, Locations: [(179500.0, 371500.0)]\n",
      "Timeslice Index: 205, Max Value: 48.34375, Locations: [(179500.0, 373500.0)]\n",
      "Timeslice Index: 206, Max Value: 63.4375, Locations: [(181500.0, 376500.0)]\n",
      "Timeslice Index: 207, Max Value: 34.46875, Locations: [(182500.0, 378500.0)]\n",
      "Timeslice Index: 208, Max Value: 32.0, Locations: [(372500.0, 110500.0)]\n",
      "Timeslice Index: 209, Max Value: 42.84375, Locations: [(210500.0, 484500.0)]\n",
      "Timeslice Index: 210, Max Value: 36.34375, Locations: [(212500.0, 485500.0)]\n",
      "Timeslice Index: 211, Max Value: 31.75, Locations: [(133500.0, 300500.0)]\n",
      "Timeslice Index: 212, Max Value: 128.375, Locations: [(136500.0, 513500.0)]\n",
      "Timeslice Index: 213, Max Value: 36.71875, Locations: [(194500.0, 388500.0)]\n",
      "Timeslice Index: 214, Max Value: 39.5625, Locations: [(124500.0, 305500.0)]\n",
      "Timeslice Index: 215, Max Value: 45.28125, Locations: [(192500.0, 393500.0)]\n",
      "Timeslice Index: 216, Max Value: 41.71875, Locations: [(194500.0, 395500.0)]\n",
      "Timeslice Index: 217, Max Value: 51.4375, Locations: [(124500.0, 305500.0)]\n",
      "Timeslice Index: 218, Max Value: 57.21875, Locations: [(408500.0, 308500.0)]\n",
      "Timeslice Index: 219, Max Value: 36.5, Locations: [(189500.0, 400500.0)]\n",
      "Timeslice Index: 220, Max Value: 33.3125, Locations: [(126500.0, 332500.0)]\n",
      "Timeslice Index: 221, Max Value: 36.21875, Locations: [(408500.0, 308500.0)]\n",
      "Timeslice Index: 222, Max Value: 43.78125, Locations: [(115500.0, 325500.0)]\n",
      "Timeslice Index: 223, Max Value: 37.375, Locations: [(175500.0, 496500.0)]\n",
      "Timeslice Index: 224, Max Value: 35.75, Locations: [(172500.0, 399500.0)]\n",
      "Timeslice Index: 225, Max Value: 55.84375, Locations: [(541500.0, 499500.0)]\n",
      "Timeslice Index: 226, Max Value: 29.75, Locations: [(225500.0, 469500.0)]\n",
      "Timeslice Index: 227, Max Value: 27.25, Locations: [(218500.0, 483500.0)]\n",
      "Timeslice Index: 228, Max Value: 48.25, Locations: [(136500.0, 512500.0)]\n",
      "Timeslice Index: 229, Max Value: 26.5, Locations: [(160500.0, 401500.0)]\n",
      "Timeslice Index: 230, Max Value: 51.5, Locations: [(309500.0, -87500.0)]\n",
      "Timeslice Index: 231, Max Value: 24.3125, Locations: [(163500.0, 407500.0)]\n",
      "Timeslice Index: 232, Max Value: 184.65625, Locations: [(144500.0, 519500.0)]\n",
      "Timeslice Index: 233, Max Value: 81.78125, Locations: [(175500.0, 500500.0)]\n",
      "Timeslice Index: 234, Max Value: 65.6875, Locations: [(137500.0, 516500.0)]\n",
      "Timeslice Index: 235, Max Value: 66.96875, Locations: [(168500.0, 508500.0)]\n",
      "Timeslice Index: 236, Max Value: 22.71875, Locations: [(218500.0, 486500.0)]\n",
      "Timeslice Index: 237, Max Value: 23.53125, Locations: [(451500.0, 328500.0)]\n",
      "Timeslice Index: 238, Max Value: 21.21875, Locations: [(225500.0, 489500.0)]\n",
      "Timeslice Index: 239, Max Value: 28.0, Locations: [(125500.0, 384500.0)]\n",
      "Timeslice Index: 240, Max Value: 23.1875, Locations: [(126500.0, 387500.0)]\n",
      "Timeslice Index: 241, Max Value: 26.875, Locations: [(247500.0, 458500.0)]\n",
      "Timeslice Index: 242, Max Value: 21.875, Locations: [(87500.0, 387500.0)]\n",
      "Timeslice Index: 243, Max Value: 22.40625, Locations: [(88500.0, 390500.0)]\n",
      "Timeslice Index: 244, Max Value: 23.375, Locations: [(87500.0, 395500.0)]\n",
      "Timeslice Index: 245, Max Value: 299.53125, Locations: [(180500.0, 517500.0)]\n",
      "Timeslice Index: 246, Max Value: 33.3125, Locations: [(138500.0, 522500.0)]\n",
      "Timeslice Index: 247, Max Value: 24.5, Locations: [(89500.0, 410500.0)]\n",
      "Timeslice Index: 248, Max Value: 89.625, Locations: [(180500.0, 517500.0)]\n",
      "Timeslice Index: 249, Max Value: 26.125, Locations: [(217500.0, 500500.0)]\n",
      "Timeslice Index: 250, Max Value: 32.8125, Locations: [(92500.0, 466500.0)]\n",
      "Timeslice Index: 251, Max Value: 1023.96875, Locations: [(95500.0, 457500.0), (95500.0, 458500.0)]\n",
      "Timeslice Index: 252, Max Value: 114.0625, Locations: [(95500.0, 459500.0)]\n",
      "Timeslice Index: 253, Max Value: 458.75, Locations: [(83500.0, 474500.0)]\n",
      "Timeslice Index: 254, Max Value: 357.3125, Locations: [(84500.0, 474500.0)]\n",
      "Timeslice Index: 255, Max Value: 303.375, Locations: [(95500.0, 460500.0)]\n",
      "Timeslice Index: 256, Max Value: 161.21875, Locations: [(92500.0, 468500.0)]\n",
      "Timeslice Index: 257, Max Value: 204.0, Locations: [(91500.0, 470500.0)]\n",
      "Timeslice Index: 258, Max Value: 237.40625, Locations: [(388500.0, 160500.0)]\n",
      "Timeslice Index: 259, Max Value: 183.71875, Locations: [(92500.0, 467500.0)]\n",
      "Timeslice Index: 260, Max Value: 157.34375, Locations: [(88500.0, 472500.0)]\n",
      "Timeslice Index: 261, Max Value: 507.09375, Locations: [(88500.0, 467500.0)]\n",
      "Timeslice Index: 262, Max Value: 204.875, Locations: [(95500.0, 459500.0)]\n",
      "Timeslice Index: 263, Max Value: 80.9375, Locations: [(95500.0, 457500.0)]\n",
      "Timeslice Index: 264, Max Value: 170.375, Locations: [(83500.0, 472500.0)]\n",
      "Timeslice Index: 265, Max Value: 33.125, Locations: [(-259500.0, 477500.0)]\n",
      "Timeslice Index: 266, Max Value: 73.9375, Locations: [(82500.0, 479500.0)]\n",
      "Timeslice Index: 267, Max Value: 23.03125, Locations: [(81500.0, 480500.0)]\n",
      "Timeslice Index: 268, Max Value: 95.28125, Locations: [(95500.0, 459500.0)]\n",
      "Timeslice Index: 269, Max Value: 18.53125, Locations: [(372500.0, 110500.0)]\n",
      "Timeslice Index: 270, Max Value: 22.46875, Locations: [(89500.0, 470500.0)]\n",
      "Timeslice Index: 271, Max Value: 76.375, Locations: [(97500.0, 457500.0)]\n",
      "Timeslice Index: 272, Max Value: 14.53125, Locations: [(379500.0, 69500.0)]\n",
      "Timeslice Index: 273, Max Value: 31.53125, Locations: [(-88500.0, 340500.0)]\n",
      "Timeslice Index: 274, Max Value: 19.9375, Locations: [(89500.0, 472500.0)]\n",
      "Timeslice Index: 275, Max Value: 13.8125, Locations: [(372500.0, 110500.0)]\n",
      "Timeslice Index: 276, Max Value: 17.625, Locations: [(372500.0, 110500.0)]\n",
      "Timeslice Index: 277, Max Value: 67.25, Locations: [(84500.0, 477500.0)]\n",
      "Timeslice Index: 278, Max Value: 121.5, Locations: [(81500.0, 478500.0)]\n",
      "Timeslice Index: 279, Max Value: 40.1875, Locations: [(426500.0, 110500.0)]\n",
      "Timeslice Index: 280, Max Value: 41.6875, Locations: [(324500.0, -24500.0)]\n",
      "Timeslice Index: 281, Max Value: 466.40625, Locations: [(86500.0, 471500.0)]\n",
      "Timeslice Index: 282, Max Value: 847.78125, Locations: [(95500.0, 457500.0)]\n",
      "Timeslice Index: 283, Max Value: 35.59375, Locations: [(405500.0, 304500.0)]\n",
      "Timeslice Index: 284, Max Value: 14.15625, Locations: [(407500.0, 301500.0)]\n",
      "Timeslice Index: 285, Max Value: 52.625, Locations: [(426500.0, 110500.0)]\n",
      "Timeslice Index: 286, Max Value: 13.1875, Locations: [(542500.0, 436500.0)]\n",
      "Timeslice Index: 287, Max Value: 42.34375, Locations: [(542500.0, 435500.0)]\n"
     ]
    }
   ],
   "source": [
    "# Example usage\n",
    "max_values_and_all_locations = find_all_max_locations_in_timeslices(day_cube)\n",
    "for result in max_values_and_all_locations:\n",
    "    print(f\"Timeslice Index: {result[0]}, Max Value: {result[1]}, Locations: {result[2]}\")"
   ]
  },
  {
   "cell_type": "code",
   "execution_count": null,
   "id": "afbcb9a8",
   "metadata": {},
   "outputs": [],
   "source": [
    "# # day_cube#95500.0, 457500.0\n",
    "# # day_cube[day_cube['projection_coordinate'] == 95500]\n",
    "\n",
    "# y_constraint = iris.Constraint(projection_y_coordinate=lambda y: y == 95500.0)\n",
    "# x_constraint = iris.Constraint(projection_x_coordinate=lambda x: x == 457500.0)\n",
    "\n",
    "# constrained_cube = day_cube.extract(y_constraint & x_constraint)\n",
    "\n",
    "# # Flatten the data to a one-dimensional array\n",
    "# data_flat = constrained_cube.data.flatten()\n",
    "\n",
    "# # Sort the data in descending order\n",
    "# data_sorted_desc = np.sort(data_flat)[::-1]\n",
    "\n",
    "# # Print the sorted data\n",
    "# print(data_sorted_desc)\n"
   ]
  },
  {
   "cell_type": "code",
   "execution_count": 8,
   "id": "5a10ae7d",
   "metadata": {},
   "outputs": [],
   "source": [
    "# for entry in max_values_and_all_locations:\n",
    "#     if entry[1] == global_max_value:\n",
    "#         print(f\"Timeslice Index: {entry[0]}, Max Value: {entry[1]}, Location: (Lat: {entry[2]}, Lon: {entry[3]})\")"
   ]
  },
  {
   "cell_type": "markdown",
   "id": "3484258c",
   "metadata": {},
   "source": [
    "# Part 2: find cells where there are lots of high values"
   ]
  },
  {
   "cell_type": "code",
   "execution_count": 123,
   "id": "decdb020",
   "metadata": {},
   "outputs": [
    {
     "name": "stderr",
     "output_type": "stream",
     "text": [
      "/nfs/a321/gy17m2a/anaconda_install/anaconda3/envs/ukcp18/lib/python3.7/site-packages/iris/coords.py:1982: UserWarning: Collapsing a non-contiguous coordinate. Metadata may not be fully descriptive for 'time'.\n",
      "  warnings.warn(msg.format(self.name()))\n",
      "/nfs/a321/gy17m2a/anaconda_install/anaconda3/envs/ukcp18/lib/python3.7/site-packages/iris/coords.py:1982: UserWarning: Collapsing a non-contiguous coordinate. Metadata may not be fully descriptive for 'forecast_reference_time'.\n",
      "  warnings.warn(msg.format(self.name()))\n"
     ]
    }
   ],
   "source": [
    "import iris\n",
    "import glob\n",
    "import numpy as np\n",
    "from scipy import stats\n",
    "\n",
    "# Define the directory and create a sorted list of file paths\n",
    "year = 2012\n",
    "radardir = f'/nfs/a161/gy17m2a/PhD/datadir/NIMROD/5mins/OriginalFormat_1km/{year}/'\n",
    "file_list = glob.glob(radardir + \"*.nc\")\n",
    "sorted_list = sorted(file_list)\n",
    "\n",
    "# Load the cubes\n",
    "cubes = iris.load(sorted_list[:30])\n",
    "\n",
    "# Concatenate into a single cube\n",
    "monthly_cube = cubes.concatenate_cube()\n",
    "\n",
    "# Assuming the time dimension is the first dimension\n",
    "summed_cube = monthly_cube.collapsed('time', iris.analysis.SUM)"
   ]
  },
  {
   "cell_type": "code",
   "execution_count": null,
   "id": "ddc5f8cb",
   "metadata": {},
   "outputs": [],
   "source": [
    "# cubes = iris.load(sorted_list)\n",
    "# yearly_cube = cubes.concatenate_cube()"
   ]
  },
  {
   "cell_type": "markdown",
   "id": "6388a0d3",
   "metadata": {},
   "source": [
    "### Sum over time"
   ]
  },
  {
   "cell_type": "markdown",
   "id": "52e76dd5",
   "metadata": {},
   "source": [
    "### Load data and concatenate"
   ]
  },
  {
   "cell_type": "code",
   "execution_count": 22,
   "id": "beb64acf",
   "metadata": {},
   "outputs": [
    {
     "data": {
      "text/plain": [
       "0.0"
      ]
     },
     "execution_count": 22,
     "metadata": {},
     "output_type": "execute_result"
    }
   ],
   "source": [
    "# np.nanmin(monthly_cube.data)\n",
    "test = monthly_cube[2,:,:]\n",
    "np.nanmin(test.data)"
   ]
  },
  {
   "cell_type": "code",
   "execution_count": 7,
   "id": "86a52c1e",
   "metadata": {},
   "outputs": [
    {
     "name": "stderr",
     "output_type": "stream",
     "text": [
      "/nfs/a321/gy17m2a/anaconda_install/anaconda3/envs/ukcp18/lib/python3.7/site-packages/iris/coords.py:1982: UserWarning: Collapsing a non-contiguous coordinate. Metadata may not be fully descriptive for 'time'.\n",
      "  warnings.warn(msg.format(self.name()))\n",
      "/nfs/a321/gy17m2a/anaconda_install/anaconda3/envs/ukcp18/lib/python3.7/site-packages/iris/coords.py:1982: UserWarning: Collapsing a non-contiguous coordinate. Metadata may not be fully descriptive for 'forecast_reference_time'.\n",
      "  warnings.warn(msg.format(self.name()))\n"
     ]
    }
   ],
   "source": [
    "# Assuming the time dimension is the first dimension\n",
    "accumulated_cube = monthly_cube.collapsed('time', iris.analysis.SUM)"
   ]
  },
  {
   "cell_type": "code",
   "execution_count": 56,
   "id": "e201ae9b",
   "metadata": {},
   "outputs": [],
   "source": [
    "# accum_data_flat = accumulated_cube.data.flatten()"
   ]
  },
  {
   "cell_type": "code",
   "execution_count": 60,
   "id": "e35b7375",
   "metadata": {},
   "outputs": [
    {
     "data": {
      "text/plain": [
       "array([179373.12 , 143786.06 ,  97689.25 ,  87672.53 ,  76027.03 ,\n",
       "        76000.09 ,  72193.91 ,  65293.25 ,  65148.156,  61023.656,\n",
       "        55669.97 ,  53700.78 ,  52444.   ,  52325.625,  52325.03 ,\n",
       "        45329.156,  44527.78 ,  44190.438,  44075.812,  36364.938,\n",
       "        31203.188,  31119.844,  30162.156,  29983.25 ,  29225.   ,\n",
       "        28448.438,  26905.   ,  26678.281,  26105.031,  26038.062],\n",
       "      dtype=float32)"
      ]
     },
     "execution_count": 60,
     "metadata": {},
     "output_type": "execute_result"
    }
   ],
   "source": [
    "data_sorted_desc = np.sort(accum_data_flat.data)[::-1]\n",
    "data_sorted_desc[:30]"
   ]
  },
  {
   "cell_type": "markdown",
   "id": "20ee21fb",
   "metadata": {},
   "source": [
    "### Find values over whole month at cells we know to have high values for one timeslice"
   ]
  },
  {
   "cell_type": "code",
   "execution_count": 65,
   "id": "b1402d4b",
   "metadata": {},
   "outputs": [
    {
     "name": "stdout",
     "output_type": "stream",
     "text": [
      "[1023.96875 1023.96875 1023.96875 ...    0.         0.         0.     ]\n"
     ]
    }
   ],
   "source": [
    "# day_cube#95500.0, 457500.0\n",
    "# day_cube[day_cube['projection_coordinate'] == 95500]\n",
    "\n",
    "y_constraint = iris.Constraint(projection_y_coordinate=lambda y: y == 86500.0)\n",
    "x_constraint = iris.Constraint(projection_x_coordinate=lambda x: x == 471500.0)\n",
    "constrained_cube2 = yearly_cube.extract(y_constraint & x_constraint)\n",
    "\n",
    "# Flatten the data to a one-dimensional array\n",
    "data2_flat = constrained_cube2.data.flatten()\n",
    "\n",
    "# Sort the data in descending order\n",
    "data_sorted_desc = np.sort(data_flat)[::-1]\n",
    "\n",
    "# Print the sorted data\n",
    "print(data_sorted_desc)"
   ]
  },
  {
   "cell_type": "code",
   "execution_count": 68,
   "id": "da08ed59",
   "metadata": {},
   "outputs": [
    {
     "data": {
      "text/html": [
       "<div>\n",
       "<style scoped>\n",
       "    .dataframe tbody tr th:only-of-type {\n",
       "        vertical-align: middle;\n",
       "    }\n",
       "\n",
       "    .dataframe tbody tr th {\n",
       "        vertical-align: top;\n",
       "    }\n",
       "\n",
       "    .dataframe thead th {\n",
       "        text-align: right;\n",
       "    }\n",
       "</style>\n",
       "<table border=\"1\" class=\"dataframe\">\n",
       "  <thead>\n",
       "    <tr style=\"text-align: right;\">\n",
       "      <th></th>\n",
       "      <th>data</th>\n",
       "      <th>index</th>\n",
       "    </tr>\n",
       "  </thead>\n",
       "  <tbody>\n",
       "    <tr>\n",
       "      <th>10067</th>\n",
       "      <td>1023.96875</td>\n",
       "      <td>10067</td>\n",
       "    </tr>\n",
       "    <tr>\n",
       "      <th>11765</th>\n",
       "      <td>555.68750</td>\n",
       "      <td>11765</td>\n",
       "    </tr>\n",
       "    <tr>\n",
       "      <th>13806</th>\n",
       "      <td>512.53125</td>\n",
       "      <td>13806</td>\n",
       "    </tr>\n",
       "    <tr>\n",
       "      <th>857</th>\n",
       "      <td>466.40625</td>\n",
       "      <td>857</td>\n",
       "    </tr>\n",
       "    <tr>\n",
       "      <th>23310</th>\n",
       "      <td>360.90625</td>\n",
       "      <td>23310</td>\n",
       "    </tr>\n",
       "    <tr>\n",
       "      <th>1706</th>\n",
       "      <td>353.43750</td>\n",
       "      <td>1706</td>\n",
       "    </tr>\n",
       "    <tr>\n",
       "      <th>10013</th>\n",
       "      <td>343.56250</td>\n",
       "      <td>10013</td>\n",
       "    </tr>\n",
       "    <tr>\n",
       "      <th>18477</th>\n",
       "      <td>307.75000</td>\n",
       "      <td>18477</td>\n",
       "    </tr>\n",
       "    <tr>\n",
       "      <th>387</th>\n",
       "      <td>293.84375</td>\n",
       "      <td>387</td>\n",
       "    </tr>\n",
       "    <tr>\n",
       "      <th>10638</th>\n",
       "      <td>219.31250</td>\n",
       "      <td>10638</td>\n",
       "    </tr>\n",
       "    <tr>\n",
       "      <th>18409</th>\n",
       "      <td>205.90625</td>\n",
       "      <td>18409</td>\n",
       "    </tr>\n",
       "    <tr>\n",
       "      <th>17551</th>\n",
       "      <td>195.15625</td>\n",
       "      <td>17551</td>\n",
       "    </tr>\n",
       "    <tr>\n",
       "      <th>19580</th>\n",
       "      <td>181.40625</td>\n",
       "      <td>19580</td>\n",
       "    </tr>\n",
       "    <tr>\n",
       "      <th>21072</th>\n",
       "      <td>177.18750</td>\n",
       "      <td>21072</td>\n",
       "    </tr>\n",
       "    <tr>\n",
       "      <th>12326</th>\n",
       "      <td>174.71875</td>\n",
       "      <td>12326</td>\n",
       "    </tr>\n",
       "    <tr>\n",
       "      <th>9023</th>\n",
       "      <td>171.34375</td>\n",
       "      <td>9023</td>\n",
       "    </tr>\n",
       "    <tr>\n",
       "      <th>21559</th>\n",
       "      <td>136.78125</td>\n",
       "      <td>21559</td>\n",
       "    </tr>\n",
       "    <tr>\n",
       "      <th>11574</th>\n",
       "      <td>121.81250</td>\n",
       "      <td>11574</td>\n",
       "    </tr>\n",
       "    <tr>\n",
       "      <th>17370</th>\n",
       "      <td>112.96875</td>\n",
       "      <td>17370</td>\n",
       "    </tr>\n",
       "    <tr>\n",
       "      <th>5935</th>\n",
       "      <td>112.00000</td>\n",
       "      <td>5935</td>\n",
       "    </tr>\n",
       "    <tr>\n",
       "      <th>11387</th>\n",
       "      <td>105.96875</td>\n",
       "      <td>11387</td>\n",
       "    </tr>\n",
       "    <tr>\n",
       "      <th>10078</th>\n",
       "      <td>104.84375</td>\n",
       "      <td>10078</td>\n",
       "    </tr>\n",
       "    <tr>\n",
       "      <th>25270</th>\n",
       "      <td>104.00000</td>\n",
       "      <td>25270</td>\n",
       "    </tr>\n",
       "    <tr>\n",
       "      <th>10219</th>\n",
       "      <td>98.78125</td>\n",
       "      <td>10219</td>\n",
       "    </tr>\n",
       "    <tr>\n",
       "      <th>11472</th>\n",
       "      <td>95.12500</td>\n",
       "      <td>11472</td>\n",
       "    </tr>\n",
       "    <tr>\n",
       "      <th>19466</th>\n",
       "      <td>89.53125</td>\n",
       "      <td>19466</td>\n",
       "    </tr>\n",
       "    <tr>\n",
       "      <th>561</th>\n",
       "      <td>83.75000</td>\n",
       "      <td>561</td>\n",
       "    </tr>\n",
       "    <tr>\n",
       "      <th>10077</th>\n",
       "      <td>83.34375</td>\n",
       "      <td>10077</td>\n",
       "    </tr>\n",
       "    <tr>\n",
       "      <th>3224</th>\n",
       "      <td>82.06250</td>\n",
       "      <td>3224</td>\n",
       "    </tr>\n",
       "    <tr>\n",
       "      <th>22017</th>\n",
       "      <td>77.90625</td>\n",
       "      <td>22017</td>\n",
       "    </tr>\n",
       "  </tbody>\n",
       "</table>\n",
       "</div>"
      ],
      "text/plain": [
       "             data  index\n",
       "10067  1023.96875  10067\n",
       "11765   555.68750  11765\n",
       "13806   512.53125  13806\n",
       "857     466.40625    857\n",
       "23310   360.90625  23310\n",
       "1706    353.43750   1706\n",
       "10013   343.56250  10013\n",
       "18477   307.75000  18477\n",
       "387     293.84375    387\n",
       "10638   219.31250  10638\n",
       "18409   205.90625  18409\n",
       "17551   195.15625  17551\n",
       "19580   181.40625  19580\n",
       "21072   177.18750  21072\n",
       "12326   174.71875  12326\n",
       "9023    171.34375   9023\n",
       "21559   136.78125  21559\n",
       "11574   121.81250  11574\n",
       "17370   112.96875  17370\n",
       "5935    112.00000   5935\n",
       "11387   105.96875  11387\n",
       "10078   104.84375  10078\n",
       "25270   104.00000  25270\n",
       "10219    98.78125  10219\n",
       "11472    95.12500  11472\n",
       "19466    89.53125  19466\n",
       "561      83.75000    561\n",
       "10077    83.34375  10077\n",
       "3224     82.06250   3224\n",
       "22017    77.90625  22017"
      ]
     },
     "execution_count": 68,
     "metadata": {},
     "output_type": "execute_result"
    }
   ],
   "source": [
    "test = pd.DataFrame({'data':data2_flat, 'index':range(0,len(data2_flat))})\n",
    "test.sort_values(by='data', ascending=False)[:30]"
   ]
  },
  {
   "cell_type": "code",
   "execution_count": 66,
   "id": "87dacc8d",
   "metadata": {},
   "outputs": [
    {
     "ename": "ValueError",
     "evalue": "All arrays must be of the same length",
     "output_type": "error",
     "traceback": [
      "\u001b[0;31m---------------------------------------------------------------------------\u001b[0m",
      "\u001b[0;31mValueError\u001b[0m                                Traceback (most recent call last)",
      "\u001b[0;32m/tmp/ipykernel_17099/550557573.py\u001b[0m in \u001b[0;36m<module>\u001b[0;34m\u001b[0m\n\u001b[0;32m----> 1\u001b[0;31m \u001b[0mtest\u001b[0m \u001b[0;34m=\u001b[0m \u001b[0mpd\u001b[0m\u001b[0;34m.\u001b[0m\u001b[0mDataFrame\u001b[0m\u001b[0;34m(\u001b[0m\u001b[0;34m{\u001b[0m\u001b[0;34m'data'\u001b[0m\u001b[0;34m:\u001b[0m\u001b[0mdata2_flat\u001b[0m\u001b[0;34m,\u001b[0m \u001b[0;34m'index'\u001b[0m\u001b[0;34m:\u001b[0m\u001b[0mrange\u001b[0m\u001b[0;34m(\u001b[0m\u001b[0;36m0\u001b[0m\u001b[0;34m,\u001b[0m\u001b[0mlen\u001b[0m\u001b[0;34m(\u001b[0m\u001b[0mdata_flat\u001b[0m\u001b[0;34m)\u001b[0m\u001b[0;34m)\u001b[0m\u001b[0;34m}\u001b[0m\u001b[0;34m)\u001b[0m\u001b[0;34m\u001b[0m\u001b[0;34m\u001b[0m\u001b[0m\n\u001b[0m\u001b[1;32m      2\u001b[0m \u001b[0mtest\u001b[0m\u001b[0;34m.\u001b[0m\u001b[0msort_values\u001b[0m\u001b[0;34m(\u001b[0m\u001b[0mby\u001b[0m\u001b[0;34m=\u001b[0m\u001b[0;34m'data'\u001b[0m\u001b[0;34m,\u001b[0m \u001b[0mascending\u001b[0m\u001b[0;34m=\u001b[0m\u001b[0;32mFalse\u001b[0m\u001b[0;34m)\u001b[0m\u001b[0;34m[\u001b[0m\u001b[0;34m:\u001b[0m\u001b[0;36m40\u001b[0m\u001b[0;34m]\u001b[0m\u001b[0;34m\u001b[0m\u001b[0;34m\u001b[0m\u001b[0m\n",
      "\u001b[0;32m/nfs/a321/gy17m2a/anaconda_install/anaconda3/envs/ukcp18/lib/python3.7/site-packages/pandas/core/frame.py\u001b[0m in \u001b[0;36m__init__\u001b[0;34m(self, data, index, columns, dtype, copy)\u001b[0m\n\u001b[1;32m    612\u001b[0m         \u001b[0;32melif\u001b[0m \u001b[0misinstance\u001b[0m\u001b[0;34m(\u001b[0m\u001b[0mdata\u001b[0m\u001b[0;34m,\u001b[0m \u001b[0mdict\u001b[0m\u001b[0;34m)\u001b[0m\u001b[0;34m:\u001b[0m\u001b[0;34m\u001b[0m\u001b[0;34m\u001b[0m\u001b[0m\n\u001b[1;32m    613\u001b[0m             \u001b[0;31m# GH#38939 de facto copy defaults to False only in non-dict cases\u001b[0m\u001b[0;34m\u001b[0m\u001b[0;34m\u001b[0m\u001b[0;34m\u001b[0m\u001b[0m\n\u001b[0;32m--> 614\u001b[0;31m             \u001b[0mmgr\u001b[0m \u001b[0;34m=\u001b[0m \u001b[0mdict_to_mgr\u001b[0m\u001b[0;34m(\u001b[0m\u001b[0mdata\u001b[0m\u001b[0;34m,\u001b[0m \u001b[0mindex\u001b[0m\u001b[0;34m,\u001b[0m \u001b[0mcolumns\u001b[0m\u001b[0;34m,\u001b[0m \u001b[0mdtype\u001b[0m\u001b[0;34m=\u001b[0m\u001b[0mdtype\u001b[0m\u001b[0;34m,\u001b[0m \u001b[0mcopy\u001b[0m\u001b[0;34m=\u001b[0m\u001b[0mcopy\u001b[0m\u001b[0;34m,\u001b[0m \u001b[0mtyp\u001b[0m\u001b[0;34m=\u001b[0m\u001b[0mmanager\u001b[0m\u001b[0;34m)\u001b[0m\u001b[0;34m\u001b[0m\u001b[0;34m\u001b[0m\u001b[0m\n\u001b[0m\u001b[1;32m    615\u001b[0m         \u001b[0;32melif\u001b[0m \u001b[0misinstance\u001b[0m\u001b[0;34m(\u001b[0m\u001b[0mdata\u001b[0m\u001b[0;34m,\u001b[0m \u001b[0mma\u001b[0m\u001b[0;34m.\u001b[0m\u001b[0mMaskedArray\u001b[0m\u001b[0;34m)\u001b[0m\u001b[0;34m:\u001b[0m\u001b[0;34m\u001b[0m\u001b[0;34m\u001b[0m\u001b[0m\n\u001b[1;32m    616\u001b[0m             \u001b[0;32mimport\u001b[0m \u001b[0mnumpy\u001b[0m\u001b[0;34m.\u001b[0m\u001b[0mma\u001b[0m\u001b[0;34m.\u001b[0m\u001b[0mmrecords\u001b[0m \u001b[0;32mas\u001b[0m \u001b[0mmrecords\u001b[0m\u001b[0;34m\u001b[0m\u001b[0;34m\u001b[0m\u001b[0m\n",
      "\u001b[0;32m/nfs/a321/gy17m2a/anaconda_install/anaconda3/envs/ukcp18/lib/python3.7/site-packages/pandas/core/internals/construction.py\u001b[0m in \u001b[0;36mdict_to_mgr\u001b[0;34m(data, index, columns, dtype, typ, copy)\u001b[0m\n\u001b[1;32m    463\u001b[0m \u001b[0;34m\u001b[0m\u001b[0m\n\u001b[1;32m    464\u001b[0m     return arrays_to_mgr(\n\u001b[0;32m--> 465\u001b[0;31m         \u001b[0marrays\u001b[0m\u001b[0;34m,\u001b[0m \u001b[0mdata_names\u001b[0m\u001b[0;34m,\u001b[0m \u001b[0mindex\u001b[0m\u001b[0;34m,\u001b[0m \u001b[0mcolumns\u001b[0m\u001b[0;34m,\u001b[0m \u001b[0mdtype\u001b[0m\u001b[0;34m=\u001b[0m\u001b[0mdtype\u001b[0m\u001b[0;34m,\u001b[0m \u001b[0mtyp\u001b[0m\u001b[0;34m=\u001b[0m\u001b[0mtyp\u001b[0m\u001b[0;34m,\u001b[0m \u001b[0mconsolidate\u001b[0m\u001b[0;34m=\u001b[0m\u001b[0mcopy\u001b[0m\u001b[0;34m\u001b[0m\u001b[0;34m\u001b[0m\u001b[0m\n\u001b[0m\u001b[1;32m    466\u001b[0m     )\n\u001b[1;32m    467\u001b[0m \u001b[0;34m\u001b[0m\u001b[0m\n",
      "\u001b[0;32m/nfs/a321/gy17m2a/anaconda_install/anaconda3/envs/ukcp18/lib/python3.7/site-packages/pandas/core/internals/construction.py\u001b[0m in \u001b[0;36marrays_to_mgr\u001b[0;34m(arrays, arr_names, index, columns, dtype, verify_integrity, typ, consolidate)\u001b[0m\n\u001b[1;32m    117\u001b[0m         \u001b[0;31m# figure out the index, if necessary\u001b[0m\u001b[0;34m\u001b[0m\u001b[0;34m\u001b[0m\u001b[0;34m\u001b[0m\u001b[0m\n\u001b[1;32m    118\u001b[0m         \u001b[0;32mif\u001b[0m \u001b[0mindex\u001b[0m \u001b[0;32mis\u001b[0m \u001b[0;32mNone\u001b[0m\u001b[0;34m:\u001b[0m\u001b[0;34m\u001b[0m\u001b[0;34m\u001b[0m\u001b[0m\n\u001b[0;32m--> 119\u001b[0;31m             \u001b[0mindex\u001b[0m \u001b[0;34m=\u001b[0m \u001b[0m_extract_index\u001b[0m\u001b[0;34m(\u001b[0m\u001b[0marrays\u001b[0m\u001b[0;34m)\u001b[0m\u001b[0;34m\u001b[0m\u001b[0;34m\u001b[0m\u001b[0m\n\u001b[0m\u001b[1;32m    120\u001b[0m         \u001b[0;32melse\u001b[0m\u001b[0;34m:\u001b[0m\u001b[0;34m\u001b[0m\u001b[0;34m\u001b[0m\u001b[0m\n\u001b[1;32m    121\u001b[0m             \u001b[0mindex\u001b[0m \u001b[0;34m=\u001b[0m \u001b[0mensure_index\u001b[0m\u001b[0;34m(\u001b[0m\u001b[0mindex\u001b[0m\u001b[0;34m)\u001b[0m\u001b[0;34m\u001b[0m\u001b[0;34m\u001b[0m\u001b[0m\n",
      "\u001b[0;32m/nfs/a321/gy17m2a/anaconda_install/anaconda3/envs/ukcp18/lib/python3.7/site-packages/pandas/core/internals/construction.py\u001b[0m in \u001b[0;36m_extract_index\u001b[0;34m(data)\u001b[0m\n\u001b[1;32m    633\u001b[0m             \u001b[0mlengths\u001b[0m \u001b[0;34m=\u001b[0m \u001b[0mlist\u001b[0m\u001b[0;34m(\u001b[0m\u001b[0mset\u001b[0m\u001b[0;34m(\u001b[0m\u001b[0mraw_lengths\u001b[0m\u001b[0;34m)\u001b[0m\u001b[0;34m)\u001b[0m\u001b[0;34m\u001b[0m\u001b[0;34m\u001b[0m\u001b[0m\n\u001b[1;32m    634\u001b[0m             \u001b[0;32mif\u001b[0m \u001b[0mlen\u001b[0m\u001b[0;34m(\u001b[0m\u001b[0mlengths\u001b[0m\u001b[0;34m)\u001b[0m \u001b[0;34m>\u001b[0m \u001b[0;36m1\u001b[0m\u001b[0;34m:\u001b[0m\u001b[0;34m\u001b[0m\u001b[0;34m\u001b[0m\u001b[0m\n\u001b[0;32m--> 635\u001b[0;31m                 \u001b[0;32mraise\u001b[0m \u001b[0mValueError\u001b[0m\u001b[0;34m(\u001b[0m\u001b[0;34m\"All arrays must be of the same length\"\u001b[0m\u001b[0;34m)\u001b[0m\u001b[0;34m\u001b[0m\u001b[0;34m\u001b[0m\u001b[0m\n\u001b[0m\u001b[1;32m    636\u001b[0m \u001b[0;34m\u001b[0m\u001b[0m\n\u001b[1;32m    637\u001b[0m             \u001b[0;32mif\u001b[0m \u001b[0mhave_dicts\u001b[0m\u001b[0;34m:\u001b[0m\u001b[0;34m\u001b[0m\u001b[0;34m\u001b[0m\u001b[0m\n",
      "\u001b[0;31mValueError\u001b[0m: All arrays must be of the same length"
     ]
    }
   ],
   "source": [
    "test = pd.DataFrame({'data':data2_flat, 'index':range(0,len(data_flat))})\n",
    "test.sort_values(by='data', ascending=False)[:40]"
   ]
  },
  {
   "cell_type": "markdown",
   "id": "8c6804ba",
   "metadata": {},
   "source": [
    "### Identify outlying values"
   ]
  },
  {
   "cell_type": "code",
   "execution_count": null,
   "id": "0d845f55",
   "metadata": {},
   "outputs": [],
   "source": [
    "import iris.quickplot as qplt\n",
    "import matplotlib.pyplot as plt\n",
    "import cartopy.crs as ccrs\n",
    "import numpy.ma as ma\n",
    "\n",
    "# Load data\n",
    "cube = accumulated_cube\n",
    "\n",
    "# Mask out zeros\n",
    "cube.data = ma.masked_equal(cube.data, 0)\n",
    "cube.data = np.ma.masked_where(cube.data < 25000, cube.data)\n",
    "\n",
    "# Plotting\n",
    "plt.figure(figsize=(20, 10))\n",
    "ax = plt.axes(projection=ccrs.PlateCarree())\n",
    "ax.set_extent([-10, 2, 49, 61], crs=ccrs.PlateCarree())  # Zoom in on the UK\n",
    "ax.coastlines()\n",
    "\n",
    "# Use Iris' quickplot for easy plotting\n",
    "qplt.contourf(cube, cmap='viridis_r')  # Indexing [0] for the first time point, adjust as necessary\n",
    "plt.title('Precipitation Over the UK (Non-zero values)')\n",
    "plt.colorbar(orientation='vertical')\n",
    "plt.show()"
   ]
  },
  {
   "cell_type": "code",
   "execution_count": 15,
   "id": "7e9bc61f",
   "metadata": {},
   "outputs": [
    {
     "data": {
      "text/plain": [
       "1.59375"
      ]
     },
     "execution_count": 15,
     "metadata": {},
     "output_type": "execute_result"
    }
   ],
   "source": [
    "np.nanmin(cube.data)"
   ]
  },
  {
   "cell_type": "code",
   "execution_count": 10,
   "id": "11569f1a",
   "metadata": {},
   "outputs": [
    {
     "data": {
      "image/png": "[encoded data removed]",
      "text/plain": [
       "<Figure size 1440x720 with 3 Axes>"
      ]
     },
     "metadata": {
      "needs_background": "light"
     },
     "output_type": "display_data"
    }
   ],
   "source": [
    "import iris.quickplot as qplt\n",
    "import matplotlib.pyplot as plt\n",
    "import cartopy.crs as ccrs\n",
    "import numpy.ma as ma\n",
    "\n",
    "# Load data\n",
    "cube = accumulated_cube.copy()\n",
    "\n",
    "# Mask out zeros\n",
    "cube.data = ma.masked_equal(cube.data, 0)\n",
    "# cube.data = np.ma.masked_where(cube.data < 5000, cube.data)\n",
    "\n",
    "# Plotting\n",
    "plt.figure(figsize=(20, 10))\n",
    "ax = plt.axes(projection=ccrs.PlateCarree())\n",
    "ax.set_extent([-10, 2, 49, 61], crs=ccrs.PlateCarree())  # Zoom in on the UK\n",
    "ax.coastlines()\n",
    "\n",
    "# Use Iris' quickplot for easy plotting\n",
    "qplt.contourf(cube, cmap='viridis_r')  # Indexing [0] for the first time point, adjust as necessary\n",
    "plt.title('Precipitation Over the UK (Non-zero values)')\n",
    "plt.colorbar(orientation='vertical')\n",
    "plt.show()\n",
    "\n",
    "ax.coastlines()\n"
   ]
  },
  {
   "cell_type": "code",
   "execution_count": 19,
   "id": "c9557e7d",
   "metadata": {},
   "outputs": [
    {
     "ename": "KeyboardInterrupt",
     "evalue": "",
     "output_type": "error",
     "traceback": [
      "\u001b[0;31m---------------------------------------------------------------------------\u001b[0m",
      "\u001b[0;31mKeyboardInterrupt\u001b[0m                         Traceback (most recent call last)",
      "\u001b[0;32m/tmp/ipykernel_26639/1485949503.py\u001b[0m in \u001b[0;36m<module>\u001b[0;34m\u001b[0m\n\u001b[1;32m      1\u001b[0m \u001b[0;31m# Calculate the mean and standard deviation\u001b[0m\u001b[0;34m\u001b[0m\u001b[0;34m\u001b[0m\u001b[0;34m\u001b[0m\u001b[0m\n\u001b[0;32m----> 2\u001b[0;31m \u001b[0mmean\u001b[0m \u001b[0;34m=\u001b[0m \u001b[0maccumulated_cube\u001b[0m\u001b[0;34m.\u001b[0m\u001b[0mdata\u001b[0m\u001b[0;34m.\u001b[0m\u001b[0mmean\u001b[0m\u001b[0;34m(\u001b[0m\u001b[0;34m)\u001b[0m\u001b[0;34m\u001b[0m\u001b[0;34m\u001b[0m\u001b[0m\n\u001b[0m\u001b[1;32m      3\u001b[0m \u001b[0mstd_dev\u001b[0m \u001b[0;34m=\u001b[0m \u001b[0maccumulated_cube\u001b[0m\u001b[0;34m.\u001b[0m\u001b[0mdata\u001b[0m\u001b[0;34m.\u001b[0m\u001b[0mstd\u001b[0m\u001b[0;34m(\u001b[0m\u001b[0;34m)\u001b[0m\u001b[0;34m\u001b[0m\u001b[0;34m\u001b[0m\u001b[0m\n\u001b[1;32m      4\u001b[0m \u001b[0;34m\u001b[0m\u001b[0m\n\u001b[1;32m      5\u001b[0m \u001b[0;31m# Compute z-scores\u001b[0m\u001b[0;34m\u001b[0m\u001b[0;34m\u001b[0m\u001b[0;34m\u001b[0m\u001b[0m\n",
      "\u001b[0;32m/nfs/a321/gy17m2a/anaconda_install/anaconda3/envs/ukcp18/lib/python3.7/site-packages/iris/cube.py\u001b[0m in \u001b[0;36mdata\u001b[0;34m(self)\u001b[0m\n\u001b[1;32m   2167\u001b[0m \u001b[0;34m\u001b[0m\u001b[0m\n\u001b[1;32m   2168\u001b[0m         \"\"\"\n\u001b[0;32m-> 2169\u001b[0;31m         \u001b[0;32mreturn\u001b[0m \u001b[0mself\u001b[0m\u001b[0;34m.\u001b[0m\u001b[0m_data_manager\u001b[0m\u001b[0;34m.\u001b[0m\u001b[0mdata\u001b[0m\u001b[0;34m\u001b[0m\u001b[0;34m\u001b[0m\u001b[0m\n\u001b[0m\u001b[1;32m   2170\u001b[0m \u001b[0;34m\u001b[0m\u001b[0m\n\u001b[1;32m   2171\u001b[0m     \u001b[0;34m@\u001b[0m\u001b[0mdata\u001b[0m\u001b[0;34m.\u001b[0m\u001b[0msetter\u001b[0m\u001b[0;34m\u001b[0m\u001b[0;34m\u001b[0m\u001b[0m\n",
      "\u001b[0;32m/nfs/a321/gy17m2a/anaconda_install/anaconda3/envs/ukcp18/lib/python3.7/site-packages/iris/_data_manager.py\u001b[0m in \u001b[0;36mdata\u001b[0;34m(self)\u001b[0m\n\u001b[1;32m    204\u001b[0m             \u001b[0;32mtry\u001b[0m\u001b[0;34m:\u001b[0m\u001b[0;34m\u001b[0m\u001b[0;34m\u001b[0m\u001b[0m\n\u001b[1;32m    205\u001b[0m                 \u001b[0;31m# Realise the lazy data.\u001b[0m\u001b[0;34m\u001b[0m\u001b[0;34m\u001b[0m\u001b[0;34m\u001b[0m\u001b[0m\n\u001b[0;32m--> 206\u001b[0;31m                 \u001b[0mresult\u001b[0m \u001b[0;34m=\u001b[0m \u001b[0mas_concrete_data\u001b[0m\u001b[0;34m(\u001b[0m\u001b[0mself\u001b[0m\u001b[0;34m.\u001b[0m\u001b[0m_lazy_array\u001b[0m\u001b[0;34m)\u001b[0m\u001b[0;34m\u001b[0m\u001b[0;34m\u001b[0m\u001b[0m\n\u001b[0m\u001b[1;32m    207\u001b[0m                 \u001b[0;31m# Assign the realised result.\u001b[0m\u001b[0;34m\u001b[0m\u001b[0;34m\u001b[0m\u001b[0;34m\u001b[0m\u001b[0m\n\u001b[1;32m    208\u001b[0m                 \u001b[0mself\u001b[0m\u001b[0;34m.\u001b[0m\u001b[0m_real_array\u001b[0m \u001b[0;34m=\u001b[0m \u001b[0mresult\u001b[0m\u001b[0;34m\u001b[0m\u001b[0;34m\u001b[0m\u001b[0m\n",
      "\u001b[0;32m/nfs/a321/gy17m2a/anaconda_install/anaconda3/envs/ukcp18/lib/python3.7/site-packages/iris/_lazy_data.py\u001b[0m in \u001b[0;36mas_concrete_data\u001b[0;34m(data)\u001b[0m\n\u001b[1;32m    250\u001b[0m     \"\"\"\n\u001b[1;32m    251\u001b[0m     \u001b[0;32mif\u001b[0m \u001b[0mis_lazy_data\u001b[0m\u001b[0;34m(\u001b[0m\u001b[0mdata\u001b[0m\u001b[0;34m)\u001b[0m\u001b[0;34m:\u001b[0m\u001b[0;34m\u001b[0m\u001b[0;34m\u001b[0m\u001b[0m\n\u001b[0;32m--> 252\u001b[0;31m         \u001b[0;34m(\u001b[0m\u001b[0mdata\u001b[0m\u001b[0;34m,\u001b[0m\u001b[0;34m)\u001b[0m \u001b[0;34m=\u001b[0m \u001b[0m_co_realise_lazy_arrays\u001b[0m\u001b[0;34m(\u001b[0m\u001b[0;34m[\u001b[0m\u001b[0mdata\u001b[0m\u001b[0;34m]\u001b[0m\u001b[0;34m)\u001b[0m\u001b[0;34m\u001b[0m\u001b[0;34m\u001b[0m\u001b[0m\n\u001b[0m\u001b[1;32m    253\u001b[0m \u001b[0;34m\u001b[0m\u001b[0m\n\u001b[1;32m    254\u001b[0m     \u001b[0;32mreturn\u001b[0m \u001b[0mdata\u001b[0m\u001b[0;34m\u001b[0m\u001b[0;34m\u001b[0m\u001b[0m\n",
      "\u001b[0;32m/nfs/a321/gy17m2a/anaconda_install/anaconda3/envs/ukcp18/lib/python3.7/site-packages/iris/_lazy_data.py\u001b[0m in \u001b[0;36m_co_realise_lazy_arrays\u001b[0;34m(arrays)\u001b[0m\n\u001b[1;32m    213\u001b[0m \u001b[0;34m\u001b[0m\u001b[0m\n\u001b[1;32m    214\u001b[0m     \"\"\"\n\u001b[0;32m--> 215\u001b[0;31m     \u001b[0mcomputed_arrays\u001b[0m \u001b[0;34m=\u001b[0m \u001b[0mda\u001b[0m\u001b[0;34m.\u001b[0m\u001b[0mcompute\u001b[0m\u001b[0;34m(\u001b[0m\u001b[0;34m*\u001b[0m\u001b[0marrays\u001b[0m\u001b[0;34m)\u001b[0m\u001b[0;34m\u001b[0m\u001b[0;34m\u001b[0m\u001b[0m\n\u001b[0m\u001b[1;32m    216\u001b[0m     \u001b[0mresults\u001b[0m \u001b[0;34m=\u001b[0m \u001b[0;34m[\u001b[0m\u001b[0;34m]\u001b[0m\u001b[0;34m\u001b[0m\u001b[0;34m\u001b[0m\u001b[0m\n\u001b[1;32m    217\u001b[0m     \u001b[0;32mfor\u001b[0m \u001b[0mlazy_in\u001b[0m\u001b[0;34m,\u001b[0m \u001b[0mreal_out\u001b[0m \u001b[0;32min\u001b[0m \u001b[0mzip\u001b[0m\u001b[0;34m(\u001b[0m\u001b[0marrays\u001b[0m\u001b[0;34m,\u001b[0m \u001b[0mcomputed_arrays\u001b[0m\u001b[0;34m)\u001b[0m\u001b[0;34m:\u001b[0m\u001b[0;34m\u001b[0m\u001b[0;34m\u001b[0m\u001b[0m\n",
      "\u001b[0;32m/nfs/a321/gy17m2a/anaconda_install/anaconda3/envs/ukcp18/lib/python3.7/site-packages/dask/base.py\u001b[0m in \u001b[0;36mcompute\u001b[0;34m(traverse, optimize_graph, scheduler, get, *args, **kwargs)\u001b[0m\n\u001b[1;32m    571\u001b[0m         \u001b[0mpostcomputes\u001b[0m\u001b[0;34m.\u001b[0m\u001b[0mappend\u001b[0m\u001b[0;34m(\u001b[0m\u001b[0mx\u001b[0m\u001b[0;34m.\u001b[0m\u001b[0m__dask_postcompute__\u001b[0m\u001b[0;34m(\u001b[0m\u001b[0;34m)\u001b[0m\u001b[0;34m)\u001b[0m\u001b[0;34m\u001b[0m\u001b[0;34m\u001b[0m\u001b[0m\n\u001b[1;32m    572\u001b[0m \u001b[0;34m\u001b[0m\u001b[0m\n\u001b[0;32m--> 573\u001b[0;31m     \u001b[0mresults\u001b[0m \u001b[0;34m=\u001b[0m \u001b[0mschedule\u001b[0m\u001b[0;34m(\u001b[0m\u001b[0mdsk\u001b[0m\u001b[0;34m,\u001b[0m \u001b[0mkeys\u001b[0m\u001b[0;34m,\u001b[0m \u001b[0;34m**\u001b[0m\u001b[0mkwargs\u001b[0m\u001b[0;34m)\u001b[0m\u001b[0;34m\u001b[0m\u001b[0;34m\u001b[0m\u001b[0m\n\u001b[0m\u001b[1;32m    574\u001b[0m     \u001b[0;32mreturn\u001b[0m \u001b[0mrepack\u001b[0m\u001b[0;34m(\u001b[0m\u001b[0;34m[\u001b[0m\u001b[0mf\u001b[0m\u001b[0;34m(\u001b[0m\u001b[0mr\u001b[0m\u001b[0;34m,\u001b[0m \u001b[0;34m*\u001b[0m\u001b[0ma\u001b[0m\u001b[0;34m)\u001b[0m \u001b[0;32mfor\u001b[0m \u001b[0mr\u001b[0m\u001b[0;34m,\u001b[0m \u001b[0;34m(\u001b[0m\u001b[0mf\u001b[0m\u001b[0;34m,\u001b[0m \u001b[0ma\u001b[0m\u001b[0;34m)\u001b[0m \u001b[0;32min\u001b[0m \u001b[0mzip\u001b[0m\u001b[0;34m(\u001b[0m\u001b[0mresults\u001b[0m\u001b[0;34m,\u001b[0m \u001b[0mpostcomputes\u001b[0m\u001b[0;34m)\u001b[0m\u001b[0;34m]\u001b[0m\u001b[0;34m)\u001b[0m\u001b[0;34m\u001b[0m\u001b[0;34m\u001b[0m\u001b[0m\n\u001b[1;32m    575\u001b[0m \u001b[0;34m\u001b[0m\u001b[0m\n",
      "\u001b[0;32m/nfs/a321/gy17m2a/anaconda_install/anaconda3/envs/ukcp18/lib/python3.7/site-packages/dask/threaded.py\u001b[0m in \u001b[0;36mget\u001b[0;34m(dsk, result, cache, num_workers, pool, **kwargs)\u001b[0m\n\u001b[1;32m     87\u001b[0m         \u001b[0mget_id\u001b[0m\u001b[0;34m=\u001b[0m\u001b[0m_thread_get_id\u001b[0m\u001b[0;34m,\u001b[0m\u001b[0;34m\u001b[0m\u001b[0;34m\u001b[0m\u001b[0m\n\u001b[1;32m     88\u001b[0m         \u001b[0mpack_exception\u001b[0m\u001b[0;34m=\u001b[0m\u001b[0mpack_exception\u001b[0m\u001b[0;34m,\u001b[0m\u001b[0;34m\u001b[0m\u001b[0;34m\u001b[0m\u001b[0m\n\u001b[0;32m---> 89\u001b[0;31m         \u001b[0;34m**\u001b[0m\u001b[0mkwargs\u001b[0m\u001b[0;34m,\u001b[0m\u001b[0;34m\u001b[0m\u001b[0;34m\u001b[0m\u001b[0m\n\u001b[0m\u001b[1;32m     90\u001b[0m     )\n\u001b[1;32m     91\u001b[0m \u001b[0;34m\u001b[0m\u001b[0m\n",
      "\u001b[0;32m/nfs/a321/gy17m2a/anaconda_install/anaconda3/envs/ukcp18/lib/python3.7/site-packages/dask/local.py\u001b[0m in \u001b[0;36mget_async\u001b[0;34m(submit, num_workers, dsk, result, cache, get_id, rerun_exceptions_locally, pack_exception, raise_exception, callbacks, dumps, loads, chunksize, **kwargs)\u001b[0m\n\u001b[1;32m    493\u001b[0m             \u001b[0;32mwhile\u001b[0m \u001b[0mstate\u001b[0m\u001b[0;34m[\u001b[0m\u001b[0;34m\"waiting\"\u001b[0m\u001b[0;34m]\u001b[0m \u001b[0;32mor\u001b[0m \u001b[0mstate\u001b[0m\u001b[0;34m[\u001b[0m\u001b[0;34m\"ready\"\u001b[0m\u001b[0;34m]\u001b[0m \u001b[0;32mor\u001b[0m \u001b[0mstate\u001b[0m\u001b[0;34m[\u001b[0m\u001b[0;34m\"running\"\u001b[0m\u001b[0;34m]\u001b[0m\u001b[0;34m:\u001b[0m\u001b[0;34m\u001b[0m\u001b[0;34m\u001b[0m\u001b[0m\n\u001b[1;32m    494\u001b[0m                 \u001b[0mfire_tasks\u001b[0m\u001b[0;34m(\u001b[0m\u001b[0mchunksize\u001b[0m\u001b[0;34m)\u001b[0m\u001b[0;34m\u001b[0m\u001b[0;34m\u001b[0m\u001b[0m\n\u001b[0;32m--> 495\u001b[0;31m                 \u001b[0;32mfor\u001b[0m \u001b[0mkey\u001b[0m\u001b[0;34m,\u001b[0m \u001b[0mres_info\u001b[0m\u001b[0;34m,\u001b[0m \u001b[0mfailed\u001b[0m \u001b[0;32min\u001b[0m \u001b[0mqueue_get\u001b[0m\u001b[0;34m(\u001b[0m\u001b[0mqueue\u001b[0m\u001b[0;34m)\u001b[0m\u001b[0;34m.\u001b[0m\u001b[0mresult\u001b[0m\u001b[0;34m(\u001b[0m\u001b[0;34m)\u001b[0m\u001b[0;34m:\u001b[0m\u001b[0;34m\u001b[0m\u001b[0;34m\u001b[0m\u001b[0m\n\u001b[0m\u001b[1;32m    496\u001b[0m                     \u001b[0;32mif\u001b[0m \u001b[0mfailed\u001b[0m\u001b[0;34m:\u001b[0m\u001b[0;34m\u001b[0m\u001b[0;34m\u001b[0m\u001b[0m\n\u001b[1;32m    497\u001b[0m                         \u001b[0mexc\u001b[0m\u001b[0;34m,\u001b[0m \u001b[0mtb\u001b[0m \u001b[0;34m=\u001b[0m \u001b[0mloads\u001b[0m\u001b[0;34m(\u001b[0m\u001b[0mres_info\u001b[0m\u001b[0;34m)\u001b[0m\u001b[0;34m\u001b[0m\u001b[0;34m\u001b[0m\u001b[0m\n",
      "\u001b[0;32m/nfs/a321/gy17m2a/anaconda_install/anaconda3/envs/ukcp18/lib/python3.7/site-packages/dask/local.py\u001b[0m in \u001b[0;36mqueue_get\u001b[0;34m(q)\u001b[0m\n\u001b[1;32m    131\u001b[0m \u001b[0;34m\u001b[0m\u001b[0m\n\u001b[1;32m    132\u001b[0m     \u001b[0;32mdef\u001b[0m \u001b[0mqueue_get\u001b[0m\u001b[0;34m(\u001b[0m\u001b[0mq\u001b[0m\u001b[0;34m)\u001b[0m\u001b[0;34m:\u001b[0m\u001b[0;34m\u001b[0m\u001b[0;34m\u001b[0m\u001b[0m\n\u001b[0;32m--> 133\u001b[0;31m         \u001b[0;32mreturn\u001b[0m \u001b[0mq\u001b[0m\u001b[0;34m.\u001b[0m\u001b[0mget\u001b[0m\u001b[0;34m(\u001b[0m\u001b[0;34m)\u001b[0m\u001b[0;34m\u001b[0m\u001b[0;34m\u001b[0m\u001b[0m\n\u001b[0m\u001b[1;32m    134\u001b[0m \u001b[0;34m\u001b[0m\u001b[0m\n\u001b[1;32m    135\u001b[0m \u001b[0;34m\u001b[0m\u001b[0m\n",
      "\u001b[0;32m/nfs/a321/gy17m2a/anaconda_install/anaconda3/envs/ukcp18/lib/python3.7/queue.py\u001b[0m in \u001b[0;36mget\u001b[0;34m(self, block, timeout)\u001b[0m\n\u001b[1;32m    168\u001b[0m             \u001b[0;32melif\u001b[0m \u001b[0mtimeout\u001b[0m \u001b[0;32mis\u001b[0m \u001b[0;32mNone\u001b[0m\u001b[0;34m:\u001b[0m\u001b[0;34m\u001b[0m\u001b[0;34m\u001b[0m\u001b[0m\n\u001b[1;32m    169\u001b[0m                 \u001b[0;32mwhile\u001b[0m \u001b[0;32mnot\u001b[0m \u001b[0mself\u001b[0m\u001b[0;34m.\u001b[0m\u001b[0m_qsize\u001b[0m\u001b[0;34m(\u001b[0m\u001b[0;34m)\u001b[0m\u001b[0;34m:\u001b[0m\u001b[0;34m\u001b[0m\u001b[0;34m\u001b[0m\u001b[0m\n\u001b[0;32m--> 170\u001b[0;31m                     \u001b[0mself\u001b[0m\u001b[0;34m.\u001b[0m\u001b[0mnot_empty\u001b[0m\u001b[0;34m.\u001b[0m\u001b[0mwait\u001b[0m\u001b[0;34m(\u001b[0m\u001b[0;34m)\u001b[0m\u001b[0;34m\u001b[0m\u001b[0;34m\u001b[0m\u001b[0m\n\u001b[0m\u001b[1;32m    171\u001b[0m             \u001b[0;32melif\u001b[0m \u001b[0mtimeout\u001b[0m \u001b[0;34m<\u001b[0m \u001b[0;36m0\u001b[0m\u001b[0;34m:\u001b[0m\u001b[0;34m\u001b[0m\u001b[0;34m\u001b[0m\u001b[0m\n\u001b[1;32m    172\u001b[0m                 \u001b[0;32mraise\u001b[0m \u001b[0mValueError\u001b[0m\u001b[0;34m(\u001b[0m\u001b[0;34m\"'timeout' must be a non-negative number\"\u001b[0m\u001b[0;34m)\u001b[0m\u001b[0;34m\u001b[0m\u001b[0;34m\u001b[0m\u001b[0m\n",
      "\u001b[0;32m/nfs/a321/gy17m2a/anaconda_install/anaconda3/envs/ukcp18/lib/python3.7/threading.py\u001b[0m in \u001b[0;36mwait\u001b[0;34m(self, timeout)\u001b[0m\n\u001b[1;32m    294\u001b[0m         \u001b[0;32mtry\u001b[0m\u001b[0;34m:\u001b[0m    \u001b[0;31m# restore state no matter what (e.g., KeyboardInterrupt)\u001b[0m\u001b[0;34m\u001b[0m\u001b[0;34m\u001b[0m\u001b[0m\n\u001b[1;32m    295\u001b[0m             \u001b[0;32mif\u001b[0m \u001b[0mtimeout\u001b[0m \u001b[0;32mis\u001b[0m \u001b[0;32mNone\u001b[0m\u001b[0;34m:\u001b[0m\u001b[0;34m\u001b[0m\u001b[0;34m\u001b[0m\u001b[0m\n\u001b[0;32m--> 296\u001b[0;31m                 \u001b[0mwaiter\u001b[0m\u001b[0;34m.\u001b[0m\u001b[0macquire\u001b[0m\u001b[0;34m(\u001b[0m\u001b[0;34m)\u001b[0m\u001b[0;34m\u001b[0m\u001b[0;34m\u001b[0m\u001b[0m\n\u001b[0m\u001b[1;32m    297\u001b[0m                 \u001b[0mgotit\u001b[0m \u001b[0;34m=\u001b[0m \u001b[0;32mTrue\u001b[0m\u001b[0;34m\u001b[0m\u001b[0;34m\u001b[0m\u001b[0m\n\u001b[1;32m    298\u001b[0m             \u001b[0;32melse\u001b[0m\u001b[0;34m:\u001b[0m\u001b[0;34m\u001b[0m\u001b[0;34m\u001b[0m\u001b[0m\n",
      "\u001b[0;31mKeyboardInterrupt\u001b[0m: "
     ]
    }
   ],
   "source": [
    "# Calculate the mean and standard deviation\n",
    "mean = accumulated_cube.data.mean()\n",
    "std_dev = accumulated_cube.data.std()\n",
    "\n",
    "# Compute z-scores\n",
    "z_scores = (accumulated_cube.data - mean) / std_dev\n",
    "\n",
    "# Identify outliers, e.g., where the z-score is greater than 3 or less than -3\n",
    "outliers = np.abs(z_scores) > 3"
   ]
  },
  {
   "cell_type": "markdown",
   "id": "6afb617b",
   "metadata": {},
   "source": [
    "### Handle outliers"
   ]
  },
  {
   "cell_type": "code",
   "execution_count": null,
   "id": "5ac965f3",
   "metadata": {},
   "outputs": [],
   "source": [
    "# Get indices where there are outliers\n",
    "outlier_indices = np.where(outliers)\n",
    "\n",
    "# Optional: Print the locations and values of outliers\n",
    "for index in zip(*outlier_indices):\n",
    "    print(f\"Outlier at index {index} with value {accumulated_cube.data[index]} and z-score {z_scores[index]}\")\n"
   ]
  }
 ],
 "metadata": {
  "kernelspec": {
   "display_name": "Python 3 (ipykernel)",
   "language": "python",
   "name": "python3"
  },
  "language_info": {
   "codemirror_mode": {
    "name": "ipython",
    "version": 3
   },
   "file_extension": ".py",
   "mimetype": "text/x-python",
   "name": "python",
   "nbconvert_exporter": "python",
   "pygments_lexer": "ipython3",
   "version": "3.7.13"
  }
 },
 "nbformat": 4,
 "nbformat_minor": 5
}
