{
 "cells": [
  {
   "cell_type": "code",
   "execution_count": null,
   "id": "54be99bb",
   "metadata": {},
   "outputs": [],
   "source": [
    "import iris\n",
    "import glob\n",
    "import iris.plot as iplt\n",
    "import iris.quickplot as qplt\n"
   ]
  },
  {
   "cell_type": "code",
   "execution_count": null,
   "id": "90ff7fb0",
   "metadata": {},
   "outputs": [],
   "source": [
    "radardir = '/nfs/a319/gy17m2a/PhD/datadir/NimRod/2015/'\n",
    "file_list=glob.glob(radardir +\"*.nc\")\n",
    "sorted_list = sorted(file_list)"
   ]
  },
  {
   "cell_type": "code",
   "execution_count": null,
   "id": "206132e5",
   "metadata": {},
   "outputs": [],
   "source": [
    "temperature = iris.load_cube(file_list[0])\n",
    "\n",
    "# Take a 1d slice using array style indexing.\n",
    "temperature_1d = temperature[5, :,:]\n",
    "contour = qplt.contour(temperature_1d)\n",
    "# iplt.plot(temperature_1d)"
   ]
  }
 ],
 "metadata": {
  "kernelspec": {
   "display_name": "Python 3 (ipykernel)",
   "language": "python",
   "name": "python3"
  },
  "language_info": {
   "codemirror_mode": {
    "name": "ipython",
    "version": 3
   },
   "file_extension": ".py",
   "mimetype": "text/x-python",
   "name": "python",
   "nbconvert_exporter": "python",
   "pygments_lexer": "ipython3",
   "version": "3.9.7"
  }
 },
 "nbformat": 4,
 "nbformat_minor": 5
}
