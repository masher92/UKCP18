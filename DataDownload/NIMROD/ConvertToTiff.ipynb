{
 "cells": [
  {
   "cell_type": "code",
   "execution_count": 27,
   "id": "a1efb815",
   "metadata": {},
   "outputs": [],
   "source": [
    "import sys\n",
    "import struct\n",
    "import numpy as np\n",
    "import nimrod_data_defs as ndd\n",
    "import nimrod_funcs as nfc\n",
    "import glob\n",
    "import os"
   ]
  },
  {
   "cell_type": "code",
   "execution_count": 2,
   "id": "ddb07895",
   "metadata": {},
   "outputs": [],
   "source": [
    "year = 2018"
   ]
  },
  {
   "cell_type": "code",
   "execution_count": 15,
   "id": "86edf7c1",
   "metadata": {},
   "outputs": [],
   "source": [
    "# os.chdir(\"../../../datadir/NimRod/2018\")"
   ]
  },
  {
   "cell_type": "code",
   "execution_count": 28,
   "id": "f7a60f15",
   "metadata": {},
   "outputs": [],
   "source": [
    "def read_nimrod_data(input_file):\n",
    "    print(\"Input file is\", input_file)\n",
    "\n",
    "    # Open the file for reading and check the initial header size\n",
    "    file_id = open(input_file, \"rb\")\n",
    "    record_length, = struct.unpack(\">l\", file_id.read(4))\n",
    "    if (record_length != 512):\n",
    "        raise RuntimeError(\"Incorrect record length\", record_length)\n",
    "\n",
    "    # Read the four main headers from the file\n",
    "    print(\" -   Reading header\")\n",
    "    int_hdr_bytes = np.fromfile(file_id,\n",
    "                                dtype=ndd.main_int_header_fmt,\n",
    "                                count=1)\n",
    "    real_hdr_bytes = np.fromfile(file_id,\n",
    "                                 dtype=ndd.main_real_header_fmt,\n",
    "                                 count=1)\n",
    "    char_hdr_bytes = np.fromfile(file_id,\n",
    "                                 dtype=ndd.main_char_header_fmt,\n",
    "                                 count=1)\n",
    "    data_hdr_bytes = np.fromfile(file_id,\n",
    "                                 dtype=ndd.data_header_fmt,\n",
    "                                 count=1)\n",
    "    record_length, = struct.unpack(\">l\", file_id.read(4))\n",
    "    if (record_length != 512):\n",
    "        raise RuntimeError(\"Incorrect record length\", record_length)\n",
    "\n",
    "    # Convert the four headers into one large header dictionary\n",
    "    nimrod_output = {\n",
    "        \"I_Hdr\": nfc.recarray2dict(int_hdr_bytes),\n",
    "        \"R_Hdr\": nfc.recarray2dict(real_hdr_bytes),\n",
    "        \"C_Hdr\": nfc.recarray2dict(char_hdr_bytes),\n",
    "        \"D_Hdr\": nfc.recarray2dict(data_hdr_bytes)\n",
    "        }\n",
    "    print(\" -   Header successfully read\")\n",
    "\n",
    "    # Compute size of the actual data array using header info\n",
    "    data_array_size = (nimrod_output[\"I_Hdr\"]['NumRows'][0].astype(np.int32) *\n",
    "                       nimrod_output[\"I_Hdr\"]['NumCols'][0].astype(np.int32))\n",
    "\n",
    "    # Check the data record size is consistent with the array size\n",
    "    record_length, = struct.unpack(\">l\", file_id.read(4))\n",
    "    if (record_length != data_array_size * 2):\n",
    "        raise RuntimeError(\"Incorrect record length. Got\", record_length,\n",
    "                           \"expected\", data_array_size * 2)\n",
    "\n",
    "    # Create the data array format, then read data from file\n",
    "    data_fmt = nfc.create_data_dtype(nimrod_output[\"I_Hdr\"]['NumRows'][0],\n",
    "                                     nimrod_output[\"I_Hdr\"]['NumCols'][0])\n",
    "    data_array = np.fromfile(file_id, dtype=data_fmt, count=1)\n",
    "\n",
    "    # Radar data stores values multiplied by 32.\n",
    "    nimrod_output['Data'] = np.squeeze(data_array['Data']) / 32.\n",
    "\n",
    "    # Done reading data\n",
    "    file_id.close()\n",
    "    print(\" -   Data successfully read\")\n",
    "\n",
    "    return nimrod_output\n"
   ]
  },
  {
   "cell_type": "code",
   "execution_count": 49,
   "id": "2481b6c5",
   "metadata": {},
   "outputs": [],
   "source": [
    "if not os.path.isdir(f\"../../../datadir/NimRod_Processed/{year}/\"):\n",
    "    os.makedirs(f\"../../../datadir/NimRod_Processed/{year}/\")\n",
    "    print ('Data directory created')\n",
    "os.chdir(f\"/nfs/a319/gy17m2a/PhD/datadir/NimRod/{year}/Newfolder\")"
   ]
  },
  {
   "cell_type": "code",
   "execution_count": 50,
   "id": "89ffc11c",
   "metadata": {},
   "outputs": [
    {
     "data": {
      "text/plain": [
       "'/nfs/a319/gy17m2a/PhD/datadir/NimRod/2015/Newfolder'"
      ]
     },
     "execution_count": 50,
     "metadata": {},
     "output_type": "execute_result"
    }
   ],
   "source": [
    "pwd"
   ]
  },
  {
   "cell_type": "code",
   "execution_count": 51,
   "id": "10362c98",
   "metadata": {},
   "outputs": [
    {
     "name": "stdout",
     "output_type": "stream",
     "text": [
      "metoffice-c-band-rain-radar_uk_201506010000_1km-composite.dat\n",
      "Input file is metoffice-c-band-rain-radar_uk_201506010000_1km-composite.dat\n",
      " -   Reading header\n",
      " -   Header successfully read\n",
      " -   Data successfully read\n"
     ]
    }
   ],
   "source": [
    "for input_filename in os.listdir():\n",
    "    print(input_filename)\n",
    "    output_filename = input_filename.replace(\"NimRod\", 'NimRod_Processed')\n",
    "    output_filename = output_filename.replace(\".dat\", '.tiff')\n",
    "#     # Call the main function\n",
    "    nimrod = read_nimrod_data(input_filename)\n",
    "    nfc.create_gdal_output(nimrod, output_filename)    "
   ]
  },
  {
   "cell_type": "code",
   "execution_count": 33,
   "id": "8e014b6b",
   "metadata": {},
   "outputs": [
    {
     "name": "stdout",
     "output_type": "stream",
     "text": [
      "Input file is metoffice-c-band-rain-radar_uk_200509021525_1km-composite.dat\n",
      " -   Reading header\n",
      " -   Header successfully read\n",
      " -   Data successfully read\n"
     ]
    }
   ],
   "source": [
    "nimrod = read_nimrod_data(\"metoffice-c-band-rain-radar_uk_200509021525_1km-composite.dat\")"
   ]
  },
  {
   "cell_type": "code",
   "execution_count": null,
   "id": "2efd1a8c",
   "metadata": {},
   "outputs": [],
   "source": []
  },
  {
   "cell_type": "code",
   "execution_count": 12,
   "id": "2ecb7b20",
   "metadata": {},
   "outputs": [
    {
     "data": {
      "text/plain": [
       "'../../../../datadir/NimRod_Processing/2005/metoffice-c-band-rain-radar_uk_200512272055_1km-composite.tiff'"
      ]
     },
     "execution_count": 12,
     "metadata": {},
     "output_type": "execute_result"
    }
   ],
   "source": [
    "output_filename = input_filename.replace(\"NimRod\", 'NimRod_Processing')\n",
    "output_filename = output_filename.replace(\".dat\", '.tiff')\n",
    "output_filename"
   ]
  }
 ],
 "metadata": {
  "kernelspec": {
   "display_name": "Python 3 (ipykernel)",
   "language": "python",
   "name": "python3"
  },
  "language_info": {
   "codemirror_mode": {
    "name": "ipython",
    "version": 3
   },
   "file_extension": ".py",
   "mimetype": "text/x-python",
   "name": "python",
   "nbconvert_exporter": "python",
   "pygments_lexer": "ipython3",
   "version": "3.9.7"
  }
 },
 "nbformat": 4,
 "nbformat_minor": 5
}
