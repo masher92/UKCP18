{
 "cells": [
  {
   "cell_type": "code",
   "execution_count": 12,
   "id": "414783a9",
   "metadata": {},
   "outputs": [],
   "source": [
    "import rasterio\n",
    "from rasterio.plot import show\n",
    "import os\n",
    "import sys\n",
    "from rasterio.mask import mask\n",
    "\n",
    "import warnings\n",
    "warnings.simplefilter(action='ignore', category=FutureWarning)\n",
    "from warnings import simplefilter\n",
    "# ignore all future warnings\n",
    "simplefilter(action='ignore', category=FutureWarning)"
   ]
  },
  {
   "cell_type": "code",
   "execution_count": 13,
   "id": "04c42959",
   "metadata": {},
   "outputs": [],
   "source": [
    "root_fp = \"/nfs/a319/gy17m2a/PhD/\"\n",
    "# os.chdir(root_fp)\n",
    "\n",
    "# Create path to files containing functions\n",
    "sys.path.insert(0, root_fp + 'Scripts/GlobalFunctions')\n",
    "from PDF_plotting_functions import *\n",
    "# sys.path.insert(0, root_fp + 'Scripts/Regridding')\n",
    "# from Regridding_functions import *\n",
    "sys.path.insert(0, root_fp + 'Scripts/GlobalFunctions')\n",
    "from Spatial_geometry_functions import *\n",
    "\n",
    "# Define ensemble member numbers\n",
    "ems = ['01', '04', '05', '06', '07', '08', '09', '10', '11', '12', '13', '15']\n",
    "# Define time period\n",
    "timeperiod = 'Baseline'\n",
    "# define whether to trim to JJA\n",
    "jja_status = 'jja'"
   ]
  },
  {
   "cell_type": "code",
   "execution_count": 14,
   "id": "2cf0c575",
   "metadata": {},
   "outputs": [
    {
     "data": {
      "text/html": [
       "<div>\n",
       "<style scoped>\n",
       "    .dataframe tbody tr th:only-of-type {\n",
       "        vertical-align: middle;\n",
       "    }\n",
       "\n",
       "    .dataframe tbody tr th {\n",
       "        vertical-align: top;\n",
       "    }\n",
       "\n",
       "    .dataframe thead th {\n",
       "        text-align: right;\n",
       "    }\n",
       "</style>\n",
       "<table border=\"1\" class=\"dataframe\">\n",
       "  <thead>\n",
       "    <tr style=\"text-align: right;\">\n",
       "      <th></th>\n",
       "      <th>geometry</th>\n",
       "    </tr>\n",
       "  </thead>\n",
       "  <tbody>\n",
       "    <tr>\n",
       "      <th>0</th>\n",
       "      <td>POLYGON ((391061.670 470497.324, 472261.556 47...</td>\n",
       "    </tr>\n",
       "  </tbody>\n",
       "</table>\n",
       "</div>"
      ],
      "text/plain": [
       "                                            geometry\n",
       "0  POLYGON ((391061.670 470497.324, 472261.556 47..."
      ]
     },
     "execution_count": 14,
     "metadata": {},
     "output_type": "execute_result"
    }
   ],
   "source": [
    "leeds_at_centre_gdf = create_leeds_at_centre_outline({'init' :'epsg:27700'})\n",
    "leeds_at_centre_gdf"
   ]
  },
  {
   "cell_type": "code",
   "execution_count": 15,
   "id": "c0aed026",
   "metadata": {},
   "outputs": [
    {
     "ename": "RasterioIOError",
     "evalue": "../../../datadir/NimRod_Processed/2004/metoffice-c-band-rain-radar_uk_20040406_1km-composite.tiff: No such file or directory",
     "output_type": "error",
     "traceback": [
      "\u001b[0;31m---------------------------------------------------------------------------\u001b[0m",
      "\u001b[0;31mCPLE_OpenFailedError\u001b[0m                      Traceback (most recent call last)",
      "File \u001b[0;32mrasterio/_base.pyx:307\u001b[0m, in \u001b[0;36mrasterio._base.DatasetBase.__init__\u001b[0;34m()\u001b[0m\n",
      "File \u001b[0;32mrasterio/_base.pyx:218\u001b[0m, in \u001b[0;36mrasterio._base.open_dataset\u001b[0;34m()\u001b[0m\n",
      "File \u001b[0;32mrasterio/_err.pyx:221\u001b[0m, in \u001b[0;36mrasterio._err.exc_wrap_pointer\u001b[0;34m()\u001b[0m\n",
      "\u001b[0;31mCPLE_OpenFailedError\u001b[0m: ../../../datadir/NimRod_Processed/2004/metoffice-c-band-rain-radar_uk_20040406_1km-composite.tiff: No such file or directory",
      "\nDuring handling of the above exception, another exception occurred:\n",
      "\u001b[0;31mRasterioIOError\u001b[0m                           Traceback (most recent call last)",
      "Cell \u001b[0;32mIn [15], line 2\u001b[0m\n\u001b[1;32m      1\u001b[0m fp \u001b[38;5;241m=\u001b[39m \u001b[38;5;124mr\u001b[39m\u001b[38;5;124m\"\u001b[39m\u001b[38;5;124m../../../datadir/NimRod_Processed/2004/metoffice-c-band-rain-radar_uk_20040406_1km-composite.tiff\u001b[39m\u001b[38;5;124m\"\u001b[39m\n\u001b[0;32m----> 2\u001b[0m img \u001b[38;5;241m=\u001b[39m \u001b[43mrasterio\u001b[49m\u001b[38;5;241;43m.\u001b[39;49m\u001b[43mopen\u001b[49m\u001b[43m(\u001b[49m\u001b[43mfp\u001b[49m\u001b[43m)\u001b[49m\n\u001b[1;32m      3\u001b[0m show(img)\n",
      "File \u001b[0;32m/nfs/a321/gy17m2a/anaconda_install/anaconda3/envs/pygeospatial/lib/python3.9/site-packages/rasterio/env.py:444\u001b[0m, in \u001b[0;36mensure_env_with_credentials.<locals>.wrapper\u001b[0;34m(*args, **kwds)\u001b[0m\n\u001b[1;32m    441\u001b[0m     session \u001b[38;5;241m=\u001b[39m DummySession()\n\u001b[1;32m    443\u001b[0m \u001b[38;5;28;01mwith\u001b[39;00m env_ctor(session\u001b[38;5;241m=\u001b[39msession):\n\u001b[0;32m--> 444\u001b[0m     \u001b[38;5;28;01mreturn\u001b[39;00m \u001b[43mf\u001b[49m\u001b[43m(\u001b[49m\u001b[38;5;241;43m*\u001b[39;49m\u001b[43margs\u001b[49m\u001b[43m,\u001b[49m\u001b[43m \u001b[49m\u001b[38;5;241;43m*\u001b[39;49m\u001b[38;5;241;43m*\u001b[39;49m\u001b[43mkwds\u001b[49m\u001b[43m)\u001b[49m\n",
      "File \u001b[0;32m/nfs/a321/gy17m2a/anaconda_install/anaconda3/envs/pygeospatial/lib/python3.9/site-packages/rasterio/__init__.py:304\u001b[0m, in \u001b[0;36mopen\u001b[0;34m(fp, mode, driver, width, height, count, crs, transform, dtype, nodata, sharing, **kwargs)\u001b[0m\n\u001b[1;32m    301\u001b[0m path \u001b[38;5;241m=\u001b[39m _parse_path(raw_dataset_path)\n\u001b[1;32m    303\u001b[0m \u001b[38;5;28;01mif\u001b[39;00m mode \u001b[38;5;241m==\u001b[39m \u001b[38;5;124m\"\u001b[39m\u001b[38;5;124mr\u001b[39m\u001b[38;5;124m\"\u001b[39m:\n\u001b[0;32m--> 304\u001b[0m     dataset \u001b[38;5;241m=\u001b[39m \u001b[43mDatasetReader\u001b[49m\u001b[43m(\u001b[49m\u001b[43mpath\u001b[49m\u001b[43m,\u001b[49m\u001b[43m \u001b[49m\u001b[43mdriver\u001b[49m\u001b[38;5;241;43m=\u001b[39;49m\u001b[43mdriver\u001b[49m\u001b[43m,\u001b[49m\u001b[43m \u001b[49m\u001b[43msharing\u001b[49m\u001b[38;5;241;43m=\u001b[39;49m\u001b[43msharing\u001b[49m\u001b[43m,\u001b[49m\u001b[43m \u001b[49m\u001b[38;5;241;43m*\u001b[39;49m\u001b[38;5;241;43m*\u001b[39;49m\u001b[43mkwargs\u001b[49m\u001b[43m)\u001b[49m\n\u001b[1;32m    305\u001b[0m \u001b[38;5;28;01melif\u001b[39;00m mode \u001b[38;5;241m==\u001b[39m \u001b[38;5;124m\"\u001b[39m\u001b[38;5;124mr+\u001b[39m\u001b[38;5;124m\"\u001b[39m:\n\u001b[1;32m    306\u001b[0m     dataset \u001b[38;5;241m=\u001b[39m get_writer_for_path(path, driver\u001b[38;5;241m=\u001b[39mdriver)(\n\u001b[1;32m    307\u001b[0m         path, mode, driver\u001b[38;5;241m=\u001b[39mdriver, sharing\u001b[38;5;241m=\u001b[39msharing, \u001b[38;5;241m*\u001b[39m\u001b[38;5;241m*\u001b[39mkwargs\n\u001b[1;32m    308\u001b[0m     )\n",
      "File \u001b[0;32mrasterio/_base.pyx:309\u001b[0m, in \u001b[0;36mrasterio._base.DatasetBase.__init__\u001b[0;34m()\u001b[0m\n",
      "\u001b[0;31mRasterioIOError\u001b[0m: ../../../datadir/NimRod_Processed/2004/metoffice-c-band-rain-radar_uk_20040406_1km-composite.tiff: No such file or directory"
     ]
    }
   ],
   "source": [
    "fp = r\"../../../datadir/NimRod_Processed/2004/metoffice-c-band-rain-radar_uk_20040406_1km-composite.tiff\"\n",
    "img = rasterio.open(fp)\n",
    "show(img)"
   ]
  },
  {
   "cell_type": "code",
   "execution_count": 14,
   "id": "d273507d",
   "metadata": {},
   "outputs": [
    {
     "name": "stdout",
     "output_type": "stream",
     "text": [
      "1\n",
      "775 640\n",
      "EPSG:27700\n"
     ]
    }
   ],
   "source": [
    "print(img.count)\n",
    "print(img.height, img.width)\n",
    "print(img.crs)"
   ]
  },
  {
   "cell_type": "code",
   "execution_count": 11,
   "id": "aa024609",
   "metadata": {},
   "outputs": [],
   "source": [
    "with rasterio.open(fp) as src:\n",
    "    catchment_gdf=leeds_at_centre_gdf.to_crs(src.crs)\n",
    "    out_image, out_transform=mask(src,leeds_at_centre_gdf.geometry,crop=True)\n",
    "    out_meta=src.meta.copy() # copy the metadata of the source DEM"
   ]
  },
  {
   "cell_type": "code",
   "execution_count": 29,
   "id": "593b12e9",
   "metadata": {},
   "outputs": [
    {
     "data": {
      "image/png": "[encoded data removed]",
      "text/plain": [
       "<Figure size 640x480 with 1 Axes>"
      ]
     },
     "metadata": {},
     "output_type": "display_data"
    },
    {
     "data": {
      "text/plain": [
       "array([[[0.     , 0.     , 0.     , ..., 0.     , 0.     , 0.     ],\n",
       "        [0.     , 0.     , 0.     , ..., 0.     , 0.     , 0.     ],\n",
       "        [0.     , 0.     , 0.     , ..., 0.     , 0.     , 0.     ],\n",
       "        ...,\n",
       "        [0.     , 0.03125, 0.     , ..., 0.     , 0.     , 0.     ],\n",
       "        [0.     , 0.     , 0.     , ..., 0.     , 0.     , 0.     ],\n",
       "        [0.     , 0.     , 0.     , ..., 0.     , 0.     , 0.     ]]],\n",
       "      dtype=float32)"
      ]
     },
     "execution_count": 29,
     "metadata": {},
     "output_type": "execute_result"
    }
   ],
   "source": [
    "show(out_image)\n",
    "out_image"
   ]
  },
  {
   "cell_type": "code",
   "execution_count": null,
   "id": "0c93dabb",
   "metadata": {},
   "outputs": [],
   "source": [
    "def save_clipped_to_gdf(input_fp catchment_gdf, output_fp):\n",
    "    with rasterio.open(input_fp) as src:\n",
    "        catchment_gdf=catchment_gdf.to_crs(src.crs)\n",
    "        # print(Vector.crs)\n",
    "        out_image, out_transform=mask(src,catchment_gdf.geometry,crop=True)\n",
    "        out_meta=src.meta.copy() # copy the metadata of the source DEM\n",
    "\n",
    "    out_meta.update({\"driver\":\"Gtiff\", \"height\":out_image.shape[1], # height starts with shape[1]\n",
    "        \"width\":out_image.shape[2], # width starts with shape[2]\n",
    "        \"transform\":out_transform\n",
    "    })\n",
    "\n",
    "    with rasterio.open(fp,'w',**out_meta) as dst:\n",
    "        dst.write(out_image)"
   ]
  },
  {
   "cell_type": "code",
   "execution_count": 27,
   "id": "8a483a7b",
   "metadata": {},
   "outputs": [],
   "source": [
    "import glob\n",
    "import numpy as np\n",
    "import rasterio\n",
    "\n",
    "all_files = glob.glob('../../../../datadir/NimRod_Processed/2004/*.tiff')\n",
    "\n",
    "# Create an initial array\n",
    "with rasterio.open(all_files[0]) as src:\n",
    "    catchment_gdf=leeds_at_centre_gdf.to_crs(src.crs)\n",
    "    result_array, out_transform=mask(src,leeds_at_centre_gdf.geometry,crop=True)\n",
    "    result_profile = src.profile \n",
    "\n",
    "# Add on the rest one at a time\n",
    "for f in all_files[1:]:\n",
    "    with rasterio.open(f) as src:\n",
    "        catchment_gdf=leeds_at_centre_gdf.to_crs(src.crs)\n",
    "        this_result_array, out_transform=mask(src,leeds_at_centre_gdf.geometry,crop=True)\n",
    "        # Only sum the arrays if the profiles match. \n",
    "        assert result_profile == src.profile, 'stopping, file {} and  {} do not have matching profiles'.format(all_files[0], f)\n",
    "        result_array = result_array + this_result_array\n",
    "        \n",
    "with rasterio.open('../../../../datadir/NimRod_Processed/2004/Result_raster.tif', 'w', **result_profile) as dst:\n",
    "        dst.write(result_array, indexes=[1])"
   ]
  },
  {
   "cell_type": "code",
   "execution_count": 24,
   "id": "7827af02",
   "metadata": {},
   "outputs": [
    {
     "data": {
      "text/plain": [
       "array([[[0.     , 0.     , 0.     , ..., 0.     , 0.     , 0.     ],\n",
       "        [0.     , 0.     , 0.     , ..., 0.     , 0.     , 0.     ],\n",
       "        [0.     , 0.     , 0.     , ..., 0.     , 0.     , 0.     ],\n",
       "        ...,\n",
       "        [0.     , 0.03125, 0.     , ..., 0.     , 0.     , 0.     ],\n",
       "        [0.     , 0.     , 0.     , ..., 0.     , 0.     , 0.     ],\n",
       "        [0.     , 0.     , 0.     , ..., 0.     , 0.     , 0.     ]]],\n",
       "      dtype=float32)"
      ]
     },
     "execution_count": 24,
     "metadata": {},
     "output_type": "execute_result"
    }
   ],
   "source": [
    "this_result_array"
   ]
  },
  {
   "cell_type": "code",
   "execution_count": 28,
   "id": "5d2489c8",
   "metadata": {},
   "outputs": [
    {
     "data": {
      "text/plain": [
       "array([[[0.     , 0.     , 0.     , ..., 0.     , 0.     , 0.     ],\n",
       "        [0.     , 0.     , 0.     , ..., 0.     , 0.     , 0.     ],\n",
       "        [0.     , 0.     , 0.     , ..., 0.     , 0.     , 0.     ],\n",
       "        ...,\n",
       "        [0.     , 0.03125, 0.0625 , ..., 0.     , 0.     , 0.     ],\n",
       "        [0.     , 0.     , 0.03125, ..., 0.     , 0.     , 0.     ],\n",
       "        [0.     , 0.     , 0.     , ..., 0.     , 0.     , 0.     ]]],\n",
       "      dtype=float32)"
      ]
     },
     "execution_count": 28,
     "metadata": {},
     "output_type": "execute_result"
    }
   ],
   "source": [
    "result_array"
   ]
  }
 ],
 "metadata": {
  "kernelspec": {
   "display_name": "Python 3 (ipykernel)",
   "language": "python",
   "name": "python3"
  },
  "language_info": {
   "codemirror_mode": {
    "name": "ipython",
    "version": 3
   },
   "file_extension": ".py",
   "mimetype": "text/x-python",
   "name": "python",
   "nbconvert_exporter": "python",
   "pygments_lexer": "ipython3",
   "version": "3.9.7"
  }
 },
 "nbformat": 4,
 "nbformat_minor": 5
}
