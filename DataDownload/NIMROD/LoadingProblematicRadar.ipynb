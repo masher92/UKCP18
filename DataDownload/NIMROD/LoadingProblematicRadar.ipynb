{
 "cells": [
  {
   "cell_type": "code",
   "execution_count": 3,
   "id": "227e0a04",
   "metadata": {},
   "outputs": [],
   "source": [
    "year = 2004"
   ]
  },
  {
   "cell_type": "code",
   "execution_count": 23,
   "id": "173d5a10",
   "metadata": {
    "scrolled": true
   },
   "outputs": [],
   "source": [
    "import iris\n",
    "import glob\n",
    "import datetime\n",
    "from iris.time import PartialDateTime\n",
    "import sys\n",
    "#import xarray as xr\n",
    "import os\n",
    "import warnings\n",
    "warnings.simplefilter(action = 'ignore', category = FutureWarning)\n",
    "\n",
    "# Create path to files containing functions\n",
    "sys.path.insert(0, '/nfs/a319/gy17m2a/PhD/Scripts/GlobalFunctions')\n",
    "from Spatial_plotting_functions import *\n",
    "from Spatial_geometry_functions import *\n",
    "\n",
    "# This is a square area surrounding Leeds\n",
    "leeds_at_centre_gdf = create_leeds_at_centre_outline('epsg:3857')\n",
    "\n",
    "radardir = f\"/nfs/a319/gy17m2a/PhD/datadir/NimRod/{year}/\"\n",
    "file_list=glob.glob(radardir +\"*.dat\")\n",
    "sorted_list = sorted(file_list)"
   ]
  },
  {
   "cell_type": "code",
   "execution_count": 25,
   "id": "e31573e8",
   "metadata": {},
   "outputs": [
    {
     "ename": "ValueError",
     "evalue": "invalid second provided in cftime.datetime(2004, 7, 16, 0, 5, -32767, 0, calendar='standard', has_year_zero=False)",
     "output_type": "error",
     "traceback": [
      "\u001b[0;31m---------------------------------------------------------------------------\u001b[0m",
      "\u001b[0;31mValueError\u001b[0m                                Traceback (most recent call last)",
      "Cell \u001b[0;32mIn [25], line 3\u001b[0m\n\u001b[1;32m      1\u001b[0m file_list\n\u001b[0;32m----> 3\u001b[0m cube_list \u001b[38;5;241m=\u001b[39m \u001b[43miris\u001b[49m\u001b[38;5;241;43m.\u001b[39;49m\u001b[43mload\u001b[49m\u001b[43m(\u001b[49m\u001b[43msorted_list\u001b[49m\u001b[43m[\u001b[49m\u001b[38;5;241;43m1\u001b[39;49m\u001b[43m:\u001b[49m\u001b[38;5;241;43m10\u001b[39;49m\u001b[43m]\u001b[49m\u001b[43m)\u001b[49m\n\u001b[1;32m      4\u001b[0m cube_list\n",
      "File \u001b[0;32m/nfs/a321/gy17m2a/anaconda_install/anaconda3/envs/pygeospatial/lib/python3.9/site-packages/iris/__init__.py:303\u001b[0m, in \u001b[0;36mload\u001b[0;34m(uris, constraints, callback)\u001b[0m\n\u001b[1;32m    278\u001b[0m \u001b[38;5;28;01mdef\u001b[39;00m \u001b[38;5;21mload\u001b[39m(uris, constraints\u001b[38;5;241m=\u001b[39m\u001b[38;5;28;01mNone\u001b[39;00m, callback\u001b[38;5;241m=\u001b[39m\u001b[38;5;28;01mNone\u001b[39;00m):\n\u001b[1;32m    279\u001b[0m     \u001b[38;5;124;03m\"\"\"\u001b[39;00m\n\u001b[1;32m    280\u001b[0m \u001b[38;5;124;03m    Loads any number of Cubes for each constraint.\u001b[39;00m\n\u001b[1;32m    281\u001b[0m \n\u001b[0;32m   (...)\u001b[0m\n\u001b[1;32m    301\u001b[0m \n\u001b[1;32m    302\u001b[0m \u001b[38;5;124;03m    \"\"\"\u001b[39;00m\n\u001b[0;32m--> 303\u001b[0m     \u001b[38;5;28;01mreturn\u001b[39;00m \u001b[43m_load_collection\u001b[49m\u001b[43m(\u001b[49m\u001b[43muris\u001b[49m\u001b[43m,\u001b[49m\u001b[43m \u001b[49m\u001b[43mconstraints\u001b[49m\u001b[43m,\u001b[49m\u001b[43m \u001b[49m\u001b[43mcallback\u001b[49m\u001b[43m)\u001b[49m\u001b[38;5;241m.\u001b[39mmerged()\u001b[38;5;241m.\u001b[39mcubes()\n",
      "File \u001b[0;32m/nfs/a321/gy17m2a/anaconda_install/anaconda3/envs/pygeospatial/lib/python3.9/site-packages/iris/__init__.py:270\u001b[0m, in \u001b[0;36m_load_collection\u001b[0;34m(uris, constraints, callback)\u001b[0m\n\u001b[1;32m    268\u001b[0m \u001b[38;5;28;01mtry\u001b[39;00m:\n\u001b[1;32m    269\u001b[0m     cubes \u001b[38;5;241m=\u001b[39m _generate_cubes(uris, callback, constraints)\n\u001b[0;32m--> 270\u001b[0m     result \u001b[38;5;241m=\u001b[39m \u001b[43m_CubeFilterCollection\u001b[49m\u001b[38;5;241;43m.\u001b[39;49m\u001b[43mfrom_cubes\u001b[49m\u001b[43m(\u001b[49m\u001b[43mcubes\u001b[49m\u001b[43m,\u001b[49m\u001b[43m \u001b[49m\u001b[43mconstraints\u001b[49m\u001b[43m)\u001b[49m\n\u001b[1;32m    271\u001b[0m \u001b[38;5;28;01mexcept\u001b[39;00m \u001b[38;5;167;01mEOFError\u001b[39;00m \u001b[38;5;28;01mas\u001b[39;00m e:\n\u001b[1;32m    272\u001b[0m     \u001b[38;5;28;01mraise\u001b[39;00m iris\u001b[38;5;241m.\u001b[39mexceptions\u001b[38;5;241m.\u001b[39mTranslationError(\n\u001b[1;32m    273\u001b[0m         \u001b[38;5;124m\"\u001b[39m\u001b[38;5;124mThe file appears empty or incomplete: \u001b[39m\u001b[38;5;132;01m{!r}\u001b[39;00m\u001b[38;5;124m\"\u001b[39m\u001b[38;5;241m.\u001b[39mformat(\u001b[38;5;28mstr\u001b[39m(e))\n\u001b[1;32m    274\u001b[0m     )\n",
      "File \u001b[0;32m/nfs/a321/gy17m2a/anaconda_install/anaconda3/envs/pygeospatial/lib/python3.9/site-packages/iris/cube.py:115\u001b[0m, in \u001b[0;36m_CubeFilterCollection.from_cubes\u001b[0;34m(cubes, constraints)\u001b[0m\n\u001b[1;32m    113\u001b[0m pairs \u001b[38;5;241m=\u001b[39m [_CubeFilter(constraint) \u001b[38;5;28;01mfor\u001b[39;00m constraint \u001b[38;5;129;01min\u001b[39;00m constraints]\n\u001b[1;32m    114\u001b[0m collection \u001b[38;5;241m=\u001b[39m _CubeFilterCollection(pairs)\n\u001b[0;32m--> 115\u001b[0m \u001b[38;5;28;01mfor\u001b[39;00m cube \u001b[38;5;129;01min\u001b[39;00m cubes:\n\u001b[1;32m    116\u001b[0m     collection\u001b[38;5;241m.\u001b[39madd_cube(cube)\n\u001b[1;32m    117\u001b[0m \u001b[38;5;28;01mreturn\u001b[39;00m collection\n",
      "File \u001b[0;32m/nfs/a321/gy17m2a/anaconda_install/anaconda3/envs/pygeospatial/lib/python3.9/site-packages/iris/__init__.py:255\u001b[0m, in \u001b[0;36m_generate_cubes\u001b[0;34m(uris, callback, constraints)\u001b[0m\n\u001b[1;32m    253\u001b[0m \u001b[38;5;28;01mif\u001b[39;00m scheme \u001b[38;5;241m==\u001b[39m \u001b[38;5;124m\"\u001b[39m\u001b[38;5;124mfile\u001b[39m\u001b[38;5;124m\"\u001b[39m:\n\u001b[1;32m    254\u001b[0m     part_names \u001b[38;5;241m=\u001b[39m [x[\u001b[38;5;241m1\u001b[39m] \u001b[38;5;28;01mfor\u001b[39;00m x \u001b[38;5;129;01min\u001b[39;00m groups]\n\u001b[0;32m--> 255\u001b[0m     \u001b[38;5;28;01mfor\u001b[39;00m cube \u001b[38;5;129;01min\u001b[39;00m iris\u001b[38;5;241m.\u001b[39mio\u001b[38;5;241m.\u001b[39mload_files(part_names, callback, constraints):\n\u001b[1;32m    256\u001b[0m         \u001b[38;5;28;01myield\u001b[39;00m cube\n\u001b[1;32m    257\u001b[0m \u001b[38;5;28;01melif\u001b[39;00m scheme \u001b[38;5;129;01min\u001b[39;00m [\u001b[38;5;124m\"\u001b[39m\u001b[38;5;124mhttp\u001b[39m\u001b[38;5;124m\"\u001b[39m, \u001b[38;5;124m\"\u001b[39m\u001b[38;5;124mhttps\u001b[39m\u001b[38;5;124m\"\u001b[39m]:\n",
      "File \u001b[0;32m/nfs/a321/gy17m2a/anaconda_install/anaconda3/envs/pygeospatial/lib/python3.9/site-packages/iris/io/__init__.py:209\u001b[0m, in \u001b[0;36mload_files\u001b[0;34m(filenames, callback, constraints)\u001b[0m\n\u001b[1;32m    207\u001b[0m         \u001b[38;5;28;01myield\u001b[39;00m cube\n\u001b[1;32m    208\u001b[0m \u001b[38;5;28;01melse\u001b[39;00m:\n\u001b[0;32m--> 209\u001b[0m     \u001b[38;5;28;01mfor\u001b[39;00m cube \u001b[38;5;129;01min\u001b[39;00m handling_format_spec\u001b[38;5;241m.\u001b[39mhandler(fnames, callback):\n\u001b[1;32m    210\u001b[0m         \u001b[38;5;28;01myield\u001b[39;00m cube\n",
      "File \u001b[0;32m/nfs/a321/gy17m2a/anaconda_install/anaconda3/envs/pygeospatial/lib/python3.9/site-packages/iris/fileformats/nimrod.py:328\u001b[0m, in \u001b[0;36mload_cubes\u001b[0;34m(filenames, callback)\u001b[0m\n\u001b[1;32m    324\u001b[0m \u001b[38;5;28;01mexcept\u001b[39;00m struct\u001b[38;5;241m.\u001b[39merror:\n\u001b[1;32m    325\u001b[0m     \u001b[38;5;66;03m# End of file. Move on to the next file.\u001b[39;00m\n\u001b[1;32m    326\u001b[0m     \u001b[38;5;28;01mbreak\u001b[39;00m\n\u001b[0;32m--> 328\u001b[0m cube \u001b[38;5;241m=\u001b[39m \u001b[43miris\u001b[49m\u001b[38;5;241;43m.\u001b[39;49m\u001b[43mfileformats\u001b[49m\u001b[38;5;241;43m.\u001b[39;49m\u001b[43mnimrod_load_rules\u001b[49m\u001b[38;5;241;43m.\u001b[39;49m\u001b[43mrun\u001b[49m\u001b[43m(\u001b[49m\u001b[43mfield\u001b[49m\u001b[43m)\u001b[49m\n\u001b[1;32m    330\u001b[0m \u001b[38;5;66;03m# Were we given a callback?\u001b[39;00m\n\u001b[1;32m    331\u001b[0m \u001b[38;5;28;01mif\u001b[39;00m callback \u001b[38;5;129;01mis\u001b[39;00m \u001b[38;5;129;01mnot\u001b[39;00m \u001b[38;5;28;01mNone\u001b[39;00m:\n",
      "File \u001b[0;32m/nfs/a321/gy17m2a/anaconda_install/anaconda3/envs/pygeospatial/lib/python3.9/site-packages/iris/fileformats/nimrod_load_rules.py:927\u001b[0m, in \u001b[0;36mrun\u001b[0;34m(field, handle_metadata_errors)\u001b[0m\n\u001b[1;32m    924\u001b[0m units(cube, field)\n\u001b[1;32m    926\u001b[0m \u001b[38;5;66;03m# time\u001b[39;00m\n\u001b[0;32m--> 927\u001b[0m \u001b[43mtime\u001b[49m\u001b[43m(\u001b[49m\u001b[43mcube\u001b[49m\u001b[43m,\u001b[49m\u001b[43m \u001b[49m\u001b[43mfield\u001b[49m\u001b[43m)\u001b[49m\n\u001b[1;32m    928\u001b[0m reference_time(cube, field)\n\u001b[1;32m    929\u001b[0m forecast_period(cube)\n",
      "File \u001b[0;32m/nfs/a321/gy17m2a/anaconda_install/anaconda3/envs/pygeospatial/lib/python3.9/site-packages/iris/fileformats/nimrod_load_rules.py:195\u001b[0m, in \u001b[0;36mtime\u001b[0;34m(cube, field)\u001b[0m\n\u001b[1;32m    193\u001b[0m     \u001b[38;5;28;01mreturn\u001b[39;00m\n\u001b[1;32m    194\u001b[0m \u001b[38;5;28;01melse\u001b[39;00m:\n\u001b[0;32m--> 195\u001b[0m     valid_date \u001b[38;5;241m=\u001b[39m \u001b[43mcftime\u001b[49m\u001b[38;5;241;43m.\u001b[39;49m\u001b[43mdatetime\u001b[49m\u001b[43m(\u001b[49m\n\u001b[1;32m    196\u001b[0m \u001b[43m        \u001b[49m\u001b[43mfield\u001b[49m\u001b[38;5;241;43m.\u001b[39;49m\u001b[43mvt_year\u001b[49m\u001b[43m,\u001b[49m\n\u001b[1;32m    197\u001b[0m \u001b[43m        \u001b[49m\u001b[43mfield\u001b[49m\u001b[38;5;241;43m.\u001b[39;49m\u001b[43mvt_month\u001b[49m\u001b[43m,\u001b[49m\n\u001b[1;32m    198\u001b[0m \u001b[43m        \u001b[49m\u001b[43mfield\u001b[49m\u001b[38;5;241;43m.\u001b[39;49m\u001b[43mvt_day\u001b[49m\u001b[43m,\u001b[49m\n\u001b[1;32m    199\u001b[0m \u001b[43m        \u001b[49m\u001b[43mfield\u001b[49m\u001b[38;5;241;43m.\u001b[39;49m\u001b[43mvt_hour\u001b[49m\u001b[43m,\u001b[49m\n\u001b[1;32m    200\u001b[0m \u001b[43m        \u001b[49m\u001b[43mfield\u001b[49m\u001b[38;5;241;43m.\u001b[39;49m\u001b[43mvt_minute\u001b[49m\u001b[43m,\u001b[49m\n\u001b[1;32m    201\u001b[0m \u001b[43m        \u001b[49m\u001b[43mfield\u001b[49m\u001b[38;5;241;43m.\u001b[39;49m\u001b[43mvt_second\u001b[49m\u001b[43m,\u001b[49m\n\u001b[1;32m    202\u001b[0m \u001b[43m    \u001b[49m\u001b[43m)\u001b[49m\n\u001b[1;32m    203\u001b[0m point \u001b[38;5;241m=\u001b[39m np\u001b[38;5;241m.\u001b[39maround(TIME_UNIT\u001b[38;5;241m.\u001b[39mdate2num(valid_date))\u001b[38;5;241m.\u001b[39mastype(np\u001b[38;5;241m.\u001b[39mint64)\n\u001b[1;32m    205\u001b[0m period_seconds \u001b[38;5;241m=\u001b[39m \u001b[38;5;28;01mNone\u001b[39;00m\n",
      "File \u001b[0;32msrc/cftime/_cftime.pyx:1158\u001b[0m, in \u001b[0;36mcftime._cftime.datetime.__init__\u001b[0;34m()\u001b[0m\n",
      "File \u001b[0;32msrc/cftime/_cftime.pyx:1767\u001b[0m, in \u001b[0;36mcftime._cftime.assert_valid_date\u001b[0;34m()\u001b[0m\n",
      "\u001b[0;31mValueError\u001b[0m: invalid second provided in cftime.datetime(2004, 7, 16, 0, 5, -32767, 0, calendar='standard', has_year_zero=False)"
     ]
    }
   ],
   "source": [
    "file_list\n",
    "\n",
    "cube_list = iris.load(sorted_list[1:10])\n",
    "cube_list"
   ]
  },
  {
   "cell_type": "code",
   "execution_count": 11,
   "id": "b4ac1bb5",
   "metadata": {},
   "outputs": [
    {
     "data": {
      "text/html": [
       "\n",
       "<style>\n",
       "    .accordion-139783519060032 {\n",
       "        color: var(--jp-ui-font-color2);\n",
       "        background: var(--jp-layout-color2);\n",
       "        cursor: pointer;\n",
       "        padding: 10px;\n",
       "        border: 1px solid var(--jp-border-color0);\n",
       "        width: 100%;\n",
       "        text-align: left;\n",
       "        font-size: 14px;\n",
       "        font-family: var(--jp-code-font-family);\n",
       "        font-weight: normal;\n",
       "        outline: none;\n",
       "        transition: 0.4s;\n",
       "    }\n",
       "    .active {\n",
       "        background: var(--jp-layout-color1);\n",
       "        font-weight: 900;\n",
       "    }\n",
       "    .accordion-139783519060032.active {\n",
       "        border: 1px solid var(--jp-brand-color1) !important;\n",
       "    }\n",
       "    .accordion-139783519060032:hover {\n",
       "        box-shadow: var(--jp-input-box-shadow);\n",
       "        border: 2px solid var(--jp-brand-color1);\n",
       "    }\n",
       "    .panel-139783519060032 {\n",
       "        padding: 0 18px;\n",
       "        margin-bottom: 5px;\n",
       "        background-color: var(--jp-layout-color1);\n",
       "        display: none;\n",
       "        overflow: hidden;\n",
       "        border: 1px solid var(--jp-brand-color2);\n",
       "    }\n",
       "</style>\n",
       "<script type=\"text/javascript\">\n",
       "    var accordion = document.getElementsByClassName(\"accordion-139783519060032\");\n",
       "    var i;\n",
       "\n",
       "    for (i = 0; i < accordion.length; i++) {\n",
       "        accordion[i].addEventListener(\"click\", function() {\n",
       "            this.classList.toggle(\"active\");\n",
       "\n",
       "            var panel = this.nextElementSibling;\n",
       "            if (panel.style.display === \"block\") {\n",
       "                panel.style.display = \"none\";\n",
       "            } else {\n",
       "                panel.style.display = \"block\";\n",
       "            }\n",
       "        });\n",
       "    }\n",
       "</script>\n",
       "\n",
       "    "
      ],
      "text/plain": [
       "[]"
      ]
     },
     "execution_count": 11,
     "metadata": {},
     "output_type": "execute_result"
    }
   ],
   "source": [
    "\n",
    "\n",
    "cube_list = iris.load(file_list[:4])\n",
    "cube_list\n"
   ]
  },
  {
   "cell_type": "code",
   "execution_count": 8,
   "id": "1bc86dc9",
   "metadata": {},
   "outputs": [
    {
     "ename": "ValueError",
     "evalue": "can't concatenate an empty CubeList",
     "output_type": "error",
     "traceback": [
      "\u001b[0;31m---------------------------------------------------------------------------\u001b[0m",
      "\u001b[0;31mValueError\u001b[0m                                Traceback (most recent call last)",
      "Cell \u001b[0;32mIn [8], line 4\u001b[0m\n\u001b[1;32m      1\u001b[0m cube_list \u001b[38;5;241m=\u001b[39m iris\u001b[38;5;241m.\u001b[39mload(file_list[:\u001b[38;5;241m4\u001b[39m])\n\u001b[1;32m      2\u001b[0m cube_list\n\u001b[0;32m----> 4\u001b[0m model_cube \u001b[38;5;241m=\u001b[39m \u001b[43mcube_list\u001b[49m\u001b[38;5;241;43m.\u001b[39;49m\u001b[43mconcatenate_cube\u001b[49m\u001b[43m(\u001b[49m\u001b[43m)\u001b[49m\n\u001b[1;32m      5\u001b[0m model_cube\n\u001b[1;32m      7\u001b[0m model_cube \u001b[38;5;241m=\u001b[39m trim_to_bbox_of_region_obs(model_cube, leeds_at_centre_gdf)\n",
      "File \u001b[0;32m/nfs/a321/gy17m2a/anaconda_install/anaconda3/envs/pygeospatial/lib/python3.9/site-packages/iris/cube.py:543\u001b[0m, in \u001b[0;36mCubeList.concatenate_cube\u001b[0;34m(self, check_aux_coords, check_cell_measures, check_ancils)\u001b[0m\n\u001b[1;32m    540\u001b[0m \u001b[38;5;28;01mfrom\u001b[39;00m \u001b[38;5;21;01miris\u001b[39;00m\u001b[38;5;21;01m.\u001b[39;00m\u001b[38;5;21;01m_concatenate\u001b[39;00m \u001b[38;5;28;01mimport\u001b[39;00m concatenate\n\u001b[1;32m    542\u001b[0m \u001b[38;5;28;01mif\u001b[39;00m \u001b[38;5;129;01mnot\u001b[39;00m \u001b[38;5;28mself\u001b[39m:\n\u001b[0;32m--> 543\u001b[0m     \u001b[38;5;28;01mraise\u001b[39;00m \u001b[38;5;167;01mValueError\u001b[39;00m(\u001b[38;5;124m\"\u001b[39m\u001b[38;5;124mcan\u001b[39m\u001b[38;5;124m'\u001b[39m\u001b[38;5;124mt concatenate an empty CubeList\u001b[39m\u001b[38;5;124m\"\u001b[39m)\n\u001b[1;32m    545\u001b[0m names \u001b[38;5;241m=\u001b[39m [cube\u001b[38;5;241m.\u001b[39mmetadata\u001b[38;5;241m.\u001b[39mname() \u001b[38;5;28;01mfor\u001b[39;00m cube \u001b[38;5;129;01min\u001b[39;00m \u001b[38;5;28mself\u001b[39m]\n\u001b[1;32m    546\u001b[0m unique_names \u001b[38;5;241m=\u001b[39m \u001b[38;5;28mlist\u001b[39m(OrderedDict\u001b[38;5;241m.\u001b[39mfromkeys(names))\n",
      "\u001b[0;31mValueError\u001b[0m: can't concatenate an empty CubeList"
     ]
    }
   ],
   "source": [
    "cube_list = iris.load(file_list[:4])\n",
    "cube_list\n",
    "\n",
    "model_cube = cube_list.concatenate_cube()\n",
    "model_cube\n",
    "\n",
    "model_cube = trim_to_bbox_of_region_obs(model_cube, leeds_at_centre_gdf)\n",
    "print(model_cube)\n",
    "print(model_cube.shape)"
   ]
  },
  {
   "cell_type": "code",
   "execution_count": null,
   "id": "040b79a4",
   "metadata": {},
   "outputs": [],
   "source": []
  }
 ],
 "metadata": {
  "kernelspec": {
   "display_name": "Python 3 (ipykernel)",
   "language": "python",
   "name": "python3"
  },
  "language_info": {
   "codemirror_mode": {
    "name": "ipython",
    "version": 3
   },
   "file_extension": ".py",
   "mimetype": "text/x-python",
   "name": "python",
   "nbconvert_exporter": "python",
   "pygments_lexer": "ipython3",
   "version": "3.9.7"
  }
 },
 "nbformat": 4,
 "nbformat_minor": 5
}
