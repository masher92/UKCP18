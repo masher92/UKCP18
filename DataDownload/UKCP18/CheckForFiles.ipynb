version https://git-lfs.github.com/spec/v1
oid sha256:cd8d0b3e5c5265a8cb0aa0e36b8bd4849a3c47208442cafcaf5cb68fe829bfbe
size 270786
