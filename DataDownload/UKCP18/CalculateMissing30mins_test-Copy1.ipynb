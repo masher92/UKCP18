{
 "cells": [
  {
   "cell_type": "code",
   "execution_count": null,
   "id": "63c3ce78",
   "metadata": {},
   "outputs": [
    {
     "name": "stdout",
     "output_type": "stream",
     "text": [
      "scp masher92@xfer1.jasmin.ac.uk:/gws/nopw/j04/icasp_swf/masher/bc018/bc018a.pr20150101.pp \"/nfs/a319/gy17m2a/PhD/datadir/UKCP18_first30mins/2002_2020/bc018/\"\n"
     ]
    },
    {
     "name": "stderr",
     "output_type": "stream",
     "text": [
      "\n",
      "            Access to this system is monitored and restricted to\n",
      "            authorised users.   If you do not have authorisation\n",
      "            to use  this system,  you should not  proceed beyond\n",
      "            this point and should disconnect immediately.\n",
      "\n",
      "            Unauthorised use could lead to prosecution.\n",
      "\n",
      "    (See also - http://www.stfc.ac.uk/aup)\n",
      "\n"
     ]
    },
    {
     "name": "stdout",
     "output_type": "stream",
     "text": [
      "Successfully downloaded bc018a.pr20150101.pp\n",
      "scp masher92@xfer1.jasmin.ac.uk:/gws/nopw/j04/icasp_swf/masher/bc018/bc018a.pr20150102.pp \"/nfs/a319/gy17m2a/PhD/datadir/UKCP18_first30mins/2002_2020/bc018/\"\n"
     ]
    },
    {
     "name": "stderr",
     "output_type": "stream",
     "text": [
      "ssh: connect to host xfer1.jasmin.ac.uk port 22: Connection timed out\r\n"
     ]
    },
    {
     "name": "stdout",
     "output_type": "stream",
     "text": [
      "Failed to download bc018a.pr20150102.pp\n",
      "scp masher92@xfer1.jasmin.ac.uk:/gws/nopw/j04/icasp_swf/masher/bc018/bc018a.pr20150103.pp \"/nfs/a319/gy17m2a/PhD/datadir/UKCP18_first30mins/2002_2020/bc018/\"\n"
     ]
    },
    {
     "name": "stderr",
     "output_type": "stream",
     "text": [
      "\n",
      "            Access to this system is monitored and restricted to\n",
      "            authorised users.   If you do not have authorisation\n",
      "            to use  this system,  you should not  proceed beyond\n",
      "            this point and should disconnect immediately.\n",
      "\n",
      "            Unauthorised use could lead to prosecution.\n",
      "\n",
      "    (See also - http://www.stfc.ac.uk/aup)\n",
      "\n"
     ]
    },
    {
     "name": "stdout",
     "output_type": "stream",
     "text": [
      "Successfully downloaded bc018a.pr20150103.pp\n",
      "scp masher92@xfer1.jasmin.ac.uk:/gws/nopw/j04/icasp_swf/masher/bc018/bc018a.pr20150104.pp \"/nfs/a319/gy17m2a/PhD/datadir/UKCP18_first30mins/2002_2020/bc018/\"\n"
     ]
    },
    {
     "name": "stderr",
     "output_type": "stream",
     "text": [
      "\n",
      "            Access to this system is monitored and restricted to\n",
      "            authorised users.   If you do not have authorisation\n",
      "            to use  this system,  you should not  proceed beyond\n",
      "            this point and should disconnect immediately.\n",
      "\n",
      "            Unauthorised use could lead to prosecution.\n",
      "\n",
      "    (See also - http://www.stfc.ac.uk/aup)\n",
      "\n"
     ]
    },
    {
     "name": "stdout",
     "output_type": "stream",
     "text": [
      "Successfully downloaded bc018a.pr20150104.pp\n",
      "scp masher92@xfer1.jasmin.ac.uk:/gws/nopw/j04/icasp_swf/masher/bc018/bc018a.pr20150105.pp \"/nfs/a319/gy17m2a/PhD/datadir/UKCP18_first30mins/2002_2020/bc018/\"\n"
     ]
    },
    {
     "name": "stderr",
     "output_type": "stream",
     "text": [
      "ssh: connect to host xfer1.jasmin.ac.uk port 22: Connection timed out\r\n"
     ]
    },
    {
     "name": "stdout",
     "output_type": "stream",
     "text": [
      "Failed to download bc018a.pr20150105.pp\n",
      "scp masher92@xfer1.jasmin.ac.uk:/gws/nopw/j04/icasp_swf/masher/bc018/bc018a.pr20150106.pp \"/nfs/a319/gy17m2a/PhD/datadir/UKCP18_first30mins/2002_2020/bc018/\"\n"
     ]
    },
    {
     "name": "stderr",
     "output_type": "stream",
     "text": [
      "\n",
      "            Access to this system is monitored and restricted to\n",
      "            authorised users.   If you do not have authorisation\n",
      "            to use  this system,  you should not  proceed beyond\n",
      "            this point and should disconnect immediately.\n",
      "\n",
      "            Unauthorised use could lead to prosecution.\n",
      "\n",
      "    (See also - http://www.stfc.ac.uk/aup)\n",
      "\n"
     ]
    },
    {
     "name": "stdout",
     "output_type": "stream",
     "text": [
      "Successfully downloaded bc018a.pr20150106.pp\n",
      "scp masher92@xfer1.jasmin.ac.uk:/gws/nopw/j04/icasp_swf/masher/bc018/bc018a.pr20150107.pp \"/nfs/a319/gy17m2a/PhD/datadir/UKCP18_first30mins/2002_2020/bc018/\"\n"
     ]
    },
    {
     "name": "stderr",
     "output_type": "stream",
     "text": [
      "\n",
      "            Access to this system is monitored and restricted to\n",
      "            authorised users.   If you do not have authorisation\n",
      "            to use  this system,  you should not  proceed beyond\n",
      "            this point and should disconnect immediately.\n",
      "\n",
      "            Unauthorised use could lead to prosecution.\n",
      "\n",
      "    (See also - http://www.stfc.ac.uk/aup)\n",
      "\n"
     ]
    },
    {
     "name": "stdout",
     "output_type": "stream",
     "text": [
      "Successfully downloaded bc018a.pr20150107.pp\n",
      "scp masher92@xfer1.jasmin.ac.uk:/gws/nopw/j04/icasp_swf/masher/bc018/bc018a.pr20150108.pp \"/nfs/a319/gy17m2a/PhD/datadir/UKCP18_first30mins/2002_2020/bc018/\"\n"
     ]
    },
    {
     "name": "stderr",
     "output_type": "stream",
     "text": [
      "\n",
      "            Access to this system is monitored and restricted to\n",
      "            authorised users.   If you do not have authorisation\n",
      "            to use  this system,  you should not  proceed beyond\n",
      "            this point and should disconnect immediately.\n",
      "\n",
      "            Unauthorised use could lead to prosecution.\n",
      "\n",
      "    (See also - http://www.stfc.ac.uk/aup)\n",
      "\n"
     ]
    },
    {
     "name": "stdout",
     "output_type": "stream",
     "text": [
      "Successfully downloaded bc018a.pr20150108.pp\n",
      "scp masher92@xfer1.jasmin.ac.uk:/gws/nopw/j04/icasp_swf/masher/bc018/bc018a.pr20150109.pp \"/nfs/a319/gy17m2a/PhD/datadir/UKCP18_first30mins/2002_2020/bc018/\"\n"
     ]
    },
    {
     "name": "stderr",
     "output_type": "stream",
     "text": [
      "ssh: connect to host xfer1.jasmin.ac.uk port 22: Connection timed out\r\n"
     ]
    },
    {
     "name": "stdout",
     "output_type": "stream",
     "text": [
      "Failed to download bc018a.pr20150109.pp\n",
      "scp masher92@xfer1.jasmin.ac.uk:/gws/nopw/j04/icasp_swf/masher/bc018/bc018a.pr20150110.pp \"/nfs/a319/gy17m2a/PhD/datadir/UKCP18_first30mins/2002_2020/bc018/\"\n"
     ]
    },
    {
     "name": "stderr",
     "output_type": "stream",
     "text": [
      "\n",
      "            Access to this system is monitored and restricted to\n",
      "            authorised users.   If you do not have authorisation\n",
      "            to use  this system,  you should not  proceed beyond\n",
      "            this point and should disconnect immediately.\n",
      "\n",
      "            Unauthorised use could lead to prosecution.\n",
      "\n",
      "    (See also - http://www.stfc.ac.uk/aup)\n",
      "\n"
     ]
    },
    {
     "name": "stdout",
     "output_type": "stream",
     "text": [
      "Successfully downloaded bc018a.pr20150110.pp\n",
      "scp masher92@xfer1.jasmin.ac.uk:/gws/nopw/j04/icasp_swf/masher/bc018/bc018a.pr20150111.pp \"/nfs/a319/gy17m2a/PhD/datadir/UKCP18_first30mins/2002_2020/bc018/\"\n"
     ]
    },
    {
     "name": "stderr",
     "output_type": "stream",
     "text": [
      "\n",
      "            Access to this system is monitored and restricted to\n",
      "            authorised users.   If you do not have authorisation\n",
      "            to use  this system,  you should not  proceed beyond\n",
      "            this point and should disconnect immediately.\n",
      "\n",
      "            Unauthorised use could lead to prosecution.\n",
      "\n",
      "    (See also - http://www.stfc.ac.uk/aup)\n",
      "\n"
     ]
    },
    {
     "name": "stdout",
     "output_type": "stream",
     "text": [
      "Successfully downloaded bc018a.pr20150111.pp\n",
      "scp masher92@xfer1.jasmin.ac.uk:/gws/nopw/j04/icasp_swf/masher/bc018/bc018a.pr20150112.pp \"/nfs/a319/gy17m2a/PhD/datadir/UKCP18_first30mins/2002_2020/bc018/\"\n"
     ]
    },
    {
     "name": "stderr",
     "output_type": "stream",
     "text": [
      "\n",
      "            Access to this system is monitored and restricted to\n",
      "            authorised users.   If you do not have authorisation\n",
      "            to use  this system,  you should not  proceed beyond\n",
      "            this point and should disconnect immediately.\n",
      "\n",
      "            Unauthorised use could lead to prosecution.\n",
      "\n",
      "    (See also - http://www.stfc.ac.uk/aup)\n",
      "\n"
     ]
    },
    {
     "name": "stdout",
     "output_type": "stream",
     "text": [
      "Successfully downloaded bc018a.pr20150112.pp\n",
      "scp masher92@xfer1.jasmin.ac.uk:/gws/nopw/j04/icasp_swf/masher/bc018/bc018a.pr20150113.pp \"/nfs/a319/gy17m2a/PhD/datadir/UKCP18_first30mins/2002_2020/bc018/\"\n"
     ]
    },
    {
     "name": "stderr",
     "output_type": "stream",
     "text": [
      "ssh: connect to host xfer1.jasmin.ac.uk port 22: Connection timed out\r\n"
     ]
    },
    {
     "name": "stdout",
     "output_type": "stream",
     "text": [
      "Failed to download bc018a.pr20150113.pp\n",
      "scp masher92@xfer1.jasmin.ac.uk:/gws/nopw/j04/icasp_swf/masher/bc018/bc018a.pr20150114.pp \"/nfs/a319/gy17m2a/PhD/datadir/UKCP18_first30mins/2002_2020/bc018/\"\n"
     ]
    },
    {
     "name": "stderr",
     "output_type": "stream",
     "text": [
      "\n",
      "            Access to this system is monitored and restricted to\n",
      "            authorised users.   If you do not have authorisation\n",
      "            to use  this system,  you should not  proceed beyond\n",
      "            this point and should disconnect immediately.\n",
      "\n",
      "            Unauthorised use could lead to prosecution.\n",
      "\n",
      "    (See also - http://www.stfc.ac.uk/aup)\n",
      "\n"
     ]
    },
    {
     "name": "stdout",
     "output_type": "stream",
     "text": [
      "Successfully downloaded bc018a.pr20150114.pp\n",
      "scp masher92@xfer1.jasmin.ac.uk:/gws/nopw/j04/icasp_swf/masher/bc018/bc018a.pr20150115.pp \"/nfs/a319/gy17m2a/PhD/datadir/UKCP18_first30mins/2002_2020/bc018/\"\n"
     ]
    },
    {
     "name": "stderr",
     "output_type": "stream",
     "text": [
      "ssh: connect to host xfer1.jasmin.ac.uk port 22: Connection timed out\r\n"
     ]
    },
    {
     "name": "stdout",
     "output_type": "stream",
     "text": [
      "Failed to download bc018a.pr20150115.pp\n",
      "scp masher92@xfer1.jasmin.ac.uk:/gws/nopw/j04/icasp_swf/masher/bc018/bc018a.pr20150116.pp \"/nfs/a319/gy17m2a/PhD/datadir/UKCP18_first30mins/2002_2020/bc018/\"\n"
     ]
    },
    {
     "name": "stderr",
     "output_type": "stream",
     "text": [
      "\n",
      "            Access to this system is monitored and restricted to\n",
      "            authorised users.   If you do not have authorisation\n",
      "            to use  this system,  you should not  proceed beyond\n",
      "            this point and should disconnect immediately.\n",
      "\n",
      "            Unauthorised use could lead to prosecution.\n",
      "\n",
      "    (See also - http://www.stfc.ac.uk/aup)\n",
      "\n"
     ]
    },
    {
     "name": "stdout",
     "output_type": "stream",
     "text": [
      "Successfully downloaded bc018a.pr20150116.pp\n",
      "scp masher92@xfer1.jasmin.ac.uk:/gws/nopw/j04/icasp_swf/masher/bc018/bc018a.pr20150117.pp \"/nfs/a319/gy17m2a/PhD/datadir/UKCP18_first30mins/2002_2020/bc018/\"\n"
     ]
    },
    {
     "name": "stderr",
     "output_type": "stream",
     "text": [
      "\n",
      "            Access to this system is monitored and restricted to\n",
      "            authorised users.   If you do not have authorisation\n",
      "            to use  this system,  you should not  proceed beyond\n",
      "            this point and should disconnect immediately.\n",
      "\n",
      "            Unauthorised use could lead to prosecution.\n",
      "\n",
      "    (See also - http://www.stfc.ac.uk/aup)\n",
      "\n"
     ]
    },
    {
     "name": "stdout",
     "output_type": "stream",
     "text": [
      "Successfully downloaded bc018a.pr20150117.pp\n",
      "scp masher92@xfer1.jasmin.ac.uk:/gws/nopw/j04/icasp_swf/masher/bc018/bc018a.pr20150118.pp \"/nfs/a319/gy17m2a/PhD/datadir/UKCP18_first30mins/2002_2020/bc018/\"\n"
     ]
    },
    {
     "name": "stderr",
     "output_type": "stream",
     "text": [
      "\n",
      "            Access to this system is monitored and restricted to\n",
      "            authorised users.   If you do not have authorisation\n",
      "            to use  this system,  you should not  proceed beyond\n",
      "            this point and should disconnect immediately.\n",
      "\n",
      "            Unauthorised use could lead to prosecution.\n",
      "\n",
      "    (See also - http://www.stfc.ac.uk/aup)\n",
      "\n"
     ]
    },
    {
     "name": "stdout",
     "output_type": "stream",
     "text": [
      "Successfully downloaded bc018a.pr20150118.pp\n",
      "scp masher92@xfer1.jasmin.ac.uk:/gws/nopw/j04/icasp_swf/masher/bc018/bc018a.pr20150119.pp \"/nfs/a319/gy17m2a/PhD/datadir/UKCP18_first30mins/2002_2020/bc018/\"\n"
     ]
    },
    {
     "name": "stderr",
     "output_type": "stream",
     "text": [
      "\n",
      "            Access to this system is monitored and restricted to\n",
      "            authorised users.   If you do not have authorisation\n",
      "            to use  this system,  you should not  proceed beyond\n",
      "            this point and should disconnect immediately.\n",
      "\n",
      "            Unauthorised use could lead to prosecution.\n",
      "\n",
      "    (See also - http://www.stfc.ac.uk/aup)\n",
      "\n"
     ]
    },
    {
     "name": "stdout",
     "output_type": "stream",
     "text": [
      "Successfully downloaded bc018a.pr20150119.pp\n",
      "scp masher92@xfer1.jasmin.ac.uk:/gws/nopw/j04/icasp_swf/masher/bc018/bc018a.pr20150120.pp \"/nfs/a319/gy17m2a/PhD/datadir/UKCP18_first30mins/2002_2020/bc018/\"\n"
     ]
    },
    {
     "name": "stderr",
     "output_type": "stream",
     "text": [
      "\n",
      "            Access to this system is monitored and restricted to\n",
      "            authorised users.   If you do not have authorisation\n",
      "            to use  this system,  you should not  proceed beyond\n",
      "            this point and should disconnect immediately.\n",
      "\n",
      "            Unauthorised use could lead to prosecution.\n",
      "\n",
      "    (See also - http://www.stfc.ac.uk/aup)\n",
      "\n"
     ]
    },
    {
     "name": "stdout",
     "output_type": "stream",
     "text": [
      "Successfully downloaded bc018a.pr20150120.pp\n",
      "scp masher92@xfer1.jasmin.ac.uk:/gws/nopw/j04/icasp_swf/masher/bc018/bc018a.pr20150121.pp \"/nfs/a319/gy17m2a/PhD/datadir/UKCP18_first30mins/2002_2020/bc018/\"\n"
     ]
    },
    {
     "name": "stderr",
     "output_type": "stream",
     "text": [
      "\n",
      "            Access to this system is monitored and restricted to\n",
      "            authorised users.   If you do not have authorisation\n",
      "            to use  this system,  you should not  proceed beyond\n",
      "            this point and should disconnect immediately.\n",
      "\n",
      "            Unauthorised use could lead to prosecution.\n",
      "\n",
      "    (See also - http://www.stfc.ac.uk/aup)\n",
      "\n"
     ]
    },
    {
     "name": "stdout",
     "output_type": "stream",
     "text": [
      "Successfully downloaded bc018a.pr20150121.pp\n",
      "scp masher92@xfer1.jasmin.ac.uk:/gws/nopw/j04/icasp_swf/masher/bc018/bc018a.pr20150122.pp \"/nfs/a319/gy17m2a/PhD/datadir/UKCP18_first30mins/2002_2020/bc018/\"\n"
     ]
    },
    {
     "name": "stderr",
     "output_type": "stream",
     "text": [
      "\n",
      "            Access to this system is monitored and restricted to\n",
      "            authorised users.   If you do not have authorisation\n",
      "            to use  this system,  you should not  proceed beyond\n",
      "            this point and should disconnect immediately.\n",
      "\n",
      "            Unauthorised use could lead to prosecution.\n",
      "\n",
      "    (See also - http://www.stfc.ac.uk/aup)\n",
      "\n"
     ]
    },
    {
     "name": "stdout",
     "output_type": "stream",
     "text": [
      "Successfully downloaded bc018a.pr20150122.pp\n",
      "scp masher92@xfer1.jasmin.ac.uk:/gws/nopw/j04/icasp_swf/masher/bc018/bc018a.pr20150123.pp \"/nfs/a319/gy17m2a/PhD/datadir/UKCP18_first30mins/2002_2020/bc018/\"\n"
     ]
    },
    {
     "name": "stderr",
     "output_type": "stream",
     "text": [
      "\n",
      "            Access to this system is monitored and restricted to\n",
      "            authorised users.   If you do not have authorisation\n",
      "            to use  this system,  you should not  proceed beyond\n",
      "            this point and should disconnect immediately.\n",
      "\n",
      "            Unauthorised use could lead to prosecution.\n",
      "\n",
      "    (See also - http://www.stfc.ac.uk/aup)\n",
      "\n"
     ]
    },
    {
     "name": "stdout",
     "output_type": "stream",
     "text": [
      "Successfully downloaded bc018a.pr20150123.pp\n",
      "scp masher92@xfer1.jasmin.ac.uk:/gws/nopw/j04/icasp_swf/masher/bc018/bc018a.pr20150124.pp \"/nfs/a319/gy17m2a/PhD/datadir/UKCP18_first30mins/2002_2020/bc018/\"\n"
     ]
    },
    {
     "name": "stderr",
     "output_type": "stream",
     "text": [
      "\n",
      "            Access to this system is monitored and restricted to\n",
      "            authorised users.   If you do not have authorisation\n",
      "            to use  this system,  you should not  proceed beyond\n",
      "            this point and should disconnect immediately.\n",
      "\n",
      "            Unauthorised use could lead to prosecution.\n",
      "\n",
      "    (See also - http://www.stfc.ac.uk/aup)\n",
      "\n"
     ]
    },
    {
     "name": "stdout",
     "output_type": "stream",
     "text": [
      "Successfully downloaded bc018a.pr20150124.pp\n",
      "scp masher92@xfer1.jasmin.ac.uk:/gws/nopw/j04/icasp_swf/masher/bc018/bc018a.pr20150125.pp \"/nfs/a319/gy17m2a/PhD/datadir/UKCP18_first30mins/2002_2020/bc018/\"\n"
     ]
    },
    {
     "name": "stderr",
     "output_type": "stream",
     "text": [
      "\n",
      "            Access to this system is monitored and restricted to\n",
      "            authorised users.   If you do not have authorisation\n",
      "            to use  this system,  you should not  proceed beyond\n",
      "            this point and should disconnect immediately.\n",
      "\n",
      "            Unauthorised use could lead to prosecution.\n",
      "\n",
      "    (See also - http://www.stfc.ac.uk/aup)\n",
      "\n"
     ]
    },
    {
     "name": "stdout",
     "output_type": "stream",
     "text": [
      "Successfully downloaded bc018a.pr20150125.pp\n",
      "scp masher92@xfer1.jasmin.ac.uk:/gws/nopw/j04/icasp_swf/masher/bc018/bc018a.pr20150126.pp \"/nfs/a319/gy17m2a/PhD/datadir/UKCP18_first30mins/2002_2020/bc018/\"\n"
     ]
    },
    {
     "name": "stderr",
     "output_type": "stream",
     "text": [
      "\n",
      "            Access to this system is monitored and restricted to\n",
      "            authorised users.   If you do not have authorisation\n",
      "            to use  this system,  you should not  proceed beyond\n",
      "            this point and should disconnect immediately.\n",
      "\n",
      "            Unauthorised use could lead to prosecution.\n",
      "\n",
      "    (See also - http://www.stfc.ac.uk/aup)\n",
      "\n"
     ]
    },
    {
     "name": "stdout",
     "output_type": "stream",
     "text": [
      "Successfully downloaded bc018a.pr20150126.pp\n",
      "scp masher92@xfer1.jasmin.ac.uk:/gws/nopw/j04/icasp_swf/masher/bc018/bc018a.pr20150127.pp \"/nfs/a319/gy17m2a/PhD/datadir/UKCP18_first30mins/2002_2020/bc018/\"\n"
     ]
    },
    {
     "name": "stderr",
     "output_type": "stream",
     "text": [
      "\n",
      "            Access to this system is monitored and restricted to\n",
      "            authorised users.   If you do not have authorisation\n",
      "            to use  this system,  you should not  proceed beyond\n",
      "            this point and should disconnect immediately.\n",
      "\n",
      "            Unauthorised use could lead to prosecution.\n",
      "\n",
      "    (See also - http://www.stfc.ac.uk/aup)\n",
      "\n"
     ]
    },
    {
     "name": "stdout",
     "output_type": "stream",
     "text": [
      "Successfully downloaded bc018a.pr20150127.pp\n",
      "scp masher92@xfer1.jasmin.ac.uk:/gws/nopw/j04/icasp_swf/masher/bc018/bc018a.pr20150128.pp \"/nfs/a319/gy17m2a/PhD/datadir/UKCP18_first30mins/2002_2020/bc018/\"\n"
     ]
    },
    {
     "name": "stderr",
     "output_type": "stream",
     "text": [
      "\n",
      "            Access to this system is monitored and restricted to\n",
      "            authorised users.   If you do not have authorisation\n",
      "            to use  this system,  you should not  proceed beyond\n",
      "            this point and should disconnect immediately.\n",
      "\n",
      "            Unauthorised use could lead to prosecution.\n",
      "\n",
      "    (See also - http://www.stfc.ac.uk/aup)\n",
      "\n"
     ]
    },
    {
     "name": "stdout",
     "output_type": "stream",
     "text": [
      "Successfully downloaded bc018a.pr20150128.pp\n",
      "scp masher92@xfer1.jasmin.ac.uk:/gws/nopw/j04/icasp_swf/masher/bc018/bc018a.pr20150129.pp \"/nfs/a319/gy17m2a/PhD/datadir/UKCP18_first30mins/2002_2020/bc018/\"\n"
     ]
    },
    {
     "name": "stderr",
     "output_type": "stream",
     "text": [
      "\n",
      "            Access to this system is monitored and restricted to\n",
      "            authorised users.   If you do not have authorisation\n",
      "            to use  this system,  you should not  proceed beyond\n",
      "            this point and should disconnect immediately.\n",
      "\n",
      "            Unauthorised use could lead to prosecution.\n",
      "\n",
      "    (See also - http://www.stfc.ac.uk/aup)\n",
      "\n"
     ]
    },
    {
     "name": "stdout",
     "output_type": "stream",
     "text": [
      "Successfully downloaded bc018a.pr20150129.pp\n",
      "scp masher92@xfer1.jasmin.ac.uk:/gws/nopw/j04/icasp_swf/masher/bc018/bc018a.pr20150130.pp \"/nfs/a319/gy17m2a/PhD/datadir/UKCP18_first30mins/2002_2020/bc018/\"\n"
     ]
    },
    {
     "name": "stderr",
     "output_type": "stream",
     "text": [
      "\n",
      "            Access to this system is monitored and restricted to\n",
      "            authorised users.   If you do not have authorisation\n",
      "            to use  this system,  you should not  proceed beyond\n",
      "            this point and should disconnect immediately.\n",
      "\n",
      "            Unauthorised use could lead to prosecution.\n",
      "\n",
      "    (See also - http://www.stfc.ac.uk/aup)\n",
      "\n"
     ]
    },
    {
     "name": "stdout",
     "output_type": "stream",
     "text": [
      "Successfully downloaded bc018a.pr20150130.pp\n",
      "scp masher92@xfer1.jasmin.ac.uk:/gws/nopw/j04/icasp_swf/masher/bc018/bc018a.pr20150201.pp \"/nfs/a319/gy17m2a/PhD/datadir/UKCP18_first30mins/2002_2020/bc018/\"\n"
     ]
    },
    {
     "name": "stderr",
     "output_type": "stream",
     "text": [
      "\n",
      "            Access to this system is monitored and restricted to\n",
      "            authorised users.   If you do not have authorisation\n",
      "            to use  this system,  you should not  proceed beyond\n",
      "            this point and should disconnect immediately.\n",
      "\n",
      "            Unauthorised use could lead to prosecution.\n",
      "\n",
      "    (See also - http://www.stfc.ac.uk/aup)\n",
      "\n"
     ]
    },
    {
     "name": "stdout",
     "output_type": "stream",
     "text": [
      "Successfully downloaded bc018a.pr20150201.pp\n",
      "scp masher92@xfer1.jasmin.ac.uk:/gws/nopw/j04/icasp_swf/masher/bc018/bc018a.pr20150202.pp \"/nfs/a319/gy17m2a/PhD/datadir/UKCP18_first30mins/2002_2020/bc018/\"\n"
     ]
    },
    {
     "name": "stderr",
     "output_type": "stream",
     "text": [
      "\n",
      "            Access to this system is monitored and restricted to\n",
      "            authorised users.   If you do not have authorisation\n",
      "            to use  this system,  you should not  proceed beyond\n",
      "            this point and should disconnect immediately.\n",
      "\n",
      "            Unauthorised use could lead to prosecution.\n",
      "\n",
      "    (See also - http://www.stfc.ac.uk/aup)\n",
      "\n"
     ]
    },
    {
     "name": "stdout",
     "output_type": "stream",
     "text": [
      "Successfully downloaded bc018a.pr20150202.pp\n",
      "scp masher92@xfer1.jasmin.ac.uk:/gws/nopw/j04/icasp_swf/masher/bc018/bc018a.pr20150203.pp \"/nfs/a319/gy17m2a/PhD/datadir/UKCP18_first30mins/2002_2020/bc018/\"\n"
     ]
    },
    {
     "name": "stderr",
     "output_type": "stream",
     "text": [
      "\n",
      "            Access to this system is monitored and restricted to\n",
      "            authorised users.   If you do not have authorisation\n",
      "            to use  this system,  you should not  proceed beyond\n",
      "            this point and should disconnect immediately.\n",
      "\n",
      "            Unauthorised use could lead to prosecution.\n",
      "\n",
      "    (See also - http://www.stfc.ac.uk/aup)\n",
      "\n"
     ]
    },
    {
     "name": "stdout",
     "output_type": "stream",
     "text": [
      "Successfully downloaded bc018a.pr20150203.pp\n",
      "scp masher92@xfer1.jasmin.ac.uk:/gws/nopw/j04/icasp_swf/masher/bc018/bc018a.pr20150204.pp \"/nfs/a319/gy17m2a/PhD/datadir/UKCP18_first30mins/2002_2020/bc018/\"\n"
     ]
    },
    {
     "name": "stderr",
     "output_type": "stream",
     "text": [
      "ssh: connect to host xfer1.jasmin.ac.uk port 22: Connection timed out\r\n"
     ]
    },
    {
     "name": "stdout",
     "output_type": "stream",
     "text": [
      "Failed to download bc018a.pr20150204.pp\n",
      "scp masher92@xfer1.jasmin.ac.uk:/gws/nopw/j04/icasp_swf/masher/bc018/bc018a.pr20150205.pp \"/nfs/a319/gy17m2a/PhD/datadir/UKCP18_first30mins/2002_2020/bc018/\"\n"
     ]
    },
    {
     "name": "stderr",
     "output_type": "stream",
     "text": [
      "\n",
      "            Access to this system is monitored and restricted to\n",
      "            authorised users.   If you do not have authorisation\n",
      "            to use  this system,  you should not  proceed beyond\n",
      "            this point and should disconnect immediately.\n",
      "\n",
      "            Unauthorised use could lead to prosecution.\n",
      "\n",
      "    (See also - http://www.stfc.ac.uk/aup)\n",
      "\n"
     ]
    },
    {
     "name": "stdout",
     "output_type": "stream",
     "text": [
      "Successfully downloaded bc018a.pr20150205.pp\n",
      "scp masher92@xfer1.jasmin.ac.uk:/gws/nopw/j04/icasp_swf/masher/bc018/bc018a.pr20150206.pp \"/nfs/a319/gy17m2a/PhD/datadir/UKCP18_first30mins/2002_2020/bc018/\"\n"
     ]
    },
    {
     "name": "stderr",
     "output_type": "stream",
     "text": [
      "\n",
      "            Access to this system is monitored and restricted to\n",
      "            authorised users.   If you do not have authorisation\n",
      "            to use  this system,  you should not  proceed beyond\n",
      "            this point and should disconnect immediately.\n",
      "\n",
      "            Unauthorised use could lead to prosecution.\n",
      "\n",
      "    (See also - http://www.stfc.ac.uk/aup)\n",
      "\n"
     ]
    },
    {
     "name": "stdout",
     "output_type": "stream",
     "text": [
      "Successfully downloaded bc018a.pr20150206.pp\n",
      "scp masher92@xfer1.jasmin.ac.uk:/gws/nopw/j04/icasp_swf/masher/bc018/bc018a.pr20150207.pp \"/nfs/a319/gy17m2a/PhD/datadir/UKCP18_first30mins/2002_2020/bc018/\"\n"
     ]
    },
    {
     "name": "stderr",
     "output_type": "stream",
     "text": [
      "\n",
      "            Access to this system is monitored and restricted to\n",
      "            authorised users.   If you do not have authorisation\n",
      "            to use  this system,  you should not  proceed beyond\n",
      "            this point and should disconnect immediately.\n",
      "\n",
      "            Unauthorised use could lead to prosecution.\n",
      "\n",
      "    (See also - http://www.stfc.ac.uk/aup)\n",
      "\n"
     ]
    },
    {
     "name": "stdout",
     "output_type": "stream",
     "text": [
      "Successfully downloaded bc018a.pr20150207.pp\n",
      "scp masher92@xfer1.jasmin.ac.uk:/gws/nopw/j04/icasp_swf/masher/bc018/bc018a.pr20150208.pp \"/nfs/a319/gy17m2a/PhD/datadir/UKCP18_first30mins/2002_2020/bc018/\"\n"
     ]
    },
    {
     "name": "stderr",
     "output_type": "stream",
     "text": [
      "\n",
      "            Access to this system is monitored and restricted to\n",
      "            authorised users.   If you do not have authorisation\n",
      "            to use  this system,  you should not  proceed beyond\n",
      "            this point and should disconnect immediately.\n",
      "\n",
      "            Unauthorised use could lead to prosecution.\n",
      "\n",
      "    (See also - http://www.stfc.ac.uk/aup)\n",
      "\n"
     ]
    },
    {
     "name": "stdout",
     "output_type": "stream",
     "text": [
      "Successfully downloaded bc018a.pr20150208.pp\n",
      "scp masher92@xfer1.jasmin.ac.uk:/gws/nopw/j04/icasp_swf/masher/bc018/bc018a.pr20150209.pp \"/nfs/a319/gy17m2a/PhD/datadir/UKCP18_first30mins/2002_2020/bc018/\"\n"
     ]
    },
    {
     "name": "stderr",
     "output_type": "stream",
     "text": [
      "\n",
      "            Access to this system is monitored and restricted to\n",
      "            authorised users.   If you do not have authorisation\n",
      "            to use  this system,  you should not  proceed beyond\n",
      "            this point and should disconnect immediately.\n",
      "\n",
      "            Unauthorised use could lead to prosecution.\n",
      "\n",
      "    (See also - http://www.stfc.ac.uk/aup)\n",
      "\n"
     ]
    },
    {
     "name": "stdout",
     "output_type": "stream",
     "text": [
      "Successfully downloaded bc018a.pr20150209.pp\n",
      "scp masher92@xfer1.jasmin.ac.uk:/gws/nopw/j04/icasp_swf/masher/bc018/bc018a.pr20150210.pp \"/nfs/a319/gy17m2a/PhD/datadir/UKCP18_first30mins/2002_2020/bc018/\"\n"
     ]
    },
    {
     "name": "stderr",
     "output_type": "stream",
     "text": [
      "\n",
      "            Access to this system is monitored and restricted to\n",
      "            authorised users.   If you do not have authorisation\n",
      "            to use  this system,  you should not  proceed beyond\n",
      "            this point and should disconnect immediately.\n",
      "\n",
      "            Unauthorised use could lead to prosecution.\n",
      "\n",
      "    (See also - http://www.stfc.ac.uk/aup)\n",
      "\n"
     ]
    },
    {
     "name": "stdout",
     "output_type": "stream",
     "text": [
      "Successfully downloaded bc018a.pr20150210.pp\n",
      "scp masher92@xfer1.jasmin.ac.uk:/gws/nopw/j04/icasp_swf/masher/bc018/bc018a.pr20150211.pp \"/nfs/a319/gy17m2a/PhD/datadir/UKCP18_first30mins/2002_2020/bc018/\"\n"
     ]
    },
    {
     "name": "stderr",
     "output_type": "stream",
     "text": [
      "\n",
      "            Access to this system is monitored and restricted to\n",
      "            authorised users.   If you do not have authorisation\n",
      "            to use  this system,  you should not  proceed beyond\n",
      "            this point and should disconnect immediately.\n",
      "\n",
      "            Unauthorised use could lead to prosecution.\n",
      "\n",
      "    (See also - http://www.stfc.ac.uk/aup)\n",
      "\n"
     ]
    },
    {
     "name": "stdout",
     "output_type": "stream",
     "text": [
      "Successfully downloaded bc018a.pr20150211.pp\n",
      "scp masher92@xfer1.jasmin.ac.uk:/gws/nopw/j04/icasp_swf/masher/bc018/bc018a.pr20150212.pp \"/nfs/a319/gy17m2a/PhD/datadir/UKCP18_first30mins/2002_2020/bc018/\"\n"
     ]
    },
    {
     "name": "stderr",
     "output_type": "stream",
     "text": [
      "\n",
      "            Access to this system is monitored and restricted to\n",
      "            authorised users.   If you do not have authorisation\n",
      "            to use  this system,  you should not  proceed beyond\n",
      "            this point and should disconnect immediately.\n",
      "\n",
      "            Unauthorised use could lead to prosecution.\n",
      "\n",
      "    (See also - http://www.stfc.ac.uk/aup)\n",
      "\n"
     ]
    },
    {
     "name": "stdout",
     "output_type": "stream",
     "text": [
      "Successfully downloaded bc018a.pr20150212.pp\n",
      "scp masher92@xfer1.jasmin.ac.uk:/gws/nopw/j04/icasp_swf/masher/bc018/bc018a.pr20150213.pp \"/nfs/a319/gy17m2a/PhD/datadir/UKCP18_first30mins/2002_2020/bc018/\"\n"
     ]
    },
    {
     "name": "stderr",
     "output_type": "stream",
     "text": [
      "\n",
      "            Access to this system is monitored and restricted to\n",
      "            authorised users.   If you do not have authorisation\n",
      "            to use  this system,  you should not  proceed beyond\n",
      "            this point and should disconnect immediately.\n",
      "\n",
      "            Unauthorised use could lead to prosecution.\n",
      "\n",
      "    (See also - http://www.stfc.ac.uk/aup)\n",
      "\n"
     ]
    },
    {
     "name": "stdout",
     "output_type": "stream",
     "text": [
      "Successfully downloaded bc018a.pr20150213.pp\n",
      "scp masher92@xfer1.jasmin.ac.uk:/gws/nopw/j04/icasp_swf/masher/bc018/bc018a.pr20150214.pp \"/nfs/a319/gy17m2a/PhD/datadir/UKCP18_first30mins/2002_2020/bc018/\"\n"
     ]
    },
    {
     "name": "stderr",
     "output_type": "stream",
     "text": [
      "\n",
      "            Access to this system is monitored and restricted to\n",
      "            authorised users.   If you do not have authorisation\n",
      "            to use  this system,  you should not  proceed beyond\n",
      "            this point and should disconnect immediately.\n",
      "\n",
      "            Unauthorised use could lead to prosecution.\n",
      "\n",
      "    (See also - http://www.stfc.ac.uk/aup)\n",
      "\n"
     ]
    },
    {
     "name": "stdout",
     "output_type": "stream",
     "text": [
      "Successfully downloaded bc018a.pr20150214.pp\n",
      "scp masher92@xfer1.jasmin.ac.uk:/gws/nopw/j04/icasp_swf/masher/bc018/bc018a.pr20150215.pp \"/nfs/a319/gy17m2a/PhD/datadir/UKCP18_first30mins/2002_2020/bc018/\"\n"
     ]
    },
    {
     "name": "stderr",
     "output_type": "stream",
     "text": [
      "\n",
      "            Access to this system is monitored and restricted to\n",
      "            authorised users.   If you do not have authorisation\n",
      "            to use  this system,  you should not  proceed beyond\n",
      "            this point and should disconnect immediately.\n",
      "\n",
      "            Unauthorised use could lead to prosecution.\n",
      "\n",
      "    (See also - http://www.stfc.ac.uk/aup)\n",
      "\n"
     ]
    },
    {
     "name": "stdout",
     "output_type": "stream",
     "text": [
      "Successfully downloaded bc018a.pr20150215.pp\n",
      "scp masher92@xfer1.jasmin.ac.uk:/gws/nopw/j04/icasp_swf/masher/bc018/bc018a.pr20150216.pp \"/nfs/a319/gy17m2a/PhD/datadir/UKCP18_first30mins/2002_2020/bc018/\"\n"
     ]
    },
    {
     "name": "stderr",
     "output_type": "stream",
     "text": [
      "\n",
      "            Access to this system is monitored and restricted to\n",
      "            authorised users.   If you do not have authorisation\n",
      "            to use  this system,  you should not  proceed beyond\n",
      "            this point and should disconnect immediately.\n",
      "\n",
      "            Unauthorised use could lead to prosecution.\n",
      "\n",
      "    (See also - http://www.stfc.ac.uk/aup)\n",
      "\n"
     ]
    },
    {
     "name": "stdout",
     "output_type": "stream",
     "text": [
      "Successfully downloaded bc018a.pr20150216.pp\n",
      "scp masher92@xfer1.jasmin.ac.uk:/gws/nopw/j04/icasp_swf/masher/bc018/bc018a.pr20150217.pp \"/nfs/a319/gy17m2a/PhD/datadir/UKCP18_first30mins/2002_2020/bc018/\"\n"
     ]
    },
    {
     "name": "stderr",
     "output_type": "stream",
     "text": [
      "\n",
      "            Access to this system is monitored and restricted to\n",
      "            authorised users.   If you do not have authorisation\n",
      "            to use  this system,  you should not  proceed beyond\n",
      "            this point and should disconnect immediately.\n",
      "\n",
      "            Unauthorised use could lead to prosecution.\n",
      "\n",
      "    (See also - http://www.stfc.ac.uk/aup)\n",
      "\n"
     ]
    },
    {
     "name": "stdout",
     "output_type": "stream",
     "text": [
      "Successfully downloaded bc018a.pr20150217.pp\n",
      "scp masher92@xfer1.jasmin.ac.uk:/gws/nopw/j04/icasp_swf/masher/bc018/bc018a.pr20150218.pp \"/nfs/a319/gy17m2a/PhD/datadir/UKCP18_first30mins/2002_2020/bc018/\"\n"
     ]
    },
    {
     "name": "stderr",
     "output_type": "stream",
     "text": [
      "\n",
      "            Access to this system is monitored and restricted to\n",
      "            authorised users.   If you do not have authorisation\n",
      "            to use  this system,  you should not  proceed beyond\n",
      "            this point and should disconnect immediately.\n",
      "\n",
      "            Unauthorised use could lead to prosecution.\n",
      "\n",
      "    (See also - http://www.stfc.ac.uk/aup)\n",
      "\n"
     ]
    },
    {
     "name": "stdout",
     "output_type": "stream",
     "text": [
      "Successfully downloaded bc018a.pr20150218.pp\n",
      "scp masher92@xfer1.jasmin.ac.uk:/gws/nopw/j04/icasp_swf/masher/bc018/bc018a.pr20150219.pp \"/nfs/a319/gy17m2a/PhD/datadir/UKCP18_first30mins/2002_2020/bc018/\"\n"
     ]
    },
    {
     "name": "stderr",
     "output_type": "stream",
     "text": [
      "\n",
      "            Access to this system is monitored and restricted to\n",
      "            authorised users.   If you do not have authorisation\n",
      "            to use  this system,  you should not  proceed beyond\n",
      "            this point and should disconnect immediately.\n",
      "\n",
      "            Unauthorised use could lead to prosecution.\n",
      "\n",
      "    (See also - http://www.stfc.ac.uk/aup)\n",
      "\n"
     ]
    },
    {
     "name": "stdout",
     "output_type": "stream",
     "text": [
      "Successfully downloaded bc018a.pr20150219.pp\n",
      "scp masher92@xfer1.jasmin.ac.uk:/gws/nopw/j04/icasp_swf/masher/bc018/bc018a.pr20150220.pp \"/nfs/a319/gy17m2a/PhD/datadir/UKCP18_first30mins/2002_2020/bc018/\"\n"
     ]
    },
    {
     "name": "stderr",
     "output_type": "stream",
     "text": [
      "\n",
      "            Access to this system is monitored and restricted to\n",
      "            authorised users.   If you do not have authorisation\n",
      "            to use  this system,  you should not  proceed beyond\n",
      "            this point and should disconnect immediately.\n",
      "\n",
      "            Unauthorised use could lead to prosecution.\n",
      "\n",
      "    (See also - http://www.stfc.ac.uk/aup)\n",
      "\n"
     ]
    },
    {
     "name": "stdout",
     "output_type": "stream",
     "text": [
      "Successfully downloaded bc018a.pr20150220.pp\n",
      "scp masher92@xfer1.jasmin.ac.uk:/gws/nopw/j04/icasp_swf/masher/bc018/bc018a.pr20150221.pp \"/nfs/a319/gy17m2a/PhD/datadir/UKCP18_first30mins/2002_2020/bc018/\"\n"
     ]
    },
    {
     "name": "stderr",
     "output_type": "stream",
     "text": [
      "\n",
      "            Access to this system is monitored and restricted to\n",
      "            authorised users.   If you do not have authorisation\n",
      "            to use  this system,  you should not  proceed beyond\n",
      "            this point and should disconnect immediately.\n",
      "\n",
      "            Unauthorised use could lead to prosecution.\n",
      "\n",
      "    (See also - http://www.stfc.ac.uk/aup)\n",
      "\n"
     ]
    },
    {
     "name": "stdout",
     "output_type": "stream",
     "text": [
      "Successfully downloaded bc018a.pr20150221.pp\n",
      "scp masher92@xfer1.jasmin.ac.uk:/gws/nopw/j04/icasp_swf/masher/bc018/bc018a.pr20150222.pp \"/nfs/a319/gy17m2a/PhD/datadir/UKCP18_first30mins/2002_2020/bc018/\"\n"
     ]
    },
    {
     "name": "stderr",
     "output_type": "stream",
     "text": [
      "\n",
      "            Access to this system is monitored and restricted to\n",
      "            authorised users.   If you do not have authorisation\n",
      "            to use  this system,  you should not  proceed beyond\n",
      "            this point and should disconnect immediately.\n",
      "\n",
      "            Unauthorised use could lead to prosecution.\n",
      "\n",
      "    (See also - http://www.stfc.ac.uk/aup)\n",
      "\n"
     ]
    },
    {
     "name": "stdout",
     "output_type": "stream",
     "text": [
      "Successfully downloaded bc018a.pr20150222.pp\n",
      "scp masher92@xfer1.jasmin.ac.uk:/gws/nopw/j04/icasp_swf/masher/bc018/bc018a.pr20150223.pp \"/nfs/a319/gy17m2a/PhD/datadir/UKCP18_first30mins/2002_2020/bc018/\"\n"
     ]
    },
    {
     "name": "stderr",
     "output_type": "stream",
     "text": [
      "\n",
      "            Access to this system is monitored and restricted to\n",
      "            authorised users.   If you do not have authorisation\n",
      "            to use  this system,  you should not  proceed beyond\n",
      "            this point and should disconnect immediately.\n",
      "\n",
      "            Unauthorised use could lead to prosecution.\n",
      "\n",
      "    (See also - http://www.stfc.ac.uk/aup)\n",
      "\n"
     ]
    },
    {
     "name": "stdout",
     "output_type": "stream",
     "text": [
      "Successfully downloaded bc018a.pr20150223.pp\n",
      "scp masher92@xfer1.jasmin.ac.uk:/gws/nopw/j04/icasp_swf/masher/bc018/bc018a.pr20150224.pp \"/nfs/a319/gy17m2a/PhD/datadir/UKCP18_first30mins/2002_2020/bc018/\"\n"
     ]
    },
    {
     "name": "stderr",
     "output_type": "stream",
     "text": [
      "\n",
      "            Access to this system is monitored and restricted to\n",
      "            authorised users.   If you do not have authorisation\n",
      "            to use  this system,  you should not  proceed beyond\n",
      "            this point and should disconnect immediately.\n",
      "\n",
      "            Unauthorised use could lead to prosecution.\n",
      "\n",
      "    (See also - http://www.stfc.ac.uk/aup)\n",
      "\n"
     ]
    },
    {
     "name": "stdout",
     "output_type": "stream",
     "text": [
      "Successfully downloaded bc018a.pr20150224.pp\n",
      "scp masher92@xfer1.jasmin.ac.uk:/gws/nopw/j04/icasp_swf/masher/bc018/bc018a.pr20150225.pp \"/nfs/a319/gy17m2a/PhD/datadir/UKCP18_first30mins/2002_2020/bc018/\"\n"
     ]
    },
    {
     "name": "stderr",
     "output_type": "stream",
     "text": [
      "\n",
      "            Access to this system is monitored and restricted to\n",
      "            authorised users.   If you do not have authorisation\n",
      "            to use  this system,  you should not  proceed beyond\n",
      "            this point and should disconnect immediately.\n",
      "\n",
      "            Unauthorised use could lead to prosecution.\n",
      "\n",
      "    (See also - http://www.stfc.ac.uk/aup)\n",
      "\n"
     ]
    },
    {
     "name": "stdout",
     "output_type": "stream",
     "text": [
      "Successfully downloaded bc018a.pr20150225.pp\n",
      "scp masher92@xfer1.jasmin.ac.uk:/gws/nopw/j04/icasp_swf/masher/bc018/bc018a.pr20150226.pp \"/nfs/a319/gy17m2a/PhD/datadir/UKCP18_first30mins/2002_2020/bc018/\"\n"
     ]
    }
   ],
   "source": [
    "import os\n",
    "import subprocess\n",
    "\n",
    "# Configuration\n",
    "em_code = \"bc018\"  # Example EM code, replace with your actual value\n",
    "base_path = \"/nfs/a319/gy17m2a/PhD/datadir/UKCP18_first30mins/2002_2020/\"\n",
    "remote_user = \"masher92\"\n",
    "remote_host = \"xfer1.jasmin.ac.uk\"\n",
    "remote_base_dir = \"/gws/nopw/j04/icasp_swf/masher/\"\n",
    "\n",
    "\n",
    "# Function to check file existence and download if absent\n",
    "def check_and_download(year, month, day):\n",
    "    file_pattern = f\"{em_code}a.pr{year}{month}{day}.pp\"\n",
    "    local_file_path = os.path.join(base_path, em_code, file_pattern)\n",
    "    remote_file_path = os.path.join(remote_base_dir, em_code, file_pattern)\n",
    "\n",
    "    # Check if the file already exists\n",
    "    if not os.path.exists(local_file_path):\n",
    "        #print(f\"{file_pattern}\")\n",
    "        print(f'scp masher92@xfer1.jasmin.ac.uk:/gws/nopw/j04/icasp_swf/masher/{em_code}/{file_pattern} \"/nfs/a319/gy17m2a/PhD/datadir/UKCP18_first30mins/2002_2020/{em_code}/\"')\n",
    "        #print(f\"pp_file={file_pattern}\")\n",
    "        \n",
    "        # Construct the scp command\n",
    "        scp_command = [\n",
    "            \"scp\",\n",
    "            f\"{remote_user}@{remote_host}:{remote_file_path}\",\n",
    "            local_file_path\n",
    "        ]\n",
    "        # Call the scp command\n",
    "        try:\n",
    "            subprocess.run(scp_command, check=True)\n",
    "            print(f\"Successfully downloaded {file_pattern}\")\n",
    "        except subprocess.CalledProcessError:\n",
    "            print(f\"Failed to download {file_pattern}\")\n",
    "    else:\n",
    "        #print(f\"File {file_pattern} already exists, skipping...\")\n",
    "        pass\n",
    "\n",
    "\n",
    "# Example usage for a specific year, month, and day\n",
    "for year in range(2001,2021):\n",
    "    for month in range(1,13):\n",
    "        month_str = f\"{month:02d}\"\n",
    "        for day in range(1, 31):  # Assuming you start from 16th to 30th\n",
    "            day_str = f\"{day:02d}\"  # Zero-padding the day\n",
    "            \n",
    "            check_and_download(year, month_str, day_str)\n"
   ]
  },
  {
   "cell_type": "code",
   "execution_count": 34,
   "id": "6e77dac3",
   "metadata": {},
   "outputs": [
    {
     "name": "stdout",
     "output_type": "stream",
     "text": [
      "scp masher92@xfer1.jasmin.ac.uk:/gws/nopw/j04/icasp_swf/masher/bc013/bc013a.pr20121106.pp \"/nfs/a319/gy17m2a/PhD/datadir/UKCP18_first30mins/2002_2020/bc013/\"\n"
     ]
    },
    {
     "name": "stderr",
     "output_type": "stream",
     "text": [
      "\n",
      "            Access to this system is monitored and restricted to\n",
      "            authorised users.   If you do not have authorisation\n",
      "            to use  this system,  you should not  proceed beyond\n",
      "            this point and should disconnect immediately.\n",
      "\n",
      "            Unauthorised use could lead to prosecution.\n",
      "\n",
      "    (See also - http://www.stfc.ac.uk/aup)\n",
      "\n"
     ]
    },
    {
     "name": "stdout",
     "output_type": "stream",
     "text": [
      "Successfully downloaded bc013a.pr20121106.pp\n"
     ]
    }
   ],
   "source": [
    "import os\n",
    "import subprocess\n",
    "\n",
    "# Configuration\n",
    "em_code = \"bc013\"  # Example EM code, replace with your actual value\n",
    "base_path = \"/nfs/a319/gy17m2a/PhD/datadir/UKCP18_first30mins/2002_2020/\"\n",
    "remote_user = \"masher92\"\n",
    "remote_host = \"xfer1.jasmin.ac.uk\"\n",
    "remote_base_dir = \"/gws/nopw/j04/icasp_swf/masher/\"\n",
    "\n",
    "\n",
    "# Function to check file existence and download if absent\n",
    "def check_and_download(year, month, day):\n",
    "    file_pattern = f\"{em_code}a.pr{year}{month}{day}.pp\"\n",
    "    local_file_path = os.path.join(base_path, em_code, file_pattern)\n",
    "    remote_file_path = os.path.join(remote_base_dir, em_code, file_pattern)\n",
    "\n",
    "    # Check if the file already exists\n",
    "    if not os.path.exists(local_file_path):\n",
    "        #print(f\"{file_pattern}\")\n",
    "        print(f'scp masher92@xfer1.jasmin.ac.uk:/gws/nopw/j04/icasp_swf/masher/{em_code}/{file_pattern} \"/nfs/a319/gy17m2a/PhD/datadir/UKCP18_first30mins/2002_2020/{em_code}/\"')\n",
    "        #print(f\"pp_file={file_pattern}\")\n",
    "        \n",
    "        # Construct the scp command\n",
    "        scp_command = [\n",
    "            \"scp\",\n",
    "            f\"{remote_user}@{remote_host}:{remote_file_path}\",\n",
    "            local_file_path\n",
    "        ]\n",
    "        # Call the scp command\n",
    "        try:\n",
    "            subprocess.run(scp_command, check=True)\n",
    "            print(f\"Successfully downloaded {file_pattern}\")\n",
    "        except subprocess.CalledProcessError:\n",
    "            print(f\"Failed to download {file_pattern}\")\n",
    "    else:\n",
    "        #print(f\"File {file_pattern} already exists, skipping...\")\n",
    "        pass\n",
    "\n",
    "\n",
    "# Example usage for a specific year, month, and day\n",
    "for year in range(2012,2013):\n",
    "    for month in range(1,13):\n",
    "        month_str = f\"{month:02d}\"\n",
    "        for day in range(1, 31):  # Assuming you start from 16th to 30th\n",
    "            day_str = f\"{day:02d}\"  # Zero-padding the day\n",
    "            \n",
    "            check_and_download(year, month_str, day_str)\n"
   ]
  },
  {
   "cell_type": "code",
   "execution_count": 2,
   "id": "004187b9",
   "metadata": {},
   "outputs": [],
   "source": [
    "import iris\n",
    "import os\n",
    "import glob as glob\n",
    "import datetime as datetime\n",
    "import iris.coord_categorisation as cat\n",
    "import sys\n",
    "import iris.plot as iplt\n",
    "\n",
    "# Set up path to root directory\n",
    "root_fp = \"/nfs/a319/gy17m2a/PhD/\"\n",
    "os.chdir(root_fp)\n",
    "\n",
    "import warnings\n",
    "warnings.simplefilter(action='ignore', category=FutureWarning)\n",
    "warnings.simplefilter(action='ignore', category=UserWarning)\n",
    "from warnings import simplefilter\n",
    "# ignore all future warnings\n",
    "simplefilter(action='ignore', category=FutureWarning)\n",
    "\n",
    "\n",
    "# Create path to files containing functions\n",
    "sys.path.insert(0, root_fp + 'Scripts/GlobalFunctions')\n",
    "from Spatial_plotting_functions import *\n",
    "from Spatial_geometry_functions import *\n",
    "\n",
    "\n",
    "# ### Load necessary spatial data\n",
    "# This is a square area surrounding Leeds\n",
    "leeds_at_centre_gdf = create_leeds_at_centre_outline({'init' :'epsg:3857'})\n",
    "\n",
    "\n",
    "# ### Establish the corresponding ensemble member numbers\n",
    "em_matching_dict = {'01':'bc005', '04': 'bc006', '05': 'bc007', '06':'bc009',  '07':'bc010', \n",
    "                    '08': 'bc011', '09':'bc013', '10': 'bc015', '11': 'bc016', '12': 'bc017', '13':'bc018', '15':'bc012'}\n",
    "\n",
    "resolution = '2.2km'\n",
    "yrs_range = \"2002_2020\"\n",
    "# em_1hr = '05'\n",
    "# yr = 2012\n",
    "# month_num = '06'"
   ]
  },
  {
   "cell_type": "code",
   "execution_count": 35,
   "id": "5fb645aa",
   "metadata": {},
   "outputs": [
    {
     "name": "stdout",
     "output_type": "stream",
     "text": [
      "em09, yr 2001, month 01\n",
      "already exists\n",
      "em09, yr 2001, month 02\n",
      "already exists\n",
      "em09, yr 2001, month 03\n",
      "already exists\n",
      "em09, yr 2001, month 04\n",
      "already exists\n",
      "em09, yr 2001, month 05\n",
      "already exists\n",
      "em09, yr 2001, month 06\n",
      "already exists\n",
      "em09, yr 2001, month 07\n",
      "already exists\n",
      "em09, yr 2001, month 08\n",
      "already exists\n",
      "em09, yr 2001, month 09\n",
      "already exists\n",
      "em09, yr 2001, month 10\n",
      "already exists\n",
      "em09, yr 2001, month 11\n",
      "already exists\n",
      "em09, yr 2001, month 12\n",
      "already exists\n",
      "em09, yr 2002, month 01\n",
      "already exists\n",
      "em09, yr 2002, month 02\n",
      "already exists\n",
      "em09, yr 2002, month 03\n",
      "already exists\n",
      "em09, yr 2002, month 04\n",
      "already exists\n",
      "em09, yr 2002, month 05\n",
      "already exists\n",
      "em09, yr 2002, month 06\n",
      "already exists\n",
      "em09, yr 2002, month 07\n",
      "already exists\n",
      "em09, yr 2002, month 08\n",
      "already exists\n",
      "em09, yr 2002, month 09\n",
      "already exists\n",
      "em09, yr 2002, month 10\n",
      "already exists\n",
      "em09, yr 2002, month 11\n",
      "already exists\n",
      "em09, yr 2002, month 12\n",
      "already exists\n",
      "em09, yr 2003, month 01\n",
      "already exists\n",
      "em09, yr 2003, month 02\n",
      "already exists\n",
      "em09, yr 2003, month 03\n",
      "already exists\n",
      "em09, yr 2003, month 04\n",
      "already exists\n",
      "em09, yr 2003, month 05\n",
      "already exists\n",
      "em09, yr 2003, month 06\n",
      "already exists\n",
      "em09, yr 2003, month 07\n",
      "already exists\n",
      "em09, yr 2003, month 08\n",
      "already exists\n",
      "em09, yr 2003, month 09\n",
      "already exists\n",
      "em09, yr 2003, month 10\n",
      "already exists\n",
      "em09, yr 2003, month 11\n",
      "already exists\n",
      "em09, yr 2003, month 12\n",
      "already exists\n",
      "em09, yr 2004, month 01\n",
      "already exists\n",
      "em09, yr 2004, month 02\n",
      "already exists\n",
      "em09, yr 2004, month 03\n",
      "already exists\n",
      "em09, yr 2004, month 04\n",
      "already exists\n",
      "em09, yr 2004, month 05\n",
      "already exists\n",
      "em09, yr 2004, month 06\n",
      "already exists\n",
      "em09, yr 2004, month 07\n",
      "already exists\n",
      "em09, yr 2004, month 08\n",
      "already exists\n",
      "em09, yr 2004, month 09\n",
      "already exists\n",
      "em09, yr 2004, month 10\n",
      "already exists\n",
      "em09, yr 2004, month 11\n",
      "already exists\n",
      "em09, yr 2004, month 12\n",
      "already exists\n",
      "em09, yr 2005, month 01\n",
      "already exists\n",
      "em09, yr 2005, month 02\n",
      "already exists\n",
      "em09, yr 2005, month 03\n",
      "already exists\n",
      "em09, yr 2005, month 04\n",
      "already exists\n",
      "em09, yr 2005, month 05\n",
      "already exists\n",
      "em09, yr 2005, month 06\n",
      "already exists\n",
      "em09, yr 2005, month 07\n",
      "already exists\n",
      "em09, yr 2005, month 08\n",
      "already exists\n",
      "em09, yr 2005, month 09\n",
      "already exists\n",
      "em09, yr 2005, month 10\n",
      "already exists\n",
      "em09, yr 2005, month 11\n",
      "already exists\n",
      "em09, yr 2005, month 12\n",
      "already exists\n",
      "em09, yr 2006, month 01\n",
      "already exists\n",
      "em09, yr 2006, month 02\n",
      "already exists\n",
      "em09, yr 2006, month 03\n",
      "already exists\n",
      "em09, yr 2006, month 04\n",
      "already exists\n",
      "em09, yr 2006, month 05\n",
      "already exists\n",
      "em09, yr 2006, month 06\n",
      "already exists\n",
      "em09, yr 2006, month 07\n",
      "already exists\n",
      "em09, yr 2006, month 08\n",
      "already exists\n",
      "em09, yr 2006, month 09\n",
      "already exists\n",
      "em09, yr 2006, month 10\n",
      "already exists\n",
      "em09, yr 2006, month 11\n",
      "already exists\n",
      "em09, yr 2006, month 12\n",
      "already exists\n",
      "em09, yr 2007, month 01\n",
      "already exists\n",
      "em09, yr 2007, month 02\n",
      "already exists\n",
      "em09, yr 2007, month 03\n",
      "already exists\n",
      "em09, yr 2007, month 04\n",
      "already exists\n",
      "em09, yr 2007, month 05\n",
      "already exists\n",
      "em09, yr 2007, month 06\n",
      "already exists\n",
      "em09, yr 2007, month 07\n",
      "already exists\n",
      "em09, yr 2007, month 08\n",
      "already exists\n",
      "em09, yr 2007, month 09\n",
      "already exists\n",
      "em09, yr 2007, month 10\n",
      "already exists\n",
      "em09, yr 2007, month 11\n",
      "already exists\n",
      "em09, yr 2007, month 12\n",
      "already exists\n",
      "em09, yr 2008, month 01\n",
      "already exists\n",
      "em09, yr 2008, month 02\n",
      "already exists\n",
      "em09, yr 2008, month 03\n",
      "already exists\n",
      "em09, yr 2008, month 04\n",
      "already exists\n",
      "em09, yr 2008, month 05\n",
      "already exists\n",
      "em09, yr 2008, month 06\n",
      "already exists\n",
      "em09, yr 2008, month 07\n",
      "already exists\n",
      "em09, yr 2008, month 08\n",
      "already exists\n",
      "em09, yr 2008, month 09\n",
      "already exists\n",
      "em09, yr 2008, month 10\n",
      "already exists\n",
      "em09, yr 2008, month 11\n",
      "already exists\n",
      "em09, yr 2008, month 12\n",
      "already exists\n",
      "em09, yr 2009, month 01\n",
      "already exists\n",
      "em09, yr 2009, month 02\n",
      "already exists\n",
      "em09, yr 2009, month 03\n",
      "already exists\n",
      "em09, yr 2009, month 04\n",
      "already exists\n",
      "em09, yr 2009, month 05\n",
      "already exists\n",
      "em09, yr 2009, month 06\n",
      "already exists\n",
      "em09, yr 2009, month 07\n",
      "already exists\n",
      "em09, yr 2009, month 08\n",
      "already exists\n",
      "em09, yr 2009, month 09\n",
      "already exists\n",
      "em09, yr 2009, month 10\n",
      "already exists\n",
      "em09, yr 2009, month 11\n",
      "already exists\n",
      "em09, yr 2009, month 12\n",
      "already exists\n",
      "em09, yr 2010, month 01\n",
      "already exists\n",
      "em09, yr 2010, month 02\n",
      "already exists\n",
      "em09, yr 2010, month 03\n",
      "already exists\n",
      "em09, yr 2010, month 04\n",
      "already exists\n",
      "em09, yr 2010, month 05\n",
      "already exists\n",
      "em09, yr 2010, month 06\n",
      "already exists\n",
      "em09, yr 2010, month 07\n",
      "already exists\n",
      "em09, yr 2010, month 08\n",
      "already exists\n",
      "em09, yr 2010, month 09\n",
      "already exists\n",
      "em09, yr 2010, month 10\n",
      "already exists\n",
      "em09, yr 2010, month 11\n",
      "already exists\n",
      "em09, yr 2010, month 12\n",
      "already exists\n",
      "em09, yr 2011, month 01\n",
      "already exists\n",
      "em09, yr 2011, month 02\n",
      "already exists\n",
      "em09, yr 2011, month 03\n",
      "already exists\n",
      "em09, yr 2011, month 04\n",
      "already exists\n",
      "em09, yr 2011, month 05\n",
      "already exists\n",
      "em09, yr 2011, month 06\n",
      "already exists\n",
      "em09, yr 2011, month 07\n",
      "already exists\n",
      "em09, yr 2011, month 08\n",
      "already exists\n",
      "em09, yr 2011, month 09\n",
      "already exists\n",
      "em09, yr 2011, month 10\n",
      "already exists\n",
      "em09, yr 2011, month 11\n",
      "already exists\n",
      "em09, yr 2011, month 12\n",
      "already exists\n",
      "em09, yr 2012, month 01\n",
      "already exists\n",
      "em09, yr 2012, month 02\n",
      "already exists\n",
      "em09, yr 2012, month 03\n",
      "already exists\n",
      "em09, yr 2012, month 04\n",
      "already exists\n",
      "em09, yr 2012, month 05\n",
      "already exists\n",
      "em09, yr 2012, month 06\n",
      "already exists\n",
      "em09, yr 2012, month 07\n",
      "already exists\n",
      "em09, yr 2012, month 08\n",
      "already exists\n",
      "em09, yr 2012, month 09\n",
      "already exists\n",
      "em09, yr 2012, month 10\n",
      "already exists\n",
      "em09, yr 2012, month 11\n",
      "Running for month 11 in 2012, for 09 (which equatees to bc013)\n",
      "Exists\n",
      "datadir/UKCP18_every30mins/2.2km/bc013/2002_2020/bc013a.pr201211.nc\n",
      "em09, yr 2012, month 12\n",
      "Running for month 12 in 2012, for 09 (which equatees to bc013)\n",
      "Exists\n",
      "datadir/UKCP18_every30mins/2.2km/bc013/2002_2020/bc013a.pr201212.nc\n",
      "em09, yr 2013, month 01\n",
      "Running for month 01 in 2013, for 09 (which equatees to bc013)\n",
      "Exists\n",
      "datadir/UKCP18_every30mins/2.2km/bc013/2002_2020/bc013a.pr201301.nc\n",
      "em09, yr 2013, month 02\n",
      "Running for month 02 in 2013, for 09 (which equatees to bc013)\n"
     ]
    },
    {
     "ename": "ValueError",
     "evalue": "operands could not be broadcast together with shapes (720,606,484) (696,606,484) ",
     "output_type": "error",
     "traceback": [
      "\u001b[0;31m---------------------------------------------------------------------------\u001b[0m",
      "\u001b[0;31mValueError\u001b[0m                                Traceback (most recent call last)",
      "\u001b[0;32m/tmp/ipykernel_16035/184244371.py\u001b[0m in \u001b[0;36m<module>\u001b[0;34m\u001b[0m\n\u001b[1;32m     85\u001b[0m                 \u001b[0mcube_1hr_data\u001b[0m \u001b[0;34m=\u001b[0m \u001b[0mcube_1hr\u001b[0m\u001b[0;34m.\u001b[0m\u001b[0mdata\u001b[0m\u001b[0;34m\u001b[0m\u001b[0;34m\u001b[0m\u001b[0m\n\u001b[1;32m     86\u001b[0m                 \u001b[0;31m# calculate value for second half of hour\u001b[0m\u001b[0;34m\u001b[0m\u001b[0;34m\u001b[0m\u001b[0;34m\u001b[0m\u001b[0m\n\u001b[0;32m---> 87\u001b[0;31m                 \u001b[0msecond_half_of_the_hour_mean_hourly_rainfall_rate_data\u001b[0m \u001b[0;34m=\u001b[0m \u001b[0;36m2\u001b[0m\u001b[0;34m*\u001b[0m\u001b[0mcube_1hr_data\u001b[0m\u001b[0;34m-\u001b[0m\u001b[0mmonthly_cube_30mins_1st_data\u001b[0m\u001b[0;34m\u001b[0m\u001b[0;34m\u001b[0m\u001b[0m\n\u001b[0m\u001b[1;32m     88\u001b[0m                 \u001b[0;31m# Create a new cube for the second half of the hour (start by copying the first half of hour cube)\u001b[0m\u001b[0;34m\u001b[0m\u001b[0;34m\u001b[0m\u001b[0;34m\u001b[0m\u001b[0m\n\u001b[1;32m     89\u001b[0m                 \u001b[0mmonthly_cube_30mins_2nd\u001b[0m \u001b[0;34m=\u001b[0m \u001b[0mmonthly_cube_30mins_1st\u001b[0m\u001b[0;34m.\u001b[0m\u001b[0mcopy\u001b[0m\u001b[0;34m(\u001b[0m\u001b[0;34m)\u001b[0m\u001b[0;34m\u001b[0m\u001b[0;34m\u001b[0m\u001b[0m\n",
      "\u001b[0;32m/nfs/a321/gy17m2a/anaconda_install/anaconda3/envs/ukcp18/lib/python3.7/site-packages/numpy/ma/core.py\u001b[0m in \u001b[0;36m__sub__\u001b[0;34m(self, other)\u001b[0m\n\u001b[1;32m   4151\u001b[0m         \u001b[0;32mif\u001b[0m \u001b[0mself\u001b[0m\u001b[0;34m.\u001b[0m\u001b[0m_delegate_binop\u001b[0m\u001b[0;34m(\u001b[0m\u001b[0mother\u001b[0m\u001b[0;34m)\u001b[0m\u001b[0;34m:\u001b[0m\u001b[0;34m\u001b[0m\u001b[0;34m\u001b[0m\u001b[0m\n\u001b[1;32m   4152\u001b[0m             \u001b[0;32mreturn\u001b[0m \u001b[0mNotImplemented\u001b[0m\u001b[0;34m\u001b[0m\u001b[0;34m\u001b[0m\u001b[0m\n\u001b[0;32m-> 4153\u001b[0;31m         \u001b[0;32mreturn\u001b[0m \u001b[0msubtract\u001b[0m\u001b[0;34m(\u001b[0m\u001b[0mself\u001b[0m\u001b[0;34m,\u001b[0m \u001b[0mother\u001b[0m\u001b[0;34m)\u001b[0m\u001b[0;34m\u001b[0m\u001b[0;34m\u001b[0m\u001b[0m\n\u001b[0m\u001b[1;32m   4154\u001b[0m \u001b[0;34m\u001b[0m\u001b[0m\n\u001b[1;32m   4155\u001b[0m     \u001b[0;32mdef\u001b[0m \u001b[0m__rsub__\u001b[0m\u001b[0;34m(\u001b[0m\u001b[0mself\u001b[0m\u001b[0;34m,\u001b[0m \u001b[0mother\u001b[0m\u001b[0;34m)\u001b[0m\u001b[0;34m:\u001b[0m\u001b[0;34m\u001b[0m\u001b[0;34m\u001b[0m\u001b[0m\n",
      "\u001b[0;32m/nfs/a321/gy17m2a/anaconda_install/anaconda3/envs/ukcp18/lib/python3.7/site-packages/numpy/ma/core.py\u001b[0m in \u001b[0;36m__call__\u001b[0;34m(self, a, b, *args, **kwargs)\u001b[0m\n\u001b[1;32m   1013\u001b[0m         \u001b[0;32mwith\u001b[0m \u001b[0mnp\u001b[0m\u001b[0;34m.\u001b[0m\u001b[0merrstate\u001b[0m\u001b[0;34m(\u001b[0m\u001b[0;34m)\u001b[0m\u001b[0;34m:\u001b[0m\u001b[0;34m\u001b[0m\u001b[0;34m\u001b[0m\u001b[0m\n\u001b[1;32m   1014\u001b[0m             \u001b[0mnp\u001b[0m\u001b[0;34m.\u001b[0m\u001b[0mseterr\u001b[0m\u001b[0;34m(\u001b[0m\u001b[0mdivide\u001b[0m\u001b[0;34m=\u001b[0m\u001b[0;34m'ignore'\u001b[0m\u001b[0;34m,\u001b[0m \u001b[0minvalid\u001b[0m\u001b[0;34m=\u001b[0m\u001b[0;34m'ignore'\u001b[0m\u001b[0;34m)\u001b[0m\u001b[0;34m\u001b[0m\u001b[0;34m\u001b[0m\u001b[0m\n\u001b[0;32m-> 1015\u001b[0;31m             \u001b[0mresult\u001b[0m \u001b[0;34m=\u001b[0m \u001b[0mself\u001b[0m\u001b[0;34m.\u001b[0m\u001b[0mf\u001b[0m\u001b[0;34m(\u001b[0m\u001b[0mda\u001b[0m\u001b[0;34m,\u001b[0m \u001b[0mdb\u001b[0m\u001b[0;34m,\u001b[0m \u001b[0;34m*\u001b[0m\u001b[0margs\u001b[0m\u001b[0;34m,\u001b[0m \u001b[0;34m**\u001b[0m\u001b[0mkwargs\u001b[0m\u001b[0;34m)\u001b[0m\u001b[0;34m\u001b[0m\u001b[0;34m\u001b[0m\u001b[0m\n\u001b[0m\u001b[1;32m   1016\u001b[0m         \u001b[0;31m# Get the mask for the result\u001b[0m\u001b[0;34m\u001b[0m\u001b[0;34m\u001b[0m\u001b[0;34m\u001b[0m\u001b[0m\n\u001b[1;32m   1017\u001b[0m         \u001b[0;34m(\u001b[0m\u001b[0mma\u001b[0m\u001b[0;34m,\u001b[0m \u001b[0mmb\u001b[0m\u001b[0;34m)\u001b[0m \u001b[0;34m=\u001b[0m \u001b[0;34m(\u001b[0m\u001b[0mgetmask\u001b[0m\u001b[0;34m(\u001b[0m\u001b[0ma\u001b[0m\u001b[0;34m)\u001b[0m\u001b[0;34m,\u001b[0m \u001b[0mgetmask\u001b[0m\u001b[0;34m(\u001b[0m\u001b[0mb\u001b[0m\u001b[0;34m)\u001b[0m\u001b[0;34m)\u001b[0m\u001b[0;34m\u001b[0m\u001b[0;34m\u001b[0m\u001b[0m\n",
      "\u001b[0;31mValueError\u001b[0m: operands could not be broadcast together with shapes (720,606,484) (696,606,484) "
     ]
    }
   ],
   "source": [
    "# for em_1hr in ['01', '04', '05', '06', '07', '08', '09', '10', '11', '12', '13', '15']:\n",
    "for em_1hr in ['09']:\n",
    "    em_30mins = em_matching_dict[em_1hr]\n",
    "    for yr in range(2001,2020):\n",
    "        for month_num in ['01', '02', '03', '04', '05', '06', '07', '08', '09', '10','11','12']:\n",
    "            print(f\"em{em_1hr}, yr {yr}, month {month_num}\")\n",
    "            if (os.path.isfile(f\"/nfs/a319/gy17m2a/PhD/datadir/UKCP18_every30mins/{resolution}/{em_30mins}/{yrs_range}/{em_30mins}a.pr{yr}{month_num}.nc\")):\n",
    "                print(\"already exists\")\n",
    "            else:\n",
    "                print(f\"Running for month {month_num} in {yr}, for {em_1hr} (which equatees to {em_30mins})\")\n",
    "\n",
    "                ####################################################### \n",
    "                #######################################################\n",
    "                ## Get one month of data - HOURLY\n",
    "                ####################################################### \n",
    "                #######################################################\n",
    "                ### Get a list of filenames for hourly data\n",
    "                general_filename_1hr = f'/nfs/a319/gy17m2a/PhD/datadir/UKCP18_hourly/2.2km/{em_1hr}/{yrs_range}/pr_rcp85_land-cpm_uk_2.2km_{em_1hr}_1hr_{yr}{month_num}*'\n",
    "                filenames_1hr = []\n",
    "                for filename in glob.glob(general_filename_1hr):\n",
    "                        filenames_1hr.append(filename)\n",
    "                # If don't find any files matching this string in the 2001_2020 folder, then check the 1980_2001\n",
    "                if len(filenames_1hr) == 0:\n",
    "                    general_filename_1hr = f'/nfs/a319/gy17m2a/PhD/datadir/UKCP18_hourly/2.2km/{em_1hr}/1980_2001/pr_rcp85_land-cpm_uk_2.2km_{em_1hr}_1hr_{yr}{month_num}*'\n",
    "                    for filename in glob.glob(general_filename_1hr):\n",
    "                            filenames_1hr.append(filename)\n",
    "                    print(len(filenames_1hr))\n",
    "\n",
    "                # ### Load in the data and remove the ensemble member dimension\n",
    "                monthly_cubes_list_1hr = iris.load(filenames_1hr)\n",
    "                cube_1hr = monthly_cubes_list_1hr[0]\n",
    "                cube_1hr = cube_1hr[0,:,:,:]\n",
    "\n",
    "                # ### Trim to Leeds\n",
    "                # cube_1hr = trim_to_bbox_of_region(cube_1hr, leeds_at_centre_gdf)\n",
    "\n",
    "                #######################################################\n",
    "                #######################################################\n",
    "                ## Get one month of data - 30mins\n",
    "                #######################################################\n",
    "                #######################################################\n",
    "                # ### Get all files for this ensemble member\n",
    "                general_filename_30mins = f'/nfs/a319/gy17m2a/PhD/datadir/UKCP18_first30mins/{yrs_range}/{em_30mins}/{em_30mins}a.pr{yr}{month_num}*'\n",
    "                filenames_first30mins = []\n",
    "                for filename_30mins in glob.glob(general_filename_30mins):\n",
    "                    filenames_first30mins.append(filename_30mins)\n",
    "                filenames_first30mins.sort()\n",
    "\n",
    "                # ### Load in the data \n",
    "                monthly_cubes_list_30mins = iris.load(filenames_first30mins)\n",
    "\n",
    "                # Equalise\n",
    "                for cube in monthly_cubes_list_30mins:\n",
    "                    for attr in ['forecast_period', 'forecast_reference_time']:\n",
    "                        if attr in cube.attributes:\n",
    "                            del cube.attributes[attr]\n",
    "\n",
    "\n",
    "                monthly_cube_30mins = monthly_cubes_list_30mins.concatenate_cube()      \n",
    "\n",
    "                # ### Trim to be the same shape as the hourly data\n",
    "                # monthly_cube_30mins_1st = trim_to_bbox_of_region_30mins(monthly_cube_30mins, leeds_at_centre_gdf)\n",
    "                monthly_cube_30mins_1st = monthly_cube_30mins[:,24:-24,24:-24]\n",
    "\n",
    "                # ### Convert units of 30 mins data\n",
    "                # Check current units\n",
    "                # print(monthly_cube_30mins_1st.units)\n",
    "                # Set the units to those of the 1 hr cube\n",
    "                monthly_cube_30mins_1st.units = cube_1hr.units\n",
    "                # print(monthly_cube_30mins_1st.units)\n",
    "\n",
    "                # Convert the data to also be this unit\n",
    "                monthly_cube_30mins_1st_data = monthly_cube_30mins_1st.data\n",
    "                monthly_cube_30mins_1st_data = monthly_cube_30mins_1st_data*3600\n",
    "\n",
    "                monthly_cube_30mins_1st.data = monthly_cube_30mins_1st_data\n",
    "\n",
    "\n",
    "                #######################################################\n",
    "                #######################################################\n",
    "                ## Find the second half of the hour, using the first half of hour and hourly values\n",
    "                #######################################################\n",
    "                #######################################################\n",
    "                # get the hourly data\n",
    "                cube_1hr_data = cube_1hr.data\n",
    "                # calculate value for second half of hour\n",
    "                second_half_of_the_hour_mean_hourly_rainfall_rate_data = 2*cube_1hr_data-monthly_cube_30mins_1st_data\n",
    "                # Create a new cube for the second half of the hour (start by copying the first half of hour cube)\n",
    "                monthly_cube_30mins_2nd = monthly_cube_30mins_1st.copy()\n",
    "                # Set values as calculated\n",
    "                monthly_cube_30mins_2nd.data = second_half_of_the_hour_mean_hourly_rainfall_rate_data\n",
    "\n",
    "\n",
    "                # ### Edit the times to be 30 mins later\n",
    "                # get the times from the first half hour\n",
    "                first_half_hour_times = monthly_cube_30mins_1st.coord('time').copy()\n",
    "                # add 30 mins\n",
    "                second_half_hour_times = first_half_hour_times + 0.5\n",
    "                # for the second hald hour cube, remove the time dimension and then re-add the edited one\n",
    "                monthly_cube_30mins_2nd.remove_coord('time')\n",
    "                monthly_cube_30mins_2nd.add_dim_coord(second_half_hour_times, 0)\n",
    "\n",
    "                #######################################################\n",
    "                #######################################################\n",
    "                ## Join first half hour and second half hour into one cube\n",
    "                #######################################################\n",
    "                #######################################################\n",
    "                # ### Get a list of all the cubes in each of the monthly cubes\n",
    "                list_30mins_1st = iris.cube.CubeList(monthly_cube_30mins_1st.slices_over('time'))\n",
    "                list_30mins_2nd = iris.cube.CubeList(monthly_cube_30mins_2nd.slices_over('time'))\n",
    "                list_30mins = list_30mins_1st +  list_30mins_2nd\n",
    "\n",
    "                ### Merge back into one cube\n",
    "                monthly_cube_30mins = list_30mins.merge_cube()\n",
    "\n",
    "                #######################################################\n",
    "                #######################################################\n",
    "                ## Save\n",
    "                #######################################################\n",
    "                #######################################################\n",
    "                dir_to_save = f\"datadir/UKCP18_every30mins/{resolution}/{em_30mins}/{yrs_range}/\"\n",
    "\n",
    "                if os.path.isdir(dir_to_save):\n",
    "                    print(\"Exists\")\n",
    "                else:\n",
    "                    print(\"Doesn't exist\")\n",
    "                    os.makedirs(dir_to_save)\n",
    "                fp_to_save = f\"datadir/UKCP18_every30mins/{resolution}/{em_30mins}/{yrs_range}/{em_30mins}a.pr{yr}{month_num}.nc\" \n",
    "                print(fp_to_save)\n",
    "                iris.save(monthly_cube_30mins, fp_to_save)"
   ]
  },
  {
   "cell_type": "code",
   "execution_count": 33,
   "id": "d1487a4c",
   "metadata": {},
   "outputs": [
    {
     "data": {
      "text/plain": [
       "'/nfs/a319/gy17m2a/PhD/datadir/UKCP18_first30mins/2002_2020/bc013/bc013a.pr20121106.pp'"
      ]
     },
     "execution_count": 33,
     "metadata": {},
     "output_type": "execute_result"
    }
   ],
   "source": [
    "# monthly_cubes_list_30mins = iris.load(filenames_first30mins[5])\n",
    "filenames_first30mins[5]"
   ]
  }
 ],
 "metadata": {
  "kernelspec": {
   "display_name": "Python 3 (ipykernel)",
   "language": "python",
   "name": "python3"
  },
  "language_info": {
   "codemirror_mode": {
    "name": "ipython",
    "version": 3
   },
   "file_extension": ".py",
   "mimetype": "text/x-python",
   "name": "python",
   "nbconvert_exporter": "python",
   "pygments_lexer": "ipython3",
   "version": "3.7.13"
  }
 },
 "nbformat": 4,
 "nbformat_minor": 5
}
