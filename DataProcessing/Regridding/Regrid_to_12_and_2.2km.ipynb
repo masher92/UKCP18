{
 "cells": [
  {
   "cell_type": "code",
   "execution_count": 18,
   "id": "5b47392d",
   "metadata": {},
   "outputs": [],
   "source": [
    "import iris\n",
    "import xarray as xr\n",
    "import numpy as np\n",
    "from iris.coords import DimCoord\n",
    "from iris.coord_systems import TransverseMercator,GeogCS\n",
    "from iris.cube import Cube\n",
    "from cf_units import Unit\n",
    "import cf_units\n",
    "import os\n",
    "import glob\n",
    "from pyproj import Proj, transform\n",
    "import sys\n",
    "import warnings\n",
    "import multiprocessing as mp\n",
    "\n",
    "warnings.filterwarnings(\"ignore\")\n",
    "\n",
    "ems_hourly = ['01', '04', '06', '07', '08', '09', '10', '11', '12', '13', '15']\n",
    "ems_30mins = ['bc005', 'bc006', 'bc007', 'bc009', 'bc010', 'bc011', 'bc013',  'bc015',  'bc016', 'bc017', 'bc018', 'bc012']\n",
    "yrs_range = '1980_2001'"
   ]
  },
  {
   "cell_type": "code",
   "execution_count": 25,
   "id": "3284678a",
   "metadata": {},
   "outputs": [],
   "source": [
    "##########################################################################################\n",
    "#########################################################################################\n",
    "# Define variables and set up environment\n",
    "##########################################################################################\n",
    "##########################################################################################\n",
    "root_fp = \"/nfs/a319/gy17m2a/\"\n",
    "os.chdir(root_fp)\n",
    "\n",
    "# Create path to files containing functions\n",
    "sys.path.insert(0, root_fp + 'PhD/Scripts/DataProcessing/Regridding')\n",
    "from Regridding_functions import *\n",
    "\n",
    "# Load UKCP18 12km model data to use in regriddding\n",
    "file_model_12km=f'/nfs/a319/gy17m2a/PhD/datadir/UKCP18_hourly/12km/01/{yrs_range}/pr_rcp85_land-rcm_uk_12km_01_day_19801201-19901130.nc'\n",
    "cube_12km=iris.load_cube(file_model_12km)\n",
    "\n",
    "file_model_2_2km ='/nfs/a319/gy17m2a/PhD/datadir/UKCP18_hourly/2.2km/01/1980_2001/pr_rcp85_land-cpm_uk_2.2km_01_1hr_19911201-19911230.nc'\n",
    "cube_model_2_2km =iris.load_cube(file_model_2_2km)"
   ]
  },
  {
   "cell_type": "markdown",
   "id": "1dedfbe2",
   "metadata": {},
   "source": [
    "## Regrid hourly UKCP18 data to 12km - DONE"
   ]
  },
  {
   "cell_type": "code",
   "execution_count": 30,
   "id": "0b6a4e75",
   "metadata": {},
   "outputs": [],
   "source": [
    "for em in ems_hourly:\n",
    "    print(em)\n",
    "    os.chdir(f\"/nfs/a319/gy17m2a/PhD/datadir/UKCP18_hourly/2.2km/{em}/1980_2001/\")\n",
    "    output_fp = f\"/nfs/a319/gy17m2a/PhD/datadir/UKCP18_hourly/2.2km_regridded_12km/{em}/NearestNeighbour/1980_2001/\"\n",
    "    if not os.path.isdir(output_fp):\n",
    "        os.makedirs(output_fp)\n",
    "    for filename in glob.glob(\"*\"):     \n",
    "            print(filename)\n",
    "            cube = iris.load(filename)[0]\n",
    "            # Linear interpolation\n",
    "            #reg_cube_lin =cube.regrid(cube_model,iris.analysis.Linear())      \n",
    "            # Nearest neighbour\n",
    "            reg_cube_nn =cube.regrid(cube_12km,iris.analysis.Nearest())   \n",
    "            # Save \n",
    "            iris.save(reg_cube_nn, output_fp +  f\"rg_{filename}\")     "
   ]
  },
  {
   "cell_type": "markdown",
   "id": "bb8bed11",
   "metadata": {},
   "source": [
    "## Regrid 30 mins UKCP18 data to 12km - DONE"
   ]
  },
  {
   "cell_type": "code",
   "execution_count": null,
   "id": "97780e06",
   "metadata": {},
   "outputs": [],
   "source": [
    "for em in ems_30mins:\n",
    "    os.chdir(f\"/nfs/a319/gy17m2a/PhD/datadir/UKCP18_every30mins/2.2km/{em}/2001_2020/\")\n",
    "    output_fp = f\"/nfs/a319/gy17m2a/PhD/datadir/UKCP18_every30mins/2.2km_regridded_12km/{em}/NearestNeighbour/2001_2020/\"\n",
    "    if not os.path.isdir(output_fp):\n",
    "        os.makedirs(output_fp)\n",
    "    for filename in glob.glob(\"*\"):     \n",
    "            print(filename)\n",
    "            cube = iris.load(filename)[0]\n",
    "            # Linear interpolation\n",
    "            #reg_cube_lin =cube.regrid(cube_model,iris.analysis.Linear())      \n",
    "            # Nearest neighbour\n",
    "            reg_cube_nn =cube.regrid(cube_12km,iris.analysis.Nearest())   \n",
    "            # Save \n",
    "            iris.save(reg_cube_nn, output_fp +  f\"rg_{filename}\")   "
   ]
  },
  {
   "cell_type": "markdown",
   "id": "1c9a6745",
   "metadata": {},
   "source": [
    "## Regrid NIMROD"
   ]
  },
  {
   "cell_type": "code",
   "execution_count": null,
   "id": "fe60465b",
   "metadata": {},
   "outputs": [],
   "source": [
    "for year in range(2005,2020):\n",
    "    print(year)\n",
    "    # Change directory to be for correct year\n",
    "    os.chdir(f\"/nfs/a319/gy17m2a/PhD/datadir/NIMROD/30mins/OriginalFormat_1km/{year}\")\n",
    "    # Define filepaths to save files to\n",
    "    output_dir_12km = f\"/nfs/a319/gy17m2a/PhD/datadir/NIMROD/30mins/NIMROD_regridded_12km/NearestNeighbour/{year}/\"\n",
    "    output_dir_2_2km = f\"/nfs/a319/gy17m2a/PhD/datadir/NIMROD/30mins/NIMROD_regridded_2.2km/NearestNeighbour/{year}/\"\n",
    "    # Create these directories if they don't exist already\n",
    "    if not os.path.isdir(output_dir_12km):\n",
    "        os.makedirs(output_dir_12km)\n",
    "    if not os.path.isdir(output_dir_2_2km):\n",
    "        os.makedirs(output_dir_2_2km)\n",
    "    # Loop through all the diles in the 1km folder    \n",
    "    for filename in glob.glob(\"*\"):\n",
    "        # Create version of filename specifying it is regridded\n",
    "        filename_to_save_to = f\"rg_{filename}\"\n",
    "\n",
    "        # Check if this regridded file exists, and if not create it\n",
    "        # Don't want to load the cube twice unnecessarily, so if we load it for 12km, then make a flag to tell us it's\n",
    "        # already loaded and then use this for 2.2km\n",
    "\n",
    "        # 12km regridding\n",
    "        if os.path.isfile(output_dir_12km + filename_to_save_to):\n",
    "            print(\"File already exists\")\n",
    "        if not os.path.isfile(output_dir_12km + filename_to_save_to):\n",
    "            print('Making file 12km')\n",
    "            cube = iris.load(filename)[0]\n",
    "            loaded_cube=True\n",
    "            # Nearest neighbour\n",
    "            reg_cube_nn =cube.regrid(cube_12km,iris.analysis.Nearest())    \n",
    "            # Save \n",
    "            iris.save(reg_cube_nn, output_dir_12km + filename_to_save_to)\n",
    "\n",
    "        # 2.2km regridding\n",
    "        if os.path.isfile(output_dir_2_2km + filename_to_save_to):\n",
    "            print(\"File already exists\")\n",
    "        if not os.path.isfile(output_dir_2_2km + filename_to_save_to):\n",
    "            print('Making 2.2km file')\n",
    "            if loaded_cube == False:\n",
    "                cube = iris.load(filename)[0]\n",
    "            # Nearest neighbour\n",
    "            reg_cube_nn =cube.regrid(cube_2_2km,iris.analysis.Nearest())    \n",
    "            print(\"Regridded\")\n",
    "            # Save \n",
    "            iris.save(reg_cube_nn, output_dir_2_2km + filename_to_save_to)    \n",
    "\n",
    "        loaded_cube=False\n"
   ]
  },
  {
   "cell_type": "markdown",
   "id": "9cc7e19d",
   "metadata": {},
   "source": [
    "## Regrid CEH-GEAR"
   ]
  },
  {
   "cell_type": "code",
   "execution_count": null,
   "id": "f36fb94b",
   "metadata": {},
   "outputs": [],
   "source": [
    "os.chdir(\"/nfs/a319/gy17m2a/PhD/datadir/CEH-GEAR/OriginalFormat/\")\n",
    "for filename in glob.glob(\"*\")[:1]:\n",
    "    print(filename)\n",
    "    cube = iris.load(filename)[0]\n",
    "    \n",
    "    # Filename to save reformatted cube to\n",
    "    filename_to_save_to_reformat = f\"/nfs/a319/gy17m2a/PhD/datadir/CEH-GEAR/CEH-GEAR_reformatted/rf_{filename}\"\n",
    "    # Filename to save 2.2km regridded cube to -- linear\n",
    "    filename_to_save_to_lin_2_2km = f\"/nfs/a319/gy17m2a/PhD/datadir/CEH-GEAR/CEH-GEAR_regridded_2.2km/LinearRegridding/rg_{filename}\"\n",
    "    # Filename to save 2.2km regridded cube to -- nearest neighbour\n",
    "    filename_to_save_to_nn_2_2km = f\"/nfs/a319/gy17m2a/PhD/datadir/CEH-GEAR/CEH-GEAR_regridded_2.2km/NearestNeighbour/rg_{filename}\"\n",
    "      # Filename to save 12km regridded cube to -- nearest neihgoubt\n",
    "    #filename_to_save_to_lin_12km = f\"/nfs/a319/gy17m2a/datadir/CEH-GEAR/CEH-GEAR_regridded_12km/LinearRegrdding/rg_{filename}\"\n",
    "    filename_to_save_to_nn_12km = f\"/nfs/a319/gy17m2a/PhD/datadir/CEH-GEAR/CEH-GEAR_regridded_12km/NearestNeighbour/rg_{filename}\"\n",
    "    \n",
    "    ###### Open dataset with Xarry and reformat\n",
    "    xr_ds=xr.open_dataset(filename)\n",
    "    # Convert to cube in the correct format and save\n",
    "    cube=make_bng_cube(xr_ds,'rainfall_amount')\n",
    "    iris.save(cube, filename_to_save_to_reformat)\n",
    "    \n",
    "    #### Regrid observations onto 2.2km model grid\n",
    "    # Lienar interpolation\n",
    "    reg_cube_lin_2_2km =cube.regrid(cube_model_2_2km,iris.analysis.Linear())      \n",
    "    # nearest neighbour\n",
    "    reg_cube_nn_2_2km =cube.regrid(cube_model_2_2km,iris.analysis.Nearest()) \n",
    "    # Save \n",
    "    iris.save(reg_cube_lin_2_2km, filename_to_save_to_lin_2_2km)\n",
    "    iris.save(reg_cube_nn_2_2km, filename_to_save_to_nn_2_2km)\n",
    "    \n",
    "    #### Regrid observations onto 12km model grid\n",
    "    # Linear interpolation\n",
    "    #reg_cube_lin_12km =cube.regrid(cube_12km,iris.analysis.Linear())      \n",
    "    # nearest neighbour\n",
    "    reg_cube_nn_12km =cube.regrid(cube_12km,iris.analysis.Nearest()) \n",
    "    # Save \n",
    "    #iris.save(reg_cube_lin_12km, filename_to_save_to_lin_12km)\n",
    "    iris.save(reg_cube_nn_12km, filename_to_save_to_nn_12km)"
   ]
  }
 ],
 "metadata": {
  "kernelspec": {
   "display_name": "Python 3 (ipykernel)",
   "language": "python",
   "name": "python3"
  },
  "language_info": {
   "codemirror_mode": {
    "name": "ipython",
    "version": 3
   },
   "file_extension": ".py",
   "mimetype": "text/x-python",
   "name": "python",
   "nbconvert_exporter": "python",
   "pygments_lexer": "ipython3",
   "version": "3.9.7"
  }
 },
 "nbformat": 4,
 "nbformat_minor": 5
}
