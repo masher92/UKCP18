{
 "cells": [
  {
   "cell_type": "code",
   "execution_count": 1,
   "id": "bbe0cca0",
   "metadata": {},
   "outputs": [],
   "source": [
    "import iris\n",
    "import xarray as xr\n",
    "import numpy as np\n",
    "from iris.coords import DimCoord\n",
    "from iris.coord_systems import TransverseMercator,GeogCS\n",
    "from iris.cube import Cube\n",
    "from cf_units import Unit\n",
    "import cf_units\n",
    "import os\n",
    "import glob\n",
    "from pyproj import Proj, transform\n",
    "import sys\n",
    "import warnings\n",
    "import multiprocessing as mp\n",
    "\n",
    "warnings.filterwarnings(\"ignore\")\n",
    "\n",
    "ems = ['01', '04', '06', '07', '08', '09', '10', '11', '12', '13', '15']\n",
    "ems = ['bc005', 'bc006', 'bc007', 'bc009', 'bc010', 'bc011', 'bc013',  'bc015',  'bc016', 'bc017', 'bc018', 'bc012']\n",
    "yrs_range = '1980_2001'"
   ]
  },
  {
   "cell_type": "code",
   "execution_count": 7,
   "id": "12856505",
   "metadata": {},
   "outputs": [],
   "source": [
    "##########################################################################################\n",
    "#########################################################################################\n",
    "# Define variables and set up environment\n",
    "##########################################################################################\n",
    "##########################################################################################\n",
    "root_fp = \"/nfs/a319/gy17m2a/\"\n",
    "os.chdir(root_fp)\n",
    "\n",
    "# Create path to files containing functions\n",
    "sys.path.insert(0, root_fp + 'PhD/Scripts/DataProcessing/Regridding')\n",
    "from Regridding_functions import *\n",
    "\n",
    "# Load UKCP18 12km model data to use in regriddding\n",
    "file_model=f'/nfs/a319/gy17m2a/PhD/datadir/UKCP18_hourly/12km/01/{yrs_range}/pr_rcp85_land-rcm_uk_12km_01_day_19801201-19901130.nc'\n",
    "cube_12km=iris.load_cube(file_model)"
   ]
  },
  {
   "cell_type": "code",
   "execution_count": 2,
   "id": "16f0bcf3",
   "metadata": {},
   "outputs": [],
   "source": [
    "##########################################################################################\n",
    "##########################################################################################    \n",
    "#### Regrid UKCP18\n",
    "##########################################################################################\n",
    "os.chdir(\"/nfs/a319/gy17m2a/PhD/datadir/CEH-GEAR/CEH-GEAR_reformatted/\")\n",
    "\n",
    "output_fp = f\"/nfs/a319/gy17m2a/PhD/datadir/UKCP18_every30mins/2.2km_regridded_12km/{em}/NearestNeighbour/2001_2020/\"\n",
    "if not os.path.isdir(output_fp):\n",
    "    os.makedirs(output_fp)\n",
    "for filename in glob.glob(\"*\"):     \n",
    "        print(filename)\n",
    "        cube = iris.load(filename)[0]\n",
    "        # Linear interpolation\n",
    "        #reg_cube_lin =cube.regrid(cube_model,iris.analysis.Linear())      \n",
    "        # Nearest neighbour\n",
    "        reg_cube_nn =cube.regrid(cube_12km,iris.analysis.Nearest())   \n",
    "        # Save \n",
    "        iris.save(reg_cube_nn, output_fp +  f\"rg_{filename}\")     \n",
    "    \n"
   ]
  },
  {
   "cell_type": "code",
   "execution_count": null,
   "id": "7268fd78",
   "metadata": {},
   "outputs": [
    {
     "name": "stdout",
     "output_type": "stream",
     "text": [
      "rf_CEH-GEAR-1hr_199508.nc\n",
      "Regridded\n",
      "rf_CEH-GEAR-1hr_199404.nc\n",
      "Regridded\n",
      "rf_CEH-GEAR-1hr_201311.nc\n",
      "Regridded\n",
      "rf_CEH-GEAR-1hr_200404.nc\n",
      "Regridded\n"
     ]
    }
   ],
   "source": [
    "#########################################################################################\n",
    "#########################################################################################    \n",
    "### Regrid CEH-GEAR\n",
    "#########################################################################################\n",
    "#########################################################################################\n",
    "os.chdir(\"/nfs/a319/gy17m2a/PhD/datadir/CEH-GEAR/CEH-GEAR_reformatted/\")\n",
    "output_fp = f\"/nfs/a319/gy17m2a/PhD/datadir/CEH-GEAR/CEH-GEAR_regridded_12km/NearestNeighbour/\"\n",
    "if not os.path.isdir(output_fp):\n",
    "    os.makedirs(output_fp)\n",
    "for filename in glob.glob(\"*\"):\n",
    "    print(filename)\n",
    "    cube = iris.load(filename)[0]\n",
    "    filename_to_save_to = f\"rg_{filename[3:]}\"\n",
    "    # Nearest neighbour\n",
    "    reg_cube_nn =cube.regrid(cube_12km,iris.analysis.Nearest())    \n",
    "    print(\"Regridded\")\n",
    "    # Save \n",
    "    iris.save(reg_cube_nn, filename_to_save_to)\n",
    "  "
   ]
  }
 ],
 "metadata": {
  "kernelspec": {
   "display_name": "Python 3 (ipykernel)",
   "language": "python",
   "name": "python3"
  },
  "language_info": {
   "codemirror_mode": {
    "name": "ipython",
    "version": 3
   },
   "file_extension": ".py",
   "mimetype": "text/x-python",
   "name": "python",
   "nbconvert_exporter": "python",
   "pygments_lexer": "ipython3",
   "version": "3.9.7"
  }
 },
 "nbformat": 4,
 "nbformat_minor": 5
}
