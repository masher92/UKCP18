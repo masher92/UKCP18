{
 "cells": [
  {
   "cell_type": "code",
   "execution_count": 18,
   "id": "2e9e83c5",
   "metadata": {},
   "outputs": [],
   "source": [
    "import iris\n",
    "import xarray as xr\n",
    "import numpy as np\n",
    "from iris.coords import DimCoord\n",
    "from iris.coord_systems import TransverseMercator,GeogCS\n",
    "from iris.cube import Cube\n",
    "from cf_units import Unit\n",
    "import cf_units\n",
    "import os\n",
    "import glob\n",
    "from pyproj import Proj, transform\n",
    "import sys\n",
    "import warnings\n",
    "import multiprocessing as mp\n",
    "\n",
    "warnings.filterwarnings(\"ignore\")\n",
    "\n",
    "ems = ['01', '04', '06', '07', '08', '09', '10', '11', '12', '13', '15']\n",
    "yrs_range = '1980_2001'"
   ]
  },
  {
   "cell_type": "code",
   "execution_count": 25,
   "id": "05a2c116",
   "metadata": {},
   "outputs": [],
   "source": [
    "##########################################################################################\n",
    "#########################################################################################\n",
    "# Define variables and set up environment\n",
    "##########################################################################################\n",
    "##########################################################################################\n",
    "root_fp = \"/nfs/a319/gy17m2a/\"\n",
    "os.chdir(root_fp)\n",
    "\n",
    "# Create path to files containing functions\n",
    "sys.path.insert(0, root_fp + 'PhD/Scripts/DataProcessing/Regridding')\n",
    "from Regridding_functions import *\n",
    "\n",
    "# Load UKCP18 12km model data to use in regriddding\n",
    "file_model=f'/nfs/a319/gy17m2a/PhD/datadir/UKCP18_hourly/12km/01/{yrs_range}/pr_rcp85_land-rcm_uk_12km_01_day_19801201-19901130.nc'\n",
    "cube_12km=iris.load_cube(file_model)"
   ]
  },
  {
   "cell_type": "code",
   "execution_count": null,
   "id": "c1cb99e9",
   "metadata": {},
   "outputs": [],
   "source": [
    "#########################################################################################\n",
    "#########################################################################################    \n",
    "### Regrid CEH-GEAR\n",
    "#########################################################################################\n",
    "#########################################################################################\n",
    "os.chdir(\"datadir/CEH-GEAR/CEH-GEAR_reformatted/\")\n",
    "i = 0\n",
    "for filename in glob.glob(\"*\"):\n",
    "    print(filename)\n",
    "    print(i)\n",
    "    cube = iris.load(filename)[0]\n",
    "    filename_to_save_to = \"/nfs/a319/gy17m2a/datadir/CEH-GEAR/CEH-GEAR_regridded_12km/NearestNeighbour/rg_{}\".format(filename[3:])\n",
    "    if not os.path.isfile(filename_to_save_to):\n",
    "       #print(cube)\n",
    "       #### Regrid observaitons onto 12km model grid\n",
    "       # Lienar interpolation\n",
    "       #reg_cube_lin =cube.regrid(cube_model,iris.analysis.Linear())      \n",
    "       # Nearest neighbour\n",
    "        reg_cube_nn =cube.regrid(cube_model,iris.analysis.Nearest())    \n",
    "        print(\"Regridded\")\n",
    "        # Save \n",
    "        #iris.save(reg_cube_lin, \"/nfs/a319/gy17m2a/datadir/CEH-GEAR/CEH-GEAR_regridded_12km/LinearInterpolation/rg_{}\".format(filename[3:]))\n",
    "        iris.save(reg_cube_nn, filename_to_save_to)\n",
    "        i=i+1\n",
    "  "
   ]
  },
  {
   "cell_type": "markdown",
   "id": "0213d681",
   "metadata": {},
   "source": [
    "## Regrid hourly UKCP18 data"
   ]
  },
  {
   "cell_type": "code",
   "execution_count": null,
   "id": "daaf2d18",
   "metadata": {},
   "outputs": [
    {
     "name": "stdout",
     "output_type": "stream",
     "text": [
      "01\n",
      "pr_rcp85_land-cpm_uk_2.2km_01_1hr_19930701-19930730.nc\n",
      "pr_rcp85_land-cpm_uk_2.2km_01_1hr_19990301-19990330.nc\n",
      "pr_rcp85_land-cpm_uk_2.2km_01_1hr_19900801-19900830.nc\n",
      "pr_rcp85_land-cpm_uk_2.2km_01_1hr_19950501-19950530.nc\n",
      "pr_rcp85_land-cpm_uk_2.2km_01_1hr_19950901-19950930.nc\n",
      "pr_rcp85_land-cpm_uk_2.2km_01_1hr_19960601-19960630.nc\n",
      "pr_rcp85_land-cpm_uk_2.2km_01_1hr_19820601-19820630.nc\n",
      "pr_rcp85_land-cpm_uk_2.2km_01_1hr_19840801-19840830.nc\n",
      "pr_rcp85_land-cpm_uk_2.2km_01_1hr_19891101-19891130.nc\n",
      "pr_rcp85_land-cpm_uk_2.2km_01_1hr_19811001-19811030.nc\n",
      "pr_rcp85_land-cpm_uk_2.2km_01_1hr_19830201-19830230.nc\n",
      "pr_rcp85_land-cpm_uk_2.2km_01_1hr_19900201-19900230.nc\n",
      "pr_rcp85_land-cpm_uk_2.2km_01_1hr_19970501-19970530.nc\n",
      "pr_rcp85_land-cpm_uk_2.2km_01_1hr_19801201-19801230.nc\n",
      "pr_rcp85_land-cpm_uk_2.2km_01_1hr_19890701-19890730.nc\n",
      "pr_rcp85_land-cpm_uk_2.2km_01_1hr_19890101-19890130.nc\n",
      "pr_rcp85_land-cpm_uk_2.2km_01_1hr_20010601-20010630.nc\n",
      "pr_rcp85_land-cpm_uk_2.2km_01_1hr_19910501-19910530.nc\n",
      "pr_rcp85_land-cpm_uk_2.2km_01_1hr_19900901-19900930.nc\n",
      "pr_rcp85_land-cpm_uk_2.2km_01_1hr_19810801-19810830.nc\n",
      "pr_rcp85_land-cpm_uk_2.2km_01_1hr_19880501-19880530.nc\n",
      "pr_rcp85_land-cpm_uk_2.2km_01_1hr_19941201-19941230.nc\n",
      "pr_rcp85_land-cpm_uk_2.2km_01_1hr_19860201-19860230.nc\n",
      "pr_rcp85_land-cpm_uk_2.2km_01_1hr_20010501-20010530.nc\n",
      "pr_rcp85_land-cpm_uk_2.2km_01_1hr_19870601-19870630.nc\n",
      "pr_rcp85_land-cpm_uk_2.2km_01_1hr_19960201-19960230.nc\n",
      "pr_rcp85_land-cpm_uk_2.2km_01_1hr_19911201-19911230.nc\n",
      "pr_rcp85_land-cpm_uk_2.2km_01_1hr_19910801-19910830.nc\n",
      "pr_rcp85_land-cpm_uk_2.2km_01_1hr_19990801-19990830.nc\n",
      "pr_rcp85_land-cpm_uk_2.2km_01_1hr_19990401-19990430.nc\n",
      "pr_rcp85_land-cpm_uk_2.2km_01_1hr_19971001-19971030.nc\n",
      "pr_rcp85_land-cpm_uk_2.2km_01_1hr_19960701-19960730.nc\n",
      "pr_rcp85_land-cpm_uk_2.2km_01_1hr_19870501-19870530.nc\n",
      "pr_rcp85_land-cpm_uk_2.2km_01_1hr_19870301-19870330.nc\n",
      "pr_rcp85_land-cpm_uk_2.2km_01_1hr_19920201-19920230.nc\n",
      "pr_rcp85_land-cpm_uk_2.2km_01_1hr_19950801-19950830.nc\n",
      "pr_rcp85_land-cpm_uk_2.2km_01_1hr_19850901-19850930.nc\n",
      "pr_rcp85_land-cpm_uk_2.2km_01_1hr_19920501-19920530.nc\n",
      "pr_rcp85_land-cpm_uk_2.2km_01_1hr_19940101-19940130.nc\n",
      "pr_rcp85_land-cpm_uk_2.2km_01_1hr_19980301-19980330.nc\n",
      "pr_rcp85_land-cpm_uk_2.2km_01_1hr_19950301-19950330.nc\n",
      "pr_rcp85_land-cpm_uk_2.2km_01_1hr_19871101-19871130.nc\n",
      "pr_rcp85_land-cpm_uk_2.2km_01_1hr_19820101-19820130.nc\n",
      "pr_rcp85_land-cpm_uk_2.2km_01_1hr_19841101-19841130.nc\n",
      "pr_rcp85_land-cpm_uk_2.2km_01_1hr_19880901-19880930.nc\n",
      "pr_rcp85_land-cpm_uk_2.2km_01_1hr_19840501-19840530.nc\n",
      "pr_rcp85_land-cpm_uk_2.2km_01_1hr_19850301-19850330.nc\n"
     ]
    }
   ],
   "source": [
    "for em in ems:\n",
    "    print(em)\n",
    "    os.chdir(f\"/nfs/a319/gy17m2a/PhD/datadir/UKCP18_hourly/2.2km/{em}/1980_2001/\")\n",
    "    output_fp = f\"/nfs/a319/gy17m2a/PhD/datadir/UKCP18_hourly/2.2km_regridded_12km/{em}/NearestNeighbour/1980_2001\"\n",
    "    if not os.path.isdir(output_fp):\n",
    "        os.makedirs(output_fp)\n",
    "    for filename in glob.glob(\"*\"):     \n",
    "            print(filename)\n",
    "            cube = iris.load(filename)[0]\n",
    "            # Linear interpolation\n",
    "            #reg_cube_lin =cube.regrid(cube_model,iris.analysis.Linear())      \n",
    "            # Nearest neighbour\n",
    "            reg_cube_nn =cube.regrid(cube_12km,iris.analysis.Nearest())   \n",
    "            # Save \n",
    "            iris.save(reg_cube_nn, output_fp +  f\"rg_{filename}\")     "
   ]
  },
  {
   "cell_type": "markdown",
   "id": "2ed52985",
   "metadata": {},
   "source": [
    "## Regrid 30 mins UKCP18 data"
   ]
  },
  {
   "cell_type": "code",
   "execution_count": null,
   "id": "0e247b58",
   "metadata": {},
   "outputs": [],
   "source": [
    "for em in ems:\n",
    "    os.chdir(f\"/nfs/a319/gy17m2a/PhD/datadir/UKCP18_every30mins/2.2km/{em}/2001_2020/\")\n",
    "    output_fp = f\"/nfs/a319/gy17m2a/PhD/datadir/UKCP18_every30mins/2.2km_regridded_12km/{em}/NearestNeighbour/2001_2020/\"\n",
    "    if not os.path.isdir(output_fp):\n",
    "        os.makedirs(output_fp)\n",
    "    for filename in glob.glob(\"*\"):     \n",
    "            print(filename)\n",
    "            cube = iris.load(filename)[0]\n",
    "            # Linear interpolation\n",
    "            #reg_cube_lin =cube.regrid(cube_model,iris.analysis.Linear())      \n",
    "            # Nearest neighbour\n",
    "            reg_cube_nn =cube.regrid(cube_12km,iris.analysis.Nearest())   \n",
    "            # Save \n",
    "            iris.save(reg_cube_nn, output_fp +  f\"rg_{filename}\")     \n",
    "    \n"
   ]
  }
 ],
 "metadata": {
  "kernelspec": {
   "display_name": "Python 3 (ipykernel)",
   "language": "python",
   "name": "python3"
  },
  "language_info": {
   "codemirror_mode": {
    "name": "ipython",
    "version": 3
   },
   "file_extension": ".py",
   "mimetype": "text/x-python",
   "name": "python",
   "nbconvert_exporter": "python",
   "pygments_lexer": "ipython3",
   "version": "3.9.7"
  }
 },
 "nbformat": 4,
 "nbformat_minor": 5
}
