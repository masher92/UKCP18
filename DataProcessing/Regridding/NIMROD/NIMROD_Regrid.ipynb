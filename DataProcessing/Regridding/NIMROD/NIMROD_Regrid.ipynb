{
 "cells": [
  {
   "cell_type": "code",
   "execution_count": 1,
   "id": "1f54a621",
   "metadata": {},
   "outputs": [],
   "source": [
    "import iris\n",
    "import xarray as xr\n",
    "import numpy as np\n",
    "from iris.coords import DimCoord\n",
    "from iris.coord_systems import TransverseMercator,GeogCS\n",
    "from iris.cube import Cube\n",
    "from cf_units import Unit\n",
    "import cf_units\n",
    "import os\n",
    "import glob\n",
    "from pyproj import Proj, transform\n",
    "import sys\n",
    "\n",
    "############################################\n",
    "# Define variables and set up environment\n",
    "#############################################\n",
    "root_fp = \"/nfs/a319/gy17m2a/PhD\"\n",
    "os.chdir(root_fp)\n"
   ]
  },
  {
   "cell_type": "code",
   "execution_count": 2,
   "id": "f65b86e6",
   "metadata": {},
   "outputs": [],
   "source": [
    "year = 2013"
   ]
  },
  {
   "cell_type": "code",
   "execution_count": 3,
   "id": "a9456dfe",
   "metadata": {},
   "outputs": [],
   "source": [
    "# Load UKCP18 model data to use in regriddding\n",
    "file_model_2_2km ='/nfs/a319/gy17m2a/PhD/datadir/UKCP18/2.2km/01/1980_2001/pr_rcp85_land-cpm_uk_2.2km_01_1hr_19911201-19911230.nc'\n",
    "cube_model_2_2km =iris.load_cube(file_model_2_2km)\n",
    "\n",
    "# Load UKCP18 12km model data to use in regriddding\n",
    "file_model_12km ='/nfs/a319/gy17m2a/PhD/datadir/UKCP18/12km/01/pr_rcp85_land-rcm_uk_12km_01_day_19801201-19901130.nc'\n",
    "cube_model_12km=iris.load_cube(file_model_12km)"
   ]
  },
  {
   "cell_type": "markdown",
   "id": "9ead45f9",
   "metadata": {},
   "source": [
    "### Make necessary folders to store regridded data"
   ]
  },
  {
   "cell_type": "code",
   "execution_count": 4,
   "id": "28f78cf3",
   "metadata": {},
   "outputs": [
    {
     "ename": "NameError",
     "evalue": "name 'folder_regrid_2_2km_nn' is not defined",
     "output_type": "error",
     "traceback": [
      "\u001b[0;31m---------------------------------------------------------------------------\u001b[0m",
      "\u001b[0;31mNameError\u001b[0m                                 Traceback (most recent call last)",
      "Cell \u001b[0;32mIn [4], line 1\u001b[0m\n\u001b[0;32m----> 1\u001b[0m \u001b[43mfolder_regrid_2_2km_nn\u001b[49m\n",
      "\u001b[0;31mNameError\u001b[0m: name 'folder_regrid_2_2km_nn' is not defined"
     ]
    }
   ],
   "source": [
    "folder_regrid_2_2km_nn"
   ]
  },
  {
   "cell_type": "code",
   "execution_count": 5,
   "id": "6db1e4a4",
   "metadata": {},
   "outputs": [
    {
     "name": "stdout",
     "output_type": "stream",
     "text": [
      "2013\n",
      "Making folders\n",
      "2014\n",
      "Making folders\n",
      "2015\n",
      "Making folders\n",
      "2016\n",
      "Making folders\n",
      "2017\n",
      "Making folders\n",
      "2018\n",
      "Making folders\n",
      "2019\n",
      "Making folders\n"
     ]
    }
   ],
   "source": [
    "time_resolution  = '30mins'\n",
    "for year in range(2013,2020):\n",
    "    print(year)\n",
    "    folder_regrid_2_2km_lin = (f\"datadir/NIMROD/{time_resolution}/OriginalFormat_1km/{year}\").replace('OriginalFormat_1km', 'NIMROD_regridded_2.2km/LinearRegridding')\n",
    "    folder_regrid_2_2km_nn = (f\"datadir/NIMROD/{time_resolution}/OriginalFormat_1km/{year}\").replace('OriginalFormat_1km', 'NIMROD_regridded_2.2km/NearestNeighbour')\n",
    "\n",
    "    folder_regrid_12km_lin = (f\"datadir/NIMROD/{time_resolution}/OriginalFormat_1km/{year}\").replace('OriginalFormat_1km', 'NIMROD_regridded_12km/LinearRegridding')\n",
    "    folder_regrid_12km_nn = (f\"datadir/NIMROD/{time_resolution}/OriginalFormat_1km/{year}\").replace('OriginalFormat_1km', 'NIMROD_regridded_12km/NearestNeighbour')\n",
    "    print(\"Making folders\")\n",
    "    \n",
    "    for folder_fp in [folder_regrid_2_2km_lin, folder_regrid_2_2km_nn, folder_regrid_12km_lin, folder_regrid_12km_nn]:\n",
    "\n",
    "        if not os.path.isdir(folder_fp):\n",
    "            os.makedirs(folder_fp)"
   ]
  },
  {
   "cell_type": "markdown",
   "id": "bdeed1ac",
   "metadata": {},
   "source": [
    "### For each file in the NimRod directory:\n",
    "#### Reformat and then regrid into same format as the UKCP18 model cube"
   ]
  },
  {
   "cell_type": "code",
   "execution_count": 8,
   "id": "305e4cf2",
   "metadata": {},
   "outputs": [
    {
     "ename": "OSError",
     "evalue": "One or more of the files specified did not exist:\n    * \"/nfs/a319/gy17m2a/PhD/datadir/20140601_nimrod_ng_radar_rainrate_composite_1km_merged.nc\" didn't match any files",
     "output_type": "error",
     "traceback": [
      "\u001b[0;31m---------------------------------------------------------------------------\u001b[0m",
      "\u001b[0;31mOSError\u001b[0m                                   Traceback (most recent call last)",
      "Cell \u001b[0;32mIn [8], line 1\u001b[0m\n\u001b[0;32m----> 1\u001b[0m cube \u001b[38;5;241m=\u001b[39m\u001b[43miris\u001b[49m\u001b[38;5;241;43m.\u001b[39;49m\u001b[43mload_cube\u001b[49m\u001b[43m(\u001b[49m\u001b[38;5;124;43m\"\u001b[39;49m\u001b[38;5;124;43mdatadir/20140601_nimrod_ng_radar_rainrate_composite_1km_merged.nc\u001b[39;49m\u001b[38;5;124;43m\"\u001b[39;49m\u001b[43m)\u001b[49m\n\u001b[1;32m      2\u001b[0m cube[\u001b[38;5;241m0\u001b[39m]\n",
      "File \u001b[0;32m/nfs/a321/gy17m2a/anaconda_install/anaconda3/envs/pygeospatial/lib/python3.9/site-packages/iris/__init__.py:333\u001b[0m, in \u001b[0;36mload_cube\u001b[0;34m(uris, constraint, callback)\u001b[0m\n\u001b[1;32m    330\u001b[0m \u001b[38;5;28;01mif\u001b[39;00m \u001b[38;5;28mlen\u001b[39m(constraints) \u001b[38;5;241m!=\u001b[39m \u001b[38;5;241m1\u001b[39m:\n\u001b[1;32m    331\u001b[0m     \u001b[38;5;28;01mraise\u001b[39;00m \u001b[38;5;167;01mValueError\u001b[39;00m(\u001b[38;5;124m\"\u001b[39m\u001b[38;5;124monly a single constraint is allowed\u001b[39m\u001b[38;5;124m\"\u001b[39m)\n\u001b[0;32m--> 333\u001b[0m cubes \u001b[38;5;241m=\u001b[39m \u001b[43m_load_collection\u001b[49m\u001b[43m(\u001b[49m\u001b[43muris\u001b[49m\u001b[43m,\u001b[49m\u001b[43m \u001b[49m\u001b[43mconstraints\u001b[49m\u001b[43m,\u001b[49m\u001b[43m \u001b[49m\u001b[43mcallback\u001b[49m\u001b[43m)\u001b[49m\u001b[38;5;241m.\u001b[39mcubes()\n\u001b[1;32m    335\u001b[0m \u001b[38;5;28;01mtry\u001b[39;00m:\n\u001b[1;32m    336\u001b[0m     cube \u001b[38;5;241m=\u001b[39m cubes\u001b[38;5;241m.\u001b[39mmerge_cube()\n",
      "File \u001b[0;32m/nfs/a321/gy17m2a/anaconda_install/anaconda3/envs/pygeospatial/lib/python3.9/site-packages/iris/__init__.py:270\u001b[0m, in \u001b[0;36m_load_collection\u001b[0;34m(uris, constraints, callback)\u001b[0m\n\u001b[1;32m    268\u001b[0m \u001b[38;5;28;01mtry\u001b[39;00m:\n\u001b[1;32m    269\u001b[0m     cubes \u001b[38;5;241m=\u001b[39m _generate_cubes(uris, callback, constraints)\n\u001b[0;32m--> 270\u001b[0m     result \u001b[38;5;241m=\u001b[39m \u001b[43m_CubeFilterCollection\u001b[49m\u001b[38;5;241;43m.\u001b[39;49m\u001b[43mfrom_cubes\u001b[49m\u001b[43m(\u001b[49m\u001b[43mcubes\u001b[49m\u001b[43m,\u001b[49m\u001b[43m \u001b[49m\u001b[43mconstraints\u001b[49m\u001b[43m)\u001b[49m\n\u001b[1;32m    271\u001b[0m \u001b[38;5;28;01mexcept\u001b[39;00m \u001b[38;5;167;01mEOFError\u001b[39;00m \u001b[38;5;28;01mas\u001b[39;00m e:\n\u001b[1;32m    272\u001b[0m     \u001b[38;5;28;01mraise\u001b[39;00m iris\u001b[38;5;241m.\u001b[39mexceptions\u001b[38;5;241m.\u001b[39mTranslationError(\n\u001b[1;32m    273\u001b[0m         \u001b[38;5;124m\"\u001b[39m\u001b[38;5;124mThe file appears empty or incomplete: \u001b[39m\u001b[38;5;132;01m{!r}\u001b[39;00m\u001b[38;5;124m\"\u001b[39m\u001b[38;5;241m.\u001b[39mformat(\u001b[38;5;28mstr\u001b[39m(e))\n\u001b[1;32m    274\u001b[0m     )\n",
      "File \u001b[0;32m/nfs/a321/gy17m2a/anaconda_install/anaconda3/envs/pygeospatial/lib/python3.9/site-packages/iris/cube.py:115\u001b[0m, in \u001b[0;36m_CubeFilterCollection.from_cubes\u001b[0;34m(cubes, constraints)\u001b[0m\n\u001b[1;32m    113\u001b[0m pairs \u001b[38;5;241m=\u001b[39m [_CubeFilter(constraint) \u001b[38;5;28;01mfor\u001b[39;00m constraint \u001b[38;5;129;01min\u001b[39;00m constraints]\n\u001b[1;32m    114\u001b[0m collection \u001b[38;5;241m=\u001b[39m _CubeFilterCollection(pairs)\n\u001b[0;32m--> 115\u001b[0m \u001b[38;5;28;01mfor\u001b[39;00m cube \u001b[38;5;129;01min\u001b[39;00m cubes:\n\u001b[1;32m    116\u001b[0m     collection\u001b[38;5;241m.\u001b[39madd_cube(cube)\n\u001b[1;32m    117\u001b[0m \u001b[38;5;28;01mreturn\u001b[39;00m collection\n",
      "File \u001b[0;32m/nfs/a321/gy17m2a/anaconda_install/anaconda3/envs/pygeospatial/lib/python3.9/site-packages/iris/__init__.py:255\u001b[0m, in \u001b[0;36m_generate_cubes\u001b[0;34m(uris, callback, constraints)\u001b[0m\n\u001b[1;32m    253\u001b[0m \u001b[38;5;28;01mif\u001b[39;00m scheme \u001b[38;5;241m==\u001b[39m \u001b[38;5;124m\"\u001b[39m\u001b[38;5;124mfile\u001b[39m\u001b[38;5;124m\"\u001b[39m:\n\u001b[1;32m    254\u001b[0m     part_names \u001b[38;5;241m=\u001b[39m [x[\u001b[38;5;241m1\u001b[39m] \u001b[38;5;28;01mfor\u001b[39;00m x \u001b[38;5;129;01min\u001b[39;00m groups]\n\u001b[0;32m--> 255\u001b[0m     \u001b[38;5;28;01mfor\u001b[39;00m cube \u001b[38;5;129;01min\u001b[39;00m iris\u001b[38;5;241m.\u001b[39mio\u001b[38;5;241m.\u001b[39mload_files(part_names, callback, constraints):\n\u001b[1;32m    256\u001b[0m         \u001b[38;5;28;01myield\u001b[39;00m cube\n\u001b[1;32m    257\u001b[0m \u001b[38;5;28;01melif\u001b[39;00m scheme \u001b[38;5;129;01min\u001b[39;00m [\u001b[38;5;124m\"\u001b[39m\u001b[38;5;124mhttp\u001b[39m\u001b[38;5;124m\"\u001b[39m, \u001b[38;5;124m\"\u001b[39m\u001b[38;5;124mhttps\u001b[39m\u001b[38;5;124m\"\u001b[39m]:\n",
      "File \u001b[0;32m/nfs/a321/gy17m2a/anaconda_install/anaconda3/envs/pygeospatial/lib/python3.9/site-packages/iris/io/__init__.py:189\u001b[0m, in \u001b[0;36mload_files\u001b[0;34m(filenames, callback, constraints)\u001b[0m\n\u001b[1;32m    176\u001b[0m \u001b[38;5;124;03m\"\"\"\u001b[39;00m\n\u001b[1;32m    177\u001b[0m \u001b[38;5;124;03mTakes a list of filenames which may also be globs, and optionally a\u001b[39;00m\n\u001b[1;32m    178\u001b[0m \u001b[38;5;124;03mconstraint set and a callback function, and returns a\u001b[39;00m\n\u001b[0;32m   (...)\u001b[0m\n\u001b[1;32m    185\u001b[0m \n\u001b[1;32m    186\u001b[0m \u001b[38;5;124;03m\"\"\"\u001b[39;00m\n\u001b[1;32m    187\u001b[0m \u001b[38;5;28;01mfrom\u001b[39;00m \u001b[38;5;21;01miris\u001b[39;00m\u001b[38;5;21;01m.\u001b[39;00m\u001b[38;5;21;01mfileformats\u001b[39;00m \u001b[38;5;28;01mimport\u001b[39;00m FORMAT_AGENT\n\u001b[0;32m--> 189\u001b[0m all_file_paths \u001b[38;5;241m=\u001b[39m \u001b[43mexpand_filespecs\u001b[49m\u001b[43m(\u001b[49m\u001b[43mfilenames\u001b[49m\u001b[43m)\u001b[49m\n\u001b[1;32m    191\u001b[0m \u001b[38;5;66;03m# Create default dict mapping iris format handler to its associated filenames\u001b[39;00m\n\u001b[1;32m    192\u001b[0m handler_map \u001b[38;5;241m=\u001b[39m collections\u001b[38;5;241m.\u001b[39mdefaultdict(\u001b[38;5;28mlist\u001b[39m)\n",
      "File \u001b[0;32m/nfs/a321/gy17m2a/anaconda_install/anaconda3/envs/pygeospatial/lib/python3.9/site-packages/iris/io/__init__.py:170\u001b[0m, in \u001b[0;36mexpand_filespecs\u001b[0;34m(file_specs)\u001b[0m\n\u001b[1;32m    168\u001b[0m         \u001b[38;5;28;01melse\u001b[39;00m:\n\u001b[1;32m    169\u001b[0m             msg \u001b[38;5;241m+\u001b[39m\u001b[38;5;241m=\u001b[39m \u001b[38;5;124m'\u001b[39m\u001b[38;5;130;01m\\n\u001b[39;00m\u001b[38;5;124m    * \u001b[39m\u001b[38;5;124m\"\u001b[39m\u001b[38;5;132;01m{}\u001b[39;00m\u001b[38;5;124m\"\u001b[39m\u001b[38;5;124m didn\u001b[39m\u001b[38;5;130;01m\\'\u001b[39;00m\u001b[38;5;124mt match any files\u001b[39m\u001b[38;5;124m'\u001b[39m\u001b[38;5;241m.\u001b[39mformat(pattern)\n\u001b[0;32m--> 170\u001b[0m     \u001b[38;5;28;01mraise\u001b[39;00m \u001b[38;5;167;01mIOError\u001b[39;00m(msg)\n\u001b[1;32m    172\u001b[0m \u001b[38;5;28;01mreturn\u001b[39;00m [fname \u001b[38;5;28;01mfor\u001b[39;00m fnames \u001b[38;5;129;01min\u001b[39;00m all_expanded \u001b[38;5;28;01mfor\u001b[39;00m fname \u001b[38;5;129;01min\u001b[39;00m fnames]\n",
      "\u001b[0;31mOSError\u001b[0m: One or more of the files specified did not exist:\n    * \"/nfs/a319/gy17m2a/PhD/datadir/20140601_nimrod_ng_radar_rainrate_composite_1km_merged.nc\" didn't match any files"
     ]
    }
   ],
   "source": [
    "cube =iris.load_cube(\"datadir/20140601_nimrod_ng_radar_rainrate_composite_1km_merged.nc\")\n",
    "cube[0]"
   ]
  },
  {
   "cell_type": "code",
   "execution_count": 7,
   "id": "faf0aef1",
   "metadata": {},
   "outputs": [
    {
     "data": {
      "text/html": [
       "\n",
       "<style>\n",
       "  a.iris {\n",
       "      text-decoration: none !important;\n",
       "  }\n",
       "  table.iris {\n",
       "      white-space: pre;\n",
       "      border: 1px solid;\n",
       "      border-color: #9c9c9c;\n",
       "      font-family: monaco, monospace;\n",
       "  }\n",
       "  th.iris {\n",
       "      background: #303f3f;\n",
       "      color: #e0e0e0;\n",
       "      border-left: 1px solid;\n",
       "      border-color: #9c9c9c;\n",
       "      font-size: 1.05em;\n",
       "      min-width: 50px;\n",
       "      max-width: 125px;\n",
       "  }\n",
       "  tr.iris :first-child {\n",
       "      border-right: 1px solid #9c9c9c !important;\n",
       "  }\n",
       "  td.iris-title {\n",
       "      background: #d5dcdf;\n",
       "      border-top: 1px solid #9c9c9c;\n",
       "      font-weight: bold;\n",
       "  }\n",
       "  .iris-word-cell {\n",
       "      text-align: left !important;\n",
       "      white-space: pre;\n",
       "  }\n",
       "  .iris-subheading-cell {\n",
       "      padding-left: 2em !important;\n",
       "  }\n",
       "  .iris-inclusion-cell {\n",
       "      padding-right: 1em !important;\n",
       "  }\n",
       "  .iris-panel-body {\n",
       "      padding-top: 0px;\n",
       "  }\n",
       "  .iris-panel-title {\n",
       "      padding-left: 3em;\n",
       "  }\n",
       "  .iris-panel-title {\n",
       "      margin-top: 7px;\n",
       "  }\n",
       "</style>\n",
       "<table class=\"iris\" id=\"140629907228752\">\n",
       "    <tr class=\"iris\">\n",
       "<th class=\"iris iris-word-cell\">Rain Rate Composite (mm/hr)</th>\n",
       "<th class=\"iris iris-word-cell\">time</th>\n",
       "<th class=\"iris iris-word-cell\">projection_y_coordinate</th>\n",
       "<th class=\"iris iris-word-cell\">projection_x_coordinate</th>\n",
       "</tr>\n",
       "    <tr class=\"iris\">\n",
       "<td class=\"iris-word-cell iris-subheading-cell\">Shape</td>\n",
       "<td class=\"iris iris-inclusion-cell\">283</td>\n",
       "<td class=\"iris iris-inclusion-cell\">72</td>\n",
       "<td class=\"iris iris-inclusion-cell\">82</td>\n",
       "</tr>\n",
       "    <tr class=\"iris\">\n",
       "    <td class=\"iris-title iris-word-cell\">Dimension coordinates</td>\n",
       "    <td class=\"iris-title\"></td>\n",
       "    <td class=\"iris-title\"></td>\n",
       "    <td class=\"iris-title\"></td>\n",
       "</tr>\n",
       "<tr class=\"iris\">\n",
       "    <td class=\"iris-word-cell iris-subheading-cell\">\ttime</td>\n",
       "    <td class=\"iris-inclusion-cell\">x</td>\n",
       "    <td class=\"iris-inclusion-cell\">-</td>\n",
       "    <td class=\"iris-inclusion-cell\">-</td>\n",
       "</tr>\n",
       "<tr class=\"iris\">\n",
       "    <td class=\"iris-word-cell iris-subheading-cell\">\tprojection_y_coordinate</td>\n",
       "    <td class=\"iris-inclusion-cell\">-</td>\n",
       "    <td class=\"iris-inclusion-cell\">x</td>\n",
       "    <td class=\"iris-inclusion-cell\">-</td>\n",
       "</tr>\n",
       "<tr class=\"iris\">\n",
       "    <td class=\"iris-word-cell iris-subheading-cell\">\tprojection_x_coordinate</td>\n",
       "    <td class=\"iris-inclusion-cell\">-</td>\n",
       "    <td class=\"iris-inclusion-cell\">-</td>\n",
       "    <td class=\"iris-inclusion-cell\">x</td>\n",
       "</tr>\n",
       "<tr class=\"iris\">\n",
       "    <td class=\"iris-title iris-word-cell\">Auxiliary coordinates</td>\n",
       "    <td class=\"iris-title\"></td>\n",
       "    <td class=\"iris-title\"></td>\n",
       "    <td class=\"iris-title\"></td>\n",
       "</tr>\n",
       "<tr class=\"iris\">\n",
       "    <td class=\"iris-word-cell iris-subheading-cell\">\tforecast_reference_time</td>\n",
       "    <td class=\"iris-inclusion-cell\">x</td>\n",
       "    <td class=\"iris-inclusion-cell\">-</td>\n",
       "    <td class=\"iris-inclusion-cell\">-</td>\n",
       "</tr>\n",
       "<tr class=\"iris\">\n",
       "    <td class=\"iris-title iris-word-cell\">Scalar coordinates</td>\n",
       "    <td class=\"iris-title\"></td>\n",
       "    <td class=\"iris-title\"></td>\n",
       "    <td class=\"iris-title\"><br>forecast_period             0 second</td>\n",
       "</tr>\n",
       "<tr class=\"iris\">\n",
       "    <td class=\"iris-title iris-word-cell\">Attributes</td>\n",
       "    <td class=\"iris-title\"></td>\n",
       "    <td class=\"iris-title\"></td>\n",
       "    <td class=\"iris-title\"><br>Conventions                 CF-1.7<br>field_code                  213<br>institution                 Met Office<br>nimrod_version              2<br>probability_period_of_event 0<br>source                      1km Single Site Radars<br>title                       Unknown</td>\n",
       "</tr>\n",
       "</table>\n",
       "        "
      ],
      "text/plain": [
       "<iris 'Cube' of Rain rate Composite / (mm/hr) (time: 283; projection_y_coordinate: 72; projection_x_coordinate: 82)>"
      ]
     },
     "execution_count": 7,
     "metadata": {},
     "output_type": "execute_result"
    }
   ],
   "source": [
    "cube =iris.load_cube(filename)\n",
    "cube"
   ]
  },
  {
   "cell_type": "code",
   "execution_count": 5,
   "id": "4ab52851",
   "metadata": {},
   "outputs": [],
   "source": [
    "for filename in glob.glob(f\"datadir/NimRod/OriginalFormat/{year}/*\"):\n",
    "    # Load data\n",
    "    cube =iris.load_cube(filename)\n",
    "    \n",
    "    for regridding_resolution in ['2.2km', '12km']:\n",
    "        # Specify model cube to use in regridding\n",
    "        if regridding_resolution == '2.2km':\n",
    "            cube_model = cube_model_2_2km\n",
    "        elif regridding_resolution == '12km':\n",
    "            cube_model = cube_model_12km\n",
    "\n",
    "        #### Regrid observaitons onto model grid\n",
    "        # Lienar interpolation\n",
    "        reg_cube_lin =cube.regrid(cube_model,iris.analysis.Linear())      \n",
    "        # Nearest neighbour\n",
    "        reg_cube_nn =cube.regrid(cube_model,iris.analysis.Nearest())    \n",
    "        \n",
    "        # Filename to save regridded cube to - 2.2km -- linear/nearest neighbour\n",
    "        filename_regrid_lin = filename.replace(f\"OriginalFormat/{year}/\", f\"NIMROD_regridded_{regridding_resolution}/LinearRegridding/{year}/rg_\")\n",
    "        filename_regrid_nn = filename.replace(f\"OriginalFormat/{year}/\", f\"NIMROD_regridded_{regridding_resolution}/NearestNeighbour/{year}/rg_\")\n",
    "\n",
    "        # Save regridded\n",
    "        iris.save(reg_cube_lin, filename_regrid_lin)\n",
    "        iris.save(reg_cube_nn, filename_regrid_nn)\n"
   ]
  }
 ],
 "metadata": {
  "kernelspec": {
   "display_name": "Python 3 (ipykernel)",
   "language": "python",
   "name": "python3"
  },
  "language_info": {
   "codemirror_mode": {
    "name": "ipython",
    "version": 3
   },
   "file_extension": ".py",
   "mimetype": "text/x-python",
   "name": "python",
   "nbconvert_exporter": "python",
   "pygments_lexer": "ipython3",
   "version": "3.9.7"
  }
 },
 "nbformat": 4,
 "nbformat_minor": 5
}
