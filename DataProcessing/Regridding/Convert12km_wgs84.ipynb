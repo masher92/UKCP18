{
 "cells": [
  {
   "cell_type": "code",
   "execution_count": 2,
   "id": "5b47392d",
   "metadata": {},
   "outputs": [],
   "source": [
    "import iris\n",
    "import numpy as np\n",
    "from iris.coords import DimCoord\n",
    "from iris.coord_systems import TransverseMercator,GeogCS\n",
    "from iris.cube import Cube\n",
    "from cf_units import Unit\n",
    "import cf_units\n",
    "import os\n",
    "import glob\n",
    "from pyproj import Proj, transform\n",
    "import sys\n",
    "import warnings\n",
    "import multiprocessing as mp\n",
    "import cartopy.crs as ccrs\n",
    "\n",
    "warnings.filterwarnings(\"ignore\")\n",
    "\n",
    "ems_hourly = ['01', '04', '06', '07', '08', '09', '10', '11', '12', '13', '15']\n",
    "ems_30mins = ['bc005', 'bc006', 'bc007', 'bc009', 'bc010', 'bc011', 'bc013',  'bc015',  'bc016', 'bc017', 'bc018', 'bc012']\n",
    "yrs_range = '1980_2001'"
   ]
  },
  {
   "cell_type": "code",
   "execution_count": 27,
   "id": "3284678a",
   "metadata": {},
   "outputs": [],
   "source": [
    "##########################################################################################\n",
    "#########################################################################################\n",
    "# Define variables and set up environment\n",
    "##########################################################################################\n",
    "##########################################################################################\n",
    "root_fp = \"/nfs/a319/gy17m2a/\"\n",
    "os.chdir(root_fp)\n",
    "\n",
    "# Create path to files containing functions\n",
    "sys.path.insert(0, root_fp + 'PhD/Scripts/DataProcessing/Regridding')\n",
    "from Regridding_functions import *\n",
    "# Create path to files containing functions\n",
    "sys.path.insert(0, root_fp + 'Scripts/GlobalFunctions')\n",
    "from Spatial_plotting_functions import *\n",
    "from Spatial_geometry_functions import *\n",
    "\n",
    "gb_gdf = create_gb_outline({'init' :'epsg:3857'})\n",
    "\n",
    "# Load UKCP18 12km model data to use in regriddding\n",
    "file_model_12km=f'/nfs/a319/gy17m2a/PhD/datadir/UKCP18_hourly/12km/01/{yrs_range}/pr_rcp85_land-rcm_uk_12km_01_day_19801201-19901130.nc'\n",
    "cube_12km=iris.load_cube(file_model_12km)\n",
    "\n",
    "file_model_2_2km ='/nfs/a319/gy17m2a/PhD/datadir/UKCP18_hourly/2.2km/01/1980_2001/pr_rcp85_land-cpm_uk_2.2km_01_1hr_19910601-19910630.nc'\n",
    "cube_2km =iris.load_cube(file_model_2_2km)\n",
    "\n",
    "# remove ensemble member dimension\n",
    "cube_2km = cube_2km[0,:,:,:]\n",
    "cube_12km = cube_12km[0,:,:,:]"
   ]
  },
  {
   "cell_type": "code",
   "execution_count": 4,
   "id": "e7732786",
   "metadata": {},
   "outputs": [],
   "source": [
    "##################################################################\n",
    "# This is a square area surrounding Leeds\n",
    "leeds_at_centre_gdf = create_leeds_at_centre_outline({'init' :'epsg:3857'})\n",
    "cube_12km_trimmed_to_leeds =  trim_to_bbox_of_region_obs(cube_12km, leeds_at_centre_gdf)"
   ]
  },
  {
   "cell_type": "code",
   "execution_count": 5,
   "id": "69f81108",
   "metadata": {},
   "outputs": [],
   "source": [
    "yrs_range = '1980_2001'\n",
    "# ems_hourly = ['04', '06', '07', '08', '09', '10', ]"
   ]
  },
  {
   "cell_type": "markdown",
   "id": "c00b085d",
   "metadata": {},
   "source": [
    "### Check plotting"
   ]
  },
  {
   "cell_type": "code",
   "execution_count": 57,
   "id": "18b8b4cc",
   "metadata": {},
   "outputs": [],
   "source": [
    "# fig, ax= plt.subplots()\n",
    "# iplt.contourf(cube_12km[1,:,:])\n",
    "# plt.gca().coastlines(resolution='10m', color='black', linewidth=0.5);\n",
    "# fig, ax= plt.subplots()\n",
    "# iplt.contourf(cube_2km[1,:,:])\n",
    "# plt.gca().coastlines(resolution='10m', color='black', linewidth=0.5);"
   ]
  },
  {
   "cell_type": "markdown",
   "id": "30121152",
   "metadata": {},
   "source": [
    "### Inspect coordinates"
   ]
  },
  {
   "cell_type": "code",
   "execution_count": 7,
   "id": "8972e525",
   "metadata": {},
   "outputs": [],
   "source": [
    "### 2km cube has grid_latitude and grid_longitude as 1D dimension coordinates (rotated geodesic)\n",
    "### 2km cube has projection_y_coordinate and projection_x_coordinate as 1D dimension coordinates (BNG)"
   ]
  },
  {
   "cell_type": "code",
   "execution_count": 8,
   "id": "7489b68a",
   "metadata": {},
   "outputs": [],
   "source": [
    "# cube_2km_test = cube_2km[0,1:5,:,:]\n",
    "# cube_12km_test = cube_12km[0,1:5,:,:]\n",
    "# iris.save(cube_12km_test,\"mytest2km.nc\")\n",
    "# iris.save(cube_2km_test,\"myest12km.nc\")"
   ]
  },
  {
   "cell_type": "code",
   "execution_count": 9,
   "id": "d732a159",
   "metadata": {},
   "outputs": [],
   "source": [
    "# print(cube_2km.coord('grid_latitude').shape)\n",
    "# print(cube_2km.coord('grid_longitude').shape)\n",
    "# print(cube_12km.coord('projection_y_coordinate').shape)\n",
    "# print(cube_12km.coord('projection_x_coordinate').shape)"
   ]
  },
  {
   "cell_type": "code",
   "execution_count": 10,
   "id": "df264439",
   "metadata": {},
   "outputs": [],
   "source": [
    "### 2km cube has latitude and longitude as 2D dimension coordinates (rotated geodesic)\n",
    "### 12km cube has grid_latitude and grid_longitude as 2D dimension coordinates (BNG)"
   ]
  },
  {
   "cell_type": "code",
   "execution_count": 11,
   "id": "a3cdcaa3",
   "metadata": {},
   "outputs": [],
   "source": [
    "# print(cube_2km.coord('latitude').shape)\n",
    "# print(cube_2km.coord('longitude').shape)\n",
    "# print(cube_12km.coord('grid_latitude').shape)\n",
    "# print(cube_12km.coord('grid_longitude').shape)"
   ]
  },
  {
   "cell_type": "code",
   "execution_count": 12,
   "id": "72b32d2e",
   "metadata": {},
   "outputs": [],
   "source": [
    "### But are the grid_latitude and grid_longitude coordinates the same?\n",
    "### Don't think so\n",
    "### 2km is in rotated pole\n",
    "### But 12km is in WGS84 still"
   ]
  },
  {
   "cell_type": "code",
   "execution_count": 13,
   "id": "6d97f19b",
   "metadata": {},
   "outputs": [],
   "source": [
    "# cube_12km.coord('grid_latitude').coord_system\n",
    "\n",
    "# print(cube_2km.coord('grid_longitude').coord_system)\n",
    "# print(cube_2km.coord('longitude').coord_system)\n",
    "\n",
    "# print(cube_12km.coord('projection_y_coordinate').coord_system)\n",
    "# print(cube_12km.coord('grid_longitude').coord_system)"
   ]
  },
  {
   "cell_type": "markdown",
   "id": "3d4dc06f",
   "metadata": {},
   "source": [
    "## Transform cube 12km to WGS84"
   ]
  },
  {
   "cell_type": "code",
   "execution_count": 41,
   "id": "c75d5d3a",
   "metadata": {},
   "outputs": [],
   "source": [
    "# this is the crs that we want to transform to\n",
    "source_crs_12km = ccrs.OSGB(approx=False)\n",
    "# these are the crs we are transforming from\n",
    "target_crs = ccrs.Geodetic()"
   ]
  },
  {
   "cell_type": "code",
   "execution_count": 42,
   "id": "e0ab405b",
   "metadata": {},
   "outputs": [],
   "source": [
    "def convert_to_wgs84(source_crs, cube, x_coord_name, y_coord_name):\n",
    "    # Extract the 2D meshgrid of X (eastings) and Y (northings) coordinates from the cube\n",
    "    x = cube.coord(x_coord_name).points\n",
    "    y = cube.coord(y_coord_name).points\n",
    "    xx, yy = np.meshgrid(x, y)\n",
    "\n",
    "    # Also get time for the new cube\n",
    "    time_coord = cube.coord('time')\n",
    "\n",
    "    # Use transform_points to project your coordinates\n",
    "    transformed_points = target_crs.transform_points(source_crs, xx.flatten(), yy.flatten())\n",
    "\n",
    "    # transformed_points now has a shape (n*m, 3), where the last dimension contains (lon, lat, z)\n",
    "    # Reshape the array back to your original grid shape and separate the components\n",
    "    lons, lats = transformed_points[..., 0].reshape(xx.shape), transformed_points[..., 1].reshape(yy.shape)\n",
    "\n",
    "    # Now, you should create a new cube with these lons and lats as coordinates.\n",
    "    # Note: This step requires careful handling to ensure the new cube's data aligns correctly with the transformed coordinates.\n",
    "    # You might need to create new latitude and longitude DimCoords, ensuring they have bounds set if performing area-weighted regridding later.\n",
    "\n",
    "    # Here's a simplified way to create a new cube with the transformed coordinates,\n",
    "    # assuming your original data is 2-dimensional and compatible with the new grid.\n",
    "    new_cube_data = cube.data  # This might require adjustment if the data needs to be interpolated onto the new grid.\n",
    "    latitude_coord = iris.coords.DimCoord(lats[:, 0], standard_name='latitude', units='degrees')\n",
    "    longitude_coord = iris.coords.DimCoord(lons[0, :], standard_name='longitude', units='degrees')\n",
    "\n",
    "    # Guess bounds\n",
    "    latitude_coord.guess_bounds()\n",
    "    longitude_coord.guess_bounds()\n",
    "\n",
    "    cube_wgs84 = iris.cube.Cube(new_cube_data,\n",
    "                              dim_coords_and_dims=[(time_coord, 0), (latitude_coord, 1), (longitude_coord, 2)],\n",
    "                              standard_name=cube.standard_name,\n",
    "                              units=cube.units)\n",
    "    \n",
    "    return cube_wgs84\n",
    "\n",
    "    \n",
    "    "
   ]
  },
  {
   "cell_type": "code",
   "execution_count": 56,
   "id": "a6fd35e6",
   "metadata": {},
   "outputs": [
    {
     "name": "stdout",
     "output_type": "stream",
     "text": [
      "04\n",
      "pr_rcp85_land-rcm_uk_12km_04_day_20501201-20601130.nc\n",
      "pr_rcp85_land-rcm_uk_12km_04_day_19901201-20001130.nc\n",
      "pr_rcp85_land-rcm_uk_12km_04_day_20601201-20701130.nc\n",
      "pr_rcp85_land-rcm_uk_12km_04_day_20301201-20401130.nc\n",
      "pr_rcp85_land-rcm_uk_12km_04_day_20401201-20501130.nc\n",
      "pr_rcp85_land-rcm_uk_12km_04_day_20101201-20201130.nc\n",
      "pr_rcp85_land-rcm_uk_12km_04_day_19801201-19901130.nc\n",
      "pr_rcp85_land-rcm_uk_12km_04_day_20201201-20301130.nc\n",
      "pr_rcp85_land-rcm_uk_12km_04_day_20001201-20101130.nc\n",
      "pr_rcp85_land-rcm_uk_12km_04_day_20701201-20801130.nc\n",
      "05\n",
      "pr_rcp85_land-rcm_uk_12km_05_day_20001201-20101130.nc\n",
      "pr_rcp85_land-rcm_uk_12km_05_day_20701201-20801130.nc\n",
      "pr_rcp85_land-rcm_uk_12km_05_day_19901201-20001130.nc\n",
      "pr_rcp85_land-rcm_uk_12km_05_day_20301201-20401130.nc\n",
      "pr_rcp85_land-rcm_uk_12km_05_day_20101201-20201130.nc\n",
      "pr_rcp85_land-rcm_uk_12km_05_day_20201201-20301130.nc\n",
      "pr_rcp85_land-rcm_uk_12km_05_day_20601201-20701130.nc\n",
      "pr_rcp85_land-rcm_uk_12km_05_day_20501201-20601130.nc\n",
      "pr_rcp85_land-rcm_uk_12km_05_day_19801201-19901130.nc\n",
      "pr_rcp85_land-rcm_uk_12km_05_day_20401201-20501130.nc\n",
      "06\n",
      "pr_rcp85_land-rcm_uk_12km_06_day_20501201-20601130.nc\n",
      "pr_rcp85_land-rcm_uk_12km_06_day_20001201-20101130.nc\n",
      "pr_rcp85_land-rcm_uk_12km_06_day_20601201-20701130.nc\n",
      "pr_rcp85_land-rcm_uk_12km_06_day_20401201-20501130.nc\n",
      "pr_rcp85_land-rcm_uk_12km_06_day_20101201-20201130.nc\n",
      "pr_rcp85_land-rcm_uk_12km_06_day_20201201-20301130.nc\n",
      "pr_rcp85_land-rcm_uk_12km_06_day_19801201-19901130.nc\n",
      "pr_rcp85_land-rcm_uk_12km_06_day_20701201-20801130.nc\n",
      "pr_rcp85_land-rcm_uk_12km_06_day_19901201-20001130.nc\n",
      "pr_rcp85_land-rcm_uk_12km_06_day_20301201-20401130.nc\n",
      "07\n",
      "pr_rcp85_land-rcm_uk_12km_07_day_20501201-20601130.nc\n",
      "pr_rcp85_land-rcm_uk_12km_07_day_20001201-20101130.nc\n",
      "pr_rcp85_land-rcm_uk_12km_07_day_20301201-20401130.nc\n",
      "pr_rcp85_land-rcm_uk_12km_07_day_20401201-20501130.nc\n",
      "pr_rcp85_land-rcm_uk_12km_07_day_20701201-20801130.nc\n",
      "pr_rcp85_land-rcm_uk_12km_07_day_20201201-20301130.nc\n",
      "pr_rcp85_land-rcm_uk_12km_07_day_20601201-20701130.nc\n",
      "pr_rcp85_land-rcm_uk_12km_07_day_20101201-20201130.nc\n",
      "pr_rcp85_land-rcm_uk_12km_07_day_19801201-19901130.nc\n",
      "pr_rcp85_land-rcm_uk_12km_07_day_19901201-20001130.nc\n",
      "08\n",
      "pr_rcp85_land-rcm_uk_12km_08_day_20201201-20301130.nc\n",
      "pr_rcp85_land-rcm_uk_12km_08_day_19901201-20001130.nc\n",
      "pr_rcp85_land-rcm_uk_12km_08_day_20601201-20701130.nc\n",
      "pr_rcp85_land-rcm_uk_12km_08_day_19801201-19901130.nc\n",
      "pr_rcp85_land-rcm_uk_12km_08_day_20501201-20601130.nc\n",
      "pr_rcp85_land-rcm_uk_12km_08_day_20101201-20201130.nc\n",
      "pr_rcp85_land-rcm_uk_12km_08_day_20001201-20101130.nc\n",
      "pr_rcp85_land-rcm_uk_12km_08_day_20701201-20801130.nc\n",
      "pr_rcp85_land-rcm_uk_12km_08_day_20301201-20401130.nc\n",
      "pr_rcp85_land-rcm_uk_12km_08_day_20401201-20501130.nc\n",
      "09\n",
      "pr_rcp85_land-rcm_uk_12km_09_day_20601201-20701130.nc\n",
      "pr_rcp85_land-rcm_uk_12km_09_day_19801201-19901130.nc\n",
      "pr_rcp85_land-rcm_uk_12km_09_day_20701201-20801130.nc\n",
      "pr_rcp85_land-rcm_uk_12km_09_day_19901201-20001130.nc\n",
      "pr_rcp85_land-rcm_uk_12km_09_day_20201201-20301130.nc\n",
      "pr_rcp85_land-rcm_uk_12km_09_day_20001201-20101130.nc\n",
      "pr_rcp85_land-rcm_uk_12km_09_day_20101201-20201130.nc\n",
      "pr_rcp85_land-rcm_uk_12km_09_day_20501201-20601130.nc\n",
      "pr_rcp85_land-rcm_uk_12km_09_day_20301201-20401130.nc\n",
      "pr_rcp85_land-rcm_uk_12km_09_day_20401201-20501130.nc\n",
      "10\n",
      "pr_rcp85_land-rcm_uk_12km_10_day_20701201-20801130.nc\n",
      "pr_rcp85_land-rcm_uk_12km_10_day_19801201-19901130.nc\n",
      "pr_rcp85_land-rcm_uk_12km_10_day_19901201-20001130.nc\n",
      "pr_rcp85_land-rcm_uk_12km_10_day_20001201-20101130.nc\n",
      "pr_rcp85_land-rcm_uk_12km_10_day_20101201-20201130.nc\n",
      "pr_rcp85_land-rcm_uk_12km_10_day_20501201-20601130.nc\n",
      "pr_rcp85_land-rcm_uk_12km_10_day_20201201-20301130.nc\n",
      "pr_rcp85_land-rcm_uk_12km_10_day_20601201-20701130.nc\n",
      "pr_rcp85_land-rcm_uk_12km_10_day_20401201-20501130.nc\n",
      "pr_rcp85_land-rcm_uk_12km_10_day_20301201-20401130.nc\n",
      "11\n",
      "pr_rcp85_land-rcm_uk_12km_11_day_20601201-20701130.nc\n",
      "pr_rcp85_land-rcm_uk_12km_11_day_20101201-20201130.nc\n",
      "pr_rcp85_land-rcm_uk_12km_11_day_20501201-20601130.nc\n",
      "pr_rcp85_land-rcm_uk_12km_11_day_20001201-20101130.nc\n",
      "pr_rcp85_land-rcm_uk_12km_11_day_19901201-20001130.nc\n",
      "pr_rcp85_land-rcm_uk_12km_11_day_20201201-20301130.nc\n",
      "pr_rcp85_land-rcm_uk_12km_11_day_20401201-20501130.nc\n",
      "pr_rcp85_land-rcm_uk_12km_11_day_20701201-20801130.nc\n",
      "pr_rcp85_land-rcm_uk_12km_11_day_20301201-20401130.nc\n",
      "pr_rcp85_land-rcm_uk_12km_11_day_19801201-19901130.nc\n",
      "12\n",
      "pr_rcp85_land-rcm_uk_12km_12_day_20201201-20301130.nc\n",
      "pr_rcp85_land-rcm_uk_12km_12_day_20501201-20601130.nc\n",
      "pr_rcp85_land-rcm_uk_12km_12_day_20401201-20501130.nc\n",
      "pr_rcp85_land-rcm_uk_12km_12_day_20101201-20201130.nc\n",
      "pr_rcp85_land-rcm_uk_12km_12_day_20701201-20801130.nc\n",
      "pr_rcp85_land-rcm_uk_12km_12_day_20301201-20401130.nc\n",
      "pr_rcp85_land-rcm_uk_12km_12_day_19801201-19901130.nc\n",
      "pr_rcp85_land-rcm_uk_12km_12_day_19901201-20001130.nc\n",
      "pr_rcp85_land-rcm_uk_12km_12_day_20001201-20101130.nc\n",
      "pr_rcp85_land-rcm_uk_12km_12_day_20601201-20701130.nc\n",
      "13\n",
      "pr_rcp85_land-rcm_uk_12km_13_day_20101201-20201130.nc\n",
      "pr_rcp85_land-rcm_uk_12km_13_day_20001201-20101130.nc\n",
      "pr_rcp85_land-rcm_uk_12km_13_day_20401201-20501130.nc\n",
      "pr_rcp85_land-rcm_uk_12km_13_day_20501201-20601130.nc\n",
      "pr_rcp85_land-rcm_uk_12km_13_day_20201201-20301130.nc\n",
      "pr_rcp85_land-rcm_uk_12km_13_day_19801201-19901130.nc\n",
      "pr_rcp85_land-rcm_uk_12km_13_day_20601201-20701130.nc\n",
      "pr_rcp85_land-rcm_uk_12km_13_day_20301201-20401130.nc\n",
      "pr_rcp85_land-rcm_uk_12km_13_day_19901201-20001130.nc\n",
      "pr_rcp85_land-rcm_uk_12km_13_day_20701201-20801130.nc\n",
      "14\n"
     ]
    },
    {
     "ename": "FileNotFoundError",
     "evalue": "[Errno 2] No such file or directory: '/nfs/a319/gy17m2a/PhD/datadir/UKCP18_hourly/12km/14/1980_2001/'",
     "output_type": "error",
     "traceback": [
      "\u001b[0;31m---------------------------------------------------------------------------\u001b[0m",
      "\u001b[0;31mFileNotFoundError\u001b[0m                         Traceback (most recent call last)",
      "\u001b[0;32m/tmp/ipykernel_18032/506614562.py\u001b[0m in \u001b[0;36m<module>\u001b[0;34m\u001b[0m\n\u001b[1;32m      1\u001b[0m \u001b[0;32mfor\u001b[0m \u001b[0mem\u001b[0m \u001b[0;32min\u001b[0m \u001b[0;34m[\u001b[0m\u001b[0;34m'04'\u001b[0m\u001b[0;34m,\u001b[0m \u001b[0;34m'05'\u001b[0m\u001b[0;34m,\u001b[0m \u001b[0;34m'06'\u001b[0m\u001b[0;34m,\u001b[0m \u001b[0;34m'07'\u001b[0m\u001b[0;34m,\u001b[0m \u001b[0;34m'08'\u001b[0m\u001b[0;34m,\u001b[0m \u001b[0;34m'09'\u001b[0m\u001b[0;34m,\u001b[0m \u001b[0;34m'10'\u001b[0m\u001b[0;34m,\u001b[0m \u001b[0;34m'11'\u001b[0m\u001b[0;34m,\u001b[0m \u001b[0;34m'12'\u001b[0m\u001b[0;34m,\u001b[0m \u001b[0;34m'13'\u001b[0m\u001b[0;34m,\u001b[0m\u001b[0;34m'14'\u001b[0m\u001b[0;34m,\u001b[0m\u001b[0;34m'15'\u001b[0m\u001b[0;34m]\u001b[0m\u001b[0;34m:\u001b[0m\u001b[0;34m\u001b[0m\u001b[0;34m\u001b[0m\u001b[0m\n\u001b[1;32m      2\u001b[0m     \u001b[0mprint\u001b[0m\u001b[0;34m(\u001b[0m\u001b[0mem\u001b[0m\u001b[0;34m)\u001b[0m\u001b[0;34m\u001b[0m\u001b[0;34m\u001b[0m\u001b[0m\n\u001b[0;32m----> 3\u001b[0;31m     \u001b[0mos\u001b[0m\u001b[0;34m.\u001b[0m\u001b[0mchdir\u001b[0m\u001b[0;34m(\u001b[0m\u001b[0;34mf\"/nfs/a319/gy17m2a/PhD/datadir/UKCP18_hourly/12km/{em}/{yrs_range}/\"\u001b[0m\u001b[0;34m)\u001b[0m\u001b[0;34m\u001b[0m\u001b[0;34m\u001b[0m\u001b[0m\n\u001b[0m\u001b[1;32m      4\u001b[0m     \u001b[0moutput_fp\u001b[0m \u001b[0;34m=\u001b[0m \u001b[0;34mf\"/nfs/a319/gy17m2a/PhD/datadir/UKCP18_hourly/12km_wgs84/{em}/{yrs_range}/\"\u001b[0m\u001b[0;34m\u001b[0m\u001b[0;34m\u001b[0m\u001b[0m\n\u001b[1;32m      5\u001b[0m     \u001b[0;32mif\u001b[0m \u001b[0;32mnot\u001b[0m \u001b[0mos\u001b[0m\u001b[0;34m.\u001b[0m\u001b[0mpath\u001b[0m\u001b[0;34m.\u001b[0m\u001b[0misdir\u001b[0m\u001b[0;34m(\u001b[0m\u001b[0moutput_fp\u001b[0m\u001b[0;34m)\u001b[0m\u001b[0;34m:\u001b[0m\u001b[0;34m\u001b[0m\u001b[0;34m\u001b[0m\u001b[0m\n",
      "\u001b[0;31mFileNotFoundError\u001b[0m: [Errno 2] No such file or directory: '/nfs/a319/gy17m2a/PhD/datadir/UKCP18_hourly/12km/14/1980_2001/'"
     ]
    }
   ],
   "source": [
    "for em in ['04', '05', '06', '07', '08', '09', '10', '11', '12', '13','14','15']:\n",
    "    print(em)\n",
    "    os.chdir(f\"/nfs/a319/gy17m2a/PhD/datadir/UKCP18_hourly/12km/{em}/{yrs_range}/\")\n",
    "    output_fp = f\"/nfs/a319/gy17m2a/PhD/datadir/UKCP18_hourly/12km_wgs84/{em}/{yrs_range}/\"\n",
    "    if not os.path.isdir(output_fp):\n",
    "        os.makedirs(output_fp)\n",
    "    for filename in glob.glob(\"*\"):    \n",
    "        if os.path.isfile(output_fp +  f\"wgs84_{filename}\"):\n",
    "            print(\"already exist\")\n",
    "        else:\n",
    "            print(filename)\n",
    "            cube = iris.load(filename)[0]\n",
    "            # transform to wgs84\n",
    "            transformed_cube_12km = convert_to_wgs84 (source_crs_12km, cube_12km,'projection_x_coordinate', 'projection_y_coordinate')\n",
    "            # Save \n",
    "            iris.save(transformed_cube_12km, output_fp +  f\"wgs84_{filename}\")     "
   ]
  },
  {
   "cell_type": "code",
   "execution_count": 45,
   "id": "3e6b00c0",
   "metadata": {},
   "outputs": [],
   "source": [
    "cube_12km_wgs84 = convert_to_wgs84 (source_crs_12km, cube_12km,'projection_x_coordinate', 'projection_y_coordinate')\n",
    "cube_2km_wgs84 = convert_to_wgs84 (source_crs_2km, cube_2km, \"grid_longitude\", \"grid_latitude\")"
   ]
  },
  {
   "cell_type": "code",
   "execution_count": 46,
   "id": "bc7ece9f",
   "metadata": {},
   "outputs": [
    {
     "data": {
      "image/png": "[encoded data removed]",
      "text/plain": [
       "<Figure size 432x288 with 1 Axes>"
      ]
     },
     "metadata": {
      "needs_background": "light"
     },
     "output_type": "display_data"
    }
   ],
   "source": [
    "iplt.contourf(cube_12km_wgs84[1,:,:])\n",
    "plt.gca().coastlines(resolution='10m', color='black', linewidth=0.5);"
   ]
  }
 ],
 "metadata": {
  "kernelspec": {
   "display_name": "Python 3 (ipykernel)",
   "language": "python",
   "name": "python3"
  },
  "language_info": {
   "codemirror_mode": {
    "name": "ipython",
    "version": 3
   },
   "file_extension": ".py",
   "mimetype": "text/x-python",
   "name": "python",
   "nbconvert_exporter": "python",
   "pygments_lexer": "ipython3",
   "version": "3.7.13"
  }
 },
 "nbformat": 4,
 "nbformat_minor": 5
}
