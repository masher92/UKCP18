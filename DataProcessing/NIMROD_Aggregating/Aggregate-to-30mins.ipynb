{
 "cells": [
  {
   "cell_type": "code",
   "execution_count": 1,
   "id": "54be99bb",
   "metadata": {},
   "outputs": [],
   "source": [
    "import iris\n",
    "import glob\n",
    "import iris.plot as iplt\n",
    "import iris.quickplot as qplt\n",
    "import datetime as datetime\n",
    "import iris.coord_categorisation as cat"
   ]
  },
  {
   "cell_type": "code",
   "execution_count": 2,
   "id": "b1f4d837",
   "metadata": {},
   "outputs": [],
   "source": [
    "year =2006"
   ]
  },
  {
   "cell_type": "markdown",
   "id": "e7955e69",
   "metadata": {},
   "source": [
    "### Get list of files to convert"
   ]
  },
  {
   "cell_type": "code",
   "execution_count": 59,
   "id": "90ff7fb0",
   "metadata": {},
   "outputs": [],
   "source": [
    "radardir = f'/nfs/a319/gy17m2a/PhD/datadir/NIMROD/5mins/OriginalFormat_1km/{year}/'\n",
    "file_list=glob.glob(radardir +\"*.nc\")\n",
    "sorted_list = sorted(file_list)"
   ]
  },
  {
   "cell_type": "markdown",
   "id": "1100c2d6",
   "metadata": {},
   "source": [
    "### Load radar data for one day (using IRIS)"
   ]
  },
  {
   "cell_type": "code",
   "execution_count": 66,
   "id": "09a1ce19",
   "metadata": {},
   "outputs": [
    {
     "data": {
      "text/plain": [
       "'/nfs/a319/gy17m2a/PhD/datadir/NIMROD/5mins/OriginalFormat_1km/2006/metoffice-c-band-rain-radar_uk_20060829.nc'"
      ]
     },
     "execution_count": 66,
     "metadata": {},
     "output_type": "execute_result"
    }
   ],
   "source": [
    "sorted_list[84]"
   ]
  },
  {
   "cell_type": "code",
   "execution_count": 60,
   "id": "c090c28f",
   "metadata": {},
   "outputs": [
    {
     "data": {
      "text/html": [
       "\n",
       "<style>\n",
       "  a.iris {\n",
       "      text-decoration: none !important;\n",
       "  }\n",
       "  table.iris {\n",
       "      white-space: pre;\n",
       "      border: 1px solid;\n",
       "      border-color: #9c9c9c;\n",
       "      font-family: monaco, monospace;\n",
       "  }\n",
       "  th.iris {\n",
       "      background: #303f3f;\n",
       "      color: #e0e0e0;\n",
       "      border-left: 1px solid;\n",
       "      border-color: #9c9c9c;\n",
       "      font-size: 1.05em;\n",
       "      min-width: 50px;\n",
       "      max-width: 125px;\n",
       "  }\n",
       "  tr.iris :first-child {\n",
       "      border-right: 1px solid #9c9c9c !important;\n",
       "  }\n",
       "  td.iris-title {\n",
       "      background: #d5dcdf;\n",
       "      border-top: 1px solid #9c9c9c;\n",
       "      font-weight: bold;\n",
       "  }\n",
       "  .iris-word-cell {\n",
       "      text-align: left !important;\n",
       "      white-space: pre;\n",
       "  }\n",
       "  .iris-subheading-cell {\n",
       "      padding-left: 2em !important;\n",
       "  }\n",
       "  .iris-inclusion-cell {\n",
       "      padding-right: 1em !important;\n",
       "  }\n",
       "  .iris-panel-body {\n",
       "      padding-top: 0px;\n",
       "  }\n",
       "  .iris-panel-title {\n",
       "      padding-left: 3em;\n",
       "  }\n",
       "  .iris-panel-title {\n",
       "      margin-top: 7px;\n",
       "  }\n",
       "</style>\n",
       "<table class=\"iris\" id=\"140074311010048\">\n",
       "    <tr class=\"iris\">\n",
       "<th class=\"iris iris-word-cell\">Rain Rate Composite (mm/hr)</th>\n",
       "<th class=\"iris iris-word-cell\">time</th>\n",
       "<th class=\"iris iris-word-cell\">projection_y_coordinate</th>\n",
       "<th class=\"iris iris-word-cell\">projection_x_coordinate</th>\n",
       "</tr>\n",
       "    <tr class=\"iris\">\n",
       "<td class=\"iris-word-cell iris-subheading-cell\">Shape</td>\n",
       "<td class=\"iris iris-inclusion-cell\">286</td>\n",
       "<td class=\"iris iris-inclusion-cell\">72</td>\n",
       "<td class=\"iris iris-inclusion-cell\">82</td>\n",
       "</tr>\n",
       "    <tr class=\"iris\">\n",
       "    <td class=\"iris-title iris-word-cell\">Dimension coordinates</td>\n",
       "    <td class=\"iris-title\"></td>\n",
       "    <td class=\"iris-title\"></td>\n",
       "    <td class=\"iris-title\"></td>\n",
       "</tr>\n",
       "<tr class=\"iris\">\n",
       "    <td class=\"iris-word-cell iris-subheading-cell\">\ttime</td>\n",
       "    <td class=\"iris-inclusion-cell\">x</td>\n",
       "    <td class=\"iris-inclusion-cell\">-</td>\n",
       "    <td class=\"iris-inclusion-cell\">-</td>\n",
       "</tr>\n",
       "<tr class=\"iris\">\n",
       "    <td class=\"iris-word-cell iris-subheading-cell\">\tprojection_y_coordinate</td>\n",
       "    <td class=\"iris-inclusion-cell\">-</td>\n",
       "    <td class=\"iris-inclusion-cell\">x</td>\n",
       "    <td class=\"iris-inclusion-cell\">-</td>\n",
       "</tr>\n",
       "<tr class=\"iris\">\n",
       "    <td class=\"iris-word-cell iris-subheading-cell\">\tprojection_x_coordinate</td>\n",
       "    <td class=\"iris-inclusion-cell\">-</td>\n",
       "    <td class=\"iris-inclusion-cell\">-</td>\n",
       "    <td class=\"iris-inclusion-cell\">x</td>\n",
       "</tr>\n",
       "<tr class=\"iris\">\n",
       "    <td class=\"iris-title iris-word-cell\">Auxiliary coordinates</td>\n",
       "    <td class=\"iris-title\"></td>\n",
       "    <td class=\"iris-title\"></td>\n",
       "    <td class=\"iris-title\"></td>\n",
       "</tr>\n",
       "<tr class=\"iris\">\n",
       "    <td class=\"iris-word-cell iris-subheading-cell\">\tforecast_reference_time</td>\n",
       "    <td class=\"iris-inclusion-cell\">x</td>\n",
       "    <td class=\"iris-inclusion-cell\">-</td>\n",
       "    <td class=\"iris-inclusion-cell\">-</td>\n",
       "</tr>\n",
       "<tr class=\"iris\">\n",
       "    <td class=\"iris-title iris-word-cell\">Scalar coordinates</td>\n",
       "    <td class=\"iris-title\"></td>\n",
       "    <td class=\"iris-title\"></td>\n",
       "    <td class=\"iris-title\"><br>forecast_period             0 second</td>\n",
       "</tr>\n",
       "<tr class=\"iris\">\n",
       "    <td class=\"iris-title iris-word-cell\">Attributes</td>\n",
       "    <td class=\"iris-title\"></td>\n",
       "    <td class=\"iris-title\"></td>\n",
       "    <td class=\"iris-title\"><br>Conventions                 CF-1.7<br>field_code                  213<br>institution                 Met Office<br>nimrod_version              2<br>probability_period_of_event 0<br>source                      1km Single Site Radars<br>title                       Unknown</td>\n",
       "</tr>\n",
       "</table>\n",
       "        "
      ],
      "text/plain": [
       "<iris 'Cube' of Rain rate Composite / (mm/hr) (time: 286; projection_y_coordinate: 72; projection_x_coordinate: 82)>"
      ]
     },
     "execution_count": 60,
     "metadata": {},
     "output_type": "execute_result"
    }
   ],
   "source": [
    "day_cube = iris.load_cube(sorted_list[84])\n",
    "day_cube"
   ]
  },
  {
   "cell_type": "markdown",
   "id": "2eea3203",
   "metadata": {},
   "source": [
    "### Add additional time based variables"
   ]
  },
  {
   "cell_type": "code",
   "execution_count": 61,
   "id": "6a4b03dc",
   "metadata": {},
   "outputs": [],
   "source": [
    "# cat.add_year(day_cube, 'time', name='year')\n",
    "# cat.add_month(day_cube, 'time', name='month')\n",
    "# cat.add_day_of_month(day_cube, 'time', name='day_of_month')\n",
    "cat.add_hour(day_cube, 'time', name='hour')\n",
    "# cat.add_day(day_cube, 'time', name='day')"
   ]
  },
  {
   "cell_type": "code",
   "execution_count": 26,
   "id": "cecad160",
   "metadata": {},
   "outputs": [],
   "source": [
    "#day_cube.coord('month')"
   ]
  },
  {
   "cell_type": "markdown",
   "id": "72f5cc7e",
   "metadata": {},
   "source": [
    "### Aggregate to hourly values (means)"
   ]
  },
  {
   "cell_type": "code",
   "execution_count": 174,
   "id": "f46a9525",
   "metadata": {},
   "outputs": [],
   "source": [
    "# hourly_mean = day_cube.aggregated_by(['hour'],iris.analysis.MEAN)\n",
    "# hourly_mean"
   ]
  },
  {
   "cell_type": "markdown",
   "id": "422a8e5d",
   "metadata": {},
   "source": [
    "### Aggregate to half hourly values (means)"
   ]
  },
  {
   "cell_type": "code",
   "execution_count": 62,
   "id": "5422430c",
   "metadata": {},
   "outputs": [],
   "source": [
    "firsthalfof_hour_constraint = iris.Constraint(time=lambda cell: cell.point.minute <30)\n",
    "secondhalfof_hour_constraint = iris.Constraint(time=lambda cell: cell.point.minute >=30)"
   ]
  },
  {
   "cell_type": "code",
   "execution_count": 63,
   "id": "f15cc9ca",
   "metadata": {},
   "outputs": [
    {
     "data": {
      "text/plain": [
       "[datetime.datetime(2006, 6, 28, 0, 0),\n",
       " datetime.datetime(2006, 6, 28, 0, 5),\n",
       " datetime.datetime(2006, 6, 28, 0, 10),\n",
       " datetime.datetime(2006, 6, 28, 0, 15),\n",
       " datetime.datetime(2006, 6, 28, 0, 20),\n",
       " datetime.datetime(2006, 6, 28, 0, 25),\n",
       " datetime.datetime(2006, 6, 28, 0, 30),\n",
       " datetime.datetime(2006, 6, 28, 0, 35),\n",
       " datetime.datetime(2006, 6, 28, 0, 40),\n",
       " datetime.datetime(2006, 6, 28, 0, 45),\n",
       " datetime.datetime(2006, 6, 28, 0, 50),\n",
       " datetime.datetime(2006, 6, 28, 0, 55)]"
      ]
     },
     "execution_count": 63,
     "metadata": {},
     "output_type": "execute_result"
    }
   ],
   "source": [
    "times = hour_cube.coord('time').points\n",
    "times = [datetime.datetime.fromtimestamp(x ) for x in times]\n",
    "times"
   ]
  },
  {
   "cell_type": "code",
   "execution_count": 64,
   "id": "59396af6",
   "metadata": {},
   "outputs": [],
   "source": [
    "# for i in range(0,len(sorted_list)):\n",
    "#     print(i)\n",
    "\n",
    "#     ### Load radar data for one day (using IRIS)\n",
    "#     day_cube = iris.load_cube(sorted_list[i])"
   ]
  },
  {
   "cell_type": "code",
   "execution_count": 65,
   "id": "ecee4e0a",
   "metadata": {},
   "outputs": [],
   "source": [
    "# Create empty cube list to populate\n",
    "my_cube_list = iris.cube.CubeList()\n",
    "\n",
    "# Get list of the hours\n",
    "hours = set(day_cube.coord('hour').points)\n",
    "# Loop through the hours\n",
    "for hour in hours:\n",
    "    # Establish constraint to select only this hour\n",
    "    hour_constraint = iris.Constraint(time=lambda cell: cell.point.hour == hour)\n",
    "    # Use constraint to select only this hour\n",
    "    hour_cube = day_cube.extract(hour_constraint)\n",
    "    # Check the times\n",
    "    # times = hour_cube.coord('time').points\n",
    "    # times = [datetime.datetime.fromtimestamp(x ) for x in times]\n",
    "    \n",
    "    # Get only cubes which fall within the first half of the hour and then the second half of the hour\n",
    "    first_half_of_hour = hour_cube.extract(firsthalfof_hour_constraint)\n",
    "    second_half_of_hour = hour_cube.extract(secondhalfof_hour_constraint)\n",
    "    \n",
    "    # If there are at least 4 values\n",
    "    # Find the mean across first/second halves of hour\n",
    "    # Add to cube list\n",
    "    if first_half_of_hour == None:\n",
    "        print(\"no values in 1st half hour\")\n",
    "    elif len(first_half_of_hour.shape) ==2:\n",
    "        print(\"only 1 value in 2nd half hour\")        \n",
    "    else:\n",
    "        if first_half_of_hour.shape[0] >=4:\n",
    "            first_half_hourly_mean = first_half_of_hour.aggregated_by(['hour'],iris.analysis.MEAN)\n",
    "            my_cube_list.append(first_half_hourly_mean)\n",
    "        else:\n",
    "            print(f\"only {first_half_of_hour.shape[0]} vals in 1st half hour\")\n",
    "    \n",
    "    ### SECOND HALF HOUR    \n",
    "    if second_half_of_hour == None:\n",
    "        print(\"no values in 2nd half hour\")\n",
    "    elif len(second_half_of_hour.shape) ==2:\n",
    "        print(\"only 1 value in 2nd half hour\")\n",
    "    else:\n",
    "        if second_half_of_hour.shape[0] >=4:    \n",
    "            second_half_hourly_mean = second_half_of_hour.aggregated_by(['hour'],iris.analysis.MEAN)\n",
    "            my_cube_list.append(second_half_hourly_mean)\n",
    "        else:\n",
    "            print(f\"only {second_half_of_hour.shape[0]} vals in 2nd half hour\")"
   ]
  },
  {
   "cell_type": "markdown",
   "id": "dc3570e7",
   "metadata": {},
   "source": [
    "### Join back into one cube covering the whole day"
   ]
  },
  {
   "cell_type": "code",
   "execution_count": 94,
   "id": "1e836f18",
   "metadata": {},
   "outputs": [],
   "source": [
    "thirty_mins_means = my_cube_list.concatenate_cube()"
   ]
  },
  {
   "cell_type": "code",
   "execution_count": 62,
   "id": "3ae23227",
   "metadata": {},
   "outputs": [],
   "source": [
    "# times = thirty_mins_means.coord('time').points\n",
    "# times = [datetime.datetime.fromtimestamp(x ) for x in times]"
   ]
  },
  {
   "cell_type": "code",
   "execution_count": 95,
   "id": "bcf06eca",
   "metadata": {},
   "outputs": [
    {
     "data": {
      "text/plain": [
       "'/nfs/a319/gy17m2a/PhD/datadir/NimRod/30mins/OriginalFormat_1km/2006/metoffice-c-band-rain-radar_uk_20060601_30mins.nc'"
      ]
     },
     "execution_count": 95,
     "metadata": {},
     "output_type": "execute_result"
    }
   ],
   "source": [
    "new_fp = sorted_list[0][:-3]+ '_30mins.nc'\n",
    "new_fp = new_fp.replace('5mins', '30mins')\n",
    "new_fp"
   ]
  },
  {
   "cell_type": "code",
   "execution_count": 96,
   "id": "085fe101",
   "metadata": {},
   "outputs": [
    {
     "data": {
      "text/html": [
       "\n",
       "<style>\n",
       "  a.iris {\n",
       "      text-decoration: none !important;\n",
       "  }\n",
       "  table.iris {\n",
       "      white-space: pre;\n",
       "      border: 1px solid;\n",
       "      border-color: #9c9c9c;\n",
       "      font-family: monaco, monospace;\n",
       "  }\n",
       "  th.iris {\n",
       "      background: #303f3f;\n",
       "      color: #e0e0e0;\n",
       "      border-left: 1px solid;\n",
       "      border-color: #9c9c9c;\n",
       "      font-size: 1.05em;\n",
       "      min-width: 50px;\n",
       "      max-width: 125px;\n",
       "  }\n",
       "  tr.iris :first-child {\n",
       "      border-right: 1px solid #9c9c9c !important;\n",
       "  }\n",
       "  td.iris-title {\n",
       "      background: #d5dcdf;\n",
       "      border-top: 1px solid #9c9c9c;\n",
       "      font-weight: bold;\n",
       "  }\n",
       "  .iris-word-cell {\n",
       "      text-align: left !important;\n",
       "      white-space: pre;\n",
       "  }\n",
       "  .iris-subheading-cell {\n",
       "      padding-left: 2em !important;\n",
       "  }\n",
       "  .iris-inclusion-cell {\n",
       "      padding-right: 1em !important;\n",
       "  }\n",
       "  .iris-panel-body {\n",
       "      padding-top: 0px;\n",
       "  }\n",
       "  .iris-panel-title {\n",
       "      padding-left: 3em;\n",
       "  }\n",
       "  .iris-panel-title {\n",
       "      margin-top: 7px;\n",
       "  }\n",
       "</style>\n",
       "<table class=\"iris\" id=\"140184559085120\">\n",
       "    <tr class=\"iris\">\n",
       "<th class=\"iris iris-word-cell\">Rain Rate Composite (mm/hr)</th>\n",
       "<th class=\"iris iris-word-cell\">time</th>\n",
       "<th class=\"iris iris-word-cell\">projection_y_coordinate</th>\n",
       "<th class=\"iris iris-word-cell\">projection_x_coordinate</th>\n",
       "</tr>\n",
       "    <tr class=\"iris\">\n",
       "<td class=\"iris-word-cell iris-subheading-cell\">Shape</td>\n",
       "<td class=\"iris iris-inclusion-cell\">48</td>\n",
       "<td class=\"iris iris-inclusion-cell\">72</td>\n",
       "<td class=\"iris iris-inclusion-cell\">82</td>\n",
       "</tr>\n",
       "    <tr class=\"iris\">\n",
       "    <td class=\"iris-title iris-word-cell\">Dimension coordinates</td>\n",
       "    <td class=\"iris-title\"></td>\n",
       "    <td class=\"iris-title\"></td>\n",
       "    <td class=\"iris-title\"></td>\n",
       "</tr>\n",
       "<tr class=\"iris\">\n",
       "    <td class=\"iris-word-cell iris-subheading-cell\">\ttime</td>\n",
       "    <td class=\"iris-inclusion-cell\">x</td>\n",
       "    <td class=\"iris-inclusion-cell\">-</td>\n",
       "    <td class=\"iris-inclusion-cell\">-</td>\n",
       "</tr>\n",
       "<tr class=\"iris\">\n",
       "    <td class=\"iris-word-cell iris-subheading-cell\">\tprojection_y_coordinate</td>\n",
       "    <td class=\"iris-inclusion-cell\">-</td>\n",
       "    <td class=\"iris-inclusion-cell\">x</td>\n",
       "    <td class=\"iris-inclusion-cell\">-</td>\n",
       "</tr>\n",
       "<tr class=\"iris\">\n",
       "    <td class=\"iris-word-cell iris-subheading-cell\">\tprojection_x_coordinate</td>\n",
       "    <td class=\"iris-inclusion-cell\">-</td>\n",
       "    <td class=\"iris-inclusion-cell\">-</td>\n",
       "    <td class=\"iris-inclusion-cell\">x</td>\n",
       "</tr>\n",
       "<tr class=\"iris\">\n",
       "    <td class=\"iris-title iris-word-cell\">Auxiliary coordinates</td>\n",
       "    <td class=\"iris-title\"></td>\n",
       "    <td class=\"iris-title\"></td>\n",
       "    <td class=\"iris-title\"></td>\n",
       "</tr>\n",
       "<tr class=\"iris\">\n",
       "    <td class=\"iris-word-cell iris-subheading-cell\">\tforecast_reference_time</td>\n",
       "    <td class=\"iris-inclusion-cell\">x</td>\n",
       "    <td class=\"iris-inclusion-cell\">-</td>\n",
       "    <td class=\"iris-inclusion-cell\">-</td>\n",
       "</tr>\n",
       "<tr class=\"iris\">\n",
       "    <td class=\"iris-word-cell iris-subheading-cell\">\thour</td>\n",
       "    <td class=\"iris-inclusion-cell\">x</td>\n",
       "    <td class=\"iris-inclusion-cell\">-</td>\n",
       "    <td class=\"iris-inclusion-cell\">-</td>\n",
       "</tr>\n",
       "<tr class=\"iris\">\n",
       "    <td class=\"iris-title iris-word-cell\">Scalar coordinates</td>\n",
       "    <td class=\"iris-title\"></td>\n",
       "    <td class=\"iris-title\"></td>\n",
       "    <td class=\"iris-title\"><br>forecast_period             0 second</td>\n",
       "</tr>\n",
       "<tr class=\"iris\">\n",
       "    <td class=\"iris-title iris-word-cell\">Cell methods</td>\n",
       "    <td class=\"iris-title\"></td>\n",
       "    <td class=\"iris-title\"></td>\n",
       "    <td class=\"iris-title\"></td>\n",
       "</tr>\n",
       "<tr class=\"iris\">\n",
       "    <td class=\"iris-word-cell iris-subheading-cell\">\tmean                        hour</td>\n",
       "    <td class=\"iris-word-cell\" colspan=\"3\"></td>\n",
       "</tr>\n",
       "<tr class=\"iris\">\n",
       "    <td class=\"iris-title iris-word-cell\">Attributes</td>\n",
       "    <td class=\"iris-title\"></td>\n",
       "    <td class=\"iris-title\"></td>\n",
       "    <td class=\"iris-title\"><br>Conventions                 CF-1.7<br>field_code                  213<br>institution                 Met Office<br>nimrod_version              2<br>probability_period_of_event 0<br>source                      1km Single Site Radars<br>title                       Unknown</td>\n",
       "</tr>\n",
       "</table>\n",
       "        "
      ],
      "text/plain": [
       "<iris 'Cube' of Rain rate Composite / (mm/hr) (time: 48; projection_y_coordinate: 72; projection_x_coordinate: 82)>"
      ]
     },
     "execution_count": 96,
     "metadata": {},
     "output_type": "execute_result"
    }
   ],
   "source": [
    "thirty_mins_means"
   ]
  },
  {
   "cell_type": "code",
   "execution_count": 97,
   "id": "fbb1e325",
   "metadata": {},
   "outputs": [],
   "source": [
    "iris.save(thirty_mins_means, new_fp)"
   ]
  }
 ],
 "metadata": {
  "kernelspec": {
   "display_name": "Python 3 (ipykernel)",
   "language": "python",
   "name": "python3"
  },
  "language_info": {
   "codemirror_mode": {
    "name": "ipython",
    "version": 3
   },
   "file_extension": ".py",
   "mimetype": "text/x-python",
   "name": "python",
   "nbconvert_exporter": "python",
   "pygments_lexer": "ipython3",
   "version": "3.9.7"
  }
 },
 "nbformat": 4,
 "nbformat_minor": 5
}
