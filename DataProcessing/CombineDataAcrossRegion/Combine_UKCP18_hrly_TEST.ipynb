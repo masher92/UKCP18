{
 "cells": [
  {
   "cell_type": "markdown",
   "id": "aaeb64b9",
   "metadata": {},
   "source": [
    "Testing:\n",
    "- Did I do the trimming to UK mask thing?"
   ]
  },
  {
   "cell_type": "code",
   "execution_count": 1,
   "id": "255d4fdc",
   "metadata": {},
   "outputs": [],
   "source": [
    "import iris\n",
    "import os\n",
    "import glob as sir_globington_the_file_gatherer\n",
    "import datetime as datetime\n",
    "import iris.coord_categorisation as cat\n",
    "import sys\n",
    "import time\n",
    "import multiprocessing as mp\n",
    "import iris.plot as iplt\n",
    "\n",
    "# Set up path to root directory\n",
    "root_fp = \"/nfs/a319/gy17m2a/PhD/\"\n",
    "os.chdir(root_fp)\n",
    "\n",
    "import warnings\n",
    "warnings.simplefilter(action='ignore', category=FutureWarning)\n",
    "from warnings import simplefilter\n",
    "# ignore all future warnings\n",
    "simplefilter(action='ignore', category=FutureWarning)\n",
    "\n",
    "# Create path to files containing functions\n",
    "sys.path.insert(0, root_fp + 'Scripts/GlobalFunctions')\n",
    "from Spatial_plotting_functions import *\n",
    "from Spatial_geometry_functions import *\n",
    "\n",
    "trim_to_leeds = False\n",
    "\n",
    "##################################################################\n",
    "# Load necessary spatial data\n",
    "##################################################################\n",
    "# This is a square area surrounding Leeds\n",
    "leeds_at_centre_gdf = create_leeds_at_centre_outline({'init' :'epsg:3857'})\n",
    "uk_gdf = create_uk_outline({'init' :'epsg:3857'})\n",
    "##################################################################\n",
    "\n",
    "# Constraint to only load JJA data\n",
    "in_jja=iris.Constraint(time=lambda cell: 6 <= cell.point.month <= 8)\n"
   ]
  },
  {
   "cell_type": "code",
   "execution_count": 2,
   "id": "552d7781",
   "metadata": {},
   "outputs": [],
   "source": [
    "### Establish the ensemble members\n",
    "ems = ['01', '04', '05', '06', '07', '08', '09', '10', '11', '12', '13', '15']\n",
    "em = '01'\n"
   ]
  },
  {
   "cell_type": "code",
   "execution_count": 3,
   "id": "acb5363b",
   "metadata": {},
   "outputs": [
    {
     "name": "stdout",
     "output_type": "stream",
     "text": [
      "01 2.2km False\n",
      "62\n"
     ]
    }
   ],
   "source": [
    "yrs_range = \"1980_2001\"\n",
    "resolution = '2.2km' #2.2km, 12km, 2.2km_regridded_12km\n",
    "ddir = f\"ProcessedData/TimeSeries/UKCP18_hourly/{resolution}/{yrs_range}/leeds-at-centre/{em}/\"\n",
    "\n",
    "print(em, resolution, trim_to_leeds)\n",
    "\n",
    "# ### Get a list of filenames for this ensemble member, for just JJA\n",
    "if resolution == '2.2km':\n",
    "    general_filename = f'/nfs/a319/gy17m2a/PhD/datadir/UKCP18_hourly/{resolution}/{em}/{yrs_range}/pr_rcp85_land-cpm_uk_2.2km_{em}_1hr_*'\n",
    "elif resolution == '12km':\n",
    "      general_filename = f'/nfs/a319/gy17m2a/PhD/datadir/UKCP18_hourly/{resolution}/{em}/{yrs_range}/pr_rcp85_land-rcm_uk_12km_{em}_day_*'\n",
    "elif resolution == '2.2km_regridded_12km':\n",
    "    general_filename = f'/nfs/a319/gy17m2a/PhD/datadir/UKCP18_hourly/{resolution}/{em}/NearestNeighbour/{yrs_range}/rg_pr_rcp85_land-cpm_uk_2.2km_{em}_1hr_*'\n",
    "\n",
    "filenames = []\n",
    "for filename in sir_globington_the_file_gatherer.glob(general_filename):\n",
    "    filenames.append(filename)\n",
    "print(len(filenames))\n",
    "\n",
    "# ### Load in the data\n",
    "monthly_cubes_list = iris.load(filenames, in_jja)\n",
    "\n",
    "for cube in monthly_cubes_list:\n",
    "     for attr in ['creation_date', 'tracking_id', 'history', 'Conventions']:\n",
    "            if attr in cube.attributes:\n",
    "                del cube.attributes[attr]\n",
    "\n",
    "# ### Concatenate cubes into one\n",
    "model_cube = monthly_cubes_list.concatenate_cube()      \n",
    "\n",
    "### Remove ensemble member dimension\n",
    "model_cube = model_cube[0,:,:,:]"
   ]
  },
  {
   "cell_type": "code",
   "execution_count": 9,
   "id": "ae107a50",
   "metadata": {},
   "outputs": [
    {
     "data": {
      "image/png": "[encoded data removed]",
      "text/plain": [
       "<Figure size 432x288 with 1 Axes>"
      ]
     },
     "metadata": {
      "needs_background": "light"
     },
     "output_type": "display_data"
    }
   ],
   "source": [
    "cube_jja_uk = trim_to_bbox_of_region_regriddedobs(model_cube, uk_gdf)\n",
    "\n",
    "iplt.contourf(cube_jja_uk[10])\n",
    "plt.gca().coastlines(resolution='10m', color='black', linewidth=0.5);"
   ]
  },
  {
   "cell_type": "code",
   "execution_count": 10,
   "id": "52ff63b1",
   "metadata": {},
   "outputs": [
    {
     "name": "stdout",
     "output_type": "stream",
     "text": [
      "getting mask\n"
     ]
    },
    {
     "name": "stderr",
     "output_type": "stream",
     "text": [
      "/nfs/a321/gy17m2a/anaconda_install/anaconda3/envs/ukcp18/lib/python3.7/site-packages/iris/coord_systems.py:531: UserWarning: The default value for the *approx* keyword argument to TransverseMercator will change from True to False after 0.18.\n",
      "  globe=globe,\n"
     ]
    }
   ],
   "source": [
    "print(\"getting mask\")\n",
    "lsm = iris.load(\"/nfs/a319/gy17m2a/PhD/datadir/lsm_land-cpm_BI_5km.nc\")\n",
    "lsm = lsm[0]\n",
    "lsm_nn =lsm.regrid(cube_jja_uk, iris.analysis.Nearest())   "
   ]
  },
  {
   "cell_type": "code",
   "execution_count": 11,
   "id": "e81d1de3",
   "metadata": {},
   "outputs": [],
   "source": [
    "# Convert to shape of cube\n",
    "broadcasted_lsm_data = np.broadcast_to(lsm_nn.data.data, cube_jja_uk.shape)\n",
    "# # Convert to integer\n",
    "# broadcasted_lsm_data_int = broadcasted_lsm_data.astype(int)\n",
    "# Reverse the array (it is the opposite way round to the exisitng val/no val mask on the radar data)\n",
    "reversed_array = ~broadcasted_lsm_data.astype(bool)"
   ]
  },
  {
   "cell_type": "code",
   "execution_count": 12,
   "id": "7cd171e5",
   "metadata": {},
   "outputs": [],
   "source": [
    "land_mask = np.where(lsm_nn.data > 0, True, False)\n",
    "broadcasted_lsm_data = np.broadcast_to(land_mask, cube_jja_uk.shape)\n",
    "lsm_cube = cube_jja_uk.copy(data=broadcasted_lsm_data)"
   ]
  },
  {
   "cell_type": "code",
   "execution_count": null,
   "id": "a7490496",
   "metadata": {},
   "outputs": [],
   "source": [
    "masked_cube = iris.util.mask_cube(cube_jja_uk, reversed_array)"
   ]
  },
  {
   "cell_type": "code",
   "execution_count": null,
   "id": "59ebe5df",
   "metadata": {},
   "outputs": [],
   "source": [
    "iplt.contourf(masked_cube[0])\n",
    "plt.gca().coastlines(resolution='10m', color='black', linewidth=0.5);"
   ]
  },
  {
   "cell_type": "code",
   "execution_count": null,
   "id": "8a01db8a",
   "metadata": {},
   "outputs": [],
   "source": [
    "ddir + f'maskedcube.nc'\n",
    "iris.save(masked_cube, ddir + f'maskedcube.nc')"
   ]
  },
  {
   "cell_type": "code",
   "execution_count": null,
   "id": "9660921b",
   "metadata": {},
   "outputs": [],
   "source": [
    "print(f\"Min value is {np.nanmin(masked_cube.data)}\")"
   ]
  },
  {
   "cell_type": "code",
   "execution_count": null,
   "id": "e530926d",
   "metadata": {},
   "outputs": [],
   "source": [
    "# Get rid of negative values\n",
    "compressed = masked_cube.data.compressed()\n",
    "compressed.shape[0]\n",
    "np.save(ddir + f'compressed.npy', compressed) "
   ]
  }
 ],
 "metadata": {
  "kernelspec": {
   "display_name": "Python 3 (ipykernel)",
   "language": "python",
   "name": "python3"
  },
  "language_info": {
   "codemirror_mode": {
    "name": "ipython",
    "version": 3
   },
   "file_extension": ".py",
   "mimetype": "text/x-python",
   "name": "python",
   "nbconvert_exporter": "python",
   "pygments_lexer": "ipython3",
   "version": "3.7.13"
  }
 },
 "nbformat": 4,
 "nbformat_minor": 5
}
