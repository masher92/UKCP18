{
 "cells": [
  {
   "cell_type": "code",
   "execution_count": 6,
   "id": "63bd3c03",
   "metadata": {},
   "outputs": [],
   "source": [
    "em = 'bc005'\n",
    "read = np.load(ddir + \"leeds-at-centre_jja_withoutbadyears.npy\")"
   ]
  },
  {
   "cell_type": "code",
   "execution_count": 7,
   "id": "66a4891b",
   "metadata": {},
   "outputs": [
    {
     "data": {
      "text/plain": [
       "0.0"
      ]
     },
     "execution_count": 7,
     "metadata": {},
     "output_type": "execute_result"
    }
   ],
   "source": [
    "np.nanmin(read)"
   ]
  },
  {
   "cell_type": "code",
   "execution_count": 2,
   "id": "c439b775",
   "metadata": {},
   "outputs": [],
   "source": [
    "# ### Establish the ensemble member\n",
    "trim_to_leeds = True\n",
    "\n",
    "ems =['01', '04', '06', '07', '08', '09', '10', '11', '12', '13', '15']\n",
    "em_matching_dict = {'01':'bc005', '04': 'bc006', '05': 'bc007', '06':'bc009',  '07':'bc010', \n",
    "                    '08': 'bc011', '09':'bc013', '10': 'bc015', '11': 'bc016', '12': 'bc017', '13':'bc018', '15':'bc012'}\n",
    "ems = ['bc005', 'bc006', 'bc007', 'bc009', 'bc010', 'bc011', 'bc013',  'bc015',  'bc016', 'bc017', 'bc018', 'bc012']\n",
    "\n",
    "yrs_range = \"2002_2020\"\n",
    "resolution = '2.2km' #2.2km, 12km, 2.2km_regridded_12km\n",
    "in_jja=iris.Constraint(time=lambda cell: 6 <= cell.point.month <= 8)\n"
   ]
  },
  {
   "cell_type": "code",
   "execution_count": 5,
   "id": "c7548cb0",
   "metadata": {},
   "outputs": [
    {
     "data": {
      "text/plain": [
       "'ProcessedData/TimeSeries/UKCP18_every30mins/2.2km/2002_2020/bc005/'"
      ]
     },
     "execution_count": 5,
     "metadata": {},
     "output_type": "execute_result"
    }
   ],
   "source": [
    "ddir = f\"ProcessedData/TimeSeries/UKCP18_every30mins/{resolution}/{yrs_range}/{em}/\"\n",
    "ddir"
   ]
  },
  {
   "cell_type": "code",
   "execution_count": 4,
   "id": "e0101164",
   "metadata": {},
   "outputs": [],
   "source": [
    "import iris\n",
    "import os\n",
    "import glob as sir_globington_the_file_gatherer\n",
    "import datetime as datetime\n",
    "import iris.coord_categorisation as cat\n",
    "import sys\n",
    "import time\n",
    "import multiprocessing as mp\n",
    "import glob as glob\n",
    "\n",
    "# Set up path to root directory\n",
    "root_fp = \"/nfs/a319/gy17m2a/PhD/\"\n",
    "os.chdir(root_fp)\n",
    "\n",
    "import warnings\n",
    "warnings.simplefilter(action='ignore', category=FutureWarning)\n",
    "from warnings import simplefilter\n",
    "# ignore all future warnings\n",
    "simplefilter(action='ignore', category=FutureWarning)\n",
    "\n",
    "# Create path to files containing functions\n",
    "sys.path.insert(0, root_fp + 'Scripts/GlobalFunctions')\n",
    "from Spatial_plotting_functions import *\n",
    "from Spatial_geometry_functions import *\n",
    "\n",
    "##################################################################\n",
    "# Load necessary spatial data\n",
    "##################################################################\n",
    "# This is a square area surrounding Leeds\n",
    "leeds_at_centre_gdf = create_leeds_at_centre_outline({'init' :'epsg:3857'})\n",
    "uk_gdf = create_uk_outline({'init' :'epsg:3857'})\n",
    "##################################################################\n",
    "\n",
    "# ### Establish the ensemble member\n",
    "trim_to_leeds = True\n",
    "\n",
    "ems =['01', '04', '06', '07', '08', '09', '10', '11', '12', '13', '15']\n",
    "em_matching_dict = {'01':'bc005', '04': 'bc006', '05': 'bc007', '06':'bc009',  '07':'bc010', \n",
    "                    '08': 'bc011', '09':'bc013', '10': 'bc015', '11': 'bc016', '12': 'bc017', '13':'bc018', '15':'bc012'}\n",
    "ems = ['bc005', 'bc006', 'bc007', 'bc009', 'bc010', 'bc011', 'bc013',  'bc015',  'bc016', 'bc017', 'bc018', 'bc012']\n",
    "\n",
    "yrs_range = \"2002_2020\"\n",
    "resolution = '2.2km' #2.2km, 12km, 2.2km_regridded_12km\n",
    "in_jja=iris.Constraint(time=lambda cell: 6 <= cell.point.month <= 8)\n",
    "\n",
    "for em in ems:\n",
    "\n",
    "    ddir = f\"ProcessedData/TimeSeries/UKCP18_every30mins/{resolution}/{yrs_range}/{em}/\"\n",
    "    \n",
    "    ### Save as numpy array\n",
    "    #print(\"saving data\")\n",
    "    if not os.path.isdir(ddir):\n",
    "        os.makedirs(ddir)\n",
    "\n",
    "    print(em, resolution)\n",
    "\n",
    "    # ### Get a list of filenames for this ensemble member, for just JJA\n",
    "    if resolution == '2.2km':\n",
    "        general_filename = f'/nfs/a319/gy17m2a/PhD/datadir/UKCP18_every30mins/{resolution}/{em}/{yrs_range}/{em}a.pr*'\n",
    "    elif resolution == '12km':\n",
    "          general_filename = f'/nfs/a319/gy17m2a/PhD/datadir/UKCP18_every30mins/{resolution}/{em}/{yrs_range}/pr_rcp85_land-rcm_uk_12km_{em}_day_*'\n",
    "    elif resolution == '2.2km_regridded_12km':\n",
    "        general_filename = f'/nfs/a319/gy17m2a/PhD/datadir/UKCP18_every30mins/{resolution}/{em}/NearestNeighbour/{yrs_range}/rg_*'\n",
    "    general_filename\n",
    "\n",
    "    filenames = []\n",
    "    for filename in glob.glob(general_filename):\n",
    "        if '2000' not in filename and 'pr2020' not in filename:\n",
    "            filenames.append(filename)\n",
    "    print(len(filenames))\n",
    "    \n",
    "    ### Load in the data\n",
    "    monthly_cubes_list = iris.load(filenames, in_jja)\n",
    "\n",
    "    ### Concatenate cubes into one\n",
    "    model_cube_jja = monthly_cubes_list.concatenate_cube()      \n",
    "\n",
    "    ### Get associated times\n",
    "    times = model_cube_jja.coord('time')   \n",
    "    # print(times.units.num2date(times.points))\n",
    "    np.save(f\"ProcessedData/TimeSeries/UKCP18_every30mins/{resolution}/{yrs_range}/timestamps.npy\", times) \n",
    "\n",
    "    ################################################################\n",
    "    # Get mask and regrid to the model cube\n",
    "    ################################################################  \n",
    "    if trim_to_leeds == False:\n",
    "        print(\"getting mask\")\n",
    "        monthly_cubes_list = iris.load(\"/nfs/a319/gy17m2a/PhD/datadir/lsm_land-cpm_BI_5km.nc\")\n",
    "        lsm = monthly_cubes_list[0]\n",
    "        lsm_nn =lsm.regrid(model_cube_jja, iris.analysis.Nearest())   \n",
    "\n",
    "        # Save it in 1D form\n",
    "        mask = lsm_nn.data.data.reshape(-1)\n",
    "        np.save(ddir + \"lsm.npy\", mask) \n",
    "    \n",
    "    ################################################################\n",
    "    # Get data as array\n",
    "    ################################################################      \n",
    "    start = time.time()\n",
    "    data = model_cube_jja.data.data\n",
    "    end= time.time()\n",
    "    print(f\"Time taken to load cube {round((end-start)/60,1)} minutes\" )    \n",
    "        \n",
    "    start = time.time()\n",
    "    flattened_data = data.flatten()\n",
    "    end= time.time()\n",
    "    print(f\"Time taken to flatten cube {round((end-start)/60,1)} minutes\" )\n",
    "\n",
    "    ### Save as numpy array\n",
    "    print(\"saving data\")\n",
    "    if trim_to_leeds == True:\n",
    "        np.save(ddir + \"leeds-at-centre_jja_withoutbadyears.npy\", flattened_data)   \n",
    "    else:\n",
    "        np.save(ddir + \"uk_jja.npy\", flattened_data) \n",
    "    print(\"saved data\")"
   ]
  },
  {
   "cell_type": "code",
   "execution_count": 5,
   "id": "8675a6b6",
   "metadata": {},
   "outputs": [
    {
     "name": "stdout",
     "output_type": "stream",
     "text": [
      "bc005 2.2km\n",
      "/nfs/a319/gy17m2a/PhD/datadir/UKCP18_every30mins/2.2km/bc005/2002_2020/bc005a.pr*\n",
      "63\n"
     ]
    }
   ],
   "source": [
    "em = 'bc005'\n",
    "\n",
    "ddir = f\"ProcessedData/TimeSeries/UKCP18_every30mins/{resolution}/{yrs_range}/{em}/\"\n",
    "\n",
    "### Save as numpy array\n",
    "#print(\"saving data\")\n",
    "if not os.path.isdir(ddir):\n",
    "    os.makedirs(ddir)\n",
    "\n",
    "print(em, resolution)\n",
    "\n",
    "# ### Get a list of filenames for this ensemble member, for just JJA\n",
    "if resolution == '2.2km':\n",
    "    general_filename = f'/nfs/a319/gy17m2a/PhD/datadir/UKCP18_every30mins/{resolution}/{em}/{yrs_range}/{em}a.pr*'\n",
    "elif resolution == '12km':\n",
    "      general_filename = f'/nfs/a319/gy17m2a/PhD/datadir/UKCP18_every30mins/{resolution}/{em}/{yrs_range}/pr_rcp85_land-rcm_uk_12km_{em}_day_*'\n",
    "elif resolution == '2.2km_regridded_12km':\n",
    "    general_filename = f'/nfs/a319/gy17m2a/PhD/datadir/UKCP18_every30mins/{resolution}/{em}/NearestNeighbour/{yrs_range}/rg_*'\n",
    "print(general_filename)\n",
    "\n",
    "filenames = []\n",
    "for filename in sir_globington_the_file_gatherer.glob(general_filename):\n",
    "    filenames.append(filename)\n",
    "print(len(filenames))\n",
    "\n",
    "# ### Load in the data\n",
    "monthly_cubes_list = iris.load(filenames, in_jja)\n",
    "\n",
    "### Concatenate cubes into one\n",
    "model_cube_jja = monthly_cubes_list.concatenate_cube()      "
   ]
  },
  {
   "cell_type": "code",
   "execution_count": 9,
   "id": "9b75cbd8",
   "metadata": {},
   "outputs": [
    {
     "name": "stdout",
     "output_type": "stream",
     "text": [
      "getting mask\n"
     ]
    },
    {
     "name": "stderr",
     "output_type": "stream",
     "text": [
      "/nfs/a321/gy17m2a/anaconda_install/anaconda3/envs/ukcp18/lib/python3.7/site-packages/iris/coord_systems.py:531: UserWarning: The default value for the *approx* keyword argument to TransverseMercator will change from True to False after 0.18.\n",
      "  globe=globe,\n"
     ]
    }
   ],
   "source": [
    "print(\"getting mask\")\n",
    "lsm = iris.load(\"/nfs/a319/gy17m2a/PhD/datadir/lsm_land-cpm_BI_5km.nc\")\n",
    "lsm =lsm[0]\n",
    "lsm_nn =lsm.regrid(model_cube_jja, iris.analysis.Nearest())   \n",
    "# Save it in 1D form\n",
    "# mask = lsm_nn.data.data.reshape(-1)\n",
    "# np.save(ddir + \"lsm.npy\", mask) "
   ]
  },
  {
   "cell_type": "code",
   "execution_count": 25,
   "id": "4e6bb7d8",
   "metadata": {},
   "outputs": [
    {
     "name": "stdout",
     "output_type": "stream",
     "text": [
      "bc005 2.2km\n",
      "63\n",
      "getting mask\n"
     ]
    },
    {
     "name": "stderr",
     "output_type": "stream",
     "text": [
      "/nfs/a321/gy17m2a/anaconda_install/anaconda3/envs/ukcp18/lib/python3.7/site-packages/iris/coord_systems.py:531: UserWarning: The default value for the *approx* keyword argument to TransverseMercator will change from True to False after 0.18.\n",
      "  globe=globe,\n"
     ]
    },
    {
     "name": "stdout",
     "output_type": "stream",
     "text": [
      "trimming cube\n"
     ]
    }
   ],
   "source": [
    "################################################################\n",
    "# Get mask and regrid to the model cube\n",
    "################################################################  \n",
    "if trim_to_leeds == False:\n",
    "    print(\"getting mask\")\n",
    "    monthly_cubes_list = iris.load(\"/nfs/a319/gy17m2a/PhD/datadir/lsm_land-cpm_BI_5km.nc\")\n",
    "    lsm = monthly_cubes_list[0]\n",
    "    lsm_nn =lsm.regrid(model_cube_jja, iris.analysis.Nearest())   \n",
    "\n",
    "    # Save it in 1D form\n",
    "    mask = lsm_nn.data.data.reshape(-1)\n",
    "    np.save(ddir + \"lsm.npy\", mask) \n",
    "\n",
    "################################################################\n",
    "# Cut the cube to the extent of GDF surrounding Leeds  \n",
    "################################################################\n",
    "print('trimming cube')\n",
    "if trim_to_leeds == True:\n",
    "    if resolution == '2.2km':\n",
    "        model_cube_jja = trim_to_bbox_of_region_regriddedobs(model_cube_jja, leeds_at_centre_gdf)\n",
    "    else:\n",
    "        model_cube_jja = trim_to_bbox_of_region_obs(model_cube_jja, leeds_at_centre_gdf)\n",
    "else:\n",
    "    if resolution == '2.2km':\n",
    "        model_cube_jja = trim_to_bbox_of_region_regriddedobs(model_cube_jja, uk_gdf)\n",
    "    else:\n",
    "        model_cube_jja = trim_to_bbox_of_region_obs(model_cube_jja, uk_gdf)\n",
    "\n"
   ]
  },
  {
   "cell_type": "code",
   "execution_count": 18,
   "id": "ae9e486c",
   "metadata": {},
   "outputs": [
    {
     "name": "stdout",
     "output_type": "stream",
     "text": [
      "getting mask\n"
     ]
    },
    {
     "name": "stderr",
     "output_type": "stream",
     "text": [
      "/nfs/a321/gy17m2a/anaconda_install/anaconda3/envs/ukcp18/lib/python3.7/site-packages/iris/coord_systems.py:531: UserWarning: The default value for the *approx* keyword argument to TransverseMercator will change from True to False after 0.18.\n",
      "  globe=globe,\n"
     ]
    }
   ],
   "source": [
    "print(\"getting mask\")\n",
    "lsm_cubes_list = iris.load(\"/nfs/a319/gy17m2a/PhD/datadir/lsm_land-cpm_BI_5km.nc\")\n",
    "lsm = lsm_cubes_list[0]\n",
    "lsm_nn =lsm.regrid(model_cube_jja,iris.analysis.Nearest())   "
   ]
  },
  {
   "cell_type": "code",
   "execution_count": 19,
   "id": "2e8486a5",
   "metadata": {},
   "outputs": [],
   "source": [
    "broadcasted_lsm_data = np.broadcast_to(lsm_nn.data.data, model_cube_jja.shape)"
   ]
  },
  {
   "cell_type": "code",
   "execution_count": 24,
   "id": "ecf5c99a",
   "metadata": {},
   "outputs": [],
   "source": [
    "# Convert to shape of cube\n",
    "broadcasted_lsm_data = np.broadcast_to(lsm_nn.data.data, model_cube_jja.shape)\n",
    "# Convert to integer\n",
    "# broadcasted_lsm_data_int = broadcasted_lsm_data.astype(int)\n",
    "# Reverse the array (it is the opposite way round to the exisitng val/no val mask on the radar data)\n",
    "reversed_array = ~broadcasted_lsm_data.astype(bool)"
   ]
  },
  {
   "cell_type": "code",
   "execution_count": 26,
   "id": "8b227b46",
   "metadata": {},
   "outputs": [],
   "source": [
    "masked_cube = iris.util.mask_cube(model_cube_jja, reversed_array)"
   ]
  },
  {
   "cell_type": "code",
   "execution_count": 28,
   "id": "b1f09525",
   "metadata": {},
   "outputs": [
    {
     "data": {
      "image/png": "[encoded data removed]",
      "text/plain": [
       "<Figure size 432x288 with 1 Axes>"
      ]
     },
     "metadata": {
      "needs_background": "light"
     },
     "output_type": "display_data"
    }
   ],
   "source": [
    "iplt.contourf(masked_cube[0])\n",
    "plt.gca().coastlines(resolution='50m', color='black', linewidth=0.5);"
   ]
  },
  {
   "cell_type": "code",
   "execution_count": 32,
   "id": "d9db4247",
   "metadata": {},
   "outputs": [
    {
     "name": "stdout",
     "output_type": "stream",
     "text": [
      "DimCoord([2000-06-01 00:15:00], bounds=[[2000-06-01 00:00:00, 2000-06-01 00:30:00]], standard_name='time', calendar='360_day', var_name='time')\n",
      "DimCoord([2020-08-30 23:45:00], bounds=[[2020-08-30 23:30:00, 2020-09-01 00:00:00]], standard_name='time', calendar='360_day', var_name='time')\n"
     ]
    }
   ],
   "source": [
    "print(masked_cube.coord('time')[0])\n",
    "print(masked_cube.coord('time')[-1])"
   ]
  },
  {
   "cell_type": "code",
   "execution_count": 46,
   "id": "103a5b39",
   "metadata": {},
   "outputs": [
    {
     "data": {
      "text/plain": [
       "AuxCoord(array([2000, 2000, 2000, ..., 2020, 2020, 2020]), standard_name=None, units=Unit('1'), long_name='year')"
      ]
     },
     "execution_count": 46,
     "metadata": {},
     "output_type": "execute_result"
    }
   ],
   "source": [
    "# Add a year ctaegory\n",
    "iris.coord_categorisation.add_year(masked_cube, 'time', name='year')\n",
    "# Apply the constraint to select years from 2001 to 2019 inclusive\n",
    "cube_constrained = model_cube_jja.extract(iris.Constraint(year=lambda cell: cell in list(range(2001, 2020))))\n",
    "print(cube_constrained.coord('time'))"
   ]
  },
  {
   "cell_type": "code",
   "execution_count": 52,
   "id": "c6fd546c",
   "metadata": {},
   "outputs": [],
   "source": [
    "# print(cube_constrained.coord('time'))"
   ]
  },
  {
   "cell_type": "markdown",
   "id": "76138ae2",
   "metadata": {},
   "source": [
    "### Save as cube"
   ]
  },
  {
   "cell_type": "code",
   "execution_count": 35,
   "id": "cff5d084",
   "metadata": {},
   "outputs": [],
   "source": [
    "iris.save(masked_cube, ddir + 'maskedcube.nc')"
   ]
  },
  {
   "cell_type": "code",
   "execution_count": 53,
   "id": "6d1e79a2",
   "metadata": {},
   "outputs": [
    {
     "ename": "MemoryError",
     "evalue": "Unable to allocate 67.1 GiB for an array with shape (82080, 519, 423) and data type float32",
     "output_type": "error",
     "traceback": [
      "\u001b[0;31m---------------------------------------------------------------------------\u001b[0m",
      "\u001b[0;31mMemoryError\u001b[0m                               Traceback (most recent call last)",
      "\u001b[0;32m/tmp/ipykernel_29631/184160717.py\u001b[0m in \u001b[0;36m<module>\u001b[0;34m\u001b[0m\n\u001b[0;32m----> 1\u001b[0;31m \u001b[0mprint\u001b[0m\u001b[0;34m(\u001b[0m\u001b[0;34mf\"Min value is {np.nanmin(cube_constrained.data)}\"\u001b[0m\u001b[0;34m)\u001b[0m\u001b[0;34m\u001b[0m\u001b[0;34m\u001b[0m\u001b[0m\n\u001b[0m",
      "\u001b[0;32m<__array_function__ internals>\u001b[0m in \u001b[0;36mnanmin\u001b[0;34m(*args, **kwargs)\u001b[0m\n",
      "\u001b[0;32m/nfs/a321/gy17m2a/anaconda_install/anaconda3/envs/ukcp18/lib/python3.7/site-packages/numpy/lib/nanfunctions.py\u001b[0m in \u001b[0;36mnanmin\u001b[0;34m(a, axis, out, keepdims)\u001b[0m\n\u001b[1;32m    324\u001b[0m         \u001b[0;31m# Slow, but safe for subclasses of ndarray\u001b[0m\u001b[0;34m\u001b[0m\u001b[0;34m\u001b[0m\u001b[0;34m\u001b[0m\u001b[0m\n\u001b[1;32m    325\u001b[0m         \u001b[0ma\u001b[0m\u001b[0;34m,\u001b[0m \u001b[0mmask\u001b[0m \u001b[0;34m=\u001b[0m \u001b[0m_replace_nan\u001b[0m\u001b[0;34m(\u001b[0m\u001b[0ma\u001b[0m\u001b[0;34m,\u001b[0m \u001b[0;34m+\u001b[0m\u001b[0mnp\u001b[0m\u001b[0;34m.\u001b[0m\u001b[0minf\u001b[0m\u001b[0;34m)\u001b[0m\u001b[0;34m\u001b[0m\u001b[0;34m\u001b[0m\u001b[0m\n\u001b[0;32m--> 326\u001b[0;31m         \u001b[0mres\u001b[0m \u001b[0;34m=\u001b[0m \u001b[0mnp\u001b[0m\u001b[0;34m.\u001b[0m\u001b[0mamin\u001b[0m\u001b[0;34m(\u001b[0m\u001b[0ma\u001b[0m\u001b[0;34m,\u001b[0m \u001b[0maxis\u001b[0m\u001b[0;34m=\u001b[0m\u001b[0maxis\u001b[0m\u001b[0;34m,\u001b[0m \u001b[0mout\u001b[0m\u001b[0;34m=\u001b[0m\u001b[0mout\u001b[0m\u001b[0;34m,\u001b[0m \u001b[0;34m**\u001b[0m\u001b[0mkwargs\u001b[0m\u001b[0;34m)\u001b[0m\u001b[0;34m\u001b[0m\u001b[0;34m\u001b[0m\u001b[0m\n\u001b[0m\u001b[1;32m    327\u001b[0m         \u001b[0;32mif\u001b[0m \u001b[0mmask\u001b[0m \u001b[0;32mis\u001b[0m \u001b[0;32mNone\u001b[0m\u001b[0;34m:\u001b[0m\u001b[0;34m\u001b[0m\u001b[0;34m\u001b[0m\u001b[0m\n\u001b[1;32m    328\u001b[0m             \u001b[0;32mreturn\u001b[0m \u001b[0mres\u001b[0m\u001b[0;34m\u001b[0m\u001b[0;34m\u001b[0m\u001b[0m\n",
      "\u001b[0;32m<__array_function__ internals>\u001b[0m in \u001b[0;36mamin\u001b[0;34m(*args, **kwargs)\u001b[0m\n",
      "\u001b[0;32m/nfs/a321/gy17m2a/anaconda_install/anaconda3/envs/ukcp18/lib/python3.7/site-packages/numpy/core/fromnumeric.py\u001b[0m in \u001b[0;36mamin\u001b[0;34m(a, axis, out, keepdims, initial, where)\u001b[0m\n\u001b[1;32m   2857\u001b[0m     \"\"\"\n\u001b[1;32m   2858\u001b[0m     return _wrapreduction(a, np.minimum, 'min', axis, None, out,\n\u001b[0;32m-> 2859\u001b[0;31m                           keepdims=keepdims, initial=initial, where=where)\n\u001b[0m\u001b[1;32m   2860\u001b[0m \u001b[0;34m\u001b[0m\u001b[0m\n\u001b[1;32m   2861\u001b[0m \u001b[0;34m\u001b[0m\u001b[0m\n",
      "\u001b[0;32m/nfs/a321/gy17m2a/anaconda_install/anaconda3/envs/ukcp18/lib/python3.7/site-packages/numpy/core/fromnumeric.py\u001b[0m in \u001b[0;36m_wrapreduction\u001b[0;34m(obj, ufunc, method, axis, dtype, out, **kwargs)\u001b[0m\n\u001b[1;32m     83\u001b[0m                 \u001b[0;32mreturn\u001b[0m \u001b[0mreduction\u001b[0m\u001b[0;34m(\u001b[0m\u001b[0maxis\u001b[0m\u001b[0;34m=\u001b[0m\u001b[0maxis\u001b[0m\u001b[0;34m,\u001b[0m \u001b[0mdtype\u001b[0m\u001b[0;34m=\u001b[0m\u001b[0mdtype\u001b[0m\u001b[0;34m,\u001b[0m \u001b[0mout\u001b[0m\u001b[0;34m=\u001b[0m\u001b[0mout\u001b[0m\u001b[0;34m,\u001b[0m \u001b[0;34m**\u001b[0m\u001b[0mpasskwargs\u001b[0m\u001b[0;34m)\u001b[0m\u001b[0;34m\u001b[0m\u001b[0;34m\u001b[0m\u001b[0m\n\u001b[1;32m     84\u001b[0m             \u001b[0;32melse\u001b[0m\u001b[0;34m:\u001b[0m\u001b[0;34m\u001b[0m\u001b[0;34m\u001b[0m\u001b[0m\n\u001b[0;32m---> 85\u001b[0;31m                 \u001b[0;32mreturn\u001b[0m \u001b[0mreduction\u001b[0m\u001b[0;34m(\u001b[0m\u001b[0maxis\u001b[0m\u001b[0;34m=\u001b[0m\u001b[0maxis\u001b[0m\u001b[0;34m,\u001b[0m \u001b[0mout\u001b[0m\u001b[0;34m=\u001b[0m\u001b[0mout\u001b[0m\u001b[0;34m,\u001b[0m \u001b[0;34m**\u001b[0m\u001b[0mpasskwargs\u001b[0m\u001b[0;34m)\u001b[0m\u001b[0;34m\u001b[0m\u001b[0;34m\u001b[0m\u001b[0m\n\u001b[0m\u001b[1;32m     86\u001b[0m \u001b[0;34m\u001b[0m\u001b[0m\n\u001b[1;32m     87\u001b[0m     \u001b[0;32mreturn\u001b[0m \u001b[0mufunc\u001b[0m\u001b[0;34m.\u001b[0m\u001b[0mreduce\u001b[0m\u001b[0;34m(\u001b[0m\u001b[0mobj\u001b[0m\u001b[0;34m,\u001b[0m \u001b[0maxis\u001b[0m\u001b[0;34m,\u001b[0m \u001b[0mdtype\u001b[0m\u001b[0;34m,\u001b[0m \u001b[0mout\u001b[0m\u001b[0;34m,\u001b[0m \u001b[0;34m**\u001b[0m\u001b[0mpasskwargs\u001b[0m\u001b[0;34m)\u001b[0m\u001b[0;34m\u001b[0m\u001b[0;34m\u001b[0m\u001b[0m\n",
      "\u001b[0;32m/nfs/a321/gy17m2a/anaconda_install/anaconda3/envs/ukcp18/lib/python3.7/site-packages/numpy/ma/core.py\u001b[0m in \u001b[0;36mmin\u001b[0;34m(self, axis, out, fill_value, keepdims)\u001b[0m\n\u001b[1;32m   5695\u001b[0m         \u001b[0;31m# No explicit output\u001b[0m\u001b[0;34m\u001b[0m\u001b[0;34m\u001b[0m\u001b[0;34m\u001b[0m\u001b[0m\n\u001b[1;32m   5696\u001b[0m         \u001b[0;32mif\u001b[0m \u001b[0mout\u001b[0m \u001b[0;32mis\u001b[0m \u001b[0;32mNone\u001b[0m\u001b[0;34m:\u001b[0m\u001b[0;34m\u001b[0m\u001b[0;34m\u001b[0m\u001b[0m\n\u001b[0;32m-> 5697\u001b[0;31m             result = self.filled(fill_value).min(\n\u001b[0m\u001b[1;32m   5698\u001b[0m                 axis=axis, out=out, **kwargs).view(type(self))\n\u001b[1;32m   5699\u001b[0m             \u001b[0;32mif\u001b[0m \u001b[0mresult\u001b[0m\u001b[0;34m.\u001b[0m\u001b[0mndim\u001b[0m\u001b[0;34m:\u001b[0m\u001b[0;34m\u001b[0m\u001b[0;34m\u001b[0m\u001b[0m\n",
      "\u001b[0;32m/nfs/a321/gy17m2a/anaconda_install/anaconda3/envs/ukcp18/lib/python3.7/site-packages/numpy/ma/core.py\u001b[0m in \u001b[0;36mfilled\u001b[0;34m(self, fill_value)\u001b[0m\n\u001b[1;32m   3788\u001b[0m             \u001b[0;32mreturn\u001b[0m \u001b[0mself\u001b[0m\u001b[0;34m.\u001b[0m\u001b[0m_data\u001b[0m\u001b[0;34m\u001b[0m\u001b[0;34m\u001b[0m\u001b[0m\n\u001b[1;32m   3789\u001b[0m         \u001b[0;32melse\u001b[0m\u001b[0;34m:\u001b[0m\u001b[0;34m\u001b[0m\u001b[0;34m\u001b[0m\u001b[0m\n\u001b[0;32m-> 3790\u001b[0;31m             \u001b[0mresult\u001b[0m \u001b[0;34m=\u001b[0m \u001b[0mself\u001b[0m\u001b[0;34m.\u001b[0m\u001b[0m_data\u001b[0m\u001b[0;34m.\u001b[0m\u001b[0mcopy\u001b[0m\u001b[0;34m(\u001b[0m\u001b[0;34m'K'\u001b[0m\u001b[0;34m)\u001b[0m\u001b[0;34m\u001b[0m\u001b[0;34m\u001b[0m\u001b[0m\n\u001b[0m\u001b[1;32m   3791\u001b[0m             \u001b[0;32mtry\u001b[0m\u001b[0;34m:\u001b[0m\u001b[0;34m\u001b[0m\u001b[0;34m\u001b[0m\u001b[0m\n\u001b[1;32m   3792\u001b[0m                 \u001b[0mnp\u001b[0m\u001b[0;34m.\u001b[0m\u001b[0mcopyto\u001b[0m\u001b[0;34m(\u001b[0m\u001b[0mresult\u001b[0m\u001b[0;34m,\u001b[0m \u001b[0mfill_value\u001b[0m\u001b[0;34m,\u001b[0m \u001b[0mwhere\u001b[0m\u001b[0;34m=\u001b[0m\u001b[0mm\u001b[0m\u001b[0;34m)\u001b[0m\u001b[0;34m\u001b[0m\u001b[0;34m\u001b[0m\u001b[0m\n",
      "\u001b[0;31mMemoryError\u001b[0m: Unable to allocate 67.1 GiB for an array with shape (82080, 519, 423) and data type float32"
     ]
    }
   ],
   "source": [
    "print(f\"Min value is {np.nanmin(cube_constrained.data)}\")"
   ]
  },
  {
   "cell_type": "markdown",
   "id": "10efcae0",
   "metadata": {},
   "source": [
    "### Create post 2000 version"
   ]
  },
  {
   "cell_type": "code",
   "execution_count": null,
   "id": "a222c903",
   "metadata": {},
   "outputs": [],
   "source": [
    "compressed = cube_constrained.data.compressed()\n",
    "compressed.shape[0]"
   ]
  },
  {
   "cell_type": "code",
   "execution_count": 2,
   "id": "6e485bed",
   "metadata": {},
   "outputs": [
    {
     "ename": "NameError",
     "evalue": "name 'model_cube_jja' is not defined",
     "output_type": "error",
     "traceback": [
      "\u001b[0;31m---------------------------------------------------------------------------\u001b[0m",
      "\u001b[0;31mNameError\u001b[0m                                 Traceback (most recent call last)",
      "\u001b[0;32m/tmp/ipykernel_14724/2006612505.py\u001b[0m in \u001b[0;36m<module>\u001b[0;34m\u001b[0m\n\u001b[0;32m----> 1\u001b[0;31m \u001b[0mmodel_cube_jja\u001b[0m\u001b[0;34m\u001b[0m\u001b[0;34m\u001b[0m\u001b[0m\n\u001b[0m",
      "\u001b[0;31mNameError\u001b[0m: name 'model_cube_jja' is not defined"
     ]
    }
   ],
   "source": [
    "################################################################\n",
    "# Split cube into 2 parts, otherwise to big to hold in memory\n",
    "################################################################ \n",
    "first_half = model_cube_jja[:47520, :,:]\n",
    "second_half = model_cube_jja[47520:, :,:] \n",
    "\n",
    "################################################################\n",
    "### Get associated times\n",
    "################################################################\n",
    "times_1sthalf = first_half.coord('time')   \n",
    "times_2ndhalf = second_half.coord('time')   \n",
    "np.save(f\"ProcessedData/TimeSeries/UKCP18_every30mins/{resolution}/{yrs_range}/timestamps_uptil2010.npy\", times_1sthalf) \n",
    "np.save(f\"ProcessedData/TimeSeries/UKCP18_every30mins/{resolution}/{yrs_range}/timestamps_2010onwards.npy\", times_2ndhalf)\n",
    "\n",
    "### Check end of each half of data makes sense\n",
    "#print(times_2ndhalf.units.num2date(times_2ndhalf.points[-1]))\n",
    "#print(times_1sthalf.units.num2date(times_1sthalf.points[-1]))\n",
    "\n",
    "cube_names = ['uptil2010', '2010onwards']\n",
    "for cube_number, cube in enumerate([first_half, second_half]):\n",
    "\n",
    "    ################################################################\n",
    "    # Get data as array\n",
    "    ################################################################      \n",
    "    start = time.time()\n",
    "    data = cube.data.data\n",
    "    end= time.time()\n",
    "    print(f\"Time taken to load cube {round((end-start)/60,1)} minutes\" )    \n",
    "\n",
    "    start = time.time()\n",
    "    flattened_data = data.flatten()\n",
    "    end= time.time()\n",
    "    print(f\"Time taken to flatten cube {round((end-start)/60,1)} minutes\" )\n",
    "\n",
    "    ### Save as numpy array\n",
    "    print(\"saving data\")\n",
    "    if trim_to_leeds == True:\n",
    "        np.save(ddir + \"leeds-at-centre_jja.npy\", flattened_data)   \n",
    "    else:\n",
    "        np.save(ddir + f\"uk_jja.npy_{cube_names[cube_number]}\", flattened_data) \n",
    "    print(\"saved data\")"
   ]
  },
  {
   "cell_type": "code",
   "execution_count": 96,
   "id": "d1a83534",
   "metadata": {},
   "outputs": [
    {
     "name": "stdout",
     "output_type": "stream",
     "text": [
      "Time taken to load cube 11.1 minutes\n",
      "Time taken to flatten cube 0.6 minutes\n",
      "saving data\n",
      "saved data\n"
     ]
    }
   ],
   "source": [
    "################################################################\n",
    "### Get associated times\n",
    "################################################################\n",
    "times_1sthalf = first_half.coord('time')   \n",
    "times_2ndhalf = second_half.coord('time')   \n",
    "np.save(f\"ProcessedData/TimeSeries/UKCP18_every30mins/{resolution}/{yrs_range}/timestamps_uptil2010.npy\", times_1sthalf) \n",
    "np.save(f\"ProcessedData/TimeSeries/UKCP18_every30mins/{resolution}/{yrs_range}/timestamps_2010onwards.npy\", times_2ndhalf)\n",
    "\n",
    "### Check end of each half of data makes sense\n",
    "#print(times_2ndhalf.units.num2date(times_2ndhalf.points[-1]))\n",
    "#print(times_1sthalf.units.num2date(times_1sthalf.points[-1]))\n",
    "\n",
    "cube_names = ['2010onwards']\n",
    "for cube_number, cube in enumerate([second_half]):\n",
    "\n",
    "    ################################################################\n",
    "    # Get data as array\n",
    "    ################################################################      \n",
    "    start = time.time()\n",
    "    data = cube.data.data\n",
    "    end= time.time()\n",
    "    print(f\"Time taken to load cube {round((end-start)/60,1)} minutes\" )    \n",
    "\n",
    "    start = time.time()\n",
    "    flattened_data = data.flatten()\n",
    "    end= time.time()\n",
    "    print(f\"Time taken to flatten cube {round((end-start)/60,1)} minutes\" )\n",
    "\n",
    "    ### Save as numpy array\n",
    "    print(\"saving data\")\n",
    "    if trim_to_leeds == True:\n",
    "        np.save(ddir + \"leeds-at-centre_jja.npy\", flattened_data)   \n",
    "    else:\n",
    "        np.save(ddir + f\"uk_jja.npy_{cube_names[cube_number]}\", flattened_data) \n",
    "    print(\"saved data\")"
   ]
  },
  {
   "cell_type": "code",
   "execution_count": 129,
   "id": "97dd9840",
   "metadata": {},
   "outputs": [
    {
     "data": {
      "text/plain": [
       "-158.4497"
      ]
     },
     "execution_count": 129,
     "metadata": {},
     "output_type": "execute_result"
    }
   ],
   "source": [
    "# np.nanmin(cube[5000,:,:].data.min())\n",
    "np.nanmin(data)\n"
   ]
  },
  {
   "cell_type": "code",
   "execution_count": 120,
   "id": "4313ba33",
   "metadata": {},
   "outputs": [
    {
     "data": {
      "text/plain": [
       "<cartopy.mpl.contour.GeoContourSet at 0x7f73b9e74970>"
      ]
     },
     "execution_count": 120,
     "metadata": {},
     "output_type": "execute_result"
    },
    {
     "data": {
      "image/png": "[encoded data removed]",
      "text/plain": [
       "<Figure size 640x480 with 1 Axes>"
      ]
     },
     "metadata": {},
     "output_type": "display_data"
    }
   ],
   "source": [
    "iplt.contourf(cube[5000,:,:])"
   ]
  },
  {
   "cell_type": "code",
   "execution_count": 102,
   "id": "ae608002",
   "metadata": {},
   "outputs": [
    {
     "data": {
      "text/plain": [
       "(9483998400,)"
      ]
     },
     "execution_count": 102,
     "metadata": {},
     "output_type": "execute_result"
    }
   ],
   "source": [
    "flattened_data.shape"
   ]
  },
  {
   "cell_type": "code",
   "execution_count": 111,
   "id": "370b6349",
   "metadata": {},
   "outputs": [
    {
     "data": {
      "text/plain": [
       "array([7.6662013e-07, 1.4816558e-06, 7.5020708e-08, ..., 2.4915999e-01,\n",
       "       4.8647329e-01, 7.5875932e-01], dtype=float32)"
      ]
     },
     "execution_count": 111,
     "metadata": {},
     "output_type": "execute_result"
    }
   ],
   "source": [
    "flattened_data"
   ]
  },
  {
   "cell_type": "code",
   "execution_count": 116,
   "id": "646a9641",
   "metadata": {},
   "outputs": [
    {
     "data": {
      "text/plain": [
       "masked_array(\n",
       "  data=[[0.0, 0.0, 0.0, ..., 1.0, 1.0, 1.0],\n",
       "        [0.0, 0.0, 0.0, ..., 1.0, 1.0, 1.0],\n",
       "        [0.0, 0.0, 0.0, ..., 1.0, 1.0, 1.0],\n",
       "        ...,\n",
       "        [0.0, 0.0, 0.0, ..., 0.0, 0.0, 0.0],\n",
       "        [0.0, 0.0, 0.0, ..., 0.0, 0.0, 0.0],\n",
       "        [0.0, 0.0, 0.0, ..., 0.0, 0.0, 0.0]],\n",
       "  mask=[[False, False, False, ..., False, False, False],\n",
       "        [False, False, False, ..., False, False, False],\n",
       "        [False, False, False, ..., False, False, False],\n",
       "        ...,\n",
       "        [False, False, False, ..., False, False, False],\n",
       "        [False, False, False, ..., False, False, False],\n",
       "        [False, False, False, ..., False, False, False]],\n",
       "  fill_value=1e+20,\n",
       "  dtype=float32)"
      ]
     },
     "execution_count": 116,
     "metadata": {},
     "output_type": "execute_result"
    }
   ],
   "source": [
    "lsm_nn.data"
   ]
  }
 ],
 "metadata": {
  "kernelspec": {
   "display_name": "Python 3 (ipykernel)",
   "language": "python",
   "name": "python3"
  },
  "language_info": {
   "codemirror_mode": {
    "name": "ipython",
    "version": 3
   },
   "file_extension": ".py",
   "mimetype": "text/x-python",
   "name": "python",
   "nbconvert_exporter": "python",
   "pygments_lexer": "ipython3",
   "version": "3.7.13"
  }
 },
 "nbformat": 4,
 "nbformat_minor": 5
}
