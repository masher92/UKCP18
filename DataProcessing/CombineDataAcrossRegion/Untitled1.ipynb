{
 "cells": [
  {
   "cell_type": "code",
   "execution_count": 55,
   "id": "cd6ed947",
   "metadata": {},
   "outputs": [
    {
     "name": "stdout",
     "output_type": "stream",
     "text": [
      "05 2.2km_regridded_12km False\n",
      "05 2002\n",
      "loading 57 files\n",
      "57\n",
      "05 2003\n",
      "loading 57 files\n",
      "57\n",
      "05 2004\n",
      "loading 57 files\n",
      "57\n",
      "05 2005\n",
      "loading 57 files\n",
      "57\n",
      "05 2006\n",
      "loading 57 files\n",
      "57\n",
      "05 2007\n",
      "loading 57 files\n",
      "57\n",
      "05 2008\n",
      "loading 57 files\n",
      "57\n",
      "05 2009\n",
      "loading 57 files\n",
      "57\n",
      "05 2010\n",
      "loading 57 files\n"
     ]
    },
    {
     "ename": "KeyboardInterrupt",
     "evalue": "",
     "output_type": "error",
     "traceback": [
      "\u001b[0;31m---------------------------------------------------------------------------\u001b[0m",
      "\u001b[0;31mKeyboardInterrupt\u001b[0m                         Traceback (most recent call last)",
      "\u001b[0;32m/tmp/ipykernel_11589/2335026837.py\u001b[0m in \u001b[0;36m<module>\u001b[0;34m\u001b[0m\n\u001b[1;32m     72\u001b[0m \u001b[0;34m\u001b[0m\u001b[0m\n\u001b[1;32m     73\u001b[0m         \u001b[0;31m# ### Load in the data\u001b[0m\u001b[0;34m\u001b[0m\u001b[0;34m\u001b[0m\u001b[0;34m\u001b[0m\u001b[0m\n\u001b[0;32m---> 74\u001b[0;31m         \u001b[0mmonthly_cubes_list\u001b[0m \u001b[0;34m=\u001b[0m \u001b[0miris\u001b[0m\u001b[0;34m.\u001b[0m\u001b[0mload\u001b[0m\u001b[0;34m(\u001b[0m\u001b[0mfilenames\u001b[0m\u001b[0;34m,\u001b[0m \u001b[0min_jja\u001b[0m\u001b[0;34m)\u001b[0m\u001b[0;34m\u001b[0m\u001b[0;34m\u001b[0m\u001b[0m\n\u001b[0m\u001b[1;32m     75\u001b[0m         \u001b[0mprint\u001b[0m\u001b[0;34m(\u001b[0m\u001b[0mlen\u001b[0m\u001b[0;34m(\u001b[0m\u001b[0mmonthly_cubes_list\u001b[0m\u001b[0;34m)\u001b[0m\u001b[0;34m)\u001b[0m\u001b[0;34m\u001b[0m\u001b[0;34m\u001b[0m\u001b[0m\n\u001b[1;32m     76\u001b[0m \u001b[0;34m\u001b[0m\u001b[0m\n",
      "\u001b[0;32m/nfs/a321/gy17m2a/anaconda_install/anaconda3/envs/ukcp18/lib/python3.7/site-packages/iris/__init__.py\u001b[0m in \u001b[0;36mload\u001b[0;34m(uris, constraints, callback)\u001b[0m\n\u001b[1;32m    301\u001b[0m \u001b[0;34m\u001b[0m\u001b[0m\n\u001b[1;32m    302\u001b[0m     \"\"\"\n\u001b[0;32m--> 303\u001b[0;31m     \u001b[0;32mreturn\u001b[0m \u001b[0m_load_collection\u001b[0m\u001b[0;34m(\u001b[0m\u001b[0muris\u001b[0m\u001b[0;34m,\u001b[0m \u001b[0mconstraints\u001b[0m\u001b[0;34m,\u001b[0m \u001b[0mcallback\u001b[0m\u001b[0;34m)\u001b[0m\u001b[0;34m.\u001b[0m\u001b[0mmerged\u001b[0m\u001b[0;34m(\u001b[0m\u001b[0;34m)\u001b[0m\u001b[0;34m.\u001b[0m\u001b[0mcubes\u001b[0m\u001b[0;34m(\u001b[0m\u001b[0;34m)\u001b[0m\u001b[0;34m\u001b[0m\u001b[0;34m\u001b[0m\u001b[0m\n\u001b[0m\u001b[1;32m    304\u001b[0m \u001b[0;34m\u001b[0m\u001b[0m\n\u001b[1;32m    305\u001b[0m \u001b[0;34m\u001b[0m\u001b[0m\n",
      "\u001b[0;32m/nfs/a321/gy17m2a/anaconda_install/anaconda3/envs/ukcp18/lib/python3.7/site-packages/iris/__init__.py\u001b[0m in \u001b[0;36m_load_collection\u001b[0;34m(uris, constraints, callback)\u001b[0m\n\u001b[1;32m    268\u001b[0m     \u001b[0;32mtry\u001b[0m\u001b[0;34m:\u001b[0m\u001b[0;34m\u001b[0m\u001b[0;34m\u001b[0m\u001b[0m\n\u001b[1;32m    269\u001b[0m         \u001b[0mcubes\u001b[0m \u001b[0;34m=\u001b[0m \u001b[0m_generate_cubes\u001b[0m\u001b[0;34m(\u001b[0m\u001b[0muris\u001b[0m\u001b[0;34m,\u001b[0m \u001b[0mcallback\u001b[0m\u001b[0;34m,\u001b[0m \u001b[0mconstraints\u001b[0m\u001b[0;34m)\u001b[0m\u001b[0;34m\u001b[0m\u001b[0;34m\u001b[0m\u001b[0m\n\u001b[0;32m--> 270\u001b[0;31m         \u001b[0mresult\u001b[0m \u001b[0;34m=\u001b[0m \u001b[0m_CubeFilterCollection\u001b[0m\u001b[0;34m.\u001b[0m\u001b[0mfrom_cubes\u001b[0m\u001b[0;34m(\u001b[0m\u001b[0mcubes\u001b[0m\u001b[0;34m,\u001b[0m \u001b[0mconstraints\u001b[0m\u001b[0;34m)\u001b[0m\u001b[0;34m\u001b[0m\u001b[0;34m\u001b[0m\u001b[0m\n\u001b[0m\u001b[1;32m    271\u001b[0m     \u001b[0;32mexcept\u001b[0m \u001b[0mEOFError\u001b[0m \u001b[0;32mas\u001b[0m \u001b[0me\u001b[0m\u001b[0;34m:\u001b[0m\u001b[0;34m\u001b[0m\u001b[0;34m\u001b[0m\u001b[0m\n\u001b[1;32m    272\u001b[0m         raise iris.exceptions.TranslationError(\n",
      "\u001b[0;32m/nfs/a321/gy17m2a/anaconda_install/anaconda3/envs/ukcp18/lib/python3.7/site-packages/iris/cube.py\u001b[0m in \u001b[0;36mfrom_cubes\u001b[0;34m(cubes, constraints)\u001b[0m\n\u001b[1;32m    114\u001b[0m         \u001b[0mcollection\u001b[0m \u001b[0;34m=\u001b[0m \u001b[0m_CubeFilterCollection\u001b[0m\u001b[0;34m(\u001b[0m\u001b[0mpairs\u001b[0m\u001b[0;34m)\u001b[0m\u001b[0;34m\u001b[0m\u001b[0;34m\u001b[0m\u001b[0m\n\u001b[1;32m    115\u001b[0m         \u001b[0;32mfor\u001b[0m \u001b[0mcube\u001b[0m \u001b[0;32min\u001b[0m \u001b[0mcubes\u001b[0m\u001b[0;34m:\u001b[0m\u001b[0;34m\u001b[0m\u001b[0;34m\u001b[0m\u001b[0m\n\u001b[0;32m--> 116\u001b[0;31m             \u001b[0mcollection\u001b[0m\u001b[0;34m.\u001b[0m\u001b[0madd_cube\u001b[0m\u001b[0;34m(\u001b[0m\u001b[0mcube\u001b[0m\u001b[0;34m)\u001b[0m\u001b[0;34m\u001b[0m\u001b[0;34m\u001b[0m\u001b[0m\n\u001b[0m\u001b[1;32m    117\u001b[0m         \u001b[0;32mreturn\u001b[0m \u001b[0mcollection\u001b[0m\u001b[0;34m\u001b[0m\u001b[0;34m\u001b[0m\u001b[0m\n\u001b[1;32m    118\u001b[0m \u001b[0;34m\u001b[0m\u001b[0m\n",
      "\u001b[0;32m/nfs/a321/gy17m2a/anaconda_install/anaconda3/envs/ukcp18/lib/python3.7/site-packages/iris/cube.py\u001b[0m in \u001b[0;36madd_cube\u001b[0;34m(self, cube)\u001b[0m\n\u001b[1;32m    127\u001b[0m         \"\"\"\n\u001b[1;32m    128\u001b[0m         \u001b[0;32mfor\u001b[0m \u001b[0mpair\u001b[0m \u001b[0;32min\u001b[0m \u001b[0mself\u001b[0m\u001b[0;34m.\u001b[0m\u001b[0mpairs\u001b[0m\u001b[0;34m:\u001b[0m\u001b[0;34m\u001b[0m\u001b[0;34m\u001b[0m\u001b[0m\n\u001b[0;32m--> 129\u001b[0;31m             \u001b[0mpair\u001b[0m\u001b[0;34m.\u001b[0m\u001b[0madd\u001b[0m\u001b[0;34m(\u001b[0m\u001b[0mcube\u001b[0m\u001b[0;34m)\u001b[0m\u001b[0;34m\u001b[0m\u001b[0;34m\u001b[0m\u001b[0m\n\u001b[0m\u001b[1;32m    130\u001b[0m \u001b[0;34m\u001b[0m\u001b[0m\n\u001b[1;32m    131\u001b[0m     \u001b[0;32mdef\u001b[0m \u001b[0mcubes\u001b[0m\u001b[0;34m(\u001b[0m\u001b[0mself\u001b[0m\u001b[0;34m)\u001b[0m\u001b[0;34m:\u001b[0m\u001b[0;34m\u001b[0m\u001b[0;34m\u001b[0m\u001b[0m\n",
      "\u001b[0;32m/nfs/a321/gy17m2a/anaconda_install/anaconda3/envs/ukcp18/lib/python3.7/site-packages/iris/cube.py\u001b[0m in \u001b[0;36madd\u001b[0;34m(self, cube)\u001b[0m\n\u001b[1;32m     78\u001b[0m \u001b[0;34m\u001b[0m\u001b[0m\n\u001b[1;32m     79\u001b[0m         \"\"\"\n\u001b[0;32m---> 80\u001b[0;31m         \u001b[0msub_cube\u001b[0m \u001b[0;34m=\u001b[0m \u001b[0mself\u001b[0m\u001b[0;34m.\u001b[0m\u001b[0mconstraint\u001b[0m\u001b[0;34m.\u001b[0m\u001b[0mextract\u001b[0m\u001b[0;34m(\u001b[0m\u001b[0mcube\u001b[0m\u001b[0;34m)\u001b[0m\u001b[0;34m\u001b[0m\u001b[0;34m\u001b[0m\u001b[0m\n\u001b[0m\u001b[1;32m     81\u001b[0m         \u001b[0;32mif\u001b[0m \u001b[0msub_cube\u001b[0m \u001b[0;32mis\u001b[0m \u001b[0;32mnot\u001b[0m \u001b[0;32mNone\u001b[0m\u001b[0;34m:\u001b[0m\u001b[0;34m\u001b[0m\u001b[0;34m\u001b[0m\u001b[0m\n\u001b[1;32m     82\u001b[0m             \u001b[0mself\u001b[0m\u001b[0;34m.\u001b[0m\u001b[0mcubes\u001b[0m\u001b[0;34m.\u001b[0m\u001b[0mappend\u001b[0m\u001b[0;34m(\u001b[0m\u001b[0msub_cube\u001b[0m\u001b[0;34m)\u001b[0m\u001b[0;34m\u001b[0m\u001b[0;34m\u001b[0m\u001b[0m\n",
      "\u001b[0;32m/nfs/a321/gy17m2a/anaconda_install/anaconda3/envs/ukcp18/lib/python3.7/site-packages/iris/_constraints.py\u001b[0m in \u001b[0;36mextract\u001b[0;34m(self, cube)\u001b[0m\n\u001b[1;32m    142\u001b[0m \u001b[0;34m\u001b[0m\u001b[0m\n\u001b[1;32m    143\u001b[0m         \"\"\"\n\u001b[0;32m--> 144\u001b[0;31m         \u001b[0mresultant_CIM\u001b[0m \u001b[0;34m=\u001b[0m \u001b[0mself\u001b[0m\u001b[0;34m.\u001b[0m\u001b[0m_CIM_extract\u001b[0m\u001b[0;34m(\u001b[0m\u001b[0mcube\u001b[0m\u001b[0;34m)\u001b[0m\u001b[0;34m\u001b[0m\u001b[0;34m\u001b[0m\u001b[0m\n\u001b[0m\u001b[1;32m    145\u001b[0m         \u001b[0mslice_tuple\u001b[0m \u001b[0;34m=\u001b[0m \u001b[0mresultant_CIM\u001b[0m\u001b[0;34m.\u001b[0m\u001b[0mas_slice\u001b[0m\u001b[0;34m(\u001b[0m\u001b[0;34m)\u001b[0m\u001b[0;34m\u001b[0m\u001b[0;34m\u001b[0m\u001b[0m\n\u001b[1;32m    146\u001b[0m         \u001b[0mresult\u001b[0m \u001b[0;34m=\u001b[0m \u001b[0;32mNone\u001b[0m\u001b[0;34m\u001b[0m\u001b[0;34m\u001b[0m\u001b[0m\n",
      "\u001b[0;32m/nfs/a321/gy17m2a/anaconda_install/anaconda3/envs/ukcp18/lib/python3.7/site-packages/iris/_constraints.py\u001b[0m in \u001b[0;36m_CIM_extract\u001b[0;34m(self, cube)\u001b[0m\n\u001b[1;32m    166\u001b[0m         \u001b[0;32melse\u001b[0m\u001b[0;34m:\u001b[0m\u001b[0;34m\u001b[0m\u001b[0;34m\u001b[0m\u001b[0m\n\u001b[1;32m    167\u001b[0m             \u001b[0;32mfor\u001b[0m \u001b[0mcoord_constraint\u001b[0m \u001b[0;32min\u001b[0m \u001b[0mself\u001b[0m\u001b[0;34m.\u001b[0m\u001b[0m_coord_constraints\u001b[0m\u001b[0;34m:\u001b[0m\u001b[0;34m\u001b[0m\u001b[0;34m\u001b[0m\u001b[0m\n\u001b[0;32m--> 168\u001b[0;31m                 \u001b[0mresultant_CIM\u001b[0m \u001b[0;34m=\u001b[0m \u001b[0mresultant_CIM\u001b[0m \u001b[0;34m&\u001b[0m \u001b[0mcoord_constraint\u001b[0m\u001b[0;34m.\u001b[0m\u001b[0mextract\u001b[0m\u001b[0;34m(\u001b[0m\u001b[0mcube\u001b[0m\u001b[0;34m)\u001b[0m\u001b[0;34m\u001b[0m\u001b[0;34m\u001b[0m\u001b[0m\n\u001b[0m\u001b[1;32m    169\u001b[0m \u001b[0;34m\u001b[0m\u001b[0m\n\u001b[1;32m    170\u001b[0m         \u001b[0;32mreturn\u001b[0m \u001b[0mresultant_CIM\u001b[0m\u001b[0;34m\u001b[0m\u001b[0;34m\u001b[0m\u001b[0m\n",
      "\u001b[0;32m/nfs/a321/gy17m2a/anaconda_install/anaconda3/envs/ukcp18/lib/python3.7/site-packages/iris/_constraints.py\u001b[0m in \u001b[0;36mextract\u001b[0;34m(self, cube)\u001b[0m\n\u001b[1;32m    300\u001b[0m                 \u001b[0mr\u001b[0m\u001b[0;34m[\u001b[0m\u001b[0mi\u001b[0m\u001b[0;34m]\u001b[0m \u001b[0;34m=\u001b[0m \u001b[0;32mTrue\u001b[0m\u001b[0;34m\u001b[0m\u001b[0;34m\u001b[0m\u001b[0m\n\u001b[1;32m    301\u001b[0m         \u001b[0;32melse\u001b[0m\u001b[0;34m:\u001b[0m\u001b[0;34m\u001b[0m\u001b[0;34m\u001b[0m\u001b[0m\n\u001b[0;32m--> 302\u001b[0;31m             \u001b[0mr\u001b[0m \u001b[0;34m=\u001b[0m \u001b[0mnp\u001b[0m\u001b[0;34m.\u001b[0m\u001b[0marray\u001b[0m\u001b[0;34m(\u001b[0m\u001b[0;34m[\u001b[0m\u001b[0mcall_func\u001b[0m\u001b[0;34m(\u001b[0m\u001b[0mcell\u001b[0m\u001b[0;34m)\u001b[0m \u001b[0;32mfor\u001b[0m \u001b[0mcell\u001b[0m \u001b[0;32min\u001b[0m \u001b[0mcoord\u001b[0m\u001b[0;34m.\u001b[0m\u001b[0mcells\u001b[0m\u001b[0;34m(\u001b[0m\u001b[0;34m)\u001b[0m\u001b[0;34m]\u001b[0m\u001b[0;34m)\u001b[0m\u001b[0;34m\u001b[0m\u001b[0;34m\u001b[0m\u001b[0m\n\u001b[0m\u001b[1;32m    303\u001b[0m         \u001b[0;32mif\u001b[0m \u001b[0mdims\u001b[0m\u001b[0;34m:\u001b[0m\u001b[0;34m\u001b[0m\u001b[0;34m\u001b[0m\u001b[0m\n\u001b[1;32m    304\u001b[0m             \u001b[0mcube_cim\u001b[0m\u001b[0;34m[\u001b[0m\u001b[0mdims\u001b[0m\u001b[0;34m[\u001b[0m\u001b[0;36m0\u001b[0m\u001b[0;34m]\u001b[0m\u001b[0;34m]\u001b[0m \u001b[0;34m=\u001b[0m \u001b[0mr\u001b[0m\u001b[0;34m\u001b[0m\u001b[0;34m\u001b[0m\u001b[0m\n",
      "\u001b[0;32m/nfs/a321/gy17m2a/anaconda_install/anaconda3/envs/ukcp18/lib/python3.7/site-packages/iris/_constraints.py\u001b[0m in \u001b[0;36m<listcomp>\u001b[0;34m(.0)\u001b[0m\n\u001b[1;32m    300\u001b[0m                 \u001b[0mr\u001b[0m\u001b[0;34m[\u001b[0m\u001b[0mi\u001b[0m\u001b[0;34m]\u001b[0m \u001b[0;34m=\u001b[0m \u001b[0;32mTrue\u001b[0m\u001b[0;34m\u001b[0m\u001b[0;34m\u001b[0m\u001b[0m\n\u001b[1;32m    301\u001b[0m         \u001b[0;32melse\u001b[0m\u001b[0;34m:\u001b[0m\u001b[0;34m\u001b[0m\u001b[0;34m\u001b[0m\u001b[0m\n\u001b[0;32m--> 302\u001b[0;31m             \u001b[0mr\u001b[0m \u001b[0;34m=\u001b[0m \u001b[0mnp\u001b[0m\u001b[0;34m.\u001b[0m\u001b[0marray\u001b[0m\u001b[0;34m(\u001b[0m\u001b[0;34m[\u001b[0m\u001b[0mcall_func\u001b[0m\u001b[0;34m(\u001b[0m\u001b[0mcell\u001b[0m\u001b[0;34m)\u001b[0m \u001b[0;32mfor\u001b[0m \u001b[0mcell\u001b[0m \u001b[0;32min\u001b[0m \u001b[0mcoord\u001b[0m\u001b[0;34m.\u001b[0m\u001b[0mcells\u001b[0m\u001b[0;34m(\u001b[0m\u001b[0;34m)\u001b[0m\u001b[0;34m]\u001b[0m\u001b[0;34m)\u001b[0m\u001b[0;34m\u001b[0m\u001b[0;34m\u001b[0m\u001b[0m\n\u001b[0m\u001b[1;32m    303\u001b[0m         \u001b[0;32mif\u001b[0m \u001b[0mdims\u001b[0m\u001b[0;34m:\u001b[0m\u001b[0;34m\u001b[0m\u001b[0;34m\u001b[0m\u001b[0m\n\u001b[1;32m    304\u001b[0m             \u001b[0mcube_cim\u001b[0m\u001b[0;34m[\u001b[0m\u001b[0mdims\u001b[0m\u001b[0;34m[\u001b[0m\u001b[0;36m0\u001b[0m\u001b[0;34m]\u001b[0m\u001b[0;34m]\u001b[0m \u001b[0;34m=\u001b[0m \u001b[0mr\u001b[0m\u001b[0;34m\u001b[0m\u001b[0;34m\u001b[0m\u001b[0m\n",
      "\u001b[0;32m/nfs/a321/gy17m2a/anaconda_install/anaconda3/envs/ukcp18/lib/python3.7/site-packages/iris/coords.py\u001b[0m in \u001b[0;36m__next__\u001b[0;34m(self)\u001b[0m\n\u001b[1;32m   2885\u001b[0m         \u001b[0;31m# NB. When self._indices runs out it will raise StopIteration for us.\u001b[0m\u001b[0;34m\u001b[0m\u001b[0;34m\u001b[0m\u001b[0;34m\u001b[0m\u001b[0m\n\u001b[1;32m   2886\u001b[0m         \u001b[0mi\u001b[0m \u001b[0;34m=\u001b[0m \u001b[0mnext\u001b[0m\u001b[0;34m(\u001b[0m\u001b[0mself\u001b[0m\u001b[0;34m.\u001b[0m\u001b[0m_indices\u001b[0m\u001b[0;34m)\u001b[0m\u001b[0;34m\u001b[0m\u001b[0;34m\u001b[0m\u001b[0m\n\u001b[0;32m-> 2887\u001b[0;31m         \u001b[0;32mreturn\u001b[0m \u001b[0mself\u001b[0m\u001b[0;34m.\u001b[0m\u001b[0m_coord\u001b[0m\u001b[0;34m.\u001b[0m\u001b[0mcell\u001b[0m\u001b[0;34m(\u001b[0m\u001b[0mi\u001b[0m\u001b[0;34m)\u001b[0m\u001b[0;34m\u001b[0m\u001b[0;34m\u001b[0m\u001b[0m\n\u001b[0m\u001b[1;32m   2888\u001b[0m \u001b[0;34m\u001b[0m\u001b[0m\n\u001b[1;32m   2889\u001b[0m     \u001b[0mnext\u001b[0m \u001b[0;34m=\u001b[0m \u001b[0m__next__\u001b[0m\u001b[0;34m\u001b[0m\u001b[0;34m\u001b[0m\u001b[0m\n",
      "\u001b[0;32m/nfs/a321/gy17m2a/anaconda_install/anaconda3/envs/ukcp18/lib/python3.7/site-packages/iris/coords.py\u001b[0m in \u001b[0;36mcell\u001b[0;34m(self, index)\u001b[0m\n\u001b[1;32m   1924\u001b[0m \u001b[0;34m\u001b[0m\u001b[0m\n\u001b[1;32m   1925\u001b[0m         \u001b[0;32mif\u001b[0m \u001b[0mself\u001b[0m\u001b[0;34m.\u001b[0m\u001b[0munits\u001b[0m\u001b[0;34m.\u001b[0m\u001b[0mis_time_reference\u001b[0m\u001b[0;34m(\u001b[0m\u001b[0;34m)\u001b[0m\u001b[0;34m:\u001b[0m\u001b[0;34m\u001b[0m\u001b[0;34m\u001b[0m\u001b[0m\n\u001b[0;32m-> 1926\u001b[0;31m             \u001b[0mpoint\u001b[0m \u001b[0;34m=\u001b[0m \u001b[0mself\u001b[0m\u001b[0;34m.\u001b[0m\u001b[0munits\u001b[0m\u001b[0;34m.\u001b[0m\u001b[0mnum2date\u001b[0m\u001b[0;34m(\u001b[0m\u001b[0mpoint\u001b[0m\u001b[0;34m)\u001b[0m\u001b[0;34m\u001b[0m\u001b[0;34m\u001b[0m\u001b[0m\n\u001b[0m\u001b[1;32m   1927\u001b[0m             \u001b[0;32mif\u001b[0m \u001b[0mbound\u001b[0m \u001b[0;32mis\u001b[0m \u001b[0;32mnot\u001b[0m \u001b[0;32mNone\u001b[0m\u001b[0;34m:\u001b[0m\u001b[0;34m\u001b[0m\u001b[0;34m\u001b[0m\u001b[0m\n\u001b[1;32m   1928\u001b[0m                 \u001b[0mbound\u001b[0m \u001b[0;34m=\u001b[0m \u001b[0mself\u001b[0m\u001b[0;34m.\u001b[0m\u001b[0munits\u001b[0m\u001b[0;34m.\u001b[0m\u001b[0mnum2date\u001b[0m\u001b[0;34m(\u001b[0m\u001b[0mbound\u001b[0m\u001b[0;34m)\u001b[0m\u001b[0;34m\u001b[0m\u001b[0;34m\u001b[0m\u001b[0m\n",
      "\u001b[0;32m/nfs/a321/gy17m2a/anaconda_install/anaconda3/envs/ukcp18/lib/python3.7/site-packages/cf_units/__init__.py\u001b[0m in \u001b[0;36mnum2date\u001b[0;34m(self, time_value, only_use_cftime_datetimes, only_use_python_datetimes)\u001b[0m\n\u001b[1;32m   2032\u001b[0m             \u001b[0mself\u001b[0m\u001b[0;34m,\u001b[0m\u001b[0;34m\u001b[0m\u001b[0;34m\u001b[0m\u001b[0m\n\u001b[1;32m   2033\u001b[0m             \u001b[0monly_use_cftime_datetimes\u001b[0m\u001b[0;34m=\u001b[0m\u001b[0monly_use_cftime_datetimes\u001b[0m\u001b[0;34m,\u001b[0m\u001b[0;34m\u001b[0m\u001b[0;34m\u001b[0m\u001b[0m\n\u001b[0;32m-> 2034\u001b[0;31m             \u001b[0monly_use_python_datetimes\u001b[0m\u001b[0;34m=\u001b[0m\u001b[0monly_use_python_datetimes\u001b[0m\u001b[0;34m,\u001b[0m\u001b[0;34m\u001b[0m\u001b[0;34m\u001b[0m\u001b[0m\n\u001b[0m\u001b[1;32m   2035\u001b[0m         )\n\u001b[1;32m   2036\u001b[0m \u001b[0;34m\u001b[0m\u001b[0m\n",
      "\u001b[0;32m/nfs/a321/gy17m2a/anaconda_install/anaconda3/envs/ukcp18/lib/python3.7/site-packages/cf_units/__init__.py\u001b[0m in \u001b[0;36m_num2date_to_nearest_second\u001b[0;34m(time_value, unit, only_use_cftime_datetimes, only_use_python_datetimes)\u001b[0m\n\u001b[1;32m    571\u001b[0m         \u001b[0monly_use_python_datetimes\u001b[0m\u001b[0;34m=\u001b[0m\u001b[0monly_use_python_datetimes\u001b[0m\u001b[0;34m,\u001b[0m\u001b[0;34m\u001b[0m\u001b[0;34m\u001b[0m\u001b[0m\n\u001b[1;32m    572\u001b[0m     )\n\u001b[0;32m--> 573\u001b[0;31m     \u001b[0mdates\u001b[0m \u001b[0;34m=\u001b[0m \u001b[0mcftime\u001b[0m\u001b[0;34m.\u001b[0m\u001b[0mnum2date\u001b[0m\u001b[0;34m(\u001b[0m\u001b[0mtime_values\u001b[0m\u001b[0;34m,\u001b[0m \u001b[0;34m**\u001b[0m\u001b[0mnum2date_kwargs\u001b[0m\u001b[0;34m)\u001b[0m\u001b[0;34m\u001b[0m\u001b[0;34m\u001b[0m\u001b[0m\n\u001b[0m\u001b[1;32m    574\u001b[0m     \u001b[0;32mtry\u001b[0m\u001b[0;34m:\u001b[0m\u001b[0;34m\u001b[0m\u001b[0;34m\u001b[0m\u001b[0m\n\u001b[1;32m    575\u001b[0m         \u001b[0;31m# We can assume all or none of the dates have a microsecond attribute\u001b[0m\u001b[0;34m\u001b[0m\u001b[0;34m\u001b[0m\u001b[0;34m\u001b[0m\u001b[0m\n",
      "\u001b[0;32msrc/cftime/_cftime.pyx\u001b[0m in \u001b[0;36mcftime._cftime.num2date\u001b[0;34m()\u001b[0m\n",
      "\u001b[0;32m/nfs/a321/gy17m2a/anaconda_install/anaconda3/envs/ukcp18/lib/python3.7/site-packages/numpy/core/_asarray.py\u001b[0m in \u001b[0;36masanyarray\u001b[0;34m(a, dtype, order, like)\u001b[0m\n\u001b[1;32m    108\u001b[0m \u001b[0;34m\u001b[0m\u001b[0m\n\u001b[1;32m    109\u001b[0m \u001b[0;34m\u001b[0m\u001b[0m\n\u001b[0;32m--> 110\u001b[0;31m \u001b[0;34m@\u001b[0m\u001b[0mset_array_function_like_doc\u001b[0m\u001b[0;34m\u001b[0m\u001b[0;34m\u001b[0m\u001b[0m\n\u001b[0m\u001b[1;32m    111\u001b[0m \u001b[0;34m@\u001b[0m\u001b[0mset_module\u001b[0m\u001b[0;34m(\u001b[0m\u001b[0;34m'numpy'\u001b[0m\u001b[0;34m)\u001b[0m\u001b[0;34m\u001b[0m\u001b[0;34m\u001b[0m\u001b[0m\n\u001b[1;32m    112\u001b[0m \u001b[0;32mdef\u001b[0m \u001b[0masanyarray\u001b[0m\u001b[0;34m(\u001b[0m\u001b[0ma\u001b[0m\u001b[0;34m,\u001b[0m \u001b[0mdtype\u001b[0m\u001b[0;34m=\u001b[0m\u001b[0;32mNone\u001b[0m\u001b[0;34m,\u001b[0m \u001b[0morder\u001b[0m\u001b[0;34m=\u001b[0m\u001b[0;32mNone\u001b[0m\u001b[0;34m,\u001b[0m \u001b[0;34m*\u001b[0m\u001b[0;34m,\u001b[0m \u001b[0mlike\u001b[0m\u001b[0;34m=\u001b[0m\u001b[0;32mNone\u001b[0m\u001b[0;34m)\u001b[0m\u001b[0;34m:\u001b[0m\u001b[0;34m\u001b[0m\u001b[0;34m\u001b[0m\u001b[0m\n",
      "\u001b[0;31mKeyboardInterrupt\u001b[0m: "
     ]
    }
   ],
   "source": [
    "##################################################################\n",
    "# This Script:\n",
    "#    - \n",
    "#    -\n",
    "#    -\n",
    "\n",
    "##################################################################\n",
    "import iris\n",
    "import os\n",
    "import glob as sir_globington_the_file_gatherer\n",
    "import datetime as datetime\n",
    "import iris.coord_categorisation as cat\n",
    "import sys\n",
    "import time\n",
    "import multiprocessing as mp\n",
    "import iris.plot as iplt\n",
    "\n",
    "# Set up path to root directory\n",
    "root_fp = \"/nfs/a319/gy17m2a/PhD/\"\n",
    "os.chdir(root_fp)\n",
    "\n",
    "import warnings\n",
    "warnings.simplefilter(action='ignore', category=FutureWarning)\n",
    "from warnings import simplefilter\n",
    "warnings.filterwarnings(\"ignore\", category =UserWarning,)\n",
    "\n",
    "# Create path to files containing functions\n",
    "sys.path.insert(0, root_fp + 'Scripts/GlobalFunctions')\n",
    "from Spatial_plotting_functions import *\n",
    "from Spatial_geometry_functions import *\n",
    "\n",
    "trim_to_leeds = False\n",
    "\n",
    "##################################################################\n",
    "# Load necessary spatial data\n",
    "##################################################################\n",
    "# This is a square area surrounding Leeds\n",
    "uk_gdf = create_uk_outline({'init' :'epsg:3857'})\n",
    "gb_gdf = create_gb_outline({'init' :'epsg:3857'})\n",
    "##################################################################\n",
    "\n",
    "# Constraint to only load \n",
    "in_jja=iris.Constraint(time=lambda cell: 6 <= cell.point.month <= 8)\n",
    "\n",
    "yrs_range = \"2002_2020\"\n",
    "yrs= range(2002,2020)\n",
    "resolution = '2.2km_regridded_12km' #2.2km, 12km, 2.2km_regridded_12km\n",
    "\n",
    "### Establish the ensemble members\n",
    "ems = ['05']#'06', '07', '08', '09', '10', '11', '12', '13', '15']\n",
    "\n",
    "for em in ems:\n",
    "\n",
    "    ddir = f\"ProcessedData/TimeSeries/UKCP18_hourly/{resolution}/{yrs_range}/{em}/\"\n",
    "\n",
    "    print(em, resolution, trim_to_leeds)\n",
    "    for yr in yrs:\n",
    "        print(em, yr)\n",
    "\n",
    "        # ### Get a list of filenames for this ensemble member, for just JJA\n",
    "        if resolution == '2.2km':\n",
    "            general_filename = f'/nfs/a319/gy17m2a/PhD/datadir/UKCP18_hourly/{resolution}/{em}/{yrs_range}/pr_rcp85_land-cpm_uk_2.2km_{em}_1hr_{yr}*'\n",
    "        elif resolution == '12km':\n",
    "              general_filename = f'/nfs/a319/gy17m2a/PhD/datadir/UKCP18_hourly/{resolution}/{em}/{yrs_range}/pr_rcp85_land-rcm_uk_12km_{em}_day_*'\n",
    "        elif resolution == '2.2km_regridded_12km':\n",
    "            general_filename = f'/nfs/a319/gy17m2a/PhD/datadir/UKCP18_hourly/{resolution}/{em}/NearestNeighbour/{yrs_range}/rg_pr_rcp85_land-cpm_uk_2.2km_{em}_1hr_*'\n",
    "\n",
    "        filenames = []\n",
    "        for filename in sir_globington_the_file_gatherer.glob(general_filename):\n",
    "            filenames.append(filename)\n",
    "        print(f\"loading {len(filenames)} files\")\n",
    "\n",
    "        # ### Load in the data\n",
    "        monthly_cubes_list = iris.load(filenames, in_jja)\n",
    "        print(len(monthly_cubes_list))\n",
    "        \n",
    "        for cube in monthly_cubes_list:\n",
    "             for attr in ['creation_date', 'tracking_id', 'history', 'Conventions']:\n",
    "                    if attr in cube.attributes:\n",
    "                        del cube.attributes[attr]\n",
    "\n",
    "        # ### Concatenate cubes into one\n",
    "        model_cube = monthly_cubes_list.concatenate_cube()      \n",
    "\n",
    "        ### Remove ensemble member dimension\n",
    "        model_cube = model_cube[0,:,:,:]\n",
    "        \n",
    "#         # ### Trim to UK\n",
    "#         if resolution  == '2.2km':\n",
    "#             model_cube = trim_to_bbox_of_region_regriddedobs(model_cube, gb_gdf)\n",
    "#         else:\n",
    "#             model_cube = trim_to_bbox_of_region_obs(model_cube, gb_gdf)\n",
    "        \n",
    "#         # ### Get the mask\n",
    "#         print(\"getting mask\")\n",
    "#         if resolution =='2.2km':\n",
    "#             gb_mask = np.load(\"/nfs/a319/gy17m2a/PhD/datadir/UKCP18_2.2km_GB_Mask.npy\")\n",
    "#         else:\n",
    "#             gb_mask = np.load(\"/nfs/a319/gy17m2a/PhD/datadir/UKCP18_12km_GB_Mask.npy\")\n",
    "#         masked_cube_data = model_cube * gb_mask[np.newaxis, :, :]\n",
    "\n",
    "#         # APPLY THE MASK\n",
    "#         reshaped_mask = np.tile(gb_mask, (model_cube.shape[0], 1, 1))\n",
    "#         reshaped_mask = reshaped_mask.astype(int)\n",
    "#         reversed_array = ~reshaped_mask.astype(bool)\n",
    "\n",
    "#         # Mask the cube\n",
    "#         masked_cube = iris.util.mask_cube(model_cube, reversed_array)\n",
    "\n",
    "#         # ### Check the mask\n",
    "#         # iplt.contourf(masked_cube[10])\n",
    "#         # plt.gca().coastlines(resolution='10m', color='black', linewidth=0.5);\n",
    "\n",
    "#         # Save\n",
    "#         iris.save(masked_cube, ddir + f'{yr}_maskedcube.nc')      \n",
    "        \n",
    "#         # Check the plotting\n",
    "#         # iplt.contourf(masked_cube[10])\n",
    "#         # plt.gca().coastlines(resolution='10m', color='black', linewidth=0.5);\n",
    "\n",
    "#         # Get rid of negative values\n",
    "#         compressed = masked_cube.data.compressed()\n",
    "#         compressed.shape[0]\n",
    "\n",
    "#         ########\n",
    "#         # Get the times\n",
    "#         ########\n",
    "#         # Step 2: Get the indices of the non-masked values in the original data\n",
    "#         non_masked_indices = np.where(~masked_cube.data.mask)\n",
    "\n",
    "#         # Step 3: Extract corresponding time values\n",
    "#         # time_values = masked_cube.coord('time').points[non_masked_indices[0]]\n",
    "\n",
    "#         # Save to file\n",
    "#         # np.save(ddir + f'timevalues_{yr}.npy', time_values) \n",
    "#         np.save(ddir + f'compressed_{yr}.npy', compressed) \n",
    "\n",
    "# time_values = masked_cube.coord('yyyymmddhh').points[non_masked_indices[0]]\n",
    "# np.save(f\"ProcessedData/TimeSeries/UKCP18_hourly/{resolution}/{yrs_range}/timevalues.npy\", time_values)"
   ]
  },
  {
   "cell_type": "code",
   "execution_count": null,
   "id": "135576b8",
   "metadata": {},
   "outputs": [],
   "source": []
  },
  {
   "cell_type": "code",
   "execution_count": null,
   "id": "b930974d",
   "metadata": {},
   "outputs": [],
   "source": [
    "import numpy as np\n",
    "from matplotlib import pyplot as plt\n",
    "bins = 8\n",
    "bins_i_want = [0.1, 3, 7, 10,15, 21, 35,45, 62]\n",
    "plt.rcParams[\"figure.figsize\"] = [7.50, 3.50]\n",
    "plt.rcParams[\"figure.autolayout\"] = True\n",
    "\n",
    "data = np.load('/nfs/a319/gy17m2a/PhD/ProcessedData/TimeSeries/UKCP18_hourly/2.2km_regridded_12km/1980_2001/15/compressed_2000.npy')\n",
    "data = data[~np.isnan(data)]\n",
    "data = data[data >= 0.1]\n",
    "count, bins_count = np.histogram(data, bins=bins_i_want)\n",
    "pdf = count / sum(count)\n",
    "cdf = np.cumsum(pdf)\n",
    "reverse_cdf = 1-cdf\n",
    "plt.plot(bins_count[1:], reverse_cdf, label=\"Model\")\n",
    "\n",
    "\n",
    "data = np.load('/nfs/a319/gy17m2a/PhD/ProcessedData/TimeSeries/CEH-GEAR/12km/NearestNeighbour/2000_compressed.npy')\n",
    "data = data[~np.isnan(data)]\n",
    "data = data[data >= 0.1]\n",
    "count, bins_count = np.histogram(data, bins=bins_i_want)\n",
    "pdf = count / sum(count)\n",
    "cdf = np.cumsum(pdf)\n",
    "reverse_cdf = 1-cdf\n",
    "plt.plot(bins_count[1:], reverse_cdf, label=\"Obs\")\n",
    "\n",
    "\n",
    "plt.legend()\n",
    "plt.yscale('log')\n",
    "plt.show()"
   ]
  },
  {
   "cell_type": "code",
   "execution_count": 64,
   "id": "84fecdb1",
   "metadata": {},
   "outputs": [
    {
     "data": {
      "text/plain": [
       "1.0713842"
      ]
     },
     "execution_count": 64,
     "metadata": {},
     "output_type": "execute_result"
    }
   ],
   "source": [
    "data = model_cube.data\n",
    "data = data[~np.isnan(data)]\n",
    "data = data[data >= 0.1]\n",
    "np.nanmean(data)"
   ]
  },
  {
   "cell_type": "code",
   "execution_count": 100,
   "id": "8b43da54",
   "metadata": {},
   "outputs": [
    {
     "data": {
      "image/png": "[encoded data removed]",
      "text/plain": [
       "<Figure size 432x288 with 1 Axes>"
      ]
     },
     "metadata": {
      "needs_background": "light"
     },
     "output_type": "display_data"
    }
   ],
   "source": [
    "bins_i_want  =  [0.5, 3, 7, 10,15, 21, 35,45, 62]\n",
    "data = data[~np.isnan(data)]\n",
    "data = data[data >= 0.1]\n",
    "count, bins_count = np.histogram(data, bins=bins_i_want)\n",
    "pdf = count / sum(count)\n",
    "cdf = np.cumsum(pdf)\n",
    "reverse_cdf = 1-cdf\n",
    "plt.plot(bins_count[1:], reverse_cdf, label=\"Model\")\n",
    "\n",
    "obs_data = np.load('/nfs/a319/gy17m2a/PhD/ProcessedData/TimeSeries/CEH-GEAR/12km/NearestNeighbour/2000_compressed.npy')\n",
    "obs_data = obs_data[~np.isnan(obs_data)]\n",
    "obs_data = obs_data[obs_data >= 0.1]\n",
    "count, bins_count = np.histogram(obs_data, bins=bins_i_want)\n",
    "pdf = count / sum(count)\n",
    "cdf = np.cumsum(pdf)\n",
    "reverse_cdf = 1-cdf\n",
    "plt.plot(bins_count[1:], reverse_cdf, label=\"Obs\")\n",
    "\n",
    "plt.legend()\n",
    "plt.yscale('log')\n",
    "plt.show()"
   ]
  },
  {
   "cell_type": "code",
   "execution_count": 108,
   "id": "4b4f06ad",
   "metadata": {},
   "outputs": [
    {
     "data": {
      "text/plain": [
       "338078"
      ]
     },
     "execution_count": 108,
     "metadata": {},
     "output_type": "execute_result"
    }
   ],
   "source": [
    "obs_data = np.load('/nfs/a319/gy17m2a/PhD/ProcessedData/TimeSeries/CEH-GEAR/12km/NearestNeighbour/2000_compressed.npy')\n",
    "obs_data = obs_data[~np.isnan(obs_data)]\n",
    "obs_data = obs_data[obs_data >= 0.1]\n",
    "len(obs_data)"
   ]
  },
  {
   "cell_type": "code",
   "execution_count": 116,
   "id": "6c075949",
   "metadata": {},
   "outputs": [
    {
     "data": {
      "text/plain": [
       "338078"
      ]
     },
     "execution_count": 116,
     "metadata": {},
     "output_type": "execute_result"
    }
   ],
   "source": [
    "bins_i_want  =  [0.05, 3, 7, 10,15, 21, 35,45, 62, 78]\n",
    "count, bins_count = np.histogram(obs_data, bins=bins_i_want)\n",
    "count.sum()"
   ]
  },
  {
   "cell_type": "code",
   "execution_count": 118,
   "id": "65d796b7",
   "metadata": {},
   "outputs": [
    {
     "data": {
      "text/plain": [
       "33144134"
      ]
     },
     "execution_count": 118,
     "metadata": {},
     "output_type": "execute_result"
    }
   ],
   "source": [
    "data = data[~np.isnan(data)]\n",
    "data = data[data >= 0.1]\n",
    "count, bins_count = np.histogram(data, bins=bins_i_want)\n",
    "pdf = count / sum(count)\n",
    "cdf = np.cumsum(pdf)\n",
    "ax.plot(bins_count[1:], cdf, label=\"Model\")\n",
    "count.sum()"
   ]
  },
  {
   "cell_type": "code",
   "execution_count": 119,
   "id": "e899888c",
   "metadata": {},
   "outputs": [
    {
     "data": {
      "text/plain": [
       "33144213"
      ]
     },
     "execution_count": 119,
     "metadata": {},
     "output_type": "execute_result"
    }
   ],
   "source": [
    "len(data)"
   ]
  },
  {
   "cell_type": "code",
   "execution_count": 117,
   "id": "9ffa6fa6",
   "metadata": {},
   "outputs": [
    {
     "data": {
      "image/png": "[encoded data removed]",
      "text/plain": [
       "<Figure size 864x288 with 1 Axes>"
      ]
     },
     "metadata": {
      "needs_background": "light"
     },
     "output_type": "display_data"
    }
   ],
   "source": [
    "import matplotlib.ticker as ticker\n",
    "bins_i_want  =  [0.05, 3, 7, 10,15, 21, 35,45, 62, 78]\n",
    "\n",
    "fig, ax = plt.subplots(figsize=(12,4))\n",
    "\n",
    "data = data[~np.isnan(data)]\n",
    "data = data[data >= 0.1]\n",
    "count, bins_count = np.histogram(data, bins=bins_i_want)\n",
    "pdf = count / sum(count)\n",
    "cdf = np.cumsum(pdf)\n",
    "ax.plot(bins_count[1:], cdf, label=\"Model\")\n",
    "\n",
    "obs_data = np.load('/nfs/a319/gy17m2a/PhD/ProcessedData/TimeSeries/CEH-GEAR/12km/NearestNeighbour/2000_compressed.npy')\n",
    "obs_data = obs_data[~np.isnan(obs_data)]\n",
    "obs_data = obs_data[obs_data >= 0.1]\n",
    "count, bins_count = np.histogram(obs_data, bins=bins_i_want)\n",
    "pdf = count / sum(count)\n",
    "cdf = np.cumsum(pdf)\n",
    "ax.plot(bins_count[1:], cdf, label=\"Obs\")\n",
    "\n",
    "ax.legend()\n",
    "# ax.set_yscale('log')\n",
    "\n",
    "ax.yaxis.set_major_formatter(ticker.ScalarFormatter(useMathText=False))\n",
    "# ax.get_yaxis().set_major_formatter(\n",
    "#     matplotlib.ticker.FuncFormatter(lambda x, p: format(int(x), ',')))\n"
   ]
  },
  {
   "cell_type": "code",
   "execution_count": 98,
   "id": "090bf428",
   "metadata": {},
   "outputs": [
    {
     "data": {
      "image/png": "[encoded data removed]",
      "text/plain": [
       "<Figure size 864x288 with 1 Axes>"
      ]
     },
     "metadata": {
      "needs_background": "light"
     },
     "output_type": "display_data"
    }
   ],
   "source": [
    "import matplotlib.ticker as ticker\n",
    "bins_i_want  =  [0.5, 3, 7, 10,15, 21, 35,45, 62]\n",
    "\n",
    "fig, ax = plt.subplots(figsize=(12,4))\n",
    "\n",
    "data = data[~np.isnan(data)]\n",
    "data = data[data >= 0.1]\n",
    "count, bins_count = np.histogram(data, bins=bins_i_want)\n",
    "pdf = count / sum(count)\n",
    "cdf = np.cumsum(pdf)\n",
    "reverse_cdf = 1-cdf\n",
    "ax.plot(bins_count[1:], cdf, label=\"Model\")\n",
    "\n",
    "obs_data = np.load('/nfs/a319/gy17m2a/PhD/ProcessedData/TimeSeries/CEH-GEAR/12km/NearestNeighbour/2000_compressed.npy')\n",
    "obs_data = obs_data[~np.isnan(obs_data)]\n",
    "obs_data = obs_data[obs_data >= 0.1]\n",
    "count, bins_count = np.histogram(obs_data, bins=bins_i_want)\n",
    "pdf = count / sum(count)\n",
    "cdf = np.cumsum(pdf)\n",
    "reverse_cdf = 1-cdf\n",
    "ax.plot(bins_count[1:], cdf, label=\"Obs\")\n",
    "\n",
    "ax.legend()\n",
    "# ax.set_yscale('log')\n",
    "\n",
    "ax.yaxis.set_major_formatter(ticker.ScalarFormatter(useMathText=False))\n",
    "ax.yaxis.set_major_locator(ticker.LogLocator(numticks=15))\n",
    "# ax.get_yaxis().set_major_formatter(\n",
    "#     matplotlib.ticker.FuncFormatter(lambda x, p: format(int(x), ',')))"
   ]
  },
  {
   "cell_type": "markdown",
   "id": "840d31ce",
   "metadata": {},
   "source": [
    "## Testing starts here"
   ]
  },
  {
   "cell_type": "markdown",
   "id": "2708b3d9",
   "metadata": {},
   "source": [
    "### Check if one year of data in CEH-GEAR and one ensemble member has a similar amount of data\n",
    "Model data is much longer  \n",
    "Model data doesnt have any NANs in it  \n",
    "Obs data only has a few  "
   ]
  },
  {
   "cell_type": "code",
   "execution_count": 166,
   "id": "82ae3d7b",
   "metadata": {},
   "outputs": [
    {
     "name": "stdout",
     "output_type": "stream",
     "text": [
      "3473280\n",
      "3473280\n",
      "275523\n",
      "91.722946\n",
      "1.437498\n",
      "0.10000127\n"
     ]
    }
   ],
   "source": [
    "# Model data for one ensemble member, in one year\n",
    "model_data= np.load('/nfs/a319/gy17m2a/PhD/ProcessedData/TimeSeries/UKCP18_hourly/2.2km_regridded_12km/1980_2001/15/compressed_2000.npy')\n",
    "print(len(model_data))\n",
    "model_data = model_data[~np.isnan(model_data)]\n",
    "print(len(model_data))\n",
    "model_data = model_data[model_data >= 0.1]\n",
    "print(len(model_data))\n",
    "print(np.nanmax(model_data))\n",
    "print(np.nanmean(model_data))\n",
    "print(np.nanmin(model_data))"
   ]
  },
  {
   "cell_type": "code",
   "execution_count": 167,
   "id": "889a706a",
   "metadata": {},
   "outputs": [
    {
     "name": "stdout",
     "output_type": "stream",
     "text": [
      "3550464\n",
      "3543840\n",
      "338078\n",
      "32.2\n",
      "0.9537066\n",
      "0.1\n"
     ]
    }
   ],
   "source": [
    "obs_data = np.load('/nfs/a319/gy17m2a/PhD/ProcessedData/TimeSeries/CEH-GEAR/12km/NearestNeighbour/2000_compressed.npy')\n",
    "print(len(obs_data))\n",
    "obs_data = obs_data[~np.isnan(obs_data)]\n",
    "print(len(obs_data))\n",
    "obs_data = obs_data[obs_data >= 0.1]\n",
    "print(len(obs_data))\n",
    "print(np.nanmax(obs_data))\n",
    "print(np.nanmean(obs_data))\n",
    "print(np.nanmin(obs_data))"
   ]
  },
  {
   "cell_type": "markdown",
   "id": "45c7b491",
   "metadata": {},
   "source": [
    "### Why does CEH-GEAR still have nans in it after processsing"
   ]
  },
  {
   "cell_type": "code",
   "execution_count": null,
   "id": "ec83428a",
   "metadata": {},
   "outputs": [],
   "source": []
  },
  {
   "cell_type": "code",
   "execution_count": 175,
   "id": "89811e9e",
   "metadata": {},
   "outputs": [
    {
     "data": {
      "text/plain": [
       "275517"
      ]
     },
     "execution_count": 175,
     "metadata": {},
     "output_type": "execute_result"
    }
   ],
   "source": [
    "obs_count.sum()\n",
    "model_count.sum()\n",
    "\n",
    "275517\n",
    "338078"
   ]
  },
  {
   "cell_type": "code",
   "execution_count": 197,
   "id": "3cd33371",
   "metadata": {},
   "outputs": [
    {
     "data": {
      "image/png": "[encoded data removed]",
      "text/plain": [
       "<Figure size 864x288 with 1 Axes>"
      ]
     },
     "metadata": {
      "needs_background": "light"
     },
     "output_type": "display_data"
    }
   ],
   "source": [
    "import matplotlib.ticker as ticker\n",
    "bins_i_want  =  [0, 0.05, 0.1, 3, 7, 10,15, 21, 35,45, 62, 78]\n",
    "\n",
    "fig, ax = plt.subplots(figsize=(12,4))\n",
    "# model_data =model_data[~np.isnan(model_data)]\n",
    "model_data = model_data[model_data >= 0.1]\n",
    "model_count, bins_count = np.histogram(model_data, bins=bins_i_want)\n",
    "model_pdf = model_count / sum(model_count)\n",
    "model_cdf = np.cumsum(model_pdf)\n",
    "ax.plot(bins_count[1:], model_cdf, label=\"Model\")\n",
    "\n",
    "# obs_data = obs_data[~np.isnan(obs_data)]\n",
    "obs_data = obs_data[obs_data >= 0.1]\n",
    "obs_count, bins_count = np.histogram(obs_data, bins=bins_i_want)\n",
    "obs_pdf = obs_count / sum(obs_count)\n",
    "obs_cdf = np.cumsum(obs_pdf)\n",
    "ax.plot(bins_count[1:], obs_cdf, label=\"Obs\")\n",
    "\n",
    "ax.legend()\n",
    "# ax.set_yscale('log')\n",
    "\n",
    "ax.yaxis.set_major_formatter(ticker.ScalarFormatter(useMathText=False))\n",
    "# ax.get_yaxis().set_major_formatter(\n",
    "#     matplotlib.ticker.FuncFormatter(lambda x, p: format(int(x), ',')))\n"
   ]
  },
  {
   "cell_type": "code",
   "execution_count": 196,
   "id": "bb7a9631",
   "metadata": {},
   "outputs": [
    {
     "data": {
      "image/png": "[encoded data removed]",
      "text/plain": [
       "<Figure size 864x288 with 1 Axes>"
      ]
     },
     "metadata": {
      "needs_background": "light"
     },
     "output_type": "display_data"
    }
   ],
   "source": [
    "import matplotlib.ticker as ticker\n",
    "bins_i_want  =  [0, 0.05, 0.1, 0.5,2, 3, 7, 10,15, 21, 35,45, 62, 78]\n",
    "\n",
    "fig, ax = plt.subplots(figsize=(12,4))\n",
    "# model_data =model_data[~np.isnan(model_data)]\n",
    "model_data = model_data[model_data >= 0.1]\n",
    "model_count, bins_count = np.histogram(model_data, bins=bins_i_want)\n",
    "model_pdf = model_count / sum(model_count)\n",
    "model_cdf = np.cumsum(model_pdf)\n",
    "model_reversed_cdf = 1 - model_cdf\n",
    "ax.plot(bins_count[1:], model_reversed_cdf, label=\"Model\")\n",
    "\n",
    "# obs_data = obs_data[~np.isnan(obs_data)]\n",
    "obs_data = obs_data[obs_data >= 0.1]\n",
    "obs_count, bins_count = np.histogram(obs_data, bins=bins_i_want)\n",
    "obs_pdf = obs_count / sum(obs_count)\n",
    "obs_cdf = np.cumsum(obs_pdf)\n",
    "obs_reversed_cdf = 1 - obs_cdf\n",
    "ax.plot(bins_count[1:], obs_reversed_cdf, label=\"Obs\")\n",
    "\n",
    "ax.legend()\n",
    "ax.set_yscale('log')\n",
    "\n",
    "# ax.yaxis.set_major_formatter(ticker.ScalarFormatter(useMathText=False))\n",
    "ax.get_yaxis().set_major_formatter(\n",
    "    ticker.FuncFormatter(lambda x, p: format(x, '.3f')))"
   ]
  }
 ],
 "metadata": {
  "kernelspec": {
   "display_name": "Python 3 (ipykernel)",
   "language": "python",
   "name": "python3"
  },
  "language_info": {
   "codemirror_mode": {
    "name": "ipython",
    "version": 3
   },
   "file_extension": ".py",
   "mimetype": "text/x-python",
   "name": "python",
   "nbconvert_exporter": "python",
   "pygments_lexer": "ipython3",
   "version": "3.7.13"
  }
 },
 "nbformat": 4,
 "nbformat_minor": 5
}
