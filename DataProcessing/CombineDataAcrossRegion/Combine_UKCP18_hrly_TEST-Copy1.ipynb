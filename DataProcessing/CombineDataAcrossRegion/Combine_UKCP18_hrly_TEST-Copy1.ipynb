{
 "cells": [
  {
   "cell_type": "markdown",
   "id": "aaeb64b9",
   "metadata": {},
   "source": [
    "Testing:\n",
    "- Did I do the trimming to UK mask thing?"
   ]
  },
  {
   "cell_type": "code",
   "execution_count": 1,
   "id": "255d4fdc",
   "metadata": {},
   "outputs": [],
   "source": [
    "import iris\n",
    "import os\n",
    "import glob as sir_globington_the_file_gatherer\n",
    "import datetime as datetime\n",
    "import iris.coord_categorisation as cat\n",
    "import sys\n",
    "import time\n",
    "import multiprocessing as mp\n",
    "import iris.plot as iplt\n",
    "\n",
    "# Set up path to root directory\n",
    "root_fp = \"/nfs/a319/gy17m2a/PhD/\"\n",
    "os.chdir(root_fp)\n",
    "\n",
    "import warnings\n",
    "warnings.simplefilter(action='ignore', category=FutureWarning)\n",
    "from warnings import simplefilter\n",
    "# ignore all future warnings\n",
    "simplefilter(action='ignore', category=FutureWarning)\n",
    "\n",
    "# Create path to files containing functions\n",
    "sys.path.insert(0, root_fp + 'Scripts/GlobalFunctions')\n",
    "from Spatial_plotting_functions import *\n",
    "from Spatial_geometry_functions import *\n",
    "\n",
    "trim_to_leeds = False\n",
    "\n",
    "##################################################################\n",
    "# Load necessary spatial data\n",
    "##################################################################\n",
    "# This is a square area surrounding Leeds\n",
    "leeds_at_centre_gdf = create_leeds_at_centre_outline({'init' :'epsg:3857'})\n",
    "uk_gdf = create_uk_outline({'init' :'epsg:3857'})\n",
    "##################################################################\n",
    "\n",
    "# Constraint to only load JJA data\n",
    "in_jja=iris.Constraint(time=lambda cell: 6 <= cell.point.month <= 8)\n"
   ]
  },
  {
   "cell_type": "code",
   "execution_count": 2,
   "id": "552d7781",
   "metadata": {},
   "outputs": [],
   "source": [
    "### Establish the ensemble members\n",
    "ems = ['01', '04', '05', '06', '07', '08', '09', '10', '11', '12', '13', '15']\n",
    "em = '01'\n"
   ]
  },
  {
   "cell_type": "code",
   "execution_count": 3,
   "id": "6378f553",
   "metadata": {},
   "outputs": [
    {
     "name": "stdout",
     "output_type": "stream",
     "text": [
      "01 2.2km False\n"
     ]
    },
    {
     "data": {
      "text/plain": [
       "'/nfs/a319/gy17m2a/PhD/datadir/UKCP18_hourly/2.2km/01/1980_2001/pr_rcp85_land-cpm_uk_2.2km_01_1hr_*'"
      ]
     },
     "execution_count": 3,
     "metadata": {},
     "output_type": "execute_result"
    }
   ],
   "source": [
    "yrs_range = \"1980_2001\"\n",
    "resolution = '2.2km' #2.2km, 12km, 2.2km_regridded_12km\n",
    "ddir = f\"ProcessedData/TimeSeries/UKCP18_hourly/{resolution}/{yrs_range}/leeds-at-centre/{em}/\"\n",
    "\n",
    "print(em, resolution, trim_to_leeds)\n",
    "\n",
    "# ### Get a list of filenames for this ensemble member, for just JJA\n",
    "if resolution == '2.2km':\n",
    "    general_filename = f'/nfs/a319/gy17m2a/PhD/datadir/UKCP18_hourly/{resolution}/{em}/{yrs_range}/pr_rcp85_land-cpm_uk_2.2km_{em}_1hr_*'\n",
    "elif resolution == '12km':\n",
    "      general_filename = f'/nfs/a319/gy17m2a/PhD/datadir/UKCP18_hourly/{resolution}/{em}/{yrs_range}/pr_rcp85_land-rcm_uk_12km_{em}_day_*'\n",
    "elif resolution == '2.2km_regridded_12km':\n",
    "    general_filename = f'/nfs/a319/gy17m2a/PhD/datadir/UKCP18_hourly/{resolution}/{em}/NearestNeighbour/{yrs_range}/rg_pr_rcp85_land-cpm_uk_2.2km_{em}_1hr_*'\n",
    "general_filename"
   ]
  },
  {
   "cell_type": "code",
   "execution_count": null,
   "id": "acb5363b",
   "metadata": {},
   "outputs": [],
   "source": [
    "\n",
    "filenames = []\n",
    "for filename in sir_globington_the_file_gatherer.glob(general_filename):\n",
    "    filenames.append(filename)\n",
    "print(len(filenames))\n",
    "\n",
    "# ### Load in the data\n",
    "monthly_cubes_list = iris.load(filenames, in_jja)\n",
    "\n",
    "for cube in monthly_cubes_list:\n",
    "     for attr in ['creation_date', 'tracking_id', 'history', 'Conventions']:\n",
    "            if attr in cube.attributes:\n",
    "                del cube.attributes[attr]\n",
    "\n",
    "# ### Concatenate cubes into one\n",
    "model_cube = monthly_cubes_list.concatenate_cube()      \n",
    "\n",
    "### Remove ensemble member dimension\n",
    "model_cube = model_cube[0,:,:,:]"
   ]
  },
  {
   "cell_type": "code",
   "execution_count": null,
   "id": "a4881118",
   "metadata": {},
   "outputs": [],
   "source": [
    "### Remove ensemble member dimension\n",
    "model_cube = model_cube[0,:,:,:]"
   ]
  },
  {
   "cell_type": "code",
   "execution_count": null,
   "id": "ae107a50",
   "metadata": {},
   "outputs": [],
   "source": [
    "cube_jja_uk = trim_to_bbox_of_region_regriddedobs(model_cube, uk_gdf)\n",
    "\n",
    "iplt.contourf(cube_jja_uk[10])\n",
    "plt.gca().coastlines(resolution='10m', color='black', linewidth=0.5);"
   ]
  },
  {
   "cell_type": "code",
   "execution_count": null,
   "id": "52ff63b1",
   "metadata": {},
   "outputs": [],
   "source": [
    "print(\"getting mask\")\n",
    "lsm = iris.load(\"/nfs/a319/gy17m2a/PhD/datadir/lsm_land-cpm_BI_5km.nc\")\n",
    "lsm = lsm[0]\n",
    "lsm_nn =lsm.regrid(cube_jja_uk, iris.analysis.Nearest())   "
   ]
  },
  {
   "cell_type": "code",
   "execution_count": null,
   "id": "e81d1de3",
   "metadata": {},
   "outputs": [],
   "source": [
    "# Convert to shape of cube\n",
    "broadcasted_lsm_data = np.broadcast_to(lsm_nn.data.data, cube_jja_uk.shape)\n",
    "# # Convert to integer\n",
    "# broadcasted_lsm_data_int = broadcasted_lsm_data.astype(int)\n",
    "# Reverse the array (it is the opposite way round to the exisitng val/no val mask on the radar data)\n",
    "reversed_array = ~broadcasted_lsm_data.astype(bool)"
   ]
  },
  {
   "cell_type": "code",
   "execution_count": null,
   "id": "7cd171e5",
   "metadata": {},
   "outputs": [],
   "source": [
    "land_mask = np.where(lsm_nn.data > 0, True, False)\n",
    "broadcasted_lsm_data = np.broadcast_to(land_mask, cube_jja_uk.shape)\n",
    "lsm_cube = cube_jja_uk.copy(data=broadcasted_lsm_data)\n",
    "\n",
    "masked_cube = iris.util.mask_cube(cube_jja_uk, reversed_array)"
   ]
  },
  {
   "cell_type": "code",
   "execution_count": null,
   "id": "59ebe5df",
   "metadata": {},
   "outputs": [],
   "source": [
    "iplt.contourf(masked_cube[0])\n",
    "plt.gca().coastlines(resolution='10m', color='black', linewidth=0.5);"
   ]
  },
  {
   "cell_type": "code",
   "execution_count": null,
   "id": "8a01db8a",
   "metadata": {},
   "outputs": [],
   "source": [
    "ddir + f'maskedcube.nc'\n",
    "iris.save(masked_cube, ddir + f'maskedcube.nc')"
   ]
  },
  {
   "cell_type": "code",
   "execution_count": null,
   "id": "9660921b",
   "metadata": {},
   "outputs": [],
   "source": [
    "print(f\"Min value is {np.nanmin(masked_cube.data)}\")"
   ]
  },
  {
   "cell_type": "code",
   "execution_count": null,
   "id": "e530926d",
   "metadata": {},
   "outputs": [],
   "source": [
    "# Get rid of negative values\n",
    "compressed = masked_cube.data.compressed()\n",
    "compressed.shape[0]\n",
    "np.save(ddir + f'compressed.npy', compressed) "
   ]
  },
  {
   "cell_type": "code",
   "execution_count": null,
   "id": "f87c878a",
   "metadata": {},
   "outputs": [],
   "source": [
    "################################################################\n",
    "# Cut the cube to the extent of GDF surrounding Leeds  \n",
    "################################################################\n",
    "print('trimming cube')\n",
    "if trim_to_leeds == True:\n",
    "    if resolution == '2.2km':\n",
    "        model_cube = trim_to_bbox_of_region_regriddedobs(model_cube, leeds_at_centre_gdf)\n",
    "    else:\n",
    "        model_cube = trim_to_bbox_of_region_obs(model_cube, leeds_at_centre_gdf)\n",
    "else:\n",
    "    if resolution == '2.2km':\n",
    "        model_cube = trim_to_bbox_of_region_regriddedobs(model_cube, uk_gdf)\n",
    "    else:\n",
    "        model_cube = trim_to_bbox_of_region_obs(model_cube, uk_gdf)\n",
    "\n",
    "\n",
    "\n",
    "# Can't remember what this is for?\n",
    "year_filter = lambda cell: cell < 2002\n",
    "model_cube = model_cube.extract(iris.Constraint(year=year_filter))\n",
    "\n",
    "################################################################\n",
    "# Once across all ensemble members, save a numpy array storing\n",
    "# the timestamps to which the data refer\n",
    "################################################################  \n",
    "### Get associated times\n",
    "if resolution in ['2.2km', '2.2km_regridded_12km']:\n",
    "    times = model_cube.coord('yyyymmddhh').points   \n",
    "    times = [datetime.datetime.strptime(x, \"%Y%m%d%H\") for x in times]\n",
    "    #print(model_cube_jja.coord('yyyymmddhh'))\n",
    "    print(len(times))\n",
    "elif resolution == '12km':\n",
    "    time_var = 'yyyymmdd'   \n",
    "    times = model_cube.coord('yyyymmdd').points  \n",
    "    times = [datetime.datetime.strptime(x, \"%Y%m%d\") for x in times]\n",
    "    # print(model_cube_jja.coord('yyyymmdd'))\n",
    "    print(len(times))\n",
    "np.save(f\"ProcessedData/TimeSeries/UKCP18_hourly/{resolution}/{yrs_range}/timestamps.npy\", times) \n",
    "\n",
    "################################################################\n",
    "# Get mask and regrid to the model cube\n",
    "################################################################  \n",
    "if trim_to_leeds == False:\n",
    "    print(\"getting mask\")\n",
    "    monthly_cubes_list = iris.load(\"/nfs/a319/gy17m2a/PhD/datadir/lsm_land-cpm_BI_5km.nc\")\n",
    "    lsm = monthly_cubes_list[0]\n",
    "    lsm_nn =lsm.regrid(model_cube, iris.analysis.Nearest())   \n",
    "\n",
    "    # Save it in 1D form\n",
    "    mask = lsm_nn.data.data.reshape(-1)\n",
    "    np.save(ddir + \"lsm.npy\", mask) \n",
    "\n",
    "################################################################\n",
    "# Get data as array\n",
    "################################################################      \n",
    "start = time.time()\n",
    "data = model_cube.data.data\n",
    "end= time.time()\n",
    "print(f\"Time taken to load cube {round((end-start)/60,1)} minutes\" )    \n",
    "\n",
    "start = time.time()\n",
    "flattened_data = data.flatten()\n",
    "end= time.time()\n",
    "print(f\"Time taken to flatten cube {round((end-start)/60,1)} minutes\" )\n",
    "\n",
    "### Save as numpy array\n",
    "print(\"saving data\")\n",
    "if trim_to_leeds == True:\n",
    "    np.save(ddir + \"leeds-at-centre_jja.npy\", flattened_data)   \n",
    "else:\n",
    "    np.save(ddir + \"uk_jja.npy\", flattened_data) \n",
    "print(\"saved data\")\n"
   ]
  }
 ],
 "metadata": {
  "kernelspec": {
   "display_name": "Python 3 (ipykernel)",
   "language": "python",
   "name": "python3"
  },
  "language_info": {
   "codemirror_mode": {
    "name": "ipython",
    "version": 3
   },
   "file_extension": ".py",
   "mimetype": "text/x-python",
   "name": "python",
   "nbconvert_exporter": "python",
   "pygments_lexer": "ipython3",
   "version": "3.7.13"
  }
 },
 "nbformat": 4,
 "nbformat_minor": 5
}
