{
 "cells": [
  {
   "cell_type": "code",
   "execution_count": 1,
   "id": "5181f56b",
   "metadata": {},
   "outputs": [],
   "source": [
    "import iris\n",
    "import os\n",
    "import glob\n",
    "import datetime as datetime\n",
    "import iris.coord_categorisation as cat\n",
    "\n",
    "# Set up path to root directory\n",
    "root_fp = \"/nfs/a319/gy17m2a/PhD/\"\n",
    "os.chdir(root_fp)\n",
    "\n",
    "import warnings\n",
    "warnings.simplefilter(action='ignore', category=FutureWarning)\n",
    "from warnings import simplefilter\n",
    "# ignore all future warnings\n",
    "simplefilter(action='ignore', category=FutureWarning)"
   ]
  },
  {
   "cell_type": "markdown",
   "id": "7edd3c84",
   "metadata": {},
   "source": [
    "### Establish the ensemble member"
   ]
  },
  {
   "cell_type": "code",
   "execution_count": 2,
   "id": "db717e79",
   "metadata": {},
   "outputs": [],
   "source": [
    "em = 'bc005'\n",
    "yrs_range = \"2000-2020\""
   ]
  },
  {
   "cell_type": "markdown",
   "id": "7cc6ccc4",
   "metadata": {},
   "source": [
    "### Get a list of filenames for this ensemble member, for just JJA"
   ]
  },
  {
   "cell_type": "code",
   "execution_count": 3,
   "id": "3f019b97",
   "metadata": {},
   "outputs": [
    {
     "data": {
      "text/plain": [
       "6827"
      ]
     },
     "execution_count": 3,
     "metadata": {},
     "output_type": "execute_result"
    }
   ],
   "source": [
    "general_filename = f'datadir/UKCP18_30mins/{em}/{em}a.pr*.pp'\n",
    "filenames = []\n",
    "for filename in glob.glob(general_filename):\n",
    "    filenames.append(filename)\n",
    "len(filenames)"
   ]
  },
  {
   "cell_type": "code",
   "execution_count": 301,
   "id": "8e369749",
   "metadata": {},
   "outputs": [],
   "source": [
    "# all_cube_list =iris.load(filenames)"
   ]
  },
  {
   "cell_type": "code",
   "execution_count": 5,
   "id": "93bc8884",
   "metadata": {},
   "outputs": [
    {
     "data": {
      "text/plain": [
       "90"
      ]
     },
     "execution_count": 5,
     "metadata": {},
     "output_type": "execute_result"
    }
   ],
   "source": [
    "general_filename = f'datadir/UKCP18_30mins/{em}/{em}a.pr*.pp'\n",
    "one_jja_filenames = []\n",
    "for filename in glob.glob(general_filename):\n",
    "    if filename[37:41] == '2000':\n",
    "        if filename[41:43] in ['06', '07', '08']:\n",
    "    #print(filename)\n",
    "            one_jja_filenames.append(filename)\n",
    "one_jja_filenames.sort()      \n",
    "len(one_jja_filenames)"
   ]
  },
  {
   "cell_type": "markdown",
   "id": "64f55233",
   "metadata": {},
   "source": [
    "### Get a list of filenames for this ensemble member, for one year"
   ]
  },
  {
   "cell_type": "code",
   "execution_count": 6,
   "id": "8b0519d6",
   "metadata": {},
   "outputs": [
    {
     "data": {
      "text/plain": [
       "270"
      ]
     },
     "execution_count": 6,
     "metadata": {},
     "output_type": "execute_result"
    }
   ],
   "source": [
    "general_filename = f'datadir/UKCP18_30mins/{em}/{em}a.pr*.pp'\n",
    "one_yr_filenames = []\n",
    "for filename in glob.glob(general_filename):\n",
    "    if filename[37:41] == '2001':\n",
    "    #print(filename)\n",
    "        one_yr_filenames.append(filename)\n",
    "one_yr_filenames.sort()      \n",
    "len(one_yr_filenames)"
   ]
  },
  {
   "cell_type": "markdown",
   "id": "0667edab",
   "metadata": {},
   "source": [
    "### Load in this data"
   ]
  },
  {
   "cell_type": "code",
   "execution_count": 7,
   "id": "b9455a23",
   "metadata": {},
   "outputs": [
    {
     "name": "stderr",
     "output_type": "stream",
     "text": [
      "/nfs/a321/gy17m2a/anaconda_install/anaconda3/envs/pygeospatial/lib/python3.9/site-packages/iris/fileformats/pp.py:1563: UserWarning: has_year_zero kwarg ignored for idealized calendars (always True)\n",
      "  self._t1 = cftime.datetime(\n",
      "/nfs/a321/gy17m2a/anaconda_install/anaconda3/envs/pygeospatial/lib/python3.9/site-packages/iris/fileformats/pp.py:1598: UserWarning: has_year_zero kwarg ignored for idealized calendars (always True)\n",
      "  self._t2 = cftime.datetime(\n",
      "/nfs/a321/gy17m2a/anaconda_install/anaconda3/envs/pygeospatial/lib/python3.9/site-packages/cf_units/__init__.py:402: UserWarning: has_year_zero kwarg ignored for idealized calendars (always True)\n",
      "  dates = np.array([dt and dt.replace(microsecond=0) for dt in dates])\n"
     ]
    },
    {
     "data": {
      "text/html": [
       "\n",
       "<style>\n",
       "    .accordion-140693116674192 {\n",
       "        color: var(--jp-ui-font-color2);\n",
       "        background: var(--jp-layout-color2);\n",
       "        cursor: pointer;\n",
       "        padding: 10px;\n",
       "        border: 1px solid var(--jp-border-color0);\n",
       "        width: 100%;\n",
       "        text-align: left;\n",
       "        font-size: 14px;\n",
       "        font-family: var(--jp-code-font-family);\n",
       "        font-weight: normal;\n",
       "        outline: none;\n",
       "        transition: 0.4s;\n",
       "    }\n",
       "    .active {\n",
       "        background: var(--jp-layout-color1);\n",
       "        font-weight: 900;\n",
       "    }\n",
       "    .accordion-140693116674192.active {\n",
       "        border: 1px solid var(--jp-brand-color1) !important;\n",
       "    }\n",
       "    .accordion-140693116674192:hover {\n",
       "        box-shadow: var(--jp-input-box-shadow);\n",
       "        border: 2px solid var(--jp-brand-color1);\n",
       "    }\n",
       "    .panel-140693116674192 {\n",
       "        padding: 0 18px;\n",
       "        margin-bottom: 5px;\n",
       "        background-color: var(--jp-layout-color1);\n",
       "        display: none;\n",
       "        overflow: hidden;\n",
       "        border: 1px solid var(--jp-brand-color2);\n",
       "    }\n",
       "</style>\n",
       "<script type=\"text/javascript\">\n",
       "    var accordion = document.getElementsByClassName(\"accordion-140693116674192\");\n",
       "    var i;\n",
       "\n",
       "    for (i = 0; i < accordion.length; i++) {\n",
       "        accordion[i].addEventListener(\"click\", function() {\n",
       "            this.classList.toggle(\"active\");\n",
       "\n",
       "            var panel = this.nextElementSibling;\n",
       "            if (panel.style.display === \"block\") {\n",
       "                panel.style.display = \"none\";\n",
       "            } else {\n",
       "                panel.style.display = \"block\";\n",
       "            }\n",
       "        });\n",
       "    }\n",
       "</script>\n",
       "\n",
       "<button class=\"accordion-140693116674192\">0: stratiform_rainfall_flux / (kg m-2 s-1) (time: 2160; grid_latitude: 654; grid_longitude: 532)</button>\n",
       "<div class=\"panel-140693116674192\">\n",
       "    <p>\n",
       "<style>\n",
       "  a.iris {\n",
       "      text-decoration: none !important;\n",
       "  }\n",
       "  table.iris {\n",
       "      white-space: pre;\n",
       "      border: 1px solid;\n",
       "      border-color: #9c9c9c;\n",
       "      font-family: monaco, monospace;\n",
       "  }\n",
       "  th.iris {\n",
       "      background: #303f3f;\n",
       "      color: #e0e0e0;\n",
       "      border-left: 1px solid;\n",
       "      border-color: #9c9c9c;\n",
       "      font-size: 1.05em;\n",
       "      min-width: 50px;\n",
       "      max-width: 125px;\n",
       "  }\n",
       "  tr.iris :first-child {\n",
       "      border-right: 1px solid #9c9c9c !important;\n",
       "  }\n",
       "  td.iris-title {\n",
       "      background: #d5dcdf;\n",
       "      border-top: 1px solid #9c9c9c;\n",
       "      font-weight: bold;\n",
       "  }\n",
       "  .iris-word-cell {\n",
       "      text-align: left !important;\n",
       "      white-space: pre;\n",
       "  }\n",
       "  .iris-subheading-cell {\n",
       "      padding-left: 2em !important;\n",
       "  }\n",
       "  .iris-inclusion-cell {\n",
       "      padding-right: 1em !important;\n",
       "  }\n",
       "  .iris-panel-body {\n",
       "      padding-top: 0px;\n",
       "  }\n",
       "  .iris-panel-title {\n",
       "      padding-left: 3em;\n",
       "  }\n",
       "  .iris-panel-title {\n",
       "      margin-top: 7px;\n",
       "  }\n",
       "</style>\n",
       "<table class=\"iris\" id=\"140692898029184\">\n",
       "    <tr class=\"iris\">\n",
       "<th class=\"iris iris-word-cell\">Stratiform Rainfall Flux (kg m-2 s-1)</th>\n",
       "<th class=\"iris iris-word-cell\">time</th>\n",
       "<th class=\"iris iris-word-cell\">grid_latitude</th>\n",
       "<th class=\"iris iris-word-cell\">grid_longitude</th>\n",
       "</tr>\n",
       "    <tr class=\"iris\">\n",
       "<td class=\"iris-word-cell iris-subheading-cell\">Shape</td>\n",
       "<td class=\"iris iris-inclusion-cell\">2160</td>\n",
       "<td class=\"iris iris-inclusion-cell\">654</td>\n",
       "<td class=\"iris iris-inclusion-cell\">532</td>\n",
       "</tr>\n",
       "    <tr class=\"iris\">\n",
       "    <td class=\"iris-title iris-word-cell\">Dimension coordinates</td>\n",
       "    <td class=\"iris-title\"></td>\n",
       "    <td class=\"iris-title\"></td>\n",
       "    <td class=\"iris-title\"></td>\n",
       "</tr>\n",
       "<tr class=\"iris\">\n",
       "    <td class=\"iris-word-cell iris-subheading-cell\">\ttime</td>\n",
       "    <td class=\"iris-inclusion-cell\">x</td>\n",
       "    <td class=\"iris-inclusion-cell\">-</td>\n",
       "    <td class=\"iris-inclusion-cell\">-</td>\n",
       "</tr>\n",
       "<tr class=\"iris\">\n",
       "    <td class=\"iris-word-cell iris-subheading-cell\">\tgrid_latitude</td>\n",
       "    <td class=\"iris-inclusion-cell\">-</td>\n",
       "    <td class=\"iris-inclusion-cell\">x</td>\n",
       "    <td class=\"iris-inclusion-cell\">-</td>\n",
       "</tr>\n",
       "<tr class=\"iris\">\n",
       "    <td class=\"iris-word-cell iris-subheading-cell\">\tgrid_longitude</td>\n",
       "    <td class=\"iris-inclusion-cell\">-</td>\n",
       "    <td class=\"iris-inclusion-cell\">-</td>\n",
       "    <td class=\"iris-inclusion-cell\">x</td>\n",
       "</tr>\n",
       "<tr class=\"iris\">\n",
       "    <td class=\"iris-title iris-word-cell\">Auxiliary coordinates</td>\n",
       "    <td class=\"iris-title\"></td>\n",
       "    <td class=\"iris-title\"></td>\n",
       "    <td class=\"iris-title\"></td>\n",
       "</tr>\n",
       "<tr class=\"iris\">\n",
       "    <td class=\"iris-word-cell iris-subheading-cell\">\tforecast_period</td>\n",
       "    <td class=\"iris-inclusion-cell\">x</td>\n",
       "    <td class=\"iris-inclusion-cell\">-</td>\n",
       "    <td class=\"iris-inclusion-cell\">-</td>\n",
       "</tr>\n",
       "<tr class=\"iris\">\n",
       "    <td class=\"iris-title iris-word-cell\">Scalar coordinates</td>\n",
       "    <td class=\"iris-title\"></td>\n",
       "    <td class=\"iris-title\"></td>\n",
       "    <td class=\"iris-title\"></td>\n",
       "</tr>\n",
       "<tr class=\"iris\">\n",
       "    <td class=\"iris-word-cell iris-subheading-cell\">\tforecast_reference_time         1999-09-01 00</td>\n",
       "    <td class=\"iris-word-cell\" colspan=\"3\">0:00<br>realization                     1100000</td>\n",
       "</tr>\n",
       "<tr class=\"iris\">\n",
       "    <td class=\"iris-title iris-word-cell\">Cell methods</td>\n",
       "    <td class=\"iris-title\"></td>\n",
       "    <td class=\"iris-title\"></td>\n",
       "    <td class=\"iris-title\"></td>\n",
       "</tr>\n",
       "<tr class=\"iris\">\n",
       "    <td class=\"iris-word-cell iris-subheading-cell\">\tmean                            time (1 hour)</td>\n",
       "    <td class=\"iris-word-cell\" colspan=\"3\"></td>\n",
       "</tr>\n",
       "<tr class=\"iris\">\n",
       "    <td class=\"iris-title iris-word-cell\">Attributes</td>\n",
       "    <td class=\"iris-title\"></td>\n",
       "    <td class=\"iris-title\"></td>\n",
       "    <td class=\"iris-title\"><br>STASH                           m01s04i203<br>source                          Data from Met Office Unified Model<br>um_version                      10.6</td>\n",
       "</tr>\n",
       "</table>\n",
       "        </p>\n",
       "</div>\n",
       "    \n",
       "    "
      ],
      "text/plain": [
       "[<iris 'Cube' of stratiform_rainfall_flux / (kg m-2 s-1) (time: 2160; grid_latitude: 654; grid_longitude: 532)>]"
      ]
     },
     "execution_count": 7,
     "metadata": {},
     "output_type": "execute_result"
    }
   ],
   "source": [
    "one_yr_cube_list =iris.load(one_jja_filenames)\n",
    "# one_yr_cube_list = cube\n",
    "one_yr_cube_list"
   ]
  },
  {
   "cell_type": "code",
   "execution_count": 307,
   "id": "bef0c287",
   "metadata": {},
   "outputs": [],
   "source": [
    "# coord = one_yr_cube_list[86].coord('forecast_period')\n",
    "# coord.var_name = 'forecast_period'"
   ]
  },
  {
   "cell_type": "code",
   "execution_count": 308,
   "id": "967e8985",
   "metadata": {},
   "outputs": [],
   "source": [
    "# coord = one_yr_cube_list[86].aux_coords[0]\n",
    "# coord.var_name = 'forecast_reference_time'\n",
    "# coord"
   ]
  },
  {
   "cell_type": "code",
   "execution_count": 309,
   "id": "f96fa5eb",
   "metadata": {},
   "outputs": [],
   "source": [
    "# for i in range(0,len(one_yr_cube_list)):\n",
    "#     print(one_yr_cube_list[i].coord('forecast_period'))"
   ]
  },
  {
   "cell_type": "code",
   "execution_count": 310,
   "id": "2e980cc7",
   "metadata": {},
   "outputs": [],
   "source": [
    "# for i in range(0,len(one_yr_cube_list)):\n",
    "#     print(one_yr_cube_list[i].coord('forecast_reference_time'))"
   ]
  },
  {
   "cell_type": "markdown",
   "id": "9e6d81d1",
   "metadata": {},
   "source": [
    "### Join so we just have one cube for the year"
   ]
  },
  {
   "cell_type": "code",
   "execution_count": 259,
   "id": "93e1280b",
   "metadata": {},
   "outputs": [],
   "source": [
    "# for cube in one_yr_cube_list:\n",
    "#     for attr in ['forecast_period']:\n",
    "#         if attr in cube.attributes:\n",
    "#             del cube.attributes[attr]"
   ]
  },
  {
   "cell_type": "code",
   "execution_count": 254,
   "id": "a6a66130",
   "metadata": {},
   "outputs": [],
   "source": [
    "# ls = []\n",
    "\n",
    "# i=0\n",
    "# for cube in one_yr_cube_list:\n",
    "#     new_ls = []\n",
    "#     for attribute in cube.attributes:\n",
    "#         if attribute not in new_ls:\n",
    "#             new_ls.append(attribute)\n",
    "\n",
    "# metadata= cube.metadata\n",
    "# for cube in one_yr_cube_list:\n",
    "#     this_metadata = cube.metadata"
   ]
  },
  {
   "cell_type": "code",
   "execution_count": 249,
   "id": "53b9ac77",
   "metadata": {},
   "outputs": [],
   "source": [
    "from iris.experimental.equalise_cubes import equalise_attributes\n",
    "iris.util.equalise_attributes(one_yr_cube_list)"
   ]
  },
  {
   "cell_type": "code",
   "execution_count": 311,
   "id": "66fdb610",
   "metadata": {},
   "outputs": [],
   "source": [
    "# one_yr_cube_list[1]#.coord('forecast_period')"
   ]
  },
  {
   "cell_type": "code",
   "execution_count": 312,
   "id": "987cd663",
   "metadata": {},
   "outputs": [],
   "source": [
    "# one_yr_cube_list[86]#.coord('forecast_period')"
   ]
  },
  {
   "cell_type": "code",
   "execution_count": 10,
   "id": "3a53ab9f",
   "metadata": {},
   "outputs": [
    {
     "data": {
      "text/html": [
       "\n",
       "<style>\n",
       "  a.iris {\n",
       "      text-decoration: none !important;\n",
       "  }\n",
       "  table.iris {\n",
       "      white-space: pre;\n",
       "      border: 1px solid;\n",
       "      border-color: #9c9c9c;\n",
       "      font-family: monaco, monospace;\n",
       "  }\n",
       "  th.iris {\n",
       "      background: #303f3f;\n",
       "      color: #e0e0e0;\n",
       "      border-left: 1px solid;\n",
       "      border-color: #9c9c9c;\n",
       "      font-size: 1.05em;\n",
       "      min-width: 50px;\n",
       "      max-width: 125px;\n",
       "  }\n",
       "  tr.iris :first-child {\n",
       "      border-right: 1px solid #9c9c9c !important;\n",
       "  }\n",
       "  td.iris-title {\n",
       "      background: #d5dcdf;\n",
       "      border-top: 1px solid #9c9c9c;\n",
       "      font-weight: bold;\n",
       "  }\n",
       "  .iris-word-cell {\n",
       "      text-align: left !important;\n",
       "      white-space: pre;\n",
       "  }\n",
       "  .iris-subheading-cell {\n",
       "      padding-left: 2em !important;\n",
       "  }\n",
       "  .iris-inclusion-cell {\n",
       "      padding-right: 1em !important;\n",
       "  }\n",
       "  .iris-panel-body {\n",
       "      padding-top: 0px;\n",
       "  }\n",
       "  .iris-panel-title {\n",
       "      padding-left: 3em;\n",
       "  }\n",
       "  .iris-panel-title {\n",
       "      margin-top: 7px;\n",
       "  }\n",
       "</style>\n",
       "<table class=\"iris\" id=\"140692898029184\">\n",
       "    <tr class=\"iris\">\n",
       "<th class=\"iris iris-word-cell\">Stratiform Rainfall Flux (kg m-2 s-1)</th>\n",
       "<th class=\"iris iris-word-cell\">time</th>\n",
       "<th class=\"iris iris-word-cell\">grid_latitude</th>\n",
       "<th class=\"iris iris-word-cell\">grid_longitude</th>\n",
       "</tr>\n",
       "    <tr class=\"iris\">\n",
       "<td class=\"iris-word-cell iris-subheading-cell\">Shape</td>\n",
       "<td class=\"iris iris-inclusion-cell\">2160</td>\n",
       "<td class=\"iris iris-inclusion-cell\">654</td>\n",
       "<td class=\"iris iris-inclusion-cell\">532</td>\n",
       "</tr>\n",
       "    <tr class=\"iris\">\n",
       "    <td class=\"iris-title iris-word-cell\">Dimension coordinates</td>\n",
       "    <td class=\"iris-title\"></td>\n",
       "    <td class=\"iris-title\"></td>\n",
       "    <td class=\"iris-title\"></td>\n",
       "</tr>\n",
       "<tr class=\"iris\">\n",
       "    <td class=\"iris-word-cell iris-subheading-cell\">\ttime</td>\n",
       "    <td class=\"iris-inclusion-cell\">x</td>\n",
       "    <td class=\"iris-inclusion-cell\">-</td>\n",
       "    <td class=\"iris-inclusion-cell\">-</td>\n",
       "</tr>\n",
       "<tr class=\"iris\">\n",
       "    <td class=\"iris-word-cell iris-subheading-cell\">\tgrid_latitude</td>\n",
       "    <td class=\"iris-inclusion-cell\">-</td>\n",
       "    <td class=\"iris-inclusion-cell\">x</td>\n",
       "    <td class=\"iris-inclusion-cell\">-</td>\n",
       "</tr>\n",
       "<tr class=\"iris\">\n",
       "    <td class=\"iris-word-cell iris-subheading-cell\">\tgrid_longitude</td>\n",
       "    <td class=\"iris-inclusion-cell\">-</td>\n",
       "    <td class=\"iris-inclusion-cell\">-</td>\n",
       "    <td class=\"iris-inclusion-cell\">x</td>\n",
       "</tr>\n",
       "<tr class=\"iris\">\n",
       "    <td class=\"iris-title iris-word-cell\">Auxiliary coordinates</td>\n",
       "    <td class=\"iris-title\"></td>\n",
       "    <td class=\"iris-title\"></td>\n",
       "    <td class=\"iris-title\"></td>\n",
       "</tr>\n",
       "<tr class=\"iris\">\n",
       "    <td class=\"iris-word-cell iris-subheading-cell\">\tforecast_period</td>\n",
       "    <td class=\"iris-inclusion-cell\">x</td>\n",
       "    <td class=\"iris-inclusion-cell\">-</td>\n",
       "    <td class=\"iris-inclusion-cell\">-</td>\n",
       "</tr>\n",
       "<tr class=\"iris\">\n",
       "    <td class=\"iris-title iris-word-cell\">Scalar coordinates</td>\n",
       "    <td class=\"iris-title\"></td>\n",
       "    <td class=\"iris-title\"></td>\n",
       "    <td class=\"iris-title\"></td>\n",
       "</tr>\n",
       "<tr class=\"iris\">\n",
       "    <td class=\"iris-word-cell iris-subheading-cell\">\tforecast_reference_time         1999-09-01 00</td>\n",
       "    <td class=\"iris-word-cell\" colspan=\"3\">0:00<br>realization                     1100000</td>\n",
       "</tr>\n",
       "<tr class=\"iris\">\n",
       "    <td class=\"iris-title iris-word-cell\">Cell methods</td>\n",
       "    <td class=\"iris-title\"></td>\n",
       "    <td class=\"iris-title\"></td>\n",
       "    <td class=\"iris-title\"></td>\n",
       "</tr>\n",
       "<tr class=\"iris\">\n",
       "    <td class=\"iris-word-cell iris-subheading-cell\">\tmean                            time (1 hour)</td>\n",
       "    <td class=\"iris-word-cell\" colspan=\"3\"></td>\n",
       "</tr>\n",
       "<tr class=\"iris\">\n",
       "    <td class=\"iris-title iris-word-cell\">Attributes</td>\n",
       "    <td class=\"iris-title\"></td>\n",
       "    <td class=\"iris-title\"></td>\n",
       "    <td class=\"iris-title\"><br>STASH                           m01s04i203<br>source                          Data from Met Office Unified Model<br>um_version                      10.6</td>\n",
       "</tr>\n",
       "</table>\n",
       "        "
      ],
      "text/plain": [
       "<iris 'Cube' of stratiform_rainfall_flux / (kg m-2 s-1) (time: 2160; grid_latitude: 654; grid_longitude: 532)>"
      ]
     },
     "execution_count": 10,
     "metadata": {},
     "output_type": "execute_result"
    }
   ],
   "source": [
    "year_cube = one_yr_cube_list.concatenate_cube()   \n",
    "year_cube"
   ]
  },
  {
   "cell_type": "code",
   "execution_count": 315,
   "id": "b9abc696",
   "metadata": {},
   "outputs": [],
   "source": [
    "# jja_cube = one_jja_cube_list.concatenate_cube()   \n",
    "# jja_cube"
   ]
  },
  {
   "cell_type": "markdown",
   "id": "10fbda01",
   "metadata": {},
   "source": [
    "### Add time variables"
   ]
  },
  {
   "cell_type": "code",
   "execution_count": 18,
   "id": "b652df1a",
   "metadata": {},
   "outputs": [
    {
     "data": {
      "text/plain": [
       "array([[cftime.Datetime360Day(2000, 6, 1, 0, 0, 0, 0, has_year_zero=True),\n",
       "        cftime.Datetime360Day(2000, 6, 1, 0, 30, 0, 0, has_year_zero=True)],\n",
       "       [cftime.Datetime360Day(2000, 6, 1, 1, 0, 0, 0, has_year_zero=True),\n",
       "        cftime.Datetime360Day(2000, 6, 1, 1, 30, 0, 0, has_year_zero=True)],\n",
       "       [cftime.Datetime360Day(2000, 6, 1, 2, 0, 0, 0, has_year_zero=True),\n",
       "        cftime.Datetime360Day(2000, 6, 1, 2, 30, 0, 0, has_year_zero=True)],\n",
       "       ...,\n",
       "       [cftime.Datetime360Day(2000, 8, 30, 21, 0, 0, 0, has_year_zero=True),\n",
       "        cftime.Datetime360Day(2000, 8, 30, 21, 30, 0, 0, has_year_zero=True)],\n",
       "       [cftime.Datetime360Day(2000, 8, 30, 22, 0, 0, 0, has_year_zero=True),\n",
       "        cftime.Datetime360Day(2000, 8, 30, 22, 30, 0, 0, has_year_zero=True)],\n",
       "       [cftime.Datetime360Day(2000, 8, 30, 23, 0, 0, 0, has_year_zero=True),\n",
       "        cftime.Datetime360Day(2000, 8, 30, 23, 30, 0, 0, has_year_zero=True)]],\n",
       "      dtype=object)"
      ]
     },
     "execution_count": 18,
     "metadata": {},
     "output_type": "execute_result"
    }
   ],
   "source": [
    "time.units.num2date(time.bounds)"
   ]
  },
  {
   "cell_type": "code",
   "execution_count": 15,
   "id": "ed9416d3",
   "metadata": {},
   "outputs": [
    {
     "name": "stdout",
     "output_type": "stream",
     "text": [
      "[cftime.Datetime360Day(2000, 7, 21, 0, 15, 0, 0, has_year_zero=True)\n",
      " cftime.Datetime360Day(2000, 7, 21, 1, 15, 0, 0, has_year_zero=True)\n",
      " cftime.Datetime360Day(2000, 7, 21, 2, 15, 0, 0, has_year_zero=True)\n",
      " cftime.Datetime360Day(2000, 7, 21, 3, 15, 0, 0, has_year_zero=True)\n",
      " cftime.Datetime360Day(2000, 7, 21, 4, 15, 0, 0, has_year_zero=True)\n",
      " cftime.Datetime360Day(2000, 7, 21, 5, 15, 0, 0, has_year_zero=True)\n",
      " cftime.Datetime360Day(2000, 7, 21, 6, 15, 0, 0, has_year_zero=True)\n",
      " cftime.Datetime360Day(2000, 7, 21, 7, 15, 0, 0, has_year_zero=True)\n",
      " cftime.Datetime360Day(2000, 7, 21, 8, 15, 0, 0, has_year_zero=True)\n",
      " cftime.Datetime360Day(2000, 7, 21, 9, 15, 0, 0, has_year_zero=True)\n",
      " cftime.Datetime360Day(2000, 7, 21, 10, 15, 0, 0, has_year_zero=True)\n",
      " cftime.Datetime360Day(2000, 7, 21, 11, 15, 0, 0, has_year_zero=True)\n",
      " cftime.Datetime360Day(2000, 7, 21, 12, 15, 0, 0, has_year_zero=True)\n",
      " cftime.Datetime360Day(2000, 7, 21, 13, 15, 0, 0, has_year_zero=True)\n",
      " cftime.Datetime360Day(2000, 7, 21, 14, 15, 0, 0, has_year_zero=True)\n",
      " cftime.Datetime360Day(2000, 7, 21, 15, 15, 0, 0, has_year_zero=True)\n",
      " cftime.Datetime360Day(2000, 7, 21, 16, 15, 0, 0, has_year_zero=True)\n",
      " cftime.Datetime360Day(2000, 7, 21, 17, 15, 0, 0, has_year_zero=True)\n",
      " cftime.Datetime360Day(2000, 7, 21, 18, 15, 0, 0, has_year_zero=True)\n",
      " cftime.Datetime360Day(2000, 7, 21, 19, 15, 0, 0, has_year_zero=True)\n",
      " cftime.Datetime360Day(2000, 7, 21, 20, 15, 0, 0, has_year_zero=True)\n",
      " cftime.Datetime360Day(2000, 7, 21, 21, 15, 0, 0, has_year_zero=True)\n",
      " cftime.Datetime360Day(2000, 7, 21, 22, 15, 0, 0, has_year_zero=True)\n",
      " cftime.Datetime360Day(2000, 7, 21, 23, 15, 0, 0, has_year_zero=True)\n",
      " cftime.Datetime360Day(2000, 7, 22, 0, 15, 0, 0, has_year_zero=True)\n",
      " cftime.Datetime360Day(2000, 7, 22, 1, 15, 0, 0, has_year_zero=True)\n",
      " cftime.Datetime360Day(2000, 7, 22, 2, 15, 0, 0, has_year_zero=True)\n",
      " cftime.Datetime360Day(2000, 7, 22, 3, 15, 0, 0, has_year_zero=True)\n",
      " cftime.Datetime360Day(2000, 7, 22, 4, 15, 0, 0, has_year_zero=True)\n",
      " cftime.Datetime360Day(2000, 7, 22, 5, 15, 0, 0, has_year_zero=True)\n",
      " cftime.Datetime360Day(2000, 7, 22, 6, 15, 0, 0, has_year_zero=True)\n",
      " cftime.Datetime360Day(2000, 7, 22, 7, 15, 0, 0, has_year_zero=True)\n",
      " cftime.Datetime360Day(2000, 7, 22, 8, 15, 0, 0, has_year_zero=True)\n",
      " cftime.Datetime360Day(2000, 7, 22, 9, 15, 0, 0, has_year_zero=True)\n",
      " cftime.Datetime360Day(2000, 7, 22, 10, 15, 0, 0, has_year_zero=True)\n",
      " cftime.Datetime360Day(2000, 7, 22, 11, 15, 0, 0, has_year_zero=True)\n",
      " cftime.Datetime360Day(2000, 7, 22, 12, 15, 0, 0, has_year_zero=True)\n",
      " cftime.Datetime360Day(2000, 7, 22, 13, 15, 0, 0, has_year_zero=True)\n",
      " cftime.Datetime360Day(2000, 7, 22, 14, 15, 0, 0, has_year_zero=True)\n",
      " cftime.Datetime360Day(2000, 7, 22, 15, 15, 0, 0, has_year_zero=True)\n",
      " cftime.Datetime360Day(2000, 7, 22, 16, 15, 0, 0, has_year_zero=True)\n",
      " cftime.Datetime360Day(2000, 7, 22, 17, 15, 0, 0, has_year_zero=True)\n",
      " cftime.Datetime360Day(2000, 7, 22, 18, 15, 0, 0, has_year_zero=True)\n",
      " cftime.Datetime360Day(2000, 7, 22, 19, 15, 0, 0, has_year_zero=True)\n",
      " cftime.Datetime360Day(2000, 7, 22, 20, 15, 0, 0, has_year_zero=True)\n",
      " cftime.Datetime360Day(2000, 7, 22, 21, 15, 0, 0, has_year_zero=True)\n",
      " cftime.Datetime360Day(2000, 7, 22, 22, 15, 0, 0, has_year_zero=True)\n",
      " cftime.Datetime360Day(2000, 7, 22, 23, 15, 0, 0, has_year_zero=True)\n",
      " cftime.Datetime360Day(2000, 7, 23, 0, 15, 0, 0, has_year_zero=True)\n",
      " cftime.Datetime360Day(2000, 7, 23, 1, 15, 0, 0, has_year_zero=True)\n",
      " cftime.Datetime360Day(2000, 7, 23, 2, 15, 0, 0, has_year_zero=True)\n",
      " cftime.Datetime360Day(2000, 7, 23, 3, 15, 0, 0, has_year_zero=True)\n",
      " cftime.Datetime360Day(2000, 7, 23, 4, 15, 0, 0, has_year_zero=True)\n",
      " cftime.Datetime360Day(2000, 7, 23, 5, 15, 0, 0, has_year_zero=True)\n",
      " cftime.Datetime360Day(2000, 7, 23, 6, 15, 0, 0, has_year_zero=True)\n",
      " cftime.Datetime360Day(2000, 7, 23, 7, 15, 0, 0, has_year_zero=True)\n",
      " cftime.Datetime360Day(2000, 7, 23, 8, 15, 0, 0, has_year_zero=True)\n",
      " cftime.Datetime360Day(2000, 7, 23, 9, 15, 0, 0, has_year_zero=True)\n",
      " cftime.Datetime360Day(2000, 7, 23, 10, 15, 0, 0, has_year_zero=True)\n",
      " cftime.Datetime360Day(2000, 7, 23, 11, 15, 0, 0, has_year_zero=True)\n",
      " cftime.Datetime360Day(2000, 7, 23, 12, 15, 0, 0, has_year_zero=True)\n",
      " cftime.Datetime360Day(2000, 7, 23, 13, 15, 0, 0, has_year_zero=True)\n",
      " cftime.Datetime360Day(2000, 7, 23, 14, 15, 0, 0, has_year_zero=True)\n",
      " cftime.Datetime360Day(2000, 7, 23, 15, 15, 0, 0, has_year_zero=True)\n",
      " cftime.Datetime360Day(2000, 7, 23, 16, 15, 0, 0, has_year_zero=True)\n",
      " cftime.Datetime360Day(2000, 7, 23, 17, 15, 0, 0, has_year_zero=True)\n",
      " cftime.Datetime360Day(2000, 7, 23, 18, 15, 0, 0, has_year_zero=True)\n",
      " cftime.Datetime360Day(2000, 7, 23, 19, 15, 0, 0, has_year_zero=True)\n",
      " cftime.Datetime360Day(2000, 7, 23, 20, 15, 0, 0, has_year_zero=True)\n",
      " cftime.Datetime360Day(2000, 7, 23, 21, 15, 0, 0, has_year_zero=True)\n",
      " cftime.Datetime360Day(2000, 7, 23, 22, 15, 0, 0, has_year_zero=True)\n",
      " cftime.Datetime360Day(2000, 7, 23, 23, 15, 0, 0, has_year_zero=True)\n",
      " cftime.Datetime360Day(2000, 7, 24, 0, 15, 0, 0, has_year_zero=True)\n",
      " cftime.Datetime360Day(2000, 7, 24, 1, 15, 0, 0, has_year_zero=True)\n",
      " cftime.Datetime360Day(2000, 7, 24, 2, 15, 0, 0, has_year_zero=True)\n",
      " cftime.Datetime360Day(2000, 7, 24, 3, 15, 0, 0, has_year_zero=True)\n",
      " cftime.Datetime360Day(2000, 7, 24, 4, 15, 0, 0, has_year_zero=True)\n",
      " cftime.Datetime360Day(2000, 7, 24, 5, 15, 0, 0, has_year_zero=True)\n",
      " cftime.Datetime360Day(2000, 7, 24, 6, 15, 0, 0, has_year_zero=True)\n",
      " cftime.Datetime360Day(2000, 7, 24, 7, 15, 0, 0, has_year_zero=True)\n",
      " cftime.Datetime360Day(2000, 7, 24, 8, 15, 0, 0, has_year_zero=True)\n",
      " cftime.Datetime360Day(2000, 7, 24, 9, 15, 0, 0, has_year_zero=True)\n",
      " cftime.Datetime360Day(2000, 7, 24, 10, 15, 0, 0, has_year_zero=True)\n",
      " cftime.Datetime360Day(2000, 7, 24, 11, 15, 0, 0, has_year_zero=True)\n",
      " cftime.Datetime360Day(2000, 7, 24, 12, 15, 0, 0, has_year_zero=True)\n",
      " cftime.Datetime360Day(2000, 7, 24, 13, 15, 0, 0, has_year_zero=True)\n",
      " cftime.Datetime360Day(2000, 7, 24, 14, 15, 0, 0, has_year_zero=True)\n",
      " cftime.Datetime360Day(2000, 7, 24, 15, 15, 0, 0, has_year_zero=True)\n",
      " cftime.Datetime360Day(2000, 7, 24, 16, 15, 0, 0, has_year_zero=True)\n",
      " cftime.Datetime360Day(2000, 7, 24, 17, 15, 0, 0, has_year_zero=True)\n",
      " cftime.Datetime360Day(2000, 7, 24, 18, 15, 0, 0, has_year_zero=True)\n",
      " cftime.Datetime360Day(2000, 7, 24, 19, 15, 0, 0, has_year_zero=True)\n",
      " cftime.Datetime360Day(2000, 7, 24, 20, 15, 0, 0, has_year_zero=True)\n",
      " cftime.Datetime360Day(2000, 7, 24, 21, 15, 0, 0, has_year_zero=True)\n",
      " cftime.Datetime360Day(2000, 7, 24, 22, 15, 0, 0, has_year_zero=True)\n",
      " cftime.Datetime360Day(2000, 7, 24, 23, 15, 0, 0, has_year_zero=True)\n",
      " cftime.Datetime360Day(2000, 7, 25, 0, 15, 0, 0, has_year_zero=True)\n",
      " cftime.Datetime360Day(2000, 7, 25, 1, 15, 0, 0, has_year_zero=True)\n",
      " cftime.Datetime360Day(2000, 7, 25, 2, 15, 0, 0, has_year_zero=True)\n",
      " cftime.Datetime360Day(2000, 7, 25, 3, 15, 0, 0, has_year_zero=True)]\n"
     ]
    }
   ],
   "source": [
    "time = year_cube.coord('time')   \n",
    "# print(time.units.num2date(time.points))\n",
    "times = time.units.num2date(time.points)\n",
    "print (times[1200:1300])"
   ]
  },
  {
   "cell_type": "markdown",
   "id": "3711b3f7",
   "metadata": {},
   "source": [
    "### Concatenate it into one cube (THIS DOESNT WORK)"
   ]
  },
  {
   "cell_type": "markdown",
   "id": "598bd24e",
   "metadata": {},
   "source": [
    "### Load instead just one filename and inspect"
   ]
  },
  {
   "cell_type": "code",
   "execution_count": 329,
   "id": "6b96f57d",
   "metadata": {},
   "outputs": [
    {
     "ename": "TypeError",
     "evalue": "an integer is required (got type DimCoord)",
     "output_type": "error",
     "traceback": [
      "\u001b[0;31m---------------------------------------------------------------------------\u001b[0m",
      "\u001b[0;31mTypeError\u001b[0m                                 Traceback (most recent call last)",
      "Cell \u001b[0;32mIn [329], line 2\u001b[0m\n\u001b[1;32m      1\u001b[0m year_cube\u001b[38;5;241m.\u001b[39mcoord(\u001b[38;5;124m'\u001b[39m\u001b[38;5;124mforecast_period\u001b[39m\u001b[38;5;124m'\u001b[39m)\n\u001b[0;32m----> 2\u001b[0m times \u001b[38;5;241m=\u001b[39m [datetime\u001b[38;5;241m.\u001b[39mdatetime\u001b[38;5;241m.\u001b[39mfromtimestamp(x \u001b[38;5;241m*\u001b[39m \u001b[38;5;241m3600\u001b[39m) \u001b[38;5;28;01mfor\u001b[39;00m x \u001b[38;5;129;01min\u001b[39;00m year_cube\u001b[38;5;241m.\u001b[39mcoord(\u001b[38;5;124m'\u001b[39m\u001b[38;5;124mforecast_period\u001b[39m\u001b[38;5;124m'\u001b[39m)]\n\u001b[1;32m      3\u001b[0m times\n",
      "Cell \u001b[0;32mIn [329], line 2\u001b[0m, in \u001b[0;36m<listcomp>\u001b[0;34m(.0)\u001b[0m\n\u001b[1;32m      1\u001b[0m year_cube\u001b[38;5;241m.\u001b[39mcoord(\u001b[38;5;124m'\u001b[39m\u001b[38;5;124mforecast_period\u001b[39m\u001b[38;5;124m'\u001b[39m)\n\u001b[0;32m----> 2\u001b[0m times \u001b[38;5;241m=\u001b[39m [\u001b[43mdatetime\u001b[49m\u001b[38;5;241;43m.\u001b[39;49m\u001b[43mdatetime\u001b[49m\u001b[38;5;241;43m.\u001b[39;49m\u001b[43mfromtimestamp\u001b[49m\u001b[43m(\u001b[49m\u001b[43mx\u001b[49m\u001b[43m \u001b[49m\u001b[38;5;241;43m*\u001b[39;49m\u001b[43m \u001b[49m\u001b[38;5;241;43m3600\u001b[39;49m\u001b[43m)\u001b[49m \u001b[38;5;28;01mfor\u001b[39;00m x \u001b[38;5;129;01min\u001b[39;00m year_cube\u001b[38;5;241m.\u001b[39mcoord(\u001b[38;5;124m'\u001b[39m\u001b[38;5;124mforecast_period\u001b[39m\u001b[38;5;124m'\u001b[39m)]\n\u001b[1;32m      3\u001b[0m times\n",
      "\u001b[0;31mTypeError\u001b[0m: an integer is required (got type DimCoord)"
     ]
    }
   ],
   "source": []
  },
  {
   "cell_type": "code",
   "execution_count": 319,
   "id": "7006abe2",
   "metadata": {},
   "outputs": [
    {
     "ename": "TypeError",
     "evalue": "only integer scalar arrays can be converted to a scalar index",
     "output_type": "error",
     "traceback": [
      "\u001b[0;31m---------------------------------------------------------------------------\u001b[0m",
      "\u001b[0;31mTypeError\u001b[0m                                 Traceback (most recent call last)",
      "Cell \u001b[0;32mIn [319], line 2\u001b[0m\n\u001b[1;32m      1\u001b[0m times \u001b[38;5;241m=\u001b[39m year_cube\u001b[38;5;241m.\u001b[39mcoord(\u001b[38;5;124m'\u001b[39m\u001b[38;5;124mtime\u001b[39m\u001b[38;5;124m'\u001b[39m)\u001b[38;5;241m.\u001b[39mbounds   \n\u001b[0;32m----> 2\u001b[0m times \u001b[38;5;241m=\u001b[39m [datetime\u001b[38;5;241m.\u001b[39mdatetime\u001b[38;5;241m.\u001b[39mfromtimestamp(x \u001b[38;5;241m*\u001b[39m \u001b[38;5;241m3600\u001b[39m) \u001b[38;5;28;01mfor\u001b[39;00m x \u001b[38;5;129;01min\u001b[39;00m times]\n\u001b[1;32m      3\u001b[0m \u001b[38;5;66;03m# times[6400:6480]\u001b[39;00m\n\u001b[1;32m      4\u001b[0m times\n",
      "Cell \u001b[0;32mIn [319], line 2\u001b[0m, in \u001b[0;36m<listcomp>\u001b[0;34m(.0)\u001b[0m\n\u001b[1;32m      1\u001b[0m times \u001b[38;5;241m=\u001b[39m year_cube\u001b[38;5;241m.\u001b[39mcoord(\u001b[38;5;124m'\u001b[39m\u001b[38;5;124mtime\u001b[39m\u001b[38;5;124m'\u001b[39m)\u001b[38;5;241m.\u001b[39mbounds   \n\u001b[0;32m----> 2\u001b[0m times \u001b[38;5;241m=\u001b[39m [\u001b[43mdatetime\u001b[49m\u001b[38;5;241;43m.\u001b[39;49m\u001b[43mdatetime\u001b[49m\u001b[38;5;241;43m.\u001b[39;49m\u001b[43mfromtimestamp\u001b[49m\u001b[43m(\u001b[49m\u001b[43mx\u001b[49m\u001b[43m \u001b[49m\u001b[38;5;241;43m*\u001b[39;49m\u001b[43m \u001b[49m\u001b[38;5;241;43m3600\u001b[39;49m\u001b[43m)\u001b[49m \u001b[38;5;28;01mfor\u001b[39;00m x \u001b[38;5;129;01min\u001b[39;00m times]\n\u001b[1;32m      3\u001b[0m \u001b[38;5;66;03m# times[6400:6480]\u001b[39;00m\n\u001b[1;32m      4\u001b[0m times\n",
      "\u001b[0;31mTypeError\u001b[0m: only integer scalar arrays can be converted to a scalar index"
     ]
    }
   ],
   "source": [
    "times = year_cube.coord('time').points   \n",
    "times = [datetime.datetime.fromtimestamp(x * 3600) for x in times]\n",
    "# times[6400:6480]\n",
    "times"
   ]
  },
  {
   "cell_type": "code",
   "execution_count": 193,
   "id": "2621aa4d",
   "metadata": {},
   "outputs": [],
   "source": [
    "import tqdm\n",
    "import copy\n",
    "split_cube = {}\n",
    "for i in range(360):\n",
    "    split_cube [ str ( i )] = copy.deepcopy(jja_cube[i])\n",
    "split_cube.keys()"
   ]
  },
  {
   "cell_type": "code",
   "execution_count": 194,
   "id": "315da62e",
   "metadata": {},
   "outputs": [
    {
     "data": {
      "text/plain": [
       "dict_keys(['0', '1', '2', '3', '4', '5', '6', '7', '8', '9', '10', '11', '12', '13', '14', '15', '16', '17', '18', '19', '20', '21', '22', '23', '24', '25', '26', '27', '28', '29', '30', '31', '32', '33', '34', '35', '36', '37', '38', '39', '40', '41', '42', '43', '44', '45', '46', '47', '48', '49', '50', '51', '52', '53', '54', '55', '56', '57', '58', '59', '60', '61', '62', '63', '64', '65', '66', '67', '68', '69', '70', '71', '72', '73', '74', '75', '76', '77', '78', '79', '80', '81', '82', '83', '84', '85', '86', '87', '88', '89', '90', '91', '92', '93', '94', '95', '96', '97', '98', '99', '100', '101', '102', '103', '104', '105', '106', '107', '108', '109', '110', '111', '112', '113', '114', '115', '116', '117', '118', '119', '120', '121', '122', '123', '124', '125', '126', '127', '128', '129', '130', '131', '132', '133', '134', '135', '136', '137', '138', '139', '140', '141', '142', '143', '144', '145', '146', '147', '148', '149', '150', '151', '152', '153', '154', '155', '156', '157', '158', '159', '160', '161', '162', '163', '164', '165', '166', '167', '168', '169', '170', '171', '172', '173', '174', '175', '176', '177', '178', '179', '180', '181', '182', '183', '184', '185', '186', '187', '188', '189', '190', '191', '192', '193', '194', '195', '196', '197', '198', '199', '200', '201', '202', '203', '204', '205', '206', '207', '208', '209', '210', '211', '212', '213', '214', '215', '216', '217', '218', '219', '220', '221', '222', '223', '224', '225', '226', '227', '228', '229', '230', '231', '232', '233', '234', '235', '236', '237', '238', '239', '240', '241', '242', '243', '244', '245', '246', '247', '248', '249', '250', '251', '252', '253', '254', '255', '256', '257', '258', '259', '260', '261', '262', '263', '264', '265', '266', '267', '268', '269', '270', '271', '272', '273', '274', '275', '276', '277', '278', '279', '280', '281', '282', '283', '284', '285', '286', '287', '288', '289', '290', '291', '292', '293', '294', '295', '296', '297', '298', '299', '300', '301', '302', '303', '304', '305', '306', '307', '308', '309', '310', '311', '312', '313', '314', '315', '316', '317', '318', '319', '320', '321', '322', '323', '324', '325', '326', '327', '328', '329', '330', '331', '332', '333', '334', '335', '336', '337', '338', '339', '340', '341', '342', '343', '344', '345', '346', '347', '348', '349', '350', '351', '352', '353', '354', '355', '356', '357', '358', '359'])"
      ]
     },
     "execution_count": 194,
     "metadata": {},
     "output_type": "execute_result"
    }
   ],
   "source": [
    "split_cube.keys()"
   ]
  },
  {
   "cell_type": "code",
   "execution_count": 77,
   "id": "a65d077c",
   "metadata": {},
   "outputs": [],
   "source": [
    "# for i in range(1,50):\n",
    "#     monthly_cubes_list = iris.load(filenames[i])\n",
    "#     print(monthly_cubes_list[0].shape)"
   ]
  },
  {
   "cell_type": "code",
   "execution_count": 45,
   "id": "7fed980c",
   "metadata": {},
   "outputs": [
    {
     "data": {
      "text/plain": [
       "array([264384.25, 264385.25, 264386.25, 264387.25, 264388.25, 264389.25,\n",
       "       264390.25, 264391.25, 264392.25, 264393.25, 264394.25, 264395.25,\n",
       "       264396.25, 264397.25, 264398.25, 264399.25, 264400.25, 264401.25,\n",
       "       264402.25, 264403.25, 264404.25, 264405.25, 264406.25, 264407.25])"
      ]
     },
     "execution_count": 45,
     "metadata": {},
     "output_type": "execute_result"
    }
   ],
   "source": [
    "times = monthly_cubes_list[0].coord('time').points   \n",
    "# times = [datetime.datetime.fromtimestamp(x * 3600) for x in times]\n",
    "times"
   ]
  },
  {
   "cell_type": "code",
   "execution_count": 55,
   "id": "552d8f64",
   "metadata": {},
   "outputs": [
    {
     "data": {
      "text/plain": [
       "DimCoord(array([256320.5]), standard_name='forecast_reference_time', units=Unit('hours since 1970-01-01 00:00:00', calendar='360_day'))"
      ]
     },
     "execution_count": 55,
     "metadata": {},
     "output_type": "execute_result"
    }
   ],
   "source": [
    " monthly_cubes_list[0].coord('forecast_reference_time')"
   ]
  },
  {
   "cell_type": "code",
   "execution_count": 56,
   "id": "d1c85c63",
   "metadata": {},
   "outputs": [
    {
     "data": {
      "text/html": [
       "\n",
       "<style>\n",
       "  a.iris {\n",
       "      text-decoration: none !important;\n",
       "  }\n",
       "  table.iris {\n",
       "      white-space: pre;\n",
       "      border: 1px solid;\n",
       "      border-color: #9c9c9c;\n",
       "      font-family: monaco, monospace;\n",
       "  }\n",
       "  th.iris {\n",
       "      background: #303f3f;\n",
       "      color: #e0e0e0;\n",
       "      border-left: 1px solid;\n",
       "      border-color: #9c9c9c;\n",
       "      font-size: 1.05em;\n",
       "      min-width: 50px;\n",
       "      max-width: 125px;\n",
       "  }\n",
       "  tr.iris :first-child {\n",
       "      border-right: 1px solid #9c9c9c !important;\n",
       "  }\n",
       "  td.iris-title {\n",
       "      background: #d5dcdf;\n",
       "      border-top: 1px solid #9c9c9c;\n",
       "      font-weight: bold;\n",
       "  }\n",
       "  .iris-word-cell {\n",
       "      text-align: left !important;\n",
       "      white-space: pre;\n",
       "  }\n",
       "  .iris-subheading-cell {\n",
       "      padding-left: 2em !important;\n",
       "  }\n",
       "  .iris-inclusion-cell {\n",
       "      padding-right: 1em !important;\n",
       "  }\n",
       "  .iris-panel-body {\n",
       "      padding-top: 0px;\n",
       "  }\n",
       "  .iris-panel-title {\n",
       "      padding-left: 3em;\n",
       "  }\n",
       "  .iris-panel-title {\n",
       "      margin-top: 7px;\n",
       "  }\n",
       "</style>\n",
       "<table class=\"iris\" id=\"140253140680608\">\n",
       "    <tr class=\"iris\">\n",
       "<th class=\"iris iris-word-cell\">Stratiform Rainfall Flux (kg m-2 s-1)</th>\n",
       "<th class=\"iris iris-word-cell\">time</th>\n",
       "<th class=\"iris iris-word-cell\">grid_latitude</th>\n",
       "<th class=\"iris iris-word-cell\">grid_longitude</th>\n",
       "</tr>\n",
       "    <tr class=\"iris\">\n",
       "<td class=\"iris-word-cell iris-subheading-cell\">Shape</td>\n",
       "<td class=\"iris iris-inclusion-cell\">24</td>\n",
       "<td class=\"iris iris-inclusion-cell\">654</td>\n",
       "<td class=\"iris iris-inclusion-cell\">532</td>\n",
       "</tr>\n",
       "    <tr class=\"iris\">\n",
       "    <td class=\"iris-title iris-word-cell\">Dimension coordinates</td>\n",
       "    <td class=\"iris-title\"></td>\n",
       "    <td class=\"iris-title\"></td>\n",
       "    <td class=\"iris-title\"></td>\n",
       "</tr>\n",
       "<tr class=\"iris\">\n",
       "    <td class=\"iris-word-cell iris-subheading-cell\">\ttime</td>\n",
       "    <td class=\"iris-inclusion-cell\">x</td>\n",
       "    <td class=\"iris-inclusion-cell\">-</td>\n",
       "    <td class=\"iris-inclusion-cell\">-</td>\n",
       "</tr>\n",
       "<tr class=\"iris\">\n",
       "    <td class=\"iris-word-cell iris-subheading-cell\">\tgrid_latitude</td>\n",
       "    <td class=\"iris-inclusion-cell\">-</td>\n",
       "    <td class=\"iris-inclusion-cell\">x</td>\n",
       "    <td class=\"iris-inclusion-cell\">-</td>\n",
       "</tr>\n",
       "<tr class=\"iris\">\n",
       "    <td class=\"iris-word-cell iris-subheading-cell\">\tgrid_longitude</td>\n",
       "    <td class=\"iris-inclusion-cell\">-</td>\n",
       "    <td class=\"iris-inclusion-cell\">-</td>\n",
       "    <td class=\"iris-inclusion-cell\">x</td>\n",
       "</tr>\n",
       "<tr class=\"iris\">\n",
       "    <td class=\"iris-title iris-word-cell\">Auxiliary coordinates</td>\n",
       "    <td class=\"iris-title\"></td>\n",
       "    <td class=\"iris-title\"></td>\n",
       "    <td class=\"iris-title\"></td>\n",
       "</tr>\n",
       "<tr class=\"iris\">\n",
       "    <td class=\"iris-word-cell iris-subheading-cell\">\tforecast_period</td>\n",
       "    <td class=\"iris-inclusion-cell\">x</td>\n",
       "    <td class=\"iris-inclusion-cell\">-</td>\n",
       "    <td class=\"iris-inclusion-cell\">-</td>\n",
       "</tr>\n",
       "<tr class=\"iris\">\n",
       "    <td class=\"iris-title iris-word-cell\">Scalar coordinates</td>\n",
       "    <td class=\"iris-title\"></td>\n",
       "    <td class=\"iris-title\"></td>\n",
       "    <td class=\"iris-title\"></td>\n",
       "</tr>\n",
       "<tr class=\"iris\">\n",
       "    <td class=\"iris-word-cell iris-subheading-cell\">\tforecast_reference_time         1999-09-01 00</td>\n",
       "    <td class=\"iris-word-cell\" colspan=\"3\">0:00<br>realization                     1100000</td>\n",
       "</tr>\n",
       "<tr class=\"iris\">\n",
       "    <td class=\"iris-title iris-word-cell\">Cell methods</td>\n",
       "    <td class=\"iris-title\"></td>\n",
       "    <td class=\"iris-title\"></td>\n",
       "    <td class=\"iris-title\"></td>\n",
       "</tr>\n",
       "<tr class=\"iris\">\n",
       "    <td class=\"iris-word-cell iris-subheading-cell\">\tmean                            time (1 hour)</td>\n",
       "    <td class=\"iris-word-cell\" colspan=\"3\"></td>\n",
       "</tr>\n",
       "<tr class=\"iris\">\n",
       "    <td class=\"iris-title iris-word-cell\">Attributes</td>\n",
       "    <td class=\"iris-title\"></td>\n",
       "    <td class=\"iris-title\"></td>\n",
       "    <td class=\"iris-title\"><br>STASH                           m01s04i203<br>source                          Data from Met Office Unified Model<br>um_version                      10.6</td>\n",
       "</tr>\n",
       "</table>\n",
       "        "
      ],
      "text/plain": [
       "<iris 'Cube' of stratiform_rainfall_flux / (kg m-2 s-1) (time: 24; grid_latitude: 654; grid_longitude: 532)>"
      ]
     },
     "execution_count": 56,
     "metadata": {},
     "output_type": "execute_result"
    }
   ],
   "source": [
    " monthly_cubes_list[0]"
   ]
  },
  {
   "cell_type": "code",
   "execution_count": 79,
   "id": "f54a720b",
   "metadata": {},
   "outputs": [
    {
     "name": "stderr",
     "output_type": "stream",
     "text": [
      "/nfs/a321/gy17m2a/anaconda_install/anaconda3/envs/pygeospatial/lib/python3.9/site-packages/iris/fileformats/pp.py:1563: UserWarning: has_year_zero kwarg ignored for idealized calendars (always True)\n",
      "  self._t1 = cftime.datetime(\n",
      "/nfs/a321/gy17m2a/anaconda_install/anaconda3/envs/pygeospatial/lib/python3.9/site-packages/iris/fileformats/pp.py:1598: UserWarning: has_year_zero kwarg ignored for idealized calendars (always True)\n",
      "  self._t2 = cftime.datetime(\n",
      "/nfs/a321/gy17m2a/anaconda_install/anaconda3/envs/pygeospatial/lib/python3.9/site-packages/cf_units/__init__.py:402: UserWarning: has_year_zero kwarg ignored for idealized calendars (always True)\n",
      "  dates = np.array([dt and dt.replace(microsecond=0) for dt in dates])\n"
     ]
    },
    {
     "ename": "ConstraintMismatchError",
     "evalue": "no cubes found",
     "output_type": "error",
     "traceback": [
      "\u001b[0;31m---------------------------------------------------------------------------\u001b[0m",
      "\u001b[0;31mValueError\u001b[0m                                Traceback (most recent call last)",
      "File \u001b[0;32m/nfs/a321/gy17m2a/anaconda_install/anaconda3/envs/pygeospatial/lib/python3.9/site-packages/iris/__init__.py:336\u001b[0m, in \u001b[0;36mload_cube\u001b[0;34m(uris, constraint, callback)\u001b[0m\n\u001b[1;32m    335\u001b[0m \u001b[38;5;28;01mtry\u001b[39;00m:\n\u001b[0;32m--> 336\u001b[0m     cube \u001b[38;5;241m=\u001b[39m \u001b[43mcubes\u001b[49m\u001b[38;5;241;43m.\u001b[39;49m\u001b[43mmerge_cube\u001b[49m\u001b[43m(\u001b[49m\u001b[43m)\u001b[49m\n\u001b[1;32m    337\u001b[0m \u001b[38;5;28;01mexcept\u001b[39;00m iris\u001b[38;5;241m.\u001b[39mexceptions\u001b[38;5;241m.\u001b[39mMergeError \u001b[38;5;28;01mas\u001b[39;00m e:\n",
      "File \u001b[0;32m/nfs/a321/gy17m2a/anaconda_install/anaconda3/envs/pygeospatial/lib/python3.9/site-packages/iris/cube.py:397\u001b[0m, in \u001b[0;36mCubeList.merge_cube\u001b[0;34m(self)\u001b[0m\n\u001b[1;32m    396\u001b[0m \u001b[38;5;28;01mif\u001b[39;00m \u001b[38;5;129;01mnot\u001b[39;00m \u001b[38;5;28mself\u001b[39m:\n\u001b[0;32m--> 397\u001b[0m     \u001b[38;5;28;01mraise\u001b[39;00m \u001b[38;5;167;01mValueError\u001b[39;00m(\u001b[38;5;124m\"\u001b[39m\u001b[38;5;124mcan\u001b[39m\u001b[38;5;124m'\u001b[39m\u001b[38;5;124mt merge an empty CubeList\u001b[39m\u001b[38;5;124m\"\u001b[39m)\n\u001b[1;32m    399\u001b[0m \u001b[38;5;66;03m# Register each of our cubes with a single ProtoCube.\u001b[39;00m\n",
      "\u001b[0;31mValueError\u001b[0m: can't merge an empty CubeList",
      "\nDuring handling of the above exception, another exception occurred:\n",
      "\u001b[0;31mConstraintMismatchError\u001b[0m                   Traceback (most recent call last)",
      "Cell \u001b[0;32mIn [79], line 2\u001b[0m\n\u001b[1;32m      1\u001b[0m \u001b[38;5;66;03m# cube = iris.load_cube ( filename , var & iris.Constraint (time = lambda cell : cell.point.year == year))\u001b[39;00m\n\u001b[0;32m----> 2\u001b[0m cube \u001b[38;5;241m=\u001b[39m \u001b[43miris\u001b[49m\u001b[38;5;241;43m.\u001b[39;49m\u001b[43mload_cube\u001b[49m\u001b[43m \u001b[49m\u001b[43m(\u001b[49m\u001b[43mone_yr_filenames\u001b[49m\u001b[43m \u001b[49m\u001b[43m,\u001b[49m\u001b[43m \u001b[49m\u001b[38;5;124;43m'\u001b[39;49m\u001b[38;5;124;43mStratiform Rainfall Flux (kg m-2 s-1)\u001b[39;49m\u001b[38;5;124;43m'\u001b[39;49m\u001b[43m)\u001b[49m\n\u001b[1;32m      3\u001b[0m \u001b[38;5;66;03m# cube = iris.load_cube (filenames[1])\u001b[39;00m\n\u001b[1;32m      4\u001b[0m cube\n",
      "File \u001b[0;32m/nfs/a321/gy17m2a/anaconda_install/anaconda3/envs/pygeospatial/lib/python3.9/site-packages/iris/__init__.py:340\u001b[0m, in \u001b[0;36mload_cube\u001b[0;34m(uris, constraint, callback)\u001b[0m\n\u001b[1;32m    338\u001b[0m     \u001b[38;5;28;01mraise\u001b[39;00m iris\u001b[38;5;241m.\u001b[39mexceptions\u001b[38;5;241m.\u001b[39mConstraintMismatchError(\u001b[38;5;28mstr\u001b[39m(e))\n\u001b[1;32m    339\u001b[0m \u001b[38;5;28;01mexcept\u001b[39;00m \u001b[38;5;167;01mValueError\u001b[39;00m:\n\u001b[0;32m--> 340\u001b[0m     \u001b[38;5;28;01mraise\u001b[39;00m iris\u001b[38;5;241m.\u001b[39mexceptions\u001b[38;5;241m.\u001b[39mConstraintMismatchError(\u001b[38;5;124m\"\u001b[39m\u001b[38;5;124mno cubes found\u001b[39m\u001b[38;5;124m\"\u001b[39m)\n\u001b[1;32m    342\u001b[0m \u001b[38;5;28;01mreturn\u001b[39;00m cube\n",
      "\u001b[0;31mConstraintMismatchError\u001b[0m: no cubes found"
     ]
    }
   ],
   "source": [
    "# cube = iris.load_cube ( filename , var & iris.Constraint (time = lambda cell : cell.point.year == year))\n",
    "cube = iris.load_cube (one_yr_filenames , 'Stratiform Rainfall Flux (kg m-2 s-1)')\n",
    "# cube = iris.load_cube (filenames[1])\n",
    "cube\n"
   ]
  }
 ],
 "metadata": {
  "kernelspec": {
   "display_name": "Python 3 (ipykernel)",
   "language": "python",
   "name": "python3"
  },
  "language_info": {
   "codemirror_mode": {
    "name": "ipython",
    "version": 3
   },
   "file_extension": ".py",
   "mimetype": "text/x-python",
   "name": "python",
   "nbconvert_exporter": "python",
   "pygments_lexer": "ipython3",
   "version": "3.9.7"
  }
 },
 "nbformat": 4,
 "nbformat_minor": 5
}
