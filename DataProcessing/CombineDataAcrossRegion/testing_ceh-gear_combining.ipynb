{
 "cells": [
  {
   "cell_type": "code",
   "execution_count": 1,
   "id": "581266c1",
   "metadata": {},
   "outputs": [],
   "source": [
    "import iris.coord_categorisation\n",
    "import iris\n",
    "import numpy as np\n",
    "import os\n",
    "import geopandas as gpd\n",
    "import sys\n",
    "import matplotlib \n",
    "import numpy.ma as ma\n",
    "import warnings\n",
    "import iris.quickplot as qplt\n",
    "import iris.plot as iplt\n",
    "import cartopy.crs as ccrs\n",
    "from matplotlib import colors\n",
    "import glob as glob\n",
    "import datetime\n",
    "warnings.simplefilter(action = 'ignore', category = FutureWarning)\n",
    "\n",
    "# Set up path to root directory\n",
    "root_fp = \"/nfs/a319/gy17m2a/PhD/\"\n",
    "os.chdir(root_fp)\n",
    "\n",
    "# Create path to files containing functions\n",
    "sys.path.insert(0, '/nfs/a319/gy17m2a/PhD/Scripts/GlobalFunctions')\n",
    "from Spatial_plotting_functions import *\n",
    "from Spatial_geometry_functions import *\n",
    "\n",
    "trim_to_leeds = False\n",
    "\n",
    "# Constraint to only load JJA data\n",
    "in_jja=iris.Constraint(time=lambda cell: 6 <= cell.point.month <= 8)\n",
    "\n",
    "##################################################################\n",
    "# Load necessary spatial data\n",
    "##################################################################\n",
    "# This is a square area surrounding Leeds\n",
    "leeds_at_centre_gdf = create_leeds_at_centre_outline({'init' :'epsg:3857'})\n",
    "uk_gdf = create_uk_outline({'init' :'epsg:3857'})\n"
   ]
  },
  {
   "cell_type": "code",
   "execution_count": 3,
   "id": "faabcd05",
   "metadata": {},
   "outputs": [
    {
     "name": "stdout",
     "output_type": "stream",
     "text": [
      "datadir/CEH-GEAR/CEH-GEAR_reformatted/rf_CEH-GEAR-1hr_1990*\n",
      "12\n",
      "Concatenating cube\n"
     ]
    }
   ],
   "source": [
    "resolution = '1km'\n",
    "years= range(1990,2015)\n",
    "year =1990\n",
    "\n",
    "# Create directory to store outputs in\n",
    "if resolution =='1km':\n",
    "    ddir = f\"ProcessedData/TimeSeries/CEH-GEAR/{resolution}/\"\n",
    "else:\n",
    "    ddir = f\"ProcessedData/TimeSeries/CEH-GEAR/{resolution}/NearestNeighbour/\"\n",
    "if not os.path.isdir(ddir):\n",
    "    os.makedirs(ddir)\n",
    "\n",
    "filenames =[]\n",
    "# Create filepath to correct folder using correct resolution\n",
    "if resolution == '1km': \n",
    "    general_filename = f'datadir/CEH-GEAR/CEH-GEAR_reformatted/rf_CEH-GEAR-1hr_{year}*'   \n",
    "elif resolution == '2.2km':\n",
    "    general_filename = f'datadir/CEH-GEAR/CEH-GEAR_regridded_2.2km/NearestNeighbour/rg_CEH-GEAR-1hr_{year}*'\n",
    "elif resolution == '12km':\n",
    "    general_filename = f'datadir/CEH-GEAR/CEH-GEAR_regridded_12km/NearestNeighbour/rg_CEH-GEAR-1hr_{year}*'\n",
    "print(general_filename)\n",
    "\n",
    "# Find all files in directory which start with this string\n",
    "for filename in glob.glob(general_filename):\n",
    "    filenames.append(filename)\n",
    "print(len(filenames))\n",
    "\n",
    "monthly_cubes_list = iris.load(filenames, in_jja)    \n",
    "#print(monthly_cubes_list)\n",
    "\n",
    "# Concatenate the cubes into one\n",
    "print('Concatenating cube')\n",
    "obs_cube = monthly_cubes_list.concatenate_cube()     \n",
    "#print(obs_cube) "
   ]
  },
  {
   "cell_type": "code",
   "execution_count": null,
   "id": "c922828d",
   "metadata": {},
   "outputs": [],
   "source": []
  },
  {
   "cell_type": "code",
   "execution_count": 55,
   "id": "7717c50d",
   "metadata": {},
   "outputs": [
    {
     "name": "stdout",
     "output_type": "stream",
     "text": [
      "datadir/CEH-GEAR/CEH-GEAR_reformatted/rf_CEH-GEAR-1hr_1990*\n",
      "12\n",
      "Concatenating cube\n",
      "trimming cube\n",
      "getting mask\n",
      "656537760\n",
      "min value is: 0.0\n",
      "max value is: 76.80000305175781\n",
      "mean value is: 0.09506487101316452\n",
      "datadir/CEH-GEAR/CEH-GEAR_reformatted/rf_CEH-GEAR-1hr_1991*\n",
      "12\n",
      "Concatenating cube\n",
      "trimming cube\n",
      "getting mask\n",
      "656537760\n",
      "min value is: 0.0\n",
      "max value is: 44.599998474121094\n",
      "mean value is: 0.09976404160261154\n",
      "datadir/CEH-GEAR/CEH-GEAR_reformatted/rf_CEH-GEAR-1hr_1992*\n",
      "12\n",
      "Concatenating cube\n",
      "trimming cube\n",
      "getting mask\n",
      "656537760\n",
      "min value is: 0.0\n",
      "max value is: 125.9000015258789\n",
      "mean value is: 0.12749764323234558\n",
      "datadir/CEH-GEAR/CEH-GEAR_reformatted/rf_CEH-GEAR-1hr_1993*\n",
      "12\n",
      "Concatenating cube\n",
      "trimming cube\n",
      "getting mask\n",
      "656537760\n",
      "min value is: 0.0\n",
      "max value is: 72.69999694824219\n",
      "mean value is: 0.0999448299407959\n",
      "datadir/CEH-GEAR/CEH-GEAR_reformatted/rf_CEH-GEAR-1hr_1994*\n",
      "12\n",
      "Concatenating cube\n",
      "trimming cube\n",
      "getting mask\n",
      "656537760\n",
      "min value is: 0.0\n",
      "max value is: 57.400001525878906\n",
      "mean value is: 0.0857473611831665\n",
      "datadir/CEH-GEAR/CEH-GEAR_reformatted/rf_CEH-GEAR-1hr_1995*\n",
      "12\n",
      "Concatenating cube\n",
      "trimming cube\n",
      "getting mask\n",
      "656537760\n",
      "min value is: 0.0\n",
      "max value is: 52.0\n",
      "mean value is: 0.047141432762145996\n",
      "datadir/CEH-GEAR/CEH-GEAR_reformatted/rf_CEH-GEAR-1hr_1996*\n",
      "12\n",
      "Concatenating cube\n",
      "trimming cube\n",
      "getting mask\n",
      "656537760\n",
      "min value is: 0.0\n",
      "max value is: 132.39999389648438\n",
      "mean value is: 0.07756662368774414\n",
      "datadir/CEH-GEAR/CEH-GEAR_reformatted/rf_CEH-GEAR-1hr_1997*\n",
      "12\n",
      "Concatenating cube\n",
      "trimming cube\n",
      "getting mask\n",
      "656537760\n",
      "min value is: 0.0\n",
      "max value is: 56.400001525878906\n",
      "mean value is: 0.11681344360113144\n",
      "datadir/CEH-GEAR/CEH-GEAR_reformatted/rf_CEH-GEAR-1hr_1998*\n",
      "12\n",
      "Concatenating cube\n",
      "trimming cube\n",
      "getting mask\n",
      "656537760\n",
      "min value is: 0.0\n",
      "max value is: 63.70000076293945\n",
      "mean value is: 0.12748345732688904\n",
      "datadir/CEH-GEAR/CEH-GEAR_reformatted/rf_CEH-GEAR-1hr_1999*\n",
      "12\n",
      "Concatenating cube\n",
      "trimming cube\n",
      "getting mask\n",
      "656537760\n",
      "min value is: 0.0\n",
      "max value is: 63.70000076293945\n",
      "mean value is: 0.10358751565217972\n",
      "datadir/CEH-GEAR/CEH-GEAR_reformatted/rf_CEH-GEAR-1hr_2000*\n",
      "12\n",
      "Concatenating cube\n",
      "trimming cube\n",
      "getting mask\n",
      "656537760\n",
      "min value is: 0.0\n",
      "max value is: 56.400001525878906\n",
      "mean value is: 0.09078265726566315\n",
      "datadir/CEH-GEAR/CEH-GEAR_reformatted/rf_CEH-GEAR-1hr_2001*\n",
      "12\n",
      "Concatenating cube\n",
      "trimming cube\n",
      "getting mask\n",
      "656537760\n",
      "min value is: 0.0\n",
      "max value is: 58.400001525878906\n",
      "mean value is: 0.10531656444072723\n",
      "datadir/CEH-GEAR/CEH-GEAR_reformatted/rf_CEH-GEAR-1hr_2002*\n",
      "12\n",
      "Concatenating cube\n",
      "trimming cube\n",
      "getting mask\n",
      "656537760\n",
      "min value is: 0.0\n",
      "max value is: 80.4000015258789\n",
      "mean value is: 0.1139940470457077\n",
      "datadir/CEH-GEAR/CEH-GEAR_reformatted/rf_CEH-GEAR-1hr_2003*\n",
      "12\n",
      "Concatenating cube\n",
      "trimming cube\n",
      "getting mask\n",
      "656537760\n",
      "min value is: 0.0\n",
      "max value is: 48.599998474121094\n",
      "mean value is: 0.07736604660749435\n",
      "datadir/CEH-GEAR/CEH-GEAR_reformatted/rf_CEH-GEAR-1hr_2004*\n",
      "12\n",
      "Concatenating cube\n",
      "trimming cube\n",
      "getting mask\n",
      "656537760\n",
      "min value is: 0.0\n",
      "max value is: 159.60000610351562\n",
      "mean value is: 0.1412501335144043\n",
      "datadir/CEH-GEAR/CEH-GEAR_reformatted/rf_CEH-GEAR-1hr_2005*\n",
      "12\n",
      "Concatenating cube\n",
      "trimming cube\n",
      "getting mask\n",
      "656537760\n",
      "min value is: 0.0\n",
      "max value is: 55.70000076293945\n",
      "mean value is: 0.09657271206378937\n",
      "datadir/CEH-GEAR/CEH-GEAR_reformatted/rf_CEH-GEAR-1hr_2006*\n",
      "12\n",
      "Concatenating cube\n",
      "trimming cube\n",
      "getting mask\n",
      "656537760\n",
      "min value is: 0.0\n",
      "max value is: 60.5\n",
      "mean value is: 0.08074111491441727\n",
      "datadir/CEH-GEAR/CEH-GEAR_reformatted/rf_CEH-GEAR-1hr_2007*\n",
      "12\n",
      "Concatenating cube\n",
      "trimming cube\n",
      "getting mask\n",
      "656537760\n",
      "min value is: 0.0\n",
      "max value is: 56.79999923706055\n",
      "mean value is: 0.15668782591819763\n",
      "datadir/CEH-GEAR/CEH-GEAR_reformatted/rf_CEH-GEAR-1hr_2008*\n",
      "12\n",
      "Concatenating cube\n",
      "trimming cube\n",
      "getting mask\n",
      "656537760\n",
      "min value is: 0.0\n",
      "max value is: 52.599998474121094\n",
      "mean value is: 0.13945388793945312\n",
      "datadir/CEH-GEAR/CEH-GEAR_reformatted/rf_CEH-GEAR-1hr_2009*\n",
      "12\n",
      "Concatenating cube\n",
      "trimming cube\n",
      "getting mask\n",
      "656537760\n",
      "min value is: 0.0\n",
      "max value is: 87.4000015258789\n",
      "mean value is: 0.14078204333782196\n",
      "datadir/CEH-GEAR/CEH-GEAR_reformatted/rf_CEH-GEAR-1hr_2010*\n",
      "12\n",
      "Concatenating cube\n",
      "trimming cube\n",
      "getting mask\n",
      "656537760\n",
      "min value is: 0.0\n",
      "max value is: 59.79999923706055\n",
      "mean value is: 0.10827428102493286\n",
      "datadir/CEH-GEAR/CEH-GEAR_reformatted/rf_CEH-GEAR-1hr_2011*\n",
      "12\n",
      "Concatenating cube\n",
      "trimming cube\n",
      "getting mask\n",
      "656537760\n",
      "min value is: 0.0\n",
      "max value is: 131.60000610351562\n",
      "mean value is: 0.11969507485628128\n",
      "datadir/CEH-GEAR/CEH-GEAR_reformatted/rf_CEH-GEAR-1hr_2012*\n",
      "12\n",
      "Concatenating cube\n",
      "trimming cube\n",
      "getting mask\n",
      "656537760\n",
      "min value is: 0.0\n",
      "max value is: 56.599998474121094\n",
      "mean value is: 0.16632255911827087\n",
      "datadir/CEH-GEAR/CEH-GEAR_reformatted/rf_CEH-GEAR-1hr_2013*\n",
      "12\n",
      "Concatenating cube\n",
      "trimming cube\n",
      "getting mask\n",
      "656537760\n",
      "min value is: 0.0\n",
      "max value is: 47.900001525878906\n",
      "mean value is: 0.08136318624019623\n",
      "datadir/CEH-GEAR/CEH-GEAR_reformatted/rf_CEH-GEAR-1hr_2014*\n",
      "12\n",
      "Concatenating cube\n",
      "trimming cube\n",
      "getting mask\n",
      "656537760\n",
      "min value is: 0.0\n",
      "max value is: 73.0\n",
      "mean value is: 0.1131652221083641\n"
     ]
    }
   ],
   "source": [
    "resolution = '1km'\n",
    "years= range(1990,2015)\n",
    "for year in years:\n",
    "\n",
    "    # Create directory to store outputs in\n",
    "    if resolution =='1km':\n",
    "        ddir = f\"ProcessedData/TimeSeries/CEH-GEAR/{resolution}/\"\n",
    "    else:\n",
    "        ddir = f\"ProcessedData/TimeSeries/CEH-GEAR/{resolution}/NearestNeighbour/\"\n",
    "    if not os.path.isdir(ddir):\n",
    "        os.makedirs(ddir)\n",
    "\n",
    "    filenames =[]\n",
    "    # Create filepath to correct folder using correct resolution\n",
    "    if resolution == '1km': \n",
    "        general_filename = f'datadir/CEH-GEAR/CEH-GEAR_reformatted/rf_CEH-GEAR-1hr_{year}*'   \n",
    "    elif resolution == '2.2km':\n",
    "        general_filename = f'datadir/CEH-GEAR/CEH-GEAR_regridded_2.2km/NearestNeighbour/rg_CEH-GEAR-1hr_{year}*'\n",
    "    elif resolution == '12km':\n",
    "        general_filename = f'datadir/CEH-GEAR/CEH-GEAR_regridded_12km/NearestNeighbour/rg_CEH-GEAR-1hr_{year}*'\n",
    "    print(general_filename)\n",
    "\n",
    "    # Find all files in directory which start with this string\n",
    "    for filename in glob.glob(general_filename):\n",
    "        filenames.append(filename)\n",
    "    print(len(filenames))\n",
    "\n",
    "    monthly_cubes_list = iris.load(filenames, in_jja)    \n",
    "    #print(monthly_cubes_list)\n",
    "\n",
    "    # Concatenate the cubes into one\n",
    "    print('Concatenating cube')\n",
    "    obs_cube = monthly_cubes_list.concatenate_cube()     \n",
    "    #print(obs_cube) \n",
    "    \n",
    "    ################################################################\n",
    "    ### Cut the cube to the extent of GDF surrounding UK  \n",
    "    ################################################################\n",
    "    obs_cube = trim_to_bbox_of_region_obs(obs_cube, uk_gdf)\n",
    "    \n",
    "    ################################################################\n",
    "    # Cut the cube to the extent of GDF surrounding Leeds  \n",
    "    ################################################################\n",
    "    print('trimming cube')\n",
    "    if trim_to_leeds == True:\n",
    "        if resolution == '2.2km':\n",
    "            obs_cube = trim_to_bbox_of_region_regriddedobs(obs_cube, leeds_at_centre_gdf)\n",
    "        else:\n",
    "              obs_cube = trim_to_bbox_of_region_obs(obs_cube, leeds_at_centre_gdf)\n",
    "    else:\n",
    "        if resolution == '2.2km':\n",
    "            obs_cube = trim_to_bbox_of_region_regriddedobs(obs_cube, uk_gdf)\n",
    "        else:\n",
    "            obs_cube = trim_to_bbox_of_region_obs(obs_cube, uk_gdf)\n",
    "            \n",
    "    ################################################################\n",
    "    ###  Get mask and regrid to the obs cube\n",
    "    ################################################################\n",
    "    print(\"getting mask\")\n",
    "    lsm_cubes_list = iris.load(\"/nfs/a319/gy17m2a/PhD/datadir/lsm_land-cpm_BI_5km.nc\")\n",
    "    lsm = lsm_cubes_list[0]\n",
    "    lsm_nn =lsm.regrid(obs_cube,iris.analysis.Nearest())  \n",
    "    \n",
    "    # Convert to shape of cube\n",
    "    broadcasted_lsm_data = np.broadcast_to(lsm_nn.data.data, obs_cube.shape)\n",
    "    # Convert to integer\n",
    "    broadcasted_lsm_data_int = broadcasted_lsm_data.astype(int)\n",
    "    # Reverse the array (it is the opposite way round to the exisitng val/no val mask on the radar data)\n",
    "    reversed_array = ~broadcasted_lsm_data_int.astype(bool)  \n",
    "    \n",
    "    ### Mask the cube using the lsm cube\n",
    "    masked_cube = iris.util.mask_cube(obs_cube, reversed_array)\n",
    "    \n",
    "    ### Compress data (flatten and remove masked values)\n",
    "    compressed = masked_cube.data.compressed()\n",
    "    compressed.shape[0]\n",
    "    print(len(compressed))\n",
    "    print(f\"min value is: {np.nanmin(compressed)}\")\n",
    "    print(f\"max value is: {np.nanmax(compressed)}\")\n",
    "    print(f\"mean value is: {np.nanmean(compressed)}\")\n",
    "    \n",
    "    # Save to file\n",
    "    np.save(ddir + f'{year}_compressed.npy', compressed) "
   ]
  },
  {
   "cell_type": "code",
   "execution_count": 47,
   "id": "66be1a47",
   "metadata": {},
   "outputs": [
    {
     "data": {
      "text/plain": [
       "array([6.441984e+08, 6.441984e+08, 6.441984e+08, ..., 6.521436e+08,\n",
       "       6.521436e+08, 6.521436e+08])"
      ]
     },
     "execution_count": 47,
     "metadata": {},
     "output_type": "execute_result"
    }
   ],
   "source": [
    "########\n",
    "# Get the times\n",
    "########\n",
    "# Step 2: Get the indices of the non-masked values in the original data\n",
    "non_masked_indices = np.where(~masked_cube.data.mask)\n",
    "\n",
    "# Step 3: Extract corresponding time values\n",
    "time_values = masked_cube.coord('time').points[non_masked_indices[0]]\n",
    "# np.save(ddir + f'{year}_timevalues.npy', time_values) \n",
    "time_values"
   ]
  },
  {
   "cell_type": "code",
   "execution_count": 51,
   "id": "44997e46",
   "metadata": {},
   "outputs": [],
   "source": [
    "test_time = time_values[:10]"
   ]
  },
  {
   "cell_type": "code",
   "execution_count": 53,
   "id": "7c965515",
   "metadata": {},
   "outputs": [
    {
     "data": {
      "text/plain": [
       "[datetime.datetime(1990, 6, 1, 1, 0),\n",
       " datetime.datetime(1990, 6, 1, 1, 0),\n",
       " datetime.datetime(1990, 6, 1, 1, 0),\n",
       " datetime.datetime(1990, 6, 1, 1, 0),\n",
       " datetime.datetime(1990, 6, 1, 1, 0),\n",
       " datetime.datetime(1990, 6, 1, 1, 0),\n",
       " datetime.datetime(1990, 6, 1, 1, 0),\n",
       " datetime.datetime(1990, 6, 1, 1, 0),\n",
       " datetime.datetime(1990, 6, 1, 1, 0),\n",
       " datetime.datetime(1990, 6, 1, 1, 0)]"
      ]
     },
     "execution_count": 53,
     "metadata": {},
     "output_type": "execute_result"
    }
   ],
   "source": [
    "# ################################################################  \n",
    "# times = obs_cube.coord('time').points\n",
    "# # Convert to datetimes\n",
    "times = [datetime.datetime.fromtimestamp(x).strftime(\"%x %X\") for x in test_time]\n",
    "times= [datetime.datetime.strptime(x, '%m/%d/%y %H:%M:%S') for x in times]\n",
    "times\n",
    "# # Convert to datetime - doesnt work due to 30 days in Feb\n",
    "# np.save(f\"ProcessedData/TimeSeries/CEH-GEAR/{resolution}/timestamps.npy\", times) "
   ]
  },
  {
   "cell_type": "markdown",
   "id": "8a6d7d56",
   "metadata": {},
   "source": [
    "### Check plotting"
   ]
  },
  {
   "cell_type": "code",
   "execution_count": 10,
   "id": "960cbccc",
   "metadata": {},
   "outputs": [
    {
     "name": "stderr",
     "output_type": "stream",
     "text": [
      "/nfs/a321/gy17m2a/anaconda_install/anaconda3/envs/ukcp18/lib/python3.7/site-packages/iris/coord_systems.py:531: UserWarning: The default value for the *approx* keyword argument to TransverseMercator will change from True to False after 0.18.\n",
      "  globe=globe,\n"
     ]
    },
    {
     "data": {
      "image/png": "[encoded data removed]",
      "text/plain": [
       "<Figure size 432x288 with 1 Axes>"
      ]
     },
     "metadata": {
      "needs_background": "light"
     },
     "output_type": "display_data"
    }
   ],
   "source": [
    "obs_cube = monthly_cubes_list.concatenate_cube()  \n",
    "iplt.contourf(obs_cube[0])\n",
    "plt.gca().coastlines(resolution='10m', color='black', linewidth=0.5);"
   ]
  },
  {
   "cell_type": "code",
   "execution_count": 5,
   "id": "f25f7b7b",
   "metadata": {},
   "outputs": [],
   "source": [
    "# ################################################################\n",
    "# # Once across all ensemble members, save a numpy array storing\n",
    "# # the timestamps to which the data refer\n",
    "# ################################################################  \n",
    "# times = obs_cube.coord('time').points\n",
    "# # Convert to datetimes\n",
    "# times = [datetime.datetime.fromtimestamp(x).strftime(\"%x %X\") for x in times]\n",
    "# times= [datetime.datetime.strptime(x, '%m/%d/%y %H:%M:%S') for x in times]\n",
    "\n",
    "# # Convert to datetime - doesnt work due to 30 days in Feb\n",
    "# np.save(f\"ProcessedData/TimeSeries/CEH-GEAR/{resolution}/timestamps.npy\", times) "
   ]
  },
  {
   "cell_type": "code",
   "execution_count": 29,
   "id": "27515cdb",
   "metadata": {},
   "outputs": [],
   "source": [
    "masked_cube = iris.util.mask_cube(obs_cube, reversed_array)"
   ]
  },
  {
   "cell_type": "markdown",
   "id": "185d05cd",
   "metadata": {},
   "source": [
    "### Check plotting"
   ]
  },
  {
   "cell_type": "code",
   "execution_count": 30,
   "id": "c0e95ed6",
   "metadata": {},
   "outputs": [
    {
     "name": "stderr",
     "output_type": "stream",
     "text": [
      "/nfs/a321/gy17m2a/anaconda_install/anaconda3/envs/ukcp18/lib/python3.7/site-packages/iris/coord_systems.py:531: UserWarning: The default value for the *approx* keyword argument to TransverseMercator will change from True to False after 0.18.\n",
      "  globe=globe,\n"
     ]
    },
    {
     "data": {
      "image/png": "[encoded data removed]",
      "text/plain": [
       "<Figure size 432x288 with 1 Axes>"
      ]
     },
     "metadata": {
      "needs_background": "light"
     },
     "output_type": "display_data"
    }
   ],
   "source": [
    "iplt.contourf(masked_cube[0])\n",
    "plt.gca().coastlines(resolution='10m', color='black', linewidth=0.5);"
   ]
  },
  {
   "cell_type": "code",
   "execution_count": 31,
   "id": "ae666fa3",
   "metadata": {},
   "outputs": [
    {
     "data": {
      "text/plain": [
       "656537760"
      ]
     },
     "execution_count": 31,
     "metadata": {},
     "output_type": "execute_result"
    }
   ],
   "source": [
    "compressed = masked_cube.data.compressed()\n",
    "compressed.shape[0]"
   ]
  },
  {
   "cell_type": "code",
   "execution_count": 45,
   "id": "242a0459",
   "metadata": {},
   "outputs": [
    {
     "data": {
      "text/plain": [
       "516243648"
      ]
     },
     "execution_count": 45,
     "metadata": {},
     "output_type": "execute_result"
    }
   ],
   "source": [
    "compressed_nonan = compressed[~np.isnan(compressed)]\n",
    "len(compressed_nonan)"
   ]
  },
  {
   "cell_type": "code",
   "execution_count": 44,
   "id": "4ea23037",
   "metadata": {},
   "outputs": [
    {
     "data": {
      "text/plain": [
       "521955744"
      ]
     },
     "execution_count": 44,
     "metadata": {},
     "output_type": "execute_result"
    }
   ],
   "source": [
    "# flat = obs_cube.data.flatten()\n",
    "flat_nonan = flat[~np.isnan(flat)]\n",
    "len(flat)\n",
    "len(flat_nonan)\n",
    "\n",
    "# 1853441568\n",
    "# 656537760\n",
    "# 521955744\n",
    "# 516243648"
   ]
  },
  {
   "cell_type": "markdown",
   "id": "14750ae8",
   "metadata": {},
   "source": [
    "### Sense check min/max values"
   ]
  },
  {
   "cell_type": "code",
   "execution_count": 36,
   "id": "b280f704",
   "metadata": {},
   "outputs": [
    {
     "name": "stdout",
     "output_type": "stream",
     "text": [
      "0.0\n",
      "76.8\n",
      "0.09506487\n"
     ]
    }
   ],
   "source": [
    "print(np.nanmin(compressed))\n",
    "print(np.nanmax(compressed))\n",
    "print(np.nanmean(compressed))"
   ]
  },
  {
   "cell_type": "code",
   "execution_count": 37,
   "id": "8acedc41",
   "metadata": {},
   "outputs": [
    {
     "name": "stdout",
     "output_type": "stream",
     "text": [
      "0.0\n",
      "76.8\n",
      "0.09506425\n"
     ]
    }
   ],
   "source": [
    "print(np.nanmin(flat))\n",
    "print(np.nanmax(flat))\n",
    "print(np.nanmean(flat))"
   ]
  },
  {
   "cell_type": "markdown",
   "id": "1cdee8a2",
   "metadata": {},
   "source": [
    "### Save to numpy array"
   ]
  },
  {
   "cell_type": "code",
   "execution_count": null,
   "id": "11274cf7",
   "metadata": {},
   "outputs": [],
   "source": [
    "np.save(ddir + f'{year}_compressed.npy', compressed) "
   ]
  },
  {
   "cell_type": "code",
   "execution_count": 27,
   "id": "1af78774",
   "metadata": {},
   "outputs": [],
   "source": []
  },
  {
   "cell_type": "code",
   "execution_count": 16,
   "id": "35434b19",
   "metadata": {},
   "outputs": [],
   "source": [
    "# obs_cube_uk  = trim_to_bbox_of_region_obs(obs_cube, uk_gdf)\n",
    "# obs_cube_uk"
   ]
  },
  {
   "cell_type": "code",
   "execution_count": 8,
   "id": "8c3e68e9",
   "metadata": {},
   "outputs": [],
   "source": [
    "# test = obs_cube[:10000, :, :]"
   ]
  },
  {
   "cell_type": "code",
   "execution_count": 17,
   "id": "9f66a260",
   "metadata": {},
   "outputs": [],
   "source": [
    "# compressed = masked_cube.data.compressed()\n",
    "# compressed.shape[0]"
   ]
  }
 ],
 "metadata": {
  "kernelspec": {
   "display_name": "Python 3 (ipykernel)",
   "language": "python",
   "name": "python3"
  },
  "language_info": {
   "codemirror_mode": {
    "name": "ipython",
    "version": 3
   },
   "file_extension": ".py",
   "mimetype": "text/x-python",
   "name": "python",
   "nbconvert_exporter": "python",
   "pygments_lexer": "ipython3",
   "version": "3.7.13"
  }
 },
 "nbformat": 4,
 "nbformat_minor": 5
}
