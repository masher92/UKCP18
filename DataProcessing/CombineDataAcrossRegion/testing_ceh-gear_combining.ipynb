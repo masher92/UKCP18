{
 "cells": [
  {
   "cell_type": "code",
   "execution_count": 1,
   "id": "581266c1",
   "metadata": {},
   "outputs": [],
   "source": [
    "import iris.coord_categorisation\n",
    "import iris\n",
    "import numpy as np\n",
    "import os\n",
    "import geopandas as gpd\n",
    "import sys\n",
    "import matplotlib \n",
    "import numpy.ma as ma\n",
    "import warnings\n",
    "import iris.quickplot as qplt\n",
    "import iris.plot as iplt\n",
    "import cartopy.crs as ccrs\n",
    "from matplotlib import colors\n",
    "import glob as glob\n",
    "import datetime\n",
    "warnings.simplefilter(action = 'ignore', category = FutureWarning)\n",
    "\n",
    "# Set up path to root directory\n",
    "root_fp = \"/nfs/a319/gy17m2a/PhD/\"\n",
    "os.chdir(root_fp)\n",
    "\n",
    "# Create path to files containing functions\n",
    "sys.path.insert(0, '/nfs/a319/gy17m2a/PhD/Scripts/GlobalFunctions')\n",
    "from Spatial_plotting_functions import *\n",
    "from Spatial_geometry_functions import *\n",
    "\n",
    "trim_to_leeds = False\n",
    "\n",
    "# Constraint to only load JJA data\n",
    "in_jja=iris.Constraint(time=lambda cell: 6 <= cell.point.month <= 8)\n",
    "\n",
    "##################################################################\n",
    "# Load necessary spatial data\n",
    "##################################################################\n",
    "# This is a square area surrounding Leeds\n",
    "leeds_at_centre_gdf = create_leeds_at_centre_outline({'init' :'epsg:3857'})\n",
    "uk_gdf = create_uk_outline({'init' :'epsg:3857'})\n"
   ]
  },
  {
   "cell_type": "code",
   "execution_count": 3,
   "id": "7717c50d",
   "metadata": {},
   "outputs": [
    {
     "name": "stdout",
     "output_type": "stream",
     "text": [
      "datadir/CEH-GEAR/CEH-GEAR_reformatted/*\n",
      "300\n",
      "Concatenating cube\n"
     ]
    }
   ],
   "source": [
    "resolution = '1km'\n",
    "# Create directory to store outputs in\n",
    "if resolution =='1km':\n",
    "    ddir = f\"ProcessedData/TimeSeries/CEH-GEAR/{resolution}/\"\n",
    "else:\n",
    "    ddir = f\"ProcessedData/TimeSeries/CEH-GEAR/{resolution}/NearestNeighbour/\"\n",
    "if not os.path.isdir(ddir):\n",
    "    os.makedirs(ddir)\n",
    "\n",
    "filenames =[]\n",
    "# Create filepath to correct folder using correct resolution\n",
    "if resolution == '1km': \n",
    "    general_filename = 'datadir/CEH-GEAR/CEH-GEAR_reformatted/*'   \n",
    "elif resolution == '2.2km':\n",
    "    general_filename = 'datadir/CEH-GEAR/CEH-GEAR_regridded_2.2km/NearestNeighbour/*'\n",
    "elif resolution == '12km':\n",
    "    general_filename = 'datadir/CEH-GEAR/CEH-GEAR_regridded_12km/NearestNeighbour/*'\n",
    "print(general_filename)\n",
    "\n",
    "# Find all files in directory which start with this string\n",
    "for filename in glob.glob(general_filename):\n",
    "    filenames.append(filename)\n",
    "print(len(filenames))\n",
    "\n",
    "monthly_cubes_list = iris.load(filenames, in_jja)    \n",
    "#print(monthly_cubes_list)\n",
    "\n",
    "# Concatenate the cubes into one\n",
    "print('Concatenating cube')\n",
    "obs_cube = monthly_cubes_list.concatenate_cube()     \n",
    "#print(obs_cube) "
   ]
  },
  {
   "cell_type": "code",
   "execution_count": 4,
   "id": "ff7a40fa",
   "metadata": {},
   "outputs": [
    {
     "name": "stdout",
     "output_type": "stream",
     "text": [
      "trimming cube\n"
     ]
    }
   ],
   "source": [
    "################################################################\n",
    "# Cut the cube to the extent of GDF surrounding Leeds  \n",
    "################################################################\n",
    "print('trimming cube')\n",
    "if trim_to_leeds == True:\n",
    "    if resolution == '2.2km':\n",
    "        obs_cube = trim_to_bbox_of_region_regriddedobs(obs_cube, leeds_at_centre_gdf)\n",
    "    else:\n",
    "          obs_cube = trim_to_bbox_of_region_obs(obs_cube, leeds_at_centre_gdf)\n",
    "else:\n",
    "    if resolution == '2.2km':\n",
    "        obs_cube = trim_to_bbox_of_region_regriddedobs(obs_cube, uk_gdf)\n",
    "    else:\n",
    "        obs_cube = trim_to_bbox_of_region_obs(obs_cube, uk_gdf)\n"
   ]
  },
  {
   "cell_type": "code",
   "execution_count": 5,
   "id": "f25f7b7b",
   "metadata": {},
   "outputs": [
    {
     "name": "stdout",
     "output_type": "stream",
     "text": [
      "getting mask\n"
     ]
    }
   ],
   "source": [
    "################################################################\n",
    "# Once across all ensemble members, save a numpy array storing\n",
    "# the timestamps to which the data refer\n",
    "################################################################  \n",
    "times = obs_cube.coord('time').points\n",
    "# Convert to datetimes\n",
    "times = [datetime.datetime.fromtimestamp(x).strftime(\"%x %X\") for x in times]\n",
    "times= [datetime.datetime.strptime(x, '%m/%d/%y %H:%M:%S') for x in times]\n",
    "\n",
    "# Convert to datetime - doesnt work due to 30 days in Feb\n",
    "np.save(f\"ProcessedData/TimeSeries/CEH-GEAR/{resolution}/timestamps.npy\", times) "
   ]
  },
  {
   "cell_type": "markdown",
   "id": "bf661886",
   "metadata": {},
   "source": [
    "################################################################\n",
    "###  Get mask and regrid to the obs cube\n",
    "################################################################  "
   ]
  },
  {
   "cell_type": "code",
   "execution_count": null,
   "id": "b68f8721",
   "metadata": {},
   "outputs": [],
   "source": [
    "print(\"getting mask\")\n",
    "lsm_cubes_list = iris.load(\"/nfs/a319/gy17m2a/PhD/datadir/lsm_land-cpm_BI_5km.nc\")\n",
    "lsm = lsm_cubes_list[0]\n",
    "lsm_nn =lsm.regrid(obs_cube,iris.analysis.Nearest())   "
   ]
  },
  {
   "cell_type": "code",
   "execution_count": 29,
   "id": "cd43b8fb",
   "metadata": {},
   "outputs": [],
   "source": [
    "# # Convert to shape of cube\n",
    "# broadcasted_lsm_data = np.broadcast_to(lsm_nn.data.data, obs_cube.shape)\n",
    "# # Convert to integer\n",
    "# broadcasted_lsm_data_int = broadcasted_lsm_data.astype(int)\n",
    "# # Reverse the array (it is the opposite way round to the exisitng val/no val mask on the radar data)\n",
    "# reversed_array = ~broadcasted_lsm_data_int.astype(bool)"
   ]
  },
  {
   "cell_type": "markdown",
   "id": "19791a6e",
   "metadata": {},
   "source": [
    "### Make smaller version of cube, which doesn't exceed memory limits"
   ]
  },
  {
   "cell_type": "code",
   "execution_count": null,
   "id": "7a3cec07",
   "metadata": {},
   "outputs": [],
   "source": [
    "test = obs_cube[:30000,:,:]\n",
    "# Convert to shape of cube\n",
    "broadcasted_lsm_data = np.broadcast_to(lsm_nn.data.data, test.shape)\n",
    "# Convert to integer\n",
    "broadcasted_lsm_data_int = broadcasted_lsm_data.astype(int)\n",
    "# Reverse the array (it is the opposite way round to the exisitng val/no val mask on the radar data)\n",
    "reversed_array = ~broadcasted_lsm_data_int.astype(bool)"
   ]
  },
  {
   "cell_type": "markdown",
   "id": "e807ec92",
   "metadata": {},
   "source": [
    "### Mask the cube using the lsm cube"
   ]
  },
  {
   "cell_type": "code",
   "execution_count": null,
   "id": "27515cdb",
   "metadata": {},
   "outputs": [],
   "source": [
    "masked_cube = iris.util.mask_cube(test, reversed_array)"
   ]
  },
  {
   "cell_type": "markdown",
   "id": "185d05cd",
   "metadata": {},
   "source": [
    "### Check plotting"
   ]
  },
  {
   "cell_type": "code",
   "execution_count": null,
   "id": "c0e95ed6",
   "metadata": {},
   "outputs": [],
   "source": [
    "iplt.contourf(masked_cube[0])\n",
    "plt.gca().coastlines(resolution='10m', color='black', linewidth=0.5);"
   ]
  },
  {
   "cell_type": "markdown",
   "id": "633bbdaa",
   "metadata": {},
   "source": [
    "### Compress data (flatten and remove masked values)"
   ]
  },
  {
   "cell_type": "code",
   "execution_count": null,
   "id": "ae666fa3",
   "metadata": {},
   "outputs": [],
   "source": [
    "compressed = masked_cube.data.compressed()\n",
    "compressed.shape[0]"
   ]
  },
  {
   "cell_type": "markdown",
   "id": "14750ae8",
   "metadata": {},
   "source": [
    "### Sense check min/max values"
   ]
  },
  {
   "cell_type": "code",
   "execution_count": null,
   "id": "b280f704",
   "metadata": {},
   "outputs": [],
   "source": [
    "print(np.nanmin(compressed))\n",
    "print(np.nanmax(compressed))"
   ]
  },
  {
   "cell_type": "markdown",
   "id": "1cdee8a2",
   "metadata": {},
   "source": [
    "### Save to numpy array"
   ]
  },
  {
   "cell_type": "code",
   "execution_count": null,
   "id": "11274cf7",
   "metadata": {},
   "outputs": [],
   "source": [
    "np.save(ddir + f'{year}_compressed.npy', compressed) "
   ]
  },
  {
   "cell_type": "code",
   "execution_count": 27,
   "id": "1af78774",
   "metadata": {},
   "outputs": [],
   "source": []
  },
  {
   "cell_type": "code",
   "execution_count": 16,
   "id": "35434b19",
   "metadata": {},
   "outputs": [],
   "source": [
    "# obs_cube_uk  = trim_to_bbox_of_region_obs(obs_cube, uk_gdf)\n",
    "# obs_cube_uk"
   ]
  },
  {
   "cell_type": "code",
   "execution_count": 8,
   "id": "8c3e68e9",
   "metadata": {},
   "outputs": [],
   "source": [
    "# test = obs_cube[:10000, :, :]"
   ]
  },
  {
   "cell_type": "code",
   "execution_count": 17,
   "id": "9f66a260",
   "metadata": {},
   "outputs": [],
   "source": [
    "# compressed = masked_cube.data.compressed()\n",
    "# compressed.shape[0]"
   ]
  }
 ],
 "metadata": {
  "kernelspec": {
   "display_name": "Python 3 (ipykernel)",
   "language": "python",
   "name": "python3"
  },
  "language_info": {
   "codemirror_mode": {
    "name": "ipython",
    "version": 3
   },
   "file_extension": ".py",
   "mimetype": "text/x-python",
   "name": "python",
   "nbconvert_exporter": "python",
   "pygments_lexer": "ipython3",
   "version": "3.7.13"
  }
 },
 "nbformat": 4,
 "nbformat_minor": 5
}
