{
 "cells": [
  {
   "cell_type": "code",
   "execution_count": 41,
   "id": "cb3fbddf",
   "metadata": {},
   "outputs": [
    {
     "name": "stdout",
     "output_type": "stream",
     "text": [
      "15 2.2km_regridded_12km False\n",
      "15 1995\n",
      "loading 3 files\n",
      "3\n",
      "getting mask\n"
     ]
    }
   ],
   "source": [
    "##################################################################\n",
    "# This Script:\n",
    "#    - \n",
    "#    -\n",
    "#    -\n",
    "\n",
    "##################################################################\n",
    "import iris\n",
    "import os\n",
    "import glob as sir_globington_the_file_gatherer\n",
    "import datetime as datetime\n",
    "import iris.coord_categorisation as cat\n",
    "import sys\n",
    "import time\n",
    "import multiprocessing as mp\n",
    "import iris.plot as iplt\n",
    "\n",
    "# Set up path to root directory\n",
    "root_fp = \"/nfs/a319/gy17m2a/PhD/\"\n",
    "os.chdir(root_fp)\n",
    "\n",
    "import warnings\n",
    "warnings.simplefilter(action='ignore', category=FutureWarning)\n",
    "from warnings import simplefilter\n",
    "warnings.filterwarnings(\"ignore\", category =UserWarning,)\n",
    "\n",
    "# Create path to files containing functions\n",
    "sys.path.insert(0, root_fp + 'Scripts/GlobalFunctions')\n",
    "from Spatial_plotting_functions import *\n",
    "from Spatial_geometry_functions import *\n",
    "\n",
    "trim_to_leeds = False\n",
    "\n",
    "##################################################################\n",
    "# Load necessary spatial data\n",
    "##################################################################\n",
    "# This is a square area surrounding Leeds\n",
    "uk_gdf = create_uk_outline({'init' :'epsg:3857'})\n",
    "gb_gdf = create_gb_outline({'init' :'epsg:3857'})\n",
    "##################################################################\n",
    "\n",
    "# Constraint to only load \n",
    "in_jja=iris.Constraint(time=lambda cell: 6 <= cell.point.month <= 8)\n",
    "\n",
    "yrs_range = \"1980_2001\"\n",
    "yrs= range(1987,1989)\n",
    "resolution = '2.2km_regridded_12km' #2.2km, 12km, 2.2km_regridded_12km\n",
    "\n",
    "### Establish the ensemble members\n",
    "ems = [ '15']\n",
    "yr= 1995\n",
    "em = '15'\n",
    "yr=1995\n",
    "ddir = f\"ProcessedData/TimeSeries/UKCP18_hourly/{resolution}/{yrs_range}/{em}/\"\n",
    "\n",
    "print(em, resolution, trim_to_leeds)\n",
    "print(em, yr)\n",
    "\n",
    "# ### Get a list of filenames for this ensemble member, for just JJA\n",
    "if resolution == '2.2km':\n",
    "    general_filename = f'/nfs/a319/gy17m2a/PhD/datadir/UKCP18_hourly/{resolution}/{em}/{yrs_range}/pr_rcp85_land-cpm_uk_2.2km_{em}_1hr_{yr}*'\n",
    "elif resolution == '12km':\n",
    "      general_filename = f'/nfs/a319/gy17m2a/PhD/datadir/UKCP18_hourly/{resolution}/{em}/{yrs_range}/pr_rcp85_land-rcm_uk_12km_{em}_day_*'\n",
    "elif resolution == '2.2km_regridded_12km':\n",
    "    general_filename = f'/nfs/a319/gy17m2a/PhD/datadir/UKCP18_hourly/{resolution}/{em}/NearestNeighbour/{yrs_range}/rg_pr_rcp85_land-cpm_uk_2.2km_{em}_1hr_{yr}*'\n",
    "\n",
    "filenames = []\n",
    "for filename in sir_globington_the_file_gatherer.glob(general_filename):\n",
    "    filenames.append(filename)\n",
    "print(f\"loading {len(filenames)} files\")\n",
    "\n",
    "# ### Load in the data\n",
    "monthly_cubes_list = iris.load(filenames, in_jja)\n",
    "print(len(monthly_cubes_list))\n",
    "\n",
    "for cube in monthly_cubes_list:\n",
    "     for attr in ['creation_date', 'tracking_id', 'history', 'Conventions']:\n",
    "            if attr in cube.attributes:\n",
    "                del cube.attributes[attr]\n",
    "\n",
    "# ### Concatenate cubes into one\n",
    "model_cube = monthly_cubes_list.concatenate_cube()      \n",
    "\n",
    "### Remove ensemble member dimension\n",
    "model_cube = model_cube[0,:,:,:]\n",
    "\n",
    "# ### Trim to UK\n",
    "if resolution  == '2.2km':\n",
    "    model_cube = trim_to_bbox_of_region_regriddedobs(model_cube, gb_gdf)\n",
    "else:\n",
    "    model_cube = trim_to_bbox_of_region_obs(model_cube, gb_gdf)\n",
    "\n",
    "# ### Get the mask\n",
    "print(\"getting mask\")\n",
    "if resolution =='2.2km':\n",
    "    gb_mask = np.load(\"/nfs/a319/gy17m2a/PhD/datadir/UKCP18_2.2km_GB_Mask.npy\")\n",
    "else:\n",
    "    gb_mask = np.load(\"/nfs/a319/gy17m2a/PhD/datadir/UKCP18_12km_GB_Mask.npy\")\n",
    "masked_cube_data = model_cube * gb_mask[np.newaxis, :, :]\n",
    "\n",
    "# APPLY THE MASK\n",
    "reshaped_mask = np.tile(gb_mask, (model_cube.shape[0], 1, 1))\n",
    "reshaped_mask = reshaped_mask.astype(int)\n",
    "reversed_array = ~reshaped_mask.astype(bool)\n",
    "\n",
    "# Mask the cube\n",
    "model_masked_cube = iris.util.mask_cube(model_cube, reversed_array)\n",
    "\n"
   ]
  },
  {
   "cell_type": "code",
   "execution_count": 40,
   "id": "b948a699",
   "metadata": {},
   "outputs": [
    {
     "name": "stdout",
     "output_type": "stream",
     "text": [
      "datadir/CEH-GEAR/CEH-GEAR_regridded_12km/NearestNeighbour/rg_CEH-GEAR-1hr_1995*\n",
      "12\n",
      "Concatenating cube\n",
      "(2208, 112, 82)\n",
      "getting mask\n",
      "(2208, 103, 74)\n",
      "3550464\n"
     ]
    }
   ],
   "source": [
    "##################################################################\n",
    "# Load necessary spatial data\n",
    "##################################################################\n",
    "# This is a square area surrounding Leeds\n",
    "leeds_at_centre_gdf = create_leeds_at_centre_outline({'init' :'epsg:3857'})\n",
    "uk_gdf = create_uk_outline({'init' :'epsg:3857'})\n",
    "gb_gdf = create_gb_outline({'init' :'epsg:3857'})\n",
    "\n",
    "resolution = '12km'\n",
    "years= range(1990,2015)\n",
    "year = 1995\n",
    "\n",
    "# Create directory to store outputs in\n",
    "if resolution =='1km':\n",
    "    ddir = f\"ProcessedData/TimeSeries/CEH-GEAR/{resolution}/\"\n",
    "else:\n",
    "    ddir = f\"ProcessedData/TimeSeries/CEH-GEAR/{resolution}/NearestNeighbour/\"\n",
    "if not os.path.isdir(ddir):\n",
    "    os.makedirs(ddir)\n",
    "\n",
    "filenames =[]\n",
    "# Create filepath to correct folder using correct resolution\n",
    "if resolution == '1km': \n",
    "    general_filename = f'datadir/CEH-GEAR/CEH-GEAR_reformatted/rf_CEH-GEAR-1hr_{year}*'   \n",
    "elif resolution == '2.2km':\n",
    "    general_filename = f'datadir/CEH-GEAR/CEH-GEAR_regridded_2.2km/NearestNeighbour/rg_CEH-GEAR-1hr_{year}*'\n",
    "elif resolution == '12km':\n",
    "    general_filename = f'datadir/CEH-GEAR/CEH-GEAR_regridded_12km/NearestNeighbour/rg_CEH-GEAR-1hr_{year}*'\n",
    "print(general_filename)\n",
    "\n",
    "# Find all files in directory which start with this string\n",
    "for filename in glob.glob(general_filename):\n",
    "    filenames.append(filename)\n",
    "print(len(filenames))\n",
    "\n",
    "monthly_cubes_list = iris.load(filenames, in_jja)    \n",
    "#print(monthly_cubes_list)\n",
    "\n",
    "# Concatenate the cubes into one\n",
    "print('Concatenating cube')\n",
    "obs_cube = monthly_cubes_list.concatenate_cube()     \n",
    "print(obs_cube.shape) \n",
    "\n",
    "########################################################################\n",
    "########################################################################\n",
    "# ### Get the mask\n",
    "########################################################################\n",
    "########################################################################\n",
    "print(\"getting mask\")\n",
    "if resolution =='2.2km':\n",
    "    obs_cube = trim_to_bbox_of_region_regriddedobs(obs_cube, gb_gdf)\n",
    "    gb_mask = np.load(\"/nfs/a319/gy17m2a/PhD/datadir/UKCP18_2.2km_GB_Mask.npy\")\n",
    "elif resolution == '1km':\n",
    "    obs_cube = trim_to_bbox_of_region_regriddedobs(obs_cube, gb_gdf)\n",
    "    gb_mask = np.load(\"/nfs/a319/gy17m2a/PhD/datadir/UKCP18_1km_GB_Mask.npy\")\n",
    "else:\n",
    "    obs_cube = trim_to_bbox_of_region_obs(obs_cube, gb_gdf)\n",
    "    gb_mask = np.load(\"/nfs/a319/gy17m2a/PhD/datadir/UKCP18_12km_GB_Mask.npy\")\n",
    "masked_cube_data = obs_cube * gb_mask[np.newaxis, :, :]\n",
    "\n",
    "\n",
    "print(obs_cube.shape) \n",
    "\n",
    "# APPLY THE MASK\n",
    "reshaped_mask = np.tile(gb_mask, (obs_cube.shape[0], 1, 1))\n",
    "reshaped_mask = reshaped_mask.astype(int)\n",
    "reversed_array = ~reshaped_mask.astype(bool)\n",
    "\n",
    "# Mask the cube\n",
    "obs_masked_cube = iris.util.mask_cube(obs_cube, reversed_array)\n",
    "\n",
    "########################################################################\n",
    "########################################################################\n",
    "# Get time values\n",
    "########################################################################\n",
    "########################################################################\n",
    "#iplt.contourf(masked_cube[10])\n",
    "# plt.gca().coastlines(resolution='10m', color='black', linewidth=0.5);\n",
    "\n",
    "# Get rid of negative values\n",
    "compressed = obs_masked_cube.data.compressed()\n",
    "print(compressed.shape[0])\n"
   ]
  },
  {
   "cell_type": "code",
   "execution_count": 42,
   "id": "d1f1e97b",
   "metadata": {},
   "outputs": [
    {
     "data": {
      "text/plain": [
       "(2160, 103, 74)"
      ]
     },
     "execution_count": 42,
     "metadata": {},
     "output_type": "execute_result"
    }
   ],
   "source": [
    "test_data_model = model_masked_cube.data\n",
    "test_data_model.shape"
   ]
  },
  {
   "cell_type": "code",
   "execution_count": 43,
   "id": "26490ece",
   "metadata": {},
   "outputs": [
    {
     "data": {
      "text/plain": [
       "(2208, 112, 82)"
      ]
     },
     "execution_count": 43,
     "metadata": {},
     "output_type": "execute_result"
    }
   ],
   "source": [
    "test_data_obs = obs_masked_cube.data\n",
    "test_data.shape"
   ]
  },
  {
   "cell_type": "code",
   "execution_count": 22,
   "id": "a33092f0",
   "metadata": {},
   "outputs": [],
   "source": [
    "test_data_flat = test_data.flatten()"
   ]
  },
  {
   "cell_type": "code",
   "execution_count": 46,
   "id": "19879d80",
   "metadata": {},
   "outputs": [
    {
     "data": {
      "text/plain": [
       "(2160, 103, 74)"
      ]
     },
     "execution_count": 46,
     "metadata": {},
     "output_type": "execute_result"
    }
   ],
   "source": [
    "test_data_model.shape"
   ]
  },
  {
   "cell_type": "code",
   "execution_count": 47,
   "id": "22906c99",
   "metadata": {},
   "outputs": [
    {
     "data": {
      "image/png": "[encoded data removed]",
      "text/plain": [
       "<Figure size 864x288 with 1 Axes>"
      ]
     },
     "metadata": {
      "needs_background": "light"
     },
     "output_type": "display_data"
    }
   ],
   "source": [
    "import matplotlib.ticker as ticker\n",
    "bins_i_want  =  [0, 0.05, 0.1, 0.5,2, 3, 7, 10,15, 21, 35,45, 62, 78]\n",
    "\n",
    "fig, ax = plt.subplots(figsize=(12,4))\n",
    "# model_data =model_data[~np.isnan(model_data)]\n",
    "model_data = test_data_model.flatten()\n",
    "model_data = model_data[model_data >= 0.1]\n",
    "model_count, bins_count = np.histogram(model_data, bins=bins_i_want)\n",
    "model_pdf = model_count / sum(model_count)\n",
    "model_cdf = np.cumsum(model_pdf)\n",
    "model_reversed_cdf = 1 - model_cdf\n",
    "ax.plot(bins_count[1:], model_reversed_cdf, label=\"Model\")\n",
    "\n",
    "obs_data = test_data_obs.flatten()\n",
    "# obs_data = obs_data[~np.isnan(obs_data)]\n",
    "obs_data = obs_data[obs_data >= 0.1]\n",
    "obs_count, bins_count = np.histogram(obs_data, bins=bins_i_want)\n",
    "obs_pdf = obs_count / sum(obs_count)\n",
    "obs_cdf = np.cumsum(obs_pdf)\n",
    "obs_reversed_cdf = 1 - obs_cdf\n",
    "ax.plot(bins_count[1:], obs_reversed_cdf, label=\"Obs\")\n",
    "\n",
    "ax.legend()\n",
    "ax.set_yscale('log')\n",
    "\n",
    "ax.yaxis.set_major_formatter(ticker.ScalarFormatter(useMathText=False))\n",
    "# ax.get_yaxis().set_major_formatter(\n",
    "#     matplotlib.ticker.FuncFormatter(lambda x, p: format(int(x), ',')))\n"
   ]
  }
 ],
 "metadata": {
  "kernelspec": {
   "display_name": "Python 3 (ipykernel)",
   "language": "python",
   "name": "python3"
  },
  "language_info": {
   "codemirror_mode": {
    "name": "ipython",
    "version": 3
   },
   "file_extension": ".py",
   "mimetype": "text/x-python",
   "name": "python",
   "nbconvert_exporter": "python",
   "pygments_lexer": "ipython3",
   "version": "3.7.13"
  }
 },
 "nbformat": 4,
 "nbformat_minor": 5
}
