{
 "cells": [
  {
   "cell_type": "code",
   "execution_count": 36,
   "id": "ea31fae8",
   "metadata": {},
   "outputs": [],
   "source": [
    "##################################################################\n",
    "# This Script:\n",
    "#    - \n",
    "#    -\n",
    "#    -\n",
    "\n",
    "##################################################################\n",
    "import iris\n",
    "import os\n",
    "import glob as sir_globington_the_file_gatherer\n",
    "import datetime as datetime\n",
    "import iris.coord_categorisation as cat\n",
    "import sys\n",
    "import time\n",
    "import multiprocessing as mp\n",
    "import iris.plot as iplt\n",
    "\n",
    "# Set up path to root directory\n",
    "root_fp = \"/nfs/a319/gy17m2a/PhD/\"\n",
    "os.chdir(root_fp)\n",
    "\n",
    "import warnings\n",
    "warnings.simplefilter(action='ignore', category=FutureWarning)\n",
    "from warnings import simplefilter\n",
    "warnings.filterwarnings(\"ignore\", category =UserWarning,)\n",
    "\n",
    "# Create path to files containing functions\n",
    "sys.path.insert(0, root_fp + 'Scripts/GlobalFunctions')\n",
    "from Spatial_plotting_functions import *\n",
    "from Spatial_geometry_functions import *\n",
    "\n",
    "trim_to_leeds = False\n",
    "\n",
    "##################################################################\n",
    "# Load necessary spatial data\n",
    "##################################################################\n",
    "# This is a square area surrounding Leeds\n",
    "leeds_at_centre_gdf = create_leeds_at_centre_outline({'init' :'epsg:3857'})\n",
    "uk_gdf = create_uk_outline({'init' :'epsg:3857'})\n",
    "gb_gdf = create_gb_outline({'init' :'epsg:3857'})\n",
    "##################################################################\n",
    "\n",
    "# Constraint to only load JJA data\n",
    "in_jja=iris.Constraint(time=lambda cell: 6 <= cell.point.month <= 8)\n",
    "\n",
    "yrs_range = \"1980_2001\"\n",
    "yrs= range(1981,2002)\n",
    "resolution = '2.2km' #2.2km, 12km, 2.2km_regridded_12km"
   ]
  },
  {
   "cell_type": "code",
   "execution_count": 2,
   "id": "1fd5e1b0",
   "metadata": {},
   "outputs": [],
   "source": [
    "em = '01'"
   ]
  },
  {
   "cell_type": "code",
   "execution_count": 3,
   "id": "4652f7e6",
   "metadata": {},
   "outputs": [
    {
     "name": "stdout",
     "output_type": "stream",
     "text": [
      "01 2.2km False\n"
     ]
    }
   ],
   "source": [
    "ddir = f\"ProcessedData/TimeSeries/UKCP18_hourly/{resolution}/{yrs_range}/leeds-at-centre/{em}/\"\n",
    "\n",
    "print(em, resolution, trim_to_leeds)\n",
    "\n",
    "yr = 1990"
   ]
  },
  {
   "cell_type": "code",
   "execution_count": 102,
   "id": "c6833a5c",
   "metadata": {},
   "outputs": [
    {
     "name": "stdout",
     "output_type": "stream",
     "text": [
      "loading 3 files\n"
     ]
    }
   ],
   "source": [
    "# ### Get a list of filenames for this ensemble member, for just JJA\n",
    "if resolution == '2.2km':\n",
    "    general_filename = f'/nfs/a319/gy17m2a/PhD/datadir/UKCP18_hourly/{resolution}/{em}/{yrs_range}/pr_rcp85_land-cpm_uk_2.2km_{em}_1hr_{yr}*'\n",
    "elif resolution == '12km':\n",
    "      general_filename = f'/nfs/a319/gy17m2a/PhD/datadir/UKCP18_hourly/{resolution}/{em}/{yrs_range}/pr_rcp85_land-rcm_uk_12km_{em}_day_*'\n",
    "elif resolution == '2.2km_regridded_12km':\n",
    "    general_filename = f'/nfs/a319/gy17m2a/PhD/datadir/UKCP18_hourly/{resolution}/{em}/NearestNeighbour/{yrs_range}/rg_pr_rcp85_land-cpm_uk_2.2km_{em}_1hr_*'\n",
    "\n",
    "filenames = []\n",
    "for filename in sir_globington_the_file_gatherer.glob(general_filename):\n",
    "    filenames.append(filename)\n",
    "print(f\"loading {len(filenames)} files\")\n",
    "\n",
    "# ### Load in the data\n",
    "monthly_cubes_list = iris.load(filenames, in_jja)\n",
    "\n",
    "for cube in monthly_cubes_list:\n",
    "     for attr in ['creation_date', 'tracking_id', 'history', 'Conventions']:\n",
    "            if attr in cube.attributes:\n",
    "                del cube.attributes[attr]\n",
    "\n",
    "# ### Concatenate cubes into one\n",
    "model_cube = monthly_cubes_list.concatenate_cube()      \n",
    "\n",
    "### Remove ensemble member dimension\n",
    "model_cube = model_cube[0,:,:,:]"
   ]
  },
  {
   "cell_type": "markdown",
   "id": "965bfab6",
   "metadata": {},
   "source": [
    "### Get the mask"
   ]
  },
  {
   "cell_type": "code",
   "execution_count": 38,
   "id": "cf3da677",
   "metadata": {},
   "outputs": [
    {
     "name": "stdout",
     "output_type": "stream",
     "text": [
      "getting mask\n"
     ]
    }
   ],
   "source": [
    "print(\"getting mask\")\n",
    "gb_mask = np.load(\"/nfs/a319/gy17m2a/PhD/datadir/UKCP18_2.2km_GB_Mask.npy\")\n",
    "masked_cube_data = model_cube * gb_mask[np.newaxis, :, :]"
   ]
  },
  {
   "cell_type": "markdown",
   "id": "ef9c0042",
   "metadata": {},
   "source": [
    "### Apply the mask - v1."
   ]
  },
  {
   "cell_type": "code",
   "execution_count": 103,
   "id": "55a46069",
   "metadata": {},
   "outputs": [],
   "source": [
    "# # Reshape the mask array to match the shape of the cube\n",
    "# reshaped_mask = np.tile(gb_mask, (model_cube.shape[0], 1, 1))\n",
    "# i=np.where(reshaped_mask == 0)\n",
    "# model_cube.data[i]=np.nan"
   ]
  },
  {
   "cell_type": "markdown",
   "id": "c31ce5ef",
   "metadata": {},
   "source": [
    "### Apply the mask - v2."
   ]
  },
  {
   "cell_type": "code",
   "execution_count": 45,
   "id": "2548473d",
   "metadata": {},
   "outputs": [],
   "source": [
    "# model_cube_data = model_cube.data * reshaped_mask\n",
    "# model_cube.data = model_cube_data"
   ]
  },
  {
   "cell_type": "code",
   "execution_count": 104,
   "id": "33ae56d9",
   "metadata": {},
   "outputs": [],
   "source": [
    "# # Reshape the mask array to match the shape of the cube\n",
    "reshaped_mask = np.tile(gb_mask, (model_cube.shape[0], 1, 1))\n",
    "reshaped_mask = reshaped_mask.astype(int)\n",
    "reversed_array = ~reshaped_mask.astype(bool)"
   ]
  },
  {
   "cell_type": "code",
   "execution_count": 105,
   "id": "2d2a36d7",
   "metadata": {},
   "outputs": [],
   "source": [
    "masked_cube = iris.util.mask_cube(model_cube, reversed_array)"
   ]
  },
  {
   "cell_type": "markdown",
   "id": "cb053e69",
   "metadata": {},
   "source": [
    "### Check the mask"
   ]
  },
  {
   "cell_type": "code",
   "execution_count": 106,
   "id": "651dde28",
   "metadata": {},
   "outputs": [
    {
     "data": {
      "image/png": "[encoded data removed]",
      "text/plain": [
       "<Figure size 432x288 with 1 Axes>"
      ]
     },
     "metadata": {
      "needs_background": "light"
     },
     "output_type": "display_data"
    }
   ],
   "source": [
    "iplt.contourf(masked_cube[10])\n",
    "plt.gca().coastlines(resolution='10m', color='black', linewidth=0.5);"
   ]
  },
  {
   "cell_type": "markdown",
   "id": "919982ff",
   "metadata": {},
   "source": [
    "### Trim to UK"
   ]
  },
  {
   "cell_type": "code",
   "execution_count": 112,
   "id": "b8ca9585",
   "metadata": {},
   "outputs": [],
   "source": [
    "masked_cube = trim_to_bbox_of_region_regriddedobs(masked_cube, gb_gdf)"
   ]
  },
  {
   "cell_type": "code",
   "execution_count": 113,
   "id": "3f5ee1ae",
   "metadata": {},
   "outputs": [
    {
     "data": {
      "image/png": "[encoded data removed]",
      "text/plain": [
       "<Figure size 432x288 with 1 Axes>"
      ]
     },
     "metadata": {
      "needs_background": "light"
     },
     "output_type": "display_data"
    }
   ],
   "source": [
    "iplt.contourf(masked_cube[10])\n",
    "plt.gca().coastlines(resolution='10m', color='black', linewidth=0.5);"
   ]
  },
  {
   "cell_type": "code",
   "execution_count": 114,
   "id": "7e24346e",
   "metadata": {},
   "outputs": [
    {
     "data": {
      "text/plain": [
       "100293120"
      ]
     },
     "execution_count": 114,
     "metadata": {},
     "output_type": "execute_result"
    }
   ],
   "source": [
    "# Get rid of negative values\n",
    "compressed = masked_cube.data.compressed()\n",
    "compressed.shape[0]"
   ]
  },
  {
   "cell_type": "code",
   "execution_count": 115,
   "id": "1b3aa79b",
   "metadata": {},
   "outputs": [
    {
     "data": {
      "text/plain": [
       "(100293120,)"
      ]
     },
     "execution_count": 115,
     "metadata": {},
     "output_type": "execute_result"
    }
   ],
   "source": [
    "########\n",
    "# Get the times\n",
    "########\n",
    "# Step 2: Get the indices of the non-masked values in the original data\n",
    "non_masked_indices = np.where(~masked_cube.data.mask)\n",
    "\n",
    "# Step 3: Extract corresponding time values\n",
    "time_values = masked_cube.coord('time').points[non_masked_indices[0]]\n",
    "np.save(ddir + f'timevalues_{yr}.npy', time_values) \n",
    "time_values.shape\n",
    "np.save(ddir + f'compressed_{yr}.npy', compressed) "
   ]
  },
  {
   "cell_type": "code",
   "execution_count": 117,
   "id": "719db296",
   "metadata": {},
   "outputs": [
    {
     "data": {
      "text/plain": [
       "'ProcessedData/TimeSeries/UKCP18_hourly/2.2km/1980_2001/leeds-at-centre/01/'"
      ]
     },
     "execution_count": 117,
     "metadata": {},
     "output_type": "execute_result"
    }
   ],
   "source": [
    "ddir"
   ]
  }
 ],
 "metadata": {
  "kernelspec": {
   "display_name": "Python 3 (ipykernel)",
   "language": "python",
   "name": "python3"
  },
  "language_info": {
   "codemirror_mode": {
    "name": "ipython",
    "version": 3
   },
   "file_extension": ".py",
   "mimetype": "text/x-python",
   "name": "python",
   "nbconvert_exporter": "python",
   "pygments_lexer": "ipython3",
   "version": "3.7.13"
  }
 },
 "nbformat": 4,
 "nbformat_minor": 5
}
