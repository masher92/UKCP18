{
 "cells": [
  {
   "cell_type": "code",
   "execution_count": 67,
   "id": "36380d88",
   "metadata": {},
   "outputs": [
    {
     "name": "stdout",
     "output_type": "stream",
     "text": [
      "2019\n",
      "loading 361 filenames\n",
      "361 is enough files\n"
     ]
    },
    {
     "name": "stderr",
     "output_type": "stream",
     "text": [
      "/nfs/a321/gy17m2a/anaconda_install/anaconda3/envs/ukcp18/lib/python3.7/site-packages/iris/coord_systems.py:531: UserWarning: The default value for the *approx* keyword argument to TransverseMercator will change from True to False after 0.18.\n",
      "  globe=globe,\n"
     ]
    },
    {
     "name": "stdout",
     "output_type": "stream",
     "text": [
      "687307073\n"
     ]
    },
    {
     "data": {
      "image/png": "[encoded data removed]",
      "text/plain": [
       "<Figure size 432x288 with 1 Axes>"
      ]
     },
     "metadata": {
      "needs_background": "light"
     },
     "output_type": "display_data"
    }
   ],
   "source": [
    "##################################################################\n",
    "# This Script:\n",
    "#    - Gets all 30 mins radar files for one year\n",
    "#    - Joins them and masks out values over the sea\n",
    "#    - Gets a 1D array of the data and removes masked out (over the sea\n",
    "#      values) and np.nan values\n",
    "##################################################################\n",
    "\n",
    "\n",
    "##################################################################\n",
    "# SET UP ENVIRONMENT\n",
    "##################################################################\n",
    "import iris.coord_categorisation\n",
    "import iris\n",
    "import numpy as np\n",
    "import os\n",
    "import geopandas as gpd\n",
    "import sys\n",
    "import matplotlib \n",
    "import numpy.ma as ma\n",
    "import warnings\n",
    "import iris.quickplot as qplt\n",
    "import iris.plot as iplt\n",
    "import cartopy.crs as ccrs\n",
    "from matplotlib import colors\n",
    "import glob as glob\n",
    "import datetime\n",
    "from iris.util import unify_time_units\n",
    "warnings.simplefilter(action = 'ignore', category = FutureWarning)\n",
    "from iris.experimental.equalise_cubes import equalise_attributes\n",
    "\n",
    "# Set up path to root directory\n",
    "root_fp = \"/nfs/a161/gy17m2a/PhD/\"\n",
    "os.chdir(root_fp)\n",
    "\n",
    "# Create path to files containing functions\n",
    "sys.path.insert(0, '/nfs/a319/gy17m2a/PhD/Scripts/GlobalFunctions')\n",
    "from Spatial_plotting_functions import *\n",
    "from Spatial_geometry_functions import *\n",
    "\n",
    "resolution = '2.2km'\n",
    "filtering_name='filtered_100'\n",
    "\n",
    "gb_gdf = create_gb_outline({'init' :'epsg:3857'})\n",
    "\n",
    "in_jja=iris.Constraint(time=lambda cell: 6 <= cell.point.month <= 8)\n",
    "\n",
    "season='wholeyear'\n",
    "\n",
    "##################################################################\n",
    "# FOR ONE YEAR AT A TIME\n",
    "##################################################################\n",
    "for year in range(2019, 2020):\n",
    "    print(year)\n",
    "\n",
    "    # Create directory to store outputs in and get general filename to load files from\n",
    "    if resolution =='1km':\n",
    "        ddir = f\"ProcessedData/TimeSeries/NIMROD/30mins/OriginalFormat_1km/\"\n",
    "        general_filename = f'datadir/NIMROD/30mins/OriginalFormat_1km/{year}/*'      \n",
    "    elif resolution == '2.2km':\n",
    "        ddir = f\"ProcessedData/TimeSeries/NIMROD/30mins/NIMROD_regridded_2.2km/\"\n",
    "        general_filename = f'datadir/NIMROD/30mins/NIMROD_regridded_2.2km/{filtering_name}/AreaWeighted/{year}/*'        \n",
    "    elif resolution == '12km':\n",
    "        ddir = f\"ProcessedData/TimeSeries/NIMROD/30mins/NIMROD_regridded_12km/\"    \n",
    "        general_filename = f'datadir/NIMROD/30mins/NIMROD_regridded_12km/{filtering_name}/AreaWeighted/{year}/*'      \n",
    "    if not os.path.isdir(ddir):\n",
    "        os.makedirs(ddir)\n",
    "\n",
    "    if not os.path.isfile(\"/nfs/a319/gy17m2a/PhD/\" + ddir + f'compressed_{year}_{filtering_name}_GB_{season}.npy'):\n",
    "\n",
    "        # GET LIST OF ALL FILENAMES FOR THIS YEAR\n",
    "        filenames =[]\n",
    "        # Find all files in directory which start with this string\n",
    "        for filename in glob.glob(general_filename):\n",
    "            # print(filename)\n",
    "            filenames.append(filename)\n",
    "        print(f\"loading {len(filenames)} filenames\")\n",
    "        sorted_list = sorted(filenames)\n",
    "\n",
    "        # LOAD THE DATA\n",
    "        if season == 'jja':\n",
    "            monthly_cubes_list = iris.load(sorted_list, in_jja)\n",
    "        else:\n",
    "            monthly_cubes_list = iris.load(sorted_list)\n",
    "\n",
    "        print(f\"{len(monthly_cubes_list)} is enough files\")        \n",
    "\n",
    "        for num, cube in enumerate(monthly_cubes_list):\n",
    "            if len(cube.shape)<3:\n",
    "                cube = iris.util.new_axis(cube, 'time')\n",
    "                monthly_cubes_list[num] = cube    \n",
    "\n",
    "        ##################################################################\n",
    "        # CLEAN AND JOIN THE DATA\n",
    "        ##################################################################\n",
    "        # Try to make attributes the same\n",
    "        iris.util.equalise_attributes(monthly_cubes_list)\n",
    "\n",
    "        for cube in monthly_cubes_list:\n",
    "            cube.rename(\"Rain rate Composite\")    \n",
    "            if cube.coords('forecast_period'):\n",
    "                cube.remove_coord('forecast_period')\n",
    "            if cube.coords('forecast_reference_time'):\n",
    "                cube.remove_coord('forecast_reference_time')\n",
    "            cube.var_name = 'stratiform_rainfall_flux'  \n",
    "\n",
    "            if cube.coords('hour'):  # If 'hour' exists (auxiliary or scalar), remove it\n",
    "                cube.remove_coord('hour')\n",
    "\n",
    "            # Add a consistent 'hour' auxiliary coordinate\n",
    "            hour_coord = iris.coords.AuxCoord(0, long_name='hour', units='1')  # Use appropriate value\n",
    "            cube.add_aux_coord(hour_coord)            \n",
    "\n",
    "        # CONVERT TO FLOAT64\n",
    "        for i in range(0, len(monthly_cubes_list)):\n",
    "            monthly_cubes_list[i].data = monthly_cubes_list[i].data.astype('float64')\n",
    "\n",
    "        unify_time_units(monthly_cubes_list)  # Helps with time coordinate mismatches     \n",
    "\n",
    "        model_cube = monthly_cubes_list.concatenate_cube()\n",
    "        model_cube = trim_to_bbox_of_region_obs(model_cube, gb_gdf, 'projection_y_coordinate', 'projection_x_coordinate')\n",
    "\n",
    "        ##################################################################\n",
    "        # Save data over UK\n",
    "        ##################################################################\n",
    "        # Get rid of negative values\n",
    "        compressed_data = model_cube.data.compressed()\n",
    "\n",
    "        # # Save to file\n",
    "        np.save(\"/nfs/a319/gy17m2a/PhD/\" + ddir + f'compressed_{year}_{filtering_name}_UK_{season}.npy', compressed_data) \n",
    "\n",
    "        # Generate the plot\n",
    "        iplt.contourf(model_cube[10])\n",
    "        # Add a title, labels, or any customization if needed\n",
    "        plt.savefig(\"/nfs/a319/gy17m2a/PhD/\" + ddir + f\"model_cube_contour_{year}_UK.png\", dpi=300, bbox_inches='tight') \n",
    "        plt.clf()\n",
    "\n",
    "        ##################################################################\n",
    "        # Trim data to GB\n",
    "        ##################################################################\n",
    "        if resolution == '2.2km':\n",
    "            gb_mask = np.load(\"/nfs/a319/gy17m2a/PhD/datadir/Masks/UKCP18_2.2km_GB_Mask.npy\")\n",
    "        else:\n",
    "            gb_mask = np.load(\"/nfs/a319/gy17m2a/PhD/datadir/Masks/UKCP18_12km_GB_Mask.npy\")\n",
    "\n",
    "        masked_cube_data = model_cube * gb_mask[np.newaxis, :, :]   \n",
    "        gb_mask = gb_mask.astype(np.int8) \n",
    "        # APPLY THE MASK\n",
    "        reshaped_mask = np.tile(gb_mask, (model_cube.shape[0], 1, 1))\n",
    "        # reshaped_mask = reshaped_mask.astype(int)\n",
    "        reversed_array = ~reshaped_mask.astype(bool)\n",
    "\n",
    "        # Mask the cube\n",
    "        masked_cube = iris.util.mask_cube(model_cube, reversed_array)    \n",
    "\n",
    "        ##################################################################\n",
    "        # Save data for GB\n",
    "        ##################################################################\n",
    "        # Get rid of negative values\n",
    "        compressed_data = masked_cube.data.compressed()\n",
    "        print(compressed_data.shape[0])\n",
    "\n",
    "        np.save(\"/nfs/a319/gy17m2a/PhD/\" + ddir + f'compressed_{year}_{filtering_name}_GB_{season}.npy', compressed_data) \n",
    "\n",
    "        iplt.contourf(masked_cube[1,:,:])        \n",
    "        plt.savefig(\"/nfs/a319/gy17m2a/PhD/\" + ddir + f\"model_cube_contour_{year}_GB.png\", dpi=300, bbox_inches='tight')        \n",
    "\n",
    "\n",
    "\n"
   ]
  },
  {
   "cell_type": "code",
   "execution_count": 56,
   "id": "3480d190",
   "metadata": {},
   "outputs": [
    {
     "data": {
      "text/plain": [
       "CubeMetadata(standard_name=None, long_name='Rain rate Composite', var_name='stratiform_rainfall_flux', units=Unit('mm/h'), attributes={'Conventions': 'CF-1.7'}, cell_methods=(CellMethod(method='mean', coord_names=('hour',), intervals=(), comments=()),))"
      ]
     },
     "execution_count": 56,
     "metadata": {},
     "output_type": "execute_result"
    }
   ],
   "source": [
    "monthly_cubes_list[66].metadata"
   ]
  },
  {
   "cell_type": "code",
   "execution_count": 58,
   "id": "c248d1d7",
   "metadata": {},
   "outputs": [
    {
     "data": {
      "text/plain": [
       "CubeMetadata(standard_name=None, long_name='Rain rate Composite', var_name='stratiform_rainfall_flux', units=Unit('mm/h'), attributes={'Conventions': 'CF-1.7'}, cell_methods=(CellMethod(method='mean', coord_names=('hour',), intervals=(), comments=()),))"
      ]
     },
     "execution_count": 58,
     "metadata": {},
     "output_type": "execute_result"
    }
   ],
   "source": [
    "monthly_cubes_list[65].metadata"
   ]
  },
  {
   "cell_type": "code",
   "execution_count": 59,
   "id": "6c961187",
   "metadata": {},
   "outputs": [
    {
     "data": {
      "text/plain": [
       "CubeMetadata(standard_name=None, long_name='Rain rate Composite', var_name='stratiform_rainfall_flux', units=Unit('unknown'), attributes={'Conventions': 'CF-1.7'}, cell_methods=(CellMethod(method='mean', coord_names=('hour',), intervals=(), comments=()),))"
      ]
     },
     "execution_count": 59,
     "metadata": {},
     "output_type": "execute_result"
    }
   ],
   "source": [
    "monthly_cubes_list[64].metadata"
   ]
  },
  {
   "cell_type": "code",
   "execution_count": 63,
   "id": "1fca3a6e",
   "metadata": {},
   "outputs": [
    {
     "data": {
      "text/plain": [
       "CubeMetadata(standard_name=None, long_name='Rain rate Composite', var_name='stratiform_rainfall_flux', units=Unit('unknown'), attributes={'Conventions': 'CF-1.7'}, cell_methods=(CellMethod(method='mean', coord_names=('hour',), intervals=(), comments=()),))"
      ]
     },
     "execution_count": 63,
     "metadata": {},
     "output_type": "execute_result"
    }
   ],
   "source": [
    "monthly_cubes_list[64].metadata"
   ]
  },
  {
   "cell_type": "code",
   "execution_count": 64,
   "id": "e335972b",
   "metadata": {},
   "outputs": [
    {
     "data": {
      "text/plain": [
       "'datadir/NIMROD/30mins/NIMROD_regridded_2.2km/filtered_100/AreaWeighted/2019/rg_metoffice-c-band-rain-radar_uk_20190308_30mins.nc'"
      ]
     },
     "execution_count": 64,
     "metadata": {},
     "output_type": "execute_result"
    }
   ],
   "source": [
    "sorted_list[64]"
   ]
  }
 ],
 "metadata": {
  "kernelspec": {
   "display_name": "Python 3 (ipykernel)",
   "language": "python",
   "name": "python3"
  },
  "language_info": {
   "codemirror_mode": {
    "name": "ipython",
    "version": 3
   },
   "file_extension": ".py",
   "mimetype": "text/x-python",
   "name": "python",
   "nbconvert_exporter": "python",
   "pygments_lexer": "ipython3",
   "version": "3.7.13"
  }
 },
 "nbformat": 4,
 "nbformat_minor": 5
}
