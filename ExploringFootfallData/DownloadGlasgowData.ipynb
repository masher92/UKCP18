{
 "cells": [
  {
   "cell_type": "code",
   "execution_count": 1,
   "id": "aff4e471",
   "metadata": {},
   "outputs": [],
   "source": [
    "import os\n",
    "import pandas as pd\n",
    "import csv\n",
    "import requests"
   ]
  },
  {
   "cell_type": "code",
   "execution_count": null,
   "id": "4d46acae",
   "metadata": {},
   "outputs": [],
   "source": [
    "if os.path.exists(\"Footfall Data/glasgow_springboard.csv\"):\n",
    "    glasgow_springboard = pd.read_csv(\"Footfall Data/glasgow_springboard.csv\")\n",
    "else:\n",
    "    r = get_report(\"https://api.glasgow.gov.uk/mobility/v1/footfall/historical?format=json&startDate=2010-01-01&endDate=2022-01-01\")\n",
    "    report_parsed = json.loads(r)\n",
    "    glasgow_springboard = pd.DataFrame()\n",
    "    for i in report_parsed:\n",
    "        this_line = pd.DataFrame({'Timestamp':i['processDate'], 'Count': i['pedestrianCount'],\n",
    "                           'latitude': i['location']['latitude'], 'longitude': i['location']['longitude'],\n",
    "                            'name': i['location']['description']},index = [0])\n",
    "        glasgow_springboard = pd.concat([glasgow_springboard, this_line], axis = 0)\n",
    "#     glasgow_springboard.to_csv(\"glasgow_springboard.csv\")"
   ]
  },
  {
   "cell_type": "code",
   "execution_count": 76,
   "id": "7364f55a",
   "metadata": {},
   "outputs": [
    {
     "data": {
      "text/plain": [
       "220128"
      ]
     },
     "execution_count": 76,
     "metadata": {},
     "output_type": "execute_result"
    }
   ],
   "source": [
    "CSV_URL =\"https://api.glasgow.gov.uk/mobility/v1/footfall/historical?format=csv&startDate=2005-01-01&endDate=2022-01-01\"\n",
    "\n",
    "with requests.Session() as s:\n",
    "    download = s.get(CSV_URL)\n",
    "\n",
    "    decoded_content = download.content.decode('utf-8')\n",
    "\n",
    "    cr = csv.reader(decoded_content.splitlines(), delimiter=',')\n",
    "    my_list = list(cr)\n",
    "\n",
    "glasgow_springboard = pd.DataFrame(my_list)\n",
    "glasgow_springboard.columns = glasgow_springboard.iloc[0]\n",
    "glasgow_springboard = glasgow_springboard[1:]\n",
    "\n",
    "glasgow_springboard[\" locationLatitude\"] = pd.to_numeric(glasgow_springboard[\" locationLatitude\"])\n",
    "glasgow_springboard[\" locationLongitude\"] = pd.to_numeric(glasgow_springboard[\" locationLongitude\"])\n",
    "\n",
    "len(glasgow_springboard)\n",
    "# glasgow_springboard.to_csv(\"Footfall Data/glasgow_counts_fromcsvapi.csv\", index=False) "
   ]
  },
  {
   "cell_type": "code",
   "execution_count": 57,
   "id": "e0ffff52",
   "metadata": {},
   "outputs": [
    {
     "name": "stdout",
     "output_type": "stream",
     "text": [
      "Argyll Street near Queen Street Junction\n",
      "2018-02-23T00:00:00.0000000Z\n",
      "Buchanan Street near Buchanan Galleries Entrance\n",
      "2018-02-23T00:00:00.0000000Z\n",
      "Buchanan Street near Gordon Street Junction\n",
      "2018-02-23T00:00:00.0000000Z\n",
      "Sauchiehall Street near Wellington Street Junction\n",
      "2018-02-23T00:00:00.0000000Z\n",
      "194 Bath Street (near Blythswood Street Junction)\n",
      "2018-02-23T00:00:00.0000000Z\n",
      "253 High Street (near George Street Junction)\n",
      "2020-01-15T00:00:00.0000000Z\n",
      "Sauchiehall Street near Elmbank Street Junction\n",
      "2018-02-23T00:00:00.0000000Z\n"
     ]
    }
   ],
   "source": [
    "# for \n",
    "for sensor_name in glasgow_springboard[' locationDescription'].unique():\n",
    "    print(sensor_name)\n",
    "    one_sensor = glasgow_springboard[glasgow_springboard[' locationDescription'] == sensor_name]\n",
    "    print(one_sensor[' processDate'].min())"
   ]
  },
  {
   "cell_type": "code",
   "execution_count": null,
   "id": "34037349",
   "metadata": {},
   "outputs": [],
   "source": [
    "glasgow_springboard_map = folium.Map(location=[glasgow_springboard[\" locationLatitude\"].mean(),\n",
    "                           glasgow_springboard[\" locationLongitude\"].mean()], zoom_start=12, control_scale=True, min_zoom = 12)\n",
    "for index, location_info in glasgow_springboard.iterrows():\n",
    "    folium.Marker([location_info[\" locationLatitude\"], location_info[\" locationLongitude\"]], popup=location_info[\" locationDescription\"]).add_to(glasgow_springboard_map)\n",
    "glasgow_springboard_map"
   ]
  },
  {
   "cell_type": "code",
   "execution_count": 158,
   "id": "d97bd7aa",
   "metadata": {},
   "outputs": [
    {
     "name": "stdout",
     "output_type": "stream",
     "text": [
      "len idx:  280 len data: 278\n"
     ]
    },
    {
     "data": {
      "text/html": [
       "<div>\n",
       "<style scoped>\n",
       "    .dataframe tbody tr th:only-of-type {\n",
       "        vertical-align: middle;\n",
       "    }\n",
       "\n",
       "    .dataframe tbody tr th {\n",
       "        vertical-align: top;\n",
       "    }\n",
       "\n",
       "    .dataframe thead th {\n",
       "        text-align: right;\n",
       "    }\n",
       "</style>\n",
       "<table border=\"1\" class=\"dataframe\">\n",
       "  <thead>\n",
       "    <tr style=\"text-align: right;\">\n",
       "      <th></th>\n",
       "      <th>person</th>\n",
       "    </tr>\n",
       "  </thead>\n",
       "  <tbody>\n",
       "    <tr>\n",
       "      <th>2021-11-03</th>\n",
       "      <td>NaN</td>\n",
       "    </tr>\n",
       "    <tr>\n",
       "      <th>2022-01-25</th>\n",
       "      <td>NaN</td>\n",
       "    </tr>\n",
       "  </tbody>\n",
       "</table>\n",
       "</div>"
      ],
      "text/plain": [
       "            person\n",
       "2021-11-03     NaN\n",
       "2022-01-25     NaN"
      ]
     },
     "execution_count": 158,
     "metadata": {},
     "output_type": "execute_result"
    }
   ],
   "source": [
    "# Get data for just one camera\n",
    "one_camera = glasgow_cctv[glasgow_cctv['cameraName'] == 'C94'].copy()\n",
    "# CReate a timestamp column\n",
    "one_camera['Datetime'] = pd.to_datetime(one_camera['Timestamp'])\n",
    "# Reset index\n",
    "# one_camera.reset_index(drop = True, inplace = True)\n",
    "one_camera = one_camera[['Datetime', 'person']]\n",
    "one_camera.reset_index(drop=True, inplace = True)\n",
    "one_camera \n",
    "# # Get the individual days/months/years\n",
    "# one_camera['day'] = one_camera['Datetime'].dt.day\n",
    "# one_camera['month'] = one_camera['Datetime'].dt.month\n",
    "# one_camera['year'] = one_camera['Datetime'].dt.year\n",
    "# one_camera['hour'] = one_camera['Datetime'].dt.hour\n",
    "\n",
    "# This suggests that there are not days missing\n",
    "# https://stackoverflow.com/questions/47231496/pandas-fill-missing-dates-in-time-series\n",
    "len(one_camera)\n",
    "idx = pd.date_range(min(one_camera['Datetime']), max(one_camera.Datetime))\n",
    "\n",
    "# Add in missing dates with a NaN values\n",
    "one_camera.set_index('Datetime', inplace = True)\n",
    "print(\"len idx: \", len(idx), \"len data:\" ,len(one_camera))\n",
    "test = one_camera.reindex(idx, fill_value=np.nan)\n",
    "test[test['person'].isna()]\n"
   ]
  }
 ],
 "metadata": {
  "kernelspec": {
   "display_name": "Python 3 (ipykernel)",
   "language": "python",
   "name": "python3"
  },
  "language_info": {
   "codemirror_mode": {
    "name": "ipython",
    "version": 3
   },
   "file_extension": ".py",
   "mimetype": "text/x-python",
   "name": "python",
   "nbconvert_exporter": "python",
   "pygments_lexer": "ipython3",
   "version": "3.7.13"
  }
 },
 "nbformat": 4,
 "nbformat_minor": 5
}
