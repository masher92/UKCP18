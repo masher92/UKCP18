{
 "cells": [
  {
   "cell_type": "code",
   "execution_count": 4,
   "metadata": {
    "ExecuteTime": {
     "end_time": "2020-05-20T08:09:42.167895Z",
     "start_time": "2020-05-20T08:09:36.778655Z"
    }
   },
   "outputs": [],
   "source": [
    "import pandas as pd\n",
    "from sklearn.linear_model import LinearRegression, Ridge, Lasso, ElasticNet\n",
    "from sklearn.preprocessing import StandardScaler\n",
    "from sklearn.model_selection import train_test_split, cross_val_score, GridSearchCV\n",
    "import numpy as np\n",
    "import matplotlib.pyplot as plt\n",
    "import seaborn as sns\n",
    "import statsmodels.api as sm\n",
    "import itertools\n",
    "from statsmodels.tsa.stattools import pacf, acf\n",
    "from statsmodels.graphics.tsaplots import plot_pacf, plot_acf\n",
    "from IPython.display import Image\n",
    "from statsmodels.tsa.seasonal import seasonal_decompose\n",
    "from sklearn.metrics import classification_report, mean_squared_error,r2_score\n",
    "from sklearn.tree import DecisionTreeRegressor\n",
    "from sklearn.ensemble import AdaBoostRegressor, GradientBoostingRegressor\n",
    "import os"
   ]
  },
  {
   "cell_type": "code",
   "execution_count": 3,
   "metadata": {
    "ExecuteTime": {
     "end_time": "2020-05-20T08:09:48.081593Z",
     "start_time": "2020-05-20T08:09:42.172641Z"
    }
   },
   "outputs": [],
   "source": [
    "sensors = pd.read_csv('../Cleaned_data/all_sensors_clean.csv')"
   ]
  },
  {
   "cell_type": "markdown",
   "metadata": {},
   "source": [
    "# Using limited sensors (2,6,9,10,14,18)"
   ]
  },
  {
   "cell_type": "markdown",
   "metadata": {
    "ExecuteTime": {
     "end_time": "2020-05-15T14:51:30.801095Z",
     "start_time": "2020-05-15T14:51:30.794502Z"
    },
    "heading_collapsed": true
   },
   "source": [
    "## Use daily average counts from previous year and location features as predictors \n"
   ]
  },
  {
   "cell_type": "code",
   "execution_count": 11,
   "metadata": {
    "ExecuteTime": {
     "end_time": "2020-05-19T13:10:53.428683Z",
     "start_time": "2020-05-19T13:10:53.398859Z"
    },
    "hidden": true
   },
   "outputs": [],
   "source": [
    "#returns dataframe with average daily counts for specified sensor and year\n",
    "def counts_per_sensor_year(sensor_num, year):\n",
    "    #get sensor counts for specified sensor and year\n",
    "    df = sensors[(sensors.sensor_id ==sensor_num) & (sensors.year == year)]\n",
    "    df2 = df[['datetime', 'Hourly_Counts']]\n",
    "    df2.set_index('datetime', inplace = True)\n",
    "    df2.index = pd.DatetimeIndex(df2.index).to_period('H')\n",
    "    daily_df = df2.resample('1D').mean()\n",
    "    daily_df.rename(columns = {'Hourly_Counts': 'daily_avg_counts'}, inplace = True)\n",
    "    \n",
    "    daily_df['month'] = daily_df.index.month\n",
    "    daily_df['day'] = daily_df.index.day\n",
    "    daily_df['sensor_id'] = sensor_num\n",
    "    daily_df['year'] = year\n",
    "    return daily_df"
   ]
  },
  {
   "cell_type": "code",
   "execution_count": 5,
   "metadata": {
    "ExecuteTime": {
     "end_time": "2020-05-19T13:10:12.553671Z",
     "start_time": "2020-05-19T13:10:12.547202Z"
    },
    "hidden": true
   },
   "outputs": [],
   "source": [
    "#returns dataframe with average daily counts and features attached\n",
    "def features_per_sensor_year(sensor_num, year):\n",
    "    loc = pd.read_csv('/Users/Jewel/Desktop/capstone - melbourne data/features_{}_limited.csv'.format(year))\n",
    "    return loc[loc.sensor_id == sensor_num].merge(counts_per_sensor_year(sensor_num, year), how = 'inner', on = 'sensor_id')"
   ]
  },
  {
   "cell_type": "code",
   "execution_count": 6,
   "metadata": {
    "ExecuteTime": {
     "end_time": "2020-05-19T13:10:12.606332Z",
     "start_time": "2020-05-19T13:10:12.568486Z"
    },
    "hidden": true
   },
   "outputs": [],
   "source": [
    "#returns full dataframe with daily counts, features, and previous year counts\n",
    "def counts_prev_year(sensor_num, year):\n",
    "    #get counts for specified sensor the year before\n",
    "    prev_df = sensors[(sensors.sensor_id ==sensor_num) & (sensors.year == year - 1)]\n",
    "    prev_df2 = prev_df[['datetime', 'Hourly_Counts']]\n",
    "    prev_df2.set_index('datetime', inplace = True)\n",
    "    prev_df2.index = pd.DatetimeIndex(prev_df2.index).to_period('H')\n",
    "    prev_daily_df = prev_df2.resample('1D').mean()\n",
    "    prev_daily_df.rename(columns = {'Hourly_Counts': 'prev_year_counts'}, inplace = True)\n",
    "    \n",
    "    prev_daily_df['month'] = prev_daily_df.index.month\n",
    "    prev_daily_df['day'] = prev_daily_df.index.day\n",
    "\n",
    "    \n",
    "    #match sensor counts from previous year as a feature for predicting specified year counts\n",
    "    full_df = pd.merge(prev_daily_df, features_per_sensor_year(sensor_num, year), on=['month', 'day'])\n",
    "    return full_df"
   ]
  },
  {
   "cell_type": "code",
   "execution_count": 7,
   "metadata": {
    "ExecuteTime": {
     "end_time": "2020-05-19T13:10:12.659374Z",
     "start_time": "2020-05-19T13:10:12.619093Z"
    },
    "hidden": true
   },
   "outputs": [],
   "source": [
    "def limited_sensors_per_year(year):\n",
    "    df =  pd.concat([counts_prev_year(2, year), counts_prev_year(3, year), counts_prev_year(6, year),\n",
    "                     counts_prev_year(8, year), counts_prev_year(9, year), \n",
    "                    counts_prev_year(10, year), counts_prev_year(14, year), counts_prev_year(18, year)])\n",
    "    df.fillna(method='ffill', inplace = True)\n",
    "    return df\n"
   ]
  },
  {
   "cell_type": "markdown",
   "metadata": {
    "heading_collapsed": true
   },
   "source": [
    "## Limited Sensors\n",
    "### predict hourly counts with location, date and previous year's counts as predictors\n",
    "### using sensors 2, 3, 6, 8, 9, 10, 14, 18 from 2011-2018, randomly splitting sensors from 2011-2018 into train and test groups"
   ]
  },
  {
   "cell_type": "code",
   "execution_count": 7,
   "metadata": {
    "ExecuteTime": {
     "end_time": "2020-05-17T14:34:41.398397Z",
     "start_time": "2020-05-17T14:34:35.551762Z"
    },
    "hidden": true
   },
   "outputs": [
    {
     "name": "stderr",
     "output_type": "stream",
     "text": [
      "/opt/anaconda3/lib/python3.7/site-packages/ipykernel_launcher.py:4: FutureWarning: Sorting because non-concatenation axis is not aligned. A future version\n",
      "of pandas will change to not sort by default.\n",
      "\n",
      "To accept the future behavior, pass 'sort=False'.\n",
      "\n",
      "To retain the current behavior and silence the warning, pass 'sort=True'.\n",
      "\n",
      "  after removing the cwd from sys.path.\n"
     ]
    }
   ],
   "source": [
    "X = pd.concat([limited_sensors_per_year(2012), limited_sensors_per_year(2013), \n",
    "               limited_sensors_per_year(2014), limited_sensors_per_year(2015),\n",
    "              limited_sensors_per_year(2016), limited_sensors_per_year(2017),\n",
    "              limited_sensors_per_year(2018)], axis = 0, sort = True)\n",
    "y = X.pop('daily_avg_counts')\n"
   ]
  },
  {
   "cell_type": "code",
   "execution_count": 8,
   "metadata": {
    "ExecuteTime": {
     "end_time": "2020-05-17T14:34:41.488056Z",
     "start_time": "2020-05-17T14:34:41.401703Z"
    },
    "hidden": true
   },
   "outputs": [
    {
     "data": {
      "text/html": [
       "<div>\n",
       "<style scoped>\n",
       "    .dataframe tbody tr th:only-of-type {\n",
       "        vertical-align: middle;\n",
       "    }\n",
       "\n",
       "    .dataframe tbody tr th {\n",
       "        vertical-align: top;\n",
       "    }\n",
       "\n",
       "    .dataframe thead th {\n",
       "        text-align: right;\n",
       "    }\n",
       "</style>\n",
       "<table border=\"1\" class=\"dataframe\">\n",
       "  <thead>\n",
       "    <tr style=\"text-align: right;\">\n",
       "      <th></th>\n",
       "      <th>Barbeque</th>\n",
       "      <th>Bicycle Rails</th>\n",
       "      <th>Bin Corral</th>\n",
       "      <th>Bollard</th>\n",
       "      <th>Commercial Accommodation</th>\n",
       "      <th>Community Use</th>\n",
       "      <th>Community Use.1</th>\n",
       "      <th>Drinking Fountain</th>\n",
       "      <th>Education Centre</th>\n",
       "      <th>Educational/Research</th>\n",
       "      <th>...</th>\n",
       "      <th>Wholesale</th>\n",
       "      <th>Workshop/Studio</th>\n",
       "      <th>avg_n_floors</th>\n",
       "      <th>day</th>\n",
       "      <th>month</th>\n",
       "      <th>num_bikes</th>\n",
       "      <th>num_lights</th>\n",
       "      <th>prev_year_counts</th>\n",
       "      <th>sensor_id</th>\n",
       "      <th>year</th>\n",
       "    </tr>\n",
       "  </thead>\n",
       "  <tbody>\n",
       "    <tr>\n",
       "      <td>0</td>\n",
       "      <td>0</td>\n",
       "      <td>26</td>\n",
       "      <td>0</td>\n",
       "      <td>80</td>\n",
       "      <td>1.0</td>\n",
       "      <td>1</td>\n",
       "      <td>0.0</td>\n",
       "      <td>3</td>\n",
       "      <td>0</td>\n",
       "      <td>1.0</td>\n",
       "      <td>...</td>\n",
       "      <td>0.0</td>\n",
       "      <td>0.0</td>\n",
       "      <td>6.266667</td>\n",
       "      <td>1</td>\n",
       "      <td>1</td>\n",
       "      <td>0</td>\n",
       "      <td>44</td>\n",
       "      <td>816.875000</td>\n",
       "      <td>2</td>\n",
       "      <td>2012</td>\n",
       "    </tr>\n",
       "    <tr>\n",
       "      <td>1</td>\n",
       "      <td>0</td>\n",
       "      <td>26</td>\n",
       "      <td>0</td>\n",
       "      <td>80</td>\n",
       "      <td>1.0</td>\n",
       "      <td>1</td>\n",
       "      <td>0.0</td>\n",
       "      <td>3</td>\n",
       "      <td>0</td>\n",
       "      <td>1.0</td>\n",
       "      <td>...</td>\n",
       "      <td>0.0</td>\n",
       "      <td>0.0</td>\n",
       "      <td>6.266667</td>\n",
       "      <td>2</td>\n",
       "      <td>1</td>\n",
       "      <td>0</td>\n",
       "      <td>44</td>\n",
       "      <td>1096.375000</td>\n",
       "      <td>2</td>\n",
       "      <td>2012</td>\n",
       "    </tr>\n",
       "    <tr>\n",
       "      <td>2</td>\n",
       "      <td>0</td>\n",
       "      <td>26</td>\n",
       "      <td>0</td>\n",
       "      <td>80</td>\n",
       "      <td>1.0</td>\n",
       "      <td>1</td>\n",
       "      <td>0.0</td>\n",
       "      <td>3</td>\n",
       "      <td>0</td>\n",
       "      <td>1.0</td>\n",
       "      <td>...</td>\n",
       "      <td>0.0</td>\n",
       "      <td>0.0</td>\n",
       "      <td>6.266667</td>\n",
       "      <td>3</td>\n",
       "      <td>1</td>\n",
       "      <td>0</td>\n",
       "      <td>44</td>\n",
       "      <td>1022.583333</td>\n",
       "      <td>2</td>\n",
       "      <td>2012</td>\n",
       "    </tr>\n",
       "    <tr>\n",
       "      <td>3</td>\n",
       "      <td>0</td>\n",
       "      <td>26</td>\n",
       "      <td>0</td>\n",
       "      <td>80</td>\n",
       "      <td>1.0</td>\n",
       "      <td>1</td>\n",
       "      <td>0.0</td>\n",
       "      <td>3</td>\n",
       "      <td>0</td>\n",
       "      <td>1.0</td>\n",
       "      <td>...</td>\n",
       "      <td>0.0</td>\n",
       "      <td>0.0</td>\n",
       "      <td>6.266667</td>\n",
       "      <td>4</td>\n",
       "      <td>1</td>\n",
       "      <td>0</td>\n",
       "      <td>44</td>\n",
       "      <td>1252.500000</td>\n",
       "      <td>2</td>\n",
       "      <td>2012</td>\n",
       "    </tr>\n",
       "    <tr>\n",
       "      <td>4</td>\n",
       "      <td>0</td>\n",
       "      <td>26</td>\n",
       "      <td>0</td>\n",
       "      <td>80</td>\n",
       "      <td>1.0</td>\n",
       "      <td>1</td>\n",
       "      <td>0.0</td>\n",
       "      <td>3</td>\n",
       "      <td>0</td>\n",
       "      <td>1.0</td>\n",
       "      <td>...</td>\n",
       "      <td>0.0</td>\n",
       "      <td>0.0</td>\n",
       "      <td>6.266667</td>\n",
       "      <td>5</td>\n",
       "      <td>1</td>\n",
       "      <td>0</td>\n",
       "      <td>44</td>\n",
       "      <td>1307.375000</td>\n",
       "      <td>2</td>\n",
       "      <td>2012</td>\n",
       "    </tr>\n",
       "    <tr>\n",
       "      <td>...</td>\n",
       "      <td>...</td>\n",
       "      <td>...</td>\n",
       "      <td>...</td>\n",
       "      <td>...</td>\n",
       "      <td>...</td>\n",
       "      <td>...</td>\n",
       "      <td>...</td>\n",
       "      <td>...</td>\n",
       "      <td>...</td>\n",
       "      <td>...</td>\n",
       "      <td>...</td>\n",
       "      <td>...</td>\n",
       "      <td>...</td>\n",
       "      <td>...</td>\n",
       "      <td>...</td>\n",
       "      <td>...</td>\n",
       "      <td>...</td>\n",
       "      <td>...</td>\n",
       "      <td>...</td>\n",
       "      <td>...</td>\n",
       "      <td>...</td>\n",
       "    </tr>\n",
       "    <tr>\n",
       "      <td>360</td>\n",
       "      <td>0</td>\n",
       "      <td>29</td>\n",
       "      <td>0</td>\n",
       "      <td>29</td>\n",
       "      <td>0.0</td>\n",
       "      <td>0</td>\n",
       "      <td>0.0</td>\n",
       "      <td>1</td>\n",
       "      <td>0</td>\n",
       "      <td>0.0</td>\n",
       "      <td>...</td>\n",
       "      <td>0.0</td>\n",
       "      <td>0.0</td>\n",
       "      <td>9.945455</td>\n",
       "      <td>27</td>\n",
       "      <td>12</td>\n",
       "      <td>0</td>\n",
       "      <td>0</td>\n",
       "      <td>168.333333</td>\n",
       "      <td>18</td>\n",
       "      <td>2018</td>\n",
       "    </tr>\n",
       "    <tr>\n",
       "      <td>361</td>\n",
       "      <td>0</td>\n",
       "      <td>29</td>\n",
       "      <td>0</td>\n",
       "      <td>29</td>\n",
       "      <td>0.0</td>\n",
       "      <td>0</td>\n",
       "      <td>0.0</td>\n",
       "      <td>1</td>\n",
       "      <td>0</td>\n",
       "      <td>0.0</td>\n",
       "      <td>...</td>\n",
       "      <td>0.0</td>\n",
       "      <td>0.0</td>\n",
       "      <td>9.945455</td>\n",
       "      <td>28</td>\n",
       "      <td>12</td>\n",
       "      <td>0</td>\n",
       "      <td>0</td>\n",
       "      <td>174.833333</td>\n",
       "      <td>18</td>\n",
       "      <td>2018</td>\n",
       "    </tr>\n",
       "    <tr>\n",
       "      <td>362</td>\n",
       "      <td>0</td>\n",
       "      <td>29</td>\n",
       "      <td>0</td>\n",
       "      <td>29</td>\n",
       "      <td>0.0</td>\n",
       "      <td>0</td>\n",
       "      <td>0.0</td>\n",
       "      <td>1</td>\n",
       "      <td>0</td>\n",
       "      <td>0.0</td>\n",
       "      <td>...</td>\n",
       "      <td>0.0</td>\n",
       "      <td>0.0</td>\n",
       "      <td>9.945455</td>\n",
       "      <td>29</td>\n",
       "      <td>12</td>\n",
       "      <td>0</td>\n",
       "      <td>0</td>\n",
       "      <td>164.375000</td>\n",
       "      <td>18</td>\n",
       "      <td>2018</td>\n",
       "    </tr>\n",
       "    <tr>\n",
       "      <td>363</td>\n",
       "      <td>0</td>\n",
       "      <td>29</td>\n",
       "      <td>0</td>\n",
       "      <td>29</td>\n",
       "      <td>0.0</td>\n",
       "      <td>0</td>\n",
       "      <td>0.0</td>\n",
       "      <td>1</td>\n",
       "      <td>0</td>\n",
       "      <td>0.0</td>\n",
       "      <td>...</td>\n",
       "      <td>0.0</td>\n",
       "      <td>0.0</td>\n",
       "      <td>9.945455</td>\n",
       "      <td>30</td>\n",
       "      <td>12</td>\n",
       "      <td>0</td>\n",
       "      <td>0</td>\n",
       "      <td>91.083333</td>\n",
       "      <td>18</td>\n",
       "      <td>2018</td>\n",
       "    </tr>\n",
       "    <tr>\n",
       "      <td>364</td>\n",
       "      <td>0</td>\n",
       "      <td>29</td>\n",
       "      <td>0</td>\n",
       "      <td>29</td>\n",
       "      <td>0.0</td>\n",
       "      <td>0</td>\n",
       "      <td>0.0</td>\n",
       "      <td>1</td>\n",
       "      <td>0</td>\n",
       "      <td>0.0</td>\n",
       "      <td>...</td>\n",
       "      <td>0.0</td>\n",
       "      <td>0.0</td>\n",
       "      <td>9.945455</td>\n",
       "      <td>31</td>\n",
       "      <td>12</td>\n",
       "      <td>0</td>\n",
       "      <td>0</td>\n",
       "      <td>108.875000</td>\n",
       "      <td>18</td>\n",
       "      <td>2018</td>\n",
       "    </tr>\n",
       "  </tbody>\n",
       "</table>\n",
       "<p>15330 rows × 65 columns</p>\n",
       "</div>"
      ],
      "text/plain": [
       "     Barbeque  Bicycle Rails  Bin Corral  Bollard  Commercial Accommodation  \\\n",
       "0           0             26           0       80                       1.0   \n",
       "1           0             26           0       80                       1.0   \n",
       "2           0             26           0       80                       1.0   \n",
       "3           0             26           0       80                       1.0   \n",
       "4           0             26           0       80                       1.0   \n",
       "..        ...            ...         ...      ...                       ...   \n",
       "360         0             29           0       29                       0.0   \n",
       "361         0             29           0       29                       0.0   \n",
       "362         0             29           0       29                       0.0   \n",
       "363         0             29           0       29                       0.0   \n",
       "364         0             29           0       29                       0.0   \n",
       "\n",
       "     Community Use  Community Use.1  Drinking Fountain  Education Centre  \\\n",
       "0                1              0.0                  3                 0   \n",
       "1                1              0.0                  3                 0   \n",
       "2                1              0.0                  3                 0   \n",
       "3                1              0.0                  3                 0   \n",
       "4                1              0.0                  3                 0   \n",
       "..             ...              ...                ...               ...   \n",
       "360              0              0.0                  1                 0   \n",
       "361              0              0.0                  1                 0   \n",
       "362              0              0.0                  1                 0   \n",
       "363              0              0.0                  1                 0   \n",
       "364              0              0.0                  1                 0   \n",
       "\n",
       "     Educational/Research  ...  Wholesale  Workshop/Studio  avg_n_floors  day  \\\n",
       "0                     1.0  ...        0.0              0.0      6.266667    1   \n",
       "1                     1.0  ...        0.0              0.0      6.266667    2   \n",
       "2                     1.0  ...        0.0              0.0      6.266667    3   \n",
       "3                     1.0  ...        0.0              0.0      6.266667    4   \n",
       "4                     1.0  ...        0.0              0.0      6.266667    5   \n",
       "..                    ...  ...        ...              ...           ...  ...   \n",
       "360                   0.0  ...        0.0              0.0      9.945455   27   \n",
       "361                   0.0  ...        0.0              0.0      9.945455   28   \n",
       "362                   0.0  ...        0.0              0.0      9.945455   29   \n",
       "363                   0.0  ...        0.0              0.0      9.945455   30   \n",
       "364                   0.0  ...        0.0              0.0      9.945455   31   \n",
       "\n",
       "     month  num_bikes  num_lights  prev_year_counts  sensor_id  year  \n",
       "0        1          0          44        816.875000          2  2012  \n",
       "1        1          0          44       1096.375000          2  2012  \n",
       "2        1          0          44       1022.583333          2  2012  \n",
       "3        1          0          44       1252.500000          2  2012  \n",
       "4        1          0          44       1307.375000          2  2012  \n",
       "..     ...        ...         ...               ...        ...   ...  \n",
       "360     12          0           0        168.333333         18  2018  \n",
       "361     12          0           0        174.833333         18  2018  \n",
       "362     12          0           0        164.375000         18  2018  \n",
       "363     12          0           0         91.083333         18  2018  \n",
       "364     12          0           0        108.875000         18  2018  \n",
       "\n",
       "[15330 rows x 65 columns]"
      ]
     },
     "execution_count": 8,
     "metadata": {},
     "output_type": "execute_result"
    }
   ],
   "source": [
    "X"
   ]
  },
  {
   "cell_type": "code",
   "execution_count": 15,
   "metadata": {
    "ExecuteTime": {
     "end_time": "2020-05-16T20:22:19.532424Z",
     "start_time": "2020-05-16T20:22:19.482310Z"
    },
    "hidden": true
   },
   "outputs": [],
   "source": [
    "#train test split\n",
    "X_train, X_test, y_train, y_test = train_test_split(\n",
    "    X, y, test_size=0.2, random_state=1)"
   ]
  },
  {
   "cell_type": "code",
   "execution_count": 16,
   "metadata": {
    "ExecuteTime": {
     "end_time": "2020-05-16T20:22:20.209617Z",
     "start_time": "2020-05-16T20:22:20.150237Z"
    },
    "hidden": true
   },
   "outputs": [],
   "source": [
    "#standardize\n",
    "scaler = StandardScaler()\n",
    "X_train = pd.DataFrame(scaler.fit_transform(X_train), columns=X_train.columns)\n",
    "X_test = pd.DataFrame(scaler.transform(X_test), columns=X_test.columns)"
   ]
  },
  {
   "cell_type": "markdown",
   "metadata": {
    "hidden": true
   },
   "source": [
    "### Linear Regression"
   ]
  },
  {
   "cell_type": "code",
   "execution_count": 17,
   "metadata": {
    "ExecuteTime": {
     "end_time": "2020-05-16T20:22:20.899986Z",
     "start_time": "2020-05-16T20:22:20.830688Z"
    },
    "hidden": true
   },
   "outputs": [
    {
     "data": {
      "text/plain": [
       "LinearRegression(copy_X=True, fit_intercept=True, n_jobs=None, normalize=False)"
      ]
     },
     "execution_count": 17,
     "metadata": {},
     "output_type": "execute_result"
    }
   ],
   "source": [
    "model = LinearRegression()\n",
    "model.fit(X_train, y_train)"
   ]
  },
  {
   "cell_type": "code",
   "execution_count": 18,
   "metadata": {
    "ExecuteTime": {
     "end_time": "2020-05-16T20:22:21.582892Z",
     "start_time": "2020-05-16T20:22:21.401714Z"
    },
    "hidden": true
   },
   "outputs": [
    {
     "name": "stdout",
     "output_type": "stream",
     "text": [
      "Training score:  0.7721941700041325\n",
      "Test score:  0.7668878862756047\n",
      "CV score:  0.770676648821923\n"
     ]
    }
   ],
   "source": [
    "print('Training score: ', model.score(X_train, y_train))\n",
    "print('Test score: ', model.score(X_test, y_test))\n",
    "print('CV score: ', (cross_val_score(model, X_train, y_train)).mean())"
   ]
  },
  {
   "cell_type": "code",
   "execution_count": 19,
   "metadata": {
    "ExecuteTime": {
     "end_time": "2020-05-16T20:22:22.639944Z",
     "start_time": "2020-05-16T20:22:22.587406Z"
    },
    "hidden": true
   },
   "outputs": [
    {
     "data": {
      "text/html": [
       "<div>\n",
       "<style scoped>\n",
       "    .dataframe tbody tr th:only-of-type {\n",
       "        vertical-align: middle;\n",
       "    }\n",
       "\n",
       "    .dataframe tbody tr th {\n",
       "        vertical-align: top;\n",
       "    }\n",
       "\n",
       "    .dataframe thead th {\n",
       "        text-align: right;\n",
       "    }\n",
       "</style>\n",
       "<table border=\"1\" class=\"dataframe\">\n",
       "  <thead>\n",
       "    <tr style=\"text-align: right;\">\n",
       "      <th></th>\n",
       "      <th>y_test</th>\n",
       "      <th>predictions</th>\n",
       "      <th>residuals</th>\n",
       "    </tr>\n",
       "  </thead>\n",
       "  <tbody>\n",
       "    <tr>\n",
       "      <td>0</td>\n",
       "      <td>506.416667</td>\n",
       "      <td>369.092685</td>\n",
       "      <td>137.323981</td>\n",
       "    </tr>\n",
       "    <tr>\n",
       "      <td>1</td>\n",
       "      <td>818.916667</td>\n",
       "      <td>941.223112</td>\n",
       "      <td>-122.306446</td>\n",
       "    </tr>\n",
       "    <tr>\n",
       "      <td>2</td>\n",
       "      <td>927.375000</td>\n",
       "      <td>961.316575</td>\n",
       "      <td>-33.941575</td>\n",
       "    </tr>\n",
       "    <tr>\n",
       "      <td>3</td>\n",
       "      <td>398.500000</td>\n",
       "      <td>318.409522</td>\n",
       "      <td>80.090478</td>\n",
       "    </tr>\n",
       "    <tr>\n",
       "      <td>4</td>\n",
       "      <td>575.333333</td>\n",
       "      <td>424.388710</td>\n",
       "      <td>150.944623</td>\n",
       "    </tr>\n",
       "    <tr>\n",
       "      <td>...</td>\n",
       "      <td>...</td>\n",
       "      <td>...</td>\n",
       "      <td>...</td>\n",
       "    </tr>\n",
       "    <tr>\n",
       "      <td>3061</td>\n",
       "      <td>588.458333</td>\n",
       "      <td>1169.710676</td>\n",
       "      <td>-581.252342</td>\n",
       "    </tr>\n",
       "    <tr>\n",
       "      <td>3062</td>\n",
       "      <td>351.916667</td>\n",
       "      <td>336.599973</td>\n",
       "      <td>15.316693</td>\n",
       "    </tr>\n",
       "    <tr>\n",
       "      <td>3063</td>\n",
       "      <td>1258.625000</td>\n",
       "      <td>1417.395512</td>\n",
       "      <td>-158.770512</td>\n",
       "    </tr>\n",
       "    <tr>\n",
       "      <td>3064</td>\n",
       "      <td>917.666667</td>\n",
       "      <td>498.892358</td>\n",
       "      <td>418.774308</td>\n",
       "    </tr>\n",
       "    <tr>\n",
       "      <td>3065</td>\n",
       "      <td>634.333333</td>\n",
       "      <td>433.830117</td>\n",
       "      <td>200.503217</td>\n",
       "    </tr>\n",
       "  </tbody>\n",
       "</table>\n",
       "<p>3066 rows × 3 columns</p>\n",
       "</div>"
      ],
      "text/plain": [
       "           y_test  predictions   residuals\n",
       "0      506.416667   369.092685  137.323981\n",
       "1      818.916667   941.223112 -122.306446\n",
       "2      927.375000   961.316575  -33.941575\n",
       "3      398.500000   318.409522   80.090478\n",
       "4      575.333333   424.388710  150.944623\n",
       "...           ...          ...         ...\n",
       "3061   588.458333  1169.710676 -581.252342\n",
       "3062   351.916667   336.599973   15.316693\n",
       "3063  1258.625000  1417.395512 -158.770512\n",
       "3064   917.666667   498.892358  418.774308\n",
       "3065   634.333333   433.830117  200.503217\n",
       "\n",
       "[3066 rows x 3 columns]"
      ]
     },
     "execution_count": 19,
     "metadata": {},
     "output_type": "execute_result"
    }
   ],
   "source": [
    "predictions = model.predict(X_test)\n",
    "residuals = pd.DataFrame(predictions, y_test)\n",
    "residuals.reset_index(inplace = True)\n",
    "residuals.rename({'daily_avg_counts': 'y_test', 0: 'predictions'}, axis = 1, inplace = True)\n",
    "residuals['residuals'] = residuals.y_test - residuals.predictions\n",
    "residuals"
   ]
  },
  {
   "cell_type": "code",
   "execution_count": 20,
   "metadata": {
    "ExecuteTime": {
     "end_time": "2020-05-16T20:22:25.593472Z",
     "start_time": "2020-05-16T20:22:25.583608Z"
    },
    "hidden": true
   },
   "outputs": [
    {
     "data": {
      "text/plain": [
       "220.09939299054304"
      ]
     },
     "execution_count": 20,
     "metadata": {},
     "output_type": "execute_result"
    }
   ],
   "source": [
    "(mean_squared_error(y_test, predictions))**0.5"
   ]
  },
  {
   "cell_type": "code",
   "execution_count": 21,
   "metadata": {
    "ExecuteTime": {
     "end_time": "2020-05-16T20:22:27.828029Z",
     "start_time": "2020-05-16T20:22:27.445084Z"
    },
    "hidden": true
   },
   "outputs": [
    {
     "data": {
      "image/png": "[encoded data removed]",
      "text/plain": [
       "<Figure size 432x288 with 1 Axes>"
      ]
     },
     "metadata": {
      "needs_background": "light"
     },
     "output_type": "display_data"
    }
   ],
   "source": [
    "# collect the model coefficients in a dataframe\n",
    "df_coef = pd.DataFrame(model.coef_, index=X_train.columns,\n",
    "                       columns=['coefficients'])\n",
    "# calculate the absolute values of the coefficients to gauge influence (show importance of predictor variables)\n",
    "df_coef['coef_abs'] = df_coef.coefficients.abs()\n",
    "\n",
    "# plot the magnitude of the coefficients\n",
    "df_coef['coefficients'].sort_values(ascending = False)[:10].plot(kind='barh');"
   ]
  },
  {
   "cell_type": "code",
   "execution_count": 22,
   "metadata": {
    "ExecuteTime": {
     "end_time": "2020-05-16T20:22:31.787767Z",
     "start_time": "2020-05-16T20:22:30.945789Z"
    },
    "hidden": true
   },
   "outputs": [
    {
     "data": {
      "image/png": "[encoded data removed]",
      "text/plain": [
       "<Figure size 576x576 with 1 Axes>"
      ]
     },
     "metadata": {
      "needs_background": "light"
     },
     "output_type": "display_data"
    }
   ],
   "source": [
    "#predicted y values\n",
    "predictions = model.predict(X_test)\n",
    "\n",
    "#residuals (or error between predictions and actual)\n",
    "residuals = y_test - predictions\n",
    "\n",
    "# Plot predicted vs actual \n",
    "plt.figure(figsize=(8,8))\n",
    "plt.scatter(predictions, y_test, s=30, c='r', marker='+', zorder=10)\n",
    "plt.plot([y_test.min(), y_test.max()], [y_test.min(), y_test.max()], c='k', lw=2)\n",
    "plt.xlabel(\"Predicted Values - $\\hat{y}$\")\n",
    "plt.ylabel(\"Actual Values MEDV - y\")\n",
    "plt.show()"
   ]
  },
  {
   "cell_type": "markdown",
   "metadata": {},
   "source": [
    "# Adding ALL sensors "
   ]
  },
  {
   "cell_type": "markdown",
   "metadata": {
    "heading_collapsed": true
   },
   "source": [
    "### creating dataframe with previous year data"
   ]
  },
  {
   "cell_type": "code",
   "execution_count": 4,
   "metadata": {
    "ExecuteTime": {
     "end_time": "2020-05-20T08:09:48.375568Z",
     "start_time": "2020-05-20T08:09:48.094144Z"
    },
    "hidden": true
   },
   "outputs": [],
   "source": [
    "#returns dataframe with average daily counts for specified sensor and year\n",
    "\n",
    "def full_counts_per_sensor_year(sensor_num, year):\n",
    "    #get sensor counts for specified sensor and year\n",
    "    try:\n",
    "        df = sensors[(sensors.sensor_id ==sensor_num) & (sensors.year == year)]\n",
    "        df2 = df[['datetime', 'Hourly_Counts']]\n",
    "        df2.set_index('datetime', inplace = True)\n",
    "        df2.index = pd.DatetimeIndex(df2.index).to_period('H')\n",
    "        daily_df = df2.resample('1D').mean()\n",
    "        daily_df.rename(columns = {'Hourly_Counts': 'daily_avg_counts'}, inplace = True)\n",
    "\n",
    "        daily_df['weekday'] = daily_df.index.weekday\n",
    "        daily_df['month'] = daily_df.index.month\n",
    "        daily_df['day'] = daily_df.index.day\n",
    "        daily_df['sensor_id'] = sensor_num\n",
    "        daily_df['year'] = year\n",
    "    \n",
    "    except:\n",
    "        \n",
    "        #if there is no records for that year, take records from previous year\n",
    "        try:\n",
    "            df = sensors[(sensors.sensor_id ==sensor_num) & (sensors.year == year-1)]\n",
    "            df2 = df[['datetime', 'Hourly_Counts']]\n",
    "            df2.set_index('datetime', inplace = True)\n",
    "            df2.index = pd.DatetimeIndex(df2.index).to_period('H')\n",
    "            daily_df = df2.resample('1D').mean()\n",
    "            daily_df.rename(columns = {'Hourly_Counts': 'daily_avg_counts'}, inplace = True)\n",
    "\n",
    "            daily_df['weekday'] = daily_df.index.weekday\n",
    "            daily_df['month'] = daily_df.index.month\n",
    "            daily_df['day'] = daily_df.index.day\n",
    "            daily_df['sensor_id'] = sensor_num\n",
    "            daily_df['year'] = year-1\n",
    "        except:\n",
    "            \n",
    "            #if there is no records from previous year, take records from 2 years ago\n",
    "            try:\n",
    "                df = sensors[(sensors.sensor_id ==sensor_num) & (sensors.year == year-2)]\n",
    "                df2 = df[['datetime', 'Hourly_Counts']]\n",
    "                df2.set_index('datetime', inplace = True)\n",
    "                df2.index = pd.DatetimeIndex(df2.index).to_period('H')\n",
    "                daily_df = df2.resample('1D').mean()\n",
    "                daily_df.rename(columns = {'Hourly_Counts': 'daily_avg_counts'}, inplace = True)\n",
    "\n",
    "                daily_df['weekday'] = daily_df.index.weekday\n",
    "                daily_df['month'] = daily_df.index.month\n",
    "                daily_df['day'] = daily_df.index.day\n",
    "                daily_df['sensor_id'] = sensor_num\n",
    "                daily_df['year'] = year-2\n",
    "                \n",
    "            except:\n",
    "                daily_df = pd.DataFrame(columns = ['daily_avg_counts', 'month', 'day', 'sensor_id', 'year', 'datetime'])\n",
    "                daily_df.set_index('datetime', inplace = True)\n",
    "    return daily_df"
   ]
  },
  {
   "cell_type": "code",
   "execution_count": 5,
   "metadata": {
    "ExecuteTime": {
     "end_time": "2020-05-20T08:09:48.434104Z",
     "start_time": "2020-05-20T08:09:48.409541Z"
    },
    "hidden": true
   },
   "outputs": [],
   "source": [
    "#returns dataframe with average daily counts and features attached\n",
    "def full_features_per_sensor_year(sensor_num, year):\n",
    "    loc = pd.read_csv('/Users/Jewel/Desktop/capstone - melbourne data/location features/full/full_features_{}.csv'.format(year))\n",
    "    return loc[loc.sensor_id == sensor_num].merge(full_counts_per_sensor_year(sensor_num, year), how = 'inner', on = 'sensor_id')"
   ]
  },
  {
   "cell_type": "code",
   "execution_count": 6,
   "metadata": {
    "ExecuteTime": {
     "end_time": "2020-05-20T08:09:48.945382Z",
     "start_time": "2020-05-20T08:09:48.446201Z"
    },
    "hidden": true
   },
   "outputs": [
    {
     "data": {
      "text/html": [
       "<div>\n",
       "<style scoped>\n",
       "    .dataframe tbody tr th:only-of-type {\n",
       "        vertical-align: middle;\n",
       "    }\n",
       "\n",
       "    .dataframe tbody tr th {\n",
       "        vertical-align: top;\n",
       "    }\n",
       "\n",
       "    .dataframe thead th {\n",
       "        text-align: right;\n",
       "    }\n",
       "</style>\n",
       "<table border=\"1\" class=\"dataframe\">\n",
       "  <thead>\n",
       "    <tr style=\"text-align: right;\">\n",
       "      <th></th>\n",
       "      <th>sensor_id</th>\n",
       "      <th>Bicycle Rails</th>\n",
       "      <th>Litter Bin</th>\n",
       "      <th>Seat</th>\n",
       "      <th>Bollard</th>\n",
       "      <th>Hoop</th>\n",
       "      <th>Information Pillar</th>\n",
       "      <th>Floral Crate/Planter Box</th>\n",
       "      <th>Tree Guard</th>\n",
       "      <th>Drinking Fountain</th>\n",
       "      <th>...</th>\n",
       "      <th>Unoccupied - Under Demolition/Condemned</th>\n",
       "      <th>Transport.1</th>\n",
       "      <th>avg_n_floors</th>\n",
       "      <th>num_bikes</th>\n",
       "      <th>num_lights</th>\n",
       "      <th>daily_avg_counts</th>\n",
       "      <th>weekday</th>\n",
       "      <th>month</th>\n",
       "      <th>day</th>\n",
       "      <th>year</th>\n",
       "    </tr>\n",
       "  </thead>\n",
       "  <tbody>\n",
       "    <tr>\n",
       "      <td>0</td>\n",
       "      <td>3</td>\n",
       "      <td>41</td>\n",
       "      <td>32</td>\n",
       "      <td>42</td>\n",
       "      <td>10</td>\n",
       "      <td>0</td>\n",
       "      <td>2</td>\n",
       "      <td>0</td>\n",
       "      <td>8</td>\n",
       "      <td>3</td>\n",
       "      <td>...</td>\n",
       "      <td>0.0</td>\n",
       "      <td>0.0</td>\n",
       "      <td>4.186869</td>\n",
       "      <td>1</td>\n",
       "      <td>31</td>\n",
       "      <td>1156.333333</td>\n",
       "      <td>6</td>\n",
       "      <td>1</td>\n",
       "      <td>1</td>\n",
       "      <td>2012</td>\n",
       "    </tr>\n",
       "    <tr>\n",
       "      <td>1</td>\n",
       "      <td>3</td>\n",
       "      <td>41</td>\n",
       "      <td>32</td>\n",
       "      <td>42</td>\n",
       "      <td>10</td>\n",
       "      <td>0</td>\n",
       "      <td>2</td>\n",
       "      <td>0</td>\n",
       "      <td>8</td>\n",
       "      <td>3</td>\n",
       "      <td>...</td>\n",
       "      <td>0.0</td>\n",
       "      <td>0.0</td>\n",
       "      <td>4.186869</td>\n",
       "      <td>1</td>\n",
       "      <td>31</td>\n",
       "      <td>715.083333</td>\n",
       "      <td>0</td>\n",
       "      <td>1</td>\n",
       "      <td>2</td>\n",
       "      <td>2012</td>\n",
       "    </tr>\n",
       "    <tr>\n",
       "      <td>2</td>\n",
       "      <td>3</td>\n",
       "      <td>41</td>\n",
       "      <td>32</td>\n",
       "      <td>42</td>\n",
       "      <td>10</td>\n",
       "      <td>0</td>\n",
       "      <td>2</td>\n",
       "      <td>0</td>\n",
       "      <td>8</td>\n",
       "      <td>3</td>\n",
       "      <td>...</td>\n",
       "      <td>0.0</td>\n",
       "      <td>0.0</td>\n",
       "      <td>4.186869</td>\n",
       "      <td>1</td>\n",
       "      <td>31</td>\n",
       "      <td>797.625000</td>\n",
       "      <td>1</td>\n",
       "      <td>1</td>\n",
       "      <td>3</td>\n",
       "      <td>2012</td>\n",
       "    </tr>\n",
       "    <tr>\n",
       "      <td>3</td>\n",
       "      <td>3</td>\n",
       "      <td>41</td>\n",
       "      <td>32</td>\n",
       "      <td>42</td>\n",
       "      <td>10</td>\n",
       "      <td>0</td>\n",
       "      <td>2</td>\n",
       "      <td>0</td>\n",
       "      <td>8</td>\n",
       "      <td>3</td>\n",
       "      <td>...</td>\n",
       "      <td>0.0</td>\n",
       "      <td>0.0</td>\n",
       "      <td>4.186869</td>\n",
       "      <td>1</td>\n",
       "      <td>31</td>\n",
       "      <td>877.583333</td>\n",
       "      <td>2</td>\n",
       "      <td>1</td>\n",
       "      <td>4</td>\n",
       "      <td>2012</td>\n",
       "    </tr>\n",
       "    <tr>\n",
       "      <td>4</td>\n",
       "      <td>3</td>\n",
       "      <td>41</td>\n",
       "      <td>32</td>\n",
       "      <td>42</td>\n",
       "      <td>10</td>\n",
       "      <td>0</td>\n",
       "      <td>2</td>\n",
       "      <td>0</td>\n",
       "      <td>8</td>\n",
       "      <td>3</td>\n",
       "      <td>...</td>\n",
       "      <td>0.0</td>\n",
       "      <td>0.0</td>\n",
       "      <td>4.186869</td>\n",
       "      <td>1</td>\n",
       "      <td>31</td>\n",
       "      <td>962.541667</td>\n",
       "      <td>3</td>\n",
       "      <td>1</td>\n",
       "      <td>5</td>\n",
       "      <td>2012</td>\n",
       "    </tr>\n",
       "    <tr>\n",
       "      <td>...</td>\n",
       "      <td>...</td>\n",
       "      <td>...</td>\n",
       "      <td>...</td>\n",
       "      <td>...</td>\n",
       "      <td>...</td>\n",
       "      <td>...</td>\n",
       "      <td>...</td>\n",
       "      <td>...</td>\n",
       "      <td>...</td>\n",
       "      <td>...</td>\n",
       "      <td>...</td>\n",
       "      <td>...</td>\n",
       "      <td>...</td>\n",
       "      <td>...</td>\n",
       "      <td>...</td>\n",
       "      <td>...</td>\n",
       "      <td>...</td>\n",
       "      <td>...</td>\n",
       "      <td>...</td>\n",
       "      <td>...</td>\n",
       "      <td>...</td>\n",
       "    </tr>\n",
       "    <tr>\n",
       "      <td>361</td>\n",
       "      <td>3</td>\n",
       "      <td>41</td>\n",
       "      <td>32</td>\n",
       "      <td>42</td>\n",
       "      <td>10</td>\n",
       "      <td>0</td>\n",
       "      <td>2</td>\n",
       "      <td>0</td>\n",
       "      <td>8</td>\n",
       "      <td>3</td>\n",
       "      <td>...</td>\n",
       "      <td>0.0</td>\n",
       "      <td>0.0</td>\n",
       "      <td>4.186869</td>\n",
       "      <td>1</td>\n",
       "      <td>31</td>\n",
       "      <td>1230.791667</td>\n",
       "      <td>3</td>\n",
       "      <td>12</td>\n",
       "      <td>27</td>\n",
       "      <td>2012</td>\n",
       "    </tr>\n",
       "    <tr>\n",
       "      <td>362</td>\n",
       "      <td>3</td>\n",
       "      <td>41</td>\n",
       "      <td>32</td>\n",
       "      <td>42</td>\n",
       "      <td>10</td>\n",
       "      <td>0</td>\n",
       "      <td>2</td>\n",
       "      <td>0</td>\n",
       "      <td>8</td>\n",
       "      <td>3</td>\n",
       "      <td>...</td>\n",
       "      <td>0.0</td>\n",
       "      <td>0.0</td>\n",
       "      <td>4.186869</td>\n",
       "      <td>1</td>\n",
       "      <td>31</td>\n",
       "      <td>1294.416667</td>\n",
       "      <td>4</td>\n",
       "      <td>12</td>\n",
       "      <td>28</td>\n",
       "      <td>2012</td>\n",
       "    </tr>\n",
       "    <tr>\n",
       "      <td>363</td>\n",
       "      <td>3</td>\n",
       "      <td>41</td>\n",
       "      <td>32</td>\n",
       "      <td>42</td>\n",
       "      <td>10</td>\n",
       "      <td>0</td>\n",
       "      <td>2</td>\n",
       "      <td>0</td>\n",
       "      <td>8</td>\n",
       "      <td>3</td>\n",
       "      <td>...</td>\n",
       "      <td>0.0</td>\n",
       "      <td>0.0</td>\n",
       "      <td>4.186869</td>\n",
       "      <td>1</td>\n",
       "      <td>31</td>\n",
       "      <td>1185.208333</td>\n",
       "      <td>5</td>\n",
       "      <td>12</td>\n",
       "      <td>29</td>\n",
       "      <td>2012</td>\n",
       "    </tr>\n",
       "    <tr>\n",
       "      <td>364</td>\n",
       "      <td>3</td>\n",
       "      <td>41</td>\n",
       "      <td>32</td>\n",
       "      <td>42</td>\n",
       "      <td>10</td>\n",
       "      <td>0</td>\n",
       "      <td>2</td>\n",
       "      <td>0</td>\n",
       "      <td>8</td>\n",
       "      <td>3</td>\n",
       "      <td>...</td>\n",
       "      <td>0.0</td>\n",
       "      <td>0.0</td>\n",
       "      <td>4.186869</td>\n",
       "      <td>1</td>\n",
       "      <td>31</td>\n",
       "      <td>1047.958333</td>\n",
       "      <td>6</td>\n",
       "      <td>12</td>\n",
       "      <td>30</td>\n",
       "      <td>2012</td>\n",
       "    </tr>\n",
       "    <tr>\n",
       "      <td>365</td>\n",
       "      <td>3</td>\n",
       "      <td>41</td>\n",
       "      <td>32</td>\n",
       "      <td>42</td>\n",
       "      <td>10</td>\n",
       "      <td>0</td>\n",
       "      <td>2</td>\n",
       "      <td>0</td>\n",
       "      <td>8</td>\n",
       "      <td>3</td>\n",
       "      <td>...</td>\n",
       "      <td>0.0</td>\n",
       "      <td>0.0</td>\n",
       "      <td>4.186869</td>\n",
       "      <td>1</td>\n",
       "      <td>31</td>\n",
       "      <td>1423.666667</td>\n",
       "      <td>0</td>\n",
       "      <td>12</td>\n",
       "      <td>31</td>\n",
       "      <td>2012</td>\n",
       "    </tr>\n",
       "  </tbody>\n",
       "</table>\n",
       "<p>366 rows × 66 columns</p>\n",
       "</div>"
      ],
      "text/plain": [
       "     sensor_id  Bicycle Rails  Litter Bin  Seat  Bollard  Hoop  \\\n",
       "0            3             41          32    42       10     0   \n",
       "1            3             41          32    42       10     0   \n",
       "2            3             41          32    42       10     0   \n",
       "3            3             41          32    42       10     0   \n",
       "4            3             41          32    42       10     0   \n",
       "..         ...            ...         ...   ...      ...   ...   \n",
       "361          3             41          32    42       10     0   \n",
       "362          3             41          32    42       10     0   \n",
       "363          3             41          32    42       10     0   \n",
       "364          3             41          32    42       10     0   \n",
       "365          3             41          32    42       10     0   \n",
       "\n",
       "     Information Pillar  Floral Crate/Planter Box  Tree Guard  \\\n",
       "0                     2                         0           8   \n",
       "1                     2                         0           8   \n",
       "2                     2                         0           8   \n",
       "3                     2                         0           8   \n",
       "4                     2                         0           8   \n",
       "..                  ...                       ...         ...   \n",
       "361                   2                         0           8   \n",
       "362                   2                         0           8   \n",
       "363                   2                         0           8   \n",
       "364                   2                         0           8   \n",
       "365                   2                         0           8   \n",
       "\n",
       "     Drinking Fountain  ...  Unoccupied - Under Demolition/Condemned  \\\n",
       "0                    3  ...                                      0.0   \n",
       "1                    3  ...                                      0.0   \n",
       "2                    3  ...                                      0.0   \n",
       "3                    3  ...                                      0.0   \n",
       "4                    3  ...                                      0.0   \n",
       "..                 ...  ...                                      ...   \n",
       "361                  3  ...                                      0.0   \n",
       "362                  3  ...                                      0.0   \n",
       "363                  3  ...                                      0.0   \n",
       "364                  3  ...                                      0.0   \n",
       "365                  3  ...                                      0.0   \n",
       "\n",
       "     Transport.1  avg_n_floors  num_bikes  num_lights  daily_avg_counts  \\\n",
       "0            0.0      4.186869          1          31       1156.333333   \n",
       "1            0.0      4.186869          1          31        715.083333   \n",
       "2            0.0      4.186869          1          31        797.625000   \n",
       "3            0.0      4.186869          1          31        877.583333   \n",
       "4            0.0      4.186869          1          31        962.541667   \n",
       "..           ...           ...        ...         ...               ...   \n",
       "361          0.0      4.186869          1          31       1230.791667   \n",
       "362          0.0      4.186869          1          31       1294.416667   \n",
       "363          0.0      4.186869          1          31       1185.208333   \n",
       "364          0.0      4.186869          1          31       1047.958333   \n",
       "365          0.0      4.186869          1          31       1423.666667   \n",
       "\n",
       "     weekday  month  day  year  \n",
       "0          6      1    1  2012  \n",
       "1          0      1    2  2012  \n",
       "2          1      1    3  2012  \n",
       "3          2      1    4  2012  \n",
       "4          3      1    5  2012  \n",
       "..       ...    ...  ...   ...  \n",
       "361        3     12   27  2012  \n",
       "362        4     12   28  2012  \n",
       "363        5     12   29  2012  \n",
       "364        6     12   30  2012  \n",
       "365        0     12   31  2012  \n",
       "\n",
       "[366 rows x 66 columns]"
      ]
     },
     "execution_count": 6,
     "metadata": {},
     "output_type": "execute_result"
    }
   ],
   "source": [
    "full_features_per_sensor_year(3, 2012)"
   ]
  },
  {
   "cell_type": "code",
   "execution_count": 7,
   "metadata": {
    "ExecuteTime": {
     "end_time": "2020-05-20T08:09:49.006295Z",
     "start_time": "2020-05-20T08:09:48.954681Z"
    },
    "hidden": true
   },
   "outputs": [],
   "source": [
    "#returns full dataframe with daily counts, features, and previous year counts\n",
    "def full_counts_prev_year(sensor_num, year):\n",
    "    \n",
    "    #try to get counts for specified sensor the year before\n",
    "    try:\n",
    "        prev_df = sensors[(sensors.sensor_id ==sensor_num) & (sensors.year == year - 1)]\n",
    "        prev_df2 = prev_df[['datetime', 'Hourly_Counts']]\n",
    "        prev_df2.set_index('datetime', inplace = True)\n",
    "        prev_df2.index = pd.DatetimeIndex(prev_df2.index).to_period('H')\n",
    "        prev_daily_df = prev_df2.resample('1D').mean()\n",
    "        prev_daily_df.rename(columns = {'Hourly_Counts': 'prev_year_counts'}, inplace = True)\n",
    "\n",
    "        prev_daily_df['month'] = prev_daily_df.index.month\n",
    "        prev_daily_df['day'] = prev_daily_df.index.day\n",
    "    \n",
    "    except:\n",
    "        #if no records from previous year, get records from 2 years ago\n",
    "        try:\n",
    "            prev_df = sensors[(sensors.sensor_id ==sensor_num) & (sensors.year == year - 2)]\n",
    "            prev_df2 = prev_df[['datetime', 'Hourly_Counts']]\n",
    "            prev_df2.set_index('datetime', inplace = True)\n",
    "            prev_df2.index = pd.DatetimeIndex(prev_df2.index).to_period('H')\n",
    "            prev_daily_df = prev_df2.resample('1D').mean()\n",
    "            prev_daily_df.rename(columns = {'Hourly_Counts': 'prev_year_counts'}, inplace = True)\n",
    "\n",
    "            prev_daily_df['month'] = prev_daily_df.index.month\n",
    "            prev_daily_df['day'] = prev_daily_df.index.day\n",
    "            \n",
    "        except:\n",
    "            #if no records from previous 2 years, get records from 3 years ago\n",
    "            try:\n",
    "                prev_df = sensors[(sensors.sensor_id ==sensor_num) & (sensors.year == year - 3)]\n",
    "                prev_df2 = prev_df[['datetime', 'Hourly_Counts']]\n",
    "                prev_df2.set_index('datetime', inplace = True)\n",
    "                prev_df2.index = pd.DatetimeIndex(prev_df2.index).to_period('H')\n",
    "                prev_daily_df = prev_df2.resample('1D').mean()\n",
    "                prev_daily_df.rename(columns = {'Hourly_Counts': 'prev_year_counts'}, inplace = True)\n",
    "\n",
    "                prev_daily_df['month'] = prev_daily_df.index.month\n",
    "                prev_daily_df['day'] = prev_daily_df.index.day\n",
    "                \n",
    "            except:\n",
    "                pass\n",
    "\n",
    "    \n",
    "    #match sensor counts from previous year as a feature for predicting specified year counts\n",
    "    full_df = pd.merge(prev_daily_df, full_features_per_sensor_year(sensor_num, year), on=['month', 'day'])\n",
    "    return full_df"
   ]
  },
  {
   "cell_type": "code",
   "execution_count": 8,
   "metadata": {
    "ExecuteTime": {
     "end_time": "2020-05-20T08:09:49.571243Z",
     "start_time": "2020-05-20T08:09:49.016008Z"
    },
    "hidden": true
   },
   "outputs": [
    {
     "data": {
      "text/html": [
       "<div>\n",
       "<style scoped>\n",
       "    .dataframe tbody tr th:only-of-type {\n",
       "        vertical-align: middle;\n",
       "    }\n",
       "\n",
       "    .dataframe tbody tr th {\n",
       "        vertical-align: top;\n",
       "    }\n",
       "\n",
       "    .dataframe thead th {\n",
       "        text-align: right;\n",
       "    }\n",
       "</style>\n",
       "<table border=\"1\" class=\"dataframe\">\n",
       "  <thead>\n",
       "    <tr style=\"text-align: right;\">\n",
       "      <th></th>\n",
       "      <th>prev_year_counts</th>\n",
       "      <th>month</th>\n",
       "      <th>day</th>\n",
       "      <th>sensor_id</th>\n",
       "      <th>Bicycle Rails</th>\n",
       "      <th>Litter Bin</th>\n",
       "      <th>Seat</th>\n",
       "      <th>Bollard</th>\n",
       "      <th>Hoop</th>\n",
       "      <th>Information Pillar</th>\n",
       "      <th>...</th>\n",
       "      <th>Retail - Stall</th>\n",
       "      <th>Retail - Cars</th>\n",
       "      <th>Unoccupied - Under Demolition/Condemned</th>\n",
       "      <th>Transport.1</th>\n",
       "      <th>avg_n_floors</th>\n",
       "      <th>num_bikes</th>\n",
       "      <th>num_lights</th>\n",
       "      <th>daily_avg_counts</th>\n",
       "      <th>weekday</th>\n",
       "      <th>year</th>\n",
       "    </tr>\n",
       "  </thead>\n",
       "  <tbody>\n",
       "    <tr>\n",
       "      <td>0</td>\n",
       "      <td>816.875000</td>\n",
       "      <td>1</td>\n",
       "      <td>1</td>\n",
       "      <td>2</td>\n",
       "      <td>26</td>\n",
       "      <td>17</td>\n",
       "      <td>84</td>\n",
       "      <td>80</td>\n",
       "      <td>0</td>\n",
       "      <td>2</td>\n",
       "      <td>...</td>\n",
       "      <td>0.0</td>\n",
       "      <td>0.0</td>\n",
       "      <td>0.0</td>\n",
       "      <td>0.0</td>\n",
       "      <td>6.266667</td>\n",
       "      <td>0</td>\n",
       "      <td>44</td>\n",
       "      <td>706.083333</td>\n",
       "      <td>6</td>\n",
       "      <td>2012</td>\n",
       "    </tr>\n",
       "    <tr>\n",
       "      <td>1</td>\n",
       "      <td>1096.375000</td>\n",
       "      <td>1</td>\n",
       "      <td>2</td>\n",
       "      <td>2</td>\n",
       "      <td>26</td>\n",
       "      <td>17</td>\n",
       "      <td>84</td>\n",
       "      <td>80</td>\n",
       "      <td>0</td>\n",
       "      <td>2</td>\n",
       "      <td>...</td>\n",
       "      <td>0.0</td>\n",
       "      <td>0.0</td>\n",
       "      <td>0.0</td>\n",
       "      <td>0.0</td>\n",
       "      <td>6.266667</td>\n",
       "      <td>0</td>\n",
       "      <td>44</td>\n",
       "      <td>762.000000</td>\n",
       "      <td>0</td>\n",
       "      <td>2012</td>\n",
       "    </tr>\n",
       "    <tr>\n",
       "      <td>2</td>\n",
       "      <td>1022.583333</td>\n",
       "      <td>1</td>\n",
       "      <td>3</td>\n",
       "      <td>2</td>\n",
       "      <td>26</td>\n",
       "      <td>17</td>\n",
       "      <td>84</td>\n",
       "      <td>80</td>\n",
       "      <td>0</td>\n",
       "      <td>2</td>\n",
       "      <td>...</td>\n",
       "      <td>0.0</td>\n",
       "      <td>0.0</td>\n",
       "      <td>0.0</td>\n",
       "      <td>0.0</td>\n",
       "      <td>6.266667</td>\n",
       "      <td>0</td>\n",
       "      <td>44</td>\n",
       "      <td>1137.708333</td>\n",
       "      <td>1</td>\n",
       "      <td>2012</td>\n",
       "    </tr>\n",
       "    <tr>\n",
       "      <td>3</td>\n",
       "      <td>1252.500000</td>\n",
       "      <td>1</td>\n",
       "      <td>4</td>\n",
       "      <td>2</td>\n",
       "      <td>26</td>\n",
       "      <td>17</td>\n",
       "      <td>84</td>\n",
       "      <td>80</td>\n",
       "      <td>0</td>\n",
       "      <td>2</td>\n",
       "      <td>...</td>\n",
       "      <td>0.0</td>\n",
       "      <td>0.0</td>\n",
       "      <td>0.0</td>\n",
       "      <td>0.0</td>\n",
       "      <td>6.266667</td>\n",
       "      <td>0</td>\n",
       "      <td>44</td>\n",
       "      <td>1299.333333</td>\n",
       "      <td>2</td>\n",
       "      <td>2012</td>\n",
       "    </tr>\n",
       "    <tr>\n",
       "      <td>4</td>\n",
       "      <td>1307.375000</td>\n",
       "      <td>1</td>\n",
       "      <td>5</td>\n",
       "      <td>2</td>\n",
       "      <td>26</td>\n",
       "      <td>17</td>\n",
       "      <td>84</td>\n",
       "      <td>80</td>\n",
       "      <td>0</td>\n",
       "      <td>2</td>\n",
       "      <td>...</td>\n",
       "      <td>0.0</td>\n",
       "      <td>0.0</td>\n",
       "      <td>0.0</td>\n",
       "      <td>0.0</td>\n",
       "      <td>6.266667</td>\n",
       "      <td>0</td>\n",
       "      <td>44</td>\n",
       "      <td>1357.333333</td>\n",
       "      <td>3</td>\n",
       "      <td>2012</td>\n",
       "    </tr>\n",
       "    <tr>\n",
       "      <td>...</td>\n",
       "      <td>...</td>\n",
       "      <td>...</td>\n",
       "      <td>...</td>\n",
       "      <td>...</td>\n",
       "      <td>...</td>\n",
       "      <td>...</td>\n",
       "      <td>...</td>\n",
       "      <td>...</td>\n",
       "      <td>...</td>\n",
       "      <td>...</td>\n",
       "      <td>...</td>\n",
       "      <td>...</td>\n",
       "      <td>...</td>\n",
       "      <td>...</td>\n",
       "      <td>...</td>\n",
       "      <td>...</td>\n",
       "      <td>...</td>\n",
       "      <td>...</td>\n",
       "      <td>...</td>\n",
       "      <td>...</td>\n",
       "      <td>...</td>\n",
       "    </tr>\n",
       "    <tr>\n",
       "      <td>360</td>\n",
       "      <td>1589.000000</td>\n",
       "      <td>12</td>\n",
       "      <td>27</td>\n",
       "      <td>2</td>\n",
       "      <td>26</td>\n",
       "      <td>17</td>\n",
       "      <td>84</td>\n",
       "      <td>80</td>\n",
       "      <td>0</td>\n",
       "      <td>2</td>\n",
       "      <td>...</td>\n",
       "      <td>0.0</td>\n",
       "      <td>0.0</td>\n",
       "      <td>0.0</td>\n",
       "      <td>0.0</td>\n",
       "      <td>6.266667</td>\n",
       "      <td>0</td>\n",
       "      <td>44</td>\n",
       "      <td>1558.833333</td>\n",
       "      <td>3</td>\n",
       "      <td>2012</td>\n",
       "    </tr>\n",
       "    <tr>\n",
       "      <td>361</td>\n",
       "      <td>1632.125000</td>\n",
       "      <td>12</td>\n",
       "      <td>28</td>\n",
       "      <td>2</td>\n",
       "      <td>26</td>\n",
       "      <td>17</td>\n",
       "      <td>84</td>\n",
       "      <td>80</td>\n",
       "      <td>0</td>\n",
       "      <td>2</td>\n",
       "      <td>...</td>\n",
       "      <td>0.0</td>\n",
       "      <td>0.0</td>\n",
       "      <td>0.0</td>\n",
       "      <td>0.0</td>\n",
       "      <td>6.266667</td>\n",
       "      <td>0</td>\n",
       "      <td>44</td>\n",
       "      <td>1658.125000</td>\n",
       "      <td>4</td>\n",
       "      <td>2012</td>\n",
       "    </tr>\n",
       "    <tr>\n",
       "      <td>362</td>\n",
       "      <td>1563.041667</td>\n",
       "      <td>12</td>\n",
       "      <td>29</td>\n",
       "      <td>2</td>\n",
       "      <td>26</td>\n",
       "      <td>17</td>\n",
       "      <td>84</td>\n",
       "      <td>80</td>\n",
       "      <td>0</td>\n",
       "      <td>2</td>\n",
       "      <td>...</td>\n",
       "      <td>0.0</td>\n",
       "      <td>0.0</td>\n",
       "      <td>0.0</td>\n",
       "      <td>0.0</td>\n",
       "      <td>6.266667</td>\n",
       "      <td>0</td>\n",
       "      <td>44</td>\n",
       "      <td>1331.458333</td>\n",
       "      <td>5</td>\n",
       "      <td>2012</td>\n",
       "    </tr>\n",
       "    <tr>\n",
       "      <td>363</td>\n",
       "      <td>1641.583333</td>\n",
       "      <td>12</td>\n",
       "      <td>30</td>\n",
       "      <td>2</td>\n",
       "      <td>26</td>\n",
       "      <td>17</td>\n",
       "      <td>84</td>\n",
       "      <td>80</td>\n",
       "      <td>0</td>\n",
       "      <td>2</td>\n",
       "      <td>...</td>\n",
       "      <td>0.0</td>\n",
       "      <td>0.0</td>\n",
       "      <td>0.0</td>\n",
       "      <td>0.0</td>\n",
       "      <td>6.266667</td>\n",
       "      <td>0</td>\n",
       "      <td>44</td>\n",
       "      <td>1198.416667</td>\n",
       "      <td>6</td>\n",
       "      <td>2012</td>\n",
       "    </tr>\n",
       "    <tr>\n",
       "      <td>364</td>\n",
       "      <td>1280.750000</td>\n",
       "      <td>12</td>\n",
       "      <td>31</td>\n",
       "      <td>2</td>\n",
       "      <td>26</td>\n",
       "      <td>17</td>\n",
       "      <td>84</td>\n",
       "      <td>80</td>\n",
       "      <td>0</td>\n",
       "      <td>2</td>\n",
       "      <td>...</td>\n",
       "      <td>0.0</td>\n",
       "      <td>0.0</td>\n",
       "      <td>0.0</td>\n",
       "      <td>0.0</td>\n",
       "      <td>6.266667</td>\n",
       "      <td>0</td>\n",
       "      <td>44</td>\n",
       "      <td>1423.083333</td>\n",
       "      <td>0</td>\n",
       "      <td>2012</td>\n",
       "    </tr>\n",
       "  </tbody>\n",
       "</table>\n",
       "<p>365 rows × 67 columns</p>\n",
       "</div>"
      ],
      "text/plain": [
       "     prev_year_counts  month  day  sensor_id  Bicycle Rails  Litter Bin  Seat  \\\n",
       "0          816.875000      1    1          2             26          17    84   \n",
       "1         1096.375000      1    2          2             26          17    84   \n",
       "2         1022.583333      1    3          2             26          17    84   \n",
       "3         1252.500000      1    4          2             26          17    84   \n",
       "4         1307.375000      1    5          2             26          17    84   \n",
       "..                ...    ...  ...        ...            ...         ...   ...   \n",
       "360       1589.000000     12   27          2             26          17    84   \n",
       "361       1632.125000     12   28          2             26          17    84   \n",
       "362       1563.041667     12   29          2             26          17    84   \n",
       "363       1641.583333     12   30          2             26          17    84   \n",
       "364       1280.750000     12   31          2             26          17    84   \n",
       "\n",
       "     Bollard  Hoop  Information Pillar  ...  Retail - Stall  Retail - Cars  \\\n",
       "0         80     0                   2  ...             0.0            0.0   \n",
       "1         80     0                   2  ...             0.0            0.0   \n",
       "2         80     0                   2  ...             0.0            0.0   \n",
       "3         80     0                   2  ...             0.0            0.0   \n",
       "4         80     0                   2  ...             0.0            0.0   \n",
       "..       ...   ...                 ...  ...             ...            ...   \n",
       "360       80     0                   2  ...             0.0            0.0   \n",
       "361       80     0                   2  ...             0.0            0.0   \n",
       "362       80     0                   2  ...             0.0            0.0   \n",
       "363       80     0                   2  ...             0.0            0.0   \n",
       "364       80     0                   2  ...             0.0            0.0   \n",
       "\n",
       "     Unoccupied - Under Demolition/Condemned  Transport.1  avg_n_floors  \\\n",
       "0                                        0.0          0.0      6.266667   \n",
       "1                                        0.0          0.0      6.266667   \n",
       "2                                        0.0          0.0      6.266667   \n",
       "3                                        0.0          0.0      6.266667   \n",
       "4                                        0.0          0.0      6.266667   \n",
       "..                                       ...          ...           ...   \n",
       "360                                      0.0          0.0      6.266667   \n",
       "361                                      0.0          0.0      6.266667   \n",
       "362                                      0.0          0.0      6.266667   \n",
       "363                                      0.0          0.0      6.266667   \n",
       "364                                      0.0          0.0      6.266667   \n",
       "\n",
       "     num_bikes  num_lights  daily_avg_counts  weekday  year  \n",
       "0            0          44        706.083333        6  2012  \n",
       "1            0          44        762.000000        0  2012  \n",
       "2            0          44       1137.708333        1  2012  \n",
       "3            0          44       1299.333333        2  2012  \n",
       "4            0          44       1357.333333        3  2012  \n",
       "..         ...         ...               ...      ...   ...  \n",
       "360          0          44       1558.833333        3  2012  \n",
       "361          0          44       1658.125000        4  2012  \n",
       "362          0          44       1331.458333        5  2012  \n",
       "363          0          44       1198.416667        6  2012  \n",
       "364          0          44       1423.083333        0  2012  \n",
       "\n",
       "[365 rows x 67 columns]"
      ]
     },
     "execution_count": 8,
     "metadata": {},
     "output_type": "execute_result"
    }
   ],
   "source": [
    "full_counts_prev_year(2, 2012)"
   ]
  },
  {
   "cell_type": "code",
   "execution_count": 9,
   "metadata": {
    "ExecuteTime": {
     "end_time": "2020-05-20T08:09:49.592161Z",
     "start_time": "2020-05-20T08:09:49.580882Z"
    },
    "hidden": true
   },
   "outputs": [],
   "source": [
    "def full_sensors_per_year(year, year_list):\n",
    "    df =  pd.DataFrame([])\n",
    "    for x in year_list:\n",
    "        try:\n",
    "            df = df.append(full_counts_prev_year(x, year))\n",
    "        except:\n",
    "            pass\n",
    "        \n",
    "    df.fillna(method='ffill', inplace = True)\n",
    "    return df\n"
   ]
  },
  {
   "cell_type": "code",
   "execution_count": 10,
   "metadata": {
    "ExecuteTime": {
     "end_time": "2020-05-20T08:09:49.646501Z",
     "start_time": "2020-05-20T08:09:49.611505Z"
    },
    "hidden": true
   },
   "outputs": [],
   "source": [
    "#sensors valid for entire year:\n",
    "    \n",
    "sen_2011 = [2,3,4,5,6,7,8,9,10,11,12,14,15,17,18]\n",
    "\n",
    "sen_2012 = [1,2,3,4,5,6,7,8,9,10,11,12,14,17,18]\n",
    "\n",
    "sen_2013 = [1,2,3,4,5,6,7,8,9,10,11,14,15,17,18]\n",
    "\n",
    "sen_2014 = [2,3,4,5,6,8,9,10,11,12,14,15,17,18,19,20,21,22,23,24,25,26,27,28,29,30,31]\n",
    "\n",
    "sen_2015 = [2,3,4,5,6,7,8,9,10,11,12,14,15,17,18,19,20,21,22,23,24,25,26,27,28,29,30,31,33,34,36,39,40]\n",
    "\n",
    "sen_2016 = [1,2,3,5,6,7,8,9,10,12,14,18,19,20,21,23,24,25,26,27,28,29,30,31,33,34,36,37,39,40,42,43,44,53]\n",
    "\n",
    "sen_2017 = [1,2,3,6,7,8,9,10,11,12,14,15,17,18,19,20,21,23,24,25,26,27,28,29,30,31,33,34,35,36,37,39,40,42,43,44,53]\n",
    "\n",
    "sen_2018 = [1,2,3,4,5,6,7,8,9,10,11,12,14,15,18,19,20,21,23,24,25,26,27,28,29,30,31,33,34,35,36,37,40,42,43,44,45,46,47,49,50,51,52,53]\n",
    "\n",
    "sen_2019 = [1,2,4,5,6,7,9,10,11,12,14,15,18,19,20,21,23,24,26,27,28,30,31,34,36,37,39,40,42,43,44,46,47,48,49,50,51,52,53,54,56, 57,58]"
   ]
  },
  {
   "cell_type": "code",
   "execution_count": 11,
   "metadata": {
    "ExecuteTime": {
     "end_time": "2020-05-20T08:10:28.397930Z",
     "start_time": "2020-05-20T08:09:49.652208Z"
    },
    "hidden": true
   },
   "outputs": [],
   "source": [
    "all_sen_2012 = full_sensors_per_year(2012, sen_2012)\n",
    "all_sen_2013 = full_sensors_per_year(2013, sen_2013)\n",
    "all_sen_2014 = full_sensors_per_year(2014, sen_2014)\n",
    "all_sen_2015 = full_sensors_per_year(2015, sen_2015)\n",
    "all_sen_2016 = full_sensors_per_year(2016, sen_2016)\n",
    "all_sen_2017 = full_sensors_per_year(2017, sen_2017)\n",
    "all_sen_2018 = full_sensors_per_year(2018, sen_2018)"
   ]
  },
  {
   "cell_type": "code",
   "execution_count": 24,
   "metadata": {
    "ExecuteTime": {
     "end_time": "2020-05-19T13:12:35.725412Z",
     "start_time": "2020-05-19T13:12:28.299597Z"
    },
    "hidden": true
   },
   "outputs": [],
   "source": [
    "#export to csv sensors from all years with previous year counts\n",
    "\n",
    "all_sensors_prev_years = pd.concat([all_sen_2012, all_sen_2013, all_sen_2014, all_sen_2015, all_sen_2016, all_sen_2017,\n",
    "              all_sen_2018], axis = 0, sort = True)\n",
    "all_sensors_prev_years.to_csv('/Users/Jewel/Desktop/capstone - melbourne data/all_sensors_prev_years.csv', header = all_sensors_prev_years.columns, index=False)\n"
   ]
  },
  {
   "cell_type": "markdown",
   "metadata": {},
   "source": [
    "# Predicting with All Sensors (using all data split train/test)\n",
    "### predict hourly counts with location, date and previous year's counts as predictors\n",
    "### randomly splitting all valid sensors from 2011-2018 into train and test groups\n",
    "*best CV score = Decision Tree .917 HOWEVER this model does not forecast, it is performing well since all years are in train and test groups. For the next modelling, I will look at splitting the train and test groups by year to see if location and previous year counts can allow us to forecast footfall."
   ]
  },
  {
   "cell_type": "code",
   "execution_count": 25,
   "metadata": {
    "ExecuteTime": {
     "end_time": "2020-05-19T13:12:41.525424Z",
     "start_time": "2020-05-19T13:12:41.364677Z"
    }
   },
   "outputs": [],
   "source": [
    "X = pd.concat([all_sen_2012, all_sen_2013, all_sen_2014, all_sen_2015, all_sen_2016, all_sen_2017,\n",
    "              all_sen_2018], axis = 0, sort = True)\n",
    "y = X.pop('daily_avg_counts')\n"
   ]
  },
  {
   "cell_type": "code",
   "execution_count": 26,
   "metadata": {
    "ExecuteTime": {
     "end_time": "2020-05-19T13:12:42.624781Z",
     "start_time": "2020-05-19T13:12:42.450901Z"
    }
   },
   "outputs": [],
   "source": [
    "#train test split\n",
    "X_train, X_test, y_train, y_test = train_test_split(\n",
    "    X, y, test_size=0.2, random_state=1)"
   ]
  },
  {
   "cell_type": "code",
   "execution_count": 27,
   "metadata": {
    "ExecuteTime": {
     "end_time": "2020-05-19T13:12:44.587341Z",
     "start_time": "2020-05-19T13:12:44.261908Z"
    }
   },
   "outputs": [],
   "source": [
    "#standardize\n",
    "scaler = StandardScaler()\n",
    "X_train = pd.DataFrame(scaler.fit_transform(X_train), columns=X_train.columns)\n",
    "X_test = pd.DataFrame(scaler.transform(X_test), columns=X_test.columns)"
   ]
  },
  {
   "cell_type": "markdown",
   "metadata": {
    "heading_collapsed": true
   },
   "source": [
    "### Linear Regression"
   ]
  },
  {
   "cell_type": "code",
   "execution_count": 111,
   "metadata": {
    "ExecuteTime": {
     "end_time": "2020-05-16T20:54:20.151321Z",
     "start_time": "2020-05-16T20:54:19.957532Z"
    },
    "hidden": true
   },
   "outputs": [
    {
     "data": {
      "text/plain": [
       "LinearRegression(copy_X=True, fit_intercept=True, n_jobs=None, normalize=False)"
      ]
     },
     "execution_count": 111,
     "metadata": {},
     "output_type": "execute_result"
    }
   ],
   "source": [
    "model = LinearRegression()\n",
    "model.fit(X_train, y_train)"
   ]
  },
  {
   "cell_type": "code",
   "execution_count": 112,
   "metadata": {
    "ExecuteTime": {
     "end_time": "2020-05-16T20:54:21.490292Z",
     "start_time": "2020-05-16T20:54:20.672917Z"
    },
    "hidden": true
   },
   "outputs": [
    {
     "name": "stdout",
     "output_type": "stream",
     "text": [
      "Training score:  0.831029158759354\n",
      "Test score:  0.8303004689270322\n",
      "CV score:  0.8306526340005039\n"
     ]
    }
   ],
   "source": [
    "print('Training score: ', model.score(X_train, y_train))\n",
    "print('Test score: ', model.score(X_test, y_test))\n",
    "print('CV score: ', (cross_val_score(model, X_train, y_train)).mean())"
   ]
  },
  {
   "cell_type": "code",
   "execution_count": 113,
   "metadata": {
    "ExecuteTime": {
     "end_time": "2020-05-16T20:54:26.356959Z",
     "start_time": "2020-05-16T20:54:26.320067Z"
    },
    "hidden": true
   },
   "outputs": [
    {
     "data": {
      "text/html": [
       "<div>\n",
       "<style scoped>\n",
       "    .dataframe tbody tr th:only-of-type {\n",
       "        vertical-align: middle;\n",
       "    }\n",
       "\n",
       "    .dataframe tbody tr th {\n",
       "        vertical-align: top;\n",
       "    }\n",
       "\n",
       "    .dataframe thead th {\n",
       "        text-align: right;\n",
       "    }\n",
       "</style>\n",
       "<table border=\"1\" class=\"dataframe\">\n",
       "  <thead>\n",
       "    <tr style=\"text-align: right;\">\n",
       "      <th></th>\n",
       "      <th>y_test</th>\n",
       "      <th>predictions</th>\n",
       "      <th>residuals</th>\n",
       "    </tr>\n",
       "  </thead>\n",
       "  <tbody>\n",
       "    <tr>\n",
       "      <td>0</td>\n",
       "      <td>1207.333333</td>\n",
       "      <td>681.954004</td>\n",
       "      <td>525.379330</td>\n",
       "    </tr>\n",
       "    <tr>\n",
       "      <td>1</td>\n",
       "      <td>529.916667</td>\n",
       "      <td>587.041115</td>\n",
       "      <td>-57.124449</td>\n",
       "    </tr>\n",
       "    <tr>\n",
       "      <td>2</td>\n",
       "      <td>321.458333</td>\n",
       "      <td>254.477420</td>\n",
       "      <td>66.980914</td>\n",
       "    </tr>\n",
       "    <tr>\n",
       "      <td>3</td>\n",
       "      <td>706.875000</td>\n",
       "      <td>323.340580</td>\n",
       "      <td>383.534420</td>\n",
       "    </tr>\n",
       "    <tr>\n",
       "      <td>4</td>\n",
       "      <td>86.375000</td>\n",
       "      <td>-48.897649</td>\n",
       "      <td>135.272649</td>\n",
       "    </tr>\n",
       "    <tr>\n",
       "      <td>...</td>\n",
       "      <td>...</td>\n",
       "      <td>...</td>\n",
       "      <td>...</td>\n",
       "    </tr>\n",
       "    <tr>\n",
       "      <td>12454</td>\n",
       "      <td>203.291667</td>\n",
       "      <td>118.585910</td>\n",
       "      <td>84.705757</td>\n",
       "    </tr>\n",
       "    <tr>\n",
       "      <td>12455</td>\n",
       "      <td>1418.708333</td>\n",
       "      <td>1226.010895</td>\n",
       "      <td>192.697438</td>\n",
       "    </tr>\n",
       "    <tr>\n",
       "      <td>12456</td>\n",
       "      <td>360.583333</td>\n",
       "      <td>316.790464</td>\n",
       "      <td>43.792870</td>\n",
       "    </tr>\n",
       "    <tr>\n",
       "      <td>12457</td>\n",
       "      <td>371.291667</td>\n",
       "      <td>339.880725</td>\n",
       "      <td>31.410942</td>\n",
       "    </tr>\n",
       "    <tr>\n",
       "      <td>12458</td>\n",
       "      <td>394.416667</td>\n",
       "      <td>359.675929</td>\n",
       "      <td>34.740738</td>\n",
       "    </tr>\n",
       "  </tbody>\n",
       "</table>\n",
       "<p>12459 rows × 3 columns</p>\n",
       "</div>"
      ],
      "text/plain": [
       "            y_test  predictions   residuals\n",
       "0      1207.333333   681.954004  525.379330\n",
       "1       529.916667   587.041115  -57.124449\n",
       "2       321.458333   254.477420   66.980914\n",
       "3       706.875000   323.340580  383.534420\n",
       "4        86.375000   -48.897649  135.272649\n",
       "...            ...          ...         ...\n",
       "12454   203.291667   118.585910   84.705757\n",
       "12455  1418.708333  1226.010895  192.697438\n",
       "12456   360.583333   316.790464   43.792870\n",
       "12457   371.291667   339.880725   31.410942\n",
       "12458   394.416667   359.675929   34.740738\n",
       "\n",
       "[12459 rows x 3 columns]"
      ]
     },
     "execution_count": 113,
     "metadata": {},
     "output_type": "execute_result"
    }
   ],
   "source": [
    "predictions = model.predict(X_test)\n",
    "residuals = pd.DataFrame(predictions, y_test)\n",
    "residuals.reset_index(inplace = True)\n",
    "residuals.rename({'daily_avg_counts': 'y_test', 0: 'predictions'}, axis = 1, inplace = True)\n",
    "residuals['residuals'] = residuals.y_test - residuals.predictions\n",
    "residuals"
   ]
  },
  {
   "cell_type": "code",
   "execution_count": 114,
   "metadata": {
    "ExecuteTime": {
     "end_time": "2020-05-16T20:54:28.583665Z",
     "start_time": "2020-05-16T20:54:28.572054Z"
    },
    "hidden": true
   },
   "outputs": [
    {
     "data": {
      "text/plain": [
       "195.02736773916425"
      ]
     },
     "execution_count": 114,
     "metadata": {},
     "output_type": "execute_result"
    }
   ],
   "source": [
    "(mean_squared_error(y_test, predictions))**0.5"
   ]
  },
  {
   "cell_type": "code",
   "execution_count": 115,
   "metadata": {
    "ExecuteTime": {
     "end_time": "2020-05-16T20:54:30.255620Z",
     "start_time": "2020-05-16T20:54:29.985576Z"
    },
    "hidden": true
   },
   "outputs": [
    {
     "data": {
      "image/png": "[encoded data removed]",
      "text/plain": [
       "<Figure size 432x288 with 1 Axes>"
      ]
     },
     "metadata": {
      "needs_background": "light"
     },
     "output_type": "display_data"
    }
   ],
   "source": [
    "# collect the model coefficients in a dataframe\n",
    "df_coef = pd.DataFrame(model.coef_, index=X_train.columns,\n",
    "                       columns=['coefficients'])\n",
    "# calculate the absolute values of the coefficients to gauge influence (show importance of predictor variables)\n",
    "df_coef['coef_abs'] = df_coef.coefficients.abs()\n",
    "\n",
    "# plot the magnitude of the coefficients\n",
    "df_coef['coefficients'].sort_values(ascending = False)[:10].plot(kind='barh');"
   ]
  },
  {
   "cell_type": "code",
   "execution_count": 116,
   "metadata": {
    "ExecuteTime": {
     "end_time": "2020-05-16T20:54:33.808652Z",
     "start_time": "2020-05-16T20:54:33.461200Z"
    },
    "hidden": true
   },
   "outputs": [
    {
     "data": {
      "image/png": "[encoded data removed]",
      "text/plain": [
       "<Figure size 576x576 with 1 Axes>"
      ]
     },
     "metadata": {
      "needs_background": "light"
     },
     "output_type": "display_data"
    }
   ],
   "source": [
    "#predicted y values\n",
    "predictions = model.predict(X_test)\n",
    "\n",
    "#residuals (or error between predictions and actual)\n",
    "residuals = y_test - predictions\n",
    "\n",
    "# Plot predicted vs actual \n",
    "plt.figure(figsize=(8,8))\n",
    "plt.scatter(predictions, y_test, s=30, c='r', marker='+', zorder=10)\n",
    "plt.plot([y_test.min(), y_test.max()], [y_test.min(), y_test.max()], c='k', lw=2)\n",
    "plt.xlabel(\"Predicted Values - $\\hat{y}$\")\n",
    "plt.ylabel(\"Actual Values MEDV - y\")\n",
    "plt.show()"
   ]
  },
  {
   "cell_type": "markdown",
   "metadata": {
    "heading_collapsed": true
   },
   "source": [
    "### tune for best scores"
   ]
  },
  {
   "cell_type": "markdown",
   "metadata": {
    "heading_collapsed": true,
    "hidden": true
   },
   "source": [
    "#### Ridge with GridSearchCV"
   ]
  },
  {
   "cell_type": "code",
   "execution_count": 137,
   "metadata": {
    "ExecuteTime": {
     "end_time": "2020-05-16T21:37:18.331831Z",
     "start_time": "2020-05-16T21:25:18.125054Z"
    },
    "hidden": true
   },
   "outputs": [
    {
     "name": "stdout",
     "output_type": "stream",
     "text": [
      "Ridge(alpha=0, copy_X=True, fit_intercept=True, max_iter=100000,\n",
      "      normalize=False, random_state=None, solver='sag', tol=0.001)\n"
     ]
    },
    {
     "data": {
      "text/plain": [
       "Ridge(alpha=0, copy_X=True, fit_intercept=True, max_iter=100000,\n",
       "      normalize=False, random_state=None, solver='sag', tol=0.001)"
      ]
     },
     "execution_count": 137,
     "metadata": {},
     "output_type": "execute_result"
    }
   ],
   "source": [
    "parameters = {'alpha': list(range(10)), 'fit_intercept': [True, False], \n",
    "              'solver': ['auto', 'svd', 'cholesky', 'lsqr', 'sparse_cg', 'sag', 'saga']}\n",
    "\n",
    "# define the model/ estimator\n",
    "model = Ridge(max_iter = 100000)\n",
    "\n",
    "# define the grid search\n",
    "ridge= GridSearchCV(model, parameters,cv=5)\n",
    "\n",
    "#fit the grid search\n",
    "ridge.fit(X_train,y_train)\n",
    "\n",
    "# best estimator\n",
    "print(ridge.best_estimator_)\n",
    "\n",
    "# best model\n",
    "best_model = ridge.best_estimator_\n",
    "best_model.fit(X_train,y_train)"
   ]
  },
  {
   "cell_type": "code",
   "execution_count": 139,
   "metadata": {
    "ExecuteTime": {
     "end_time": "2020-05-16T21:37:30.465914Z",
     "start_time": "2020-05-16T21:37:18.420384Z"
    },
    "hidden": true
   },
   "outputs": [
    {
     "name": "stdout",
     "output_type": "stream",
     "text": [
      "Training score:  0.8310290311652919\n",
      "Test score:  0.8302931666900183\n",
      "CV score:  0.8306522518062962\n"
     ]
    }
   ],
   "source": [
    "print('Training score: ', best_model.score(X_train, y_train))\n",
    "print('Test score: ', best_model.score(X_test, y_test))\n",
    "print('CV score: ', (cross_val_score(best_model, X_train, y_train)).mean())"
   ]
  },
  {
   "cell_type": "markdown",
   "metadata": {
    "heading_collapsed": true,
    "hidden": true
   },
   "source": [
    "#### Lasso with GridSearchCV"
   ]
  },
  {
   "cell_type": "code",
   "execution_count": 140,
   "metadata": {
    "ExecuteTime": {
     "end_time": "2020-05-16T22:05:05.733823Z",
     "start_time": "2020-05-16T21:37:54.456617Z"
    },
    "hidden": true
   },
   "outputs": [
    {
     "name": "stdout",
     "output_type": "stream",
     "text": [
      "Lasso(alpha=0.0001, copy_X=True, fit_intercept=True, max_iter=100000,\n",
      "      normalize=False, positive=False, precompute=False, random_state=None,\n",
      "      selection='cyclic', tol=0.0001, warm_start=False)\n"
     ]
    },
    {
     "data": {
      "text/plain": [
       "Lasso(alpha=0.0001, copy_X=True, fit_intercept=True, max_iter=100000,\n",
       "      normalize=False, positive=False, precompute=False, random_state=None,\n",
       "      selection='cyclic', tol=0.0001, warm_start=False)"
      ]
     },
     "execution_count": 140,
     "metadata": {},
     "output_type": "execute_result"
    }
   ],
   "source": [
    "parameters = {'alpha': np.logspace(-4, 4, 10), 'fit_intercept': [True, False]}\n",
    "\n",
    "# define the model/ estimator\n",
    "model = Lasso(max_iter = 100000)\n",
    "\n",
    "# define the grid search\n",
    "lasso= GridSearchCV(model, parameters,cv=5)\n",
    "\n",
    "#fit the grid search\n",
    "lasso.fit(X_train,y_train)\n",
    "\n",
    "# best estimator\n",
    "print(lasso.best_estimator_)\n",
    "\n",
    "# best model\n",
    "best_model = lasso.best_estimator_\n",
    "best_model.fit(X_train,y_train)"
   ]
  },
  {
   "cell_type": "code",
   "execution_count": 141,
   "metadata": {
    "ExecuteTime": {
     "end_time": "2020-05-16T22:09:18.554027Z",
     "start_time": "2020-05-16T22:05:05.739042Z"
    },
    "hidden": true
   },
   "outputs": [
    {
     "name": "stdout",
     "output_type": "stream",
     "text": [
      "Training score:  0.8310291574249858\n",
      "Test score:  0.8302997445721232\n",
      "CV score:  0.8306526367044093\n"
     ]
    }
   ],
   "source": [
    "print('Training score: ', best_model.score(X_train, y_train))\n",
    "print('Test score: ', best_model.score(X_test, y_test))\n",
    "print('CV score: ', (cross_val_score(best_model, X_train, y_train)).mean())"
   ]
  },
  {
   "cell_type": "markdown",
   "metadata": {
    "ExecuteTime": {
     "end_time": "2020-05-16T21:37:18.349292Z",
     "start_time": "2020-05-16T21:37:18.339922Z"
    },
    "heading_collapsed": true,
    "hidden": true
   },
   "source": [
    "#### Decision Tree Regressor with GridSearchCV"
   ]
  },
  {
   "cell_type": "code",
   "execution_count": 29,
   "metadata": {
    "ExecuteTime": {
     "end_time": "2020-05-19T13:48:10.991689Z",
     "start_time": "2020-05-19T13:14:00.703146Z"
    },
    "hidden": true
   },
   "outputs": [
    {
     "name": "stdout",
     "output_type": "stream",
     "text": [
      "Fitting 5 folds for each of 2904 candidates, totalling 14520 fits\n"
     ]
    },
    {
     "name": "stderr",
     "output_type": "stream",
     "text": [
      "[Parallel(n_jobs=2)]: Using backend LokyBackend with 2 concurrent workers.\n",
      "[Parallel(n_jobs=2)]: Done  46 tasks      | elapsed:    8.0s\n",
      "[Parallel(n_jobs=2)]: Done 203 tasks      | elapsed:   17.5s\n",
      "[Parallel(n_jobs=2)]: Done 703 tasks      | elapsed:   51.8s\n",
      "[Parallel(n_jobs=2)]: Done 1403 tasks      | elapsed:  1.9min\n",
      "[Parallel(n_jobs=2)]: Done 1935 tasks      | elapsed:  3.1min\n",
      "[Parallel(n_jobs=2)]: Done 2485 tasks      | elapsed:  4.6min\n",
      "[Parallel(n_jobs=2)]: Done 3654 tasks      | elapsed:  5.9min\n",
      "[Parallel(n_jobs=2)]: Done 4404 tasks      | elapsed:  7.5min\n",
      "[Parallel(n_jobs=2)]: Done 5364 tasks      | elapsed: 10.1min\n",
      "[Parallel(n_jobs=2)]: Done 6834 tasks      | elapsed: 12.5min\n",
      "[Parallel(n_jobs=2)]: Done 8139 tasks      | elapsed: 16.2min\n",
      "[Parallel(n_jobs=2)]: Done 9312 tasks      | elapsed: 18.5min\n",
      "[Parallel(n_jobs=2)]: Done 11295 tasks      | elapsed: 23.5min\n",
      "[Parallel(n_jobs=2)]: Done 13082 tasks      | elapsed: 28.4min\n",
      "[Parallel(n_jobs=2)]: Done 14520 out of 14520 | elapsed: 34.2min finished\n"
     ]
    },
    {
     "name": "stdout",
     "output_type": "stream",
     "text": [
      "{'ccp_alpha': 0, 'max_depth': None, 'max_features': None, 'min_samples_split': 50}\n"
     ]
    }
   ],
   "source": [
    "dtr_params = {\n",
    "    'max_depth': list(range(1, 11))+[None],\n",
    "    'max_features': [None, 1, 2, 3],\n",
    "    'min_samples_split': [2, 3, 4, 5, 10, 15, 20, 25, 30, 40, 50],\n",
    "    'ccp_alpha': [0, 0.001, 0.005, 0.009, 0.01, 0.05]\n",
    "}\n",
    "\n",
    "\n",
    "# set the gridsearch\n",
    "model = DecisionTreeRegressor()\n",
    "dtr_gs = GridSearchCV(model, dtr_params, cv=5, verbose=1, n_jobs=2)\n",
    "dtr_gs.fit(X_train, y_train)\n",
    "print(dtr_gs.best_params_)\n",
    "best_model = dtr_gs.best_estimator_"
   ]
  },
  {
   "cell_type": "code",
   "execution_count": 30,
   "metadata": {
    "ExecuteTime": {
     "end_time": "2020-05-19T13:48:16.960975Z",
     "start_time": "2020-05-19T13:48:14.395367Z"
    },
    "hidden": true
   },
   "outputs": [
    {
     "name": "stdout",
     "output_type": "stream",
     "text": [
      "Training score:  0.9440709074505427\n",
      "Test score:  0.9190303296751863\n",
      "CV score:  0.9170065066191808\n"
     ]
    }
   ],
   "source": [
    "print('Training score: ', best_model.score(X_train, y_train))\n",
    "print('Test score: ', best_model.score(X_test, y_test))\n",
    "print('CV score: ', (cross_val_score(best_model, X_train, y_train)).mean())"
   ]
  },
  {
   "cell_type": "markdown",
   "metadata": {},
   "source": [
    "# Use all sensors to predict 2017 & 2018 data\n",
    "#### predict hourly counts with location, date and previous year's counts as predictors\n",
    "#### using all valid sensors from 2011-2018\n",
    "#### predict counts for 2017 & 2018 with previous years as train data\n",
    "*best CV score = Ada Boost Regressor 0.84"
   ]
  },
  {
   "cell_type": "code",
   "execution_count": 15,
   "metadata": {
    "ExecuteTime": {
     "end_time": "2020-05-19T21:06:04.926280Z",
     "start_time": "2020-05-19T21:06:04.709971Z"
    }
   },
   "outputs": [],
   "source": [
    "train = pd.concat([all_sen_2012, all_sen_2013, all_sen_2014, all_sen_2015, all_sen_2016], axis = 0, sort = True)\n",
    "test = pd.concat([all_sen_2018, all_sen_2017], axis = 0, sort = True)\n",
    "\n",
    "X_train = train.copy()\n",
    "y_train = X_train.pop('daily_avg_counts')\n",
    "\n",
    "X_test = test.copy()\n",
    "y_test = X_test.pop('daily_avg_counts')"
   ]
  },
  {
   "cell_type": "code",
   "execution_count": 16,
   "metadata": {
    "ExecuteTime": {
     "end_time": "2020-05-19T21:06:06.116919Z",
     "start_time": "2020-05-19T21:06:06.050559Z"
    }
   },
   "outputs": [
    {
     "data": {
      "text/html": [
       "<div>\n",
       "<style scoped>\n",
       "    .dataframe tbody tr th:only-of-type {\n",
       "        vertical-align: middle;\n",
       "    }\n",
       "\n",
       "    .dataframe tbody tr th {\n",
       "        vertical-align: top;\n",
       "    }\n",
       "\n",
       "    .dataframe thead th {\n",
       "        text-align: right;\n",
       "    }\n",
       "</style>\n",
       "<table border=\"1\" class=\"dataframe\">\n",
       "  <thead>\n",
       "    <tr style=\"text-align: right;\">\n",
       "      <th></th>\n",
       "      <th>Barbeque</th>\n",
       "      <th>Bicycle Rails</th>\n",
       "      <th>Bin Corral</th>\n",
       "      <th>Bollard</th>\n",
       "      <th>Commercial Accommodation</th>\n",
       "      <th>Community Use</th>\n",
       "      <th>Community Use.1</th>\n",
       "      <th>Drinking Fountain</th>\n",
       "      <th>Education Centre</th>\n",
       "      <th>Educational/Research</th>\n",
       "      <th>...</th>\n",
       "      <th>Workshop/Studio</th>\n",
       "      <th>avg_n_floors</th>\n",
       "      <th>day</th>\n",
       "      <th>month</th>\n",
       "      <th>num_bikes</th>\n",
       "      <th>num_lights</th>\n",
       "      <th>prev_year_counts</th>\n",
       "      <th>sensor_id</th>\n",
       "      <th>weekday</th>\n",
       "      <th>year</th>\n",
       "    </tr>\n",
       "  </thead>\n",
       "  <tbody>\n",
       "    <tr>\n",
       "      <td>0</td>\n",
       "      <td>0</td>\n",
       "      <td>26</td>\n",
       "      <td>0</td>\n",
       "      <td>80</td>\n",
       "      <td>1.0</td>\n",
       "      <td>1</td>\n",
       "      <td>0.0</td>\n",
       "      <td>3</td>\n",
       "      <td>0</td>\n",
       "      <td>1.0</td>\n",
       "      <td>...</td>\n",
       "      <td>0.0</td>\n",
       "      <td>6.266667</td>\n",
       "      <td>1</td>\n",
       "      <td>1</td>\n",
       "      <td>0</td>\n",
       "      <td>44</td>\n",
       "      <td>816.875000</td>\n",
       "      <td>2</td>\n",
       "      <td>6</td>\n",
       "      <td>2012</td>\n",
       "    </tr>\n",
       "    <tr>\n",
       "      <td>1</td>\n",
       "      <td>0</td>\n",
       "      <td>26</td>\n",
       "      <td>0</td>\n",
       "      <td>80</td>\n",
       "      <td>1.0</td>\n",
       "      <td>1</td>\n",
       "      <td>0.0</td>\n",
       "      <td>3</td>\n",
       "      <td>0</td>\n",
       "      <td>1.0</td>\n",
       "      <td>...</td>\n",
       "      <td>0.0</td>\n",
       "      <td>6.266667</td>\n",
       "      <td>2</td>\n",
       "      <td>1</td>\n",
       "      <td>0</td>\n",
       "      <td>44</td>\n",
       "      <td>1096.375000</td>\n",
       "      <td>2</td>\n",
       "      <td>0</td>\n",
       "      <td>2012</td>\n",
       "    </tr>\n",
       "    <tr>\n",
       "      <td>2</td>\n",
       "      <td>0</td>\n",
       "      <td>26</td>\n",
       "      <td>0</td>\n",
       "      <td>80</td>\n",
       "      <td>1.0</td>\n",
       "      <td>1</td>\n",
       "      <td>0.0</td>\n",
       "      <td>3</td>\n",
       "      <td>0</td>\n",
       "      <td>1.0</td>\n",
       "      <td>...</td>\n",
       "      <td>0.0</td>\n",
       "      <td>6.266667</td>\n",
       "      <td>3</td>\n",
       "      <td>1</td>\n",
       "      <td>0</td>\n",
       "      <td>44</td>\n",
       "      <td>1022.583333</td>\n",
       "      <td>2</td>\n",
       "      <td>1</td>\n",
       "      <td>2012</td>\n",
       "    </tr>\n",
       "    <tr>\n",
       "      <td>3</td>\n",
       "      <td>0</td>\n",
       "      <td>26</td>\n",
       "      <td>0</td>\n",
       "      <td>80</td>\n",
       "      <td>1.0</td>\n",
       "      <td>1</td>\n",
       "      <td>0.0</td>\n",
       "      <td>3</td>\n",
       "      <td>0</td>\n",
       "      <td>1.0</td>\n",
       "      <td>...</td>\n",
       "      <td>0.0</td>\n",
       "      <td>6.266667</td>\n",
       "      <td>4</td>\n",
       "      <td>1</td>\n",
       "      <td>0</td>\n",
       "      <td>44</td>\n",
       "      <td>1252.500000</td>\n",
       "      <td>2</td>\n",
       "      <td>2</td>\n",
       "      <td>2012</td>\n",
       "    </tr>\n",
       "    <tr>\n",
       "      <td>4</td>\n",
       "      <td>0</td>\n",
       "      <td>26</td>\n",
       "      <td>0</td>\n",
       "      <td>80</td>\n",
       "      <td>1.0</td>\n",
       "      <td>1</td>\n",
       "      <td>0.0</td>\n",
       "      <td>3</td>\n",
       "      <td>0</td>\n",
       "      <td>1.0</td>\n",
       "      <td>...</td>\n",
       "      <td>0.0</td>\n",
       "      <td>6.266667</td>\n",
       "      <td>5</td>\n",
       "      <td>1</td>\n",
       "      <td>0</td>\n",
       "      <td>44</td>\n",
       "      <td>1307.375000</td>\n",
       "      <td>2</td>\n",
       "      <td>3</td>\n",
       "      <td>2012</td>\n",
       "    </tr>\n",
       "    <tr>\n",
       "      <td>...</td>\n",
       "      <td>...</td>\n",
       "      <td>...</td>\n",
       "      <td>...</td>\n",
       "      <td>...</td>\n",
       "      <td>...</td>\n",
       "      <td>...</td>\n",
       "      <td>...</td>\n",
       "      <td>...</td>\n",
       "      <td>...</td>\n",
       "      <td>...</td>\n",
       "      <td>...</td>\n",
       "      <td>...</td>\n",
       "      <td>...</td>\n",
       "      <td>...</td>\n",
       "      <td>...</td>\n",
       "      <td>...</td>\n",
       "      <td>...</td>\n",
       "      <td>...</td>\n",
       "      <td>...</td>\n",
       "      <td>...</td>\n",
       "      <td>...</td>\n",
       "    </tr>\n",
       "    <tr>\n",
       "      <td>341</td>\n",
       "      <td>0</td>\n",
       "      <td>34</td>\n",
       "      <td>0</td>\n",
       "      <td>15</td>\n",
       "      <td>4.0</td>\n",
       "      <td>0</td>\n",
       "      <td>0.0</td>\n",
       "      <td>1</td>\n",
       "      <td>0</td>\n",
       "      <td>1.0</td>\n",
       "      <td>...</td>\n",
       "      <td>0.0</td>\n",
       "      <td>14.250000</td>\n",
       "      <td>27</td>\n",
       "      <td>12</td>\n",
       "      <td>0</td>\n",
       "      <td>13</td>\n",
       "      <td>124.541667</td>\n",
       "      <td>40</td>\n",
       "      <td>1</td>\n",
       "      <td>2016</td>\n",
       "    </tr>\n",
       "    <tr>\n",
       "      <td>342</td>\n",
       "      <td>0</td>\n",
       "      <td>34</td>\n",
       "      <td>0</td>\n",
       "      <td>15</td>\n",
       "      <td>4.0</td>\n",
       "      <td>0</td>\n",
       "      <td>0.0</td>\n",
       "      <td>1</td>\n",
       "      <td>0</td>\n",
       "      <td>1.0</td>\n",
       "      <td>...</td>\n",
       "      <td>0.0</td>\n",
       "      <td>14.250000</td>\n",
       "      <td>28</td>\n",
       "      <td>12</td>\n",
       "      <td>0</td>\n",
       "      <td>13</td>\n",
       "      <td>124.375000</td>\n",
       "      <td>40</td>\n",
       "      <td>2</td>\n",
       "      <td>2016</td>\n",
       "    </tr>\n",
       "    <tr>\n",
       "      <td>343</td>\n",
       "      <td>0</td>\n",
       "      <td>34</td>\n",
       "      <td>0</td>\n",
       "      <td>15</td>\n",
       "      <td>4.0</td>\n",
       "      <td>0</td>\n",
       "      <td>0.0</td>\n",
       "      <td>1</td>\n",
       "      <td>0</td>\n",
       "      <td>1.0</td>\n",
       "      <td>...</td>\n",
       "      <td>0.0</td>\n",
       "      <td>14.250000</td>\n",
       "      <td>29</td>\n",
       "      <td>12</td>\n",
       "      <td>0</td>\n",
       "      <td>13</td>\n",
       "      <td>189.791667</td>\n",
       "      <td>40</td>\n",
       "      <td>3</td>\n",
       "      <td>2016</td>\n",
       "    </tr>\n",
       "    <tr>\n",
       "      <td>344</td>\n",
       "      <td>0</td>\n",
       "      <td>34</td>\n",
       "      <td>0</td>\n",
       "      <td>15</td>\n",
       "      <td>4.0</td>\n",
       "      <td>0</td>\n",
       "      <td>0.0</td>\n",
       "      <td>1</td>\n",
       "      <td>0</td>\n",
       "      <td>1.0</td>\n",
       "      <td>...</td>\n",
       "      <td>0.0</td>\n",
       "      <td>14.250000</td>\n",
       "      <td>30</td>\n",
       "      <td>12</td>\n",
       "      <td>0</td>\n",
       "      <td>13</td>\n",
       "      <td>226.375000</td>\n",
       "      <td>40</td>\n",
       "      <td>4</td>\n",
       "      <td>2016</td>\n",
       "    </tr>\n",
       "    <tr>\n",
       "      <td>345</td>\n",
       "      <td>0</td>\n",
       "      <td>34</td>\n",
       "      <td>0</td>\n",
       "      <td>15</td>\n",
       "      <td>4.0</td>\n",
       "      <td>0</td>\n",
       "      <td>0.0</td>\n",
       "      <td>1</td>\n",
       "      <td>0</td>\n",
       "      <td>1.0</td>\n",
       "      <td>...</td>\n",
       "      <td>0.0</td>\n",
       "      <td>14.250000</td>\n",
       "      <td>31</td>\n",
       "      <td>12</td>\n",
       "      <td>0</td>\n",
       "      <td>13</td>\n",
       "      <td>170.083333</td>\n",
       "      <td>40</td>\n",
       "      <td>5</td>\n",
       "      <td>2016</td>\n",
       "    </tr>\n",
       "  </tbody>\n",
       "</table>\n",
       "<p>36115 rows × 66 columns</p>\n",
       "</div>"
      ],
      "text/plain": [
       "     Barbeque  Bicycle Rails  Bin Corral  Bollard  Commercial Accommodation  \\\n",
       "0           0             26           0       80                       1.0   \n",
       "1           0             26           0       80                       1.0   \n",
       "2           0             26           0       80                       1.0   \n",
       "3           0             26           0       80                       1.0   \n",
       "4           0             26           0       80                       1.0   \n",
       "..        ...            ...         ...      ...                       ...   \n",
       "341         0             34           0       15                       4.0   \n",
       "342         0             34           0       15                       4.0   \n",
       "343         0             34           0       15                       4.0   \n",
       "344         0             34           0       15                       4.0   \n",
       "345         0             34           0       15                       4.0   \n",
       "\n",
       "     Community Use  Community Use.1  Drinking Fountain  Education Centre  \\\n",
       "0                1              0.0                  3                 0   \n",
       "1                1              0.0                  3                 0   \n",
       "2                1              0.0                  3                 0   \n",
       "3                1              0.0                  3                 0   \n",
       "4                1              0.0                  3                 0   \n",
       "..             ...              ...                ...               ...   \n",
       "341              0              0.0                  1                 0   \n",
       "342              0              0.0                  1                 0   \n",
       "343              0              0.0                  1                 0   \n",
       "344              0              0.0                  1                 0   \n",
       "345              0              0.0                  1                 0   \n",
       "\n",
       "     Educational/Research  ...  Workshop/Studio  avg_n_floors  day  month  \\\n",
       "0                     1.0  ...              0.0      6.266667    1      1   \n",
       "1                     1.0  ...              0.0      6.266667    2      1   \n",
       "2                     1.0  ...              0.0      6.266667    3      1   \n",
       "3                     1.0  ...              0.0      6.266667    4      1   \n",
       "4                     1.0  ...              0.0      6.266667    5      1   \n",
       "..                    ...  ...              ...           ...  ...    ...   \n",
       "341                   1.0  ...              0.0     14.250000   27     12   \n",
       "342                   1.0  ...              0.0     14.250000   28     12   \n",
       "343                   1.0  ...              0.0     14.250000   29     12   \n",
       "344                   1.0  ...              0.0     14.250000   30     12   \n",
       "345                   1.0  ...              0.0     14.250000   31     12   \n",
       "\n",
       "     num_bikes  num_lights  prev_year_counts  sensor_id  weekday  year  \n",
       "0            0          44        816.875000          2        6  2012  \n",
       "1            0          44       1096.375000          2        0  2012  \n",
       "2            0          44       1022.583333          2        1  2012  \n",
       "3            0          44       1252.500000          2        2  2012  \n",
       "4            0          44       1307.375000          2        3  2012  \n",
       "..         ...         ...               ...        ...      ...   ...  \n",
       "341          0          13        124.541667         40        1  2016  \n",
       "342          0          13        124.375000         40        2  2016  \n",
       "343          0          13        189.791667         40        3  2016  \n",
       "344          0          13        226.375000         40        4  2016  \n",
       "345          0          13        170.083333         40        5  2016  \n",
       "\n",
       "[36115 rows x 66 columns]"
      ]
     },
     "execution_count": 16,
     "metadata": {},
     "output_type": "execute_result"
    }
   ],
   "source": [
    "X_train"
   ]
  },
  {
   "cell_type": "code",
   "execution_count": 17,
   "metadata": {
    "ExecuteTime": {
     "end_time": "2020-05-19T21:06:06.557733Z",
     "start_time": "2020-05-19T21:06:06.496704Z"
    }
   },
   "outputs": [
    {
     "data": {
      "text/html": [
       "<div>\n",
       "<style scoped>\n",
       "    .dataframe tbody tr th:only-of-type {\n",
       "        vertical-align: middle;\n",
       "    }\n",
       "\n",
       "    .dataframe tbody tr th {\n",
       "        vertical-align: top;\n",
       "    }\n",
       "\n",
       "    .dataframe thead th {\n",
       "        text-align: right;\n",
       "    }\n",
       "</style>\n",
       "<table border=\"1\" class=\"dataframe\">\n",
       "  <thead>\n",
       "    <tr style=\"text-align: right;\">\n",
       "      <th></th>\n",
       "      <th>Barbeque</th>\n",
       "      <th>Bicycle Rails</th>\n",
       "      <th>Bin Corral</th>\n",
       "      <th>Bollard</th>\n",
       "      <th>Commercial Accommodation</th>\n",
       "      <th>Community Use</th>\n",
       "      <th>Community Use.1</th>\n",
       "      <th>Drinking Fountain</th>\n",
       "      <th>Education Centre</th>\n",
       "      <th>Educational/Research</th>\n",
       "      <th>...</th>\n",
       "      <th>Workshop/Studio</th>\n",
       "      <th>avg_n_floors</th>\n",
       "      <th>day</th>\n",
       "      <th>month</th>\n",
       "      <th>num_bikes</th>\n",
       "      <th>num_lights</th>\n",
       "      <th>prev_year_counts</th>\n",
       "      <th>sensor_id</th>\n",
       "      <th>weekday</th>\n",
       "      <th>year</th>\n",
       "    </tr>\n",
       "  </thead>\n",
       "  <tbody>\n",
       "    <tr>\n",
       "      <td>0</td>\n",
       "      <td>0</td>\n",
       "      <td>31</td>\n",
       "      <td>0</td>\n",
       "      <td>77</td>\n",
       "      <td>2.0</td>\n",
       "      <td>1</td>\n",
       "      <td>0.0</td>\n",
       "      <td>4</td>\n",
       "      <td>0</td>\n",
       "      <td>0.0</td>\n",
       "      <td>...</td>\n",
       "      <td>0.0</td>\n",
       "      <td>5.096354</td>\n",
       "      <td>1</td>\n",
       "      <td>1</td>\n",
       "      <td>0</td>\n",
       "      <td>56</td>\n",
       "      <td>972.166667</td>\n",
       "      <td>1</td>\n",
       "      <td>0</td>\n",
       "      <td>2018</td>\n",
       "    </tr>\n",
       "    <tr>\n",
       "      <td>1</td>\n",
       "      <td>0</td>\n",
       "      <td>31</td>\n",
       "      <td>0</td>\n",
       "      <td>77</td>\n",
       "      <td>2.0</td>\n",
       "      <td>1</td>\n",
       "      <td>0.0</td>\n",
       "      <td>4</td>\n",
       "      <td>0</td>\n",
       "      <td>0.0</td>\n",
       "      <td>...</td>\n",
       "      <td>0.0</td>\n",
       "      <td>5.096354</td>\n",
       "      <td>2</td>\n",
       "      <td>1</td>\n",
       "      <td>0</td>\n",
       "      <td>56</td>\n",
       "      <td>1060.000000</td>\n",
       "      <td>1</td>\n",
       "      <td>1</td>\n",
       "      <td>2018</td>\n",
       "    </tr>\n",
       "    <tr>\n",
       "      <td>2</td>\n",
       "      <td>0</td>\n",
       "      <td>31</td>\n",
       "      <td>0</td>\n",
       "      <td>77</td>\n",
       "      <td>2.0</td>\n",
       "      <td>1</td>\n",
       "      <td>0.0</td>\n",
       "      <td>4</td>\n",
       "      <td>0</td>\n",
       "      <td>0.0</td>\n",
       "      <td>...</td>\n",
       "      <td>0.0</td>\n",
       "      <td>5.096354</td>\n",
       "      <td>3</td>\n",
       "      <td>1</td>\n",
       "      <td>0</td>\n",
       "      <td>56</td>\n",
       "      <td>1393.125000</td>\n",
       "      <td>1</td>\n",
       "      <td>2</td>\n",
       "      <td>2018</td>\n",
       "    </tr>\n",
       "    <tr>\n",
       "      <td>3</td>\n",
       "      <td>0</td>\n",
       "      <td>31</td>\n",
       "      <td>0</td>\n",
       "      <td>77</td>\n",
       "      <td>2.0</td>\n",
       "      <td>1</td>\n",
       "      <td>0.0</td>\n",
       "      <td>4</td>\n",
       "      <td>0</td>\n",
       "      <td>0.0</td>\n",
       "      <td>...</td>\n",
       "      <td>0.0</td>\n",
       "      <td>5.096354</td>\n",
       "      <td>4</td>\n",
       "      <td>1</td>\n",
       "      <td>0</td>\n",
       "      <td>56</td>\n",
       "      <td>1409.958333</td>\n",
       "      <td>1</td>\n",
       "      <td>3</td>\n",
       "      <td>2018</td>\n",
       "    </tr>\n",
       "    <tr>\n",
       "      <td>4</td>\n",
       "      <td>0</td>\n",
       "      <td>31</td>\n",
       "      <td>0</td>\n",
       "      <td>77</td>\n",
       "      <td>2.0</td>\n",
       "      <td>1</td>\n",
       "      <td>0.0</td>\n",
       "      <td>4</td>\n",
       "      <td>0</td>\n",
       "      <td>0.0</td>\n",
       "      <td>...</td>\n",
       "      <td>0.0</td>\n",
       "      <td>5.096354</td>\n",
       "      <td>5</td>\n",
       "      <td>1</td>\n",
       "      <td>0</td>\n",
       "      <td>56</td>\n",
       "      <td>1412.750000</td>\n",
       "      <td>1</td>\n",
       "      <td>4</td>\n",
       "      <td>2018</td>\n",
       "    </tr>\n",
       "    <tr>\n",
       "      <td>...</td>\n",
       "      <td>...</td>\n",
       "      <td>...</td>\n",
       "      <td>...</td>\n",
       "      <td>...</td>\n",
       "      <td>...</td>\n",
       "      <td>...</td>\n",
       "      <td>...</td>\n",
       "      <td>...</td>\n",
       "      <td>...</td>\n",
       "      <td>...</td>\n",
       "      <td>...</td>\n",
       "      <td>...</td>\n",
       "      <td>...</td>\n",
       "      <td>...</td>\n",
       "      <td>...</td>\n",
       "      <td>...</td>\n",
       "      <td>...</td>\n",
       "      <td>...</td>\n",
       "      <td>...</td>\n",
       "      <td>...</td>\n",
       "      <td>...</td>\n",
       "    </tr>\n",
       "    <tr>\n",
       "      <td>360</td>\n",
       "      <td>0</td>\n",
       "      <td>19</td>\n",
       "      <td>0</td>\n",
       "      <td>22</td>\n",
       "      <td>3.0</td>\n",
       "      <td>0</td>\n",
       "      <td>0.0</td>\n",
       "      <td>1</td>\n",
       "      <td>0</td>\n",
       "      <td>1.0</td>\n",
       "      <td>...</td>\n",
       "      <td>1.0</td>\n",
       "      <td>11.336111</td>\n",
       "      <td>27</td>\n",
       "      <td>12</td>\n",
       "      <td>0</td>\n",
       "      <td>0</td>\n",
       "      <td>676.708333</td>\n",
       "      <td>53</td>\n",
       "      <td>2</td>\n",
       "      <td>2017</td>\n",
       "    </tr>\n",
       "    <tr>\n",
       "      <td>361</td>\n",
       "      <td>0</td>\n",
       "      <td>19</td>\n",
       "      <td>0</td>\n",
       "      <td>22</td>\n",
       "      <td>3.0</td>\n",
       "      <td>0</td>\n",
       "      <td>0.0</td>\n",
       "      <td>1</td>\n",
       "      <td>0</td>\n",
       "      <td>1.0</td>\n",
       "      <td>...</td>\n",
       "      <td>1.0</td>\n",
       "      <td>11.336111</td>\n",
       "      <td>28</td>\n",
       "      <td>12</td>\n",
       "      <td>0</td>\n",
       "      <td>0</td>\n",
       "      <td>751.875000</td>\n",
       "      <td>53</td>\n",
       "      <td>3</td>\n",
       "      <td>2017</td>\n",
       "    </tr>\n",
       "    <tr>\n",
       "      <td>362</td>\n",
       "      <td>0</td>\n",
       "      <td>19</td>\n",
       "      <td>0</td>\n",
       "      <td>22</td>\n",
       "      <td>3.0</td>\n",
       "      <td>0</td>\n",
       "      <td>0.0</td>\n",
       "      <td>1</td>\n",
       "      <td>0</td>\n",
       "      <td>1.0</td>\n",
       "      <td>...</td>\n",
       "      <td>1.0</td>\n",
       "      <td>11.336111</td>\n",
       "      <td>29</td>\n",
       "      <td>12</td>\n",
       "      <td>0</td>\n",
       "      <td>0</td>\n",
       "      <td>644.125000</td>\n",
       "      <td>53</td>\n",
       "      <td>4</td>\n",
       "      <td>2017</td>\n",
       "    </tr>\n",
       "    <tr>\n",
       "      <td>363</td>\n",
       "      <td>0</td>\n",
       "      <td>19</td>\n",
       "      <td>0</td>\n",
       "      <td>22</td>\n",
       "      <td>3.0</td>\n",
       "      <td>0</td>\n",
       "      <td>0.0</td>\n",
       "      <td>1</td>\n",
       "      <td>0</td>\n",
       "      <td>1.0</td>\n",
       "      <td>...</td>\n",
       "      <td>1.0</td>\n",
       "      <td>11.336111</td>\n",
       "      <td>30</td>\n",
       "      <td>12</td>\n",
       "      <td>0</td>\n",
       "      <td>0</td>\n",
       "      <td>741.458333</td>\n",
       "      <td>53</td>\n",
       "      <td>5</td>\n",
       "      <td>2017</td>\n",
       "    </tr>\n",
       "    <tr>\n",
       "      <td>364</td>\n",
       "      <td>0</td>\n",
       "      <td>19</td>\n",
       "      <td>0</td>\n",
       "      <td>22</td>\n",
       "      <td>3.0</td>\n",
       "      <td>0</td>\n",
       "      <td>0.0</td>\n",
       "      <td>1</td>\n",
       "      <td>0</td>\n",
       "      <td>1.0</td>\n",
       "      <td>...</td>\n",
       "      <td>1.0</td>\n",
       "      <td>11.336111</td>\n",
       "      <td>31</td>\n",
       "      <td>12</td>\n",
       "      <td>0</td>\n",
       "      <td>0</td>\n",
       "      <td>623.416667</td>\n",
       "      <td>53</td>\n",
       "      <td>6</td>\n",
       "      <td>2017</td>\n",
       "    </tr>\n",
       "  </tbody>\n",
       "</table>\n",
       "<p>26176 rows × 66 columns</p>\n",
       "</div>"
      ],
      "text/plain": [
       "     Barbeque  Bicycle Rails  Bin Corral  Bollard  Commercial Accommodation  \\\n",
       "0           0             31           0       77                       2.0   \n",
       "1           0             31           0       77                       2.0   \n",
       "2           0             31           0       77                       2.0   \n",
       "3           0             31           0       77                       2.0   \n",
       "4           0             31           0       77                       2.0   \n",
       "..        ...            ...         ...      ...                       ...   \n",
       "360         0             19           0       22                       3.0   \n",
       "361         0             19           0       22                       3.0   \n",
       "362         0             19           0       22                       3.0   \n",
       "363         0             19           0       22                       3.0   \n",
       "364         0             19           0       22                       3.0   \n",
       "\n",
       "     Community Use  Community Use.1  Drinking Fountain  Education Centre  \\\n",
       "0                1              0.0                  4                 0   \n",
       "1                1              0.0                  4                 0   \n",
       "2                1              0.0                  4                 0   \n",
       "3                1              0.0                  4                 0   \n",
       "4                1              0.0                  4                 0   \n",
       "..             ...              ...                ...               ...   \n",
       "360              0              0.0                  1                 0   \n",
       "361              0              0.0                  1                 0   \n",
       "362              0              0.0                  1                 0   \n",
       "363              0              0.0                  1                 0   \n",
       "364              0              0.0                  1                 0   \n",
       "\n",
       "     Educational/Research  ...  Workshop/Studio  avg_n_floors  day  month  \\\n",
       "0                     0.0  ...              0.0      5.096354    1      1   \n",
       "1                     0.0  ...              0.0      5.096354    2      1   \n",
       "2                     0.0  ...              0.0      5.096354    3      1   \n",
       "3                     0.0  ...              0.0      5.096354    4      1   \n",
       "4                     0.0  ...              0.0      5.096354    5      1   \n",
       "..                    ...  ...              ...           ...  ...    ...   \n",
       "360                   1.0  ...              1.0     11.336111   27     12   \n",
       "361                   1.0  ...              1.0     11.336111   28     12   \n",
       "362                   1.0  ...              1.0     11.336111   29     12   \n",
       "363                   1.0  ...              1.0     11.336111   30     12   \n",
       "364                   1.0  ...              1.0     11.336111   31     12   \n",
       "\n",
       "     num_bikes  num_lights  prev_year_counts  sensor_id  weekday  year  \n",
       "0            0          56        972.166667          1        0  2018  \n",
       "1            0          56       1060.000000          1        1  2018  \n",
       "2            0          56       1393.125000          1        2  2018  \n",
       "3            0          56       1409.958333          1        3  2018  \n",
       "4            0          56       1412.750000          1        4  2018  \n",
       "..         ...         ...               ...        ...      ...   ...  \n",
       "360          0           0        676.708333         53        2  2017  \n",
       "361          0           0        751.875000         53        3  2017  \n",
       "362          0           0        644.125000         53        4  2017  \n",
       "363          0           0        741.458333         53        5  2017  \n",
       "364          0           0        623.416667         53        6  2017  \n",
       "\n",
       "[26176 rows x 66 columns]"
      ]
     },
     "execution_count": 17,
     "metadata": {},
     "output_type": "execute_result"
    }
   ],
   "source": [
    "X_test"
   ]
  },
  {
   "cell_type": "code",
   "execution_count": 18,
   "metadata": {
    "ExecuteTime": {
     "end_time": "2020-05-19T21:06:07.353324Z",
     "start_time": "2020-05-19T21:06:07.202317Z"
    }
   },
   "outputs": [],
   "source": [
    "#standardize\n",
    "scaler = StandardScaler()\n",
    "X_train = pd.DataFrame(scaler.fit_transform(X_train), columns=X_train.columns)\n",
    "X_test = pd.DataFrame(scaler.transform(X_test), columns=X_test.columns)"
   ]
  },
  {
   "cell_type": "markdown",
   "metadata": {
    "heading_collapsed": true
   },
   "source": [
    "### Linear Regression"
   ]
  },
  {
   "cell_type": "code",
   "execution_count": 44,
   "metadata": {
    "ExecuteTime": {
     "end_time": "2020-05-17T21:40:04.734916Z",
     "start_time": "2020-05-17T21:40:04.458963Z"
    },
    "hidden": true
   },
   "outputs": [
    {
     "data": {
      "text/plain": [
       "LinearRegression(copy_X=True, fit_intercept=True, n_jobs=None, normalize=False)"
      ]
     },
     "execution_count": 44,
     "metadata": {},
     "output_type": "execute_result"
    }
   ],
   "source": [
    "model = LinearRegression()\n",
    "model.fit(X_train, y_train)"
   ]
  },
  {
   "cell_type": "code",
   "execution_count": 45,
   "metadata": {
    "ExecuteTime": {
     "end_time": "2020-05-17T21:40:05.956631Z",
     "start_time": "2020-05-17T21:40:05.057953Z"
    },
    "hidden": true
   },
   "outputs": [
    {
     "name": "stdout",
     "output_type": "stream",
     "text": [
      "Training score:  0.8406975290646816\n",
      "Test score:  -1.8586066410080133\n",
      "CV score:  -9.704126178885058e+23\n"
     ]
    }
   ],
   "source": [
    "print('Training score: ', model.score(X_train, y_train))\n",
    "print('Test score: ', model.score(X_test, y_test))\n",
    "print('CV score: ', (cross_val_score(model, X_train, y_train)).mean())"
   ]
  },
  {
   "cell_type": "code",
   "execution_count": 46,
   "metadata": {
    "ExecuteTime": {
     "end_time": "2020-05-17T21:40:07.014955Z",
     "start_time": "2020-05-17T21:40:06.974826Z"
    },
    "hidden": true
   },
   "outputs": [
    {
     "data": {
      "text/html": [
       "<div>\n",
       "<style scoped>\n",
       "    .dataframe tbody tr th:only-of-type {\n",
       "        vertical-align: middle;\n",
       "    }\n",
       "\n",
       "    .dataframe tbody tr th {\n",
       "        vertical-align: top;\n",
       "    }\n",
       "\n",
       "    .dataframe thead th {\n",
       "        text-align: right;\n",
       "    }\n",
       "</style>\n",
       "<table border=\"1\" class=\"dataframe\">\n",
       "  <thead>\n",
       "    <tr style=\"text-align: right;\">\n",
       "      <th></th>\n",
       "      <th>y_test</th>\n",
       "      <th>predictions</th>\n",
       "      <th>residuals</th>\n",
       "    </tr>\n",
       "  </thead>\n",
       "  <tbody>\n",
       "    <tr>\n",
       "      <td>0</td>\n",
       "      <td>1170.208333</td>\n",
       "      <td>1370.529475</td>\n",
       "      <td>-200.321142</td>\n",
       "    </tr>\n",
       "    <tr>\n",
       "      <td>1</td>\n",
       "      <td>1263.916667</td>\n",
       "      <td>1385.283332</td>\n",
       "      <td>-121.366665</td>\n",
       "    </tr>\n",
       "    <tr>\n",
       "      <td>2</td>\n",
       "      <td>1400.750000</td>\n",
       "      <td>1473.334315</td>\n",
       "      <td>-72.584315</td>\n",
       "    </tr>\n",
       "    <tr>\n",
       "      <td>3</td>\n",
       "      <td>1459.333333</td>\n",
       "      <td>1466.872221</td>\n",
       "      <td>-7.538888</td>\n",
       "    </tr>\n",
       "    <tr>\n",
       "      <td>4</td>\n",
       "      <td>1549.666667</td>\n",
       "      <td>1456.214250</td>\n",
       "      <td>93.452417</td>\n",
       "    </tr>\n",
       "    <tr>\n",
       "      <td>...</td>\n",
       "      <td>...</td>\n",
       "      <td>...</td>\n",
       "      <td>...</td>\n",
       "    </tr>\n",
       "    <tr>\n",
       "      <td>26171</td>\n",
       "      <td>703.416667</td>\n",
       "      <td>3216.488052</td>\n",
       "      <td>-2513.071386</td>\n",
       "    </tr>\n",
       "    <tr>\n",
       "      <td>26172</td>\n",
       "      <td>722.958333</td>\n",
       "      <td>3227.456904</td>\n",
       "      <td>-2504.498571</td>\n",
       "    </tr>\n",
       "    <tr>\n",
       "      <td>26173</td>\n",
       "      <td>754.666667</td>\n",
       "      <td>3183.767291</td>\n",
       "      <td>-2429.100624</td>\n",
       "    </tr>\n",
       "    <tr>\n",
       "      <td>26174</td>\n",
       "      <td>634.541667</td>\n",
       "      <td>3201.359902</td>\n",
       "      <td>-2566.818235</td>\n",
       "    </tr>\n",
       "    <tr>\n",
       "      <td>26175</td>\n",
       "      <td>592.125000</td>\n",
       "      <td>3154.594972</td>\n",
       "      <td>-2562.469972</td>\n",
       "    </tr>\n",
       "  </tbody>\n",
       "</table>\n",
       "<p>26176 rows × 3 columns</p>\n",
       "</div>"
      ],
      "text/plain": [
       "            y_test  predictions    residuals\n",
       "0      1170.208333  1370.529475  -200.321142\n",
       "1      1263.916667  1385.283332  -121.366665\n",
       "2      1400.750000  1473.334315   -72.584315\n",
       "3      1459.333333  1466.872221    -7.538888\n",
       "4      1549.666667  1456.214250    93.452417\n",
       "...            ...          ...          ...\n",
       "26171   703.416667  3216.488052 -2513.071386\n",
       "26172   722.958333  3227.456904 -2504.498571\n",
       "26173   754.666667  3183.767291 -2429.100624\n",
       "26174   634.541667  3201.359902 -2566.818235\n",
       "26175   592.125000  3154.594972 -2562.469972\n",
       "\n",
       "[26176 rows x 3 columns]"
      ]
     },
     "execution_count": 46,
     "metadata": {},
     "output_type": "execute_result"
    }
   ],
   "source": [
    "predictions = model.predict(X_test)\n",
    "residuals = pd.DataFrame(predictions, y_test)\n",
    "residuals.reset_index(inplace = True)\n",
    "residuals.rename({'daily_avg_counts': 'y_test', 0: 'predictions'}, axis = 1, inplace = True)\n",
    "residuals['residuals'] = residuals.y_test - residuals.predictions\n",
    "residuals"
   ]
  },
  {
   "cell_type": "code",
   "execution_count": 47,
   "metadata": {
    "ExecuteTime": {
     "end_time": "2020-05-17T21:40:07.520837Z",
     "start_time": "2020-05-17T21:40:07.510663Z"
    },
    "hidden": true
   },
   "outputs": [
    {
     "data": {
      "text/plain": [
       "798.1630962458429"
      ]
     },
     "execution_count": 47,
     "metadata": {},
     "output_type": "execute_result"
    }
   ],
   "source": [
    "(mean_squared_error(y_test, predictions))**0.5"
   ]
  },
  {
   "cell_type": "markdown",
   "metadata": {
    "heading_collapsed": true
   },
   "source": [
    "### Ridge with GridSearchCV"
   ]
  },
  {
   "cell_type": "code",
   "execution_count": 49,
   "metadata": {
    "ExecuteTime": {
     "end_time": "2020-05-17T23:49:35.755630Z",
     "start_time": "2020-05-17T21:42:40.680395Z"
    },
    "hidden": true
   },
   "outputs": [
    {
     "name": "stderr",
     "output_type": "stream",
     "text": [
      "/opt/anaconda3/lib/python3.7/site-packages/sklearn/linear_model/_ridge.py:148: LinAlgWarning: Ill-conditioned matrix (rcond=2.66391e-26): result may not be accurate.\n",
      "  overwrite_a=True).T\n",
      "/opt/anaconda3/lib/python3.7/site-packages/sklearn/linear_model/_ridge.py:148: LinAlgWarning: Ill-conditioned matrix (rcond=2.47631e-26): result may not be accurate.\n",
      "  overwrite_a=True).T\n",
      "/opt/anaconda3/lib/python3.7/site-packages/sklearn/linear_model/_ridge.py:148: LinAlgWarning: Ill-conditioned matrix (rcond=2.53971e-26): result may not be accurate.\n",
      "  overwrite_a=True).T\n",
      "/opt/anaconda3/lib/python3.7/site-packages/sklearn/linear_model/_ridge.py:148: LinAlgWarning: Ill-conditioned matrix (rcond=2.66391e-26): result may not be accurate.\n",
      "  overwrite_a=True).T\n",
      "/opt/anaconda3/lib/python3.7/site-packages/sklearn/linear_model/_ridge.py:148: LinAlgWarning: Ill-conditioned matrix (rcond=2.47631e-26): result may not be accurate.\n",
      "  overwrite_a=True).T\n",
      "/opt/anaconda3/lib/python3.7/site-packages/sklearn/linear_model/_ridge.py:148: LinAlgWarning: Ill-conditioned matrix (rcond=2.53971e-26): result may not be accurate.\n",
      "  overwrite_a=True).T\n",
      "/opt/anaconda3/lib/python3.7/site-packages/sklearn/linear_model/_ridge.py:148: LinAlgWarning: Ill-conditioned matrix (rcond=2.66064e-26): result may not be accurate.\n",
      "  overwrite_a=True).T\n",
      "/opt/anaconda3/lib/python3.7/site-packages/sklearn/linear_model/_ridge.py:148: LinAlgWarning: Ill-conditioned matrix (rcond=2.46775e-26): result may not be accurate.\n",
      "  overwrite_a=True).T\n",
      "/opt/anaconda3/lib/python3.7/site-packages/sklearn/linear_model/_ridge.py:148: LinAlgWarning: Ill-conditioned matrix (rcond=2.53979e-26): result may not be accurate.\n",
      "  overwrite_a=True).T\n",
      "/opt/anaconda3/lib/python3.7/site-packages/sklearn/linear_model/_ridge.py:148: LinAlgWarning: Ill-conditioned matrix (rcond=2.66064e-26): result may not be accurate.\n",
      "  overwrite_a=True).T\n",
      "/opt/anaconda3/lib/python3.7/site-packages/sklearn/linear_model/_ridge.py:148: LinAlgWarning: Ill-conditioned matrix (rcond=2.46775e-26): result may not be accurate.\n",
      "  overwrite_a=True).T\n",
      "/opt/anaconda3/lib/python3.7/site-packages/sklearn/linear_model/_ridge.py:148: LinAlgWarning: Ill-conditioned matrix (rcond=2.53979e-26): result may not be accurate.\n",
      "  overwrite_a=True).T\n",
      "/opt/anaconda3/lib/python3.7/site-packages/sklearn/linear_model/_ridge.py:148: LinAlgWarning: Ill-conditioned matrix (rcond=1.7452e-25): result may not be accurate.\n",
      "  overwrite_a=True).T\n",
      "/opt/anaconda3/lib/python3.7/site-packages/sklearn/linear_model/_ridge.py:148: LinAlgWarning: Ill-conditioned matrix (rcond=1.6223e-25): result may not be accurate.\n",
      "  overwrite_a=True).T\n",
      "/opt/anaconda3/lib/python3.7/site-packages/sklearn/linear_model/_ridge.py:148: LinAlgWarning: Ill-conditioned matrix (rcond=1.66384e-25): result may not be accurate.\n",
      "  overwrite_a=True).T\n",
      "/opt/anaconda3/lib/python3.7/site-packages/sklearn/linear_model/_ridge.py:148: LinAlgWarning: Ill-conditioned matrix (rcond=1.7452e-25): result may not be accurate.\n",
      "  overwrite_a=True).T\n",
      "/opt/anaconda3/lib/python3.7/site-packages/sklearn/linear_model/_ridge.py:148: LinAlgWarning: Ill-conditioned matrix (rcond=1.6223e-25): result may not be accurate.\n",
      "  overwrite_a=True).T\n",
      "/opt/anaconda3/lib/python3.7/site-packages/sklearn/linear_model/_ridge.py:148: LinAlgWarning: Ill-conditioned matrix (rcond=1.66384e-25): result may not be accurate.\n",
      "  overwrite_a=True).T\n",
      "/opt/anaconda3/lib/python3.7/site-packages/sklearn/linear_model/_ridge.py:148: LinAlgWarning: Ill-conditioned matrix (rcond=1.74306e-25): result may not be accurate.\n",
      "  overwrite_a=True).T\n",
      "/opt/anaconda3/lib/python3.7/site-packages/sklearn/linear_model/_ridge.py:148: LinAlgWarning: Ill-conditioned matrix (rcond=1.61669e-25): result may not be accurate.\n",
      "  overwrite_a=True).T\n",
      "/opt/anaconda3/lib/python3.7/site-packages/sklearn/linear_model/_ridge.py:148: LinAlgWarning: Ill-conditioned matrix (rcond=1.66389e-25): result may not be accurate.\n",
      "  overwrite_a=True).T\n",
      "/opt/anaconda3/lib/python3.7/site-packages/sklearn/linear_model/_ridge.py:148: LinAlgWarning: Ill-conditioned matrix (rcond=1.74306e-25): result may not be accurate.\n",
      "  overwrite_a=True).T\n",
      "/opt/anaconda3/lib/python3.7/site-packages/sklearn/linear_model/_ridge.py:148: LinAlgWarning: Ill-conditioned matrix (rcond=1.61669e-25): result may not be accurate.\n",
      "  overwrite_a=True).T\n",
      "/opt/anaconda3/lib/python3.7/site-packages/sklearn/linear_model/_ridge.py:148: LinAlgWarning: Ill-conditioned matrix (rcond=1.66389e-25): result may not be accurate.\n",
      "  overwrite_a=True).T\n",
      "/opt/anaconda3/lib/python3.7/site-packages/sklearn/linear_model/_ridge.py:148: LinAlgWarning: Ill-conditioned matrix (rcond=1.14333e-24): result may not be accurate.\n",
      "  overwrite_a=True).T\n",
      "/opt/anaconda3/lib/python3.7/site-packages/sklearn/linear_model/_ridge.py:148: LinAlgWarning: Ill-conditioned matrix (rcond=1.06282e-24): result may not be accurate.\n",
      "  overwrite_a=True).T\n",
      "/opt/anaconda3/lib/python3.7/site-packages/sklearn/linear_model/_ridge.py:148: LinAlgWarning: Ill-conditioned matrix (rcond=1.09003e-24): result may not be accurate.\n",
      "  overwrite_a=True).T\n",
      "/opt/anaconda3/lib/python3.7/site-packages/sklearn/linear_model/_ridge.py:148: LinAlgWarning: Ill-conditioned matrix (rcond=1.14333e-24): result may not be accurate.\n",
      "  overwrite_a=True).T\n",
      "/opt/anaconda3/lib/python3.7/site-packages/sklearn/linear_model/_ridge.py:148: LinAlgWarning: Ill-conditioned matrix (rcond=1.06282e-24): result may not be accurate.\n",
      "  overwrite_a=True).T\n",
      "/opt/anaconda3/lib/python3.7/site-packages/sklearn/linear_model/_ridge.py:148: LinAlgWarning: Ill-conditioned matrix (rcond=1.09003e-24): result may not be accurate.\n",
      "  overwrite_a=True).T\n",
      "/opt/anaconda3/lib/python3.7/site-packages/sklearn/linear_model/_ridge.py:148: LinAlgWarning: Ill-conditioned matrix (rcond=1.14193e-24): result may not be accurate.\n",
      "  overwrite_a=True).T\n",
      "/opt/anaconda3/lib/python3.7/site-packages/sklearn/linear_model/_ridge.py:148: LinAlgWarning: Ill-conditioned matrix (rcond=1.05914e-24): result may not be accurate.\n",
      "  overwrite_a=True).T\n",
      "/opt/anaconda3/lib/python3.7/site-packages/sklearn/linear_model/_ridge.py:148: LinAlgWarning: Ill-conditioned matrix (rcond=1.09006e-24): result may not be accurate.\n",
      "  overwrite_a=True).T\n",
      "/opt/anaconda3/lib/python3.7/site-packages/sklearn/linear_model/_ridge.py:148: LinAlgWarning: Ill-conditioned matrix (rcond=1.14193e-24): result may not be accurate.\n",
      "  overwrite_a=True).T\n",
      "/opt/anaconda3/lib/python3.7/site-packages/sklearn/linear_model/_ridge.py:148: LinAlgWarning: Ill-conditioned matrix (rcond=1.05914e-24): result may not be accurate.\n",
      "  overwrite_a=True).T\n",
      "/opt/anaconda3/lib/python3.7/site-packages/sklearn/linear_model/_ridge.py:148: LinAlgWarning: Ill-conditioned matrix (rcond=1.09006e-24): result may not be accurate.\n",
      "  overwrite_a=True).T\n",
      "/opt/anaconda3/lib/python3.7/site-packages/sklearn/linear_model/_ridge.py:148: LinAlgWarning: Ill-conditioned matrix (rcond=7.4903e-24): result may not be accurate.\n",
      "  overwrite_a=True).T\n",
      "/opt/anaconda3/lib/python3.7/site-packages/sklearn/linear_model/_ridge.py:148: LinAlgWarning: Ill-conditioned matrix (rcond=6.96282e-24): result may not be accurate.\n",
      "  overwrite_a=True).T\n",
      "/opt/anaconda3/lib/python3.7/site-packages/sklearn/linear_model/_ridge.py:148: LinAlgWarning: Ill-conditioned matrix (rcond=7.14109e-24): result may not be accurate.\n",
      "  overwrite_a=True).T\n",
      "/opt/anaconda3/lib/python3.7/site-packages/sklearn/linear_model/_ridge.py:148: LinAlgWarning: Ill-conditioned matrix (rcond=7.4903e-24): result may not be accurate.\n",
      "  overwrite_a=True).T\n",
      "/opt/anaconda3/lib/python3.7/site-packages/sklearn/linear_model/_ridge.py:148: LinAlgWarning: Ill-conditioned matrix (rcond=6.96282e-24): result may not be accurate.\n",
      "  overwrite_a=True).T\n",
      "/opt/anaconda3/lib/python3.7/site-packages/sklearn/linear_model/_ridge.py:148: LinAlgWarning: Ill-conditioned matrix (rcond=7.14109e-24): result may not be accurate.\n",
      "  overwrite_a=True).T\n",
      "/opt/anaconda3/lib/python3.7/site-packages/sklearn/linear_model/_ridge.py:148: LinAlgWarning: Ill-conditioned matrix (rcond=7.48111e-24): result may not be accurate.\n",
      "  overwrite_a=True).T\n",
      "/opt/anaconda3/lib/python3.7/site-packages/sklearn/linear_model/_ridge.py:148: LinAlgWarning: Ill-conditioned matrix (rcond=6.93874e-24): result may not be accurate.\n",
      "  overwrite_a=True).T\n",
      "/opt/anaconda3/lib/python3.7/site-packages/sklearn/linear_model/_ridge.py:148: LinAlgWarning: Ill-conditioned matrix (rcond=7.14129e-24): result may not be accurate.\n",
      "  overwrite_a=True).T\n"
     ]
    },
    {
     "name": "stderr",
     "output_type": "stream",
     "text": [
      "/opt/anaconda3/lib/python3.7/site-packages/sklearn/linear_model/_ridge.py:148: LinAlgWarning: Ill-conditioned matrix (rcond=7.48111e-24): result may not be accurate.\n",
      "  overwrite_a=True).T\n",
      "/opt/anaconda3/lib/python3.7/site-packages/sklearn/linear_model/_ridge.py:148: LinAlgWarning: Ill-conditioned matrix (rcond=6.93874e-24): result may not be accurate.\n",
      "  overwrite_a=True).T\n",
      "/opt/anaconda3/lib/python3.7/site-packages/sklearn/linear_model/_ridge.py:148: LinAlgWarning: Ill-conditioned matrix (rcond=7.14129e-24): result may not be accurate.\n",
      "  overwrite_a=True).T\n",
      "/opt/anaconda3/lib/python3.7/site-packages/sklearn/linear_model/_ridge.py:148: LinAlgWarning: Ill-conditioned matrix (rcond=4.90711e-23): result may not be accurate.\n",
      "  overwrite_a=True).T\n",
      "/opt/anaconda3/lib/python3.7/site-packages/sklearn/linear_model/_ridge.py:148: LinAlgWarning: Ill-conditioned matrix (rcond=4.56154e-23): result may not be accurate.\n",
      "  overwrite_a=True).T\n",
      "/opt/anaconda3/lib/python3.7/site-packages/sklearn/linear_model/_ridge.py:148: LinAlgWarning: Ill-conditioned matrix (rcond=4.67833e-23): result may not be accurate.\n",
      "  overwrite_a=True).T\n",
      "/opt/anaconda3/lib/python3.7/site-packages/sklearn/linear_model/_ridge.py:148: LinAlgWarning: Ill-conditioned matrix (rcond=4.90711e-23): result may not be accurate.\n",
      "  overwrite_a=True).T\n",
      "/opt/anaconda3/lib/python3.7/site-packages/sklearn/linear_model/_ridge.py:148: LinAlgWarning: Ill-conditioned matrix (rcond=4.56154e-23): result may not be accurate.\n",
      "  overwrite_a=True).T\n",
      "/opt/anaconda3/lib/python3.7/site-packages/sklearn/linear_model/_ridge.py:148: LinAlgWarning: Ill-conditioned matrix (rcond=4.67833e-23): result may not be accurate.\n",
      "  overwrite_a=True).T\n",
      "/opt/anaconda3/lib/python3.7/site-packages/sklearn/linear_model/_ridge.py:148: LinAlgWarning: Ill-conditioned matrix (rcond=4.90109e-23): result may not be accurate.\n",
      "  overwrite_a=True).T\n",
      "/opt/anaconda3/lib/python3.7/site-packages/sklearn/linear_model/_ridge.py:148: LinAlgWarning: Ill-conditioned matrix (rcond=4.54577e-23): result may not be accurate.\n",
      "  overwrite_a=True).T\n",
      "/opt/anaconda3/lib/python3.7/site-packages/sklearn/linear_model/_ridge.py:148: LinAlgWarning: Ill-conditioned matrix (rcond=4.67847e-23): result may not be accurate.\n",
      "  overwrite_a=True).T\n",
      "/opt/anaconda3/lib/python3.7/site-packages/sklearn/linear_model/_ridge.py:148: LinAlgWarning: Ill-conditioned matrix (rcond=4.90109e-23): result may not be accurate.\n",
      "  overwrite_a=True).T\n",
      "/opt/anaconda3/lib/python3.7/site-packages/sklearn/linear_model/_ridge.py:148: LinAlgWarning: Ill-conditioned matrix (rcond=4.54577e-23): result may not be accurate.\n",
      "  overwrite_a=True).T\n",
      "/opt/anaconda3/lib/python3.7/site-packages/sklearn/linear_model/_ridge.py:148: LinAlgWarning: Ill-conditioned matrix (rcond=4.67847e-23): result may not be accurate.\n",
      "  overwrite_a=True).T\n",
      "/opt/anaconda3/lib/python3.7/site-packages/sklearn/linear_model/_ridge.py:148: LinAlgWarning: Ill-conditioned matrix (rcond=3.21479e-22): result may not be accurate.\n",
      "  overwrite_a=True).T\n",
      "/opt/anaconda3/lib/python3.7/site-packages/sklearn/linear_model/_ridge.py:148: LinAlgWarning: Ill-conditioned matrix (rcond=2.9884e-22): result may not be accurate.\n",
      "  overwrite_a=True).T\n",
      "/opt/anaconda3/lib/python3.7/site-packages/sklearn/linear_model/_ridge.py:148: LinAlgWarning: Ill-conditioned matrix (rcond=3.06491e-22): result may not be accurate.\n",
      "  overwrite_a=True).T\n",
      "/opt/anaconda3/lib/python3.7/site-packages/sklearn/linear_model/_ridge.py:148: LinAlgWarning: Ill-conditioned matrix (rcond=3.21479e-22): result may not be accurate.\n",
      "  overwrite_a=True).T\n",
      "/opt/anaconda3/lib/python3.7/site-packages/sklearn/linear_model/_ridge.py:148: LinAlgWarning: Ill-conditioned matrix (rcond=2.9884e-22): result may not be accurate.\n",
      "  overwrite_a=True).T\n",
      "/opt/anaconda3/lib/python3.7/site-packages/sklearn/linear_model/_ridge.py:148: LinAlgWarning: Ill-conditioned matrix (rcond=3.06491e-22): result may not be accurate.\n",
      "  overwrite_a=True).T\n",
      "/opt/anaconda3/lib/python3.7/site-packages/sklearn/linear_model/_ridge.py:148: LinAlgWarning: Ill-conditioned matrix (rcond=3.21084e-22): result may not be accurate.\n",
      "  overwrite_a=True).T\n",
      "/opt/anaconda3/lib/python3.7/site-packages/sklearn/linear_model/_ridge.py:148: LinAlgWarning: Ill-conditioned matrix (rcond=2.97806e-22): result may not be accurate.\n",
      "  overwrite_a=True).T\n",
      "/opt/anaconda3/lib/python3.7/site-packages/sklearn/linear_model/_ridge.py:148: LinAlgWarning: Ill-conditioned matrix (rcond=3.065e-22): result may not be accurate.\n",
      "  overwrite_a=True).T\n",
      "/opt/anaconda3/lib/python3.7/site-packages/sklearn/linear_model/_ridge.py:148: LinAlgWarning: Ill-conditioned matrix (rcond=3.21084e-22): result may not be accurate.\n",
      "  overwrite_a=True).T\n",
      "/opt/anaconda3/lib/python3.7/site-packages/sklearn/linear_model/_ridge.py:148: LinAlgWarning: Ill-conditioned matrix (rcond=2.97806e-22): result may not be accurate.\n",
      "  overwrite_a=True).T\n",
      "/opt/anaconda3/lib/python3.7/site-packages/sklearn/linear_model/_ridge.py:148: LinAlgWarning: Ill-conditioned matrix (rcond=3.065e-22): result may not be accurate.\n",
      "  overwrite_a=True).T\n",
      "/opt/anaconda3/lib/python3.7/site-packages/sklearn/linear_model/_ridge.py:148: LinAlgWarning: Ill-conditioned matrix (rcond=2.1061e-21): result may not be accurate.\n",
      "  overwrite_a=True).T\n",
      "/opt/anaconda3/lib/python3.7/site-packages/sklearn/linear_model/_ridge.py:148: LinAlgWarning: Ill-conditioned matrix (rcond=1.95778e-21): result may not be accurate.\n",
      "  overwrite_a=True).T\n",
      "/opt/anaconda3/lib/python3.7/site-packages/sklearn/linear_model/_ridge.py:148: LinAlgWarning: Ill-conditioned matrix (rcond=2.00791e-21): result may not be accurate.\n",
      "  overwrite_a=True).T\n",
      "/opt/anaconda3/lib/python3.7/site-packages/sklearn/linear_model/_ridge.py:148: LinAlgWarning: Ill-conditioned matrix (rcond=2.1061e-21): result may not be accurate.\n",
      "  overwrite_a=True).T\n",
      "/opt/anaconda3/lib/python3.7/site-packages/sklearn/linear_model/_ridge.py:148: LinAlgWarning: Ill-conditioned matrix (rcond=1.95778e-21): result may not be accurate.\n",
      "  overwrite_a=True).T\n",
      "/opt/anaconda3/lib/python3.7/site-packages/sklearn/linear_model/_ridge.py:148: LinAlgWarning: Ill-conditioned matrix (rcond=2.00791e-21): result may not be accurate.\n",
      "  overwrite_a=True).T\n",
      "/opt/anaconda3/lib/python3.7/site-packages/sklearn/linear_model/_ridge.py:148: LinAlgWarning: Ill-conditioned matrix (rcond=2.10351e-21): result may not be accurate.\n",
      "  overwrite_a=True).T\n",
      "/opt/anaconda3/lib/python3.7/site-packages/sklearn/linear_model/_ridge.py:148: LinAlgWarning: Ill-conditioned matrix (rcond=1.95101e-21): result may not be accurate.\n",
      "  overwrite_a=True).T\n",
      "/opt/anaconda3/lib/python3.7/site-packages/sklearn/linear_model/_ridge.py:148: LinAlgWarning: Ill-conditioned matrix (rcond=2.00797e-21): result may not be accurate.\n",
      "  overwrite_a=True).T\n",
      "/opt/anaconda3/lib/python3.7/site-packages/sklearn/linear_model/_ridge.py:148: LinAlgWarning: Ill-conditioned matrix (rcond=2.10351e-21): result may not be accurate.\n",
      "  overwrite_a=True).T\n",
      "/opt/anaconda3/lib/python3.7/site-packages/sklearn/linear_model/_ridge.py:148: LinAlgWarning: Ill-conditioned matrix (rcond=1.95101e-21): result may not be accurate.\n",
      "  overwrite_a=True).T\n",
      "/opt/anaconda3/lib/python3.7/site-packages/sklearn/linear_model/_ridge.py:148: LinAlgWarning: Ill-conditioned matrix (rcond=2.00797e-21): result may not be accurate.\n",
      "  overwrite_a=True).T\n",
      "/opt/anaconda3/lib/python3.7/site-packages/sklearn/linear_model/_ridge.py:148: LinAlgWarning: Ill-conditioned matrix (rcond=1.37977e-20): result may not be accurate.\n",
      "  overwrite_a=True).T\n",
      "/opt/anaconda3/lib/python3.7/site-packages/sklearn/linear_model/_ridge.py:148: LinAlgWarning: Ill-conditioned matrix (rcond=1.2826e-20): result may not be accurate.\n",
      "  overwrite_a=True).T\n",
      "/opt/anaconda3/lib/python3.7/site-packages/sklearn/linear_model/_ridge.py:148: LinAlgWarning: Ill-conditioned matrix (rcond=1.31544e-20): result may not be accurate.\n",
      "  overwrite_a=True).T\n",
      "/opt/anaconda3/lib/python3.7/site-packages/sklearn/linear_model/_ridge.py:148: LinAlgWarning: Ill-conditioned matrix (rcond=1.37977e-20): result may not be accurate.\n",
      "  overwrite_a=True).T\n",
      "/opt/anaconda3/lib/python3.7/site-packages/sklearn/linear_model/_ridge.py:148: LinAlgWarning: Ill-conditioned matrix (rcond=1.2826e-20): result may not be accurate.\n",
      "  overwrite_a=True).T\n",
      "/opt/anaconda3/lib/python3.7/site-packages/sklearn/linear_model/_ridge.py:148: LinAlgWarning: Ill-conditioned matrix (rcond=1.31544e-20): result may not be accurate.\n",
      "  overwrite_a=True).T\n"
     ]
    },
    {
     "name": "stderr",
     "output_type": "stream",
     "text": [
      "/opt/anaconda3/lib/python3.7/site-packages/sklearn/linear_model/_ridge.py:148: LinAlgWarning: Ill-conditioned matrix (rcond=1.37807e-20): result may not be accurate.\n",
      "  overwrite_a=True).T\n",
      "/opt/anaconda3/lib/python3.7/site-packages/sklearn/linear_model/_ridge.py:148: LinAlgWarning: Ill-conditioned matrix (rcond=1.27817e-20): result may not be accurate.\n",
      "  overwrite_a=True).T\n",
      "/opt/anaconda3/lib/python3.7/site-packages/sklearn/linear_model/_ridge.py:148: LinAlgWarning: Ill-conditioned matrix (rcond=1.31548e-20): result may not be accurate.\n",
      "  overwrite_a=True).T\n",
      "/opt/anaconda3/lib/python3.7/site-packages/sklearn/linear_model/_ridge.py:148: LinAlgWarning: Ill-conditioned matrix (rcond=1.37807e-20): result may not be accurate.\n",
      "  overwrite_a=True).T\n",
      "/opt/anaconda3/lib/python3.7/site-packages/sklearn/linear_model/_ridge.py:148: LinAlgWarning: Ill-conditioned matrix (rcond=1.27817e-20): result may not be accurate.\n",
      "  overwrite_a=True).T\n",
      "/opt/anaconda3/lib/python3.7/site-packages/sklearn/linear_model/_ridge.py:148: LinAlgWarning: Ill-conditioned matrix (rcond=1.31548e-20): result may not be accurate.\n",
      "  overwrite_a=True).T\n",
      "/opt/anaconda3/lib/python3.7/site-packages/sklearn/linear_model/_ridge.py:148: LinAlgWarning: Ill-conditioned matrix (rcond=9.03924e-20): result may not be accurate.\n",
      "  overwrite_a=True).T\n",
      "/opt/anaconda3/lib/python3.7/site-packages/sklearn/linear_model/_ridge.py:148: LinAlgWarning: Ill-conditioned matrix (rcond=8.40268e-20): result may not be accurate.\n",
      "  overwrite_a=True).T\n",
      "/opt/anaconda3/lib/python3.7/site-packages/sklearn/linear_model/_ridge.py:148: LinAlgWarning: Ill-conditioned matrix (rcond=8.61782e-20): result may not be accurate.\n",
      "  overwrite_a=True).T\n",
      "/opt/anaconda3/lib/python3.7/site-packages/sklearn/linear_model/_ridge.py:148: LinAlgWarning: Ill-conditioned matrix (rcond=9.03924e-20): result may not be accurate.\n",
      "  overwrite_a=True).T\n",
      "/opt/anaconda3/lib/python3.7/site-packages/sklearn/linear_model/_ridge.py:148: LinAlgWarning: Ill-conditioned matrix (rcond=8.40268e-20): result may not be accurate.\n",
      "  overwrite_a=True).T\n",
      "/opt/anaconda3/lib/python3.7/site-packages/sklearn/linear_model/_ridge.py:148: LinAlgWarning: Ill-conditioned matrix (rcond=8.61782e-20): result may not be accurate.\n",
      "  overwrite_a=True).T\n",
      "/opt/anaconda3/lib/python3.7/site-packages/sklearn/linear_model/_ridge.py:148: LinAlgWarning: Ill-conditioned matrix (rcond=9.02814e-20): result may not be accurate.\n",
      "  overwrite_a=True).T\n",
      "/opt/anaconda3/lib/python3.7/site-packages/sklearn/linear_model/_ridge.py:148: LinAlgWarning: Ill-conditioned matrix (rcond=8.37363e-20): result may not be accurate.\n",
      "  overwrite_a=True).T\n",
      "/opt/anaconda3/lib/python3.7/site-packages/sklearn/linear_model/_ridge.py:148: LinAlgWarning: Ill-conditioned matrix (rcond=8.61806e-20): result may not be accurate.\n",
      "  overwrite_a=True).T\n",
      "/opt/anaconda3/lib/python3.7/site-packages/sklearn/linear_model/_ridge.py:148: LinAlgWarning: Ill-conditioned matrix (rcond=9.02814e-20): result may not be accurate.\n",
      "  overwrite_a=True).T\n",
      "/opt/anaconda3/lib/python3.7/site-packages/sklearn/linear_model/_ridge.py:148: LinAlgWarning: Ill-conditioned matrix (rcond=8.37363e-20): result may not be accurate.\n",
      "  overwrite_a=True).T\n",
      "/opt/anaconda3/lib/python3.7/site-packages/sklearn/linear_model/_ridge.py:148: LinAlgWarning: Ill-conditioned matrix (rcond=8.61806e-20): result may not be accurate.\n",
      "  overwrite_a=True).T\n",
      "/opt/anaconda3/lib/python3.7/site-packages/sklearn/linear_model/_ridge.py:148: LinAlgWarning: Ill-conditioned matrix (rcond=5.92186e-19): result may not be accurate.\n",
      "  overwrite_a=True).T\n",
      "/opt/anaconda3/lib/python3.7/site-packages/sklearn/linear_model/_ridge.py:148: LinAlgWarning: Ill-conditioned matrix (rcond=5.50483e-19): result may not be accurate.\n",
      "  overwrite_a=True).T\n",
      "/opt/anaconda3/lib/python3.7/site-packages/sklearn/linear_model/_ridge.py:148: LinAlgWarning: Ill-conditioned matrix (rcond=5.64578e-19): result may not be accurate.\n",
      "  overwrite_a=True).T\n",
      "/opt/anaconda3/lib/python3.7/site-packages/sklearn/linear_model/_ridge.py:148: LinAlgWarning: Ill-conditioned matrix (rcond=5.92186e-19): result may not be accurate.\n",
      "  overwrite_a=True).T\n",
      "/opt/anaconda3/lib/python3.7/site-packages/sklearn/linear_model/_ridge.py:148: LinAlgWarning: Ill-conditioned matrix (rcond=5.50483e-19): result may not be accurate.\n",
      "  overwrite_a=True).T\n",
      "/opt/anaconda3/lib/python3.7/site-packages/sklearn/linear_model/_ridge.py:148: LinAlgWarning: Ill-conditioned matrix (rcond=5.64578e-19): result may not be accurate.\n",
      "  overwrite_a=True).T\n",
      "/opt/anaconda3/lib/python3.7/site-packages/sklearn/linear_model/_ridge.py:148: LinAlgWarning: Ill-conditioned matrix (rcond=5.9146e-19): result may not be accurate.\n",
      "  overwrite_a=True).T\n",
      "/opt/anaconda3/lib/python3.7/site-packages/sklearn/linear_model/_ridge.py:148: LinAlgWarning: Ill-conditioned matrix (rcond=5.4858e-19): result may not be accurate.\n",
      "  overwrite_a=True).T\n",
      "/opt/anaconda3/lib/python3.7/site-packages/sklearn/linear_model/_ridge.py:148: LinAlgWarning: Ill-conditioned matrix (rcond=5.64594e-19): result may not be accurate.\n",
      "  overwrite_a=True).T\n",
      "/opt/anaconda3/lib/python3.7/site-packages/sklearn/linear_model/_ridge.py:148: LinAlgWarning: Ill-conditioned matrix (rcond=5.9146e-19): result may not be accurate.\n",
      "  overwrite_a=True).T\n",
      "/opt/anaconda3/lib/python3.7/site-packages/sklearn/linear_model/_ridge.py:148: LinAlgWarning: Ill-conditioned matrix (rcond=5.4858e-19): result may not be accurate.\n",
      "  overwrite_a=True).T\n",
      "/opt/anaconda3/lib/python3.7/site-packages/sklearn/linear_model/_ridge.py:148: LinAlgWarning: Ill-conditioned matrix (rcond=5.64594e-19): result may not be accurate.\n",
      "  overwrite_a=True).T\n",
      "/opt/anaconda3/lib/python3.7/site-packages/sklearn/linear_model/_ridge.py:148: LinAlgWarning: Ill-conditioned matrix (rcond=3.87958e-18): result may not be accurate.\n",
      "  overwrite_a=True).T\n",
      "/opt/anaconda3/lib/python3.7/site-packages/sklearn/linear_model/_ridge.py:148: LinAlgWarning: Ill-conditioned matrix (rcond=3.60637e-18): result may not be accurate.\n",
      "  overwrite_a=True).T\n",
      "/opt/anaconda3/lib/python3.7/site-packages/sklearn/linear_model/_ridge.py:148: LinAlgWarning: Ill-conditioned matrix (rcond=3.69871e-18): result may not be accurate.\n",
      "  overwrite_a=True).T\n",
      "/opt/anaconda3/lib/python3.7/site-packages/sklearn/linear_model/_ridge.py:148: LinAlgWarning: Ill-conditioned matrix (rcond=3.87958e-18): result may not be accurate.\n",
      "  overwrite_a=True).T\n",
      "/opt/anaconda3/lib/python3.7/site-packages/sklearn/linear_model/_ridge.py:148: LinAlgWarning: Ill-conditioned matrix (rcond=3.60637e-18): result may not be accurate.\n",
      "  overwrite_a=True).T\n",
      "/opt/anaconda3/lib/python3.7/site-packages/sklearn/linear_model/_ridge.py:148: LinAlgWarning: Ill-conditioned matrix (rcond=3.69871e-18): result may not be accurate.\n",
      "  overwrite_a=True).T\n",
      "/opt/anaconda3/lib/python3.7/site-packages/sklearn/linear_model/_ridge.py:148: LinAlgWarning: Ill-conditioned matrix (rcond=3.87482e-18): result may not be accurate.\n",
      "  overwrite_a=True).T\n",
      "/opt/anaconda3/lib/python3.7/site-packages/sklearn/linear_model/_ridge.py:148: LinAlgWarning: Ill-conditioned matrix (rcond=3.59391e-18): result may not be accurate.\n",
      "  overwrite_a=True).T\n",
      "/opt/anaconda3/lib/python3.7/site-packages/sklearn/linear_model/_ridge.py:148: LinAlgWarning: Ill-conditioned matrix (rcond=3.69881e-18): result may not be accurate.\n",
      "  overwrite_a=True).T\n",
      "/opt/anaconda3/lib/python3.7/site-packages/sklearn/linear_model/_ridge.py:148: LinAlgWarning: Ill-conditioned matrix (rcond=3.87482e-18): result may not be accurate.\n",
      "  overwrite_a=True).T\n",
      "/opt/anaconda3/lib/python3.7/site-packages/sklearn/linear_model/_ridge.py:148: LinAlgWarning: Ill-conditioned matrix (rcond=3.59391e-18): result may not be accurate.\n",
      "  overwrite_a=True).T\n",
      "/opt/anaconda3/lib/python3.7/site-packages/sklearn/linear_model/_ridge.py:148: LinAlgWarning: Ill-conditioned matrix (rcond=3.69881e-18): result may not be accurate.\n",
      "  overwrite_a=True).T\n",
      "/opt/anaconda3/lib/python3.7/site-packages/sklearn/linear_model/_ridge.py:148: LinAlgWarning: Ill-conditioned matrix (rcond=2.54162e-17): result may not be accurate.\n",
      "  overwrite_a=True).T\n",
      "/opt/anaconda3/lib/python3.7/site-packages/sklearn/linear_model/_ridge.py:148: LinAlgWarning: Ill-conditioned matrix (rcond=2.36264e-17): result may not be accurate.\n",
      "  overwrite_a=True).T\n",
      "/opt/anaconda3/lib/python3.7/site-packages/sklearn/linear_model/_ridge.py:148: LinAlgWarning: Ill-conditioned matrix (rcond=2.42313e-17): result may not be accurate.\n",
      "  overwrite_a=True).T\n"
     ]
    },
    {
     "name": "stderr",
     "output_type": "stream",
     "text": [
      "/opt/anaconda3/lib/python3.7/site-packages/sklearn/linear_model/_ridge.py:148: LinAlgWarning: Ill-conditioned matrix (rcond=2.54162e-17): result may not be accurate.\n",
      "  overwrite_a=True).T\n",
      "/opt/anaconda3/lib/python3.7/site-packages/sklearn/linear_model/_ridge.py:148: LinAlgWarning: Ill-conditioned matrix (rcond=2.36264e-17): result may not be accurate.\n",
      "  overwrite_a=True).T\n",
      "/opt/anaconda3/lib/python3.7/site-packages/sklearn/linear_model/_ridge.py:148: LinAlgWarning: Ill-conditioned matrix (rcond=2.42313e-17): result may not be accurate.\n",
      "  overwrite_a=True).T\n",
      "/opt/anaconda3/lib/python3.7/site-packages/sklearn/linear_model/_ridge.py:148: LinAlgWarning: Ill-conditioned matrix (rcond=2.53851e-17): result may not be accurate.\n",
      "  overwrite_a=True).T\n",
      "/opt/anaconda3/lib/python3.7/site-packages/sklearn/linear_model/_ridge.py:148: LinAlgWarning: Ill-conditioned matrix (rcond=2.35447e-17): result may not be accurate.\n",
      "  overwrite_a=True).T\n",
      "/opt/anaconda3/lib/python3.7/site-packages/sklearn/linear_model/_ridge.py:148: LinAlgWarning: Ill-conditioned matrix (rcond=2.4232e-17): result may not be accurate.\n",
      "  overwrite_a=True).T\n",
      "/opt/anaconda3/lib/python3.7/site-packages/sklearn/linear_model/_ridge.py:148: LinAlgWarning: Ill-conditioned matrix (rcond=2.53851e-17): result may not be accurate.\n",
      "  overwrite_a=True).T\n",
      "/opt/anaconda3/lib/python3.7/site-packages/sklearn/linear_model/_ridge.py:148: LinAlgWarning: Ill-conditioned matrix (rcond=2.35447e-17): result may not be accurate.\n",
      "  overwrite_a=True).T\n",
      "/opt/anaconda3/lib/python3.7/site-packages/sklearn/linear_model/_ridge.py:148: LinAlgWarning: Ill-conditioned matrix (rcond=2.4232e-17): result may not be accurate.\n",
      "  overwrite_a=True).T\n",
      "/opt/anaconda3/lib/python3.7/site-packages/sklearn/linear_model/_ridge.py:148: LinAlgWarning: Ill-conditioned matrix (rcond=6.67073e-17): result may not be accurate.\n",
      "  overwrite_a=True).T\n",
      "/opt/anaconda3/lib/python3.7/site-packages/sklearn/linear_model/_ridge.py:148: LinAlgWarning: Ill-conditioned matrix (rcond=2.31647e-17): result may not be accurate.\n",
      "  overwrite_a=True).T\n",
      "/opt/anaconda3/lib/python3.7/site-packages/sklearn/linear_model/_ridge.py:148: LinAlgWarning: Ill-conditioned matrix (rcond=6.67073e-17): result may not be accurate.\n",
      "  overwrite_a=True).T\n",
      "/opt/anaconda3/lib/python3.7/site-packages/sklearn/linear_model/_ridge.py:148: LinAlgWarning: Ill-conditioned matrix (rcond=2.31647e-17): result may not be accurate.\n",
      "  overwrite_a=True).T\n"
     ]
    },
    {
     "name": "stdout",
     "output_type": "stream",
     "text": [
      "Ridge(alpha=4714.8663634573895, copy_X=True, fit_intercept=True,\n",
      "      max_iter=100000, normalize=False, random_state=None, solver='lsqr',\n",
      "      tol=0.001)\n"
     ]
    },
    {
     "data": {
      "text/plain": [
       "Ridge(alpha=4714.8663634573895, copy_X=True, fit_intercept=True,\n",
       "      max_iter=100000, normalize=False, random_state=None, solver='lsqr',\n",
       "      tol=0.001)"
      ]
     },
     "execution_count": 49,
     "metadata": {},
     "output_type": "execute_result"
    }
   ],
   "source": [
    "parameters = {'alpha': np.logspace(-20, 20, 50), 'fit_intercept': [True, False], \n",
    "              'solver': ['auto', 'svd', 'cholesky', 'lsqr', 'sparse_cg', 'sag', 'saga']}\n",
    "\n",
    "# define the model/ estimator\n",
    "model = Ridge(max_iter = 100000)\n",
    "\n",
    "# define the grid search\n",
    "ridge= GridSearchCV(model, parameters,cv=5)\n",
    "\n",
    "#fit the grid search\n",
    "ridge.fit(X_train,y_train)\n",
    "\n",
    "# best estimator\n",
    "print(ridge.best_estimator_)\n",
    "\n",
    "# best model\n",
    "best_model = ridge.best_estimator_\n",
    "best_model.fit(X_train,y_train)"
   ]
  },
  {
   "cell_type": "code",
   "execution_count": 50,
   "metadata": {
    "ExecuteTime": {
     "end_time": "2020-05-17T23:49:36.244877Z",
     "start_time": "2020-05-17T23:49:35.761333Z"
    },
    "hidden": true
   },
   "outputs": [
    {
     "name": "stdout",
     "output_type": "stream",
     "text": [
      "Training score:  0.8134001838445514\n",
      "Test score:  0.7294065083456526\n",
      "CV score:  0.7070539072101909\n"
     ]
    }
   ],
   "source": [
    "# Ridge(alpha=4714.8663634573895, copy_X=True, fit_intercept=True,\n",
    "#       max_iter=100000, normalize=False, random_state=None, solver='lsqr',\n",
    "#       tol=0.001)\n",
    "\n",
    "print('Training score: ', best_model.score(X_train, y_train))\n",
    "print('Test score: ', best_model.score(X_test, y_test))\n",
    "print('CV score: ', (cross_val_score(best_model, X_train, y_train)).mean())"
   ]
  },
  {
   "cell_type": "markdown",
   "metadata": {
    "heading_collapsed": true
   },
   "source": [
    "### Lasso with GridSearchCV"
   ]
  },
  {
   "cell_type": "code",
   "execution_count": 17,
   "metadata": {
    "ExecuteTime": {
     "end_time": "2020-05-17T18:19:37.489949Z",
     "start_time": "2020-05-17T14:51:20.462271Z"
    },
    "hidden": true
   },
   "outputs": [
    {
     "name": "stderr",
     "output_type": "stream",
     "text": [
      "/opt/anaconda3/lib/python3.7/site-packages/sklearn/linear_model/_coordinate_descent.py:476: ConvergenceWarning: Objective did not converge. You might want to increase the number of iterations. Duality gap: 443593048.3594327, tolerance: 598106.0068619931\n",
      "  positive)\n",
      "/opt/anaconda3/lib/python3.7/site-packages/sklearn/linear_model/_coordinate_descent.py:476: ConvergenceWarning: Objective did not converge. You might want to increase the number of iterations. Duality gap: 518887008.043306, tolerance: 641836.5967190965\n",
      "  positive)\n",
      "/opt/anaconda3/lib/python3.7/site-packages/sklearn/linear_model/_coordinate_descent.py:476: ConvergenceWarning: Objective did not converge. You might want to increase the number of iterations. Duality gap: 482318139.3136526, tolerance: 641215.9969709492\n",
      "  positive)\n",
      "/opt/anaconda3/lib/python3.7/site-packages/sklearn/linear_model/_coordinate_descent.py:476: ConvergenceWarning: Objective did not converge. You might want to increase the number of iterations. Duality gap: 459935078.99342364, tolerance: 621759.3986179117\n",
      "  positive)\n",
      "/opt/anaconda3/lib/python3.7/site-packages/sklearn/linear_model/_coordinate_descent.py:476: ConvergenceWarning: Objective did not converge. You might want to increase the number of iterations. Duality gap: 495914988.5990323, tolerance: 710071.7151897906\n",
      "  positive)\n",
      "/opt/anaconda3/lib/python3.7/site-packages/sklearn/linear_model/_coordinate_descent.py:476: ConvergenceWarning: Objective did not converge. You might want to increase the number of iterations. Duality gap: 1870828639.41467, tolerance: 1569705.738421021\n",
      "  positive)\n",
      "/opt/anaconda3/lib/python3.7/site-packages/sklearn/linear_model/_coordinate_descent.py:476: ConvergenceWarning: Objective did not converge. You might want to increase the number of iterations. Duality gap: 5452510356.207419, tolerance: 1815453.5847525536\n",
      "  positive)\n",
      "/opt/anaconda3/lib/python3.7/site-packages/sklearn/linear_model/_coordinate_descent.py:476: ConvergenceWarning: Objective did not converge. You might want to increase the number of iterations. Duality gap: 5124271212.967043, tolerance: 1722835.4675249902\n",
      "  positive)\n",
      "/opt/anaconda3/lib/python3.7/site-packages/sklearn/linear_model/_coordinate_descent.py:476: ConvergenceWarning: Objective did not converge. You might want to increase the number of iterations. Duality gap: 457467917.4761327, tolerance: 1629044.1512618328\n",
      "  positive)\n",
      "/opt/anaconda3/lib/python3.7/site-packages/sklearn/linear_model/_coordinate_descent.py:476: ConvergenceWarning: Objective did not converge. You might want to increase the number of iterations. Duality gap: 522126858.52300113, tolerance: 1973850.7752070448\n",
      "  positive)\n",
      "/opt/anaconda3/lib/python3.7/site-packages/sklearn/linear_model/_coordinate_descent.py:476: ConvergenceWarning: Objective did not converge. You might want to increase the number of iterations. Duality gap: 201354693.84915203, tolerance: 598106.0068619931\n",
      "  positive)\n",
      "/opt/anaconda3/lib/python3.7/site-packages/sklearn/linear_model/_coordinate_descent.py:476: ConvergenceWarning: Objective did not converge. You might want to increase the number of iterations. Duality gap: 459522504.4935297, tolerance: 641836.5967190965\n",
      "  positive)\n",
      "/opt/anaconda3/lib/python3.7/site-packages/sklearn/linear_model/_coordinate_descent.py:476: ConvergenceWarning: Objective did not converge. You might want to increase the number of iterations. Duality gap: 432287695.23457307, tolerance: 641215.9969709492\n",
      "  positive)\n",
      "/opt/anaconda3/lib/python3.7/site-packages/sklearn/linear_model/_coordinate_descent.py:476: ConvergenceWarning: Objective did not converge. You might want to increase the number of iterations. Duality gap: 348406843.51158595, tolerance: 621759.3986179117\n",
      "  positive)\n",
      "/opt/anaconda3/lib/python3.7/site-packages/sklearn/linear_model/_coordinate_descent.py:476: ConvergenceWarning: Objective did not converge. You might want to increase the number of iterations. Duality gap: 285076702.78353375, tolerance: 710071.7151897906\n",
      "  positive)\n",
      "/opt/anaconda3/lib/python3.7/site-packages/sklearn/linear_model/_coordinate_descent.py:476: ConvergenceWarning: Objective did not converge. You might want to increase the number of iterations. Duality gap: 1842703959.0567064, tolerance: 1569705.738421021\n",
      "  positive)\n",
      "/opt/anaconda3/lib/python3.7/site-packages/sklearn/linear_model/_coordinate_descent.py:476: ConvergenceWarning: Objective did not converge. You might want to increase the number of iterations. Duality gap: 4138351426.7384434, tolerance: 1815453.5847525536\n",
      "  positive)\n",
      "/opt/anaconda3/lib/python3.7/site-packages/sklearn/linear_model/_coordinate_descent.py:476: ConvergenceWarning: Objective did not converge. You might want to increase the number of iterations. Duality gap: 5066504542.17589, tolerance: 1722835.4675249902\n",
      "  positive)\n",
      "/opt/anaconda3/lib/python3.7/site-packages/sklearn/linear_model/_coordinate_descent.py:476: ConvergenceWarning: Objective did not converge. You might want to increase the number of iterations. Duality gap: 323234507.65231335, tolerance: 1629044.1512618328\n",
      "  positive)\n",
      "/opt/anaconda3/lib/python3.7/site-packages/sklearn/linear_model/_coordinate_descent.py:476: ConvergenceWarning: Objective did not converge. You might want to increase the number of iterations. Duality gap: 386436596.01483023, tolerance: 1973850.7752070448\n",
      "  positive)\n",
      "/opt/anaconda3/lib/python3.7/site-packages/sklearn/linear_model/_coordinate_descent.py:476: ConvergenceWarning: Objective did not converge. You might want to increase the number of iterations. Duality gap: 66803302.99644947, tolerance: 598106.0068619931\n",
      "  positive)\n",
      "/opt/anaconda3/lib/python3.7/site-packages/sklearn/linear_model/_coordinate_descent.py:476: ConvergenceWarning: Objective did not converge. You might want to increase the number of iterations. Duality gap: 145570027.46719247, tolerance: 641836.5967190965\n",
      "  positive)\n",
      "/opt/anaconda3/lib/python3.7/site-packages/sklearn/linear_model/_coordinate_descent.py:476: ConvergenceWarning: Objective did not converge. You might want to increase the number of iterations. Duality gap: 40970147.170451164, tolerance: 641215.9969709492\n",
      "  positive)\n",
      "/opt/anaconda3/lib/python3.7/site-packages/sklearn/linear_model/_coordinate_descent.py:476: ConvergenceWarning: Objective did not converge. You might want to increase the number of iterations. Duality gap: 40405341.00888765, tolerance: 621759.3986179117\n",
      "  positive)\n",
      "/opt/anaconda3/lib/python3.7/site-packages/sklearn/linear_model/_coordinate_descent.py:476: ConvergenceWarning: Objective did not converge. You might want to increase the number of iterations. Duality gap: 18759968.38260138, tolerance: 710071.7151897906\n",
      "  positive)\n",
      "/opt/anaconda3/lib/python3.7/site-packages/sklearn/linear_model/_coordinate_descent.py:476: ConvergenceWarning: Objective did not converge. You might want to increase the number of iterations. Duality gap: 1604037104.9238997, tolerance: 1569705.738421021\n",
      "  positive)\n",
      "/opt/anaconda3/lib/python3.7/site-packages/sklearn/linear_model/_coordinate_descent.py:476: ConvergenceWarning: Objective did not converge. You might want to increase the number of iterations. Duality gap: 34779948.51825142, tolerance: 1815453.5847525536\n",
      "  positive)\n",
      "/opt/anaconda3/lib/python3.7/site-packages/sklearn/linear_model/_coordinate_descent.py:476: ConvergenceWarning: Objective did not converge. You might want to increase the number of iterations. Duality gap: 4570791893.399543, tolerance: 1722835.4675249902\n",
      "  positive)\n",
      "/opt/anaconda3/lib/python3.7/site-packages/sklearn/linear_model/_coordinate_descent.py:476: ConvergenceWarning: Objective did not converge. You might want to increase the number of iterations. Duality gap: 29857750.558501482, tolerance: 1629044.1512618328\n",
      "  positive)\n",
      "/opt/anaconda3/lib/python3.7/site-packages/sklearn/linear_model/_coordinate_descent.py:476: ConvergenceWarning: Objective did not converge. You might want to increase the number of iterations. Duality gap: 161203566.23834437, tolerance: 1973850.7752070448\n",
      "  positive)\n",
      "/opt/anaconda3/lib/python3.7/site-packages/sklearn/linear_model/_coordinate_descent.py:476: ConvergenceWarning: Objective did not converge. You might want to increase the number of iterations. Duality gap: 21794816.405292988, tolerance: 1569705.738421021\n",
      "  positive)\n"
     ]
    },
    {
     "name": "stderr",
     "output_type": "stream",
     "text": [
      "/opt/anaconda3/lib/python3.7/site-packages/sklearn/linear_model/_coordinate_descent.py:476: ConvergenceWarning: Objective did not converge. You might want to increase the number of iterations. Duality gap: 121341965.46083832, tolerance: 1722835.4675249902\n",
      "  positive)\n",
      "/opt/anaconda3/lib/python3.7/site-packages/sklearn/linear_model/_coordinate_descent.py:476: ConvergenceWarning: Objective did not converge. You might want to increase the number of iterations. Duality gap: 37082952.33601558, tolerance: 1973850.7752070448\n",
      "  positive)\n",
      "/opt/anaconda3/lib/python3.7/site-packages/sklearn/linear_model/_coordinate_descent.py:476: ConvergenceWarning: Objective did not converge. You might want to increase the number of iterations. Duality gap: 2907471.945663452, tolerance: 1569705.738421021\n",
      "  positive)\n"
     ]
    },
    {
     "name": "stdout",
     "output_type": "stream",
     "text": [
      "Lasso(alpha=21.54434690031882, copy_X=True, fit_intercept=True, max_iter=100000,\n",
      "      normalize=False, positive=False, precompute=False, random_state=None,\n",
      "      selection='cyclic', tol=0.0001, warm_start=False)\n"
     ]
    },
    {
     "data": {
      "text/plain": [
       "Lasso(alpha=21.54434690031882, copy_X=True, fit_intercept=True, max_iter=100000,\n",
       "      normalize=False, positive=False, precompute=False, random_state=None,\n",
       "      selection='cyclic', tol=0.0001, warm_start=False)"
      ]
     },
     "execution_count": 17,
     "metadata": {},
     "output_type": "execute_result"
    }
   ],
   "source": [
    "parameters = {'alpha': np.logspace(-4, 4, 10), 'fit_intercept': [True, False]}\n",
    "\n",
    "# define the model/ estimator\n",
    "model = Lasso(max_iter = 100000)\n",
    "\n",
    "# define the grid search\n",
    "lasso= GridSearchCV(model, parameters,cv=5)\n",
    "\n",
    "#fit the grid search\n",
    "lasso.fit(X_train,y_train)\n",
    "\n",
    "# best estimator\n",
    "print(lasso.best_estimator_)\n",
    "\n",
    "# best model\n",
    "best_model = lasso.best_estimator_\n",
    "best_model.fit(X_train,y_train)"
   ]
  },
  {
   "cell_type": "markdown",
   "metadata": {
    "hidden": true
   },
   "source": [
    "Lasso(alpha=21.54434690031882, copy_X=True, fit_intercept=True, max_iter=100000,\n",
    "      normalize=False, positive=False, precompute=False, random_state=None,\n",
    "      selection='cyclic', tol=0.0001, warm_start=False)"
   ]
  },
  {
   "cell_type": "code",
   "execution_count": 18,
   "metadata": {
    "ExecuteTime": {
     "end_time": "2020-05-17T18:19:38.060614Z",
     "start_time": "2020-05-17T18:19:37.503953Z"
    },
    "hidden": true
   },
   "outputs": [
    {
     "name": "stdout",
     "output_type": "stream",
     "text": [
      "Training score:  0.7710263428895594\n",
      "Test score:  0.811900930429534\n",
      "CV score:  0.7129071721138106\n"
     ]
    }
   ],
   "source": [
    "print('Training score: ', best_model.score(X_train, y_train))\n",
    "print('Test score: ', best_model.score(X_test, y_test))\n",
    "print('CV score: ', (cross_val_score(best_model, X_train, y_train)).mean())"
   ]
  },
  {
   "cell_type": "code",
   "execution_count": 20,
   "metadata": {
    "ExecuteTime": {
     "end_time": "2020-05-17T18:21:30.193231Z",
     "start_time": "2020-05-17T18:21:29.965278Z"
    },
    "hidden": true
   },
   "outputs": [
    {
     "data": {
      "text/html": [
       "<div>\n",
       "<style scoped>\n",
       "    .dataframe tbody tr th:only-of-type {\n",
       "        vertical-align: middle;\n",
       "    }\n",
       "\n",
       "    .dataframe tbody tr th {\n",
       "        vertical-align: top;\n",
       "    }\n",
       "\n",
       "    .dataframe thead th {\n",
       "        text-align: right;\n",
       "    }\n",
       "</style>\n",
       "<table border=\"1\" class=\"dataframe\">\n",
       "  <thead>\n",
       "    <tr style=\"text-align: right;\">\n",
       "      <th></th>\n",
       "      <th>y_test</th>\n",
       "      <th>predictions</th>\n",
       "      <th>residuals</th>\n",
       "    </tr>\n",
       "  </thead>\n",
       "  <tbody>\n",
       "    <tr>\n",
       "      <td>0</td>\n",
       "      <td>1170.208333</td>\n",
       "      <td>1028.394203</td>\n",
       "      <td>141.814130</td>\n",
       "    </tr>\n",
       "    <tr>\n",
       "      <td>1</td>\n",
       "      <td>1263.916667</td>\n",
       "      <td>1086.843825</td>\n",
       "      <td>177.072842</td>\n",
       "    </tr>\n",
       "    <tr>\n",
       "      <td>2</td>\n",
       "      <td>1400.750000</td>\n",
       "      <td>1340.279819</td>\n",
       "      <td>60.470181</td>\n",
       "    </tr>\n",
       "    <tr>\n",
       "      <td>3</td>\n",
       "      <td>1459.333333</td>\n",
       "      <td>1342.290375</td>\n",
       "      <td>117.042958</td>\n",
       "    </tr>\n",
       "    <tr>\n",
       "      <td>4</td>\n",
       "      <td>1549.666667</td>\n",
       "      <td>1333.138979</td>\n",
       "      <td>216.527687</td>\n",
       "    </tr>\n",
       "    <tr>\n",
       "      <td>...</td>\n",
       "      <td>...</td>\n",
       "      <td>...</td>\n",
       "      <td>...</td>\n",
       "    </tr>\n",
       "    <tr>\n",
       "      <td>26171</td>\n",
       "      <td>703.416667</td>\n",
       "      <td>636.776185</td>\n",
       "      <td>66.640481</td>\n",
       "    </tr>\n",
       "    <tr>\n",
       "      <td>26172</td>\n",
       "      <td>722.958333</td>\n",
       "      <td>685.156866</td>\n",
       "      <td>37.801468</td>\n",
       "    </tr>\n",
       "    <tr>\n",
       "      <td>26173</td>\n",
       "      <td>754.666667</td>\n",
       "      <td>588.134084</td>\n",
       "      <td>166.532582</td>\n",
       "    </tr>\n",
       "    <tr>\n",
       "      <td>26174</td>\n",
       "      <td>634.541667</td>\n",
       "      <td>654.135412</td>\n",
       "      <td>-19.593745</td>\n",
       "    </tr>\n",
       "    <tr>\n",
       "      <td>26175</td>\n",
       "      <td>592.125000</td>\n",
       "      <td>548.931616</td>\n",
       "      <td>43.193384</td>\n",
       "    </tr>\n",
       "  </tbody>\n",
       "</table>\n",
       "<p>26176 rows × 3 columns</p>\n",
       "</div>"
      ],
      "text/plain": [
       "            y_test  predictions   residuals\n",
       "0      1170.208333  1028.394203  141.814130\n",
       "1      1263.916667  1086.843825  177.072842\n",
       "2      1400.750000  1340.279819   60.470181\n",
       "3      1459.333333  1342.290375  117.042958\n",
       "4      1549.666667  1333.138979  216.527687\n",
       "...            ...          ...         ...\n",
       "26171   703.416667   636.776185   66.640481\n",
       "26172   722.958333   685.156866   37.801468\n",
       "26173   754.666667   588.134084  166.532582\n",
       "26174   634.541667   654.135412  -19.593745\n",
       "26175   592.125000   548.931616   43.193384\n",
       "\n",
       "[26176 rows x 3 columns]"
      ]
     },
     "execution_count": 20,
     "metadata": {},
     "output_type": "execute_result"
    }
   ],
   "source": [
    "predictions = best_model.predict(X_test)\n",
    "residuals = pd.DataFrame(predictions, y_test)\n",
    "residuals.reset_index(inplace = True)\n",
    "residuals.rename({'daily_avg_counts': 'y_test', 0: 'predictions'}, axis = 1, inplace = True)\n",
    "residuals['residuals'] = residuals.y_test - residuals.predictions\n",
    "residuals"
   ]
  },
  {
   "cell_type": "code",
   "execution_count": 21,
   "metadata": {
    "ExecuteTime": {
     "end_time": "2020-05-17T18:21:44.792918Z",
     "start_time": "2020-05-17T18:21:44.780607Z"
    },
    "hidden": true
   },
   "outputs": [
    {
     "data": {
      "text/plain": [
       "204.74238992999986"
      ]
     },
     "execution_count": 21,
     "metadata": {},
     "output_type": "execute_result"
    }
   ],
   "source": [
    "(mean_squared_error(y_test, predictions))**0.5"
   ]
  },
  {
   "cell_type": "code",
   "execution_count": 27,
   "metadata": {
    "ExecuteTime": {
     "end_time": "2020-05-17T18:26:11.244655Z",
     "start_time": "2020-05-17T18:26:11.228140Z"
    },
    "hidden": true
   },
   "outputs": [
    {
     "data": {
      "text/plain": [
       "0.811900930429534"
      ]
     },
     "execution_count": 27,
     "metadata": {},
     "output_type": "execute_result"
    }
   ],
   "source": [
    "from sklearn.metrics import r2_score\n",
    "r2_score(y_test, predictions)"
   ]
  },
  {
   "cell_type": "code",
   "execution_count": 35,
   "metadata": {
    "ExecuteTime": {
     "end_time": "2020-05-17T18:31:24.173683Z",
     "start_time": "2020-05-17T18:31:24.151685Z"
    },
    "hidden": true
   },
   "outputs": [
    {
     "data": {
      "text/html": [
       "<div>\n",
       "<style scoped>\n",
       "    .dataframe tbody tr th:only-of-type {\n",
       "        vertical-align: middle;\n",
       "    }\n",
       "\n",
       "    .dataframe tbody tr th {\n",
       "        vertical-align: top;\n",
       "    }\n",
       "\n",
       "    .dataframe thead th {\n",
       "        text-align: right;\n",
       "    }\n",
       "</style>\n",
       "<table border=\"1\" class=\"dataframe\">\n",
       "  <thead>\n",
       "    <tr style=\"text-align: right;\">\n",
       "      <th></th>\n",
       "      <th>coefficients</th>\n",
       "      <th>coef_abs</th>\n",
       "    </tr>\n",
       "  </thead>\n",
       "  <tbody>\n",
       "    <tr>\n",
       "      <td>Barbeque</td>\n",
       "      <td>-0.000000</td>\n",
       "      <td>0.000000</td>\n",
       "    </tr>\n",
       "    <tr>\n",
       "      <td>Unoccupied - Under Construction</td>\n",
       "      <td>-0.000000</td>\n",
       "      <td>0.000000</td>\n",
       "    </tr>\n",
       "    <tr>\n",
       "      <td>Unoccupied - Under Demolition/Condemned</td>\n",
       "      <td>-0.000000</td>\n",
       "      <td>0.000000</td>\n",
       "    </tr>\n",
       "    <tr>\n",
       "      <td>Unoccupied - Under Renovation</td>\n",
       "      <td>0.000000</td>\n",
       "      <td>0.000000</td>\n",
       "    </tr>\n",
       "    <tr>\n",
       "      <td>Unoccupied - Unused</td>\n",
       "      <td>-0.000000</td>\n",
       "      <td>0.000000</td>\n",
       "    </tr>\n",
       "    <tr>\n",
       "      <td>Vacant Land</td>\n",
       "      <td>0.000000</td>\n",
       "      <td>0.000000</td>\n",
       "    </tr>\n",
       "    <tr>\n",
       "      <td>Warehouse/Store</td>\n",
       "      <td>0.000000</td>\n",
       "      <td>0.000000</td>\n",
       "    </tr>\n",
       "    <tr>\n",
       "      <td>Wholesale</td>\n",
       "      <td>-0.000000</td>\n",
       "      <td>0.000000</td>\n",
       "    </tr>\n",
       "    <tr>\n",
       "      <td>Workshop/Studio</td>\n",
       "      <td>0.000000</td>\n",
       "      <td>0.000000</td>\n",
       "    </tr>\n",
       "    <tr>\n",
       "      <td>avg_n_floors</td>\n",
       "      <td>-0.000000</td>\n",
       "      <td>0.000000</td>\n",
       "    </tr>\n",
       "    <tr>\n",
       "      <td>day</td>\n",
       "      <td>0.000000</td>\n",
       "      <td>0.000000</td>\n",
       "    </tr>\n",
       "    <tr>\n",
       "      <td>month</td>\n",
       "      <td>0.000000</td>\n",
       "      <td>0.000000</td>\n",
       "    </tr>\n",
       "    <tr>\n",
       "      <td>num_bikes</td>\n",
       "      <td>0.000000</td>\n",
       "      <td>0.000000</td>\n",
       "    </tr>\n",
       "    <tr>\n",
       "      <td>Purpose Built</td>\n",
       "      <td>0.000000</td>\n",
       "      <td>0.000000</td>\n",
       "    </tr>\n",
       "    <tr>\n",
       "      <td>Tree Guard</td>\n",
       "      <td>0.000000</td>\n",
       "      <td>0.000000</td>\n",
       "    </tr>\n",
       "    <tr>\n",
       "      <td>Place of Worship</td>\n",
       "      <td>0.000000</td>\n",
       "      <td>0.000000</td>\n",
       "    </tr>\n",
       "    <tr>\n",
       "      <td>Picnic Setting</td>\n",
       "      <td>-0.000000</td>\n",
       "      <td>0.000000</td>\n",
       "    </tr>\n",
       "    <tr>\n",
       "      <td>Bicycle Rails</td>\n",
       "      <td>0.000000</td>\n",
       "      <td>0.000000</td>\n",
       "    </tr>\n",
       "    <tr>\n",
       "      <td>Bin Corral</td>\n",
       "      <td>0.000000</td>\n",
       "      <td>0.000000</td>\n",
       "    </tr>\n",
       "    <tr>\n",
       "      <td>Commercial Accommodation</td>\n",
       "      <td>0.000000</td>\n",
       "      <td>0.000000</td>\n",
       "    </tr>\n",
       "    <tr>\n",
       "      <td>Community Use</td>\n",
       "      <td>0.000000</td>\n",
       "      <td>0.000000</td>\n",
       "    </tr>\n",
       "    <tr>\n",
       "      <td>Community Use.1</td>\n",
       "      <td>0.000000</td>\n",
       "      <td>0.000000</td>\n",
       "    </tr>\n",
       "    <tr>\n",
       "      <td>Drinking Fountain</td>\n",
       "      <td>0.000000</td>\n",
       "      <td>0.000000</td>\n",
       "    </tr>\n",
       "    <tr>\n",
       "      <td>Education Centre</td>\n",
       "      <td>0.000000</td>\n",
       "      <td>0.000000</td>\n",
       "    </tr>\n",
       "    <tr>\n",
       "      <td>Educational/Research</td>\n",
       "      <td>0.000000</td>\n",
       "      <td>0.000000</td>\n",
       "    </tr>\n",
       "    <tr>\n",
       "      <td>Entertainment/Recreation - Indoor</td>\n",
       "      <td>-0.000000</td>\n",
       "      <td>0.000000</td>\n",
       "    </tr>\n",
       "    <tr>\n",
       "      <td>Equipment Installation</td>\n",
       "      <td>0.000000</td>\n",
       "      <td>0.000000</td>\n",
       "    </tr>\n",
       "    <tr>\n",
       "      <td>Health Services</td>\n",
       "      <td>0.000000</td>\n",
       "      <td>0.000000</td>\n",
       "    </tr>\n",
       "    <tr>\n",
       "      <td>Hoop</td>\n",
       "      <td>-0.000000</td>\n",
       "      <td>0.000000</td>\n",
       "    </tr>\n",
       "    <tr>\n",
       "      <td>Place Of Assembly</td>\n",
       "      <td>0.000000</td>\n",
       "      <td>0.000000</td>\n",
       "    </tr>\n",
       "    <tr>\n",
       "      <td>Hospital/Clinic</td>\n",
       "      <td>-0.000000</td>\n",
       "      <td>0.000000</td>\n",
       "    </tr>\n",
       "    <tr>\n",
       "      <td>Horse Trough</td>\n",
       "      <td>-0.000000</td>\n",
       "      <td>0.000000</td>\n",
       "    </tr>\n",
       "    <tr>\n",
       "      <td>Industrial</td>\n",
       "      <td>0.000000</td>\n",
       "      <td>0.000000</td>\n",
       "    </tr>\n",
       "    <tr>\n",
       "      <td>Parking - Commercial Covered</td>\n",
       "      <td>-0.000000</td>\n",
       "      <td>0.000000</td>\n",
       "    </tr>\n",
       "    <tr>\n",
       "      <td>Office.1</td>\n",
       "      <td>-0.000000</td>\n",
       "      <td>0.000000</td>\n",
       "    </tr>\n",
       "    <tr>\n",
       "      <td>Office</td>\n",
       "      <td>0.000000</td>\n",
       "      <td>0.000000</td>\n",
       "    </tr>\n",
       "    <tr>\n",
       "      <td>House/Townhouse</td>\n",
       "      <td>-0.000000</td>\n",
       "      <td>0.000000</td>\n",
       "    </tr>\n",
       "    <tr>\n",
       "      <td>Manufacturing</td>\n",
       "      <td>0.000000</td>\n",
       "      <td>0.000000</td>\n",
       "    </tr>\n",
       "    <tr>\n",
       "      <td>Mixed Use</td>\n",
       "      <td>-0.000000</td>\n",
       "      <td>0.000000</td>\n",
       "    </tr>\n",
       "    <tr>\n",
       "      <td>Leisure/Recreation</td>\n",
       "      <td>-0.000000</td>\n",
       "      <td>0.000000</td>\n",
       "    </tr>\n",
       "    <tr>\n",
       "      <td>Institutional Accommodation</td>\n",
       "      <td>-0.000000</td>\n",
       "      <td>0.000000</td>\n",
       "    </tr>\n",
       "    <tr>\n",
       "      <td>Information Pillar</td>\n",
       "      <td>0.000000</td>\n",
       "      <td>0.000000</td>\n",
       "    </tr>\n",
       "    <tr>\n",
       "      <td>year</td>\n",
       "      <td>0.000000</td>\n",
       "      <td>0.000000</td>\n",
       "    </tr>\n",
       "    <tr>\n",
       "      <td>Bollard</td>\n",
       "      <td>4.159479</td>\n",
       "      <td>4.159479</td>\n",
       "    </tr>\n",
       "    <tr>\n",
       "      <td>Performances, Conferences, Ceremonies</td>\n",
       "      <td>4.845250</td>\n",
       "      <td>4.845250</td>\n",
       "    </tr>\n",
       "    <tr>\n",
       "      <td>Litter Bin</td>\n",
       "      <td>4.994454</td>\n",
       "      <td>4.994454</td>\n",
       "    </tr>\n",
       "    <tr>\n",
       "      <td>Floral Crate/Planter Box</td>\n",
       "      <td>8.248422</td>\n",
       "      <td>8.248422</td>\n",
       "    </tr>\n",
       "    <tr>\n",
       "      <td>Public Display Area</td>\n",
       "      <td>8.670559</td>\n",
       "      <td>8.670559</td>\n",
       "    </tr>\n",
       "    <tr>\n",
       "      <td>Storage</td>\n",
       "      <td>8.816817</td>\n",
       "      <td>8.816817</td>\n",
       "    </tr>\n",
       "    <tr>\n",
       "      <td>prev_year_counts</td>\n",
       "      <td>362.902080</td>\n",
       "      <td>362.902080</td>\n",
       "    </tr>\n",
       "  </tbody>\n",
       "</table>\n",
       "</div>"
      ],
      "text/plain": [
       "                                         coefficients    coef_abs\n",
       "Barbeque                                    -0.000000    0.000000\n",
       "Unoccupied - Under Construction             -0.000000    0.000000\n",
       "Unoccupied - Under Demolition/Condemned     -0.000000    0.000000\n",
       "Unoccupied - Under Renovation                0.000000    0.000000\n",
       "Unoccupied - Unused                         -0.000000    0.000000\n",
       "Vacant Land                                  0.000000    0.000000\n",
       "Warehouse/Store                              0.000000    0.000000\n",
       "Wholesale                                   -0.000000    0.000000\n",
       "Workshop/Studio                              0.000000    0.000000\n",
       "avg_n_floors                                -0.000000    0.000000\n",
       "day                                          0.000000    0.000000\n",
       "month                                        0.000000    0.000000\n",
       "num_bikes                                    0.000000    0.000000\n",
       "Purpose Built                                0.000000    0.000000\n",
       "Tree Guard                                   0.000000    0.000000\n",
       "Place of Worship                             0.000000    0.000000\n",
       "Picnic Setting                              -0.000000    0.000000\n",
       "Bicycle Rails                                0.000000    0.000000\n",
       "Bin Corral                                   0.000000    0.000000\n",
       "Commercial Accommodation                     0.000000    0.000000\n",
       "Community Use                                0.000000    0.000000\n",
       "Community Use.1                              0.000000    0.000000\n",
       "Drinking Fountain                            0.000000    0.000000\n",
       "Education Centre                             0.000000    0.000000\n",
       "Educational/Research                         0.000000    0.000000\n",
       "Entertainment/Recreation - Indoor           -0.000000    0.000000\n",
       "Equipment Installation                       0.000000    0.000000\n",
       "Health Services                              0.000000    0.000000\n",
       "Hoop                                        -0.000000    0.000000\n",
       "Place Of Assembly                            0.000000    0.000000\n",
       "Hospital/Clinic                             -0.000000    0.000000\n",
       "Horse Trough                                -0.000000    0.000000\n",
       "Industrial                                   0.000000    0.000000\n",
       "Parking - Commercial Covered                -0.000000    0.000000\n",
       "Office.1                                    -0.000000    0.000000\n",
       "Office                                       0.000000    0.000000\n",
       "House/Townhouse                             -0.000000    0.000000\n",
       "Manufacturing                                0.000000    0.000000\n",
       "Mixed Use                                   -0.000000    0.000000\n",
       "Leisure/Recreation                          -0.000000    0.000000\n",
       "Institutional Accommodation                 -0.000000    0.000000\n",
       "Information Pillar                           0.000000    0.000000\n",
       "year                                         0.000000    0.000000\n",
       "Bollard                                      4.159479    4.159479\n",
       "Performances, Conferences, Ceremonies        4.845250    4.845250\n",
       "Litter Bin                                   4.994454    4.994454\n",
       "Floral Crate/Planter Box                     8.248422    8.248422\n",
       "Public Display Area                          8.670559    8.670559\n",
       "Storage                                      8.816817    8.816817\n",
       "prev_year_counts                           362.902080  362.902080"
      ]
     },
     "execution_count": 35,
     "metadata": {},
     "output_type": "execute_result"
    }
   ],
   "source": [
    "# collect the model coefficients in a dataframe\n",
    "df_coef = pd.DataFrame(best_model.coef_, index=X_train.columns,\n",
    "                       columns=['coefficients'])\n",
    "# calculate the absolute values of the coefficients to gauge influence (show importance of predictor variables)\n",
    "df_coef['coef_abs'] = df_coef.coefficients.abs()\n",
    "\n",
    "df_coef.sort_values(by = 'coefficients')[-50:]"
   ]
  },
  {
   "cell_type": "code",
   "execution_count": 36,
   "metadata": {
    "ExecuteTime": {
     "end_time": "2020-05-17T18:31:53.588316Z",
     "start_time": "2020-05-17T18:31:53.335153Z"
    },
    "hidden": true
   },
   "outputs": [
    {
     "data": {
      "image/png": "[encoded data removed]",
      "text/plain": [
       "<Figure size 432x288 with 1 Axes>"
      ]
     },
     "metadata": {
      "needs_background": "light"
     },
     "output_type": "display_data"
    }
   ],
   "source": [
    "# 7 factors that have the greatest impact on predicting daily footfall counts\n",
    "df_coef['coefficients'].sort_values(ascending = False)[:7].plot(kind='barh');"
   ]
  },
  {
   "cell_type": "code",
   "execution_count": 30,
   "metadata": {
    "ExecuteTime": {
     "end_time": "2020-05-17T18:27:10.619147Z",
     "start_time": "2020-05-17T18:27:10.408327Z"
    },
    "hidden": true
   },
   "outputs": [
    {
     "data": {
      "image/png": "[encoded data removed]",
      "text/plain": [
       "<Figure size 432x288 with 1 Axes>"
      ]
     },
     "metadata": {
      "needs_background": "light"
     },
     "output_type": "display_data"
    }
   ],
   "source": [
    "# 5 factors that have least impact on hourly counts\n",
    "df_coef['coefficients'].sort_values(ascending = True)[:5].plot(kind='barh');"
   ]
  },
  {
   "cell_type": "code",
   "execution_count": 23,
   "metadata": {
    "ExecuteTime": {
     "end_time": "2020-05-17T18:24:02.752242Z",
     "start_time": "2020-05-17T18:24:02.026340Z"
    },
    "hidden": true
   },
   "outputs": [
    {
     "data": {
      "image/png": "[encoded data removed]",
      "text/plain": [
       "<Figure size 576x576 with 1 Axes>"
      ]
     },
     "metadata": {
      "needs_background": "light"
     },
     "output_type": "display_data"
    }
   ],
   "source": [
    "#predicted y values\n",
    "predictions = best_model.predict(X_test)\n",
    "\n",
    "#residuals (or error between predictions and actual)\n",
    "residuals = y_test - predictions\n",
    "\n",
    "# Plot predicted vs actual \n",
    "plt.figure(figsize=(8,8))\n",
    "plt.scatter(predictions, y_test, s=30, c='r', marker='+', zorder=10)\n",
    "plt.plot([y_test.min(), y_test.max()], [y_test.min(), y_test.max()], c='k', lw=2)\n",
    "plt.xlabel(\"Predicted Values - $\\hat{y}$\")\n",
    "plt.ylabel(\"Actual Values MEDV - y\")\n",
    "plt.show()"
   ]
  },
  {
   "cell_type": "markdown",
   "metadata": {
    "heading_collapsed": true
   },
   "source": [
    "### Decision Tree Regressor"
   ]
  },
  {
   "cell_type": "code",
   "execution_count": 23,
   "metadata": {
    "ExecuteTime": {
     "end_time": "2020-05-19T21:25:22.769611Z",
     "start_time": "2020-05-19T21:24:45.774100Z"
    },
    "hidden": true
   },
   "outputs": [
    {
     "name": "stdout",
     "output_type": "stream",
     "text": [
      "Fitting 5 folds for each of 60 candidates, totalling 300 fits\n"
     ]
    },
    {
     "name": "stderr",
     "output_type": "stream",
     "text": [
      "[Parallel(n_jobs=2)]: Using backend LokyBackend with 2 concurrent workers.\n",
      "[Parallel(n_jobs=2)]: Done  46 tasks      | elapsed:    5.8s\n",
      "[Parallel(n_jobs=2)]: Done 196 tasks      | elapsed:   24.5s\n"
     ]
    },
    {
     "name": "stdout",
     "output_type": "stream",
     "text": [
      "{'ccp_alpha': 0.006, 'max_depth': 10, 'max_features': None, 'min_samples_split': 50}\n"
     ]
    },
    {
     "name": "stderr",
     "output_type": "stream",
     "text": [
      "[Parallel(n_jobs=2)]: Done 300 out of 300 | elapsed:   36.8s finished\n"
     ]
    }
   ],
   "source": [
    "dtr_params = {\n",
    "    'max_depth': [10, 15, 20],\n",
    "    'max_features': [None],\n",
    "    'min_samples_split': [48, 50, 52, 60, 70],\n",
    "    'ccp_alpha': [0.004, 0.005, 0.006, 0.007]}\n",
    "\n",
    "# set the gridsearch\n",
    "model = DecisionTreeRegressor()\n",
    "\n",
    "dtr_gs = GridSearchCV(model, dtr_params, cv=5, verbose=1, n_jobs=2)\n",
    "dtr_gs.fit(X_train, y_train)\n",
    "print(dtr_gs.best_params_)\n",
    "best_model = dtr_gs.best_estimator_"
   ]
  },
  {
   "cell_type": "code",
   "execution_count": 24,
   "metadata": {
    "ExecuteTime": {
     "end_time": "2020-05-19T21:25:22.778252Z",
     "start_time": "2020-05-19T21:25:22.773423Z"
    },
    "hidden": true
   },
   "outputs": [],
   "source": [
    "#{'ccp_alpha': 0.005, 'max_depth': 10, 'max_features': None, 'min_samples_split': 50}\n",
    "# Training score:  0.9318641103420108\n",
    "# Test score:  0.7726691799695199\n",
    "# CV score:  0.7755289534003487"
   ]
  },
  {
   "cell_type": "code",
   "execution_count": 26,
   "metadata": {
    "ExecuteTime": {
     "end_time": "2020-05-19T21:27:10.154593Z",
     "start_time": "2020-05-19T21:27:09.390312Z"
    },
    "hidden": true
   },
   "outputs": [
    {
     "name": "stdout",
     "output_type": "stream",
     "text": [
      "Training score:  0.9318641103420108\n",
      "Test score:  0.7714581127741083\n",
      "CV score:  0.7668497986142154\n"
     ]
    }
   ],
   "source": [
    "print('Training score: ', best_model.score(X_train, y_train))\n",
    "print('Test score: ', best_model.score(X_test, y_test))\n",
    "print('CV score: ', (cross_val_score(best_model, X_train, y_train)).mean())"
   ]
  },
  {
   "cell_type": "markdown",
   "metadata": {
    "heading_collapsed": true
   },
   "source": [
    "### Ada Boost Regressor"
   ]
  },
  {
   "cell_type": "code",
   "execution_count": 21,
   "metadata": {
    "ExecuteTime": {
     "end_time": "2020-05-19T21:22:11.584145Z",
     "start_time": "2020-05-19T21:15:48.084537Z"
    },
    "hidden": true
   },
   "outputs": [
    {
     "name": "stdout",
     "output_type": "stream",
     "text": [
      "Fitting 5 folds for each of 5 candidates, totalling 25 fits\n"
     ]
    },
    {
     "name": "stderr",
     "output_type": "stream",
     "text": [
      "[Parallel(n_jobs=2)]: Using backend LokyBackend with 2 concurrent workers.\n",
      "[Parallel(n_jobs=2)]: Done  25 out of  25 | elapsed:  5.9min finished\n"
     ]
    },
    {
     "name": "stdout",
     "output_type": "stream",
     "text": [
      "{'learning_rate': 1.0, 'loss': 'square', 'n_estimators': 74}\n"
     ]
    }
   ],
   "source": [
    "base_estimator = DecisionTreeRegressor()\n",
    "\n",
    "params = {'n_estimators': [71, 72, 73, 74, 75], 'learning_rate': [1.0], #.001, .01, .1, .5, .8,\n",
    "         'loss': [ 'square' ]} #'linear','exponential'\n",
    "model = AdaBoostRegressor(base_estimator=base_estimator,\n",
    "                          random_state=1)\n",
    "\n",
    "ada_cv = GridSearchCV(model, params, cv=5, verbose=1, n_jobs=2)\n",
    "\n",
    "ada_cv.fit(X_train, y_train)\n",
    "print(ada_cv.best_params_)\n",
    "best_model = ada_cv.best_estimator_\n",
    "\n",
    "\n"
   ]
  },
  {
   "cell_type": "code",
   "execution_count": null,
   "metadata": {
    "hidden": true
   },
   "outputs": [],
   "source": [
    "#{'learning_rate': 1.0, 'loss': 'square', 'n_estimators': 70}\n",
    "# Training score:  0.998341276457725\n",
    "# Test score:  0.8285804223494496\n",
    "# CV score:  0.8396797711244777\n",
    "\n",
    "#{'learning_rate': 1.0, 'loss': 'square', 'n_estimators': 75}\n",
    "# Training score:  0.998290994561775\n",
    "# Test score:  0.8278697054392621\n",
    "# CV score:  0.840544556784628\n",
    "\n",
    "#{'learning_rate': 1.0, 'loss': 'square', 'n_estimators': 74}\n",
    "# Training score:  0.9983166566529816\n",
    "# Test score:  0.8275409714613514\n",
    "# CV score:  0.8405586581229854"
   ]
  },
  {
   "cell_type": "code",
   "execution_count": 22,
   "metadata": {
    "ExecuteTime": {
     "end_time": "2020-05-19T21:24:07.074759Z",
     "start_time": "2020-05-19T21:22:20.449952Z"
    },
    "hidden": true
   },
   "outputs": [
    {
     "name": "stdout",
     "output_type": "stream",
     "text": [
      "Training score:  0.9983166566529816\n",
      "Test score:  0.8275409714613514\n",
      "CV score:  0.8405586581229854\n"
     ]
    }
   ],
   "source": [
    "print('Training score: ', best_model.score(X_train, y_train))\n",
    "print('Test score: ', best_model.score(X_test, y_test))\n",
    "print('CV score: ', (cross_val_score(best_model, X_train, y_train)).mean())"
   ]
  },
  {
   "cell_type": "markdown",
   "metadata": {},
   "source": [
    "# Use all sensors to predict just 2018\n",
    "\n",
    "#### predict hourly counts with location, date and previous year's counts as predictors\n",
    "#### using all valid sensors from 2011-2018\n",
    "#### predict counts for 2018 with previous years as train data\n",
    "\n",
    "*best CV score = Ada Boost Regressor 0.874"
   ]
  },
  {
   "cell_type": "code",
   "execution_count": 98,
   "metadata": {
    "ExecuteTime": {
     "end_time": "2020-05-20T08:55:19.849647Z",
     "start_time": "2020-05-20T08:55:19.595255Z"
    }
   },
   "outputs": [],
   "source": [
    "train = pd.concat([all_sen_2012, all_sen_2013, all_sen_2014, all_sen_2015, all_sen_2016, all_sen_2017], axis = 0, sort = True)\n",
    "test = pd.concat([all_sen_2018], axis = 0, sort = True)\n",
    "\n",
    "#remove sensor_id from predictors\n",
    "\n",
    "train.pop('sensor_id')\n",
    "test.pop('sensor_id')\n",
    "\n",
    "X_train = train.copy()\n",
    "y_train = X_train.pop('daily_avg_counts')\n",
    "\n",
    "X_test = test.copy()\n",
    "y_test = X_test.pop('daily_avg_counts')"
   ]
  },
  {
   "cell_type": "markdown",
   "metadata": {
    "heading_collapsed": true
   },
   "source": [
    "### Ada Boost Regressor"
   ]
  },
  {
   "cell_type": "code",
   "execution_count": 101,
   "metadata": {
    "ExecuteTime": {
     "end_time": "2020-05-20T09:44:19.987274Z",
     "start_time": "2020-05-20T09:24:19.518476Z"
    },
    "hidden": true
   },
   "outputs": [
    {
     "name": "stdout",
     "output_type": "stream",
     "text": [
      "Fitting 5 folds for each of 9 candidates, totalling 45 fits\n"
     ]
    },
    {
     "name": "stderr",
     "output_type": "stream",
     "text": [
      "[Parallel(n_jobs=2)]: Using backend LokyBackend with 2 concurrent workers.\n",
      "[Parallel(n_jobs=2)]: Done  45 out of  45 | elapsed: 19.2min finished\n"
     ]
    },
    {
     "name": "stdout",
     "output_type": "stream",
     "text": [
      "{'learning_rate': 0.9, 'loss': 'square', 'n_estimators': 80}\n"
     ]
    }
   ],
   "source": [
    "base_estimator = DecisionTreeRegressor()\n",
    "\n",
    "params = {'n_estimators': [75, 80, 85], 'learning_rate': [0.85, 0.9, .95], 'loss': ['square']}\n",
    "model = AdaBoostRegressor(base_estimator=base_estimator,\n",
    "                          random_state=1)\n",
    "\n",
    "ada_cv = GridSearchCV(model, params, cv=5, verbose=1, n_jobs=2)\n",
    "\n",
    "ada_cv.fit(X_train, y_train)\n",
    "print(ada_cv.best_params_)\n",
    "best_model = ada_cv.best_estimator_\n",
    "\n"
   ]
  },
  {
   "cell_type": "code",
   "execution_count": null,
   "metadata": {
    "hidden": true
   },
   "outputs": [],
   "source": [
    "## with sensor id included\n",
    "\n",
    "#{'learning_rate': 1.0, 'loss': 'square', 'n_estimators': 71}\n",
    "# Training score:  0.9987605835914849\n",
    "# Test score:  0.8523777471089019\n",
    "# CV score:  0.8822139478108436\n",
    "\n",
    "#{'learning_rate': 1.0, 'loss': 'square', 'n_estimators': 60}\n",
    "# Training score:  0.9989029209378538\n",
    "# Test score:  0.8586228286379924\n",
    "# CV score:  0.8849978086354005\n",
    "\n",
    "##without sensor id included\n",
    "# {'learning_rate': 0.9, 'loss': 'square', 'n_estimators': 80}\n",
    "# Training score:  0.9994441664008715\n",
    "# Test score:  0.9031665569172646\n",
    "# CV score:  0.8743541418637856"
   ]
  },
  {
   "cell_type": "code",
   "execution_count": 105,
   "metadata": {
    "ExecuteTime": {
     "end_time": "2020-05-20T10:48:29.446870Z",
     "start_time": "2020-05-20T10:43:05.503388Z"
    },
    "hidden": true
   },
   "outputs": [
    {
     "name": "stdout",
     "output_type": "stream",
     "text": [
      "Training score:  0.9994441664008715\n",
      "Test score:  0.9031665569172646\n",
      "CV score:  0.8743541418637856\n"
     ]
    }
   ],
   "source": [
    "print('Training score: ', best_model.score(X_train, y_train))\n",
    "print('Test score: ', best_model.score(X_test, y_test))\n",
    "print('CV score: ', (cross_val_score(best_model, X_train, y_train)).mean())"
   ]
  },
  {
   "cell_type": "code",
   "execution_count": 106,
   "metadata": {
    "ExecuteTime": {
     "end_time": "2020-05-20T10:48:30.780103Z",
     "start_time": "2020-05-20T10:48:29.527288Z"
    },
    "hidden": true
   },
   "outputs": [],
   "source": [
    "predictions = best_model.predict(X_test)\n"
   ]
  },
  {
   "cell_type": "code",
   "execution_count": 107,
   "metadata": {
    "ExecuteTime": {
     "end_time": "2020-05-20T10:48:30.823387Z",
     "start_time": "2020-05-20T10:48:30.796974Z"
    },
    "hidden": true
   },
   "outputs": [
    {
     "data": {
      "text/plain": [
       "158.76326020224184"
      ]
     },
     "execution_count": 107,
     "metadata": {},
     "output_type": "execute_result"
    }
   ],
   "source": [
    "(mean_squared_error(y_test, predictions))**0.5"
   ]
  },
  {
   "cell_type": "code",
   "execution_count": 108,
   "metadata": {
    "ExecuteTime": {
     "end_time": "2020-05-20T10:48:31.002149Z",
     "start_time": "2020-05-20T10:48:30.887097Z"
    },
    "hidden": true
   },
   "outputs": [
    {
     "data": {
      "text/html": [
       "<div>\n",
       "<style scoped>\n",
       "    .dataframe tbody tr th:only-of-type {\n",
       "        vertical-align: middle;\n",
       "    }\n",
       "\n",
       "    .dataframe tbody tr th {\n",
       "        vertical-align: top;\n",
       "    }\n",
       "\n",
       "    .dataframe thead th {\n",
       "        text-align: right;\n",
       "    }\n",
       "</style>\n",
       "<table border=\"1\" class=\"dataframe\">\n",
       "  <thead>\n",
       "    <tr style=\"text-align: right;\">\n",
       "      <th></th>\n",
       "      <th>y_test</th>\n",
       "      <th>predictions</th>\n",
       "      <th>residuals</th>\n",
       "    </tr>\n",
       "  </thead>\n",
       "  <tbody>\n",
       "    <tr>\n",
       "      <td>0</td>\n",
       "      <td>1170.208333</td>\n",
       "      <td>722.458333</td>\n",
       "      <td>447.750000</td>\n",
       "    </tr>\n",
       "    <tr>\n",
       "      <td>1</td>\n",
       "      <td>1263.916667</td>\n",
       "      <td>982.541667</td>\n",
       "      <td>281.375000</td>\n",
       "    </tr>\n",
       "    <tr>\n",
       "      <td>2</td>\n",
       "      <td>1400.750000</td>\n",
       "      <td>1435.708333</td>\n",
       "      <td>-34.958333</td>\n",
       "    </tr>\n",
       "    <tr>\n",
       "      <td>3</td>\n",
       "      <td>1459.333333</td>\n",
       "      <td>1459.375000</td>\n",
       "      <td>-0.041667</td>\n",
       "    </tr>\n",
       "    <tr>\n",
       "      <td>4</td>\n",
       "      <td>1549.666667</td>\n",
       "      <td>1518.250000</td>\n",
       "      <td>31.416667</td>\n",
       "    </tr>\n",
       "    <tr>\n",
       "      <td>...</td>\n",
       "      <td>...</td>\n",
       "      <td>...</td>\n",
       "      <td>...</td>\n",
       "    </tr>\n",
       "    <tr>\n",
       "      <td>13393</td>\n",
       "      <td>639.041667</td>\n",
       "      <td>751.958333</td>\n",
       "      <td>-112.916667</td>\n",
       "    </tr>\n",
       "    <tr>\n",
       "      <td>13394</td>\n",
       "      <td>704.500000</td>\n",
       "      <td>812.833333</td>\n",
       "      <td>-108.333333</td>\n",
       "    </tr>\n",
       "    <tr>\n",
       "      <td>13395</td>\n",
       "      <td>608.375000</td>\n",
       "      <td>634.541667</td>\n",
       "      <td>-26.166667</td>\n",
       "    </tr>\n",
       "    <tr>\n",
       "      <td>13396</td>\n",
       "      <td>527.500000</td>\n",
       "      <td>592.125000</td>\n",
       "      <td>-64.625000</td>\n",
       "    </tr>\n",
       "    <tr>\n",
       "      <td>13397</td>\n",
       "      <td>669.625000</td>\n",
       "      <td>857.125000</td>\n",
       "      <td>-187.500000</td>\n",
       "    </tr>\n",
       "  </tbody>\n",
       "</table>\n",
       "<p>13398 rows × 3 columns</p>\n",
       "</div>"
      ],
      "text/plain": [
       "            y_test  predictions   residuals\n",
       "0      1170.208333   722.458333  447.750000\n",
       "1      1263.916667   982.541667  281.375000\n",
       "2      1400.750000  1435.708333  -34.958333\n",
       "3      1459.333333  1459.375000   -0.041667\n",
       "4      1549.666667  1518.250000   31.416667\n",
       "...            ...          ...         ...\n",
       "13393   639.041667   751.958333 -112.916667\n",
       "13394   704.500000   812.833333 -108.333333\n",
       "13395   608.375000   634.541667  -26.166667\n",
       "13396   527.500000   592.125000  -64.625000\n",
       "13397   669.625000   857.125000 -187.500000\n",
       "\n",
       "[13398 rows x 3 columns]"
      ]
     },
     "execution_count": 108,
     "metadata": {},
     "output_type": "execute_result"
    }
   ],
   "source": [
    "residuals_df = pd.DataFrame(predictions, y_test)\n",
    "residuals_df.reset_index(inplace = True)\n",
    "residuals_df.rename({'daily_avg_counts': 'y_test', 0: 'predictions'}, axis = 1, inplace = True)\n",
    "residuals_df['residuals'] = residuals_df.y_test - residuals_df.predictions\n",
    "residuals_df"
   ]
  },
  {
   "cell_type": "code",
   "execution_count": 109,
   "metadata": {
    "ExecuteTime": {
     "end_time": "2020-05-20T10:48:31.238129Z",
     "start_time": "2020-05-20T10:48:31.025494Z"
    },
    "hidden": true
   },
   "outputs": [],
   "source": [
    "fi = pd.DataFrame({\n",
    "    'feature': X_train.columns,\n",
    "    'importance': best_model.feature_importances_\n",
    "})\n",
    "\n",
    "fi.sort_values('importance', ascending=True, inplace=True)\n"
   ]
  },
  {
   "cell_type": "code",
   "execution_count": 110,
   "metadata": {
    "ExecuteTime": {
     "end_time": "2020-05-20T10:48:32.140468Z",
     "start_time": "2020-05-20T10:48:31.249877Z"
    },
    "hidden": true
   },
   "outputs": [
    {
     "data": {
      "text/plain": [
       "Text(0, 0.5, 'Feature')"
      ]
     },
     "execution_count": 110,
     "metadata": {},
     "output_type": "execute_result"
    },
    {
     "data": {
      "image/png": "[encoded data removed]",
      "text/plain": [
       "<Figure size 1152x864 with 1 Axes>"
      ]
     },
     "metadata": {},
     "output_type": "display_data"
    }
   ],
   "source": [
    "#sns.set_style('ticks')\n",
    "sns.set(font_scale = 2)\n",
    "fig, ax = plt.subplots()\n",
    "# the size of A4 paper\n",
    "fig.set_size_inches(16, 12)\n",
    "sns.barplot(x='importance', y='feature', data=fi[-15:], orient='h', palette = 'rocket', saturation=0.7)  \n",
    "ax.set_title(\"Feature Importance\", fontsize=40, y=1.01)\n",
    "ax.set_xlabel('Importance', fontsize = 30)\n",
    "ax.set_ylabel('Feature', fontsize = 30)"
   ]
  },
  {
   "cell_type": "code",
   "execution_count": 111,
   "metadata": {
    "ExecuteTime": {
     "end_time": "2020-05-20T10:48:38.418177Z",
     "start_time": "2020-05-20T10:48:32.157228Z"
    },
    "hidden": true
   },
   "outputs": [
    {
     "data": {
      "text/plain": [
       "Text(0, 0.5, 'Actual')"
      ]
     },
     "execution_count": 111,
     "metadata": {},
     "output_type": "execute_result"
    },
    {
     "data": {
      "image/png": "[encoded data removed]",
      "text/plain": [
       "<Figure size 1152x864 with 1 Axes>"
      ]
     },
     "metadata": {},
     "output_type": "display_data"
    }
   ],
   "source": [
    "#predicted y values\n",
    "predictions = best_model.predict(X_test)\n",
    "\n",
    "#residuals (or error between predictions and actual)\n",
    "residuals = y_test - predictions\n",
    "\n",
    "sns.axes_style(style='white')\n",
    "\n",
    "sns.set(font_scale = 2)\n",
    "fig, ax = plt.subplots()\n",
    "fig.set_size_inches(16, 12)\n",
    "ax = sns.regplot(x=\"predictions\", y=\"y_test\", data= residuals_df,  scatter_kws = {'color': 'lightsalmon'}, \n",
    "                 line_kws = {'color': 'darksalmon'})\n",
    "ax.set_xlabel('Predicted', fontsize = 30)\n",
    "ax.set_ylabel('Actual', fontsize = 30)\n"
   ]
  },
  {
   "cell_type": "code",
   "execution_count": null,
   "metadata": {
    "hidden": true
   },
   "outputs": [],
   "source": []
  },
  {
   "cell_type": "markdown",
   "metadata": {
    "heading_collapsed": true
   },
   "source": [
    "### Decision Tree Regressor"
   ]
  },
  {
   "cell_type": "code",
   "execution_count": 37,
   "metadata": {
    "ExecuteTime": {
     "end_time": "2020-05-19T23:13:34.810166Z",
     "start_time": "2020-05-19T23:10:00.283724Z"
    },
    "hidden": true
   },
   "outputs": [
    {
     "name": "stdout",
     "output_type": "stream",
     "text": [
      "Fitting 5 folds for each of 300 candidates, totalling 1500 fits\n"
     ]
    },
    {
     "name": "stderr",
     "output_type": "stream",
     "text": [
      "[Parallel(n_jobs=2)]: Using backend LokyBackend with 2 concurrent workers.\n",
      "[Parallel(n_jobs=2)]: Done  46 tasks      | elapsed:    5.0s\n",
      "[Parallel(n_jobs=2)]: Done 196 tasks      | elapsed:   24.9s\n",
      "[Parallel(n_jobs=2)]: Done 446 tasks      | elapsed:  1.0min\n",
      "[Parallel(n_jobs=2)]: Done 796 tasks      | elapsed:  1.9min\n",
      "[Parallel(n_jobs=2)]: Done 1246 tasks      | elapsed:  2.9min\n",
      "[Parallel(n_jobs=2)]: Done 1500 out of 1500 | elapsed:  3.6min finished\n"
     ]
    },
    {
     "name": "stdout",
     "output_type": "stream",
     "text": [
      "{'ccp_alpha': 0.005, 'max_depth': 10, 'max_features': None, 'min_samples_split': 70}\n"
     ]
    }
   ],
   "source": [
    "dtr_params = {\n",
    "    'max_depth': [5, 10, 15, 20,50],\n",
    "    'max_features': [10, 50, None],\n",
    "    'min_samples_split': [10, 20, 40, 50, 70],\n",
    "    'ccp_alpha': [0.001, 0.005, 0.01, 0.1]}\n",
    "\n",
    "# set the gridsearch\n",
    "model = DecisionTreeRegressor()\n",
    "\n",
    "dtr_gs = GridSearchCV(model, dtr_params, cv=5, verbose=1, n_jobs=2)\n",
    "dtr_gs.fit(X_train, y_train)\n",
    "print(dtr_gs.best_params_)\n",
    "best_model = dtr_gs.best_estimator_"
   ]
  },
  {
   "cell_type": "code",
   "execution_count": 38,
   "metadata": {
    "ExecuteTime": {
     "end_time": "2020-05-19T23:13:36.084924Z",
     "start_time": "2020-05-19T23:13:34.814117Z"
    },
    "hidden": true
   },
   "outputs": [
    {
     "name": "stdout",
     "output_type": "stream",
     "text": [
      "Training score:  0.9267420084089457\n",
      "Test score:  0.7624814399889087\n",
      "CV score:  0.849740484551322\n"
     ]
    }
   ],
   "source": [
    "print('Training score: ', best_model.score(X_train, y_train))\n",
    "print('Test score: ', best_model.score(X_test, y_test))\n",
    "print('CV score: ', (cross_val_score(best_model, X_train, y_train)).mean())"
   ]
  },
  {
   "cell_type": "code",
   "execution_count": null,
   "metadata": {
    "hidden": true
   },
   "outputs": [],
   "source": []
  }
 ],
 "metadata": {
  "hide_input": false,
  "kernelspec": {
   "display_name": "Python 3 (ipykernel)",
   "language": "python",
   "name": "python3"
  },
  "language_info": {
   "codemirror_mode": {
    "name": "ipython",
    "version": 3
   },
   "file_extension": ".py",
   "mimetype": "text/x-python",
   "name": "python",
   "nbconvert_exporter": "python",
   "pygments_lexer": "ipython3",
   "version": "3.7.13"
  }
 },
 "nbformat": 4,
 "nbformat_minor": 2
}
