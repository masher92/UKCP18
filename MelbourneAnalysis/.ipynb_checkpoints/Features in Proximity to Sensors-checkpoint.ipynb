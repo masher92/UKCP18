{
 "cells": [
  {
   "cell_type": "code",
   "execution_count": 2,
   "metadata": {
    "ExecuteTime": {
     "end_time": "2020-05-20T14:51:19.467890Z",
     "start_time": "2020-05-20T14:51:17.926847Z"
    }
   },
   "outputs": [],
   "source": [
    "import pandas as pd\n",
    "import geopandas as gpd\n",
    "from IPython.display import Image\n",
    "from shapely.geometry import Point, Polygon"
   ]
  },
  {
   "cell_type": "markdown",
   "metadata": {},
   "source": [
    "### Functions"
   ]
  },
  {
   "cell_type": "code",
   "execution_count": 3,
   "metadata": {
    "ExecuteTime": {
     "end_time": "2020-05-20T14:51:25.829644Z",
     "start_time": "2020-05-20T14:51:25.823261Z"
    }
   },
   "outputs": [],
   "source": [
    "#turn dataframe into geodataframe\n",
    "def create_gdf(df, x='Longitude', y='Latitude'):\n",
    "    gdf = gpd.GeoDataFrame(df, geometry=gpd.points_from_xy(df[x], df[y]))\n",
    "    gdf.set_crs(epsg=4326, inplace=True)\n",
    "    return gdf"
   ]
  },
  {
   "cell_type": "markdown",
   "metadata": {},
   "source": [
    "# Sensors"
   ]
  },
  {
   "cell_type": "code",
   "execution_count": 4,
   "metadata": {
    "ExecuteTime": {
     "end_time": "2020-05-20T14:51:30.725848Z",
     "start_time": "2020-05-20T14:51:30.706229Z"
    }
   },
   "outputs": [],
   "source": [
    "sensors = pd.read_csv('Data/melbourne_locations.csv')\n",
    "# Image(filename = './visuals/sensor map.png')"
   ]
  },
  {
   "cell_type": "markdown",
   "metadata": {},
   "source": [
    "## Create geo dataframe & make a radius around each point"
   ]
  },
  {
   "cell_type": "code",
   "execution_count": 5,
   "metadata": {
    "ExecuteTime": {
     "end_time": "2020-05-20T14:51:32.438664Z",
     "start_time": "2020-05-20T14:51:32.352395Z"
    }
   },
   "outputs": [],
   "source": [
    "sensors_gdf = create_gdf(sensors)"
   ]
  },
  {
   "cell_type": "code",
   "execution_count": 6,
   "metadata": {
    "ExecuteTime": {
     "end_time": "2020-05-20T14:51:34.570519Z",
     "start_time": "2020-05-20T14:51:34.497761Z"
    }
   },
   "outputs": [],
   "source": [
    "# Convert to projected coordinate system otherwise it throws an error (think this is correct projected coordinate\n",
    "# system for Australia)\n",
    "sensors_gdf.to_crs(crs=3577, inplace = True) \n",
    "\n",
    "# Draw a buffer around each sensor in metres\n",
    "sensors_gdf['polygon'] = sensors_gdf.geometry.buffer(100)"
   ]
  },
  {
   "cell_type": "markdown",
   "metadata": {},
   "source": [
    "### Create geodf that just has each sensor with their point and surrounding radius coordinates"
   ]
  },
  {
   "cell_type": "code",
   "execution_count": 7,
   "metadata": {
    "ExecuteTime": {
     "end_time": "2020-05-20T14:51:36.548734Z",
     "start_time": "2020-05-20T14:51:36.527924Z"
    }
   },
   "outputs": [],
   "source": [
    "sensor_radius = sensors_gdf[['sensor_id', 'geometry', 'polygon']]"
   ]
  },
  {
   "cell_type": "markdown",
   "metadata": {},
   "source": [
    "# Buildings"
   ]
  },
  {
   "cell_type": "code",
   "execution_count": 8,
   "metadata": {
    "ExecuteTime": {
     "end_time": "2020-05-20T14:51:37.498686Z",
     "start_time": "2020-05-20T14:51:37.355876Z"
    }
   },
   "outputs": [],
   "source": [
    "buildings = pd.read_csv('Cleaned_data/buildings_clean.csv')\n",
    "building_gdf = create_gdf(buildings)\n",
    "building_gdf.to_crs(crs=3577, inplace = True) \n",
    "# Image(filename = './visuals/2018 building use.png')"
   ]
  },
  {
   "cell_type": "markdown",
   "metadata": {},
   "source": [
    "## Find the buildings within the 'proximity' of each sensor, in a particular year"
   ]
  },
  {
   "cell_type": "code",
   "execution_count": 29,
   "metadata": {
    "ExecuteTime": {
     "end_time": "2020-05-20T14:51:38.929923Z",
     "start_time": "2020-05-20T14:51:38.899518Z"
    }
   },
   "outputs": [
    {
     "name": "stdout",
     "output_type": "stream",
     "text": [
      "30 buildings in proximity to sensor 1 in 2020\n"
     ]
    }
   ],
   "source": [
    "def buildings_locations(sensor_num, year):\n",
    "\n",
    "    # Get buildings data for this year\n",
    "    buildings_this_year = building_gdf[building_gdf.year == year].copy()\n",
    "    buildings_this_year.reset_index(inplace=True, drop = True)\n",
    "\n",
    "    # Get geodataframe from just this sensor\n",
    "    gdf = sensors_gdf[sensors_gdf.sensor_id == sensor_num]\n",
    "    gdf.reset_index(inplace = True, drop = True)\n",
    "\n",
    "    # Initiate lists to contain the coordinates, uses, nfloors of all buildings within the proximity of this sensor\n",
    "    building_coord = []\n",
    "    building_use = []\n",
    "    n_floors = []\n",
    "\n",
    "    # Loop through all the buildings present in the census in the specified year\n",
    "    for index, building in buildings_this_year.iterrows():\n",
    "        # Get the building's locatio as a tuple\n",
    "        building_loc = building.geometry\n",
    "        if gdf['polygon'][0].contains(building_loc):\n",
    "            # Add the buildings coordinates/use/nfloors to list of coordinates\n",
    "            building_coord.append((building['Latitude'],building['Longitude']))\n",
    "            # building_coord.append(building_loc)\n",
    "            building_use.append(building['building_use'])\n",
    "            n_floors.append(building['access_rating'])\n",
    "            \n",
    "    print (len(building_coord) , 'buildings in proximity to sensor {} in {}'.format(sensor_num, year))\n",
    "    return building_coord\n",
    "    \n",
    "nearby_building_coords = buildings_locations(1,2020)"
   ]
  },
  {
   "cell_type": "code",
   "execution_count": 49,
   "metadata": {},
   "outputs": [
    {
     "name": "stdout",
     "output_type": "stream",
     "text": [
      "30 buildings in proximity to sensor 1 in 2015\n"
     ]
    },
    {
     "data": {
      "text/plain": [
       "[((-37.8128, 144.9656), 'Entertainment/Recreation - Indoor', 3.0),\n",
       " ((-37.8128, 144.965), 'Retail - Shop', 1.0),\n",
       " ((-37.8136, 144.9661), 'Office', 3.0),\n",
       " ((-37.8133, 144.9651), 'Retail - Shop', 3.0),\n",
       " ((-37.8138, 144.9661), 'Office', 3.0),\n",
       " ((-37.8134, 144.9651), 'Retail - Shop', 3.0),\n",
       " ((-37.8142, 144.9656), 'Retail - Shop', 1.0),\n",
       " ((-37.8128, 144.965), 'Entertainment/Recreation - Indoor', 1.0),\n",
       " ((-37.8128, 144.9656), 'Retail - Shop', 3.0),\n",
       " ((-37.8129, 144.9646), 'Commercial Accommodation', 3.0),\n",
       " ((-37.8139, 144.9655), 'Unoccupied - Unused', 3.0),\n",
       " ((-37.8134, 144.9653), 'Retail - Shop', 1.0),\n",
       " ((-37.8134, 144.9652), 'Retail - Shop', 3.0),\n",
       " ((-37.8139, 144.9654), 'Retail - Shop', 2.0),\n",
       " ((-37.8141, 144.9656), 'Storage', 3.0),\n",
       " ((-37.8138, 144.9661), 'Unoccupied - Unused', 3.0),\n",
       " ((-37.8133, 144.9644), 'Retail - Shop', 3.0),\n",
       " ((-37.8129, 144.9656), 'Retail - Shop', 2.0),\n",
       " ((-37.8141, 144.9656), 'Storage', 3.0),\n",
       " ((-37.8127, 144.9656), 'Retail - Shop', 1.0),\n",
       " ((-37.8129, 144.965), 'Unoccupied - Unused', 1.0),\n",
       " ((-37.8142, 144.9652), 'Retail - Shop', 3.0),\n",
       " ((-37.8129, 144.9658), 'Office', 3.0),\n",
       " ((-37.8137, 144.966), 'Retail - Shop', 3.0),\n",
       " ((-37.8137, 144.966), 'Storage', 3.0),\n",
       " ((-37.8127, 144.965), 'Retail - Shop', 1.0),\n",
       " ((-37.8128, 144.9656), 'Residential Apartment', 3.0),\n",
       " ((-37.814, 144.9656), 'Storage', 3.0),\n",
       " ((-37.8133, 144.9648), 'Retail - Shop', 3.0),\n",
       " ((-37.8131, 144.965), 'Commercial Accommodation', 3.0)]"
      ]
     },
     "execution_count": 49,
     "metadata": {},
     "output_type": "execute_result"
    }
   ],
   "source": [
    "\n",
    "# Get buildings data for this year\n",
    "buildings_this_year = building_gdf[building_gdf.year == year].copy()\n",
    "buildings_this_year.reset_index(inplace=True, drop = True)\n",
    "\n",
    "# Get geodataframe from just this sensor\n",
    "gdf = sensors_gdf[sensors_gdf.sensor_id == sensor_num]\n",
    "gdf.reset_index(inplace = True, drop = True)\n",
    "\n",
    "# Initiate lists to contain the coordinates, uses, nfloors of all buildings within the proximity of this sensor\n",
    "building_coord = []\n",
    "building_use = []\n",
    "n_floors = []\n",
    "\n",
    "# Loop through all the buildings present in the census in the specified year\n",
    "for index, building in buildings_this_year.iterrows():\n",
    "    # Get the building's locatio as a tuple\n",
    "    building_loc = building.geometry\n",
    "    if gdf['polygon'][0].contains(building_loc):\n",
    "        # Add the buildings coordinates/use/nfloors to list of coordinates\n",
    "        building_coord.append((building['Latitude'],building['Longitude']))\n",
    "        # building_coord.append(building_loc)\n",
    "        building_use.append(building['building_use'])\n",
    "        n_floors.append(building['access_rating'])\n",
    "\n",
    "print (len(building_coord) , 'buildings in proximity to sensor {} in {}'.format(sensor_num, year))\n",
    "zipped_sensor = list(zip(building_coord, building_use, n_floors))\n",
    "zipped_sensor"
   ]
  },
  {
   "cell_type": "code",
   "execution_count": 52,
   "metadata": {},
   "outputs": [
    {
     "data": {
      "text/plain": [
       "<pandas.core.groupby.generic.DataFrameGroupBy object at 0x7fd26c4820d0>"
      ]
     },
     "execution_count": 52,
     "metadata": {},
     "output_type": "execute_result"
    }
   ],
   "source": [
    "zipped_sensor = list(zip(building_coord, building_use, n_floors))\n",
    "df_zip = pd.DataFrame(zipped_sensor, columns = ['point', 'building_use', 'n_floors'])\n",
    "# group = df_zip.groupby('building_use').agg({'n_floors': 'mean', 'building_use': 'count'})\n",
    "# transform_group = group.T\n",
    "# transform_group\n",
    "df_zip.groupby('building_use')"
   ]
  },
  {
   "cell_type": "code",
   "execution_count": 51,
   "metadata": {},
   "outputs": [
    {
     "data": {
      "text/html": [
       "<div>\n",
       "<style scoped>\n",
       "    .dataframe tbody tr th:only-of-type {\n",
       "        vertical-align: middle;\n",
       "    }\n",
       "\n",
       "    .dataframe tbody tr th {\n",
       "        vertical-align: top;\n",
       "    }\n",
       "\n",
       "    .dataframe thead th {\n",
       "        text-align: right;\n",
       "    }\n",
       "</style>\n",
       "<table border=\"1\" class=\"dataframe\">\n",
       "  <thead>\n",
       "    <tr style=\"text-align: right;\">\n",
       "      <th></th>\n",
       "      <th>House/Townhouse</th>\n",
       "      <th>Residential Apartment</th>\n",
       "      <th>Transport</th>\n",
       "      <th>Unoccupied - Under Construction</th>\n",
       "      <th>Storage</th>\n",
       "      <th>Office</th>\n",
       "      <th>Unoccupied - Unused</th>\n",
       "      <th>Entertainment/Recreation - Indoor</th>\n",
       "      <th>Equipment Installation</th>\n",
       "      <th>Retail - Shop</th>\n",
       "      <th>...</th>\n",
       "      <th>i</th>\n",
       "      <th>l</th>\n",
       "      <th>m</th>\n",
       "      <th>n</th>\n",
       "      <th>o</th>\n",
       "      <th>p</th>\n",
       "      <th>r</th>\n",
       "      <th>t</th>\n",
       "      <th>u</th>\n",
       "      <th>avg_n_floors</th>\n",
       "    </tr>\n",
       "    <tr>\n",
       "      <th>sensor_id</th>\n",
       "      <th></th>\n",
       "      <th></th>\n",
       "      <th></th>\n",
       "      <th></th>\n",
       "      <th></th>\n",
       "      <th></th>\n",
       "      <th></th>\n",
       "      <th></th>\n",
       "      <th></th>\n",
       "      <th></th>\n",
       "      <th></th>\n",
       "      <th></th>\n",
       "      <th></th>\n",
       "      <th></th>\n",
       "      <th></th>\n",
       "      <th></th>\n",
       "      <th></th>\n",
       "      <th></th>\n",
       "      <th></th>\n",
       "      <th></th>\n",
       "      <th></th>\n",
       "    </tr>\n",
       "  </thead>\n",
       "  <tbody>\n",
       "    <tr>\n",
       "      <th>1</th>\n",
       "      <td>0.0</td>\n",
       "      <td>0.0</td>\n",
       "      <td>0.0</td>\n",
       "      <td>0.0</td>\n",
       "      <td>0.0</td>\n",
       "      <td>0.0</td>\n",
       "      <td>0.0</td>\n",
       "      <td>0.0</td>\n",
       "      <td>0.0</td>\n",
       "      <td>0.0</td>\n",
       "      <td>...</td>\n",
       "      <td>3.0</td>\n",
       "      <td>1.0</td>\n",
       "      <td>1.0</td>\n",
       "      <td>3.0</td>\n",
       "      <td>3.0</td>\n",
       "      <td>1.0</td>\n",
       "      <td>1.0</td>\n",
       "      <td>1.0</td>\n",
       "      <td>1.0</td>\n",
       "      <td>2.25</td>\n",
       "    </tr>\n",
       "  </tbody>\n",
       "</table>\n",
       "<p>1 rows × 46 columns</p>\n",
       "</div>"
      ],
      "text/plain": [
       "0          House/Townhouse  Residential Apartment  Transport  \\\n",
       "sensor_id                                                      \n",
       "1                      0.0                    0.0        0.0   \n",
       "\n",
       "0          Unoccupied - Under Construction  Storage  Office  \\\n",
       "sensor_id                                                     \n",
       "1                                      0.0      0.0     0.0   \n",
       "\n",
       "0          Unoccupied - Unused  Entertainment/Recreation - Indoor  \\\n",
       "sensor_id                                                           \n",
       "1                          0.0                                0.0   \n",
       "\n",
       "0          Equipment Installation  Retail - Shop  ...    i    l    m    n  \\\n",
       "sensor_id                                         ...                       \n",
       "1                             0.0            0.0  ...  3.0  1.0  1.0  3.0   \n",
       "\n",
       "0            o    p    r    t    u  avg_n_floors  \n",
       "sensor_id                                         \n",
       "1          3.0  1.0  1.0  1.0  1.0          2.25  \n",
       "\n",
       "[1 rows x 46 columns]"
      ]
     },
     "execution_count": 51,
     "metadata": {},
     "output_type": "execute_result"
    }
   ],
   "source": [
    "sensor_num =1\n",
    "# If there are some buildings close by\n",
    "if len(building_coord) > 0: \n",
    "    # Dictionary to store the number of each building use type\n",
    "    dicts = {}\n",
    "    #\n",
    "    for building_use in buildings.building_use.unique():\n",
    "        dicts[building_use] = 0\n",
    "\n",
    "    zipped_sensor = list(zip(building_coord, building_use, n_floors))\n",
    "    df_zip = pd.DataFrame(zipped_sensor, columns = ['point', 'building_use', 'n_floors'])\n",
    "    group = df_zip.groupby('building_use').agg({'n_floors': 'mean', 'building_use': 'count'})\n",
    "    transform_group = group.T\n",
    "\n",
    "    #add column with sensor number\n",
    "    transform_group['sensor_id'] = sensor_num\n",
    "\n",
    "    #add average number of floors as a column         \n",
    "    transform_group['mean'] = transform_group.mean(axis = 1)\n",
    "    transform_group['mean'] = transform_group['mean'].shift(1)\n",
    "    transform_group.drop(['n_floors'], axis = 0, inplace = True)\n",
    "    transform_group.rename(columns = {'mean': 'avg_n_floors'}, inplace = True)\n",
    "\n",
    "    for col in transform_group.columns:\n",
    "        dicts[col] = transform_group[col][0]\n",
    "\n",
    "    df = pd.DataFrame(dicts.items())\n",
    "    df.set_index(df.columns[0], inplace = True)\n",
    "    new_df = df.T\n",
    "    new_df['avg_n_floors'] = transform_group.avg_n_floors[0]\n",
    "    new_df['sensor_id'] = sensor_num\n",
    "    new_df.set_index('sensor_id', inplace = True)\n",
    "\n",
    "else:\n",
    "    dicts = {}\n",
    "    for x in buildings.building_use.unique():\n",
    "        dicts[x] = 0\n",
    "    df = pd.DataFrame(dicts.items())\n",
    "    df.set_index(df.columns[0], inplace = True)\n",
    "    new_df = df.T\n",
    "    new_df['avg_n_floors'] = 0\n",
    "    new_df['sensor_id'] = sensor_num\n",
    "    new_df.set_index('sensor_id', inplace = True)\n",
    "new_df    "
   ]
  },
  {
   "cell_type": "markdown",
   "metadata": {},
   "source": [
    "### create dataframe of all location points connected with sensor id"
   ]
  },
  {
   "cell_type": "code",
   "execution_count": 53,
   "metadata": {
    "ExecuteTime": {
     "end_time": "2020-05-20T14:53:01.820456Z",
     "start_time": "2020-05-20T14:51:46.297959Z"
    }
   },
   "outputs": [
    {
     "ename": "NameError",
     "evalue": "name 'buildings_per_year' is not defined",
     "output_type": "error",
     "traceback": [
      "\u001b[0;31m---------------------------------------------------------------------------\u001b[0m",
      "\u001b[0;31mNameError\u001b[0m                                 Traceback (most recent call last)",
      "\u001b[0;32m/tmp/ipykernel_332907/1077628040.py\u001b[0m in \u001b[0;36m<module>\u001b[0;34m\u001b[0m\n\u001b[1;32m      1\u001b[0m \u001b[0msensor_building_points\u001b[0m \u001b[0;34m=\u001b[0m \u001b[0mpd\u001b[0m\u001b[0;34m.\u001b[0m\u001b[0mDataFrame\u001b[0m\u001b[0;34m(\u001b[0m\u001b[0;34m[\u001b[0m\u001b[0;34m]\u001b[0m\u001b[0;34m)\u001b[0m\u001b[0;34m\u001b[0m\u001b[0;34m\u001b[0m\u001b[0m\n\u001b[1;32m      2\u001b[0m \u001b[0;32mfor\u001b[0m \u001b[0mx\u001b[0m \u001b[0;32min\u001b[0m \u001b[0msensors_gdf\u001b[0m\u001b[0;34m.\u001b[0m\u001b[0msensor_id\u001b[0m\u001b[0;34m.\u001b[0m\u001b[0munique\u001b[0m\u001b[0;34m(\u001b[0m\u001b[0;34m)\u001b[0m\u001b[0;34m:\u001b[0m\u001b[0;34m\u001b[0m\u001b[0;34m\u001b[0m\u001b[0m\n\u001b[0;32m----> 3\u001b[0;31m     \u001b[0msensor_points\u001b[0m \u001b[0;34m=\u001b[0m \u001b[0mbuildings_locations\u001b[0m\u001b[0;34m(\u001b[0m\u001b[0mx\u001b[0m\u001b[0;34m,\u001b[0m \u001b[0mbuildings_per_year\u001b[0m\u001b[0;34m(\u001b[0m\u001b[0;36m2018\u001b[0m\u001b[0;34m)\u001b[0m\u001b[0;34m)\u001b[0m\u001b[0;34m\u001b[0m\u001b[0;34m\u001b[0m\u001b[0m\n\u001b[0m\u001b[1;32m      4\u001b[0m     \u001b[0msensor_points\u001b[0m\u001b[0;34m[\u001b[0m\u001b[0;34m'sensor_id'\u001b[0m\u001b[0;34m]\u001b[0m \u001b[0;34m=\u001b[0m \u001b[0mx\u001b[0m\u001b[0;34m\u001b[0m\u001b[0;34m\u001b[0m\u001b[0m\n\u001b[1;32m      5\u001b[0m     \u001b[0msensor_building_points\u001b[0m \u001b[0;34m=\u001b[0m \u001b[0msensor_building_points\u001b[0m\u001b[0;34m.\u001b[0m\u001b[0mappend\u001b[0m\u001b[0;34m(\u001b[0m\u001b[0msensor_points\u001b[0m\u001b[0;34m)\u001b[0m\u001b[0;34m\u001b[0m\u001b[0;34m\u001b[0m\u001b[0m\n",
      "\u001b[0;31mNameError\u001b[0m: name 'buildings_per_year' is not defined"
     ]
    }
   ],
   "source": [
    "sensor_building_points = pd.DataFrame([])\n",
    "for x in sensors_gdf.sensor_id.unique():\n",
    "    sensor_points = buildings_locations(x, buildings_per_year(2018))\n",
    "    sensor_points['sensor_id'] = x\n",
    "    sensor_building_points = sensor_building_points.append(sensor_points)"
   ]
  },
  {
   "cell_type": "code",
   "execution_count": null,
   "metadata": {
    "ExecuteTime": {
     "end_time": "2020-05-20T14:53:01.887850Z",
     "start_time": "2020-05-20T14:53:01.824310Z"
    }
   },
   "outputs": [],
   "source": [
    "sensor_building_points.to_csv('./location features/features with locations/building_points_2018.csv', header = sensor_building_points.columns, index=False)"
   ]
  },
  {
   "cell_type": "markdown",
   "metadata": {},
   "source": [
    "### list number of different building types and average number of floors in sensor's radius"
   ]
  },
  {
   "cell_type": "code",
   "execution_count": null,
   "metadata": {
    "ExecuteTime": {
     "end_time": "2020-05-20T13:01:28.992148Z",
     "start_time": "2020-05-20T13:01:28.970029Z"
    }
   },
   "outputs": [],
   "source": [
    "#for finding number of different categories of buildings\n",
    "def buildings_in_radius(sensor_num, buildings_per_year):\n",
    "    building_coord = []\n",
    "    building_use = []\n",
    "    n_floors = []\n",
    "    gdf = sensors_gdf[sensors_gdf.sensor_id == sensor_num]\n",
    "    for x in buildings_per_year:\n",
    "        for geo in gdf['polygon']:\n",
    "            if geo.contains(x[2]):\n",
    "                building_coord.append(x[2])\n",
    "                building_use.append(x[1])\n",
    "                n_floors.append(x[0])\n",
    "                \n",
    "    if len(building_coord) > 0: \n",
    "        dicts = {}\n",
    "        for x in buildings.building_use.unique():\n",
    "            dicts[x] = 0\n",
    "           \n",
    "        zipped_sensor = list(zip(building_coord, building_use, n_floors))\n",
    "        df_zip = pd.DataFrame(zipped_sensor, columns = ['point', 'building_use', 'n_floors'])\n",
    "        group = df_zip.groupby('building_use').agg({'n_floors': 'mean', 'building_use': 'count'})\n",
    "        transform_group = group.T\n",
    "        \n",
    "        #add column with sensor number\n",
    "        transform_group['sensor_id'] = sensor_num\n",
    "        \n",
    "        #add average number of floors as a column         \n",
    "        transform_group['mean'] = transform_group.mean(axis = 1)\n",
    "        transform_group['mean'] = transform_group['mean'].shift(1)\n",
    "        transform_group.drop(['n_floors'], axis = 0, inplace = True)\n",
    "        transform_group.rename(columns = {'mean': 'avg_n_floors'}, inplace = True)\n",
    "        \n",
    "        for col in transform_group.columns:\n",
    "            dicts[col] = transform_group[col][0]\n",
    "            \n",
    "        df = pd.DataFrame(dicts.items())\n",
    "        df.set_index(df.columns[0], inplace = True)\n",
    "        new_df = df.T\n",
    "        new_df['avg_n_floors'] = transform_group.avg_n_floors[0]\n",
    "        new_df['sensor_id'] = sensor_num\n",
    "        new_df.set_index('sensor_id', inplace = True)\n",
    "        return new_df\n",
    "    \n",
    "    else:\n",
    "        dicts = {}\n",
    "        for x in buildings.building_use.unique():\n",
    "            dicts[x] = 0\n",
    "        df = pd.DataFrame(dicts.items())\n",
    "        df.set_index(df.columns[0], inplace = True)\n",
    "        new_df = df.T\n",
    "        new_df['avg_n_floors'] = 0\n",
    "        new_df['sensor_id'] = sensor_num\n",
    "        new_df.set_index('sensor_id', inplace = True)\n",
    "        return new_df"
   ]
  },
  {
   "cell_type": "code",
   "execution_count": null,
   "metadata": {
    "ExecuteTime": {
     "end_time": "2020-05-20T13:01:48.637753Z",
     "start_time": "2020-05-20T13:01:47.580222Z"
    }
   },
   "outputs": [],
   "source": [
    "buildings_in_radius(2, buildings_per_year(2011))"
   ]
  },
  {
   "cell_type": "markdown",
   "metadata": {
    "heading_collapsed": true
   },
   "source": [
    "# Bikes"
   ]
  },
  {
   "cell_type": "code",
   "execution_count": null,
   "metadata": {
    "ExecuteTime": {
     "end_time": "2020-05-20T11:04:24.035151Z",
     "start_time": "2020-05-20T11:04:24.008050Z"
    },
    "hidden": true
   },
   "outputs": [],
   "source": [
    "bike = pd.read_csv('./cleaned datasets/bikes_clean.csv')\n",
    "Image(filename = './visuals/bike map.png')"
   ]
  },
  {
   "cell_type": "markdown",
   "metadata": {
    "heading_collapsed": true,
    "hidden": true
   },
   "source": [
    "## make geo dataframe"
   ]
  },
  {
   "cell_type": "code",
   "execution_count": null,
   "metadata": {
    "ExecuteTime": {
     "end_time": "2020-05-20T11:26:48.455479Z",
     "start_time": "2020-05-20T11:26:48.375390Z"
    },
    "hidden": true
   },
   "outputs": [],
   "source": [
    "bike_gdf = create_gdf(bike)\n",
    "bike_gdf.head()"
   ]
  },
  {
   "cell_type": "markdown",
   "metadata": {
    "hidden": true
   },
   "source": [
    "## get location of light feature coordinates in a specific sensor's radius"
   ]
  },
  {
   "cell_type": "markdown",
   "metadata": {
    "ExecuteTime": {
     "end_time": "2020-05-20T11:19:18.468197Z",
     "start_time": "2020-05-20T11:19:18.445472Z"
    },
    "hidden": true
   },
   "source": [
    "### returns dataframe with latitude and longitude points of light sources in a specified sensor's radius"
   ]
  },
  {
   "cell_type": "code",
   "execution_count": null,
   "metadata": {
    "ExecuteTime": {
     "end_time": "2020-05-20T11:27:42.679336Z",
     "start_time": "2020-05-20T11:27:42.667582Z"
    },
    "hidden": true
   },
   "outputs": [],
   "source": [
    "def bike_locations(sensor_num):\n",
    "    gdf = sensors_gdf[sensors_gdf.sensor_id == sensor_num]\n",
    "    sen_bikes = []\n",
    "    for point in bike_gdf.geometry:\n",
    "        for geo in gdf['polygon']:\n",
    "            if geo.contains(point):\n",
    "                sen_bikes.append(list(point.coords))\n",
    "    bike_loc = [x[0] for x in sen_bikes]\n",
    "    sensor_bikes = pd.DataFrame({'latitude': [x[0] for x in bike_loc], 'longitude': [x[1] for x in bike_loc]})\n",
    "    return sensor_bikes"
   ]
  },
  {
   "cell_type": "code",
   "execution_count": null,
   "metadata": {
    "ExecuteTime": {
     "end_time": "2020-05-20T11:27:45.822608Z",
     "start_time": "2020-05-20T11:27:45.798341Z"
    },
    "hidden": true
   },
   "outputs": [],
   "source": [
    "bike_locations(3)"
   ]
  },
  {
   "cell_type": "markdown",
   "metadata": {
    "hidden": true
   },
   "source": [
    "### create dataframe of all location points connected with sensor id"
   ]
  },
  {
   "cell_type": "code",
   "execution_count": null,
   "metadata": {
    "ExecuteTime": {
     "end_time": "2020-05-20T14:32:35.019475Z",
     "start_time": "2020-05-20T14:32:34.625852Z"
    },
    "hidden": true
   },
   "outputs": [],
   "source": [
    "sensor_bike_points = pd.DataFrame([])\n",
    "for x in sensors_gdf.sensor_id.unique():\n",
    "    sensor_points = bike_locations(x)\n",
    "    sensor_points['sensor_id'] = x\n",
    "    sensor_bike_points = sensor_bike_points.append(sensor_points)"
   ]
  },
  {
   "cell_type": "code",
   "execution_count": null,
   "metadata": {
    "ExecuteTime": {
     "end_time": "2020-05-20T14:32:35.038419Z",
     "start_time": "2020-05-20T14:32:35.023825Z"
    },
    "hidden": true
   },
   "outputs": [],
   "source": [
    "sensor_bike_points.to_csv('./location features/features with locations/bike_points.csv', header = sensor_bike_points.columns, index=False)"
   ]
  },
  {
   "cell_type": "code",
   "execution_count": null,
   "metadata": {
    "hidden": true
   },
   "outputs": [],
   "source": []
  },
  {
   "cell_type": "markdown",
   "metadata": {
    "hidden": true
   },
   "source": [
    "### List the number of lights in a sensor's radius"
   ]
  },
  {
   "cell_type": "code",
   "execution_count": null,
   "metadata": {
    "ExecuteTime": {
     "end_time": "2020-05-20T11:28:03.627198Z",
     "start_time": "2020-05-20T11:28:03.280129Z"
    },
    "hidden": true
   },
   "outputs": [],
   "source": [
    "bikes_dict = {}\n",
    "keys = sensors.sensor_id.unique()\n",
    "for k in keys:\n",
    "    bikes_dict[k] = len(bike_locations(k))\n"
   ]
  },
  {
   "cell_type": "code",
   "execution_count": null,
   "metadata": {
    "ExecuteTime": {
     "end_time": "2020-05-20T11:28:18.322780Z",
     "start_time": "2020-05-20T11:28:18.299319Z"
    },
    "hidden": true
   },
   "outputs": [],
   "source": [
    "#convert dictionary to dataframe\n",
    "bike_df = pd.DataFrame(bikes_dict.items(), columns=['sensor_id', 'num_bikes'])\n",
    "bike_df"
   ]
  },
  {
   "cell_type": "markdown",
   "metadata": {
    "hidden": true
   },
   "source": [
    "### return just number of bikes given a specific sensor"
   ]
  },
  {
   "cell_type": "code",
   "execution_count": null,
   "metadata": {
    "ExecuteTime": {
     "end_time": "2020-05-20T13:38:05.815121Z",
     "start_time": "2020-05-20T13:38:05.810358Z"
    },
    "hidden": true
   },
   "outputs": [],
   "source": [
    "def bikes_in_radius(sensor_num):\n",
    "    return bike_df[bike_df.sensor_id == sensor_num]"
   ]
  },
  {
   "cell_type": "code",
   "execution_count": null,
   "metadata": {
    "ExecuteTime": {
     "end_time": "2020-05-20T13:38:11.797714Z",
     "start_time": "2020-05-20T13:38:11.786859Z"
    },
    "hidden": true
   },
   "outputs": [],
   "source": [
    "bikes_in_radius(2)"
   ]
  },
  {
   "cell_type": "markdown",
   "metadata": {
    "heading_collapsed": true
   },
   "source": [
    "# Lights"
   ]
  },
  {
   "cell_type": "code",
   "execution_count": null,
   "metadata": {
    "ExecuteTime": {
     "end_time": "2020-05-20T11:05:29.377248Z",
     "start_time": "2020-05-20T11:05:29.338964Z"
    },
    "hidden": true
   },
   "outputs": [],
   "source": [
    "lights = pd.read_csv('./cleaned datasets/lights_clean.csv')\n",
    "Image(filename = './visuals/lighting map.png')"
   ]
  },
  {
   "cell_type": "markdown",
   "metadata": {
    "hidden": true
   },
   "source": [
    "## make geo dataframe"
   ]
  },
  {
   "cell_type": "code",
   "execution_count": null,
   "metadata": {
    "ExecuteTime": {
     "end_time": "2020-05-20T11:14:13.744089Z",
     "start_time": "2020-05-20T11:14:13.549268Z"
    },
    "hidden": true
   },
   "outputs": [],
   "source": [
    "lights_gdf = create_gdf(lights)\n",
    "lights_gdf.head()"
   ]
  },
  {
   "cell_type": "markdown",
   "metadata": {
    "hidden": true
   },
   "source": [
    "## get location of light feature coordinates in a specific sensor's radius"
   ]
  },
  {
   "cell_type": "markdown",
   "metadata": {
    "ExecuteTime": {
     "end_time": "2020-05-20T11:19:18.468197Z",
     "start_time": "2020-05-20T11:19:18.445472Z"
    },
    "hidden": true
   },
   "source": [
    "### returns dataframe with latitude and longitude points of light sources in a specified sensor's radius"
   ]
  },
  {
   "cell_type": "code",
   "execution_count": null,
   "metadata": {
    "ExecuteTime": {
     "end_time": "2020-05-20T11:21:18.150833Z",
     "start_time": "2020-05-20T11:21:18.137142Z"
    },
    "hidden": true
   },
   "outputs": [],
   "source": [
    "def lights_locations(sensor_num):\n",
    "    gdf = sensors_gdf[sensors_gdf.sensor_id == sensor_num]\n",
    "    sen_lights = []\n",
    "    for point in lights_gdf.geometry:\n",
    "        for geo in gdf['polygon']:\n",
    "            if geo.contains(point):\n",
    "                sen_lights.append(list(point.coords))\n",
    "    light_loc = [x[0] for x in sen_lights]\n",
    "    sensor_lights = pd.DataFrame({'latitude': [x[0] for x in light_loc], 'longitude': [x[1] for x in light_loc]})\n",
    "    return sensor_lights"
   ]
  },
  {
   "cell_type": "code",
   "execution_count": null,
   "metadata": {
    "ExecuteTime": {
     "end_time": "2020-05-20T11:26:09.428771Z",
     "start_time": "2020-05-20T11:26:09.030806Z"
    },
    "hidden": true
   },
   "outputs": [],
   "source": [
    "lights_locations(2).head()"
   ]
  },
  {
   "cell_type": "markdown",
   "metadata": {
    "hidden": true
   },
   "source": [
    "### create dataframe of all location points connected with sensor id"
   ]
  },
  {
   "cell_type": "code",
   "execution_count": null,
   "metadata": {
    "ExecuteTime": {
     "end_time": "2020-05-20T14:30:31.505894Z",
     "start_time": "2020-05-20T14:30:12.134014Z"
    },
    "hidden": true
   },
   "outputs": [],
   "source": [
    "sensor_light_points = pd.DataFrame([])\n",
    "for x in sensors_gdf.sensor_id.unique():\n",
    "    sensor_points = lights_locations(x)\n",
    "    sensor_points['sensor_id'] = x\n",
    "    sensor_light_points = sensor_light_points.append(sensor_points)"
   ]
  },
  {
   "cell_type": "code",
   "execution_count": null,
   "metadata": {
    "ExecuteTime": {
     "end_time": "2020-05-20T14:30:31.588527Z",
     "start_time": "2020-05-20T14:30:31.509107Z"
    },
    "hidden": true
   },
   "outputs": [],
   "source": [
    "sensor_light_points.to_csv('./location features/features with locations/light_points.csv', header = sensor_light_points.columns, index=False)"
   ]
  },
  {
   "cell_type": "code",
   "execution_count": null,
   "metadata": {
    "hidden": true
   },
   "outputs": [],
   "source": []
  },
  {
   "cell_type": "markdown",
   "metadata": {
    "hidden": true
   },
   "source": [
    "### List the number of lights in a sensor's radius"
   ]
  },
  {
   "cell_type": "code",
   "execution_count": null,
   "metadata": {
    "ExecuteTime": {
     "end_time": "2020-05-20T11:23:40.187207Z",
     "start_time": "2020-05-20T11:23:18.697485Z"
    },
    "hidden": true
   },
   "outputs": [],
   "source": [
    "light_dict = {}\n",
    "keys = sensors.sensor_id.unique()\n",
    "for k in keys:\n",
    "    light_dict[k] = len(lights_locations(k))\n"
   ]
  },
  {
   "cell_type": "code",
   "execution_count": null,
   "metadata": {
    "ExecuteTime": {
     "end_time": "2020-05-20T11:24:27.369400Z",
     "start_time": "2020-05-20T11:24:27.300367Z"
    },
    "hidden": true
   },
   "outputs": [],
   "source": [
    "#convert dictionary to dataframe\n",
    "lighting_df = pd.DataFrame(light_dict.items(), columns=['sensor_id', 'num_lights'])\n",
    "lighting_df"
   ]
  },
  {
   "cell_type": "code",
   "execution_count": null,
   "metadata": {
    "ExecuteTime": {
     "end_time": "2020-05-20T13:39:27.974478Z",
     "start_time": "2020-05-20T13:39:27.968531Z"
    },
    "hidden": true
   },
   "outputs": [],
   "source": [
    "def lights_in_radius(sensor_num):\n",
    "    return lighting_df[lighting_df.sensor_id == sensor_num]"
   ]
  },
  {
   "cell_type": "code",
   "execution_count": null,
   "metadata": {
    "ExecuteTime": {
     "end_time": "2020-05-20T13:39:35.594477Z",
     "start_time": "2020-05-20T13:39:35.582546Z"
    },
    "hidden": true
   },
   "outputs": [],
   "source": [
    "lights_in_radius(2)"
   ]
  },
  {
   "cell_type": "markdown",
   "metadata": {
    "heading_collapsed": true
   },
   "source": [
    "# Landmarks"
   ]
  },
  {
   "cell_type": "code",
   "execution_count": null,
   "metadata": {
    "ExecuteTime": {
     "end_time": "2020-05-20T11:06:11.304772Z",
     "start_time": "2020-05-20T11:06:11.278300Z"
    },
    "hidden": true
   },
   "outputs": [],
   "source": [
    "landmarks = pd.read_csv('./cleaned datasets/landmarks_clean.csv')\n",
    "Image(filename = './visuals/landmarks.png')"
   ]
  },
  {
   "cell_type": "markdown",
   "metadata": {
    "hidden": true
   },
   "source": [
    "### create gdf"
   ]
  },
  {
   "cell_type": "code",
   "execution_count": null,
   "metadata": {
    "ExecuteTime": {
     "end_time": "2020-05-20T13:03:49.882628Z",
     "start_time": "2020-05-20T13:03:49.773985Z"
    },
    "hidden": true
   },
   "outputs": [],
   "source": [
    "landmarks_gdf = create_gdf(landmarks)\n",
    "landmarks_gdf.head()"
   ]
  },
  {
   "cell_type": "code",
   "execution_count": null,
   "metadata": {
    "ExecuteTime": {
     "end_time": "2020-05-20T13:19:47.828241Z",
     "start_time": "2020-05-20T13:19:47.817654Z"
    },
    "hidden": true
   },
   "outputs": [],
   "source": [
    " #zip lists of theme and point\n",
    "landmark_zip_list =  list(zip(landmarks_gdf.theme,landmarks_gdf.geometry))\n",
    "landmark_zip_list[:10]"
   ]
  },
  {
   "cell_type": "markdown",
   "metadata": {
    "hidden": true
   },
   "source": [
    "### returns data frame with location coordinates and theme of landmarks in a sensor's radius"
   ]
  },
  {
   "cell_type": "code",
   "execution_count": null,
   "metadata": {
    "ExecuteTime": {
     "end_time": "2020-05-20T13:25:44.214382Z",
     "start_time": "2020-05-20T13:25:44.200081Z"
    },
    "hidden": true
   },
   "outputs": [],
   "source": [
    "def landmarks_coords(sensor_num):\n",
    "    landmark_coord = []\n",
    "    theme = []\n",
    "    gdf = sensors_gdf[sensors_gdf.sensor_id == sensor_num]\n",
    "    for x in landmark_zip_list:\n",
    "        for geo in gdf['polygon']:\n",
    "            if geo.contains(x[1]):\n",
    "                landmark_coord.append(x[1])\n",
    "                theme.append(x[0])\n",
    "    zipped_sensor = list(zip(landmark_coord, theme))\n",
    "    landmark = pd.DataFrame(zipped_sensor, columns = ['point', 'theme'])\n",
    "    landmark['longitude'] = landmark.point.apply(lambda p: p.x)\n",
    "    landmark['latitude'] = landmark.point.apply(lambda p: p.y)\n",
    "    return landmark"
   ]
  },
  {
   "cell_type": "code",
   "execution_count": null,
   "metadata": {
    "ExecuteTime": {
     "end_time": "2020-05-20T13:25:44.753735Z",
     "start_time": "2020-05-20T13:25:44.713215Z"
    },
    "hidden": true
   },
   "outputs": [],
   "source": [
    "landmarks_coords(2)"
   ]
  },
  {
   "cell_type": "markdown",
   "metadata": {
    "hidden": true
   },
   "source": [
    "### create dataframe of all location points connected with sensor id"
   ]
  },
  {
   "cell_type": "code",
   "execution_count": null,
   "metadata": {
    "ExecuteTime": {
     "end_time": "2020-05-20T14:29:15.066768Z",
     "start_time": "2020-05-20T14:29:14.063423Z"
    },
    "hidden": true
   },
   "outputs": [],
   "source": [
    "sensor_landmark_points = pd.DataFrame([])\n",
    "for x in sensors_gdf.sensor_id.unique():\n",
    "    sensor_points = landmarks_coords(x)\n",
    "    sensor_points['sensor_id'] = x\n",
    "    sensor_landmark_points = sensor_landmark_points.append(sensor_points)"
   ]
  },
  {
   "cell_type": "code",
   "execution_count": null,
   "metadata": {
    "ExecuteTime": {
     "end_time": "2020-05-20T14:29:15.083279Z",
     "start_time": "2020-05-20T14:29:15.070315Z"
    },
    "hidden": true
   },
   "outputs": [],
   "source": [
    "sensor_landmark_points.to_csv('./location features/features with locations/landmark_points.csv', header = sensor_landmark_points.columns, index=False)"
   ]
  },
  {
   "cell_type": "markdown",
   "metadata": {
    "hidden": true
   },
   "source": [
    "### returns number of different themes of landmarks in a sensor's radius"
   ]
  },
  {
   "cell_type": "code",
   "execution_count": null,
   "metadata": {
    "ExecuteTime": {
     "end_time": "2020-05-20T13:24:05.513743Z",
     "start_time": "2020-05-20T13:24:05.497475Z"
    },
    "hidden": true
   },
   "outputs": [],
   "source": [
    "def landmarks_in_radius(sensor_num):\n",
    "    landmark_coord = []\n",
    "    theme = []\n",
    "    gdf = sensors_gdf[sensors_gdf.sensor_id == sensor_num]\n",
    "    for x in landmark_zip_list:\n",
    "        for geo in gdf['polygon']:\n",
    "            if geo.contains(x[1]):\n",
    "                landmark_coord.append(x[1])\n",
    "                theme.append(x[0])\n",
    "                \n",
    "    if len(landmark_coord) > 0: \n",
    "        dicts = {}\n",
    "        for x in landmarks.theme.unique():\n",
    "            dicts[x] = 0\n",
    "           \n",
    "        zipped_sensor = list(zip(landmark_coord, theme))\n",
    "        df_zip = pd.DataFrame(zipped_sensor, columns = ['point', 'theme'])\n",
    "        group = df_zip.groupby('theme').agg({'point': 'count'})\n",
    "        transform_group = group.T\n",
    "        \n",
    "        for col in transform_group.columns:\n",
    "            dicts[col] = transform_group[col][0]\n",
    "            \n",
    "        df = pd.DataFrame(dicts.items())\n",
    "        df.set_index(df.columns[0], inplace = True)\n",
    "        new_df = df.T\n",
    "        new_df['sensor_id'] = sensor_num\n",
    "        new_df.set_index('sensor_id', inplace = True)\n",
    "        return new_df\n",
    "    \n",
    "    else:\n",
    "        dicts = {}\n",
    "        for x in landmarks.theme.unique():\n",
    "            dicts[x] = 0\n",
    "        df = pd.DataFrame(dicts.items())\n",
    "        df.set_index(df.columns[0], inplace = True)\n",
    "        new_df = df.T\n",
    "        new_df['sensor_id'] = sensor_num\n",
    "        new_df.set_index('sensor_id', inplace = True)\n",
    "        return new_df"
   ]
  },
  {
   "cell_type": "code",
   "execution_count": null,
   "metadata": {
    "ExecuteTime": {
     "end_time": "2020-05-20T13:24:15.448765Z",
     "start_time": "2020-05-20T13:24:15.361747Z"
    },
    "hidden": true
   },
   "outputs": [],
   "source": [
    "landmarks_in_radius(2)"
   ]
  },
  {
   "cell_type": "markdown",
   "metadata": {
    "heading_collapsed": true
   },
   "source": [
    "# Street Infrastructure"
   ]
  },
  {
   "cell_type": "code",
   "execution_count": null,
   "metadata": {
    "ExecuteTime": {
     "end_time": "2020-05-20T11:07:06.214744Z",
     "start_time": "2020-05-20T11:07:06.118217Z"
    },
    "hidden": true
   },
   "outputs": [],
   "source": [
    "street_inf = pd.read_csv('./cleaned datasets/street_inf_clean.csv')\n",
    "Image(filename = './visuals/furniture map.png')"
   ]
  },
  {
   "cell_type": "markdown",
   "metadata": {
    "hidden": true
   },
   "source": [
    "### create gdf"
   ]
  },
  {
   "cell_type": "code",
   "execution_count": null,
   "metadata": {
    "ExecuteTime": {
     "end_time": "2020-05-20T13:27:31.415632Z",
     "start_time": "2020-05-20T13:27:31.006682Z"
    },
    "hidden": true
   },
   "outputs": [],
   "source": [
    "furniture_gdf = create_gdf(street_inf)\n",
    "furniture_gdf.head()"
   ]
  },
  {
   "cell_type": "code",
   "execution_count": null,
   "metadata": {
    "ExecuteTime": {
     "end_time": "2020-05-20T13:28:26.980065Z",
     "start_time": "2020-05-20T13:28:26.914552Z"
    },
    "hidden": true
   },
   "outputs": [],
   "source": [
    "#create list of type of features and point\n",
    "furniture_zip_list =  list(zip(furniture_gdf['feature'],furniture_gdf['geometry']))\n",
    "furniture_zip_list[:10]"
   ]
  },
  {
   "cell_type": "code",
   "execution_count": null,
   "metadata": {
    "ExecuteTime": {
     "end_time": "2020-05-20T13:29:36.697606Z",
     "start_time": "2020-05-20T13:29:36.688685Z"
    },
    "hidden": true
   },
   "outputs": [],
   "source": [
    "def furniture_coords(sensor_num):\n",
    "    furniture_coord = []\n",
    "    feature = []\n",
    "    gdf = sensors_gdf[sensors_gdf.sensor_id == sensor_num]\n",
    "    for x in furniture_zip_list:\n",
    "        for geo in gdf['polygon']:\n",
    "            if geo.contains(x[1]):\n",
    "                furniture_coord.append(x[1])\n",
    "                feature.append(x[0])\n",
    "                \n",
    "    zipped_sensor = list(zip(furniture_coord, feature))\n",
    "    furniture = pd.DataFrame(zipped_sensor, columns = ['point', 'feature'])\n",
    "    furniture['longitude'] = furniture.point.apply(lambda p: p.x)\n",
    "    furniture['latitude'] = furniture.point.apply(lambda p: p.y)\n",
    "    return furniture"
   ]
  },
  {
   "cell_type": "code",
   "execution_count": null,
   "metadata": {
    "ExecuteTime": {
     "end_time": "2020-05-20T13:29:38.057981Z",
     "start_time": "2020-05-20T13:29:37.340644Z"
    },
    "hidden": true
   },
   "outputs": [],
   "source": [
    "furniture_coords(2)"
   ]
  },
  {
   "cell_type": "markdown",
   "metadata": {
    "hidden": true
   },
   "source": [
    "### create dataframe of all location points connected with sensor id"
   ]
  },
  {
   "cell_type": "code",
   "execution_count": null,
   "metadata": {
    "ExecuteTime": {
     "end_time": "2020-05-20T14:25:55.302464Z",
     "start_time": "2020-05-20T14:25:12.851415Z"
    },
    "hidden": true
   },
   "outputs": [],
   "source": [
    "sensor_furniture_points = pd.DataFrame([])\n",
    "for x in sensors_gdf.sensor_id.unique():\n",
    "    sensor_points = furniture_coords(x)\n",
    "    sensor_points['sensor_id'] = x\n",
    "    sensor_furniture_points = sensor_furniture_points.append(sensor_points)"
   ]
  },
  {
   "cell_type": "code",
   "execution_count": null,
   "metadata": {
    "ExecuteTime": {
     "end_time": "2020-05-20T14:27:53.127674Z",
     "start_time": "2020-05-20T14:27:52.865618Z"
    },
    "hidden": true
   },
   "outputs": [],
   "source": [
    "sensor_furniture_points.to_csv('./location features/features with locations/furniture_points.csv', header = sensor_furniture_points.columns, index=False)"
   ]
  },
  {
   "cell_type": "markdown",
   "metadata": {
    "ExecuteTime": {
     "end_time": "2020-05-20T13:30:12.373709Z",
     "start_time": "2020-05-20T13:30:11.680520Z"
    },
    "hidden": true
   },
   "source": [
    "### find number of features in sensor's radius, if there is none of a type, return 0"
   ]
  },
  {
   "cell_type": "code",
   "execution_count": null,
   "metadata": {
    "ExecuteTime": {
     "end_time": "2020-05-20T13:34:02.313287Z",
     "start_time": "2020-05-20T13:34:02.299154Z"
    },
    "hidden": true
   },
   "outputs": [],
   "source": [
    "def furniture_in_radius(sensor_num):\n",
    "    furniture_coord = []\n",
    "    feature = []\n",
    "    gdf = sensors_gdf[sensors_gdf.sensor_id == sensor_num]\n",
    "    for x in furniture_zip_list:\n",
    "        for geo in gdf['polygon']:\n",
    "            if geo.contains(x[1]):\n",
    "                furniture_coord.append(x[1])\n",
    "                feature.append(x[0])\n",
    "                \n",
    "    if len(furniture_coord) > 0: \n",
    "        dicts = {}\n",
    "        for x in furniture_gdf['feature'].unique():\n",
    "            dicts[x] = 0\n",
    "           \n",
    "        zipped_sensor = list(zip(furniture_coord, feature))\n",
    "        df_zip = pd.DataFrame(zipped_sensor, columns = ['point', 'feature'])\n",
    "        group = df_zip.groupby('feature').agg({'point': 'count'})\n",
    "        transform_group = group.T\n",
    "        \n",
    "        for col in transform_group.columns:\n",
    "            dicts[col] = transform_group[col][0]\n",
    "            \n",
    "        df = pd.DataFrame(dicts.items())\n",
    "        df.set_index(df.columns[0], inplace = True)\n",
    "        new_df = df.T\n",
    "        new_df['sensor_id'] = sensor_num\n",
    "        new_df.set_index('sensor_id', inplace = True)\n",
    "        return new_df\n",
    "    \n",
    "    else:\n",
    "        dicts = {}\n",
    "        for x in furniture_gdf['feature'].unique():\n",
    "            dicts[x] = 0\n",
    "        df = pd.DataFrame(dicts.items())\n",
    "        df.set_index(df.columns[0], inplace = True)\n",
    "        new_df = df.T\n",
    "        new_df['sensor_id'] = sensor_num\n",
    "        new_df.set_index('sensor_id', inplace = True)\n",
    "        return new_df"
   ]
  },
  {
   "cell_type": "code",
   "execution_count": null,
   "metadata": {
    "ExecuteTime": {
     "end_time": "2020-05-20T13:34:03.432899Z",
     "start_time": "2020-05-20T13:34:02.681077Z"
    },
    "hidden": true
   },
   "outputs": [],
   "source": [
    "furniture_in_radius(2)"
   ]
  },
  {
   "cell_type": "markdown",
   "metadata": {},
   "source": [
    "# Create a dataframe with all the features in a sensor's radius, per year"
   ]
  },
  {
   "cell_type": "code",
   "execution_count": null,
   "metadata": {
    "ExecuteTime": {
     "end_time": "2020-05-20T13:41:40.783719Z",
     "start_time": "2020-05-20T13:41:40.777267Z"
    }
   },
   "outputs": [],
   "source": [
    "def sensor_features_per_year(sensor_num, year):\n",
    "    return pd.concat([furniture_in_radius(sensor_num), landmarks_in_radius(sensor_num),  buildings_in_radius(sensor_num, buildings_per_year(year)),\n",
    "           bike_df.loc[[sensor_num]], lighting_df.loc[[sensor_num]]], axis = 1)\n",
    "\n"
   ]
  },
  {
   "cell_type": "code",
   "execution_count": null,
   "metadata": {
    "ExecuteTime": {
     "end_time": "2020-05-20T13:41:42.959411Z",
     "start_time": "2020-05-20T13:41:41.112953Z"
    }
   },
   "outputs": [],
   "source": [
    "sensor_features_per_year(2, 2012)"
   ]
  },
  {
   "cell_type": "markdown",
   "metadata": {},
   "source": [
    "## Make full dataframe per year, with all sensors that are valid for that period\n",
    "yearly list of valid sensors is pulled from the data cleaning notebook"
   ]
  },
  {
   "cell_type": "code",
   "execution_count": null,
   "metadata": {
    "ExecuteTime": {
     "end_time": "2020-05-20T13:48:20.775833Z",
     "start_time": "2020-05-20T13:48:20.746023Z"
    }
   },
   "outputs": [],
   "source": [
    "sensors_2011 = [2, 3, 4, 5, 6, 7, 8, 9, 10, 11, 12, 13, 14, 15, 16, 17, 18]\n",
    "sensors_2012 = [1, 2, 3, 4, 5, 6, 7, 8, 9, 10, 11, 12, 13, 14, 15, 16, 17, 18]\n",
    "sensors_2013 = [1, 2, 3, 4, 5, 6, 7, 8, 9, 10, 11, 13, 14, 16, 17, 18]\n",
    "sensors_2014 = [2,3,4,5,6,8,9,10,11,12,13,14,15,17,18,19,20,21,22,23,24,25,26,27,28,29,30,31,32]\n",
    "sensors_2015 = [2, 3, 4, 5, 6, 7, 8, 9, 10, 11, 12, 13, 14, 18, 20, 21, 22, 23, 24, 25, 26, 27, 28, 29, 30, 31, 32, 33, 34, 36, 38, 39, 40]\n",
    "sensors_2016 = [1, 2, 5, 6, 7, 8, 9, 10, 11, 12, 13, 14, 15, 17, 18, 19, 20, 21, 23, 24, 25, 26, 27, 28, 29, 30, 31, 32, 33, 34, 36, 37, 38, 39, 40, 42, 43, 44, 53]\n",
    "sensors_2017 = [1, 2, 3, 6, 7, 8, 9, 10, 11, 12, 15, 17, 18, 19, 20, 21, 23, 24, 25, 26, 27, 28, 29, 31, 33, 34, 35, 37, 39, 40, 42, 43, 44, 53]\n",
    "sensors_2018 = [1, 2, 4, 5, 6, 7, 8, 9, 10, 11, 12, 15, 18, 19, 21, 22, 23, 24, 25, 26, 27, 28, 29, 30, 31, 33, 34, 35, 36, 37, 40, 42, 43, 44, 45, 46, 47, 48, 49, 50, 51, 52, 53]\n",
    "sensors_2019 = [1, 2, 3, 4, 5, 6, 8, 9, 10, 11, 12, 14, 15, 17, 18, 19, 20, 21, 23, 24, 26, 27, 28, 30, 31, 34, 35, 36, 37, 39, 40, 42, 43, 44, 46, 47, 48, 49, 50, 51, 52, 53, 54, 56, 57, 58]"
   ]
  },
  {
   "cell_type": "code",
   "execution_count": null,
   "metadata": {
    "ExecuteTime": {
     "end_time": "2020-05-20T14:00:17.479608Z",
     "start_time": "2020-05-20T14:00:17.471336Z"
    }
   },
   "outputs": [],
   "source": [
    "def features_per_year(year, year_list):\n",
    "    year_df = pd.DataFrame([])\n",
    "    for x in year_list:\n",
    "        year_df = year_df.append(sensor_features_per_year(x, year))\n",
    "        \n",
    "    df = year_df.loc[:,~year_df.columns.duplicated()]\n",
    "    #save to csv\n",
    "    df.to_csv('./location features/features_{}.csv'.format(year), header = df.columns, index=True)\n",
    "    \n",
    "    "
   ]
  },
  {
   "cell_type": "code",
   "execution_count": null,
   "metadata": {
    "ExecuteTime": {
     "end_time": "2020-05-20T14:08:49.310949Z",
     "start_time": "2020-05-20T14:01:01.965762Z"
    }
   },
   "outputs": [],
   "source": [
    "features_per_year(2011, sensors_2011)\n",
    "features_per_year(2012, sensors_2012)\n",
    "features_per_year(2013, sensors_2013)\n",
    "features_per_year(2014, sensors_2014)\n",
    "features_per_year(2015, sensors_2015)\n",
    "features_per_year(2016, sensors_2016)\n",
    "features_per_year(2017, sensors_2017)\n",
    "features_per_year(2018, sensors_2018)"
   ]
  },
  {
   "cell_type": "code",
   "execution_count": null,
   "metadata": {},
   "outputs": [],
   "source": []
  }
 ],
 "metadata": {
  "hide_input": false,
  "kernelspec": {
   "display_name": "Python 3 (ipykernel)",
   "language": "python",
   "name": "python3"
  },
  "language_info": {
   "codemirror_mode": {
    "name": "ipython",
    "version": 3
   },
   "file_extension": ".py",
   "mimetype": "text/x-python",
   "name": "python",
   "nbconvert_exporter": "python",
   "pygments_lexer": "ipython3",
   "version": "3.7.13"
  }
 },
 "nbformat": 4,
 "nbformat_minor": 2
}
