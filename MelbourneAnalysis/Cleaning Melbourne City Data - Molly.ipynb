{
 "cells": [
  {
   "cell_type": "markdown",
   "metadata": {},
   "source": [
    "# Footfall data downloaded from the City of Melbourne's Open Data Website:  \n",
    "### https://data.melbourne.vic.gov.au/Transport/Pedestrian-Counting-System-Monthly-counts-per-hour/b2ak-trbp\n",
    "#### By selecting Export --> CSV\n",
    "##### Check where I downloaded the sensor location data from"
   ]
  },
  {
   "cell_type": "markdown",
   "metadata": {},
   "source": [
    "#### Code initialisation"
   ]
  },
  {
   "cell_type": "code",
   "execution_count": 5,
   "metadata": {
    "ExecuteTime": {
     "end_time": "2020-05-20T09:29:55.509799Z",
     "start_time": "2020-05-20T09:29:52.577608Z"
    }
   },
   "outputs": [
    {
     "data": {
      "text/plain": [
       "'/nfs/a319/gy17m2a/Project/Footfall/Scripts/MelbourneAnalysis'"
      ]
     },
     "execution_count": 5,
     "metadata": {},
     "output_type": "execute_result"
    }
   ],
   "source": [
    "import pandas as pd\n",
    "import numpy as np\n",
    "# import seaborn as sns\n",
    "import os\n",
    "os.getcwd()"
   ]
  },
  {
   "cell_type": "markdown",
   "metadata": {},
   "source": [
    "#### Import pedestrian count data"
   ]
  },
  {
   "cell_type": "code",
   "execution_count": 6,
   "metadata": {},
   "outputs": [],
   "source": [
    "sensor_counts = pd.read_csv('Data/Pedestrian_Counting_System_-_Monthly__counts_per_hour_.csv')\n",
    "sensor_locations = pd.read_csv('Data/melbourne_locations.csv')"
   ]
  },
  {
   "cell_type": "markdown",
   "metadata": {},
   "source": [
    "#### Rename columns to all lowercase (to facilitate joining)"
   ]
  },
  {
   "cell_type": "code",
   "execution_count": 7,
   "metadata": {},
   "outputs": [],
   "source": [
    "sensor_counts.rename({'Date_Time': 'datetime', 'Year': 'year', 'Month':'month', 'Mdate': 'mdate', \n",
    "                      'Day': 'day', 'Time': 'time', 'Sensor_ID': 'sensor_id', 'Hourly_Counts': 'hourly_counts'}, \n",
    "                     axis = 1, inplace = True)"
   ]
  },
  {
   "cell_type": "markdown",
   "metadata": {},
   "source": [
    "#### Drop unneeded columns"
   ]
  },
  {
   "cell_type": "code",
   "execution_count": 8,
   "metadata": {},
   "outputs": [],
   "source": [
    "sensor_counts.drop(['ID', 'Sensor_Name'], axis = 1, inplace = True)\n",
    "sensor_locations.drop(['sensor_description', 'sensor_name', 'installation_date', 'status', 'note', 'direction_1',\n",
    "                      'direction_2'], axis = 1, inplace = True)"
   ]
  },
  {
   "cell_type": "markdown",
   "metadata": {},
   "source": [
    "#### Join two dataframes so location and count info in same place"
   ]
  },
  {
   "cell_type": "code",
   "execution_count": 9,
   "metadata": {},
   "outputs": [],
   "source": [
    "location_counts = pd.merge(sensor_locations, sensor_counts, on='sensor_id', how='inner')"
   ]
  },
  {
   "cell_type": "markdown",
   "metadata": {},
   "source": [
    "#### It could be useful to drop sensors that do not have as many recorded countsfor now leaving them in, but may drop in the future"
   ]
  },
  {
   "cell_type": "code",
   "execution_count": 37,
   "metadata": {},
   "outputs": [],
   "source": [
    "# location_counts.sensor_id.value_counts().sort_values()[:20]"
   ]
  },
  {
   "cell_type": "markdown",
   "metadata": {},
   "source": [
    "#### Removing sensors without complete enough data"
   ]
  },
  {
   "cell_type": "code",
   "execution_count": 32,
   "metadata": {},
   "outputs": [],
   "source": [
    "# # Get data for just one sensor\n",
    "# one_sensor =  location_counts[location_counts.sensor_id == 17]\n",
    "# # Create an index containing all the dates between the first and last date for this sensor\n",
    "# idx = pd.date_range(min(one_sensor['datetime']), max(one_sensor.datetime), freq = 'H')\n",
    "# # Set the datetime as the index\n",
    "# one_sensor.set_index('datetime', inplace = True)\n",
    "# # Check if the lenth of the index containing all the datetimes between the start and end is the same length as the df:\n",
    "# print(\"len idx: \", len(idx), \"len data:\" ,len(one_sensor))\n",
    "# if len(idx) != len(one_sensor):\n",
    "#     # Reindex using the idx, and where there are gaps apply np.nan as the value\n",
    "#     test = one_sensor.reindex(idx, fill_value=np.nan)\n",
    "#     test[test['person'].isna()]\n",
    "#         # Shows duplicated values for the same timestamp\n",
    "#         # Seems to be that all sensors have duplicated values for September 2010\n",
    "#         # check whether its just that they havennt had timestamps assigned properly - e.g. all set as 12Am when they should have hours\n",
    "#         # for now, could just \n",
    "#         one_sensor[one_sensor.index.duplicated()][0:50]"
   ]
  },
  {
   "cell_type": "markdown",
   "metadata": {},
   "source": [
    "#### List the number of missing hours in each year of data for each sensor"
   ]
  },
  {
   "cell_type": "code",
   "execution_count": 367,
   "metadata": {},
   "outputs": [
    {
     "data": {
      "text/html": [
       "<div>\n",
       "<style scoped>\n",
       "    .dataframe tbody tr th:only-of-type {\n",
       "        vertical-align: middle;\n",
       "    }\n",
       "\n",
       "    .dataframe tbody tr th {\n",
       "        vertical-align: top;\n",
       "    }\n",
       "\n",
       "    .dataframe thead th {\n",
       "        text-align: right;\n",
       "    }\n",
       "</style>\n",
       "<table border=\"1\" class=\"dataframe\">\n",
       "  <thead>\n",
       "    <tr style=\"text-align: right;\">\n",
       "      <th></th>\n",
       "      <th>d</th>\n",
       "    </tr>\n",
       "  </thead>\n",
       "  <tbody>\n",
       "    <tr>\n",
       "      <th>2011</th>\n",
       "      <td>0</td>\n",
       "    </tr>\n",
       "    <tr>\n",
       "      <th>2012</th>\n",
       "      <td>0</td>\n",
       "    </tr>\n",
       "    <tr>\n",
       "      <th>2013</th>\n",
       "      <td>1</td>\n",
       "    </tr>\n",
       "    <tr>\n",
       "      <th>2014</th>\n",
       "      <td>1</td>\n",
       "    </tr>\n",
       "    <tr>\n",
       "      <th>2015</th>\n",
       "      <td>1</td>\n",
       "    </tr>\n",
       "    <tr>\n",
       "      <th>2016</th>\n",
       "      <td>1</td>\n",
       "    </tr>\n",
       "    <tr>\n",
       "      <th>2017</th>\n",
       "      <td>3096</td>\n",
       "    </tr>\n",
       "    <tr>\n",
       "      <th>2018</th>\n",
       "      <td>264</td>\n",
       "    </tr>\n",
       "    <tr>\n",
       "      <th>2019</th>\n",
       "      <td>0</td>\n",
       "    </tr>\n",
       "    <tr>\n",
       "      <th>2020</th>\n",
       "      <td>0</td>\n",
       "    </tr>\n",
       "    <tr>\n",
       "      <th>2021</th>\n",
       "      <td>0</td>\n",
       "    </tr>\n",
       "    <tr>\n",
       "      <th>2022</th>\n",
       "      <td>2928</td>\n",
       "    </tr>\n",
       "  </tbody>\n",
       "</table>\n",
       "</div>"
      ],
      "text/plain": [
       "         d\n",
       "2011     0\n",
       "2012     0\n",
       "2013     1\n",
       "2014     1\n",
       "2015     1\n",
       "2016     1\n",
       "2017  3096\n",
       "2018   264\n",
       "2019     0\n",
       "2020     0\n",
       "2021     0\n",
       "2022  2928"
      ]
     },
     "execution_count": 367,
     "metadata": {},
     "output_type": "execute_result"
    }
   ],
   "source": [
    "# pd.DataFrame(yearly_missing_vals, index=yearly_missing_vals.keys())\n",
    "yearly_missing_vals\n",
    "\n",
    "df = pd.DataFrame.from_dict(yearly_missing_vals, orient='index', columns = [sensor_number])\n",
    "df"
   ]
  },
  {
   "cell_type": "code",
   "execution_count": 397,
   "metadata": {},
   "outputs": [],
   "source": [
    "def check_sensor_data_completeness(sensor_number):\n",
    "    \n",
    "    # Get data for just one sensor\n",
    "    one_sensor =  location_counts[location_counts.sensor_id == sensor_number]\n",
    "\n",
    "    # Go for only years after 2010 where messed up data is\n",
    "    one_sensor = one_sensor[one_sensor.year >2010]\n",
    "    one_sensor = one_sensor.sort_values(by=['datetime'])\n",
    "\n",
    "    yearly_missing_vals = {}\n",
    "    for year in np.sort(one_sensor.year.unique()):\n",
    "        one_year = one_sensor[one_sensor.year==year]\n",
    "        vals_this_year = len(one_year)\n",
    "        expected_vals_this_year = len(pd.date_range(date(year, 1, 1), datetime(year, 12, 31, 23), freq = 'H'))\n",
    "        yearly_missing_vals[year] = expected_vals_this_year - vals_this_year\n",
    "    \n",
    "    # Convert to dataframe\n",
    "    yearly_missing_vals_df = pd.DataFrame.from_dict(yearly_missing_vals, orient='index', columns = [sensor_number])\n",
    "    \n",
    "    return yearly_missing_vals_df"
   ]
  },
  {
   "cell_type": "code",
   "execution_count": 396,
   "metadata": {},
   "outputs": [],
   "source": [
    "def check_sensor_data_completeness(sensor_number):\n",
    "    \n",
    "    # Get data for just one sensor\n",
    "    one_sensor =  location_counts[location_counts.sensor_id == sensor_number]\n",
    "\n",
    "    # Go for only years after 2010 where messed up data is\n",
    "    one_sensor = one_sensor[one_sensor.year >2010]\n",
    "    one_sensor = one_sensor.sort_values(by=['datetime'])\n",
    "\n",
    "    # Convert date to datetime\n",
    "    one_sensor['datetime'] =  pd.to_datetime(one_sensor['datetime'])\n",
    "    # Sort values by datetime\n",
    "    one_sensor.sort_values(by='datetime', ascending=True, inplace=True)\n",
    "    \n",
    "    # Set the datetime as the index\n",
    "    one_sensor.set_index('datetime', inplace = True)\n",
    "\n",
    "    ##############################################\n",
    "    # Determine the date of the first/last day in the first year for which data is included\n",
    "    first_day = date(min(one_sensor.index).year, 1, 1)\n",
    "    last_day = date(max(one_sensor.index).year, 12, 31)\n",
    "    \n",
    "    # Create a series containing all the dates between the first and last date for this sensor\n",
    "    date_range = pd.date_range(first_day, last_day, freq = 'H')\n",
    "    \n",
    "    # Reindex using the date range, and where there are gaps apply np.nan as the value\n",
    "    one_sensor = one_sensor.reindex(date_range, fill_value=np.nan)\n",
    "    \n",
    "    ##############################################\n",
    "    # Find all the years which contain some NA values (i.e. they had missing vlaues)\n",
    "    missing_values = one_sensor[one_sensor['hourly_counts'].isna()]\n",
    "    # years_with_missing_values = missing_values.index.year\n",
    "    \n",
    "    # Find the number of missing values in each year\n",
    "    years, counts = np.unique(missing_values.index.year, return_counts = True)\n",
    "    missing_vals_per_year = pd.DataFrame({'Year': years, 'Counts': counts})\n",
    "    \n",
    "    return missing_vals_per_year"
   ]
  },
  {
   "cell_type": "code",
   "execution_count": 403,
   "metadata": {},
   "outputs": [
    {
     "data": {
      "text/html": [
       "<div>\n",
       "<style scoped>\n",
       "    .dataframe tbody tr th:only-of-type {\n",
       "        vertical-align: middle;\n",
       "    }\n",
       "\n",
       "    .dataframe tbody tr th {\n",
       "        vertical-align: top;\n",
       "    }\n",
       "\n",
       "    .dataframe thead th {\n",
       "        text-align: right;\n",
       "    }\n",
       "</style>\n",
       "<table border=\"1\" class=\"dataframe\">\n",
       "  <thead>\n",
       "    <tr style=\"text-align: right;\">\n",
       "      <th></th>\n",
       "      <th>1</th>\n",
       "    </tr>\n",
       "  </thead>\n",
       "  <tbody>\n",
       "    <tr>\n",
       "      <th>2011</th>\n",
       "      <td>8472</td>\n",
       "    </tr>\n",
       "    <tr>\n",
       "      <th>2012</th>\n",
       "      <td>0</td>\n",
       "    </tr>\n",
       "    <tr>\n",
       "      <th>2013</th>\n",
       "      <td>1</td>\n",
       "    </tr>\n",
       "    <tr>\n",
       "      <th>2014</th>\n",
       "      <td>1105</td>\n",
       "    </tr>\n",
       "    <tr>\n",
       "      <th>2015</th>\n",
       "      <td>1129</td>\n",
       "    </tr>\n",
       "    <tr>\n",
       "      <th>2016</th>\n",
       "      <td>1</td>\n",
       "    </tr>\n",
       "    <tr>\n",
       "      <th>2017</th>\n",
       "      <td>1</td>\n",
       "    </tr>\n",
       "    <tr>\n",
       "      <th>2018</th>\n",
       "      <td>0</td>\n",
       "    </tr>\n",
       "    <tr>\n",
       "      <th>2019</th>\n",
       "      <td>144</td>\n",
       "    </tr>\n",
       "    <tr>\n",
       "      <th>2020</th>\n",
       "      <td>0</td>\n",
       "    </tr>\n",
       "    <tr>\n",
       "      <th>2021</th>\n",
       "      <td>216</td>\n",
       "    </tr>\n",
       "    <tr>\n",
       "      <th>2022</th>\n",
       "      <td>2928</td>\n",
       "    </tr>\n",
       "  </tbody>\n",
       "</table>\n",
       "</div>"
      ],
      "text/plain": [
       "         1\n",
       "2011  8472\n",
       "2012     0\n",
       "2013     1\n",
       "2014  1105\n",
       "2015  1129\n",
       "2016     1\n",
       "2017     1\n",
       "2018     0\n",
       "2019   144\n",
       "2020     0\n",
       "2021   216\n",
       "2022  2928"
      ]
     },
     "execution_count": 403,
     "metadata": {},
     "output_type": "execute_result"
    }
   ],
   "source": [
    "# missing_vals_per_year_all_sensors_old = missing_vals_per_year_all_sensors.copy()\n",
    "missing_vals_per_year_all_sensors"
   ]
  },
  {
   "cell_type": "code",
   "execution_count": 406,
   "metadata": {},
   "outputs": [
    {
     "data": {
      "text/html": [
       "<div>\n",
       "<style scoped>\n",
       "    .dataframe tbody tr th:only-of-type {\n",
       "        vertical-align: middle;\n",
       "    }\n",
       "\n",
       "    .dataframe tbody tr th {\n",
       "        vertical-align: top;\n",
       "    }\n",
       "\n",
       "    .dataframe thead th {\n",
       "        text-align: right;\n",
       "    }\n",
       "</style>\n",
       "<table border=\"1\" class=\"dataframe\">\n",
       "  <thead>\n",
       "    <tr style=\"text-align: right;\">\n",
       "      <th></th>\n",
       "      <th>1</th>\n",
       "      <th>2</th>\n",
       "      <th>3</th>\n",
       "      <th>4</th>\n",
       "      <th>5</th>\n",
       "      <th>6</th>\n",
       "      <th>7</th>\n",
       "      <th>8</th>\n",
       "      <th>9</th>\n",
       "      <th>10</th>\n",
       "      <th>...</th>\n",
       "      <th>73</th>\n",
       "      <th>75</th>\n",
       "      <th>76</th>\n",
       "      <th>77</th>\n",
       "      <th>78</th>\n",
       "      <th>79</th>\n",
       "      <th>84</th>\n",
       "      <th>85</th>\n",
       "      <th>86</th>\n",
       "      <th>87</th>\n",
       "    </tr>\n",
       "  </thead>\n",
       "  <tbody>\n",
       "    <tr>\n",
       "      <th>2011</th>\n",
       "      <td>8472</td>\n",
       "      <td>0</td>\n",
       "      <td>24</td>\n",
       "      <td>0</td>\n",
       "      <td>0</td>\n",
       "      <td>0</td>\n",
       "      <td>0</td>\n",
       "      <td>0</td>\n",
       "      <td>0</td>\n",
       "      <td>432</td>\n",
       "      <td>...</td>\n",
       "      <td>NaN</td>\n",
       "      <td>NaN</td>\n",
       "      <td>NaN</td>\n",
       "      <td>NaN</td>\n",
       "      <td>NaN</td>\n",
       "      <td>NaN</td>\n",
       "      <td>NaN</td>\n",
       "      <td>NaN</td>\n",
       "      <td>NaN</td>\n",
       "      <td>NaN</td>\n",
       "    </tr>\n",
       "    <tr>\n",
       "      <th>2012</th>\n",
       "      <td>0</td>\n",
       "      <td>0</td>\n",
       "      <td>0</td>\n",
       "      <td>0</td>\n",
       "      <td>0</td>\n",
       "      <td>0</td>\n",
       "      <td>0</td>\n",
       "      <td>0</td>\n",
       "      <td>0</td>\n",
       "      <td>0</td>\n",
       "      <td>...</td>\n",
       "      <td>NaN</td>\n",
       "      <td>NaN</td>\n",
       "      <td>NaN</td>\n",
       "      <td>NaN</td>\n",
       "      <td>NaN</td>\n",
       "      <td>NaN</td>\n",
       "      <td>NaN</td>\n",
       "      <td>NaN</td>\n",
       "      <td>NaN</td>\n",
       "      <td>NaN</td>\n",
       "    </tr>\n",
       "    <tr>\n",
       "      <th>2013</th>\n",
       "      <td>1</td>\n",
       "      <td>1</td>\n",
       "      <td>1</td>\n",
       "      <td>1</td>\n",
       "      <td>1</td>\n",
       "      <td>1</td>\n",
       "      <td>409</td>\n",
       "      <td>1</td>\n",
       "      <td>1</td>\n",
       "      <td>1</td>\n",
       "      <td>...</td>\n",
       "      <td>NaN</td>\n",
       "      <td>NaN</td>\n",
       "      <td>NaN</td>\n",
       "      <td>NaN</td>\n",
       "      <td>NaN</td>\n",
       "      <td>NaN</td>\n",
       "      <td>NaN</td>\n",
       "      <td>NaN</td>\n",
       "      <td>NaN</td>\n",
       "      <td>NaN</td>\n",
       "    </tr>\n",
       "    <tr>\n",
       "      <th>2014</th>\n",
       "      <td>1105</td>\n",
       "      <td>1</td>\n",
       "      <td>1</td>\n",
       "      <td>337</td>\n",
       "      <td>1</td>\n",
       "      <td>1</td>\n",
       "      <td>5664</td>\n",
       "      <td>1</td>\n",
       "      <td>1</td>\n",
       "      <td>1</td>\n",
       "      <td>...</td>\n",
       "      <td>NaN</td>\n",
       "      <td>NaN</td>\n",
       "      <td>NaN</td>\n",
       "      <td>NaN</td>\n",
       "      <td>NaN</td>\n",
       "      <td>NaN</td>\n",
       "      <td>NaN</td>\n",
       "      <td>NaN</td>\n",
       "      <td>NaN</td>\n",
       "      <td>NaN</td>\n",
       "    </tr>\n",
       "    <tr>\n",
       "      <th>2015</th>\n",
       "      <td>1129</td>\n",
       "      <td>1</td>\n",
       "      <td>1</td>\n",
       "      <td>1</td>\n",
       "      <td>1</td>\n",
       "      <td>1</td>\n",
       "      <td>1609</td>\n",
       "      <td>193</td>\n",
       "      <td>1</td>\n",
       "      <td>1</td>\n",
       "      <td>...</td>\n",
       "      <td>NaN</td>\n",
       "      <td>NaN</td>\n",
       "      <td>NaN</td>\n",
       "      <td>NaN</td>\n",
       "      <td>NaN</td>\n",
       "      <td>NaN</td>\n",
       "      <td>NaN</td>\n",
       "      <td>NaN</td>\n",
       "      <td>NaN</td>\n",
       "      <td>NaN</td>\n",
       "    </tr>\n",
       "    <tr>\n",
       "      <th>2016</th>\n",
       "      <td>1</td>\n",
       "      <td>1</td>\n",
       "      <td>2208</td>\n",
       "      <td>2184</td>\n",
       "      <td>1</td>\n",
       "      <td>1</td>\n",
       "      <td>1369</td>\n",
       "      <td>19</td>\n",
       "      <td>4</td>\n",
       "      <td>11</td>\n",
       "      <td>...</td>\n",
       "      <td>NaN</td>\n",
       "      <td>NaN</td>\n",
       "      <td>NaN</td>\n",
       "      <td>NaN</td>\n",
       "      <td>NaN</td>\n",
       "      <td>NaN</td>\n",
       "      <td>NaN</td>\n",
       "      <td>NaN</td>\n",
       "      <td>NaN</td>\n",
       "      <td>NaN</td>\n",
       "    </tr>\n",
       "    <tr>\n",
       "      <th>2017</th>\n",
       "      <td>1</td>\n",
       "      <td>1</td>\n",
       "      <td>577</td>\n",
       "      <td>3649</td>\n",
       "      <td>3096</td>\n",
       "      <td>1</td>\n",
       "      <td>433</td>\n",
       "      <td>433</td>\n",
       "      <td>1</td>\n",
       "      <td>1</td>\n",
       "      <td>...</td>\n",
       "      <td>NaN</td>\n",
       "      <td>NaN</td>\n",
       "      <td>NaN</td>\n",
       "      <td>NaN</td>\n",
       "      <td>NaN</td>\n",
       "      <td>NaN</td>\n",
       "      <td>NaN</td>\n",
       "      <td>NaN</td>\n",
       "      <td>NaN</td>\n",
       "      <td>NaN</td>\n",
       "    </tr>\n",
       "    <tr>\n",
       "      <th>2018</th>\n",
       "      <td>0</td>\n",
       "      <td>0</td>\n",
       "      <td>768</td>\n",
       "      <td>0</td>\n",
       "      <td>264</td>\n",
       "      <td>433</td>\n",
       "      <td>24</td>\n",
       "      <td>0</td>\n",
       "      <td>0</td>\n",
       "      <td>0</td>\n",
       "      <td>...</td>\n",
       "      <td>NaN</td>\n",
       "      <td>NaN</td>\n",
       "      <td>NaN</td>\n",
       "      <td>NaN</td>\n",
       "      <td>NaN</td>\n",
       "      <td>NaN</td>\n",
       "      <td>NaN</td>\n",
       "      <td>NaN</td>\n",
       "      <td>NaN</td>\n",
       "      <td>NaN</td>\n",
       "    </tr>\n",
       "    <tr>\n",
       "      <th>2019</th>\n",
       "      <td>144</td>\n",
       "      <td>240</td>\n",
       "      <td>802</td>\n",
       "      <td>0</td>\n",
       "      <td>0</td>\n",
       "      <td>0</td>\n",
       "      <td>2352</td>\n",
       "      <td>504</td>\n",
       "      <td>0</td>\n",
       "      <td>0</td>\n",
       "      <td>...</td>\n",
       "      <td>NaN</td>\n",
       "      <td>NaN</td>\n",
       "      <td>NaN</td>\n",
       "      <td>NaN</td>\n",
       "      <td>NaN</td>\n",
       "      <td>NaN</td>\n",
       "      <td>NaN</td>\n",
       "      <td>NaN</td>\n",
       "      <td>NaN</td>\n",
       "      <td>NaN</td>\n",
       "    </tr>\n",
       "    <tr>\n",
       "      <th>2020</th>\n",
       "      <td>0</td>\n",
       "      <td>0</td>\n",
       "      <td>120</td>\n",
       "      <td>0</td>\n",
       "      <td>0</td>\n",
       "      <td>0</td>\n",
       "      <td>0</td>\n",
       "      <td>312</td>\n",
       "      <td>0</td>\n",
       "      <td>0</td>\n",
       "      <td>...</td>\n",
       "      <td>8040.0</td>\n",
       "      <td>NaN</td>\n",
       "      <td>NaN</td>\n",
       "      <td>NaN</td>\n",
       "      <td>NaN</td>\n",
       "      <td>NaN</td>\n",
       "      <td>NaN</td>\n",
       "      <td>NaN</td>\n",
       "      <td>NaN</td>\n",
       "      <td>NaN</td>\n",
       "    </tr>\n",
       "    <tr>\n",
       "      <th>2021</th>\n",
       "      <td>216</td>\n",
       "      <td>0</td>\n",
       "      <td>504</td>\n",
       "      <td>0</td>\n",
       "      <td>0</td>\n",
       "      <td>1</td>\n",
       "      <td>0</td>\n",
       "      <td>0</td>\n",
       "      <td>0</td>\n",
       "      <td>120</td>\n",
       "      <td>...</td>\n",
       "      <td>7272.0</td>\n",
       "      <td>744.0</td>\n",
       "      <td>1416.0</td>\n",
       "      <td>2880.0</td>\n",
       "      <td>2880.0</td>\n",
       "      <td>6073.0</td>\n",
       "      <td>NaN</td>\n",
       "      <td>NaN</td>\n",
       "      <td>NaN</td>\n",
       "      <td>NaN</td>\n",
       "    </tr>\n",
       "    <tr>\n",
       "      <th>2022</th>\n",
       "      <td>2928</td>\n",
       "      <td>2928</td>\n",
       "      <td>2928</td>\n",
       "      <td>5880</td>\n",
       "      <td>2928</td>\n",
       "      <td>2928</td>\n",
       "      <td>8112</td>\n",
       "      <td>2928</td>\n",
       "      <td>3191</td>\n",
       "      <td>2928</td>\n",
       "      <td>...</td>\n",
       "      <td>7344.0</td>\n",
       "      <td>2928.0</td>\n",
       "      <td>2928.0</td>\n",
       "      <td>2928.0</td>\n",
       "      <td>2928.0</td>\n",
       "      <td>3191.0</td>\n",
       "      <td>2928.0</td>\n",
       "      <td>2928.0</td>\n",
       "      <td>3287.0</td>\n",
       "      <td>7272.0</td>\n",
       "    </tr>\n",
       "  </tbody>\n",
       "</table>\n",
       "<p>12 rows × 82 columns</p>\n",
       "</div>"
      ],
      "text/plain": [
       "        1     2     3     4     5     6     7     8     9     10  ...      73  \\\n",
       "2011  8472     0    24     0     0     0     0     0     0   432  ...     NaN   \n",
       "2012     0     0     0     0     0     0     0     0     0     0  ...     NaN   \n",
       "2013     1     1     1     1     1     1   409     1     1     1  ...     NaN   \n",
       "2014  1105     1     1   337     1     1  5664     1     1     1  ...     NaN   \n",
       "2015  1129     1     1     1     1     1  1609   193     1     1  ...     NaN   \n",
       "2016     1     1  2208  2184     1     1  1369    19     4    11  ...     NaN   \n",
       "2017     1     1   577  3649  3096     1   433   433     1     1  ...     NaN   \n",
       "2018     0     0   768     0   264   433    24     0     0     0  ...     NaN   \n",
       "2019   144   240   802     0     0     0  2352   504     0     0  ...     NaN   \n",
       "2020     0     0   120     0     0     0     0   312     0     0  ...  8040.0   \n",
       "2021   216     0   504     0     0     1     0     0     0   120  ...  7272.0   \n",
       "2022  2928  2928  2928  5880  2928  2928  8112  2928  3191  2928  ...  7344.0   \n",
       "\n",
       "          75      76      77      78      79      84      85      86      87  \n",
       "2011     NaN     NaN     NaN     NaN     NaN     NaN     NaN     NaN     NaN  \n",
       "2012     NaN     NaN     NaN     NaN     NaN     NaN     NaN     NaN     NaN  \n",
       "2013     NaN     NaN     NaN     NaN     NaN     NaN     NaN     NaN     NaN  \n",
       "2014     NaN     NaN     NaN     NaN     NaN     NaN     NaN     NaN     NaN  \n",
       "2015     NaN     NaN     NaN     NaN     NaN     NaN     NaN     NaN     NaN  \n",
       "2016     NaN     NaN     NaN     NaN     NaN     NaN     NaN     NaN     NaN  \n",
       "2017     NaN     NaN     NaN     NaN     NaN     NaN     NaN     NaN     NaN  \n",
       "2018     NaN     NaN     NaN     NaN     NaN     NaN     NaN     NaN     NaN  \n",
       "2019     NaN     NaN     NaN     NaN     NaN     NaN     NaN     NaN     NaN  \n",
       "2020     NaN     NaN     NaN     NaN     NaN     NaN     NaN     NaN     NaN  \n",
       "2021   744.0  1416.0  2880.0  2880.0  6073.0     NaN     NaN     NaN     NaN  \n",
       "2022  2928.0  2928.0  2928.0  2928.0  3191.0  2928.0  2928.0  3287.0  7272.0  \n",
       "\n",
       "[12 rows x 82 columns]"
      ]
     },
     "execution_count": 406,
     "metadata": {},
     "output_type": "execute_result"
    }
   ],
   "source": [
    "missing_vals_per_year_all_sensors"
   ]
  },
  {
   "cell_type": "code",
   "execution_count": 405,
   "metadata": {},
   "outputs": [],
   "source": [
    "# Inititalise a dataframe to store the number of missing values in each year across all sensors\n",
    "missing_vals_per_year_all_sensors = None\n",
    "sensor_numbers_sorted =  sorted(location_counts['sensor_id'].unique().tolist())\n",
    "\n",
    "# Loop through each sensor\n",
    "for sensor_number in sensor_numbers_sorted:\n",
    "    # Return a dataframe containing the number of missing values in each year\n",
    "    missing_vals_per_year_this_sensor = check_sensor_data_completeness(sensor_number)\n",
    "    # Rename column with sensor number\n",
    "    #missing_vals_per_year_this_sensor.rename(columns={\"Counts\":sensor_number }, inplace = True)\n",
    "    # Use this as the df for all sensors, if that dataframe does not yet have any content\n",
    "    if missing_vals_per_year_all_sensors is None:\n",
    "        missing_vals_per_year_all_sensors = missing_vals_per_year_this_sensor\n",
    "    # If the df for all sensors is already populated, then join the extra data for this sensor on to it\n",
    "    else:\n",
    "        missing_vals_per_year_all_sensors = pd.concat([missing_vals_per_year_all_sensors, missing_vals_per_year_this_sensor], axis=1)"
   ]
  },
  {
   "cell_type": "code",
   "execution_count": 247,
   "metadata": {},
   "outputs": [
    {
     "data": {
      "text/html": [
       "<div>\n",
       "<style scoped>\n",
       "    .dataframe tbody tr th:only-of-type {\n",
       "        vertical-align: middle;\n",
       "    }\n",
       "\n",
       "    .dataframe tbody tr th {\n",
       "        vertical-align: top;\n",
       "    }\n",
       "\n",
       "    .dataframe thead th {\n",
       "        text-align: right;\n",
       "    }\n",
       "</style>\n",
       "<table border=\"1\" class=\"dataframe\">\n",
       "  <thead>\n",
       "    <tr style=\"text-align: right;\">\n",
       "      <th></th>\n",
       "      <th>Year</th>\n",
       "      <th>1</th>\n",
       "      <th>2</th>\n",
       "      <th>3</th>\n",
       "      <th>4</th>\n",
       "      <th>5</th>\n",
       "      <th>6</th>\n",
       "      <th>7</th>\n",
       "      <th>8</th>\n",
       "      <th>9</th>\n",
       "      <th>...</th>\n",
       "      <th>73</th>\n",
       "      <th>75</th>\n",
       "      <th>76</th>\n",
       "      <th>77</th>\n",
       "      <th>78</th>\n",
       "      <th>79</th>\n",
       "      <th>84</th>\n",
       "      <th>85</th>\n",
       "      <th>86</th>\n",
       "      <th>87</th>\n",
       "    </tr>\n",
       "  </thead>\n",
       "  <tbody>\n",
       "    <tr>\n",
       "      <th>0</th>\n",
       "      <td>2011</td>\n",
       "      <td>8472.0</td>\n",
       "      <td>NaN</td>\n",
       "      <td>24.0</td>\n",
       "      <td>NaN</td>\n",
       "      <td>NaN</td>\n",
       "      <td>NaN</td>\n",
       "      <td>NaN</td>\n",
       "      <td>NaN</td>\n",
       "      <td>NaN</td>\n",
       "      <td>...</td>\n",
       "      <td>NaN</td>\n",
       "      <td>NaN</td>\n",
       "      <td>NaN</td>\n",
       "      <td>NaN</td>\n",
       "      <td>NaN</td>\n",
       "      <td>NaN</td>\n",
       "      <td>NaN</td>\n",
       "      <td>NaN</td>\n",
       "      <td>NaN</td>\n",
       "      <td>NaN</td>\n",
       "    </tr>\n",
       "    <tr>\n",
       "      <th>1</th>\n",
       "      <td>2013</td>\n",
       "      <td>1.0</td>\n",
       "      <td>1.0</td>\n",
       "      <td>1.0</td>\n",
       "      <td>1.0</td>\n",
       "      <td>1.0</td>\n",
       "      <td>1.0</td>\n",
       "      <td>409.0</td>\n",
       "      <td>1.0</td>\n",
       "      <td>1.0</td>\n",
       "      <td>...</td>\n",
       "      <td>NaN</td>\n",
       "      <td>NaN</td>\n",
       "      <td>NaN</td>\n",
       "      <td>NaN</td>\n",
       "      <td>NaN</td>\n",
       "      <td>NaN</td>\n",
       "      <td>NaN</td>\n",
       "      <td>NaN</td>\n",
       "      <td>NaN</td>\n",
       "      <td>NaN</td>\n",
       "    </tr>\n",
       "    <tr>\n",
       "      <th>2</th>\n",
       "      <td>2014</td>\n",
       "      <td>1105.0</td>\n",
       "      <td>1.0</td>\n",
       "      <td>1.0</td>\n",
       "      <td>337.0</td>\n",
       "      <td>1.0</td>\n",
       "      <td>1.0</td>\n",
       "      <td>5664.0</td>\n",
       "      <td>1.0</td>\n",
       "      <td>1.0</td>\n",
       "      <td>...</td>\n",
       "      <td>NaN</td>\n",
       "      <td>NaN</td>\n",
       "      <td>NaN</td>\n",
       "      <td>NaN</td>\n",
       "      <td>NaN</td>\n",
       "      <td>NaN</td>\n",
       "      <td>NaN</td>\n",
       "      <td>NaN</td>\n",
       "      <td>NaN</td>\n",
       "      <td>NaN</td>\n",
       "    </tr>\n",
       "    <tr>\n",
       "      <th>3</th>\n",
       "      <td>2015</td>\n",
       "      <td>1129.0</td>\n",
       "      <td>1.0</td>\n",
       "      <td>1.0</td>\n",
       "      <td>1.0</td>\n",
       "      <td>1.0</td>\n",
       "      <td>1.0</td>\n",
       "      <td>1609.0</td>\n",
       "      <td>193.0</td>\n",
       "      <td>1.0</td>\n",
       "      <td>...</td>\n",
       "      <td>NaN</td>\n",
       "      <td>NaN</td>\n",
       "      <td>NaN</td>\n",
       "      <td>NaN</td>\n",
       "      <td>NaN</td>\n",
       "      <td>NaN</td>\n",
       "      <td>NaN</td>\n",
       "      <td>NaN</td>\n",
       "      <td>NaN</td>\n",
       "      <td>NaN</td>\n",
       "    </tr>\n",
       "    <tr>\n",
       "      <th>4</th>\n",
       "      <td>2016</td>\n",
       "      <td>1.0</td>\n",
       "      <td>1.0</td>\n",
       "      <td>2208.0</td>\n",
       "      <td>2184.0</td>\n",
       "      <td>1.0</td>\n",
       "      <td>1.0</td>\n",
       "      <td>1369.0</td>\n",
       "      <td>19.0</td>\n",
       "      <td>4.0</td>\n",
       "      <td>...</td>\n",
       "      <td>NaN</td>\n",
       "      <td>NaN</td>\n",
       "      <td>NaN</td>\n",
       "      <td>NaN</td>\n",
       "      <td>NaN</td>\n",
       "      <td>NaN</td>\n",
       "      <td>NaN</td>\n",
       "      <td>NaN</td>\n",
       "      <td>NaN</td>\n",
       "      <td>NaN</td>\n",
       "    </tr>\n",
       "    <tr>\n",
       "      <th>5</th>\n",
       "      <td>2017</td>\n",
       "      <td>1.0</td>\n",
       "      <td>1.0</td>\n",
       "      <td>577.0</td>\n",
       "      <td>3649.0</td>\n",
       "      <td>3096.0</td>\n",
       "      <td>1.0</td>\n",
       "      <td>433.0</td>\n",
       "      <td>433.0</td>\n",
       "      <td>1.0</td>\n",
       "      <td>...</td>\n",
       "      <td>NaN</td>\n",
       "      <td>NaN</td>\n",
       "      <td>NaN</td>\n",
       "      <td>NaN</td>\n",
       "      <td>NaN</td>\n",
       "      <td>NaN</td>\n",
       "      <td>NaN</td>\n",
       "      <td>NaN</td>\n",
       "      <td>NaN</td>\n",
       "      <td>NaN</td>\n",
       "    </tr>\n",
       "    <tr>\n",
       "      <th>6</th>\n",
       "      <td>2019</td>\n",
       "      <td>144.0</td>\n",
       "      <td>240.0</td>\n",
       "      <td>802.0</td>\n",
       "      <td>NaN</td>\n",
       "      <td>NaN</td>\n",
       "      <td>NaN</td>\n",
       "      <td>2352.0</td>\n",
       "      <td>504.0</td>\n",
       "      <td>NaN</td>\n",
       "      <td>...</td>\n",
       "      <td>NaN</td>\n",
       "      <td>NaN</td>\n",
       "      <td>NaN</td>\n",
       "      <td>NaN</td>\n",
       "      <td>NaN</td>\n",
       "      <td>NaN</td>\n",
       "      <td>NaN</td>\n",
       "      <td>NaN</td>\n",
       "      <td>NaN</td>\n",
       "      <td>NaN</td>\n",
       "    </tr>\n",
       "    <tr>\n",
       "      <th>7</th>\n",
       "      <td>2021</td>\n",
       "      <td>216.0</td>\n",
       "      <td>NaN</td>\n",
       "      <td>504.0</td>\n",
       "      <td>NaN</td>\n",
       "      <td>NaN</td>\n",
       "      <td>1.0</td>\n",
       "      <td>NaN</td>\n",
       "      <td>NaN</td>\n",
       "      <td>NaN</td>\n",
       "      <td>...</td>\n",
       "      <td>7272.0</td>\n",
       "      <td>744.0</td>\n",
       "      <td>1416.0</td>\n",
       "      <td>2880.0</td>\n",
       "      <td>2880.0</td>\n",
       "      <td>6073.0</td>\n",
       "      <td>NaN</td>\n",
       "      <td>NaN</td>\n",
       "      <td>NaN</td>\n",
       "      <td>NaN</td>\n",
       "    </tr>\n",
       "    <tr>\n",
       "      <th>8</th>\n",
       "      <td>2022</td>\n",
       "      <td>2905.0</td>\n",
       "      <td>2905.0</td>\n",
       "      <td>2905.0</td>\n",
       "      <td>5857.0</td>\n",
       "      <td>2905.0</td>\n",
       "      <td>2905.0</td>\n",
       "      <td>8089.0</td>\n",
       "      <td>2905.0</td>\n",
       "      <td>3168.0</td>\n",
       "      <td>...</td>\n",
       "      <td>7321.0</td>\n",
       "      <td>2905.0</td>\n",
       "      <td>2905.0</td>\n",
       "      <td>2905.0</td>\n",
       "      <td>2905.0</td>\n",
       "      <td>3168.0</td>\n",
       "      <td>2905.0</td>\n",
       "      <td>2905.0</td>\n",
       "      <td>3264.0</td>\n",
       "      <td>7249.0</td>\n",
       "    </tr>\n",
       "    <tr>\n",
       "      <th>9</th>\n",
       "      <td>2018</td>\n",
       "      <td>NaN</td>\n",
       "      <td>NaN</td>\n",
       "      <td>768.0</td>\n",
       "      <td>NaN</td>\n",
       "      <td>264.0</td>\n",
       "      <td>433.0</td>\n",
       "      <td>24.0</td>\n",
       "      <td>NaN</td>\n",
       "      <td>NaN</td>\n",
       "      <td>...</td>\n",
       "      <td>NaN</td>\n",
       "      <td>NaN</td>\n",
       "      <td>NaN</td>\n",
       "      <td>NaN</td>\n",
       "      <td>NaN</td>\n",
       "      <td>NaN</td>\n",
       "      <td>NaN</td>\n",
       "      <td>NaN</td>\n",
       "      <td>NaN</td>\n",
       "      <td>NaN</td>\n",
       "    </tr>\n",
       "    <tr>\n",
       "      <th>10</th>\n",
       "      <td>2020</td>\n",
       "      <td>NaN</td>\n",
       "      <td>NaN</td>\n",
       "      <td>120.0</td>\n",
       "      <td>NaN</td>\n",
       "      <td>NaN</td>\n",
       "      <td>NaN</td>\n",
       "      <td>NaN</td>\n",
       "      <td>312.0</td>\n",
       "      <td>NaN</td>\n",
       "      <td>...</td>\n",
       "      <td>8040.0</td>\n",
       "      <td>NaN</td>\n",
       "      <td>NaN</td>\n",
       "      <td>NaN</td>\n",
       "      <td>NaN</td>\n",
       "      <td>NaN</td>\n",
       "      <td>NaN</td>\n",
       "      <td>NaN</td>\n",
       "      <td>NaN</td>\n",
       "      <td>NaN</td>\n",
       "    </tr>\n",
       "    <tr>\n",
       "      <th>11</th>\n",
       "      <td>2012</td>\n",
       "      <td>NaN</td>\n",
       "      <td>NaN</td>\n",
       "      <td>NaN</td>\n",
       "      <td>NaN</td>\n",
       "      <td>NaN</td>\n",
       "      <td>NaN</td>\n",
       "      <td>NaN</td>\n",
       "      <td>NaN</td>\n",
       "      <td>NaN</td>\n",
       "      <td>...</td>\n",
       "      <td>NaN</td>\n",
       "      <td>NaN</td>\n",
       "      <td>NaN</td>\n",
       "      <td>NaN</td>\n",
       "      <td>NaN</td>\n",
       "      <td>NaN</td>\n",
       "      <td>NaN</td>\n",
       "      <td>NaN</td>\n",
       "      <td>NaN</td>\n",
       "      <td>NaN</td>\n",
       "    </tr>\n",
       "  </tbody>\n",
       "</table>\n",
       "<p>12 rows × 83 columns</p>\n",
       "</div>"
      ],
      "text/plain": [
       "    Year       1       2       3       4       5       6       7       8  \\\n",
       "0   2011  8472.0     NaN    24.0     NaN     NaN     NaN     NaN     NaN   \n",
       "1   2013     1.0     1.0     1.0     1.0     1.0     1.0   409.0     1.0   \n",
       "2   2014  1105.0     1.0     1.0   337.0     1.0     1.0  5664.0     1.0   \n",
       "3   2015  1129.0     1.0     1.0     1.0     1.0     1.0  1609.0   193.0   \n",
       "4   2016     1.0     1.0  2208.0  2184.0     1.0     1.0  1369.0    19.0   \n",
       "5   2017     1.0     1.0   577.0  3649.0  3096.0     1.0   433.0   433.0   \n",
       "6   2019   144.0   240.0   802.0     NaN     NaN     NaN  2352.0   504.0   \n",
       "7   2021   216.0     NaN   504.0     NaN     NaN     1.0     NaN     NaN   \n",
       "8   2022  2905.0  2905.0  2905.0  5857.0  2905.0  2905.0  8089.0  2905.0   \n",
       "9   2018     NaN     NaN   768.0     NaN   264.0   433.0    24.0     NaN   \n",
       "10  2020     NaN     NaN   120.0     NaN     NaN     NaN     NaN   312.0   \n",
       "11  2012     NaN     NaN     NaN     NaN     NaN     NaN     NaN     NaN   \n",
       "\n",
       "         9  ...      73      75      76      77      78      79      84  \\\n",
       "0      NaN  ...     NaN     NaN     NaN     NaN     NaN     NaN     NaN   \n",
       "1      1.0  ...     NaN     NaN     NaN     NaN     NaN     NaN     NaN   \n",
       "2      1.0  ...     NaN     NaN     NaN     NaN     NaN     NaN     NaN   \n",
       "3      1.0  ...     NaN     NaN     NaN     NaN     NaN     NaN     NaN   \n",
       "4      4.0  ...     NaN     NaN     NaN     NaN     NaN     NaN     NaN   \n",
       "5      1.0  ...     NaN     NaN     NaN     NaN     NaN     NaN     NaN   \n",
       "6      NaN  ...     NaN     NaN     NaN     NaN     NaN     NaN     NaN   \n",
       "7      NaN  ...  7272.0   744.0  1416.0  2880.0  2880.0  6073.0     NaN   \n",
       "8   3168.0  ...  7321.0  2905.0  2905.0  2905.0  2905.0  3168.0  2905.0   \n",
       "9      NaN  ...     NaN     NaN     NaN     NaN     NaN     NaN     NaN   \n",
       "10     NaN  ...  8040.0     NaN     NaN     NaN     NaN     NaN     NaN   \n",
       "11     NaN  ...     NaN     NaN     NaN     NaN     NaN     NaN     NaN   \n",
       "\n",
       "        85      86      87  \n",
       "0      NaN     NaN     NaN  \n",
       "1      NaN     NaN     NaN  \n",
       "2      NaN     NaN     NaN  \n",
       "3      NaN     NaN     NaN  \n",
       "4      NaN     NaN     NaN  \n",
       "5      NaN     NaN     NaN  \n",
       "6      NaN     NaN     NaN  \n",
       "7      NaN     NaN     NaN  \n",
       "8   2905.0  3264.0  7249.0  \n",
       "9      NaN     NaN     NaN  \n",
       "10     NaN     NaN     NaN  \n",
       "11     NaN     NaN     NaN  \n",
       "\n",
       "[12 rows x 83 columns]"
      ]
     },
     "execution_count": 247,
     "metadata": {},
     "output_type": "execute_result"
    }
   ],
   "source": [
    "# missing_vals_per_year_this_sensor.rename(columns={\"Counts\":sensor_number }, inplace = True)\n",
    "# missing_vals_per_year_this_sensor\n",
    "# column_names=location_counts['sensor_id'].unique().tolist()\n",
    "# column_names.insert(0, missing_vals_per_year_all_sensors.columns[0])\n",
    "missing_vals_per_year_all_sensors\n",
    "# missing_vals_per_year_all_sensors.columns = column_names\n",
    "# missing_vals_per_year_all_sensors = missing_vals_per_year_all_sensors.sort_values('Year')\n",
    "# missing_vals_per_year_all_sensors.reset_index(inplace=True, drop=True)\n",
    "# missing_vals_per_year_all_sensors"
   ]
  },
  {
   "cell_type": "markdown",
   "metadata": {},
   "source": [
    "### Looking at trends in sensor counts\n",
    "Look to see which sensors have valid records for a full calendar year at a time. Some sensors were added at later years, and some stop working at points throughout the year"
   ]
  },
  {
   "cell_type": "code",
   "execution_count": 147,
   "metadata": {},
   "outputs": [
    {
     "data": {
      "text/html": [
       "<div>\n",
       "<style scoped>\n",
       "    .dataframe tbody tr th:only-of-type {\n",
       "        vertical-align: middle;\n",
       "    }\n",
       "\n",
       "    .dataframe tbody tr th {\n",
       "        vertical-align: top;\n",
       "    }\n",
       "\n",
       "    .dataframe thead th {\n",
       "        text-align: right;\n",
       "    }\n",
       "</style>\n",
       "<table border=\"1\" class=\"dataframe\">\n",
       "  <thead>\n",
       "    <tr style=\"text-align: right;\">\n",
       "      <th></th>\n",
       "      <th>sensor_id</th>\n",
       "      <th>Latitude</th>\n",
       "      <th>Longitude</th>\n",
       "      <th>location</th>\n",
       "      <th>datetime</th>\n",
       "      <th>year</th>\n",
       "      <th>month</th>\n",
       "      <th>mdate</th>\n",
       "      <th>day</th>\n",
       "      <th>time</th>\n",
       "      <th>hourly_counts</th>\n",
       "    </tr>\n",
       "  </thead>\n",
       "  <tbody>\n",
       "    <tr>\n",
       "      <th>31626</th>\n",
       "      <td>16</td>\n",
       "      <td>-37.815734</td>\n",
       "      <td>144.965210</td>\n",
       "      <td>(-37.81573422, 144.96521044)</td>\n",
       "      <td>January 01, 2013 12:00:00 AM</td>\n",
       "      <td>2013</td>\n",
       "      <td>January</td>\n",
       "      <td>1</td>\n",
       "      <td>Tuesday</td>\n",
       "      <td>0</td>\n",
       "      <td>807</td>\n",
       "    </tr>\n",
       "    <tr>\n",
       "      <th>31627</th>\n",
       "      <td>16</td>\n",
       "      <td>-37.815734</td>\n",
       "      <td>144.965210</td>\n",
       "      <td>(-37.81573422, 144.96521044)</td>\n",
       "      <td>January 01, 2013 01:00:00 AM</td>\n",
       "      <td>2013</td>\n",
       "      <td>January</td>\n",
       "      <td>1</td>\n",
       "      <td>Tuesday</td>\n",
       "      <td>1</td>\n",
       "      <td>355</td>\n",
       "    </tr>\n",
       "    <tr>\n",
       "      <th>31628</th>\n",
       "      <td>16</td>\n",
       "      <td>-37.815734</td>\n",
       "      <td>144.965210</td>\n",
       "      <td>(-37.81573422, 144.96521044)</td>\n",
       "      <td>January 01, 2013 02:00:00 AM</td>\n",
       "      <td>2013</td>\n",
       "      <td>January</td>\n",
       "      <td>1</td>\n",
       "      <td>Tuesday</td>\n",
       "      <td>2</td>\n",
       "      <td>204</td>\n",
       "    </tr>\n",
       "    <tr>\n",
       "      <th>31629</th>\n",
       "      <td>16</td>\n",
       "      <td>-37.815734</td>\n",
       "      <td>144.965210</td>\n",
       "      <td>(-37.81573422, 144.96521044)</td>\n",
       "      <td>January 01, 2013 03:00:00 AM</td>\n",
       "      <td>2013</td>\n",
       "      <td>January</td>\n",
       "      <td>1</td>\n",
       "      <td>Tuesday</td>\n",
       "      <td>3</td>\n",
       "      <td>155</td>\n",
       "    </tr>\n",
       "    <tr>\n",
       "      <th>31630</th>\n",
       "      <td>16</td>\n",
       "      <td>-37.815734</td>\n",
       "      <td>144.965210</td>\n",
       "      <td>(-37.81573422, 144.96521044)</td>\n",
       "      <td>January 01, 2013 04:00:00 AM</td>\n",
       "      <td>2013</td>\n",
       "      <td>January</td>\n",
       "      <td>1</td>\n",
       "      <td>Tuesday</td>\n",
       "      <td>4</td>\n",
       "      <td>75</td>\n",
       "    </tr>\n",
       "    <tr>\n",
       "      <th>...</th>\n",
       "      <td>...</td>\n",
       "      <td>...</td>\n",
       "      <td>...</td>\n",
       "      <td>...</td>\n",
       "      <td>...</td>\n",
       "      <td>...</td>\n",
       "      <td>...</td>\n",
       "      <td>...</td>\n",
       "      <td>...</td>\n",
       "      <td>...</td>\n",
       "      <td>...</td>\n",
       "    </tr>\n",
       "    <tr>\n",
       "      <th>4395210</th>\n",
       "      <td>8</td>\n",
       "      <td>-37.822935</td>\n",
       "      <td>144.947175</td>\n",
       "      <td>(-37.82293543, 144.94717511)</td>\n",
       "      <td>December 29, 2013 09:00:00 AM</td>\n",
       "      <td>2013</td>\n",
       "      <td>December</td>\n",
       "      <td>29</td>\n",
       "      <td>Sunday</td>\n",
       "      <td>9</td>\n",
       "      <td>146</td>\n",
       "    </tr>\n",
       "    <tr>\n",
       "      <th>4395212</th>\n",
       "      <td>8</td>\n",
       "      <td>-37.822935</td>\n",
       "      <td>144.947175</td>\n",
       "      <td>(-37.82293543, 144.94717511)</td>\n",
       "      <td>December 29, 2013 10:00:00 AM</td>\n",
       "      <td>2013</td>\n",
       "      <td>December</td>\n",
       "      <td>29</td>\n",
       "      <td>Sunday</td>\n",
       "      <td>10</td>\n",
       "      <td>176</td>\n",
       "    </tr>\n",
       "    <tr>\n",
       "      <th>4395213</th>\n",
       "      <td>8</td>\n",
       "      <td>-37.822935</td>\n",
       "      <td>144.947175</td>\n",
       "      <td>(-37.82293543, 144.94717511)</td>\n",
       "      <td>December 29, 2013 11:00:00 AM</td>\n",
       "      <td>2013</td>\n",
       "      <td>December</td>\n",
       "      <td>29</td>\n",
       "      <td>Sunday</td>\n",
       "      <td>11</td>\n",
       "      <td>196</td>\n",
       "    </tr>\n",
       "    <tr>\n",
       "      <th>4395214</th>\n",
       "      <td>8</td>\n",
       "      <td>-37.822935</td>\n",
       "      <td>144.947175</td>\n",
       "      <td>(-37.82293543, 144.94717511)</td>\n",
       "      <td>December 29, 2013 12:00:00 PM</td>\n",
       "      <td>2013</td>\n",
       "      <td>December</td>\n",
       "      <td>29</td>\n",
       "      <td>Sunday</td>\n",
       "      <td>12</td>\n",
       "      <td>253</td>\n",
       "    </tr>\n",
       "    <tr>\n",
       "      <th>4395215</th>\n",
       "      <td>8</td>\n",
       "      <td>-37.822935</td>\n",
       "      <td>144.947175</td>\n",
       "      <td>(-37.82293543, 144.94717511)</td>\n",
       "      <td>December 29, 2013 01:00:00 PM</td>\n",
       "      <td>2013</td>\n",
       "      <td>December</td>\n",
       "      <td>29</td>\n",
       "      <td>Sunday</td>\n",
       "      <td>13</td>\n",
       "      <td>260</td>\n",
       "    </tr>\n",
       "  </tbody>\n",
       "</table>\n",
       "<p>184725 rows × 11 columns</p>\n",
       "</div>"
      ],
      "text/plain": [
       "         sensor_id   Latitude   Longitude                      location  \\\n",
       "31626           16 -37.815734  144.965210  (-37.81573422, 144.96521044)   \n",
       "31627           16 -37.815734  144.965210  (-37.81573422, 144.96521044)   \n",
       "31628           16 -37.815734  144.965210  (-37.81573422, 144.96521044)   \n",
       "31629           16 -37.815734  144.965210  (-37.81573422, 144.96521044)   \n",
       "31630           16 -37.815734  144.965210  (-37.81573422, 144.96521044)   \n",
       "...            ...        ...         ...                           ...   \n",
       "4395210          8 -37.822935  144.947175  (-37.82293543, 144.94717511)   \n",
       "4395212          8 -37.822935  144.947175  (-37.82293543, 144.94717511)   \n",
       "4395213          8 -37.822935  144.947175  (-37.82293543, 144.94717511)   \n",
       "4395214          8 -37.822935  144.947175  (-37.82293543, 144.94717511)   \n",
       "4395215          8 -37.822935  144.947175  (-37.82293543, 144.94717511)   \n",
       "\n",
       "                              datetime  year     month  mdate      day  time  \\\n",
       "31626     January 01, 2013 12:00:00 AM  2013   January      1  Tuesday     0   \n",
       "31627     January 01, 2013 01:00:00 AM  2013   January      1  Tuesday     1   \n",
       "31628     January 01, 2013 02:00:00 AM  2013   January      1  Tuesday     2   \n",
       "31629     January 01, 2013 03:00:00 AM  2013   January      1  Tuesday     3   \n",
       "31630     January 01, 2013 04:00:00 AM  2013   January      1  Tuesday     4   \n",
       "...                                ...   ...       ...    ...      ...   ...   \n",
       "4395210  December 29, 2013 09:00:00 AM  2013  December     29   Sunday     9   \n",
       "4395212  December 29, 2013 10:00:00 AM  2013  December     29   Sunday    10   \n",
       "4395213  December 29, 2013 11:00:00 AM  2013  December     29   Sunday    11   \n",
       "4395214  December 29, 2013 12:00:00 PM  2013  December     29   Sunday    12   \n",
       "4395215  December 29, 2013 01:00:00 PM  2013  December     29   Sunday    13   \n",
       "\n",
       "         hourly_counts  \n",
       "31626              807  \n",
       "31627              355  \n",
       "31628              204  \n",
       "31629              155  \n",
       "31630               75  \n",
       "...                ...  \n",
       "4395210            146  \n",
       "4395212            176  \n",
       "4395213            196  \n",
       "4395214            253  \n",
       "4395215            260  \n",
       "\n",
       "[184725 rows x 11 columns]"
      ]
     },
     "execution_count": 147,
     "metadata": {},
     "output_type": "execute_result"
    }
   ],
   "source": [
    "sensor_df = location_counts[location_counts.year == 2013]\n",
    "sensor_df"
   ]
  },
  {
   "cell_type": "code",
   "execution_count": 57,
   "metadata": {},
   "outputs": [],
   "source": [
    "# function checks sensors have data for each month of the year and then for each day of the month\n",
    "\n",
    "def get_year_trends(year):\n",
    "    \n",
    "    # Extract the sensor values from just this year\n",
    "    sensor_df = location_counts[location_counts.year == year]\n",
    "    # If there are values for all 12 months\n",
    "    if len(sensor_df.month.value_counts()) == 12: #check to see if there is records for all 12 months\n",
    "        # Create an empty list to store the IDs of all sensors which have data for each month\n",
    "        valid_sensors = []\n",
    "        for x in sensor_df.sensor_id.unique():\n",
    "        # For each of the sensor ID values, get the values for just that sensor\n",
    "            sensor = sensor_df[sensor_df.sensor_id == x]\n",
    "            # If there is data for all 12 months, then add its ID to this list of valid sensors\n",
    "            if len(sensor.month.value_counts()) == 12:\n",
    "                valid_sensors.append(x)\n",
    "            else:\n",
    "                pass\n",
    "\n",
    "        # Create an empty list to store\n",
    "        sensors_per_year = []\n",
    "        for y in valid_sensors:\n",
    "            # For each of the sensors with values in all 12 months, get the data for just that sensor\n",
    "            limited_sensors = sensor_df[sensor_df.sensor_id == y]\n",
    "            # Loop through each month number, and check if there is at least 27 days worth of data\n",
    "            for z in range(1, 13):\n",
    "                yearly_sensors = limited_sensors[limited_sensors.month == z]\n",
    "                print(yearly_sensors)\n",
    "                if len(yearly_sensors.mdate.value_counts()) >= 27: #check if there is at least 27 days p\n",
    "                    sensors_per_year.append(y)\n",
    "                print(\"neugh data\")\n",
    "            else:\n",
    "                pass\n",
    "\n",
    "    else:\n",
    "        print('there is not 12 months of valid records')\n",
    "        \n",
    "    return sorted(valid_sensors)\n"
   ]
  },
  {
   "cell_type": "code",
   "execution_count": 47,
   "metadata": {},
   "outputs": [],
   "source": [
    "year = 2019    \n",
    "# Extract the sensor values from just this year\n",
    "sensor_df = location_counts[location_counts.year == year]\n",
    "# If there are values for all 12 months\n",
    "if len(sensor_df.month.value_counts()) == 12: #check to see if there is records for all 12 months\n",
    "    # Create an empty list to store the IDs of all sensors which have data for each month\n",
    "    valid_sensors = []\n",
    "    for x in sensor_df.sensor_id.unique():\n",
    "    # For each of the sensor ID values, get the values for just that sensor\n",
    "        sensor = sensor_df[sensor_df.sensor_id == x]\n",
    "        # If there is data for all 12 months, then add its ID to this list of valid sensors\n",
    "        if len(sensor.month.value_counts()) == 12:\n",
    "            valid_sensors.append(x)\n",
    "        else:\n",
    "            pass\n",
    "\n",
    "    # Create an empty list to store\n",
    "    sensors_per_year = []\n",
    "    for y in valid_sensors:\n",
    "        # For each of the sensors with values in all 12 months, get the data for just that sensor\n",
    "        limited_sensors = sensor_df[sensor_df.sensor_id == y]\n",
    "        # Loop through each month number, and check if there is at least 27 days worth of data\n",
    "        for z in range(1, 13):\n",
    "            yearly_sensors = limited_sensors[limited_sensors.month == z]\n",
    "            if len(yearly_sensors.mdate.value_counts()) >= 27: #check if there is at least 27 days p\n",
    "                sensors_per_year.append(y)\n",
    "        else:\n",
    "            pass\n",
    "\n",
    "else:\n",
    "    print('there is not 12 months of valid records')\n"
   ]
  },
  {
   "cell_type": "code",
   "execution_count": 54,
   "metadata": {},
   "outputs": [
    {
     "name": "stdout",
     "output_type": "stream",
     "text": [
      "50\n",
      "23\n",
      "20\n",
      "40\n",
      "15\n",
      "31\n",
      "19\n",
      "12\n",
      "36\n",
      "11\n",
      "6\n",
      "49\n",
      "18\n",
      "26\n",
      "47\n",
      "24\n",
      "27\n",
      "53\n",
      "35\n",
      "58\n",
      "28\n",
      "57\n",
      "44\n",
      "48\n",
      "43\n",
      "1\n",
      "3\n",
      "17\n",
      "9\n",
      "54\n",
      "30\n",
      "5\n",
      "14\n",
      "10\n",
      "21\n",
      "37\n",
      "4\n",
      "56\n",
      "42\n",
      "34\n",
      "46\n",
      "39\n",
      "2\n",
      "51\n",
      "52\n",
      "8\n"
     ]
    },
    {
     "data": {
      "text/plain": [
       "[]"
      ]
     },
     "execution_count": 54,
     "metadata": {},
     "output_type": "execute_result"
    }
   ],
   "source": [
    "sensors_per_year = []\n",
    "for y in valid_sensors:\n",
    "    print(y)\n",
    "    # For each of the sensors with values in all 12 months, get the data for just that sensor\n",
    "    limited_sensors = sensor_df[sensor_df.sensor_id == y]\n",
    "    # Loop through each month number, and check if there is at least 27 days worth of data\n",
    "    for z in range(1, 13):\n",
    "        yearly_sensors = limited_sensors[limited_sensors.month == z]\n",
    "        if len(yearly_sensors.mdate.value_counts()) >= 27: #check if there is at least 27 days p\n",
    "            sensors_per_year.append(y)\n",
    "    else:\n",
    "        pass\n",
    "\n",
    "sensors_per_year"
   ]
  },
  {
   "cell_type": "code",
   "execution_count": 121,
   "metadata": {
    "ExecuteTime": {
     "end_time": "2020-05-20T09:17:54.392578Z",
     "start_time": "2020-05-20T09:17:54.328816Z"
    }
   },
   "outputs": [
    {
     "data": {
      "text/plain": [
       "[2, 6, 8, 9, 10, 11, 18]"
      ]
     },
     "execution_count": 121,
     "metadata": {},
     "output_type": "execute_result"
    }
   ],
   "source": [
    "#make list of sensors that are in all years 2011-2019\n",
    "#these will be the sensors used in time series/model samples\n",
    "\n",
    "sensors_in_all_years = []\n",
    "for x in sensors_2011:\n",
    "    if x in sensors_2012 and x in sensors_2012 and x in sensors_2013 and x in sensors_2014 and x in sensors_2015 and x in sensors_2016 and x in sensors_2017 and x in sensors_2018 and x in sensors_2019:\n",
    "        sensors_in_all_years.append(x)\n",
    "        \n",
    "sensors_in_all_years"
   ]
  },
  {
   "cell_type": "code",
   "execution_count": 47,
   "metadata": {
    "ExecuteTime": {
     "end_time": "2020-05-20T09:15:10.444752Z",
     "start_time": "2020-05-20T09:15:10.426163Z"
    }
   },
   "outputs": [],
   "source": [
    "#create df with only valid sensors per year\n",
    "def valid_sensors_per_year(sensor_list, year):\n",
    "    return sensor_counts[(sensor_counts.year == year) & (sensor_counts.sensor_id.isin(sensor_list))]"
   ]
  },
  {
   "cell_type": "code",
   "execution_count": 54,
   "metadata": {
    "ExecuteTime": {
     "end_time": "2020-05-20T09:18:07.756613Z",
     "start_time": "2020-05-20T09:18:04.930044Z"
    }
   },
   "outputs": [],
   "source": [
    "valid_2011 = valid_sensors_per_year(sensors_2011, 2011)\n",
    "valid_2012 = valid_sensors_per_year(sensors_2012, 2012)\n",
    "valid_2013 = valid_sensors_per_year(sensors_2013, 2013)\n",
    "valid_2014 = valid_sensors_per_year(sensors_2014, 2014)\n",
    "valid_2015 = valid_sensors_per_year(sensors_2015, 2015)\n",
    "valid_2016 = valid_sensors_per_year(sensors_2016, 2016)\n",
    "valid_2017 = valid_sensors_per_year(sensors_2017, 2017)\n",
    "valid_2018 = valid_sensors_per_year(sensors_2018, 2018)\n",
    "valid_2019 = valid_sensors_per_year(sensors_2019, 2019)"
   ]
  },
  {
   "cell_type": "markdown",
   "metadata": {},
   "source": [
    "### clean datetime"
   ]
  },
  {
   "cell_type": "code",
   "execution_count": 169,
   "metadata": {
    "ExecuteTime": {
     "end_time": "2020-05-20T10:13:10.755664Z",
     "start_time": "2020-05-20T10:13:09.009723Z"
    }
   },
   "outputs": [],
   "source": [
    "all_sensors = pd.concat([valid_2011, valid_2012, valid_2013, valid_2014, valid_2015, valid_2016, valid_2017,\n",
    "                         valid_2018, valid_2019])\n",
    "all_sensors.drop('datetime', axis = 1, inplace =True)\n",
    "all_sensors.rename({'day': 'weekday', 'mdate': 'day', 'time': 'hour'}, axis =1, inplace = True)\n"
   ]
  },
  {
   "cell_type": "code",
   "execution_count": 171,
   "metadata": {
    "ExecuteTime": {
     "end_time": "2020-05-20T10:13:40.857714Z",
     "start_time": "2020-05-20T10:13:40.075226Z"
    }
   },
   "outputs": [],
   "source": [
    "#change month to integers 1-12\n",
    "\n",
    "months = {'January': 1, 'February': 2, 'March': 3, 'April': 4, 'May': 5, 'June':6, 'July': 7, 'August': 8,\n",
    "         'September': 9, 'October': 10, 'November': 11, 'December': 12}\n",
    "\n",
    "all_sensors.month = sensor_counts.month.map(months)"
   ]
  },
  {
   "cell_type": "code",
   "execution_count": 173,
   "metadata": {
    "ExecuteTime": {
     "end_time": "2020-05-20T10:14:19.901593Z",
     "start_time": "2020-05-20T10:14:19.345003Z"
    }
   },
   "outputs": [],
   "source": [
    "all_sensors['datetime'] = pd.to_datetime(all_sensors[['year', 'month', 'day', 'hour']])"
   ]
  },
  {
   "cell_type": "code",
   "execution_count": 174,
   "metadata": {
    "ExecuteTime": {
     "end_time": "2020-05-20T10:14:27.785235Z",
     "start_time": "2020-05-20T10:14:27.759563Z"
    }
   },
   "outputs": [
    {
     "data": {
      "text/html": [
       "<div>\n",
       "<style scoped>\n",
       "    .dataframe tbody tr th:only-of-type {\n",
       "        vertical-align: middle;\n",
       "    }\n",
       "\n",
       "    .dataframe tbody tr th {\n",
       "        vertical-align: top;\n",
       "    }\n",
       "\n",
       "    .dataframe thead th {\n",
       "        text-align: right;\n",
       "    }\n",
       "</style>\n",
       "<table border=\"1\" class=\"dataframe\">\n",
       "  <thead>\n",
       "    <tr style=\"text-align: right;\">\n",
       "      <th></th>\n",
       "      <th>year</th>\n",
       "      <th>month</th>\n",
       "      <th>day</th>\n",
       "      <th>weekday</th>\n",
       "      <th>hour</th>\n",
       "      <th>sensor_id</th>\n",
       "      <th>hourly_counts</th>\n",
       "      <th>datetime</th>\n",
       "    </tr>\n",
       "  </thead>\n",
       "  <tbody>\n",
       "    <tr>\n",
       "      <td>289505</td>\n",
       "      <td>2011</td>\n",
       "      <td>1</td>\n",
       "      <td>1</td>\n",
       "      <td>Saturday</td>\n",
       "      <td>0</td>\n",
       "      <td>2</td>\n",
       "      <td>985</td>\n",
       "      <td>2011-01-01 00:00:00</td>\n",
       "    </tr>\n",
       "    <tr>\n",
       "      <td>289506</td>\n",
       "      <td>2011</td>\n",
       "      <td>1</td>\n",
       "      <td>1</td>\n",
       "      <td>Saturday</td>\n",
       "      <td>0</td>\n",
       "      <td>3</td>\n",
       "      <td>2547</td>\n",
       "      <td>2011-01-01 00:00:00</td>\n",
       "    </tr>\n",
       "    <tr>\n",
       "      <td>289507</td>\n",
       "      <td>2011</td>\n",
       "      <td>1</td>\n",
       "      <td>1</td>\n",
       "      <td>Saturday</td>\n",
       "      <td>0</td>\n",
       "      <td>4</td>\n",
       "      <td>3514</td>\n",
       "      <td>2011-01-01 00:00:00</td>\n",
       "    </tr>\n",
       "    <tr>\n",
       "      <td>289508</td>\n",
       "      <td>2011</td>\n",
       "      <td>1</td>\n",
       "      <td>1</td>\n",
       "      <td>Saturday</td>\n",
       "      <td>0</td>\n",
       "      <td>5</td>\n",
       "      <td>5021</td>\n",
       "      <td>2011-01-01 00:00:00</td>\n",
       "    </tr>\n",
       "    <tr>\n",
       "      <td>289509</td>\n",
       "      <td>2011</td>\n",
       "      <td>1</td>\n",
       "      <td>1</td>\n",
       "      <td>Saturday</td>\n",
       "      <td>0</td>\n",
       "      <td>6</td>\n",
       "      <td>3514</td>\n",
       "      <td>2011-01-01 00:00:00</td>\n",
       "    </tr>\n",
       "    <tr>\n",
       "      <td>...</td>\n",
       "      <td>...</td>\n",
       "      <td>...</td>\n",
       "      <td>...</td>\n",
       "      <td>...</td>\n",
       "      <td>...</td>\n",
       "      <td>...</td>\n",
       "      <td>...</td>\n",
       "      <td>...</td>\n",
       "    </tr>\n",
       "    <tr>\n",
       "      <td>2966829</td>\n",
       "      <td>2019</td>\n",
       "      <td>10</td>\n",
       "      <td>31</td>\n",
       "      <td>Thursday</td>\n",
       "      <td>23</td>\n",
       "      <td>52</td>\n",
       "      <td>216</td>\n",
       "      <td>2019-10-31 23:00:00</td>\n",
       "    </tr>\n",
       "    <tr>\n",
       "      <td>2966830</td>\n",
       "      <td>2019</td>\n",
       "      <td>10</td>\n",
       "      <td>31</td>\n",
       "      <td>Thursday</td>\n",
       "      <td>23</td>\n",
       "      <td>54</td>\n",
       "      <td>104</td>\n",
       "      <td>2019-10-31 23:00:00</td>\n",
       "    </tr>\n",
       "    <tr>\n",
       "      <td>2966832</td>\n",
       "      <td>2019</td>\n",
       "      <td>10</td>\n",
       "      <td>31</td>\n",
       "      <td>Thursday</td>\n",
       "      <td>23</td>\n",
       "      <td>56</td>\n",
       "      <td>162</td>\n",
       "      <td>2019-10-31 23:00:00</td>\n",
       "    </tr>\n",
       "    <tr>\n",
       "      <td>2966833</td>\n",
       "      <td>2019</td>\n",
       "      <td>10</td>\n",
       "      <td>31</td>\n",
       "      <td>Thursday</td>\n",
       "      <td>23</td>\n",
       "      <td>57</td>\n",
       "      <td>73</td>\n",
       "      <td>2019-10-31 23:00:00</td>\n",
       "    </tr>\n",
       "    <tr>\n",
       "      <td>2966834</td>\n",
       "      <td>2019</td>\n",
       "      <td>10</td>\n",
       "      <td>31</td>\n",
       "      <td>Thursday</td>\n",
       "      <td>23</td>\n",
       "      <td>58</td>\n",
       "      <td>312</td>\n",
       "      <td>2019-10-31 23:00:00</td>\n",
       "    </tr>\n",
       "  </tbody>\n",
       "</table>\n",
       "<p>2378186 rows × 8 columns</p>\n",
       "</div>"
      ],
      "text/plain": [
       "         year  month  day   weekday  hour  sensor_id  hourly_counts  \\\n",
       "289505   2011      1    1  Saturday     0          2            985   \n",
       "289506   2011      1    1  Saturday     0          3           2547   \n",
       "289507   2011      1    1  Saturday     0          4           3514   \n",
       "289508   2011      1    1  Saturday     0          5           5021   \n",
       "289509   2011      1    1  Saturday     0          6           3514   \n",
       "...       ...    ...  ...       ...   ...        ...            ...   \n",
       "2966829  2019     10   31  Thursday    23         52            216   \n",
       "2966830  2019     10   31  Thursday    23         54            104   \n",
       "2966832  2019     10   31  Thursday    23         56            162   \n",
       "2966833  2019     10   31  Thursday    23         57             73   \n",
       "2966834  2019     10   31  Thursday    23         58            312   \n",
       "\n",
       "                   datetime  \n",
       "289505  2011-01-01 00:00:00  \n",
       "289506  2011-01-01 00:00:00  \n",
       "289507  2011-01-01 00:00:00  \n",
       "289508  2011-01-01 00:00:00  \n",
       "289509  2011-01-01 00:00:00  \n",
       "...                     ...  \n",
       "2966829 2019-10-31 23:00:00  \n",
       "2966830 2019-10-31 23:00:00  \n",
       "2966832 2019-10-31 23:00:00  \n",
       "2966833 2019-10-31 23:00:00  \n",
       "2966834 2019-10-31 23:00:00  \n",
       "\n",
       "[2378186 rows x 8 columns]"
      ]
     },
     "execution_count": 174,
     "metadata": {},
     "output_type": "execute_result"
    }
   ],
   "source": [
    "all_sensors"
   ]
  },
  {
   "cell_type": "code",
   "execution_count": 175,
   "metadata": {
    "ExecuteTime": {
     "end_time": "2020-05-20T10:15:13.169962Z",
     "start_time": "2020-05-20T10:14:43.829855Z"
    }
   },
   "outputs": [],
   "source": [
    "#save csv with all sensors that are valid for at least one year at a time\n",
    "\n",
    "all_sensors.to_csv('./cleaned datasets/all_valid_sensors.csv', header = all_sensors.columns, index=False)"
   ]
  },
  {
   "cell_type": "markdown",
   "metadata": {
    "heading_collapsed": true
   },
   "source": [
    "# Datasets with city features and location coordinates"
   ]
  },
  {
   "cell_type": "markdown",
   "metadata": {
    "heading_collapsed": true,
    "hidden": true
   },
   "source": [
    "## Dataset with building information across the city\n",
    " \"Data collected as part of the City of Melbourne's Census of Land Use and Employment (CLUE). The data covers the period 2002-2018. It shows selected building attributes including location, construction year, refurbished year, number of floors above ground, predominant space use, bicycle/shower facilities and building accessibility. \""
   ]
  },
  {
   "cell_type": "code",
   "execution_count": 89,
   "metadata": {
    "ExecuteTime": {
     "end_time": "2020-05-20T09:31:27.922632Z",
     "start_time": "2020-05-20T09:31:25.946315Z"
    },
    "hidden": true
   },
   "outputs": [],
   "source": [
    "buildings = pd.read_csv('./Original CSVs/Buildings_with_name__age__size__accessibility__and_bicycle_facilities.csv')"
   ]
  },
  {
   "cell_type": "code",
   "execution_count": 90,
   "metadata": {
    "ExecuteTime": {
     "end_time": "2020-05-20T09:31:28.063483Z",
     "start_time": "2020-05-20T09:31:27.931820Z"
    },
    "hidden": true
   },
   "outputs": [
    {
     "data": {
      "text/html": [
       "<div>\n",
       "<style scoped>\n",
       "    .dataframe tbody tr th:only-of-type {\n",
       "        vertical-align: middle;\n",
       "    }\n",
       "\n",
       "    .dataframe tbody tr th {\n",
       "        vertical-align: top;\n",
       "    }\n",
       "\n",
       "    .dataframe thead th {\n",
       "        text-align: right;\n",
       "    }\n",
       "</style>\n",
       "<table border=\"1\" class=\"dataframe\">\n",
       "  <thead>\n",
       "    <tr style=\"text-align: right;\">\n",
       "      <th></th>\n",
       "      <th>Census year</th>\n",
       "      <th>Block ID</th>\n",
       "      <th>Property ID</th>\n",
       "      <th>Base property ID</th>\n",
       "      <th>Building name</th>\n",
       "      <th>Street address</th>\n",
       "      <th>CLUE small area</th>\n",
       "      <th>Construction year</th>\n",
       "      <th>Refurbished year</th>\n",
       "      <th>Number of floors (above ground)</th>\n",
       "      <th>Predominant space use</th>\n",
       "      <th>Accessibility type</th>\n",
       "      <th>Accessibility type description</th>\n",
       "      <th>Accessibility rating</th>\n",
       "      <th>Bicycle spaces</th>\n",
       "      <th>Has showers</th>\n",
       "      <th>x coordinate</th>\n",
       "      <th>y coordinate</th>\n",
       "      <th>Location</th>\n",
       "    </tr>\n",
       "  </thead>\n",
       "  <tbody>\n",
       "    <tr>\n",
       "      <td>0</td>\n",
       "      <td>2002</td>\n",
       "      <td>337</td>\n",
       "      <td>111382</td>\n",
       "      <td>111382</td>\n",
       "      <td>NaN</td>\n",
       "      <td>99-101 Munster Terrace</td>\n",
       "      <td>North Melbourne</td>\n",
       "      <td>1990.0</td>\n",
       "      <td>2000.0</td>\n",
       "      <td>1</td>\n",
       "      <td>Wholesale</td>\n",
       "      <td>NaN</td>\n",
       "      <td>NaN</td>\n",
       "      <td>NaN</td>\n",
       "      <td>NaN</td>\n",
       "      <td>NaN</td>\n",
       "      <td>144.9426</td>\n",
       "      <td>-37.8011</td>\n",
       "      <td>(-37.80106468, 144.9425944)</td>\n",
       "    </tr>\n",
       "    <tr>\n",
       "      <td>1</td>\n",
       "      <td>2002</td>\n",
       "      <td>562</td>\n",
       "      <td>110840</td>\n",
       "      <td>110840</td>\n",
       "      <td>NaN</td>\n",
       "      <td>5 Halford Lane</td>\n",
       "      <td>Kensington</td>\n",
       "      <td>NaN</td>\n",
       "      <td>NaN</td>\n",
       "      <td>2</td>\n",
       "      <td>House/Townhouse</td>\n",
       "      <td>NaN</td>\n",
       "      <td>NaN</td>\n",
       "      <td>NaN</td>\n",
       "      <td>NaN</td>\n",
       "      <td>NaN</td>\n",
       "      <td>144.9209</td>\n",
       "      <td>-37.7915</td>\n",
       "      <td>(-37.79151557, 144.9208696)</td>\n",
       "    </tr>\n",
       "    <tr>\n",
       "      <td>2</td>\n",
       "      <td>2002</td>\n",
       "      <td>236</td>\n",
       "      <td>106827</td>\n",
       "      <td>106827</td>\n",
       "      <td>NaN</td>\n",
       "      <td>12 Murchison Street</td>\n",
       "      <td>Carlton</td>\n",
       "      <td>NaN</td>\n",
       "      <td>NaN</td>\n",
       "      <td>1</td>\n",
       "      <td>House/Townhouse</td>\n",
       "      <td>NaN</td>\n",
       "      <td>NaN</td>\n",
       "      <td>NaN</td>\n",
       "      <td>NaN</td>\n",
       "      <td>NaN</td>\n",
       "      <td>144.9740</td>\n",
       "      <td>-37.7998</td>\n",
       "      <td>(-37.799826, 144.9740267)</td>\n",
       "    </tr>\n",
       "    <tr>\n",
       "      <td>3</td>\n",
       "      <td>2002</td>\n",
       "      <td>229</td>\n",
       "      <td>101462</td>\n",
       "      <td>101462</td>\n",
       "      <td>NaN</td>\n",
       "      <td>188 Canning Street</td>\n",
       "      <td>Carlton</td>\n",
       "      <td>NaN</td>\n",
       "      <td>NaN</td>\n",
       "      <td>2</td>\n",
       "      <td>House/Townhouse</td>\n",
       "      <td>NaN</td>\n",
       "      <td>NaN</td>\n",
       "      <td>NaN</td>\n",
       "      <td>NaN</td>\n",
       "      <td>NaN</td>\n",
       "      <td>144.9739</td>\n",
       "      <td>-37.7941</td>\n",
       "      <td>(-37.79405814, 144.9738662)</td>\n",
       "    </tr>\n",
       "    <tr>\n",
       "      <td>4</td>\n",
       "      <td>2002</td>\n",
       "      <td>114</td>\n",
       "      <td>104097</td>\n",
       "      <td>104097</td>\n",
       "      <td>NaN</td>\n",
       "      <td>108 Franklin Street</td>\n",
       "      <td>Melbourne (CBD)</td>\n",
       "      <td>1901.0</td>\n",
       "      <td>NaN</td>\n",
       "      <td>2</td>\n",
       "      <td>House/Townhouse</td>\n",
       "      <td>NaN</td>\n",
       "      <td>NaN</td>\n",
       "      <td>NaN</td>\n",
       "      <td>NaN</td>\n",
       "      <td>NaN</td>\n",
       "      <td>144.9593</td>\n",
       "      <td>-37.8082</td>\n",
       "      <td>(-37.80822013, 144.9592588)</td>\n",
       "    </tr>\n",
       "  </tbody>\n",
       "</table>\n",
       "</div>"
      ],
      "text/plain": [
       "   Census year  Block ID  Property ID  Base property ID Building name  \\\n",
       "0         2002       337       111382            111382           NaN   \n",
       "1         2002       562       110840            110840           NaN   \n",
       "2         2002       236       106827            106827           NaN   \n",
       "3         2002       229       101462            101462           NaN   \n",
       "4         2002       114       104097            104097           NaN   \n",
       "\n",
       "           Street address  CLUE small area  Construction year  \\\n",
       "0  99-101 Munster Terrace  North Melbourne             1990.0   \n",
       "1          5 Halford Lane       Kensington                NaN   \n",
       "2     12 Murchison Street          Carlton                NaN   \n",
       "3      188 Canning Street          Carlton                NaN   \n",
       "4     108 Franklin Street  Melbourne (CBD)             1901.0   \n",
       "\n",
       "   Refurbished year  Number of floors (above ground) Predominant space use  \\\n",
       "0            2000.0                                1             Wholesale   \n",
       "1               NaN                                2       House/Townhouse   \n",
       "2               NaN                                1       House/Townhouse   \n",
       "3               NaN                                2       House/Townhouse   \n",
       "4               NaN                                2       House/Townhouse   \n",
       "\n",
       "  Accessibility type Accessibility type description  Accessibility rating  \\\n",
       "0                NaN                            NaN                   NaN   \n",
       "1                NaN                            NaN                   NaN   \n",
       "2                NaN                            NaN                   NaN   \n",
       "3                NaN                            NaN                   NaN   \n",
       "4                NaN                            NaN                   NaN   \n",
       "\n",
       "   Bicycle spaces  Has showers  x coordinate  y coordinate  \\\n",
       "0             NaN          NaN      144.9426      -37.8011   \n",
       "1             NaN          NaN      144.9209      -37.7915   \n",
       "2             NaN          NaN      144.9740      -37.7998   \n",
       "3             NaN          NaN      144.9739      -37.7941   \n",
       "4             NaN          NaN      144.9593      -37.8082   \n",
       "\n",
       "                      Location  \n",
       "0  (-37.80106468, 144.9425944)  \n",
       "1  (-37.79151557, 144.9208696)  \n",
       "2    (-37.799826, 144.9740267)  \n",
       "3  (-37.79405814, 144.9738662)  \n",
       "4  (-37.80822013, 144.9592588)  "
      ]
     },
     "execution_count": 90,
     "metadata": {},
     "output_type": "execute_result"
    }
   ],
   "source": [
    "buildings.head()"
   ]
  },
  {
   "cell_type": "code",
   "execution_count": 91,
   "metadata": {
    "ExecuteTime": {
     "end_time": "2020-05-20T09:31:28.192567Z",
     "start_time": "2020-05-20T09:31:28.125456Z"
    },
    "hidden": true
   },
   "outputs": [],
   "source": [
    "buildings.drop(['Block ID', 'Property ID', 'Base property ID', 'Building name', 'Construction year', 'Location',\n",
    "                'Street address', 'CLUE small area', 'Refurbished year', 'Has showers', 'Accessibility type description'], axis = 1, inplace = True)"
   ]
  },
  {
   "cell_type": "code",
   "execution_count": 92,
   "metadata": {
    "ExecuteTime": {
     "end_time": "2020-05-20T09:31:28.340778Z",
     "start_time": "2020-05-20T09:31:28.213324Z"
    },
    "hidden": true
   },
   "outputs": [
    {
     "data": {
      "text/plain": [
       "Census year                             0\n",
       "Number of floors (above ground)         0\n",
       "Predominant space use                   0\n",
       "Accessibility type                  29803\n",
       "Accessibility rating                29803\n",
       "Bicycle spaces                     180088\n",
       "x coordinate                           15\n",
       "y coordinate                           15\n",
       "dtype: int64"
      ]
     },
     "execution_count": 92,
     "metadata": {},
     "output_type": "execute_result"
    }
   ],
   "source": [
    "buildings.isnull().sum()"
   ]
  },
  {
   "cell_type": "code",
   "execution_count": 93,
   "metadata": {
    "ExecuteTime": {
     "end_time": "2020-05-20T09:31:28.387614Z",
     "start_time": "2020-05-20T09:31:28.365841Z"
    },
    "hidden": true
   },
   "outputs": [],
   "source": [
    "#fill bicycle spaces that don't have values with 0\n",
    "buildings['Bicycle spaces'].fillna(0, inplace = True)"
   ]
  },
  {
   "cell_type": "code",
   "execution_count": 94,
   "metadata": {
    "ExecuteTime": {
     "end_time": "2020-05-20T09:31:28.505570Z",
     "start_time": "2020-05-20T09:31:28.409829Z"
    },
    "hidden": true
   },
   "outputs": [],
   "source": [
    "#drop 15 buildings that don't have location coordinates\n",
    "buildings.dropna(subset = ['x coordinate'], axis = 0, inplace = True)"
   ]
  },
  {
   "cell_type": "code",
   "execution_count": 95,
   "metadata": {
    "ExecuteTime": {
     "end_time": "2020-05-20T09:31:28.670448Z",
     "start_time": "2020-05-20T09:31:28.512281Z"
    },
    "hidden": true
   },
   "outputs": [
    {
     "data": {
      "text/plain": [
       "Not determined or not applicable    116718\n",
       "Low level of accessibility           42223\n",
       "High level of accessibility          23841\n",
       "Moderate level of accessibility       8350\n",
       "Name: Accessibility type, dtype: int64"
      ]
     },
     "execution_count": 95,
     "metadata": {},
     "output_type": "execute_result"
    }
   ],
   "source": [
    "buildings['Accessibility type'].value_counts()\n",
    "#since there is lots of NaN's in this column, it may be dropped later"
   ]
  },
  {
   "cell_type": "code",
   "execution_count": 96,
   "metadata": {
    "ExecuteTime": {
     "end_time": "2020-05-20T09:31:28.773091Z",
     "start_time": "2020-05-20T09:31:28.692347Z"
    },
    "hidden": true
   },
   "outputs": [
    {
     "data": {
      "text/html": [
       "<div>\n",
       "<style scoped>\n",
       "    .dataframe tbody tr th:only-of-type {\n",
       "        vertical-align: middle;\n",
       "    }\n",
       "\n",
       "    .dataframe tbody tr th {\n",
       "        vertical-align: top;\n",
       "    }\n",
       "\n",
       "    .dataframe thead th {\n",
       "        text-align: right;\n",
       "    }\n",
       "</style>\n",
       "<table border=\"1\" class=\"dataframe\">\n",
       "  <thead>\n",
       "    <tr style=\"text-align: right;\">\n",
       "      <th></th>\n",
       "      <th>Census year</th>\n",
       "      <th>Number of floors (above ground)</th>\n",
       "      <th>Predominant space use</th>\n",
       "      <th>Accessibility type</th>\n",
       "      <th>Accessibility rating</th>\n",
       "      <th>Bicycle spaces</th>\n",
       "      <th>x coordinate</th>\n",
       "      <th>y coordinate</th>\n",
       "    </tr>\n",
       "  </thead>\n",
       "  <tbody>\n",
       "    <tr>\n",
       "      <td>924</td>\n",
       "      <td>2011</td>\n",
       "      <td>2</td>\n",
       "      <td>House/Townhouse</td>\n",
       "      <td>Low level of accessibility</td>\n",
       "      <td>1.0</td>\n",
       "      <td>0.0</td>\n",
       "      <td>144.9815</td>\n",
       "      <td>-37.8177</td>\n",
       "    </tr>\n",
       "    <tr>\n",
       "      <td>925</td>\n",
       "      <td>2011</td>\n",
       "      <td>2</td>\n",
       "      <td>House/Townhouse</td>\n",
       "      <td>NaN</td>\n",
       "      <td>NaN</td>\n",
       "      <td>0.0</td>\n",
       "      <td>144.9292</td>\n",
       "      <td>-37.7931</td>\n",
       "    </tr>\n",
       "    <tr>\n",
       "      <td>926</td>\n",
       "      <td>2011</td>\n",
       "      <td>1</td>\n",
       "      <td>House/Townhouse</td>\n",
       "      <td>NaN</td>\n",
       "      <td>NaN</td>\n",
       "      <td>0.0</td>\n",
       "      <td>144.9409</td>\n",
       "      <td>-37.7905</td>\n",
       "    </tr>\n",
       "    <tr>\n",
       "      <td>927</td>\n",
       "      <td>2011</td>\n",
       "      <td>1</td>\n",
       "      <td>House/Townhouse</td>\n",
       "      <td>NaN</td>\n",
       "      <td>NaN</td>\n",
       "      <td>0.0</td>\n",
       "      <td>144.9280</td>\n",
       "      <td>-37.7940</td>\n",
       "    </tr>\n",
       "    <tr>\n",
       "      <td>928</td>\n",
       "      <td>2011</td>\n",
       "      <td>1</td>\n",
       "      <td>House/Townhouse</td>\n",
       "      <td>NaN</td>\n",
       "      <td>NaN</td>\n",
       "      <td>0.0</td>\n",
       "      <td>144.9315</td>\n",
       "      <td>-37.7926</td>\n",
       "    </tr>\n",
       "  </tbody>\n",
       "</table>\n",
       "</div>"
      ],
      "text/plain": [
       "     Census year  Number of floors (above ground) Predominant space use  \\\n",
       "924         2011                                2       House/Townhouse   \n",
       "925         2011                                2       House/Townhouse   \n",
       "926         2011                                1       House/Townhouse   \n",
       "927         2011                                1       House/Townhouse   \n",
       "928         2011                                1       House/Townhouse   \n",
       "\n",
       "             Accessibility type  Accessibility rating  Bicycle spaces  \\\n",
       "924  Low level of accessibility                   1.0             0.0   \n",
       "925                         NaN                   NaN             0.0   \n",
       "926                         NaN                   NaN             0.0   \n",
       "927                         NaN                   NaN             0.0   \n",
       "928                         NaN                   NaN             0.0   \n",
       "\n",
       "     x coordinate  y coordinate  \n",
       "924      144.9815      -37.8177  \n",
       "925      144.9292      -37.7931  \n",
       "926      144.9409      -37.7905  \n",
       "927      144.9280      -37.7940  \n",
       "928      144.9315      -37.7926  "
      ]
     },
     "execution_count": 96,
     "metadata": {},
     "output_type": "execute_result"
    }
   ],
   "source": [
    "#only keep years 2011 - 2018 \n",
    "buildings = buildings[buildings['Census year'] >2010]\n",
    "buildings.head()"
   ]
  },
  {
   "cell_type": "code",
   "execution_count": 97,
   "metadata": {
    "ExecuteTime": {
     "end_time": "2020-05-20T09:31:29.337196Z",
     "start_time": "2020-05-20T09:31:29.326651Z"
    },
    "hidden": true
   },
   "outputs": [
    {
     "data": {
      "text/plain": [
       "Index(['Census year', 'Number of floors (above ground)',\n",
       "       'Predominant space use', 'Accessibility type', 'Accessibility rating',\n",
       "       'Bicycle spaces', 'x coordinate', 'y coordinate'],\n",
       "      dtype='object')"
      ]
     },
     "execution_count": 97,
     "metadata": {},
     "output_type": "execute_result"
    }
   ],
   "source": [
    "buildings.columns"
   ]
  },
  {
   "cell_type": "code",
   "execution_count": 98,
   "metadata": {
    "ExecuteTime": {
     "end_time": "2020-05-20T09:31:30.062826Z",
     "start_time": "2020-05-20T09:31:30.033111Z"
    },
    "hidden": true
   },
   "outputs": [],
   "source": [
    "#rename columns\n",
    "buildings.rename({'Census year': 'year', 'Number of floors (above ground)': 'n_floors', \n",
    "                 'Predominant space use': 'building_use', 'Accessibility type': 'access_type',\n",
    "                 'Accessibility rating': 'access_rating', 'Bicycle spaces': 'bike_spaces',\n",
    "                 'x coordinate': 'longitude', 'y coordinate': 'latitude'}, axis =1, inplace = True)"
   ]
  },
  {
   "cell_type": "code",
   "execution_count": 99,
   "metadata": {
    "ExecuteTime": {
     "end_time": "2020-05-20T09:31:30.544484Z",
     "start_time": "2020-05-20T09:31:30.518380Z"
    },
    "hidden": true
   },
   "outputs": [
    {
     "data": {
      "text/plain": [
       "year                0\n",
       "n_floors            0\n",
       "building_use        0\n",
       "access_type      9745\n",
       "access_rating    9745\n",
       "bike_spaces         0\n",
       "longitude           0\n",
       "latitude            0\n",
       "dtype: int64"
      ]
     },
     "execution_count": 99,
     "metadata": {},
     "output_type": "execute_result"
    }
   ],
   "source": [
    "buildings.isnull().sum()"
   ]
  },
  {
   "cell_type": "code",
   "execution_count": 100,
   "metadata": {
    "ExecuteTime": {
     "end_time": "2020-05-20T09:31:31.067309Z",
     "start_time": "2020-05-20T09:31:30.999818Z"
    },
    "hidden": true
   },
   "outputs": [],
   "source": [
    "buildings.access_type = buildings.access_type.replace({'Not determined or not applicable': np.nan, 'Low level of accessibility': 'low', \n",
    "                               'Moderate level of accessibility': 'moderate', 'High level of accessibility': 'high'})"
   ]
  },
  {
   "cell_type": "code",
   "execution_count": 101,
   "metadata": {
    "ExecuteTime": {
     "end_time": "2020-05-20T09:31:31.672252Z",
     "start_time": "2020-05-20T09:31:31.648292Z"
    },
    "hidden": true
   },
   "outputs": [],
   "source": [
    "#change access type to categorical\n",
    "cat_type = pd.CategoricalDtype(categories = ['low', 'moderate', 'high'], ordered = True)\n",
    "buildings.access_type = buildings.access_type.astype(cat_type)"
   ]
  },
  {
   "cell_type": "code",
   "execution_count": 102,
   "metadata": {
    "ExecuteTime": {
     "end_time": "2020-05-20T09:31:33.073735Z",
     "start_time": "2020-05-20T09:31:32.058428Z"
    },
    "hidden": true
   },
   "outputs": [
    {
     "data": {
      "image/png": "[encoded data removed]",
      "text/plain": [
       "<Figure size 432x288 with 2 Axes>"
      ]
     },
     "metadata": {
      "needs_background": "light"
     },
     "output_type": "display_data"
    }
   ],
   "source": [
    "#see correlations\n",
    "sns.heatmap(buildings.corr(), annot = True);"
   ]
  },
  {
   "cell_type": "code",
   "execution_count": 103,
   "metadata": {
    "ExecuteTime": {
     "end_time": "2020-05-20T09:31:33.202338Z",
     "start_time": "2020-05-20T09:31:33.124506Z"
    },
    "hidden": true
   },
   "outputs": [
    {
     "data": {
      "text/html": [
       "<div>\n",
       "<style scoped>\n",
       "    .dataframe tbody tr th:only-of-type {\n",
       "        vertical-align: middle;\n",
       "    }\n",
       "\n",
       "    .dataframe tbody tr th {\n",
       "        vertical-align: top;\n",
       "    }\n",
       "\n",
       "    .dataframe thead th {\n",
       "        text-align: right;\n",
       "    }\n",
       "</style>\n",
       "<table border=\"1\" class=\"dataframe\">\n",
       "  <thead>\n",
       "    <tr style=\"text-align: right;\">\n",
       "      <th></th>\n",
       "      <th>year</th>\n",
       "      <th>n_floors</th>\n",
       "      <th>building_use</th>\n",
       "      <th>access_type</th>\n",
       "      <th>access_rating</th>\n",
       "      <th>bike_spaces</th>\n",
       "      <th>longitude</th>\n",
       "      <th>latitude</th>\n",
       "    </tr>\n",
       "  </thead>\n",
       "  <tbody>\n",
       "    <tr>\n",
       "      <td>924</td>\n",
       "      <td>2011</td>\n",
       "      <td>2</td>\n",
       "      <td>House/Townhouse</td>\n",
       "      <td>low</td>\n",
       "      <td>1.0</td>\n",
       "      <td>0.0</td>\n",
       "      <td>144.9815</td>\n",
       "      <td>-37.8177</td>\n",
       "    </tr>\n",
       "    <tr>\n",
       "      <td>925</td>\n",
       "      <td>2011</td>\n",
       "      <td>2</td>\n",
       "      <td>House/Townhouse</td>\n",
       "      <td>NaN</td>\n",
       "      <td>NaN</td>\n",
       "      <td>0.0</td>\n",
       "      <td>144.9292</td>\n",
       "      <td>-37.7931</td>\n",
       "    </tr>\n",
       "    <tr>\n",
       "      <td>926</td>\n",
       "      <td>2011</td>\n",
       "      <td>1</td>\n",
       "      <td>House/Townhouse</td>\n",
       "      <td>NaN</td>\n",
       "      <td>NaN</td>\n",
       "      <td>0.0</td>\n",
       "      <td>144.9409</td>\n",
       "      <td>-37.7905</td>\n",
       "    </tr>\n",
       "    <tr>\n",
       "      <td>927</td>\n",
       "      <td>2011</td>\n",
       "      <td>1</td>\n",
       "      <td>House/Townhouse</td>\n",
       "      <td>NaN</td>\n",
       "      <td>NaN</td>\n",
       "      <td>0.0</td>\n",
       "      <td>144.9280</td>\n",
       "      <td>-37.7940</td>\n",
       "    </tr>\n",
       "    <tr>\n",
       "      <td>928</td>\n",
       "      <td>2011</td>\n",
       "      <td>1</td>\n",
       "      <td>House/Townhouse</td>\n",
       "      <td>NaN</td>\n",
       "      <td>NaN</td>\n",
       "      <td>0.0</td>\n",
       "      <td>144.9315</td>\n",
       "      <td>-37.7926</td>\n",
       "    </tr>\n",
       "  </tbody>\n",
       "</table>\n",
       "</div>"
      ],
      "text/plain": [
       "     year  n_floors     building_use access_type  access_rating  bike_spaces  \\\n",
       "924  2011         2  House/Townhouse         low            1.0          0.0   \n",
       "925  2011         2  House/Townhouse         NaN            NaN          0.0   \n",
       "926  2011         1  House/Townhouse         NaN            NaN          0.0   \n",
       "927  2011         1  House/Townhouse         NaN            NaN          0.0   \n",
       "928  2011         1  House/Townhouse         NaN            NaN          0.0   \n",
       "\n",
       "     longitude  latitude  \n",
       "924   144.9815  -37.8177  \n",
       "925   144.9292  -37.7931  \n",
       "926   144.9409  -37.7905  \n",
       "927   144.9280  -37.7940  \n",
       "928   144.9315  -37.7926  "
      ]
     },
     "execution_count": 103,
     "metadata": {},
     "output_type": "execute_result"
    }
   ],
   "source": [
    "buildings.head()"
   ]
  },
  {
   "cell_type": "code",
   "execution_count": 104,
   "metadata": {
    "ExecuteTime": {
     "end_time": "2020-05-20T09:31:46.483264Z",
     "start_time": "2020-05-20T09:31:46.468675Z"
    },
    "hidden": true
   },
   "outputs": [
    {
     "data": {
      "text/plain": [
       "year                int64\n",
       "n_floors            int64\n",
       "building_use       object\n",
       "access_type      category\n",
       "access_rating     float64\n",
       "bike_spaces       float64\n",
       "longitude         float64\n",
       "latitude          float64\n",
       "dtype: object"
      ]
     },
     "execution_count": 104,
     "metadata": {},
     "output_type": "execute_result"
    }
   ],
   "source": [
    "buildings.dtypes"
   ]
  },
  {
   "cell_type": "code",
   "execution_count": 105,
   "metadata": {
    "ExecuteTime": {
     "end_time": "2020-05-20T09:32:49.121311Z",
     "start_time": "2020-05-20T09:32:46.553456Z"
    },
    "hidden": true
   },
   "outputs": [],
   "source": [
    "#save to csv\n",
    "buildings.to_csv('./cleaned datasets/buildings_clean.csv', header = buildings.columns, index=False)"
   ]
  },
  {
   "cell_type": "markdown",
   "metadata": {
    "heading_collapsed": true,
    "hidden": true
   },
   "source": [
    "## Dataset with Landmarks & Places of Interest\n",
    "\"This dataset contains a description and co-ordinates of places of interest within the City of Melbourne.\n",
    "\n",
    "Themes include: Community Use, Education Centre, Health Services, Leisure/Recreation, Mixed Use, Office, Place Of Assembly, Place of Worship, Purpose Built, Retail, Transport, Vacant Land\n",
    "\n",
    "Sub-themes include: Art Gallery/Museum, Church, Function/Conference/Exhibition Centre, Informal Outdoor Facility (Park/Garden/Reserve), Major Sports & Recreation Facility, Office, Public Buildings, Public Hospital, Railway Station, Retail/Office/Carpark, Tertiary (University), Theatre Live\""
   ]
  },
  {
   "cell_type": "code",
   "execution_count": 106,
   "metadata": {
    "ExecuteTime": {
     "end_time": "2020-05-20T09:39:10.390156Z",
     "start_time": "2020-05-20T09:39:10.334812Z"
    },
    "hidden": true
   },
   "outputs": [],
   "source": [
    "landmarks = pd.read_csv('./Original CSVs/Landmarks_and_places_of_interest__including_schools__theatres__health_services__sports_facilities__places_of_worship__galleries_and_museums..csv')"
   ]
  },
  {
   "cell_type": "code",
   "execution_count": 107,
   "metadata": {
    "ExecuteTime": {
     "end_time": "2020-05-20T09:39:10.848605Z",
     "start_time": "2020-05-20T09:39:10.808722Z"
    },
    "hidden": true
   },
   "outputs": [
    {
     "data": {
      "text/html": [
       "<div>\n",
       "<style scoped>\n",
       "    .dataframe tbody tr th:only-of-type {\n",
       "        vertical-align: middle;\n",
       "    }\n",
       "\n",
       "    .dataframe tbody tr th {\n",
       "        vertical-align: top;\n",
       "    }\n",
       "\n",
       "    .dataframe thead th {\n",
       "        text-align: right;\n",
       "    }\n",
       "</style>\n",
       "<table border=\"1\" class=\"dataframe\">\n",
       "  <thead>\n",
       "    <tr style=\"text-align: right;\">\n",
       "      <th></th>\n",
       "      <th>Theme</th>\n",
       "      <th>Sub Theme</th>\n",
       "      <th>Feature Name</th>\n",
       "      <th>Co-ordinates</th>\n",
       "    </tr>\n",
       "  </thead>\n",
       "  <tbody>\n",
       "    <tr>\n",
       "      <td>0</td>\n",
       "      <td>Transport</td>\n",
       "      <td>Railway Station</td>\n",
       "      <td>Flemington Bridge Railway Station</td>\n",
       "      <td>(-37.7881645889621, 144.939277838304)</td>\n",
       "    </tr>\n",
       "    <tr>\n",
       "      <td>1</td>\n",
       "      <td>Mixed Use</td>\n",
       "      <td>Retail/Office/Carpark</td>\n",
       "      <td>Council House 2 (CH2)</td>\n",
       "      <td>(-37.8142591432011, 144.966638432727)</td>\n",
       "    </tr>\n",
       "    <tr>\n",
       "      <td>2</td>\n",
       "      <td>Place Of Assembly</td>\n",
       "      <td>Library</td>\n",
       "      <td>The Melbourne Athenaeum Library</td>\n",
       "      <td>(-37.8148855756416, 144.967291289941)</td>\n",
       "    </tr>\n",
       "    <tr>\n",
       "      <td>3</td>\n",
       "      <td>Leisure/Recreation</td>\n",
       "      <td>Informal Outdoor Facility (Park/Garden/Reserve)</td>\n",
       "      <td>Carlton Gardens South</td>\n",
       "      <td>(-37.8060684577258, 144.971266479841)</td>\n",
       "    </tr>\n",
       "    <tr>\n",
       "      <td>4</td>\n",
       "      <td>Place of Worship</td>\n",
       "      <td>Church</td>\n",
       "      <td>St Francis Church</td>\n",
       "      <td>(-37.8118847831837, 144.962422614541)</td>\n",
       "    </tr>\n",
       "  </tbody>\n",
       "</table>\n",
       "</div>"
      ],
      "text/plain": [
       "                Theme                                        Sub Theme  \\\n",
       "0           Transport                                  Railway Station   \n",
       "1           Mixed Use                            Retail/Office/Carpark   \n",
       "2   Place Of Assembly                                          Library   \n",
       "3  Leisure/Recreation  Informal Outdoor Facility (Park/Garden/Reserve)   \n",
       "4    Place of Worship                                           Church   \n",
       "\n",
       "                        Feature Name                           Co-ordinates  \n",
       "0  Flemington Bridge Railway Station  (-37.7881645889621, 144.939277838304)  \n",
       "1              Council House 2 (CH2)  (-37.8142591432011, 144.966638432727)  \n",
       "2    The Melbourne Athenaeum Library  (-37.8148855756416, 144.967291289941)  \n",
       "3              Carlton Gardens South  (-37.8060684577258, 144.971266479841)  \n",
       "4                  St Francis Church  (-37.8118847831837, 144.962422614541)  "
      ]
     },
     "execution_count": 107,
     "metadata": {},
     "output_type": "execute_result"
    }
   ],
   "source": [
    "landmarks.head()"
   ]
  },
  {
   "cell_type": "code",
   "execution_count": 108,
   "metadata": {
    "ExecuteTime": {
     "end_time": "2020-05-20T09:39:11.396173Z",
     "start_time": "2020-05-20T09:39:11.380519Z"
    },
    "hidden": true
   },
   "outputs": [
    {
     "data": {
      "text/plain": [
       "Theme           0\n",
       "Sub Theme       0\n",
       "Feature Name    0\n",
       "Co-ordinates    0\n",
       "dtype: int64"
      ]
     },
     "execution_count": 108,
     "metadata": {},
     "output_type": "execute_result"
    }
   ],
   "source": [
    "landmarks.isnull().sum()"
   ]
  },
  {
   "cell_type": "code",
   "execution_count": 109,
   "metadata": {
    "ExecuteTime": {
     "end_time": "2020-05-20T09:39:12.647007Z",
     "start_time": "2020-05-20T09:39:12.619954Z"
    },
    "hidden": true
   },
   "outputs": [],
   "source": [
    "#split co-ordinates into latitude and longitude columns like building data is in\n",
    "split_data = landmarks['Co-ordinates'].str.strip(')').str.strip('(').str.split(', ')\n",
    "landmarks['latitude'] = split_data.apply(lambda x: x[0])\n",
    "landmarks['longitude'] = split_data.apply(lambda x: x[1])"
   ]
  },
  {
   "cell_type": "code",
   "execution_count": 110,
   "metadata": {
    "ExecuteTime": {
     "end_time": "2020-05-20T09:39:13.102312Z",
     "start_time": "2020-05-20T09:39:13.091246Z"
    },
    "hidden": true
   },
   "outputs": [],
   "source": [
    "landmarks.drop('Co-ordinates', axis = 1, inplace = True)"
   ]
  },
  {
   "cell_type": "code",
   "execution_count": 111,
   "metadata": {
    "ExecuteTime": {
     "end_time": "2020-05-20T09:39:14.340806Z",
     "start_time": "2020-05-20T09:39:14.318284Z"
    },
    "hidden": true
   },
   "outputs": [
    {
     "data": {
      "text/html": [
       "<div>\n",
       "<style scoped>\n",
       "    .dataframe tbody tr th:only-of-type {\n",
       "        vertical-align: middle;\n",
       "    }\n",
       "\n",
       "    .dataframe tbody tr th {\n",
       "        vertical-align: top;\n",
       "    }\n",
       "\n",
       "    .dataframe thead th {\n",
       "        text-align: right;\n",
       "    }\n",
       "</style>\n",
       "<table border=\"1\" class=\"dataframe\">\n",
       "  <thead>\n",
       "    <tr style=\"text-align: right;\">\n",
       "      <th></th>\n",
       "      <th>Theme</th>\n",
       "      <th>Sub Theme</th>\n",
       "      <th>Feature Name</th>\n",
       "      <th>latitude</th>\n",
       "      <th>longitude</th>\n",
       "    </tr>\n",
       "  </thead>\n",
       "  <tbody>\n",
       "    <tr>\n",
       "      <td>0</td>\n",
       "      <td>Transport</td>\n",
       "      <td>Railway Station</td>\n",
       "      <td>Flemington Bridge Railway Station</td>\n",
       "      <td>-37.7881645889621</td>\n",
       "      <td>144.939277838304</td>\n",
       "    </tr>\n",
       "    <tr>\n",
       "      <td>1</td>\n",
       "      <td>Mixed Use</td>\n",
       "      <td>Retail/Office/Carpark</td>\n",
       "      <td>Council House 2 (CH2)</td>\n",
       "      <td>-37.8142591432011</td>\n",
       "      <td>144.966638432727</td>\n",
       "    </tr>\n",
       "    <tr>\n",
       "      <td>2</td>\n",
       "      <td>Place Of Assembly</td>\n",
       "      <td>Library</td>\n",
       "      <td>The Melbourne Athenaeum Library</td>\n",
       "      <td>-37.8148855756416</td>\n",
       "      <td>144.967291289941</td>\n",
       "    </tr>\n",
       "    <tr>\n",
       "      <td>3</td>\n",
       "      <td>Leisure/Recreation</td>\n",
       "      <td>Informal Outdoor Facility (Park/Garden/Reserve)</td>\n",
       "      <td>Carlton Gardens South</td>\n",
       "      <td>-37.8060684577258</td>\n",
       "      <td>144.971266479841</td>\n",
       "    </tr>\n",
       "    <tr>\n",
       "      <td>4</td>\n",
       "      <td>Place of Worship</td>\n",
       "      <td>Church</td>\n",
       "      <td>St Francis Church</td>\n",
       "      <td>-37.8118847831837</td>\n",
       "      <td>144.962422614541</td>\n",
       "    </tr>\n",
       "  </tbody>\n",
       "</table>\n",
       "</div>"
      ],
      "text/plain": [
       "                Theme                                        Sub Theme  \\\n",
       "0           Transport                                  Railway Station   \n",
       "1           Mixed Use                            Retail/Office/Carpark   \n",
       "2   Place Of Assembly                                          Library   \n",
       "3  Leisure/Recreation  Informal Outdoor Facility (Park/Garden/Reserve)   \n",
       "4    Place of Worship                                           Church   \n",
       "\n",
       "                        Feature Name           latitude         longitude  \n",
       "0  Flemington Bridge Railway Station  -37.7881645889621  144.939277838304  \n",
       "1              Council House 2 (CH2)  -37.8142591432011  144.966638432727  \n",
       "2    The Melbourne Athenaeum Library  -37.8148855756416  144.967291289941  \n",
       "3              Carlton Gardens South  -37.8060684577258  144.971266479841  \n",
       "4                  St Francis Church  -37.8118847831837  144.962422614541  "
      ]
     },
     "execution_count": 111,
     "metadata": {},
     "output_type": "execute_result"
    }
   ],
   "source": [
    "landmarks.head()"
   ]
  },
  {
   "cell_type": "code",
   "execution_count": 113,
   "metadata": {
    "ExecuteTime": {
     "end_time": "2020-05-20T09:40:49.880833Z",
     "start_time": "2020-05-20T09:40:49.870543Z"
    },
    "hidden": true
   },
   "outputs": [],
   "source": [
    "#rename columns\n",
    "landmarks.rename({'Theme': 'theme', 'Sub Theme': 'sub_theme', 'Feature Name': 'feature_name'}, axis =1, inplace = True)"
   ]
  },
  {
   "cell_type": "code",
   "execution_count": 114,
   "metadata": {
    "ExecuteTime": {
     "end_time": "2020-05-20T09:40:51.802436Z",
     "start_time": "2020-05-20T09:40:51.773986Z"
    },
    "hidden": true
   },
   "outputs": [
    {
     "data": {
      "text/plain": [
       "theme                                 sub_theme                                      \n",
       "Community Use                         Cemetery                                            1\n",
       "                                      Fire Station                                        1\n",
       "                                      Government Building                                 1\n",
       "                                      Police Station                                      3\n",
       "                                      Public Buildings                                   13\n",
       "                                      Visitor Centre                                      2\n",
       "Education Centre                      Further Education                                   1\n",
       "                                      Primary Schools                                     4\n",
       "                                      School - Primary and Secondary Education            2\n",
       "                                      Secondary Schools                                   2\n",
       "                                      Tertiary (University)                               4\n",
       "Health Services                       Medical Services                                    1\n",
       "                                      Private Hospital                                    3\n",
       "                                      Public Hospital                                     7\n",
       "Industrial                            Industrial (Manufacturing)                          1\n",
       "Leisure/Recreation                    Gymnasium/Health Club                               1\n",
       "                                      Indoor Recreation Facility                          3\n",
       "                                      Informal Outdoor Facility (Park/Garden/Reserve)    37\n",
       "                                      Major Sports & Recreation Facility                 14\n",
       "                                      Observation Tower/Wheel                             2\n",
       "                                      Outdoor Recreation Facility (Zoo, Golf Course)      4\n",
       "                                      Private Sports Club/Facility                        2\n",
       "Mixed Use                             Retail/Office                                       3\n",
       "                                      Retail/Office/Carpark                               5\n",
       "                                      Retail/Office/Residential/Carpark                   2\n",
       "                                      Retail/Residential                                  1\n",
       "Office                                Office                                             11\n",
       "Place Of Assembly                     Art Gallery/Museum                                 19\n",
       "                                      Cinema                                              1\n",
       "                                      Function/Conference/Exhibition Centre               4\n",
       "                                      Library                                             1\n",
       "                                      Theatre Live                                       15\n",
       "Place of Worship                      Church                                             30\n",
       "                                      Synagogue                                           1\n",
       "Purpose Built                         Aquarium                                            1\n",
       "                                      Casino                                              1\n",
       "                                      Film & RV Studio                                    2\n",
       "Residential Accommodation             Dwelling (House)                                    2\n",
       "Retail                                Department Store                                    2\n",
       "                                      Retail                                              1\n",
       "Specialist Residential Accommodation  Hostel                                              1\n",
       "Transport                             Bridge                                              1\n",
       "                                      Marina                                              1\n",
       "                                      Railway Station                                    23\n",
       "                                      Transport Terminal                                  1\n",
       "Vacant Land                           Current Construction Site                           1\n",
       "                                      Current Construction Site - Commercial              1\n",
       "                                      Vacant Land - Undeveloped Site                      1\n",
       "Warehouse/Store                       Store Yard                                          1\n",
       "Name: sub_theme, dtype: int64"
      ]
     },
     "execution_count": 114,
     "metadata": {},
     "output_type": "execute_result"
    }
   ],
   "source": [
    "landmarks.groupby(['theme', 'sub_theme'])['sub_theme'].count()"
   ]
  },
  {
   "cell_type": "code",
   "execution_count": 115,
   "metadata": {
    "ExecuteTime": {
     "end_time": "2020-05-20T09:41:34.788607Z",
     "start_time": "2020-05-20T09:41:34.772773Z"
    },
    "hidden": true
   },
   "outputs": [],
   "source": [
    "landmarks.to_csv('./cleaned datasets/landmarks_clean.csv', header = landmarks.columns, index=False)"
   ]
  },
  {
   "cell_type": "markdown",
   "metadata": {
    "heading_collapsed": true,
    "hidden": true
   },
   "source": [
    "## Dataset with Bike Share Locations and capacity\n",
    "### Even though this program ended in 2019, the docks were in use for the majority of years that this analysis will use\n",
    "\"This dataset show the historical Melbourne Bike Share docks. This program came to an end in Novemer 2019.\n",
    "\n",
    "Contains the bike share dock locations that were deployed across Melbourne as part of the Melbourne Bike Share Program.\n",
    "\n",
    "Melbourne Bike Share is a joint RACV/Victorian Government bicycle hire scheme. It allows commuters to hire a bike from a dock location and return it to another dock location in the city. This dataset contains the bike share dock locations and capacity across the city.\""
   ]
  },
  {
   "cell_type": "code",
   "execution_count": 116,
   "metadata": {
    "ExecuteTime": {
     "end_time": "2020-05-20T09:45:41.185902Z",
     "start_time": "2020-05-20T09:45:41.155449Z"
    },
    "hidden": true
   },
   "outputs": [],
   "source": [
    "bikes = pd.read_csv('./Original CSVs/Bike_Share_Dock_Locations.csv')"
   ]
  },
  {
   "cell_type": "code",
   "execution_count": 117,
   "metadata": {
    "ExecuteTime": {
     "end_time": "2020-05-20T09:45:41.415949Z",
     "start_time": "2020-05-20T09:45:41.370624Z"
    },
    "hidden": true
   },
   "outputs": [
    {
     "data": {
      "text/html": [
       "<div>\n",
       "<style scoped>\n",
       "    .dataframe tbody tr th:only-of-type {\n",
       "        vertical-align: middle;\n",
       "    }\n",
       "\n",
       "    .dataframe tbody tr th {\n",
       "        vertical-align: top;\n",
       "    }\n",
       "\n",
       "    .dataframe thead th {\n",
       "        text-align: right;\n",
       "    }\n",
       "</style>\n",
       "<table border=\"1\" class=\"dataframe\">\n",
       "  <thead>\n",
       "    <tr style=\"text-align: right;\">\n",
       "      <th></th>\n",
       "      <th>station_id</th>\n",
       "      <th>name</th>\n",
       "      <th>rental_method</th>\n",
       "      <th>capacity</th>\n",
       "      <th>lat</th>\n",
       "      <th>lon</th>\n",
       "      <th>location</th>\n",
       "    </tr>\n",
       "  </thead>\n",
       "  <tbody>\n",
       "    <tr>\n",
       "      <td>0</td>\n",
       "      <td>2</td>\n",
       "      <td>Harbour Town - Docklands Dve - Docklands</td>\n",
       "      <td>CREDITCARD,KEY</td>\n",
       "      <td>23</td>\n",
       "      <td>-37.814022</td>\n",
       "      <td>144.939521</td>\n",
       "      <td>(-37.814022, 144.939521)</td>\n",
       "    </tr>\n",
       "    <tr>\n",
       "      <td>1</td>\n",
       "      <td>6</td>\n",
       "      <td>State Library - Swanston St / Little Lonsdale ...</td>\n",
       "      <td>CREDITCARD,KEY</td>\n",
       "      <td>11</td>\n",
       "      <td>-37.810702</td>\n",
       "      <td>144.964417</td>\n",
       "      <td>(-37.810702, 144.964417)</td>\n",
       "    </tr>\n",
       "    <tr>\n",
       "      <td>2</td>\n",
       "      <td>7</td>\n",
       "      <td>Bourke Street Mall - 205 Bourke St - City</td>\n",
       "      <td>CREDITCARD,KEY</td>\n",
       "      <td>11</td>\n",
       "      <td>-37.813088</td>\n",
       "      <td>144.967437</td>\n",
       "      <td>(-37.813088, 144.967437)</td>\n",
       "    </tr>\n",
       "    <tr>\n",
       "      <td>3</td>\n",
       "      <td>8</td>\n",
       "      <td>Melbourne Uni - Tin Alley - Carlton</td>\n",
       "      <td>CREDITCARD,KEY</td>\n",
       "      <td>19</td>\n",
       "      <td>-37.796250</td>\n",
       "      <td>144.960858</td>\n",
       "      <td>(-37.79625, 144.960858)</td>\n",
       "    </tr>\n",
       "    <tr>\n",
       "      <td>4</td>\n",
       "      <td>9</td>\n",
       "      <td>RMIT - Swanston St / Franklin St - City</td>\n",
       "      <td>CREDITCARD,KEY</td>\n",
       "      <td>7</td>\n",
       "      <td>-37.807699</td>\n",
       "      <td>144.963095</td>\n",
       "      <td>(-37.807699, 144.963095)</td>\n",
       "    </tr>\n",
       "  </tbody>\n",
       "</table>\n",
       "</div>"
      ],
      "text/plain": [
       "   station_id                                               name  \\\n",
       "0           2           Harbour Town - Docklands Dve - Docklands   \n",
       "1           6  State Library - Swanston St / Little Lonsdale ...   \n",
       "2           7          Bourke Street Mall - 205 Bourke St - City   \n",
       "3           8                Melbourne Uni - Tin Alley - Carlton   \n",
       "4           9            RMIT - Swanston St / Franklin St - City   \n",
       "\n",
       "    rental_method  capacity        lat         lon                  location  \n",
       "0  CREDITCARD,KEY        23 -37.814022  144.939521  (-37.814022, 144.939521)  \n",
       "1  CREDITCARD,KEY        11 -37.810702  144.964417  (-37.810702, 144.964417)  \n",
       "2  CREDITCARD,KEY        11 -37.813088  144.967437  (-37.813088, 144.967437)  \n",
       "3  CREDITCARD,KEY        19 -37.796250  144.960858   (-37.79625, 144.960858)  \n",
       "4  CREDITCARD,KEY         7 -37.807699  144.963095  (-37.807699, 144.963095)  "
      ]
     },
     "execution_count": 117,
     "metadata": {},
     "output_type": "execute_result"
    }
   ],
   "source": [
    "bikes.head()"
   ]
  },
  {
   "cell_type": "code",
   "execution_count": 118,
   "metadata": {
    "ExecuteTime": {
     "end_time": "2020-05-20T09:45:41.609798Z",
     "start_time": "2020-05-20T09:45:41.595211Z"
    },
    "hidden": true
   },
   "outputs": [],
   "source": [
    "bikes.drop(['rental_method', 'location', 'name'], axis =1, inplace= True)"
   ]
  },
  {
   "cell_type": "code",
   "execution_count": 119,
   "metadata": {
    "ExecuteTime": {
     "end_time": "2020-05-20T09:45:41.989362Z",
     "start_time": "2020-05-20T09:45:41.970518Z"
    },
    "hidden": true
   },
   "outputs": [
    {
     "data": {
      "text/plain": [
       "station_id    0\n",
       "capacity      0\n",
       "lat           0\n",
       "lon           0\n",
       "dtype: int64"
      ]
     },
     "execution_count": 119,
     "metadata": {},
     "output_type": "execute_result"
    }
   ],
   "source": [
    "bikes.isnull().sum()"
   ]
  },
  {
   "cell_type": "code",
   "execution_count": 121,
   "metadata": {
    "ExecuteTime": {
     "end_time": "2020-05-20T09:46:39.551555Z",
     "start_time": "2020-05-20T09:46:39.526913Z"
    },
    "hidden": true
   },
   "outputs": [],
   "source": [
    "bikes.rename({'lat': 'latitude', 'lon': 'longitude'}, axis =1, inplace = True)"
   ]
  },
  {
   "cell_type": "code",
   "execution_count": 122,
   "metadata": {
    "ExecuteTime": {
     "end_time": "2020-05-20T09:46:39.929050Z",
     "start_time": "2020-05-20T09:46:39.904247Z"
    },
    "hidden": true
   },
   "outputs": [
    {
     "data": {
      "text/html": [
       "<div>\n",
       "<style scoped>\n",
       "    .dataframe tbody tr th:only-of-type {\n",
       "        vertical-align: middle;\n",
       "    }\n",
       "\n",
       "    .dataframe tbody tr th {\n",
       "        vertical-align: top;\n",
       "    }\n",
       "\n",
       "    .dataframe thead th {\n",
       "        text-align: right;\n",
       "    }\n",
       "</style>\n",
       "<table border=\"1\" class=\"dataframe\">\n",
       "  <thead>\n",
       "    <tr style=\"text-align: right;\">\n",
       "      <th></th>\n",
       "      <th>station_id</th>\n",
       "      <th>capacity</th>\n",
       "      <th>latitude</th>\n",
       "      <th>longitude</th>\n",
       "    </tr>\n",
       "  </thead>\n",
       "  <tbody>\n",
       "    <tr>\n",
       "      <td>0</td>\n",
       "      <td>2</td>\n",
       "      <td>23</td>\n",
       "      <td>-37.814022</td>\n",
       "      <td>144.939521</td>\n",
       "    </tr>\n",
       "    <tr>\n",
       "      <td>1</td>\n",
       "      <td>6</td>\n",
       "      <td>11</td>\n",
       "      <td>-37.810702</td>\n",
       "      <td>144.964417</td>\n",
       "    </tr>\n",
       "    <tr>\n",
       "      <td>2</td>\n",
       "      <td>7</td>\n",
       "      <td>11</td>\n",
       "      <td>-37.813088</td>\n",
       "      <td>144.967437</td>\n",
       "    </tr>\n",
       "    <tr>\n",
       "      <td>3</td>\n",
       "      <td>8</td>\n",
       "      <td>19</td>\n",
       "      <td>-37.796250</td>\n",
       "      <td>144.960858</td>\n",
       "    </tr>\n",
       "    <tr>\n",
       "      <td>4</td>\n",
       "      <td>9</td>\n",
       "      <td>7</td>\n",
       "      <td>-37.807699</td>\n",
       "      <td>144.963095</td>\n",
       "    </tr>\n",
       "  </tbody>\n",
       "</table>\n",
       "</div>"
      ],
      "text/plain": [
       "   station_id  capacity   latitude   longitude\n",
       "0           2        23 -37.814022  144.939521\n",
       "1           6        11 -37.810702  144.964417\n",
       "2           7        11 -37.813088  144.967437\n",
       "3           8        19 -37.796250  144.960858\n",
       "4           9         7 -37.807699  144.963095"
      ]
     },
     "execution_count": 122,
     "metadata": {},
     "output_type": "execute_result"
    }
   ],
   "source": [
    "bikes.head()"
   ]
  },
  {
   "cell_type": "code",
   "execution_count": 123,
   "metadata": {
    "ExecuteTime": {
     "end_time": "2020-05-20T09:46:56.521290Z",
     "start_time": "2020-05-20T09:46:56.507011Z"
    },
    "hidden": true
   },
   "outputs": [],
   "source": [
    "bikes.to_csv('./cleaned datasets/bikes_clean.csv', header = bikes.columns, index=False)"
   ]
  },
  {
   "cell_type": "markdown",
   "metadata": {
    "heading_collapsed": true,
    "hidden": true
   },
   "source": [
    "## City Lighting\n",
    "\"This dataset contains information such as location, lighting type and wattage of feature lighting across City of Melbourne.\n",
    "\n",
    "Feature lights are usually found around high profile areas of the city.\""
   ]
  },
  {
   "cell_type": "code",
   "execution_count": 124,
   "metadata": {
    "ExecuteTime": {
     "end_time": "2020-05-20T09:47:03.550685Z",
     "start_time": "2020-05-20T09:47:03.456493Z"
    },
    "hidden": true
   },
   "outputs": [],
   "source": [
    "lights = pd.read_csv('./Original CSVs/Feature_Lighting__including_light_type__wattage_and_location_.csv')"
   ]
  },
  {
   "cell_type": "code",
   "execution_count": 125,
   "metadata": {
    "ExecuteTime": {
     "end_time": "2020-05-20T09:47:03.867927Z",
     "start_time": "2020-05-20T09:47:03.832098Z"
    },
    "hidden": true
   },
   "outputs": [
    {
     "data": {
      "text/html": [
       "<div>\n",
       "<style scoped>\n",
       "    .dataframe tbody tr th:only-of-type {\n",
       "        vertical-align: middle;\n",
       "    }\n",
       "\n",
       "    .dataframe tbody tr th {\n",
       "        vertical-align: top;\n",
       "    }\n",
       "\n",
       "    .dataframe thead th {\n",
       "        text-align: right;\n",
       "    }\n",
       "</style>\n",
       "<table border=\"1\" class=\"dataframe\">\n",
       "  <thead>\n",
       "    <tr style=\"text-align: right;\">\n",
       "      <th></th>\n",
       "      <th>asset_number</th>\n",
       "      <th>asset_description</th>\n",
       "      <th>lamp_type_lupvalue</th>\n",
       "      <th>lamp_rating_w</th>\n",
       "      <th>mounting_type_lupvalue</th>\n",
       "      <th>lat</th>\n",
       "      <th>lon</th>\n",
       "      <th>location</th>\n",
       "    </tr>\n",
       "  </thead>\n",
       "  <tbody>\n",
       "    <tr>\n",
       "      <td>0</td>\n",
       "      <td>1542034</td>\n",
       "      <td>Feature Lighting - Shrine of Remembrance</td>\n",
       "      <td>13.0</td>\n",
       "      <td>70.0</td>\n",
       "      <td>Pole: Multiple Fixed</td>\n",
       "      <td>-37.832430</td>\n",
       "      <td>144.972851</td>\n",
       "      <td>(-37.83243026700112, 144.97285142540412)</td>\n",
       "    </tr>\n",
       "    <tr>\n",
       "      <td>1</td>\n",
       "      <td>1348116</td>\n",
       "      <td>Feature Lighting - Docklands</td>\n",
       "      <td>5.0</td>\n",
       "      <td>70.0</td>\n",
       "      <td>Inground</td>\n",
       "      <td>-37.819371</td>\n",
       "      <td>144.952721</td>\n",
       "      <td>(-37.81937093721541, 144.9527211538597)</td>\n",
       "    </tr>\n",
       "    <tr>\n",
       "      <td>2</td>\n",
       "      <td>1347754</td>\n",
       "      <td>Feature Lighting - Docklands</td>\n",
       "      <td>5.0</td>\n",
       "      <td>70.0</td>\n",
       "      <td>Inground</td>\n",
       "      <td>-37.814309</td>\n",
       "      <td>144.941508</td>\n",
       "      <td>(-37.81430907663625, 144.9415082516051)</td>\n",
       "    </tr>\n",
       "    <tr>\n",
       "      <td>3</td>\n",
       "      <td>1541768</td>\n",
       "      <td>Feature Lighting -</td>\n",
       "      <td>13.0</td>\n",
       "      <td>35.0</td>\n",
       "      <td>Pole: Multiple Fixed</td>\n",
       "      <td>-37.823777</td>\n",
       "      <td>144.947362</td>\n",
       "      <td>(-37.82377720278515, 144.9473620390991)</td>\n",
       "    </tr>\n",
       "    <tr>\n",
       "      <td>4</td>\n",
       "      <td>1542387</td>\n",
       "      <td>Feature Lighting -</td>\n",
       "      <td>13.0</td>\n",
       "      <td>35.0</td>\n",
       "      <td>Pole: Multiple Fixed</td>\n",
       "      <td>-37.823550</td>\n",
       "      <td>144.947258</td>\n",
       "      <td>(-37.823549964115635, 144.94725830188167)</td>\n",
       "    </tr>\n",
       "  </tbody>\n",
       "</table>\n",
       "</div>"
      ],
      "text/plain": [
       "   asset_number                         asset_description  lamp_type_lupvalue  \\\n",
       "0       1542034  Feature Lighting - Shrine of Remembrance                13.0   \n",
       "1       1348116              Feature Lighting - Docklands                 5.0   \n",
       "2       1347754              Feature Lighting - Docklands                 5.0   \n",
       "3       1541768                        Feature Lighting -                13.0   \n",
       "4       1542387                        Feature Lighting -                13.0   \n",
       "\n",
       "   lamp_rating_w mounting_type_lupvalue        lat         lon  \\\n",
       "0           70.0   Pole: Multiple Fixed -37.832430  144.972851   \n",
       "1           70.0               Inground -37.819371  144.952721   \n",
       "2           70.0               Inground -37.814309  144.941508   \n",
       "3           35.0   Pole: Multiple Fixed -37.823777  144.947362   \n",
       "4           35.0   Pole: Multiple Fixed -37.823550  144.947258   \n",
       "\n",
       "                                    location  \n",
       "0   (-37.83243026700112, 144.97285142540412)  \n",
       "1    (-37.81937093721541, 144.9527211538597)  \n",
       "2    (-37.81430907663625, 144.9415082516051)  \n",
       "3    (-37.82377720278515, 144.9473620390991)  \n",
       "4  (-37.823549964115635, 144.94725830188167)  "
      ]
     },
     "execution_count": 125,
     "metadata": {},
     "output_type": "execute_result"
    }
   ],
   "source": [
    "lights.head()"
   ]
  },
  {
   "cell_type": "code",
   "execution_count": 126,
   "metadata": {
    "ExecuteTime": {
     "end_time": "2020-05-20T09:47:04.276046Z",
     "start_time": "2020-05-20T09:47:04.264870Z"
    },
    "hidden": true
   },
   "outputs": [],
   "source": [
    "lights.drop(['asset_number', 'asset_description', 'mounting_type_lupvalue', 'location'], axis = 1, inplace = True)"
   ]
  },
  {
   "cell_type": "code",
   "execution_count": 127,
   "metadata": {
    "ExecuteTime": {
     "end_time": "2020-05-20T09:47:04.896043Z",
     "start_time": "2020-05-20T09:47:04.881063Z"
    },
    "hidden": true
   },
   "outputs": [
    {
     "data": {
      "text/plain": [
       "lamp_type_lupvalue    1093\n",
       "lamp_rating_w         4458\n",
       "lat                      0\n",
       "lon                      0\n",
       "dtype: int64"
      ]
     },
     "execution_count": 127,
     "metadata": {},
     "output_type": "execute_result"
    }
   ],
   "source": [
    "lights.isnull().sum()"
   ]
  },
  {
   "cell_type": "code",
   "execution_count": 128,
   "metadata": {
    "ExecuteTime": {
     "end_time": "2020-05-20T09:47:05.961509Z",
     "start_time": "2020-05-20T09:47:05.938535Z"
    },
    "hidden": true
   },
   "outputs": [
    {
     "data": {
      "text/plain": [
       "(8564, 4)"
      ]
     },
     "execution_count": 128,
     "metadata": {},
     "output_type": "execute_result"
    }
   ],
   "source": [
    "lights.shape"
   ]
  },
  {
   "cell_type": "code",
   "execution_count": 130,
   "metadata": {
    "ExecuteTime": {
     "end_time": "2020-05-20T09:47:27.040004Z",
     "start_time": "2020-05-20T09:47:26.997549Z"
    },
    "hidden": true
   },
   "outputs": [],
   "source": [
    "lights.rename({'lat': 'latitude', 'lon': 'longitude'}, axis =1, inplace = True)"
   ]
  },
  {
   "cell_type": "code",
   "execution_count": 131,
   "metadata": {
    "ExecuteTime": {
     "end_time": "2020-05-20T09:47:27.725080Z",
     "start_time": "2020-05-20T09:47:27.702603Z"
    },
    "hidden": true
   },
   "outputs": [
    {
     "data": {
      "text/html": [
       "<div>\n",
       "<style scoped>\n",
       "    .dataframe tbody tr th:only-of-type {\n",
       "        vertical-align: middle;\n",
       "    }\n",
       "\n",
       "    .dataframe tbody tr th {\n",
       "        vertical-align: top;\n",
       "    }\n",
       "\n",
       "    .dataframe thead th {\n",
       "        text-align: right;\n",
       "    }\n",
       "</style>\n",
       "<table border=\"1\" class=\"dataframe\">\n",
       "  <thead>\n",
       "    <tr style=\"text-align: right;\">\n",
       "      <th></th>\n",
       "      <th>lamp_type_lupvalue</th>\n",
       "      <th>lamp_rating_w</th>\n",
       "      <th>latitude</th>\n",
       "      <th>longitude</th>\n",
       "    </tr>\n",
       "  </thead>\n",
       "  <tbody>\n",
       "    <tr>\n",
       "      <td>0</td>\n",
       "      <td>13.0</td>\n",
       "      <td>70.0</td>\n",
       "      <td>-37.832430</td>\n",
       "      <td>144.972851</td>\n",
       "    </tr>\n",
       "    <tr>\n",
       "      <td>1</td>\n",
       "      <td>5.0</td>\n",
       "      <td>70.0</td>\n",
       "      <td>-37.819371</td>\n",
       "      <td>144.952721</td>\n",
       "    </tr>\n",
       "    <tr>\n",
       "      <td>2</td>\n",
       "      <td>5.0</td>\n",
       "      <td>70.0</td>\n",
       "      <td>-37.814309</td>\n",
       "      <td>144.941508</td>\n",
       "    </tr>\n",
       "    <tr>\n",
       "      <td>3</td>\n",
       "      <td>13.0</td>\n",
       "      <td>35.0</td>\n",
       "      <td>-37.823777</td>\n",
       "      <td>144.947362</td>\n",
       "    </tr>\n",
       "    <tr>\n",
       "      <td>4</td>\n",
       "      <td>13.0</td>\n",
       "      <td>35.0</td>\n",
       "      <td>-37.823550</td>\n",
       "      <td>144.947258</td>\n",
       "    </tr>\n",
       "  </tbody>\n",
       "</table>\n",
       "</div>"
      ],
      "text/plain": [
       "   lamp_type_lupvalue  lamp_rating_w   latitude   longitude\n",
       "0                13.0           70.0 -37.832430  144.972851\n",
       "1                 5.0           70.0 -37.819371  144.952721\n",
       "2                 5.0           70.0 -37.814309  144.941508\n",
       "3                13.0           35.0 -37.823777  144.947362\n",
       "4                13.0           35.0 -37.823550  144.947258"
      ]
     },
     "execution_count": 131,
     "metadata": {},
     "output_type": "execute_result"
    }
   ],
   "source": [
    "lights.head()"
   ]
  },
  {
   "cell_type": "code",
   "execution_count": 132,
   "metadata": {
    "ExecuteTime": {
     "end_time": "2020-05-20T09:48:01.951411Z",
     "start_time": "2020-05-20T09:48:01.787901Z"
    },
    "hidden": true
   },
   "outputs": [],
   "source": [
    "lights.to_csv('./cleaned datasets/lights_clean.csv', header = lights.columns, index=False)"
   ]
  },
  {
   "cell_type": "markdown",
   "metadata": {
    "heading_collapsed": true,
    "hidden": true
   },
   "source": [
    "## Street Infrastructure\n",
    "\"The City of Melbourne owns and maintains various objects and pieces of equipment installed on streets and roads for various purposes. This dataset includes Barbeques, Bicycle Rails, Bin Corrals, Bollards, Drinking Fountains, Floral Crate/Planter Boxs, Hoops, Horse Troughs, Information Pillars, Litter Bins, Picnic Setting, Seats.\""
   ]
  },
  {
   "cell_type": "code",
   "execution_count": 148,
   "metadata": {
    "ExecuteTime": {
     "end_time": "2020-05-20T09:50:50.055125Z",
     "start_time": "2020-05-20T09:50:49.753058Z"
    },
    "hidden": true
   },
   "outputs": [],
   "source": [
    "street_inf = pd.read_csv('./Original CSVs/Street_furniture_including_bollards__bicycle_rails__bins__drinking_fountains__horse_troughs__planter_boxes__seats__barbecues.csv')"
   ]
  },
  {
   "cell_type": "code",
   "execution_count": 149,
   "metadata": {
    "ExecuteTime": {
     "end_time": "2020-05-20T09:50:50.112124Z",
     "start_time": "2020-05-20T09:50:50.063476Z"
    },
    "hidden": true
   },
   "outputs": [
    {
     "data": {
      "text/html": [
       "<div>\n",
       "<style scoped>\n",
       "    .dataframe tbody tr th:only-of-type {\n",
       "        vertical-align: middle;\n",
       "    }\n",
       "\n",
       "    .dataframe tbody tr th {\n",
       "        vertical-align: top;\n",
       "    }\n",
       "\n",
       "    .dataframe thead th {\n",
       "        text-align: right;\n",
       "    }\n",
       "</style>\n",
       "<table border=\"1\" class=\"dataframe\">\n",
       "  <thead>\n",
       "    <tr style=\"text-align: right;\">\n",
       "      <th></th>\n",
       "      <th>GIS_ID</th>\n",
       "      <th>DESCRIPTION</th>\n",
       "      <th>ASSET_CLASS</th>\n",
       "      <th>ASSET_TYPE</th>\n",
       "      <th>MODEL_NO</th>\n",
       "      <th>MODEL_DESCR</th>\n",
       "      <th>DIVISION</th>\n",
       "      <th>COMPANY</th>\n",
       "      <th>LOCATION_DESC</th>\n",
       "      <th>CONDITION_RATING</th>\n",
       "      <th>EVALUATION_DATE</th>\n",
       "      <th>EASTING</th>\n",
       "      <th>NORTHING</th>\n",
       "      <th>UploadDate</th>\n",
       "      <th>CoordinateLocation</th>\n",
       "    </tr>\n",
       "  </thead>\n",
       "  <tbody>\n",
       "    <tr>\n",
       "      <td>0</td>\n",
       "      <td>1074394</td>\n",
       "      <td>Bicycle Rails - Stainless Steel Bicycle Hoop</td>\n",
       "      <td>Outdoor Furniture</td>\n",
       "      <td>Bicycle Rails</td>\n",
       "      <td>200101-004</td>\n",
       "      <td>Bicycle Rails - Stainless Steel Bicycle Hoop</td>\n",
       "      <td>Engineering Services Group</td>\n",
       "      <td>City of Melbourne</td>\n",
       "      <td>Lonsdale Street between Spring Street and Exhi...</td>\n",
       "      <td>4.00</td>\n",
       "      <td>10/04/2019</td>\n",
       "      <td>321290.32</td>\n",
       "      <td>5813330.45</td>\n",
       "      <td>16/04/2020</td>\n",
       "      <td>(-37.80994298252108, 144.9698553381076)</td>\n",
       "    </tr>\n",
       "    <tr>\n",
       "      <td>1</td>\n",
       "      <td>1074441</td>\n",
       "      <td>Bicycle Rails - Stainless Steel Bicycle Hoop</td>\n",
       "      <td>Outdoor Furniture</td>\n",
       "      <td>Bicycle Rails</td>\n",
       "      <td>200101-004</td>\n",
       "      <td>Bicycle Rails - Stainless Steel Bicycle Hoop</td>\n",
       "      <td>Engineering Services Group</td>\n",
       "      <td>City of Melbourne</td>\n",
       "      <td>Barry Street between Leicester Street and Pelh...</td>\n",
       "      <td>3.78</td>\n",
       "      <td>12/04/2019</td>\n",
       "      <td>320372.35</td>\n",
       "      <td>5814159.81</td>\n",
       "      <td>16/04/2020</td>\n",
       "      <td>(-37.802292402724426, 144.959638879039)</td>\n",
       "    </tr>\n",
       "    <tr>\n",
       "      <td>2</td>\n",
       "      <td>1074542</td>\n",
       "      <td>Bicycle Rails - Stainless Steel Bicycle Hoop</td>\n",
       "      <td>Outdoor Furniture</td>\n",
       "      <td>Bicycle Rails</td>\n",
       "      <td>200101-004</td>\n",
       "      <td>Bicycle Rails - Stainless Steel Bicycle Hoop</td>\n",
       "      <td>Engineering Services Group</td>\n",
       "      <td>City of Melbourne</td>\n",
       "      <td>Wills Tower &amp; Wills Court approximately 38m SE...</td>\n",
       "      <td>3.69</td>\n",
       "      <td>12/04/2019</td>\n",
       "      <td>320168.48</td>\n",
       "      <td>5813234.36</td>\n",
       "      <td>16/04/2020</td>\n",
       "      <td>(-37.81058822870216, 144.9570947832389)</td>\n",
       "    </tr>\n",
       "    <tr>\n",
       "      <td>3</td>\n",
       "      <td>1074589</td>\n",
       "      <td>Bicycle Rails - Stainless Steel Bicycle Hoop</td>\n",
       "      <td>Outdoor Furniture</td>\n",
       "      <td>Bicycle Rails</td>\n",
       "      <td>200101-004</td>\n",
       "      <td>Bicycle Rails - Stainless Steel Bicycle Hoop</td>\n",
       "      <td>Engineering Services Group</td>\n",
       "      <td>City of Melbourne</td>\n",
       "      <td>Shiel Street between Dryburgh Street and Canni...</td>\n",
       "      <td>3.64</td>\n",
       "      <td>12/04/2019</td>\n",
       "      <td>318829.95</td>\n",
       "      <td>5814778.95</td>\n",
       "      <td>16/04/2020</td>\n",
       "      <td>(-37.79641089316797, 144.9422841239329)</td>\n",
       "    </tr>\n",
       "    <tr>\n",
       "      <td>4</td>\n",
       "      <td>1074624</td>\n",
       "      <td>Bicycle Rails - Stainless Steel Bicycle Hoop</td>\n",
       "      <td>Outdoor Furniture</td>\n",
       "      <td>Bicycle Rails</td>\n",
       "      <td>200101-004</td>\n",
       "      <td>Bicycle Rails - Stainless Steel Bicycle Hoop</td>\n",
       "      <td>Engineering Services Group</td>\n",
       "      <td>City of Melbourne</td>\n",
       "      <td>Drummond Street between Queensberry Street and...</td>\n",
       "      <td>3.71</td>\n",
       "      <td>12/04/2019</td>\n",
       "      <td>321110.75</td>\n",
       "      <td>5813953.97</td>\n",
       "      <td>16/04/2020</td>\n",
       "      <td>(-37.80429145086489, 144.96797056759425)</td>\n",
       "    </tr>\n",
       "  </tbody>\n",
       "</table>\n",
       "</div>"
      ],
      "text/plain": [
       "    GIS_ID                                   DESCRIPTION        ASSET_CLASS  \\\n",
       "0  1074394  Bicycle Rails - Stainless Steel Bicycle Hoop  Outdoor Furniture   \n",
       "1  1074441  Bicycle Rails - Stainless Steel Bicycle Hoop  Outdoor Furniture   \n",
       "2  1074542  Bicycle Rails - Stainless Steel Bicycle Hoop  Outdoor Furniture   \n",
       "3  1074589  Bicycle Rails - Stainless Steel Bicycle Hoop  Outdoor Furniture   \n",
       "4  1074624  Bicycle Rails - Stainless Steel Bicycle Hoop  Outdoor Furniture   \n",
       "\n",
       "      ASSET_TYPE    MODEL_NO                                   MODEL_DESCR  \\\n",
       "0  Bicycle Rails  200101-004  Bicycle Rails - Stainless Steel Bicycle Hoop   \n",
       "1  Bicycle Rails  200101-004  Bicycle Rails - Stainless Steel Bicycle Hoop   \n",
       "2  Bicycle Rails  200101-004  Bicycle Rails - Stainless Steel Bicycle Hoop   \n",
       "3  Bicycle Rails  200101-004  Bicycle Rails - Stainless Steel Bicycle Hoop   \n",
       "4  Bicycle Rails  200101-004  Bicycle Rails - Stainless Steel Bicycle Hoop   \n",
       "\n",
       "                     DIVISION            COMPANY  \\\n",
       "0  Engineering Services Group  City of Melbourne   \n",
       "1  Engineering Services Group  City of Melbourne   \n",
       "2  Engineering Services Group  City of Melbourne   \n",
       "3  Engineering Services Group  City of Melbourne   \n",
       "4  Engineering Services Group  City of Melbourne   \n",
       "\n",
       "                                       LOCATION_DESC  CONDITION_RATING  \\\n",
       "0  Lonsdale Street between Spring Street and Exhi...              4.00   \n",
       "1  Barry Street between Leicester Street and Pelh...              3.78   \n",
       "2  Wills Tower & Wills Court approximately 38m SE...              3.69   \n",
       "3  Shiel Street between Dryburgh Street and Canni...              3.64   \n",
       "4  Drummond Street between Queensberry Street and...              3.71   \n",
       "\n",
       "  EVALUATION_DATE    EASTING    NORTHING  UploadDate  \\\n",
       "0      10/04/2019  321290.32  5813330.45  16/04/2020   \n",
       "1      12/04/2019  320372.35  5814159.81  16/04/2020   \n",
       "2      12/04/2019  320168.48  5813234.36  16/04/2020   \n",
       "3      12/04/2019  318829.95  5814778.95  16/04/2020   \n",
       "4      12/04/2019  321110.75  5813953.97  16/04/2020   \n",
       "\n",
       "                         CoordinateLocation  \n",
       "0   (-37.80994298252108, 144.9698553381076)  \n",
       "1   (-37.802292402724426, 144.959638879039)  \n",
       "2   (-37.81058822870216, 144.9570947832389)  \n",
       "3   (-37.79641089316797, 144.9422841239329)  \n",
       "4  (-37.80429145086489, 144.96797056759425)  "
      ]
     },
     "execution_count": 149,
     "metadata": {},
     "output_type": "execute_result"
    }
   ],
   "source": [
    "street_inf.head()"
   ]
  },
  {
   "cell_type": "code",
   "execution_count": 150,
   "metadata": {
    "ExecuteTime": {
     "end_time": "2020-05-20T09:50:50.214563Z",
     "start_time": "2020-05-20T09:50:50.202595Z"
    },
    "hidden": true
   },
   "outputs": [],
   "source": [
    "street_inf.drop(['GIS_ID', 'DESCRIPTION', 'MODEL_NO', 'MODEL_DESCR', 'DIVISION', 'COMPANY',\n",
    "                'LOCATION_DESC', 'EVALUATION_DATE', 'EASTING', 'NORTHING', 'UploadDate'], axis = 1, inplace = True)"
   ]
  },
  {
   "cell_type": "code",
   "execution_count": 151,
   "metadata": {
    "ExecuteTime": {
     "end_time": "2020-05-20T09:50:50.515064Z",
     "start_time": "2020-05-20T09:50:50.392089Z"
    },
    "hidden": true
   },
   "outputs": [],
   "source": [
    "#split coordinates into lat/long coordinate columns\n",
    "split_data = street_inf['CoordinateLocation'].str.strip(')').str.strip('(').str.split(', ')\n",
    "street_inf['latitude'] = split_data.apply(lambda x: x[0])\n",
    "street_inf['longitude'] = split_data.apply(lambda x: x[1])"
   ]
  },
  {
   "cell_type": "code",
   "execution_count": 152,
   "metadata": {
    "ExecuteTime": {
     "end_time": "2020-05-20T09:50:50.643312Z",
     "start_time": "2020-05-20T09:50:50.612668Z"
    },
    "hidden": true
   },
   "outputs": [],
   "source": [
    "street_inf.drop('CoordinateLocation', axis = 1, inplace = True)"
   ]
  },
  {
   "cell_type": "code",
   "execution_count": 153,
   "metadata": {
    "ExecuteTime": {
     "end_time": "2020-05-20T09:50:50.828161Z",
     "start_time": "2020-05-20T09:50:50.812646Z"
    },
    "hidden": true
   },
   "outputs": [],
   "source": [
    "#rename columns to be only lowercase\n",
    "street_inf.rename({'ASSET_CLASS': 'asset_class', 'ASSET_TYPE': 'feature', 'CONDITION_RATING': 'condition_rating'},\n",
    "                 axis = 1, inplace = True)"
   ]
  },
  {
   "cell_type": "code",
   "execution_count": 154,
   "metadata": {
    "ExecuteTime": {
     "end_time": "2020-05-20T09:50:51.115995Z",
     "start_time": "2020-05-20T09:50:51.099747Z"
    },
    "hidden": true
   },
   "outputs": [
    {
     "data": {
      "text/html": [
       "<div>\n",
       "<style scoped>\n",
       "    .dataframe tbody tr th:only-of-type {\n",
       "        vertical-align: middle;\n",
       "    }\n",
       "\n",
       "    .dataframe tbody tr th {\n",
       "        vertical-align: top;\n",
       "    }\n",
       "\n",
       "    .dataframe thead th {\n",
       "        text-align: right;\n",
       "    }\n",
       "</style>\n",
       "<table border=\"1\" class=\"dataframe\">\n",
       "  <thead>\n",
       "    <tr style=\"text-align: right;\">\n",
       "      <th></th>\n",
       "      <th>asset_class</th>\n",
       "      <th>feature</th>\n",
       "      <th>condition_rating</th>\n",
       "      <th>latitude</th>\n",
       "      <th>longitude</th>\n",
       "    </tr>\n",
       "  </thead>\n",
       "  <tbody>\n",
       "    <tr>\n",
       "      <td>0</td>\n",
       "      <td>Outdoor Furniture</td>\n",
       "      <td>Bicycle Rails</td>\n",
       "      <td>4.00</td>\n",
       "      <td>-37.80994298252108</td>\n",
       "      <td>144.9698553381076</td>\n",
       "    </tr>\n",
       "    <tr>\n",
       "      <td>1</td>\n",
       "      <td>Outdoor Furniture</td>\n",
       "      <td>Bicycle Rails</td>\n",
       "      <td>3.78</td>\n",
       "      <td>-37.802292402724426</td>\n",
       "      <td>144.959638879039</td>\n",
       "    </tr>\n",
       "    <tr>\n",
       "      <td>2</td>\n",
       "      <td>Outdoor Furniture</td>\n",
       "      <td>Bicycle Rails</td>\n",
       "      <td>3.69</td>\n",
       "      <td>-37.81058822870216</td>\n",
       "      <td>144.9570947832389</td>\n",
       "    </tr>\n",
       "    <tr>\n",
       "      <td>3</td>\n",
       "      <td>Outdoor Furniture</td>\n",
       "      <td>Bicycle Rails</td>\n",
       "      <td>3.64</td>\n",
       "      <td>-37.79641089316797</td>\n",
       "      <td>144.9422841239329</td>\n",
       "    </tr>\n",
       "    <tr>\n",
       "      <td>4</td>\n",
       "      <td>Outdoor Furniture</td>\n",
       "      <td>Bicycle Rails</td>\n",
       "      <td>3.71</td>\n",
       "      <td>-37.80429145086489</td>\n",
       "      <td>144.96797056759425</td>\n",
       "    </tr>\n",
       "  </tbody>\n",
       "</table>\n",
       "</div>"
      ],
      "text/plain": [
       "         asset_class        feature  condition_rating             latitude  \\\n",
       "0  Outdoor Furniture  Bicycle Rails              4.00   -37.80994298252108   \n",
       "1  Outdoor Furniture  Bicycle Rails              3.78  -37.802292402724426   \n",
       "2  Outdoor Furniture  Bicycle Rails              3.69   -37.81058822870216   \n",
       "3  Outdoor Furniture  Bicycle Rails              3.64   -37.79641089316797   \n",
       "4  Outdoor Furniture  Bicycle Rails              3.71   -37.80429145086489   \n",
       "\n",
       "            longitude  \n",
       "0   144.9698553381076  \n",
       "1    144.959638879039  \n",
       "2   144.9570947832389  \n",
       "3   144.9422841239329  \n",
       "4  144.96797056759425  "
      ]
     },
     "execution_count": 154,
     "metadata": {},
     "output_type": "execute_result"
    }
   ],
   "source": [
    "street_inf.head()"
   ]
  },
  {
   "cell_type": "code",
   "execution_count": 155,
   "metadata": {
    "ExecuteTime": {
     "end_time": "2020-05-20T09:50:51.485154Z",
     "start_time": "2020-05-20T09:50:51.464017Z"
    },
    "hidden": true
   },
   "outputs": [
    {
     "data": {
      "text/plain": [
       "asset_class            0\n",
       "feature                0\n",
       "condition_rating    2014\n",
       "latitude               0\n",
       "longitude              0\n",
       "dtype: int64"
      ]
     },
     "execution_count": 155,
     "metadata": {},
     "output_type": "execute_result"
    }
   ],
   "source": [
    "street_inf.isnull().sum()"
   ]
  },
  {
   "cell_type": "code",
   "execution_count": 156,
   "metadata": {
    "ExecuteTime": {
     "end_time": "2020-05-20T09:50:52.105367Z",
     "start_time": "2020-05-20T09:50:52.098783Z"
    },
    "hidden": true
   },
   "outputs": [
    {
     "data": {
      "text/plain": [
       "(22928, 5)"
      ]
     },
     "execution_count": 156,
     "metadata": {},
     "output_type": "execute_result"
    }
   ],
   "source": [
    "street_inf.shape"
   ]
  },
  {
   "cell_type": "code",
   "execution_count": 157,
   "metadata": {
    "ExecuteTime": {
     "end_time": "2020-05-20T09:50:52.325445Z",
     "start_time": "2020-05-20T09:50:52.308216Z"
    },
    "hidden": true
   },
   "outputs": [
    {
     "data": {
      "text/plain": [
       "Outdoor Furniture    22928\n",
       "Name: asset_class, dtype: int64"
      ]
     },
     "execution_count": 157,
     "metadata": {},
     "output_type": "execute_result"
    }
   ],
   "source": [
    "street_inf.asset_class.value_counts()\n",
    "#drop asset class since it is all outdoor furniture"
   ]
  },
  {
   "cell_type": "code",
   "execution_count": 158,
   "metadata": {
    "ExecuteTime": {
     "end_time": "2020-05-20T09:50:52.656119Z",
     "start_time": "2020-05-20T09:50:52.644856Z"
    },
    "hidden": true
   },
   "outputs": [],
   "source": [
    "street_inf.drop('asset_class', axis =1, inplace = True)"
   ]
  },
  {
   "cell_type": "code",
   "execution_count": 160,
   "metadata": {
    "ExecuteTime": {
     "end_time": "2020-05-20T09:50:56.580654Z",
     "start_time": "2020-05-20T09:50:56.561294Z"
    },
    "hidden": true
   },
   "outputs": [
    {
     "data": {
      "text/plain": [
       "Bollard                     9069\n",
       "Bicycle Rails               5838\n",
       "Seat                        3339\n",
       "Litter Bin                  3247\n",
       "Tree Guard                   451\n",
       "Drinking Fountain            301\n",
       "Hoop                         202\n",
       "Floral Crate/Planter Box     189\n",
       "Picnic Setting               167\n",
       "Barbeque                      62\n",
       "Information Pillar            43\n",
       "Horse Trough                  19\n",
       "Bin Corral                     1\n",
       "Name: feature, dtype: int64"
      ]
     },
     "execution_count": 160,
     "metadata": {},
     "output_type": "execute_result"
    }
   ],
   "source": [
    "street_inf.feature.value_counts()"
   ]
  },
  {
   "cell_type": "code",
   "execution_count": 161,
   "metadata": {
    "ExecuteTime": {
     "end_time": "2020-05-20T09:50:56.986527Z",
     "start_time": "2020-05-20T09:50:56.966686Z"
    },
    "hidden": true
   },
   "outputs": [
    {
     "data": {
      "text/html": [
       "<div>\n",
       "<style scoped>\n",
       "    .dataframe tbody tr th:only-of-type {\n",
       "        vertical-align: middle;\n",
       "    }\n",
       "\n",
       "    .dataframe tbody tr th {\n",
       "        vertical-align: top;\n",
       "    }\n",
       "\n",
       "    .dataframe thead th {\n",
       "        text-align: right;\n",
       "    }\n",
       "</style>\n",
       "<table border=\"1\" class=\"dataframe\">\n",
       "  <thead>\n",
       "    <tr style=\"text-align: right;\">\n",
       "      <th></th>\n",
       "      <th>feature</th>\n",
       "      <th>condition_rating</th>\n",
       "      <th>latitude</th>\n",
       "      <th>longitude</th>\n",
       "    </tr>\n",
       "  </thead>\n",
       "  <tbody>\n",
       "    <tr>\n",
       "      <td>0</td>\n",
       "      <td>Bicycle Rails</td>\n",
       "      <td>4.00</td>\n",
       "      <td>-37.80994298252108</td>\n",
       "      <td>144.9698553381076</td>\n",
       "    </tr>\n",
       "    <tr>\n",
       "      <td>1</td>\n",
       "      <td>Bicycle Rails</td>\n",
       "      <td>3.78</td>\n",
       "      <td>-37.802292402724426</td>\n",
       "      <td>144.959638879039</td>\n",
       "    </tr>\n",
       "    <tr>\n",
       "      <td>2</td>\n",
       "      <td>Bicycle Rails</td>\n",
       "      <td>3.69</td>\n",
       "      <td>-37.81058822870216</td>\n",
       "      <td>144.9570947832389</td>\n",
       "    </tr>\n",
       "    <tr>\n",
       "      <td>3</td>\n",
       "      <td>Bicycle Rails</td>\n",
       "      <td>3.64</td>\n",
       "      <td>-37.79641089316797</td>\n",
       "      <td>144.9422841239329</td>\n",
       "    </tr>\n",
       "    <tr>\n",
       "      <td>4</td>\n",
       "      <td>Bicycle Rails</td>\n",
       "      <td>3.71</td>\n",
       "      <td>-37.80429145086489</td>\n",
       "      <td>144.96797056759425</td>\n",
       "    </tr>\n",
       "  </tbody>\n",
       "</table>\n",
       "</div>"
      ],
      "text/plain": [
       "         feature  condition_rating             latitude           longitude\n",
       "0  Bicycle Rails              4.00   -37.80994298252108   144.9698553381076\n",
       "1  Bicycle Rails              3.78  -37.802292402724426    144.959638879039\n",
       "2  Bicycle Rails              3.69   -37.81058822870216   144.9570947832389\n",
       "3  Bicycle Rails              3.64   -37.79641089316797   144.9422841239329\n",
       "4  Bicycle Rails              3.71   -37.80429145086489  144.96797056759425"
      ]
     },
     "execution_count": 161,
     "metadata": {},
     "output_type": "execute_result"
    }
   ],
   "source": [
    "street_inf.head()"
   ]
  },
  {
   "cell_type": "code",
   "execution_count": 162,
   "metadata": {
    "ExecuteTime": {
     "end_time": "2020-05-20T09:51:22.686738Z",
     "start_time": "2020-05-20T09:51:22.532787Z"
    },
    "hidden": true
   },
   "outputs": [],
   "source": [
    "street_inf.to_csv('./cleaned datasets/street_inf_clean.csv', header = street_inf.columns, index=False)"
   ]
  },
  {
   "cell_type": "code",
   "execution_count": null,
   "metadata": {
    "hidden": true
   },
   "outputs": [],
   "source": []
  }
 ],
 "metadata": {
  "hide_input": false,
  "kernelspec": {
   "display_name": "Python 3 (ipykernel)",
   "language": "python",
   "name": "python3"
  },
  "language_info": {
   "codemirror_mode": {
    "name": "ipython",
    "version": 3
   },
   "file_extension": ".py",
   "mimetype": "text/x-python",
   "name": "python",
   "nbconvert_exporter": "python",
   "pygments_lexer": "ipython3",
   "version": "3.7.13"
  }
 },
 "nbformat": 4,
 "nbformat_minor": 2
}
