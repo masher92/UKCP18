{
 "cells": [
  {
   "cell_type": "markdown",
   "metadata": {},
   "source": [
    "# Footfall data downloaded from the City of Melbourne's Open Data Website:\n",
    "\n",
    "## Dataset with building information across the city\n",
    " \"Data collected as part of the City of Melbourne's Census of Land Use and Employment (CLUE). The data covers the period 2002-2018. It shows selected building attributes including location, construction year, refurbished year, number of floors above ground, predominant space use, bicycle/shower facilities and building accessibility. \"\n"
   ]
  },
  {
   "cell_type": "markdown",
   "metadata": {},
   "source": [
    "#### Code initialisation"
   ]
  },
  {
   "cell_type": "code",
   "execution_count": 17,
   "metadata": {
    "ExecuteTime": {
     "end_time": "2020-05-20T09:29:55.509799Z",
     "start_time": "2020-05-20T09:29:52.577608Z"
    }
   },
   "outputs": [],
   "source": [
    "import pandas as pd\n",
    "import numpy as np\n",
    "import seaborn as sns\n",
    "import os\n",
    "from datetime import date, datetime"
   ]
  },
  {
   "cell_type": "markdown",
   "metadata": {
    "heading_collapsed": true
   },
   "source": [
    "# Buildings"
   ]
  },
  {
   "cell_type": "code",
   "execution_count": 675,
   "metadata": {
    "ExecuteTime": {
     "end_time": "2020-05-20T09:31:28.192567Z",
     "start_time": "2020-05-20T09:31:28.125456Z"
    },
    "hidden": true
   },
   "outputs": [],
   "source": [
    "# Read in data\n",
    "buildings = pd.read_csv('Data/Buildings_with_name__age__size__accessibility__and_bicycle_facilities.csv')\n",
    "\n",
    "# Remove columns not needed\n",
    "buildings.drop(['Block ID', 'Property ID', 'Base property ID', 'Building name', 'Construction year', 'Location',\n",
    "                'Street address', 'CLUE small area', 'Refurbished year', 'Has showers', 'Accessibility type description'], axis = 1, inplace = True)\n",
    "# Rename columns\n",
    "buildings.rename({'Census year': 'year', 'Number of floors (above ground)': 'n_floors', \n",
    "                 'Predominant space use': 'building_use', 'Accessibility type': 'access_type',\n",
    "                 'Accessibility rating': 'access_rating', 'Bicycle spaces': 'bike_spaces',\n",
    "                 'x coordinate': 'Longitude', 'y coordinate': 'Latitude'}, axis =1, inplace = True)\n",
    "\n",
    "# Drop 130 buildings that don't have location coordinates\n",
    "buildings.dropna(subset = ['Longitude'], axis = 0, inplace = True)\n",
    "\n",
    "# Keep only buildings from 2010 onwards (as this is when camera data is for)\n",
    "buildings = buildings[buildings['year'] >= 2010]\n",
    "\n",
    "# Shorten variable names for access type, and convert the variable to categorical\n",
    "buildings.access_type = buildings.access_type.replace({'Not determined or not applicable': np.nan, 'Low level of accessibility': 'low', \n",
    "                               'Moderate level of accessibility': 'moderate', 'High level of accessibility': 'high'})\n",
    "cat_type = pd.CategoricalDtype(categories = ['low', 'moderate', 'high'], ordered = True)\n",
    "buildings.access_type = buildings.access_type.astype(cat_type)"
   ]
  },
  {
   "cell_type": "markdown",
   "metadata": {},
   "source": [
    "#### Check for variables with missing values\n",
    "Columns which have a high proportion of NULL should perhaps be dropped"
   ]
  },
  {
   "cell_type": "code",
   "execution_count": 3,
   "metadata": {
    "ExecuteTime": {
     "end_time": "2020-05-20T09:31:28.340778Z",
     "start_time": "2020-05-20T09:31:28.213324Z"
    },
    "hidden": true
   },
   "outputs": [],
   "source": [
    "# round(buildings.isnull().sum()/len(buildings) * 100,1)\n",
    "# buildings['access_type'].value_counts(dropna = False)"
   ]
  },
  {
   "cell_type": "code",
   "execution_count": 636,
   "metadata": {
    "ExecuteTime": {
     "end_time": "2020-05-20T09:31:33.073735Z",
     "start_time": "2020-05-20T09:31:32.058428Z"
    },
    "hidden": true
   },
   "outputs": [],
   "source": [
    "#see correlations\n",
    "# sns.heatmap(buildings.corr(), annot = True);"
   ]
  },
  {
   "cell_type": "markdown",
   "metadata": {},
   "source": [
    "#### Save to file"
   ]
  },
  {
   "cell_type": "code",
   "execution_count": 676,
   "metadata": {},
   "outputs": [],
   "source": [
    "buildings.to_csv('Cleaned_data/buildings_clean.csv', header = buildings.columns, index=False)"
   ]
  },
  {
   "cell_type": "markdown",
   "metadata": {
    "heading_collapsed": true,
    "hidden": true
   },
   "source": [
    "# Landmarks & Places of Interest\n",
    "\"This dataset contains a description and co-ordinates of places of interest within the City of Melbourne.\n",
    "\n",
    "Themes include: Community Use, Education Centre, Health Services, Leisure/Recreation, Mixed Use, Office, Place Of Assembly, Place of Worship, Purpose Built, Retail, Transport, Vacant Land\n",
    "\n",
    "Sub-themes include: Art Gallery/Museum, Church, Function/Conference/Exhibition Centre, Informal Outdoor Facility (Park/Garden/Reserve), Major Sports & Recreation Facility, Office, Public Buildings, Public Hospital, Railway Station, Retail/Office/Carpark, Tertiary (University), Theatre Live\""
   ]
  },
  {
   "cell_type": "code",
   "execution_count": 25,
   "metadata": {
    "ExecuteTime": {
     "end_time": "2020-05-20T09:39:11.396173Z",
     "start_time": "2020-05-20T09:39:11.380519Z"
    },
    "hidden": true
   },
   "outputs": [],
   "source": [
    "# Read in data\n",
    "landmarks = pd.read_csv('Data/Landmarks_and_places_of_interest__including_schools__theatres__health_services__sports_facilities__places_of_worship__galleries_and_museums..csv')\n",
    "\n",
    "# Check whether any of the variables have missing data\n",
    "landmarks.isnull().sum()\n",
    "\n",
    "# Split co-ordinates into latitude and longitude columns like building data is in\n",
    "split_data = landmarks['Co-ordinates'].str.strip(')').str.strip('(').str.split(', ')\n",
    "landmarks['Latitude'] = split_data.apply(lambda x: x[0])\n",
    "landmarks['Longitude'] = split_data.apply(lambda x: x[1])\n",
    "landmarks.drop('Co-ordinates', axis = 1, inplace = True)\n",
    "\n",
    "# Rename columns\n",
    "landmarks.rename({'Theme': 'theme', 'Sub Theme': 'sub_theme', 'Feature Name': 'feature_name'}, axis =1, inplace = True)"
   ]
  },
  {
   "cell_type": "markdown",
   "metadata": {},
   "source": [
    "#### Print a summary of the kind of landmarks present in the dataset by theme and subtheme"
   ]
  },
  {
   "cell_type": "code",
   "execution_count": 644,
   "metadata": {
    "ExecuteTime": {
     "end_time": "2020-05-20T09:40:51.802436Z",
     "start_time": "2020-05-20T09:40:51.773986Z"
    },
    "hidden": true
   },
   "outputs": [],
   "source": [
    "# landmarks.groupby(['theme', 'sub_theme'])['sub_theme'].count()"
   ]
  },
  {
   "cell_type": "markdown",
   "metadata": {},
   "source": [
    "#### Save to file"
   ]
  },
  {
   "cell_type": "code",
   "execution_count": 26,
   "metadata": {},
   "outputs": [],
   "source": [
    "landmarks.to_csv('Cleaned_data/landmarks_clean.csv', header = landmarks.columns, index=False)"
   ]
  },
  {
   "cell_type": "markdown",
   "metadata": {
    "heading_collapsed": true,
    "hidden": true
   },
   "source": [
    "# Bike Share Locations and capacity\n",
    "### Even though this program ended in 2019, the docks were in use for the majority of years that this analysis will use\n",
    "\"This dataset show the historical Melbourne Bike Share docks. This program came to an end in November 2019.\n",
    "\n",
    "Contains the bike share dock locations that were deployed across Melbourne as part of the Melbourne Bike Share Program.\n",
    "\n",
    "Melbourne Bike Share is a joint RACV/Victorian Government bicycle hire scheme. It allows commuters to hire a bike from a dock location and return it to another dock location in the city. This dataset contains the bike share dock locations and capacity across the city.\""
   ]
  },
  {
   "cell_type": "code",
   "execution_count": 18,
   "metadata": {
    "ExecuteTime": {
     "end_time": "2020-05-20T09:45:41.185902Z",
     "start_time": "2020-05-20T09:45:41.155449Z"
    },
    "hidden": true
   },
   "outputs": [],
   "source": [
    "bikes = pd.read_csv('Data/Bike_Share_Dock_Locations.csv')"
   ]
  },
  {
   "cell_type": "markdown",
   "metadata": {},
   "source": [
    "#### Clean bike share data"
   ]
  },
  {
   "cell_type": "code",
   "execution_count": 19,
   "metadata": {
    "ExecuteTime": {
     "end_time": "2020-05-20T09:45:41.609798Z",
     "start_time": "2020-05-20T09:45:41.595211Z"
    },
    "hidden": true
   },
   "outputs": [],
   "source": [
    "# Check for variables with missing values\n",
    "bikes.isnull().sum()\n",
    "# Remove unneeded columns\n",
    "bikes.drop(['rental_method', 'location', 'name'], axis =1, inplace= True)\n",
    "# Rename columns\n",
    "bikes.rename({'lat': 'Latitude', 'lon': 'Longitude'}, axis =1, inplace = True)"
   ]
  },
  {
   "cell_type": "markdown",
   "metadata": {},
   "source": [
    "#### Save to file"
   ]
  },
  {
   "cell_type": "code",
   "execution_count": 20,
   "metadata": {},
   "outputs": [],
   "source": [
    "bikes.to_csv('Cleaned_data/bikes_clean.csv', header = bikes.columns, index=False)"
   ]
  },
  {
   "cell_type": "markdown",
   "metadata": {
    "heading_collapsed": true,
    "hidden": true
   },
   "source": [
    "# City Lighting\n",
    "\"This dataset contains information such as location, lighting type and wattage of feature lighting across City of Melbourne.\n",
    "\n",
    "Feature lights are usually found around high profile areas of the city.\""
   ]
  },
  {
   "cell_type": "code",
   "execution_count": 22,
   "metadata": {
    "ExecuteTime": {
     "end_time": "2020-05-20T09:47:03.550685Z",
     "start_time": "2020-05-20T09:47:03.456493Z"
    },
    "hidden": true
   },
   "outputs": [],
   "source": [
    "lights = pd.read_csv('Data/Feature_Lighting__including_light_type__wattage_and_location_.csv')"
   ]
  },
  {
   "cell_type": "markdown",
   "metadata": {},
   "source": [
    "#### Clean lighting dataset"
   ]
  },
  {
   "cell_type": "code",
   "execution_count": 23,
   "metadata": {
    "ExecuteTime": {
     "end_time": "2020-05-20T09:47:04.896043Z",
     "start_time": "2020-05-20T09:47:04.881063Z"
    },
    "hidden": true
   },
   "outputs": [],
   "source": [
    "# Check for variables with missing values\n",
    "lights.isnull().sum()\n",
    "# Remove unneeded columns\n",
    "lights.drop(['asset_number', 'asset_description', 'mounting_type_lupvalue', 'location'], axis = 1, inplace = True)\n",
    "# Rename columns\n",
    "lights.rename({'lat': 'Latitude', 'lon': 'Longitude'}, axis =1, inplace = True)"
   ]
  },
  {
   "cell_type": "markdown",
   "metadata": {},
   "source": [
    "#### Save to csv"
   ]
  },
  {
   "cell_type": "code",
   "execution_count": 24,
   "metadata": {},
   "outputs": [],
   "source": [
    "lights.to_csv('Cleaned_data/lights_clean.csv', header = lights.columns, index=False)"
   ]
  },
  {
   "cell_type": "markdown",
   "metadata": {
    "heading_collapsed": true,
    "hidden": true
   },
   "source": [
    "## Street Infrastructure\n",
    "\"The City of Melbourne owns and maintains various objects and pieces of equipment installed on streets and roads for various purposes. This dataset includes Barbeques, Bicycle Rails, Bin Corrals, Bollards, Drinking Fountains, Floral Crate/Planter Boxs, Hoops, Horse Troughs, Information Pillars, Litter Bins, Picnic Setting, Seats.\""
   ]
  },
  {
   "cell_type": "code",
   "execution_count": 28,
   "metadata": {
    "ExecuteTime": {
     "end_time": "2020-05-20T09:50:50.055125Z",
     "start_time": "2020-05-20T09:50:49.753058Z"
    },
    "hidden": true
   },
   "outputs": [],
   "source": [
    "street_inf = pd.read_csv('Data/Street_furniture_including_bollards__bicycle_rails__bins__drinking_fountains__horse_troughs__planter_boxes__seats__barbecues.csv')"
   ]
  },
  {
   "cell_type": "markdown",
   "metadata": {
    "ExecuteTime": {
     "end_time": "2020-05-20T09:50:50.112124Z",
     "start_time": "2020-05-20T09:50:50.063476Z"
    },
    "hidden": true
   },
   "source": [
    "#### Clean street infrastructure dataset"
   ]
  },
  {
   "cell_type": "code",
   "execution_count": 29,
   "metadata": {
    "ExecuteTime": {
     "end_time": "2020-05-20T09:50:50.214563Z",
     "start_time": "2020-05-20T09:50:50.202595Z"
    },
    "hidden": true
   },
   "outputs": [],
   "source": [
    "# Check for variables with missing values\n",
    "street_inf.isnull().sum()\n",
    "\n",
    "# Drop unneeded columns\n",
    "street_inf.drop(['GIS_ID', 'DESCRIPTION', 'MODEL_NO', 'MODEL_DESCR', 'DIVISION', 'COMPANY',\n",
    "                'LOCATION_DESC', 'EVALUATION_DATE', 'EASTING', 'NORTHING', 'UploadDate'], axis = 1, inplace = True)\n",
    "\n",
    "# Split coordinates into lat/long coordinate columns\n",
    "split_data = street_inf['CoordinateLocation'].str.strip(')').str.strip('(').str.split(', ')\n",
    "street_inf['Latitude'] = split_data.apply(lambda x: x[0])\n",
    "street_inf['Longitude'] = split_data.apply(lambda x: x[1])\n",
    "street_inf.drop('CoordinateLocation', axis = 1, inplace = True)\n",
    "\n",
    "# Rename columns to be only lowercase\n",
    "street_inf.rename({'ASSET_CLASS': 'asset_class', 'ASSET_TYPE': 'feature', 'CONDITION_RATING': 'condition_rating'},\n",
    "                 axis = 1, inplace = True)\n",
    "\n",
    "# Drop the asset class as the only value present is street furniture\n",
    "street_inf.drop('asset_class', axis =1, inplace = True)"
   ]
  },
  {
   "cell_type": "code",
   "execution_count": 30,
   "metadata": {
    "ExecuteTime": {
     "end_time": "2020-05-20T09:51:22.686738Z",
     "start_time": "2020-05-20T09:51:22.532787Z"
    },
    "hidden": true
   },
   "outputs": [],
   "source": [
    "street_inf.to_csv('Cleaned_data/street_inf_clean.csv', header = street_inf.columns, index=False)"
   ]
  }
 ],
 "metadata": {
  "hide_input": false,
  "kernelspec": {
   "display_name": "Python 3 (ipykernel)",
   "language": "python",
   "name": "python3"
  },
  "language_info": {
   "codemirror_mode": {
    "name": "ipython",
    "version": 3
   },
   "file_extension": ".py",
   "mimetype": "text/x-python",
   "name": "python",
   "nbconvert_exporter": "python",
   "pygments_lexer": "ipython3",
   "version": "3.7.13"
  }
 },
 "nbformat": 4,
 "nbformat_minor": 2
}
