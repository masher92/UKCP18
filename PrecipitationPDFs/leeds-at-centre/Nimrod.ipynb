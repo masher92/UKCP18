{
 "cells": [
  {
   "cell_type": "code",
   "execution_count": 10,
   "id": "f3ccc938",
   "metadata": {},
   "outputs": [],
   "source": [
    "import rasterio\n",
    "from rasterio.plot import show\n",
    "import os\n",
    "import sys\n",
    "from rasterio.mask import mask\n",
    "\n",
    "import warnings\n",
    "warnings.simplefilter(action='ignore', category=FutureWarning)\n",
    "from warnings import simplefilter\n",
    "# ignore all future warnings\n",
    "simplefilter(action='ignore', category=FutureWarning)"
   ]
  },
  {
   "cell_type": "code",
   "execution_count": 4,
   "id": "04c42959",
   "metadata": {},
   "outputs": [],
   "source": [
    "root_fp = \"/nfs/a319/gy17m2a/PhD/\"\n",
    "# os.chdir(root_fp)\n",
    "\n",
    "# Create path to files containing functions\n",
    "sys.path.insert(0, root_fp + 'Scripts/GlobalFunctions')\n",
    "from PDF_plotting_functions import *\n",
    "# sys.path.insert(0, root_fp + 'Scripts/Regridding')\n",
    "# from Regridding_functions import *\n",
    "sys.path.insert(0, root_fp + 'Scripts/GlobalFunctions')\n",
    "from Spatial_geometry_functions import *\n",
    "\n",
    "# Define ensemble member numbers\n",
    "ems = ['01', '04', '05', '06', '07', '08', '09', '10', '11', '12', '13', '15']\n",
    "# Define time period\n",
    "timeperiod = 'Baseline'\n",
    "# define whether to trim to JJA\n",
    "jja_status = 'jja'"
   ]
  },
  {
   "cell_type": "code",
   "execution_count": 5,
   "id": "5b02ffdd",
   "metadata": {},
   "outputs": [
    {
     "data": {
      "text/html": [
       "<div>\n",
       "<style scoped>\n",
       "    .dataframe tbody tr th:only-of-type {\n",
       "        vertical-align: middle;\n",
       "    }\n",
       "\n",
       "    .dataframe tbody tr th {\n",
       "        vertical-align: top;\n",
       "    }\n",
       "\n",
       "    .dataframe thead th {\n",
       "        text-align: right;\n",
       "    }\n",
       "</style>\n",
       "<table border=\"1\" class=\"dataframe\">\n",
       "  <thead>\n",
       "    <tr style=\"text-align: right;\">\n",
       "      <th></th>\n",
       "      <th>geometry</th>\n",
       "    </tr>\n",
       "  </thead>\n",
       "  <tbody>\n",
       "    <tr>\n",
       "      <th>0</th>\n",
       "      <td>POLYGON ((391061.670 470497.324, 472261.556 47...</td>\n",
       "    </tr>\n",
       "  </tbody>\n",
       "</table>\n",
       "</div>"
      ],
      "text/plain": [
       "                                            geometry\n",
       "0  POLYGON ((391061.670 470497.324, 472261.556 47..."
      ]
     },
     "execution_count": 5,
     "metadata": {},
     "output_type": "execute_result"
    }
   ],
   "source": [
    "leeds_at_centre_gdf = create_leeds_at_centre_outline({'init' :'epsg:27700'})\n",
    "leeds_at_centre_gdf"
   ]
  },
  {
   "cell_type": "code",
   "execution_count": 6,
   "id": "c0aed026",
   "metadata": {},
   "outputs": [
    {
     "data": {
      "image/png": "[encoded data removed]",
      "text/plain": [
       "<Figure size 640x480 with 1 Axes>"
      ]
     },
     "metadata": {},
     "output_type": "display_data"
    },
    {
     "data": {
      "text/plain": [
       "<Axes: >"
      ]
     },
     "execution_count": 6,
     "metadata": {},
     "output_type": "execute_result"
    }
   ],
   "source": [
    "fp = r\"../../../datadir/NimRod_Processed/2004/metoffice-c-band-rain-radar_uk_20040406_1km-composite.tiff\"\n",
    "img = rasterio.open(fp)\n",
    "show(img)"
   ]
  },
  {
   "cell_type": "code",
   "execution_count": 14,
   "id": "d273507d",
   "metadata": {},
   "outputs": [
    {
     "name": "stdout",
     "output_type": "stream",
     "text": [
      "1\n",
      "775 640\n",
      "EPSG:27700\n"
     ]
    }
   ],
   "source": [
    "print(img.count)\n",
    "print(img.height, img.width)\n",
    "print(img.crs)"
   ]
  },
  {
   "cell_type": "code",
   "execution_count": null,
   "id": "fc6809d1",
   "metadata": {},
   "outputs": [],
   "source": []
  },
  {
   "cell_type": "code",
   "execution_count": 11,
   "id": "8a243d3f",
   "metadata": {},
   "outputs": [],
   "source": [
    "with rasterio.open(fp) as src:\n",
    "    catchment_gdf=leeds_at_centre_gdf.to_crs(src.crs)\n",
    "    out_image, out_transform=mask(src,leeds_at_centre_gdf.geometry,crop=True)\n",
    "    out_meta=src.meta.copy() # copy the metadata of the source DEM"
   ]
  },
  {
   "cell_type": "code",
   "execution_count": 24,
   "id": "2d809761",
   "metadata": {},
   "outputs": [
    {
     "data": {
      "text/plain": [
       "(73, 83)"
      ]
     },
     "execution_count": 24,
     "metadata": {},
     "output_type": "execute_result"
    }
   ],
   "source": [
    "out_image[0].shape"
   ]
  },
  {
   "cell_type": "code",
   "execution_count": null,
   "id": "17a8c3e3",
   "metadata": {},
   "outputs": [],
   "source": [
    "def save_clipped_to_gdf(input_fp catchment_gdf, output_fp):\n",
    "    with rasterio.open(input_fp) as src:\n",
    "        catchment_gdf=catchment_gdf.to_crs(src.crs)\n",
    "        # print(Vector.crs)\n",
    "        out_image, out_transform=mask(src,catchment_gdf.geometry,crop=True)\n",
    "        out_meta=src.meta.copy() # copy the metadata of the source DEM\n",
    "\n",
    "    out_meta.update({\"driver\":\"Gtiff\", \"height\":out_image.shape[1], # height starts with shape[1]\n",
    "        \"width\":out_image.shape[2], # width starts with shape[2]\n",
    "        \"transform\":out_transform\n",
    "    })\n",
    "\n",
    "    with rasterio.open(fp,'w',**out_meta) as dst:\n",
    "        dst.write(out_image)"
   ]
  },
  {
   "cell_type": "code",
   "execution_count": null,
   "id": "3e1226f6",
   "metadata": {},
   "outputs": [],
   "source": []
  },
  {
   "cell_type": "code",
   "execution_count": 23,
   "id": "e8d8a4b6",
   "metadata": {},
   "outputs": [
    {
     "data": {
      "text/plain": [
       "(775, 640)"
      ]
     },
     "execution_count": 23,
     "metadata": {},
     "output_type": "execute_result"
    }
   ],
   "source": []
  },
  {
   "cell_type": "code",
   "execution_count": 6,
   "id": "53d1c1f9",
   "metadata": {},
   "outputs": [],
   "source": []
  }
 ],
 "metadata": {
  "kernelspec": {
   "display_name": "Python 3 (ipykernel)",
   "language": "python",
   "name": "python3"
  },
  "language_info": {
   "codemirror_mode": {
    "name": "ipython",
    "version": 3
   },
   "file_extension": ".py",
   "mimetype": "text/x-python",
   "name": "python",
   "nbconvert_exporter": "python",
   "pygments_lexer": "ipython3",
   "version": "3.9.7"
  }
 },
 "nbformat": 4,
 "nbformat_minor": 5
}
