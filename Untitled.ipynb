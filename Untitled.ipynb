{
 "cells": [
  {
   "cell_type": "code",
   "execution_count": 68,
   "id": "07d34ae2",
   "metadata": {},
   "outputs": [],
   "source": [
    "import numpy as np"
   ]
  },
  {
   "cell_type": "markdown",
   "id": "e8c8ddf1",
   "metadata": {},
   "source": [
    "### Training attendance: Sept - Jan"
   ]
  },
  {
   "cell_type": "code",
   "execution_count": 69,
   "id": "92320053",
   "metadata": {},
   "outputs": [],
   "source": [
    "Dec = [13,11,10,11]\n",
    "Nov = [23,29,27,26,20]\n",
    "Oct = [22,34,31,26]\n",
    "Sep = [38,34,34,22]\n",
    "Jan = [12,27,17]"
   ]
  },
  {
   "cell_type": "markdown",
   "id": "018b973c",
   "metadata": {},
   "source": [
    "### Average training attendance: Sept - Jan"
   ]
  },
  {
   "cell_type": "code",
   "execution_count": 70,
   "id": "d72f1c16",
   "metadata": {},
   "outputs": [
    {
     "name": "stdout",
     "output_type": "stream",
     "text": [
      "Average attendance Sep-Jan:  23\n"
     ]
    }
   ],
   "source": [
    "avg_attendances = []\n",
    "for month in [Sep,Oct,Nov, Dec,Jan]: \n",
    "    avg_attendance = np.sum(month)/len(month)\n",
    "    avg_attendances.append(avg_attendance)\n",
    "# Average number people per session\n",
    "avg_attendance = int(np.sum(avg_attendances)/len(avg_attendances))\n",
    "print(\"Average attendance Sep-Jan: \",avg_attendance)"
   ]
  },
  {
   "cell_type": "markdown",
   "id": "4197737a",
   "metadata": {},
   "source": [
    "### Price of pitch\n",
    "* Based on our section paying half  \n",
    "* And allowing a 20% buffer on the price"
   ]
  },
  {
   "cell_type": "code",
   "execution_count": 71,
   "id": "becef4a8",
   "metadata": {},
   "outputs": [
    {
     "name": "stdout",
     "output_type": "stream",
     "text": [
      "Pitch costs £180. 50% of this is £90.0 (or £108.0 adding 20% on to price of pitch)\n",
      "As a section we need to cover: £108\n"
     ]
    }
   ],
   "source": [
    "pitch_price_full = 180\n",
    "pitch_price_full_plus_allowance = pitch_price_full*1.2\n",
    "pitch_price_section = pitch_price_full_plus_allowance /2\n",
    "print(\"Pitch costs £{}. 50% of this is £{} (or £{} adding 20% on to price of pitch)\".format(pitch_price_full,pitch_price_full/2,pitch_price_section))\n",
    "print(\"As a section we need to cover: £\" + str(int(pitch_price_section)))"
   ]
  },
  {
   "cell_type": "markdown",
   "id": "854c5572",
   "metadata": {},
   "source": [
    "### Number signed on players"
   ]
  },
  {
   "cell_type": "code",
   "execution_count": 84,
   "id": "3b134c9d",
   "metadata": {},
   "outputs": [
    {
     "name": "stdout",
     "output_type": "stream",
     "text": [
      "47 club members (21 elevens) and (26 nines)\n",
      "42% of elevens and 96% of nines pay full wage\n",
      "So an average of 69% paying full wage\n"
     ]
    }
   ],
   "source": [
    "signed_on_11s = 21\n",
    "signed_on_9s = 26\n",
    "\n",
    "full_wage_9s = 25\n",
    "full_wage_11s = 9\n",
    "low_wage_9s = 1\n",
    "low_wage_11s = 9\n",
    "no_wage_11s = 3\n",
    "\n",
    "percent_11s = full_wage_11s/signed_on_11s\n",
    "percent_9s = full_wage_9s/signed_on_9s\n",
    "avg_prop = (percent_11s + percent_9s)/2\n",
    "\n",
    "print(str(signed_on_11s+signed_on_9s) + \" club members (\" + str(signed_on_11s) + \" elevens) and (\"+ str(signed_on_9s) + \" nines)\")\n",
    "print(str(int(percent_11s*100))+ \"% of elevens and \" + str(int(percent_9s*100))+ \"% of nines pay full wage\")\n",
    "print(\"So an average of \" + str(int(avg_prop*100)) + \"% paying full wage\")"
   ]
  },
  {
   "cell_type": "markdown",
   "id": "f002a662",
   "metadata": {},
   "source": [
    "### Costs recouped with paying per session"
   ]
  },
  {
   "cell_type": "code",
   "execution_count": 73,
   "id": "eef78efa",
   "metadata": {},
   "outputs": [
    {
     "name": "stdout",
     "output_type": "stream",
     "text": [
      "Roughly £61 received per session\n"
     ]
    }
   ],
   "source": [
    "# Average number people paying full waged of low wage\n",
    "avg_attendance_fw = avg_attendance * (percent_11s + percent_9s)/2\n",
    "avg_attendance_lw = avg_attendance -avg_attendance_fw\n",
    "# Costs recovered per session at £3/£2\n",
    "costs_recouped_per_sesh =int((avg_attendance_fw *3) + (avg_attendance_lw*2))\n",
    "print(\"Roughly £\" + str(costs_recouped_per_sesh)+ \" received per session\")"
   ]
  },
  {
   "cell_type": "markdown",
   "id": "dcc2b916",
   "metadata": {},
   "source": [
    "### Monthly subscription\n",
    "Assumes:\n",
    "* All signed on members are paying for training\n",
    "* Everyone is paying the same full/low wage option they signed up with"
   ]
  },
  {
   "cell_type": "code",
   "execution_count": 74,
   "id": "86ef74c9",
   "metadata": {},
   "outputs": [],
   "source": [
    "# Price per session for low wage and full wage\n",
    "low_wage_price, full_wage_price = 1.7, 2.7\n",
    "# Amount contributed per session by those paying full/low wage \n",
    "full_wage_contribution = (full_wage_9s + full_wage_11s) * full_wage_price\n",
    "low_wage_contribution = (low_wage_9s + low_wage_11s) * low_wage_price\n",
    "# Total contribution from both\n",
    "total_contribution = low_wage_contribution +full_wage_contribution "
   ]
  },
  {
   "cell_type": "code",
   "execution_count": 75,
   "id": "5627c7ea",
   "metadata": {},
   "outputs": [],
   "source": [
    "# Price per month for individuals\n",
    "price_per_month_fw = full_wage_price *4\n",
    "price_per_month_lw = low_wage_price *4"
   ]
  },
  {
   "cell_type": "code",
   "execution_count": 76,
   "id": "c111e5ad",
   "metadata": {},
   "outputs": [
    {
     "name": "stdout",
     "output_type": "stream",
     "text": [
      "With all 47 club members contributing, the price per month is: \n",
      " £10.8 for full wage \n",
      " £6.8 for low wage\n",
      "\n",
      "This is based on prices per session of: \n",
      " £2.7 for full wage \n",
      " £1.7 for low wage\n",
      "\n",
      "And would generate: \n",
      " £108.80000000000001 per session\n",
      "Compared to a current average of:\n",
      " £61 per session\n",
      "\n",
      "50% of the cost of pitch hire (including 20% leeway) is £108\n"
     ]
    }
   ],
   "source": [
    "print(\"With all \" + str(signed_on_11s+signed_on_9s) + \" club members contributing, the price per month is: \\n £\" +  \n",
    "      str(price_per_month_fw) + \" for full wage \\n £\" + str(price_per_month_lw) + \" for low wage\" + \"\\n\")\n",
    "print(\"This is based on prices per session of: \\n £\" + str(full_wage_price)+ \" for full wage \\n £\" + str(low_wage_price) + \" for low wage\" + \"\\n\")\n",
    "print(\"And would generate: \\n £\" + str(low_wage_contribution +full_wage_contribution ) + \" per session\")\n",
    "print(\"Compared to a current average of:\\n £\" + str(costs_recouped_per_sesh)+ \" per session\"+ \"\\n\")\n",
    "print(\"50% of the cost of pitch hire (including 20% leeway) is £\" + str(int(pitch_price_section)))"
   ]
  },
  {
   "cell_type": "markdown",
   "id": "bd94f3e6",
   "metadata": {},
   "source": [
    "### Summer calculations"
   ]
  },
  {
   "cell_type": "code",
   "execution_count": 81,
   "id": "8ef0695f",
   "metadata": {},
   "outputs": [
    {
     "data": {
      "text/plain": [
       "69.50549450549451"
      ]
     },
     "execution_count": 81,
     "metadata": {},
     "output_type": "execute_result"
    }
   ],
   "source": [
    "avg_prop"
   ]
  },
  {
   "cell_type": "code",
   "execution_count": 85,
   "id": "2d681968",
   "metadata": {},
   "outputs": [
    {
     "name": "stdout",
     "output_type": "stream",
     "text": [
      "Profit per week: £53\n",
      "Profit per summer: £1590\n"
     ]
    }
   ],
   "source": [
    "weeks_of_summer = 30 #(7 months roughly)\n",
    "avg_attendance_summer = 20\n",
    "low_wage_price_fixed = 2\n",
    "full_wage_price_fixed =3\n",
    "summer_session_profit =((avg_attendance_summer * avg_prop)*full_wage_price_fixed) + (avg_attendance_summer*(1-avg_prop)*low_wage_price_fixed)\n",
    "print(\"Profit per week: £\" + str(int(summer_session_profit)))\n",
    "print(\"Profit per summer: £\" + str(int(summer_session_profit)*weeks_of_summer))"
   ]
  },
  {
   "cell_type": "code",
   "execution_count": 79,
   "id": "76ddfd6e",
   "metadata": {},
   "outputs": [
    {
     "name": "stdout",
     "output_type": "stream",
     "text": [
      "Average attendance Sep-Jan:  23\n",
      "\n",
      "Pitch costs £180. 50% of this is £90.0 (or £108.0 adding 20% on to price of pitch)\n",
      "As a section we need to cover: £108\n",
      "\n",
      "47 club members (21 elevens) and (26 nines)\n",
      "42% of elevens and 96% of nines pay full wage\n",
      "So an average of 69% paying full wage\n",
      "\n",
      "With a monthly subscription system:\n",
      "With all 47 club members contributing, the price per month is: \n",
      " £10.8 for full wage \n",
      " £6.8 for low wage\n",
      "\n",
      "This is based on prices per session of: \n",
      " £2.7 for full wage \n",
      " £1.7 for low wage\n",
      "\n",
      "And would generate: \n",
      " £108.80000000000001 per session\n",
      "Compared to a current average of:\n",
      " £61 per session\n",
      "\n"
     ]
    }
   ],
   "source": [
    "print(\"Average attendance Sep-Jan: \",avg_attendance) \n",
    "\n",
    "print(\"\\nPitch costs £{}. 50% of this is £{} (or £{} adding 20% on to price of pitch)\".format(pitch_price_full,pitch_price_full/2,pitch_price_section))\n",
    "print(\"As a section we need to cover: £\" + str(int(pitch_price_section)))\n",
    "\n",
    "print(\"\\n\" + str(signed_on_11s+signed_on_9s) + \" club members (\" + str(signed_on_11s) + \" elevens) and (\"+ str(signed_on_9s) + \" nines)\")\n",
    "print(str(int(percent_11s*100))+ \"% of elevens and \" + str(int(percent_9s*100))+ \"% of nines pay full wage\")\n",
    "print(\"So an average of \" + str(int(avg_prop)) + \"% paying full wage\")\n",
    "\n",
    "print(\"\\nWith a monthly subscription system:\")\n",
    "print(\"With all \" + str(signed_on_11s+signed_on_9s) + \" club members contributing, the price per month is: \\n £\" +  \n",
    "      str(price_per_month_fw) + \" for full wage \\n £\" + str(price_per_month_lw) + \" for low wage\" + \"\\n\")\n",
    "print(\"This is based on prices per session of: \\n £\" + str(full_wage_price)+ \" for full wage \\n £\" + str(low_wage_price) + \" for low wage\" + \"\\n\")\n",
    "print(\"And would generate: \\n £\" + str(low_wage_contribution +full_wage_contribution ) + \" per session\")\n",
    "print(\"Compared to a current average of:\\n £\" + str(costs_recouped_per_sesh)+ \" per session\"+ \"\\n\")"
   ]
  }
 ],
 "metadata": {
  "kernelspec": {
   "display_name": "Python 3 (ipykernel)",
   "language": "python",
   "name": "python3"
  },
  "language_info": {
   "codemirror_mode": {
    "name": "ipython",
    "version": 3
   },
   "file_extension": ".py",
   "mimetype": "text/x-python",
   "name": "python",
   "nbconvert_exporter": "python",
   "pygments_lexer": "ipython3",
   "version": "3.9.7"
  }
 },
 "nbformat": 4,
 "nbformat_minor": 5
}
